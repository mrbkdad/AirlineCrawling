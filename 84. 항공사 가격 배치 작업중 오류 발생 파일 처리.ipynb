{
 "cells": [
  {
   "cell_type": "markdown",
   "metadata": {
    "deletable": true,
    "editable": true
   },
   "source": [
    "## 배치 작업중 오류 작업 처리\n",
    "1. 대상 파일\n",
    "    - 크롤링 파일\n",
    "2. 오류 내용\n",
    "    - 크롤링 도중 내용을 읽어오지 못하여 오류가 발생한 경우 처리\n",
    "    - 크롤링후 스크래핑 배치 작업중 내용이 없는 부분은 크롤링 폴더에 보관됨\n",
    "    - 보관된 파일을 추가 크롤링 작업후 스크래핑을 진행하여야함\n",
    "3. 처리 방향\n",
    "    - 추가 크롤링 진행 - 추가 크롤, 추가 스크래핑 2회 진행\n",
    "    - 2회 진행후 DB 작업 진행\n",
    "    - 메일 발송 처리"
   ]
  },
  {
   "cell_type": "code",
   "execution_count": 1,
   "metadata": {
    "collapsed": true,
    "deletable": true,
    "editable": true
   },
   "outputs": [],
   "source": [
    "from collections import namedtuple\n",
    "from datetime import datetime, timedelta\n",
    "import requests\n",
    "from common.env_variable import *\n",
    "from common.batch_util import *\n",
    "from common.crawl_func import *\n",
    "from common.log_util import *\n",
    "from common.util import save_raw_data\n",
    "## 로그 초기화\n",
    "logger_initialize('error_logger_setting.json')\n",
    "init_env_variable('common/env_variable.json')"
   ]
  },
  {
   "cell_type": "code",
   "execution_count": 3,
   "metadata": {
    "collapsed": false,
    "deletable": true,
    "editable": true,
    "scrolled": true
   },
   "outputs": [
    {
     "name": "stderr",
     "output_type": "stream",
     "text": [
      "2017-07-07 08:49:53,980 root     DEBUG    start recrawling batch job for error files\n",
      "2017-07-07 08:49:53,983 root     DEBUG    error file :: scrap_2017070708_IP_7C_GMP_PUS_20170712.txt\n",
      "2017-07-07 08:49:53,985 root     DEBUG    0 :: IP :: crawling_IP_dom :: False\n",
      "2017-07-07 08:49:53,987 root     DEBUG    Crawling Interpark domastic schedule site\n"
     ]
    },
    {
     "name": "stdout",
     "output_type": "stream",
     "text": [
      "Start Simple crawling :  http://domair.interpark.com/api/booking/airJourney.do\n",
      ">> Parameters\n",
      "tripDivi:0 , depDate:20170712 , chd:0 , inf:0 , dep:GMP , adt:1 , format:json , arr:PUS , airlineCode:7C , \n"
     ]
    },
    {
     "name": "stderr",
     "output_type": "stream",
     "text": [
      "2017-07-07 08:49:54,933 root     DEBUG    error file :: scrap_2017070708_IP_7C_GMP_PUS_20170713.txt\n",
      "2017-07-07 08:49:54,936 root     DEBUG    0 :: IP :: crawling_IP_dom :: False\n",
      "2017-07-07 08:49:54,939 root     DEBUG    Crawling Interpark domastic schedule site\n"
     ]
    },
    {
     "name": "stdout",
     "output_type": "stream",
     "text": [
      "End Simple crawling\n",
      "Start Simple crawling :  http://domair.interpark.com/api/booking/airJourney.do\n",
      ">> Parameters\n",
      "tripDivi:0 , depDate:20170713 , chd:0 , inf:0 , dep:GMP , adt:1 , format:json , arr:PUS , airlineCode:7C , \n"
     ]
    },
    {
     "name": "stderr",
     "output_type": "stream",
     "text": [
      "2017-07-07 08:49:55,954 root     DEBUG    error file :: scrap_2017070708_IP_7C_GMP_PUS_20170719.txt\n",
      "2017-07-07 08:49:55,957 root     DEBUG    0 :: IP :: crawling_IP_dom :: False\n",
      "2017-07-07 08:49:55,963 root     DEBUG    Crawling Interpark domastic schedule site\n"
     ]
    },
    {
     "name": "stdout",
     "output_type": "stream",
     "text": [
      "End Simple crawling\n",
      "Start Simple crawling :  http://domair.interpark.com/api/booking/airJourney.do\n",
      ">> Parameters\n",
      "tripDivi:0 , depDate:20170719 , chd:0 , inf:0 , dep:GMP , adt:1 , format:json , arr:PUS , airlineCode:7C , \n"
     ]
    },
    {
     "name": "stderr",
     "output_type": "stream",
     "text": [
      "2017-07-07 08:49:56,881 root     DEBUG    error file :: scrap_2017070708_IP_7C_GMP_PUS_20170720.txt\n",
      "2017-07-07 08:49:56,884 root     DEBUG    0 :: IP :: crawling_IP_dom :: False\n",
      "2017-07-07 08:49:56,886 root     DEBUG    Crawling Interpark domastic schedule site\n"
     ]
    },
    {
     "name": "stdout",
     "output_type": "stream",
     "text": [
      "End Simple crawling\n",
      "Start Simple crawling :  http://domair.interpark.com/api/booking/airJourney.do\n",
      ">> Parameters\n",
      "tripDivi:0 , depDate:20170720 , chd:0 , inf:0 , dep:GMP , adt:1 , format:json , arr:PUS , airlineCode:7C , \n"
     ]
    },
    {
     "name": "stderr",
     "output_type": "stream",
     "text": [
      "2017-07-07 08:49:57,832 root     DEBUG    error file :: scrap_2017070708_IP_7C_GMP_PUS_20170726.txt\n",
      "2017-07-07 08:49:57,835 root     DEBUG    0 :: IP :: crawling_IP_dom :: False\n",
      "2017-07-07 08:49:57,839 root     DEBUG    Crawling Interpark domastic schedule site\n"
     ]
    },
    {
     "name": "stdout",
     "output_type": "stream",
     "text": [
      "End Simple crawling\n",
      "Start Simple crawling :  http://domair.interpark.com/api/booking/airJourney.do\n",
      ">> Parameters\n",
      "tripDivi:0 , depDate:20170726 , chd:0 , inf:0 , dep:GMP , adt:1 , format:json , arr:PUS , airlineCode:7C , \n"
     ]
    },
    {
     "name": "stderr",
     "output_type": "stream",
     "text": [
      "2017-07-07 08:49:58,823 root     DEBUG    error file :: scrap_2017070708_IP_7C_GMP_PUS_20170727.txt\n",
      "2017-07-07 08:49:58,828 root     DEBUG    0 :: IP :: crawling_IP_dom :: False\n",
      "2017-07-07 08:49:58,832 root     DEBUG    Crawling Interpark domastic schedule site\n"
     ]
    },
    {
     "name": "stdout",
     "output_type": "stream",
     "text": [
      "End Simple crawling\n",
      "Start Simple crawling :  http://domair.interpark.com/api/booking/airJourney.do\n",
      ">> Parameters\n",
      "tripDivi:0 , depDate:20170727 , chd:0 , inf:0 , dep:GMP , adt:1 , format:json , arr:PUS , airlineCode:7C , \n"
     ]
    },
    {
     "name": "stderr",
     "output_type": "stream",
     "text": [
      "2017-07-07 08:50:02,030 root     DEBUG    error file :: scrap_2017070708_IP_7C_PUS_GMP_20170713.txt\n",
      "2017-07-07 08:50:02,033 root     DEBUG    0 :: IP :: crawling_IP_dom :: False\n",
      "2017-07-07 08:50:02,035 root     DEBUG    Crawling Interpark domastic schedule site\n"
     ]
    },
    {
     "name": "stdout",
     "output_type": "stream",
     "text": [
      "End Simple crawling\n",
      "Start Simple crawling :  http://domair.interpark.com/api/booking/airJourney.do\n",
      ">> Parameters\n",
      "tripDivi:0 , depDate:20170713 , chd:0 , inf:0 , dep:PUS , adt:1 , format:json , arr:GMP , airlineCode:7C , \n"
     ]
    },
    {
     "name": "stderr",
     "output_type": "stream",
     "text": [
      "2017-07-07 08:50:03,202 root     DEBUG    error file :: scrap_2017070708_IP_7C_PUS_GMP_20170720.txt\n",
      "2017-07-07 08:50:03,205 root     DEBUG    0 :: IP :: crawling_IP_dom :: False\n",
      "2017-07-07 08:50:03,208 root     DEBUG    Crawling Interpark domastic schedule site\n"
     ]
    },
    {
     "name": "stdout",
     "output_type": "stream",
     "text": [
      "End Simple crawling\n",
      "Start Simple crawling :  http://domair.interpark.com/api/booking/airJourney.do\n",
      ">> Parameters\n",
      "tripDivi:0 , depDate:20170720 , chd:0 , inf:0 , dep:PUS , adt:1 , format:json , arr:GMP , airlineCode:7C , \n"
     ]
    },
    {
     "name": "stderr",
     "output_type": "stream",
     "text": [
      "2017-07-07 08:50:04,152 root     DEBUG    error file :: scrap_2017070708_IP_7C_PUS_GMP_20170727.txt\n",
      "2017-07-07 08:50:04,156 root     DEBUG    0 :: IP :: crawling_IP_dom :: False\n",
      "2017-07-07 08:50:04,159 root     DEBUG    Crawling Interpark domastic schedule site\n"
     ]
    },
    {
     "name": "stdout",
     "output_type": "stream",
     "text": [
      "End Simple crawling\n",
      "Start Simple crawling :  http://domair.interpark.com/api/booking/airJourney.do\n",
      ">> Parameters\n",
      "tripDivi:0 , depDate:20170727 , chd:0 , inf:0 , dep:PUS , adt:1 , format:json , arr:GMP , airlineCode:7C , \n"
     ]
    },
    {
     "name": "stderr",
     "output_type": "stream",
     "text": [
      "2017-07-07 08:50:05,101 root     DEBUG    error file :: scrap_2017070708_IP_KE_CJU_CJJ_20170709.txt\n",
      "2017-07-07 08:50:05,103 root     DEBUG    0 :: IP :: crawling_IP_dom :: False\n",
      "2017-07-07 08:50:05,105 root     DEBUG    Crawling Interpark domastic schedule site\n"
     ]
    },
    {
     "name": "stdout",
     "output_type": "stream",
     "text": [
      "End Simple crawling\n",
      "Start Simple crawling :  http://domair.interpark.com/api/booking/airJourney.do\n",
      ">> Parameters\n",
      "tripDivi:0 , depDate:20170709 , chd:0 , inf:0 , dep:CJU , adt:1 , format:json , arr:CJJ , airlineCode:KE , \n"
     ]
    },
    {
     "name": "stderr",
     "output_type": "stream",
     "text": [
      "2017-07-07 08:50:09,171 root     DEBUG    error file :: scrap_2017070708_IP_LJ_ICN_NRT_20170708.txt\n",
      "2017-07-07 08:50:09,174 root     DEBUG    1 :: IP :: crawling_IP_int :: False\n",
      "2017-07-07 08:50:09,176 root     DEBUG    Crawling Interpark domastic schedule site\n",
      "2017-07-07 08:50:09,258 root     DEBUG    error file :: scrap_2017070708_IP_OZ_CJU_CJJ_20170709.txt\n",
      "2017-07-07 08:50:09,262 root     DEBUG    0 :: IP :: crawling_IP_dom :: False\n",
      "2017-07-07 08:50:09,266 root     DEBUG    Crawling Interpark domastic schedule site\n"
     ]
    },
    {
     "name": "stdout",
     "output_type": "stream",
     "text": [
      "End Simple crawling\n",
      "Start Simple crawling :  http://smartair.interpark.com/HtmlSearch/GetGoodsSmartList.aspx\n",
      ">> Parameters\n",
      "AirLine:LJ , trip:OW , ptype:I , SeatAvail:Y , chd:0 , SeatType:A , Change: , comp:Y , arr0:NRT , StayLength: , FLEX:N , enc:u , SplitNo:100 , JSON:Y , inf:0 , depdate0:20170708 , adt:1 , dep0:ICN , BEST:Y , Soto:N , \n",
      "End Simple crawling\n",
      "Start Simple crawling :  http://domair.interpark.com/api/booking/airJourney.do\n",
      ">> Parameters\n",
      "tripDivi:0 , depDate:20170709 , chd:0 , inf:0 , dep:CJU , adt:1 , format:json , arr:CJJ , airlineCode:OZ , \n"
     ]
    },
    {
     "name": "stderr",
     "output_type": "stream",
     "text": [
      "2017-07-07 08:50:09,941 root     DEBUG    error file :: scrap_2017070708_IP_OZ_CJU_CJJ_20170716.txt\n",
      "2017-07-07 08:50:09,947 root     DEBUG    0 :: IP :: crawling_IP_dom :: False\n",
      "2017-07-07 08:50:09,952 root     DEBUG    Crawling Interpark domastic schedule site\n"
     ]
    },
    {
     "name": "stdout",
     "output_type": "stream",
     "text": [
      "End Simple crawling\n",
      "Start Simple crawling :  http://domair.interpark.com/api/booking/airJourney.do\n",
      ">> Parameters\n",
      "tripDivi:0 , depDate:20170716 , chd:0 , inf:0 , dep:CJU , adt:1 , format:json , arr:CJJ , airlineCode:OZ , \n"
     ]
    },
    {
     "name": "stderr",
     "output_type": "stream",
     "text": [
      "2017-07-07 08:50:10,621 root     DEBUG    error file :: scrap_2017070708_IP_OZ_CJU_PUS_20170709.txt\n",
      "2017-07-07 08:50:10,624 root     DEBUG    0 :: IP :: crawling_IP_dom :: False\n",
      "2017-07-07 08:50:10,626 root     DEBUG    Crawling Interpark domastic schedule site\n"
     ]
    },
    {
     "name": "stdout",
     "output_type": "stream",
     "text": [
      "End Simple crawling\n",
      "Start Simple crawling :  http://domair.interpark.com/api/booking/airJourney.do\n",
      ">> Parameters\n",
      "tripDivi:0 , depDate:20170709 , chd:0 , inf:0 , dep:CJU , adt:1 , format:json , arr:PUS , airlineCode:OZ , \n"
     ]
    },
    {
     "name": "stderr",
     "output_type": "stream",
     "text": [
      "2017-07-07 08:50:11,541 root     DEBUG    error file :: scrap_2017070708_IP_TW_ICN_BKK_20170708.txt\n",
      "2017-07-07 08:50:11,547 root     DEBUG    1 :: IP :: crawling_IP_int :: False\n",
      "2017-07-07 08:50:11,550 root     DEBUG    Crawling Interpark domastic schedule site\n",
      "2017-07-07 08:50:11,645 root     DEBUG    error file :: scrap_2017070708_IP_TW_ICN_BKK_20170709.txt\n",
      "2017-07-07 08:50:11,647 root     DEBUG    1 :: IP :: crawling_IP_int :: False\n",
      "2017-07-07 08:50:11,650 root     DEBUG    Crawling Interpark domastic schedule site\n",
      "2017-07-07 08:50:11,721 root     DEBUG    error file :: scrap_2017070708_IP_TW_ICN_BKK_20170710.txt\n",
      "2017-07-07 08:50:11,724 root     DEBUG    1 :: IP :: crawling_IP_int :: False\n",
      "2017-07-07 08:50:11,727 root     DEBUG    Crawling Interpark domastic schedule site\n"
     ]
    },
    {
     "name": "stdout",
     "output_type": "stream",
     "text": [
      "End Simple crawling\n",
      "Start Simple crawling :  http://smartair.interpark.com/HtmlSearch/GetGoodsSmartList.aspx\n",
      ">> Parameters\n",
      "AirLine:TW , trip:OW , ptype:I , SeatAvail:Y , chd:0 , SeatType:A , Change: , comp:Y , arr0:BKK , StayLength: , FLEX:N , enc:u , SplitNo:100 , JSON:Y , inf:0 , depdate0:20170708 , adt:1 , dep0:ICN , BEST:Y , Soto:N , \n",
      "End Simple crawling\n",
      "Start Simple crawling :  http://smartair.interpark.com/HtmlSearch/GetGoodsSmartList.aspx\n",
      ">> Parameters\n",
      "AirLine:TW , trip:OW , ptype:I , SeatAvail:Y , chd:0 , SeatType:A , Change: , comp:Y , arr0:BKK , StayLength: , FLEX:N , enc:u , SplitNo:100 , JSON:Y , inf:0 , depdate0:20170709 , adt:1 , dep0:ICN , BEST:Y , Soto:N , \n",
      "End Simple crawling\n"
     ]
    },
    {
     "name": "stderr",
     "output_type": "stream",
     "text": [
      "2017-07-07 08:50:11,812 root     DEBUG    error file :: scrap_2017070708_IP_TW_ICN_NRT_20170708.txt\n",
      "2017-07-07 08:50:11,815 root     DEBUG    1 :: IP :: crawling_IP_int :: False\n",
      "2017-07-07 08:50:11,817 root     DEBUG    Crawling Interpark domastic schedule site\n",
      "2017-07-07 08:50:11,884 root     DEBUG    error file :: scrap_2017070708_IP_TW_ICN_NRT_20170709.txt\n",
      "2017-07-07 08:50:11,887 root     DEBUG    1 :: IP :: crawling_IP_int :: False\n",
      "2017-07-07 08:50:11,889 root     DEBUG    Crawling Interpark domastic schedule site\n"
     ]
    },
    {
     "name": "stdout",
     "output_type": "stream",
     "text": [
      "Start Simple crawling :  http://smartair.interpark.com/HtmlSearch/GetGoodsSmartList.aspx\n",
      ">> Parameters\n",
      "AirLine:TW , trip:OW , ptype:I , SeatAvail:Y , chd:0 , SeatType:A , Change: , comp:Y , arr0:BKK , StayLength: , FLEX:N , enc:u , SplitNo:100 , JSON:Y , inf:0 , depdate0:20170710 , adt:1 , dep0:ICN , BEST:Y , Soto:N , \n",
      "End Simple crawling\n",
      "Start Simple crawling :  http://smartair.interpark.com/HtmlSearch/GetGoodsSmartList.aspx\n",
      ">> Parameters\n",
      "AirLine:TW , trip:OW , ptype:I , SeatAvail:Y , chd:0 , SeatType:A , Change: , comp:Y , arr0:NRT , StayLength: , FLEX:N , enc:u , SplitNo:100 , JSON:Y , inf:0 , depdate0:20170708 , adt:1 , dep0:ICN , BEST:Y , Soto:N , \n",
      "End Simple crawling\n",
      "Start Simple crawling :  http://smartair.interpark.com/HtmlSearch/GetGoodsSmartList.aspx\n",
      ">> Parameters\n",
      "AirLine:TW , trip:OW , ptype:I , SeatAvail:Y , chd:0 , SeatType:A , Change: , comp:Y , arr0:NRT , StayLength: , FLEX:N , enc:u , SplitNo:100 , JSON:Y , inf:0 , depdate0:20170709 , adt:1 , dep0:ICN , BEST:Y , Soto:N , \n"
     ]
    },
    {
     "name": "stderr",
     "output_type": "stream",
     "text": [
      "2017-07-07 08:50:11,966 root     DEBUG    error file :: scrap_2017070708_IP_ZE_ICN_NRT_20170709.txt\n",
      "2017-07-07 08:50:11,975 root     DEBUG    1 :: IP :: crawling_IP_int :: False\n",
      "2017-07-07 08:50:11,978 root     DEBUG    Crawling Interpark domastic schedule site\n"
     ]
    },
    {
     "name": "stdout",
     "output_type": "stream",
     "text": [
      "End Simple crawling\n",
      "Start Simple crawling :  http://smartair.interpark.com/HtmlSearch/GetGoodsSmartList.aspx\n",
      ">> Parameters\n",
      "AirLine:ZE , trip:OW , ptype:I , SeatAvail:Y , chd:0 , SeatType:A , Change: , comp:Y , arr0:NRT , StayLength: , FLEX:N , enc:u , SplitNo:100 , JSON:Y , inf:0 , depdate0:20170709 , adt:1 , dep0:ICN , BEST:Y , Soto:N , \n"
     ]
    },
    {
     "name": "stderr",
     "output_type": "stream",
     "text": [
      "2017-07-07 08:50:13,996 root     DEBUG    error file :: scrap_2017070708_IP_ZE_ICN_NRT_20170710.txt\n",
      "2017-07-07 08:50:14,001 root     DEBUG    1 :: IP :: crawling_IP_int :: False\n",
      "2017-07-07 08:50:14,004 root     DEBUG    Crawling Interpark domastic schedule site\n"
     ]
    },
    {
     "name": "stdout",
     "output_type": "stream",
     "text": [
      "End Simple crawling\n",
      "Start Simple crawling :  http://smartair.interpark.com/HtmlSearch/GetGoodsSmartList.aspx\n",
      ">> Parameters\n",
      "AirLine:ZE , trip:OW , ptype:I , SeatAvail:Y , chd:0 , SeatType:A , Change: , comp:Y , arr0:NRT , StayLength: , FLEX:N , enc:u , SplitNo:100 , JSON:Y , inf:0 , depdate0:20170710 , adt:1 , dep0:ICN , BEST:Y , Soto:N , \n"
     ]
    },
    {
     "name": "stderr",
     "output_type": "stream",
     "text": [
      "2017-07-07 08:50:17,154 root     DEBUG    end recrawling batch job :: total 21 files saved!\n"
     ]
    },
    {
     "name": "stdout",
     "output_type": "stream",
     "text": [
      "End Simple crawling\n"
     ]
    }
   ],
   "source": [
    "## 에러 파일 추가 크롤링 처리\n",
    "log('start recrawling batch job for error files')\n",
    "files = get_crawled_file_list(CRAWL_DIR)\n",
    "cnt = 0\n",
    "for file in files:\n",
    "    log(['error file',file])\n",
    "    head,_=read_crawled_file(CRAWL_DIR+'/'+file)\n",
    "    func,isairline=get_crawl_site_func(head['dom_int'],head['site_code'])\n",
    "    if isairline:\n",
    "        raw_data = crawling_func(func,head['dpt'],head['arr'],head['dpt_date'])\n",
    "        new_file = file_name(head['site_code'],head['dpt'],head['arr'],head['dpt_date'])\n",
    "        new_head = set_headinfo(head['site_code'],head['dom_int'],head['site_code'],head['dpt'],head['arr'],\n",
    "                            head['dpt_date'],crawl_date=head['crawl_date'])\n",
    "    else:\n",
    "        raw_data = crawling_func(func,head['airline'],head['dpt'],head['arr'],head['dpt_date'])\n",
    "        new_file = file_name(head['site_code'],head['dpt'],head['arr'],head['dpt_date'],airline=head['airline'])\n",
    "        new_head = set_headinfo(head['site_code'],head['dom_int'],head['airline'],head['dpt'],head['arr'],\n",
    "                            head['dpt_date'],crawl_date=head['crawl_date'])\n",
    "    ## 처리 파일 이동 : 해당 폴더의 error 폴더로 이동 처리\n",
    "    ## 파일 명이 중복되는 경우 발생 가능, 이동 처리후 저장\n",
    "    move_scraped_file(CRAWL_DIR+'/'+file,CRAWL_DIR+'/error')\n",
    "    save_raw_data(new_file,raw_data,head=new_head)\n",
    "    cnt += 1\n",
    "log(['end recrawling batch job','total {} files saved!'.format(cnt)])"
   ]
  },
  {
   "cell_type": "code",
   "execution_count": null,
   "metadata": {
    "collapsed": true,
    "deletable": true,
    "editable": true
   },
   "outputs": [],
   "source": []
  }
 ],
 "metadata": {
  "kernelspec": {
   "display_name": "Python 3",
   "language": "python",
   "name": "python3"
  },
  "language_info": {
   "codemirror_mode": {
    "name": "ipython",
    "version": 3
   },
   "file_extension": ".py",
   "mimetype": "text/x-python",
   "name": "python",
   "nbconvert_exporter": "python",
   "pygments_lexer": "ipython3",
   "version": "3.5.3"
  }
 },
 "nbformat": 4,
 "nbformat_minor": 2
}
