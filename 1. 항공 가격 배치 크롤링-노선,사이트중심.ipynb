{
 "cells": [
  {
   "cell_type": "markdown",
   "metadata": {
    "deletable": true,
    "editable": true
   },
   "source": [
    "## 항공가격 배치 크롤링\n",
    "- 크롤링 대상 사이트, 노선, 날짜 리스트 정보를 이용하여 크롤링 배치 처리\n",
    "- 실시간 사이트의 경우 대상 항공사 코드 정보 필요\n",
    "    * 세팅정보 처리 : 크롤링 함수 부분"
   ]
  },
  {
   "cell_type": "code",
   "execution_count": 1,
   "metadata": {
    "collapsed": false,
    "deletable": true,
    "editable": true
   },
   "outputs": [],
   "source": [
    "from collections import namedtuple\n",
    "from datetime import datetime, timedelta\n",
    "import requests\n",
    "import shutil\n",
    "from common.env_variable import *\n",
    "from common.batch_util import *\n",
    "from common.crawl_func import *\n",
    "from common.log_util import *\n",
    "from common.util import save_raw_data\n",
    "## 로그 초기화\n",
    "logger_initialize('crawl_logger_setting.json')\n",
    "init_env_variable('common/env_variable.json')"
   ]
  },
  {
   "cell_type": "code",
   "execution_count": 2,
   "metadata": {
    "collapsed": false,
    "deletable": true,
    "editable": true
   },
   "outputs": [],
   "source": [
    "## 노선과 사이트 정보리스트를 이용하여 크롤링 실행 함수\n",
    "## 크롤링 날짜 지정 YYYYMMDDHH 년월일시간\n",
    "def crawl_by_route_siteinfos(crawl_date, infos):\n",
    "    log_msgs = ['start batch job','craw_by_route_siteinfos : {}-{}'.format(crawl_date,len(infos))]\n",
    "    log(log_msgs,level=logging.INFO)\n",
    "    start_time = datetime.today()\n",
    "    error_infos = []\n",
    "    for info in infos:\n",
    "        dom_int,dpt,arr,site,airlines,dates = info\n",
    "        try:\n",
    "            crawl_by_route_site(crawl_date,dom_int,dpt,arr,site,dates,airlines)\n",
    "        except:\n",
    "            error_infos.append(info)\n",
    "            log_msgs = ['*** Error occured! when crawling condition - {},{},{},{},{},{}'.format(dom_int,dpt,arr,site,airlines,dates)]\n",
    "            log(log_msgs,level=logging.ERROR)\n",
    "    end_time = datetime.today()\n",
    "    log_msgs = ['end batch job','craw_by_route_siteinfos',\n",
    "                'elapsed -{}'.format(end_time-start_time),'Total infos({})'.format(len(infos))]\n",
    "    log(log_msgs,level=logging.INFO)\n",
    "    log_msgs = ['Total {} site info, {} error occured'.format(len(infos),len(error_infos))]\n",
    "    log(log_msgs,level=logging.INFO)\n",
    "    return error_infos\n",
    "\n",
    "## 노선과 사이트 정보를 이용 크롤링 실행 함수\n",
    "def crawl_by_route_site(crawl_date,dom_int,dpt,arr,site,dates,airlines=None):\n",
    "    log_msgs = ['start batch job','craw_by_route_site[{},{},{},{},{}]'.format(dpt,arr,site,dates,airlines)]\n",
    "    log(log_msgs,level=logging.INFO)\n",
    "    start_time = datetime.today()\n",
    "    crawl_cnt = 0\n",
    "    func, isairline = get_crawl_site_func(dom_int,site)\n",
    "    log([func,isairline],level=logging.INFO)\n",
    "    if func is None: ## None 아닌 경우만 진행\n",
    "        log('Crawling Func not found!')\n",
    "        return None\n",
    "    for dpt_date in dates:\n",
    "        if isairline: ## 항공사 사이트\n",
    "            raw_data = crawling_func(func,dpt,arr,dpt_date)\n",
    "            head = set_headinfo(site,dom_int,site,dpt,arr,dpt_date,crawl_date=crawl_date)\n",
    "            file = file_name(site,dpt,arr,dpt_date)\n",
    "            save_raw_data(file,raw_data,head=head)\n",
    "            crawl_cnt += 1\n",
    "        else: ## 실시간 사이트\n",
    "            for airline in airlines:\n",
    "                raw_data = crawling_func(func,airline,dpt,arr,dpt_date)\n",
    "                head = set_headinfo(site,dom_int,airline,dpt,arr,dpt_date,crawl_date=crawl_date)\n",
    "                file = file_name(site,dpt,arr,dpt_date,airline=airline)\n",
    "                save_raw_data(file,raw_data,head=head)\n",
    "                crawl_cnt += 1\n",
    "    end_time = datetime.today()\n",
    "    log_msgs = ['end batch job','craw_by_route_site',\n",
    "                'elapsed -{}'.format(end_time-start_time),'Total crawl:{} files saved.'.format(crawl_cnt)]\n",
    "    log(log_msgs,level=logging.INFO)\n",
    "## YYYYMMDD 형식의 문자열 두개를 인자로 문자형 날짜 Range 생성\n",
    "def timeiter(start,end,fmt='%Y%m%d'):\n",
    "    date1 = datetime.strptime(start,'%Y%m%d')\n",
    "    date2 = datetime.strptime(end,'%Y%m%d')\n",
    "    delta = date2 - date1\n",
    "    return (datetime.strftime(date1+timedelta(days=d),fmt) for d in range(delta.days + 1))\n",
    "## YYYYMMDD 형식의 기준일로 부터 며칠 뒤의 날짜 구하기\n",
    "def get_date(base_date=None,after=0,fmt='%Y%m%d'):\n",
    "    if base_date is None:\n",
    "        return (datetime.today() + timedelta(after)).strftime(fmt)\n",
    "    else:\n",
    "        return (datetime.strptime(base_date,'%Y%m%d') + timedelta(after)).strftime(fmt)"
   ]
  },
  {
   "cell_type": "code",
   "execution_count": 3,
   "metadata": {
    "collapsed": false,
    "deletable": true,
    "editable": true
   },
   "outputs": [],
   "source": [
    "previous_crawled_date = get_date() ##오늘, 중도에 오류가 날경우 조정 하여 재실행\n",
    "start = get_date(base_date=previous_crawled_date,after=1) ## 내일 날짜 구하기\n",
    "end = get_date(base_date=previous_crawled_date,after=60)  ## 기간 날짜 구하기\n",
    "dates = list(timeiter(start,end))\n",
    "## 노선 기간별 변수\n",
    "## 60일 변수\n",
    "gmpcju60 = ['0','GMP', 'CJU', 'IP', ['7C','LJ','TW','ZE'],dates]\n",
    "icnnrt60 = ['1','ICN', 'NRT', 'IP', ['7C','LJ','TW','ZE'],dates]\n",
    "end = get_date(base_date=previous_crawled_date,after=21)  ## 기간 날짜 구하기\n",
    "dates = list(timeiter(start,end))\n",
    "## 국내선 21일 변수\n",
    "gmpcju21 = ['0','GMP', 'CJU', 'IP', ['7C','LJ','TW','ZE'],dates]\n",
    "cjugmp21 = ['0','CJU', 'GMP', 'IP', ['7C','LJ','TW','ZE'],dates]\n",
    "gmppus21 = ['0','GMP', 'PUS', 'IP', ['7C','BX','OZ','ZE'],dates]\n",
    "pusgmp21 = ['0','PUS', 'GMP', 'IP', ['7C','BX','OZ','ZE'],dates]\n",
    "puscju21 = ['0','PUS', 'CJU', 'IP', ['7C','LJ','OZ','KE','ZE'],dates]\n",
    "cjupus21 = ['0','CJU', 'PUS', 'IP', ['7C','LJ','OZ','KE','ZE'],dates]\n",
    "cjjcju21 = ['0','CJJ', 'CJU', 'IP', ['7C','LJ','OZ','KE','ZE'],dates]\n",
    "cjucjj21 = ['0','CJU', 'CJJ', 'IP', ['7C','LJ','OZ','KE','ZE'],dates]\n",
    "kuvcju21 = ['0','KUV', 'CJU', 'IP', ['KE','ZE'],dates]\n",
    "cjukuv21 = ['0','CJU', 'KUV', 'IP', ['KE','ZE'],dates]\n",
    "## 국제선 국내출발 21일 변수, 인터파크\n",
    "icnnrt21 = ['1','ICN', 'NRT', 'IP', ['7C','LJ','TW','ZE'],dates]\n",
    "icnbkk21 = ['1','ICN', 'BKK', 'IP', ['7C','LJ','TW','ZE'],dates]\n",
    "icnfuk21 = ['1','ICN', 'FUK', 'IP', ['7C','LJ','TW','ZE'],dates]\n",
    "## 국제선  현지출발 21일 각 항공사\n",
    "ze_nrticn21 = ['1','NRT', 'ICN', 'ZE', 'ZE',dates]\n",
    "tw_nrticn21 = ['1','NRT', 'ICN', 'TW', 'TW',dates]\n",
    "c7_nrticn21 = ['1','NRT', 'ICN', '7C', '7C',dates]\n",
    "lj_nrticn21 = ['1','NRT/JPN', 'ICN/KOR', 'LJ', 'LJ',dates]\n",
    "ze_bkkicn21 = ['1','BKK', 'ICN', 'ZE', 'ZE',dates]\n",
    "tw_bkkicn21 = ['1','BKK', 'ICN', 'TW', 'TW',dates]\n",
    "c7_bkkicn21 = ['1','BKK', 'ICN', '7C', '7C',dates]\n",
    "lj_bkkicn21 = ['1','BKK/SEA', 'ICN/KOR', 'LJ', 'LJ',dates]\n",
    "ze_fukicn21 = ['1','FUK', 'ICN', 'ZE', 'ZE',dates]\n",
    "tw_fukicn21 = ['1','FUK', 'ICN', 'TW', 'TW',dates]\n",
    "c7_fukicn21 = ['1','FUK', 'ICN', '7C', '7C',dates]\n",
    "lj_fukicn21 = ['1','FUK/JPN', 'ICN/KOR', 'LJ', 'LJ',dates]"
   ]
  },
  {
   "cell_type": "code",
   "execution_count": 4,
   "metadata": {
    "collapsed": false,
    "deletable": true,
    "editable": true,
    "scrolled": true
   },
   "outputs": [
    {
     "name": "stderr",
     "output_type": "stream",
     "text": [
      "2017-08-09 08:01:12,512 root     INFO     start batch job :: craw_by_route_siteinfos : 2017080908-24\n",
      "2017-08-09 08:01:12,553 root     INFO     start batch job :: craw_by_route_site[GMP,CJU,IP,['20170810', '20170811', '20170812', '20170813', '20170814', '20170815', '20170816', '20170817', '20170818', '20170819', '20170820', '20170821', '20170822', '20170823', '20170824', '20170825', '20170826', '20170827', '20170828', '20170829', '20170830', '20170831', '20170901', '20170902', '20170903', '20170904', '20170905', '20170906', '20170907', '20170908', '20170909', '20170910', '20170911', '20170912', '20170913', '20170914', '20170915', '20170916', '20170917', '20170918', '20170919', '20170920', '20170921', '20170922', '20170923', '20170924', '20170925', '20170926', '20170927', '20170928', '20170929', '20170930', '20171001', '20171002', '20171003', '20171004', '20171005', '20171006', '20171007', '20171008'],['7C', 'LJ', 'TW', 'ZE']]\n",
      "2017-08-09 08:01:12,556 root     DEBUG    0 :: IP :: crawling_IP_dom :: False\n",
      "2017-08-09 08:01:12,563 root     INFO     <function crawling_IP_dom at 0x0000000007FA6378> :: False\n",
      "2017-08-09 08:01:12,570 root     DEBUG    Crawling Interpark domastic schedule site\n"
     ]
    },
    {
     "name": "stdout",
     "output_type": "stream",
     "text": [
      "Start Simple crawling :  http://domair.interpark.com/api/booking/airJourney.do\n",
      ">> Parameters\n",
      "chd:0 , format:json , inf:0 , depDate:20170810 , arr:CJU , dep:GMP , adt:1 , tripDivi:0 , airlineCode:7C , \n"
     ]
    },
    {
     "name": "stderr",
     "output_type": "stream",
     "text": [
      "2017-08-09 08:01:14,459 root     DEBUG    Crawling Interpark domastic schedule site\n"
     ]
    },
    {
     "name": "stdout",
     "output_type": "stream",
     "text": [
      "End Simple crawling\n",
      "Start Simple crawling :  http://domair.interpark.com/api/booking/airJourney.do\n",
      ">> Parameters\n",
      "chd:0 , format:json , inf:0 , depDate:20170810 , arr:CJU , dep:GMP , adt:1 , tripDivi:0 , airlineCode:LJ , \n"
     ]
    },
    {
     "name": "stderr",
     "output_type": "stream",
     "text": [
      "2017-08-09 08:01:14,737 root     DEBUG    Crawling Interpark domastic schedule site\n"
     ]
    },
    {
     "name": "stdout",
     "output_type": "stream",
     "text": [
      "End Simple crawling\n",
      "Start Simple crawling :  http://domair.interpark.com/api/booking/airJourney.do\n",
      ">> Parameters\n",
      "chd:0 , format:json , inf:0 , depDate:20170810 , arr:CJU , dep:GMP , adt:1 , tripDivi:0 , airlineCode:TW , \n"
     ]
    },
    {
     "name": "stderr",
     "output_type": "stream",
     "text": [
      "2017-08-09 08:01:15,161 root     DEBUG    Crawling Interpark domastic schedule site\n"
     ]
    },
    {
     "name": "stdout",
     "output_type": "stream",
     "text": [
      "End Simple crawling\n",
      "Start Simple crawling :  http://domair.interpark.com/api/booking/airJourney.do\n",
      ">> Parameters\n",
      "chd:0 , format:json , inf:0 , depDate:20170810 , arr:CJU , dep:GMP , adt:1 , tripDivi:0 , airlineCode:ZE , \n"
     ]
    },
    {
     "name": "stderr",
     "output_type": "stream",
     "text": [
      "2017-08-09 08:01:16,317 root     DEBUG    Crawling Interpark domastic schedule site\n"
     ]
    },
    {
     "name": "stdout",
     "output_type": "stream",
     "text": [
      "End Simple crawling\n",
      "Start Simple crawling :  http://domair.interpark.com/api/booking/airJourney.do\n",
      ">> Parameters\n",
      "chd:0 , format:json , inf:0 , depDate:20170811 , arr:CJU , dep:GMP , adt:1 , tripDivi:0 , airlineCode:7C , \n"
     ]
    },
    {
     "name": "stderr",
     "output_type": "stream",
     "text": [
      "2017-08-09 08:01:18,075 root     DEBUG    Crawling Interpark domastic schedule site\n",
      "2017-08-09 08:01:18,242 root     DEBUG    Crawling Interpark domastic schedule site\n"
     ]
    },
    {
     "name": "stdout",
     "output_type": "stream",
     "text": [
      "End Simple crawling\n",
      "Start Simple crawling :  http://domair.interpark.com/api/booking/airJourney.do\n",
      ">> Parameters\n",
      "chd:0 , format:json , inf:0 , depDate:20170811 , arr:CJU , dep:GMP , adt:1 , tripDivi:0 , airlineCode:LJ , \n",
      "End Simple crawling\n",
      "Start Simple crawling :  http://domair.interpark.com/api/booking/airJourney.do\n",
      ">> Parameters\n",
      "chd:0 , format:json , inf:0 , depDate:20170811 , arr:CJU , dep:GMP , adt:1 , tripDivi:0 , airlineCode:TW , \n"
     ]
    },
    {
     "name": "stderr",
     "output_type": "stream",
     "text": [
      "2017-08-09 08:01:18,779 root     DEBUG    Crawling Interpark domastic schedule site\n"
     ]
    },
    {
     "name": "stdout",
     "output_type": "stream",
     "text": [
      "End Simple crawling\n",
      "Start Simple crawling :  http://domair.interpark.com/api/booking/airJourney.do\n",
      ">> Parameters\n",
      "chd:0 , format:json , inf:0 , depDate:20170811 , arr:CJU , dep:GMP , adt:1 , tripDivi:0 , airlineCode:ZE , \n"
     ]
    },
    {
     "name": "stderr",
     "output_type": "stream",
     "text": [
      "2017-08-09 08:01:19,859 root     DEBUG    Crawling Interpark domastic schedule site\n"
     ]
    },
    {
     "name": "stdout",
     "output_type": "stream",
     "text": [
      "End Simple crawling\n",
      "Start Simple crawling :  http://domair.interpark.com/api/booking/airJourney.do\n",
      ">> Parameters\n",
      "chd:0 , format:json , inf:0 , depDate:20170812 , arr:CJU , dep:GMP , adt:1 , tripDivi:0 , airlineCode:7C , \n"
     ]
    },
    {
     "name": "stderr",
     "output_type": "stream",
     "text": [
      "2017-08-09 08:01:21,932 root     DEBUG    Crawling Interpark domastic schedule site\n",
      "2017-08-09 08:01:22,122 root     DEBUG    Crawling Interpark domastic schedule site\n"
     ]
    },
    {
     "name": "stdout",
     "output_type": "stream",
     "text": [
      "End Simple crawling\n",
      "Start Simple crawling :  http://domair.interpark.com/api/booking/airJourney.do\n",
      ">> Parameters\n",
      "chd:0 , format:json , inf:0 , depDate:20170812 , arr:CJU , dep:GMP , adt:1 , tripDivi:0 , airlineCode:LJ , \n",
      "End Simple crawling\n"
     ]
    },
    {
     "name": "stderr",
     "output_type": "stream",
     "text": [
      "2017-08-09 08:01:22,669 root     DEBUG    Crawling Interpark domastic schedule site\n"
     ]
    },
    {
     "name": "stdout",
     "output_type": "stream",
     "text": [
      "Start Simple crawling :  http://domair.interpark.com/api/booking/airJourney.do\n",
      ">> Parameters\n",
      "chd:0 , format:json , inf:0 , depDate:20170812 , arr:CJU , dep:GMP , adt:1 , tripDivi:0 , airlineCode:TW , \n",
      "End Simple crawling\n",
      "Start Simple crawling :  http://domair.interpark.com/api/booking/airJourney.do\n",
      ">> Parameters\n",
      "chd:0 , format:json , inf:0 , depDate:20170812 , arr:CJU , dep:GMP , adt:1 , tripDivi:0 , airlineCode:ZE , \n"
     ]
    },
    {
     "name": "stderr",
     "output_type": "stream",
     "text": [
      "2017-08-09 08:01:24,171 root     DEBUG    Crawling Interpark domastic schedule site\n"
     ]
    },
    {
     "name": "stdout",
     "output_type": "stream",
     "text": [
      "End Simple crawling\n",
      "Start Simple crawling :  http://domair.interpark.com/api/booking/airJourney.do\n",
      ">> Parameters\n",
      "chd:0 , format:json , inf:0 , depDate:20170813 , arr:CJU , dep:GMP , adt:1 , tripDivi:0 , airlineCode:7C , \n"
     ]
    },
    {
     "name": "stderr",
     "output_type": "stream",
     "text": [
      "2017-08-09 08:01:26,409 root     DEBUG    Crawling Interpark domastic schedule site\n"
     ]
    },
    {
     "name": "stdout",
     "output_type": "stream",
     "text": [
      "End Simple crawling\n",
      "Start Simple crawling :  http://domair.interpark.com/api/booking/airJourney.do\n",
      ">> Parameters\n",
      "chd:0 , format:json , inf:0 , depDate:20170813 , arr:CJU , dep:GMP , adt:1 , tripDivi:0 , airlineCode:LJ , \n"
     ]
    },
    {
     "name": "stderr",
     "output_type": "stream",
     "text": [
      "2017-08-09 08:01:26,816 root     DEBUG    Crawling Interpark domastic schedule site\n"
     ]
    },
    {
     "name": "stdout",
     "output_type": "stream",
     "text": [
      "End Simple crawling\n",
      "Start Simple crawling :  http://domair.interpark.com/api/booking/airJourney.do\n",
      ">> Parameters\n",
      "chd:0 , format:json , inf:0 , depDate:20170813 , arr:CJU , dep:GMP , adt:1 , tripDivi:0 , airlineCode:TW , \n"
     ]
    },
    {
     "name": "stderr",
     "output_type": "stream",
     "text": [
      "2017-08-09 08:01:27,341 root     DEBUG    Crawling Interpark domastic schedule site\n"
     ]
    },
    {
     "name": "stdout",
     "output_type": "stream",
     "text": [
      "End Simple crawling\n",
      "Start Simple crawling :  http://domair.interpark.com/api/booking/airJourney.do\n",
      ">> Parameters\n",
      "chd:0 , format:json , inf:0 , depDate:20170813 , arr:CJU , dep:GMP , adt:1 , tripDivi:0 , airlineCode:ZE , \n"
     ]
    },
    {
     "name": "stderr",
     "output_type": "stream",
     "text": [
      "2017-08-09 08:01:28,645 root     DEBUG    Crawling Interpark domastic schedule site\n"
     ]
    },
    {
     "name": "stdout",
     "output_type": "stream",
     "text": [
      "End Simple crawling\n",
      "Start Simple crawling :  http://domair.interpark.com/api/booking/airJourney.do\n",
      ">> Parameters\n",
      "chd:0 , format:json , inf:0 , depDate:20170814 , arr:CJU , dep:GMP , adt:1 , tripDivi:0 , airlineCode:7C , \n"
     ]
    },
    {
     "name": "stderr",
     "output_type": "stream",
     "text": [
      "2017-08-09 08:01:30,593 root     DEBUG    Crawling Interpark domastic schedule site\n"
     ]
    },
    {
     "name": "stdout",
     "output_type": "stream",
     "text": [
      "End Simple crawling\n",
      "Start Simple crawling :  http://domair.interpark.com/api/booking/airJourney.do\n",
      ">> Parameters\n",
      "chd:0 , format:json , inf:0 , depDate:20170814 , arr:CJU , dep:GMP , adt:1 , tripDivi:0 , airlineCode:LJ , \n"
     ]
    },
    {
     "name": "stderr",
     "output_type": "stream",
     "text": [
      "2017-08-09 08:01:30,885 root     DEBUG    Crawling Interpark domastic schedule site\n"
     ]
    },
    {
     "name": "stdout",
     "output_type": "stream",
     "text": [
      "End Simple crawling\n",
      "Start Simple crawling :  http://domair.interpark.com/api/booking/airJourney.do\n",
      ">> Parameters\n",
      "chd:0 , format:json , inf:0 , depDate:20170814 , arr:CJU , dep:GMP , adt:1 , tripDivi:0 , airlineCode:TW , \n"
     ]
    },
    {
     "name": "stderr",
     "output_type": "stream",
     "text": [
      "2017-08-09 08:01:31,308 root     DEBUG    Crawling Interpark domastic schedule site\n"
     ]
    },
    {
     "name": "stdout",
     "output_type": "stream",
     "text": [
      "End Simple crawling\n",
      "Start Simple crawling :  http://domair.interpark.com/api/booking/airJourney.do\n",
      ">> Parameters\n",
      "chd:0 , format:json , inf:0 , depDate:20170814 , arr:CJU , dep:GMP , adt:1 , tripDivi:0 , airlineCode:ZE , \n"
     ]
    },
    {
     "name": "stderr",
     "output_type": "stream",
     "text": [
      "2017-08-09 08:01:32,634 root     DEBUG    Crawling Interpark domastic schedule site\n"
     ]
    },
    {
     "name": "stdout",
     "output_type": "stream",
     "text": [
      "End Simple crawling\n",
      "Start Simple crawling :  http://domair.interpark.com/api/booking/airJourney.do\n",
      ">> Parameters\n",
      "chd:0 , format:json , inf:0 , depDate:20170815 , arr:CJU , dep:GMP , adt:1 , tripDivi:0 , airlineCode:7C , \n"
     ]
    },
    {
     "name": "stderr",
     "output_type": "stream",
     "text": [
      "2017-08-09 08:01:38,639 root     DEBUG    Crawling Interpark domastic schedule site\n"
     ]
    },
    {
     "name": "stdout",
     "output_type": "stream",
     "text": [
      "End Simple crawling\n",
      "Start Simple crawling :  http://domair.interpark.com/api/booking/airJourney.do\n",
      ">> Parameters\n",
      "chd:0 , format:json , inf:0 , depDate:20170815 , arr:CJU , dep:GMP , adt:1 , tripDivi:0 , airlineCode:LJ , \n"
     ]
    },
    {
     "name": "stderr",
     "output_type": "stream",
     "text": [
      "2017-08-09 08:01:38,877 root     DEBUG    Crawling Interpark domastic schedule site\n"
     ]
    },
    {
     "name": "stdout",
     "output_type": "stream",
     "text": [
      "End Simple crawling\n",
      "Start Simple crawling :  http://domair.interpark.com/api/booking/airJourney.do\n",
      ">> Parameters\n",
      "chd:0 , format:json , inf:0 , depDate:20170815 , arr:CJU , dep:GMP , adt:1 , tripDivi:0 , airlineCode:TW , \n"
     ]
    },
    {
     "name": "stderr",
     "output_type": "stream",
     "text": [
      "2017-08-09 08:01:39,391 root     DEBUG    Crawling Interpark domastic schedule site\n"
     ]
    },
    {
     "name": "stdout",
     "output_type": "stream",
     "text": [
      "End Simple crawling\n",
      "Start Simple crawling :  http://domair.interpark.com/api/booking/airJourney.do\n",
      ">> Parameters\n",
      "chd:0 , format:json , inf:0 , depDate:20170815 , arr:CJU , dep:GMP , adt:1 , tripDivi:0 , airlineCode:ZE , \n"
     ]
    },
    {
     "name": "stderr",
     "output_type": "stream",
     "text": [
      "2017-08-09 08:01:40,673 root     DEBUG    Crawling Interpark domastic schedule site\n"
     ]
    },
    {
     "name": "stdout",
     "output_type": "stream",
     "text": [
      "End Simple crawling\n",
      "Start Simple crawling :  http://domair.interpark.com/api/booking/airJourney.do\n",
      ">> Parameters\n",
      "chd:0 , format:json , inf:0 , depDate:20170816 , arr:CJU , dep:GMP , adt:1 , tripDivi:0 , airlineCode:7C , \n"
     ]
    },
    {
     "name": "stderr",
     "output_type": "stream",
     "text": [
      "2017-08-09 08:01:49,730 root     DEBUG    Crawling Interpark domastic schedule site\n"
     ]
    },
    {
     "name": "stdout",
     "output_type": "stream",
     "text": [
      "End Simple crawling\n",
      "Start Simple crawling :  http://domair.interpark.com/api/booking/airJourney.do\n",
      ">> Parameters\n",
      "chd:0 , format:json , inf:0 , depDate:20170816 , arr:CJU , dep:GMP , adt:1 , tripDivi:0 , airlineCode:LJ , \n",
      "End Simple crawling"
     ]
    },
    {
     "name": "stderr",
     "output_type": "stream",
     "text": [
      "2017-08-09 08:01:49,936 root     DEBUG    Crawling Interpark domastic schedule site\n"
     ]
    },
    {
     "name": "stdout",
     "output_type": "stream",
     "text": [
      "\n",
      "Start Simple crawling :  http://domair.interpark.com/api/booking/airJourney.do\n",
      ">> Parameters\n",
      "chd:0 , format:json , inf:0 , depDate:20170816 , arr:CJU , dep:GMP , adt:1 , tripDivi:0 , airlineCode:TW , \n"
     ]
    },
    {
     "name": "stderr",
     "output_type": "stream",
     "text": [
      "2017-08-09 08:01:50,494 root     DEBUG    Crawling Interpark domastic schedule site\n"
     ]
    },
    {
     "name": "stdout",
     "output_type": "stream",
     "text": [
      "End Simple crawling\n",
      "Start Simple crawling :  http://domair.interpark.com/api/booking/airJourney.do\n",
      ">> Parameters\n",
      "chd:0 , format:json , inf:0 , depDate:20170816 , arr:CJU , dep:GMP , adt:1 , tripDivi:0 , airlineCode:ZE , \n"
     ]
    },
    {
     "name": "stderr",
     "output_type": "stream",
     "text": [
      "2017-08-09 08:01:51,743 root     DEBUG    Crawling Interpark domastic schedule site\n"
     ]
    },
    {
     "name": "stdout",
     "output_type": "stream",
     "text": [
      "End Simple crawling\n",
      "Start Simple crawling :  http://domair.interpark.com/api/booking/airJourney.do\n",
      ">> Parameters\n",
      "chd:0 , format:json , inf:0 , depDate:20170817 , arr:CJU , dep:GMP , adt:1 , tripDivi:0 , airlineCode:7C , \n"
     ]
    },
    {
     "name": "stderr",
     "output_type": "stream",
     "text": [
      "2017-08-09 08:01:56,620 root     DEBUG    Crawling Interpark domastic schedule site\n"
     ]
    },
    {
     "name": "stdout",
     "output_type": "stream",
     "text": [
      "End Simple crawling\n",
      "Start Simple crawling :  http://domair.interpark.com/api/booking/airJourney.do\n",
      ">> Parameters\n",
      "chd:0 , format:json , inf:0 , depDate:20170817 , arr:CJU , dep:GMP , adt:1 , tripDivi:0 , airlineCode:LJ , \n"
     ]
    },
    {
     "name": "stderr",
     "output_type": "stream",
     "text": [
      "2017-08-09 08:01:56,875 root     DEBUG    Crawling Interpark domastic schedule site\n"
     ]
    },
    {
     "name": "stdout",
     "output_type": "stream",
     "text": [
      "End Simple crawling\n",
      "Start Simple crawling :  http://domair.interpark.com/api/booking/airJourney.do\n",
      ">> Parameters\n",
      "chd:0 , format:json , inf:0 , depDate:20170817 , arr:CJU , dep:GMP , adt:1 , tripDivi:0 , airlineCode:TW , \n"
     ]
    },
    {
     "name": "stderr",
     "output_type": "stream",
     "text": [
      "2017-08-09 08:01:57,445 root     DEBUG    Crawling Interpark domastic schedule site\n"
     ]
    },
    {
     "name": "stdout",
     "output_type": "stream",
     "text": [
      "End Simple crawling\n",
      "Start Simple crawling :  http://domair.interpark.com/api/booking/airJourney.do\n",
      ">> Parameters\n",
      "chd:0 , format:json , inf:0 , depDate:20170817 , arr:CJU , dep:GMP , adt:1 , tripDivi:0 , airlineCode:ZE , \n"
     ]
    },
    {
     "name": "stderr",
     "output_type": "stream",
     "text": [
      "2017-08-09 08:01:58,761 root     DEBUG    Crawling Interpark domastic schedule site\n"
     ]
    },
    {
     "name": "stdout",
     "output_type": "stream",
     "text": [
      "End Simple crawling\n",
      "Start Simple crawling :  http://domair.interpark.com/api/booking/airJourney.do\n",
      ">> Parameters\n",
      "chd:0 , format:json , inf:0 , depDate:20170818 , arr:CJU , dep:GMP , adt:1 , tripDivi:0 , airlineCode:7C , \n"
     ]
    },
    {
     "name": "stderr",
     "output_type": "stream",
     "text": [
      "2017-08-09 08:02:00,611 root     DEBUG    Crawling Interpark domastic schedule site\n"
     ]
    },
    {
     "name": "stdout",
     "output_type": "stream",
     "text": [
      "End Simple crawling\n",
      "Start Simple crawling :  http://domair.interpark.com/api/booking/airJourney.do\n",
      ">> Parameters\n",
      "chd:0 , format:json , inf:0 , depDate:20170818 , arr:CJU , dep:GMP , adt:1 , tripDivi:0 , airlineCode:LJ , \n"
     ]
    },
    {
     "name": "stderr",
     "output_type": "stream",
     "text": [
      "2017-08-09 08:02:00,834 root     DEBUG    Crawling Interpark domastic schedule site\n"
     ]
    },
    {
     "name": "stdout",
     "output_type": "stream",
     "text": [
      "End Simple crawling\n",
      "Start Simple crawling :  http://domair.interpark.com/api/booking/airJourney.do\n",
      ">> Parameters\n",
      "chd:0 , format:json , inf:0 , depDate:20170818 , arr:CJU , dep:GMP , adt:1 , tripDivi:0 , airlineCode:TW , \n"
     ]
    },
    {
     "name": "stderr",
     "output_type": "stream",
     "text": [
      "2017-08-09 08:02:01,380 root     DEBUG    Crawling Interpark domastic schedule site\n"
     ]
    },
    {
     "name": "stdout",
     "output_type": "stream",
     "text": [
      "End Simple crawling\n",
      "Start Simple crawling :  http://domair.interpark.com/api/booking/airJourney.do\n",
      ">> Parameters\n",
      "chd:0 , format:json , inf:0 , depDate:20170818 , arr:CJU , dep:GMP , adt:1 , tripDivi:0 , airlineCode:ZE , \n"
     ]
    },
    {
     "name": "stderr",
     "output_type": "stream",
     "text": [
      "2017-08-09 08:02:02,566 root     DEBUG    Crawling Interpark domastic schedule site\n"
     ]
    },
    {
     "name": "stdout",
     "output_type": "stream",
     "text": [
      "End Simple crawling\n",
      "Start Simple crawling :  http://domair.interpark.com/api/booking/airJourney.do\n",
      ">> Parameters\n",
      "chd:0 , format:json , inf:0 , depDate:20170819 , arr:CJU , dep:GMP , adt:1 , tripDivi:0 , airlineCode:7C , \n"
     ]
    },
    {
     "name": "stderr",
     "output_type": "stream",
     "text": [
      "2017-08-09 08:02:04,631 root     DEBUG    Crawling Interpark domastic schedule site\n"
     ]
    },
    {
     "name": "stdout",
     "output_type": "stream",
     "text": [
      "End Simple crawling\n",
      "Start Simple crawling :  http://domair.interpark.com/api/booking/airJourney.do\n",
      ">> Parameters\n",
      "chd:0 , format:json , inf:0 , depDate:20170819 , arr:CJU , dep:GMP , adt:1 , tripDivi:0 , airlineCode:LJ , \n"
     ]
    },
    {
     "name": "stderr",
     "output_type": "stream",
     "text": [
      "2017-08-09 08:02:04,859 root     DEBUG    Crawling Interpark domastic schedule site\n"
     ]
    },
    {
     "name": "stdout",
     "output_type": "stream",
     "text": [
      "End Simple crawling\n",
      "Start Simple crawling :  http://domair.interpark.com/api/booking/airJourney.do\n",
      ">> Parameters\n",
      "chd:0 , format:json , inf:0 , depDate:20170819 , arr:CJU , dep:GMP , adt:1 , tripDivi:0 , airlineCode:TW , \n"
     ]
    },
    {
     "name": "stderr",
     "output_type": "stream",
     "text": [
      "2017-08-09 08:02:05,437 root     DEBUG    Crawling Interpark domastic schedule site\n"
     ]
    },
    {
     "name": "stdout",
     "output_type": "stream",
     "text": [
      "End Simple crawling\n",
      "Start Simple crawling :  http://domair.interpark.com/api/booking/airJourney.do\n",
      ">> Parameters\n",
      "chd:0 , format:json , inf:0 , depDate:20170819 , arr:CJU , dep:GMP , adt:1 , tripDivi:0 , airlineCode:ZE , \n"
     ]
    },
    {
     "name": "stderr",
     "output_type": "stream",
     "text": [
      "2017-08-09 08:02:06,715 root     DEBUG    Crawling Interpark domastic schedule site\n"
     ]
    },
    {
     "name": "stdout",
     "output_type": "stream",
     "text": [
      "End Simple crawling\n",
      "Start Simple crawling :  http://domair.interpark.com/api/booking/airJourney.do\n",
      ">> Parameters\n",
      "chd:0 , format:json , inf:0 , depDate:20170820 , arr:CJU , dep:GMP , adt:1 , tripDivi:0 , airlineCode:7C , \n"
     ]
    },
    {
     "name": "stderr",
     "output_type": "stream",
     "text": [
      "2017-08-09 08:02:08,658 root     DEBUG    Crawling Interpark domastic schedule site\n"
     ]
    },
    {
     "name": "stdout",
     "output_type": "stream",
     "text": [
      "End Simple crawling\n",
      "Start Simple crawling :  http://domair.interpark.com/api/booking/airJourney.do\n",
      ">> Parameters\n",
      "chd:0 , format:json , inf:0 , depDate:20170820 , arr:CJU , dep:GMP , adt:1 , tripDivi:0 , airlineCode:LJ , \n"
     ]
    },
    {
     "name": "stderr",
     "output_type": "stream",
     "text": [
      "2017-08-09 08:02:08,905 root     DEBUG    Crawling Interpark domastic schedule site\n"
     ]
    },
    {
     "name": "stdout",
     "output_type": "stream",
     "text": [
      "End Simple crawling\n",
      "Start Simple crawling :  http://domair.interpark.com/api/booking/airJourney.do\n",
      ">> Parameters\n",
      "chd:0 , format:json , inf:0 , depDate:20170820 , arr:CJU , dep:GMP , adt:1 , tripDivi:0 , airlineCode:TW , \n"
     ]
    },
    {
     "name": "stderr",
     "output_type": "stream",
     "text": [
      "2017-08-09 08:02:09,430 root     DEBUG    Crawling Interpark domastic schedule site\n"
     ]
    },
    {
     "name": "stdout",
     "output_type": "stream",
     "text": [
      "End Simple crawling\n",
      "Start Simple crawling :  http://domair.interpark.com/api/booking/airJourney.do\n",
      ">> Parameters\n",
      "chd:0 , format:json , inf:0 , depDate:20170820 , arr:CJU , dep:GMP , adt:1 , tripDivi:0 , airlineCode:ZE , \n"
     ]
    },
    {
     "name": "stderr",
     "output_type": "stream",
     "text": [
      "2017-08-09 08:02:10,600 root     DEBUG    Crawling Interpark domastic schedule site\n"
     ]
    },
    {
     "name": "stdout",
     "output_type": "stream",
     "text": [
      "End Simple crawling\n",
      "Start Simple crawling :  http://domair.interpark.com/api/booking/airJourney.do\n",
      ">> Parameters\n",
      "chd:0 , format:json , inf:0 , depDate:20170821 , arr:CJU , dep:GMP , adt:1 , tripDivi:0 , airlineCode:7C , \n"
     ]
    },
    {
     "name": "stderr",
     "output_type": "stream",
     "text": [
      "2017-08-09 08:02:16,853 root     DEBUG    Crawling Interpark domastic schedule site\n"
     ]
    },
    {
     "name": "stdout",
     "output_type": "stream",
     "text": [
      "End Simple crawling\n",
      "Start Simple crawling :  http://domair.interpark.com/api/booking/airJourney.do\n",
      ">> Parameters\n",
      "chd:0 , format:json , inf:0 , depDate:20170821 , arr:CJU , dep:GMP , adt:1 , tripDivi:0 , airlineCode:LJ , \n"
     ]
    },
    {
     "name": "stderr",
     "output_type": "stream",
     "text": [
      "2017-08-09 08:02:17,079 root     DEBUG    Crawling Interpark domastic schedule site\n"
     ]
    },
    {
     "name": "stdout",
     "output_type": "stream",
     "text": [
      "End Simple crawling\n",
      "Start Simple crawling :  http://domair.interpark.com/api/booking/airJourney.do\n",
      ">> Parameters\n",
      "chd:0 , format:json , inf:0 , depDate:20170821 , arr:CJU , dep:GMP , adt:1 , tripDivi:0 , airlineCode:TW , \n"
     ]
    },
    {
     "name": "stderr",
     "output_type": "stream",
     "text": [
      "2017-08-09 08:02:17,675 root     DEBUG    Crawling Interpark domastic schedule site\n"
     ]
    },
    {
     "name": "stdout",
     "output_type": "stream",
     "text": [
      "End Simple crawling\n",
      "Start Simple crawling :  http://domair.interpark.com/api/booking/airJourney.do\n",
      ">> Parameters\n",
      "chd:0 , format:json , inf:0 , depDate:20170821 , arr:CJU , dep:GMP , adt:1 , tripDivi:0 , airlineCode:ZE , \n"
     ]
    },
    {
     "name": "stderr",
     "output_type": "stream",
     "text": [
      "2017-08-09 08:02:18,781 root     DEBUG    Crawling Interpark domastic schedule site\n"
     ]
    },
    {
     "name": "stdout",
     "output_type": "stream",
     "text": [
      "End Simple crawling\n",
      "Start Simple crawling :  http://domair.interpark.com/api/booking/airJourney.do\n",
      ">> Parameters\n",
      "chd:0 , format:json , inf:0 , depDate:20170822 , arr:CJU , dep:GMP , adt:1 , tripDivi:0 , airlineCode:7C , \n"
     ]
    },
    {
     "name": "stderr",
     "output_type": "stream",
     "text": [
      "2017-08-09 08:02:21,670 root     DEBUG    Crawling Interpark domastic schedule site\n"
     ]
    },
    {
     "name": "stdout",
     "output_type": "stream",
     "text": [
      "End Simple crawling\n",
      "Start Simple crawling :  http://domair.interpark.com/api/booking/airJourney.do\n",
      ">> Parameters\n",
      "chd:0 , format:json , inf:0 , depDate:20170822 , arr:CJU , dep:GMP , adt:1 , tripDivi:0 , airlineCode:LJ , \n",
      "End Simple crawling"
     ]
    },
    {
     "name": "stderr",
     "output_type": "stream",
     "text": [
      "2017-08-09 08:02:21,881 root     DEBUG    Crawling Interpark domastic schedule site\n"
     ]
    },
    {
     "name": "stdout",
     "output_type": "stream",
     "text": [
      "\n",
      "Start Simple crawling :  http://domair.interpark.com/api/booking/airJourney.do\n",
      ">> Parameters\n",
      "chd:0 , format:json , inf:0 , depDate:20170822 , arr:CJU , dep:GMP , adt:1 , tripDivi:0 , airlineCode:TW , \n"
     ]
    },
    {
     "name": "stderr",
     "output_type": "stream",
     "text": [
      "2017-08-09 08:02:22,534 root     DEBUG    Crawling Interpark domastic schedule site\n"
     ]
    },
    {
     "name": "stdout",
     "output_type": "stream",
     "text": [
      "End Simple crawling\n",
      "Start Simple crawling :  http://domair.interpark.com/api/booking/airJourney.do\n",
      ">> Parameters\n",
      "chd:0 , format:json , inf:0 , depDate:20170822 , arr:CJU , dep:GMP , adt:1 , tripDivi:0 , airlineCode:ZE , \n"
     ]
    },
    {
     "name": "stderr",
     "output_type": "stream",
     "text": [
      "2017-08-09 08:02:23,740 root     DEBUG    Crawling Interpark domastic schedule site\n"
     ]
    },
    {
     "name": "stdout",
     "output_type": "stream",
     "text": [
      "End Simple crawling\n",
      "Start Simple crawling :  http://domair.interpark.com/api/booking/airJourney.do\n",
      ">> Parameters\n",
      "chd:0 , format:json , inf:0 , depDate:20170823 , arr:CJU , dep:GMP , adt:1 , tripDivi:0 , airlineCode:7C , \n"
     ]
    },
    {
     "name": "stderr",
     "output_type": "stream",
     "text": [
      "2017-08-09 08:02:26,354 root     DEBUG    Crawling Interpark domastic schedule site\n"
     ]
    },
    {
     "name": "stdout",
     "output_type": "stream",
     "text": [
      "End Simple crawling\n",
      "Start Simple crawling :  http://domair.interpark.com/api/booking/airJourney.do\n",
      ">> Parameters\n",
      "chd:0 , format:json , inf:0 , depDate:20170823 , arr:CJU , dep:GMP , adt:1 , tripDivi:0 , airlineCode:LJ , \n",
      "End Simple crawling\n"
     ]
    },
    {
     "name": "stderr",
     "output_type": "stream",
     "text": [
      "2017-08-09 08:02:26,552 root     DEBUG    Crawling Interpark domastic schedule site\n"
     ]
    },
    {
     "name": "stdout",
     "output_type": "stream",
     "text": [
      "Start Simple crawling :  http://domair.interpark.com/api/booking/airJourney.do\n",
      ">> Parameters\n",
      "chd:0 , format:json , inf:0 , depDate:20170823 , arr:CJU , dep:GMP , adt:1 , tripDivi:0 , airlineCode:TW , \n"
     ]
    },
    {
     "name": "stderr",
     "output_type": "stream",
     "text": [
      "2017-08-09 08:02:26,994 root     DEBUG    Crawling Interpark domastic schedule site\n"
     ]
    },
    {
     "name": "stdout",
     "output_type": "stream",
     "text": [
      "End Simple crawling\n",
      "Start Simple crawling :  http://domair.interpark.com/api/booking/airJourney.do\n",
      ">> Parameters\n",
      "chd:0 , format:json , inf:0 , depDate:20170823 , arr:CJU , dep:GMP , adt:1 , tripDivi:0 , airlineCode:ZE , \n"
     ]
    },
    {
     "name": "stderr",
     "output_type": "stream",
     "text": [
      "2017-08-09 08:02:28,151 root     DEBUG    Crawling Interpark domastic schedule site\n"
     ]
    },
    {
     "name": "stdout",
     "output_type": "stream",
     "text": [
      "End Simple crawling\n",
      "Start Simple crawling :  http://domair.interpark.com/api/booking/airJourney.do\n",
      ">> Parameters\n",
      "chd:0 , format:json , inf:0 , depDate:20170824 , arr:CJU , dep:GMP , adt:1 , tripDivi:0 , airlineCode:7C , \n"
     ]
    },
    {
     "name": "stderr",
     "output_type": "stream",
     "text": [
      "2017-08-09 08:02:30,344 root     DEBUG    Crawling Interpark domastic schedule site\n"
     ]
    },
    {
     "name": "stdout",
     "output_type": "stream",
     "text": [
      "End Simple crawling\n",
      "Start Simple crawling :  http://domair.interpark.com/api/booking/airJourney.do\n",
      ">> Parameters\n",
      "chd:0 , format:json , inf:0 , depDate:20170824 , arr:CJU , dep:GMP , adt:1 , tripDivi:0 , airlineCode:LJ , \n"
     ]
    },
    {
     "name": "stderr",
     "output_type": "stream",
     "text": [
      "2017-08-09 08:02:30,563 root     DEBUG    Crawling Interpark domastic schedule site\n"
     ]
    },
    {
     "name": "stdout",
     "output_type": "stream",
     "text": [
      "End Simple crawling\n",
      "Start Simple crawling :  http://domair.interpark.com/api/booking/airJourney.do\n",
      ">> Parameters\n",
      "chd:0 , format:json , inf:0 , depDate:20170824 , arr:CJU , dep:GMP , adt:1 , tripDivi:0 , airlineCode:TW , \n"
     ]
    },
    {
     "name": "stderr",
     "output_type": "stream",
     "text": [
      "2017-08-09 08:02:31,093 root     DEBUG    Crawling Interpark domastic schedule site\n"
     ]
    },
    {
     "name": "stdout",
     "output_type": "stream",
     "text": [
      "End Simple crawling\n",
      "Start Simple crawling :  http://domair.interpark.com/api/booking/airJourney.do\n",
      ">> Parameters\n",
      "chd:0 , format:json , inf:0 , depDate:20170824 , arr:CJU , dep:GMP , adt:1 , tripDivi:0 , airlineCode:ZE , \n"
     ]
    },
    {
     "name": "stderr",
     "output_type": "stream",
     "text": [
      "2017-08-09 08:02:32,267 root     DEBUG    Crawling Interpark domastic schedule site\n"
     ]
    },
    {
     "name": "stdout",
     "output_type": "stream",
     "text": [
      "End Simple crawling\n",
      "Start Simple crawling :  http://domair.interpark.com/api/booking/airJourney.do\n",
      ">> Parameters\n",
      "chd:0 , format:json , inf:0 , depDate:20170825 , arr:CJU , dep:GMP , adt:1 , tripDivi:0 , airlineCode:7C , \n"
     ]
    },
    {
     "name": "stderr",
     "output_type": "stream",
     "text": [
      "2017-08-09 08:02:34,172 root     DEBUG    Crawling Interpark domastic schedule site\n",
      "2017-08-09 08:02:34,341 root     DEBUG    Crawling Interpark domastic schedule site\n"
     ]
    },
    {
     "name": "stdout",
     "output_type": "stream",
     "text": [
      "End Simple crawling\n",
      "Start Simple crawling :  http://domair.interpark.com/api/booking/airJourney.do\n",
      ">> Parameters\n",
      "chd:0 , format:json , inf:0 , depDate:20170825 , arr:CJU , dep:GMP , adt:1 , tripDivi:0 , airlineCode:LJ , \n",
      "End Simple crawling\n",
      "Start Simple crawling :  http://domair.interpark.com/api/booking/airJourney.do\n",
      ">> Parameters\n",
      "chd:0 , format:json , inf:0 , depDate:20170825 , arr:CJU , dep:GMP , adt:1 , tripDivi:0 , airlineCode:TW , \n"
     ]
    },
    {
     "name": "stderr",
     "output_type": "stream",
     "text": [
      "2017-08-09 08:02:34,758 root     DEBUG    Crawling Interpark domastic schedule site\n"
     ]
    },
    {
     "name": "stdout",
     "output_type": "stream",
     "text": [
      "End Simple crawling\n",
      "Start Simple crawling :  http://domair.interpark.com/api/booking/airJourney.do\n",
      ">> Parameters\n",
      "chd:0 , format:json , inf:0 , depDate:20170825 , arr:CJU , dep:GMP , adt:1 , tripDivi:0 , airlineCode:ZE , \n"
     ]
    },
    {
     "name": "stderr",
     "output_type": "stream",
     "text": [
      "2017-08-09 08:02:36,072 root     DEBUG    Crawling Interpark domastic schedule site\n"
     ]
    },
    {
     "name": "stdout",
     "output_type": "stream",
     "text": [
      "End Simple crawling\n",
      "Start Simple crawling :  http://domair.interpark.com/api/booking/airJourney.do\n",
      ">> Parameters\n",
      "chd:0 , format:json , inf:0 , depDate:20170826 , arr:CJU , dep:GMP , adt:1 , tripDivi:0 , airlineCode:7C , \n"
     ]
    },
    {
     "name": "stderr",
     "output_type": "stream",
     "text": [
      "2017-08-09 08:02:38,122 root     DEBUG    Crawling Interpark domastic schedule site\n",
      "2017-08-09 08:02:38,287 root     DEBUG    Crawling Interpark domastic schedule site\n"
     ]
    },
    {
     "name": "stdout",
     "output_type": "stream",
     "text": [
      "End Simple crawling\n",
      "Start Simple crawling :  http://domair.interpark.com/api/booking/airJourney.do\n",
      ">> Parameters\n",
      "chd:0 , format:json , inf:0 , depDate:20170826 , arr:CJU , dep:GMP , adt:1 , tripDivi:0 , airlineCode:LJ , \n",
      "End Simple crawling\n",
      "Start Simple crawling :  http://domair.interpark.com/api/booking/airJourney.do\n",
      ">> Parameters\n",
      "chd:0 , format:json , inf:0 , depDate:20170826 , arr:CJU , dep:GMP , adt:1 , tripDivi:0 , airlineCode:TW , \n"
     ]
    },
    {
     "name": "stderr",
     "output_type": "stream",
     "text": [
      "2017-08-09 08:02:38,727 root     DEBUG    Crawling Interpark domastic schedule site\n"
     ]
    },
    {
     "name": "stdout",
     "output_type": "stream",
     "text": [
      "End Simple crawling\n",
      "Start Simple crawling :  http://domair.interpark.com/api/booking/airJourney.do\n",
      ">> Parameters\n",
      "chd:0 , format:json , inf:0 , depDate:20170826 , arr:CJU , dep:GMP , adt:1 , tripDivi:0 , airlineCode:ZE , \n"
     ]
    },
    {
     "name": "stderr",
     "output_type": "stream",
     "text": [
      "2017-08-09 08:02:39,972 root     DEBUG    Crawling Interpark domastic schedule site\n"
     ]
    },
    {
     "name": "stdout",
     "output_type": "stream",
     "text": [
      "End Simple crawling\n",
      "Start Simple crawling :  http://domair.interpark.com/api/booking/airJourney.do\n",
      ">> Parameters\n",
      "chd:0 , format:json , inf:0 , depDate:20170827 , arr:CJU , dep:GMP , adt:1 , tripDivi:0 , airlineCode:7C , \n"
     ]
    },
    {
     "name": "stderr",
     "output_type": "stream",
     "text": [
      "2017-08-09 08:02:42,110 root     DEBUG    Crawling Interpark domastic schedule site\n",
      "2017-08-09 08:02:42,277 root     DEBUG    Crawling Interpark domastic schedule site\n"
     ]
    },
    {
     "name": "stdout",
     "output_type": "stream",
     "text": [
      "End Simple crawling\n",
      "Start Simple crawling :  http://domair.interpark.com/api/booking/airJourney.do\n",
      ">> Parameters\n",
      "chd:0 , format:json , inf:0 , depDate:20170827 , arr:CJU , dep:GMP , adt:1 , tripDivi:0 , airlineCode:LJ , \n",
      "End Simple crawling\n",
      "Start Simple crawling :  http://domair.interpark.com/api/booking/airJourney.do\n",
      ">> Parameters\n",
      "chd:0 , format:json , inf:0 , depDate:20170827 , arr:CJU , dep:GMP , adt:1 , tripDivi:0 , airlineCode:TW , \n"
     ]
    },
    {
     "name": "stderr",
     "output_type": "stream",
     "text": [
      "2017-08-09 08:02:42,858 root     DEBUG    Crawling Interpark domastic schedule site\n"
     ]
    },
    {
     "name": "stdout",
     "output_type": "stream",
     "text": [
      "End Simple crawling\n",
      "Start Simple crawling :  http://domair.interpark.com/api/booking/airJourney.do\n",
      ">> Parameters\n",
      "chd:0 , format:json , inf:0 , depDate:20170827 , arr:CJU , dep:GMP , adt:1 , tripDivi:0 , airlineCode:ZE , \n"
     ]
    },
    {
     "name": "stderr",
     "output_type": "stream",
     "text": [
      "2017-08-09 08:02:43,980 root     DEBUG    Crawling Interpark domastic schedule site\n"
     ]
    },
    {
     "name": "stdout",
     "output_type": "stream",
     "text": [
      "End Simple crawling\n",
      "Start Simple crawling :  http://domair.interpark.com/api/booking/airJourney.do\n",
      ">> Parameters\n",
      "chd:0 , format:json , inf:0 , depDate:20170828 , arr:CJU , dep:GMP , adt:1 , tripDivi:0 , airlineCode:7C , \n"
     ]
    },
    {
     "name": "stderr",
     "output_type": "stream",
     "text": [
      "2017-08-09 08:02:48,270 root     DEBUG    Crawling Interpark domastic schedule site\n",
      "2017-08-09 08:02:48,440 root     DEBUG    Crawling Interpark domastic schedule site\n"
     ]
    },
    {
     "name": "stdout",
     "output_type": "stream",
     "text": [
      "End Simple crawling\n",
      "Start Simple crawling :  http://domair.interpark.com/api/booking/airJourney.do\n",
      ">> Parameters\n",
      "chd:0 , format:json , inf:0 , depDate:20170828 , arr:CJU , dep:GMP , adt:1 , tripDivi:0 , airlineCode:LJ , \n",
      "End Simple crawling\n",
      "Start Simple crawling :  http://domair.interpark.com/api/booking/airJourney.do\n",
      ">> Parameters\n",
      "chd:0 , format:json , inf:0 , depDate:20170828 , arr:CJU , dep:GMP , adt:1 , tripDivi:0 , airlineCode:TW , \n"
     ]
    },
    {
     "name": "stderr",
     "output_type": "stream",
     "text": [
      "2017-08-09 08:02:49,092 root     DEBUG    Crawling Interpark domastic schedule site\n"
     ]
    },
    {
     "name": "stdout",
     "output_type": "stream",
     "text": [
      "End Simple crawling\n",
      "Start Simple crawling :  http://domair.interpark.com/api/booking/airJourney.do\n",
      ">> Parameters\n",
      "chd:0 , format:json , inf:0 , depDate:20170828 , arr:CJU , dep:GMP , adt:1 , tripDivi:0 , airlineCode:ZE , \n"
     ]
    },
    {
     "name": "stderr",
     "output_type": "stream",
     "text": [
      "2017-08-09 08:02:50,393 root     DEBUG    Crawling Interpark domastic schedule site\n"
     ]
    },
    {
     "name": "stdout",
     "output_type": "stream",
     "text": [
      "End Simple crawling\n",
      "Start Simple crawling :  http://domair.interpark.com/api/booking/airJourney.do\n",
      ">> Parameters\n",
      "chd:0 , format:json , inf:0 , depDate:20170829 , arr:CJU , dep:GMP , adt:1 , tripDivi:0 , airlineCode:7C , \n"
     ]
    },
    {
     "name": "stderr",
     "output_type": "stream",
     "text": [
      "2017-08-09 08:02:57,323 root     DEBUG    Crawling Interpark domastic schedule site\n"
     ]
    },
    {
     "name": "stdout",
     "output_type": "stream",
     "text": [
      "End Simple crawling\n",
      "Start Simple crawling :  http://domair.interpark.com/api/booking/airJourney.do\n",
      ">> Parameters\n",
      "chd:0 , format:json , inf:0 , depDate:20170829 , arr:CJU , dep:GMP , adt:1 , tripDivi:0 , airlineCode:LJ , \n"
     ]
    },
    {
     "name": "stderr",
     "output_type": "stream",
     "text": [
      "2017-08-09 08:02:57,570 root     DEBUG    Crawling Interpark domastic schedule site\n"
     ]
    },
    {
     "name": "stdout",
     "output_type": "stream",
     "text": [
      "End Simple crawling\n",
      "Start Simple crawling :  http://domair.interpark.com/api/booking/airJourney.do\n",
      ">> Parameters\n",
      "chd:0 , format:json , inf:0 , depDate:20170829 , arr:CJU , dep:GMP , adt:1 , tripDivi:0 , airlineCode:TW , \n"
     ]
    },
    {
     "name": "stderr",
     "output_type": "stream",
     "text": [
      "2017-08-09 08:02:58,245 root     DEBUG    Crawling Interpark domastic schedule site\n"
     ]
    },
    {
     "name": "stdout",
     "output_type": "stream",
     "text": [
      "End Simple crawling\n",
      "Start Simple crawling :  http://domair.interpark.com/api/booking/airJourney.do\n",
      ">> Parameters\n",
      "chd:0 , format:json , inf:0 , depDate:20170829 , arr:CJU , dep:GMP , adt:1 , tripDivi:0 , airlineCode:ZE , \n"
     ]
    },
    {
     "name": "stderr",
     "output_type": "stream",
     "text": [
      "2017-08-09 08:02:59,536 root     DEBUG    Crawling Interpark domastic schedule site\n"
     ]
    },
    {
     "name": "stdout",
     "output_type": "stream",
     "text": [
      "End Simple crawling\n",
      "Start Simple crawling :  http://domair.interpark.com/api/booking/airJourney.do\n",
      ">> Parameters\n",
      "chd:0 , format:json , inf:0 , depDate:20170830 , arr:CJU , dep:GMP , adt:1 , tripDivi:0 , airlineCode:7C , \n"
     ]
    },
    {
     "name": "stderr",
     "output_type": "stream",
     "text": [
      "2017-08-09 08:03:02,121 root     DEBUG    Crawling Interpark domastic schedule site\n"
     ]
    },
    {
     "name": "stdout",
     "output_type": "stream",
     "text": [
      "End Simple crawling\n",
      "Start Simple crawling :  http://domair.interpark.com/api/booking/airJourney.do\n",
      ">> Parameters\n",
      "chd:0 , format:json , inf:0 , depDate:20170830 , arr:CJU , dep:GMP , adt:1 , tripDivi:0 , airlineCode:LJ , \n"
     ]
    },
    {
     "name": "stderr",
     "output_type": "stream",
     "text": [
      "2017-08-09 08:03:02,331 root     DEBUG    Crawling Interpark domastic schedule site\n"
     ]
    },
    {
     "name": "stdout",
     "output_type": "stream",
     "text": [
      "End Simple crawling\n",
      "Start Simple crawling :  http://domair.interpark.com/api/booking/airJourney.do\n",
      ">> Parameters\n",
      "chd:0 , format:json , inf:0 , depDate:20170830 , arr:CJU , dep:GMP , adt:1 , tripDivi:0 , airlineCode:TW , \n"
     ]
    },
    {
     "name": "stderr",
     "output_type": "stream",
     "text": [
      "2017-08-09 08:03:02,826 root     DEBUG    Crawling Interpark domastic schedule site\n"
     ]
    },
    {
     "name": "stdout",
     "output_type": "stream",
     "text": [
      "End Simple crawling\n",
      "Start Simple crawling :  http://domair.interpark.com/api/booking/airJourney.do\n",
      ">> Parameters\n",
      "chd:0 , format:json , inf:0 , depDate:20170830 , arr:CJU , dep:GMP , adt:1 , tripDivi:0 , airlineCode:ZE , \n"
     ]
    },
    {
     "name": "stderr",
     "output_type": "stream",
     "text": [
      "2017-08-09 08:03:04,100 root     DEBUG    Crawling Interpark domastic schedule site\n"
     ]
    },
    {
     "name": "stdout",
     "output_type": "stream",
     "text": [
      "End Simple crawling\n",
      "Start Simple crawling :  http://domair.interpark.com/api/booking/airJourney.do\n",
      ">> Parameters\n",
      "chd:0 , format:json , inf:0 , depDate:20170831 , arr:CJU , dep:GMP , adt:1 , tripDivi:0 , airlineCode:7C , \n"
     ]
    },
    {
     "name": "stderr",
     "output_type": "stream",
     "text": [
      "2017-08-09 08:03:06,051 root     DEBUG    Crawling Interpark domastic schedule site\n"
     ]
    },
    {
     "name": "stdout",
     "output_type": "stream",
     "text": [
      "End Simple crawling\n",
      "Start Simple crawling :  http://domair.interpark.com/api/booking/airJourney.do\n",
      ">> Parameters\n",
      "chd:0 , format:json , inf:0 , depDate:20170831 , arr:CJU , dep:GMP , adt:1 , tripDivi:0 , airlineCode:LJ , \n"
     ]
    },
    {
     "name": "stderr",
     "output_type": "stream",
     "text": [
      "2017-08-09 08:03:06,510 root     DEBUG    Crawling Interpark domastic schedule site\n"
     ]
    },
    {
     "name": "stdout",
     "output_type": "stream",
     "text": [
      "End Simple crawling\n",
      "Start Simple crawling :  http://domair.interpark.com/api/booking/airJourney.do\n",
      ">> Parameters\n",
      "chd:0 , format:json , inf:0 , depDate:20170831 , arr:CJU , dep:GMP , adt:1 , tripDivi:0 , airlineCode:TW , \n"
     ]
    },
    {
     "name": "stderr",
     "output_type": "stream",
     "text": [
      "2017-08-09 08:03:07,151 root     DEBUG    Crawling Interpark domastic schedule site\n"
     ]
    },
    {
     "name": "stdout",
     "output_type": "stream",
     "text": [
      "End Simple crawling\n",
      "Start Simple crawling :  http://domair.interpark.com/api/booking/airJourney.do\n",
      ">> Parameters\n",
      "chd:0 , format:json , inf:0 , depDate:20170831 , arr:CJU , dep:GMP , adt:1 , tripDivi:0 , airlineCode:ZE , \n"
     ]
    },
    {
     "name": "stderr",
     "output_type": "stream",
     "text": [
      "2017-08-09 08:03:08,351 root     DEBUG    Crawling Interpark domastic schedule site\n"
     ]
    },
    {
     "name": "stdout",
     "output_type": "stream",
     "text": [
      "End Simple crawling\n",
      "Start Simple crawling :  http://domair.interpark.com/api/booking/airJourney.do\n",
      ">> Parameters\n",
      "chd:0 , format:json , inf:0 , depDate:20170901 , arr:CJU , dep:GMP , adt:1 , tripDivi:0 , airlineCode:7C , \n"
     ]
    },
    {
     "name": "stderr",
     "output_type": "stream",
     "text": [
      "2017-08-09 08:03:13,198 root     DEBUG    Crawling Interpark domastic schedule site\n"
     ]
    },
    {
     "name": "stdout",
     "output_type": "stream",
     "text": [
      "End Simple crawling\n",
      "Start Simple crawling :  http://domair.interpark.com/api/booking/airJourney.do\n",
      ">> Parameters\n",
      "chd:0 , format:json , inf:0 , depDate:20170901 , arr:CJU , dep:GMP , adt:1 , tripDivi:0 , airlineCode:LJ , \n"
     ]
    },
    {
     "name": "stderr",
     "output_type": "stream",
     "text": [
      "2017-08-09 08:03:13,456 root     DEBUG    Crawling Interpark domastic schedule site\n"
     ]
    },
    {
     "name": "stdout",
     "output_type": "stream",
     "text": [
      "End Simple crawling\n",
      "Start Simple crawling :  http://domair.interpark.com/api/booking/airJourney.do\n",
      ">> Parameters\n",
      "chd:0 , format:json , inf:0 , depDate:20170901 , arr:CJU , dep:GMP , adt:1 , tripDivi:0 , airlineCode:TW , \n"
     ]
    },
    {
     "name": "stderr",
     "output_type": "stream",
     "text": [
      "2017-08-09 08:03:13,939 root     DEBUG    Crawling Interpark domastic schedule site\n"
     ]
    },
    {
     "name": "stdout",
     "output_type": "stream",
     "text": [
      "End Simple crawling\n",
      "Start Simple crawling :  http://domair.interpark.com/api/booking/airJourney.do\n",
      ">> Parameters\n",
      "chd:0 , format:json , inf:0 , depDate:20170901 , arr:CJU , dep:GMP , adt:1 , tripDivi:0 , airlineCode:ZE , \n"
     ]
    },
    {
     "name": "stderr",
     "output_type": "stream",
     "text": [
      "2017-08-09 08:03:15,177 root     DEBUG    Crawling Interpark domastic schedule site\n"
     ]
    },
    {
     "name": "stdout",
     "output_type": "stream",
     "text": [
      "End Simple crawling\n",
      "Start Simple crawling :  http://domair.interpark.com/api/booking/airJourney.do\n",
      ">> Parameters\n",
      "chd:0 , format:json , inf:0 , depDate:20170902 , arr:CJU , dep:GMP , adt:1 , tripDivi:0 , airlineCode:7C , \n"
     ]
    },
    {
     "name": "stderr",
     "output_type": "stream",
     "text": [
      "2017-08-09 08:03:17,262 root     DEBUG    Crawling Interpark domastic schedule site\n"
     ]
    },
    {
     "name": "stdout",
     "output_type": "stream",
     "text": [
      "End Simple crawling\n",
      "Start Simple crawling :  http://domair.interpark.com/api/booking/airJourney.do\n",
      ">> Parameters\n",
      "chd:0 , format:json , inf:0 , depDate:20170902 , arr:CJU , dep:GMP , adt:1 , tripDivi:0 , airlineCode:LJ , \n"
     ]
    },
    {
     "name": "stderr",
     "output_type": "stream",
     "text": [
      "2017-08-09 08:03:17,571 root     DEBUG    Crawling Interpark domastic schedule site\n"
     ]
    },
    {
     "name": "stdout",
     "output_type": "stream",
     "text": [
      "End Simple crawling\n",
      "Start Simple crawling :  http://domair.interpark.com/api/booking/airJourney.do\n",
      ">> Parameters\n",
      "chd:0 , format:json , inf:0 , depDate:20170902 , arr:CJU , dep:GMP , adt:1 , tripDivi:0 , airlineCode:TW , \n"
     ]
    },
    {
     "name": "stderr",
     "output_type": "stream",
     "text": [
      "2017-08-09 08:03:18,131 root     DEBUG    Crawling Interpark domastic schedule site\n"
     ]
    },
    {
     "name": "stdout",
     "output_type": "stream",
     "text": [
      "End Simple crawling\n",
      "Start Simple crawling :  http://domair.interpark.com/api/booking/airJourney.do\n",
      ">> Parameters\n",
      "chd:0 , format:json , inf:0 , depDate:20170902 , arr:CJU , dep:GMP , adt:1 , tripDivi:0 , airlineCode:ZE , \n"
     ]
    },
    {
     "name": "stderr",
     "output_type": "stream",
     "text": [
      "2017-08-09 08:03:19,411 root     DEBUG    Crawling Interpark domastic schedule site\n"
     ]
    },
    {
     "name": "stdout",
     "output_type": "stream",
     "text": [
      "End Simple crawling\n",
      "Start Simple crawling :  http://domair.interpark.com/api/booking/airJourney.do\n",
      ">> Parameters\n",
      "chd:0 , format:json , inf:0 , depDate:20170903 , arr:CJU , dep:GMP , adt:1 , tripDivi:0 , airlineCode:7C , \n"
     ]
    },
    {
     "name": "stderr",
     "output_type": "stream",
     "text": [
      "2017-08-09 08:03:21,915 root     DEBUG    Crawling Interpark domastic schedule site\n"
     ]
    },
    {
     "name": "stdout",
     "output_type": "stream",
     "text": [
      "End Simple crawling\n",
      "Start Simple crawling :  http://domair.interpark.com/api/booking/airJourney.do\n",
      ">> Parameters\n",
      "chd:0 , format:json , inf:0 , depDate:20170903 , arr:CJU , dep:GMP , adt:1 , tripDivi:0 , airlineCode:LJ , \n"
     ]
    },
    {
     "name": "stderr",
     "output_type": "stream",
     "text": [
      "2017-08-09 08:03:22,163 root     DEBUG    Crawling Interpark domastic schedule site\n"
     ]
    },
    {
     "name": "stdout",
     "output_type": "stream",
     "text": [
      "End Simple crawling\n",
      "Start Simple crawling :  http://domair.interpark.com/api/booking/airJourney.do\n",
      ">> Parameters\n",
      "chd:0 , format:json , inf:0 , depDate:20170903 , arr:CJU , dep:GMP , adt:1 , tripDivi:0 , airlineCode:TW , \n"
     ]
    },
    {
     "name": "stderr",
     "output_type": "stream",
     "text": [
      "2017-08-09 08:03:22,701 root     DEBUG    Crawling Interpark domastic schedule site\n"
     ]
    },
    {
     "name": "stdout",
     "output_type": "stream",
     "text": [
      "End Simple crawling\n",
      "Start Simple crawling :  http://domair.interpark.com/api/booking/airJourney.do\n",
      ">> Parameters\n",
      "chd:0 , format:json , inf:0 , depDate:20170903 , arr:CJU , dep:GMP , adt:1 , tripDivi:0 , airlineCode:ZE , \n"
     ]
    },
    {
     "name": "stderr",
     "output_type": "stream",
     "text": [
      "2017-08-09 08:03:23,943 root     DEBUG    Crawling Interpark domastic schedule site\n"
     ]
    },
    {
     "name": "stdout",
     "output_type": "stream",
     "text": [
      "End Simple crawling\n",
      "Start Simple crawling :  http://domair.interpark.com/api/booking/airJourney.do\n",
      ">> Parameters\n",
      "chd:0 , format:json , inf:0 , depDate:20170904 , arr:CJU , dep:GMP , adt:1 , tripDivi:0 , airlineCode:7C , \n"
     ]
    },
    {
     "name": "stderr",
     "output_type": "stream",
     "text": [
      "2017-08-09 08:03:27,631 root     DEBUG    Crawling Interpark domastic schedule site\n"
     ]
    },
    {
     "name": "stdout",
     "output_type": "stream",
     "text": [
      "End Simple crawling\n",
      "Start Simple crawling :  http://domair.interpark.com/api/booking/airJourney.do\n",
      ">> Parameters\n",
      "chd:0 , format:json , inf:0 , depDate:20170904 , arr:CJU , dep:GMP , adt:1 , tripDivi:0 , airlineCode:LJ , \n"
     ]
    },
    {
     "name": "stderr",
     "output_type": "stream",
     "text": [
      "2017-08-09 08:03:27,897 root     DEBUG    Crawling Interpark domastic schedule site\n"
     ]
    },
    {
     "name": "stdout",
     "output_type": "stream",
     "text": [
      "End Simple crawling\n",
      "Start Simple crawling :  http://domair.interpark.com/api/booking/airJourney.do\n",
      ">> Parameters\n",
      "chd:0 , format:json , inf:0 , depDate:20170904 , arr:CJU , dep:GMP , adt:1 , tripDivi:0 , airlineCode:TW , \n"
     ]
    },
    {
     "name": "stderr",
     "output_type": "stream",
     "text": [
      "2017-08-09 08:03:28,489 root     DEBUG    Crawling Interpark domastic schedule site\n"
     ]
    },
    {
     "name": "stdout",
     "output_type": "stream",
     "text": [
      "End Simple crawling\n",
      "Start Simple crawling :  http://domair.interpark.com/api/booking/airJourney.do\n",
      ">> Parameters\n",
      "chd:0 , format:json , inf:0 , depDate:20170904 , arr:CJU , dep:GMP , adt:1 , tripDivi:0 , airlineCode:ZE , \n"
     ]
    },
    {
     "name": "stderr",
     "output_type": "stream",
     "text": [
      "2017-08-09 08:03:29,809 root     DEBUG    Crawling Interpark domastic schedule site\n"
     ]
    },
    {
     "name": "stdout",
     "output_type": "stream",
     "text": [
      "End Simple crawling\n",
      "Start Simple crawling :  http://domair.interpark.com/api/booking/airJourney.do\n",
      ">> Parameters\n",
      "chd:0 , format:json , inf:0 , depDate:20170905 , arr:CJU , dep:GMP , adt:1 , tripDivi:0 , airlineCode:7C , \n"
     ]
    },
    {
     "name": "stderr",
     "output_type": "stream",
     "text": [
      "2017-08-09 08:03:31,953 root     DEBUG    Crawling Interpark domastic schedule site\n"
     ]
    },
    {
     "name": "stdout",
     "output_type": "stream",
     "text": [
      "End Simple crawling\n",
      "Start Simple crawling :  http://domair.interpark.com/api/booking/airJourney.do\n",
      ">> Parameters\n",
      "chd:0 , format:json , inf:0 , depDate:20170905 , arr:CJU , dep:GMP , adt:1 , tripDivi:0 , airlineCode:LJ , \n"
     ]
    },
    {
     "name": "stderr",
     "output_type": "stream",
     "text": [
      "2017-08-09 08:03:32,176 root     DEBUG    Crawling Interpark domastic schedule site\n"
     ]
    },
    {
     "name": "stdout",
     "output_type": "stream",
     "text": [
      "End Simple crawling\n",
      "Start Simple crawling :  http://domair.interpark.com/api/booking/airJourney.do\n",
      ">> Parameters\n",
      "chd:0 , format:json , inf:0 , depDate:20170905 , arr:CJU , dep:GMP , adt:1 , tripDivi:0 , airlineCode:TW , \n"
     ]
    },
    {
     "name": "stderr",
     "output_type": "stream",
     "text": [
      "2017-08-09 08:03:32,855 root     DEBUG    Crawling Interpark domastic schedule site\n"
     ]
    },
    {
     "name": "stdout",
     "output_type": "stream",
     "text": [
      "End Simple crawling\n",
      "Start Simple crawling :  http://domair.interpark.com/api/booking/airJourney.do\n",
      ">> Parameters\n",
      "chd:0 , format:json , inf:0 , depDate:20170905 , arr:CJU , dep:GMP , adt:1 , tripDivi:0 , airlineCode:ZE , \n"
     ]
    },
    {
     "name": "stderr",
     "output_type": "stream",
     "text": [
      "2017-08-09 08:03:34,169 root     DEBUG    Crawling Interpark domastic schedule site\n"
     ]
    },
    {
     "name": "stdout",
     "output_type": "stream",
     "text": [
      "End Simple crawling\n",
      "Start Simple crawling :  http://domair.interpark.com/api/booking/airJourney.do\n",
      ">> Parameters\n",
      "chd:0 , format:json , inf:0 , depDate:20170906 , arr:CJU , dep:GMP , adt:1 , tripDivi:0 , airlineCode:7C , \n"
     ]
    },
    {
     "name": "stderr",
     "output_type": "stream",
     "text": [
      "2017-08-09 08:03:36,310 root     DEBUG    Crawling Interpark domastic schedule site\n"
     ]
    },
    {
     "name": "stdout",
     "output_type": "stream",
     "text": [
      "End Simple crawling\n",
      "Start Simple crawling :  http://domair.interpark.com/api/booking/airJourney.do\n",
      ">> Parameters\n",
      "chd:0 , format:json , inf:0 , depDate:20170906 , arr:CJU , dep:GMP , adt:1 , tripDivi:0 , airlineCode:LJ , \n"
     ]
    },
    {
     "name": "stderr",
     "output_type": "stream",
     "text": [
      "2017-08-09 08:03:36,632 root     DEBUG    Crawling Interpark domastic schedule site\n"
     ]
    },
    {
     "name": "stdout",
     "output_type": "stream",
     "text": [
      "End Simple crawling\n",
      "Start Simple crawling :  http://domair.interpark.com/api/booking/airJourney.do\n",
      ">> Parameters\n",
      "chd:0 , format:json , inf:0 , depDate:20170906 , arr:CJU , dep:GMP , adt:1 , tripDivi:0 , airlineCode:TW , \n"
     ]
    },
    {
     "name": "stderr",
     "output_type": "stream",
     "text": [
      "2017-08-09 08:03:37,193 root     DEBUG    Crawling Interpark domastic schedule site\n"
     ]
    },
    {
     "name": "stdout",
     "output_type": "stream",
     "text": [
      "End Simple crawling\n",
      "Start Simple crawling :  http://domair.interpark.com/api/booking/airJourney.do\n",
      ">> Parameters\n",
      "chd:0 , format:json , inf:0 , depDate:20170906 , arr:CJU , dep:GMP , adt:1 , tripDivi:0 , airlineCode:ZE , \n"
     ]
    },
    {
     "name": "stderr",
     "output_type": "stream",
     "text": [
      "2017-08-09 08:03:38,469 root     DEBUG    Crawling Interpark domastic schedule site\n"
     ]
    },
    {
     "name": "stdout",
     "output_type": "stream",
     "text": [
      "End Simple crawling\n",
      "Start Simple crawling :  http://domair.interpark.com/api/booking/airJourney.do\n",
      ">> Parameters\n",
      "chd:0 , format:json , inf:0 , depDate:20170907 , arr:CJU , dep:GMP , adt:1 , tripDivi:0 , airlineCode:7C , \n"
     ]
    },
    {
     "name": "stderr",
     "output_type": "stream",
     "text": [
      "2017-08-09 08:03:44,053 root     DEBUG    Crawling Interpark domastic schedule site\n"
     ]
    },
    {
     "name": "stdout",
     "output_type": "stream",
     "text": [
      "End Simple crawling\n",
      "Start Simple crawling :  http://domair.interpark.com/api/booking/airJourney.do\n",
      ">> Parameters\n",
      "chd:0 , format:json , inf:0 , depDate:20170907 , arr:CJU , dep:GMP , adt:1 , tripDivi:0 , airlineCode:LJ , \n"
     ]
    },
    {
     "name": "stderr",
     "output_type": "stream",
     "text": [
      "2017-08-09 08:03:44,270 root     DEBUG    Crawling Interpark domastic schedule site\n"
     ]
    },
    {
     "name": "stdout",
     "output_type": "stream",
     "text": [
      "End Simple crawling\n",
      "Start Simple crawling :  http://domair.interpark.com/api/booking/airJourney.do\n",
      ">> Parameters\n",
      "chd:0 , format:json , inf:0 , depDate:20170907 , arr:CJU , dep:GMP , adt:1 , tripDivi:0 , airlineCode:TW , \n"
     ]
    },
    {
     "name": "stderr",
     "output_type": "stream",
     "text": [
      "2017-08-09 08:03:44,826 root     DEBUG    Crawling Interpark domastic schedule site\n"
     ]
    },
    {
     "name": "stdout",
     "output_type": "stream",
     "text": [
      "End Simple crawling\n",
      "Start Simple crawling :  http://domair.interpark.com/api/booking/airJourney.do\n",
      ">> Parameters\n",
      "chd:0 , format:json , inf:0 , depDate:20170907 , arr:CJU , dep:GMP , adt:1 , tripDivi:0 , airlineCode:ZE , \n"
     ]
    },
    {
     "name": "stderr",
     "output_type": "stream",
     "text": [
      "2017-08-09 08:03:46,281 root     DEBUG    Crawling Interpark domastic schedule site\n"
     ]
    },
    {
     "name": "stdout",
     "output_type": "stream",
     "text": [
      "End Simple crawling\n",
      "Start Simple crawling :  http://domair.interpark.com/api/booking/airJourney.do\n",
      ">> Parameters\n",
      "chd:0 , format:json , inf:0 , depDate:20170908 , arr:CJU , dep:GMP , adt:1 , tripDivi:0 , airlineCode:7C , \n"
     ]
    },
    {
     "name": "stderr",
     "output_type": "stream",
     "text": [
      "2017-08-09 08:03:48,547 root     DEBUG    Crawling Interpark domastic schedule site\n"
     ]
    },
    {
     "name": "stdout",
     "output_type": "stream",
     "text": [
      "End Simple crawling\n",
      "Start Simple crawling :  http://domair.interpark.com/api/booking/airJourney.do\n",
      ">> Parameters\n",
      "chd:0 , format:json , inf:0 , depDate:20170908 , arr:CJU , dep:GMP , adt:1 , tripDivi:0 , airlineCode:LJ , \n"
     ]
    },
    {
     "name": "stderr",
     "output_type": "stream",
     "text": [
      "2017-08-09 08:03:48,781 root     DEBUG    Crawling Interpark domastic schedule site\n"
     ]
    },
    {
     "name": "stdout",
     "output_type": "stream",
     "text": [
      "End Simple crawling\n",
      "Start Simple crawling :  http://domair.interpark.com/api/booking/airJourney.do\n",
      ">> Parameters\n",
      "chd:0 , format:json , inf:0 , depDate:20170908 , arr:CJU , dep:GMP , adt:1 , tripDivi:0 , airlineCode:TW , \n"
     ]
    },
    {
     "name": "stderr",
     "output_type": "stream",
     "text": [
      "2017-08-09 08:03:49,246 root     DEBUG    Crawling Interpark domastic schedule site\n"
     ]
    },
    {
     "name": "stdout",
     "output_type": "stream",
     "text": [
      "End Simple crawling\n",
      "Start Simple crawling :  http://domair.interpark.com/api/booking/airJourney.do\n",
      ">> Parameters\n",
      "chd:0 , format:json , inf:0 , depDate:20170908 , arr:CJU , dep:GMP , adt:1 , tripDivi:0 , airlineCode:ZE , \n"
     ]
    },
    {
     "name": "stderr",
     "output_type": "stream",
     "text": [
      "2017-08-09 08:03:50,514 root     DEBUG    Crawling Interpark domastic schedule site\n"
     ]
    },
    {
     "name": "stdout",
     "output_type": "stream",
     "text": [
      "End Simple crawling\n",
      "Start Simple crawling :  http://domair.interpark.com/api/booking/airJourney.do\n",
      ">> Parameters\n",
      "chd:0 , format:json , inf:0 , depDate:20170909 , arr:CJU , dep:GMP , adt:1 , tripDivi:0 , airlineCode:7C , \n"
     ]
    },
    {
     "name": "stderr",
     "output_type": "stream",
     "text": [
      "2017-08-09 08:03:54,222 root     DEBUG    Crawling Interpark domastic schedule site\n"
     ]
    },
    {
     "name": "stdout",
     "output_type": "stream",
     "text": [
      "End Simple crawling\n",
      "Start Simple crawling :  http://domair.interpark.com/api/booking/airJourney.do\n",
      ">> Parameters\n",
      "chd:0 , format:json , inf:0 , depDate:20170909 , arr:CJU , dep:GMP , adt:1 , tripDivi:0 , airlineCode:LJ , \n"
     ]
    },
    {
     "name": "stderr",
     "output_type": "stream",
     "text": [
      "2017-08-09 08:03:54,567 root     DEBUG    Crawling Interpark domastic schedule site\n"
     ]
    },
    {
     "name": "stdout",
     "output_type": "stream",
     "text": [
      "End Simple crawling\n",
      "Start Simple crawling :  http://domair.interpark.com/api/booking/airJourney.do\n",
      ">> Parameters\n",
      "chd:0 , format:json , inf:0 , depDate:20170909 , arr:CJU , dep:GMP , adt:1 , tripDivi:0 , airlineCode:TW , \n"
     ]
    },
    {
     "name": "stderr",
     "output_type": "stream",
     "text": [
      "2017-08-09 08:03:55,089 root     DEBUG    Crawling Interpark domastic schedule site\n"
     ]
    },
    {
     "name": "stdout",
     "output_type": "stream",
     "text": [
      "End Simple crawling\n",
      "Start Simple crawling :  http://domair.interpark.com/api/booking/airJourney.do\n",
      ">> Parameters\n",
      "chd:0 , format:json , inf:0 , depDate:20170909 , arr:CJU , dep:GMP , adt:1 , tripDivi:0 , airlineCode:ZE , \n"
     ]
    },
    {
     "name": "stderr",
     "output_type": "stream",
     "text": [
      "2017-08-09 08:03:56,408 root     DEBUG    Crawling Interpark domastic schedule site\n"
     ]
    },
    {
     "name": "stdout",
     "output_type": "stream",
     "text": [
      "End Simple crawling\n",
      "Start Simple crawling :  http://domair.interpark.com/api/booking/airJourney.do\n",
      ">> Parameters\n",
      "chd:0 , format:json , inf:0 , depDate:20170910 , arr:CJU , dep:GMP , adt:1 , tripDivi:0 , airlineCode:7C , \n"
     ]
    },
    {
     "name": "stderr",
     "output_type": "stream",
     "text": [
      "2017-08-09 08:03:58,927 root     DEBUG    Crawling Interpark domastic schedule site\n"
     ]
    },
    {
     "name": "stdout",
     "output_type": "stream",
     "text": [
      "End Simple crawling\n",
      "Start Simple crawling :  http://domair.interpark.com/api/booking/airJourney.do\n",
      ">> Parameters\n",
      "chd:0 , format:json , inf:0 , depDate:20170910 , arr:CJU , dep:GMP , adt:1 , tripDivi:0 , airlineCode:LJ , \n"
     ]
    },
    {
     "name": "stderr",
     "output_type": "stream",
     "text": [
      "2017-08-09 08:03:59,190 root     DEBUG    Crawling Interpark domastic schedule site\n"
     ]
    },
    {
     "name": "stdout",
     "output_type": "stream",
     "text": [
      "End Simple crawling\n",
      "Start Simple crawling :  http://domair.interpark.com/api/booking/airJourney.do\n",
      ">> Parameters\n",
      "chd:0 , format:json , inf:0 , depDate:20170910 , arr:CJU , dep:GMP , adt:1 , tripDivi:0 , airlineCode:TW , \n"
     ]
    },
    {
     "name": "stderr",
     "output_type": "stream",
     "text": [
      "2017-08-09 08:03:59,845 root     DEBUG    Crawling Interpark domastic schedule site\n"
     ]
    },
    {
     "name": "stdout",
     "output_type": "stream",
     "text": [
      "End Simple crawling\n",
      "Start Simple crawling :  http://domair.interpark.com/api/booking/airJourney.do\n",
      ">> Parameters\n",
      "chd:0 , format:json , inf:0 , depDate:20170910 , arr:CJU , dep:GMP , adt:1 , tripDivi:0 , airlineCode:ZE , \n"
     ]
    },
    {
     "name": "stderr",
     "output_type": "stream",
     "text": [
      "2017-08-09 08:04:01,091 root     DEBUG    Crawling Interpark domastic schedule site\n"
     ]
    },
    {
     "name": "stdout",
     "output_type": "stream",
     "text": [
      "End Simple crawling\n",
      "Start Simple crawling :  http://domair.interpark.com/api/booking/airJourney.do\n",
      ">> Parameters\n",
      "chd:0 , format:json , inf:0 , depDate:20170911 , arr:CJU , dep:GMP , adt:1 , tripDivi:0 , airlineCode:7C , \n"
     ]
    },
    {
     "name": "stderr",
     "output_type": "stream",
     "text": [
      "2017-08-09 08:04:05,028 root     DEBUG    Crawling Interpark domastic schedule site\n",
      "2017-08-09 08:04:05,181 root     DEBUG    Crawling Interpark domastic schedule site\n"
     ]
    },
    {
     "name": "stdout",
     "output_type": "stream",
     "text": [
      "End Simple crawling\n",
      "Start Simple crawling :  http://domair.interpark.com/api/booking/airJourney.do\n",
      ">> Parameters\n",
      "chd:0 , format:json , inf:0 , depDate:20170911 , arr:CJU , dep:GMP , adt:1 , tripDivi:0 , airlineCode:LJ , \n",
      "End Simple crawling\n",
      "Start Simple crawling :  http://domair.interpark.com/api/booking/airJourney.do\n",
      ">> Parameters\n",
      "chd:0 , format:json , inf:0 , depDate:20170911 , arr:CJU , dep:GMP , adt:1 , tripDivi:0 , airlineCode:TW , \n"
     ]
    },
    {
     "name": "stderr",
     "output_type": "stream",
     "text": [
      "2017-08-09 08:04:05,638 root     DEBUG    Crawling Interpark domastic schedule site\n"
     ]
    },
    {
     "name": "stdout",
     "output_type": "stream",
     "text": [
      "End Simple crawling\n",
      "Start Simple crawling :  http://domair.interpark.com/api/booking/airJourney.do\n",
      ">> Parameters\n",
      "chd:0 , format:json , inf:0 , depDate:20170911 , arr:CJU , dep:GMP , adt:1 , tripDivi:0 , airlineCode:ZE , \n"
     ]
    },
    {
     "name": "stderr",
     "output_type": "stream",
     "text": [
      "2017-08-09 08:04:07,031 root     DEBUG    Crawling Interpark domastic schedule site\n"
     ]
    },
    {
     "name": "stdout",
     "output_type": "stream",
     "text": [
      "End Simple crawling\n",
      "Start Simple crawling :  http://domair.interpark.com/api/booking/airJourney.do\n",
      ">> Parameters\n",
      "chd:0 , format:json , inf:0 , depDate:20170912 , arr:CJU , dep:GMP , adt:1 , tripDivi:0 , airlineCode:7C , \n"
     ]
    },
    {
     "name": "stderr",
     "output_type": "stream",
     "text": [
      "2017-08-09 08:04:11,231 root     DEBUG    Crawling Interpark domastic schedule site\n",
      "2017-08-09 08:04:11,410 root     DEBUG    Crawling Interpark domastic schedule site\n"
     ]
    },
    {
     "name": "stdout",
     "output_type": "stream",
     "text": [
      "End Simple crawling\n",
      "Start Simple crawling :  http://domair.interpark.com/api/booking/airJourney.do\n",
      ">> Parameters\n",
      "chd:0 , format:json , inf:0 , depDate:20170912 , arr:CJU , dep:GMP , adt:1 , tripDivi:0 , airlineCode:LJ , \n",
      "End Simple crawling\n",
      "Start Simple crawling :  http://domair.interpark.com/api/booking/airJourney.do\n",
      ">> Parameters\n",
      "chd:0 , format:json , inf:0 , depDate:20170912 , arr:CJU , dep:GMP , adt:1 , tripDivi:0 , airlineCode:TW , \n"
     ]
    },
    {
     "name": "stderr",
     "output_type": "stream",
     "text": [
      "2017-08-09 08:04:11,879 root     DEBUG    Crawling Interpark domastic schedule site\n"
     ]
    },
    {
     "name": "stdout",
     "output_type": "stream",
     "text": [
      "End Simple crawling\n",
      "Start Simple crawling :  http://domair.interpark.com/api/booking/airJourney.do\n",
      ">> Parameters\n",
      "chd:0 , format:json , inf:0 , depDate:20170912 , arr:CJU , dep:GMP , adt:1 , tripDivi:0 , airlineCode:ZE , \n"
     ]
    },
    {
     "name": "stderr",
     "output_type": "stream",
     "text": [
      "2017-08-09 08:04:13,117 root     DEBUG    Crawling Interpark domastic schedule site\n"
     ]
    },
    {
     "name": "stdout",
     "output_type": "stream",
     "text": [
      "End Simple crawling\n",
      "Start Simple crawling :  http://domair.interpark.com/api/booking/airJourney.do\n",
      ">> Parameters\n",
      "chd:0 , format:json , inf:0 , depDate:20170913 , arr:CJU , dep:GMP , adt:1 , tripDivi:0 , airlineCode:7C , \n"
     ]
    },
    {
     "name": "stderr",
     "output_type": "stream",
     "text": [
      "2017-08-09 08:04:15,004 root     DEBUG    Crawling Interpark domastic schedule site\n"
     ]
    },
    {
     "name": "stdout",
     "output_type": "stream",
     "text": [
      "End Simple crawling\n",
      "Start Simple crawling :  http://domair.interpark.com/api/booking/airJourney.do\n",
      ">> Parameters\n",
      "chd:0 , format:json , inf:0 , depDate:20170913 , arr:CJU , dep:GMP , adt:1 , tripDivi:0 , airlineCode:LJ , \n"
     ]
    },
    {
     "name": "stderr",
     "output_type": "stream",
     "text": [
      "2017-08-09 08:04:15,406 root     DEBUG    Crawling Interpark domastic schedule site\n"
     ]
    },
    {
     "name": "stdout",
     "output_type": "stream",
     "text": [
      "End Simple crawling\n",
      "Start Simple crawling :  http://domair.interpark.com/api/booking/airJourney.do\n",
      ">> Parameters\n",
      "chd:0 , format:json , inf:0 , depDate:20170913 , arr:CJU , dep:GMP , adt:1 , tripDivi:0 , airlineCode:TW , \n"
     ]
    },
    {
     "name": "stderr",
     "output_type": "stream",
     "text": [
      "2017-08-09 08:04:15,970 root     DEBUG    Crawling Interpark domastic schedule site\n"
     ]
    },
    {
     "name": "stdout",
     "output_type": "stream",
     "text": [
      "End Simple crawling\n",
      "Start Simple crawling :  http://domair.interpark.com/api/booking/airJourney.do\n",
      ">> Parameters\n",
      "chd:0 , format:json , inf:0 , depDate:20170913 , arr:CJU , dep:GMP , adt:1 , tripDivi:0 , airlineCode:ZE , \n"
     ]
    },
    {
     "name": "stderr",
     "output_type": "stream",
     "text": [
      "2017-08-09 08:04:17,278 root     DEBUG    Crawling Interpark domastic schedule site\n"
     ]
    },
    {
     "name": "stdout",
     "output_type": "stream",
     "text": [
      "End Simple crawling\n",
      "Start Simple crawling :  http://domair.interpark.com/api/booking/airJourney.do\n",
      ">> Parameters\n",
      "chd:0 , format:json , inf:0 , depDate:20170914 , arr:CJU , dep:GMP , adt:1 , tripDivi:0 , airlineCode:7C , \n"
     ]
    },
    {
     "name": "stderr",
     "output_type": "stream",
     "text": [
      "2017-08-09 08:04:19,370 root     DEBUG    Crawling Interpark domastic schedule site\n"
     ]
    },
    {
     "name": "stdout",
     "output_type": "stream",
     "text": [
      "End Simple crawling\n",
      "Start Simple crawling :  http://domair.interpark.com/api/booking/airJourney.do\n",
      ">> Parameters\n",
      "chd:0 , format:json , inf:0 , depDate:20170914 , arr:CJU , dep:GMP , adt:1 , tripDivi:0 , airlineCode:LJ , \n"
     ]
    },
    {
     "name": "stderr",
     "output_type": "stream",
     "text": [
      "2017-08-09 08:04:19,599 root     DEBUG    Crawling Interpark domastic schedule site\n"
     ]
    },
    {
     "name": "stdout",
     "output_type": "stream",
     "text": [
      "End Simple crawling\n",
      "Start Simple crawling :  http://domair.interpark.com/api/booking/airJourney.do\n",
      ">> Parameters\n",
      "chd:0 , format:json , inf:0 , depDate:20170914 , arr:CJU , dep:GMP , adt:1 , tripDivi:0 , airlineCode:TW , \n"
     ]
    },
    {
     "name": "stderr",
     "output_type": "stream",
     "text": [
      "2017-08-09 08:04:20,171 root     DEBUG    Crawling Interpark domastic schedule site\n"
     ]
    },
    {
     "name": "stdout",
     "output_type": "stream",
     "text": [
      "End Simple crawling\n",
      "Start Simple crawling :  http://domair.interpark.com/api/booking/airJourney.do\n",
      ">> Parameters\n",
      "chd:0 , format:json , inf:0 , depDate:20170914 , arr:CJU , dep:GMP , adt:1 , tripDivi:0 , airlineCode:ZE , \n"
     ]
    },
    {
     "name": "stderr",
     "output_type": "stream",
     "text": [
      "2017-08-09 08:04:21,457 root     DEBUG    Crawling Interpark domastic schedule site\n"
     ]
    },
    {
     "name": "stdout",
     "output_type": "stream",
     "text": [
      "End Simple crawling\n",
      "Start Simple crawling :  http://domair.interpark.com/api/booking/airJourney.do\n",
      ">> Parameters\n",
      "chd:0 , format:json , inf:0 , depDate:20170915 , arr:CJU , dep:GMP , adt:1 , tripDivi:0 , airlineCode:7C , \n"
     ]
    },
    {
     "name": "stderr",
     "output_type": "stream",
     "text": [
      "2017-08-09 08:04:24,039 root     DEBUG    Crawling Interpark domastic schedule site\n"
     ]
    },
    {
     "name": "stdout",
     "output_type": "stream",
     "text": [
      "End Simple crawling\n",
      "Start Simple crawling :  http://domair.interpark.com/api/booking/airJourney.do\n",
      ">> Parameters\n",
      "chd:0 , format:json , inf:0 , depDate:20170915 , arr:CJU , dep:GMP , adt:1 , tripDivi:0 , airlineCode:LJ , \n"
     ]
    },
    {
     "name": "stderr",
     "output_type": "stream",
     "text": [
      "2017-08-09 08:04:24,316 root     DEBUG    Crawling Interpark domastic schedule site\n"
     ]
    },
    {
     "name": "stdout",
     "output_type": "stream",
     "text": [
      "End Simple crawling\n",
      "Start Simple crawling :  http://domair.interpark.com/api/booking/airJourney.do\n",
      ">> Parameters\n",
      "chd:0 , format:json , inf:0 , depDate:20170915 , arr:CJU , dep:GMP , adt:1 , tripDivi:0 , airlineCode:TW , \n"
     ]
    },
    {
     "name": "stderr",
     "output_type": "stream",
     "text": [
      "2017-08-09 08:04:24,777 root     DEBUG    Crawling Interpark domastic schedule site\n"
     ]
    },
    {
     "name": "stdout",
     "output_type": "stream",
     "text": [
      "End Simple crawling\n",
      "Start Simple crawling :  http://domair.interpark.com/api/booking/airJourney.do\n",
      ">> Parameters\n",
      "chd:0 , format:json , inf:0 , depDate:20170915 , arr:CJU , dep:GMP , adt:1 , tripDivi:0 , airlineCode:ZE , \n"
     ]
    },
    {
     "name": "stderr",
     "output_type": "stream",
     "text": [
      "2017-08-09 08:04:25,953 root     DEBUG    Crawling Interpark domastic schedule site\n"
     ]
    },
    {
     "name": "stdout",
     "output_type": "stream",
     "text": [
      "End Simple crawling\n",
      "Start Simple crawling :  http://domair.interpark.com/api/booking/airJourney.do\n",
      ">> Parameters\n",
      "chd:0 , format:json , inf:0 , depDate:20170916 , arr:CJU , dep:GMP , adt:1 , tripDivi:0 , airlineCode:7C , \n"
     ]
    },
    {
     "name": "stderr",
     "output_type": "stream",
     "text": [
      "2017-08-09 08:04:28,669 root     DEBUG    Crawling Interpark domastic schedule site\n"
     ]
    },
    {
     "name": "stdout",
     "output_type": "stream",
     "text": [
      "End Simple crawling\n",
      "Start Simple crawling :  http://domair.interpark.com/api/booking/airJourney.do\n",
      ">> Parameters\n",
      "chd:0 , format:json , inf:0 , depDate:20170916 , arr:CJU , dep:GMP , adt:1 , tripDivi:0 , airlineCode:LJ , \n"
     ]
    },
    {
     "name": "stderr",
     "output_type": "stream",
     "text": [
      "2017-08-09 08:04:29,060 root     DEBUG    Crawling Interpark domastic schedule site\n"
     ]
    },
    {
     "name": "stdout",
     "output_type": "stream",
     "text": [
      "End Simple crawling\n",
      "Start Simple crawling :  http://domair.interpark.com/api/booking/airJourney.do\n",
      ">> Parameters\n",
      "chd:0 , format:json , inf:0 , depDate:20170916 , arr:CJU , dep:GMP , adt:1 , tripDivi:0 , airlineCode:TW , \n"
     ]
    },
    {
     "name": "stderr",
     "output_type": "stream",
     "text": [
      "2017-08-09 08:04:29,743 root     DEBUG    Crawling Interpark domastic schedule site\n"
     ]
    },
    {
     "name": "stdout",
     "output_type": "stream",
     "text": [
      "End Simple crawling\n",
      "Start Simple crawling :  http://domair.interpark.com/api/booking/airJourney.do\n",
      ">> Parameters\n",
      "chd:0 , format:json , inf:0 , depDate:20170916 , arr:CJU , dep:GMP , adt:1 , tripDivi:0 , airlineCode:ZE , \n"
     ]
    },
    {
     "name": "stderr",
     "output_type": "stream",
     "text": [
      "2017-08-09 08:04:31,065 root     DEBUG    Crawling Interpark domastic schedule site\n"
     ]
    },
    {
     "name": "stdout",
     "output_type": "stream",
     "text": [
      "End Simple crawling\n",
      "Start Simple crawling :  http://domair.interpark.com/api/booking/airJourney.do\n",
      ">> Parameters\n",
      "chd:0 , format:json , inf:0 , depDate:20170917 , arr:CJU , dep:GMP , adt:1 , tripDivi:0 , airlineCode:7C , \n"
     ]
    },
    {
     "name": "stderr",
     "output_type": "stream",
     "text": [
      "2017-08-09 08:04:34,239 root     DEBUG    Crawling Interpark domastic schedule site\n",
      "2017-08-09 08:04:34,418 root     DEBUG    Crawling Interpark domastic schedule site\n"
     ]
    },
    {
     "name": "stdout",
     "output_type": "stream",
     "text": [
      "End Simple crawling\n",
      "Start Simple crawling :  http://domair.interpark.com/api/booking/airJourney.do\n",
      ">> Parameters\n",
      "chd:0 , format:json , inf:0 , depDate:20170917 , arr:CJU , dep:GMP , adt:1 , tripDivi:0 , airlineCode:LJ , \n",
      "End Simple crawling\n",
      "Start Simple crawling :  http://domair.interpark.com/api/booking/airJourney.do\n",
      ">> Parameters\n",
      "chd:0 , format:json , inf:0 , depDate:20170917 , arr:CJU , dep:GMP , adt:1 , tripDivi:0 , airlineCode:TW , \n"
     ]
    },
    {
     "name": "stderr",
     "output_type": "stream",
     "text": [
      "2017-08-09 08:04:34,916 root     DEBUG    Crawling Interpark domastic schedule site\n"
     ]
    },
    {
     "name": "stdout",
     "output_type": "stream",
     "text": [
      "End Simple crawling\n",
      "Start Simple crawling :  http://domair.interpark.com/api/booking/airJourney.do\n",
      ">> Parameters\n",
      "chd:0 , format:json , inf:0 , depDate:20170917 , arr:CJU , dep:GMP , adt:1 , tripDivi:0 , airlineCode:ZE , \n"
     ]
    },
    {
     "name": "stderr",
     "output_type": "stream",
     "text": [
      "2017-08-09 08:04:36,178 root     DEBUG    Crawling Interpark domastic schedule site\n"
     ]
    },
    {
     "name": "stdout",
     "output_type": "stream",
     "text": [
      "End Simple crawling\n",
      "Start Simple crawling :  http://domair.interpark.com/api/booking/airJourney.do\n",
      ">> Parameters\n",
      "chd:0 , format:json , inf:0 , depDate:20170918 , arr:CJU , dep:GMP , adt:1 , tripDivi:0 , airlineCode:7C , \n"
     ]
    },
    {
     "name": "stderr",
     "output_type": "stream",
     "text": [
      "2017-08-09 08:04:38,116 root     DEBUG    Crawling Interpark domastic schedule site\n"
     ]
    },
    {
     "name": "stdout",
     "output_type": "stream",
     "text": [
      "End Simple crawling\n",
      "Start Simple crawling :  http://domair.interpark.com/api/booking/airJourney.do\n",
      ">> Parameters\n",
      "chd:0 , format:json , inf:0 , depDate:20170918 , arr:CJU , dep:GMP , adt:1 , tripDivi:0 , airlineCode:LJ , \n"
     ]
    },
    {
     "name": "stderr",
     "output_type": "stream",
     "text": [
      "2017-08-09 08:04:38,361 root     DEBUG    Crawling Interpark domastic schedule site\n"
     ]
    },
    {
     "name": "stdout",
     "output_type": "stream",
     "text": [
      "End Simple crawling\n",
      "Start Simple crawling :  http://domair.interpark.com/api/booking/airJourney.do\n",
      ">> Parameters\n",
      "chd:0 , format:json , inf:0 , depDate:20170918 , arr:CJU , dep:GMP , adt:1 , tripDivi:0 , airlineCode:TW , \n"
     ]
    },
    {
     "name": "stderr",
     "output_type": "stream",
     "text": [
      "2017-08-09 08:04:38,844 root     DEBUG    Crawling Interpark domastic schedule site\n"
     ]
    },
    {
     "name": "stdout",
     "output_type": "stream",
     "text": [
      "End Simple crawling\n",
      "Start Simple crawling :  http://domair.interpark.com/api/booking/airJourney.do\n",
      ">> Parameters\n",
      "chd:0 , format:json , inf:0 , depDate:20170918 , arr:CJU , dep:GMP , adt:1 , tripDivi:0 , airlineCode:ZE , \n"
     ]
    },
    {
     "name": "stderr",
     "output_type": "stream",
     "text": [
      "2017-08-09 08:04:40,198 root     DEBUG    Crawling Interpark domastic schedule site\n"
     ]
    },
    {
     "name": "stdout",
     "output_type": "stream",
     "text": [
      "End Simple crawling\n",
      "Start Simple crawling :  http://domair.interpark.com/api/booking/airJourney.do\n",
      ">> Parameters\n",
      "chd:0 , format:json , inf:0 , depDate:20170919 , arr:CJU , dep:GMP , adt:1 , tripDivi:0 , airlineCode:7C , \n"
     ]
    },
    {
     "name": "stderr",
     "output_type": "stream",
     "text": [
      "2017-08-09 08:04:44,687 root     DEBUG    Crawling Interpark domastic schedule site\n"
     ]
    },
    {
     "name": "stdout",
     "output_type": "stream",
     "text": [
      "End Simple crawling\n",
      "Start Simple crawling :  http://domair.interpark.com/api/booking/airJourney.do\n",
      ">> Parameters\n",
      "chd:0 , format:json , inf:0 , depDate:20170919 , arr:CJU , dep:GMP , adt:1 , tripDivi:0 , airlineCode:LJ , \n"
     ]
    },
    {
     "name": "stderr",
     "output_type": "stream",
     "text": [
      "2017-08-09 08:04:44,993 root     DEBUG    Crawling Interpark domastic schedule site\n"
     ]
    },
    {
     "name": "stdout",
     "output_type": "stream",
     "text": [
      "End Simple crawling\n",
      "Start Simple crawling :  http://domair.interpark.com/api/booking/airJourney.do\n",
      ">> Parameters\n",
      "chd:0 , format:json , inf:0 , depDate:20170919 , arr:CJU , dep:GMP , adt:1 , tripDivi:0 , airlineCode:TW , \n"
     ]
    },
    {
     "name": "stderr",
     "output_type": "stream",
     "text": [
      "2017-08-09 08:04:45,667 root     DEBUG    Crawling Interpark domastic schedule site\n"
     ]
    },
    {
     "name": "stdout",
     "output_type": "stream",
     "text": [
      "End Simple crawling\n",
      "Start Simple crawling :  http://domair.interpark.com/api/booking/airJourney.do\n",
      ">> Parameters\n",
      "chd:0 , format:json , inf:0 , depDate:20170919 , arr:CJU , dep:GMP , adt:1 , tripDivi:0 , airlineCode:ZE , \n"
     ]
    },
    {
     "name": "stderr",
     "output_type": "stream",
     "text": [
      "2017-08-09 08:04:46,977 root     DEBUG    Crawling Interpark domastic schedule site\n"
     ]
    },
    {
     "name": "stdout",
     "output_type": "stream",
     "text": [
      "End Simple crawling\n",
      "Start Simple crawling :  http://domair.interpark.com/api/booking/airJourney.do\n",
      ">> Parameters\n",
      "chd:0 , format:json , inf:0 , depDate:20170920 , arr:CJU , dep:GMP , adt:1 , tripDivi:0 , airlineCode:7C , \n"
     ]
    },
    {
     "name": "stderr",
     "output_type": "stream",
     "text": [
      "2017-08-09 08:04:49,927 root     DEBUG    Crawling Interpark domastic schedule site\n"
     ]
    },
    {
     "name": "stdout",
     "output_type": "stream",
     "text": [
      "End Simple crawling\n",
      "Start Simple crawling :  http://domair.interpark.com/api/booking/airJourney.do\n",
      ">> Parameters\n",
      "chd:0 , format:json , inf:0 , depDate:20170920 , arr:CJU , dep:GMP , adt:1 , tripDivi:0 , airlineCode:LJ , \n"
     ]
    },
    {
     "name": "stderr",
     "output_type": "stream",
     "text": [
      "2017-08-09 08:04:50,149 root     DEBUG    Crawling Interpark domastic schedule site\n"
     ]
    },
    {
     "name": "stdout",
     "output_type": "stream",
     "text": [
      "End Simple crawling\n",
      "Start Simple crawling :  http://domair.interpark.com/api/booking/airJourney.do\n",
      ">> Parameters\n",
      "chd:0 , format:json , inf:0 , depDate:20170920 , arr:CJU , dep:GMP , adt:1 , tripDivi:0 , airlineCode:TW , \n"
     ]
    },
    {
     "name": "stderr",
     "output_type": "stream",
     "text": [
      "2017-08-09 08:04:50,762 root     DEBUG    Crawling Interpark domastic schedule site\n"
     ]
    },
    {
     "name": "stdout",
     "output_type": "stream",
     "text": [
      "End Simple crawling\n",
      "Start Simple crawling :  http://domair.interpark.com/api/booking/airJourney.do\n",
      ">> Parameters\n",
      "chd:0 , format:json , inf:0 , depDate:20170920 , arr:CJU , dep:GMP , adt:1 , tripDivi:0 , airlineCode:ZE , \n"
     ]
    },
    {
     "name": "stderr",
     "output_type": "stream",
     "text": [
      "2017-08-09 08:04:52,119 root     DEBUG    Crawling Interpark domastic schedule site\n"
     ]
    },
    {
     "name": "stdout",
     "output_type": "stream",
     "text": [
      "End Simple crawling\n",
      "Start Simple crawling :  http://domair.interpark.com/api/booking/airJourney.do\n",
      ">> Parameters\n",
      "chd:0 , format:json , inf:0 , depDate:20170921 , arr:CJU , dep:GMP , adt:1 , tripDivi:0 , airlineCode:7C , \n"
     ]
    },
    {
     "name": "stderr",
     "output_type": "stream",
     "text": [
      "2017-08-09 08:04:55,812 root     DEBUG    Crawling Interpark domastic schedule site\n"
     ]
    },
    {
     "name": "stdout",
     "output_type": "stream",
     "text": [
      "End Simple crawling\n",
      "Start Simple crawling :  http://domair.interpark.com/api/booking/airJourney.do\n",
      ">> Parameters\n",
      "chd:0 , format:json , inf:0 , depDate:20170921 , arr:CJU , dep:GMP , adt:1 , tripDivi:0 , airlineCode:LJ , \n"
     ]
    },
    {
     "name": "stderr",
     "output_type": "stream",
     "text": [
      "2017-08-09 08:04:56,178 root     DEBUG    Crawling Interpark domastic schedule site\n"
     ]
    },
    {
     "name": "stdout",
     "output_type": "stream",
     "text": [
      "End Simple crawling\n",
      "Start Simple crawling :  http://domair.interpark.com/api/booking/airJourney.do\n",
      ">> Parameters\n",
      "chd:0 , format:json , inf:0 , depDate:20170921 , arr:CJU , dep:GMP , adt:1 , tripDivi:0 , airlineCode:TW , \n"
     ]
    },
    {
     "name": "stderr",
     "output_type": "stream",
     "text": [
      "2017-08-09 08:04:56,648 root     DEBUG    Crawling Interpark domastic schedule site\n"
     ]
    },
    {
     "name": "stdout",
     "output_type": "stream",
     "text": [
      "End Simple crawling\n",
      "Start Simple crawling :  http://domair.interpark.com/api/booking/airJourney.do\n",
      ">> Parameters\n",
      "chd:0 , format:json , inf:0 , depDate:20170921 , arr:CJU , dep:GMP , adt:1 , tripDivi:0 , airlineCode:ZE , \n"
     ]
    },
    {
     "name": "stderr",
     "output_type": "stream",
     "text": [
      "2017-08-09 08:04:57,906 root     DEBUG    Crawling Interpark domastic schedule site\n"
     ]
    },
    {
     "name": "stdout",
     "output_type": "stream",
     "text": [
      "End Simple crawling\n",
      "Start Simple crawling :  http://domair.interpark.com/api/booking/airJourney.do\n",
      ">> Parameters\n",
      "chd:0 , format:json , inf:0 , depDate:20170922 , arr:CJU , dep:GMP , adt:1 , tripDivi:0 , airlineCode:7C , \n"
     ]
    },
    {
     "name": "stderr",
     "output_type": "stream",
     "text": [
      "2017-08-09 08:05:00,293 root     DEBUG    Crawling Interpark domastic schedule site\n"
     ]
    },
    {
     "name": "stdout",
     "output_type": "stream",
     "text": [
      "End Simple crawling\n",
      "Start Simple crawling :  http://domair.interpark.com/api/booking/airJourney.do\n",
      ">> Parameters\n",
      "chd:0 , format:json , inf:0 , depDate:20170922 , arr:CJU , dep:GMP , adt:1 , tripDivi:0 , airlineCode:LJ , \n"
     ]
    },
    {
     "name": "stderr",
     "output_type": "stream",
     "text": [
      "2017-08-09 08:05:00,529 root     DEBUG    Crawling Interpark domastic schedule site\n"
     ]
    },
    {
     "name": "stdout",
     "output_type": "stream",
     "text": [
      "End Simple crawling\n",
      "Start Simple crawling :  http://domair.interpark.com/api/booking/airJourney.do\n",
      ">> Parameters\n",
      "chd:0 , format:json , inf:0 , depDate:20170922 , arr:CJU , dep:GMP , adt:1 , tripDivi:0 , airlineCode:TW , \n"
     ]
    },
    {
     "name": "stderr",
     "output_type": "stream",
     "text": [
      "2017-08-09 08:05:01,056 root     DEBUG    Crawling Interpark domastic schedule site\n"
     ]
    },
    {
     "name": "stdout",
     "output_type": "stream",
     "text": [
      "End Simple crawling\n",
      "Start Simple crawling :  http://domair.interpark.com/api/booking/airJourney.do\n",
      ">> Parameters\n",
      "chd:0 , format:json , inf:0 , depDate:20170922 , arr:CJU , dep:GMP , adt:1 , tripDivi:0 , airlineCode:ZE , \n"
     ]
    },
    {
     "name": "stderr",
     "output_type": "stream",
     "text": [
      "2017-08-09 08:05:02,278 root     DEBUG    Crawling Interpark domastic schedule site\n"
     ]
    },
    {
     "name": "stdout",
     "output_type": "stream",
     "text": [
      "End Simple crawling\n",
      "Start Simple crawling :  http://domair.interpark.com/api/booking/airJourney.do\n",
      ">> Parameters\n",
      "chd:0 , format:json , inf:0 , depDate:20170923 , arr:CJU , dep:GMP , adt:1 , tripDivi:0 , airlineCode:7C , \n"
     ]
    },
    {
     "name": "stderr",
     "output_type": "stream",
     "text": [
      "2017-08-09 08:05:04,329 root     DEBUG    Crawling Interpark domastic schedule site\n"
     ]
    },
    {
     "name": "stdout",
     "output_type": "stream",
     "text": [
      "End Simple crawling\n",
      "Start Simple crawling :  http://domair.interpark.com/api/booking/airJourney.do\n",
      ">> Parameters\n",
      "chd:0 , format:json , inf:0 , depDate:20170923 , arr:CJU , dep:GMP , adt:1 , tripDivi:0 , airlineCode:LJ , \n"
     ]
    },
    {
     "name": "stderr",
     "output_type": "stream",
     "text": [
      "2017-08-09 08:05:04,563 root     DEBUG    Crawling Interpark domastic schedule site\n"
     ]
    },
    {
     "name": "stdout",
     "output_type": "stream",
     "text": [
      "End Simple crawling\n",
      "Start Simple crawling :  http://domair.interpark.com/api/booking/airJourney.do\n",
      ">> Parameters\n",
      "chd:0 , format:json , inf:0 , depDate:20170923 , arr:CJU , dep:GMP , adt:1 , tripDivi:0 , airlineCode:TW , \n"
     ]
    },
    {
     "name": "stderr",
     "output_type": "stream",
     "text": [
      "2017-08-09 08:05:05,229 root     DEBUG    Crawling Interpark domastic schedule site\n"
     ]
    },
    {
     "name": "stdout",
     "output_type": "stream",
     "text": [
      "End Simple crawling\n",
      "Start Simple crawling :  http://domair.interpark.com/api/booking/airJourney.do\n",
      ">> Parameters\n",
      "chd:0 , format:json , inf:0 , depDate:20170923 , arr:CJU , dep:GMP , adt:1 , tripDivi:0 , airlineCode:ZE , \n"
     ]
    },
    {
     "name": "stderr",
     "output_type": "stream",
     "text": [
      "2017-08-09 08:05:06,487 root     DEBUG    Crawling Interpark domastic schedule site\n"
     ]
    },
    {
     "name": "stdout",
     "output_type": "stream",
     "text": [
      "End Simple crawling\n",
      "Start Simple crawling :  http://domair.interpark.com/api/booking/airJourney.do\n",
      ">> Parameters\n",
      "chd:0 , format:json , inf:0 , depDate:20170924 , arr:CJU , dep:GMP , adt:1 , tripDivi:0 , airlineCode:7C , \n"
     ]
    },
    {
     "name": "stderr",
     "output_type": "stream",
     "text": [
      "2017-08-09 08:05:08,580 root     DEBUG    Crawling Interpark domastic schedule site\n"
     ]
    },
    {
     "name": "stdout",
     "output_type": "stream",
     "text": [
      "End Simple crawling\n",
      "Start Simple crawling :  http://domair.interpark.com/api/booking/airJourney.do\n",
      ">> Parameters\n",
      "chd:0 , format:json , inf:0 , depDate:20170924 , arr:CJU , dep:GMP , adt:1 , tripDivi:0 , airlineCode:LJ , \n"
     ]
    },
    {
     "name": "stderr",
     "output_type": "stream",
     "text": [
      "2017-08-09 08:05:08,977 root     DEBUG    Crawling Interpark domastic schedule site\n"
     ]
    },
    {
     "name": "stdout",
     "output_type": "stream",
     "text": [
      "End Simple crawling\n",
      "Start Simple crawling :  http://domair.interpark.com/api/booking/airJourney.do\n",
      ">> Parameters\n",
      "chd:0 , format:json , inf:0 , depDate:20170924 , arr:CJU , dep:GMP , adt:1 , tripDivi:0 , airlineCode:TW , \n"
     ]
    },
    {
     "name": "stderr",
     "output_type": "stream",
     "text": [
      "2017-08-09 08:05:09,471 root     DEBUG    Crawling Interpark domastic schedule site\n"
     ]
    },
    {
     "name": "stdout",
     "output_type": "stream",
     "text": [
      "End Simple crawling\n",
      "Start Simple crawling :  http://domair.interpark.com/api/booking/airJourney.do\n",
      ">> Parameters\n",
      "chd:0 , format:json , inf:0 , depDate:20170924 , arr:CJU , dep:GMP , adt:1 , tripDivi:0 , airlineCode:ZE , \n"
     ]
    },
    {
     "name": "stderr",
     "output_type": "stream",
     "text": [
      "2017-08-09 08:05:10,794 root     DEBUG    Crawling Interpark domastic schedule site\n"
     ]
    },
    {
     "name": "stdout",
     "output_type": "stream",
     "text": [
      "End Simple crawling\n",
      "Start Simple crawling :  http://domair.interpark.com/api/booking/airJourney.do\n",
      ">> Parameters\n",
      "chd:0 , format:json , inf:0 , depDate:20170925 , arr:CJU , dep:GMP , adt:1 , tripDivi:0 , airlineCode:7C , \n"
     ]
    },
    {
     "name": "stderr",
     "output_type": "stream",
     "text": [
      "2017-08-09 08:05:12,945 root     DEBUG    Crawling Interpark domastic schedule site\n"
     ]
    },
    {
     "name": "stdout",
     "output_type": "stream",
     "text": [
      "End Simple crawling\n",
      "Start Simple crawling :  http://domair.interpark.com/api/booking/airJourney.do\n",
      ">> Parameters\n",
      "chd:0 , format:json , inf:0 , depDate:20170925 , arr:CJU , dep:GMP , adt:1 , tripDivi:0 , airlineCode:LJ , \n"
     ]
    },
    {
     "name": "stderr",
     "output_type": "stream",
     "text": [
      "2017-08-09 08:05:13,291 root     DEBUG    Crawling Interpark domastic schedule site\n"
     ]
    },
    {
     "name": "stdout",
     "output_type": "stream",
     "text": [
      "End Simple crawling\n",
      "Start Simple crawling :  http://domair.interpark.com/api/booking/airJourney.do\n",
      ">> Parameters\n",
      "chd:0 , format:json , inf:0 , depDate:20170925 , arr:CJU , dep:GMP , adt:1 , tripDivi:0 , airlineCode:TW , \n"
     ]
    },
    {
     "name": "stderr",
     "output_type": "stream",
     "text": [
      "2017-08-09 08:05:13,902 root     DEBUG    Crawling Interpark domastic schedule site\n"
     ]
    },
    {
     "name": "stdout",
     "output_type": "stream",
     "text": [
      "End Simple crawling\n",
      "Start Simple crawling :  http://domair.interpark.com/api/booking/airJourney.do\n",
      ">> Parameters\n",
      "chd:0 , format:json , inf:0 , depDate:20170925 , arr:CJU , dep:GMP , adt:1 , tripDivi:0 , airlineCode:ZE , \n"
     ]
    },
    {
     "name": "stderr",
     "output_type": "stream",
     "text": [
      "2017-08-09 08:05:15,302 root     DEBUG    Crawling Interpark domastic schedule site\n"
     ]
    },
    {
     "name": "stdout",
     "output_type": "stream",
     "text": [
      "End Simple crawling\n",
      "Start Simple crawling :  http://domair.interpark.com/api/booking/airJourney.do\n",
      ">> Parameters\n",
      "chd:0 , format:json , inf:0 , depDate:20170926 , arr:CJU , dep:GMP , adt:1 , tripDivi:0 , airlineCode:7C , \n"
     ]
    },
    {
     "name": "stderr",
     "output_type": "stream",
     "text": [
      "2017-08-09 08:05:17,429 root     DEBUG    Crawling Interpark domastic schedule site\n"
     ]
    },
    {
     "name": "stdout",
     "output_type": "stream",
     "text": [
      "End Simple crawling\n",
      "Start Simple crawling :  http://domair.interpark.com/api/booking/airJourney.do\n",
      ">> Parameters\n",
      "chd:0 , format:json , inf:0 , depDate:20170926 , arr:CJU , dep:GMP , adt:1 , tripDivi:0 , airlineCode:LJ , \n"
     ]
    },
    {
     "name": "stderr",
     "output_type": "stream",
     "text": [
      "2017-08-09 08:05:17,648 root     DEBUG    Crawling Interpark domastic schedule site\n"
     ]
    },
    {
     "name": "stdout",
     "output_type": "stream",
     "text": [
      "End Simple crawling\n",
      "Start Simple crawling :  http://domair.interpark.com/api/booking/airJourney.do\n",
      ">> Parameters\n",
      "chd:0 , format:json , inf:0 , depDate:20170926 , arr:CJU , dep:GMP , adt:1 , tripDivi:0 , airlineCode:TW , \n"
     ]
    },
    {
     "name": "stderr",
     "output_type": "stream",
     "text": [
      "2017-08-09 08:05:18,298 root     DEBUG    Crawling Interpark domastic schedule site\n"
     ]
    },
    {
     "name": "stdout",
     "output_type": "stream",
     "text": [
      "End Simple crawling\n",
      "Start Simple crawling :  http://domair.interpark.com/api/booking/airJourney.do\n",
      ">> Parameters\n",
      "chd:0 , format:json , inf:0 , depDate:20170926 , arr:CJU , dep:GMP , adt:1 , tripDivi:0 , airlineCode:ZE , \n"
     ]
    },
    {
     "name": "stderr",
     "output_type": "stream",
     "text": [
      "2017-08-09 08:05:19,596 root     DEBUG    Crawling Interpark domastic schedule site\n"
     ]
    },
    {
     "name": "stdout",
     "output_type": "stream",
     "text": [
      "End Simple crawling\n",
      "Start Simple crawling :  http://domair.interpark.com/api/booking/airJourney.do\n",
      ">> Parameters\n",
      "chd:0 , format:json , inf:0 , depDate:20170927 , arr:CJU , dep:GMP , adt:1 , tripDivi:0 , airlineCode:7C , \n"
     ]
    },
    {
     "name": "stderr",
     "output_type": "stream",
     "text": [
      "2017-08-09 08:05:22,201 root     DEBUG    Crawling Interpark domastic schedule site\n",
      "2017-08-09 08:05:22,378 root     DEBUG    Crawling Interpark domastic schedule site\n"
     ]
    },
    {
     "name": "stdout",
     "output_type": "stream",
     "text": [
      "End Simple crawling\n",
      "Start Simple crawling :  http://domair.interpark.com/api/booking/airJourney.do\n",
      ">> Parameters\n",
      "chd:0 , format:json , inf:0 , depDate:20170927 , arr:CJU , dep:GMP , adt:1 , tripDivi:0 , airlineCode:LJ , \n",
      "End Simple crawling\n",
      "Start Simple crawling :  http://domair.interpark.com/api/booking/airJourney.do\n",
      ">> Parameters\n",
      "chd:0 , format:json , inf:0 , depDate:20170927 , arr:CJU , dep:GMP , adt:1 , tripDivi:0 , airlineCode:TW , \n"
     ]
    },
    {
     "name": "stderr",
     "output_type": "stream",
     "text": [
      "2017-08-09 08:05:22,886 root     DEBUG    Crawling Interpark domastic schedule site\n"
     ]
    },
    {
     "name": "stdout",
     "output_type": "stream",
     "text": [
      "End Simple crawling\n",
      "Start Simple crawling :  http://domair.interpark.com/api/booking/airJourney.do\n",
      ">> Parameters\n",
      "chd:0 , format:json , inf:0 , depDate:20170927 , arr:CJU , dep:GMP , adt:1 , tripDivi:0 , airlineCode:ZE , \n"
     ]
    },
    {
     "name": "stderr",
     "output_type": "stream",
     "text": [
      "2017-08-09 08:05:24,185 root     DEBUG    Crawling Interpark domastic schedule site\n"
     ]
    },
    {
     "name": "stdout",
     "output_type": "stream",
     "text": [
      "End Simple crawling\n",
      "Start Simple crawling :  http://domair.interpark.com/api/booking/airJourney.do\n",
      ">> Parameters\n",
      "chd:0 , format:json , inf:0 , depDate:20170928 , arr:CJU , dep:GMP , adt:1 , tripDivi:0 , airlineCode:7C , \n"
     ]
    },
    {
     "name": "stderr",
     "output_type": "stream",
     "text": [
      "2017-08-09 08:05:29,815 root     DEBUG    Crawling Interpark domastic schedule site\n"
     ]
    },
    {
     "name": "stdout",
     "output_type": "stream",
     "text": [
      "End Simple crawling\n",
      "Start Simple crawling :  http://domair.interpark.com/api/booking/airJourney.do\n",
      ">> Parameters\n",
      "chd:0 , format:json , inf:0 , depDate:20170928 , arr:CJU , dep:GMP , adt:1 , tripDivi:0 , airlineCode:LJ , \n"
     ]
    },
    {
     "name": "stderr",
     "output_type": "stream",
     "text": [
      "2017-08-09 08:05:30,076 root     DEBUG    Crawling Interpark domastic schedule site\n"
     ]
    },
    {
     "name": "stdout",
     "output_type": "stream",
     "text": [
      "End Simple crawling\n",
      "Start Simple crawling :  http://domair.interpark.com/api/booking/airJourney.do\n",
      ">> Parameters\n",
      "chd:0 , format:json , inf:0 , depDate:20170928 , arr:CJU , dep:GMP , adt:1 , tripDivi:0 , airlineCode:TW , \n"
     ]
    },
    {
     "name": "stderr",
     "output_type": "stream",
     "text": [
      "2017-08-09 08:05:30,696 root     DEBUG    Crawling Interpark domastic schedule site\n"
     ]
    },
    {
     "name": "stdout",
     "output_type": "stream",
     "text": [
      "End Simple crawling\n",
      "Start Simple crawling :  http://domair.interpark.com/api/booking/airJourney.do\n",
      ">> Parameters\n",
      "chd:0 , format:json , inf:0 , depDate:20170928 , arr:CJU , dep:GMP , adt:1 , tripDivi:0 , airlineCode:ZE , \n"
     ]
    },
    {
     "name": "stderr",
     "output_type": "stream",
     "text": [
      "2017-08-09 08:05:31,918 root     DEBUG    Crawling Interpark domastic schedule site\n"
     ]
    },
    {
     "name": "stdout",
     "output_type": "stream",
     "text": [
      "End Simple crawling\n",
      "Start Simple crawling :  http://domair.interpark.com/api/booking/airJourney.do\n",
      ">> Parameters\n",
      "chd:0 , format:json , inf:0 , depDate:20170929 , arr:CJU , dep:GMP , adt:1 , tripDivi:0 , airlineCode:7C , \n"
     ]
    },
    {
     "name": "stderr",
     "output_type": "stream",
     "text": [
      "2017-08-09 08:05:35,748 root     DEBUG    Crawling Interpark domastic schedule site\n"
     ]
    },
    {
     "name": "stdout",
     "output_type": "stream",
     "text": [
      "End Simple crawling\n",
      "Start Simple crawling :  http://domair.interpark.com/api/booking/airJourney.do\n",
      ">> Parameters\n",
      "chd:0 , format:json , inf:0 , depDate:20170929 , arr:CJU , dep:GMP , adt:1 , tripDivi:0 , airlineCode:LJ , \n"
     ]
    },
    {
     "name": "stderr",
     "output_type": "stream",
     "text": [
      "2017-08-09 08:05:36,000 root     DEBUG    Crawling Interpark domastic schedule site\n"
     ]
    },
    {
     "name": "stdout",
     "output_type": "stream",
     "text": [
      "End Simple crawling\n",
      "Start Simple crawling :  http://domair.interpark.com/api/booking/airJourney.do\n",
      ">> Parameters\n",
      "chd:0 , format:json , inf:0 , depDate:20170929 , arr:CJU , dep:GMP , adt:1 , tripDivi:0 , airlineCode:TW , \n"
     ]
    },
    {
     "name": "stderr",
     "output_type": "stream",
     "text": [
      "2017-08-09 08:05:36,515 root     DEBUG    Crawling Interpark domastic schedule site\n"
     ]
    },
    {
     "name": "stdout",
     "output_type": "stream",
     "text": [
      "End Simple crawling\n",
      "Start Simple crawling :  http://domair.interpark.com/api/booking/airJourney.do\n",
      ">> Parameters\n",
      "chd:0 , format:json , inf:0 , depDate:20170929 , arr:CJU , dep:GMP , adt:1 , tripDivi:0 , airlineCode:ZE , \n"
     ]
    },
    {
     "name": "stderr",
     "output_type": "stream",
     "text": [
      "2017-08-09 08:05:37,683 root     DEBUG    Crawling Interpark domastic schedule site\n"
     ]
    },
    {
     "name": "stdout",
     "output_type": "stream",
     "text": [
      "End Simple crawling\n",
      "Start Simple crawling :  http://domair.interpark.com/api/booking/airJourney.do\n",
      ">> Parameters\n",
      "chd:0 , format:json , inf:0 , depDate:20170930 , arr:CJU , dep:GMP , adt:1 , tripDivi:0 , airlineCode:7C , \n"
     ]
    },
    {
     "name": "stderr",
     "output_type": "stream",
     "text": [
      "2017-08-09 08:05:38,805 root     DEBUG    Crawling Interpark domastic schedule site\n"
     ]
    },
    {
     "name": "stdout",
     "output_type": "stream",
     "text": [
      "End Simple crawling\n",
      "Start Simple crawling :  http://domair.interpark.com/api/booking/airJourney.do\n",
      ">> Parameters\n",
      "chd:0 , format:json , inf:0 , depDate:20170930 , arr:CJU , dep:GMP , adt:1 , tripDivi:0 , airlineCode:LJ , \n"
     ]
    },
    {
     "name": "stderr",
     "output_type": "stream",
     "text": [
      "2017-08-09 08:05:39,167 root     DEBUG    Crawling Interpark domastic schedule site\n"
     ]
    },
    {
     "name": "stdout",
     "output_type": "stream",
     "text": [
      "End Simple crawling\n",
      "Start Simple crawling :  http://domair.interpark.com/api/booking/airJourney.do\n",
      ">> Parameters\n",
      "chd:0 , format:json , inf:0 , depDate:20170930 , arr:CJU , dep:GMP , adt:1 , tripDivi:0 , airlineCode:TW , \n"
     ]
    },
    {
     "name": "stderr",
     "output_type": "stream",
     "text": [
      "2017-08-09 08:05:39,764 root     DEBUG    Crawling Interpark domastic schedule site\n"
     ]
    },
    {
     "name": "stdout",
     "output_type": "stream",
     "text": [
      "End Simple crawling\n",
      "Start Simple crawling :  http://domair.interpark.com/api/booking/airJourney.do\n",
      ">> Parameters\n",
      "chd:0 , format:json , inf:0 , depDate:20170930 , arr:CJU , dep:GMP , adt:1 , tripDivi:0 , airlineCode:ZE , \n"
     ]
    },
    {
     "name": "stderr",
     "output_type": "stream",
     "text": [
      "2017-08-09 08:05:40,839 root     DEBUG    Crawling Interpark domastic schedule site\n"
     ]
    },
    {
     "name": "stdout",
     "output_type": "stream",
     "text": [
      "End Simple crawling\n",
      "Start Simple crawling :  http://domair.interpark.com/api/booking/airJourney.do\n",
      ">> Parameters\n",
      "chd:0 , format:json , inf:0 , depDate:20171001 , arr:CJU , dep:GMP , adt:1 , tripDivi:0 , airlineCode:7C , \n"
     ]
    },
    {
     "name": "stderr",
     "output_type": "stream",
     "text": [
      "2017-08-09 08:05:42,207 root     DEBUG    Crawling Interpark domastic schedule site\n"
     ]
    },
    {
     "name": "stdout",
     "output_type": "stream",
     "text": [
      "End Simple crawling\n",
      "Start Simple crawling :  http://domair.interpark.com/api/booking/airJourney.do\n",
      ">> Parameters\n",
      "chd:0 , format:json , inf:0 , depDate:20171001 , arr:CJU , dep:GMP , adt:1 , tripDivi:0 , airlineCode:LJ , \n"
     ]
    },
    {
     "name": "stderr",
     "output_type": "stream",
     "text": [
      "2017-08-09 08:05:42,577 root     DEBUG    Crawling Interpark domastic schedule site\n"
     ]
    },
    {
     "name": "stdout",
     "output_type": "stream",
     "text": [
      "End Simple crawling\n",
      "Start Simple crawling :  http://domair.interpark.com/api/booking/airJourney.do\n",
      ">> Parameters\n",
      "chd:0 , format:json , inf:0 , depDate:20171001 , arr:CJU , dep:GMP , adt:1 , tripDivi:0 , airlineCode:TW , \n"
     ]
    },
    {
     "name": "stderr",
     "output_type": "stream",
     "text": [
      "2017-08-09 08:05:42,966 root     DEBUG    Crawling Interpark domastic schedule site\n"
     ]
    },
    {
     "name": "stdout",
     "output_type": "stream",
     "text": [
      "End Simple crawling\n",
      "Start Simple crawling :  http://domair.interpark.com/api/booking/airJourney.do\n",
      ">> Parameters\n",
      "chd:0 , format:json , inf:0 , depDate:20171001 , arr:CJU , dep:GMP , adt:1 , tripDivi:0 , airlineCode:ZE , \n"
     ]
    },
    {
     "name": "stderr",
     "output_type": "stream",
     "text": [
      "2017-08-09 08:05:44,167 root     DEBUG    Crawling Interpark domastic schedule site\n"
     ]
    },
    {
     "name": "stdout",
     "output_type": "stream",
     "text": [
      "End Simple crawling\n",
      "Start Simple crawling :  http://domair.interpark.com/api/booking/airJourney.do\n",
      ">> Parameters\n",
      "chd:0 , format:json , inf:0 , depDate:20171002 , arr:CJU , dep:GMP , adt:1 , tripDivi:0 , airlineCode:7C , \n"
     ]
    },
    {
     "name": "stderr",
     "output_type": "stream",
     "text": [
      "2017-08-09 08:05:45,310 root     DEBUG    Crawling Interpark domastic schedule site\n",
      "2017-08-09 08:05:45,456 root     DEBUG    Crawling Interpark domastic schedule site\n"
     ]
    },
    {
     "name": "stdout",
     "output_type": "stream",
     "text": [
      "End Simple crawling\n",
      "Start Simple crawling :  http://domair.interpark.com/api/booking/airJourney.do\n",
      ">> Parameters\n",
      "chd:0 , format:json , inf:0 , depDate:20171002 , arr:CJU , dep:GMP , adt:1 , tripDivi:0 , airlineCode:LJ , \n",
      "End Simple crawling\n",
      "Start Simple crawling :  http://domair.interpark.com/api/booking/airJourney.do\n",
      ">> Parameters\n",
      "chd:0 , format:json , inf:0 , depDate:20171002 , arr:CJU , dep:GMP , adt:1 , tripDivi:0 , airlineCode:TW , \n"
     ]
    },
    {
     "name": "stderr",
     "output_type": "stream",
     "text": [
      "2017-08-09 08:05:45,794 root     DEBUG    Crawling Interpark domastic schedule site\n"
     ]
    },
    {
     "name": "stdout",
     "output_type": "stream",
     "text": [
      "End Simple crawling\n",
      "Start Simple crawling :  http://domair.interpark.com/api/booking/airJourney.do\n",
      ">> Parameters\n",
      "chd:0 , format:json , inf:0 , depDate:20171002 , arr:CJU , dep:GMP , adt:1 , tripDivi:0 , airlineCode:ZE , \n"
     ]
    },
    {
     "name": "stderr",
     "output_type": "stream",
     "text": [
      "2017-08-09 08:05:46,872 root     DEBUG    Crawling Interpark domastic schedule site\n"
     ]
    },
    {
     "name": "stdout",
     "output_type": "stream",
     "text": [
      "End Simple crawling\n",
      "Start Simple crawling :  http://domair.interpark.com/api/booking/airJourney.do\n",
      ">> Parameters\n",
      "chd:0 , format:json , inf:0 , depDate:20171003 , arr:CJU , dep:GMP , adt:1 , tripDivi:0 , airlineCode:7C , \n"
     ]
    },
    {
     "name": "stderr",
     "output_type": "stream",
     "text": [
      "2017-08-09 08:05:48,007 root     DEBUG    Crawling Interpark domastic schedule site\n",
      "2017-08-09 08:05:48,176 root     DEBUG    Crawling Interpark domastic schedule site\n"
     ]
    },
    {
     "name": "stdout",
     "output_type": "stream",
     "text": [
      "End Simple crawling\n",
      "Start Simple crawling :  http://domair.interpark.com/api/booking/airJourney.do\n",
      ">> Parameters\n",
      "chd:0 , format:json , inf:0 , depDate:20171003 , arr:CJU , dep:GMP , adt:1 , tripDivi:0 , airlineCode:LJ , \n",
      "End Simple crawling\n",
      "Start Simple crawling :  http://domair.interpark.com/api/booking/airJourney.do\n",
      ">> Parameters\n",
      "chd:0 , format:json , inf:0 , depDate:20171003 , arr:CJU , dep:GMP , adt:1 , tripDivi:0 , airlineCode:TW , \n"
     ]
    },
    {
     "name": "stderr",
     "output_type": "stream",
     "text": [
      "2017-08-09 08:05:48,530 root     DEBUG    Crawling Interpark domastic schedule site\n"
     ]
    },
    {
     "name": "stdout",
     "output_type": "stream",
     "text": [
      "End Simple crawling\n",
      "Start Simple crawling :  http://domair.interpark.com/api/booking/airJourney.do\n",
      ">> Parameters\n",
      "chd:0 , format:json , inf:0 , depDate:20171003 , arr:CJU , dep:GMP , adt:1 , tripDivi:0 , airlineCode:ZE , \n"
     ]
    },
    {
     "name": "stderr",
     "output_type": "stream",
     "text": [
      "2017-08-09 08:05:49,621 root     DEBUG    Crawling Interpark domastic schedule site\n"
     ]
    },
    {
     "name": "stdout",
     "output_type": "stream",
     "text": [
      "End Simple crawling\n",
      "Start Simple crawling :  http://domair.interpark.com/api/booking/airJourney.do\n",
      ">> Parameters\n",
      "chd:0 , format:json , inf:0 , depDate:20171004 , arr:CJU , dep:GMP , adt:1 , tripDivi:0 , airlineCode:7C , \n"
     ]
    },
    {
     "name": "stderr",
     "output_type": "stream",
     "text": [
      "2017-08-09 08:06:00,393 root     DEBUG    Crawling Interpark domastic schedule site\n"
     ]
    },
    {
     "name": "stdout",
     "output_type": "stream",
     "text": [
      "End Simple crawling\n",
      "Start Simple crawling :  http://domair.interpark.com/api/booking/airJourney.do\n",
      ">> Parameters\n",
      "chd:0 , format:json , inf:0 , depDate:20171004 , arr:CJU , dep:GMP , adt:1 , tripDivi:0 , airlineCode:LJ , \n"
     ]
    },
    {
     "name": "stderr",
     "output_type": "stream",
     "text": [
      "2017-08-09 08:06:00,761 root     DEBUG    Crawling Interpark domastic schedule site\n"
     ]
    },
    {
     "name": "stdout",
     "output_type": "stream",
     "text": [
      "End Simple crawling\n",
      "Start Simple crawling :  http://domair.interpark.com/api/booking/airJourney.do\n",
      ">> Parameters\n",
      "chd:0 , format:json , inf:0 , depDate:20171004 , arr:CJU , dep:GMP , adt:1 , tripDivi:0 , airlineCode:TW , \n"
     ]
    },
    {
     "name": "stderr",
     "output_type": "stream",
     "text": [
      "2017-08-09 08:06:01,131 root     DEBUG    Crawling Interpark domastic schedule site\n"
     ]
    },
    {
     "name": "stdout",
     "output_type": "stream",
     "text": [
      "End Simple crawling\n",
      "Start Simple crawling :  http://domair.interpark.com/api/booking/airJourney.do\n",
      ">> Parameters\n",
      "chd:0 , format:json , inf:0 , depDate:20171004 , arr:CJU , dep:GMP , adt:1 , tripDivi:0 , airlineCode:ZE , \n"
     ]
    },
    {
     "name": "stderr",
     "output_type": "stream",
     "text": [
      "2017-08-09 08:06:02,251 root     DEBUG    Crawling Interpark domastic schedule site\n"
     ]
    },
    {
     "name": "stdout",
     "output_type": "stream",
     "text": [
      "End Simple crawling\n",
      "Start Simple crawling :  http://domair.interpark.com/api/booking/airJourney.do\n",
      ">> Parameters\n",
      "chd:0 , format:json , inf:0 , depDate:20171005 , arr:CJU , dep:GMP , adt:1 , tripDivi:0 , airlineCode:7C , \n"
     ]
    },
    {
     "name": "stderr",
     "output_type": "stream",
     "text": [
      "2017-08-09 08:06:03,350 root     DEBUG    Crawling Interpark domastic schedule site\n"
     ]
    },
    {
     "name": "stdout",
     "output_type": "stream",
     "text": [
      "End Simple crawling\n",
      "Start Simple crawling :  http://domair.interpark.com/api/booking/airJourney.do\n",
      ">> Parameters\n",
      "chd:0 , format:json , inf:0 , depDate:20171005 , arr:CJU , dep:GMP , adt:1 , tripDivi:0 , airlineCode:LJ , \n"
     ]
    },
    {
     "name": "stderr",
     "output_type": "stream",
     "text": [
      "2017-08-09 08:06:03,724 root     DEBUG    Crawling Interpark domastic schedule site\n"
     ]
    },
    {
     "name": "stdout",
     "output_type": "stream",
     "text": [
      "End Simple crawling\n",
      "Start Simple crawling :  http://domair.interpark.com/api/booking/airJourney.do\n",
      ">> Parameters\n",
      "chd:0 , format:json , inf:0 , depDate:20171005 , arr:CJU , dep:GMP , adt:1 , tripDivi:0 , airlineCode:TW , \n"
     ]
    },
    {
     "name": "stderr",
     "output_type": "stream",
     "text": [
      "2017-08-09 08:06:04,121 root     DEBUG    Crawling Interpark domastic schedule site\n"
     ]
    },
    {
     "name": "stdout",
     "output_type": "stream",
     "text": [
      "End Simple crawling\n",
      "Start Simple crawling :  http://domair.interpark.com/api/booking/airJourney.do\n",
      ">> Parameters\n",
      "chd:0 , format:json , inf:0 , depDate:20171005 , arr:CJU , dep:GMP , adt:1 , tripDivi:0 , airlineCode:ZE , \n"
     ]
    },
    {
     "name": "stderr",
     "output_type": "stream",
     "text": [
      "2017-08-09 08:06:05,263 root     DEBUG    Crawling Interpark domastic schedule site\n"
     ]
    },
    {
     "name": "stdout",
     "output_type": "stream",
     "text": [
      "End Simple crawling\n",
      "Start Simple crawling :  http://domair.interpark.com/api/booking/airJourney.do\n",
      ">> Parameters\n",
      "chd:0 , format:json , inf:0 , depDate:20171006 , arr:CJU , dep:GMP , adt:1 , tripDivi:0 , airlineCode:7C , \n"
     ]
    },
    {
     "name": "stderr",
     "output_type": "stream",
     "text": [
      "2017-08-09 08:06:08,056 root     DEBUG    Crawling Interpark domastic schedule site\n",
      "2017-08-09 08:06:08,195 root     DEBUG    Crawling Interpark domastic schedule site\n"
     ]
    },
    {
     "name": "stdout",
     "output_type": "stream",
     "text": [
      "End Simple crawling\n",
      "Start Simple crawling :  http://domair.interpark.com/api/booking/airJourney.do\n",
      ">> Parameters\n",
      "chd:0 , format:json , inf:0 , depDate:20171006 , arr:CJU , dep:GMP , adt:1 , tripDivi:0 , airlineCode:LJ , \n",
      "End Simple crawling\n",
      "Start Simple crawling :  http://domair.interpark.com/api/booking/airJourney.do\n",
      ">> Parameters\n",
      "chd:0 , format:json , inf:0 , depDate:20171006 , arr:CJU , dep:GMP , adt:1 , tripDivi:0 , airlineCode:TW , \n"
     ]
    },
    {
     "name": "stderr",
     "output_type": "stream",
     "text": [
      "2017-08-09 08:06:08,604 root     DEBUG    Crawling Interpark domastic schedule site\n"
     ]
    },
    {
     "name": "stdout",
     "output_type": "stream",
     "text": [
      "End Simple crawling\n",
      "Start Simple crawling :  http://domair.interpark.com/api/booking/airJourney.do\n",
      ">> Parameters\n",
      "chd:0 , format:json , inf:0 , depDate:20171006 , arr:CJU , dep:GMP , adt:1 , tripDivi:0 , airlineCode:ZE , \n"
     ]
    },
    {
     "name": "stderr",
     "output_type": "stream",
     "text": [
      "2017-08-09 08:06:09,778 root     DEBUG    Crawling Interpark domastic schedule site\n"
     ]
    },
    {
     "name": "stdout",
     "output_type": "stream",
     "text": [
      "End Simple crawling\n",
      "Start Simple crawling :  http://domair.interpark.com/api/booking/airJourney.do\n",
      ">> Parameters\n",
      "chd:0 , format:json , inf:0 , depDate:20171007 , arr:CJU , dep:GMP , adt:1 , tripDivi:0 , airlineCode:7C , \n"
     ]
    },
    {
     "name": "stderr",
     "output_type": "stream",
     "text": [
      "2017-08-09 08:06:11,520 root     DEBUG    Crawling Interpark domastic schedule site\n",
      "2017-08-09 08:06:11,649 root     DEBUG    Crawling Interpark domastic schedule site\n"
     ]
    },
    {
     "name": "stdout",
     "output_type": "stream",
     "text": [
      "End Simple crawling\n",
      "Start Simple crawling :  http://domair.interpark.com/api/booking/airJourney.do\n",
      ">> Parameters\n",
      "chd:0 , format:json , inf:0 , depDate:20171007 , arr:CJU , dep:GMP , adt:1 , tripDivi:0 , airlineCode:LJ , \n",
      "End Simple crawling\n",
      "Start Simple crawling :  http://domair.interpark.com/api/booking/airJourney.do\n",
      ">> Parameters\n",
      "chd:0 , format:json , inf:0 , depDate:20171007 , arr:CJU , dep:GMP , adt:1 , tripDivi:0 , airlineCode:TW , \n"
     ]
    },
    {
     "name": "stderr",
     "output_type": "stream",
     "text": [
      "2017-08-09 08:06:12,268 root     DEBUG    Crawling Interpark domastic schedule site\n"
     ]
    },
    {
     "name": "stdout",
     "output_type": "stream",
     "text": [
      "End Simple crawling\n",
      "Start Simple crawling :  http://domair.interpark.com/api/booking/airJourney.do\n",
      ">> Parameters\n",
      "chd:0 , format:json , inf:0 , depDate:20171007 , arr:CJU , dep:GMP , adt:1 , tripDivi:0 , airlineCode:ZE , \n"
     ]
    },
    {
     "name": "stderr",
     "output_type": "stream",
     "text": [
      "2017-08-09 08:06:13,456 root     DEBUG    Crawling Interpark domastic schedule site\n"
     ]
    },
    {
     "name": "stdout",
     "output_type": "stream",
     "text": [
      "End Simple crawling\n",
      "Start Simple crawling :  http://domair.interpark.com/api/booking/airJourney.do\n",
      ">> Parameters\n",
      "chd:0 , format:json , inf:0 , depDate:20171008 , arr:CJU , dep:GMP , adt:1 , tripDivi:0 , airlineCode:7C , \n"
     ]
    },
    {
     "name": "stderr",
     "output_type": "stream",
     "text": [
      "2017-08-09 08:06:14,897 root     DEBUG    Crawling Interpark domastic schedule site\n",
      "2017-08-09 08:06:15,070 root     DEBUG    Crawling Interpark domastic schedule site\n"
     ]
    },
    {
     "name": "stdout",
     "output_type": "stream",
     "text": [
      "End Simple crawling\n",
      "Start Simple crawling :  http://domair.interpark.com/api/booking/airJourney.do\n",
      ">> Parameters\n",
      "chd:0 , format:json , inf:0 , depDate:20171008 , arr:CJU , dep:GMP , adt:1 , tripDivi:0 , airlineCode:LJ , \n",
      "End Simple crawling\n",
      "Start Simple crawling :  http://domair.interpark.com/api/booking/airJourney.do\n",
      ">> Parameters\n",
      "chd:0 , format:json , inf:0 , depDate:20171008 , arr:CJU , dep:GMP , adt:1 , tripDivi:0 , airlineCode:TW , \n"
     ]
    },
    {
     "name": "stderr",
     "output_type": "stream",
     "text": [
      "2017-08-09 08:06:15,591 root     DEBUG    Crawling Interpark domastic schedule site\n"
     ]
    },
    {
     "name": "stdout",
     "output_type": "stream",
     "text": [
      "End Simple crawling\n",
      "Start Simple crawling :  http://domair.interpark.com/api/booking/airJourney.do\n",
      ">> Parameters\n",
      "chd:0 , format:json , inf:0 , depDate:20171008 , arr:CJU , dep:GMP , adt:1 , tripDivi:0 , airlineCode:ZE , \n"
     ]
    },
    {
     "name": "stderr",
     "output_type": "stream",
     "text": [
      "2017-08-09 08:06:16,748 root     INFO     end batch job :: craw_by_route_site :: elapsed -0:05:04.191399 :: Total crawl:240 files saved.\n",
      "2017-08-09 08:06:16,750 root     INFO     start batch job :: craw_by_route_site[ICN,NRT,IP,['20170810', '20170811', '20170812', '20170813', '20170814', '20170815', '20170816', '20170817', '20170818', '20170819', '20170820', '20170821', '20170822', '20170823', '20170824', '20170825', '20170826', '20170827', '20170828', '20170829', '20170830', '20170831', '20170901', '20170902', '20170903', '20170904', '20170905', '20170906', '20170907', '20170908', '20170909', '20170910', '20170911', '20170912', '20170913', '20170914', '20170915', '20170916', '20170917', '20170918', '20170919', '20170920', '20170921', '20170922', '20170923', '20170924', '20170925', '20170926', '20170927', '20170928', '20170929', '20170930', '20171001', '20171002', '20171003', '20171004', '20171005', '20171006', '20171007', '20171008'],['7C', 'LJ', 'TW', 'ZE']]\n",
      "2017-08-09 08:06:16,752 root     DEBUG    1 :: IP :: crawling_IP_int :: False\n",
      "2017-08-09 08:06:16,754 root     INFO     <function crawling_IP_int at 0x0000000007FA67B8> :: False\n",
      "2017-08-09 08:06:16,756 root     DEBUG    Crawling Interpark domastic schedule site\n"
     ]
    },
    {
     "name": "stdout",
     "output_type": "stream",
     "text": [
      "End Simple crawling\n",
      "Start Simple crawling :  http://smartair.interpark.com/HtmlSearch/GetGoodsSmartList.aspx\n",
      ">> Parameters\n",
      "trip:OW , chd:0 , adt:1 , FLEX:N , SplitNo:100 , depdate0:20170810 , SeatAvail:Y , ptype:I , comp:Y , dep0:ICN , BEST:Y , JSON:Y , inf:0 , Soto:N , SeatType:A , AirLine:7C , enc:u , Change: , arr0:NRT , StayLength: , \n"
     ]
    },
    {
     "name": "stderr",
     "output_type": "stream",
     "text": [
      "2017-08-09 08:06:17,852 root     DEBUG    Crawling Interpark domastic schedule site\n",
      "2017-08-09 08:06:17,954 root     DEBUG    Crawling Interpark domastic schedule site\n",
      "2017-08-09 08:06:18,029 root     DEBUG    Crawling Interpark domastic schedule site\n"
     ]
    },
    {
     "name": "stdout",
     "output_type": "stream",
     "text": [
      "End Simple crawling\n",
      "Start Simple crawling :  http://smartair.interpark.com/HtmlSearch/GetGoodsSmartList.aspx\n",
      ">> Parameters\n",
      "trip:OW , chd:0 , adt:1 , FLEX:N , SplitNo:100 , depdate0:20170810 , SeatAvail:Y , ptype:I , comp:Y , dep0:ICN , BEST:Y , JSON:Y , inf:0 , Soto:N , SeatType:A , AirLine:LJ , enc:u , Change: , arr0:NRT , StayLength: , \n",
      "End Simple crawling\n",
      "Start Simple crawling :  http://smartair.interpark.com/HtmlSearch/GetGoodsSmartList.aspx\n",
      ">> Parameters\n",
      "trip:OW , chd:0 , adt:1 , FLEX:N , SplitNo:100 , depdate0:20170810 , SeatAvail:Y , ptype:I , comp:Y , dep0:ICN , BEST:Y , JSON:Y , inf:0 , Soto:N , SeatType:A , AirLine:TW , enc:u , Change: , arr0:NRT , StayLength: , \n",
      "End Simple crawling\n",
      "Start Simple crawling :  http://smartair.interpark.com/HtmlSearch/GetGoodsSmartList.aspx\n",
      ">> Parameters\n",
      "trip:OW , chd:0 , adt:1 , FLEX:N , SplitNo:100 , depdate0:20170810 , SeatAvail:Y , ptype:I , comp:Y , dep0:ICN , BEST:Y , JSON:Y , inf:0 , Soto:N , SeatType:A , AirLine:ZE , enc:u , Change: , arr0:NRT , StayLength: , \n"
     ]
    },
    {
     "name": "stderr",
     "output_type": "stream",
     "text": [
      "2017-08-09 08:06:20,210 root     DEBUG    Crawling Interpark domastic schedule site\n"
     ]
    },
    {
     "name": "stdout",
     "output_type": "stream",
     "text": [
      "End Simple crawling\n",
      "Start Simple crawling :  http://smartair.interpark.com/HtmlSearch/GetGoodsSmartList.aspx\n",
      ">> Parameters\n",
      "trip:OW , chd:0 , adt:1 , FLEX:N , SplitNo:100 , depdate0:20170811 , SeatAvail:Y , ptype:I , comp:Y , dep0:ICN , BEST:Y , JSON:Y , inf:0 , Soto:N , SeatType:A , AirLine:7C , enc:u , Change: , arr0:NRT , StayLength: , \n"
     ]
    },
    {
     "name": "stderr",
     "output_type": "stream",
     "text": [
      "2017-08-09 08:06:20,861 root     DEBUG    Crawling Interpark domastic schedule site\n"
     ]
    },
    {
     "name": "stdout",
     "output_type": "stream",
     "text": [
      "End Simple crawling\n",
      "Start Simple crawling :  http://smartair.interpark.com/HtmlSearch/GetGoodsSmartList.aspx\n",
      ">> Parameters\n",
      "trip:OW , chd:0 , adt:1 , FLEX:N , SplitNo:100 , depdate0:20170811 , SeatAvail:Y , ptype:I , comp:Y , dep0:ICN , BEST:Y , JSON:Y , inf:0 , Soto:N , SeatType:A , AirLine:LJ , enc:u , Change: , arr0:NRT , StayLength: , \n"
     ]
    },
    {
     "name": "stderr",
     "output_type": "stream",
     "text": [
      "2017-08-09 08:06:23,211 root     DEBUG    Crawling Interpark domastic schedule site\n"
     ]
    },
    {
     "name": "stdout",
     "output_type": "stream",
     "text": [
      "End Simple crawling\n",
      "Start Simple crawling :  http://smartair.interpark.com/HtmlSearch/GetGoodsSmartList.aspx\n",
      ">> Parameters\n",
      "trip:OW , chd:0 , adt:1 , FLEX:N , SplitNo:100 , depdate0:20170811 , SeatAvail:Y , ptype:I , comp:Y , dep0:ICN , BEST:Y , JSON:Y , inf:0 , Soto:N , SeatType:A , AirLine:TW , enc:u , Change: , arr0:NRT , StayLength: , \n"
     ]
    },
    {
     "name": "stderr",
     "output_type": "stream",
     "text": [
      "2017-08-09 08:06:23,589 root     DEBUG    Crawling Interpark domastic schedule site\n"
     ]
    },
    {
     "name": "stdout",
     "output_type": "stream",
     "text": [
      "End Simple crawling\n",
      "Start Simple crawling :  http://smartair.interpark.com/HtmlSearch/GetGoodsSmartList.aspx\n",
      ">> Parameters\n",
      "trip:OW , chd:0 , adt:1 , FLEX:N , SplitNo:100 , depdate0:20170811 , SeatAvail:Y , ptype:I , comp:Y , dep0:ICN , BEST:Y , JSON:Y , inf:0 , Soto:N , SeatType:A , AirLine:ZE , enc:u , Change: , arr0:NRT , StayLength: , \n"
     ]
    },
    {
     "name": "stderr",
     "output_type": "stream",
     "text": [
      "2017-08-09 08:06:25,765 root     DEBUG    Crawling Interpark domastic schedule site\n"
     ]
    },
    {
     "name": "stdout",
     "output_type": "stream",
     "text": [
      "End Simple crawling\n",
      "Start Simple crawling :  http://smartair.interpark.com/HtmlSearch/GetGoodsSmartList.aspx\n",
      ">> Parameters\n",
      "trip:OW , chd:0 , adt:1 , FLEX:N , SplitNo:100 , depdate0:20170812 , SeatAvail:Y , ptype:I , comp:Y , dep0:ICN , BEST:Y , JSON:Y , inf:0 , Soto:N , SeatType:A , AirLine:7C , enc:u , Change: , arr0:NRT , StayLength: , \n"
     ]
    },
    {
     "name": "stderr",
     "output_type": "stream",
     "text": [
      "2017-08-09 08:06:26,967 root     DEBUG    Crawling Interpark domastic schedule site\n"
     ]
    },
    {
     "name": "stdout",
     "output_type": "stream",
     "text": [
      "End Simple crawling\n",
      "Start Simple crawling :  http://smartair.interpark.com/HtmlSearch/GetGoodsSmartList.aspx\n",
      ">> Parameters\n",
      "trip:OW , chd:0 , adt:1 , FLEX:N , SplitNo:100 , depdate0:20170812 , SeatAvail:Y , ptype:I , comp:Y , dep0:ICN , BEST:Y , JSON:Y , inf:0 , Soto:N , SeatType:A , AirLine:LJ , enc:u , Change: , arr0:NRT , StayLength: , \n"
     ]
    },
    {
     "name": "stderr",
     "output_type": "stream",
     "text": [
      "2017-08-09 08:06:29,121 root     DEBUG    Crawling Interpark domastic schedule site\n"
     ]
    },
    {
     "name": "stdout",
     "output_type": "stream",
     "text": [
      "End Simple crawling\n",
      "Start Simple crawling :  http://smartair.interpark.com/HtmlSearch/GetGoodsSmartList.aspx\n",
      ">> Parameters\n",
      "trip:OW , chd:0 , adt:1 , FLEX:N , SplitNo:100 , depdate0:20170812 , SeatAvail:Y , ptype:I , comp:Y , dep0:ICN , BEST:Y , JSON:Y , inf:0 , Soto:N , SeatType:A , AirLine:TW , enc:u , Change: , arr0:NRT , StayLength: , \n"
     ]
    },
    {
     "name": "stderr",
     "output_type": "stream",
     "text": [
      "2017-08-09 08:06:31,443 root     DEBUG    Crawling Interpark domastic schedule site\n"
     ]
    },
    {
     "name": "stdout",
     "output_type": "stream",
     "text": [
      "End Simple crawling\n",
      "Start Simple crawling :  http://smartair.interpark.com/HtmlSearch/GetGoodsSmartList.aspx\n",
      ">> Parameters\n",
      "trip:OW , chd:0 , adt:1 , FLEX:N , SplitNo:100 , depdate0:20170812 , SeatAvail:Y , ptype:I , comp:Y , dep0:ICN , BEST:Y , JSON:Y , inf:0 , Soto:N , SeatType:A , AirLine:ZE , enc:u , Change: , arr0:NRT , StayLength: , \n"
     ]
    },
    {
     "name": "stderr",
     "output_type": "stream",
     "text": [
      "2017-08-09 08:06:33,975 root     DEBUG    Crawling Interpark domastic schedule site\n"
     ]
    },
    {
     "name": "stdout",
     "output_type": "stream",
     "text": [
      "End Simple crawling\n",
      "Start Simple crawling :  http://smartair.interpark.com/HtmlSearch/GetGoodsSmartList.aspx\n",
      ">> Parameters\n",
      "trip:OW , chd:0 , adt:1 , FLEX:N , SplitNo:100 , depdate0:20170813 , SeatAvail:Y , ptype:I , comp:Y , dep0:ICN , BEST:Y , JSON:Y , inf:0 , Soto:N , SeatType:A , AirLine:7C , enc:u , Change: , arr0:NRT , StayLength: , \n"
     ]
    },
    {
     "name": "stderr",
     "output_type": "stream",
     "text": [
      "2017-08-09 08:06:35,763 root     DEBUG    Crawling Interpark domastic schedule site\n"
     ]
    },
    {
     "name": "stdout",
     "output_type": "stream",
     "text": [
      "End Simple crawling\n",
      "Start Simple crawling :  http://smartair.interpark.com/HtmlSearch/GetGoodsSmartList.aspx\n",
      ">> Parameters\n",
      "trip:OW , chd:0 , adt:1 , FLEX:N , SplitNo:100 , depdate0:20170813 , SeatAvail:Y , ptype:I , comp:Y , dep0:ICN , BEST:Y , JSON:Y , inf:0 , Soto:N , SeatType:A , AirLine:LJ , enc:u , Change: , arr0:NRT , StayLength: , \n"
     ]
    },
    {
     "name": "stderr",
     "output_type": "stream",
     "text": [
      "2017-08-09 08:06:37,902 root     DEBUG    Crawling Interpark domastic schedule site\n"
     ]
    },
    {
     "name": "stdout",
     "output_type": "stream",
     "text": [
      "End Simple crawling\n",
      "Start Simple crawling :  http://smartair.interpark.com/HtmlSearch/GetGoodsSmartList.aspx\n",
      ">> Parameters\n",
      "trip:OW , chd:0 , adt:1 , FLEX:N , SplitNo:100 , depdate0:20170813 , SeatAvail:Y , ptype:I , comp:Y , dep0:ICN , BEST:Y , JSON:Y , inf:0 , Soto:N , SeatType:A , AirLine:TW , enc:u , Change: , arr0:NRT , StayLength: , \n"
     ]
    },
    {
     "name": "stderr",
     "output_type": "stream",
     "text": [
      "2017-08-09 08:06:40,339 root     DEBUG    Crawling Interpark domastic schedule site\n"
     ]
    },
    {
     "name": "stdout",
     "output_type": "stream",
     "text": [
      "End Simple crawling\n",
      "Start Simple crawling :  http://smartair.interpark.com/HtmlSearch/GetGoodsSmartList.aspx\n",
      ">> Parameters\n",
      "trip:OW , chd:0 , adt:1 , FLEX:N , SplitNo:100 , depdate0:20170813 , SeatAvail:Y , ptype:I , comp:Y , dep0:ICN , BEST:Y , JSON:Y , inf:0 , Soto:N , SeatType:A , AirLine:ZE , enc:u , Change: , arr0:NRT , StayLength: , \n"
     ]
    },
    {
     "name": "stderr",
     "output_type": "stream",
     "text": [
      "2017-08-09 08:06:42,529 root     DEBUG    Crawling Interpark domastic schedule site\n"
     ]
    },
    {
     "name": "stdout",
     "output_type": "stream",
     "text": [
      "End Simple crawling\n",
      "Start Simple crawling :  http://smartair.interpark.com/HtmlSearch/GetGoodsSmartList.aspx\n",
      ">> Parameters\n",
      "trip:OW , chd:0 , adt:1 , FLEX:N , SplitNo:100 , depdate0:20170814 , SeatAvail:Y , ptype:I , comp:Y , dep0:ICN , BEST:Y , JSON:Y , inf:0 , Soto:N , SeatType:A , AirLine:7C , enc:u , Change: , arr0:NRT , StayLength: , \n"
     ]
    },
    {
     "name": "stderr",
     "output_type": "stream",
     "text": [
      "2017-08-09 08:06:43,184 root     DEBUG    Crawling Interpark domastic schedule site\n"
     ]
    },
    {
     "name": "stdout",
     "output_type": "stream",
     "text": [
      "End Simple crawling\n",
      "Start Simple crawling :  http://smartair.interpark.com/HtmlSearch/GetGoodsSmartList.aspx\n",
      ">> Parameters\n",
      "trip:OW , chd:0 , adt:1 , FLEX:N , SplitNo:100 , depdate0:20170814 , SeatAvail:Y , ptype:I , comp:Y , dep0:ICN , BEST:Y , JSON:Y , inf:0 , Soto:N , SeatType:A , AirLine:LJ , enc:u , Change: , arr0:NRT , StayLength: , \n"
     ]
    },
    {
     "name": "stderr",
     "output_type": "stream",
     "text": [
      "2017-08-09 08:06:45,326 root     DEBUG    Crawling Interpark domastic schedule site\n"
     ]
    },
    {
     "name": "stdout",
     "output_type": "stream",
     "text": [
      "End Simple crawling\n",
      "Start Simple crawling :  http://smartair.interpark.com/HtmlSearch/GetGoodsSmartList.aspx\n",
      ">> Parameters\n",
      "trip:OW , chd:0 , adt:1 , FLEX:N , SplitNo:100 , depdate0:20170814 , SeatAvail:Y , ptype:I , comp:Y , dep0:ICN , BEST:Y , JSON:Y , inf:0 , Soto:N , SeatType:A , AirLine:TW , enc:u , Change: , arr0:NRT , StayLength: , \n"
     ]
    },
    {
     "name": "stderr",
     "output_type": "stream",
     "text": [
      "2017-08-09 08:06:47,400 root     DEBUG    Crawling Interpark domastic schedule site\n"
     ]
    },
    {
     "name": "stdout",
     "output_type": "stream",
     "text": [
      "End Simple crawling\n",
      "Start Simple crawling :  http://smartair.interpark.com/HtmlSearch/GetGoodsSmartList.aspx\n",
      ">> Parameters\n",
      "trip:OW , chd:0 , adt:1 , FLEX:N , SplitNo:100 , depdate0:20170814 , SeatAvail:Y , ptype:I , comp:Y , dep0:ICN , BEST:Y , JSON:Y , inf:0 , Soto:N , SeatType:A , AirLine:ZE , enc:u , Change: , arr0:NRT , StayLength: , \n"
     ]
    },
    {
     "name": "stderr",
     "output_type": "stream",
     "text": [
      "2017-08-09 08:06:49,447 root     DEBUG    Crawling Interpark domastic schedule site\n"
     ]
    },
    {
     "name": "stdout",
     "output_type": "stream",
     "text": [
      "End Simple crawling\n",
      "Start Simple crawling :  http://smartair.interpark.com/HtmlSearch/GetGoodsSmartList.aspx\n",
      ">> Parameters\n",
      "trip:OW , chd:0 , adt:1 , FLEX:N , SplitNo:100 , depdate0:20170815 , SeatAvail:Y , ptype:I , comp:Y , dep0:ICN , BEST:Y , JSON:Y , inf:0 , Soto:N , SeatType:A , AirLine:7C , enc:u , Change: , arr0:NRT , StayLength: , \n"
     ]
    },
    {
     "name": "stderr",
     "output_type": "stream",
     "text": [
      "2017-08-09 08:06:50,421 root     DEBUG    Crawling Interpark domastic schedule site\n"
     ]
    },
    {
     "name": "stdout",
     "output_type": "stream",
     "text": [
      "End Simple crawling\n",
      "Start Simple crawling :  http://smartair.interpark.com/HtmlSearch/GetGoodsSmartList.aspx\n",
      ">> Parameters\n",
      "trip:OW , chd:0 , adt:1 , FLEX:N , SplitNo:100 , depdate0:20170815 , SeatAvail:Y , ptype:I , comp:Y , dep0:ICN , BEST:Y , JSON:Y , inf:0 , Soto:N , SeatType:A , AirLine:LJ , enc:u , Change: , arr0:NRT , StayLength: , \n"
     ]
    },
    {
     "name": "stderr",
     "output_type": "stream",
     "text": [
      "2017-08-09 08:06:52,664 root     DEBUG    Crawling Interpark domastic schedule site\n"
     ]
    },
    {
     "name": "stdout",
     "output_type": "stream",
     "text": [
      "End Simple crawling\n",
      "Start Simple crawling :  http://smartair.interpark.com/HtmlSearch/GetGoodsSmartList.aspx\n",
      ">> Parameters\n",
      "trip:OW , chd:0 , adt:1 , FLEX:N , SplitNo:100 , depdate0:20170815 , SeatAvail:Y , ptype:I , comp:Y , dep0:ICN , BEST:Y , JSON:Y , inf:0 , Soto:N , SeatType:A , AirLine:TW , enc:u , Change: , arr0:NRT , StayLength: , \n"
     ]
    },
    {
     "name": "stderr",
     "output_type": "stream",
     "text": [
      "2017-08-09 08:06:55,087 root     DEBUG    Crawling Interpark domastic schedule site\n"
     ]
    },
    {
     "name": "stdout",
     "output_type": "stream",
     "text": [
      "End Simple crawling\n",
      "Start Simple crawling :  http://smartair.interpark.com/HtmlSearch/GetGoodsSmartList.aspx\n",
      ">> Parameters\n",
      "trip:OW , chd:0 , adt:1 , FLEX:N , SplitNo:100 , depdate0:20170815 , SeatAvail:Y , ptype:I , comp:Y , dep0:ICN , BEST:Y , JSON:Y , inf:0 , Soto:N , SeatType:A , AirLine:ZE , enc:u , Change: , arr0:NRT , StayLength: , \n"
     ]
    },
    {
     "name": "stderr",
     "output_type": "stream",
     "text": [
      "2017-08-09 08:06:57,749 root     DEBUG    Crawling Interpark domastic schedule site\n"
     ]
    },
    {
     "name": "stdout",
     "output_type": "stream",
     "text": [
      "End Simple crawling\n",
      "Start Simple crawling :  http://smartair.interpark.com/HtmlSearch/GetGoodsSmartList.aspx\n",
      ">> Parameters\n",
      "trip:OW , chd:0 , adt:1 , FLEX:N , SplitNo:100 , depdate0:20170816 , SeatAvail:Y , ptype:I , comp:Y , dep0:ICN , BEST:Y , JSON:Y , inf:0 , Soto:N , SeatType:A , AirLine:7C , enc:u , Change: , arr0:NRT , StayLength: , \n"
     ]
    },
    {
     "name": "stderr",
     "output_type": "stream",
     "text": [
      "2017-08-09 08:06:58,569 root     DEBUG    Crawling Interpark domastic schedule site\n"
     ]
    },
    {
     "name": "stdout",
     "output_type": "stream",
     "text": [
      "End Simple crawling\n",
      "Start Simple crawling :  http://smartair.interpark.com/HtmlSearch/GetGoodsSmartList.aspx\n",
      ">> Parameters\n",
      "trip:OW , chd:0 , adt:1 , FLEX:N , SplitNo:100 , depdate0:20170816 , SeatAvail:Y , ptype:I , comp:Y , dep0:ICN , BEST:Y , JSON:Y , inf:0 , Soto:N , SeatType:A , AirLine:LJ , enc:u , Change: , arr0:NRT , StayLength: , \n"
     ]
    },
    {
     "name": "stderr",
     "output_type": "stream",
     "text": [
      "2017-08-09 08:07:00,644 root     DEBUG    Crawling Interpark domastic schedule site\n"
     ]
    },
    {
     "name": "stdout",
     "output_type": "stream",
     "text": [
      "End Simple crawling\n",
      "Start Simple crawling :  http://smartair.interpark.com/HtmlSearch/GetGoodsSmartList.aspx\n",
      ">> Parameters\n",
      "trip:OW , chd:0 , adt:1 , FLEX:N , SplitNo:100 , depdate0:20170816 , SeatAvail:Y , ptype:I , comp:Y , dep0:ICN , BEST:Y , JSON:Y , inf:0 , Soto:N , SeatType:A , AirLine:TW , enc:u , Change: , arr0:NRT , StayLength: , \n"
     ]
    },
    {
     "name": "stderr",
     "output_type": "stream",
     "text": [
      "2017-08-09 08:07:02,829 root     DEBUG    Crawling Interpark domastic schedule site\n"
     ]
    },
    {
     "name": "stdout",
     "output_type": "stream",
     "text": [
      "End Simple crawling\n",
      "Start Simple crawling :  http://smartair.interpark.com/HtmlSearch/GetGoodsSmartList.aspx\n",
      ">> Parameters\n",
      "trip:OW , chd:0 , adt:1 , FLEX:N , SplitNo:100 , depdate0:20170816 , SeatAvail:Y , ptype:I , comp:Y , dep0:ICN , BEST:Y , JSON:Y , inf:0 , Soto:N , SeatType:A , AirLine:ZE , enc:u , Change: , arr0:NRT , StayLength: , \n"
     ]
    },
    {
     "name": "stderr",
     "output_type": "stream",
     "text": [
      "2017-08-09 08:07:05,148 root     DEBUG    Crawling Interpark domastic schedule site\n"
     ]
    },
    {
     "name": "stdout",
     "output_type": "stream",
     "text": [
      "End Simple crawling\n",
      "Start Simple crawling :  http://smartair.interpark.com/HtmlSearch/GetGoodsSmartList.aspx\n",
      ">> Parameters\n",
      "trip:OW , chd:0 , adt:1 , FLEX:N , SplitNo:100 , depdate0:20170817 , SeatAvail:Y , ptype:I , comp:Y , dep0:ICN , BEST:Y , JSON:Y , inf:0 , Soto:N , SeatType:A , AirLine:7C , enc:u , Change: , arr0:NRT , StayLength: , \n"
     ]
    },
    {
     "name": "stderr",
     "output_type": "stream",
     "text": [
      "2017-08-09 08:07:06,120 root     DEBUG    Crawling Interpark domastic schedule site\n"
     ]
    },
    {
     "name": "stdout",
     "output_type": "stream",
     "text": [
      "End Simple crawling\n",
      "Start Simple crawling :  http://smartair.interpark.com/HtmlSearch/GetGoodsSmartList.aspx\n",
      ">> Parameters\n",
      "trip:OW , chd:0 , adt:1 , FLEX:N , SplitNo:100 , depdate0:20170817 , SeatAvail:Y , ptype:I , comp:Y , dep0:ICN , BEST:Y , JSON:Y , inf:0 , Soto:N , SeatType:A , AirLine:LJ , enc:u , Change: , arr0:NRT , StayLength: , \n"
     ]
    },
    {
     "name": "stderr",
     "output_type": "stream",
     "text": [
      "2017-08-09 08:07:08,231 root     DEBUG    Crawling Interpark domastic schedule site\n"
     ]
    },
    {
     "name": "stdout",
     "output_type": "stream",
     "text": [
      "End Simple crawling\n",
      "Start Simple crawling :  http://smartair.interpark.com/HtmlSearch/GetGoodsSmartList.aspx\n",
      ">> Parameters\n",
      "trip:OW , chd:0 , adt:1 , FLEX:N , SplitNo:100 , depdate0:20170817 , SeatAvail:Y , ptype:I , comp:Y , dep0:ICN , BEST:Y , JSON:Y , inf:0 , Soto:N , SeatType:A , AirLine:TW , enc:u , Change: , arr0:NRT , StayLength: , \n"
     ]
    },
    {
     "name": "stderr",
     "output_type": "stream",
     "text": [
      "2017-08-09 08:07:10,625 root     DEBUG    Crawling Interpark domastic schedule site\n"
     ]
    },
    {
     "name": "stdout",
     "output_type": "stream",
     "text": [
      "End Simple crawling\n",
      "Start Simple crawling :  http://smartair.interpark.com/HtmlSearch/GetGoodsSmartList.aspx\n",
      ">> Parameters\n",
      "trip:OW , chd:0 , adt:1 , FLEX:N , SplitNo:100 , depdate0:20170817 , SeatAvail:Y , ptype:I , comp:Y , dep0:ICN , BEST:Y , JSON:Y , inf:0 , Soto:N , SeatType:A , AirLine:ZE , enc:u , Change: , arr0:NRT , StayLength: , \n"
     ]
    },
    {
     "name": "stderr",
     "output_type": "stream",
     "text": [
      "2017-08-09 08:07:12,838 root     DEBUG    Crawling Interpark domastic schedule site\n"
     ]
    },
    {
     "name": "stdout",
     "output_type": "stream",
     "text": [
      "End Simple crawling\n",
      "Start Simple crawling :  http://smartair.interpark.com/HtmlSearch/GetGoodsSmartList.aspx\n",
      ">> Parameters\n",
      "trip:OW , chd:0 , adt:1 , FLEX:N , SplitNo:100 , depdate0:20170818 , SeatAvail:Y , ptype:I , comp:Y , dep0:ICN , BEST:Y , JSON:Y , inf:0 , Soto:N , SeatType:A , AirLine:7C , enc:u , Change: , arr0:NRT , StayLength: , \n"
     ]
    },
    {
     "name": "stderr",
     "output_type": "stream",
     "text": [
      "2017-08-09 08:07:13,444 root     DEBUG    Crawling Interpark domastic schedule site\n"
     ]
    },
    {
     "name": "stdout",
     "output_type": "stream",
     "text": [
      "End Simple crawling\n",
      "Start Simple crawling :  http://smartair.interpark.com/HtmlSearch/GetGoodsSmartList.aspx\n",
      ">> Parameters\n",
      "trip:OW , chd:0 , adt:1 , FLEX:N , SplitNo:100 , depdate0:20170818 , SeatAvail:Y , ptype:I , comp:Y , dep0:ICN , BEST:Y , JSON:Y , inf:0 , Soto:N , SeatType:A , AirLine:LJ , enc:u , Change: , arr0:NRT , StayLength: , \n"
     ]
    },
    {
     "name": "stderr",
     "output_type": "stream",
     "text": [
      "2017-08-09 08:07:15,691 root     DEBUG    Crawling Interpark domastic schedule site\n"
     ]
    },
    {
     "name": "stdout",
     "output_type": "stream",
     "text": [
      "End Simple crawling\n",
      "Start Simple crawling :  http://smartair.interpark.com/HtmlSearch/GetGoodsSmartList.aspx\n",
      ">> Parameters\n",
      "trip:OW , chd:0 , adt:1 , FLEX:N , SplitNo:100 , depdate0:20170818 , SeatAvail:Y , ptype:I , comp:Y , dep0:ICN , BEST:Y , JSON:Y , inf:0 , Soto:N , SeatType:A , AirLine:TW , enc:u , Change: , arr0:NRT , StayLength: , \n"
     ]
    },
    {
     "name": "stderr",
     "output_type": "stream",
     "text": [
      "2017-08-09 08:07:17,829 root     DEBUG    Crawling Interpark domastic schedule site\n"
     ]
    },
    {
     "name": "stdout",
     "output_type": "stream",
     "text": [
      "End Simple crawling\n",
      "Start Simple crawling :  http://smartair.interpark.com/HtmlSearch/GetGoodsSmartList.aspx\n",
      ">> Parameters\n",
      "trip:OW , chd:0 , adt:1 , FLEX:N , SplitNo:100 , depdate0:20170818 , SeatAvail:Y , ptype:I , comp:Y , dep0:ICN , BEST:Y , JSON:Y , inf:0 , Soto:N , SeatType:A , AirLine:ZE , enc:u , Change: , arr0:NRT , StayLength: , \n"
     ]
    },
    {
     "name": "stderr",
     "output_type": "stream",
     "text": [
      "2017-08-09 08:07:20,218 root     DEBUG    Crawling Interpark domastic schedule site\n"
     ]
    },
    {
     "name": "stdout",
     "output_type": "stream",
     "text": [
      "End Simple crawling\n",
      "Start Simple crawling :  http://smartair.interpark.com/HtmlSearch/GetGoodsSmartList.aspx\n",
      ">> Parameters\n",
      "trip:OW , chd:0 , adt:1 , FLEX:N , SplitNo:100 , depdate0:20170819 , SeatAvail:Y , ptype:I , comp:Y , dep0:ICN , BEST:Y , JSON:Y , inf:0 , Soto:N , SeatType:A , AirLine:7C , enc:u , Change: , arr0:NRT , StayLength: , \n"
     ]
    },
    {
     "name": "stderr",
     "output_type": "stream",
     "text": [
      "2017-08-09 08:07:21,249 root     DEBUG    Crawling Interpark domastic schedule site\n"
     ]
    },
    {
     "name": "stdout",
     "output_type": "stream",
     "text": [
      "End Simple crawling\n",
      "Start Simple crawling :  http://smartair.interpark.com/HtmlSearch/GetGoodsSmartList.aspx\n",
      ">> Parameters\n",
      "trip:OW , chd:0 , adt:1 , FLEX:N , SplitNo:100 , depdate0:20170819 , SeatAvail:Y , ptype:I , comp:Y , dep0:ICN , BEST:Y , JSON:Y , inf:0 , Soto:N , SeatType:A , AirLine:LJ , enc:u , Change: , arr0:NRT , StayLength: , \n"
     ]
    },
    {
     "name": "stderr",
     "output_type": "stream",
     "text": [
      "2017-08-09 08:07:23,551 root     DEBUG    Crawling Interpark domastic schedule site\n"
     ]
    },
    {
     "name": "stdout",
     "output_type": "stream",
     "text": [
      "End Simple crawling\n",
      "Start Simple crawling :  http://smartair.interpark.com/HtmlSearch/GetGoodsSmartList.aspx\n",
      ">> Parameters\n",
      "trip:OW , chd:0 , adt:1 , FLEX:N , SplitNo:100 , depdate0:20170819 , SeatAvail:Y , ptype:I , comp:Y , dep0:ICN , BEST:Y , JSON:Y , inf:0 , Soto:N , SeatType:A , AirLine:TW , enc:u , Change: , arr0:NRT , StayLength: , \n"
     ]
    },
    {
     "name": "stderr",
     "output_type": "stream",
     "text": [
      "2017-08-09 08:07:26,291 root     DEBUG    Crawling Interpark domastic schedule site\n"
     ]
    },
    {
     "name": "stdout",
     "output_type": "stream",
     "text": [
      "End Simple crawling\n",
      "Start Simple crawling :  http://smartair.interpark.com/HtmlSearch/GetGoodsSmartList.aspx\n",
      ">> Parameters\n",
      "trip:OW , chd:0 , adt:1 , FLEX:N , SplitNo:100 , depdate0:20170819 , SeatAvail:Y , ptype:I , comp:Y , dep0:ICN , BEST:Y , JSON:Y , inf:0 , Soto:N , SeatType:A , AirLine:ZE , enc:u , Change: , arr0:NRT , StayLength: , \n"
     ]
    },
    {
     "name": "stderr",
     "output_type": "stream",
     "text": [
      "2017-08-09 08:07:28,410 root     DEBUG    Crawling Interpark domastic schedule site\n"
     ]
    },
    {
     "name": "stdout",
     "output_type": "stream",
     "text": [
      "End Simple crawling\n",
      "Start Simple crawling :  http://smartair.interpark.com/HtmlSearch/GetGoodsSmartList.aspx\n",
      ">> Parameters\n",
      "trip:OW , chd:0 , adt:1 , FLEX:N , SplitNo:100 , depdate0:20170820 , SeatAvail:Y , ptype:I , comp:Y , dep0:ICN , BEST:Y , JSON:Y , inf:0 , Soto:N , SeatType:A , AirLine:7C , enc:u , Change: , arr0:NRT , StayLength: , \n"
     ]
    },
    {
     "name": "stderr",
     "output_type": "stream",
     "text": [
      "2017-08-09 08:07:28,986 root     DEBUG    Crawling Interpark domastic schedule site\n"
     ]
    },
    {
     "name": "stdout",
     "output_type": "stream",
     "text": [
      "End Simple crawling\n",
      "Start Simple crawling :  http://smartair.interpark.com/HtmlSearch/GetGoodsSmartList.aspx\n",
      ">> Parameters\n",
      "trip:OW , chd:0 , adt:1 , FLEX:N , SplitNo:100 , depdate0:20170820 , SeatAvail:Y , ptype:I , comp:Y , dep0:ICN , BEST:Y , JSON:Y , inf:0 , Soto:N , SeatType:A , AirLine:LJ , enc:u , Change: , arr0:NRT , StayLength: , \n"
     ]
    },
    {
     "name": "stderr",
     "output_type": "stream",
     "text": [
      "2017-08-09 08:07:31,361 root     DEBUG    Crawling Interpark domastic schedule site\n"
     ]
    },
    {
     "name": "stdout",
     "output_type": "stream",
     "text": [
      "End Simple crawling\n",
      "Start Simple crawling :  http://smartair.interpark.com/HtmlSearch/GetGoodsSmartList.aspx\n",
      ">> Parameters\n",
      "trip:OW , chd:0 , adt:1 , FLEX:N , SplitNo:100 , depdate0:20170820 , SeatAvail:Y , ptype:I , comp:Y , dep0:ICN , BEST:Y , JSON:Y , inf:0 , Soto:N , SeatType:A , AirLine:TW , enc:u , Change: , arr0:NRT , StayLength: , \n"
     ]
    },
    {
     "name": "stderr",
     "output_type": "stream",
     "text": [
      "2017-08-09 08:07:33,483 root     DEBUG    Crawling Interpark domastic schedule site\n"
     ]
    },
    {
     "name": "stdout",
     "output_type": "stream",
     "text": [
      "End Simple crawling\n",
      "Start Simple crawling :  http://smartair.interpark.com/HtmlSearch/GetGoodsSmartList.aspx\n",
      ">> Parameters\n",
      "trip:OW , chd:0 , adt:1 , FLEX:N , SplitNo:100 , depdate0:20170820 , SeatAvail:Y , ptype:I , comp:Y , dep0:ICN , BEST:Y , JSON:Y , inf:0 , Soto:N , SeatType:A , AirLine:ZE , enc:u , Change: , arr0:NRT , StayLength: , \n"
     ]
    },
    {
     "name": "stderr",
     "output_type": "stream",
     "text": [
      "2017-08-09 08:07:35,584 root     DEBUG    Crawling Interpark domastic schedule site\n"
     ]
    },
    {
     "name": "stdout",
     "output_type": "stream",
     "text": [
      "End Simple crawling\n",
      "Start Simple crawling :  http://smartair.interpark.com/HtmlSearch/GetGoodsSmartList.aspx\n",
      ">> Parameters\n",
      "trip:OW , chd:0 , adt:1 , FLEX:N , SplitNo:100 , depdate0:20170821 , SeatAvail:Y , ptype:I , comp:Y , dep0:ICN , BEST:Y , JSON:Y , inf:0 , Soto:N , SeatType:A , AirLine:7C , enc:u , Change: , arr0:NRT , StayLength: , \n"
     ]
    },
    {
     "name": "stderr",
     "output_type": "stream",
     "text": [
      "2017-08-09 08:07:36,190 root     DEBUG    Crawling Interpark domastic schedule site\n"
     ]
    },
    {
     "name": "stdout",
     "output_type": "stream",
     "text": [
      "End Simple crawling\n",
      "Start Simple crawling :  http://smartair.interpark.com/HtmlSearch/GetGoodsSmartList.aspx\n",
      ">> Parameters\n",
      "trip:OW , chd:0 , adt:1 , FLEX:N , SplitNo:100 , depdate0:20170821 , SeatAvail:Y , ptype:I , comp:Y , dep0:ICN , BEST:Y , JSON:Y , inf:0 , Soto:N , SeatType:A , AirLine:LJ , enc:u , Change: , arr0:NRT , StayLength: , \n"
     ]
    },
    {
     "name": "stderr",
     "output_type": "stream",
     "text": [
      "2017-08-09 08:07:38,455 root     DEBUG    Crawling Interpark domastic schedule site\n"
     ]
    },
    {
     "name": "stdout",
     "output_type": "stream",
     "text": [
      "End Simple crawling\n",
      "Start Simple crawling :  http://smartair.interpark.com/HtmlSearch/GetGoodsSmartList.aspx\n",
      ">> Parameters\n",
      "trip:OW , chd:0 , adt:1 , FLEX:N , SplitNo:100 , depdate0:20170821 , SeatAvail:Y , ptype:I , comp:Y , dep0:ICN , BEST:Y , JSON:Y , inf:0 , Soto:N , SeatType:A , AirLine:TW , enc:u , Change: , arr0:NRT , StayLength: , \n"
     ]
    },
    {
     "name": "stderr",
     "output_type": "stream",
     "text": [
      "2017-08-09 08:07:40,649 root     DEBUG    Crawling Interpark domastic schedule site\n"
     ]
    },
    {
     "name": "stdout",
     "output_type": "stream",
     "text": [
      "End Simple crawling\n",
      "Start Simple crawling :  http://smartair.interpark.com/HtmlSearch/GetGoodsSmartList.aspx\n",
      ">> Parameters\n",
      "trip:OW , chd:0 , adt:1 , FLEX:N , SplitNo:100 , depdate0:20170821 , SeatAvail:Y , ptype:I , comp:Y , dep0:ICN , BEST:Y , JSON:Y , inf:0 , Soto:N , SeatType:A , AirLine:ZE , enc:u , Change: , arr0:NRT , StayLength: , \n"
     ]
    },
    {
     "name": "stderr",
     "output_type": "stream",
     "text": [
      "2017-08-09 08:07:42,749 root     DEBUG    Crawling Interpark domastic schedule site\n"
     ]
    },
    {
     "name": "stdout",
     "output_type": "stream",
     "text": [
      "End Simple crawling\n",
      "Start Simple crawling :  http://smartair.interpark.com/HtmlSearch/GetGoodsSmartList.aspx\n",
      ">> Parameters\n",
      "trip:OW , chd:0 , adt:1 , FLEX:N , SplitNo:100 , depdate0:20170822 , SeatAvail:Y , ptype:I , comp:Y , dep0:ICN , BEST:Y , JSON:Y , inf:0 , Soto:N , SeatType:A , AirLine:7C , enc:u , Change: , arr0:NRT , StayLength: , \n"
     ]
    },
    {
     "name": "stderr",
     "output_type": "stream",
     "text": [
      "2017-08-09 08:07:43,668 root     DEBUG    Crawling Interpark domastic schedule site\n"
     ]
    },
    {
     "name": "stdout",
     "output_type": "stream",
     "text": [
      "End Simple crawling\n",
      "Start Simple crawling :  http://smartair.interpark.com/HtmlSearch/GetGoodsSmartList.aspx\n",
      ">> Parameters\n",
      "trip:OW , chd:0 , adt:1 , FLEX:N , SplitNo:100 , depdate0:20170822 , SeatAvail:Y , ptype:I , comp:Y , dep0:ICN , BEST:Y , JSON:Y , inf:0 , Soto:N , SeatType:A , AirLine:LJ , enc:u , Change: , arr0:NRT , StayLength: , \n"
     ]
    },
    {
     "name": "stderr",
     "output_type": "stream",
     "text": [
      "2017-08-09 08:07:45,854 root     DEBUG    Crawling Interpark domastic schedule site\n"
     ]
    },
    {
     "name": "stdout",
     "output_type": "stream",
     "text": [
      "End Simple crawling\n",
      "Start Simple crawling :  http://smartair.interpark.com/HtmlSearch/GetGoodsSmartList.aspx\n",
      ">> Parameters\n",
      "trip:OW , chd:0 , adt:1 , FLEX:N , SplitNo:100 , depdate0:20170822 , SeatAvail:Y , ptype:I , comp:Y , dep0:ICN , BEST:Y , JSON:Y , inf:0 , Soto:N , SeatType:A , AirLine:TW , enc:u , Change: , arr0:NRT , StayLength: , \n"
     ]
    },
    {
     "name": "stderr",
     "output_type": "stream",
     "text": [
      "2017-08-09 08:07:48,294 root     DEBUG    Crawling Interpark domastic schedule site\n"
     ]
    },
    {
     "name": "stdout",
     "output_type": "stream",
     "text": [
      "End Simple crawling\n",
      "Start Simple crawling :  http://smartair.interpark.com/HtmlSearch/GetGoodsSmartList.aspx\n",
      ">> Parameters\n",
      "trip:OW , chd:0 , adt:1 , FLEX:N , SplitNo:100 , depdate0:20170822 , SeatAvail:Y , ptype:I , comp:Y , dep0:ICN , BEST:Y , JSON:Y , inf:0 , Soto:N , SeatType:A , AirLine:ZE , enc:u , Change: , arr0:NRT , StayLength: , \n"
     ]
    },
    {
     "name": "stderr",
     "output_type": "stream",
     "text": [
      "2017-08-09 08:07:50,646 root     DEBUG    Crawling Interpark domastic schedule site\n"
     ]
    },
    {
     "name": "stdout",
     "output_type": "stream",
     "text": [
      "End Simple crawling\n",
      "Start Simple crawling :  http://smartair.interpark.com/HtmlSearch/GetGoodsSmartList.aspx\n",
      ">> Parameters\n",
      "trip:OW , chd:0 , adt:1 , FLEX:N , SplitNo:100 , depdate0:20170823 , SeatAvail:Y , ptype:I , comp:Y , dep0:ICN , BEST:Y , JSON:Y , inf:0 , Soto:N , SeatType:A , AirLine:7C , enc:u , Change: , arr0:NRT , StayLength: , \n"
     ]
    },
    {
     "name": "stderr",
     "output_type": "stream",
     "text": [
      "2017-08-09 08:07:51,323 root     DEBUG    Crawling Interpark domastic schedule site\n"
     ]
    },
    {
     "name": "stdout",
     "output_type": "stream",
     "text": [
      "End Simple crawling\n",
      "Start Simple crawling :  http://smartair.interpark.com/HtmlSearch/GetGoodsSmartList.aspx\n",
      ">> Parameters\n",
      "trip:OW , chd:0 , adt:1 , FLEX:N , SplitNo:100 , depdate0:20170823 , SeatAvail:Y , ptype:I , comp:Y , dep0:ICN , BEST:Y , JSON:Y , inf:0 , Soto:N , SeatType:A , AirLine:LJ , enc:u , Change: , arr0:NRT , StayLength: , \n"
     ]
    },
    {
     "name": "stderr",
     "output_type": "stream",
     "text": [
      "2017-08-09 08:07:53,444 root     DEBUG    Crawling Interpark domastic schedule site\n"
     ]
    },
    {
     "name": "stdout",
     "output_type": "stream",
     "text": [
      "End Simple crawling\n",
      "Start Simple crawling :  http://smartair.interpark.com/HtmlSearch/GetGoodsSmartList.aspx\n",
      ">> Parameters\n",
      "trip:OW , chd:0 , adt:1 , FLEX:N , SplitNo:100 , depdate0:20170823 , SeatAvail:Y , ptype:I , comp:Y , dep0:ICN , BEST:Y , JSON:Y , inf:0 , Soto:N , SeatType:A , AirLine:TW , enc:u , Change: , arr0:NRT , StayLength: , \n"
     ]
    },
    {
     "name": "stderr",
     "output_type": "stream",
     "text": [
      "2017-08-09 08:07:55,630 root     DEBUG    Crawling Interpark domastic schedule site\n"
     ]
    },
    {
     "name": "stdout",
     "output_type": "stream",
     "text": [
      "End Simple crawling\n",
      "Start Simple crawling :  http://smartair.interpark.com/HtmlSearch/GetGoodsSmartList.aspx\n",
      ">> Parameters\n",
      "trip:OW , chd:0 , adt:1 , FLEX:N , SplitNo:100 , depdate0:20170823 , SeatAvail:Y , ptype:I , comp:Y , dep0:ICN , BEST:Y , JSON:Y , inf:0 , Soto:N , SeatType:A , AirLine:ZE , enc:u , Change: , arr0:NRT , StayLength: , \n"
     ]
    },
    {
     "name": "stderr",
     "output_type": "stream",
     "text": [
      "2017-08-09 08:07:58,138 root     DEBUG    Crawling Interpark domastic schedule site\n"
     ]
    },
    {
     "name": "stdout",
     "output_type": "stream",
     "text": [
      "End Simple crawling\n",
      "Start Simple crawling :  http://smartair.interpark.com/HtmlSearch/GetGoodsSmartList.aspx\n",
      ">> Parameters\n",
      "trip:OW , chd:0 , adt:1 , FLEX:N , SplitNo:100 , depdate0:20170824 , SeatAvail:Y , ptype:I , comp:Y , dep0:ICN , BEST:Y , JSON:Y , inf:0 , Soto:N , SeatType:A , AirLine:7C , enc:u , Change: , arr0:NRT , StayLength: , \n"
     ]
    },
    {
     "name": "stderr",
     "output_type": "stream",
     "text": [
      "2017-08-09 08:07:59,044 root     DEBUG    Crawling Interpark domastic schedule site\n"
     ]
    },
    {
     "name": "stdout",
     "output_type": "stream",
     "text": [
      "End Simple crawling\n",
      "Start Simple crawling :  http://smartair.interpark.com/HtmlSearch/GetGoodsSmartList.aspx\n",
      ">> Parameters\n",
      "trip:OW , chd:0 , adt:1 , FLEX:N , SplitNo:100 , depdate0:20170824 , SeatAvail:Y , ptype:I , comp:Y , dep0:ICN , BEST:Y , JSON:Y , inf:0 , Soto:N , SeatType:A , AirLine:LJ , enc:u , Change: , arr0:NRT , StayLength: , \n"
     ]
    },
    {
     "name": "stderr",
     "output_type": "stream",
     "text": [
      "2017-08-09 08:08:01,281 root     DEBUG    Crawling Interpark domastic schedule site\n"
     ]
    },
    {
     "name": "stdout",
     "output_type": "stream",
     "text": [
      "End Simple crawling\n",
      "Start Simple crawling :  http://smartair.interpark.com/HtmlSearch/GetGoodsSmartList.aspx\n",
      ">> Parameters\n",
      "trip:OW , chd:0 , adt:1 , FLEX:N , SplitNo:100 , depdate0:20170824 , SeatAvail:Y , ptype:I , comp:Y , dep0:ICN , BEST:Y , JSON:Y , inf:0 , Soto:N , SeatType:A , AirLine:TW , enc:u , Change: , arr0:NRT , StayLength: , \n"
     ]
    },
    {
     "name": "stderr",
     "output_type": "stream",
     "text": [
      "2017-08-09 08:08:03,582 root     DEBUG    Crawling Interpark domastic schedule site\n"
     ]
    },
    {
     "name": "stdout",
     "output_type": "stream",
     "text": [
      "End Simple crawling\n",
      "Start Simple crawling :  http://smartair.interpark.com/HtmlSearch/GetGoodsSmartList.aspx\n",
      ">> Parameters\n",
      "trip:OW , chd:0 , adt:1 , FLEX:N , SplitNo:100 , depdate0:20170824 , SeatAvail:Y , ptype:I , comp:Y , dep0:ICN , BEST:Y , JSON:Y , inf:0 , Soto:N , SeatType:A , AirLine:ZE , enc:u , Change: , arr0:NRT , StayLength: , \n"
     ]
    },
    {
     "name": "stderr",
     "output_type": "stream",
     "text": [
      "2017-08-09 08:08:05,956 root     DEBUG    Crawling Interpark domastic schedule site\n"
     ]
    },
    {
     "name": "stdout",
     "output_type": "stream",
     "text": [
      "End Simple crawling\n",
      "Start Simple crawling :  http://smartair.interpark.com/HtmlSearch/GetGoodsSmartList.aspx\n",
      ">> Parameters\n",
      "trip:OW , chd:0 , adt:1 , FLEX:N , SplitNo:100 , depdate0:20170825 , SeatAvail:Y , ptype:I , comp:Y , dep0:ICN , BEST:Y , JSON:Y , inf:0 , Soto:N , SeatType:A , AirLine:7C , enc:u , Change: , arr0:NRT , StayLength: , \n"
     ]
    },
    {
     "name": "stderr",
     "output_type": "stream",
     "text": [
      "2017-08-09 08:08:06,653 root     DEBUG    Crawling Interpark domastic schedule site\n"
     ]
    },
    {
     "name": "stdout",
     "output_type": "stream",
     "text": [
      "End Simple crawling\n",
      "Start Simple crawling :  http://smartair.interpark.com/HtmlSearch/GetGoodsSmartList.aspx\n",
      ">> Parameters\n",
      "trip:OW , chd:0 , adt:1 , FLEX:N , SplitNo:100 , depdate0:20170825 , SeatAvail:Y , ptype:I , comp:Y , dep0:ICN , BEST:Y , JSON:Y , inf:0 , Soto:N , SeatType:A , AirLine:LJ , enc:u , Change: , arr0:NRT , StayLength: , \n"
     ]
    },
    {
     "name": "stderr",
     "output_type": "stream",
     "text": [
      "2017-08-09 08:08:08,864 root     DEBUG    Crawling Interpark domastic schedule site\n"
     ]
    },
    {
     "name": "stdout",
     "output_type": "stream",
     "text": [
      "End Simple crawling\n",
      "Start Simple crawling :  http://smartair.interpark.com/HtmlSearch/GetGoodsSmartList.aspx\n",
      ">> Parameters\n",
      "trip:OW , chd:0 , adt:1 , FLEX:N , SplitNo:100 , depdate0:20170825 , SeatAvail:Y , ptype:I , comp:Y , dep0:ICN , BEST:Y , JSON:Y , inf:0 , Soto:N , SeatType:A , AirLine:TW , enc:u , Change: , arr0:NRT , StayLength: , \n"
     ]
    },
    {
     "name": "stderr",
     "output_type": "stream",
     "text": [
      "2017-08-09 08:08:11,429 root     DEBUG    Crawling Interpark domastic schedule site\n"
     ]
    },
    {
     "name": "stdout",
     "output_type": "stream",
     "text": [
      "End Simple crawling\n",
      "Start Simple crawling :  http://smartair.interpark.com/HtmlSearch/GetGoodsSmartList.aspx\n",
      ">> Parameters\n",
      "trip:OW , chd:0 , adt:1 , FLEX:N , SplitNo:100 , depdate0:20170825 , SeatAvail:Y , ptype:I , comp:Y , dep0:ICN , BEST:Y , JSON:Y , inf:0 , Soto:N , SeatType:A , AirLine:ZE , enc:u , Change: , arr0:NRT , StayLength: , \n"
     ]
    },
    {
     "name": "stderr",
     "output_type": "stream",
     "text": [
      "2017-08-09 08:08:13,719 root     DEBUG    Crawling Interpark domastic schedule site\n"
     ]
    },
    {
     "name": "stdout",
     "output_type": "stream",
     "text": [
      "End Simple crawling\n",
      "Start Simple crawling :  http://smartair.interpark.com/HtmlSearch/GetGoodsSmartList.aspx\n",
      ">> Parameters\n",
      "trip:OW , chd:0 , adt:1 , FLEX:N , SplitNo:100 , depdate0:20170826 , SeatAvail:Y , ptype:I , comp:Y , dep0:ICN , BEST:Y , JSON:Y , inf:0 , Soto:N , SeatType:A , AirLine:7C , enc:u , Change: , arr0:NRT , StayLength: , \n"
     ]
    },
    {
     "name": "stderr",
     "output_type": "stream",
     "text": [
      "2017-08-09 08:08:14,856 root     DEBUG    Crawling Interpark domastic schedule site\n"
     ]
    },
    {
     "name": "stdout",
     "output_type": "stream",
     "text": [
      "End Simple crawling\n",
      "Start Simple crawling :  http://smartair.interpark.com/HtmlSearch/GetGoodsSmartList.aspx\n",
      ">> Parameters\n",
      "trip:OW , chd:0 , adt:1 , FLEX:N , SplitNo:100 , depdate0:20170826 , SeatAvail:Y , ptype:I , comp:Y , dep0:ICN , BEST:Y , JSON:Y , inf:0 , Soto:N , SeatType:A , AirLine:LJ , enc:u , Change: , arr0:NRT , StayLength: , \n"
     ]
    },
    {
     "name": "stderr",
     "output_type": "stream",
     "text": [
      "2017-08-09 08:08:16,970 root     DEBUG    Crawling Interpark domastic schedule site\n"
     ]
    },
    {
     "name": "stdout",
     "output_type": "stream",
     "text": [
      "End Simple crawling\n",
      "Start Simple crawling :  http://smartair.interpark.com/HtmlSearch/GetGoodsSmartList.aspx\n",
      ">> Parameters\n",
      "trip:OW , chd:0 , adt:1 , FLEX:N , SplitNo:100 , depdate0:20170826 , SeatAvail:Y , ptype:I , comp:Y , dep0:ICN , BEST:Y , JSON:Y , inf:0 , Soto:N , SeatType:A , AirLine:TW , enc:u , Change: , arr0:NRT , StayLength: , \n"
     ]
    },
    {
     "name": "stderr",
     "output_type": "stream",
     "text": [
      "2017-08-09 08:08:19,372 root     DEBUG    Crawling Interpark domastic schedule site\n"
     ]
    },
    {
     "name": "stdout",
     "output_type": "stream",
     "text": [
      "End Simple crawling\n",
      "Start Simple crawling :  http://smartair.interpark.com/HtmlSearch/GetGoodsSmartList.aspx\n",
      ">> Parameters\n",
      "trip:OW , chd:0 , adt:1 , FLEX:N , SplitNo:100 , depdate0:20170826 , SeatAvail:Y , ptype:I , comp:Y , dep0:ICN , BEST:Y , JSON:Y , inf:0 , Soto:N , SeatType:A , AirLine:ZE , enc:u , Change: , arr0:NRT , StayLength: , \n"
     ]
    },
    {
     "name": "stderr",
     "output_type": "stream",
     "text": [
      "2017-08-09 08:08:21,531 root     DEBUG    Crawling Interpark domastic schedule site\n"
     ]
    },
    {
     "name": "stdout",
     "output_type": "stream",
     "text": [
      "End Simple crawling\n",
      "Start Simple crawling :  http://smartair.interpark.com/HtmlSearch/GetGoodsSmartList.aspx\n",
      ">> Parameters\n",
      "trip:OW , chd:0 , adt:1 , FLEX:N , SplitNo:100 , depdate0:20170827 , SeatAvail:Y , ptype:I , comp:Y , dep0:ICN , BEST:Y , JSON:Y , inf:0 , Soto:N , SeatType:A , AirLine:7C , enc:u , Change: , arr0:NRT , StayLength: , \n"
     ]
    },
    {
     "name": "stderr",
     "output_type": "stream",
     "text": [
      "2017-08-09 08:08:22,163 root     DEBUG    Crawling Interpark domastic schedule site\n"
     ]
    },
    {
     "name": "stdout",
     "output_type": "stream",
     "text": [
      "End Simple crawling\n",
      "Start Simple crawling :  http://smartair.interpark.com/HtmlSearch/GetGoodsSmartList.aspx\n",
      ">> Parameters\n",
      "trip:OW , chd:0 , adt:1 , FLEX:N , SplitNo:100 , depdate0:20170827 , SeatAvail:Y , ptype:I , comp:Y , dep0:ICN , BEST:Y , JSON:Y , inf:0 , Soto:N , SeatType:A , AirLine:LJ , enc:u , Change: , arr0:NRT , StayLength: , \n"
     ]
    },
    {
     "name": "stderr",
     "output_type": "stream",
     "text": [
      "2017-08-09 08:08:24,565 root     DEBUG    Crawling Interpark domastic schedule site\n"
     ]
    },
    {
     "name": "stdout",
     "output_type": "stream",
     "text": [
      "End Simple crawling\n",
      "Start Simple crawling :  http://smartair.interpark.com/HtmlSearch/GetGoodsSmartList.aspx\n",
      ">> Parameters\n",
      "trip:OW , chd:0 , adt:1 , FLEX:N , SplitNo:100 , depdate0:20170827 , SeatAvail:Y , ptype:I , comp:Y , dep0:ICN , BEST:Y , JSON:Y , inf:0 , Soto:N , SeatType:A , AirLine:TW , enc:u , Change: , arr0:NRT , StayLength: , \n"
     ]
    },
    {
     "name": "stderr",
     "output_type": "stream",
     "text": [
      "2017-08-09 08:08:26,694 root     DEBUG    Crawling Interpark domastic schedule site\n"
     ]
    },
    {
     "name": "stdout",
     "output_type": "stream",
     "text": [
      "End Simple crawling\n",
      "Start Simple crawling :  http://smartair.interpark.com/HtmlSearch/GetGoodsSmartList.aspx\n",
      ">> Parameters\n",
      "trip:OW , chd:0 , adt:1 , FLEX:N , SplitNo:100 , depdate0:20170827 , SeatAvail:Y , ptype:I , comp:Y , dep0:ICN , BEST:Y , JSON:Y , inf:0 , Soto:N , SeatType:A , AirLine:ZE , enc:u , Change: , arr0:NRT , StayLength: , \n"
     ]
    },
    {
     "name": "stderr",
     "output_type": "stream",
     "text": [
      "2017-08-09 08:08:28,850 root     DEBUG    Crawling Interpark domastic schedule site\n"
     ]
    },
    {
     "name": "stdout",
     "output_type": "stream",
     "text": [
      "End Simple crawling\n",
      "Start Simple crawling :  http://smartair.interpark.com/HtmlSearch/GetGoodsSmartList.aspx\n",
      ">> Parameters\n",
      "trip:OW , chd:0 , adt:1 , FLEX:N , SplitNo:100 , depdate0:20170828 , SeatAvail:Y , ptype:I , comp:Y , dep0:ICN , BEST:Y , JSON:Y , inf:0 , Soto:N , SeatType:A , AirLine:7C , enc:u , Change: , arr0:NRT , StayLength: , \n"
     ]
    },
    {
     "name": "stderr",
     "output_type": "stream",
     "text": [
      "2017-08-09 08:08:29,552 root     DEBUG    Crawling Interpark domastic schedule site\n"
     ]
    },
    {
     "name": "stdout",
     "output_type": "stream",
     "text": [
      "End Simple crawling\n",
      "Start Simple crawling :  http://smartair.interpark.com/HtmlSearch/GetGoodsSmartList.aspx\n",
      ">> Parameters\n",
      "trip:OW , chd:0 , adt:1 , FLEX:N , SplitNo:100 , depdate0:20170828 , SeatAvail:Y , ptype:I , comp:Y , dep0:ICN , BEST:Y , JSON:Y , inf:0 , Soto:N , SeatType:A , AirLine:LJ , enc:u , Change: , arr0:NRT , StayLength: , \n"
     ]
    },
    {
     "name": "stderr",
     "output_type": "stream",
     "text": [
      "2017-08-09 08:08:31,778 root     DEBUG    Crawling Interpark domastic schedule site\n"
     ]
    },
    {
     "name": "stdout",
     "output_type": "stream",
     "text": [
      "End Simple crawling\n",
      "Start Simple crawling :  http://smartair.interpark.com/HtmlSearch/GetGoodsSmartList.aspx\n",
      ">> Parameters\n",
      "trip:OW , chd:0 , adt:1 , FLEX:N , SplitNo:100 , depdate0:20170828 , SeatAvail:Y , ptype:I , comp:Y , dep0:ICN , BEST:Y , JSON:Y , inf:0 , Soto:N , SeatType:A , AirLine:TW , enc:u , Change: , arr0:NRT , StayLength: , \n"
     ]
    },
    {
     "name": "stderr",
     "output_type": "stream",
     "text": [
      "2017-08-09 08:08:35,067 root     DEBUG    Crawling Interpark domastic schedule site\n"
     ]
    },
    {
     "name": "stdout",
     "output_type": "stream",
     "text": [
      "End Simple crawling\n",
      "Start Simple crawling :  http://smartair.interpark.com/HtmlSearch/GetGoodsSmartList.aspx\n",
      ">> Parameters\n",
      "trip:OW , chd:0 , adt:1 , FLEX:N , SplitNo:100 , depdate0:20170828 , SeatAvail:Y , ptype:I , comp:Y , dep0:ICN , BEST:Y , JSON:Y , inf:0 , Soto:N , SeatType:A , AirLine:ZE , enc:u , Change: , arr0:NRT , StayLength: , \n"
     ]
    },
    {
     "name": "stderr",
     "output_type": "stream",
     "text": [
      "2017-08-09 08:08:37,526 root     DEBUG    Crawling Interpark domastic schedule site\n"
     ]
    },
    {
     "name": "stdout",
     "output_type": "stream",
     "text": [
      "End Simple crawling\n",
      "Start Simple crawling :  http://smartair.interpark.com/HtmlSearch/GetGoodsSmartList.aspx\n",
      ">> Parameters\n",
      "trip:OW , chd:0 , adt:1 , FLEX:N , SplitNo:100 , depdate0:20170829 , SeatAvail:Y , ptype:I , comp:Y , dep0:ICN , BEST:Y , JSON:Y , inf:0 , Soto:N , SeatType:A , AirLine:7C , enc:u , Change: , arr0:NRT , StayLength: , \n"
     ]
    },
    {
     "name": "stderr",
     "output_type": "stream",
     "text": [
      "2017-08-09 08:08:38,743 root     DEBUG    Crawling Interpark domastic schedule site\n"
     ]
    },
    {
     "name": "stdout",
     "output_type": "stream",
     "text": [
      "End Simple crawling\n",
      "Start Simple crawling :  http://smartair.interpark.com/HtmlSearch/GetGoodsSmartList.aspx\n",
      ">> Parameters\n",
      "trip:OW , chd:0 , adt:1 , FLEX:N , SplitNo:100 , depdate0:20170829 , SeatAvail:Y , ptype:I , comp:Y , dep0:ICN , BEST:Y , JSON:Y , inf:0 , Soto:N , SeatType:A , AirLine:LJ , enc:u , Change: , arr0:NRT , StayLength: , \n"
     ]
    },
    {
     "name": "stderr",
     "output_type": "stream",
     "text": [
      "2017-08-09 08:08:40,955 root     DEBUG    Crawling Interpark domastic schedule site\n"
     ]
    },
    {
     "name": "stdout",
     "output_type": "stream",
     "text": [
      "End Simple crawling\n",
      "Start Simple crawling :  http://smartair.interpark.com/HtmlSearch/GetGoodsSmartList.aspx\n",
      ">> Parameters\n",
      "trip:OW , chd:0 , adt:1 , FLEX:N , SplitNo:100 , depdate0:20170829 , SeatAvail:Y , ptype:I , comp:Y , dep0:ICN , BEST:Y , JSON:Y , inf:0 , Soto:N , SeatType:A , AirLine:TW , enc:u , Change: , arr0:NRT , StayLength: , \n"
     ]
    },
    {
     "name": "stderr",
     "output_type": "stream",
     "text": [
      "2017-08-09 08:08:43,499 root     DEBUG    Crawling Interpark domastic schedule site\n"
     ]
    },
    {
     "name": "stdout",
     "output_type": "stream",
     "text": [
      "End Simple crawling\n",
      "Start Simple crawling :  http://smartair.interpark.com/HtmlSearch/GetGoodsSmartList.aspx\n",
      ">> Parameters\n",
      "trip:OW , chd:0 , adt:1 , FLEX:N , SplitNo:100 , depdate0:20170829 , SeatAvail:Y , ptype:I , comp:Y , dep0:ICN , BEST:Y , JSON:Y , inf:0 , Soto:N , SeatType:A , AirLine:ZE , enc:u , Change: , arr0:NRT , StayLength: , \n"
     ]
    },
    {
     "name": "stderr",
     "output_type": "stream",
     "text": [
      "2017-08-09 08:08:45,937 root     DEBUG    Crawling Interpark domastic schedule site\n"
     ]
    },
    {
     "name": "stdout",
     "output_type": "stream",
     "text": [
      "End Simple crawling\n",
      "Start Simple crawling :  http://smartair.interpark.com/HtmlSearch/GetGoodsSmartList.aspx\n",
      ">> Parameters\n",
      "trip:OW , chd:0 , adt:1 , FLEX:N , SplitNo:100 , depdate0:20170830 , SeatAvail:Y , ptype:I , comp:Y , dep0:ICN , BEST:Y , JSON:Y , inf:0 , Soto:N , SeatType:A , AirLine:7C , enc:u , Change: , arr0:NRT , StayLength: , \n"
     ]
    },
    {
     "name": "stderr",
     "output_type": "stream",
     "text": [
      "2017-08-09 08:08:46,827 root     DEBUG    Crawling Interpark domastic schedule site\n"
     ]
    },
    {
     "name": "stdout",
     "output_type": "stream",
     "text": [
      "End Simple crawling\n",
      "Start Simple crawling :  http://smartair.interpark.com/HtmlSearch/GetGoodsSmartList.aspx\n",
      ">> Parameters\n",
      "trip:OW , chd:0 , adt:1 , FLEX:N , SplitNo:100 , depdate0:20170830 , SeatAvail:Y , ptype:I , comp:Y , dep0:ICN , BEST:Y , JSON:Y , inf:0 , Soto:N , SeatType:A , AirLine:LJ , enc:u , Change: , arr0:NRT , StayLength: , \n"
     ]
    },
    {
     "name": "stderr",
     "output_type": "stream",
     "text": [
      "2017-08-09 08:08:49,163 root     DEBUG    Crawling Interpark domastic schedule site\n"
     ]
    },
    {
     "name": "stdout",
     "output_type": "stream",
     "text": [
      "End Simple crawling\n",
      "Start Simple crawling :  http://smartair.interpark.com/HtmlSearch/GetGoodsSmartList.aspx\n",
      ">> Parameters\n",
      "trip:OW , chd:0 , adt:1 , FLEX:N , SplitNo:100 , depdate0:20170830 , SeatAvail:Y , ptype:I , comp:Y , dep0:ICN , BEST:Y , JSON:Y , inf:0 , Soto:N , SeatType:A , AirLine:TW , enc:u , Change: , arr0:NRT , StayLength: , \n"
     ]
    },
    {
     "name": "stderr",
     "output_type": "stream",
     "text": [
      "2017-08-09 08:08:51,539 root     DEBUG    Crawling Interpark domastic schedule site\n"
     ]
    },
    {
     "name": "stdout",
     "output_type": "stream",
     "text": [
      "End Simple crawling\n",
      "Start Simple crawling :  http://smartair.interpark.com/HtmlSearch/GetGoodsSmartList.aspx\n",
      ">> Parameters\n",
      "trip:OW , chd:0 , adt:1 , FLEX:N , SplitNo:100 , depdate0:20170830 , SeatAvail:Y , ptype:I , comp:Y , dep0:ICN , BEST:Y , JSON:Y , inf:0 , Soto:N , SeatType:A , AirLine:ZE , enc:u , Change: , arr0:NRT , StayLength: , \n"
     ]
    },
    {
     "name": "stderr",
     "output_type": "stream",
     "text": [
      "2017-08-09 08:08:54,040 root     DEBUG    Crawling Interpark domastic schedule site\n"
     ]
    },
    {
     "name": "stdout",
     "output_type": "stream",
     "text": [
      "End Simple crawling\n",
      "Start Simple crawling :  http://smartair.interpark.com/HtmlSearch/GetGoodsSmartList.aspx\n",
      ">> Parameters\n",
      "trip:OW , chd:0 , adt:1 , FLEX:N , SplitNo:100 , depdate0:20170831 , SeatAvail:Y , ptype:I , comp:Y , dep0:ICN , BEST:Y , JSON:Y , inf:0 , Soto:N , SeatType:A , AirLine:7C , enc:u , Change: , arr0:NRT , StayLength: , \n"
     ]
    },
    {
     "name": "stderr",
     "output_type": "stream",
     "text": [
      "2017-08-09 08:08:55,206 root     DEBUG    Crawling Interpark domastic schedule site\n"
     ]
    },
    {
     "name": "stdout",
     "output_type": "stream",
     "text": [
      "End Simple crawling\n",
      "Start Simple crawling :  http://smartair.interpark.com/HtmlSearch/GetGoodsSmartList.aspx\n",
      ">> Parameters\n",
      "trip:OW , chd:0 , adt:1 , FLEX:N , SplitNo:100 , depdate0:20170831 , SeatAvail:Y , ptype:I , comp:Y , dep0:ICN , BEST:Y , JSON:Y , inf:0 , Soto:N , SeatType:A , AirLine:LJ , enc:u , Change: , arr0:NRT , StayLength: , \n"
     ]
    },
    {
     "name": "stderr",
     "output_type": "stream",
     "text": [
      "2017-08-09 08:08:57,508 root     DEBUG    Crawling Interpark domastic schedule site\n"
     ]
    },
    {
     "name": "stdout",
     "output_type": "stream",
     "text": [
      "End Simple crawling\n",
      "Start Simple crawling :  http://smartair.interpark.com/HtmlSearch/GetGoodsSmartList.aspx\n",
      ">> Parameters\n",
      "trip:OW , chd:0 , adt:1 , FLEX:N , SplitNo:100 , depdate0:20170831 , SeatAvail:Y , ptype:I , comp:Y , dep0:ICN , BEST:Y , JSON:Y , inf:0 , Soto:N , SeatType:A , AirLine:TW , enc:u , Change: , arr0:NRT , StayLength: , \n"
     ]
    },
    {
     "name": "stderr",
     "output_type": "stream",
     "text": [
      "2017-08-09 08:08:59,711 root     DEBUG    Crawling Interpark domastic schedule site\n"
     ]
    },
    {
     "name": "stdout",
     "output_type": "stream",
     "text": [
      "End Simple crawling\n",
      "Start Simple crawling :  http://smartair.interpark.com/HtmlSearch/GetGoodsSmartList.aspx\n",
      ">> Parameters\n",
      "trip:OW , chd:0 , adt:1 , FLEX:N , SplitNo:100 , depdate0:20170831 , SeatAvail:Y , ptype:I , comp:Y , dep0:ICN , BEST:Y , JSON:Y , inf:0 , Soto:N , SeatType:A , AirLine:ZE , enc:u , Change: , arr0:NRT , StayLength: , \n"
     ]
    },
    {
     "name": "stderr",
     "output_type": "stream",
     "text": [
      "2017-08-09 08:09:02,151 root     DEBUG    Crawling Interpark domastic schedule site\n"
     ]
    },
    {
     "name": "stdout",
     "output_type": "stream",
     "text": [
      "End Simple crawling\n",
      "Start Simple crawling :  http://smartair.interpark.com/HtmlSearch/GetGoodsSmartList.aspx\n",
      ">> Parameters\n",
      "trip:OW , chd:0 , adt:1 , FLEX:N , SplitNo:100 , depdate0:20170901 , SeatAvail:Y , ptype:I , comp:Y , dep0:ICN , BEST:Y , JSON:Y , inf:0 , Soto:N , SeatType:A , AirLine:7C , enc:u , Change: , arr0:NRT , StayLength: , \n"
     ]
    },
    {
     "name": "stderr",
     "output_type": "stream",
     "text": [
      "2017-08-09 08:09:02,771 root     DEBUG    Crawling Interpark domastic schedule site\n"
     ]
    },
    {
     "name": "stdout",
     "output_type": "stream",
     "text": [
      "End Simple crawling\n",
      "Start Simple crawling :  http://smartair.interpark.com/HtmlSearch/GetGoodsSmartList.aspx\n",
      ">> Parameters\n",
      "trip:OW , chd:0 , adt:1 , FLEX:N , SplitNo:100 , depdate0:20170901 , SeatAvail:Y , ptype:I , comp:Y , dep0:ICN , BEST:Y , JSON:Y , inf:0 , Soto:N , SeatType:A , AirLine:LJ , enc:u , Change: , arr0:NRT , StayLength: , \n"
     ]
    },
    {
     "name": "stderr",
     "output_type": "stream",
     "text": [
      "2017-08-09 08:09:04,965 root     DEBUG    Crawling Interpark domastic schedule site\n"
     ]
    },
    {
     "name": "stdout",
     "output_type": "stream",
     "text": [
      "End Simple crawling\n",
      "Start Simple crawling :  http://smartair.interpark.com/HtmlSearch/GetGoodsSmartList.aspx\n",
      ">> Parameters\n",
      "trip:OW , chd:0 , adt:1 , FLEX:N , SplitNo:100 , depdate0:20170901 , SeatAvail:Y , ptype:I , comp:Y , dep0:ICN , BEST:Y , JSON:Y , inf:0 , Soto:N , SeatType:A , AirLine:TW , enc:u , Change: , arr0:NRT , StayLength: , \n"
     ]
    },
    {
     "name": "stderr",
     "output_type": "stream",
     "text": [
      "2017-08-09 08:09:07,154 root     DEBUG    Crawling Interpark domastic schedule site\n"
     ]
    },
    {
     "name": "stdout",
     "output_type": "stream",
     "text": [
      "End Simple crawling\n",
      "Start Simple crawling :  http://smartair.interpark.com/HtmlSearch/GetGoodsSmartList.aspx\n",
      ">> Parameters\n",
      "trip:OW , chd:0 , adt:1 , FLEX:N , SplitNo:100 , depdate0:20170901 , SeatAvail:Y , ptype:I , comp:Y , dep0:ICN , BEST:Y , JSON:Y , inf:0 , Soto:N , SeatType:A , AirLine:ZE , enc:u , Change: , arr0:NRT , StayLength: , \n"
     ]
    },
    {
     "name": "stderr",
     "output_type": "stream",
     "text": [
      "2017-08-09 08:09:09,540 root     DEBUG    Crawling Interpark domastic schedule site\n"
     ]
    },
    {
     "name": "stdout",
     "output_type": "stream",
     "text": [
      "End Simple crawling\n",
      "Start Simple crawling :  http://smartair.interpark.com/HtmlSearch/GetGoodsSmartList.aspx\n",
      ">> Parameters\n",
      "trip:OW , chd:0 , adt:1 , FLEX:N , SplitNo:100 , depdate0:20170902 , SeatAvail:Y , ptype:I , comp:Y , dep0:ICN , BEST:Y , JSON:Y , inf:0 , Soto:N , SeatType:A , AirLine:7C , enc:u , Change: , arr0:NRT , StayLength: , \n"
     ]
    },
    {
     "name": "stderr",
     "output_type": "stream",
     "text": [
      "2017-08-09 08:09:10,198 root     DEBUG    Crawling Interpark domastic schedule site\n"
     ]
    },
    {
     "name": "stdout",
     "output_type": "stream",
     "text": [
      "End Simple crawling\n",
      "Start Simple crawling :  http://smartair.interpark.com/HtmlSearch/GetGoodsSmartList.aspx\n",
      ">> Parameters\n",
      "trip:OW , chd:0 , adt:1 , FLEX:N , SplitNo:100 , depdate0:20170902 , SeatAvail:Y , ptype:I , comp:Y , dep0:ICN , BEST:Y , JSON:Y , inf:0 , Soto:N , SeatType:A , AirLine:LJ , enc:u , Change: , arr0:NRT , StayLength: , \n"
     ]
    },
    {
     "name": "stderr",
     "output_type": "stream",
     "text": [
      "2017-08-09 08:09:12,399 root     DEBUG    Crawling Interpark domastic schedule site\n"
     ]
    },
    {
     "name": "stdout",
     "output_type": "stream",
     "text": [
      "End Simple crawling\n",
      "Start Simple crawling :  http://smartair.interpark.com/HtmlSearch/GetGoodsSmartList.aspx\n",
      ">> Parameters\n",
      "trip:OW , chd:0 , adt:1 , FLEX:N , SplitNo:100 , depdate0:20170902 , SeatAvail:Y , ptype:I , comp:Y , dep0:ICN , BEST:Y , JSON:Y , inf:0 , Soto:N , SeatType:A , AirLine:TW , enc:u , Change: , arr0:NRT , StayLength: , \n"
     ]
    },
    {
     "name": "stderr",
     "output_type": "stream",
     "text": [
      "2017-08-09 08:09:14,794 root     DEBUG    Crawling Interpark domastic schedule site\n"
     ]
    },
    {
     "name": "stdout",
     "output_type": "stream",
     "text": [
      "End Simple crawling\n",
      "Start Simple crawling :  http://smartair.interpark.com/HtmlSearch/GetGoodsSmartList.aspx\n",
      ">> Parameters\n",
      "trip:OW , chd:0 , adt:1 , FLEX:N , SplitNo:100 , depdate0:20170902 , SeatAvail:Y , ptype:I , comp:Y , dep0:ICN , BEST:Y , JSON:Y , inf:0 , Soto:N , SeatType:A , AirLine:ZE , enc:u , Change: , arr0:NRT , StayLength: , \n"
     ]
    },
    {
     "name": "stderr",
     "output_type": "stream",
     "text": [
      "2017-08-09 08:09:16,965 root     DEBUG    Crawling Interpark domastic schedule site\n"
     ]
    },
    {
     "name": "stdout",
     "output_type": "stream",
     "text": [
      "End Simple crawling\n",
      "Start Simple crawling :  http://smartair.interpark.com/HtmlSearch/GetGoodsSmartList.aspx\n",
      ">> Parameters\n",
      "trip:OW , chd:0 , adt:1 , FLEX:N , SplitNo:100 , depdate0:20170903 , SeatAvail:Y , ptype:I , comp:Y , dep0:ICN , BEST:Y , JSON:Y , inf:0 , Soto:N , SeatType:A , AirLine:7C , enc:u , Change: , arr0:NRT , StayLength: , \n"
     ]
    },
    {
     "name": "stderr",
     "output_type": "stream",
     "text": [
      "2017-08-09 08:09:17,630 root     DEBUG    Crawling Interpark domastic schedule site\n"
     ]
    },
    {
     "name": "stdout",
     "output_type": "stream",
     "text": [
      "End Simple crawling\n",
      "Start Simple crawling :  http://smartair.interpark.com/HtmlSearch/GetGoodsSmartList.aspx\n",
      ">> Parameters\n",
      "trip:OW , chd:0 , adt:1 , FLEX:N , SplitNo:100 , depdate0:20170903 , SeatAvail:Y , ptype:I , comp:Y , dep0:ICN , BEST:Y , JSON:Y , inf:0 , Soto:N , SeatType:A , AirLine:LJ , enc:u , Change: , arr0:NRT , StayLength: , \n"
     ]
    },
    {
     "name": "stderr",
     "output_type": "stream",
     "text": [
      "2017-08-09 08:09:19,988 root     DEBUG    Crawling Interpark domastic schedule site\n"
     ]
    },
    {
     "name": "stdout",
     "output_type": "stream",
     "text": [
      "End Simple crawling\n",
      "Start Simple crawling :  http://smartair.interpark.com/HtmlSearch/GetGoodsSmartList.aspx\n",
      ">> Parameters\n",
      "trip:OW , chd:0 , adt:1 , FLEX:N , SplitNo:100 , depdate0:20170903 , SeatAvail:Y , ptype:I , comp:Y , dep0:ICN , BEST:Y , JSON:Y , inf:0 , Soto:N , SeatType:A , AirLine:TW , enc:u , Change: , arr0:NRT , StayLength: , \n"
     ]
    },
    {
     "name": "stderr",
     "output_type": "stream",
     "text": [
      "2017-08-09 08:09:22,224 root     DEBUG    Crawling Interpark domastic schedule site\n"
     ]
    },
    {
     "name": "stdout",
     "output_type": "stream",
     "text": [
      "End Simple crawling\n",
      "Start Simple crawling :  http://smartair.interpark.com/HtmlSearch/GetGoodsSmartList.aspx\n",
      ">> Parameters\n",
      "trip:OW , chd:0 , adt:1 , FLEX:N , SplitNo:100 , depdate0:20170903 , SeatAvail:Y , ptype:I , comp:Y , dep0:ICN , BEST:Y , JSON:Y , inf:0 , Soto:N , SeatType:A , AirLine:ZE , enc:u , Change: , arr0:NRT , StayLength: , \n"
     ]
    },
    {
     "name": "stderr",
     "output_type": "stream",
     "text": [
      "2017-08-09 08:09:24,403 root     DEBUG    Crawling Interpark domastic schedule site\n"
     ]
    },
    {
     "name": "stdout",
     "output_type": "stream",
     "text": [
      "End Simple crawling\n",
      "Start Simple crawling :  http://smartair.interpark.com/HtmlSearch/GetGoodsSmartList.aspx\n",
      ">> Parameters\n",
      "trip:OW , chd:0 , adt:1 , FLEX:N , SplitNo:100 , depdate0:20170904 , SeatAvail:Y , ptype:I , comp:Y , dep0:ICN , BEST:Y , JSON:Y , inf:0 , Soto:N , SeatType:A , AirLine:7C , enc:u , Change: , arr0:NRT , StayLength: , \n"
     ]
    },
    {
     "name": "stderr",
     "output_type": "stream",
     "text": [
      "2017-08-09 08:09:25,125 root     DEBUG    Crawling Interpark domastic schedule site\n"
     ]
    },
    {
     "name": "stdout",
     "output_type": "stream",
     "text": [
      "End Simple crawling\n",
      "Start Simple crawling :  http://smartair.interpark.com/HtmlSearch/GetGoodsSmartList.aspx\n",
      ">> Parameters\n",
      "trip:OW , chd:0 , adt:1 , FLEX:N , SplitNo:100 , depdate0:20170904 , SeatAvail:Y , ptype:I , comp:Y , dep0:ICN , BEST:Y , JSON:Y , inf:0 , Soto:N , SeatType:A , AirLine:LJ , enc:u , Change: , arr0:NRT , StayLength: , \n"
     ]
    },
    {
     "name": "stderr",
     "output_type": "stream",
     "text": [
      "2017-08-09 08:09:27,255 root     DEBUG    Crawling Interpark domastic schedule site\n"
     ]
    },
    {
     "name": "stdout",
     "output_type": "stream",
     "text": [
      "End Simple crawling\n",
      "Start Simple crawling :  http://smartair.interpark.com/HtmlSearch/GetGoodsSmartList.aspx\n",
      ">> Parameters\n",
      "trip:OW , chd:0 , adt:1 , FLEX:N , SplitNo:100 , depdate0:20170904 , SeatAvail:Y , ptype:I , comp:Y , dep0:ICN , BEST:Y , JSON:Y , inf:0 , Soto:N , SeatType:A , AirLine:TW , enc:u , Change: , arr0:NRT , StayLength: , \n"
     ]
    },
    {
     "name": "stderr",
     "output_type": "stream",
     "text": [
      "2017-08-09 08:09:29,854 root     DEBUG    Crawling Interpark domastic schedule site\n"
     ]
    },
    {
     "name": "stdout",
     "output_type": "stream",
     "text": [
      "End Simple crawling\n",
      "Start Simple crawling :  http://smartair.interpark.com/HtmlSearch/GetGoodsSmartList.aspx\n",
      ">> Parameters\n",
      "trip:OW , chd:0 , adt:1 , FLEX:N , SplitNo:100 , depdate0:20170904 , SeatAvail:Y , ptype:I , comp:Y , dep0:ICN , BEST:Y , JSON:Y , inf:0 , Soto:N , SeatType:A , AirLine:ZE , enc:u , Change: , arr0:NRT , StayLength: , \n"
     ]
    },
    {
     "name": "stderr",
     "output_type": "stream",
     "text": [
      "2017-08-09 08:09:32,079 root     DEBUG    Crawling Interpark domastic schedule site\n"
     ]
    },
    {
     "name": "stdout",
     "output_type": "stream",
     "text": [
      "End Simple crawling\n",
      "Start Simple crawling :  http://smartair.interpark.com/HtmlSearch/GetGoodsSmartList.aspx\n",
      ">> Parameters\n",
      "trip:OW , chd:0 , adt:1 , FLEX:N , SplitNo:100 , depdate0:20170905 , SeatAvail:Y , ptype:I , comp:Y , dep0:ICN , BEST:Y , JSON:Y , inf:0 , Soto:N , SeatType:A , AirLine:7C , enc:u , Change: , arr0:NRT , StayLength: , \n"
     ]
    },
    {
     "name": "stderr",
     "output_type": "stream",
     "text": [
      "2017-08-09 08:09:32,893 root     DEBUG    Crawling Interpark domastic schedule site\n"
     ]
    },
    {
     "name": "stdout",
     "output_type": "stream",
     "text": [
      "End Simple crawling\n",
      "Start Simple crawling :  http://smartair.interpark.com/HtmlSearch/GetGoodsSmartList.aspx\n",
      ">> Parameters\n",
      "trip:OW , chd:0 , adt:1 , FLEX:N , SplitNo:100 , depdate0:20170905 , SeatAvail:Y , ptype:I , comp:Y , dep0:ICN , BEST:Y , JSON:Y , inf:0 , Soto:N , SeatType:A , AirLine:LJ , enc:u , Change: , arr0:NRT , StayLength: , \n"
     ]
    },
    {
     "name": "stderr",
     "output_type": "stream",
     "text": [
      "2017-08-09 08:09:35,126 root     DEBUG    Crawling Interpark domastic schedule site\n"
     ]
    },
    {
     "name": "stdout",
     "output_type": "stream",
     "text": [
      "End Simple crawling\n",
      "Start Simple crawling :  http://smartair.interpark.com/HtmlSearch/GetGoodsSmartList.aspx\n",
      ">> Parameters\n",
      "trip:OW , chd:0 , adt:1 , FLEX:N , SplitNo:100 , depdate0:20170905 , SeatAvail:Y , ptype:I , comp:Y , dep0:ICN , BEST:Y , JSON:Y , inf:0 , Soto:N , SeatType:A , AirLine:TW , enc:u , Change: , arr0:NRT , StayLength: , \n"
     ]
    },
    {
     "name": "stderr",
     "output_type": "stream",
     "text": [
      "2017-08-09 08:09:37,416 root     DEBUG    Crawling Interpark domastic schedule site\n"
     ]
    },
    {
     "name": "stdout",
     "output_type": "stream",
     "text": [
      "End Simple crawling\n",
      "Start Simple crawling :  http://smartair.interpark.com/HtmlSearch/GetGoodsSmartList.aspx\n",
      ">> Parameters\n",
      "trip:OW , chd:0 , adt:1 , FLEX:N , SplitNo:100 , depdate0:20170905 , SeatAvail:Y , ptype:I , comp:Y , dep0:ICN , BEST:Y , JSON:Y , inf:0 , Soto:N , SeatType:A , AirLine:ZE , enc:u , Change: , arr0:NRT , StayLength: , \n"
     ]
    },
    {
     "name": "stderr",
     "output_type": "stream",
     "text": [
      "2017-08-09 08:09:39,800 root     DEBUG    Crawling Interpark domastic schedule site\n"
     ]
    },
    {
     "name": "stdout",
     "output_type": "stream",
     "text": [
      "End Simple crawling\n",
      "Start Simple crawling :  http://smartair.interpark.com/HtmlSearch/GetGoodsSmartList.aspx\n",
      ">> Parameters\n",
      "trip:OW , chd:0 , adt:1 , FLEX:N , SplitNo:100 , depdate0:20170906 , SeatAvail:Y , ptype:I , comp:Y , dep0:ICN , BEST:Y , JSON:Y , inf:0 , Soto:N , SeatType:A , AirLine:7C , enc:u , Change: , arr0:NRT , StayLength: , \n"
     ]
    },
    {
     "name": "stderr",
     "output_type": "stream",
     "text": [
      "2017-08-09 08:09:40,461 root     DEBUG    Crawling Interpark domastic schedule site\n"
     ]
    },
    {
     "name": "stdout",
     "output_type": "stream",
     "text": [
      "End Simple crawling\n",
      "Start Simple crawling :  http://smartair.interpark.com/HtmlSearch/GetGoodsSmartList.aspx\n",
      ">> Parameters\n",
      "trip:OW , chd:0 , adt:1 , FLEX:N , SplitNo:100 , depdate0:20170906 , SeatAvail:Y , ptype:I , comp:Y , dep0:ICN , BEST:Y , JSON:Y , inf:0 , Soto:N , SeatType:A , AirLine:LJ , enc:u , Change: , arr0:NRT , StayLength: , \n"
     ]
    },
    {
     "name": "stderr",
     "output_type": "stream",
     "text": [
      "2017-08-09 08:09:43,043 root     DEBUG    Crawling Interpark domastic schedule site\n"
     ]
    },
    {
     "name": "stdout",
     "output_type": "stream",
     "text": [
      "End Simple crawling\n",
      "Start Simple crawling :  http://smartair.interpark.com/HtmlSearch/GetGoodsSmartList.aspx\n",
      ">> Parameters\n",
      "trip:OW , chd:0 , adt:1 , FLEX:N , SplitNo:100 , depdate0:20170906 , SeatAvail:Y , ptype:I , comp:Y , dep0:ICN , BEST:Y , JSON:Y , inf:0 , Soto:N , SeatType:A , AirLine:TW , enc:u , Change: , arr0:NRT , StayLength: , \n"
     ]
    },
    {
     "name": "stderr",
     "output_type": "stream",
     "text": [
      "2017-08-09 08:09:45,721 root     DEBUG    Crawling Interpark domastic schedule site\n"
     ]
    },
    {
     "name": "stdout",
     "output_type": "stream",
     "text": [
      "End Simple crawling\n",
      "Start Simple crawling :  http://smartair.interpark.com/HtmlSearch/GetGoodsSmartList.aspx\n",
      ">> Parameters\n",
      "trip:OW , chd:0 , adt:1 , FLEX:N , SplitNo:100 , depdate0:20170906 , SeatAvail:Y , ptype:I , comp:Y , dep0:ICN , BEST:Y , JSON:Y , inf:0 , Soto:N , SeatType:A , AirLine:ZE , enc:u , Change: , arr0:NRT , StayLength: , \n"
     ]
    },
    {
     "name": "stderr",
     "output_type": "stream",
     "text": [
      "2017-08-09 08:09:48,424 root     DEBUG    Crawling Interpark domastic schedule site\n"
     ]
    },
    {
     "name": "stdout",
     "output_type": "stream",
     "text": [
      "End Simple crawling\n",
      "Start Simple crawling :  http://smartair.interpark.com/HtmlSearch/GetGoodsSmartList.aspx\n",
      ">> Parameters\n",
      "trip:OW , chd:0 , adt:1 , FLEX:N , SplitNo:100 , depdate0:20170907 , SeatAvail:Y , ptype:I , comp:Y , dep0:ICN , BEST:Y , JSON:Y , inf:0 , Soto:N , SeatType:A , AirLine:7C , enc:u , Change: , arr0:NRT , StayLength: , \n"
     ]
    },
    {
     "name": "stderr",
     "output_type": "stream",
     "text": [
      "2017-08-09 08:09:49,096 root     DEBUG    Crawling Interpark domastic schedule site\n"
     ]
    },
    {
     "name": "stdout",
     "output_type": "stream",
     "text": [
      "End Simple crawling\n",
      "Start Simple crawling :  http://smartair.interpark.com/HtmlSearch/GetGoodsSmartList.aspx\n",
      ">> Parameters\n",
      "trip:OW , chd:0 , adt:1 , FLEX:N , SplitNo:100 , depdate0:20170907 , SeatAvail:Y , ptype:I , comp:Y , dep0:ICN , BEST:Y , JSON:Y , inf:0 , Soto:N , SeatType:A , AirLine:LJ , enc:u , Change: , arr0:NRT , StayLength: , \n"
     ]
    },
    {
     "name": "stderr",
     "output_type": "stream",
     "text": [
      "2017-08-09 08:09:51,509 root     DEBUG    Crawling Interpark domastic schedule site\n"
     ]
    },
    {
     "name": "stdout",
     "output_type": "stream",
     "text": [
      "End Simple crawling\n",
      "Start Simple crawling :  http://smartair.interpark.com/HtmlSearch/GetGoodsSmartList.aspx\n",
      ">> Parameters\n",
      "trip:OW , chd:0 , adt:1 , FLEX:N , SplitNo:100 , depdate0:20170907 , SeatAvail:Y , ptype:I , comp:Y , dep0:ICN , BEST:Y , JSON:Y , inf:0 , Soto:N , SeatType:A , AirLine:TW , enc:u , Change: , arr0:NRT , StayLength: , \n"
     ]
    },
    {
     "name": "stderr",
     "output_type": "stream",
     "text": [
      "2017-08-09 08:09:53,859 root     DEBUG    Crawling Interpark domastic schedule site\n"
     ]
    },
    {
     "name": "stdout",
     "output_type": "stream",
     "text": [
      "End Simple crawling\n",
      "Start Simple crawling :  http://smartair.interpark.com/HtmlSearch/GetGoodsSmartList.aspx\n",
      ">> Parameters\n",
      "trip:OW , chd:0 , adt:1 , FLEX:N , SplitNo:100 , depdate0:20170907 , SeatAvail:Y , ptype:I , comp:Y , dep0:ICN , BEST:Y , JSON:Y , inf:0 , Soto:N , SeatType:A , AirLine:ZE , enc:u , Change: , arr0:NRT , StayLength: , \n"
     ]
    },
    {
     "name": "stderr",
     "output_type": "stream",
     "text": [
      "2017-08-09 08:09:56,106 root     DEBUG    Crawling Interpark domastic schedule site\n"
     ]
    },
    {
     "name": "stdout",
     "output_type": "stream",
     "text": [
      "End Simple crawling\n",
      "Start Simple crawling :  http://smartair.interpark.com/HtmlSearch/GetGoodsSmartList.aspx\n",
      ">> Parameters\n",
      "trip:OW , chd:0 , adt:1 , FLEX:N , SplitNo:100 , depdate0:20170908 , SeatAvail:Y , ptype:I , comp:Y , dep0:ICN , BEST:Y , JSON:Y , inf:0 , Soto:N , SeatType:A , AirLine:7C , enc:u , Change: , arr0:NRT , StayLength: , \n"
     ]
    },
    {
     "name": "stderr",
     "output_type": "stream",
     "text": [
      "2017-08-09 08:09:56,742 root     DEBUG    Crawling Interpark domastic schedule site\n"
     ]
    },
    {
     "name": "stdout",
     "output_type": "stream",
     "text": [
      "End Simple crawling\n",
      "Start Simple crawling :  http://smartair.interpark.com/HtmlSearch/GetGoodsSmartList.aspx\n",
      ">> Parameters\n",
      "trip:OW , chd:0 , adt:1 , FLEX:N , SplitNo:100 , depdate0:20170908 , SeatAvail:Y , ptype:I , comp:Y , dep0:ICN , BEST:Y , JSON:Y , inf:0 , Soto:N , SeatType:A , AirLine:LJ , enc:u , Change: , arr0:NRT , StayLength: , \n"
     ]
    },
    {
     "name": "stderr",
     "output_type": "stream",
     "text": [
      "2017-08-09 08:09:58,868 root     DEBUG    Crawling Interpark domastic schedule site\n"
     ]
    },
    {
     "name": "stdout",
     "output_type": "stream",
     "text": [
      "End Simple crawling\n",
      "Start Simple crawling :  http://smartair.interpark.com/HtmlSearch/GetGoodsSmartList.aspx\n",
      ">> Parameters\n",
      "trip:OW , chd:0 , adt:1 , FLEX:N , SplitNo:100 , depdate0:20170908 , SeatAvail:Y , ptype:I , comp:Y , dep0:ICN , BEST:Y , JSON:Y , inf:0 , Soto:N , SeatType:A , AirLine:TW , enc:u , Change: , arr0:NRT , StayLength: , \n"
     ]
    },
    {
     "name": "stderr",
     "output_type": "stream",
     "text": [
      "2017-08-09 08:10:01,153 root     DEBUG    Crawling Interpark domastic schedule site\n"
     ]
    },
    {
     "name": "stdout",
     "output_type": "stream",
     "text": [
      "End Simple crawling\n",
      "Start Simple crawling :  http://smartair.interpark.com/HtmlSearch/GetGoodsSmartList.aspx\n",
      ">> Parameters\n",
      "trip:OW , chd:0 , adt:1 , FLEX:N , SplitNo:100 , depdate0:20170908 , SeatAvail:Y , ptype:I , comp:Y , dep0:ICN , BEST:Y , JSON:Y , inf:0 , Soto:N , SeatType:A , AirLine:ZE , enc:u , Change: , arr0:NRT , StayLength: , \n"
     ]
    },
    {
     "name": "stderr",
     "output_type": "stream",
     "text": [
      "2017-08-09 08:10:03,601 root     DEBUG    Crawling Interpark domastic schedule site\n"
     ]
    },
    {
     "name": "stdout",
     "output_type": "stream",
     "text": [
      "End Simple crawling\n",
      "Start Simple crawling :  http://smartair.interpark.com/HtmlSearch/GetGoodsSmartList.aspx\n",
      ">> Parameters\n",
      "trip:OW , chd:0 , adt:1 , FLEX:N , SplitNo:100 , depdate0:20170909 , SeatAvail:Y , ptype:I , comp:Y , dep0:ICN , BEST:Y , JSON:Y , inf:0 , Soto:N , SeatType:A , AirLine:7C , enc:u , Change: , arr0:NRT , StayLength: , \n"
     ]
    },
    {
     "name": "stderr",
     "output_type": "stream",
     "text": [
      "2017-08-09 08:10:04,289 root     DEBUG    Crawling Interpark domastic schedule site\n"
     ]
    },
    {
     "name": "stdout",
     "output_type": "stream",
     "text": [
      "End Simple crawling\n",
      "Start Simple crawling :  http://smartair.interpark.com/HtmlSearch/GetGoodsSmartList.aspx\n",
      ">> Parameters\n",
      "trip:OW , chd:0 , adt:1 , FLEX:N , SplitNo:100 , depdate0:20170909 , SeatAvail:Y , ptype:I , comp:Y , dep0:ICN , BEST:Y , JSON:Y , inf:0 , Soto:N , SeatType:A , AirLine:LJ , enc:u , Change: , arr0:NRT , StayLength: , \n"
     ]
    },
    {
     "name": "stderr",
     "output_type": "stream",
     "text": [
      "2017-08-09 08:10:06,514 root     DEBUG    Crawling Interpark domastic schedule site\n"
     ]
    },
    {
     "name": "stdout",
     "output_type": "stream",
     "text": [
      "End Simple crawling\n",
      "Start Simple crawling :  http://smartair.interpark.com/HtmlSearch/GetGoodsSmartList.aspx\n",
      ">> Parameters\n",
      "trip:OW , chd:0 , adt:1 , FLEX:N , SplitNo:100 , depdate0:20170909 , SeatAvail:Y , ptype:I , comp:Y , dep0:ICN , BEST:Y , JSON:Y , inf:0 , Soto:N , SeatType:A , AirLine:TW , enc:u , Change: , arr0:NRT , StayLength: , \n"
     ]
    },
    {
     "name": "stderr",
     "output_type": "stream",
     "text": [
      "2017-08-09 08:10:09,207 root     DEBUG    Crawling Interpark domastic schedule site\n"
     ]
    },
    {
     "name": "stdout",
     "output_type": "stream",
     "text": [
      "End Simple crawling\n",
      "Start Simple crawling :  http://smartair.interpark.com/HtmlSearch/GetGoodsSmartList.aspx\n",
      ">> Parameters\n",
      "trip:OW , chd:0 , adt:1 , FLEX:N , SplitNo:100 , depdate0:20170909 , SeatAvail:Y , ptype:I , comp:Y , dep0:ICN , BEST:Y , JSON:Y , inf:0 , Soto:N , SeatType:A , AirLine:ZE , enc:u , Change: , arr0:NRT , StayLength: , \n"
     ]
    },
    {
     "name": "stderr",
     "output_type": "stream",
     "text": [
      "2017-08-09 08:10:11,590 root     DEBUG    Crawling Interpark domastic schedule site\n"
     ]
    },
    {
     "name": "stdout",
     "output_type": "stream",
     "text": [
      "End Simple crawling\n",
      "Start Simple crawling :  http://smartair.interpark.com/HtmlSearch/GetGoodsSmartList.aspx\n",
      ">> Parameters\n",
      "trip:OW , chd:0 , adt:1 , FLEX:N , SplitNo:100 , depdate0:20170910 , SeatAvail:Y , ptype:I , comp:Y , dep0:ICN , BEST:Y , JSON:Y , inf:0 , Soto:N , SeatType:A , AirLine:7C , enc:u , Change: , arr0:NRT , StayLength: , \n"
     ]
    },
    {
     "name": "stderr",
     "output_type": "stream",
     "text": [
      "2017-08-09 08:10:12,226 root     DEBUG    Crawling Interpark domastic schedule site\n"
     ]
    },
    {
     "name": "stdout",
     "output_type": "stream",
     "text": [
      "End Simple crawling\n",
      "Start Simple crawling :  http://smartair.interpark.com/HtmlSearch/GetGoodsSmartList.aspx\n",
      ">> Parameters\n",
      "trip:OW , chd:0 , adt:1 , FLEX:N , SplitNo:100 , depdate0:20170910 , SeatAvail:Y , ptype:I , comp:Y , dep0:ICN , BEST:Y , JSON:Y , inf:0 , Soto:N , SeatType:A , AirLine:LJ , enc:u , Change: , arr0:NRT , StayLength: , \n"
     ]
    },
    {
     "name": "stderr",
     "output_type": "stream",
     "text": [
      "2017-08-09 08:10:14,355 root     DEBUG    Crawling Interpark domastic schedule site\n"
     ]
    },
    {
     "name": "stdout",
     "output_type": "stream",
     "text": [
      "End Simple crawling\n",
      "Start Simple crawling :  http://smartair.interpark.com/HtmlSearch/GetGoodsSmartList.aspx\n",
      ">> Parameters\n",
      "trip:OW , chd:0 , adt:1 , FLEX:N , SplitNo:100 , depdate0:20170910 , SeatAvail:Y , ptype:I , comp:Y , dep0:ICN , BEST:Y , JSON:Y , inf:0 , Soto:N , SeatType:A , AirLine:TW , enc:u , Change: , arr0:NRT , StayLength: , \n"
     ]
    },
    {
     "name": "stderr",
     "output_type": "stream",
     "text": [
      "2017-08-09 08:10:16,837 root     DEBUG    Crawling Interpark domastic schedule site\n"
     ]
    },
    {
     "name": "stdout",
     "output_type": "stream",
     "text": [
      "End Simple crawling\n",
      "Start Simple crawling :  http://smartair.interpark.com/HtmlSearch/GetGoodsSmartList.aspx\n",
      ">> Parameters\n",
      "trip:OW , chd:0 , adt:1 , FLEX:N , SplitNo:100 , depdate0:20170910 , SeatAvail:Y , ptype:I , comp:Y , dep0:ICN , BEST:Y , JSON:Y , inf:0 , Soto:N , SeatType:A , AirLine:ZE , enc:u , Change: , arr0:NRT , StayLength: , \n"
     ]
    },
    {
     "name": "stderr",
     "output_type": "stream",
     "text": [
      "2017-08-09 08:10:18,948 root     DEBUG    Crawling Interpark domastic schedule site\n"
     ]
    },
    {
     "name": "stdout",
     "output_type": "stream",
     "text": [
      "End Simple crawling\n",
      "Start Simple crawling :  http://smartair.interpark.com/HtmlSearch/GetGoodsSmartList.aspx\n",
      ">> Parameters\n",
      "trip:OW , chd:0 , adt:1 , FLEX:N , SplitNo:100 , depdate0:20170911 , SeatAvail:Y , ptype:I , comp:Y , dep0:ICN , BEST:Y , JSON:Y , inf:0 , Soto:N , SeatType:A , AirLine:7C , enc:u , Change: , arr0:NRT , StayLength: , \n"
     ]
    },
    {
     "name": "stderr",
     "output_type": "stream",
     "text": [
      "2017-08-09 08:10:19,596 root     DEBUG    Crawling Interpark domastic schedule site\n"
     ]
    },
    {
     "name": "stdout",
     "output_type": "stream",
     "text": [
      "End Simple crawling\n",
      "Start Simple crawling :  http://smartair.interpark.com/HtmlSearch/GetGoodsSmartList.aspx\n",
      ">> Parameters\n",
      "trip:OW , chd:0 , adt:1 , FLEX:N , SplitNo:100 , depdate0:20170911 , SeatAvail:Y , ptype:I , comp:Y , dep0:ICN , BEST:Y , JSON:Y , inf:0 , Soto:N , SeatType:A , AirLine:LJ , enc:u , Change: , arr0:NRT , StayLength: , \n"
     ]
    },
    {
     "name": "stderr",
     "output_type": "stream",
     "text": [
      "2017-08-09 08:10:21,886 root     DEBUG    Crawling Interpark domastic schedule site\n"
     ]
    },
    {
     "name": "stdout",
     "output_type": "stream",
     "text": [
      "End Simple crawling\n",
      "Start Simple crawling :  http://smartair.interpark.com/HtmlSearch/GetGoodsSmartList.aspx\n",
      ">> Parameters\n",
      "trip:OW , chd:0 , adt:1 , FLEX:N , SplitNo:100 , depdate0:20170911 , SeatAvail:Y , ptype:I , comp:Y , dep0:ICN , BEST:Y , JSON:Y , inf:0 , Soto:N , SeatType:A , AirLine:TW , enc:u , Change: , arr0:NRT , StayLength: , \n"
     ]
    },
    {
     "name": "stderr",
     "output_type": "stream",
     "text": [
      "2017-08-09 08:10:24,264 root     DEBUG    Crawling Interpark domastic schedule site\n"
     ]
    },
    {
     "name": "stdout",
     "output_type": "stream",
     "text": [
      "End Simple crawling\n",
      "Start Simple crawling :  http://smartair.interpark.com/HtmlSearch/GetGoodsSmartList.aspx\n",
      ">> Parameters\n",
      "trip:OW , chd:0 , adt:1 , FLEX:N , SplitNo:100 , depdate0:20170911 , SeatAvail:Y , ptype:I , comp:Y , dep0:ICN , BEST:Y , JSON:Y , inf:0 , Soto:N , SeatType:A , AirLine:ZE , enc:u , Change: , arr0:NRT , StayLength: , \n"
     ]
    },
    {
     "name": "stderr",
     "output_type": "stream",
     "text": [
      "2017-08-09 08:10:26,429 root     DEBUG    Crawling Interpark domastic schedule site\n"
     ]
    },
    {
     "name": "stdout",
     "output_type": "stream",
     "text": [
      "End Simple crawling\n",
      "Start Simple crawling :  http://smartair.interpark.com/HtmlSearch/GetGoodsSmartList.aspx\n",
      ">> Parameters\n",
      "trip:OW , chd:0 , adt:1 , FLEX:N , SplitNo:100 , depdate0:20170912 , SeatAvail:Y , ptype:I , comp:Y , dep0:ICN , BEST:Y , JSON:Y , inf:0 , Soto:N , SeatType:A , AirLine:7C , enc:u , Change: , arr0:NRT , StayLength: , \n"
     ]
    },
    {
     "name": "stderr",
     "output_type": "stream",
     "text": [
      "2017-08-09 08:10:27,124 root     DEBUG    Crawling Interpark domastic schedule site\n"
     ]
    },
    {
     "name": "stdout",
     "output_type": "stream",
     "text": [
      "End Simple crawling\n",
      "Start Simple crawling :  http://smartair.interpark.com/HtmlSearch/GetGoodsSmartList.aspx\n",
      ">> Parameters\n",
      "trip:OW , chd:0 , adt:1 , FLEX:N , SplitNo:100 , depdate0:20170912 , SeatAvail:Y , ptype:I , comp:Y , dep0:ICN , BEST:Y , JSON:Y , inf:0 , Soto:N , SeatType:A , AirLine:LJ , enc:u , Change: , arr0:NRT , StayLength: , \n"
     ]
    },
    {
     "name": "stderr",
     "output_type": "stream",
     "text": [
      "2017-08-09 08:10:29,597 root     DEBUG    Crawling Interpark domastic schedule site\n"
     ]
    },
    {
     "name": "stdout",
     "output_type": "stream",
     "text": [
      "End Simple crawling\n",
      "Start Simple crawling :  http://smartair.interpark.com/HtmlSearch/GetGoodsSmartList.aspx\n",
      ">> Parameters\n",
      "trip:OW , chd:0 , adt:1 , FLEX:N , SplitNo:100 , depdate0:20170912 , SeatAvail:Y , ptype:I , comp:Y , dep0:ICN , BEST:Y , JSON:Y , inf:0 , Soto:N , SeatType:A , AirLine:TW , enc:u , Change: , arr0:NRT , StayLength: , \n"
     ]
    },
    {
     "name": "stderr",
     "output_type": "stream",
     "text": [
      "2017-08-09 08:10:32,080 root     DEBUG    Crawling Interpark domastic schedule site\n"
     ]
    },
    {
     "name": "stdout",
     "output_type": "stream",
     "text": [
      "End Simple crawling\n",
      "Start Simple crawling :  http://smartair.interpark.com/HtmlSearch/GetGoodsSmartList.aspx\n",
      ">> Parameters\n",
      "trip:OW , chd:0 , adt:1 , FLEX:N , SplitNo:100 , depdate0:20170912 , SeatAvail:Y , ptype:I , comp:Y , dep0:ICN , BEST:Y , JSON:Y , inf:0 , Soto:N , SeatType:A , AirLine:ZE , enc:u , Change: , arr0:NRT , StayLength: , \n"
     ]
    },
    {
     "name": "stderr",
     "output_type": "stream",
     "text": [
      "2017-08-09 08:10:34,268 root     DEBUG    Crawling Interpark domastic schedule site\n"
     ]
    },
    {
     "name": "stdout",
     "output_type": "stream",
     "text": [
      "End Simple crawling\n",
      "Start Simple crawling :  http://smartair.interpark.com/HtmlSearch/GetGoodsSmartList.aspx\n",
      ">> Parameters\n",
      "trip:OW , chd:0 , adt:1 , FLEX:N , SplitNo:100 , depdate0:20170913 , SeatAvail:Y , ptype:I , comp:Y , dep0:ICN , BEST:Y , JSON:Y , inf:0 , Soto:N , SeatType:A , AirLine:7C , enc:u , Change: , arr0:NRT , StayLength: , \n"
     ]
    },
    {
     "name": "stderr",
     "output_type": "stream",
     "text": [
      "2017-08-09 08:10:34,967 root     DEBUG    Crawling Interpark domastic schedule site\n"
     ]
    },
    {
     "name": "stdout",
     "output_type": "stream",
     "text": [
      "End Simple crawling\n",
      "Start Simple crawling :  http://smartair.interpark.com/HtmlSearch/GetGoodsSmartList.aspx\n",
      ">> Parameters\n",
      "trip:OW , chd:0 , adt:1 , FLEX:N , SplitNo:100 , depdate0:20170913 , SeatAvail:Y , ptype:I , comp:Y , dep0:ICN , BEST:Y , JSON:Y , inf:0 , Soto:N , SeatType:A , AirLine:LJ , enc:u , Change: , arr0:NRT , StayLength: , \n"
     ]
    },
    {
     "name": "stderr",
     "output_type": "stream",
     "text": [
      "2017-08-09 08:10:37,355 root     DEBUG    Crawling Interpark domastic schedule site\n"
     ]
    },
    {
     "name": "stdout",
     "output_type": "stream",
     "text": [
      "End Simple crawling\n",
      "Start Simple crawling :  http://smartair.interpark.com/HtmlSearch/GetGoodsSmartList.aspx\n",
      ">> Parameters\n",
      "trip:OW , chd:0 , adt:1 , FLEX:N , SplitNo:100 , depdate0:20170913 , SeatAvail:Y , ptype:I , comp:Y , dep0:ICN , BEST:Y , JSON:Y , inf:0 , Soto:N , SeatType:A , AirLine:TW , enc:u , Change: , arr0:NRT , StayLength: , \n"
     ]
    },
    {
     "name": "stderr",
     "output_type": "stream",
     "text": [
      "2017-08-09 08:10:39,804 root     DEBUG    Crawling Interpark domastic schedule site\n"
     ]
    },
    {
     "name": "stdout",
     "output_type": "stream",
     "text": [
      "End Simple crawling\n",
      "Start Simple crawling :  http://smartair.interpark.com/HtmlSearch/GetGoodsSmartList.aspx\n",
      ">> Parameters\n",
      "trip:OW , chd:0 , adt:1 , FLEX:N , SplitNo:100 , depdate0:20170913 , SeatAvail:Y , ptype:I , comp:Y , dep0:ICN , BEST:Y , JSON:Y , inf:0 , Soto:N , SeatType:A , AirLine:ZE , enc:u , Change: , arr0:NRT , StayLength: , \n"
     ]
    },
    {
     "name": "stderr",
     "output_type": "stream",
     "text": [
      "2017-08-09 08:10:41,980 root     DEBUG    Crawling Interpark domastic schedule site\n"
     ]
    },
    {
     "name": "stdout",
     "output_type": "stream",
     "text": [
      "End Simple crawling\n",
      "Start Simple crawling :  http://smartair.interpark.com/HtmlSearch/GetGoodsSmartList.aspx\n",
      ">> Parameters\n",
      "trip:OW , chd:0 , adt:1 , FLEX:N , SplitNo:100 , depdate0:20170914 , SeatAvail:Y , ptype:I , comp:Y , dep0:ICN , BEST:Y , JSON:Y , inf:0 , Soto:N , SeatType:A , AirLine:7C , enc:u , Change: , arr0:NRT , StayLength: , \n"
     ]
    },
    {
     "name": "stderr",
     "output_type": "stream",
     "text": [
      "2017-08-09 08:10:42,951 root     DEBUG    Crawling Interpark domastic schedule site\n"
     ]
    },
    {
     "name": "stdout",
     "output_type": "stream",
     "text": [
      "End Simple crawling\n",
      "Start Simple crawling :  http://smartair.interpark.com/HtmlSearch/GetGoodsSmartList.aspx\n",
      ">> Parameters\n",
      "trip:OW , chd:0 , adt:1 , FLEX:N , SplitNo:100 , depdate0:20170914 , SeatAvail:Y , ptype:I , comp:Y , dep0:ICN , BEST:Y , JSON:Y , inf:0 , Soto:N , SeatType:A , AirLine:LJ , enc:u , Change: , arr0:NRT , StayLength: , \n"
     ]
    },
    {
     "name": "stderr",
     "output_type": "stream",
     "text": [
      "2017-08-09 08:10:45,108 root     DEBUG    Crawling Interpark domastic schedule site\n"
     ]
    },
    {
     "name": "stdout",
     "output_type": "stream",
     "text": [
      "End Simple crawling\n",
      "Start Simple crawling :  http://smartair.interpark.com/HtmlSearch/GetGoodsSmartList.aspx\n",
      ">> Parameters\n",
      "trip:OW , chd:0 , adt:1 , FLEX:N , SplitNo:100 , depdate0:20170914 , SeatAvail:Y , ptype:I , comp:Y , dep0:ICN , BEST:Y , JSON:Y , inf:0 , Soto:N , SeatType:A , AirLine:TW , enc:u , Change: , arr0:NRT , StayLength: , \n"
     ]
    },
    {
     "name": "stderr",
     "output_type": "stream",
     "text": [
      "2017-08-09 08:10:47,663 root     DEBUG    Crawling Interpark domastic schedule site\n"
     ]
    },
    {
     "name": "stdout",
     "output_type": "stream",
     "text": [
      "End Simple crawling\n",
      "Start Simple crawling :  http://smartair.interpark.com/HtmlSearch/GetGoodsSmartList.aspx\n",
      ">> Parameters\n",
      "trip:OW , chd:0 , adt:1 , FLEX:N , SplitNo:100 , depdate0:20170914 , SeatAvail:Y , ptype:I , comp:Y , dep0:ICN , BEST:Y , JSON:Y , inf:0 , Soto:N , SeatType:A , AirLine:ZE , enc:u , Change: , arr0:NRT , StayLength: , \n"
     ]
    },
    {
     "name": "stderr",
     "output_type": "stream",
     "text": [
      "2017-08-09 08:10:49,822 root     DEBUG    Crawling Interpark domastic schedule site\n"
     ]
    },
    {
     "name": "stdout",
     "output_type": "stream",
     "text": [
      "End Simple crawling\n",
      "Start Simple crawling :  http://smartair.interpark.com/HtmlSearch/GetGoodsSmartList.aspx\n",
      ">> Parameters\n",
      "trip:OW , chd:0 , adt:1 , FLEX:N , SplitNo:100 , depdate0:20170915 , SeatAvail:Y , ptype:I , comp:Y , dep0:ICN , BEST:Y , JSON:Y , inf:0 , Soto:N , SeatType:A , AirLine:7C , enc:u , Change: , arr0:NRT , StayLength: , \n"
     ]
    },
    {
     "name": "stderr",
     "output_type": "stream",
     "text": [
      "2017-08-09 08:10:50,446 root     DEBUG    Crawling Interpark domastic schedule site\n"
     ]
    },
    {
     "name": "stdout",
     "output_type": "stream",
     "text": [
      "End Simple crawling\n",
      "Start Simple crawling :  http://smartair.interpark.com/HtmlSearch/GetGoodsSmartList.aspx\n",
      ">> Parameters\n",
      "trip:OW , chd:0 , adt:1 , FLEX:N , SplitNo:100 , depdate0:20170915 , SeatAvail:Y , ptype:I , comp:Y , dep0:ICN , BEST:Y , JSON:Y , inf:0 , Soto:N , SeatType:A , AirLine:LJ , enc:u , Change: , arr0:NRT , StayLength: , \n"
     ]
    },
    {
     "name": "stderr",
     "output_type": "stream",
     "text": [
      "2017-08-09 08:10:52,747 root     DEBUG    Crawling Interpark domastic schedule site\n"
     ]
    },
    {
     "name": "stdout",
     "output_type": "stream",
     "text": [
      "End Simple crawling\n",
      "Start Simple crawling :  http://smartair.interpark.com/HtmlSearch/GetGoodsSmartList.aspx\n",
      ">> Parameters\n",
      "trip:OW , chd:0 , adt:1 , FLEX:N , SplitNo:100 , depdate0:20170915 , SeatAvail:Y , ptype:I , comp:Y , dep0:ICN , BEST:Y , JSON:Y , inf:0 , Soto:N , SeatType:A , AirLine:TW , enc:u , Change: , arr0:NRT , StayLength: , \n"
     ]
    },
    {
     "name": "stderr",
     "output_type": "stream",
     "text": [
      "2017-08-09 08:10:55,023 root     DEBUG    Crawling Interpark domastic schedule site\n"
     ]
    },
    {
     "name": "stdout",
     "output_type": "stream",
     "text": [
      "End Simple crawling\n",
      "Start Simple crawling :  http://smartair.interpark.com/HtmlSearch/GetGoodsSmartList.aspx\n",
      ">> Parameters\n",
      "trip:OW , chd:0 , adt:1 , FLEX:N , SplitNo:100 , depdate0:20170915 , SeatAvail:Y , ptype:I , comp:Y , dep0:ICN , BEST:Y , JSON:Y , inf:0 , Soto:N , SeatType:A , AirLine:ZE , enc:u , Change: , arr0:NRT , StayLength: , \n"
     ]
    },
    {
     "name": "stderr",
     "output_type": "stream",
     "text": [
      "2017-08-09 08:10:57,496 root     DEBUG    Crawling Interpark domastic schedule site\n"
     ]
    },
    {
     "name": "stdout",
     "output_type": "stream",
     "text": [
      "End Simple crawling\n",
      "Start Simple crawling :  http://smartair.interpark.com/HtmlSearch/GetGoodsSmartList.aspx\n",
      ">> Parameters\n",
      "trip:OW , chd:0 , adt:1 , FLEX:N , SplitNo:100 , depdate0:20170916 , SeatAvail:Y , ptype:I , comp:Y , dep0:ICN , BEST:Y , JSON:Y , inf:0 , Soto:N , SeatType:A , AirLine:7C , enc:u , Change: , arr0:NRT , StayLength: , \n"
     ]
    },
    {
     "name": "stderr",
     "output_type": "stream",
     "text": [
      "2017-08-09 08:10:58,167 root     DEBUG    Crawling Interpark domastic schedule site\n"
     ]
    },
    {
     "name": "stdout",
     "output_type": "stream",
     "text": [
      "End Simple crawling\n",
      "Start Simple crawling :  http://smartair.interpark.com/HtmlSearch/GetGoodsSmartList.aspx\n",
      ">> Parameters\n",
      "trip:OW , chd:0 , adt:1 , FLEX:N , SplitNo:100 , depdate0:20170916 , SeatAvail:Y , ptype:I , comp:Y , dep0:ICN , BEST:Y , JSON:Y , inf:0 , Soto:N , SeatType:A , AirLine:LJ , enc:u , Change: , arr0:NRT , StayLength: , \n"
     ]
    },
    {
     "name": "stderr",
     "output_type": "stream",
     "text": [
      "2017-08-09 08:11:00,304 root     DEBUG    Crawling Interpark domastic schedule site\n"
     ]
    },
    {
     "name": "stdout",
     "output_type": "stream",
     "text": [
      "End Simple crawling\n",
      "Start Simple crawling :  http://smartair.interpark.com/HtmlSearch/GetGoodsSmartList.aspx\n",
      ">> Parameters\n",
      "trip:OW , chd:0 , adt:1 , FLEX:N , SplitNo:100 , depdate0:20170916 , SeatAvail:Y , ptype:I , comp:Y , dep0:ICN , BEST:Y , JSON:Y , inf:0 , Soto:N , SeatType:A , AirLine:TW , enc:u , Change: , arr0:NRT , StayLength: , \n"
     ]
    },
    {
     "name": "stderr",
     "output_type": "stream",
     "text": [
      "2017-08-09 08:11:02,518 root     DEBUG    Crawling Interpark domastic schedule site\n"
     ]
    },
    {
     "name": "stdout",
     "output_type": "stream",
     "text": [
      "End Simple crawling\n",
      "Start Simple crawling :  http://smartair.interpark.com/HtmlSearch/GetGoodsSmartList.aspx\n",
      ">> Parameters\n",
      "trip:OW , chd:0 , adt:1 , FLEX:N , SplitNo:100 , depdate0:20170916 , SeatAvail:Y , ptype:I , comp:Y , dep0:ICN , BEST:Y , JSON:Y , inf:0 , Soto:N , SeatType:A , AirLine:ZE , enc:u , Change: , arr0:NRT , StayLength: , \n"
     ]
    },
    {
     "name": "stderr",
     "output_type": "stream",
     "text": [
      "2017-08-09 08:11:04,998 root     DEBUG    Crawling Interpark domastic schedule site\n"
     ]
    },
    {
     "name": "stdout",
     "output_type": "stream",
     "text": [
      "End Simple crawling\n",
      "Start Simple crawling :  http://smartair.interpark.com/HtmlSearch/GetGoodsSmartList.aspx\n",
      ">> Parameters\n",
      "trip:OW , chd:0 , adt:1 , FLEX:N , SplitNo:100 , depdate0:20170917 , SeatAvail:Y , ptype:I , comp:Y , dep0:ICN , BEST:Y , JSON:Y , inf:0 , Soto:N , SeatType:A , AirLine:7C , enc:u , Change: , arr0:NRT , StayLength: , \n"
     ]
    },
    {
     "name": "stderr",
     "output_type": "stream",
     "text": [
      "2017-08-09 08:11:05,698 root     DEBUG    Crawling Interpark domastic schedule site\n"
     ]
    },
    {
     "name": "stdout",
     "output_type": "stream",
     "text": [
      "End Simple crawling\n",
      "Start Simple crawling :  http://smartair.interpark.com/HtmlSearch/GetGoodsSmartList.aspx\n",
      ">> Parameters\n",
      "trip:OW , chd:0 , adt:1 , FLEX:N , SplitNo:100 , depdate0:20170917 , SeatAvail:Y , ptype:I , comp:Y , dep0:ICN , BEST:Y , JSON:Y , inf:0 , Soto:N , SeatType:A , AirLine:LJ , enc:u , Change: , arr0:NRT , StayLength: , \n"
     ]
    },
    {
     "name": "stderr",
     "output_type": "stream",
     "text": [
      "2017-08-09 08:11:08,692 root     DEBUG    Crawling Interpark domastic schedule site\n"
     ]
    },
    {
     "name": "stdout",
     "output_type": "stream",
     "text": [
      "End Simple crawling\n",
      "Start Simple crawling :  http://smartair.interpark.com/HtmlSearch/GetGoodsSmartList.aspx\n",
      ">> Parameters\n",
      "trip:OW , chd:0 , adt:1 , FLEX:N , SplitNo:100 , depdate0:20170917 , SeatAvail:Y , ptype:I , comp:Y , dep0:ICN , BEST:Y , JSON:Y , inf:0 , Soto:N , SeatType:A , AirLine:TW , enc:u , Change: , arr0:NRT , StayLength: , \n"
     ]
    },
    {
     "name": "stderr",
     "output_type": "stream",
     "text": [
      "2017-08-09 08:11:10,942 root     DEBUG    Crawling Interpark domastic schedule site\n"
     ]
    },
    {
     "name": "stdout",
     "output_type": "stream",
     "text": [
      "End Simple crawling\n",
      "Start Simple crawling :  http://smartair.interpark.com/HtmlSearch/GetGoodsSmartList.aspx\n",
      ">> Parameters\n",
      "trip:OW , chd:0 , adt:1 , FLEX:N , SplitNo:100 , depdate0:20170917 , SeatAvail:Y , ptype:I , comp:Y , dep0:ICN , BEST:Y , JSON:Y , inf:0 , Soto:N , SeatType:A , AirLine:ZE , enc:u , Change: , arr0:NRT , StayLength: , \n"
     ]
    },
    {
     "name": "stderr",
     "output_type": "stream",
     "text": [
      "2017-08-09 08:11:13,112 root     DEBUG    Crawling Interpark domastic schedule site\n"
     ]
    },
    {
     "name": "stdout",
     "output_type": "stream",
     "text": [
      "End Simple crawling\n",
      "Start Simple crawling :  http://smartair.interpark.com/HtmlSearch/GetGoodsSmartList.aspx\n",
      ">> Parameters\n",
      "trip:OW , chd:0 , adt:1 , FLEX:N , SplitNo:100 , depdate0:20170918 , SeatAvail:Y , ptype:I , comp:Y , dep0:ICN , BEST:Y , JSON:Y , inf:0 , Soto:N , SeatType:A , AirLine:7C , enc:u , Change: , arr0:NRT , StayLength: , \n"
     ]
    },
    {
     "name": "stderr",
     "output_type": "stream",
     "text": [
      "2017-08-09 08:11:13,718 root     DEBUG    Crawling Interpark domastic schedule site\n"
     ]
    },
    {
     "name": "stdout",
     "output_type": "stream",
     "text": [
      "End Simple crawling\n",
      "Start Simple crawling :  http://smartair.interpark.com/HtmlSearch/GetGoodsSmartList.aspx\n",
      ">> Parameters\n",
      "trip:OW , chd:0 , adt:1 , FLEX:N , SplitNo:100 , depdate0:20170918 , SeatAvail:Y , ptype:I , comp:Y , dep0:ICN , BEST:Y , JSON:Y , inf:0 , Soto:N , SeatType:A , AirLine:LJ , enc:u , Change: , arr0:NRT , StayLength: , \n"
     ]
    },
    {
     "name": "stderr",
     "output_type": "stream",
     "text": [
      "2017-08-09 08:11:16,513 root     DEBUG    Crawling Interpark domastic schedule site\n"
     ]
    },
    {
     "name": "stdout",
     "output_type": "stream",
     "text": [
      "End Simple crawling\n",
      "Start Simple crawling :  http://smartair.interpark.com/HtmlSearch/GetGoodsSmartList.aspx\n",
      ">> Parameters\n",
      "trip:OW , chd:0 , adt:1 , FLEX:N , SplitNo:100 , depdate0:20170918 , SeatAvail:Y , ptype:I , comp:Y , dep0:ICN , BEST:Y , JSON:Y , inf:0 , Soto:N , SeatType:A , AirLine:TW , enc:u , Change: , arr0:NRT , StayLength: , \n"
     ]
    },
    {
     "name": "stderr",
     "output_type": "stream",
     "text": [
      "2017-08-09 08:11:20,096 root     DEBUG    Crawling Interpark domastic schedule site\n"
     ]
    },
    {
     "name": "stdout",
     "output_type": "stream",
     "text": [
      "End Simple crawling\n",
      "Start Simple crawling :  http://smartair.interpark.com/HtmlSearch/GetGoodsSmartList.aspx\n",
      ">> Parameters\n",
      "trip:OW , chd:0 , adt:1 , FLEX:N , SplitNo:100 , depdate0:20170918 , SeatAvail:Y , ptype:I , comp:Y , dep0:ICN , BEST:Y , JSON:Y , inf:0 , Soto:N , SeatType:A , AirLine:ZE , enc:u , Change: , arr0:NRT , StayLength: , \n"
     ]
    },
    {
     "name": "stderr",
     "output_type": "stream",
     "text": [
      "2017-08-09 08:11:22,364 root     DEBUG    Crawling Interpark domastic schedule site\n"
     ]
    },
    {
     "name": "stdout",
     "output_type": "stream",
     "text": [
      "End Simple crawling\n",
      "Start Simple crawling :  http://smartair.interpark.com/HtmlSearch/GetGoodsSmartList.aspx\n",
      ">> Parameters\n",
      "trip:OW , chd:0 , adt:1 , FLEX:N , SplitNo:100 , depdate0:20170919 , SeatAvail:Y , ptype:I , comp:Y , dep0:ICN , BEST:Y , JSON:Y , inf:0 , Soto:N , SeatType:A , AirLine:7C , enc:u , Change: , arr0:NRT , StayLength: , \n"
     ]
    },
    {
     "name": "stderr",
     "output_type": "stream",
     "text": [
      "2017-08-09 08:11:23,114 root     DEBUG    Crawling Interpark domastic schedule site\n"
     ]
    },
    {
     "name": "stdout",
     "output_type": "stream",
     "text": [
      "End Simple crawling\n",
      "Start Simple crawling :  http://smartair.interpark.com/HtmlSearch/GetGoodsSmartList.aspx\n",
      ">> Parameters\n",
      "trip:OW , chd:0 , adt:1 , FLEX:N , SplitNo:100 , depdate0:20170919 , SeatAvail:Y , ptype:I , comp:Y , dep0:ICN , BEST:Y , JSON:Y , inf:0 , Soto:N , SeatType:A , AirLine:LJ , enc:u , Change: , arr0:NRT , StayLength: , \n"
     ]
    },
    {
     "name": "stderr",
     "output_type": "stream",
     "text": [
      "2017-08-09 08:11:25,426 root     DEBUG    Crawling Interpark domastic schedule site\n"
     ]
    },
    {
     "name": "stdout",
     "output_type": "stream",
     "text": [
      "End Simple crawling\n",
      "Start Simple crawling :  http://smartair.interpark.com/HtmlSearch/GetGoodsSmartList.aspx\n",
      ">> Parameters\n",
      "trip:OW , chd:0 , adt:1 , FLEX:N , SplitNo:100 , depdate0:20170919 , SeatAvail:Y , ptype:I , comp:Y , dep0:ICN , BEST:Y , JSON:Y , inf:0 , Soto:N , SeatType:A , AirLine:TW , enc:u , Change: , arr0:NRT , StayLength: , \n"
     ]
    },
    {
     "name": "stderr",
     "output_type": "stream",
     "text": [
      "2017-08-09 08:11:27,766 root     DEBUG    Crawling Interpark domastic schedule site\n"
     ]
    },
    {
     "name": "stdout",
     "output_type": "stream",
     "text": [
      "End Simple crawling\n",
      "Start Simple crawling :  http://smartair.interpark.com/HtmlSearch/GetGoodsSmartList.aspx\n",
      ">> Parameters\n",
      "trip:OW , chd:0 , adt:1 , FLEX:N , SplitNo:100 , depdate0:20170919 , SeatAvail:Y , ptype:I , comp:Y , dep0:ICN , BEST:Y , JSON:Y , inf:0 , Soto:N , SeatType:A , AirLine:ZE , enc:u , Change: , arr0:NRT , StayLength: , \n"
     ]
    },
    {
     "name": "stderr",
     "output_type": "stream",
     "text": [
      "2017-08-09 08:11:30,411 root     DEBUG    Crawling Interpark domastic schedule site\n"
     ]
    },
    {
     "name": "stdout",
     "output_type": "stream",
     "text": [
      "End Simple crawling\n",
      "Start Simple crawling :  http://smartair.interpark.com/HtmlSearch/GetGoodsSmartList.aspx\n",
      ">> Parameters\n",
      "trip:OW , chd:0 , adt:1 , FLEX:N , SplitNo:100 , depdate0:20170920 , SeatAvail:Y , ptype:I , comp:Y , dep0:ICN , BEST:Y , JSON:Y , inf:0 , Soto:N , SeatType:A , AirLine:7C , enc:u , Change: , arr0:NRT , StayLength: , \n"
     ]
    },
    {
     "name": "stderr",
     "output_type": "stream",
     "text": [
      "2017-08-09 08:11:31,072 root     DEBUG    Crawling Interpark domastic schedule site\n"
     ]
    },
    {
     "name": "stdout",
     "output_type": "stream",
     "text": [
      "End Simple crawling\n",
      "Start Simple crawling :  http://smartair.interpark.com/HtmlSearch/GetGoodsSmartList.aspx\n",
      ">> Parameters\n",
      "trip:OW , chd:0 , adt:1 , FLEX:N , SplitNo:100 , depdate0:20170920 , SeatAvail:Y , ptype:I , comp:Y , dep0:ICN , BEST:Y , JSON:Y , inf:0 , Soto:N , SeatType:A , AirLine:LJ , enc:u , Change: , arr0:NRT , StayLength: , \n"
     ]
    },
    {
     "name": "stderr",
     "output_type": "stream",
     "text": [
      "2017-08-09 08:11:33,365 root     DEBUG    Crawling Interpark domastic schedule site\n"
     ]
    },
    {
     "name": "stdout",
     "output_type": "stream",
     "text": [
      "End Simple crawling\n",
      "Start Simple crawling :  http://smartair.interpark.com/HtmlSearch/GetGoodsSmartList.aspx\n",
      ">> Parameters\n",
      "trip:OW , chd:0 , adt:1 , FLEX:N , SplitNo:100 , depdate0:20170920 , SeatAvail:Y , ptype:I , comp:Y , dep0:ICN , BEST:Y , JSON:Y , inf:0 , Soto:N , SeatType:A , AirLine:TW , enc:u , Change: , arr0:NRT , StayLength: , \n"
     ]
    },
    {
     "name": "stderr",
     "output_type": "stream",
     "text": [
      "2017-08-09 08:11:37,086 root     DEBUG    Crawling Interpark domastic schedule site\n"
     ]
    },
    {
     "name": "stdout",
     "output_type": "stream",
     "text": [
      "End Simple crawling\n",
      "Start Simple crawling :  http://smartair.interpark.com/HtmlSearch/GetGoodsSmartList.aspx\n",
      ">> Parameters\n",
      "trip:OW , chd:0 , adt:1 , FLEX:N , SplitNo:100 , depdate0:20170920 , SeatAvail:Y , ptype:I , comp:Y , dep0:ICN , BEST:Y , JSON:Y , inf:0 , Soto:N , SeatType:A , AirLine:ZE , enc:u , Change: , arr0:NRT , StayLength: , \n"
     ]
    },
    {
     "name": "stderr",
     "output_type": "stream",
     "text": [
      "2017-08-09 08:11:39,587 root     DEBUG    Crawling Interpark domastic schedule site\n"
     ]
    },
    {
     "name": "stdout",
     "output_type": "stream",
     "text": [
      "End Simple crawling\n",
      "Start Simple crawling :  http://smartair.interpark.com/HtmlSearch/GetGoodsSmartList.aspx\n",
      ">> Parameters\n",
      "trip:OW , chd:0 , adt:1 , FLEX:N , SplitNo:100 , depdate0:20170921 , SeatAvail:Y , ptype:I , comp:Y , dep0:ICN , BEST:Y , JSON:Y , inf:0 , Soto:N , SeatType:A , AirLine:7C , enc:u , Change: , arr0:NRT , StayLength: , \n"
     ]
    },
    {
     "name": "stderr",
     "output_type": "stream",
     "text": [
      "2017-08-09 08:11:40,440 root     DEBUG    Crawling Interpark domastic schedule site\n"
     ]
    },
    {
     "name": "stdout",
     "output_type": "stream",
     "text": [
      "End Simple crawling\n",
      "Start Simple crawling :  http://smartair.interpark.com/HtmlSearch/GetGoodsSmartList.aspx\n",
      ">> Parameters\n",
      "trip:OW , chd:0 , adt:1 , FLEX:N , SplitNo:100 , depdate0:20170921 , SeatAvail:Y , ptype:I , comp:Y , dep0:ICN , BEST:Y , JSON:Y , inf:0 , Soto:N , SeatType:A , AirLine:LJ , enc:u , Change: , arr0:NRT , StayLength: , \n"
     ]
    },
    {
     "name": "stderr",
     "output_type": "stream",
     "text": [
      "2017-08-09 08:11:42,750 root     DEBUG    Crawling Interpark domastic schedule site\n"
     ]
    },
    {
     "name": "stdout",
     "output_type": "stream",
     "text": [
      "End Simple crawling\n",
      "Start Simple crawling :  http://smartair.interpark.com/HtmlSearch/GetGoodsSmartList.aspx\n",
      ">> Parameters\n",
      "trip:OW , chd:0 , adt:1 , FLEX:N , SplitNo:100 , depdate0:20170921 , SeatAvail:Y , ptype:I , comp:Y , dep0:ICN , BEST:Y , JSON:Y , inf:0 , Soto:N , SeatType:A , AirLine:TW , enc:u , Change: , arr0:NRT , StayLength: , \n"
     ]
    },
    {
     "name": "stderr",
     "output_type": "stream",
     "text": [
      "2017-08-09 08:11:45,036 root     DEBUG    Crawling Interpark domastic schedule site\n"
     ]
    },
    {
     "name": "stdout",
     "output_type": "stream",
     "text": [
      "End Simple crawling\n",
      "Start Simple crawling :  http://smartair.interpark.com/HtmlSearch/GetGoodsSmartList.aspx\n",
      ">> Parameters\n",
      "trip:OW , chd:0 , adt:1 , FLEX:N , SplitNo:100 , depdate0:20170921 , SeatAvail:Y , ptype:I , comp:Y , dep0:ICN , BEST:Y , JSON:Y , inf:0 , Soto:N , SeatType:A , AirLine:ZE , enc:u , Change: , arr0:NRT , StayLength: , \n"
     ]
    },
    {
     "name": "stderr",
     "output_type": "stream",
     "text": [
      "2017-08-09 08:11:47,556 root     DEBUG    Crawling Interpark domastic schedule site\n"
     ]
    },
    {
     "name": "stdout",
     "output_type": "stream",
     "text": [
      "End Simple crawling\n",
      "Start Simple crawling :  http://smartair.interpark.com/HtmlSearch/GetGoodsSmartList.aspx\n",
      ">> Parameters\n",
      "trip:OW , chd:0 , adt:1 , FLEX:N , SplitNo:100 , depdate0:20170922 , SeatAvail:Y , ptype:I , comp:Y , dep0:ICN , BEST:Y , JSON:Y , inf:0 , Soto:N , SeatType:A , AirLine:7C , enc:u , Change: , arr0:NRT , StayLength: , \n"
     ]
    },
    {
     "name": "stderr",
     "output_type": "stream",
     "text": [
      "2017-08-09 08:11:48,348 root     DEBUG    Crawling Interpark domastic schedule site\n"
     ]
    },
    {
     "name": "stdout",
     "output_type": "stream",
     "text": [
      "End Simple crawling\n",
      "Start Simple crawling :  http://smartair.interpark.com/HtmlSearch/GetGoodsSmartList.aspx\n",
      ">> Parameters\n",
      "trip:OW , chd:0 , adt:1 , FLEX:N , SplitNo:100 , depdate0:20170922 , SeatAvail:Y , ptype:I , comp:Y , dep0:ICN , BEST:Y , JSON:Y , inf:0 , Soto:N , SeatType:A , AirLine:LJ , enc:u , Change: , arr0:NRT , StayLength: , \n"
     ]
    },
    {
     "name": "stderr",
     "output_type": "stream",
     "text": [
      "2017-08-09 08:11:50,544 root     DEBUG    Crawling Interpark domastic schedule site\n"
     ]
    },
    {
     "name": "stdout",
     "output_type": "stream",
     "text": [
      "End Simple crawling\n",
      "Start Simple crawling :  http://smartair.interpark.com/HtmlSearch/GetGoodsSmartList.aspx\n",
      ">> Parameters\n",
      "trip:OW , chd:0 , adt:1 , FLEX:N , SplitNo:100 , depdate0:20170922 , SeatAvail:Y , ptype:I , comp:Y , dep0:ICN , BEST:Y , JSON:Y , inf:0 , Soto:N , SeatType:A , AirLine:TW , enc:u , Change: , arr0:NRT , StayLength: , \n"
     ]
    },
    {
     "name": "stderr",
     "output_type": "stream",
     "text": [
      "2017-08-09 08:11:53,101 root     DEBUG    Crawling Interpark domastic schedule site\n"
     ]
    },
    {
     "name": "stdout",
     "output_type": "stream",
     "text": [
      "End Simple crawling\n",
      "Start Simple crawling :  http://smartair.interpark.com/HtmlSearch/GetGoodsSmartList.aspx\n",
      ">> Parameters\n",
      "trip:OW , chd:0 , adt:1 , FLEX:N , SplitNo:100 , depdate0:20170922 , SeatAvail:Y , ptype:I , comp:Y , dep0:ICN , BEST:Y , JSON:Y , inf:0 , Soto:N , SeatType:A , AirLine:ZE , enc:u , Change: , arr0:NRT , StayLength: , \n"
     ]
    },
    {
     "name": "stderr",
     "output_type": "stream",
     "text": [
      "2017-08-09 08:11:55,492 root     DEBUG    Crawling Interpark domastic schedule site\n"
     ]
    },
    {
     "name": "stdout",
     "output_type": "stream",
     "text": [
      "End Simple crawling\n",
      "Start Simple crawling :  http://smartair.interpark.com/HtmlSearch/GetGoodsSmartList.aspx\n",
      ">> Parameters\n",
      "trip:OW , chd:0 , adt:1 , FLEX:N , SplitNo:100 , depdate0:20170923 , SeatAvail:Y , ptype:I , comp:Y , dep0:ICN , BEST:Y , JSON:Y , inf:0 , Soto:N , SeatType:A , AirLine:7C , enc:u , Change: , arr0:NRT , StayLength: , \n"
     ]
    },
    {
     "name": "stderr",
     "output_type": "stream",
     "text": [
      "2017-08-09 08:11:56,116 root     DEBUG    Crawling Interpark domastic schedule site\n"
     ]
    },
    {
     "name": "stdout",
     "output_type": "stream",
     "text": [
      "End Simple crawling\n",
      "Start Simple crawling :  http://smartair.interpark.com/HtmlSearch/GetGoodsSmartList.aspx\n",
      ">> Parameters\n",
      "trip:OW , chd:0 , adt:1 , FLEX:N , SplitNo:100 , depdate0:20170923 , SeatAvail:Y , ptype:I , comp:Y , dep0:ICN , BEST:Y , JSON:Y , inf:0 , Soto:N , SeatType:A , AirLine:LJ , enc:u , Change: , arr0:NRT , StayLength: , \n"
     ]
    },
    {
     "name": "stderr",
     "output_type": "stream",
     "text": [
      "2017-08-09 08:11:58,365 root     DEBUG    Crawling Interpark domastic schedule site\n"
     ]
    },
    {
     "name": "stdout",
     "output_type": "stream",
     "text": [
      "End Simple crawling\n",
      "Start Simple crawling :  http://smartair.interpark.com/HtmlSearch/GetGoodsSmartList.aspx\n",
      ">> Parameters\n",
      "trip:OW , chd:0 , adt:1 , FLEX:N , SplitNo:100 , depdate0:20170923 , SeatAvail:Y , ptype:I , comp:Y , dep0:ICN , BEST:Y , JSON:Y , inf:0 , Soto:N , SeatType:A , AirLine:TW , enc:u , Change: , arr0:NRT , StayLength: , \n"
     ]
    },
    {
     "name": "stderr",
     "output_type": "stream",
     "text": [
      "2017-08-09 08:12:00,784 root     DEBUG    Crawling Interpark domastic schedule site\n"
     ]
    },
    {
     "name": "stdout",
     "output_type": "stream",
     "text": [
      "End Simple crawling\n",
      "Start Simple crawling :  http://smartair.interpark.com/HtmlSearch/GetGoodsSmartList.aspx\n",
      ">> Parameters\n",
      "trip:OW , chd:0 , adt:1 , FLEX:N , SplitNo:100 , depdate0:20170923 , SeatAvail:Y , ptype:I , comp:Y , dep0:ICN , BEST:Y , JSON:Y , inf:0 , Soto:N , SeatType:A , AirLine:ZE , enc:u , Change: , arr0:NRT , StayLength: , \n"
     ]
    },
    {
     "name": "stderr",
     "output_type": "stream",
     "text": [
      "2017-08-09 08:12:03,234 root     DEBUG    Crawling Interpark domastic schedule site\n"
     ]
    },
    {
     "name": "stdout",
     "output_type": "stream",
     "text": [
      "End Simple crawling\n",
      "Start Simple crawling :  http://smartair.interpark.com/HtmlSearch/GetGoodsSmartList.aspx\n",
      ">> Parameters\n",
      "trip:OW , chd:0 , adt:1 , FLEX:N , SplitNo:100 , depdate0:20170924 , SeatAvail:Y , ptype:I , comp:Y , dep0:ICN , BEST:Y , JSON:Y , inf:0 , Soto:N , SeatType:A , AirLine:7C , enc:u , Change: , arr0:NRT , StayLength: , \n"
     ]
    },
    {
     "name": "stderr",
     "output_type": "stream",
     "text": [
      "2017-08-09 08:12:03,888 root     DEBUG    Crawling Interpark domastic schedule site\n"
     ]
    },
    {
     "name": "stdout",
     "output_type": "stream",
     "text": [
      "End Simple crawling\n",
      "Start Simple crawling :  http://smartair.interpark.com/HtmlSearch/GetGoodsSmartList.aspx\n",
      ">> Parameters\n",
      "trip:OW , chd:0 , adt:1 , FLEX:N , SplitNo:100 , depdate0:20170924 , SeatAvail:Y , ptype:I , comp:Y , dep0:ICN , BEST:Y , JSON:Y , inf:0 , Soto:N , SeatType:A , AirLine:LJ , enc:u , Change: , arr0:NRT , StayLength: , \n"
     ]
    },
    {
     "name": "stderr",
     "output_type": "stream",
     "text": [
      "2017-08-09 08:12:06,079 root     DEBUG    Crawling Interpark domastic schedule site\n"
     ]
    },
    {
     "name": "stdout",
     "output_type": "stream",
     "text": [
      "End Simple crawling\n",
      "Start Simple crawling :  http://smartair.interpark.com/HtmlSearch/GetGoodsSmartList.aspx\n",
      ">> Parameters\n",
      "trip:OW , chd:0 , adt:1 , FLEX:N , SplitNo:100 , depdate0:20170924 , SeatAvail:Y , ptype:I , comp:Y , dep0:ICN , BEST:Y , JSON:Y , inf:0 , Soto:N , SeatType:A , AirLine:TW , enc:u , Change: , arr0:NRT , StayLength: , \n"
     ]
    },
    {
     "name": "stderr",
     "output_type": "stream",
     "text": [
      "2017-08-09 08:12:08,289 root     DEBUG    Crawling Interpark domastic schedule site\n"
     ]
    },
    {
     "name": "stdout",
     "output_type": "stream",
     "text": [
      "End Simple crawling\n",
      "Start Simple crawling :  http://smartair.interpark.com/HtmlSearch/GetGoodsSmartList.aspx\n",
      ">> Parameters\n",
      "trip:OW , chd:0 , adt:1 , FLEX:N , SplitNo:100 , depdate0:20170924 , SeatAvail:Y , ptype:I , comp:Y , dep0:ICN , BEST:Y , JSON:Y , inf:0 , Soto:N , SeatType:A , AirLine:ZE , enc:u , Change: , arr0:NRT , StayLength: , \n"
     ]
    },
    {
     "name": "stderr",
     "output_type": "stream",
     "text": [
      "2017-08-09 08:12:10,717 root     DEBUG    Crawling Interpark domastic schedule site\n"
     ]
    },
    {
     "name": "stdout",
     "output_type": "stream",
     "text": [
      "End Simple crawling\n",
      "Start Simple crawling :  http://smartair.interpark.com/HtmlSearch/GetGoodsSmartList.aspx\n",
      ">> Parameters\n",
      "trip:OW , chd:0 , adt:1 , FLEX:N , SplitNo:100 , depdate0:20170925 , SeatAvail:Y , ptype:I , comp:Y , dep0:ICN , BEST:Y , JSON:Y , inf:0 , Soto:N , SeatType:A , AirLine:7C , enc:u , Change: , arr0:NRT , StayLength: , \n"
     ]
    },
    {
     "name": "stderr",
     "output_type": "stream",
     "text": [
      "2017-08-09 08:12:11,361 root     DEBUG    Crawling Interpark domastic schedule site\n"
     ]
    },
    {
     "name": "stdout",
     "output_type": "stream",
     "text": [
      "End Simple crawling\n",
      "Start Simple crawling :  http://smartair.interpark.com/HtmlSearch/GetGoodsSmartList.aspx\n",
      ">> Parameters\n",
      "trip:OW , chd:0 , adt:1 , FLEX:N , SplitNo:100 , depdate0:20170925 , SeatAvail:Y , ptype:I , comp:Y , dep0:ICN , BEST:Y , JSON:Y , inf:0 , Soto:N , SeatType:A , AirLine:LJ , enc:u , Change: , arr0:NRT , StayLength: , \n"
     ]
    },
    {
     "name": "stderr",
     "output_type": "stream",
     "text": [
      "2017-08-09 08:12:13,724 root     DEBUG    Crawling Interpark domastic schedule site\n"
     ]
    },
    {
     "name": "stdout",
     "output_type": "stream",
     "text": [
      "End Simple crawling\n",
      "Start Simple crawling :  http://smartair.interpark.com/HtmlSearch/GetGoodsSmartList.aspx\n",
      ">> Parameters\n",
      "trip:OW , chd:0 , adt:1 , FLEX:N , SplitNo:100 , depdate0:20170925 , SeatAvail:Y , ptype:I , comp:Y , dep0:ICN , BEST:Y , JSON:Y , inf:0 , Soto:N , SeatType:A , AirLine:TW , enc:u , Change: , arr0:NRT , StayLength: , \n"
     ]
    },
    {
     "name": "stderr",
     "output_type": "stream",
     "text": [
      "2017-08-09 08:12:15,920 root     DEBUG    Crawling Interpark domastic schedule site\n"
     ]
    },
    {
     "name": "stdout",
     "output_type": "stream",
     "text": [
      "End Simple crawling\n",
      "Start Simple crawling :  http://smartair.interpark.com/HtmlSearch/GetGoodsSmartList.aspx\n",
      ">> Parameters\n",
      "trip:OW , chd:0 , adt:1 , FLEX:N , SplitNo:100 , depdate0:20170925 , SeatAvail:Y , ptype:I , comp:Y , dep0:ICN , BEST:Y , JSON:Y , inf:0 , Soto:N , SeatType:A , AirLine:ZE , enc:u , Change: , arr0:NRT , StayLength: , \n"
     ]
    },
    {
     "name": "stderr",
     "output_type": "stream",
     "text": [
      "2017-08-09 08:12:18,215 root     DEBUG    Crawling Interpark domastic schedule site\n"
     ]
    },
    {
     "name": "stdout",
     "output_type": "stream",
     "text": [
      "End Simple crawling\n",
      "Start Simple crawling :  http://smartair.interpark.com/HtmlSearch/GetGoodsSmartList.aspx\n",
      ">> Parameters\n",
      "trip:OW , chd:0 , adt:1 , FLEX:N , SplitNo:100 , depdate0:20170926 , SeatAvail:Y , ptype:I , comp:Y , dep0:ICN , BEST:Y , JSON:Y , inf:0 , Soto:N , SeatType:A , AirLine:7C , enc:u , Change: , arr0:NRT , StayLength: , \n"
     ]
    },
    {
     "name": "stderr",
     "output_type": "stream",
     "text": [
      "2017-08-09 08:12:19,111 root     DEBUG    Crawling Interpark domastic schedule site\n"
     ]
    },
    {
     "name": "stdout",
     "output_type": "stream",
     "text": [
      "End Simple crawling\n",
      "Start Simple crawling :  http://smartair.interpark.com/HtmlSearch/GetGoodsSmartList.aspx\n",
      ">> Parameters\n",
      "trip:OW , chd:0 , adt:1 , FLEX:N , SplitNo:100 , depdate0:20170926 , SeatAvail:Y , ptype:I , comp:Y , dep0:ICN , BEST:Y , JSON:Y , inf:0 , Soto:N , SeatType:A , AirLine:LJ , enc:u , Change: , arr0:NRT , StayLength: , \n"
     ]
    },
    {
     "name": "stderr",
     "output_type": "stream",
     "text": [
      "2017-08-09 08:12:21,294 root     DEBUG    Crawling Interpark domastic schedule site\n"
     ]
    },
    {
     "name": "stdout",
     "output_type": "stream",
     "text": [
      "End Simple crawling\n",
      "Start Simple crawling :  http://smartair.interpark.com/HtmlSearch/GetGoodsSmartList.aspx\n",
      ">> Parameters\n",
      "trip:OW , chd:0 , adt:1 , FLEX:N , SplitNo:100 , depdate0:20170926 , SeatAvail:Y , ptype:I , comp:Y , dep0:ICN , BEST:Y , JSON:Y , inf:0 , Soto:N , SeatType:A , AirLine:TW , enc:u , Change: , arr0:NRT , StayLength: , \n"
     ]
    },
    {
     "name": "stderr",
     "output_type": "stream",
     "text": [
      "2017-08-09 08:12:23,587 root     DEBUG    Crawling Interpark domastic schedule site\n"
     ]
    },
    {
     "name": "stdout",
     "output_type": "stream",
     "text": [
      "End Simple crawling\n",
      "Start Simple crawling :  http://smartair.interpark.com/HtmlSearch/GetGoodsSmartList.aspx\n",
      ">> Parameters\n",
      "trip:OW , chd:0 , adt:1 , FLEX:N , SplitNo:100 , depdate0:20170926 , SeatAvail:Y , ptype:I , comp:Y , dep0:ICN , BEST:Y , JSON:Y , inf:0 , Soto:N , SeatType:A , AirLine:ZE , enc:u , Change: , arr0:NRT , StayLength: , \n"
     ]
    },
    {
     "name": "stderr",
     "output_type": "stream",
     "text": [
      "2017-08-09 08:12:26,087 root     DEBUG    Crawling Interpark domastic schedule site\n"
     ]
    },
    {
     "name": "stdout",
     "output_type": "stream",
     "text": [
      "End Simple crawling\n",
      "Start Simple crawling :  http://smartair.interpark.com/HtmlSearch/GetGoodsSmartList.aspx\n",
      ">> Parameters\n",
      "trip:OW , chd:0 , adt:1 , FLEX:N , SplitNo:100 , depdate0:20170927 , SeatAvail:Y , ptype:I , comp:Y , dep0:ICN , BEST:Y , JSON:Y , inf:0 , Soto:N , SeatType:A , AirLine:7C , enc:u , Change: , arr0:NRT , StayLength: , \n"
     ]
    },
    {
     "name": "stderr",
     "output_type": "stream",
     "text": [
      "2017-08-09 08:12:26,784 root     DEBUG    Crawling Interpark domastic schedule site\n"
     ]
    },
    {
     "name": "stdout",
     "output_type": "stream",
     "text": [
      "End Simple crawling\n",
      "Start Simple crawling :  http://smartair.interpark.com/HtmlSearch/GetGoodsSmartList.aspx\n",
      ">> Parameters\n",
      "trip:OW , chd:0 , adt:1 , FLEX:N , SplitNo:100 , depdate0:20170927 , SeatAvail:Y , ptype:I , comp:Y , dep0:ICN , BEST:Y , JSON:Y , inf:0 , Soto:N , SeatType:A , AirLine:LJ , enc:u , Change: , arr0:NRT , StayLength: , \n"
     ]
    },
    {
     "name": "stderr",
     "output_type": "stream",
     "text": [
      "2017-08-09 08:12:29,177 root     DEBUG    Crawling Interpark domastic schedule site\n"
     ]
    },
    {
     "name": "stdout",
     "output_type": "stream",
     "text": [
      "End Simple crawling\n",
      "Start Simple crawling :  http://smartair.interpark.com/HtmlSearch/GetGoodsSmartList.aspx\n",
      ">> Parameters\n",
      "trip:OW , chd:0 , adt:1 , FLEX:N , SplitNo:100 , depdate0:20170927 , SeatAvail:Y , ptype:I , comp:Y , dep0:ICN , BEST:Y , JSON:Y , inf:0 , Soto:N , SeatType:A , AirLine:TW , enc:u , Change: , arr0:NRT , StayLength: , \n"
     ]
    },
    {
     "name": "stderr",
     "output_type": "stream",
     "text": [
      "2017-08-09 08:12:31,626 root     DEBUG    Crawling Interpark domastic schedule site\n"
     ]
    },
    {
     "name": "stdout",
     "output_type": "stream",
     "text": [
      "End Simple crawling\n",
      "Start Simple crawling :  http://smartair.interpark.com/HtmlSearch/GetGoodsSmartList.aspx\n",
      ">> Parameters\n",
      "trip:OW , chd:0 , adt:1 , FLEX:N , SplitNo:100 , depdate0:20170927 , SeatAvail:Y , ptype:I , comp:Y , dep0:ICN , BEST:Y , JSON:Y , inf:0 , Soto:N , SeatType:A , AirLine:ZE , enc:u , Change: , arr0:NRT , StayLength: , \n"
     ]
    },
    {
     "name": "stderr",
     "output_type": "stream",
     "text": [
      "2017-08-09 08:12:34,030 root     DEBUG    Crawling Interpark domastic schedule site\n"
     ]
    },
    {
     "name": "stdout",
     "output_type": "stream",
     "text": [
      "End Simple crawling\n",
      "Start Simple crawling :  http://smartair.interpark.com/HtmlSearch/GetGoodsSmartList.aspx\n",
      ">> Parameters\n",
      "trip:OW , chd:0 , adt:1 , FLEX:N , SplitNo:100 , depdate0:20170928 , SeatAvail:Y , ptype:I , comp:Y , dep0:ICN , BEST:Y , JSON:Y , inf:0 , Soto:N , SeatType:A , AirLine:7C , enc:u , Change: , arr0:NRT , StayLength: , \n"
     ]
    },
    {
     "name": "stderr",
     "output_type": "stream",
     "text": [
      "2017-08-09 08:12:34,664 root     DEBUG    Crawling Interpark domastic schedule site\n"
     ]
    },
    {
     "name": "stdout",
     "output_type": "stream",
     "text": [
      "End Simple crawling\n",
      "Start Simple crawling :  http://smartair.interpark.com/HtmlSearch/GetGoodsSmartList.aspx\n",
      ">> Parameters\n",
      "trip:OW , chd:0 , adt:1 , FLEX:N , SplitNo:100 , depdate0:20170928 , SeatAvail:Y , ptype:I , comp:Y , dep0:ICN , BEST:Y , JSON:Y , inf:0 , Soto:N , SeatType:A , AirLine:LJ , enc:u , Change: , arr0:NRT , StayLength: , \n"
     ]
    },
    {
     "name": "stderr",
     "output_type": "stream",
     "text": [
      "2017-08-09 08:12:36,757 root     DEBUG    Crawling Interpark domastic schedule site\n"
     ]
    },
    {
     "name": "stdout",
     "output_type": "stream",
     "text": [
      "End Simple crawling\n",
      "Start Simple crawling :  http://smartair.interpark.com/HtmlSearch/GetGoodsSmartList.aspx\n",
      ">> Parameters\n",
      "trip:OW , chd:0 , adt:1 , FLEX:N , SplitNo:100 , depdate0:20170928 , SeatAvail:Y , ptype:I , comp:Y , dep0:ICN , BEST:Y , JSON:Y , inf:0 , Soto:N , SeatType:A , AirLine:TW , enc:u , Change: , arr0:NRT , StayLength: , \n"
     ]
    },
    {
     "name": "stderr",
     "output_type": "stream",
     "text": [
      "2017-08-09 08:12:38,980 root     DEBUG    Crawling Interpark domastic schedule site\n"
     ]
    },
    {
     "name": "stdout",
     "output_type": "stream",
     "text": [
      "End Simple crawling\n",
      "Start Simple crawling :  http://smartair.interpark.com/HtmlSearch/GetGoodsSmartList.aspx\n",
      ">> Parameters\n",
      "trip:OW , chd:0 , adt:1 , FLEX:N , SplitNo:100 , depdate0:20170928 , SeatAvail:Y , ptype:I , comp:Y , dep0:ICN , BEST:Y , JSON:Y , inf:0 , Soto:N , SeatType:A , AirLine:ZE , enc:u , Change: , arr0:NRT , StayLength: , \n"
     ]
    },
    {
     "name": "stderr",
     "output_type": "stream",
     "text": [
      "2017-08-09 08:12:41,154 root     DEBUG    Crawling Interpark domastic schedule site\n"
     ]
    },
    {
     "name": "stdout",
     "output_type": "stream",
     "text": [
      "End Simple crawling\n",
      "Start Simple crawling :  http://smartair.interpark.com/HtmlSearch/GetGoodsSmartList.aspx\n",
      ">> Parameters\n",
      "trip:OW , chd:0 , adt:1 , FLEX:N , SplitNo:100 , depdate0:20170929 , SeatAvail:Y , ptype:I , comp:Y , dep0:ICN , BEST:Y , JSON:Y , inf:0 , Soto:N , SeatType:A , AirLine:7C , enc:u , Change: , arr0:NRT , StayLength: , \n"
     ]
    },
    {
     "name": "stderr",
     "output_type": "stream",
     "text": [
      "2017-08-09 08:12:41,714 root     DEBUG    Crawling Interpark domastic schedule site\n"
     ]
    },
    {
     "name": "stdout",
     "output_type": "stream",
     "text": [
      "End Simple crawling\n",
      "Start Simple crawling :  http://smartair.interpark.com/HtmlSearch/GetGoodsSmartList.aspx\n",
      ">> Parameters\n",
      "trip:OW , chd:0 , adt:1 , FLEX:N , SplitNo:100 , depdate0:20170929 , SeatAvail:Y , ptype:I , comp:Y , dep0:ICN , BEST:Y , JSON:Y , inf:0 , Soto:N , SeatType:A , AirLine:LJ , enc:u , Change: , arr0:NRT , StayLength: , \n"
     ]
    },
    {
     "name": "stderr",
     "output_type": "stream",
     "text": [
      "2017-08-09 08:12:44,076 root     DEBUG    Crawling Interpark domastic schedule site\n"
     ]
    },
    {
     "name": "stdout",
     "output_type": "stream",
     "text": [
      "End Simple crawling\n",
      "Start Simple crawling :  http://smartair.interpark.com/HtmlSearch/GetGoodsSmartList.aspx\n",
      ">> Parameters\n",
      "trip:OW , chd:0 , adt:1 , FLEX:N , SplitNo:100 , depdate0:20170929 , SeatAvail:Y , ptype:I , comp:Y , dep0:ICN , BEST:Y , JSON:Y , inf:0 , Soto:N , SeatType:A , AirLine:TW , enc:u , Change: , arr0:NRT , StayLength: , \n"
     ]
    },
    {
     "name": "stderr",
     "output_type": "stream",
     "text": [
      "2017-08-09 08:12:46,430 root     DEBUG    Crawling Interpark domastic schedule site\n"
     ]
    },
    {
     "name": "stdout",
     "output_type": "stream",
     "text": [
      "End Simple crawling\n",
      "Start Simple crawling :  http://smartair.interpark.com/HtmlSearch/GetGoodsSmartList.aspx\n",
      ">> Parameters\n",
      "trip:OW , chd:0 , adt:1 , FLEX:N , SplitNo:100 , depdate0:20170929 , SeatAvail:Y , ptype:I , comp:Y , dep0:ICN , BEST:Y , JSON:Y , inf:0 , Soto:N , SeatType:A , AirLine:ZE , enc:u , Change: , arr0:NRT , StayLength: , \n"
     ]
    },
    {
     "name": "stderr",
     "output_type": "stream",
     "text": [
      "2017-08-09 08:12:48,614 root     DEBUG    Crawling Interpark domastic schedule site\n"
     ]
    },
    {
     "name": "stdout",
     "output_type": "stream",
     "text": [
      "End Simple crawling\n",
      "Start Simple crawling :  http://smartair.interpark.com/HtmlSearch/GetGoodsSmartList.aspx\n",
      ">> Parameters\n",
      "trip:OW , chd:0 , adt:1 , FLEX:N , SplitNo:100 , depdate0:20170930 , SeatAvail:Y , ptype:I , comp:Y , dep0:ICN , BEST:Y , JSON:Y , inf:0 , Soto:N , SeatType:A , AirLine:7C , enc:u , Change: , arr0:NRT , StayLength: , \n"
     ]
    },
    {
     "name": "stderr",
     "output_type": "stream",
     "text": [
      "2017-08-09 08:12:49,302 root     DEBUG    Crawling Interpark domastic schedule site\n"
     ]
    },
    {
     "name": "stdout",
     "output_type": "stream",
     "text": [
      "End Simple crawling\n",
      "Start Simple crawling :  http://smartair.interpark.com/HtmlSearch/GetGoodsSmartList.aspx\n",
      ">> Parameters\n",
      "trip:OW , chd:0 , adt:1 , FLEX:N , SplitNo:100 , depdate0:20170930 , SeatAvail:Y , ptype:I , comp:Y , dep0:ICN , BEST:Y , JSON:Y , inf:0 , Soto:N , SeatType:A , AirLine:LJ , enc:u , Change: , arr0:NRT , StayLength: , \n"
     ]
    },
    {
     "name": "stderr",
     "output_type": "stream",
     "text": [
      "2017-08-09 08:12:51,457 root     DEBUG    Crawling Interpark domastic schedule site\n"
     ]
    },
    {
     "name": "stdout",
     "output_type": "stream",
     "text": [
      "End Simple crawling\n",
      "Start Simple crawling :  http://smartair.interpark.com/HtmlSearch/GetGoodsSmartList.aspx\n",
      ">> Parameters\n",
      "trip:OW , chd:0 , adt:1 , FLEX:N , SplitNo:100 , depdate0:20170930 , SeatAvail:Y , ptype:I , comp:Y , dep0:ICN , BEST:Y , JSON:Y , inf:0 , Soto:N , SeatType:A , AirLine:TW , enc:u , Change: , arr0:NRT , StayLength: , \n"
     ]
    },
    {
     "name": "stderr",
     "output_type": "stream",
     "text": [
      "2017-08-09 08:12:53,552 root     DEBUG    Crawling Interpark domastic schedule site\n"
     ]
    },
    {
     "name": "stdout",
     "output_type": "stream",
     "text": [
      "End Simple crawling\n",
      "Start Simple crawling :  http://smartair.interpark.com/HtmlSearch/GetGoodsSmartList.aspx\n",
      ">> Parameters\n",
      "trip:OW , chd:0 , adt:1 , FLEX:N , SplitNo:100 , depdate0:20170930 , SeatAvail:Y , ptype:I , comp:Y , dep0:ICN , BEST:Y , JSON:Y , inf:0 , Soto:N , SeatType:A , AirLine:ZE , enc:u , Change: , arr0:NRT , StayLength: , \n"
     ]
    },
    {
     "name": "stderr",
     "output_type": "stream",
     "text": [
      "2017-08-09 08:12:55,633 root     DEBUG    Crawling Interpark domastic schedule site\n"
     ]
    },
    {
     "name": "stdout",
     "output_type": "stream",
     "text": [
      "End Simple crawling\n",
      "Start Simple crawling :  http://smartair.interpark.com/HtmlSearch/GetGoodsSmartList.aspx\n",
      ">> Parameters\n",
      "trip:OW , chd:0 , adt:1 , FLEX:N , SplitNo:100 , depdate0:20171001 , SeatAvail:Y , ptype:I , comp:Y , dep0:ICN , BEST:Y , JSON:Y , inf:0 , Soto:N , SeatType:A , AirLine:7C , enc:u , Change: , arr0:NRT , StayLength: , \n"
     ]
    },
    {
     "name": "stderr",
     "output_type": "stream",
     "text": [
      "2017-08-09 08:12:56,238 root     DEBUG    Crawling Interpark domastic schedule site\n"
     ]
    },
    {
     "name": "stdout",
     "output_type": "stream",
     "text": [
      "End Simple crawling\n",
      "Start Simple crawling :  http://smartair.interpark.com/HtmlSearch/GetGoodsSmartList.aspx\n",
      ">> Parameters\n",
      "trip:OW , chd:0 , adt:1 , FLEX:N , SplitNo:100 , depdate0:20171001 , SeatAvail:Y , ptype:I , comp:Y , dep0:ICN , BEST:Y , JSON:Y , inf:0 , Soto:N , SeatType:A , AirLine:LJ , enc:u , Change: , arr0:NRT , StayLength: , \n"
     ]
    },
    {
     "name": "stderr",
     "output_type": "stream",
     "text": [
      "2017-08-09 08:12:59,121 root     DEBUG    Crawling Interpark domastic schedule site\n"
     ]
    },
    {
     "name": "stdout",
     "output_type": "stream",
     "text": [
      "End Simple crawling\n",
      "Start Simple crawling :  http://smartair.interpark.com/HtmlSearch/GetGoodsSmartList.aspx\n",
      ">> Parameters\n",
      "trip:OW , chd:0 , adt:1 , FLEX:N , SplitNo:100 , depdate0:20171001 , SeatAvail:Y , ptype:I , comp:Y , dep0:ICN , BEST:Y , JSON:Y , inf:0 , Soto:N , SeatType:A , AirLine:TW , enc:u , Change: , arr0:NRT , StayLength: , \n"
     ]
    },
    {
     "name": "stderr",
     "output_type": "stream",
     "text": [
      "2017-08-09 08:13:01,243 root     DEBUG    Crawling Interpark domastic schedule site\n"
     ]
    },
    {
     "name": "stdout",
     "output_type": "stream",
     "text": [
      "End Simple crawling\n",
      "Start Simple crawling :  http://smartair.interpark.com/HtmlSearch/GetGoodsSmartList.aspx\n",
      ">> Parameters\n",
      "trip:OW , chd:0 , adt:1 , FLEX:N , SplitNo:100 , depdate0:20171001 , SeatAvail:Y , ptype:I , comp:Y , dep0:ICN , BEST:Y , JSON:Y , inf:0 , Soto:N , SeatType:A , AirLine:ZE , enc:u , Change: , arr0:NRT , StayLength: , \n"
     ]
    },
    {
     "name": "stderr",
     "output_type": "stream",
     "text": [
      "2017-08-09 08:13:03,271 root     DEBUG    Crawling Interpark domastic schedule site\n"
     ]
    },
    {
     "name": "stdout",
     "output_type": "stream",
     "text": [
      "End Simple crawling\n",
      "Start Simple crawling :  http://smartair.interpark.com/HtmlSearch/GetGoodsSmartList.aspx\n",
      ">> Parameters\n",
      "trip:OW , chd:0 , adt:1 , FLEX:N , SplitNo:100 , depdate0:20171002 , SeatAvail:Y , ptype:I , comp:Y , dep0:ICN , BEST:Y , JSON:Y , inf:0 , Soto:N , SeatType:A , AirLine:7C , enc:u , Change: , arr0:NRT , StayLength: , \n"
     ]
    },
    {
     "name": "stderr",
     "output_type": "stream",
     "text": [
      "2017-08-09 08:13:03,869 root     DEBUG    Crawling Interpark domastic schedule site\n"
     ]
    },
    {
     "name": "stdout",
     "output_type": "stream",
     "text": [
      "End Simple crawling\n",
      "Start Simple crawling :  http://smartair.interpark.com/HtmlSearch/GetGoodsSmartList.aspx\n",
      ">> Parameters\n",
      "trip:OW , chd:0 , adt:1 , FLEX:N , SplitNo:100 , depdate0:20171002 , SeatAvail:Y , ptype:I , comp:Y , dep0:ICN , BEST:Y , JSON:Y , inf:0 , Soto:N , SeatType:A , AirLine:LJ , enc:u , Change: , arr0:NRT , StayLength: , \n"
     ]
    },
    {
     "name": "stderr",
     "output_type": "stream",
     "text": [
      "2017-08-09 08:13:06,018 root     DEBUG    Crawling Interpark domastic schedule site\n"
     ]
    },
    {
     "name": "stdout",
     "output_type": "stream",
     "text": [
      "End Simple crawling\n",
      "Start Simple crawling :  http://smartair.interpark.com/HtmlSearch/GetGoodsSmartList.aspx\n",
      ">> Parameters\n",
      "trip:OW , chd:0 , adt:1 , FLEX:N , SplitNo:100 , depdate0:20171002 , SeatAvail:Y , ptype:I , comp:Y , dep0:ICN , BEST:Y , JSON:Y , inf:0 , Soto:N , SeatType:A , AirLine:TW , enc:u , Change: , arr0:NRT , StayLength: , \n"
     ]
    },
    {
     "name": "stderr",
     "output_type": "stream",
     "text": [
      "2017-08-09 08:13:08,377 root     DEBUG    Crawling Interpark domastic schedule site\n"
     ]
    },
    {
     "name": "stdout",
     "output_type": "stream",
     "text": [
      "End Simple crawling\n",
      "Start Simple crawling :  http://smartair.interpark.com/HtmlSearch/GetGoodsSmartList.aspx\n",
      ">> Parameters\n",
      "trip:OW , chd:0 , adt:1 , FLEX:N , SplitNo:100 , depdate0:20171002 , SeatAvail:Y , ptype:I , comp:Y , dep0:ICN , BEST:Y , JSON:Y , inf:0 , Soto:N , SeatType:A , AirLine:ZE , enc:u , Change: , arr0:NRT , StayLength: , \n"
     ]
    },
    {
     "name": "stderr",
     "output_type": "stream",
     "text": [
      "2017-08-09 08:13:10,644 root     DEBUG    Crawling Interpark domastic schedule site\n"
     ]
    },
    {
     "name": "stdout",
     "output_type": "stream",
     "text": [
      "End Simple crawling\n",
      "Start Simple crawling :  http://smartair.interpark.com/HtmlSearch/GetGoodsSmartList.aspx\n",
      ">> Parameters\n",
      "trip:OW , chd:0 , adt:1 , FLEX:N , SplitNo:100 , depdate0:20171003 , SeatAvail:Y , ptype:I , comp:Y , dep0:ICN , BEST:Y , JSON:Y , inf:0 , Soto:N , SeatType:A , AirLine:7C , enc:u , Change: , arr0:NRT , StayLength: , \n"
     ]
    },
    {
     "name": "stderr",
     "output_type": "stream",
     "text": [
      "2017-08-09 08:13:11,212 root     DEBUG    Crawling Interpark domastic schedule site\n"
     ]
    },
    {
     "name": "stdout",
     "output_type": "stream",
     "text": [
      "End Simple crawling\n",
      "Start Simple crawling :  http://smartair.interpark.com/HtmlSearch/GetGoodsSmartList.aspx\n",
      ">> Parameters\n",
      "trip:OW , chd:0 , adt:1 , FLEX:N , SplitNo:100 , depdate0:20171003 , SeatAvail:Y , ptype:I , comp:Y , dep0:ICN , BEST:Y , JSON:Y , inf:0 , Soto:N , SeatType:A , AirLine:LJ , enc:u , Change: , arr0:NRT , StayLength: , \n"
     ]
    },
    {
     "name": "stderr",
     "output_type": "stream",
     "text": [
      "2017-08-09 08:13:13,536 root     DEBUG    Crawling Interpark domastic schedule site\n"
     ]
    },
    {
     "name": "stdout",
     "output_type": "stream",
     "text": [
      "End Simple crawling\n",
      "Start Simple crawling :  http://smartair.interpark.com/HtmlSearch/GetGoodsSmartList.aspx\n",
      ">> Parameters\n",
      "trip:OW , chd:0 , adt:1 , FLEX:N , SplitNo:100 , depdate0:20171003 , SeatAvail:Y , ptype:I , comp:Y , dep0:ICN , BEST:Y , JSON:Y , inf:0 , Soto:N , SeatType:A , AirLine:TW , enc:u , Change: , arr0:NRT , StayLength: , \n"
     ]
    },
    {
     "name": "stderr",
     "output_type": "stream",
     "text": [
      "2017-08-09 08:13:15,775 root     DEBUG    Crawling Interpark domastic schedule site\n"
     ]
    },
    {
     "name": "stdout",
     "output_type": "stream",
     "text": [
      "End Simple crawling\n",
      "Start Simple crawling :  http://smartair.interpark.com/HtmlSearch/GetGoodsSmartList.aspx\n",
      ">> Parameters\n",
      "trip:OW , chd:0 , adt:1 , FLEX:N , SplitNo:100 , depdate0:20171003 , SeatAvail:Y , ptype:I , comp:Y , dep0:ICN , BEST:Y , JSON:Y , inf:0 , Soto:N , SeatType:A , AirLine:ZE , enc:u , Change: , arr0:NRT , StayLength: , \n"
     ]
    },
    {
     "name": "stderr",
     "output_type": "stream",
     "text": [
      "2017-08-09 08:13:18,004 root     DEBUG    Crawling Interpark domastic schedule site\n"
     ]
    },
    {
     "name": "stdout",
     "output_type": "stream",
     "text": [
      "End Simple crawling\n",
      "Start Simple crawling :  http://smartair.interpark.com/HtmlSearch/GetGoodsSmartList.aspx\n",
      ">> Parameters\n",
      "trip:OW , chd:0 , adt:1 , FLEX:N , SplitNo:100 , depdate0:20171004 , SeatAvail:Y , ptype:I , comp:Y , dep0:ICN , BEST:Y , JSON:Y , inf:0 , Soto:N , SeatType:A , AirLine:7C , enc:u , Change: , arr0:NRT , StayLength: , \n"
     ]
    },
    {
     "name": "stderr",
     "output_type": "stream",
     "text": [
      "2017-08-09 08:13:18,574 root     DEBUG    Crawling Interpark domastic schedule site\n"
     ]
    },
    {
     "name": "stdout",
     "output_type": "stream",
     "text": [
      "End Simple crawling\n",
      "Start Simple crawling :  http://smartair.interpark.com/HtmlSearch/GetGoodsSmartList.aspx\n",
      ">> Parameters\n",
      "trip:OW , chd:0 , adt:1 , FLEX:N , SplitNo:100 , depdate0:20171004 , SeatAvail:Y , ptype:I , comp:Y , dep0:ICN , BEST:Y , JSON:Y , inf:0 , Soto:N , SeatType:A , AirLine:LJ , enc:u , Change: , arr0:NRT , StayLength: , \n"
     ]
    },
    {
     "name": "stderr",
     "output_type": "stream",
     "text": [
      "2017-08-09 08:13:20,853 root     DEBUG    Crawling Interpark domastic schedule site\n"
     ]
    },
    {
     "name": "stdout",
     "output_type": "stream",
     "text": [
      "End Simple crawling\n",
      "Start Simple crawling :  http://smartair.interpark.com/HtmlSearch/GetGoodsSmartList.aspx\n",
      ">> Parameters\n",
      "trip:OW , chd:0 , adt:1 , FLEX:N , SplitNo:100 , depdate0:20171004 , SeatAvail:Y , ptype:I , comp:Y , dep0:ICN , BEST:Y , JSON:Y , inf:0 , Soto:N , SeatType:A , AirLine:TW , enc:u , Change: , arr0:NRT , StayLength: , \n"
     ]
    },
    {
     "name": "stderr",
     "output_type": "stream",
     "text": [
      "2017-08-09 08:13:23,084 root     DEBUG    Crawling Interpark domastic schedule site\n"
     ]
    },
    {
     "name": "stdout",
     "output_type": "stream",
     "text": [
      "End Simple crawling\n",
      "Start Simple crawling :  http://smartair.interpark.com/HtmlSearch/GetGoodsSmartList.aspx\n",
      ">> Parameters\n",
      "trip:OW , chd:0 , adt:1 , FLEX:N , SplitNo:100 , depdate0:20171004 , SeatAvail:Y , ptype:I , comp:Y , dep0:ICN , BEST:Y , JSON:Y , inf:0 , Soto:N , SeatType:A , AirLine:ZE , enc:u , Change: , arr0:NRT , StayLength: , \n"
     ]
    },
    {
     "name": "stderr",
     "output_type": "stream",
     "text": [
      "2017-08-09 08:13:25,345 root     DEBUG    Crawling Interpark domastic schedule site\n"
     ]
    },
    {
     "name": "stdout",
     "output_type": "stream",
     "text": [
      "End Simple crawling\n",
      "Start Simple crawling :  http://smartair.interpark.com/HtmlSearch/GetGoodsSmartList.aspx\n",
      ">> Parameters\n",
      "trip:OW , chd:0 , adt:1 , FLEX:N , SplitNo:100 , depdate0:20171005 , SeatAvail:Y , ptype:I , comp:Y , dep0:ICN , BEST:Y , JSON:Y , inf:0 , Soto:N , SeatType:A , AirLine:7C , enc:u , Change: , arr0:NRT , StayLength: , \n"
     ]
    },
    {
     "name": "stderr",
     "output_type": "stream",
     "text": [
      "2017-08-09 08:13:26,015 root     DEBUG    Crawling Interpark domastic schedule site\n"
     ]
    },
    {
     "name": "stdout",
     "output_type": "stream",
     "text": [
      "End Simple crawling\n",
      "Start Simple crawling :  http://smartair.interpark.com/HtmlSearch/GetGoodsSmartList.aspx\n",
      ">> Parameters\n",
      "trip:OW , chd:0 , adt:1 , FLEX:N , SplitNo:100 , depdate0:20171005 , SeatAvail:Y , ptype:I , comp:Y , dep0:ICN , BEST:Y , JSON:Y , inf:0 , Soto:N , SeatType:A , AirLine:LJ , enc:u , Change: , arr0:NRT , StayLength: , \n"
     ]
    },
    {
     "name": "stderr",
     "output_type": "stream",
     "text": [
      "2017-08-09 08:13:28,247 root     DEBUG    Crawling Interpark domastic schedule site\n"
     ]
    },
    {
     "name": "stdout",
     "output_type": "stream",
     "text": [
      "End Simple crawling\n",
      "Start Simple crawling :  http://smartair.interpark.com/HtmlSearch/GetGoodsSmartList.aspx\n",
      ">> Parameters\n",
      "trip:OW , chd:0 , adt:1 , FLEX:N , SplitNo:100 , depdate0:20171005 , SeatAvail:Y , ptype:I , comp:Y , dep0:ICN , BEST:Y , JSON:Y , inf:0 , Soto:N , SeatType:A , AirLine:TW , enc:u , Change: , arr0:NRT , StayLength: , \n"
     ]
    },
    {
     "name": "stderr",
     "output_type": "stream",
     "text": [
      "2017-08-09 08:13:30,732 root     DEBUG    Crawling Interpark domastic schedule site\n"
     ]
    },
    {
     "name": "stdout",
     "output_type": "stream",
     "text": [
      "End Simple crawling\n",
      "Start Simple crawling :  http://smartair.interpark.com/HtmlSearch/GetGoodsSmartList.aspx\n",
      ">> Parameters\n",
      "trip:OW , chd:0 , adt:1 , FLEX:N , SplitNo:100 , depdate0:20171005 , SeatAvail:Y , ptype:I , comp:Y , dep0:ICN , BEST:Y , JSON:Y , inf:0 , Soto:N , SeatType:A , AirLine:ZE , enc:u , Change: , arr0:NRT , StayLength: , \n"
     ]
    },
    {
     "name": "stderr",
     "output_type": "stream",
     "text": [
      "2017-08-09 08:13:32,806 root     DEBUG    Crawling Interpark domastic schedule site\n"
     ]
    },
    {
     "name": "stdout",
     "output_type": "stream",
     "text": [
      "End Simple crawling\n",
      "Start Simple crawling :  http://smartair.interpark.com/HtmlSearch/GetGoodsSmartList.aspx\n",
      ">> Parameters\n",
      "trip:OW , chd:0 , adt:1 , FLEX:N , SplitNo:100 , depdate0:20171006 , SeatAvail:Y , ptype:I , comp:Y , dep0:ICN , BEST:Y , JSON:Y , inf:0 , Soto:N , SeatType:A , AirLine:7C , enc:u , Change: , arr0:NRT , StayLength: , \n"
     ]
    },
    {
     "name": "stderr",
     "output_type": "stream",
     "text": [
      "2017-08-09 08:13:33,411 root     DEBUG    Crawling Interpark domastic schedule site\n"
     ]
    },
    {
     "name": "stdout",
     "output_type": "stream",
     "text": [
      "End Simple crawling\n",
      "Start Simple crawling :  http://smartair.interpark.com/HtmlSearch/GetGoodsSmartList.aspx\n",
      ">> Parameters\n",
      "trip:OW , chd:0 , adt:1 , FLEX:N , SplitNo:100 , depdate0:20171006 , SeatAvail:Y , ptype:I , comp:Y , dep0:ICN , BEST:Y , JSON:Y , inf:0 , Soto:N , SeatType:A , AirLine:LJ , enc:u , Change: , arr0:NRT , StayLength: , \n"
     ]
    },
    {
     "name": "stderr",
     "output_type": "stream",
     "text": [
      "2017-08-09 08:13:35,675 root     DEBUG    Crawling Interpark domastic schedule site\n"
     ]
    },
    {
     "name": "stdout",
     "output_type": "stream",
     "text": [
      "End Simple crawling\n",
      "Start Simple crawling :  http://smartair.interpark.com/HtmlSearch/GetGoodsSmartList.aspx\n",
      ">> Parameters\n",
      "trip:OW , chd:0 , adt:1 , FLEX:N , SplitNo:100 , depdate0:20171006 , SeatAvail:Y , ptype:I , comp:Y , dep0:ICN , BEST:Y , JSON:Y , inf:0 , Soto:N , SeatType:A , AirLine:TW , enc:u , Change: , arr0:NRT , StayLength: , \n"
     ]
    },
    {
     "name": "stderr",
     "output_type": "stream",
     "text": [
      "2017-08-09 08:13:37,863 root     DEBUG    Crawling Interpark domastic schedule site\n"
     ]
    },
    {
     "name": "stdout",
     "output_type": "stream",
     "text": [
      "End Simple crawling\n",
      "Start Simple crawling :  http://smartair.interpark.com/HtmlSearch/GetGoodsSmartList.aspx\n",
      ">> Parameters\n",
      "trip:OW , chd:0 , adt:1 , FLEX:N , SplitNo:100 , depdate0:20171006 , SeatAvail:Y , ptype:I , comp:Y , dep0:ICN , BEST:Y , JSON:Y , inf:0 , Soto:N , SeatType:A , AirLine:ZE , enc:u , Change: , arr0:NRT , StayLength: , \n"
     ]
    },
    {
     "name": "stderr",
     "output_type": "stream",
     "text": [
      "2017-08-09 08:13:40,075 root     DEBUG    Crawling Interpark domastic schedule site\n"
     ]
    },
    {
     "name": "stdout",
     "output_type": "stream",
     "text": [
      "End Simple crawling\n",
      "Start Simple crawling :  http://smartair.interpark.com/HtmlSearch/GetGoodsSmartList.aspx\n",
      ">> Parameters\n",
      "trip:OW , chd:0 , adt:1 , FLEX:N , SplitNo:100 , depdate0:20171007 , SeatAvail:Y , ptype:I , comp:Y , dep0:ICN , BEST:Y , JSON:Y , inf:0 , Soto:N , SeatType:A , AirLine:7C , enc:u , Change: , arr0:NRT , StayLength: , \n"
     ]
    },
    {
     "name": "stderr",
     "output_type": "stream",
     "text": [
      "2017-08-09 08:13:40,697 root     DEBUG    Crawling Interpark domastic schedule site\n"
     ]
    },
    {
     "name": "stdout",
     "output_type": "stream",
     "text": [
      "End Simple crawling\n",
      "Start Simple crawling :  http://smartair.interpark.com/HtmlSearch/GetGoodsSmartList.aspx\n",
      ">> Parameters\n",
      "trip:OW , chd:0 , adt:1 , FLEX:N , SplitNo:100 , depdate0:20171007 , SeatAvail:Y , ptype:I , comp:Y , dep0:ICN , BEST:Y , JSON:Y , inf:0 , Soto:N , SeatType:A , AirLine:LJ , enc:u , Change: , arr0:NRT , StayLength: , \n"
     ]
    },
    {
     "name": "stderr",
     "output_type": "stream",
     "text": [
      "2017-08-09 08:13:42,994 root     DEBUG    Crawling Interpark domastic schedule site\n"
     ]
    },
    {
     "name": "stdout",
     "output_type": "stream",
     "text": [
      "End Simple crawling\n",
      "Start Simple crawling :  http://smartair.interpark.com/HtmlSearch/GetGoodsSmartList.aspx\n",
      ">> Parameters\n",
      "trip:OW , chd:0 , adt:1 , FLEX:N , SplitNo:100 , depdate0:20171007 , SeatAvail:Y , ptype:I , comp:Y , dep0:ICN , BEST:Y , JSON:Y , inf:0 , Soto:N , SeatType:A , AirLine:TW , enc:u , Change: , arr0:NRT , StayLength: , \n"
     ]
    },
    {
     "name": "stderr",
     "output_type": "stream",
     "text": [
      "2017-08-09 08:13:45,124 root     DEBUG    Crawling Interpark domastic schedule site\n"
     ]
    },
    {
     "name": "stdout",
     "output_type": "stream",
     "text": [
      "End Simple crawling\n",
      "Start Simple crawling :  http://smartair.interpark.com/HtmlSearch/GetGoodsSmartList.aspx\n",
      ">> Parameters\n",
      "trip:OW , chd:0 , adt:1 , FLEX:N , SplitNo:100 , depdate0:20171007 , SeatAvail:Y , ptype:I , comp:Y , dep0:ICN , BEST:Y , JSON:Y , inf:0 , Soto:N , SeatType:A , AirLine:ZE , enc:u , Change: , arr0:NRT , StayLength: , \n"
     ]
    },
    {
     "name": "stderr",
     "output_type": "stream",
     "text": [
      "2017-08-09 08:13:48,071 root     DEBUG    Crawling Interpark domastic schedule site\n"
     ]
    },
    {
     "name": "stdout",
     "output_type": "stream",
     "text": [
      "End Simple crawling\n",
      "Start Simple crawling :  http://smartair.interpark.com/HtmlSearch/GetGoodsSmartList.aspx\n",
      ">> Parameters\n",
      "trip:OW , chd:0 , adt:1 , FLEX:N , SplitNo:100 , depdate0:20171008 , SeatAvail:Y , ptype:I , comp:Y , dep0:ICN , BEST:Y , JSON:Y , inf:0 , Soto:N , SeatType:A , AirLine:7C , enc:u , Change: , arr0:NRT , StayLength: , \n"
     ]
    },
    {
     "name": "stderr",
     "output_type": "stream",
     "text": [
      "2017-08-09 08:13:48,733 root     DEBUG    Crawling Interpark domastic schedule site\n"
     ]
    },
    {
     "name": "stdout",
     "output_type": "stream",
     "text": [
      "End Simple crawling\n",
      "Start Simple crawling :  http://smartair.interpark.com/HtmlSearch/GetGoodsSmartList.aspx\n",
      ">> Parameters\n",
      "trip:OW , chd:0 , adt:1 , FLEX:N , SplitNo:100 , depdate0:20171008 , SeatAvail:Y , ptype:I , comp:Y , dep0:ICN , BEST:Y , JSON:Y , inf:0 , Soto:N , SeatType:A , AirLine:LJ , enc:u , Change: , arr0:NRT , StayLength: , \n"
     ]
    },
    {
     "name": "stderr",
     "output_type": "stream",
     "text": [
      "2017-08-09 08:13:50,853 root     DEBUG    Crawling Interpark domastic schedule site\n"
     ]
    },
    {
     "name": "stdout",
     "output_type": "stream",
     "text": [
      "End Simple crawling\n",
      "Start Simple crawling :  http://smartair.interpark.com/HtmlSearch/GetGoodsSmartList.aspx\n",
      ">> Parameters\n",
      "trip:OW , chd:0 , adt:1 , FLEX:N , SplitNo:100 , depdate0:20171008 , SeatAvail:Y , ptype:I , comp:Y , dep0:ICN , BEST:Y , JSON:Y , inf:0 , Soto:N , SeatType:A , AirLine:TW , enc:u , Change: , arr0:NRT , StayLength: , \n"
     ]
    },
    {
     "name": "stderr",
     "output_type": "stream",
     "text": [
      "2017-08-09 08:13:53,168 root     DEBUG    Crawling Interpark domastic schedule site\n"
     ]
    },
    {
     "name": "stdout",
     "output_type": "stream",
     "text": [
      "End Simple crawling\n",
      "Start Simple crawling :  http://smartair.interpark.com/HtmlSearch/GetGoodsSmartList.aspx\n",
      ">> Parameters\n",
      "trip:OW , chd:0 , adt:1 , FLEX:N , SplitNo:100 , depdate0:20171008 , SeatAvail:Y , ptype:I , comp:Y , dep0:ICN , BEST:Y , JSON:Y , inf:0 , Soto:N , SeatType:A , AirLine:ZE , enc:u , Change: , arr0:NRT , StayLength: , \n"
     ]
    },
    {
     "name": "stderr",
     "output_type": "stream",
     "text": [
      "2017-08-09 08:13:55,278 root     INFO     end batch job :: craw_by_route_site :: elapsed -0:07:38.526226 :: Total crawl:240 files saved.\n",
      "2017-08-09 08:13:55,281 root     INFO     start batch job :: craw_by_route_site[CJU,GMP,IP,['20170810', '20170811', '20170812', '20170813', '20170814', '20170815', '20170816', '20170817', '20170818', '20170819', '20170820', '20170821', '20170822', '20170823', '20170824', '20170825', '20170826', '20170827', '20170828', '20170829', '20170830'],['7C', 'LJ', 'TW', 'ZE']]\n",
      "2017-08-09 08:13:55,284 root     DEBUG    0 :: IP :: crawling_IP_dom :: False\n",
      "2017-08-09 08:13:55,289 root     INFO     <function crawling_IP_dom at 0x0000000007FA6378> :: False\n",
      "2017-08-09 08:13:55,295 root     DEBUG    Crawling Interpark domastic schedule site\n"
     ]
    },
    {
     "name": "stdout",
     "output_type": "stream",
     "text": [
      "End Simple crawling\n",
      "Start Simple crawling :  http://domair.interpark.com/api/booking/airJourney.do\n",
      ">> Parameters\n",
      "chd:0 , format:json , inf:0 , depDate:20170810 , arr:GMP , dep:CJU , adt:1 , tripDivi:0 , airlineCode:7C , \n"
     ]
    },
    {
     "name": "stderr",
     "output_type": "stream",
     "text": [
      "2017-08-09 08:14:01,116 root     DEBUG    Crawling Interpark domastic schedule site\n"
     ]
    },
    {
     "name": "stdout",
     "output_type": "stream",
     "text": [
      "End Simple crawling\n",
      "Start Simple crawling :  http://domair.interpark.com/api/booking/airJourney.do\n",
      ">> Parameters\n",
      "chd:0 , format:json , inf:0 , depDate:20170810 , arr:GMP , dep:CJU , adt:1 , tripDivi:0 , airlineCode:LJ , \n"
     ]
    },
    {
     "name": "stderr",
     "output_type": "stream",
     "text": [
      "2017-08-09 08:14:01,403 root     DEBUG    Crawling Interpark domastic schedule site\n"
     ]
    },
    {
     "name": "stdout",
     "output_type": "stream",
     "text": [
      "End Simple crawling\n",
      "Start Simple crawling :  http://domair.interpark.com/api/booking/airJourney.do\n",
      ">> Parameters\n",
      "chd:0 , format:json , inf:0 , depDate:20170810 , arr:GMP , dep:CJU , adt:1 , tripDivi:0 , airlineCode:TW , \n"
     ]
    },
    {
     "name": "stderr",
     "output_type": "stream",
     "text": [
      "2017-08-09 08:14:01,980 root     DEBUG    Crawling Interpark domastic schedule site\n"
     ]
    },
    {
     "name": "stdout",
     "output_type": "stream",
     "text": [
      "End Simple crawling\n",
      "Start Simple crawling :  http://domair.interpark.com/api/booking/airJourney.do\n",
      ">> Parameters\n",
      "chd:0 , format:json , inf:0 , depDate:20170810 , arr:GMP , dep:CJU , adt:1 , tripDivi:0 , airlineCode:ZE , \n"
     ]
    },
    {
     "name": "stderr",
     "output_type": "stream",
     "text": [
      "2017-08-09 08:14:03,166 root     DEBUG    Crawling Interpark domastic schedule site\n"
     ]
    },
    {
     "name": "stdout",
     "output_type": "stream",
     "text": [
      "End Simple crawling\n",
      "Start Simple crawling :  http://domair.interpark.com/api/booking/airJourney.do\n",
      ">> Parameters\n",
      "chd:0 , format:json , inf:0 , depDate:20170811 , arr:GMP , dep:CJU , adt:1 , tripDivi:0 , airlineCode:7C , \n"
     ]
    },
    {
     "name": "stderr",
     "output_type": "stream",
     "text": [
      "2017-08-09 08:14:06,855 root     DEBUG    Crawling Interpark domastic schedule site\n",
      "2017-08-09 08:14:07,022 root     DEBUG    Crawling Interpark domastic schedule site\n"
     ]
    },
    {
     "name": "stdout",
     "output_type": "stream",
     "text": [
      "End Simple crawling\n",
      "Start Simple crawling :  http://domair.interpark.com/api/booking/airJourney.do\n",
      ">> Parameters\n",
      "chd:0 , format:json , inf:0 , depDate:20170811 , arr:GMP , dep:CJU , adt:1 , tripDivi:0 , airlineCode:LJ , \n",
      "End Simple crawling\n",
      "Start Simple crawling :  http://domair.interpark.com/api/booking/airJourney.do\n",
      ">> Parameters\n",
      "chd:0 , format:json , inf:0 , depDate:20170811 , arr:GMP , dep:CJU , adt:1 , tripDivi:0 , airlineCode:TW , \n"
     ]
    },
    {
     "name": "stderr",
     "output_type": "stream",
     "text": [
      "2017-08-09 08:14:07,572 root     DEBUG    Crawling Interpark domastic schedule site\n"
     ]
    },
    {
     "name": "stdout",
     "output_type": "stream",
     "text": [
      "End Simple crawling\n",
      "Start Simple crawling :  http://domair.interpark.com/api/booking/airJourney.do\n",
      ">> Parameters\n",
      "chd:0 , format:json , inf:0 , depDate:20170811 , arr:GMP , dep:CJU , adt:1 , tripDivi:0 , airlineCode:ZE , \n"
     ]
    },
    {
     "name": "stderr",
     "output_type": "stream",
     "text": [
      "2017-08-09 08:14:08,913 root     DEBUG    Crawling Interpark domastic schedule site\n"
     ]
    },
    {
     "name": "stdout",
     "output_type": "stream",
     "text": [
      "End Simple crawling\n",
      "Start Simple crawling :  http://domair.interpark.com/api/booking/airJourney.do\n",
      ">> Parameters\n",
      "chd:0 , format:json , inf:0 , depDate:20170812 , arr:GMP , dep:CJU , adt:1 , tripDivi:0 , airlineCode:7C , \n"
     ]
    },
    {
     "name": "stderr",
     "output_type": "stream",
     "text": [
      "2017-08-09 08:14:13,481 root     DEBUG    Crawling Interpark domastic schedule site\n"
     ]
    },
    {
     "name": "stdout",
     "output_type": "stream",
     "text": [
      "End Simple crawling\n",
      "Start Simple crawling :  http://domair.interpark.com/api/booking/airJourney.do\n",
      ">> Parameters\n",
      "chd:0 , format:json , inf:0 , depDate:20170812 , arr:GMP , dep:CJU , adt:1 , tripDivi:0 , airlineCode:LJ , \n"
     ]
    },
    {
     "name": "stderr",
     "output_type": "stream",
     "text": [
      "2017-08-09 08:14:13,729 root     DEBUG    Crawling Interpark domastic schedule site\n"
     ]
    },
    {
     "name": "stdout",
     "output_type": "stream",
     "text": [
      "End Simple crawling\n",
      "Start Simple crawling :  http://domair.interpark.com/api/booking/airJourney.do\n",
      ">> Parameters\n",
      "chd:0 , format:json , inf:0 , depDate:20170812 , arr:GMP , dep:CJU , adt:1 , tripDivi:0 , airlineCode:TW , \n"
     ]
    },
    {
     "name": "stderr",
     "output_type": "stream",
     "text": [
      "2017-08-09 08:14:14,344 root     DEBUG    Crawling Interpark domastic schedule site\n"
     ]
    },
    {
     "name": "stdout",
     "output_type": "stream",
     "text": [
      "End Simple crawling\n",
      "Start Simple crawling :  http://domair.interpark.com/api/booking/airJourney.do\n",
      ">> Parameters\n",
      "chd:0 , format:json , inf:0 , depDate:20170812 , arr:GMP , dep:CJU , adt:1 , tripDivi:0 , airlineCode:ZE , \n"
     ]
    },
    {
     "name": "stderr",
     "output_type": "stream",
     "text": [
      "2017-08-09 08:14:15,564 root     DEBUG    Crawling Interpark domastic schedule site\n"
     ]
    },
    {
     "name": "stdout",
     "output_type": "stream",
     "text": [
      "End Simple crawling\n",
      "Start Simple crawling :  http://domair.interpark.com/api/booking/airJourney.do\n",
      ">> Parameters\n",
      "chd:0 , format:json , inf:0 , depDate:20170813 , arr:GMP , dep:CJU , adt:1 , tripDivi:0 , airlineCode:7C , \n"
     ]
    },
    {
     "name": "stderr",
     "output_type": "stream",
     "text": [
      "2017-08-09 08:14:18,813 root     DEBUG    Crawling Interpark domastic schedule site\n"
     ]
    },
    {
     "name": "stdout",
     "output_type": "stream",
     "text": [
      "End Simple crawling\n",
      "Start Simple crawling :  http://domair.interpark.com/api/booking/airJourney.do\n",
      ">> Parameters\n",
      "chd:0 , format:json , inf:0 , depDate:20170813 , arr:GMP , dep:CJU , adt:1 , tripDivi:0 , airlineCode:LJ , \n"
     ]
    },
    {
     "name": "stderr",
     "output_type": "stream",
     "text": [
      "2017-08-09 08:14:19,065 root     DEBUG    Crawling Interpark domastic schedule site\n"
     ]
    },
    {
     "name": "stdout",
     "output_type": "stream",
     "text": [
      "End Simple crawling\n",
      "Start Simple crawling :  http://domair.interpark.com/api/booking/airJourney.do\n",
      ">> Parameters\n",
      "chd:0 , format:json , inf:0 , depDate:20170813 , arr:GMP , dep:CJU , adt:1 , tripDivi:0 , airlineCode:TW , \n"
     ]
    },
    {
     "name": "stderr",
     "output_type": "stream",
     "text": [
      "2017-08-09 08:14:19,637 root     DEBUG    Crawling Interpark domastic schedule site\n"
     ]
    },
    {
     "name": "stdout",
     "output_type": "stream",
     "text": [
      "End Simple crawling\n",
      "Start Simple crawling :  http://domair.interpark.com/api/booking/airJourney.do\n",
      ">> Parameters\n",
      "chd:0 , format:json , inf:0 , depDate:20170813 , arr:GMP , dep:CJU , adt:1 , tripDivi:0 , airlineCode:ZE , \n"
     ]
    },
    {
     "name": "stderr",
     "output_type": "stream",
     "text": [
      "2017-08-09 08:14:20,820 root     DEBUG    Crawling Interpark domastic schedule site\n"
     ]
    },
    {
     "name": "stdout",
     "output_type": "stream",
     "text": [
      "End Simple crawling\n",
      "Start Simple crawling :  http://domair.interpark.com/api/booking/airJourney.do\n",
      ">> Parameters\n",
      "chd:0 , format:json , inf:0 , depDate:20170814 , arr:GMP , dep:CJU , adt:1 , tripDivi:0 , airlineCode:7C , \n"
     ]
    },
    {
     "name": "stderr",
     "output_type": "stream",
     "text": [
      "2017-08-09 08:14:23,056 root     DEBUG    Crawling Interpark domastic schedule site\n"
     ]
    },
    {
     "name": "stdout",
     "output_type": "stream",
     "text": [
      "End Simple crawling\n",
      "Start Simple crawling :  http://domair.interpark.com/api/booking/airJourney.do\n",
      ">> Parameters\n",
      "chd:0 , format:json , inf:0 , depDate:20170814 , arr:GMP , dep:CJU , adt:1 , tripDivi:0 , airlineCode:LJ , \n"
     ]
    },
    {
     "name": "stderr",
     "output_type": "stream",
     "text": [
      "2017-08-09 08:14:23,283 root     DEBUG    Crawling Interpark domastic schedule site\n"
     ]
    },
    {
     "name": "stdout",
     "output_type": "stream",
     "text": [
      "End Simple crawling\n",
      "Start Simple crawling :  http://domair.interpark.com/api/booking/airJourney.do\n",
      ">> Parameters\n",
      "chd:0 , format:json , inf:0 , depDate:20170814 , arr:GMP , dep:CJU , adt:1 , tripDivi:0 , airlineCode:TW , \n"
     ]
    },
    {
     "name": "stderr",
     "output_type": "stream",
     "text": [
      "2017-08-09 08:14:23,720 root     DEBUG    Crawling Interpark domastic schedule site\n"
     ]
    },
    {
     "name": "stdout",
     "output_type": "stream",
     "text": [
      "End Simple crawling\n",
      "Start Simple crawling :  http://domair.interpark.com/api/booking/airJourney.do\n",
      ">> Parameters\n",
      "chd:0 , format:json , inf:0 , depDate:20170814 , arr:GMP , dep:CJU , adt:1 , tripDivi:0 , airlineCode:ZE , \n"
     ]
    },
    {
     "name": "stderr",
     "output_type": "stream",
     "text": [
      "2017-08-09 08:14:25,062 root     DEBUG    Crawling Interpark domastic schedule site\n"
     ]
    },
    {
     "name": "stdout",
     "output_type": "stream",
     "text": [
      "End Simple crawling\n",
      "Start Simple crawling :  http://domair.interpark.com/api/booking/airJourney.do\n",
      ">> Parameters\n",
      "chd:0 , format:json , inf:0 , depDate:20170815 , arr:GMP , dep:CJU , adt:1 , tripDivi:0 , airlineCode:7C , \n"
     ]
    },
    {
     "name": "stderr",
     "output_type": "stream",
     "text": [
      "2017-08-09 08:14:26,269 root     DEBUG    Crawling Interpark domastic schedule site\n",
      "2017-08-09 08:14:26,449 root     DEBUG    Crawling Interpark domastic schedule site\n"
     ]
    },
    {
     "name": "stdout",
     "output_type": "stream",
     "text": [
      "End Simple crawling\n",
      "Start Simple crawling :  http://domair.interpark.com/api/booking/airJourney.do\n",
      ">> Parameters\n",
      "chd:0 , format:json , inf:0 , depDate:20170815 , arr:GMP , dep:CJU , adt:1 , tripDivi:0 , airlineCode:LJ , \n",
      "End Simple crawling\n",
      "Start Simple crawling :  http://domair.interpark.com/api/booking/airJourney.do\n",
      ">> Parameters\n",
      "chd:0 , format:json , inf:0 , depDate:20170815 , arr:GMP , dep:CJU , adt:1 , tripDivi:0 , airlineCode:TW , \n"
     ]
    },
    {
     "name": "stderr",
     "output_type": "stream",
     "text": [
      "2017-08-09 08:14:26,987 root     DEBUG    Crawling Interpark domastic schedule site\n"
     ]
    },
    {
     "name": "stdout",
     "output_type": "stream",
     "text": [
      "End Simple crawling\n",
      "Start Simple crawling :  http://domair.interpark.com/api/booking/airJourney.do\n",
      ">> Parameters\n",
      "chd:0 , format:json , inf:0 , depDate:20170815 , arr:GMP , dep:CJU , adt:1 , tripDivi:0 , airlineCode:ZE , \n"
     ]
    },
    {
     "name": "stderr",
     "output_type": "stream",
     "text": [
      "2017-08-09 08:14:28,109 root     DEBUG    Crawling Interpark domastic schedule site\n"
     ]
    },
    {
     "name": "stdout",
     "output_type": "stream",
     "text": [
      "End Simple crawling\n",
      "Start Simple crawling :  http://domair.interpark.com/api/booking/airJourney.do\n",
      ">> Parameters\n",
      "chd:0 , format:json , inf:0 , depDate:20170816 , arr:GMP , dep:CJU , adt:1 , tripDivi:0 , airlineCode:7C , \n"
     ]
    },
    {
     "name": "stderr",
     "output_type": "stream",
     "text": [
      "2017-08-09 08:14:32,871 root     DEBUG    Crawling Interpark domastic schedule site\n"
     ]
    },
    {
     "name": "stdout",
     "output_type": "stream",
     "text": [
      "End Simple crawling\n",
      "Start Simple crawling :  http://domair.interpark.com/api/booking/airJourney.do\n",
      ">> Parameters\n",
      "chd:0 , format:json , inf:0 , depDate:20170816 , arr:GMP , dep:CJU , adt:1 , tripDivi:0 , airlineCode:LJ , \n"
     ]
    },
    {
     "name": "stderr",
     "output_type": "stream",
     "text": [
      "2017-08-09 08:14:33,344 root     DEBUG    Crawling Interpark domastic schedule site\n"
     ]
    },
    {
     "name": "stdout",
     "output_type": "stream",
     "text": [
      "End Simple crawling\n",
      "Start Simple crawling :  http://domair.interpark.com/api/booking/airJourney.do\n",
      ">> Parameters\n",
      "chd:0 , format:json , inf:0 , depDate:20170816 , arr:GMP , dep:CJU , adt:1 , tripDivi:0 , airlineCode:TW , \n"
     ]
    },
    {
     "name": "stderr",
     "output_type": "stream",
     "text": [
      "2017-08-09 08:14:33,827 root     DEBUG    Crawling Interpark domastic schedule site\n"
     ]
    },
    {
     "name": "stdout",
     "output_type": "stream",
     "text": [
      "End Simple crawling\n",
      "Start Simple crawling :  http://domair.interpark.com/api/booking/airJourney.do\n",
      ">> Parameters\n",
      "chd:0 , format:json , inf:0 , depDate:20170816 , arr:GMP , dep:CJU , adt:1 , tripDivi:0 , airlineCode:ZE , \n"
     ]
    },
    {
     "name": "stderr",
     "output_type": "stream",
     "text": [
      "2017-08-09 08:14:35,016 root     DEBUG    Crawling Interpark domastic schedule site\n"
     ]
    },
    {
     "name": "stdout",
     "output_type": "stream",
     "text": [
      "End Simple crawling\n",
      "Start Simple crawling :  http://domair.interpark.com/api/booking/airJourney.do\n",
      ">> Parameters\n",
      "chd:0 , format:json , inf:0 , depDate:20170817 , arr:GMP , dep:CJU , adt:1 , tripDivi:0 , airlineCode:7C , \n"
     ]
    },
    {
     "name": "stderr",
     "output_type": "stream",
     "text": [
      "2017-08-09 08:14:37,127 root     DEBUG    Crawling Interpark domastic schedule site\n"
     ]
    },
    {
     "name": "stdout",
     "output_type": "stream",
     "text": [
      "End Simple crawling\n",
      "Start Simple crawling :  http://domair.interpark.com/api/booking/airJourney.do\n",
      ">> Parameters\n",
      "chd:0 , format:json , inf:0 , depDate:20170817 , arr:GMP , dep:CJU , adt:1 , tripDivi:0 , airlineCode:LJ , \n"
     ]
    },
    {
     "name": "stderr",
     "output_type": "stream",
     "text": [
      "2017-08-09 08:14:37,353 root     DEBUG    Crawling Interpark domastic schedule site\n"
     ]
    },
    {
     "name": "stdout",
     "output_type": "stream",
     "text": [
      "End Simple crawling\n",
      "Start Simple crawling :  http://domair.interpark.com/api/booking/airJourney.do\n",
      ">> Parameters\n",
      "chd:0 , format:json , inf:0 , depDate:20170817 , arr:GMP , dep:CJU , adt:1 , tripDivi:0 , airlineCode:TW , \n"
     ]
    },
    {
     "name": "stderr",
     "output_type": "stream",
     "text": [
      "2017-08-09 08:14:37,903 root     DEBUG    Crawling Interpark domastic schedule site\n"
     ]
    },
    {
     "name": "stdout",
     "output_type": "stream",
     "text": [
      "End Simple crawling\n",
      "Start Simple crawling :  http://domair.interpark.com/api/booking/airJourney.do\n",
      ">> Parameters\n",
      "chd:0 , format:json , inf:0 , depDate:20170817 , arr:GMP , dep:CJU , adt:1 , tripDivi:0 , airlineCode:ZE , \n"
     ]
    },
    {
     "name": "stderr",
     "output_type": "stream",
     "text": [
      "2017-08-09 08:14:39,085 root     DEBUG    Crawling Interpark domastic schedule site\n"
     ]
    },
    {
     "name": "stdout",
     "output_type": "stream",
     "text": [
      "End Simple crawling\n",
      "Start Simple crawling :  http://domair.interpark.com/api/booking/airJourney.do\n",
      ">> Parameters\n",
      "chd:0 , format:json , inf:0 , depDate:20170818 , arr:GMP , dep:CJU , adt:1 , tripDivi:0 , airlineCode:7C , \n"
     ]
    },
    {
     "name": "stderr",
     "output_type": "stream",
     "text": [
      "2017-08-09 08:14:41,238 root     DEBUG    Crawling Interpark domastic schedule site\n"
     ]
    },
    {
     "name": "stdout",
     "output_type": "stream",
     "text": [
      "End Simple crawling\n",
      "Start Simple crawling :  http://domair.interpark.com/api/booking/airJourney.do\n",
      ">> Parameters\n",
      "chd:0 , format:json , inf:0 , depDate:20170818 , arr:GMP , dep:CJU , adt:1 , tripDivi:0 , airlineCode:LJ , \n"
     ]
    },
    {
     "name": "stderr",
     "output_type": "stream",
     "text": [
      "2017-08-09 08:14:41,466 root     DEBUG    Crawling Interpark domastic schedule site\n"
     ]
    },
    {
     "name": "stdout",
     "output_type": "stream",
     "text": [
      "End Simple crawling\n",
      "Start Simple crawling :  http://domair.interpark.com/api/booking/airJourney.do\n",
      ">> Parameters\n",
      "chd:0 , format:json , inf:0 , depDate:20170818 , arr:GMP , dep:CJU , adt:1 , tripDivi:0 , airlineCode:TW , \n"
     ]
    },
    {
     "name": "stderr",
     "output_type": "stream",
     "text": [
      "2017-08-09 08:14:42,002 root     DEBUG    Crawling Interpark domastic schedule site\n"
     ]
    },
    {
     "name": "stdout",
     "output_type": "stream",
     "text": [
      "End Simple crawling\n",
      "Start Simple crawling :  http://domair.interpark.com/api/booking/airJourney.do\n",
      ">> Parameters\n",
      "chd:0 , format:json , inf:0 , depDate:20170818 , arr:GMP , dep:CJU , adt:1 , tripDivi:0 , airlineCode:ZE , \n"
     ]
    },
    {
     "name": "stderr",
     "output_type": "stream",
     "text": [
      "2017-08-09 08:14:43,287 root     DEBUG    Crawling Interpark domastic schedule site\n"
     ]
    },
    {
     "name": "stdout",
     "output_type": "stream",
     "text": [
      "End Simple crawling\n",
      "Start Simple crawling :  http://domair.interpark.com/api/booking/airJourney.do\n",
      ">> Parameters\n",
      "chd:0 , format:json , inf:0 , depDate:20170819 , arr:GMP , dep:CJU , adt:1 , tripDivi:0 , airlineCode:7C , \n"
     ]
    },
    {
     "name": "stderr",
     "output_type": "stream",
     "text": [
      "2017-08-09 08:14:51,519 root     DEBUG    Crawling Interpark domastic schedule site\n"
     ]
    },
    {
     "name": "stdout",
     "output_type": "stream",
     "text": [
      "End Simple crawling\n",
      "Start Simple crawling :  http://domair.interpark.com/api/booking/airJourney.do\n",
      ">> Parameters\n",
      "chd:0 , format:json , inf:0 , depDate:20170819 , arr:GMP , dep:CJU , adt:1 , tripDivi:0 , airlineCode:LJ , \n"
     ]
    },
    {
     "name": "stderr",
     "output_type": "stream",
     "text": [
      "2017-08-09 08:14:51,728 root     DEBUG    Crawling Interpark domastic schedule site\n"
     ]
    },
    {
     "name": "stdout",
     "output_type": "stream",
     "text": [
      "End Simple crawling\n",
      "Start Simple crawling :  http://domair.interpark.com/api/booking/airJourney.do\n",
      ">> Parameters\n",
      "chd:0 , format:json , inf:0 , depDate:20170819 , arr:GMP , dep:CJU , adt:1 , tripDivi:0 , airlineCode:TW , \n"
     ]
    },
    {
     "name": "stderr",
     "output_type": "stream",
     "text": [
      "2017-08-09 08:14:52,328 root     DEBUG    Crawling Interpark domastic schedule site\n"
     ]
    },
    {
     "name": "stdout",
     "output_type": "stream",
     "text": [
      "End Simple crawling\n",
      "Start Simple crawling :  http://domair.interpark.com/api/booking/airJourney.do\n",
      ">> Parameters\n",
      "chd:0 , format:json , inf:0 , depDate:20170819 , arr:GMP , dep:CJU , adt:1 , tripDivi:0 , airlineCode:ZE , \n"
     ]
    },
    {
     "name": "stderr",
     "output_type": "stream",
     "text": [
      "2017-08-09 08:14:53,591 root     DEBUG    Crawling Interpark domastic schedule site\n"
     ]
    },
    {
     "name": "stdout",
     "output_type": "stream",
     "text": [
      "End Simple crawling\n",
      "Start Simple crawling :  http://domair.interpark.com/api/booking/airJourney.do\n",
      ">> Parameters\n",
      "chd:0 , format:json , inf:0 , depDate:20170820 , arr:GMP , dep:CJU , adt:1 , tripDivi:0 , airlineCode:7C , \n"
     ]
    },
    {
     "name": "stderr",
     "output_type": "stream",
     "text": [
      "2017-08-09 08:14:55,868 root     DEBUG    Crawling Interpark domastic schedule site\n",
      "2017-08-09 08:14:56,048 root     DEBUG    Crawling Interpark domastic schedule site\n"
     ]
    },
    {
     "name": "stdout",
     "output_type": "stream",
     "text": [
      "End Simple crawling\n",
      "Start Simple crawling :  http://domair.interpark.com/api/booking/airJourney.do\n",
      ">> Parameters\n",
      "chd:0 , format:json , inf:0 , depDate:20170820 , arr:GMP , dep:CJU , adt:1 , tripDivi:0 , airlineCode:LJ , \n",
      "End Simple crawling\n",
      "Start Simple crawling :  http://domair.interpark.com/api/booking/airJourney.do\n",
      ">> Parameters\n",
      "chd:0 , format:json , inf:0 , depDate:20170820 , arr:GMP , dep:CJU , adt:1 , tripDivi:0 , airlineCode:TW , \n"
     ]
    },
    {
     "name": "stderr",
     "output_type": "stream",
     "text": [
      "2017-08-09 08:14:56,663 root     DEBUG    Crawling Interpark domastic schedule site\n"
     ]
    },
    {
     "name": "stdout",
     "output_type": "stream",
     "text": [
      "End Simple crawling\n",
      "Start Simple crawling :  http://domair.interpark.com/api/booking/airJourney.do\n",
      ">> Parameters\n",
      "chd:0 , format:json , inf:0 , depDate:20170820 , arr:GMP , dep:CJU , adt:1 , tripDivi:0 , airlineCode:ZE , \n"
     ]
    },
    {
     "name": "stderr",
     "output_type": "stream",
     "text": [
      "2017-08-09 08:14:57,873 root     DEBUG    Crawling Interpark domastic schedule site\n"
     ]
    },
    {
     "name": "stdout",
     "output_type": "stream",
     "text": [
      "End Simple crawling\n",
      "Start Simple crawling :  http://domair.interpark.com/api/booking/airJourney.do\n",
      ">> Parameters\n",
      "chd:0 , format:json , inf:0 , depDate:20170821 , arr:GMP , dep:CJU , adt:1 , tripDivi:0 , airlineCode:7C , \n"
     ]
    },
    {
     "name": "stderr",
     "output_type": "stream",
     "text": [
      "2017-08-09 08:14:59,870 root     DEBUG    Crawling Interpark domastic schedule site\n"
     ]
    },
    {
     "name": "stdout",
     "output_type": "stream",
     "text": [
      "End Simple crawling\n",
      "Start Simple crawling :  http://domair.interpark.com/api/booking/airJourney.do\n",
      ">> Parameters\n",
      "chd:0 , format:json , inf:0 , depDate:20170821 , arr:GMP , dep:CJU , adt:1 , tripDivi:0 , airlineCode:LJ , \n"
     ]
    },
    {
     "name": "stderr",
     "output_type": "stream",
     "text": [
      "2017-08-09 08:15:00,091 root     DEBUG    Crawling Interpark domastic schedule site\n"
     ]
    },
    {
     "name": "stdout",
     "output_type": "stream",
     "text": [
      "End Simple crawling\n",
      "Start Simple crawling :  http://domair.interpark.com/api/booking/airJourney.do\n",
      ">> Parameters\n",
      "chd:0 , format:json , inf:0 , depDate:20170821 , arr:GMP , dep:CJU , adt:1 , tripDivi:0 , airlineCode:TW , \n"
     ]
    },
    {
     "name": "stderr",
     "output_type": "stream",
     "text": [
      "2017-08-09 08:15:00,616 root     DEBUG    Crawling Interpark domastic schedule site\n"
     ]
    },
    {
     "name": "stdout",
     "output_type": "stream",
     "text": [
      "End Simple crawling\n",
      "Start Simple crawling :  http://domair.interpark.com/api/booking/airJourney.do\n",
      ">> Parameters\n",
      "chd:0 , format:json , inf:0 , depDate:20170821 , arr:GMP , dep:CJU , adt:1 , tripDivi:0 , airlineCode:ZE , \n"
     ]
    },
    {
     "name": "stderr",
     "output_type": "stream",
     "text": [
      "2017-08-09 08:15:01,758 root     DEBUG    Crawling Interpark domastic schedule site\n"
     ]
    },
    {
     "name": "stdout",
     "output_type": "stream",
     "text": [
      "End Simple crawling\n",
      "Start Simple crawling :  http://domair.interpark.com/api/booking/airJourney.do\n",
      ">> Parameters\n",
      "chd:0 , format:json , inf:0 , depDate:20170822 , arr:GMP , dep:CJU , adt:1 , tripDivi:0 , airlineCode:7C , \n"
     ]
    },
    {
     "name": "stderr",
     "output_type": "stream",
     "text": [
      "2017-08-09 08:15:11,170 root     DEBUG    Crawling Interpark domastic schedule site\n"
     ]
    },
    {
     "name": "stdout",
     "output_type": "stream",
     "text": [
      "End Simple crawling\n",
      "Start Simple crawling :  http://domair.interpark.com/api/booking/airJourney.do\n",
      ">> Parameters\n",
      "chd:0 , format:json , inf:0 , depDate:20170822 , arr:GMP , dep:CJU , adt:1 , tripDivi:0 , airlineCode:LJ , \n",
      "End Simple crawling\n"
     ]
    },
    {
     "name": "stderr",
     "output_type": "stream",
     "text": [
      "2017-08-09 08:15:11,367 root     DEBUG    Crawling Interpark domastic schedule site\n"
     ]
    },
    {
     "name": "stdout",
     "output_type": "stream",
     "text": [
      "Start Simple crawling :  http://domair.interpark.com/api/booking/airJourney.do\n",
      ">> Parameters\n",
      "chd:0 , format:json , inf:0 , depDate:20170822 , arr:GMP , dep:CJU , adt:1 , tripDivi:0 , airlineCode:TW , \n"
     ]
    },
    {
     "name": "stderr",
     "output_type": "stream",
     "text": [
      "2017-08-09 08:15:11,926 root     DEBUG    Crawling Interpark domastic schedule site\n"
     ]
    },
    {
     "name": "stdout",
     "output_type": "stream",
     "text": [
      "End Simple crawling\n",
      "Start Simple crawling :  http://domair.interpark.com/api/booking/airJourney.do\n",
      ">> Parameters\n",
      "chd:0 , format:json , inf:0 , depDate:20170822 , arr:GMP , dep:CJU , adt:1 , tripDivi:0 , airlineCode:ZE , \n"
     ]
    },
    {
     "name": "stderr",
     "output_type": "stream",
     "text": [
      "2017-08-09 08:15:13,162 root     DEBUG    Crawling Interpark domastic schedule site\n"
     ]
    },
    {
     "name": "stdout",
     "output_type": "stream",
     "text": [
      "End Simple crawling\n",
      "Start Simple crawling :  http://domair.interpark.com/api/booking/airJourney.do\n",
      ">> Parameters\n",
      "chd:0 , format:json , inf:0 , depDate:20170823 , arr:GMP , dep:CJU , adt:1 , tripDivi:0 , airlineCode:7C , \n"
     ]
    },
    {
     "name": "stderr",
     "output_type": "stream",
     "text": [
      "2017-08-09 08:15:23,146 root     DEBUG    Crawling Interpark domastic schedule site\n",
      "2017-08-09 08:15:23,294 root     DEBUG    Crawling Interpark domastic schedule site\n"
     ]
    },
    {
     "name": "stdout",
     "output_type": "stream",
     "text": [
      "End Simple crawling\n",
      "Start Simple crawling :  http://domair.interpark.com/api/booking/airJourney.do\n",
      ">> Parameters\n",
      "chd:0 , format:json , inf:0 , depDate:20170823 , arr:GMP , dep:CJU , adt:1 , tripDivi:0 , airlineCode:LJ , \n",
      "End Simple crawling\n",
      "Start Simple crawling :  http://domair.interpark.com/api/booking/airJourney.do\n",
      ">> Parameters\n",
      "chd:0 , format:json , inf:0 , depDate:20170823 , arr:GMP , dep:CJU , adt:1 , tripDivi:0 , airlineCode:TW , \n"
     ]
    },
    {
     "name": "stderr",
     "output_type": "stream",
     "text": [
      "2017-08-09 08:15:23,888 root     DEBUG    Crawling Interpark domastic schedule site\n"
     ]
    },
    {
     "name": "stdout",
     "output_type": "stream",
     "text": [
      "End Simple crawling\n",
      "Start Simple crawling :  http://domair.interpark.com/api/booking/airJourney.do\n",
      ">> Parameters\n",
      "chd:0 , format:json , inf:0 , depDate:20170823 , arr:GMP , dep:CJU , adt:1 , tripDivi:0 , airlineCode:ZE , \n"
     ]
    },
    {
     "name": "stderr",
     "output_type": "stream",
     "text": [
      "2017-08-09 08:15:25,093 root     DEBUG    Crawling Interpark domastic schedule site\n"
     ]
    },
    {
     "name": "stdout",
     "output_type": "stream",
     "text": [
      "End Simple crawling\n",
      "Start Simple crawling :  http://domair.interpark.com/api/booking/airJourney.do\n",
      ">> Parameters\n",
      "chd:0 , format:json , inf:0 , depDate:20170824 , arr:GMP , dep:CJU , adt:1 , tripDivi:0 , airlineCode:7C , \n"
     ]
    },
    {
     "name": "stderr",
     "output_type": "stream",
     "text": [
      "2017-08-09 08:15:32,011 root     DEBUG    Crawling Interpark domastic schedule site\n",
      "2017-08-09 08:15:32,169 root     DEBUG    Crawling Interpark domastic schedule site\n"
     ]
    },
    {
     "name": "stdout",
     "output_type": "stream",
     "text": [
      "End Simple crawling\n",
      "Start Simple crawling :  http://domair.interpark.com/api/booking/airJourney.do\n",
      ">> Parameters\n",
      "chd:0 , format:json , inf:0 , depDate:20170824 , arr:GMP , dep:CJU , adt:1 , tripDivi:0 , airlineCode:LJ , \n",
      "End Simple crawling\n",
      "Start Simple crawling :  http://domair.interpark.com/api/booking/airJourney.do\n",
      ">> Parameters\n",
      "chd:0 , format:json , inf:0 , depDate:20170824 , arr:GMP , dep:CJU , adt:1 , tripDivi:0 , airlineCode:TW , \n"
     ]
    },
    {
     "name": "stderr",
     "output_type": "stream",
     "text": [
      "2017-08-09 08:15:32,789 root     DEBUG    Crawling Interpark domastic schedule site\n"
     ]
    },
    {
     "name": "stdout",
     "output_type": "stream",
     "text": [
      "End Simple crawling\n",
      "Start Simple crawling :  http://domair.interpark.com/api/booking/airJourney.do\n",
      ">> Parameters\n",
      "chd:0 , format:json , inf:0 , depDate:20170824 , arr:GMP , dep:CJU , adt:1 , tripDivi:0 , airlineCode:ZE , \n"
     ]
    },
    {
     "name": "stderr",
     "output_type": "stream",
     "text": [
      "2017-08-09 08:15:33,922 root     DEBUG    Crawling Interpark domastic schedule site\n"
     ]
    },
    {
     "name": "stdout",
     "output_type": "stream",
     "text": [
      "End Simple crawling\n",
      "Start Simple crawling :  http://domair.interpark.com/api/booking/airJourney.do\n",
      ">> Parameters\n",
      "chd:0 , format:json , inf:0 , depDate:20170825 , arr:GMP , dep:CJU , adt:1 , tripDivi:0 , airlineCode:7C , \n"
     ]
    },
    {
     "name": "stderr",
     "output_type": "stream",
     "text": [
      "2017-08-09 08:15:37,812 root     DEBUG    Crawling Interpark domastic schedule site\n",
      "2017-08-09 08:15:37,987 root     DEBUG    Crawling Interpark domastic schedule site\n"
     ]
    },
    {
     "name": "stdout",
     "output_type": "stream",
     "text": [
      "End Simple crawling\n",
      "Start Simple crawling :  http://domair.interpark.com/api/booking/airJourney.do\n",
      ">> Parameters\n",
      "chd:0 , format:json , inf:0 , depDate:20170825 , arr:GMP , dep:CJU , adt:1 , tripDivi:0 , airlineCode:LJ , \n",
      "End Simple crawling\n",
      "Start Simple crawling :  http://domair.interpark.com/api/booking/airJourney.do\n",
      ">> Parameters\n",
      "chd:0 , format:json , inf:0 , depDate:20170825 , arr:GMP , dep:CJU , adt:1 , tripDivi:0 , airlineCode:TW , \n"
     ]
    },
    {
     "name": "stderr",
     "output_type": "stream",
     "text": [
      "2017-08-09 08:15:38,584 root     DEBUG    Crawling Interpark domastic schedule site\n"
     ]
    },
    {
     "name": "stdout",
     "output_type": "stream",
     "text": [
      "End Simple crawling\n",
      "Start Simple crawling :  http://domair.interpark.com/api/booking/airJourney.do\n",
      ">> Parameters\n",
      "chd:0 , format:json , inf:0 , depDate:20170825 , arr:GMP , dep:CJU , adt:1 , tripDivi:0 , airlineCode:ZE , \n"
     ]
    },
    {
     "name": "stderr",
     "output_type": "stream",
     "text": [
      "2017-08-09 08:15:39,736 root     DEBUG    Crawling Interpark domastic schedule site\n"
     ]
    },
    {
     "name": "stdout",
     "output_type": "stream",
     "text": [
      "End Simple crawling\n",
      "Start Simple crawling :  http://domair.interpark.com/api/booking/airJourney.do\n",
      ">> Parameters\n",
      "chd:0 , format:json , inf:0 , depDate:20170826 , arr:GMP , dep:CJU , adt:1 , tripDivi:0 , airlineCode:7C , \n"
     ]
    },
    {
     "name": "stderr",
     "output_type": "stream",
     "text": [
      "2017-08-09 08:15:44,892 root     DEBUG    Crawling Interpark domastic schedule site\n"
     ]
    },
    {
     "name": "stdout",
     "output_type": "stream",
     "text": [
      "End Simple crawling\n",
      "Start Simple crawling :  http://domair.interpark.com/api/booking/airJourney.do\n",
      ">> Parameters\n",
      "chd:0 , format:json , inf:0 , depDate:20170826 , arr:GMP , dep:CJU , adt:1 , tripDivi:0 , airlineCode:LJ , \n"
     ]
    },
    {
     "name": "stderr",
     "output_type": "stream",
     "text": [
      "2017-08-09 08:15:45,499 root     DEBUG    Crawling Interpark domastic schedule site\n"
     ]
    },
    {
     "name": "stdout",
     "output_type": "stream",
     "text": [
      "End Simple crawling\n",
      "Start Simple crawling :  http://domair.interpark.com/api/booking/airJourney.do\n",
      ">> Parameters\n",
      "chd:0 , format:json , inf:0 , depDate:20170826 , arr:GMP , dep:CJU , adt:1 , tripDivi:0 , airlineCode:TW , \n"
     ]
    },
    {
     "name": "stderr",
     "output_type": "stream",
     "text": [
      "2017-08-09 08:15:46,026 root     DEBUG    Crawling Interpark domastic schedule site\n"
     ]
    },
    {
     "name": "stdout",
     "output_type": "stream",
     "text": [
      "End Simple crawling\n",
      "Start Simple crawling :  http://domair.interpark.com/api/booking/airJourney.do\n",
      ">> Parameters\n",
      "chd:0 , format:json , inf:0 , depDate:20170826 , arr:GMP , dep:CJU , adt:1 , tripDivi:0 , airlineCode:ZE , \n"
     ]
    },
    {
     "name": "stderr",
     "output_type": "stream",
     "text": [
      "2017-08-09 08:15:47,112 root     DEBUG    Crawling Interpark domastic schedule site\n"
     ]
    },
    {
     "name": "stdout",
     "output_type": "stream",
     "text": [
      "End Simple crawling\n",
      "Start Simple crawling :  http://domair.interpark.com/api/booking/airJourney.do\n",
      ">> Parameters\n",
      "chd:0 , format:json , inf:0 , depDate:20170827 , arr:GMP , dep:CJU , adt:1 , tripDivi:0 , airlineCode:7C , \n"
     ]
    },
    {
     "name": "stderr",
     "output_type": "stream",
     "text": [
      "2017-08-09 08:15:55,297 root     DEBUG    Crawling Interpark domastic schedule site\n",
      "2017-08-09 08:15:55,485 root     DEBUG    Crawling Interpark domastic schedule site\n"
     ]
    },
    {
     "name": "stdout",
     "output_type": "stream",
     "text": [
      "End Simple crawling\n",
      "Start Simple crawling :  http://domair.interpark.com/api/booking/airJourney.do\n",
      ">> Parameters\n",
      "chd:0 , format:json , inf:0 , depDate:20170827 , arr:GMP , dep:CJU , adt:1 , tripDivi:0 , airlineCode:LJ , \n",
      "End Simple crawling\n",
      "Start Simple crawling :  http://domair.interpark.com/api/booking/airJourney.do\n",
      ">> Parameters\n",
      "chd:0 , format:json , inf:0 , depDate:20170827 , arr:GMP , dep:CJU , adt:1 , tripDivi:0 , airlineCode:TW , \n"
     ]
    },
    {
     "name": "stderr",
     "output_type": "stream",
     "text": [
      "2017-08-09 08:15:55,901 root     DEBUG    Crawling Interpark domastic schedule site\n"
     ]
    },
    {
     "name": "stdout",
     "output_type": "stream",
     "text": [
      "End Simple crawling\n",
      "Start Simple crawling :  http://domair.interpark.com/api/booking/airJourney.do\n",
      ">> Parameters\n",
      "chd:0 , format:json , inf:0 , depDate:20170827 , arr:GMP , dep:CJU , adt:1 , tripDivi:0 , airlineCode:ZE , \n"
     ]
    },
    {
     "name": "stderr",
     "output_type": "stream",
     "text": [
      "2017-08-09 08:15:57,080 root     DEBUG    Crawling Interpark domastic schedule site\n"
     ]
    },
    {
     "name": "stdout",
     "output_type": "stream",
     "text": [
      "End Simple crawling\n",
      "Start Simple crawling :  http://domair.interpark.com/api/booking/airJourney.do\n",
      ">> Parameters\n",
      "chd:0 , format:json , inf:0 , depDate:20170828 , arr:GMP , dep:CJU , adt:1 , tripDivi:0 , airlineCode:7C , \n"
     ]
    },
    {
     "name": "stderr",
     "output_type": "stream",
     "text": [
      "2017-08-09 08:15:59,848 root     DEBUG    Crawling Interpark domastic schedule site\n"
     ]
    },
    {
     "name": "stdout",
     "output_type": "stream",
     "text": [
      "End Simple crawling\n",
      "Start Simple crawling :  http://domair.interpark.com/api/booking/airJourney.do\n",
      ">> Parameters\n",
      "chd:0 , format:json , inf:0 , depDate:20170828 , arr:GMP , dep:CJU , adt:1 , tripDivi:0 , airlineCode:LJ , \n"
     ]
    },
    {
     "name": "stderr",
     "output_type": "stream",
     "text": [
      "2017-08-09 08:16:00,221 root     DEBUG    Crawling Interpark domastic schedule site\n"
     ]
    },
    {
     "name": "stdout",
     "output_type": "stream",
     "text": [
      "End Simple crawling\n",
      "Start Simple crawling :  http://domair.interpark.com/api/booking/airJourney.do\n",
      ">> Parameters\n",
      "chd:0 , format:json , inf:0 , depDate:20170828 , arr:GMP , dep:CJU , adt:1 , tripDivi:0 , airlineCode:TW , \n"
     ]
    },
    {
     "name": "stderr",
     "output_type": "stream",
     "text": [
      "2017-08-09 08:16:00,860 root     DEBUG    Crawling Interpark domastic schedule site\n"
     ]
    },
    {
     "name": "stdout",
     "output_type": "stream",
     "text": [
      "End Simple crawling\n",
      "Start Simple crawling :  http://domair.interpark.com/api/booking/airJourney.do\n",
      ">> Parameters\n",
      "chd:0 , format:json , inf:0 , depDate:20170828 , arr:GMP , dep:CJU , adt:1 , tripDivi:0 , airlineCode:ZE , \n"
     ]
    },
    {
     "name": "stderr",
     "output_type": "stream",
     "text": [
      "2017-08-09 08:16:02,042 root     DEBUG    Crawling Interpark domastic schedule site\n"
     ]
    },
    {
     "name": "stdout",
     "output_type": "stream",
     "text": [
      "End Simple crawling\n",
      "Start Simple crawling :  http://domair.interpark.com/api/booking/airJourney.do\n",
      ">> Parameters\n",
      "chd:0 , format:json , inf:0 , depDate:20170829 , arr:GMP , dep:CJU , adt:1 , tripDivi:0 , airlineCode:7C , \n"
     ]
    },
    {
     "name": "stderr",
     "output_type": "stream",
     "text": [
      "2017-08-09 08:16:06,807 root     DEBUG    Crawling Interpark domastic schedule site\n"
     ]
    },
    {
     "name": "stdout",
     "output_type": "stream",
     "text": [
      "End Simple crawling\n",
      "Start Simple crawling :  http://domair.interpark.com/api/booking/airJourney.do\n",
      ">> Parameters\n",
      "chd:0 , format:json , inf:0 , depDate:20170829 , arr:GMP , dep:CJU , adt:1 , tripDivi:0 , airlineCode:LJ , \n"
     ]
    },
    {
     "name": "stderr",
     "output_type": "stream",
     "text": [
      "2017-08-09 08:16:07,132 root     DEBUG    Crawling Interpark domastic schedule site\n"
     ]
    },
    {
     "name": "stdout",
     "output_type": "stream",
     "text": [
      "End Simple crawling\n",
      "Start Simple crawling :  http://domair.interpark.com/api/booking/airJourney.do\n",
      ">> Parameters\n",
      "chd:0 , format:json , inf:0 , depDate:20170829 , arr:GMP , dep:CJU , adt:1 , tripDivi:0 , airlineCode:TW , \n"
     ]
    },
    {
     "name": "stderr",
     "output_type": "stream",
     "text": [
      "2017-08-09 08:16:08,219 root     DEBUG    Crawling Interpark domastic schedule site\n"
     ]
    },
    {
     "name": "stdout",
     "output_type": "stream",
     "text": [
      "End Simple crawling\n",
      "Start Simple crawling :  http://domair.interpark.com/api/booking/airJourney.do\n",
      ">> Parameters\n",
      "chd:0 , format:json , inf:0 , depDate:20170829 , arr:GMP , dep:CJU , adt:1 , tripDivi:0 , airlineCode:ZE , \n"
     ]
    },
    {
     "name": "stderr",
     "output_type": "stream",
     "text": [
      "2017-08-09 08:16:09,430 root     DEBUG    Crawling Interpark domastic schedule site\n"
     ]
    },
    {
     "name": "stdout",
     "output_type": "stream",
     "text": [
      "End Simple crawling\n",
      "Start Simple crawling :  http://domair.interpark.com/api/booking/airJourney.do\n",
      ">> Parameters\n",
      "chd:0 , format:json , inf:0 , depDate:20170830 , arr:GMP , dep:CJU , adt:1 , tripDivi:0 , airlineCode:7C , \n"
     ]
    },
    {
     "name": "stderr",
     "output_type": "stream",
     "text": [
      "2017-08-09 08:16:18,200 root     DEBUG    Crawling Interpark domastic schedule site\n",
      "2017-08-09 08:16:18,358 root     DEBUG    Crawling Interpark domastic schedule site\n"
     ]
    },
    {
     "name": "stdout",
     "output_type": "stream",
     "text": [
      "End Simple crawling\n",
      "Start Simple crawling :  http://domair.interpark.com/api/booking/airJourney.do\n",
      ">> Parameters\n",
      "chd:0 , format:json , inf:0 , depDate:20170830 , arr:GMP , dep:CJU , adt:1 , tripDivi:0 , airlineCode:LJ , \n",
      "End Simple crawling\n",
      "Start Simple crawling :  http://domair.interpark.com/api/booking/airJourney.do\n",
      ">> Parameters\n",
      "chd:0 , format:json , inf:0 , depDate:20170830 , arr:GMP , dep:CJU , adt:1 , tripDivi:0 , airlineCode:TW , \n"
     ]
    },
    {
     "name": "stderr",
     "output_type": "stream",
     "text": [
      "2017-08-09 08:16:18,934 root     DEBUG    Crawling Interpark domastic schedule site\n"
     ]
    },
    {
     "name": "stdout",
     "output_type": "stream",
     "text": [
      "End Simple crawling\n",
      "Start Simple crawling :  http://domair.interpark.com/api/booking/airJourney.do\n",
      ">> Parameters\n",
      "chd:0 , format:json , inf:0 , depDate:20170830 , arr:GMP , dep:CJU , adt:1 , tripDivi:0 , airlineCode:ZE , \n"
     ]
    },
    {
     "name": "stderr",
     "output_type": "stream",
     "text": [
      "2017-08-09 08:16:20,140 root     INFO     end batch job :: craw_by_route_site :: elapsed -0:02:24.856286 :: Total crawl:84 files saved.\n",
      "2017-08-09 08:16:20,143 root     INFO     start batch job :: craw_by_route_site[ICN,BKK,IP,['20170810', '20170811', '20170812', '20170813', '20170814', '20170815', '20170816', '20170817', '20170818', '20170819', '20170820', '20170821', '20170822', '20170823', '20170824', '20170825', '20170826', '20170827', '20170828', '20170829', '20170830'],['7C', 'LJ', 'TW', 'ZE']]\n",
      "2017-08-09 08:16:20,147 root     DEBUG    1 :: IP :: crawling_IP_int :: False\n",
      "2017-08-09 08:16:20,151 root     INFO     <function crawling_IP_int at 0x0000000007FA67B8> :: False\n",
      "2017-08-09 08:16:20,156 root     DEBUG    Crawling Interpark domastic schedule site\n"
     ]
    },
    {
     "name": "stdout",
     "output_type": "stream",
     "text": [
      "End Simple crawling\n",
      "Start Simple crawling :  http://smartair.interpark.com/HtmlSearch/GetGoodsSmartList.aspx\n",
      ">> Parameters\n",
      "trip:OW , chd:0 , adt:1 , FLEX:N , SplitNo:100 , depdate0:20170810 , SeatAvail:Y , ptype:I , comp:Y , dep0:ICN , BEST:Y , JSON:Y , inf:0 , Soto:N , SeatType:A , AirLine:7C , enc:u , Change: , arr0:BKK , StayLength: , \n"
     ]
    },
    {
     "name": "stderr",
     "output_type": "stream",
     "text": [
      "2017-08-09 08:16:20,884 root     DEBUG    Crawling Interpark domastic schedule site\n"
     ]
    },
    {
     "name": "stdout",
     "output_type": "stream",
     "text": [
      "End Simple crawling\n",
      "Start Simple crawling :  http://smartair.interpark.com/HtmlSearch/GetGoodsSmartList.aspx\n",
      ">> Parameters\n",
      "trip:OW , chd:0 , adt:1 , FLEX:N , SplitNo:100 , depdate0:20170810 , SeatAvail:Y , ptype:I , comp:Y , dep0:ICN , BEST:Y , JSON:Y , inf:0 , Soto:N , SeatType:A , AirLine:LJ , enc:u , Change: , arr0:BKK , StayLength: , \n"
     ]
    },
    {
     "name": "stderr",
     "output_type": "stream",
     "text": [
      "2017-08-09 08:16:23,229 root     DEBUG    Crawling Interpark domastic schedule site\n",
      "2017-08-09 08:16:23,316 root     DEBUG    Crawling Interpark domastic schedule site\n"
     ]
    },
    {
     "name": "stdout",
     "output_type": "stream",
     "text": [
      "End Simple crawling\n",
      "Start Simple crawling :  http://smartair.interpark.com/HtmlSearch/GetGoodsSmartList.aspx\n",
      ">> Parameters\n",
      "trip:OW , chd:0 , adt:1 , FLEX:N , SplitNo:100 , depdate0:20170810 , SeatAvail:Y , ptype:I , comp:Y , dep0:ICN , BEST:Y , JSON:Y , inf:0 , Soto:N , SeatType:A , AirLine:TW , enc:u , Change: , arr0:BKK , StayLength: , \n",
      "End Simple crawling\n",
      "Start Simple crawling :  http://smartair.interpark.com/HtmlSearch/GetGoodsSmartList.aspx\n",
      ">> Parameters\n",
      "trip:OW , chd:0 , adt:1 , FLEX:N , SplitNo:100 , depdate0:20170810 , SeatAvail:Y , ptype:I , comp:Y , dep0:ICN , BEST:Y , JSON:Y , inf:0 , Soto:N , SeatType:A , AirLine:ZE , enc:u , Change: , arr0:BKK , StayLength: , \n"
     ]
    },
    {
     "name": "stderr",
     "output_type": "stream",
     "text": [
      "2017-08-09 08:16:25,671 root     DEBUG    Crawling Interpark domastic schedule site\n"
     ]
    },
    {
     "name": "stdout",
     "output_type": "stream",
     "text": [
      "End Simple crawling\n",
      "Start Simple crawling :  http://smartair.interpark.com/HtmlSearch/GetGoodsSmartList.aspx\n",
      ">> Parameters\n",
      "trip:OW , chd:0 , adt:1 , FLEX:N , SplitNo:100 , depdate0:20170811 , SeatAvail:Y , ptype:I , comp:Y , dep0:ICN , BEST:Y , JSON:Y , inf:0 , Soto:N , SeatType:A , AirLine:7C , enc:u , Change: , arr0:BKK , StayLength: , \n"
     ]
    },
    {
     "name": "stderr",
     "output_type": "stream",
     "text": [
      "2017-08-09 08:16:26,605 root     DEBUG    Crawling Interpark domastic schedule site\n"
     ]
    },
    {
     "name": "stdout",
     "output_type": "stream",
     "text": [
      "End Simple crawling\n",
      "Start Simple crawling :  http://smartair.interpark.com/HtmlSearch/GetGoodsSmartList.aspx\n",
      ">> Parameters\n",
      "trip:OW , chd:0 , adt:1 , FLEX:N , SplitNo:100 , depdate0:20170811 , SeatAvail:Y , ptype:I , comp:Y , dep0:ICN , BEST:Y , JSON:Y , inf:0 , Soto:N , SeatType:A , AirLine:LJ , enc:u , Change: , arr0:BKK , StayLength: , \n"
     ]
    },
    {
     "name": "stderr",
     "output_type": "stream",
     "text": [
      "2017-08-09 08:16:28,832 root     DEBUG    Crawling Interpark domastic schedule site\n",
      "2017-08-09 08:16:28,920 root     DEBUG    Crawling Interpark domastic schedule site\n"
     ]
    },
    {
     "name": "stdout",
     "output_type": "stream",
     "text": [
      "End Simple crawling\n",
      "Start Simple crawling :  http://smartair.interpark.com/HtmlSearch/GetGoodsSmartList.aspx\n",
      ">> Parameters\n",
      "trip:OW , chd:0 , adt:1 , FLEX:N , SplitNo:100 , depdate0:20170811 , SeatAvail:Y , ptype:I , comp:Y , dep0:ICN , BEST:Y , JSON:Y , inf:0 , Soto:N , SeatType:A , AirLine:TW , enc:u , Change: , arr0:BKK , StayLength: , \n",
      "End Simple crawling\n",
      "Start Simple crawling :  http://smartair.interpark.com/HtmlSearch/GetGoodsSmartList.aspx\n",
      ">> Parameters\n",
      "trip:OW , chd:0 , adt:1 , FLEX:N , SplitNo:100 , depdate0:20170811 , SeatAvail:Y , ptype:I , comp:Y , dep0:ICN , BEST:Y , JSON:Y , inf:0 , Soto:N , SeatType:A , AirLine:ZE , enc:u , Change: , arr0:BKK , StayLength: , \n"
     ]
    },
    {
     "name": "stderr",
     "output_type": "stream",
     "text": [
      "2017-08-09 08:16:31,024 root     DEBUG    Crawling Interpark domastic schedule site\n"
     ]
    },
    {
     "name": "stdout",
     "output_type": "stream",
     "text": [
      "End Simple crawling\n",
      "Start Simple crawling :  http://smartair.interpark.com/HtmlSearch/GetGoodsSmartList.aspx\n",
      ">> Parameters\n",
      "trip:OW , chd:0 , adt:1 , FLEX:N , SplitNo:100 , depdate0:20170812 , SeatAvail:Y , ptype:I , comp:Y , dep0:ICN , BEST:Y , JSON:Y , inf:0 , Soto:N , SeatType:A , AirLine:7C , enc:u , Change: , arr0:BKK , StayLength: , \n"
     ]
    },
    {
     "name": "stderr",
     "output_type": "stream",
     "text": [
      "2017-08-09 08:16:32,104 root     DEBUG    Crawling Interpark domastic schedule site\n"
     ]
    },
    {
     "name": "stdout",
     "output_type": "stream",
     "text": [
      "End Simple crawling\n",
      "Start Simple crawling :  http://smartair.interpark.com/HtmlSearch/GetGoodsSmartList.aspx\n",
      ">> Parameters\n",
      "trip:OW , chd:0 , adt:1 , FLEX:N , SplitNo:100 , depdate0:20170812 , SeatAvail:Y , ptype:I , comp:Y , dep0:ICN , BEST:Y , JSON:Y , inf:0 , Soto:N , SeatType:A , AirLine:LJ , enc:u , Change: , arr0:BKK , StayLength: , \n"
     ]
    },
    {
     "name": "stderr",
     "output_type": "stream",
     "text": [
      "2017-08-09 08:16:34,225 root     DEBUG    Crawling Interpark domastic schedule site\n",
      "2017-08-09 08:16:34,298 root     DEBUG    Crawling Interpark domastic schedule site\n"
     ]
    },
    {
     "name": "stdout",
     "output_type": "stream",
     "text": [
      "End Simple crawling\n",
      "Start Simple crawling :  http://smartair.interpark.com/HtmlSearch/GetGoodsSmartList.aspx\n",
      ">> Parameters\n",
      "trip:OW , chd:0 , adt:1 , FLEX:N , SplitNo:100 , depdate0:20170812 , SeatAvail:Y , ptype:I , comp:Y , dep0:ICN , BEST:Y , JSON:Y , inf:0 , Soto:N , SeatType:A , AirLine:TW , enc:u , Change: , arr0:BKK , StayLength: , \n",
      "End Simple crawling\n",
      "Start Simple crawling :  http://smartair.interpark.com/HtmlSearch/GetGoodsSmartList.aspx\n",
      ">> Parameters\n",
      "trip:OW , chd:0 , adt:1 , FLEX:N , SplitNo:100 , depdate0:20170812 , SeatAvail:Y , ptype:I , comp:Y , dep0:ICN , BEST:Y , JSON:Y , inf:0 , Soto:N , SeatType:A , AirLine:ZE , enc:u , Change: , arr0:BKK , StayLength: , \n"
     ]
    },
    {
     "name": "stderr",
     "output_type": "stream",
     "text": [
      "2017-08-09 08:16:36,564 root     DEBUG    Crawling Interpark domastic schedule site\n"
     ]
    },
    {
     "name": "stdout",
     "output_type": "stream",
     "text": [
      "End Simple crawling\n",
      "Start Simple crawling :  http://smartair.interpark.com/HtmlSearch/GetGoodsSmartList.aspx\n",
      ">> Parameters\n",
      "trip:OW , chd:0 , adt:1 , FLEX:N , SplitNo:100 , depdate0:20170813 , SeatAvail:Y , ptype:I , comp:Y , dep0:ICN , BEST:Y , JSON:Y , inf:0 , Soto:N , SeatType:A , AirLine:7C , enc:u , Change: , arr0:BKK , StayLength: , \n"
     ]
    },
    {
     "name": "stderr",
     "output_type": "stream",
     "text": [
      "2017-08-09 08:16:37,216 root     DEBUG    Crawling Interpark domastic schedule site\n"
     ]
    },
    {
     "name": "stdout",
     "output_type": "stream",
     "text": [
      "End Simple crawling\n",
      "Start Simple crawling :  http://smartair.interpark.com/HtmlSearch/GetGoodsSmartList.aspx\n",
      ">> Parameters\n",
      "trip:OW , chd:0 , adt:1 , FLEX:N , SplitNo:100 , depdate0:20170813 , SeatAvail:Y , ptype:I , comp:Y , dep0:ICN , BEST:Y , JSON:Y , inf:0 , Soto:N , SeatType:A , AirLine:LJ , enc:u , Change: , arr0:BKK , StayLength: , \n"
     ]
    },
    {
     "name": "stderr",
     "output_type": "stream",
     "text": [
      "2017-08-09 08:16:39,395 root     DEBUG    Crawling Interpark domastic schedule site\n"
     ]
    },
    {
     "name": "stdout",
     "output_type": "stream",
     "text": [
      "End Simple crawling\n",
      "Start Simple crawling :  http://smartair.interpark.com/HtmlSearch/GetGoodsSmartList.aspx\n",
      ">> Parameters\n",
      "trip:OW , chd:0 , adt:1 , FLEX:N , SplitNo:100 , depdate0:20170813 , SeatAvail:Y , ptype:I , comp:Y , dep0:ICN , BEST:Y , JSON:Y , inf:0 , Soto:N , SeatType:A , AirLine:TW , enc:u , Change: , arr0:BKK , StayLength: , \n"
     ]
    },
    {
     "name": "stderr",
     "output_type": "stream",
     "text": [
      "2017-08-09 08:16:41,646 root     DEBUG    Crawling Interpark domastic schedule site\n"
     ]
    },
    {
     "name": "stdout",
     "output_type": "stream",
     "text": [
      "End Simple crawling\n",
      "Start Simple crawling :  http://smartair.interpark.com/HtmlSearch/GetGoodsSmartList.aspx\n",
      ">> Parameters\n",
      "trip:OW , chd:0 , adt:1 , FLEX:N , SplitNo:100 , depdate0:20170813 , SeatAvail:Y , ptype:I , comp:Y , dep0:ICN , BEST:Y , JSON:Y , inf:0 , Soto:N , SeatType:A , AirLine:ZE , enc:u , Change: , arr0:BKK , StayLength: , \n"
     ]
    },
    {
     "name": "stderr",
     "output_type": "stream",
     "text": [
      "2017-08-09 08:16:43,878 root     DEBUG    Crawling Interpark domastic schedule site\n"
     ]
    },
    {
     "name": "stdout",
     "output_type": "stream",
     "text": [
      "End Simple crawling\n",
      "Start Simple crawling :  http://smartair.interpark.com/HtmlSearch/GetGoodsSmartList.aspx\n",
      ">> Parameters\n",
      "trip:OW , chd:0 , adt:1 , FLEX:N , SplitNo:100 , depdate0:20170814 , SeatAvail:Y , ptype:I , comp:Y , dep0:ICN , BEST:Y , JSON:Y , inf:0 , Soto:N , SeatType:A , AirLine:7C , enc:u , Change: , arr0:BKK , StayLength: , \n"
     ]
    },
    {
     "name": "stderr",
     "output_type": "stream",
     "text": [
      "2017-08-09 08:16:44,552 root     DEBUG    Crawling Interpark domastic schedule site\n"
     ]
    },
    {
     "name": "stdout",
     "output_type": "stream",
     "text": [
      "End Simple crawling\n",
      "Start Simple crawling :  http://smartair.interpark.com/HtmlSearch/GetGoodsSmartList.aspx\n",
      ">> Parameters\n",
      "trip:OW , chd:0 , adt:1 , FLEX:N , SplitNo:100 , depdate0:20170814 , SeatAvail:Y , ptype:I , comp:Y , dep0:ICN , BEST:Y , JSON:Y , inf:0 , Soto:N , SeatType:A , AirLine:LJ , enc:u , Change: , arr0:BKK , StayLength: , \n"
     ]
    },
    {
     "name": "stderr",
     "output_type": "stream",
     "text": [
      "2017-08-09 08:16:46,902 root     DEBUG    Crawling Interpark domastic schedule site\n"
     ]
    },
    {
     "name": "stdout",
     "output_type": "stream",
     "text": [
      "End Simple crawling\n",
      "Start Simple crawling :  http://smartair.interpark.com/HtmlSearch/GetGoodsSmartList.aspx\n",
      ">> Parameters\n",
      "trip:OW , chd:0 , adt:1 , FLEX:N , SplitNo:100 , depdate0:20170814 , SeatAvail:Y , ptype:I , comp:Y , dep0:ICN , BEST:Y , JSON:Y , inf:0 , Soto:N , SeatType:A , AirLine:TW , enc:u , Change: , arr0:BKK , StayLength: , \n"
     ]
    },
    {
     "name": "stderr",
     "output_type": "stream",
     "text": [
      "2017-08-09 08:16:49,353 root     DEBUG    Crawling Interpark domastic schedule site\n"
     ]
    },
    {
     "name": "stdout",
     "output_type": "stream",
     "text": [
      "End Simple crawling\n",
      "Start Simple crawling :  http://smartair.interpark.com/HtmlSearch/GetGoodsSmartList.aspx\n",
      ">> Parameters\n",
      "trip:OW , chd:0 , adt:1 , FLEX:N , SplitNo:100 , depdate0:20170814 , SeatAvail:Y , ptype:I , comp:Y , dep0:ICN , BEST:Y , JSON:Y , inf:0 , Soto:N , SeatType:A , AirLine:ZE , enc:u , Change: , arr0:BKK , StayLength: , \n"
     ]
    },
    {
     "name": "stderr",
     "output_type": "stream",
     "text": [
      "2017-08-09 08:16:51,802 root     DEBUG    Crawling Interpark domastic schedule site\n"
     ]
    },
    {
     "name": "stdout",
     "output_type": "stream",
     "text": [
      "End Simple crawling\n",
      "Start Simple crawling :  http://smartair.interpark.com/HtmlSearch/GetGoodsSmartList.aspx\n",
      ">> Parameters\n",
      "trip:OW , chd:0 , adt:1 , FLEX:N , SplitNo:100 , depdate0:20170815 , SeatAvail:Y , ptype:I , comp:Y , dep0:ICN , BEST:Y , JSON:Y , inf:0 , Soto:N , SeatType:A , AirLine:7C , enc:u , Change: , arr0:BKK , StayLength: , \n"
     ]
    },
    {
     "name": "stderr",
     "output_type": "stream",
     "text": [
      "2017-08-09 08:16:52,495 root     DEBUG    Crawling Interpark domastic schedule site\n"
     ]
    },
    {
     "name": "stdout",
     "output_type": "stream",
     "text": [
      "End Simple crawling\n",
      "Start Simple crawling :  http://smartair.interpark.com/HtmlSearch/GetGoodsSmartList.aspx\n",
      ">> Parameters\n",
      "trip:OW , chd:0 , adt:1 , FLEX:N , SplitNo:100 , depdate0:20170815 , SeatAvail:Y , ptype:I , comp:Y , dep0:ICN , BEST:Y , JSON:Y , inf:0 , Soto:N , SeatType:A , AirLine:LJ , enc:u , Change: , arr0:BKK , StayLength: , \n"
     ]
    },
    {
     "name": "stderr",
     "output_type": "stream",
     "text": [
      "2017-08-09 08:16:54,726 root     DEBUG    Crawling Interpark domastic schedule site\n"
     ]
    },
    {
     "name": "stdout",
     "output_type": "stream",
     "text": [
      "End Simple crawling\n",
      "Start Simple crawling :  http://smartair.interpark.com/HtmlSearch/GetGoodsSmartList.aspx\n",
      ">> Parameters\n",
      "trip:OW , chd:0 , adt:1 , FLEX:N , SplitNo:100 , depdate0:20170815 , SeatAvail:Y , ptype:I , comp:Y , dep0:ICN , BEST:Y , JSON:Y , inf:0 , Soto:N , SeatType:A , AirLine:TW , enc:u , Change: , arr0:BKK , StayLength: , \n"
     ]
    },
    {
     "name": "stderr",
     "output_type": "stream",
     "text": [
      "2017-08-09 08:16:56,851 root     DEBUG    Crawling Interpark domastic schedule site\n"
     ]
    },
    {
     "name": "stdout",
     "output_type": "stream",
     "text": [
      "End Simple crawling\n",
      "Start Simple crawling :  http://smartair.interpark.com/HtmlSearch/GetGoodsSmartList.aspx\n",
      ">> Parameters\n",
      "trip:OW , chd:0 , adt:1 , FLEX:N , SplitNo:100 , depdate0:20170815 , SeatAvail:Y , ptype:I , comp:Y , dep0:ICN , BEST:Y , JSON:Y , inf:0 , Soto:N , SeatType:A , AirLine:ZE , enc:u , Change: , arr0:BKK , StayLength: , \n"
     ]
    },
    {
     "name": "stderr",
     "output_type": "stream",
     "text": [
      "2017-08-09 08:16:59,015 root     DEBUG    Crawling Interpark domastic schedule site\n"
     ]
    },
    {
     "name": "stdout",
     "output_type": "stream",
     "text": [
      "End Simple crawling\n",
      "Start Simple crawling :  http://smartair.interpark.com/HtmlSearch/GetGoodsSmartList.aspx\n",
      ">> Parameters\n",
      "trip:OW , chd:0 , adt:1 , FLEX:N , SplitNo:100 , depdate0:20170816 , SeatAvail:Y , ptype:I , comp:Y , dep0:ICN , BEST:Y , JSON:Y , inf:0 , Soto:N , SeatType:A , AirLine:7C , enc:u , Change: , arr0:BKK , StayLength: , \n"
     ]
    },
    {
     "name": "stderr",
     "output_type": "stream",
     "text": [
      "2017-08-09 08:17:00,099 root     DEBUG    Crawling Interpark domastic schedule site\n"
     ]
    },
    {
     "name": "stdout",
     "output_type": "stream",
     "text": [
      "End Simple crawling\n",
      "Start Simple crawling :  http://smartair.interpark.com/HtmlSearch/GetGoodsSmartList.aspx\n",
      ">> Parameters\n",
      "trip:OW , chd:0 , adt:1 , FLEX:N , SplitNo:100 , depdate0:20170816 , SeatAvail:Y , ptype:I , comp:Y , dep0:ICN , BEST:Y , JSON:Y , inf:0 , Soto:N , SeatType:A , AirLine:LJ , enc:u , Change: , arr0:BKK , StayLength: , \n"
     ]
    },
    {
     "name": "stderr",
     "output_type": "stream",
     "text": [
      "2017-08-09 08:17:02,339 root     DEBUG    Crawling Interpark domastic schedule site\n"
     ]
    },
    {
     "name": "stdout",
     "output_type": "stream",
     "text": [
      "End Simple crawling\n",
      "Start Simple crawling :  http://smartair.interpark.com/HtmlSearch/GetGoodsSmartList.aspx\n",
      ">> Parameters\n",
      "trip:OW , chd:0 , adt:1 , FLEX:N , SplitNo:100 , depdate0:20170816 , SeatAvail:Y , ptype:I , comp:Y , dep0:ICN , BEST:Y , JSON:Y , inf:0 , Soto:N , SeatType:A , AirLine:TW , enc:u , Change: , arr0:BKK , StayLength: , \n"
     ]
    },
    {
     "name": "stderr",
     "output_type": "stream",
     "text": [
      "2017-08-09 08:17:04,517 root     DEBUG    Crawling Interpark domastic schedule site\n"
     ]
    },
    {
     "name": "stdout",
     "output_type": "stream",
     "text": [
      "End Simple crawling\n",
      "Start Simple crawling :  http://smartair.interpark.com/HtmlSearch/GetGoodsSmartList.aspx\n",
      ">> Parameters\n",
      "trip:OW , chd:0 , adt:1 , FLEX:N , SplitNo:100 , depdate0:20170816 , SeatAvail:Y , ptype:I , comp:Y , dep0:ICN , BEST:Y , JSON:Y , inf:0 , Soto:N , SeatType:A , AirLine:ZE , enc:u , Change: , arr0:BKK , StayLength: , \n"
     ]
    },
    {
     "name": "stderr",
     "output_type": "stream",
     "text": [
      "2017-08-09 08:17:06,968 root     DEBUG    Crawling Interpark domastic schedule site\n"
     ]
    },
    {
     "name": "stdout",
     "output_type": "stream",
     "text": [
      "End Simple crawling\n",
      "Start Simple crawling :  http://smartair.interpark.com/HtmlSearch/GetGoodsSmartList.aspx\n",
      ">> Parameters\n",
      "trip:OW , chd:0 , adt:1 , FLEX:N , SplitNo:100 , depdate0:20170817 , SeatAvail:Y , ptype:I , comp:Y , dep0:ICN , BEST:Y , JSON:Y , inf:0 , Soto:N , SeatType:A , AirLine:7C , enc:u , Change: , arr0:BKK , StayLength: , \n"
     ]
    },
    {
     "name": "stderr",
     "output_type": "stream",
     "text": [
      "2017-08-09 08:17:07,683 root     DEBUG    Crawling Interpark domastic schedule site\n"
     ]
    },
    {
     "name": "stdout",
     "output_type": "stream",
     "text": [
      "End Simple crawling\n",
      "Start Simple crawling :  http://smartair.interpark.com/HtmlSearch/GetGoodsSmartList.aspx\n",
      ">> Parameters\n",
      "trip:OW , chd:0 , adt:1 , FLEX:N , SplitNo:100 , depdate0:20170817 , SeatAvail:Y , ptype:I , comp:Y , dep0:ICN , BEST:Y , JSON:Y , inf:0 , Soto:N , SeatType:A , AirLine:LJ , enc:u , Change: , arr0:BKK , StayLength: , \n"
     ]
    },
    {
     "name": "stderr",
     "output_type": "stream",
     "text": [
      "2017-08-09 08:17:10,071 root     DEBUG    Crawling Interpark domastic schedule site\n"
     ]
    },
    {
     "name": "stdout",
     "output_type": "stream",
     "text": [
      "End Simple crawling\n",
      "Start Simple crawling :  http://smartair.interpark.com/HtmlSearch/GetGoodsSmartList.aspx\n",
      ">> Parameters\n",
      "trip:OW , chd:0 , adt:1 , FLEX:N , SplitNo:100 , depdate0:20170817 , SeatAvail:Y , ptype:I , comp:Y , dep0:ICN , BEST:Y , JSON:Y , inf:0 , Soto:N , SeatType:A , AirLine:TW , enc:u , Change: , arr0:BKK , StayLength: , \n"
     ]
    },
    {
     "name": "stderr",
     "output_type": "stream",
     "text": [
      "2017-08-09 08:17:12,263 root     DEBUG    Crawling Interpark domastic schedule site\n"
     ]
    },
    {
     "name": "stdout",
     "output_type": "stream",
     "text": [
      "End Simple crawling\n",
      "Start Simple crawling :  http://smartair.interpark.com/HtmlSearch/GetGoodsSmartList.aspx\n",
      ">> Parameters\n",
      "trip:OW , chd:0 , adt:1 , FLEX:N , SplitNo:100 , depdate0:20170817 , SeatAvail:Y , ptype:I , comp:Y , dep0:ICN , BEST:Y , JSON:Y , inf:0 , Soto:N , SeatType:A , AirLine:ZE , enc:u , Change: , arr0:BKK , StayLength: , \n"
     ]
    },
    {
     "name": "stderr",
     "output_type": "stream",
     "text": [
      "2017-08-09 08:17:14,645 root     DEBUG    Crawling Interpark domastic schedule site\n"
     ]
    },
    {
     "name": "stdout",
     "output_type": "stream",
     "text": [
      "End Simple crawling\n",
      "Start Simple crawling :  http://smartair.interpark.com/HtmlSearch/GetGoodsSmartList.aspx\n",
      ">> Parameters\n",
      "trip:OW , chd:0 , adt:1 , FLEX:N , SplitNo:100 , depdate0:20170818 , SeatAvail:Y , ptype:I , comp:Y , dep0:ICN , BEST:Y , JSON:Y , inf:0 , Soto:N , SeatType:A , AirLine:7C , enc:u , Change: , arr0:BKK , StayLength: , \n"
     ]
    },
    {
     "name": "stderr",
     "output_type": "stream",
     "text": [
      "2017-08-09 08:17:15,341 root     DEBUG    Crawling Interpark domastic schedule site\n"
     ]
    },
    {
     "name": "stdout",
     "output_type": "stream",
     "text": [
      "End Simple crawling\n",
      "Start Simple crawling :  http://smartair.interpark.com/HtmlSearch/GetGoodsSmartList.aspx\n",
      ">> Parameters\n",
      "trip:OW , chd:0 , adt:1 , FLEX:N , SplitNo:100 , depdate0:20170818 , SeatAvail:Y , ptype:I , comp:Y , dep0:ICN , BEST:Y , JSON:Y , inf:0 , Soto:N , SeatType:A , AirLine:LJ , enc:u , Change: , arr0:BKK , StayLength: , \n"
     ]
    },
    {
     "name": "stderr",
     "output_type": "stream",
     "text": [
      "2017-08-09 08:17:17,626 root     DEBUG    Crawling Interpark domastic schedule site\n"
     ]
    },
    {
     "name": "stdout",
     "output_type": "stream",
     "text": [
      "End Simple crawling\n",
      "Start Simple crawling :  http://smartair.interpark.com/HtmlSearch/GetGoodsSmartList.aspx\n",
      ">> Parameters\n",
      "trip:OW , chd:0 , adt:1 , FLEX:N , SplitNo:100 , depdate0:20170818 , SeatAvail:Y , ptype:I , comp:Y , dep0:ICN , BEST:Y , JSON:Y , inf:0 , Soto:N , SeatType:A , AirLine:TW , enc:u , Change: , arr0:BKK , StayLength: , \n"
     ]
    },
    {
     "name": "stderr",
     "output_type": "stream",
     "text": [
      "2017-08-09 08:17:19,850 root     DEBUG    Crawling Interpark domastic schedule site\n"
     ]
    },
    {
     "name": "stdout",
     "output_type": "stream",
     "text": [
      "End Simple crawling\n",
      "Start Simple crawling :  http://smartair.interpark.com/HtmlSearch/GetGoodsSmartList.aspx\n",
      ">> Parameters\n",
      "trip:OW , chd:0 , adt:1 , FLEX:N , SplitNo:100 , depdate0:20170818 , SeatAvail:Y , ptype:I , comp:Y , dep0:ICN , BEST:Y , JSON:Y , inf:0 , Soto:N , SeatType:A , AirLine:ZE , enc:u , Change: , arr0:BKK , StayLength: , \n"
     ]
    },
    {
     "name": "stderr",
     "output_type": "stream",
     "text": [
      "2017-08-09 08:17:22,074 root     DEBUG    Crawling Interpark domastic schedule site\n"
     ]
    },
    {
     "name": "stdout",
     "output_type": "stream",
     "text": [
      "End Simple crawling\n",
      "Start Simple crawling :  http://smartair.interpark.com/HtmlSearch/GetGoodsSmartList.aspx\n",
      ">> Parameters\n",
      "trip:OW , chd:0 , adt:1 , FLEX:N , SplitNo:100 , depdate0:20170819 , SeatAvail:Y , ptype:I , comp:Y , dep0:ICN , BEST:Y , JSON:Y , inf:0 , Soto:N , SeatType:A , AirLine:7C , enc:u , Change: , arr0:BKK , StayLength: , \n"
     ]
    },
    {
     "name": "stderr",
     "output_type": "stream",
     "text": [
      "2017-08-09 08:17:22,800 root     DEBUG    Crawling Interpark domastic schedule site\n"
     ]
    },
    {
     "name": "stdout",
     "output_type": "stream",
     "text": [
      "End Simple crawling\n",
      "Start Simple crawling :  http://smartair.interpark.com/HtmlSearch/GetGoodsSmartList.aspx\n",
      ">> Parameters\n",
      "trip:OW , chd:0 , adt:1 , FLEX:N , SplitNo:100 , depdate0:20170819 , SeatAvail:Y , ptype:I , comp:Y , dep0:ICN , BEST:Y , JSON:Y , inf:0 , Soto:N , SeatType:A , AirLine:LJ , enc:u , Change: , arr0:BKK , StayLength: , \n"
     ]
    },
    {
     "name": "stderr",
     "output_type": "stream",
     "text": [
      "2017-08-09 08:17:25,237 root     DEBUG    Crawling Interpark domastic schedule site\n"
     ]
    },
    {
     "name": "stdout",
     "output_type": "stream",
     "text": [
      "End Simple crawling\n",
      "Start Simple crawling :  http://smartair.interpark.com/HtmlSearch/GetGoodsSmartList.aspx\n",
      ">> Parameters\n",
      "trip:OW , chd:0 , adt:1 , FLEX:N , SplitNo:100 , depdate0:20170819 , SeatAvail:Y , ptype:I , comp:Y , dep0:ICN , BEST:Y , JSON:Y , inf:0 , Soto:N , SeatType:A , AirLine:TW , enc:u , Change: , arr0:BKK , StayLength: , \n"
     ]
    },
    {
     "name": "stderr",
     "output_type": "stream",
     "text": [
      "2017-08-09 08:17:27,543 root     DEBUG    Crawling Interpark domastic schedule site\n"
     ]
    },
    {
     "name": "stdout",
     "output_type": "stream",
     "text": [
      "End Simple crawling\n",
      "Start Simple crawling :  http://smartair.interpark.com/HtmlSearch/GetGoodsSmartList.aspx\n",
      ">> Parameters\n",
      "trip:OW , chd:0 , adt:1 , FLEX:N , SplitNo:100 , depdate0:20170819 , SeatAvail:Y , ptype:I , comp:Y , dep0:ICN , BEST:Y , JSON:Y , inf:0 , Soto:N , SeatType:A , AirLine:ZE , enc:u , Change: , arr0:BKK , StayLength: , \n"
     ]
    },
    {
     "name": "stderr",
     "output_type": "stream",
     "text": [
      "2017-08-09 08:17:29,858 root     DEBUG    Crawling Interpark domastic schedule site\n"
     ]
    },
    {
     "name": "stdout",
     "output_type": "stream",
     "text": [
      "End Simple crawling\n",
      "Start Simple crawling :  http://smartair.interpark.com/HtmlSearch/GetGoodsSmartList.aspx\n",
      ">> Parameters\n",
      "trip:OW , chd:0 , adt:1 , FLEX:N , SplitNo:100 , depdate0:20170820 , SeatAvail:Y , ptype:I , comp:Y , dep0:ICN , BEST:Y , JSON:Y , inf:0 , Soto:N , SeatType:A , AirLine:7C , enc:u , Change: , arr0:BKK , StayLength: , \n"
     ]
    },
    {
     "name": "stderr",
     "output_type": "stream",
     "text": [
      "2017-08-09 08:17:30,517 root     DEBUG    Crawling Interpark domastic schedule site\n"
     ]
    },
    {
     "name": "stdout",
     "output_type": "stream",
     "text": [
      "End Simple crawling\n",
      "Start Simple crawling :  http://smartair.interpark.com/HtmlSearch/GetGoodsSmartList.aspx\n",
      ">> Parameters\n",
      "trip:OW , chd:0 , adt:1 , FLEX:N , SplitNo:100 , depdate0:20170820 , SeatAvail:Y , ptype:I , comp:Y , dep0:ICN , BEST:Y , JSON:Y , inf:0 , Soto:N , SeatType:A , AirLine:LJ , enc:u , Change: , arr0:BKK , StayLength: , \n"
     ]
    },
    {
     "name": "stderr",
     "output_type": "stream",
     "text": [
      "2017-08-09 08:17:33,109 root     DEBUG    Crawling Interpark domastic schedule site\n"
     ]
    },
    {
     "name": "stdout",
     "output_type": "stream",
     "text": [
      "End Simple crawling\n",
      "Start Simple crawling :  http://smartair.interpark.com/HtmlSearch/GetGoodsSmartList.aspx\n",
      ">> Parameters\n",
      "trip:OW , chd:0 , adt:1 , FLEX:N , SplitNo:100 , depdate0:20170820 , SeatAvail:Y , ptype:I , comp:Y , dep0:ICN , BEST:Y , JSON:Y , inf:0 , Soto:N , SeatType:A , AirLine:TW , enc:u , Change: , arr0:BKK , StayLength: , \n"
     ]
    },
    {
     "name": "stderr",
     "output_type": "stream",
     "text": [
      "2017-08-09 08:17:35,343 root     DEBUG    Crawling Interpark domastic schedule site\n"
     ]
    },
    {
     "name": "stdout",
     "output_type": "stream",
     "text": [
      "End Simple crawling\n",
      "Start Simple crawling :  http://smartair.interpark.com/HtmlSearch/GetGoodsSmartList.aspx\n",
      ">> Parameters\n",
      "trip:OW , chd:0 , adt:1 , FLEX:N , SplitNo:100 , depdate0:20170820 , SeatAvail:Y , ptype:I , comp:Y , dep0:ICN , BEST:Y , JSON:Y , inf:0 , Soto:N , SeatType:A , AirLine:ZE , enc:u , Change: , arr0:BKK , StayLength: , \n"
     ]
    },
    {
     "name": "stderr",
     "output_type": "stream",
     "text": [
      "2017-08-09 08:17:37,592 root     DEBUG    Crawling Interpark domastic schedule site\n"
     ]
    },
    {
     "name": "stdout",
     "output_type": "stream",
     "text": [
      "End Simple crawling\n",
      "Start Simple crawling :  http://smartair.interpark.com/HtmlSearch/GetGoodsSmartList.aspx\n",
      ">> Parameters\n",
      "trip:OW , chd:0 , adt:1 , FLEX:N , SplitNo:100 , depdate0:20170821 , SeatAvail:Y , ptype:I , comp:Y , dep0:ICN , BEST:Y , JSON:Y , inf:0 , Soto:N , SeatType:A , AirLine:7C , enc:u , Change: , arr0:BKK , StayLength: , \n"
     ]
    },
    {
     "name": "stderr",
     "output_type": "stream",
     "text": [
      "2017-08-09 08:17:39,111 root     DEBUG    Crawling Interpark domastic schedule site\n"
     ]
    },
    {
     "name": "stdout",
     "output_type": "stream",
     "text": [
      "End Simple crawling\n",
      "Start Simple crawling :  http://smartair.interpark.com/HtmlSearch/GetGoodsSmartList.aspx\n",
      ">> Parameters\n",
      "trip:OW , chd:0 , adt:1 , FLEX:N , SplitNo:100 , depdate0:20170821 , SeatAvail:Y , ptype:I , comp:Y , dep0:ICN , BEST:Y , JSON:Y , inf:0 , Soto:N , SeatType:A , AirLine:LJ , enc:u , Change: , arr0:BKK , StayLength: , \n"
     ]
    },
    {
     "name": "stderr",
     "output_type": "stream",
     "text": [
      "2017-08-09 08:17:41,425 root     DEBUG    Crawling Interpark domastic schedule site\n"
     ]
    },
    {
     "name": "stdout",
     "output_type": "stream",
     "text": [
      "End Simple crawling\n",
      "Start Simple crawling :  http://smartair.interpark.com/HtmlSearch/GetGoodsSmartList.aspx\n",
      ">> Parameters\n",
      "trip:OW , chd:0 , adt:1 , FLEX:N , SplitNo:100 , depdate0:20170821 , SeatAvail:Y , ptype:I , comp:Y , dep0:ICN , BEST:Y , JSON:Y , inf:0 , Soto:N , SeatType:A , AirLine:TW , enc:u , Change: , arr0:BKK , StayLength: , \n"
     ]
    },
    {
     "name": "stderr",
     "output_type": "stream",
     "text": [
      "2017-08-09 08:17:43,532 root     DEBUG    Crawling Interpark domastic schedule site\n"
     ]
    },
    {
     "name": "stdout",
     "output_type": "stream",
     "text": [
      "End Simple crawling\n",
      "Start Simple crawling :  http://smartair.interpark.com/HtmlSearch/GetGoodsSmartList.aspx\n",
      ">> Parameters\n",
      "trip:OW , chd:0 , adt:1 , FLEX:N , SplitNo:100 , depdate0:20170821 , SeatAvail:Y , ptype:I , comp:Y , dep0:ICN , BEST:Y , JSON:Y , inf:0 , Soto:N , SeatType:A , AirLine:ZE , enc:u , Change: , arr0:BKK , StayLength: , \n"
     ]
    },
    {
     "name": "stderr",
     "output_type": "stream",
     "text": [
      "2017-08-09 08:17:45,824 root     DEBUG    Crawling Interpark domastic schedule site\n"
     ]
    },
    {
     "name": "stdout",
     "output_type": "stream",
     "text": [
      "End Simple crawling\n",
      "Start Simple crawling :  http://smartair.interpark.com/HtmlSearch/GetGoodsSmartList.aspx\n",
      ">> Parameters\n",
      "trip:OW , chd:0 , adt:1 , FLEX:N , SplitNo:100 , depdate0:20170822 , SeatAvail:Y , ptype:I , comp:Y , dep0:ICN , BEST:Y , JSON:Y , inf:0 , Soto:N , SeatType:A , AirLine:7C , enc:u , Change: , arr0:BKK , StayLength: , \n"
     ]
    },
    {
     "name": "stderr",
     "output_type": "stream",
     "text": [
      "2017-08-09 08:17:46,509 root     DEBUG    Crawling Interpark domastic schedule site\n"
     ]
    },
    {
     "name": "stdout",
     "output_type": "stream",
     "text": [
      "End Simple crawling\n",
      "Start Simple crawling :  http://smartair.interpark.com/HtmlSearch/GetGoodsSmartList.aspx\n",
      ">> Parameters\n",
      "trip:OW , chd:0 , adt:1 , FLEX:N , SplitNo:100 , depdate0:20170822 , SeatAvail:Y , ptype:I , comp:Y , dep0:ICN , BEST:Y , JSON:Y , inf:0 , Soto:N , SeatType:A , AirLine:LJ , enc:u , Change: , arr0:BKK , StayLength: , \n"
     ]
    },
    {
     "name": "stderr",
     "output_type": "stream",
     "text": [
      "2017-08-09 08:17:48,774 root     DEBUG    Crawling Interpark domastic schedule site\n"
     ]
    },
    {
     "name": "stdout",
     "output_type": "stream",
     "text": [
      "End Simple crawling\n",
      "Start Simple crawling :  http://smartair.interpark.com/HtmlSearch/GetGoodsSmartList.aspx\n",
      ">> Parameters\n",
      "trip:OW , chd:0 , adt:1 , FLEX:N , SplitNo:100 , depdate0:20170822 , SeatAvail:Y , ptype:I , comp:Y , dep0:ICN , BEST:Y , JSON:Y , inf:0 , Soto:N , SeatType:A , AirLine:TW , enc:u , Change: , arr0:BKK , StayLength: , \n"
     ]
    },
    {
     "name": "stderr",
     "output_type": "stream",
     "text": [
      "2017-08-09 08:17:51,123 root     DEBUG    Crawling Interpark domastic schedule site\n"
     ]
    },
    {
     "name": "stdout",
     "output_type": "stream",
     "text": [
      "End Simple crawling\n",
      "Start Simple crawling :  http://smartair.interpark.com/HtmlSearch/GetGoodsSmartList.aspx\n",
      ">> Parameters\n",
      "trip:OW , chd:0 , adt:1 , FLEX:N , SplitNo:100 , depdate0:20170822 , SeatAvail:Y , ptype:I , comp:Y , dep0:ICN , BEST:Y , JSON:Y , inf:0 , Soto:N , SeatType:A , AirLine:ZE , enc:u , Change: , arr0:BKK , StayLength: , \n"
     ]
    },
    {
     "name": "stderr",
     "output_type": "stream",
     "text": [
      "2017-08-09 08:17:53,452 root     DEBUG    Crawling Interpark domastic schedule site\n"
     ]
    },
    {
     "name": "stdout",
     "output_type": "stream",
     "text": [
      "End Simple crawling\n",
      "Start Simple crawling :  http://smartair.interpark.com/HtmlSearch/GetGoodsSmartList.aspx\n",
      ">> Parameters\n",
      "trip:OW , chd:0 , adt:1 , FLEX:N , SplitNo:100 , depdate0:20170823 , SeatAvail:Y , ptype:I , comp:Y , dep0:ICN , BEST:Y , JSON:Y , inf:0 , Soto:N , SeatType:A , AirLine:7C , enc:u , Change: , arr0:BKK , StayLength: , \n"
     ]
    },
    {
     "name": "stderr",
     "output_type": "stream",
     "text": [
      "2017-08-09 08:17:54,453 root     DEBUG    Crawling Interpark domastic schedule site\n"
     ]
    },
    {
     "name": "stdout",
     "output_type": "stream",
     "text": [
      "End Simple crawling\n",
      "Start Simple crawling :  http://smartair.interpark.com/HtmlSearch/GetGoodsSmartList.aspx\n",
      ">> Parameters\n",
      "trip:OW , chd:0 , adt:1 , FLEX:N , SplitNo:100 , depdate0:20170823 , SeatAvail:Y , ptype:I , comp:Y , dep0:ICN , BEST:Y , JSON:Y , inf:0 , Soto:N , SeatType:A , AirLine:LJ , enc:u , Change: , arr0:BKK , StayLength: , \n"
     ]
    },
    {
     "name": "stderr",
     "output_type": "stream",
     "text": [
      "2017-08-09 08:17:56,845 root     DEBUG    Crawling Interpark domastic schedule site\n"
     ]
    },
    {
     "name": "stdout",
     "output_type": "stream",
     "text": [
      "End Simple crawling\n",
      "Start Simple crawling :  http://smartair.interpark.com/HtmlSearch/GetGoodsSmartList.aspx\n",
      ">> Parameters\n",
      "trip:OW , chd:0 , adt:1 , FLEX:N , SplitNo:100 , depdate0:20170823 , SeatAvail:Y , ptype:I , comp:Y , dep0:ICN , BEST:Y , JSON:Y , inf:0 , Soto:N , SeatType:A , AirLine:TW , enc:u , Change: , arr0:BKK , StayLength: , \n"
     ]
    },
    {
     "name": "stderr",
     "output_type": "stream",
     "text": [
      "2017-08-09 08:17:58,993 root     DEBUG    Crawling Interpark domastic schedule site\n"
     ]
    },
    {
     "name": "stdout",
     "output_type": "stream",
     "text": [
      "End Simple crawling\n",
      "Start Simple crawling :  http://smartair.interpark.com/HtmlSearch/GetGoodsSmartList.aspx\n",
      ">> Parameters\n",
      "trip:OW , chd:0 , adt:1 , FLEX:N , SplitNo:100 , depdate0:20170823 , SeatAvail:Y , ptype:I , comp:Y , dep0:ICN , BEST:Y , JSON:Y , inf:0 , Soto:N , SeatType:A , AirLine:ZE , enc:u , Change: , arr0:BKK , StayLength: , \n"
     ]
    },
    {
     "name": "stderr",
     "output_type": "stream",
     "text": [
      "2017-08-09 08:18:01,147 root     DEBUG    Crawling Interpark domastic schedule site\n"
     ]
    },
    {
     "name": "stdout",
     "output_type": "stream",
     "text": [
      "End Simple crawling\n",
      "Start Simple crawling :  http://smartair.interpark.com/HtmlSearch/GetGoodsSmartList.aspx\n",
      ">> Parameters\n",
      "trip:OW , chd:0 , adt:1 , FLEX:N , SplitNo:100 , depdate0:20170824 , SeatAvail:Y , ptype:I , comp:Y , dep0:ICN , BEST:Y , JSON:Y , inf:0 , Soto:N , SeatType:A , AirLine:7C , enc:u , Change: , arr0:BKK , StayLength: , \n"
     ]
    },
    {
     "name": "stderr",
     "output_type": "stream",
     "text": [
      "2017-08-09 08:18:02,186 root     DEBUG    Crawling Interpark domastic schedule site\n"
     ]
    },
    {
     "name": "stdout",
     "output_type": "stream",
     "text": [
      "End Simple crawling\n",
      "Start Simple crawling :  http://smartair.interpark.com/HtmlSearch/GetGoodsSmartList.aspx\n",
      ">> Parameters\n",
      "trip:OW , chd:0 , adt:1 , FLEX:N , SplitNo:100 , depdate0:20170824 , SeatAvail:Y , ptype:I , comp:Y , dep0:ICN , BEST:Y , JSON:Y , inf:0 , Soto:N , SeatType:A , AirLine:LJ , enc:u , Change: , arr0:BKK , StayLength: , \n"
     ]
    },
    {
     "name": "stderr",
     "output_type": "stream",
     "text": [
      "2017-08-09 08:18:04,413 root     DEBUG    Crawling Interpark domastic schedule site\n"
     ]
    },
    {
     "name": "stdout",
     "output_type": "stream",
     "text": [
      "End Simple crawling\n",
      "Start Simple crawling :  http://smartair.interpark.com/HtmlSearch/GetGoodsSmartList.aspx\n",
      ">> Parameters\n",
      "trip:OW , chd:0 , adt:1 , FLEX:N , SplitNo:100 , depdate0:20170824 , SeatAvail:Y , ptype:I , comp:Y , dep0:ICN , BEST:Y , JSON:Y , inf:0 , Soto:N , SeatType:A , AirLine:TW , enc:u , Change: , arr0:BKK , StayLength: , \n"
     ]
    },
    {
     "name": "stderr",
     "output_type": "stream",
     "text": [
      "2017-08-09 08:18:06,554 root     DEBUG    Crawling Interpark domastic schedule site\n"
     ]
    },
    {
     "name": "stdout",
     "output_type": "stream",
     "text": [
      "End Simple crawling\n",
      "Start Simple crawling :  http://smartair.interpark.com/HtmlSearch/GetGoodsSmartList.aspx\n",
      ">> Parameters\n",
      "trip:OW , chd:0 , adt:1 , FLEX:N , SplitNo:100 , depdate0:20170824 , SeatAvail:Y , ptype:I , comp:Y , dep0:ICN , BEST:Y , JSON:Y , inf:0 , Soto:N , SeatType:A , AirLine:ZE , enc:u , Change: , arr0:BKK , StayLength: , \n"
     ]
    },
    {
     "name": "stderr",
     "output_type": "stream",
     "text": [
      "2017-08-09 08:18:08,684 root     DEBUG    Crawling Interpark domastic schedule site\n"
     ]
    },
    {
     "name": "stdout",
     "output_type": "stream",
     "text": [
      "End Simple crawling\n",
      "Start Simple crawling :  http://smartair.interpark.com/HtmlSearch/GetGoodsSmartList.aspx\n",
      ">> Parameters\n",
      "trip:OW , chd:0 , adt:1 , FLEX:N , SplitNo:100 , depdate0:20170825 , SeatAvail:Y , ptype:I , comp:Y , dep0:ICN , BEST:Y , JSON:Y , inf:0 , Soto:N , SeatType:A , AirLine:7C , enc:u , Change: , arr0:BKK , StayLength: , \n"
     ]
    },
    {
     "name": "stderr",
     "output_type": "stream",
     "text": [
      "2017-08-09 08:18:09,642 root     DEBUG    Crawling Interpark domastic schedule site\n"
     ]
    },
    {
     "name": "stdout",
     "output_type": "stream",
     "text": [
      "End Simple crawling\n",
      "Start Simple crawling :  http://smartair.interpark.com/HtmlSearch/GetGoodsSmartList.aspx\n",
      ">> Parameters\n",
      "trip:OW , chd:0 , adt:1 , FLEX:N , SplitNo:100 , depdate0:20170825 , SeatAvail:Y , ptype:I , comp:Y , dep0:ICN , BEST:Y , JSON:Y , inf:0 , Soto:N , SeatType:A , AirLine:LJ , enc:u , Change: , arr0:BKK , StayLength: , \n"
     ]
    },
    {
     "name": "stderr",
     "output_type": "stream",
     "text": [
      "2017-08-09 08:18:11,960 root     DEBUG    Crawling Interpark domastic schedule site\n"
     ]
    },
    {
     "name": "stdout",
     "output_type": "stream",
     "text": [
      "End Simple crawling\n",
      "Start Simple crawling :  http://smartair.interpark.com/HtmlSearch/GetGoodsSmartList.aspx\n",
      ">> Parameters\n",
      "trip:OW , chd:0 , adt:1 , FLEX:N , SplitNo:100 , depdate0:20170825 , SeatAvail:Y , ptype:I , comp:Y , dep0:ICN , BEST:Y , JSON:Y , inf:0 , Soto:N , SeatType:A , AirLine:TW , enc:u , Change: , arr0:BKK , StayLength: , \n"
     ]
    },
    {
     "name": "stderr",
     "output_type": "stream",
     "text": [
      "2017-08-09 08:18:14,077 root     DEBUG    Crawling Interpark domastic schedule site\n"
     ]
    },
    {
     "name": "stdout",
     "output_type": "stream",
     "text": [
      "End Simple crawling\n",
      "Start Simple crawling :  http://smartair.interpark.com/HtmlSearch/GetGoodsSmartList.aspx\n",
      ">> Parameters\n",
      "trip:OW , chd:0 , adt:1 , FLEX:N , SplitNo:100 , depdate0:20170825 , SeatAvail:Y , ptype:I , comp:Y , dep0:ICN , BEST:Y , JSON:Y , inf:0 , Soto:N , SeatType:A , AirLine:ZE , enc:u , Change: , arr0:BKK , StayLength: , \n"
     ]
    },
    {
     "name": "stderr",
     "output_type": "stream",
     "text": [
      "2017-08-09 08:18:16,397 root     DEBUG    Crawling Interpark domastic schedule site\n"
     ]
    },
    {
     "name": "stdout",
     "output_type": "stream",
     "text": [
      "End Simple crawling\n",
      "Start Simple crawling :  http://smartair.interpark.com/HtmlSearch/GetGoodsSmartList.aspx\n",
      ">> Parameters\n",
      "trip:OW , chd:0 , adt:1 , FLEX:N , SplitNo:100 , depdate0:20170826 , SeatAvail:Y , ptype:I , comp:Y , dep0:ICN , BEST:Y , JSON:Y , inf:0 , Soto:N , SeatType:A , AirLine:7C , enc:u , Change: , arr0:BKK , StayLength: , \n"
     ]
    },
    {
     "name": "stderr",
     "output_type": "stream",
     "text": [
      "2017-08-09 08:18:17,450 root     DEBUG    Crawling Interpark domastic schedule site\n"
     ]
    },
    {
     "name": "stdout",
     "output_type": "stream",
     "text": [
      "End Simple crawling\n",
      "Start Simple crawling :  http://smartair.interpark.com/HtmlSearch/GetGoodsSmartList.aspx\n",
      ">> Parameters\n",
      "trip:OW , chd:0 , adt:1 , FLEX:N , SplitNo:100 , depdate0:20170826 , SeatAvail:Y , ptype:I , comp:Y , dep0:ICN , BEST:Y , JSON:Y , inf:0 , Soto:N , SeatType:A , AirLine:LJ , enc:u , Change: , arr0:BKK , StayLength: , \n"
     ]
    },
    {
     "name": "stderr",
     "output_type": "stream",
     "text": [
      "2017-08-09 08:18:19,674 root     DEBUG    Crawling Interpark domastic schedule site\n"
     ]
    },
    {
     "name": "stdout",
     "output_type": "stream",
     "text": [
      "End Simple crawling\n",
      "Start Simple crawling :  http://smartair.interpark.com/HtmlSearch/GetGoodsSmartList.aspx\n",
      ">> Parameters\n",
      "trip:OW , chd:0 , adt:1 , FLEX:N , SplitNo:100 , depdate0:20170826 , SeatAvail:Y , ptype:I , comp:Y , dep0:ICN , BEST:Y , JSON:Y , inf:0 , Soto:N , SeatType:A , AirLine:TW , enc:u , Change: , arr0:BKK , StayLength: , \n"
     ]
    },
    {
     "name": "stderr",
     "output_type": "stream",
     "text": [
      "2017-08-09 08:18:21,852 root     DEBUG    Crawling Interpark domastic schedule site\n"
     ]
    },
    {
     "name": "stdout",
     "output_type": "stream",
     "text": [
      "End Simple crawling\n",
      "Start Simple crawling :  http://smartair.interpark.com/HtmlSearch/GetGoodsSmartList.aspx\n",
      ">> Parameters\n",
      "trip:OW , chd:0 , adt:1 , FLEX:N , SplitNo:100 , depdate0:20170826 , SeatAvail:Y , ptype:I , comp:Y , dep0:ICN , BEST:Y , JSON:Y , inf:0 , Soto:N , SeatType:A , AirLine:ZE , enc:u , Change: , arr0:BKK , StayLength: , \n"
     ]
    },
    {
     "name": "stderr",
     "output_type": "stream",
     "text": [
      "2017-08-09 08:18:24,126 root     DEBUG    Crawling Interpark domastic schedule site\n"
     ]
    },
    {
     "name": "stdout",
     "output_type": "stream",
     "text": [
      "End Simple crawling\n",
      "Start Simple crawling :  http://smartair.interpark.com/HtmlSearch/GetGoodsSmartList.aspx\n",
      ">> Parameters\n",
      "trip:OW , chd:0 , adt:1 , FLEX:N , SplitNo:100 , depdate0:20170827 , SeatAvail:Y , ptype:I , comp:Y , dep0:ICN , BEST:Y , JSON:Y , inf:0 , Soto:N , SeatType:A , AirLine:7C , enc:u , Change: , arr0:BKK , StayLength: , \n"
     ]
    },
    {
     "name": "stderr",
     "output_type": "stream",
     "text": [
      "2017-08-09 08:18:24,860 root     DEBUG    Crawling Interpark domastic schedule site\n"
     ]
    },
    {
     "name": "stdout",
     "output_type": "stream",
     "text": [
      "End Simple crawling\n",
      "Start Simple crawling :  http://smartair.interpark.com/HtmlSearch/GetGoodsSmartList.aspx\n",
      ">> Parameters\n",
      "trip:OW , chd:0 , adt:1 , FLEX:N , SplitNo:100 , depdate0:20170827 , SeatAvail:Y , ptype:I , comp:Y , dep0:ICN , BEST:Y , JSON:Y , inf:0 , Soto:N , SeatType:A , AirLine:LJ , enc:u , Change: , arr0:BKK , StayLength: , \n"
     ]
    },
    {
     "name": "stderr",
     "output_type": "stream",
     "text": [
      "2017-08-09 08:18:27,224 root     DEBUG    Crawling Interpark domastic schedule site\n"
     ]
    },
    {
     "name": "stdout",
     "output_type": "stream",
     "text": [
      "End Simple crawling\n",
      "Start Simple crawling :  http://smartair.interpark.com/HtmlSearch/GetGoodsSmartList.aspx\n",
      ">> Parameters\n",
      "trip:OW , chd:0 , adt:1 , FLEX:N , SplitNo:100 , depdate0:20170827 , SeatAvail:Y , ptype:I , comp:Y , dep0:ICN , BEST:Y , JSON:Y , inf:0 , Soto:N , SeatType:A , AirLine:TW , enc:u , Change: , arr0:BKK , StayLength: , \n"
     ]
    },
    {
     "name": "stderr",
     "output_type": "stream",
     "text": [
      "2017-08-09 08:18:29,646 root     DEBUG    Crawling Interpark domastic schedule site\n"
     ]
    },
    {
     "name": "stdout",
     "output_type": "stream",
     "text": [
      "End Simple crawling\n",
      "Start Simple crawling :  http://smartair.interpark.com/HtmlSearch/GetGoodsSmartList.aspx\n",
      ">> Parameters\n",
      "trip:OW , chd:0 , adt:1 , FLEX:N , SplitNo:100 , depdate0:20170827 , SeatAvail:Y , ptype:I , comp:Y , dep0:ICN , BEST:Y , JSON:Y , inf:0 , Soto:N , SeatType:A , AirLine:ZE , enc:u , Change: , arr0:BKK , StayLength: , \n"
     ]
    },
    {
     "name": "stderr",
     "output_type": "stream",
     "text": [
      "2017-08-09 08:18:31,747 root     DEBUG    Crawling Interpark domastic schedule site\n"
     ]
    },
    {
     "name": "stdout",
     "output_type": "stream",
     "text": [
      "End Simple crawling\n",
      "Start Simple crawling :  http://smartair.interpark.com/HtmlSearch/GetGoodsSmartList.aspx\n",
      ">> Parameters\n",
      "trip:OW , chd:0 , adt:1 , FLEX:N , SplitNo:100 , depdate0:20170828 , SeatAvail:Y , ptype:I , comp:Y , dep0:ICN , BEST:Y , JSON:Y , inf:0 , Soto:N , SeatType:A , AirLine:7C , enc:u , Change: , arr0:BKK , StayLength: , \n"
     ]
    },
    {
     "name": "stderr",
     "output_type": "stream",
     "text": [
      "2017-08-09 08:18:33,103 root     DEBUG    Crawling Interpark domastic schedule site\n"
     ]
    },
    {
     "name": "stdout",
     "output_type": "stream",
     "text": [
      "End Simple crawling\n",
      "Start Simple crawling :  http://smartair.interpark.com/HtmlSearch/GetGoodsSmartList.aspx\n",
      ">> Parameters\n",
      "trip:OW , chd:0 , adt:1 , FLEX:N , SplitNo:100 , depdate0:20170828 , SeatAvail:Y , ptype:I , comp:Y , dep0:ICN , BEST:Y , JSON:Y , inf:0 , Soto:N , SeatType:A , AirLine:LJ , enc:u , Change: , arr0:BKK , StayLength: , \n"
     ]
    },
    {
     "name": "stderr",
     "output_type": "stream",
     "text": [
      "2017-08-09 08:18:35,528 root     DEBUG    Crawling Interpark domastic schedule site\n"
     ]
    },
    {
     "name": "stdout",
     "output_type": "stream",
     "text": [
      "End Simple crawling\n",
      "Start Simple crawling :  http://smartair.interpark.com/HtmlSearch/GetGoodsSmartList.aspx\n",
      ">> Parameters\n",
      "trip:OW , chd:0 , adt:1 , FLEX:N , SplitNo:100 , depdate0:20170828 , SeatAvail:Y , ptype:I , comp:Y , dep0:ICN , BEST:Y , JSON:Y , inf:0 , Soto:N , SeatType:A , AirLine:TW , enc:u , Change: , arr0:BKK , StayLength: , \n"
     ]
    },
    {
     "name": "stderr",
     "output_type": "stream",
     "text": [
      "2017-08-09 08:18:37,657 root     DEBUG    Crawling Interpark domastic schedule site\n"
     ]
    },
    {
     "name": "stdout",
     "output_type": "stream",
     "text": [
      "End Simple crawling\n",
      "Start Simple crawling :  http://smartair.interpark.com/HtmlSearch/GetGoodsSmartList.aspx\n",
      ">> Parameters\n",
      "trip:OW , chd:0 , adt:1 , FLEX:N , SplitNo:100 , depdate0:20170828 , SeatAvail:Y , ptype:I , comp:Y , dep0:ICN , BEST:Y , JSON:Y , inf:0 , Soto:N , SeatType:A , AirLine:ZE , enc:u , Change: , arr0:BKK , StayLength: , \n"
     ]
    },
    {
     "name": "stderr",
     "output_type": "stream",
     "text": [
      "2017-08-09 08:18:39,800 root     DEBUG    Crawling Interpark domastic schedule site\n"
     ]
    },
    {
     "name": "stdout",
     "output_type": "stream",
     "text": [
      "End Simple crawling\n",
      "Start Simple crawling :  http://smartair.interpark.com/HtmlSearch/GetGoodsSmartList.aspx\n",
      ">> Parameters\n",
      "trip:OW , chd:0 , adt:1 , FLEX:N , SplitNo:100 , depdate0:20170829 , SeatAvail:Y , ptype:I , comp:Y , dep0:ICN , BEST:Y , JSON:Y , inf:0 , Soto:N , SeatType:A , AirLine:7C , enc:u , Change: , arr0:BKK , StayLength: , \n"
     ]
    },
    {
     "name": "stderr",
     "output_type": "stream",
     "text": [
      "2017-08-09 08:18:41,075 root     DEBUG    Crawling Interpark domastic schedule site\n"
     ]
    },
    {
     "name": "stdout",
     "output_type": "stream",
     "text": [
      "End Simple crawling\n",
      "Start Simple crawling :  http://smartair.interpark.com/HtmlSearch/GetGoodsSmartList.aspx\n",
      ">> Parameters\n",
      "trip:OW , chd:0 , adt:1 , FLEX:N , SplitNo:100 , depdate0:20170829 , SeatAvail:Y , ptype:I , comp:Y , dep0:ICN , BEST:Y , JSON:Y , inf:0 , Soto:N , SeatType:A , AirLine:LJ , enc:u , Change: , arr0:BKK , StayLength: , \n"
     ]
    },
    {
     "name": "stderr",
     "output_type": "stream",
     "text": [
      "2017-08-09 08:18:43,412 root     DEBUG    Crawling Interpark domastic schedule site\n"
     ]
    },
    {
     "name": "stdout",
     "output_type": "stream",
     "text": [
      "End Simple crawling\n",
      "Start Simple crawling :  http://smartair.interpark.com/HtmlSearch/GetGoodsSmartList.aspx\n",
      ">> Parameters\n",
      "trip:OW , chd:0 , adt:1 , FLEX:N , SplitNo:100 , depdate0:20170829 , SeatAvail:Y , ptype:I , comp:Y , dep0:ICN , BEST:Y , JSON:Y , inf:0 , Soto:N , SeatType:A , AirLine:TW , enc:u , Change: , arr0:BKK , StayLength: , \n"
     ]
    },
    {
     "name": "stderr",
     "output_type": "stream",
     "text": [
      "2017-08-09 08:18:45,853 root     DEBUG    Crawling Interpark domastic schedule site\n"
     ]
    },
    {
     "name": "stdout",
     "output_type": "stream",
     "text": [
      "End Simple crawling\n",
      "Start Simple crawling :  http://smartair.interpark.com/HtmlSearch/GetGoodsSmartList.aspx\n",
      ">> Parameters\n",
      "trip:OW , chd:0 , adt:1 , FLEX:N , SplitNo:100 , depdate0:20170829 , SeatAvail:Y , ptype:I , comp:Y , dep0:ICN , BEST:Y , JSON:Y , inf:0 , Soto:N , SeatType:A , AirLine:ZE , enc:u , Change: , arr0:BKK , StayLength: , \n"
     ]
    },
    {
     "name": "stderr",
     "output_type": "stream",
     "text": [
      "2017-08-09 08:18:48,212 root     DEBUG    Crawling Interpark domastic schedule site\n"
     ]
    },
    {
     "name": "stdout",
     "output_type": "stream",
     "text": [
      "End Simple crawling\n",
      "Start Simple crawling :  http://smartair.interpark.com/HtmlSearch/GetGoodsSmartList.aspx\n",
      ">> Parameters\n",
      "trip:OW , chd:0 , adt:1 , FLEX:N , SplitNo:100 , depdate0:20170830 , SeatAvail:Y , ptype:I , comp:Y , dep0:ICN , BEST:Y , JSON:Y , inf:0 , Soto:N , SeatType:A , AirLine:7C , enc:u , Change: , arr0:BKK , StayLength: , \n"
     ]
    },
    {
     "name": "stderr",
     "output_type": "stream",
     "text": [
      "2017-08-09 08:18:49,339 root     DEBUG    Crawling Interpark domastic schedule site\n"
     ]
    },
    {
     "name": "stdout",
     "output_type": "stream",
     "text": [
      "End Simple crawling\n",
      "Start Simple crawling :  http://smartair.interpark.com/HtmlSearch/GetGoodsSmartList.aspx\n",
      ">> Parameters\n",
      "trip:OW , chd:0 , adt:1 , FLEX:N , SplitNo:100 , depdate0:20170830 , SeatAvail:Y , ptype:I , comp:Y , dep0:ICN , BEST:Y , JSON:Y , inf:0 , Soto:N , SeatType:A , AirLine:LJ , enc:u , Change: , arr0:BKK , StayLength: , \n"
     ]
    },
    {
     "name": "stderr",
     "output_type": "stream",
     "text": [
      "2017-08-09 08:18:51,549 root     DEBUG    Crawling Interpark domastic schedule site\n"
     ]
    },
    {
     "name": "stdout",
     "output_type": "stream",
     "text": [
      "End Simple crawling\n",
      "Start Simple crawling :  http://smartair.interpark.com/HtmlSearch/GetGoodsSmartList.aspx\n",
      ">> Parameters\n",
      "trip:OW , chd:0 , adt:1 , FLEX:N , SplitNo:100 , depdate0:20170830 , SeatAvail:Y , ptype:I , comp:Y , dep0:ICN , BEST:Y , JSON:Y , inf:0 , Soto:N , SeatType:A , AirLine:TW , enc:u , Change: , arr0:BKK , StayLength: , \n"
     ]
    },
    {
     "name": "stderr",
     "output_type": "stream",
     "text": [
      "2017-08-09 08:18:53,881 root     DEBUG    Crawling Interpark domastic schedule site\n"
     ]
    },
    {
     "name": "stdout",
     "output_type": "stream",
     "text": [
      "End Simple crawling\n",
      "Start Simple crawling :  http://smartair.interpark.com/HtmlSearch/GetGoodsSmartList.aspx\n",
      ">> Parameters\n",
      "trip:OW , chd:0 , adt:1 , FLEX:N , SplitNo:100 , depdate0:20170830 , SeatAvail:Y , ptype:I , comp:Y , dep0:ICN , BEST:Y , JSON:Y , inf:0 , Soto:N , SeatType:A , AirLine:ZE , enc:u , Change: , arr0:BKK , StayLength: , \n"
     ]
    },
    {
     "name": "stderr",
     "output_type": "stream",
     "text": [
      "2017-08-09 08:18:56,021 root     INFO     end batch job :: craw_by_route_site :: elapsed -0:02:35.873915 :: Total crawl:84 files saved.\n",
      "2017-08-09 08:18:56,024 root     INFO     start batch job :: craw_by_route_site[ICN,FUK,IP,['20170810', '20170811', '20170812', '20170813', '20170814', '20170815', '20170816', '20170817', '20170818', '20170819', '20170820', '20170821', '20170822', '20170823', '20170824', '20170825', '20170826', '20170827', '20170828', '20170829', '20170830'],['7C', 'LJ', 'TW', 'ZE']]\n",
      "2017-08-09 08:18:56,028 root     DEBUG    1 :: IP :: crawling_IP_int :: False\n",
      "2017-08-09 08:18:56,032 root     INFO     <function crawling_IP_int at 0x0000000007FA67B8> :: False\n",
      "2017-08-09 08:18:56,035 root     DEBUG    Crawling Interpark domastic schedule site\n"
     ]
    },
    {
     "name": "stdout",
     "output_type": "stream",
     "text": [
      "End Simple crawling\n",
      "Start Simple crawling :  http://smartair.interpark.com/HtmlSearch/GetGoodsSmartList.aspx\n",
      ">> Parameters\n",
      "trip:OW , chd:0 , adt:1 , FLEX:N , SplitNo:100 , depdate0:20170810 , SeatAvail:Y , ptype:I , comp:Y , dep0:ICN , BEST:Y , JSON:Y , inf:0 , Soto:N , SeatType:A , AirLine:7C , enc:u , Change: , arr0:FUK , StayLength: , \n"
     ]
    },
    {
     "name": "stderr",
     "output_type": "stream",
     "text": [
      "2017-08-09 08:18:56,711 root     DEBUG    Crawling Interpark domastic schedule site\n",
      "2017-08-09 08:18:56,787 root     DEBUG    Crawling Interpark domastic schedule site\n",
      "2017-08-09 08:18:56,876 root     DEBUG    Crawling Interpark domastic schedule site\n"
     ]
    },
    {
     "name": "stdout",
     "output_type": "stream",
     "text": [
      "End Simple crawling\n",
      "Start Simple crawling :  http://smartair.interpark.com/HtmlSearch/GetGoodsSmartList.aspx\n",
      ">> Parameters\n",
      "trip:OW , chd:0 , adt:1 , FLEX:N , SplitNo:100 , depdate0:20170810 , SeatAvail:Y , ptype:I , comp:Y , dep0:ICN , BEST:Y , JSON:Y , inf:0 , Soto:N , SeatType:A , AirLine:LJ , enc:u , Change: , arr0:FUK , StayLength: , \n",
      "End Simple crawling\n",
      "Start Simple crawling :  http://smartair.interpark.com/HtmlSearch/GetGoodsSmartList.aspx\n",
      ">> Parameters\n",
      "trip:OW , chd:0 , adt:1 , FLEX:N , SplitNo:100 , depdate0:20170810 , SeatAvail:Y , ptype:I , comp:Y , dep0:ICN , BEST:Y , JSON:Y , inf:0 , Soto:N , SeatType:A , AirLine:TW , enc:u , Change: , arr0:FUK , StayLength: , \n",
      "End Simple crawling\n",
      "Start Simple crawling :  http://smartair.interpark.com/HtmlSearch/GetGoodsSmartList.aspx\n",
      ">> Parameters\n",
      "trip:OW , chd:0 , adt:1 , FLEX:N , SplitNo:100 , depdate0:20170810 , SeatAvail:Y , ptype:I , comp:Y , dep0:ICN , BEST:Y , JSON:Y , inf:0 , Soto:N , SeatType:A , AirLine:ZE , enc:u , Change: , arr0:FUK , StayLength: , \n"
     ]
    },
    {
     "name": "stderr",
     "output_type": "stream",
     "text": [
      "2017-08-09 08:18:59,037 root     DEBUG    Crawling Interpark domastic schedule site\n"
     ]
    },
    {
     "name": "stdout",
     "output_type": "stream",
     "text": [
      "End Simple crawling\n",
      "Start Simple crawling :  http://smartair.interpark.com/HtmlSearch/GetGoodsSmartList.aspx\n",
      ">> Parameters\n",
      "trip:OW , chd:0 , adt:1 , FLEX:N , SplitNo:100 , depdate0:20170811 , SeatAvail:Y , ptype:I , comp:Y , dep0:ICN , BEST:Y , JSON:Y , inf:0 , Soto:N , SeatType:A , AirLine:7C , enc:u , Change: , arr0:FUK , StayLength: , \n"
     ]
    },
    {
     "name": "stderr",
     "output_type": "stream",
     "text": [
      "2017-08-09 08:18:59,780 root     DEBUG    Crawling Interpark domastic schedule site\n"
     ]
    },
    {
     "name": "stdout",
     "output_type": "stream",
     "text": [
      "End Simple crawling\n",
      "Start Simple crawling :  http://smartair.interpark.com/HtmlSearch/GetGoodsSmartList.aspx\n",
      ">> Parameters\n",
      "trip:OW , chd:0 , adt:1 , FLEX:N , SplitNo:100 , depdate0:20170811 , SeatAvail:Y , ptype:I , comp:Y , dep0:ICN , BEST:Y , JSON:Y , inf:0 , Soto:N , SeatType:A , AirLine:LJ , enc:u , Change: , arr0:FUK , StayLength: , \n"
     ]
    },
    {
     "name": "stderr",
     "output_type": "stream",
     "text": [
      "2017-08-09 08:19:02,253 root     DEBUG    Crawling Interpark domastic schedule site\n",
      "2017-08-09 08:19:02,322 root     DEBUG    Crawling Interpark domastic schedule site\n"
     ]
    },
    {
     "name": "stdout",
     "output_type": "stream",
     "text": [
      "End Simple crawling\n",
      "Start Simple crawling :  http://smartair.interpark.com/HtmlSearch/GetGoodsSmartList.aspx\n",
      ">> Parameters\n",
      "trip:OW , chd:0 , adt:1 , FLEX:N , SplitNo:100 , depdate0:20170811 , SeatAvail:Y , ptype:I , comp:Y , dep0:ICN , BEST:Y , JSON:Y , inf:0 , Soto:N , SeatType:A , AirLine:TW , enc:u , Change: , arr0:FUK , StayLength: , \n",
      "End Simple crawling\n",
      "Start Simple crawling :  http://smartair.interpark.com/HtmlSearch/GetGoodsSmartList.aspx\n",
      ">> Parameters\n",
      "trip:OW , chd:0 , adt:1 , FLEX:N , SplitNo:100 , depdate0:20170811 , SeatAvail:Y , ptype:I , comp:Y , dep0:ICN , BEST:Y , JSON:Y , inf:0 , Soto:N , SeatType:A , AirLine:ZE , enc:u , Change: , arr0:FUK , StayLength: , \n"
     ]
    },
    {
     "name": "stderr",
     "output_type": "stream",
     "text": [
      "2017-08-09 08:19:04,770 root     DEBUG    Crawling Interpark domastic schedule site\n"
     ]
    },
    {
     "name": "stdout",
     "output_type": "stream",
     "text": [
      "End Simple crawling\n",
      "Start Simple crawling :  http://smartair.interpark.com/HtmlSearch/GetGoodsSmartList.aspx\n",
      ">> Parameters\n",
      "trip:OW , chd:0 , adt:1 , FLEX:N , SplitNo:100 , depdate0:20170812 , SeatAvail:Y , ptype:I , comp:Y , dep0:ICN , BEST:Y , JSON:Y , inf:0 , Soto:N , SeatType:A , AirLine:7C , enc:u , Change: , arr0:FUK , StayLength: , \n"
     ]
    },
    {
     "name": "stderr",
     "output_type": "stream",
     "text": [
      "2017-08-09 08:19:05,420 root     DEBUG    Crawling Interpark domastic schedule site\n"
     ]
    },
    {
     "name": "stdout",
     "output_type": "stream",
     "text": [
      "End Simple crawling\n",
      "Start Simple crawling :  http://smartair.interpark.com/HtmlSearch/GetGoodsSmartList.aspx\n",
      ">> Parameters\n",
      "trip:OW , chd:0 , adt:1 , FLEX:N , SplitNo:100 , depdate0:20170812 , SeatAvail:Y , ptype:I , comp:Y , dep0:ICN , BEST:Y , JSON:Y , inf:0 , Soto:N , SeatType:A , AirLine:LJ , enc:u , Change: , arr0:FUK , StayLength: , \n"
     ]
    },
    {
     "name": "stderr",
     "output_type": "stream",
     "text": [
      "2017-08-09 08:19:07,873 root     DEBUG    Crawling Interpark domastic schedule site\n"
     ]
    },
    {
     "name": "stdout",
     "output_type": "stream",
     "text": [
      "End Simple crawling\n",
      "Start Simple crawling :  http://smartair.interpark.com/HtmlSearch/GetGoodsSmartList.aspx\n",
      ">> Parameters\n",
      "trip:OW , chd:0 , adt:1 , FLEX:N , SplitNo:100 , depdate0:20170812 , SeatAvail:Y , ptype:I , comp:Y , dep0:ICN , BEST:Y , JSON:Y , inf:0 , Soto:N , SeatType:A , AirLine:TW , enc:u , Change: , arr0:FUK , StayLength: , \n"
     ]
    },
    {
     "name": "stderr",
     "output_type": "stream",
     "text": [
      "2017-08-09 08:19:10,968 root     DEBUG    Crawling Interpark domastic schedule site\n"
     ]
    },
    {
     "name": "stdout",
     "output_type": "stream",
     "text": [
      "End Simple crawling\n",
      "Start Simple crawling :  http://smartair.interpark.com/HtmlSearch/GetGoodsSmartList.aspx\n",
      ">> Parameters\n",
      "trip:OW , chd:0 , adt:1 , FLEX:N , SplitNo:100 , depdate0:20170812 , SeatAvail:Y , ptype:I , comp:Y , dep0:ICN , BEST:Y , JSON:Y , inf:0 , Soto:N , SeatType:A , AirLine:ZE , enc:u , Change: , arr0:FUK , StayLength: , \n"
     ]
    },
    {
     "name": "stderr",
     "output_type": "stream",
     "text": [
      "2017-08-09 08:19:13,184 root     DEBUG    Crawling Interpark domastic schedule site\n"
     ]
    },
    {
     "name": "stdout",
     "output_type": "stream",
     "text": [
      "End Simple crawling\n",
      "Start Simple crawling :  http://smartair.interpark.com/HtmlSearch/GetGoodsSmartList.aspx\n",
      ">> Parameters\n",
      "trip:OW , chd:0 , adt:1 , FLEX:N , SplitNo:100 , depdate0:20170813 , SeatAvail:Y , ptype:I , comp:Y , dep0:ICN , BEST:Y , JSON:Y , inf:0 , Soto:N , SeatType:A , AirLine:7C , enc:u , Change: , arr0:FUK , StayLength: , \n"
     ]
    },
    {
     "name": "stderr",
     "output_type": "stream",
     "text": [
      "2017-08-09 08:19:13,893 root     DEBUG    Crawling Interpark domastic schedule site\n"
     ]
    },
    {
     "name": "stdout",
     "output_type": "stream",
     "text": [
      "End Simple crawling\n",
      "Start Simple crawling :  http://smartair.interpark.com/HtmlSearch/GetGoodsSmartList.aspx\n",
      ">> Parameters\n",
      "trip:OW , chd:0 , adt:1 , FLEX:N , SplitNo:100 , depdate0:20170813 , SeatAvail:Y , ptype:I , comp:Y , dep0:ICN , BEST:Y , JSON:Y , inf:0 , Soto:N , SeatType:A , AirLine:LJ , enc:u , Change: , arr0:FUK , StayLength: , \n"
     ]
    },
    {
     "name": "stderr",
     "output_type": "stream",
     "text": [
      "2017-08-09 08:19:16,317 root     DEBUG    Crawling Interpark domastic schedule site\n"
     ]
    },
    {
     "name": "stdout",
     "output_type": "stream",
     "text": [
      "End Simple crawling\n",
      "Start Simple crawling :  http://smartair.interpark.com/HtmlSearch/GetGoodsSmartList.aspx\n",
      ">> Parameters\n",
      "trip:OW , chd:0 , adt:1 , FLEX:N , SplitNo:100 , depdate0:20170813 , SeatAvail:Y , ptype:I , comp:Y , dep0:ICN , BEST:Y , JSON:Y , inf:0 , Soto:N , SeatType:A , AirLine:TW , enc:u , Change: , arr0:FUK , StayLength: , \n"
     ]
    },
    {
     "name": "stderr",
     "output_type": "stream",
     "text": [
      "2017-08-09 08:19:18,599 root     DEBUG    Crawling Interpark domastic schedule site\n"
     ]
    },
    {
     "name": "stdout",
     "output_type": "stream",
     "text": [
      "End Simple crawling\n",
      "Start Simple crawling :  http://smartair.interpark.com/HtmlSearch/GetGoodsSmartList.aspx\n",
      ">> Parameters\n",
      "trip:OW , chd:0 , adt:1 , FLEX:N , SplitNo:100 , depdate0:20170813 , SeatAvail:Y , ptype:I , comp:Y , dep0:ICN , BEST:Y , JSON:Y , inf:0 , Soto:N , SeatType:A , AirLine:ZE , enc:u , Change: , arr0:FUK , StayLength: , \n"
     ]
    },
    {
     "name": "stderr",
     "output_type": "stream",
     "text": [
      "2017-08-09 08:19:20,896 root     DEBUG    Crawling Interpark domastic schedule site\n"
     ]
    },
    {
     "name": "stdout",
     "output_type": "stream",
     "text": [
      "End Simple crawling\n",
      "Start Simple crawling :  http://smartair.interpark.com/HtmlSearch/GetGoodsSmartList.aspx\n",
      ">> Parameters\n",
      "trip:OW , chd:0 , adt:1 , FLEX:N , SplitNo:100 , depdate0:20170814 , SeatAvail:Y , ptype:I , comp:Y , dep0:ICN , BEST:Y , JSON:Y , inf:0 , Soto:N , SeatType:A , AirLine:7C , enc:u , Change: , arr0:FUK , StayLength: , \n"
     ]
    },
    {
     "name": "stderr",
     "output_type": "stream",
     "text": [
      "2017-08-09 08:19:21,815 root     DEBUG    Crawling Interpark domastic schedule site\n"
     ]
    },
    {
     "name": "stdout",
     "output_type": "stream",
     "text": [
      "End Simple crawling\n",
      "Start Simple crawling :  http://smartair.interpark.com/HtmlSearch/GetGoodsSmartList.aspx\n",
      ">> Parameters\n",
      "trip:OW , chd:0 , adt:1 , FLEX:N , SplitNo:100 , depdate0:20170814 , SeatAvail:Y , ptype:I , comp:Y , dep0:ICN , BEST:Y , JSON:Y , inf:0 , Soto:N , SeatType:A , AirLine:LJ , enc:u , Change: , arr0:FUK , StayLength: , \n"
     ]
    },
    {
     "name": "stderr",
     "output_type": "stream",
     "text": [
      "2017-08-09 08:19:24,026 root     DEBUG    Crawling Interpark domastic schedule site\n"
     ]
    },
    {
     "name": "stdout",
     "output_type": "stream",
     "text": [
      "End Simple crawling\n",
      "Start Simple crawling :  http://smartair.interpark.com/HtmlSearch/GetGoodsSmartList.aspx\n",
      ">> Parameters\n",
      "trip:OW , chd:0 , adt:1 , FLEX:N , SplitNo:100 , depdate0:20170814 , SeatAvail:Y , ptype:I , comp:Y , dep0:ICN , BEST:Y , JSON:Y , inf:0 , Soto:N , SeatType:A , AirLine:TW , enc:u , Change: , arr0:FUK , StayLength: , \n"
     ]
    },
    {
     "name": "stderr",
     "output_type": "stream",
     "text": [
      "2017-08-09 08:19:26,191 root     DEBUG    Crawling Interpark domastic schedule site\n"
     ]
    },
    {
     "name": "stdout",
     "output_type": "stream",
     "text": [
      "End Simple crawling\n",
      "Start Simple crawling :  http://smartair.interpark.com/HtmlSearch/GetGoodsSmartList.aspx\n",
      ">> Parameters\n",
      "trip:OW , chd:0 , adt:1 , FLEX:N , SplitNo:100 , depdate0:20170814 , SeatAvail:Y , ptype:I , comp:Y , dep0:ICN , BEST:Y , JSON:Y , inf:0 , Soto:N , SeatType:A , AirLine:ZE , enc:u , Change: , arr0:FUK , StayLength: , \n"
     ]
    },
    {
     "name": "stderr",
     "output_type": "stream",
     "text": [
      "2017-08-09 08:19:28,456 root     DEBUG    Crawling Interpark domastic schedule site\n"
     ]
    },
    {
     "name": "stdout",
     "output_type": "stream",
     "text": [
      "End Simple crawling\n",
      "Start Simple crawling :  http://smartair.interpark.com/HtmlSearch/GetGoodsSmartList.aspx\n",
      ">> Parameters\n",
      "trip:OW , chd:0 , adt:1 , FLEX:N , SplitNo:100 , depdate0:20170815 , SeatAvail:Y , ptype:I , comp:Y , dep0:ICN , BEST:Y , JSON:Y , inf:0 , Soto:N , SeatType:A , AirLine:7C , enc:u , Change: , arr0:FUK , StayLength: , \n"
     ]
    },
    {
     "name": "stderr",
     "output_type": "stream",
     "text": [
      "2017-08-09 08:19:29,308 root     DEBUG    Crawling Interpark domastic schedule site\n"
     ]
    },
    {
     "name": "stdout",
     "output_type": "stream",
     "text": [
      "End Simple crawling\n",
      "Start Simple crawling :  http://smartair.interpark.com/HtmlSearch/GetGoodsSmartList.aspx\n",
      ">> Parameters\n",
      "trip:OW , chd:0 , adt:1 , FLEX:N , SplitNo:100 , depdate0:20170815 , SeatAvail:Y , ptype:I , comp:Y , dep0:ICN , BEST:Y , JSON:Y , inf:0 , Soto:N , SeatType:A , AirLine:LJ , enc:u , Change: , arr0:FUK , StayLength: , \n"
     ]
    },
    {
     "name": "stderr",
     "output_type": "stream",
     "text": [
      "2017-08-09 08:19:31,795 root     DEBUG    Crawling Interpark domastic schedule site\n"
     ]
    },
    {
     "name": "stdout",
     "output_type": "stream",
     "text": [
      "End Simple crawling\n",
      "Start Simple crawling :  http://smartair.interpark.com/HtmlSearch/GetGoodsSmartList.aspx\n",
      ">> Parameters\n",
      "trip:OW , chd:0 , adt:1 , FLEX:N , SplitNo:100 , depdate0:20170815 , SeatAvail:Y , ptype:I , comp:Y , dep0:ICN , BEST:Y , JSON:Y , inf:0 , Soto:N , SeatType:A , AirLine:TW , enc:u , Change: , arr0:FUK , StayLength: , \n"
     ]
    },
    {
     "name": "stderr",
     "output_type": "stream",
     "text": [
      "2017-08-09 08:19:34,059 root     DEBUG    Crawling Interpark domastic schedule site\n"
     ]
    },
    {
     "name": "stdout",
     "output_type": "stream",
     "text": [
      "End Simple crawling\n",
      "Start Simple crawling :  http://smartair.interpark.com/HtmlSearch/GetGoodsSmartList.aspx\n",
      ">> Parameters\n",
      "trip:OW , chd:0 , adt:1 , FLEX:N , SplitNo:100 , depdate0:20170815 , SeatAvail:Y , ptype:I , comp:Y , dep0:ICN , BEST:Y , JSON:Y , inf:0 , Soto:N , SeatType:A , AirLine:ZE , enc:u , Change: , arr0:FUK , StayLength: , \n"
     ]
    },
    {
     "name": "stderr",
     "output_type": "stream",
     "text": [
      "2017-08-09 08:19:36,640 root     DEBUG    Crawling Interpark domastic schedule site\n"
     ]
    },
    {
     "name": "stdout",
     "output_type": "stream",
     "text": [
      "End Simple crawling\n",
      "Start Simple crawling :  http://smartair.interpark.com/HtmlSearch/GetGoodsSmartList.aspx\n",
      ">> Parameters\n",
      "trip:OW , chd:0 , adt:1 , FLEX:N , SplitNo:100 , depdate0:20170816 , SeatAvail:Y , ptype:I , comp:Y , dep0:ICN , BEST:Y , JSON:Y , inf:0 , Soto:N , SeatType:A , AirLine:7C , enc:u , Change: , arr0:FUK , StayLength: , \n"
     ]
    },
    {
     "name": "stderr",
     "output_type": "stream",
     "text": [
      "2017-08-09 08:19:37,307 root     DEBUG    Crawling Interpark domastic schedule site\n"
     ]
    },
    {
     "name": "stdout",
     "output_type": "stream",
     "text": [
      "End Simple crawling\n",
      "Start Simple crawling :  http://smartair.interpark.com/HtmlSearch/GetGoodsSmartList.aspx\n",
      ">> Parameters\n",
      "trip:OW , chd:0 , adt:1 , FLEX:N , SplitNo:100 , depdate0:20170816 , SeatAvail:Y , ptype:I , comp:Y , dep0:ICN , BEST:Y , JSON:Y , inf:0 , Soto:N , SeatType:A , AirLine:LJ , enc:u , Change: , arr0:FUK , StayLength: , \n"
     ]
    },
    {
     "name": "stderr",
     "output_type": "stream",
     "text": [
      "2017-08-09 08:19:39,911 root     DEBUG    Crawling Interpark domastic schedule site\n"
     ]
    },
    {
     "name": "stdout",
     "output_type": "stream",
     "text": [
      "End Simple crawling\n",
      "Start Simple crawling :  http://smartair.interpark.com/HtmlSearch/GetGoodsSmartList.aspx\n",
      ">> Parameters\n",
      "trip:OW , chd:0 , adt:1 , FLEX:N , SplitNo:100 , depdate0:20170816 , SeatAvail:Y , ptype:I , comp:Y , dep0:ICN , BEST:Y , JSON:Y , inf:0 , Soto:N , SeatType:A , AirLine:TW , enc:u , Change: , arr0:FUK , StayLength: , \n"
     ]
    },
    {
     "name": "stderr",
     "output_type": "stream",
     "text": [
      "2017-08-09 08:19:42,142 root     DEBUG    Crawling Interpark domastic schedule site\n"
     ]
    },
    {
     "name": "stdout",
     "output_type": "stream",
     "text": [
      "End Simple crawling\n",
      "Start Simple crawling :  http://smartair.interpark.com/HtmlSearch/GetGoodsSmartList.aspx\n",
      ">> Parameters\n",
      "trip:OW , chd:0 , adt:1 , FLEX:N , SplitNo:100 , depdate0:20170816 , SeatAvail:Y , ptype:I , comp:Y , dep0:ICN , BEST:Y , JSON:Y , inf:0 , Soto:N , SeatType:A , AirLine:ZE , enc:u , Change: , arr0:FUK , StayLength: , \n"
     ]
    },
    {
     "name": "stderr",
     "output_type": "stream",
     "text": [
      "2017-08-09 08:19:44,518 root     DEBUG    Crawling Interpark domastic schedule site\n"
     ]
    },
    {
     "name": "stdout",
     "output_type": "stream",
     "text": [
      "End Simple crawling\n",
      "Start Simple crawling :  http://smartair.interpark.com/HtmlSearch/GetGoodsSmartList.aspx\n",
      ">> Parameters\n",
      "trip:OW , chd:0 , adt:1 , FLEX:N , SplitNo:100 , depdate0:20170817 , SeatAvail:Y , ptype:I , comp:Y , dep0:ICN , BEST:Y , JSON:Y , inf:0 , Soto:N , SeatType:A , AirLine:7C , enc:u , Change: , arr0:FUK , StayLength: , \n"
     ]
    },
    {
     "name": "stderr",
     "output_type": "stream",
     "text": [
      "2017-08-09 08:19:45,084 root     DEBUG    Crawling Interpark domastic schedule site\n"
     ]
    },
    {
     "name": "stdout",
     "output_type": "stream",
     "text": [
      "End Simple crawling\n",
      "Start Simple crawling :  http://smartair.interpark.com/HtmlSearch/GetGoodsSmartList.aspx\n",
      ">> Parameters\n",
      "trip:OW , chd:0 , adt:1 , FLEX:N , SplitNo:100 , depdate0:20170817 , SeatAvail:Y , ptype:I , comp:Y , dep0:ICN , BEST:Y , JSON:Y , inf:0 , Soto:N , SeatType:A , AirLine:LJ , enc:u , Change: , arr0:FUK , StayLength: , \n"
     ]
    },
    {
     "name": "stderr",
     "output_type": "stream",
     "text": [
      "2017-08-09 08:19:47,727 root     DEBUG    Crawling Interpark domastic schedule site\n"
     ]
    },
    {
     "name": "stdout",
     "output_type": "stream",
     "text": [
      "End Simple crawling\n",
      "Start Simple crawling :  http://smartair.interpark.com/HtmlSearch/GetGoodsSmartList.aspx\n",
      ">> Parameters\n",
      "trip:OW , chd:0 , adt:1 , FLEX:N , SplitNo:100 , depdate0:20170817 , SeatAvail:Y , ptype:I , comp:Y , dep0:ICN , BEST:Y , JSON:Y , inf:0 , Soto:N , SeatType:A , AirLine:TW , enc:u , Change: , arr0:FUK , StayLength: , \n"
     ]
    },
    {
     "name": "stderr",
     "output_type": "stream",
     "text": [
      "2017-08-09 08:19:50,049 root     DEBUG    Crawling Interpark domastic schedule site\n"
     ]
    },
    {
     "name": "stdout",
     "output_type": "stream",
     "text": [
      "End Simple crawling\n",
      "Start Simple crawling :  http://smartair.interpark.com/HtmlSearch/GetGoodsSmartList.aspx\n",
      ">> Parameters\n",
      "trip:OW , chd:0 , adt:1 , FLEX:N , SplitNo:100 , depdate0:20170817 , SeatAvail:Y , ptype:I , comp:Y , dep0:ICN , BEST:Y , JSON:Y , inf:0 , Soto:N , SeatType:A , AirLine:ZE , enc:u , Change: , arr0:FUK , StayLength: , \n"
     ]
    },
    {
     "name": "stderr",
     "output_type": "stream",
     "text": [
      "2017-08-09 08:19:52,343 root     DEBUG    Crawling Interpark domastic schedule site\n"
     ]
    },
    {
     "name": "stdout",
     "output_type": "stream",
     "text": [
      "End Simple crawling\n",
      "Start Simple crawling :  http://smartair.interpark.com/HtmlSearch/GetGoodsSmartList.aspx\n",
      ">> Parameters\n",
      "trip:OW , chd:0 , adt:1 , FLEX:N , SplitNo:100 , depdate0:20170818 , SeatAvail:Y , ptype:I , comp:Y , dep0:ICN , BEST:Y , JSON:Y , inf:0 , Soto:N , SeatType:A , AirLine:7C , enc:u , Change: , arr0:FUK , StayLength: , \n"
     ]
    },
    {
     "name": "stderr",
     "output_type": "stream",
     "text": [
      "2017-08-09 08:19:53,000 root     DEBUG    Crawling Interpark domastic schedule site\n"
     ]
    },
    {
     "name": "stdout",
     "output_type": "stream",
     "text": [
      "End Simple crawling\n",
      "Start Simple crawling :  http://smartair.interpark.com/HtmlSearch/GetGoodsSmartList.aspx\n",
      ">> Parameters\n",
      "trip:OW , chd:0 , adt:1 , FLEX:N , SplitNo:100 , depdate0:20170818 , SeatAvail:Y , ptype:I , comp:Y , dep0:ICN , BEST:Y , JSON:Y , inf:0 , Soto:N , SeatType:A , AirLine:LJ , enc:u , Change: , arr0:FUK , StayLength: , \n"
     ]
    },
    {
     "name": "stderr",
     "output_type": "stream",
     "text": [
      "2017-08-09 08:19:55,408 root     DEBUG    Crawling Interpark domastic schedule site\n"
     ]
    },
    {
     "name": "stdout",
     "output_type": "stream",
     "text": [
      "End Simple crawling\n",
      "Start Simple crawling :  http://smartair.interpark.com/HtmlSearch/GetGoodsSmartList.aspx\n",
      ">> Parameters\n",
      "trip:OW , chd:0 , adt:1 , FLEX:N , SplitNo:100 , depdate0:20170818 , SeatAvail:Y , ptype:I , comp:Y , dep0:ICN , BEST:Y , JSON:Y , inf:0 , Soto:N , SeatType:A , AirLine:TW , enc:u , Change: , arr0:FUK , StayLength: , \n"
     ]
    },
    {
     "name": "stderr",
     "output_type": "stream",
     "text": [
      "2017-08-09 08:19:57,700 root     DEBUG    Crawling Interpark domastic schedule site\n"
     ]
    },
    {
     "name": "stdout",
     "output_type": "stream",
     "text": [
      "End Simple crawling\n",
      "Start Simple crawling :  http://smartair.interpark.com/HtmlSearch/GetGoodsSmartList.aspx\n",
      ">> Parameters\n",
      "trip:OW , chd:0 , adt:1 , FLEX:N , SplitNo:100 , depdate0:20170818 , SeatAvail:Y , ptype:I , comp:Y , dep0:ICN , BEST:Y , JSON:Y , inf:0 , Soto:N , SeatType:A , AirLine:ZE , enc:u , Change: , arr0:FUK , StayLength: , \n"
     ]
    },
    {
     "name": "stderr",
     "output_type": "stream",
     "text": [
      "2017-08-09 08:20:00,281 root     DEBUG    Crawling Interpark domastic schedule site\n"
     ]
    },
    {
     "name": "stdout",
     "output_type": "stream",
     "text": [
      "End Simple crawling\n",
      "Start Simple crawling :  http://smartair.interpark.com/HtmlSearch/GetGoodsSmartList.aspx\n",
      ">> Parameters\n",
      "trip:OW , chd:0 , adt:1 , FLEX:N , SplitNo:100 , depdate0:20170819 , SeatAvail:Y , ptype:I , comp:Y , dep0:ICN , BEST:Y , JSON:Y , inf:0 , Soto:N , SeatType:A , AirLine:7C , enc:u , Change: , arr0:FUK , StayLength: , \n"
     ]
    },
    {
     "name": "stderr",
     "output_type": "stream",
     "text": [
      "2017-08-09 08:20:01,124 root     DEBUG    Crawling Interpark domastic schedule site\n"
     ]
    },
    {
     "name": "stdout",
     "output_type": "stream",
     "text": [
      "End Simple crawling\n",
      "Start Simple crawling :  http://smartair.interpark.com/HtmlSearch/GetGoodsSmartList.aspx\n",
      ">> Parameters\n",
      "trip:OW , chd:0 , adt:1 , FLEX:N , SplitNo:100 , depdate0:20170819 , SeatAvail:Y , ptype:I , comp:Y , dep0:ICN , BEST:Y , JSON:Y , inf:0 , Soto:N , SeatType:A , AirLine:LJ , enc:u , Change: , arr0:FUK , StayLength: , \n"
     ]
    },
    {
     "name": "stderr",
     "output_type": "stream",
     "text": [
      "2017-08-09 08:20:03,605 root     DEBUG    Crawling Interpark domastic schedule site\n"
     ]
    },
    {
     "name": "stdout",
     "output_type": "stream",
     "text": [
      "End Simple crawling\n",
      "Start Simple crawling :  http://smartair.interpark.com/HtmlSearch/GetGoodsSmartList.aspx\n",
      ">> Parameters\n",
      "trip:OW , chd:0 , adt:1 , FLEX:N , SplitNo:100 , depdate0:20170819 , SeatAvail:Y , ptype:I , comp:Y , dep0:ICN , BEST:Y , JSON:Y , inf:0 , Soto:N , SeatType:A , AirLine:TW , enc:u , Change: , arr0:FUK , StayLength: , \n"
     ]
    },
    {
     "name": "stderr",
     "output_type": "stream",
     "text": [
      "2017-08-09 08:20:06,159 root     DEBUG    Crawling Interpark domastic schedule site\n"
     ]
    },
    {
     "name": "stdout",
     "output_type": "stream",
     "text": [
      "End Simple crawling\n",
      "Start Simple crawling :  http://smartair.interpark.com/HtmlSearch/GetGoodsSmartList.aspx\n",
      ">> Parameters\n",
      "trip:OW , chd:0 , adt:1 , FLEX:N , SplitNo:100 , depdate0:20170819 , SeatAvail:Y , ptype:I , comp:Y , dep0:ICN , BEST:Y , JSON:Y , inf:0 , Soto:N , SeatType:A , AirLine:ZE , enc:u , Change: , arr0:FUK , StayLength: , \n"
     ]
    },
    {
     "name": "stderr",
     "output_type": "stream",
     "text": [
      "2017-08-09 08:20:09,421 root     DEBUG    Crawling Interpark domastic schedule site\n"
     ]
    },
    {
     "name": "stdout",
     "output_type": "stream",
     "text": [
      "End Simple crawling\n",
      "Start Simple crawling :  http://smartair.interpark.com/HtmlSearch/GetGoodsSmartList.aspx\n",
      ">> Parameters\n",
      "trip:OW , chd:0 , adt:1 , FLEX:N , SplitNo:100 , depdate0:20170820 , SeatAvail:Y , ptype:I , comp:Y , dep0:ICN , BEST:Y , JSON:Y , inf:0 , Soto:N , SeatType:A , AirLine:7C , enc:u , Change: , arr0:FUK , StayLength: , \n"
     ]
    },
    {
     "name": "stderr",
     "output_type": "stream",
     "text": [
      "2017-08-09 08:20:10,012 root     DEBUG    Crawling Interpark domastic schedule site\n"
     ]
    },
    {
     "name": "stdout",
     "output_type": "stream",
     "text": [
      "End Simple crawling\n",
      "Start Simple crawling :  http://smartair.interpark.com/HtmlSearch/GetGoodsSmartList.aspx\n",
      ">> Parameters\n",
      "trip:OW , chd:0 , adt:1 , FLEX:N , SplitNo:100 , depdate0:20170820 , SeatAvail:Y , ptype:I , comp:Y , dep0:ICN , BEST:Y , JSON:Y , inf:0 , Soto:N , SeatType:A , AirLine:LJ , enc:u , Change: , arr0:FUK , StayLength: , \n"
     ]
    },
    {
     "name": "stderr",
     "output_type": "stream",
     "text": [
      "2017-08-09 08:20:12,271 root     DEBUG    Crawling Interpark domastic schedule site\n"
     ]
    },
    {
     "name": "stdout",
     "output_type": "stream",
     "text": [
      "End Simple crawling\n",
      "Start Simple crawling :  http://smartair.interpark.com/HtmlSearch/GetGoodsSmartList.aspx\n",
      ">> Parameters\n",
      "trip:OW , chd:0 , adt:1 , FLEX:N , SplitNo:100 , depdate0:20170820 , SeatAvail:Y , ptype:I , comp:Y , dep0:ICN , BEST:Y , JSON:Y , inf:0 , Soto:N , SeatType:A , AirLine:TW , enc:u , Change: , arr0:FUK , StayLength: , \n"
     ]
    },
    {
     "name": "stderr",
     "output_type": "stream",
     "text": [
      "2017-08-09 08:20:14,447 root     DEBUG    Crawling Interpark domastic schedule site\n"
     ]
    },
    {
     "name": "stdout",
     "output_type": "stream",
     "text": [
      "End Simple crawling\n",
      "Start Simple crawling :  http://smartair.interpark.com/HtmlSearch/GetGoodsSmartList.aspx\n",
      ">> Parameters\n",
      "trip:OW , chd:0 , adt:1 , FLEX:N , SplitNo:100 , depdate0:20170820 , SeatAvail:Y , ptype:I , comp:Y , dep0:ICN , BEST:Y , JSON:Y , inf:0 , Soto:N , SeatType:A , AirLine:ZE , enc:u , Change: , arr0:FUK , StayLength: , \n"
     ]
    },
    {
     "name": "stderr",
     "output_type": "stream",
     "text": [
      "2017-08-09 08:20:16,762 root     DEBUG    Crawling Interpark domastic schedule site\n"
     ]
    },
    {
     "name": "stdout",
     "output_type": "stream",
     "text": [
      "End Simple crawling\n",
      "Start Simple crawling :  http://smartair.interpark.com/HtmlSearch/GetGoodsSmartList.aspx\n",
      ">> Parameters\n",
      "trip:OW , chd:0 , adt:1 , FLEX:N , SplitNo:100 , depdate0:20170821 , SeatAvail:Y , ptype:I , comp:Y , dep0:ICN , BEST:Y , JSON:Y , inf:0 , Soto:N , SeatType:A , AirLine:7C , enc:u , Change: , arr0:FUK , StayLength: , \n"
     ]
    },
    {
     "name": "stderr",
     "output_type": "stream",
     "text": [
      "2017-08-09 08:20:17,436 root     DEBUG    Crawling Interpark domastic schedule site\n"
     ]
    },
    {
     "name": "stdout",
     "output_type": "stream",
     "text": [
      "End Simple crawling\n",
      "Start Simple crawling :  http://smartair.interpark.com/HtmlSearch/GetGoodsSmartList.aspx\n",
      ">> Parameters\n",
      "trip:OW , chd:0 , adt:1 , FLEX:N , SplitNo:100 , depdate0:20170821 , SeatAvail:Y , ptype:I , comp:Y , dep0:ICN , BEST:Y , JSON:Y , inf:0 , Soto:N , SeatType:A , AirLine:LJ , enc:u , Change: , arr0:FUK , StayLength: , \n"
     ]
    },
    {
     "name": "stderr",
     "output_type": "stream",
     "text": [
      "2017-08-09 08:20:19,855 root     DEBUG    Crawling Interpark domastic schedule site\n"
     ]
    },
    {
     "name": "stdout",
     "output_type": "stream",
     "text": [
      "End Simple crawling\n",
      "Start Simple crawling :  http://smartair.interpark.com/HtmlSearch/GetGoodsSmartList.aspx\n",
      ">> Parameters\n",
      "trip:OW , chd:0 , adt:1 , FLEX:N , SplitNo:100 , depdate0:20170821 , SeatAvail:Y , ptype:I , comp:Y , dep0:ICN , BEST:Y , JSON:Y , inf:0 , Soto:N , SeatType:A , AirLine:TW , enc:u , Change: , arr0:FUK , StayLength: , \n"
     ]
    },
    {
     "name": "stderr",
     "output_type": "stream",
     "text": [
      "2017-08-09 08:20:22,253 root     DEBUG    Crawling Interpark domastic schedule site\n"
     ]
    },
    {
     "name": "stdout",
     "output_type": "stream",
     "text": [
      "End Simple crawling\n",
      "Start Simple crawling :  http://smartair.interpark.com/HtmlSearch/GetGoodsSmartList.aspx\n",
      ">> Parameters\n",
      "trip:OW , chd:0 , adt:1 , FLEX:N , SplitNo:100 , depdate0:20170821 , SeatAvail:Y , ptype:I , comp:Y , dep0:ICN , BEST:Y , JSON:Y , inf:0 , Soto:N , SeatType:A , AirLine:ZE , enc:u , Change: , arr0:FUK , StayLength: , \n"
     ]
    },
    {
     "name": "stderr",
     "output_type": "stream",
     "text": [
      "2017-08-09 08:20:24,594 root     DEBUG    Crawling Interpark domastic schedule site\n"
     ]
    },
    {
     "name": "stdout",
     "output_type": "stream",
     "text": [
      "End Simple crawling\n",
      "Start Simple crawling :  http://smartair.interpark.com/HtmlSearch/GetGoodsSmartList.aspx\n",
      ">> Parameters\n",
      "trip:OW , chd:0 , adt:1 , FLEX:N , SplitNo:100 , depdate0:20170822 , SeatAvail:Y , ptype:I , comp:Y , dep0:ICN , BEST:Y , JSON:Y , inf:0 , Soto:N , SeatType:A , AirLine:7C , enc:u , Change: , arr0:FUK , StayLength: , \n"
     ]
    },
    {
     "name": "stderr",
     "output_type": "stream",
     "text": [
      "2017-08-09 08:20:25,418 root     DEBUG    Crawling Interpark domastic schedule site\n"
     ]
    },
    {
     "name": "stdout",
     "output_type": "stream",
     "text": [
      "End Simple crawling\n",
      "Start Simple crawling :  http://smartair.interpark.com/HtmlSearch/GetGoodsSmartList.aspx\n",
      ">> Parameters\n",
      "trip:OW , chd:0 , adt:1 , FLEX:N , SplitNo:100 , depdate0:20170822 , SeatAvail:Y , ptype:I , comp:Y , dep0:ICN , BEST:Y , JSON:Y , inf:0 , Soto:N , SeatType:A , AirLine:LJ , enc:u , Change: , arr0:FUK , StayLength: , \n"
     ]
    },
    {
     "name": "stderr",
     "output_type": "stream",
     "text": [
      "2017-08-09 08:20:27,643 root     DEBUG    Crawling Interpark domastic schedule site\n"
     ]
    },
    {
     "name": "stdout",
     "output_type": "stream",
     "text": [
      "End Simple crawling\n",
      "Start Simple crawling :  http://smartair.interpark.com/HtmlSearch/GetGoodsSmartList.aspx\n",
      ">> Parameters\n",
      "trip:OW , chd:0 , adt:1 , FLEX:N , SplitNo:100 , depdate0:20170822 , SeatAvail:Y , ptype:I , comp:Y , dep0:ICN , BEST:Y , JSON:Y , inf:0 , Soto:N , SeatType:A , AirLine:TW , enc:u , Change: , arr0:FUK , StayLength: , \n"
     ]
    },
    {
     "name": "stderr",
     "output_type": "stream",
     "text": [
      "2017-08-09 08:20:29,869 root     DEBUG    Crawling Interpark domastic schedule site\n"
     ]
    },
    {
     "name": "stdout",
     "output_type": "stream",
     "text": [
      "End Simple crawling\n",
      "Start Simple crawling :  http://smartair.interpark.com/HtmlSearch/GetGoodsSmartList.aspx\n",
      ">> Parameters\n",
      "trip:OW , chd:0 , adt:1 , FLEX:N , SplitNo:100 , depdate0:20170822 , SeatAvail:Y , ptype:I , comp:Y , dep0:ICN , BEST:Y , JSON:Y , inf:0 , Soto:N , SeatType:A , AirLine:ZE , enc:u , Change: , arr0:FUK , StayLength: , \n"
     ]
    },
    {
     "name": "stderr",
     "output_type": "stream",
     "text": [
      "2017-08-09 08:20:32,081 root     DEBUG    Crawling Interpark domastic schedule site\n"
     ]
    },
    {
     "name": "stdout",
     "output_type": "stream",
     "text": [
      "End Simple crawling\n",
      "Start Simple crawling :  http://smartair.interpark.com/HtmlSearch/GetGoodsSmartList.aspx\n",
      ">> Parameters\n",
      "trip:OW , chd:0 , adt:1 , FLEX:N , SplitNo:100 , depdate0:20170823 , SeatAvail:Y , ptype:I , comp:Y , dep0:ICN , BEST:Y , JSON:Y , inf:0 , Soto:N , SeatType:A , AirLine:7C , enc:u , Change: , arr0:FUK , StayLength: , \n"
     ]
    },
    {
     "name": "stderr",
     "output_type": "stream",
     "text": [
      "2017-08-09 08:20:32,730 root     DEBUG    Crawling Interpark domastic schedule site\n"
     ]
    },
    {
     "name": "stdout",
     "output_type": "stream",
     "text": [
      "End Simple crawling\n",
      "Start Simple crawling :  http://smartair.interpark.com/HtmlSearch/GetGoodsSmartList.aspx\n",
      ">> Parameters\n",
      "trip:OW , chd:0 , adt:1 , FLEX:N , SplitNo:100 , depdate0:20170823 , SeatAvail:Y , ptype:I , comp:Y , dep0:ICN , BEST:Y , JSON:Y , inf:0 , Soto:N , SeatType:A , AirLine:LJ , enc:u , Change: , arr0:FUK , StayLength: , \n"
     ]
    },
    {
     "name": "stderr",
     "output_type": "stream",
     "text": [
      "2017-08-09 08:20:35,037 root     DEBUG    Crawling Interpark domastic schedule site\n"
     ]
    },
    {
     "name": "stdout",
     "output_type": "stream",
     "text": [
      "End Simple crawling\n",
      "Start Simple crawling :  http://smartair.interpark.com/HtmlSearch/GetGoodsSmartList.aspx\n",
      ">> Parameters\n",
      "trip:OW , chd:0 , adt:1 , FLEX:N , SplitNo:100 , depdate0:20170823 , SeatAvail:Y , ptype:I , comp:Y , dep0:ICN , BEST:Y , JSON:Y , inf:0 , Soto:N , SeatType:A , AirLine:TW , enc:u , Change: , arr0:FUK , StayLength: , \n"
     ]
    },
    {
     "name": "stderr",
     "output_type": "stream",
     "text": [
      "2017-08-09 08:20:37,395 root     DEBUG    Crawling Interpark domastic schedule site\n"
     ]
    },
    {
     "name": "stdout",
     "output_type": "stream",
     "text": [
      "End Simple crawling\n",
      "Start Simple crawling :  http://smartair.interpark.com/HtmlSearch/GetGoodsSmartList.aspx\n",
      ">> Parameters\n",
      "trip:OW , chd:0 , adt:1 , FLEX:N , SplitNo:100 , depdate0:20170823 , SeatAvail:Y , ptype:I , comp:Y , dep0:ICN , BEST:Y , JSON:Y , inf:0 , Soto:N , SeatType:A , AirLine:ZE , enc:u , Change: , arr0:FUK , StayLength: , \n"
     ]
    },
    {
     "name": "stderr",
     "output_type": "stream",
     "text": [
      "2017-08-09 08:20:39,951 root     DEBUG    Crawling Interpark domastic schedule site\n"
     ]
    },
    {
     "name": "stdout",
     "output_type": "stream",
     "text": [
      "End Simple crawling\n",
      "Start Simple crawling :  http://smartair.interpark.com/HtmlSearch/GetGoodsSmartList.aspx\n",
      ">> Parameters\n",
      "trip:OW , chd:0 , adt:1 , FLEX:N , SplitNo:100 , depdate0:20170824 , SeatAvail:Y , ptype:I , comp:Y , dep0:ICN , BEST:Y , JSON:Y , inf:0 , Soto:N , SeatType:A , AirLine:7C , enc:u , Change: , arr0:FUK , StayLength: , \n"
     ]
    },
    {
     "name": "stderr",
     "output_type": "stream",
     "text": [
      "2017-08-09 08:20:40,840 root     DEBUG    Crawling Interpark domastic schedule site\n"
     ]
    },
    {
     "name": "stdout",
     "output_type": "stream",
     "text": [
      "End Simple crawling\n",
      "Start Simple crawling :  http://smartair.interpark.com/HtmlSearch/GetGoodsSmartList.aspx\n",
      ">> Parameters\n",
      "trip:OW , chd:0 , adt:1 , FLEX:N , SplitNo:100 , depdate0:20170824 , SeatAvail:Y , ptype:I , comp:Y , dep0:ICN , BEST:Y , JSON:Y , inf:0 , Soto:N , SeatType:A , AirLine:LJ , enc:u , Change: , arr0:FUK , StayLength: , \n"
     ]
    },
    {
     "name": "stderr",
     "output_type": "stream",
     "text": [
      "2017-08-09 08:20:44,021 root     DEBUG    Crawling Interpark domastic schedule site\n"
     ]
    },
    {
     "name": "stdout",
     "output_type": "stream",
     "text": [
      "End Simple crawling\n",
      "Start Simple crawling :  http://smartair.interpark.com/HtmlSearch/GetGoodsSmartList.aspx\n",
      ">> Parameters\n",
      "trip:OW , chd:0 , adt:1 , FLEX:N , SplitNo:100 , depdate0:20170824 , SeatAvail:Y , ptype:I , comp:Y , dep0:ICN , BEST:Y , JSON:Y , inf:0 , Soto:N , SeatType:A , AirLine:TW , enc:u , Change: , arr0:FUK , StayLength: , \n"
     ]
    },
    {
     "name": "stderr",
     "output_type": "stream",
     "text": [
      "2017-08-09 08:20:46,293 root     DEBUG    Crawling Interpark domastic schedule site\n"
     ]
    },
    {
     "name": "stdout",
     "output_type": "stream",
     "text": [
      "End Simple crawling\n",
      "Start Simple crawling :  http://smartair.interpark.com/HtmlSearch/GetGoodsSmartList.aspx\n",
      ">> Parameters\n",
      "trip:OW , chd:0 , adt:1 , FLEX:N , SplitNo:100 , depdate0:20170824 , SeatAvail:Y , ptype:I , comp:Y , dep0:ICN , BEST:Y , JSON:Y , inf:0 , Soto:N , SeatType:A , AirLine:ZE , enc:u , Change: , arr0:FUK , StayLength: , \n"
     ]
    },
    {
     "name": "stderr",
     "output_type": "stream",
     "text": [
      "2017-08-09 08:20:48,687 root     DEBUG    Crawling Interpark domastic schedule site\n"
     ]
    },
    {
     "name": "stdout",
     "output_type": "stream",
     "text": [
      "End Simple crawling\n",
      "Start Simple crawling :  http://smartair.interpark.com/HtmlSearch/GetGoodsSmartList.aspx\n",
      ">> Parameters\n",
      "trip:OW , chd:0 , adt:1 , FLEX:N , SplitNo:100 , depdate0:20170825 , SeatAvail:Y , ptype:I , comp:Y , dep0:ICN , BEST:Y , JSON:Y , inf:0 , Soto:N , SeatType:A , AirLine:7C , enc:u , Change: , arr0:FUK , StayLength: , \n"
     ]
    },
    {
     "name": "stderr",
     "output_type": "stream",
     "text": [
      "2017-08-09 08:20:49,329 root     DEBUG    Crawling Interpark domastic schedule site\n"
     ]
    },
    {
     "name": "stdout",
     "output_type": "stream",
     "text": [
      "End Simple crawling\n",
      "Start Simple crawling :  http://smartair.interpark.com/HtmlSearch/GetGoodsSmartList.aspx\n",
      ">> Parameters\n",
      "trip:OW , chd:0 , adt:1 , FLEX:N , SplitNo:100 , depdate0:20170825 , SeatAvail:Y , ptype:I , comp:Y , dep0:ICN , BEST:Y , JSON:Y , inf:0 , Soto:N , SeatType:A , AirLine:LJ , enc:u , Change: , arr0:FUK , StayLength: , \n"
     ]
    },
    {
     "name": "stderr",
     "output_type": "stream",
     "text": [
      "2017-08-09 08:20:51,901 root     DEBUG    Crawling Interpark domastic schedule site\n"
     ]
    },
    {
     "name": "stdout",
     "output_type": "stream",
     "text": [
      "End Simple crawling\n",
      "Start Simple crawling :  http://smartair.interpark.com/HtmlSearch/GetGoodsSmartList.aspx\n",
      ">> Parameters\n",
      "trip:OW , chd:0 , adt:1 , FLEX:N , SplitNo:100 , depdate0:20170825 , SeatAvail:Y , ptype:I , comp:Y , dep0:ICN , BEST:Y , JSON:Y , inf:0 , Soto:N , SeatType:A , AirLine:TW , enc:u , Change: , arr0:FUK , StayLength: , \n"
     ]
    },
    {
     "name": "stderr",
     "output_type": "stream",
     "text": [
      "2017-08-09 08:20:54,096 root     DEBUG    Crawling Interpark domastic schedule site\n"
     ]
    },
    {
     "name": "stdout",
     "output_type": "stream",
     "text": [
      "End Simple crawling\n",
      "Start Simple crawling :  http://smartair.interpark.com/HtmlSearch/GetGoodsSmartList.aspx\n",
      ">> Parameters\n",
      "trip:OW , chd:0 , adt:1 , FLEX:N , SplitNo:100 , depdate0:20170825 , SeatAvail:Y , ptype:I , comp:Y , dep0:ICN , BEST:Y , JSON:Y , inf:0 , Soto:N , SeatType:A , AirLine:ZE , enc:u , Change: , arr0:FUK , StayLength: , \n"
     ]
    },
    {
     "name": "stderr",
     "output_type": "stream",
     "text": [
      "2017-08-09 08:20:56,370 root     DEBUG    Crawling Interpark domastic schedule site\n"
     ]
    },
    {
     "name": "stdout",
     "output_type": "stream",
     "text": [
      "End Simple crawling\n",
      "Start Simple crawling :  http://smartair.interpark.com/HtmlSearch/GetGoodsSmartList.aspx\n",
      ">> Parameters\n",
      "trip:OW , chd:0 , adt:1 , FLEX:N , SplitNo:100 , depdate0:20170826 , SeatAvail:Y , ptype:I , comp:Y , dep0:ICN , BEST:Y , JSON:Y , inf:0 , Soto:N , SeatType:A , AirLine:7C , enc:u , Change: , arr0:FUK , StayLength: , \n"
     ]
    },
    {
     "name": "stderr",
     "output_type": "stream",
     "text": [
      "2017-08-09 08:20:57,271 root     DEBUG    Crawling Interpark domastic schedule site\n"
     ]
    },
    {
     "name": "stdout",
     "output_type": "stream",
     "text": [
      "End Simple crawling\n",
      "Start Simple crawling :  http://smartair.interpark.com/HtmlSearch/GetGoodsSmartList.aspx\n",
      ">> Parameters\n",
      "trip:OW , chd:0 , adt:1 , FLEX:N , SplitNo:100 , depdate0:20170826 , SeatAvail:Y , ptype:I , comp:Y , dep0:ICN , BEST:Y , JSON:Y , inf:0 , Soto:N , SeatType:A , AirLine:LJ , enc:u , Change: , arr0:FUK , StayLength: , \n"
     ]
    },
    {
     "name": "stderr",
     "output_type": "stream",
     "text": [
      "2017-08-09 08:20:59,648 root     DEBUG    Crawling Interpark domastic schedule site\n"
     ]
    },
    {
     "name": "stdout",
     "output_type": "stream",
     "text": [
      "End Simple crawling\n",
      "Start Simple crawling :  http://smartair.interpark.com/HtmlSearch/GetGoodsSmartList.aspx\n",
      ">> Parameters\n",
      "trip:OW , chd:0 , adt:1 , FLEX:N , SplitNo:100 , depdate0:20170826 , SeatAvail:Y , ptype:I , comp:Y , dep0:ICN , BEST:Y , JSON:Y , inf:0 , Soto:N , SeatType:A , AirLine:TW , enc:u , Change: , arr0:FUK , StayLength: , \n"
     ]
    },
    {
     "name": "stderr",
     "output_type": "stream",
     "text": [
      "2017-08-09 08:21:03,384 root     DEBUG    Crawling Interpark domastic schedule site\n"
     ]
    },
    {
     "name": "stdout",
     "output_type": "stream",
     "text": [
      "End Simple crawling\n",
      "Start Simple crawling :  http://smartair.interpark.com/HtmlSearch/GetGoodsSmartList.aspx\n",
      ">> Parameters\n",
      "trip:OW , chd:0 , adt:1 , FLEX:N , SplitNo:100 , depdate0:20170826 , SeatAvail:Y , ptype:I , comp:Y , dep0:ICN , BEST:Y , JSON:Y , inf:0 , Soto:N , SeatType:A , AirLine:ZE , enc:u , Change: , arr0:FUK , StayLength: , \n"
     ]
    },
    {
     "name": "stderr",
     "output_type": "stream",
     "text": [
      "2017-08-09 08:21:05,762 root     DEBUG    Crawling Interpark domastic schedule site\n"
     ]
    },
    {
     "name": "stdout",
     "output_type": "stream",
     "text": [
      "End Simple crawling\n",
      "Start Simple crawling :  http://smartair.interpark.com/HtmlSearch/GetGoodsSmartList.aspx\n",
      ">> Parameters\n",
      "trip:OW , chd:0 , adt:1 , FLEX:N , SplitNo:100 , depdate0:20170827 , SeatAvail:Y , ptype:I , comp:Y , dep0:ICN , BEST:Y , JSON:Y , inf:0 , Soto:N , SeatType:A , AirLine:7C , enc:u , Change: , arr0:FUK , StayLength: , \n"
     ]
    },
    {
     "name": "stderr",
     "output_type": "stream",
     "text": [
      "2017-08-09 08:21:06,396 root     DEBUG    Crawling Interpark domastic schedule site\n"
     ]
    },
    {
     "name": "stdout",
     "output_type": "stream",
     "text": [
      "End Simple crawling\n",
      "Start Simple crawling :  http://smartair.interpark.com/HtmlSearch/GetGoodsSmartList.aspx\n",
      ">> Parameters\n",
      "trip:OW , chd:0 , adt:1 , FLEX:N , SplitNo:100 , depdate0:20170827 , SeatAvail:Y , ptype:I , comp:Y , dep0:ICN , BEST:Y , JSON:Y , inf:0 , Soto:N , SeatType:A , AirLine:LJ , enc:u , Change: , arr0:FUK , StayLength: , \n"
     ]
    },
    {
     "name": "stderr",
     "output_type": "stream",
     "text": [
      "2017-08-09 08:21:09,305 root     DEBUG    Crawling Interpark domastic schedule site\n"
     ]
    },
    {
     "name": "stdout",
     "output_type": "stream",
     "text": [
      "End Simple crawling\n",
      "Start Simple crawling :  http://smartair.interpark.com/HtmlSearch/GetGoodsSmartList.aspx\n",
      ">> Parameters\n",
      "trip:OW , chd:0 , adt:1 , FLEX:N , SplitNo:100 , depdate0:20170827 , SeatAvail:Y , ptype:I , comp:Y , dep0:ICN , BEST:Y , JSON:Y , inf:0 , Soto:N , SeatType:A , AirLine:TW , enc:u , Change: , arr0:FUK , StayLength: , \n"
     ]
    },
    {
     "name": "stderr",
     "output_type": "stream",
     "text": [
      "2017-08-09 08:21:11,785 root     DEBUG    Crawling Interpark domastic schedule site\n"
     ]
    },
    {
     "name": "stdout",
     "output_type": "stream",
     "text": [
      "End Simple crawling\n",
      "Start Simple crawling :  http://smartair.interpark.com/HtmlSearch/GetGoodsSmartList.aspx\n",
      ">> Parameters\n",
      "trip:OW , chd:0 , adt:1 , FLEX:N , SplitNo:100 , depdate0:20170827 , SeatAvail:Y , ptype:I , comp:Y , dep0:ICN , BEST:Y , JSON:Y , inf:0 , Soto:N , SeatType:A , AirLine:ZE , enc:u , Change: , arr0:FUK , StayLength: , \n"
     ]
    },
    {
     "name": "stderr",
     "output_type": "stream",
     "text": [
      "2017-08-09 08:21:14,020 root     DEBUG    Crawling Interpark domastic schedule site\n"
     ]
    },
    {
     "name": "stdout",
     "output_type": "stream",
     "text": [
      "End Simple crawling\n",
      "Start Simple crawling :  http://smartair.interpark.com/HtmlSearch/GetGoodsSmartList.aspx\n",
      ">> Parameters\n",
      "trip:OW , chd:0 , adt:1 , FLEX:N , SplitNo:100 , depdate0:20170828 , SeatAvail:Y , ptype:I , comp:Y , dep0:ICN , BEST:Y , JSON:Y , inf:0 , Soto:N , SeatType:A , AirLine:7C , enc:u , Change: , arr0:FUK , StayLength: , \n"
     ]
    },
    {
     "name": "stderr",
     "output_type": "stream",
     "text": [
      "2017-08-09 08:21:14,914 root     DEBUG    Crawling Interpark domastic schedule site\n"
     ]
    },
    {
     "name": "stdout",
     "output_type": "stream",
     "text": [
      "End Simple crawling\n",
      "Start Simple crawling :  http://smartair.interpark.com/HtmlSearch/GetGoodsSmartList.aspx\n",
      ">> Parameters\n",
      "trip:OW , chd:0 , adt:1 , FLEX:N , SplitNo:100 , depdate0:20170828 , SeatAvail:Y , ptype:I , comp:Y , dep0:ICN , BEST:Y , JSON:Y , inf:0 , Soto:N , SeatType:A , AirLine:LJ , enc:u , Change: , arr0:FUK , StayLength: , \n"
     ]
    },
    {
     "name": "stderr",
     "output_type": "stream",
     "text": [
      "2017-08-09 08:21:17,256 root     DEBUG    Crawling Interpark domastic schedule site\n"
     ]
    },
    {
     "name": "stdout",
     "output_type": "stream",
     "text": [
      "End Simple crawling\n",
      "Start Simple crawling :  http://smartair.interpark.com/HtmlSearch/GetGoodsSmartList.aspx\n",
      ">> Parameters\n",
      "trip:OW , chd:0 , adt:1 , FLEX:N , SplitNo:100 , depdate0:20170828 , SeatAvail:Y , ptype:I , comp:Y , dep0:ICN , BEST:Y , JSON:Y , inf:0 , Soto:N , SeatType:A , AirLine:TW , enc:u , Change: , arr0:FUK , StayLength: , \n"
     ]
    },
    {
     "name": "stderr",
     "output_type": "stream",
     "text": [
      "2017-08-09 08:21:19,484 root     DEBUG    Crawling Interpark domastic schedule site\n"
     ]
    },
    {
     "name": "stdout",
     "output_type": "stream",
     "text": [
      "End Simple crawling\n",
      "Start Simple crawling :  http://smartair.interpark.com/HtmlSearch/GetGoodsSmartList.aspx\n",
      ">> Parameters\n",
      "trip:OW , chd:0 , adt:1 , FLEX:N , SplitNo:100 , depdate0:20170828 , SeatAvail:Y , ptype:I , comp:Y , dep0:ICN , BEST:Y , JSON:Y , inf:0 , Soto:N , SeatType:A , AirLine:ZE , enc:u , Change: , arr0:FUK , StayLength: , \n"
     ]
    },
    {
     "name": "stderr",
     "output_type": "stream",
     "text": [
      "2017-08-09 08:21:21,738 root     DEBUG    Crawling Interpark domastic schedule site\n"
     ]
    },
    {
     "name": "stdout",
     "output_type": "stream",
     "text": [
      "End Simple crawling\n",
      "Start Simple crawling :  http://smartair.interpark.com/HtmlSearch/GetGoodsSmartList.aspx\n",
      ">> Parameters\n",
      "trip:OW , chd:0 , adt:1 , FLEX:N , SplitNo:100 , depdate0:20170829 , SeatAvail:Y , ptype:I , comp:Y , dep0:ICN , BEST:Y , JSON:Y , inf:0 , Soto:N , SeatType:A , AirLine:7C , enc:u , Change: , arr0:FUK , StayLength: , \n"
     ]
    },
    {
     "name": "stderr",
     "output_type": "stream",
     "text": [
      "2017-08-09 08:21:22,714 root     DEBUG    Crawling Interpark domastic schedule site\n"
     ]
    },
    {
     "name": "stdout",
     "output_type": "stream",
     "text": [
      "End Simple crawling\n",
      "Start Simple crawling :  http://smartair.interpark.com/HtmlSearch/GetGoodsSmartList.aspx\n",
      ">> Parameters\n",
      "trip:OW , chd:0 , adt:1 , FLEX:N , SplitNo:100 , depdate0:20170829 , SeatAvail:Y , ptype:I , comp:Y , dep0:ICN , BEST:Y , JSON:Y , inf:0 , Soto:N , SeatType:A , AirLine:LJ , enc:u , Change: , arr0:FUK , StayLength: , \n"
     ]
    },
    {
     "name": "stderr",
     "output_type": "stream",
     "text": [
      "2017-08-09 08:21:24,978 root     DEBUG    Crawling Interpark domastic schedule site\n"
     ]
    },
    {
     "name": "stdout",
     "output_type": "stream",
     "text": [
      "End Simple crawling\n",
      "Start Simple crawling :  http://smartair.interpark.com/HtmlSearch/GetGoodsSmartList.aspx\n",
      ">> Parameters\n",
      "trip:OW , chd:0 , adt:1 , FLEX:N , SplitNo:100 , depdate0:20170829 , SeatAvail:Y , ptype:I , comp:Y , dep0:ICN , BEST:Y , JSON:Y , inf:0 , Soto:N , SeatType:A , AirLine:TW , enc:u , Change: , arr0:FUK , StayLength: , \n"
     ]
    },
    {
     "name": "stderr",
     "output_type": "stream",
     "text": [
      "2017-08-09 08:21:27,401 root     DEBUG    Crawling Interpark domastic schedule site\n"
     ]
    },
    {
     "name": "stdout",
     "output_type": "stream",
     "text": [
      "End Simple crawling\n",
      "Start Simple crawling :  http://smartair.interpark.com/HtmlSearch/GetGoodsSmartList.aspx\n",
      ">> Parameters\n",
      "trip:OW , chd:0 , adt:1 , FLEX:N , SplitNo:100 , depdate0:20170829 , SeatAvail:Y , ptype:I , comp:Y , dep0:ICN , BEST:Y , JSON:Y , inf:0 , Soto:N , SeatType:A , AirLine:ZE , enc:u , Change: , arr0:FUK , StayLength: , \n"
     ]
    },
    {
     "name": "stderr",
     "output_type": "stream",
     "text": [
      "2017-08-09 08:21:29,762 root     DEBUG    Crawling Interpark domastic schedule site\n"
     ]
    },
    {
     "name": "stdout",
     "output_type": "stream",
     "text": [
      "End Simple crawling\n",
      "Start Simple crawling :  http://smartair.interpark.com/HtmlSearch/GetGoodsSmartList.aspx\n",
      ">> Parameters\n",
      "trip:OW , chd:0 , adt:1 , FLEX:N , SplitNo:100 , depdate0:20170830 , SeatAvail:Y , ptype:I , comp:Y , dep0:ICN , BEST:Y , JSON:Y , inf:0 , Soto:N , SeatType:A , AirLine:7C , enc:u , Change: , arr0:FUK , StayLength: , \n"
     ]
    },
    {
     "name": "stderr",
     "output_type": "stream",
     "text": [
      "2017-08-09 08:21:30,422 root     DEBUG    Crawling Interpark domastic schedule site\n"
     ]
    },
    {
     "name": "stdout",
     "output_type": "stream",
     "text": [
      "End Simple crawling\n",
      "Start Simple crawling :  http://smartair.interpark.com/HtmlSearch/GetGoodsSmartList.aspx\n",
      ">> Parameters\n",
      "trip:OW , chd:0 , adt:1 , FLEX:N , SplitNo:100 , depdate0:20170830 , SeatAvail:Y , ptype:I , comp:Y , dep0:ICN , BEST:Y , JSON:Y , inf:0 , Soto:N , SeatType:A , AirLine:LJ , enc:u , Change: , arr0:FUK , StayLength: , \n"
     ]
    },
    {
     "name": "stderr",
     "output_type": "stream",
     "text": [
      "2017-08-09 08:21:32,772 root     DEBUG    Crawling Interpark domastic schedule site\n"
     ]
    },
    {
     "name": "stdout",
     "output_type": "stream",
     "text": [
      "End Simple crawling\n",
      "Start Simple crawling :  http://smartair.interpark.com/HtmlSearch/GetGoodsSmartList.aspx\n",
      ">> Parameters\n",
      "trip:OW , chd:0 , adt:1 , FLEX:N , SplitNo:100 , depdate0:20170830 , SeatAvail:Y , ptype:I , comp:Y , dep0:ICN , BEST:Y , JSON:Y , inf:0 , Soto:N , SeatType:A , AirLine:TW , enc:u , Change: , arr0:FUK , StayLength: , \n"
     ]
    },
    {
     "name": "stderr",
     "output_type": "stream",
     "text": [
      "2017-08-09 08:21:35,093 root     DEBUG    Crawling Interpark domastic schedule site\n"
     ]
    },
    {
     "name": "stdout",
     "output_type": "stream",
     "text": [
      "End Simple crawling\n",
      "Start Simple crawling :  http://smartair.interpark.com/HtmlSearch/GetGoodsSmartList.aspx\n",
      ">> Parameters\n",
      "trip:OW , chd:0 , adt:1 , FLEX:N , SplitNo:100 , depdate0:20170830 , SeatAvail:Y , ptype:I , comp:Y , dep0:ICN , BEST:Y , JSON:Y , inf:0 , Soto:N , SeatType:A , AirLine:ZE , enc:u , Change: , arr0:FUK , StayLength: , \n"
     ]
    },
    {
     "name": "stderr",
     "output_type": "stream",
     "text": [
      "2017-08-09 08:21:37,498 root     INFO     end batch job :: craw_by_route_site :: elapsed -0:02:41.470236 :: Total crawl:84 files saved.\n",
      "2017-08-09 08:21:37,500 root     INFO     start batch job :: craw_by_route_site[GMP,PUS,IP,['20170810', '20170811', '20170812', '20170813', '20170814', '20170815', '20170816', '20170817', '20170818', '20170819', '20170820', '20170821', '20170822', '20170823', '20170824', '20170825', '20170826', '20170827', '20170828', '20170829', '20170830'],['7C', 'BX', 'OZ', 'ZE']]\n",
      "2017-08-09 08:21:37,502 root     DEBUG    0 :: IP :: crawling_IP_dom :: False\n",
      "2017-08-09 08:21:37,505 root     INFO     <function crawling_IP_dom at 0x0000000007FA6378> :: False\n",
      "2017-08-09 08:21:37,508 root     DEBUG    Crawling Interpark domastic schedule site\n"
     ]
    },
    {
     "name": "stdout",
     "output_type": "stream",
     "text": [
      "End Simple crawling\n",
      "Start Simple crawling :  http://domair.interpark.com/api/booking/airJourney.do\n",
      ">> Parameters\n",
      "chd:0 , format:json , inf:0 , depDate:20170810 , arr:PUS , dep:GMP , adt:1 , tripDivi:0 , airlineCode:7C , \n"
     ]
    },
    {
     "name": "stderr",
     "output_type": "stream",
     "text": [
      "2017-08-09 08:21:38,591 root     DEBUG    Crawling Interpark domastic schedule site\n"
     ]
    },
    {
     "name": "stdout",
     "output_type": "stream",
     "text": [
      "End Simple crawling\n",
      "Start Simple crawling :  http://domair.interpark.com/api/booking/airJourney.do\n",
      ">> Parameters\n",
      "chd:0 , format:json , inf:0 , depDate:20170810 , arr:PUS , dep:GMP , adt:1 , tripDivi:0 , airlineCode:BX , \n"
     ]
    },
    {
     "name": "stderr",
     "output_type": "stream",
     "text": [
      "2017-08-09 08:21:39,866 root     DEBUG    Crawling Interpark domastic schedule site\n"
     ]
    },
    {
     "name": "stdout",
     "output_type": "stream",
     "text": [
      "End Simple crawling\n",
      "Start Simple crawling :  http://domair.interpark.com/api/booking/airJourney.do\n",
      ">> Parameters\n",
      "chd:0 , format:json , inf:0 , depDate:20170810 , arr:PUS , dep:GMP , adt:1 , tripDivi:0 , airlineCode:OZ , \n"
     ]
    },
    {
     "name": "stderr",
     "output_type": "stream",
     "text": [
      "2017-08-09 08:21:59,954 root     DEBUG    Crawling Interpark domastic schedule site\n"
     ]
    },
    {
     "name": "stdout",
     "output_type": "stream",
     "text": [
      "End Simple crawling\n",
      "Start Simple crawling :  http://domair.interpark.com/api/booking/airJourney.do\n",
      ">> Parameters\n",
      "chd:0 , format:json , inf:0 , depDate:20170810 , arr:PUS , dep:GMP , adt:1 , tripDivi:0 , airlineCode:ZE , \n"
     ]
    },
    {
     "name": "stderr",
     "output_type": "stream",
     "text": [
      "2017-08-09 08:22:00,998 root     DEBUG    Crawling Interpark domastic schedule site\n"
     ]
    },
    {
     "name": "stdout",
     "output_type": "stream",
     "text": [
      "End Simple crawling\n",
      "Start Simple crawling :  http://domair.interpark.com/api/booking/airJourney.do\n",
      ">> Parameters\n",
      "chd:0 , format:json , inf:0 , depDate:20170811 , arr:PUS , dep:GMP , adt:1 , tripDivi:0 , airlineCode:7C , \n"
     ]
    },
    {
     "name": "stderr",
     "output_type": "stream",
     "text": [
      "2017-08-09 08:22:03,811 root     DEBUG    Crawling Interpark domastic schedule site\n"
     ]
    },
    {
     "name": "stdout",
     "output_type": "stream",
     "text": [
      "End Simple crawling\n",
      "Start Simple crawling :  http://domair.interpark.com/api/booking/airJourney.do\n",
      ">> Parameters\n",
      "chd:0 , format:json , inf:0 , depDate:20170811 , arr:PUS , dep:GMP , adt:1 , tripDivi:0 , airlineCode:BX , \n"
     ]
    },
    {
     "name": "stderr",
     "output_type": "stream",
     "text": [
      "2017-08-09 08:22:05,709 root     DEBUG    Crawling Interpark domastic schedule site\n"
     ]
    },
    {
     "name": "stdout",
     "output_type": "stream",
     "text": [
      "End Simple crawling\n",
      "Start Simple crawling :  http://domair.interpark.com/api/booking/airJourney.do\n",
      ">> Parameters\n",
      "chd:0 , format:json , inf:0 , depDate:20170811 , arr:PUS , dep:GMP , adt:1 , tripDivi:0 , airlineCode:OZ , \n"
     ]
    },
    {
     "name": "stderr",
     "output_type": "stream",
     "text": [
      "2017-08-09 08:22:07,236 root     DEBUG    Crawling Interpark domastic schedule site\n"
     ]
    },
    {
     "name": "stdout",
     "output_type": "stream",
     "text": [
      "End Simple crawling\n",
      "Start Simple crawling :  http://domair.interpark.com/api/booking/airJourney.do\n",
      ">> Parameters\n",
      "chd:0 , format:json , inf:0 , depDate:20170811 , arr:PUS , dep:GMP , adt:1 , tripDivi:0 , airlineCode:ZE , \n"
     ]
    },
    {
     "name": "stderr",
     "output_type": "stream",
     "text": [
      "2017-08-09 08:22:08,187 root     DEBUG    Crawling Interpark domastic schedule site\n"
     ]
    },
    {
     "name": "stdout",
     "output_type": "stream",
     "text": [
      "End Simple crawling\n",
      "Start Simple crawling :  http://domair.interpark.com/api/booking/airJourney.do\n",
      ">> Parameters\n",
      "chd:0 , format:json , inf:0 , depDate:20170812 , arr:PUS , dep:GMP , adt:1 , tripDivi:0 , airlineCode:7C , \n"
     ]
    },
    {
     "name": "stderr",
     "output_type": "stream",
     "text": [
      "2017-08-09 08:22:11,594 root     DEBUG    Crawling Interpark domastic schedule site\n"
     ]
    },
    {
     "name": "stdout",
     "output_type": "stream",
     "text": [
      "End Simple crawling\n",
      "Start Simple crawling :  http://domair.interpark.com/api/booking/airJourney.do\n",
      ">> Parameters\n",
      "chd:0 , format:json , inf:0 , depDate:20170812 , arr:PUS , dep:GMP , adt:1 , tripDivi:0 , airlineCode:BX , \n"
     ]
    },
    {
     "name": "stderr",
     "output_type": "stream",
     "text": [
      "2017-08-09 08:22:13,043 root     DEBUG    Crawling Interpark domastic schedule site\n"
     ]
    },
    {
     "name": "stdout",
     "output_type": "stream",
     "text": [
      "End Simple crawling\n",
      "Start Simple crawling :  http://domair.interpark.com/api/booking/airJourney.do\n",
      ">> Parameters\n",
      "chd:0 , format:json , inf:0 , depDate:20170812 , arr:PUS , dep:GMP , adt:1 , tripDivi:0 , airlineCode:OZ , \n"
     ]
    },
    {
     "name": "stderr",
     "output_type": "stream",
     "text": [
      "2017-08-09 08:22:14,363 root     DEBUG    Crawling Interpark domastic schedule site\n"
     ]
    },
    {
     "name": "stdout",
     "output_type": "stream",
     "text": [
      "End Simple crawling\n",
      "Start Simple crawling :  http://domair.interpark.com/api/booking/airJourney.do\n",
      ">> Parameters\n",
      "chd:0 , format:json , inf:0 , depDate:20170812 , arr:PUS , dep:GMP , adt:1 , tripDivi:0 , airlineCode:ZE , \n"
     ]
    },
    {
     "name": "stderr",
     "output_type": "stream",
     "text": [
      "2017-08-09 08:22:15,393 root     DEBUG    Crawling Interpark domastic schedule site\n"
     ]
    },
    {
     "name": "stdout",
     "output_type": "stream",
     "text": [
      "End Simple crawling\n",
      "Start Simple crawling :  http://domair.interpark.com/api/booking/airJourney.do\n",
      ">> Parameters\n",
      "chd:0 , format:json , inf:0 , depDate:20170813 , arr:PUS , dep:GMP , adt:1 , tripDivi:0 , airlineCode:7C , \n"
     ]
    },
    {
     "name": "stderr",
     "output_type": "stream",
     "text": [
      "2017-08-09 08:22:16,980 root     DEBUG    Crawling Interpark domastic schedule site\n"
     ]
    },
    {
     "name": "stdout",
     "output_type": "stream",
     "text": [
      "End Simple crawling\n",
      "Start Simple crawling :  http://domair.interpark.com/api/booking/airJourney.do\n",
      ">> Parameters\n",
      "chd:0 , format:json , inf:0 , depDate:20170813 , arr:PUS , dep:GMP , adt:1 , tripDivi:0 , airlineCode:BX , \n"
     ]
    },
    {
     "name": "stderr",
     "output_type": "stream",
     "text": [
      "2017-08-09 08:22:18,724 root     DEBUG    Crawling Interpark domastic schedule site\n"
     ]
    },
    {
     "name": "stdout",
     "output_type": "stream",
     "text": [
      "End Simple crawling\n",
      "Start Simple crawling :  http://domair.interpark.com/api/booking/airJourney.do\n",
      ">> Parameters\n",
      "chd:0 , format:json , inf:0 , depDate:20170813 , arr:PUS , dep:GMP , adt:1 , tripDivi:0 , airlineCode:OZ , \n"
     ]
    },
    {
     "name": "stderr",
     "output_type": "stream",
     "text": [
      "2017-08-09 08:22:20,022 root     DEBUG    Crawling Interpark domastic schedule site\n"
     ]
    },
    {
     "name": "stdout",
     "output_type": "stream",
     "text": [
      "End Simple crawling\n",
      "Start Simple crawling :  http://domair.interpark.com/api/booking/airJourney.do\n",
      ">> Parameters\n",
      "chd:0 , format:json , inf:0 , depDate:20170813 , arr:PUS , dep:GMP , adt:1 , tripDivi:0 , airlineCode:ZE , \n"
     ]
    },
    {
     "name": "stderr",
     "output_type": "stream",
     "text": [
      "2017-08-09 08:22:20,998 root     DEBUG    Crawling Interpark domastic schedule site\n"
     ]
    },
    {
     "name": "stdout",
     "output_type": "stream",
     "text": [
      "End Simple crawling\n",
      "Start Simple crawling :  http://domair.interpark.com/api/booking/airJourney.do\n",
      ">> Parameters\n",
      "chd:0 , format:json , inf:0 , depDate:20170814 , arr:PUS , dep:GMP , adt:1 , tripDivi:0 , airlineCode:7C , \n"
     ]
    },
    {
     "name": "stderr",
     "output_type": "stream",
     "text": [
      "2017-08-09 08:22:23,527 root     DEBUG    Crawling Interpark domastic schedule site\n"
     ]
    },
    {
     "name": "stdout",
     "output_type": "stream",
     "text": [
      "End Simple crawling\n",
      "Start Simple crawling :  http://domair.interpark.com/api/booking/airJourney.do\n",
      ">> Parameters\n",
      "chd:0 , format:json , inf:0 , depDate:20170814 , arr:PUS , dep:GMP , adt:1 , tripDivi:0 , airlineCode:BX , \n"
     ]
    },
    {
     "name": "stderr",
     "output_type": "stream",
     "text": [
      "2017-08-09 08:22:24,954 root     DEBUG    Crawling Interpark domastic schedule site\n"
     ]
    },
    {
     "name": "stdout",
     "output_type": "stream",
     "text": [
      "End Simple crawling\n",
      "Start Simple crawling :  http://domair.interpark.com/api/booking/airJourney.do\n",
      ">> Parameters\n",
      "chd:0 , format:json , inf:0 , depDate:20170814 , arr:PUS , dep:GMP , adt:1 , tripDivi:0 , airlineCode:OZ , \n"
     ]
    },
    {
     "name": "stderr",
     "output_type": "stream",
     "text": [
      "2017-08-09 08:22:26,211 root     DEBUG    Crawling Interpark domastic schedule site\n"
     ]
    },
    {
     "name": "stdout",
     "output_type": "stream",
     "text": [
      "End Simple crawling\n",
      "Start Simple crawling :  http://domair.interpark.com/api/booking/airJourney.do\n",
      ">> Parameters\n",
      "chd:0 , format:json , inf:0 , depDate:20170814 , arr:PUS , dep:GMP , adt:1 , tripDivi:0 , airlineCode:ZE , \n"
     ]
    },
    {
     "name": "stderr",
     "output_type": "stream",
     "text": [
      "2017-08-09 08:22:27,167 root     DEBUG    Crawling Interpark domastic schedule site\n"
     ]
    },
    {
     "name": "stdout",
     "output_type": "stream",
     "text": [
      "End Simple crawling\n",
      "Start Simple crawling :  http://domair.interpark.com/api/booking/airJourney.do\n",
      ">> Parameters\n",
      "chd:0 , format:json , inf:0 , depDate:20170815 , arr:PUS , dep:GMP , adt:1 , tripDivi:0 , airlineCode:7C , \n"
     ]
    },
    {
     "name": "stderr",
     "output_type": "stream",
     "text": [
      "2017-08-09 08:22:28,529 root     DEBUG    Crawling Interpark domastic schedule site\n"
     ]
    },
    {
     "name": "stdout",
     "output_type": "stream",
     "text": [
      "End Simple crawling\n",
      "Start Simple crawling :  http://domair.interpark.com/api/booking/airJourney.do\n",
      ">> Parameters\n",
      "chd:0 , format:json , inf:0 , depDate:20170815 , arr:PUS , dep:GMP , adt:1 , tripDivi:0 , airlineCode:BX , \n"
     ]
    },
    {
     "name": "stderr",
     "output_type": "stream",
     "text": [
      "2017-08-09 08:22:28,805 root     DEBUG    Crawling Interpark domastic schedule site\n"
     ]
    },
    {
     "name": "stdout",
     "output_type": "stream",
     "text": [
      "End Simple crawling\n",
      "Start Simple crawling :  http://domair.interpark.com/api/booking/airJourney.do\n",
      ">> Parameters\n",
      "chd:0 , format:json , inf:0 , depDate:20170815 , arr:PUS , dep:GMP , adt:1 , tripDivi:0 , airlineCode:OZ , \n"
     ]
    },
    {
     "name": "stderr",
     "output_type": "stream",
     "text": [
      "2017-08-09 08:22:30,123 root     DEBUG    Crawling Interpark domastic schedule site\n"
     ]
    },
    {
     "name": "stdout",
     "output_type": "stream",
     "text": [
      "End Simple crawling\n",
      "Start Simple crawling :  http://domair.interpark.com/api/booking/airJourney.do\n",
      ">> Parameters\n",
      "chd:0 , format:json , inf:0 , depDate:20170815 , arr:PUS , dep:GMP , adt:1 , tripDivi:0 , airlineCode:ZE , \n"
     ]
    },
    {
     "name": "stderr",
     "output_type": "stream",
     "text": [
      "2017-08-09 08:22:31,395 root     DEBUG    Crawling Interpark domastic schedule site\n"
     ]
    },
    {
     "name": "stdout",
     "output_type": "stream",
     "text": [
      "End Simple crawling\n",
      "Start Simple crawling :  http://domair.interpark.com/api/booking/airJourney.do\n",
      ">> Parameters\n",
      "chd:0 , format:json , inf:0 , depDate:20170816 , arr:PUS , dep:GMP , adt:1 , tripDivi:0 , airlineCode:7C , \n"
     ]
    },
    {
     "name": "stderr",
     "output_type": "stream",
     "text": [
      "2017-08-09 08:22:32,526 root     DEBUG    Crawling Interpark domastic schedule site\n"
     ]
    },
    {
     "name": "stdout",
     "output_type": "stream",
     "text": [
      "End Simple crawling\n",
      "Start Simple crawling :  http://domair.interpark.com/api/booking/airJourney.do\n",
      ">> Parameters\n",
      "chd:0 , format:json , inf:0 , depDate:20170816 , arr:PUS , dep:GMP , adt:1 , tripDivi:0 , airlineCode:BX , \n"
     ]
    },
    {
     "name": "stderr",
     "output_type": "stream",
     "text": [
      "2017-08-09 08:22:34,035 root     DEBUG    Crawling Interpark domastic schedule site\n"
     ]
    },
    {
     "name": "stdout",
     "output_type": "stream",
     "text": [
      "End Simple crawling\n",
      "Start Simple crawling :  http://domair.interpark.com/api/booking/airJourney.do\n",
      ">> Parameters\n",
      "chd:0 , format:json , inf:0 , depDate:20170816 , arr:PUS , dep:GMP , adt:1 , tripDivi:0 , airlineCode:OZ , \n"
     ]
    },
    {
     "name": "stderr",
     "output_type": "stream",
     "text": [
      "2017-08-09 08:22:35,300 root     DEBUG    Crawling Interpark domastic schedule site\n"
     ]
    },
    {
     "name": "stdout",
     "output_type": "stream",
     "text": [
      "End Simple crawling\n",
      "Start Simple crawling :  http://domair.interpark.com/api/booking/airJourney.do\n",
      ">> Parameters\n",
      "chd:0 , format:json , inf:0 , depDate:20170816 , arr:PUS , dep:GMP , adt:1 , tripDivi:0 , airlineCode:ZE , \n"
     ]
    },
    {
     "name": "stderr",
     "output_type": "stream",
     "text": [
      "2017-08-09 08:22:36,268 root     DEBUG    Crawling Interpark domastic schedule site\n"
     ]
    },
    {
     "name": "stdout",
     "output_type": "stream",
     "text": [
      "End Simple crawling\n",
      "Start Simple crawling :  http://domair.interpark.com/api/booking/airJourney.do\n",
      ">> Parameters\n",
      "chd:0 , format:json , inf:0 , depDate:20170817 , arr:PUS , dep:GMP , adt:1 , tripDivi:0 , airlineCode:7C , \n"
     ]
    },
    {
     "name": "stderr",
     "output_type": "stream",
     "text": [
      "2017-08-09 08:22:37,222 root     DEBUG    Crawling Interpark domastic schedule site\n"
     ]
    },
    {
     "name": "stdout",
     "output_type": "stream",
     "text": [
      "End Simple crawling\n",
      "Start Simple crawling :  http://domair.interpark.com/api/booking/airJourney.do\n",
      ">> Parameters\n",
      "chd:0 , format:json , inf:0 , depDate:20170817 , arr:PUS , dep:GMP , adt:1 , tripDivi:0 , airlineCode:BX , \n"
     ]
    },
    {
     "name": "stderr",
     "output_type": "stream",
     "text": [
      "2017-08-09 08:22:38,571 root     DEBUG    Crawling Interpark domastic schedule site\n"
     ]
    },
    {
     "name": "stdout",
     "output_type": "stream",
     "text": [
      "End Simple crawling\n",
      "Start Simple crawling :  http://domair.interpark.com/api/booking/airJourney.do\n",
      ">> Parameters\n",
      "chd:0 , format:json , inf:0 , depDate:20170817 , arr:PUS , dep:GMP , adt:1 , tripDivi:0 , airlineCode:OZ , \n"
     ]
    },
    {
     "name": "stderr",
     "output_type": "stream",
     "text": [
      "2017-08-09 08:22:39,838 root     DEBUG    Crawling Interpark domastic schedule site\n"
     ]
    },
    {
     "name": "stdout",
     "output_type": "stream",
     "text": [
      "End Simple crawling\n",
      "Start Simple crawling :  http://domair.interpark.com/api/booking/airJourney.do\n",
      ">> Parameters\n",
      "chd:0 , format:json , inf:0 , depDate:20170817 , arr:PUS , dep:GMP , adt:1 , tripDivi:0 , airlineCode:ZE , \n"
     ]
    },
    {
     "name": "stderr",
     "output_type": "stream",
     "text": [
      "2017-08-09 08:22:40,816 root     DEBUG    Crawling Interpark domastic schedule site\n"
     ]
    },
    {
     "name": "stdout",
     "output_type": "stream",
     "text": [
      "End Simple crawling\n",
      "Start Simple crawling :  http://domair.interpark.com/api/booking/airJourney.do\n",
      ">> Parameters\n",
      "chd:0 , format:json , inf:0 , depDate:20170818 , arr:PUS , dep:GMP , adt:1 , tripDivi:0 , airlineCode:7C , \n"
     ]
    },
    {
     "name": "stderr",
     "output_type": "stream",
     "text": [
      "2017-08-09 08:22:45,365 root     DEBUG    Crawling Interpark domastic schedule site\n"
     ]
    },
    {
     "name": "stdout",
     "output_type": "stream",
     "text": [
      "End Simple crawling\n",
      "Start Simple crawling :  http://domair.interpark.com/api/booking/airJourney.do\n",
      ">> Parameters\n",
      "chd:0 , format:json , inf:0 , depDate:20170818 , arr:PUS , dep:GMP , adt:1 , tripDivi:0 , airlineCode:BX , \n"
     ]
    },
    {
     "name": "stderr",
     "output_type": "stream",
     "text": [
      "2017-08-09 08:22:47,044 root     DEBUG    Crawling Interpark domastic schedule site\n"
     ]
    },
    {
     "name": "stdout",
     "output_type": "stream",
     "text": [
      "End Simple crawling\n",
      "Start Simple crawling :  http://domair.interpark.com/api/booking/airJourney.do\n",
      ">> Parameters\n",
      "chd:0 , format:json , inf:0 , depDate:20170818 , arr:PUS , dep:GMP , adt:1 , tripDivi:0 , airlineCode:OZ , \n"
     ]
    },
    {
     "name": "stderr",
     "output_type": "stream",
     "text": [
      "2017-08-09 08:22:48,391 root     DEBUG    Crawling Interpark domastic schedule site\n"
     ]
    },
    {
     "name": "stdout",
     "output_type": "stream",
     "text": [
      "End Simple crawling\n",
      "Start Simple crawling :  http://domair.interpark.com/api/booking/airJourney.do\n",
      ">> Parameters\n",
      "chd:0 , format:json , inf:0 , depDate:20170818 , arr:PUS , dep:GMP , adt:1 , tripDivi:0 , airlineCode:ZE , \n"
     ]
    },
    {
     "name": "stderr",
     "output_type": "stream",
     "text": [
      "2017-08-09 08:22:50,784 root     DEBUG    Crawling Interpark domastic schedule site\n"
     ]
    },
    {
     "name": "stdout",
     "output_type": "stream",
     "text": [
      "End Simple crawling\n",
      "Start Simple crawling :  http://domair.interpark.com/api/booking/airJourney.do\n",
      ">> Parameters\n",
      "chd:0 , format:json , inf:0 , depDate:20170819 , arr:PUS , dep:GMP , adt:1 , tripDivi:0 , airlineCode:7C , \n"
     ]
    },
    {
     "name": "stderr",
     "output_type": "stream",
     "text": [
      "2017-08-09 08:22:53,501 root     DEBUG    Crawling Interpark domastic schedule site\n"
     ]
    },
    {
     "name": "stdout",
     "output_type": "stream",
     "text": [
      "End Simple crawling\n",
      "Start Simple crawling :  http://domair.interpark.com/api/booking/airJourney.do\n",
      ">> Parameters\n",
      "chd:0 , format:json , inf:0 , depDate:20170819 , arr:PUS , dep:GMP , adt:1 , tripDivi:0 , airlineCode:BX , \n"
     ]
    },
    {
     "name": "stderr",
     "output_type": "stream",
     "text": [
      "2017-08-09 08:22:54,868 root     DEBUG    Crawling Interpark domastic schedule site\n"
     ]
    },
    {
     "name": "stdout",
     "output_type": "stream",
     "text": [
      "End Simple crawling\n",
      "Start Simple crawling :  http://domair.interpark.com/api/booking/airJourney.do\n",
      ">> Parameters\n",
      "chd:0 , format:json , inf:0 , depDate:20170819 , arr:PUS , dep:GMP , adt:1 , tripDivi:0 , airlineCode:OZ , \n"
     ]
    },
    {
     "name": "stderr",
     "output_type": "stream",
     "text": [
      "2017-08-09 08:22:56,159 root     DEBUG    Crawling Interpark domastic schedule site\n"
     ]
    },
    {
     "name": "stdout",
     "output_type": "stream",
     "text": [
      "End Simple crawling\n",
      "Start Simple crawling :  http://domair.interpark.com/api/booking/airJourney.do\n",
      ">> Parameters\n",
      "chd:0 , format:json , inf:0 , depDate:20170819 , arr:PUS , dep:GMP , adt:1 , tripDivi:0 , airlineCode:ZE , \n"
     ]
    },
    {
     "name": "stderr",
     "output_type": "stream",
     "text": [
      "2017-08-09 08:22:57,193 root     DEBUG    Crawling Interpark domastic schedule site\n"
     ]
    },
    {
     "name": "stdout",
     "output_type": "stream",
     "text": [
      "End Simple crawling\n",
      "Start Simple crawling :  http://domair.interpark.com/api/booking/airJourney.do\n",
      ">> Parameters\n",
      "chd:0 , format:json , inf:0 , depDate:20170820 , arr:PUS , dep:GMP , adt:1 , tripDivi:0 , airlineCode:7C , \n"
     ]
    },
    {
     "name": "stderr",
     "output_type": "stream",
     "text": [
      "2017-08-09 08:23:03,060 root     DEBUG    Crawling Interpark domastic schedule site\n"
     ]
    },
    {
     "name": "stdout",
     "output_type": "stream",
     "text": [
      "End Simple crawling\n",
      "Start Simple crawling :  http://domair.interpark.com/api/booking/airJourney.do\n",
      ">> Parameters\n",
      "chd:0 , format:json , inf:0 , depDate:20170820 , arr:PUS , dep:GMP , adt:1 , tripDivi:0 , airlineCode:BX , \n"
     ]
    },
    {
     "name": "stderr",
     "output_type": "stream",
     "text": [
      "2017-08-09 08:23:04,530 root     DEBUG    Crawling Interpark domastic schedule site\n"
     ]
    },
    {
     "name": "stdout",
     "output_type": "stream",
     "text": [
      "End Simple crawling\n",
      "Start Simple crawling :  http://domair.interpark.com/api/booking/airJourney.do\n",
      ">> Parameters\n",
      "chd:0 , format:json , inf:0 , depDate:20170820 , arr:PUS , dep:GMP , adt:1 , tripDivi:0 , airlineCode:OZ , \n"
     ]
    },
    {
     "name": "stderr",
     "output_type": "stream",
     "text": [
      "2017-08-09 08:23:05,776 root     DEBUG    Crawling Interpark domastic schedule site\n"
     ]
    },
    {
     "name": "stdout",
     "output_type": "stream",
     "text": [
      "End Simple crawling\n",
      "Start Simple crawling :  http://domair.interpark.com/api/booking/airJourney.do\n",
      ">> Parameters\n",
      "chd:0 , format:json , inf:0 , depDate:20170820 , arr:PUS , dep:GMP , adt:1 , tripDivi:0 , airlineCode:ZE , \n"
     ]
    },
    {
     "name": "stderr",
     "output_type": "stream",
     "text": [
      "2017-08-09 08:23:06,988 root     DEBUG    Crawling Interpark domastic schedule site\n"
     ]
    },
    {
     "name": "stdout",
     "output_type": "stream",
     "text": [
      "End Simple crawling\n",
      "Start Simple crawling :  http://domair.interpark.com/api/booking/airJourney.do\n",
      ">> Parameters\n",
      "chd:0 , format:json , inf:0 , depDate:20170821 , arr:PUS , dep:GMP , adt:1 , tripDivi:0 , airlineCode:7C , \n"
     ]
    },
    {
     "name": "stderr",
     "output_type": "stream",
     "text": [
      "2017-08-09 08:23:12,232 root     DEBUG    Crawling Interpark domastic schedule site\n"
     ]
    },
    {
     "name": "stdout",
     "output_type": "stream",
     "text": [
      "End Simple crawling\n",
      "Start Simple crawling :  http://domair.interpark.com/api/booking/airJourney.do\n",
      ">> Parameters\n",
      "chd:0 , format:json , inf:0 , depDate:20170821 , arr:PUS , dep:GMP , adt:1 , tripDivi:0 , airlineCode:BX , \n"
     ]
    },
    {
     "name": "stderr",
     "output_type": "stream",
     "text": [
      "2017-08-09 08:23:13,735 root     DEBUG    Crawling Interpark domastic schedule site\n"
     ]
    },
    {
     "name": "stdout",
     "output_type": "stream",
     "text": [
      "End Simple crawling\n",
      "Start Simple crawling :  http://domair.interpark.com/api/booking/airJourney.do\n",
      ">> Parameters\n",
      "chd:0 , format:json , inf:0 , depDate:20170821 , arr:PUS , dep:GMP , adt:1 , tripDivi:0 , airlineCode:OZ , \n"
     ]
    },
    {
     "name": "stderr",
     "output_type": "stream",
     "text": [
      "2017-08-09 08:23:15,031 root     DEBUG    Crawling Interpark domastic schedule site\n"
     ]
    },
    {
     "name": "stdout",
     "output_type": "stream",
     "text": [
      "End Simple crawling\n",
      "Start Simple crawling :  http://domair.interpark.com/api/booking/airJourney.do\n",
      ">> Parameters\n",
      "chd:0 , format:json , inf:0 , depDate:20170821 , arr:PUS , dep:GMP , adt:1 , tripDivi:0 , airlineCode:ZE , \n"
     ]
    },
    {
     "name": "stderr",
     "output_type": "stream",
     "text": [
      "2017-08-09 08:23:16,003 root     DEBUG    Crawling Interpark domastic schedule site\n"
     ]
    },
    {
     "name": "stdout",
     "output_type": "stream",
     "text": [
      "End Simple crawling\n",
      "Start Simple crawling :  http://domair.interpark.com/api/booking/airJourney.do\n",
      ">> Parameters\n",
      "chd:0 , format:json , inf:0 , depDate:20170822 , arr:PUS , dep:GMP , adt:1 , tripDivi:0 , airlineCode:7C , \n"
     ]
    },
    {
     "name": "stderr",
     "output_type": "stream",
     "text": [
      "2017-08-09 08:23:19,218 root     DEBUG    Crawling Interpark domastic schedule site\n"
     ]
    },
    {
     "name": "stdout",
     "output_type": "stream",
     "text": [
      "End Simple crawling\n",
      "Start Simple crawling :  http://domair.interpark.com/api/booking/airJourney.do\n",
      ">> Parameters\n",
      "chd:0 , format:json , inf:0 , depDate:20170822 , arr:PUS , dep:GMP , adt:1 , tripDivi:0 , airlineCode:BX , \n"
     ]
    },
    {
     "name": "stderr",
     "output_type": "stream",
     "text": [
      "2017-08-09 08:23:20,789 root     DEBUG    Crawling Interpark domastic schedule site\n"
     ]
    },
    {
     "name": "stdout",
     "output_type": "stream",
     "text": [
      "End Simple crawling\n",
      "Start Simple crawling :  http://domair.interpark.com/api/booking/airJourney.do\n",
      ">> Parameters\n",
      "chd:0 , format:json , inf:0 , depDate:20170822 , arr:PUS , dep:GMP , adt:1 , tripDivi:0 , airlineCode:OZ , \n"
     ]
    },
    {
     "name": "stderr",
     "output_type": "stream",
     "text": [
      "2017-08-09 08:23:22,057 root     DEBUG    Crawling Interpark domastic schedule site\n"
     ]
    },
    {
     "name": "stdout",
     "output_type": "stream",
     "text": [
      "End Simple crawling\n",
      "Start Simple crawling :  http://domair.interpark.com/api/booking/airJourney.do\n",
      ">> Parameters\n",
      "chd:0 , format:json , inf:0 , depDate:20170822 , arr:PUS , dep:GMP , adt:1 , tripDivi:0 , airlineCode:ZE , \n"
     ]
    },
    {
     "name": "stderr",
     "output_type": "stream",
     "text": [
      "2017-08-09 08:23:23,033 root     DEBUG    Crawling Interpark domastic schedule site\n"
     ]
    },
    {
     "name": "stdout",
     "output_type": "stream",
     "text": [
      "End Simple crawling\n",
      "Start Simple crawling :  http://domair.interpark.com/api/booking/airJourney.do\n",
      ">> Parameters\n",
      "chd:0 , format:json , inf:0 , depDate:20170823 , arr:PUS , dep:GMP , adt:1 , tripDivi:0 , airlineCode:7C , \n"
     ]
    },
    {
     "name": "stderr",
     "output_type": "stream",
     "text": [
      "2017-08-09 08:23:24,049 root     DEBUG    Crawling Interpark domastic schedule site\n"
     ]
    },
    {
     "name": "stdout",
     "output_type": "stream",
     "text": [
      "End Simple crawling\n",
      "Start Simple crawling :  http://domair.interpark.com/api/booking/airJourney.do\n",
      ">> Parameters\n",
      "chd:0 , format:json , inf:0 , depDate:20170823 , arr:PUS , dep:GMP , adt:1 , tripDivi:0 , airlineCode:BX , \n"
     ]
    },
    {
     "name": "stderr",
     "output_type": "stream",
     "text": [
      "2017-08-09 08:23:25,698 root     DEBUG    Crawling Interpark domastic schedule site\n"
     ]
    },
    {
     "name": "stdout",
     "output_type": "stream",
     "text": [
      "End Simple crawling\n",
      "Start Simple crawling :  http://domair.interpark.com/api/booking/airJourney.do\n",
      ">> Parameters\n",
      "chd:0 , format:json , inf:0 , depDate:20170823 , arr:PUS , dep:GMP , adt:1 , tripDivi:0 , airlineCode:OZ , \n"
     ]
    },
    {
     "name": "stderr",
     "output_type": "stream",
     "text": [
      "2017-08-09 08:23:26,996 root     DEBUG    Crawling Interpark domastic schedule site\n"
     ]
    },
    {
     "name": "stdout",
     "output_type": "stream",
     "text": [
      "End Simple crawling\n",
      "Start Simple crawling :  http://domair.interpark.com/api/booking/airJourney.do\n",
      ">> Parameters\n",
      "chd:0 , format:json , inf:0 , depDate:20170823 , arr:PUS , dep:GMP , adt:1 , tripDivi:0 , airlineCode:ZE , \n"
     ]
    },
    {
     "name": "stderr",
     "output_type": "stream",
     "text": [
      "2017-08-09 08:23:27,982 root     DEBUG    Crawling Interpark domastic schedule site\n"
     ]
    },
    {
     "name": "stdout",
     "output_type": "stream",
     "text": [
      "End Simple crawling\n",
      "Start Simple crawling :  http://domair.interpark.com/api/booking/airJourney.do\n",
      ">> Parameters\n",
      "chd:0 , format:json , inf:0 , depDate:20170824 , arr:PUS , dep:GMP , adt:1 , tripDivi:0 , airlineCode:7C , \n"
     ]
    },
    {
     "name": "stderr",
     "output_type": "stream",
     "text": [
      "2017-08-09 08:23:29,054 root     DEBUG    Crawling Interpark domastic schedule site\n"
     ]
    },
    {
     "name": "stdout",
     "output_type": "stream",
     "text": [
      "End Simple crawling\n",
      "Start Simple crawling :  http://domair.interpark.com/api/booking/airJourney.do\n",
      ">> Parameters\n",
      "chd:0 , format:json , inf:0 , depDate:20170824 , arr:PUS , dep:GMP , adt:1 , tripDivi:0 , airlineCode:BX , \n"
     ]
    },
    {
     "name": "stderr",
     "output_type": "stream",
     "text": [
      "2017-08-09 08:23:30,356 root     DEBUG    Crawling Interpark domastic schedule site\n"
     ]
    },
    {
     "name": "stdout",
     "output_type": "stream",
     "text": [
      "End Simple crawling\n",
      "Start Simple crawling :  http://domair.interpark.com/api/booking/airJourney.do\n",
      ">> Parameters\n",
      "chd:0 , format:json , inf:0 , depDate:20170824 , arr:PUS , dep:GMP , adt:1 , tripDivi:0 , airlineCode:OZ , \n"
     ]
    },
    {
     "name": "stderr",
     "output_type": "stream",
     "text": [
      "2017-08-09 08:23:31,455 root     DEBUG    Crawling Interpark domastic schedule site\n"
     ]
    },
    {
     "name": "stdout",
     "output_type": "stream",
     "text": [
      "End Simple crawling\n",
      "Start Simple crawling :  http://domair.interpark.com/api/booking/airJourney.do\n",
      ">> Parameters\n",
      "chd:0 , format:json , inf:0 , depDate:20170824 , arr:PUS , dep:GMP , adt:1 , tripDivi:0 , airlineCode:ZE , \n"
     ]
    },
    {
     "name": "stderr",
     "output_type": "stream",
     "text": [
      "2017-08-09 08:23:32,469 root     DEBUG    Crawling Interpark domastic schedule site\n"
     ]
    },
    {
     "name": "stdout",
     "output_type": "stream",
     "text": [
      "End Simple crawling\n",
      "Start Simple crawling :  http://domair.interpark.com/api/booking/airJourney.do\n",
      ">> Parameters\n",
      "chd:0 , format:json , inf:0 , depDate:20170825 , arr:PUS , dep:GMP , adt:1 , tripDivi:0 , airlineCode:7C , \n"
     ]
    },
    {
     "name": "stderr",
     "output_type": "stream",
     "text": [
      "2017-08-09 08:23:37,599 root     DEBUG    Crawling Interpark domastic schedule site\n"
     ]
    },
    {
     "name": "stdout",
     "output_type": "stream",
     "text": [
      "End Simple crawling\n",
      "Start Simple crawling :  http://domair.interpark.com/api/booking/airJourney.do\n",
      ">> Parameters\n",
      "chd:0 , format:json , inf:0 , depDate:20170825 , arr:PUS , dep:GMP , adt:1 , tripDivi:0 , airlineCode:BX , \n"
     ]
    },
    {
     "name": "stderr",
     "output_type": "stream",
     "text": [
      "2017-08-09 08:23:39,070 root     DEBUG    Crawling Interpark domastic schedule site\n"
     ]
    },
    {
     "name": "stdout",
     "output_type": "stream",
     "text": [
      "End Simple crawling\n",
      "Start Simple crawling :  http://domair.interpark.com/api/booking/airJourney.do\n",
      ">> Parameters\n",
      "chd:0 , format:json , inf:0 , depDate:20170825 , arr:PUS , dep:GMP , adt:1 , tripDivi:0 , airlineCode:OZ , \n"
     ]
    },
    {
     "name": "stderr",
     "output_type": "stream",
     "text": [
      "2017-08-09 08:23:40,457 root     DEBUG    Crawling Interpark domastic schedule site\n"
     ]
    },
    {
     "name": "stdout",
     "output_type": "stream",
     "text": [
      "End Simple crawling\n",
      "Start Simple crawling :  http://domair.interpark.com/api/booking/airJourney.do\n",
      ">> Parameters\n",
      "chd:0 , format:json , inf:0 , depDate:20170825 , arr:PUS , dep:GMP , adt:1 , tripDivi:0 , airlineCode:ZE , \n"
     ]
    },
    {
     "name": "stderr",
     "output_type": "stream",
     "text": [
      "2017-08-09 08:23:41,430 root     DEBUG    Crawling Interpark domastic schedule site\n"
     ]
    },
    {
     "name": "stdout",
     "output_type": "stream",
     "text": [
      "End Simple crawling\n",
      "Start Simple crawling :  http://domair.interpark.com/api/booking/airJourney.do\n",
      ">> Parameters\n",
      "chd:0 , format:json , inf:0 , depDate:20170826 , arr:PUS , dep:GMP , adt:1 , tripDivi:0 , airlineCode:7C , \n"
     ]
    },
    {
     "name": "stderr",
     "output_type": "stream",
     "text": [
      "2017-08-09 08:23:48,385 root     DEBUG    Crawling Interpark domastic schedule site\n"
     ]
    },
    {
     "name": "stdout",
     "output_type": "stream",
     "text": [
      "End Simple crawling\n",
      "Start Simple crawling :  http://domair.interpark.com/api/booking/airJourney.do\n",
      ">> Parameters\n",
      "chd:0 , format:json , inf:0 , depDate:20170826 , arr:PUS , dep:GMP , adt:1 , tripDivi:0 , airlineCode:BX , \n"
     ]
    },
    {
     "name": "stderr",
     "output_type": "stream",
     "text": [
      "2017-08-09 08:23:49,627 root     DEBUG    Crawling Interpark domastic schedule site\n"
     ]
    },
    {
     "name": "stdout",
     "output_type": "stream",
     "text": [
      "End Simple crawling\n",
      "Start Simple crawling :  http://domair.interpark.com/api/booking/airJourney.do\n",
      ">> Parameters\n",
      "chd:0 , format:json , inf:0 , depDate:20170826 , arr:PUS , dep:GMP , adt:1 , tripDivi:0 , airlineCode:OZ , \n"
     ]
    },
    {
     "name": "stderr",
     "output_type": "stream",
     "text": [
      "2017-08-09 08:23:51,135 root     DEBUG    Crawling Interpark domastic schedule site\n"
     ]
    },
    {
     "name": "stdout",
     "output_type": "stream",
     "text": [
      "End Simple crawling\n",
      "Start Simple crawling :  http://domair.interpark.com/api/booking/airJourney.do\n",
      ">> Parameters\n",
      "chd:0 , format:json , inf:0 , depDate:20170826 , arr:PUS , dep:GMP , adt:1 , tripDivi:0 , airlineCode:ZE , \n"
     ]
    },
    {
     "name": "stderr",
     "output_type": "stream",
     "text": [
      "2017-08-09 08:23:52,194 root     DEBUG    Crawling Interpark domastic schedule site\n"
     ]
    },
    {
     "name": "stdout",
     "output_type": "stream",
     "text": [
      "End Simple crawling\n",
      "Start Simple crawling :  http://domair.interpark.com/api/booking/airJourney.do\n",
      ">> Parameters\n",
      "chd:0 , format:json , inf:0 , depDate:20170827 , arr:PUS , dep:GMP , adt:1 , tripDivi:0 , airlineCode:7C , \n"
     ]
    },
    {
     "name": "stderr",
     "output_type": "stream",
     "text": [
      "2017-08-09 08:23:54,651 root     DEBUG    Crawling Interpark domastic schedule site\n"
     ]
    },
    {
     "name": "stdout",
     "output_type": "stream",
     "text": [
      "End Simple crawling\n",
      "Start Simple crawling :  http://domair.interpark.com/api/booking/airJourney.do\n",
      ">> Parameters\n",
      "chd:0 , format:json , inf:0 , depDate:20170827 , arr:PUS , dep:GMP , adt:1 , tripDivi:0 , airlineCode:BX , \n"
     ]
    },
    {
     "name": "stderr",
     "output_type": "stream",
     "text": [
      "2017-08-09 08:23:55,908 root     DEBUG    Crawling Interpark domastic schedule site\n"
     ]
    },
    {
     "name": "stdout",
     "output_type": "stream",
     "text": [
      "End Simple crawling\n",
      "Start Simple crawling :  http://domair.interpark.com/api/booking/airJourney.do\n",
      ">> Parameters\n",
      "chd:0 , format:json , inf:0 , depDate:20170827 , arr:PUS , dep:GMP , adt:1 , tripDivi:0 , airlineCode:OZ , \n"
     ]
    },
    {
     "name": "stderr",
     "output_type": "stream",
     "text": [
      "2017-08-09 08:23:57,458 root     DEBUG    Crawling Interpark domastic schedule site\n"
     ]
    },
    {
     "name": "stdout",
     "output_type": "stream",
     "text": [
      "End Simple crawling\n",
      "Start Simple crawling :  http://domair.interpark.com/api/booking/airJourney.do\n",
      ">> Parameters\n",
      "chd:0 , format:json , inf:0 , depDate:20170827 , arr:PUS , dep:GMP , adt:1 , tripDivi:0 , airlineCode:ZE , \n"
     ]
    },
    {
     "name": "stderr",
     "output_type": "stream",
     "text": [
      "2017-08-09 08:23:58,685 root     DEBUG    Crawling Interpark domastic schedule site\n"
     ]
    },
    {
     "name": "stdout",
     "output_type": "stream",
     "text": [
      "End Simple crawling\n",
      "Start Simple crawling :  http://domair.interpark.com/api/booking/airJourney.do\n",
      ">> Parameters\n",
      "chd:0 , format:json , inf:0 , depDate:20170828 , arr:PUS , dep:GMP , adt:1 , tripDivi:0 , airlineCode:7C , \n"
     ]
    },
    {
     "name": "stderr",
     "output_type": "stream",
     "text": [
      "2017-08-09 08:24:00,062 root     DEBUG    Crawling Interpark domastic schedule site\n"
     ]
    },
    {
     "name": "stdout",
     "output_type": "stream",
     "text": [
      "End Simple crawling\n",
      "Start Simple crawling :  http://domair.interpark.com/api/booking/airJourney.do\n",
      ">> Parameters\n",
      "chd:0 , format:json , inf:0 , depDate:20170828 , arr:PUS , dep:GMP , adt:1 , tripDivi:0 , airlineCode:BX , \n"
     ]
    },
    {
     "name": "stderr",
     "output_type": "stream",
     "text": [
      "2017-08-09 08:24:01,491 root     DEBUG    Crawling Interpark domastic schedule site\n"
     ]
    },
    {
     "name": "stdout",
     "output_type": "stream",
     "text": [
      "End Simple crawling\n",
      "Start Simple crawling :  http://domair.interpark.com/api/booking/airJourney.do\n",
      ">> Parameters\n",
      "chd:0 , format:json , inf:0 , depDate:20170828 , arr:PUS , dep:GMP , adt:1 , tripDivi:0 , airlineCode:OZ , \n"
     ]
    },
    {
     "name": "stderr",
     "output_type": "stream",
     "text": [
      "2017-08-09 08:24:02,824 root     DEBUG    Crawling Interpark domastic schedule site\n"
     ]
    },
    {
     "name": "stdout",
     "output_type": "stream",
     "text": [
      "End Simple crawling\n",
      "Start Simple crawling :  http://domair.interpark.com/api/booking/airJourney.do\n",
      ">> Parameters\n",
      "chd:0 , format:json , inf:0 , depDate:20170828 , arr:PUS , dep:GMP , adt:1 , tripDivi:0 , airlineCode:ZE , \n"
     ]
    },
    {
     "name": "stderr",
     "output_type": "stream",
     "text": [
      "2017-08-09 08:24:03,895 root     DEBUG    Crawling Interpark domastic schedule site\n"
     ]
    },
    {
     "name": "stdout",
     "output_type": "stream",
     "text": [
      "End Simple crawling\n",
      "Start Simple crawling :  http://domair.interpark.com/api/booking/airJourney.do\n",
      ">> Parameters\n",
      "chd:0 , format:json , inf:0 , depDate:20170829 , arr:PUS , dep:GMP , adt:1 , tripDivi:0 , airlineCode:7C , \n"
     ]
    },
    {
     "name": "stderr",
     "output_type": "stream",
     "text": [
      "2017-08-09 08:24:16,048 root     DEBUG    Crawling Interpark domastic schedule site\n"
     ]
    },
    {
     "name": "stdout",
     "output_type": "stream",
     "text": [
      "End Simple crawling\n",
      "Start Simple crawling :  http://domair.interpark.com/api/booking/airJourney.do\n",
      ">> Parameters\n",
      "chd:0 , format:json , inf:0 , depDate:20170829 , arr:PUS , dep:GMP , adt:1 , tripDivi:0 , airlineCode:BX , \n"
     ]
    },
    {
     "name": "stderr",
     "output_type": "stream",
     "text": [
      "2017-08-09 08:24:17,210 root     DEBUG    Crawling Interpark domastic schedule site\n"
     ]
    },
    {
     "name": "stdout",
     "output_type": "stream",
     "text": [
      "End Simple crawling\n",
      "Start Simple crawling :  http://domair.interpark.com/api/booking/airJourney.do\n",
      ">> Parameters\n",
      "chd:0 , format:json , inf:0 , depDate:20170829 , arr:PUS , dep:GMP , adt:1 , tripDivi:0 , airlineCode:OZ , \n"
     ]
    },
    {
     "name": "stderr",
     "output_type": "stream",
     "text": [
      "2017-08-09 08:24:18,449 root     DEBUG    Crawling Interpark domastic schedule site\n"
     ]
    },
    {
     "name": "stdout",
     "output_type": "stream",
     "text": [
      "End Simple crawling\n",
      "Start Simple crawling :  http://domair.interpark.com/api/booking/airJourney.do\n",
      ">> Parameters\n",
      "chd:0 , format:json , inf:0 , depDate:20170829 , arr:PUS , dep:GMP , adt:1 , tripDivi:0 , airlineCode:ZE , \n"
     ]
    },
    {
     "name": "stderr",
     "output_type": "stream",
     "text": [
      "2017-08-09 08:24:19,422 root     DEBUG    Crawling Interpark domastic schedule site\n"
     ]
    },
    {
     "name": "stdout",
     "output_type": "stream",
     "text": [
      "End Simple crawling\n",
      "Start Simple crawling :  http://domair.interpark.com/api/booking/airJourney.do\n",
      ">> Parameters\n",
      "chd:0 , format:json , inf:0 , depDate:20170830 , arr:PUS , dep:GMP , adt:1 , tripDivi:0 , airlineCode:7C , \n"
     ]
    },
    {
     "name": "stderr",
     "output_type": "stream",
     "text": [
      "2017-08-09 08:24:20,397 root     DEBUG    Crawling Interpark domastic schedule site\n"
     ]
    },
    {
     "name": "stdout",
     "output_type": "stream",
     "text": [
      "End Simple crawling\n",
      "Start Simple crawling :  http://domair.interpark.com/api/booking/airJourney.do\n",
      ">> Parameters\n",
      "chd:0 , format:json , inf:0 , depDate:20170830 , arr:PUS , dep:GMP , adt:1 , tripDivi:0 , airlineCode:BX , \n"
     ]
    },
    {
     "name": "stderr",
     "output_type": "stream",
     "text": [
      "2017-08-09 08:24:21,742 root     DEBUG    Crawling Interpark domastic schedule site\n"
     ]
    },
    {
     "name": "stdout",
     "output_type": "stream",
     "text": [
      "End Simple crawling\n",
      "Start Simple crawling :  http://domair.interpark.com/api/booking/airJourney.do\n",
      ">> Parameters\n",
      "chd:0 , format:json , inf:0 , depDate:20170830 , arr:PUS , dep:GMP , adt:1 , tripDivi:0 , airlineCode:OZ , \n"
     ]
    },
    {
     "name": "stderr",
     "output_type": "stream",
     "text": [
      "2017-08-09 08:24:23,009 root     DEBUG    Crawling Interpark domastic schedule site\n"
     ]
    },
    {
     "name": "stdout",
     "output_type": "stream",
     "text": [
      "End Simple crawling\n",
      "Start Simple crawling :  http://domair.interpark.com/api/booking/airJourney.do\n",
      ">> Parameters\n",
      "chd:0 , format:json , inf:0 , depDate:20170830 , arr:PUS , dep:GMP , adt:1 , tripDivi:0 , airlineCode:ZE , \n"
     ]
    },
    {
     "name": "stderr",
     "output_type": "stream",
     "text": [
      "2017-08-09 08:24:24,029 root     INFO     end batch job :: craw_by_route_site :: elapsed -0:02:46.526524 :: Total crawl:84 files saved.\n",
      "2017-08-09 08:24:24,041 root     INFO     start batch job :: craw_by_route_site[PUS,GMP,IP,['20170810', '20170811', '20170812', '20170813', '20170814', '20170815', '20170816', '20170817', '20170818', '20170819', '20170820', '20170821', '20170822', '20170823', '20170824', '20170825', '20170826', '20170827', '20170828', '20170829', '20170830'],['7C', 'BX', 'OZ', 'ZE']]\n",
      "2017-08-09 08:24:24,051 root     DEBUG    0 :: IP :: crawling_IP_dom :: False\n",
      "2017-08-09 08:24:24,058 root     INFO     <function crawling_IP_dom at 0x0000000007FA6378> :: False\n",
      "2017-08-09 08:24:24,066 root     DEBUG    Crawling Interpark domastic schedule site\n"
     ]
    },
    {
     "name": "stdout",
     "output_type": "stream",
     "text": [
      "End Simple crawling\n",
      "Start Simple crawling :  http://domair.interpark.com/api/booking/airJourney.do\n",
      ">> Parameters\n",
      "chd:0 , format:json , inf:0 , depDate:20170810 , arr:GMP , dep:PUS , adt:1 , tripDivi:0 , airlineCode:7C , \n"
     ]
    },
    {
     "name": "stderr",
     "output_type": "stream",
     "text": [
      "2017-08-09 08:24:25,008 root     DEBUG    Crawling Interpark domastic schedule site\n"
     ]
    },
    {
     "name": "stdout",
     "output_type": "stream",
     "text": [
      "End Simple crawling\n",
      "Start Simple crawling :  http://domair.interpark.com/api/booking/airJourney.do\n",
      ">> Parameters\n",
      "chd:0 , format:json , inf:0 , depDate:20170810 , arr:GMP , dep:PUS , adt:1 , tripDivi:0 , airlineCode:BX , \n"
     ]
    },
    {
     "name": "stderr",
     "output_type": "stream",
     "text": [
      "2017-08-09 08:24:26,533 root     DEBUG    Crawling Interpark domastic schedule site\n"
     ]
    },
    {
     "name": "stdout",
     "output_type": "stream",
     "text": [
      "End Simple crawling\n",
      "Start Simple crawling :  http://domair.interpark.com/api/booking/airJourney.do\n",
      ">> Parameters\n",
      "chd:0 , format:json , inf:0 , depDate:20170810 , arr:GMP , dep:PUS , adt:1 , tripDivi:0 , airlineCode:OZ , \n"
     ]
    },
    {
     "name": "stderr",
     "output_type": "stream",
     "text": [
      "2017-08-09 08:24:27,926 root     DEBUG    Crawling Interpark domastic schedule site\n"
     ]
    },
    {
     "name": "stdout",
     "output_type": "stream",
     "text": [
      "End Simple crawling\n",
      "Start Simple crawling :  http://domair.interpark.com/api/booking/airJourney.do\n",
      ">> Parameters\n",
      "chd:0 , format:json , inf:0 , depDate:20170810 , arr:GMP , dep:PUS , adt:1 , tripDivi:0 , airlineCode:ZE , \n"
     ]
    },
    {
     "name": "stderr",
     "output_type": "stream",
     "text": [
      "2017-08-09 08:24:28,867 root     DEBUG    Crawling Interpark domastic schedule site\n"
     ]
    },
    {
     "name": "stdout",
     "output_type": "stream",
     "text": [
      "End Simple crawling\n",
      "Start Simple crawling :  http://domair.interpark.com/api/booking/airJourney.do\n",
      ">> Parameters\n",
      "chd:0 , format:json , inf:0 , depDate:20170811 , arr:GMP , dep:PUS , adt:1 , tripDivi:0 , airlineCode:7C , \n"
     ]
    },
    {
     "name": "stderr",
     "output_type": "stream",
     "text": [
      "2017-08-09 08:24:33,329 root     DEBUG    Crawling Interpark domastic schedule site\n"
     ]
    },
    {
     "name": "stdout",
     "output_type": "stream",
     "text": [
      "End Simple crawling\n",
      "Start Simple crawling :  http://domair.interpark.com/api/booking/airJourney.do\n",
      ">> Parameters\n",
      "chd:0 , format:json , inf:0 , depDate:20170811 , arr:GMP , dep:PUS , adt:1 , tripDivi:0 , airlineCode:BX , \n"
     ]
    },
    {
     "name": "stderr",
     "output_type": "stream",
     "text": [
      "2017-08-09 08:24:35,601 root     DEBUG    Crawling Interpark domastic schedule site\n"
     ]
    },
    {
     "name": "stdout",
     "output_type": "stream",
     "text": [
      "End Simple crawling\n",
      "Start Simple crawling :  http://domair.interpark.com/api/booking/airJourney.do\n",
      ">> Parameters\n",
      "chd:0 , format:json , inf:0 , depDate:20170811 , arr:GMP , dep:PUS , adt:1 , tripDivi:0 , airlineCode:OZ , \n"
     ]
    },
    {
     "name": "stderr",
     "output_type": "stream",
     "text": [
      "2017-08-09 08:24:36,870 root     DEBUG    Crawling Interpark domastic schedule site\n"
     ]
    },
    {
     "name": "stdout",
     "output_type": "stream",
     "text": [
      "End Simple crawling\n",
      "Start Simple crawling :  http://domair.interpark.com/api/booking/airJourney.do\n",
      ">> Parameters\n",
      "chd:0 , format:json , inf:0 , depDate:20170811 , arr:GMP , dep:PUS , adt:1 , tripDivi:0 , airlineCode:ZE , \n"
     ]
    },
    {
     "name": "stderr",
     "output_type": "stream",
     "text": [
      "2017-08-09 08:24:37,928 root     DEBUG    Crawling Interpark domastic schedule site\n"
     ]
    },
    {
     "name": "stdout",
     "output_type": "stream",
     "text": [
      "End Simple crawling\n",
      "Start Simple crawling :  http://domair.interpark.com/api/booking/airJourney.do\n",
      ">> Parameters\n",
      "chd:0 , format:json , inf:0 , depDate:20170812 , arr:GMP , dep:PUS , adt:1 , tripDivi:0 , airlineCode:7C , \n"
     ]
    },
    {
     "name": "stderr",
     "output_type": "stream",
     "text": [
      "2017-08-09 08:24:39,744 root     DEBUG    Crawling Interpark domastic schedule site\n"
     ]
    },
    {
     "name": "stdout",
     "output_type": "stream",
     "text": [
      "End Simple crawling\n",
      "Start Simple crawling :  http://domair.interpark.com/api/booking/airJourney.do\n",
      ">> Parameters\n",
      "chd:0 , format:json , inf:0 , depDate:20170812 , arr:GMP , dep:PUS , adt:1 , tripDivi:0 , airlineCode:BX , \n"
     ]
    },
    {
     "name": "stderr",
     "output_type": "stream",
     "text": [
      "2017-08-09 08:24:41,267 root     DEBUG    Crawling Interpark domastic schedule site\n"
     ]
    },
    {
     "name": "stdout",
     "output_type": "stream",
     "text": [
      "End Simple crawling\n",
      "Start Simple crawling :  http://domair.interpark.com/api/booking/airJourney.do\n",
      ">> Parameters\n",
      "chd:0 , format:json , inf:0 , depDate:20170812 , arr:GMP , dep:PUS , adt:1 , tripDivi:0 , airlineCode:OZ , \n"
     ]
    },
    {
     "name": "stderr",
     "output_type": "stream",
     "text": [
      "2017-08-09 08:24:42,550 root     DEBUG    Crawling Interpark domastic schedule site\n"
     ]
    },
    {
     "name": "stdout",
     "output_type": "stream",
     "text": [
      "End Simple crawling\n",
      "Start Simple crawling :  http://domair.interpark.com/api/booking/airJourney.do\n",
      ">> Parameters\n",
      "chd:0 , format:json , inf:0 , depDate:20170812 , arr:GMP , dep:PUS , adt:1 , tripDivi:0 , airlineCode:ZE , \n"
     ]
    },
    {
     "name": "stderr",
     "output_type": "stream",
     "text": [
      "2017-08-09 08:24:43,662 root     DEBUG    Crawling Interpark domastic schedule site\n"
     ]
    },
    {
     "name": "stdout",
     "output_type": "stream",
     "text": [
      "End Simple crawling\n",
      "Start Simple crawling :  http://domair.interpark.com/api/booking/airJourney.do\n",
      ">> Parameters\n",
      "chd:0 , format:json , inf:0 , depDate:20170813 , arr:GMP , dep:PUS , adt:1 , tripDivi:0 , airlineCode:7C , \n"
     ]
    },
    {
     "name": "stderr",
     "output_type": "stream",
     "text": [
      "2017-08-09 08:24:48,412 root     DEBUG    Crawling Interpark domastic schedule site\n"
     ]
    },
    {
     "name": "stdout",
     "output_type": "stream",
     "text": [
      "End Simple crawling\n",
      "Start Simple crawling :  http://domair.interpark.com/api/booking/airJourney.do\n",
      ">> Parameters\n",
      "chd:0 , format:json , inf:0 , depDate:20170813 , arr:GMP , dep:PUS , adt:1 , tripDivi:0 , airlineCode:BX , \n"
     ]
    },
    {
     "name": "stderr",
     "output_type": "stream",
     "text": [
      "2017-08-09 08:24:50,024 root     DEBUG    Crawling Interpark domastic schedule site\n"
     ]
    },
    {
     "name": "stdout",
     "output_type": "stream",
     "text": [
      "End Simple crawling\n",
      "Start Simple crawling :  http://domair.interpark.com/api/booking/airJourney.do\n",
      ">> Parameters\n",
      "chd:0 , format:json , inf:0 , depDate:20170813 , arr:GMP , dep:PUS , adt:1 , tripDivi:0 , airlineCode:OZ , \n"
     ]
    },
    {
     "name": "stderr",
     "output_type": "stream",
     "text": [
      "2017-08-09 08:24:51,238 root     DEBUG    Crawling Interpark domastic schedule site\n"
     ]
    },
    {
     "name": "stdout",
     "output_type": "stream",
     "text": [
      "End Simple crawling\n",
      "Start Simple crawling :  http://domair.interpark.com/api/booking/airJourney.do\n",
      ">> Parameters\n",
      "chd:0 , format:json , inf:0 , depDate:20170813 , arr:GMP , dep:PUS , adt:1 , tripDivi:0 , airlineCode:ZE , \n"
     ]
    },
    {
     "name": "stderr",
     "output_type": "stream",
     "text": [
      "2017-08-09 08:24:52,254 root     DEBUG    Crawling Interpark domastic schedule site\n"
     ]
    },
    {
     "name": "stdout",
     "output_type": "stream",
     "text": [
      "End Simple crawling\n",
      "Start Simple crawling :  http://domair.interpark.com/api/booking/airJourney.do\n",
      ">> Parameters\n",
      "chd:0 , format:json , inf:0 , depDate:20170814 , arr:GMP , dep:PUS , adt:1 , tripDivi:0 , airlineCode:7C , \n"
     ]
    },
    {
     "name": "stderr",
     "output_type": "stream",
     "text": [
      "2017-08-09 08:24:58,486 root     DEBUG    Crawling Interpark domastic schedule site\n"
     ]
    },
    {
     "name": "stdout",
     "output_type": "stream",
     "text": [
      "End Simple crawling\n",
      "Start Simple crawling :  http://domair.interpark.com/api/booking/airJourney.do\n",
      ">> Parameters\n",
      "chd:0 , format:json , inf:0 , depDate:20170814 , arr:GMP , dep:PUS , adt:1 , tripDivi:0 , airlineCode:BX , \n"
     ]
    },
    {
     "name": "stderr",
     "output_type": "stream",
     "text": [
      "2017-08-09 08:25:00,236 root     DEBUG    Crawling Interpark domastic schedule site\n"
     ]
    },
    {
     "name": "stdout",
     "output_type": "stream",
     "text": [
      "End Simple crawling\n",
      "Start Simple crawling :  http://domair.interpark.com/api/booking/airJourney.do\n",
      ">> Parameters\n",
      "chd:0 , format:json , inf:0 , depDate:20170814 , arr:GMP , dep:PUS , adt:1 , tripDivi:0 , airlineCode:OZ , \n"
     ]
    },
    {
     "name": "stderr",
     "output_type": "stream",
     "text": [
      "2017-08-09 08:25:01,604 root     DEBUG    Crawling Interpark domastic schedule site\n"
     ]
    },
    {
     "name": "stdout",
     "output_type": "stream",
     "text": [
      "End Simple crawling\n",
      "Start Simple crawling :  http://domair.interpark.com/api/booking/airJourney.do\n",
      ">> Parameters\n",
      "chd:0 , format:json , inf:0 , depDate:20170814 , arr:GMP , dep:PUS , adt:1 , tripDivi:0 , airlineCode:ZE , \n"
     ]
    },
    {
     "name": "stderr",
     "output_type": "stream",
     "text": [
      "2017-08-09 08:25:02,616 root     DEBUG    Crawling Interpark domastic schedule site\n"
     ]
    },
    {
     "name": "stdout",
     "output_type": "stream",
     "text": [
      "End Simple crawling\n",
      "Start Simple crawling :  http://domair.interpark.com/api/booking/airJourney.do\n",
      ">> Parameters\n",
      "chd:0 , format:json , inf:0 , depDate:20170815 , arr:GMP , dep:PUS , adt:1 , tripDivi:0 , airlineCode:7C , \n"
     ]
    },
    {
     "name": "stderr",
     "output_type": "stream",
     "text": [
      "2017-08-09 08:25:12,341 root     DEBUG    Crawling Interpark domastic schedule site\n"
     ]
    },
    {
     "name": "stdout",
     "output_type": "stream",
     "text": [
      "End Simple crawling\n",
      "Start Simple crawling :  http://domair.interpark.com/api/booking/airJourney.do\n",
      ">> Parameters\n",
      "chd:0 , format:json , inf:0 , depDate:20170815 , arr:GMP , dep:PUS , adt:1 , tripDivi:0 , airlineCode:BX , \n"
     ]
    },
    {
     "name": "stderr",
     "output_type": "stream",
     "text": [
      "2017-08-09 08:25:13,858 root     DEBUG    Crawling Interpark domastic schedule site\n"
     ]
    },
    {
     "name": "stdout",
     "output_type": "stream",
     "text": [
      "End Simple crawling\n",
      "Start Simple crawling :  http://domair.interpark.com/api/booking/airJourney.do\n",
      ">> Parameters\n",
      "chd:0 , format:json , inf:0 , depDate:20170815 , arr:GMP , dep:PUS , adt:1 , tripDivi:0 , airlineCode:OZ , \n"
     ]
    },
    {
     "name": "stderr",
     "output_type": "stream",
     "text": [
      "2017-08-09 08:25:15,087 root     DEBUG    Crawling Interpark domastic schedule site\n"
     ]
    },
    {
     "name": "stdout",
     "output_type": "stream",
     "text": [
      "End Simple crawling\n",
      "Start Simple crawling :  http://domair.interpark.com/api/booking/airJourney.do\n",
      ">> Parameters\n",
      "chd:0 , format:json , inf:0 , depDate:20170815 , arr:GMP , dep:PUS , adt:1 , tripDivi:0 , airlineCode:ZE , \n"
     ]
    },
    {
     "name": "stderr",
     "output_type": "stream",
     "text": [
      "2017-08-09 08:25:16,061 root     DEBUG    Crawling Interpark domastic schedule site\n"
     ]
    },
    {
     "name": "stdout",
     "output_type": "stream",
     "text": [
      "End Simple crawling\n",
      "Start Simple crawling :  http://domair.interpark.com/api/booking/airJourney.do\n",
      ">> Parameters\n",
      "chd:0 , format:json , inf:0 , depDate:20170816 , arr:GMP , dep:PUS , adt:1 , tripDivi:0 , airlineCode:7C , \n"
     ]
    },
    {
     "name": "stderr",
     "output_type": "stream",
     "text": [
      "2017-08-09 08:25:18,388 root     DEBUG    Crawling Interpark domastic schedule site\n"
     ]
    },
    {
     "name": "stdout",
     "output_type": "stream",
     "text": [
      "End Simple crawling\n",
      "Start Simple crawling :  http://domair.interpark.com/api/booking/airJourney.do\n",
      ">> Parameters\n",
      "chd:0 , format:json , inf:0 , depDate:20170816 , arr:GMP , dep:PUS , adt:1 , tripDivi:0 , airlineCode:BX , \n"
     ]
    },
    {
     "name": "stderr",
     "output_type": "stream",
     "text": [
      "2017-08-09 08:25:20,040 root     DEBUG    Crawling Interpark domastic schedule site\n"
     ]
    },
    {
     "name": "stdout",
     "output_type": "stream",
     "text": [
      "End Simple crawling\n",
      "Start Simple crawling :  http://domair.interpark.com/api/booking/airJourney.do\n",
      ">> Parameters\n",
      "chd:0 , format:json , inf:0 , depDate:20170816 , arr:GMP , dep:PUS , adt:1 , tripDivi:0 , airlineCode:OZ , \n"
     ]
    },
    {
     "name": "stderr",
     "output_type": "stream",
     "text": [
      "2017-08-09 08:25:21,275 root     DEBUG    Crawling Interpark domastic schedule site\n"
     ]
    },
    {
     "name": "stdout",
     "output_type": "stream",
     "text": [
      "End Simple crawling\n",
      "Start Simple crawling :  http://domair.interpark.com/api/booking/airJourney.do\n",
      ">> Parameters\n",
      "chd:0 , format:json , inf:0 , depDate:20170816 , arr:GMP , dep:PUS , adt:1 , tripDivi:0 , airlineCode:ZE , \n"
     ]
    },
    {
     "name": "stderr",
     "output_type": "stream",
     "text": [
      "2017-08-09 08:25:22,227 root     DEBUG    Crawling Interpark domastic schedule site\n"
     ]
    },
    {
     "name": "stdout",
     "output_type": "stream",
     "text": [
      "End Simple crawling\n",
      "Start Simple crawling :  http://domair.interpark.com/api/booking/airJourney.do\n",
      ">> Parameters\n",
      "chd:0 , format:json , inf:0 , depDate:20170817 , arr:GMP , dep:PUS , adt:1 , tripDivi:0 , airlineCode:7C , \n"
     ]
    },
    {
     "name": "stderr",
     "output_type": "stream",
     "text": [
      "2017-08-09 08:25:23,139 root     DEBUG    Crawling Interpark domastic schedule site\n"
     ]
    },
    {
     "name": "stdout",
     "output_type": "stream",
     "text": [
      "End Simple crawling\n",
      "Start Simple crawling :  http://domair.interpark.com/api/booking/airJourney.do\n",
      ">> Parameters\n",
      "chd:0 , format:json , inf:0 , depDate:20170817 , arr:GMP , dep:PUS , adt:1 , tripDivi:0 , airlineCode:BX , \n"
     ]
    },
    {
     "name": "stderr",
     "output_type": "stream",
     "text": [
      "2017-08-09 08:25:25,224 root     DEBUG    Crawling Interpark domastic schedule site\n"
     ]
    },
    {
     "name": "stdout",
     "output_type": "stream",
     "text": [
      "End Simple crawling\n",
      "Start Simple crawling :  http://domair.interpark.com/api/booking/airJourney.do\n",
      ">> Parameters\n",
      "chd:0 , format:json , inf:0 , depDate:20170817 , arr:GMP , dep:PUS , adt:1 , tripDivi:0 , airlineCode:OZ , \n"
     ]
    },
    {
     "name": "stderr",
     "output_type": "stream",
     "text": [
      "2017-08-09 08:25:26,486 root     DEBUG    Crawling Interpark domastic schedule site\n"
     ]
    },
    {
     "name": "stdout",
     "output_type": "stream",
     "text": [
      "End Simple crawling\n",
      "Start Simple crawling :  http://domair.interpark.com/api/booking/airJourney.do\n",
      ">> Parameters\n",
      "chd:0 , format:json , inf:0 , depDate:20170817 , arr:GMP , dep:PUS , adt:1 , tripDivi:0 , airlineCode:ZE , \n"
     ]
    },
    {
     "name": "stderr",
     "output_type": "stream",
     "text": [
      "2017-08-09 08:25:27,419 root     DEBUG    Crawling Interpark domastic schedule site\n"
     ]
    },
    {
     "name": "stdout",
     "output_type": "stream",
     "text": [
      "End Simple crawling\n",
      "Start Simple crawling :  http://domair.interpark.com/api/booking/airJourney.do\n",
      ">> Parameters\n",
      "chd:0 , format:json , inf:0 , depDate:20170818 , arr:GMP , dep:PUS , adt:1 , tripDivi:0 , airlineCode:7C , \n"
     ]
    },
    {
     "name": "stderr",
     "output_type": "stream",
     "text": [
      "2017-08-09 08:25:31,488 root     DEBUG    Crawling Interpark domastic schedule site\n"
     ]
    },
    {
     "name": "stdout",
     "output_type": "stream",
     "text": [
      "End Simple crawling\n",
      "Start Simple crawling :  http://domair.interpark.com/api/booking/airJourney.do\n",
      ">> Parameters\n",
      "chd:0 , format:json , inf:0 , depDate:20170818 , arr:GMP , dep:PUS , adt:1 , tripDivi:0 , airlineCode:BX , \n"
     ]
    },
    {
     "name": "stderr",
     "output_type": "stream",
     "text": [
      "2017-08-09 08:25:33,132 root     DEBUG    Crawling Interpark domastic schedule site\n"
     ]
    },
    {
     "name": "stdout",
     "output_type": "stream",
     "text": [
      "End Simple crawling\n",
      "Start Simple crawling :  http://domair.interpark.com/api/booking/airJourney.do\n",
      ">> Parameters\n",
      "chd:0 , format:json , inf:0 , depDate:20170818 , arr:GMP , dep:PUS , adt:1 , tripDivi:0 , airlineCode:OZ , \n"
     ]
    },
    {
     "name": "stderr",
     "output_type": "stream",
     "text": [
      "2017-08-09 08:25:34,265 root     DEBUG    Crawling Interpark domastic schedule site\n"
     ]
    },
    {
     "name": "stdout",
     "output_type": "stream",
     "text": [
      "End Simple crawling\n",
      "Start Simple crawling :  http://domair.interpark.com/api/booking/airJourney.do\n",
      ">> Parameters\n",
      "chd:0 , format:json , inf:0 , depDate:20170818 , arr:GMP , dep:PUS , adt:1 , tripDivi:0 , airlineCode:ZE , \n"
     ]
    },
    {
     "name": "stderr",
     "output_type": "stream",
     "text": [
      "2017-08-09 08:25:35,264 root     DEBUG    Crawling Interpark domastic schedule site\n"
     ]
    },
    {
     "name": "stdout",
     "output_type": "stream",
     "text": [
      "End Simple crawling\n",
      "Start Simple crawling :  http://domair.interpark.com/api/booking/airJourney.do\n",
      ">> Parameters\n",
      "chd:0 , format:json , inf:0 , depDate:20170819 , arr:GMP , dep:PUS , adt:1 , tripDivi:0 , airlineCode:7C , \n"
     ]
    },
    {
     "name": "stderr",
     "output_type": "stream",
     "text": [
      "2017-08-09 08:25:36,711 root     DEBUG    Crawling Interpark domastic schedule site\n"
     ]
    },
    {
     "name": "stdout",
     "output_type": "stream",
     "text": [
      "End Simple crawling\n",
      "Start Simple crawling :  http://domair.interpark.com/api/booking/airJourney.do\n",
      ">> Parameters\n",
      "chd:0 , format:json , inf:0 , depDate:20170819 , arr:GMP , dep:PUS , adt:1 , tripDivi:0 , airlineCode:BX , \n"
     ]
    },
    {
     "name": "stderr",
     "output_type": "stream",
     "text": [
      "2017-08-09 08:25:38,229 root     DEBUG    Crawling Interpark domastic schedule site\n"
     ]
    },
    {
     "name": "stdout",
     "output_type": "stream",
     "text": [
      "End Simple crawling\n",
      "Start Simple crawling :  http://domair.interpark.com/api/booking/airJourney.do\n",
      ">> Parameters\n",
      "chd:0 , format:json , inf:0 , depDate:20170819 , arr:GMP , dep:PUS , adt:1 , tripDivi:0 , airlineCode:OZ , \n"
     ]
    },
    {
     "name": "stderr",
     "output_type": "stream",
     "text": [
      "2017-08-09 08:25:39,750 root     DEBUG    Crawling Interpark domastic schedule site\n"
     ]
    },
    {
     "name": "stdout",
     "output_type": "stream",
     "text": [
      "End Simple crawling\n",
      "Start Simple crawling :  http://domair.interpark.com/api/booking/airJourney.do\n",
      ">> Parameters\n",
      "chd:0 , format:json , inf:0 , depDate:20170819 , arr:GMP , dep:PUS , adt:1 , tripDivi:0 , airlineCode:ZE , \n"
     ]
    },
    {
     "name": "stderr",
     "output_type": "stream",
     "text": [
      "2017-08-09 08:25:40,744 root     DEBUG    Crawling Interpark domastic schedule site\n"
     ]
    },
    {
     "name": "stdout",
     "output_type": "stream",
     "text": [
      "End Simple crawling\n",
      "Start Simple crawling :  http://domair.interpark.com/api/booking/airJourney.do\n",
      ">> Parameters\n",
      "chd:0 , format:json , inf:0 , depDate:20170820 , arr:GMP , dep:PUS , adt:1 , tripDivi:0 , airlineCode:7C , \n"
     ]
    },
    {
     "name": "stderr",
     "output_type": "stream",
     "text": [
      "2017-08-09 08:25:45,559 root     DEBUG    Crawling Interpark domastic schedule site\n"
     ]
    },
    {
     "name": "stdout",
     "output_type": "stream",
     "text": [
      "End Simple crawling\n",
      "Start Simple crawling :  http://domair.interpark.com/api/booking/airJourney.do\n",
      ">> Parameters\n",
      "chd:0 , format:json , inf:0 , depDate:20170820 , arr:GMP , dep:PUS , adt:1 , tripDivi:0 , airlineCode:BX , \n"
     ]
    },
    {
     "name": "stderr",
     "output_type": "stream",
     "text": [
      "2017-08-09 08:25:47,242 root     DEBUG    Crawling Interpark domastic schedule site\n"
     ]
    },
    {
     "name": "stdout",
     "output_type": "stream",
     "text": [
      "End Simple crawling\n",
      "Start Simple crawling :  http://domair.interpark.com/api/booking/airJourney.do\n",
      ">> Parameters\n",
      "chd:0 , format:json , inf:0 , depDate:20170820 , arr:GMP , dep:PUS , adt:1 , tripDivi:0 , airlineCode:OZ , \n"
     ]
    },
    {
     "name": "stderr",
     "output_type": "stream",
     "text": [
      "2017-08-09 08:25:48,551 root     DEBUG    Crawling Interpark domastic schedule site\n"
     ]
    },
    {
     "name": "stdout",
     "output_type": "stream",
     "text": [
      "End Simple crawling\n",
      "Start Simple crawling :  http://domair.interpark.com/api/booking/airJourney.do\n",
      ">> Parameters\n",
      "chd:0 , format:json , inf:0 , depDate:20170820 , arr:GMP , dep:PUS , adt:1 , tripDivi:0 , airlineCode:ZE , \n"
     ]
    },
    {
     "name": "stderr",
     "output_type": "stream",
     "text": [
      "2017-08-09 08:25:49,535 root     DEBUG    Crawling Interpark domastic schedule site\n"
     ]
    },
    {
     "name": "stdout",
     "output_type": "stream",
     "text": [
      "End Simple crawling\n",
      "Start Simple crawling :  http://domair.interpark.com/api/booking/airJourney.do\n",
      ">> Parameters\n",
      "chd:0 , format:json , inf:0 , depDate:20170821 , arr:GMP , dep:PUS , adt:1 , tripDivi:0 , airlineCode:7C , \n"
     ]
    },
    {
     "name": "stderr",
     "output_type": "stream",
     "text": [
      "2017-08-09 08:25:53,613 root     DEBUG    Crawling Interpark domastic schedule site\n"
     ]
    },
    {
     "name": "stdout",
     "output_type": "stream",
     "text": [
      "End Simple crawling\n",
      "Start Simple crawling :  http://domair.interpark.com/api/booking/airJourney.do\n",
      ">> Parameters\n",
      "chd:0 , format:json , inf:0 , depDate:20170821 , arr:GMP , dep:PUS , adt:1 , tripDivi:0 , airlineCode:BX , \n"
     ]
    },
    {
     "name": "stderr",
     "output_type": "stream",
     "text": [
      "2017-08-09 08:25:55,149 root     DEBUG    Crawling Interpark domastic schedule site\n"
     ]
    },
    {
     "name": "stdout",
     "output_type": "stream",
     "text": [
      "End Simple crawling\n",
      "Start Simple crawling :  http://domair.interpark.com/api/booking/airJourney.do\n",
      ">> Parameters\n",
      "chd:0 , format:json , inf:0 , depDate:20170821 , arr:GMP , dep:PUS , adt:1 , tripDivi:0 , airlineCode:OZ , \n"
     ]
    },
    {
     "name": "stderr",
     "output_type": "stream",
     "text": [
      "2017-08-09 08:25:56,435 root     DEBUG    Crawling Interpark domastic schedule site\n"
     ]
    },
    {
     "name": "stdout",
     "output_type": "stream",
     "text": [
      "End Simple crawling\n",
      "Start Simple crawling :  http://domair.interpark.com/api/booking/airJourney.do\n",
      ">> Parameters\n",
      "chd:0 , format:json , inf:0 , depDate:20170821 , arr:GMP , dep:PUS , adt:1 , tripDivi:0 , airlineCode:ZE , \n"
     ]
    },
    {
     "name": "stderr",
     "output_type": "stream",
     "text": [
      "2017-08-09 08:25:57,457 root     DEBUG    Crawling Interpark domastic schedule site\n"
     ]
    },
    {
     "name": "stdout",
     "output_type": "stream",
     "text": [
      "End Simple crawling\n",
      "Start Simple crawling :  http://domair.interpark.com/api/booking/airJourney.do\n",
      ">> Parameters\n",
      "chd:0 , format:json , inf:0 , depDate:20170822 , arr:GMP , dep:PUS , adt:1 , tripDivi:0 , airlineCode:7C , \n"
     ]
    },
    {
     "name": "stderr",
     "output_type": "stream",
     "text": [
      "2017-08-09 08:25:59,176 root     DEBUG    Crawling Interpark domastic schedule site\n"
     ]
    },
    {
     "name": "stdout",
     "output_type": "stream",
     "text": [
      "End Simple crawling\n",
      "Start Simple crawling :  http://domair.interpark.com/api/booking/airJourney.do\n",
      ">> Parameters\n",
      "chd:0 , format:json , inf:0 , depDate:20170822 , arr:GMP , dep:PUS , adt:1 , tripDivi:0 , airlineCode:BX , \n"
     ]
    },
    {
     "name": "stderr",
     "output_type": "stream",
     "text": [
      "2017-08-09 08:26:00,774 root     DEBUG    Crawling Interpark domastic schedule site\n"
     ]
    },
    {
     "name": "stdout",
     "output_type": "stream",
     "text": [
      "End Simple crawling\n",
      "Start Simple crawling :  http://domair.interpark.com/api/booking/airJourney.do\n",
      ">> Parameters\n",
      "chd:0 , format:json , inf:0 , depDate:20170822 , arr:GMP , dep:PUS , adt:1 , tripDivi:0 , airlineCode:OZ , \n"
     ]
    },
    {
     "name": "stderr",
     "output_type": "stream",
     "text": [
      "2017-08-09 08:26:02,063 root     DEBUG    Crawling Interpark domastic schedule site\n"
     ]
    },
    {
     "name": "stdout",
     "output_type": "stream",
     "text": [
      "End Simple crawling\n",
      "Start Simple crawling :  http://domair.interpark.com/api/booking/airJourney.do\n",
      ">> Parameters\n",
      "chd:0 , format:json , inf:0 , depDate:20170822 , arr:GMP , dep:PUS , adt:1 , tripDivi:0 , airlineCode:ZE , \n"
     ]
    },
    {
     "name": "stderr",
     "output_type": "stream",
     "text": [
      "2017-08-09 08:26:03,430 root     DEBUG    Crawling Interpark domastic schedule site\n"
     ]
    },
    {
     "name": "stdout",
     "output_type": "stream",
     "text": [
      "End Simple crawling\n",
      "Start Simple crawling :  http://domair.interpark.com/api/booking/airJourney.do\n",
      ">> Parameters\n",
      "chd:0 , format:json , inf:0 , depDate:20170823 , arr:GMP , dep:PUS , adt:1 , tripDivi:0 , airlineCode:7C , \n"
     ]
    },
    {
     "name": "stderr",
     "output_type": "stream",
     "text": [
      "2017-08-09 08:26:05,640 root     DEBUG    Crawling Interpark domastic schedule site\n"
     ]
    },
    {
     "name": "stdout",
     "output_type": "stream",
     "text": [
      "End Simple crawling\n",
      "Start Simple crawling :  http://domair.interpark.com/api/booking/airJourney.do\n",
      ">> Parameters\n",
      "chd:0 , format:json , inf:0 , depDate:20170823 , arr:GMP , dep:PUS , adt:1 , tripDivi:0 , airlineCode:BX , \n"
     ]
    },
    {
     "name": "stderr",
     "output_type": "stream",
     "text": [
      "2017-08-09 08:26:06,928 root     DEBUG    Crawling Interpark domastic schedule site\n"
     ]
    },
    {
     "name": "stdout",
     "output_type": "stream",
     "text": [
      "End Simple crawling\n",
      "Start Simple crawling :  http://domair.interpark.com/api/booking/airJourney.do\n",
      ">> Parameters\n",
      "chd:0 , format:json , inf:0 , depDate:20170823 , arr:GMP , dep:PUS , adt:1 , tripDivi:0 , airlineCode:OZ , \n"
     ]
    },
    {
     "name": "stderr",
     "output_type": "stream",
     "text": [
      "2017-08-09 08:26:08,253 root     DEBUG    Crawling Interpark domastic schedule site\n"
     ]
    },
    {
     "name": "stdout",
     "output_type": "stream",
     "text": [
      "End Simple crawling\n",
      "Start Simple crawling :  http://domair.interpark.com/api/booking/airJourney.do\n",
      ">> Parameters\n",
      "chd:0 , format:json , inf:0 , depDate:20170823 , arr:GMP , dep:PUS , adt:1 , tripDivi:0 , airlineCode:ZE , \n"
     ]
    },
    {
     "name": "stderr",
     "output_type": "stream",
     "text": [
      "2017-08-09 08:26:09,249 root     DEBUG    Crawling Interpark domastic schedule site\n"
     ]
    },
    {
     "name": "stdout",
     "output_type": "stream",
     "text": [
      "End Simple crawling\n",
      "Start Simple crawling :  http://domair.interpark.com/api/booking/airJourney.do\n",
      ">> Parameters\n",
      "chd:0 , format:json , inf:0 , depDate:20170824 , arr:GMP , dep:PUS , adt:1 , tripDivi:0 , airlineCode:7C , \n"
     ]
    },
    {
     "name": "stderr",
     "output_type": "stream",
     "text": [
      "2017-08-09 08:26:10,182 root     DEBUG    Crawling Interpark domastic schedule site\n"
     ]
    },
    {
     "name": "stdout",
     "output_type": "stream",
     "text": [
      "End Simple crawling\n",
      "Start Simple crawling :  http://domair.interpark.com/api/booking/airJourney.do\n",
      ">> Parameters\n",
      "chd:0 , format:json , inf:0 , depDate:20170824 , arr:GMP , dep:PUS , adt:1 , tripDivi:0 , airlineCode:BX , \n"
     ]
    },
    {
     "name": "stderr",
     "output_type": "stream",
     "text": [
      "2017-08-09 08:26:11,607 root     DEBUG    Crawling Interpark domastic schedule site\n"
     ]
    },
    {
     "name": "stdout",
     "output_type": "stream",
     "text": [
      "End Simple crawling\n",
      "Start Simple crawling :  http://domair.interpark.com/api/booking/airJourney.do\n",
      ">> Parameters\n",
      "chd:0 , format:json , inf:0 , depDate:20170824 , arr:GMP , dep:PUS , adt:1 , tripDivi:0 , airlineCode:OZ , \n"
     ]
    },
    {
     "name": "stderr",
     "output_type": "stream",
     "text": [
      "2017-08-09 08:26:12,937 root     DEBUG    Crawling Interpark domastic schedule site\n"
     ]
    },
    {
     "name": "stdout",
     "output_type": "stream",
     "text": [
      "End Simple crawling\n",
      "Start Simple crawling :  http://domair.interpark.com/api/booking/airJourney.do\n",
      ">> Parameters\n",
      "chd:0 , format:json , inf:0 , depDate:20170824 , arr:GMP , dep:PUS , adt:1 , tripDivi:0 , airlineCode:ZE , \n"
     ]
    },
    {
     "name": "stderr",
     "output_type": "stream",
     "text": [
      "2017-08-09 08:26:13,927 root     DEBUG    Crawling Interpark domastic schedule site\n"
     ]
    },
    {
     "name": "stdout",
     "output_type": "stream",
     "text": [
      "End Simple crawling\n",
      "Start Simple crawling :  http://domair.interpark.com/api/booking/airJourney.do\n",
      ">> Parameters\n",
      "chd:0 , format:json , inf:0 , depDate:20170825 , arr:GMP , dep:PUS , adt:1 , tripDivi:0 , airlineCode:7C , \n"
     ]
    },
    {
     "name": "stderr",
     "output_type": "stream",
     "text": [
      "2017-08-09 08:26:15,255 root     DEBUG    Crawling Interpark domastic schedule site\n"
     ]
    },
    {
     "name": "stdout",
     "output_type": "stream",
     "text": [
      "End Simple crawling\n",
      "Start Simple crawling :  http://domair.interpark.com/api/booking/airJourney.do\n",
      ">> Parameters\n",
      "chd:0 , format:json , inf:0 , depDate:20170825 , arr:GMP , dep:PUS , adt:1 , tripDivi:0 , airlineCode:BX , \n"
     ]
    },
    {
     "name": "stderr",
     "output_type": "stream",
     "text": [
      "2017-08-09 08:26:16,813 root     DEBUG    Crawling Interpark domastic schedule site\n"
     ]
    },
    {
     "name": "stdout",
     "output_type": "stream",
     "text": [
      "End Simple crawling\n",
      "Start Simple crawling :  http://domair.interpark.com/api/booking/airJourney.do\n",
      ">> Parameters\n",
      "chd:0 , format:json , inf:0 , depDate:20170825 , arr:GMP , dep:PUS , adt:1 , tripDivi:0 , airlineCode:OZ , \n"
     ]
    },
    {
     "name": "stderr",
     "output_type": "stream",
     "text": [
      "2017-08-09 08:26:18,140 root     DEBUG    Crawling Interpark domastic schedule site\n"
     ]
    },
    {
     "name": "stdout",
     "output_type": "stream",
     "text": [
      "End Simple crawling\n",
      "Start Simple crawling :  http://domair.interpark.com/api/booking/airJourney.do\n",
      ">> Parameters\n",
      "chd:0 , format:json , inf:0 , depDate:20170825 , arr:GMP , dep:PUS , adt:1 , tripDivi:0 , airlineCode:ZE , \n"
     ]
    },
    {
     "name": "stderr",
     "output_type": "stream",
     "text": [
      "2017-08-09 08:26:19,105 root     DEBUG    Crawling Interpark domastic schedule site\n"
     ]
    },
    {
     "name": "stdout",
     "output_type": "stream",
     "text": [
      "End Simple crawling\n",
      "Start Simple crawling :  http://domair.interpark.com/api/booking/airJourney.do\n",
      ">> Parameters\n",
      "chd:0 , format:json , inf:0 , depDate:20170826 , arr:GMP , dep:PUS , adt:1 , tripDivi:0 , airlineCode:7C , \n"
     ]
    },
    {
     "name": "stderr",
     "output_type": "stream",
     "text": [
      "2017-08-09 08:26:20,325 root     DEBUG    Crawling Interpark domastic schedule site\n"
     ]
    },
    {
     "name": "stdout",
     "output_type": "stream",
     "text": [
      "End Simple crawling\n",
      "Start Simple crawling :  http://domair.interpark.com/api/booking/airJourney.do\n",
      ">> Parameters\n",
      "chd:0 , format:json , inf:0 , depDate:20170826 , arr:GMP , dep:PUS , adt:1 , tripDivi:0 , airlineCode:BX , \n"
     ]
    },
    {
     "name": "stderr",
     "output_type": "stream",
     "text": [
      "2017-08-09 08:26:21,662 root     DEBUG    Crawling Interpark domastic schedule site\n"
     ]
    },
    {
     "name": "stdout",
     "output_type": "stream",
     "text": [
      "End Simple crawling\n",
      "Start Simple crawling :  http://domair.interpark.com/api/booking/airJourney.do\n",
      ">> Parameters\n",
      "chd:0 , format:json , inf:0 , depDate:20170826 , arr:GMP , dep:PUS , adt:1 , tripDivi:0 , airlineCode:OZ , \n"
     ]
    },
    {
     "name": "stderr",
     "output_type": "stream",
     "text": [
      "2017-08-09 08:26:22,920 root     DEBUG    Crawling Interpark domastic schedule site\n"
     ]
    },
    {
     "name": "stdout",
     "output_type": "stream",
     "text": [
      "End Simple crawling\n",
      "Start Simple crawling :  http://domair.interpark.com/api/booking/airJourney.do\n",
      ">> Parameters\n",
      "chd:0 , format:json , inf:0 , depDate:20170826 , arr:GMP , dep:PUS , adt:1 , tripDivi:0 , airlineCode:ZE , \n"
     ]
    },
    {
     "name": "stderr",
     "output_type": "stream",
     "text": [
      "2017-08-09 08:26:23,986 root     DEBUG    Crawling Interpark domastic schedule site\n"
     ]
    },
    {
     "name": "stdout",
     "output_type": "stream",
     "text": [
      "End Simple crawling\n",
      "Start Simple crawling :  http://domair.interpark.com/api/booking/airJourney.do\n",
      ">> Parameters\n",
      "chd:0 , format:json , inf:0 , depDate:20170827 , arr:GMP , dep:PUS , adt:1 , tripDivi:0 , airlineCode:7C , \n"
     ]
    },
    {
     "name": "stderr",
     "output_type": "stream",
     "text": [
      "2017-08-09 08:26:26,483 root     DEBUG    Crawling Interpark domastic schedule site\n"
     ]
    },
    {
     "name": "stdout",
     "output_type": "stream",
     "text": [
      "End Simple crawling\n",
      "Start Simple crawling :  http://domair.interpark.com/api/booking/airJourney.do\n",
      ">> Parameters\n",
      "chd:0 , format:json , inf:0 , depDate:20170827 , arr:GMP , dep:PUS , adt:1 , tripDivi:0 , airlineCode:BX , \n"
     ]
    },
    {
     "name": "stderr",
     "output_type": "stream",
     "text": [
      "2017-08-09 08:26:27,803 root     DEBUG    Crawling Interpark domastic schedule site\n"
     ]
    },
    {
     "name": "stdout",
     "output_type": "stream",
     "text": [
      "End Simple crawling\n",
      "Start Simple crawling :  http://domair.interpark.com/api/booking/airJourney.do\n",
      ">> Parameters\n",
      "chd:0 , format:json , inf:0 , depDate:20170827 , arr:GMP , dep:PUS , adt:1 , tripDivi:0 , airlineCode:OZ , \n"
     ]
    },
    {
     "name": "stderr",
     "output_type": "stream",
     "text": [
      "2017-08-09 08:26:29,126 root     DEBUG    Crawling Interpark domastic schedule site\n"
     ]
    },
    {
     "name": "stdout",
     "output_type": "stream",
     "text": [
      "End Simple crawling\n",
      "Start Simple crawling :  http://domair.interpark.com/api/booking/airJourney.do\n",
      ">> Parameters\n",
      "chd:0 , format:json , inf:0 , depDate:20170827 , arr:GMP , dep:PUS , adt:1 , tripDivi:0 , airlineCode:ZE , \n"
     ]
    },
    {
     "name": "stderr",
     "output_type": "stream",
     "text": [
      "2017-08-09 08:26:30,325 root     DEBUG    Crawling Interpark domastic schedule site\n"
     ]
    },
    {
     "name": "stdout",
     "output_type": "stream",
     "text": [
      "End Simple crawling\n",
      "Start Simple crawling :  http://domair.interpark.com/api/booking/airJourney.do\n",
      ">> Parameters\n",
      "chd:0 , format:json , inf:0 , depDate:20170828 , arr:GMP , dep:PUS , adt:1 , tripDivi:0 , airlineCode:7C , \n"
     ]
    },
    {
     "name": "stderr",
     "output_type": "stream",
     "text": [
      "2017-08-09 08:26:33,691 root     DEBUG    Crawling Interpark domastic schedule site\n"
     ]
    },
    {
     "name": "stdout",
     "output_type": "stream",
     "text": [
      "End Simple crawling\n",
      "Start Simple crawling :  http://domair.interpark.com/api/booking/airJourney.do\n",
      ">> Parameters\n",
      "chd:0 , format:json , inf:0 , depDate:20170828 , arr:GMP , dep:PUS , adt:1 , tripDivi:0 , airlineCode:BX , \n"
     ]
    },
    {
     "name": "stderr",
     "output_type": "stream",
     "text": [
      "2017-08-09 08:26:34,993 root     DEBUG    Crawling Interpark domastic schedule site\n"
     ]
    },
    {
     "name": "stdout",
     "output_type": "stream",
     "text": [
      "End Simple crawling\n",
      "Start Simple crawling :  http://domair.interpark.com/api/booking/airJourney.do\n",
      ">> Parameters\n",
      "chd:0 , format:json , inf:0 , depDate:20170828 , arr:GMP , dep:PUS , adt:1 , tripDivi:0 , airlineCode:OZ , \n"
     ]
    },
    {
     "name": "stderr",
     "output_type": "stream",
     "text": [
      "2017-08-09 08:26:36,280 root     DEBUG    Crawling Interpark domastic schedule site\n"
     ]
    },
    {
     "name": "stdout",
     "output_type": "stream",
     "text": [
      "End Simple crawling\n",
      "Start Simple crawling :  http://domair.interpark.com/api/booking/airJourney.do\n",
      ">> Parameters\n",
      "chd:0 , format:json , inf:0 , depDate:20170828 , arr:GMP , dep:PUS , adt:1 , tripDivi:0 , airlineCode:ZE , \n"
     ]
    },
    {
     "name": "stderr",
     "output_type": "stream",
     "text": [
      "2017-08-09 08:26:37,250 root     DEBUG    Crawling Interpark domastic schedule site\n"
     ]
    },
    {
     "name": "stdout",
     "output_type": "stream",
     "text": [
      "End Simple crawling\n",
      "Start Simple crawling :  http://domair.interpark.com/api/booking/airJourney.do\n",
      ">> Parameters\n",
      "chd:0 , format:json , inf:0 , depDate:20170829 , arr:GMP , dep:PUS , adt:1 , tripDivi:0 , airlineCode:7C , \n"
     ]
    },
    {
     "name": "stderr",
     "output_type": "stream",
     "text": [
      "2017-08-09 08:26:40,641 root     DEBUG    Crawling Interpark domastic schedule site\n"
     ]
    },
    {
     "name": "stdout",
     "output_type": "stream",
     "text": [
      "End Simple crawling\n",
      "Start Simple crawling :  http://domair.interpark.com/api/booking/airJourney.do\n",
      ">> Parameters\n",
      "chd:0 , format:json , inf:0 , depDate:20170829 , arr:GMP , dep:PUS , adt:1 , tripDivi:0 , airlineCode:BX , \n"
     ]
    },
    {
     "name": "stderr",
     "output_type": "stream",
     "text": [
      "2017-08-09 08:26:42,145 root     DEBUG    Crawling Interpark domastic schedule site\n"
     ]
    },
    {
     "name": "stdout",
     "output_type": "stream",
     "text": [
      "End Simple crawling\n",
      "Start Simple crawling :  http://domair.interpark.com/api/booking/airJourney.do\n",
      ">> Parameters\n",
      "chd:0 , format:json , inf:0 , depDate:20170829 , arr:GMP , dep:PUS , adt:1 , tripDivi:0 , airlineCode:OZ , \n"
     ]
    },
    {
     "name": "stderr",
     "output_type": "stream",
     "text": [
      "2017-08-09 08:26:43,420 root     DEBUG    Crawling Interpark domastic schedule site\n"
     ]
    },
    {
     "name": "stdout",
     "output_type": "stream",
     "text": [
      "End Simple crawling\n",
      "Start Simple crawling :  http://domair.interpark.com/api/booking/airJourney.do\n",
      ">> Parameters\n",
      "chd:0 , format:json , inf:0 , depDate:20170829 , arr:GMP , dep:PUS , adt:1 , tripDivi:0 , airlineCode:ZE , \n"
     ]
    },
    {
     "name": "stderr",
     "output_type": "stream",
     "text": [
      "2017-08-09 08:26:44,387 root     DEBUG    Crawling Interpark domastic schedule site\n"
     ]
    },
    {
     "name": "stdout",
     "output_type": "stream",
     "text": [
      "End Simple crawling\n",
      "Start Simple crawling :  http://domair.interpark.com/api/booking/airJourney.do\n",
      ">> Parameters\n",
      "chd:0 , format:json , inf:0 , depDate:20170830 , arr:GMP , dep:PUS , adt:1 , tripDivi:0 , airlineCode:7C , \n"
     ]
    },
    {
     "name": "stderr",
     "output_type": "stream",
     "text": [
      "2017-08-09 08:26:46,016 root     DEBUG    Crawling Interpark domastic schedule site\n"
     ]
    },
    {
     "name": "stdout",
     "output_type": "stream",
     "text": [
      "End Simple crawling\n",
      "Start Simple crawling :  http://domair.interpark.com/api/booking/airJourney.do\n",
      ">> Parameters\n",
      "chd:0 , format:json , inf:0 , depDate:20170830 , arr:GMP , dep:PUS , adt:1 , tripDivi:0 , airlineCode:BX , \n"
     ]
    },
    {
     "name": "stderr",
     "output_type": "stream",
     "text": [
      "2017-08-09 08:26:47,158 root     DEBUG    Crawling Interpark domastic schedule site\n"
     ]
    },
    {
     "name": "stdout",
     "output_type": "stream",
     "text": [
      "End Simple crawling\n",
      "Start Simple crawling :  http://domair.interpark.com/api/booking/airJourney.do\n",
      ">> Parameters\n",
      "chd:0 , format:json , inf:0 , depDate:20170830 , arr:GMP , dep:PUS , adt:1 , tripDivi:0 , airlineCode:OZ , \n"
     ]
    },
    {
     "name": "stderr",
     "output_type": "stream",
     "text": [
      "2017-08-09 08:26:48,465 root     DEBUG    Crawling Interpark domastic schedule site\n"
     ]
    },
    {
     "name": "stdout",
     "output_type": "stream",
     "text": [
      "End Simple crawling\n",
      "Start Simple crawling :  http://domair.interpark.com/api/booking/airJourney.do\n",
      ">> Parameters\n",
      "chd:0 , format:json , inf:0 , depDate:20170830 , arr:GMP , dep:PUS , adt:1 , tripDivi:0 , airlineCode:ZE , \n"
     ]
    },
    {
     "name": "stderr",
     "output_type": "stream",
     "text": [
      "2017-08-09 08:26:49,485 root     INFO     end batch job :: craw_by_route_site :: elapsed -0:02:25.434318 :: Total crawl:84 files saved.\n",
      "2017-08-09 08:26:49,491 root     INFO     start batch job :: craw_by_route_site[PUS,CJU,IP,['20170810', '20170811', '20170812', '20170813', '20170814', '20170815', '20170816', '20170817', '20170818', '20170819', '20170820', '20170821', '20170822', '20170823', '20170824', '20170825', '20170826', '20170827', '20170828', '20170829', '20170830'],['7C', 'LJ', 'OZ', 'KE', 'ZE']]\n",
      "2017-08-09 08:26:49,493 root     DEBUG    0 :: IP :: crawling_IP_dom :: False\n",
      "2017-08-09 08:26:49,496 root     INFO     <function crawling_IP_dom at 0x0000000007FA6378> :: False\n",
      "2017-08-09 08:26:49,501 root     DEBUG    Crawling Interpark domastic schedule site\n"
     ]
    },
    {
     "name": "stdout",
     "output_type": "stream",
     "text": [
      "End Simple crawling\n",
      "Start Simple crawling :  http://domair.interpark.com/api/booking/airJourney.do\n",
      ">> Parameters\n",
      "chd:0 , format:json , inf:0 , depDate:20170810 , arr:CJU , dep:PUS , adt:1 , tripDivi:0 , airlineCode:7C , \n"
     ]
    },
    {
     "name": "stderr",
     "output_type": "stream",
     "text": [
      "2017-08-09 08:26:52,126 root     DEBUG    Crawling Interpark domastic schedule site\n",
      "2017-08-09 08:26:52,267 root     DEBUG    Crawling Interpark domastic schedule site\n"
     ]
    },
    {
     "name": "stdout",
     "output_type": "stream",
     "text": [
      "End Simple crawling\n",
      "Start Simple crawling :  http://domair.interpark.com/api/booking/airJourney.do\n",
      ">> Parameters\n",
      "chd:0 , format:json , inf:0 , depDate:20170810 , arr:CJU , dep:PUS , adt:1 , tripDivi:0 , airlineCode:LJ , \n",
      "End Simple crawling\n",
      "Start Simple crawling :  http://domair.interpark.com/api/booking/airJourney.do\n",
      ">> Parameters\n",
      "chd:0 , format:json , inf:0 , depDate:20170810 , arr:CJU , dep:PUS , adt:1 , tripDivi:0 , airlineCode:OZ , \n"
     ]
    },
    {
     "name": "stderr",
     "output_type": "stream",
     "text": [
      "2017-08-09 08:26:53,182 root     DEBUG    Crawling Interpark domastic schedule site\n"
     ]
    },
    {
     "name": "stdout",
     "output_type": "stream",
     "text": [
      "End Simple crawling\n",
      "Start Simple crawling :  http://domair.interpark.com/api/booking/airJourney.do\n",
      ">> Parameters\n",
      "chd:0 , format:json , inf:0 , depDate:20170810 , arr:CJU , dep:PUS , adt:1 , tripDivi:0 , airlineCode:KE , \n"
     ]
    },
    {
     "name": "stderr",
     "output_type": "stream",
     "text": [
      "2017-08-09 08:26:57,531 root     DEBUG    Crawling Interpark domastic schedule site\n"
     ]
    },
    {
     "name": "stdout",
     "output_type": "stream",
     "text": [
      "End Simple crawling\n",
      "Start Simple crawling :  http://domair.interpark.com/api/booking/airJourney.do\n",
      ">> Parameters\n",
      "chd:0 , format:json , inf:0 , depDate:20170810 , arr:CJU , dep:PUS , adt:1 , tripDivi:0 , airlineCode:ZE , \n"
     ]
    },
    {
     "name": "stderr",
     "output_type": "stream",
     "text": [
      "2017-08-09 08:26:58,496 root     DEBUG    Crawling Interpark domastic schedule site\n"
     ]
    },
    {
     "name": "stdout",
     "output_type": "stream",
     "text": [
      "End Simple crawling\n",
      "Start Simple crawling :  http://domair.interpark.com/api/booking/airJourney.do\n",
      ">> Parameters\n",
      "chd:0 , format:json , inf:0 , depDate:20170811 , arr:CJU , dep:PUS , adt:1 , tripDivi:0 , airlineCode:7C , \n"
     ]
    },
    {
     "name": "stderr",
     "output_type": "stream",
     "text": [
      "2017-08-09 08:26:59,473 root     DEBUG    Crawling Interpark domastic schedule site\n",
      "2017-08-09 08:26:59,575 root     DEBUG    Crawling Interpark domastic schedule site\n"
     ]
    },
    {
     "name": "stdout",
     "output_type": "stream",
     "text": [
      "End Simple crawling\n",
      "Start Simple crawling :  http://domair.interpark.com/api/booking/airJourney.do\n",
      ">> Parameters\n",
      "chd:0 , format:json , inf:0 , depDate:20170811 , arr:CJU , dep:PUS , adt:1 , tripDivi:0 , airlineCode:LJ , \n",
      "End Simple crawling\n",
      "Start Simple crawling :  http://domair.interpark.com/api/booking/airJourney.do\n",
      ">> Parameters\n",
      "chd:0 , format:json , inf:0 , depDate:20170811 , arr:CJU , dep:PUS , adt:1 , tripDivi:0 , airlineCode:OZ , \n"
     ]
    },
    {
     "name": "stderr",
     "output_type": "stream",
     "text": [
      "2017-08-09 08:27:00,508 root     DEBUG    Crawling Interpark domastic schedule site\n"
     ]
    },
    {
     "name": "stdout",
     "output_type": "stream",
     "text": [
      "End Simple crawling\n",
      "Start Simple crawling :  http://domair.interpark.com/api/booking/airJourney.do\n",
      ">> Parameters\n",
      "chd:0 , format:json , inf:0 , depDate:20170811 , arr:CJU , dep:PUS , adt:1 , tripDivi:0 , airlineCode:KE , \n"
     ]
    },
    {
     "name": "stderr",
     "output_type": "stream",
     "text": [
      "2017-08-09 08:27:04,924 root     DEBUG    Crawling Interpark domastic schedule site\n"
     ]
    },
    {
     "name": "stdout",
     "output_type": "stream",
     "text": [
      "End Simple crawling\n",
      "Start Simple crawling :  http://domair.interpark.com/api/booking/airJourney.do\n",
      ">> Parameters\n",
      "chd:0 , format:json , inf:0 , depDate:20170811 , arr:CJU , dep:PUS , adt:1 , tripDivi:0 , airlineCode:ZE , \n"
     ]
    },
    {
     "name": "stderr",
     "output_type": "stream",
     "text": [
      "2017-08-09 08:27:05,890 root     DEBUG    Crawling Interpark domastic schedule site\n"
     ]
    },
    {
     "name": "stdout",
     "output_type": "stream",
     "text": [
      "End Simple crawling\n",
      "Start Simple crawling :  http://domair.interpark.com/api/booking/airJourney.do\n",
      ">> Parameters\n",
      "chd:0 , format:json , inf:0 , depDate:20170812 , arr:CJU , dep:PUS , adt:1 , tripDivi:0 , airlineCode:7C , \n"
     ]
    },
    {
     "name": "stderr",
     "output_type": "stream",
     "text": [
      "2017-08-09 08:27:08,694 root     DEBUG    Crawling Interpark domastic schedule site\n"
     ]
    },
    {
     "name": "stdout",
     "output_type": "stream",
     "text": [
      "End Simple crawling\n",
      "Start Simple crawling :  http://domair.interpark.com/api/booking/airJourney.do\n",
      ">> Parameters\n",
      "chd:0 , format:json , inf:0 , depDate:20170812 , arr:CJU , dep:PUS , adt:1 , tripDivi:0 , airlineCode:LJ , \n"
     ]
    },
    {
     "name": "stderr",
     "output_type": "stream",
     "text": [
      "2017-08-09 08:27:09,002 root     DEBUG    Crawling Interpark domastic schedule site\n"
     ]
    },
    {
     "name": "stdout",
     "output_type": "stream",
     "text": [
      "End Simple crawling\n",
      "Start Simple crawling :  http://domair.interpark.com/api/booking/airJourney.do\n",
      ">> Parameters\n",
      "chd:0 , format:json , inf:0 , depDate:20170812 , arr:CJU , dep:PUS , adt:1 , tripDivi:0 , airlineCode:OZ , \n"
     ]
    },
    {
     "name": "stderr",
     "output_type": "stream",
     "text": [
      "2017-08-09 08:27:10,389 root     DEBUG    Crawling Interpark domastic schedule site\n"
     ]
    },
    {
     "name": "stdout",
     "output_type": "stream",
     "text": [
      "End Simple crawling\n",
      "Start Simple crawling :  http://domair.interpark.com/api/booking/airJourney.do\n",
      ">> Parameters\n",
      "chd:0 , format:json , inf:0 , depDate:20170812 , arr:CJU , dep:PUS , adt:1 , tripDivi:0 , airlineCode:KE , \n"
     ]
    },
    {
     "name": "stderr",
     "output_type": "stream",
     "text": [
      "2017-08-09 08:27:15,361 root     DEBUG    Crawling Interpark domastic schedule site\n"
     ]
    },
    {
     "name": "stdout",
     "output_type": "stream",
     "text": [
      "End Simple crawling\n",
      "Start Simple crawling :  http://domair.interpark.com/api/booking/airJourney.do\n",
      ">> Parameters\n",
      "chd:0 , format:json , inf:0 , depDate:20170812 , arr:CJU , dep:PUS , adt:1 , tripDivi:0 , airlineCode:ZE , \n"
     ]
    },
    {
     "name": "stderr",
     "output_type": "stream",
     "text": [
      "2017-08-09 08:27:16,298 root     DEBUG    Crawling Interpark domastic schedule site\n"
     ]
    },
    {
     "name": "stdout",
     "output_type": "stream",
     "text": [
      "End Simple crawling\n",
      "Start Simple crawling :  http://domair.interpark.com/api/booking/airJourney.do\n",
      ">> Parameters\n",
      "chd:0 , format:json , inf:0 , depDate:20170813 , arr:CJU , dep:PUS , adt:1 , tripDivi:0 , airlineCode:7C , \n"
     ]
    },
    {
     "name": "stderr",
     "output_type": "stream",
     "text": [
      "2017-08-09 08:27:20,909 root     DEBUG    Crawling Interpark domastic schedule site\n",
      "2017-08-09 08:27:21,072 root     DEBUG    Crawling Interpark domastic schedule site\n"
     ]
    },
    {
     "name": "stdout",
     "output_type": "stream",
     "text": [
      "End Simple crawling\n",
      "Start Simple crawling :  http://domair.interpark.com/api/booking/airJourney.do\n",
      ">> Parameters\n",
      "chd:0 , format:json , inf:0 , depDate:20170813 , arr:CJU , dep:PUS , adt:1 , tripDivi:0 , airlineCode:LJ , \n",
      "End Simple crawling\n",
      "Start Simple crawling :  http://domair.interpark.com/api/booking/airJourney.do\n",
      ">> Parameters\n",
      "chd:0 , format:json , inf:0 , depDate:20170813 , arr:CJU , dep:PUS , adt:1 , tripDivi:0 , airlineCode:OZ , \n"
     ]
    },
    {
     "name": "stderr",
     "output_type": "stream",
     "text": [
      "2017-08-09 08:27:22,112 root     DEBUG    Crawling Interpark domastic schedule site\n"
     ]
    },
    {
     "name": "stdout",
     "output_type": "stream",
     "text": [
      "End Simple crawling\n",
      "Start Simple crawling :  http://domair.interpark.com/api/booking/airJourney.do\n",
      ">> Parameters\n",
      "chd:0 , format:json , inf:0 , depDate:20170813 , arr:CJU , dep:PUS , adt:1 , tripDivi:0 , airlineCode:KE , \n"
     ]
    },
    {
     "name": "stderr",
     "output_type": "stream",
     "text": [
      "2017-08-09 08:27:27,433 root     DEBUG    Crawling Interpark domastic schedule site\n"
     ]
    },
    {
     "name": "stdout",
     "output_type": "stream",
     "text": [
      "End Simple crawling\n",
      "Start Simple crawling :  http://domair.interpark.com/api/booking/airJourney.do\n",
      ">> Parameters\n",
      "chd:0 , format:json , inf:0 , depDate:20170813 , arr:CJU , dep:PUS , adt:1 , tripDivi:0 , airlineCode:ZE , \n"
     ]
    },
    {
     "name": "stderr",
     "output_type": "stream",
     "text": [
      "2017-08-09 08:27:28,491 root     DEBUG    Crawling Interpark domastic schedule site\n"
     ]
    },
    {
     "name": "stdout",
     "output_type": "stream",
     "text": [
      "End Simple crawling\n",
      "Start Simple crawling :  http://domair.interpark.com/api/booking/airJourney.do\n",
      ">> Parameters\n",
      "chd:0 , format:json , inf:0 , depDate:20170814 , arr:CJU , dep:PUS , adt:1 , tripDivi:0 , airlineCode:7C , \n"
     ]
    },
    {
     "name": "stderr",
     "output_type": "stream",
     "text": [
      "2017-08-09 08:27:31,312 root     DEBUG    Crawling Interpark domastic schedule site\n"
     ]
    },
    {
     "name": "stdout",
     "output_type": "stream",
     "text": [
      "End Simple crawling\n",
      "Start Simple crawling :  http://domair.interpark.com/api/booking/airJourney.do\n",
      ">> Parameters\n",
      "chd:0 , format:json , inf:0 , depDate:20170814 , arr:CJU , dep:PUS , adt:1 , tripDivi:0 , airlineCode:LJ , \n"
     ]
    },
    {
     "name": "stderr",
     "output_type": "stream",
     "text": [
      "2017-08-09 08:27:31,685 root     DEBUG    Crawling Interpark domastic schedule site\n"
     ]
    },
    {
     "name": "stdout",
     "output_type": "stream",
     "text": [
      "End Simple crawling\n",
      "Start Simple crawling :  http://domair.interpark.com/api/booking/airJourney.do\n",
      ">> Parameters\n",
      "chd:0 , format:json , inf:0 , depDate:20170814 , arr:CJU , dep:PUS , adt:1 , tripDivi:0 , airlineCode:OZ , \n"
     ]
    },
    {
     "name": "stderr",
     "output_type": "stream",
     "text": [
      "2017-08-09 08:27:32,994 root     DEBUG    Crawling Interpark domastic schedule site\n"
     ]
    },
    {
     "name": "stdout",
     "output_type": "stream",
     "text": [
      "End Simple crawling\n",
      "Start Simple crawling :  http://domair.interpark.com/api/booking/airJourney.do\n",
      ">> Parameters\n",
      "chd:0 , format:json , inf:0 , depDate:20170814 , arr:CJU , dep:PUS , adt:1 , tripDivi:0 , airlineCode:KE , \n"
     ]
    },
    {
     "name": "stderr",
     "output_type": "stream",
     "text": [
      "2017-08-09 08:27:38,278 root     DEBUG    Crawling Interpark domastic schedule site\n"
     ]
    },
    {
     "name": "stdout",
     "output_type": "stream",
     "text": [
      "End Simple crawling\n",
      "Start Simple crawling :  http://domair.interpark.com/api/booking/airJourney.do\n",
      ">> Parameters\n",
      "chd:0 , format:json , inf:0 , depDate:20170814 , arr:CJU , dep:PUS , adt:1 , tripDivi:0 , airlineCode:ZE , \n"
     ]
    },
    {
     "name": "stderr",
     "output_type": "stream",
     "text": [
      "2017-08-09 08:27:39,266 root     DEBUG    Crawling Interpark domastic schedule site\n"
     ]
    },
    {
     "name": "stdout",
     "output_type": "stream",
     "text": [
      "End Simple crawling\n",
      "Start Simple crawling :  http://domair.interpark.com/api/booking/airJourney.do\n",
      ">> Parameters\n",
      "chd:0 , format:json , inf:0 , depDate:20170815 , arr:CJU , dep:PUS , adt:1 , tripDivi:0 , airlineCode:7C , \n"
     ]
    },
    {
     "name": "stderr",
     "output_type": "stream",
     "text": [
      "2017-08-09 08:27:40,919 root     DEBUG    Crawling Interpark domastic schedule site\n",
      "2017-08-09 08:27:41,086 root     DEBUG    Crawling Interpark domastic schedule site\n"
     ]
    },
    {
     "name": "stdout",
     "output_type": "stream",
     "text": [
      "End Simple crawling\n",
      "Start Simple crawling :  http://domair.interpark.com/api/booking/airJourney.do\n",
      ">> Parameters\n",
      "chd:0 , format:json , inf:0 , depDate:20170815 , arr:CJU , dep:PUS , adt:1 , tripDivi:0 , airlineCode:LJ , \n",
      "End Simple crawling\n",
      "Start Simple crawling :  http://domair.interpark.com/api/booking/airJourney.do\n",
      ">> Parameters\n",
      "chd:0 , format:json , inf:0 , depDate:20170815 , arr:CJU , dep:PUS , adt:1 , tripDivi:0 , airlineCode:OZ , \n"
     ]
    },
    {
     "name": "stderr",
     "output_type": "stream",
     "text": [
      "2017-08-09 08:27:42,019 root     DEBUG    Crawling Interpark domastic schedule site\n"
     ]
    },
    {
     "name": "stdout",
     "output_type": "stream",
     "text": [
      "End Simple crawling\n",
      "Start Simple crawling :  http://domair.interpark.com/api/booking/airJourney.do\n",
      ">> Parameters\n",
      "chd:0 , format:json , inf:0 , depDate:20170815 , arr:CJU , dep:PUS , adt:1 , tripDivi:0 , airlineCode:KE , \n"
     ]
    },
    {
     "name": "stderr",
     "output_type": "stream",
     "text": [
      "2017-08-09 08:27:47,370 root     DEBUG    Crawling Interpark domastic schedule site\n"
     ]
    },
    {
     "name": "stdout",
     "output_type": "stream",
     "text": [
      "End Simple crawling\n",
      "Start Simple crawling :  http://domair.interpark.com/api/booking/airJourney.do\n",
      ">> Parameters\n",
      "chd:0 , format:json , inf:0 , depDate:20170815 , arr:CJU , dep:PUS , adt:1 , tripDivi:0 , airlineCode:ZE , \n"
     ]
    },
    {
     "name": "stderr",
     "output_type": "stream",
     "text": [
      "2017-08-09 08:27:48,349 root     DEBUG    Crawling Interpark domastic schedule site\n"
     ]
    },
    {
     "name": "stdout",
     "output_type": "stream",
     "text": [
      "End Simple crawling\n",
      "Start Simple crawling :  http://domair.interpark.com/api/booking/airJourney.do\n",
      ">> Parameters\n",
      "chd:0 , format:json , inf:0 , depDate:20170816 , arr:CJU , dep:PUS , adt:1 , tripDivi:0 , airlineCode:7C , \n"
     ]
    },
    {
     "name": "stderr",
     "output_type": "stream",
     "text": [
      "2017-08-09 08:27:52,657 root     DEBUG    Crawling Interpark domastic schedule site\n",
      "2017-08-09 08:27:52,796 root     DEBUG    Crawling Interpark domastic schedule site\n"
     ]
    },
    {
     "name": "stdout",
     "output_type": "stream",
     "text": [
      "End Simple crawling\n",
      "Start Simple crawling :  http://domair.interpark.com/api/booking/airJourney.do\n",
      ">> Parameters\n",
      "chd:0 , format:json , inf:0 , depDate:20170816 , arr:CJU , dep:PUS , adt:1 , tripDivi:0 , airlineCode:LJ , \n",
      "End Simple crawling\n",
      "Start Simple crawling :  http://domair.interpark.com/api/booking/airJourney.do\n",
      ">> Parameters\n",
      "chd:0 , format:json , inf:0 , depDate:20170816 , arr:CJU , dep:PUS , adt:1 , tripDivi:0 , airlineCode:OZ , \n"
     ]
    },
    {
     "name": "stderr",
     "output_type": "stream",
     "text": [
      "2017-08-09 08:27:54,004 root     DEBUG    Crawling Interpark domastic schedule site\n"
     ]
    },
    {
     "name": "stdout",
     "output_type": "stream",
     "text": [
      "End Simple crawling\n",
      "Start Simple crawling :  http://domair.interpark.com/api/booking/airJourney.do\n",
      ">> Parameters\n",
      "chd:0 , format:json , inf:0 , depDate:20170816 , arr:CJU , dep:PUS , adt:1 , tripDivi:0 , airlineCode:KE , \n"
     ]
    },
    {
     "name": "stderr",
     "output_type": "stream",
     "text": [
      "2017-08-09 08:27:59,111 root     DEBUG    Crawling Interpark domastic schedule site\n"
     ]
    },
    {
     "name": "stdout",
     "output_type": "stream",
     "text": [
      "End Simple crawling\n",
      "Start Simple crawling :  http://domair.interpark.com/api/booking/airJourney.do\n",
      ">> Parameters\n",
      "chd:0 , format:json , inf:0 , depDate:20170816 , arr:CJU , dep:PUS , adt:1 , tripDivi:0 , airlineCode:ZE , \n"
     ]
    },
    {
     "name": "stderr",
     "output_type": "stream",
     "text": [
      "2017-08-09 08:28:00,103 root     DEBUG    Crawling Interpark domastic schedule site\n"
     ]
    },
    {
     "name": "stdout",
     "output_type": "stream",
     "text": [
      "End Simple crawling\n",
      "Start Simple crawling :  http://domair.interpark.com/api/booking/airJourney.do\n",
      ">> Parameters\n",
      "chd:0 , format:json , inf:0 , depDate:20170817 , arr:CJU , dep:PUS , adt:1 , tripDivi:0 , airlineCode:7C , \n"
     ]
    },
    {
     "name": "stderr",
     "output_type": "stream",
     "text": [
      "2017-08-09 08:28:06,957 root     DEBUG    Crawling Interpark domastic schedule site\n",
      "2017-08-09 08:28:07,099 root     DEBUG    Crawling Interpark domastic schedule site\n"
     ]
    },
    {
     "name": "stdout",
     "output_type": "stream",
     "text": [
      "End Simple crawling\n",
      "Start Simple crawling :  http://domair.interpark.com/api/booking/airJourney.do\n",
      ">> Parameters\n",
      "chd:0 , format:json , inf:0 , depDate:20170817 , arr:CJU , dep:PUS , adt:1 , tripDivi:0 , airlineCode:LJ , \n",
      "End Simple crawling\n",
      "Start Simple crawling :  http://domair.interpark.com/api/booking/airJourney.do\n",
      ">> Parameters\n",
      "chd:0 , format:json , inf:0 , depDate:20170817 , arr:CJU , dep:PUS , adt:1 , tripDivi:0 , airlineCode:OZ , \n"
     ]
    },
    {
     "name": "stderr",
     "output_type": "stream",
     "text": [
      "2017-08-09 08:28:08,262 root     DEBUG    Crawling Interpark domastic schedule site\n"
     ]
    },
    {
     "name": "stdout",
     "output_type": "stream",
     "text": [
      "End Simple crawling\n",
      "Start Simple crawling :  http://domair.interpark.com/api/booking/airJourney.do\n",
      ">> Parameters\n",
      "chd:0 , format:json , inf:0 , depDate:20170817 , arr:CJU , dep:PUS , adt:1 , tripDivi:0 , airlineCode:KE , \n"
     ]
    },
    {
     "name": "stderr",
     "output_type": "stream",
     "text": [
      "2017-08-09 08:28:13,554 root     DEBUG    Crawling Interpark domastic schedule site\n"
     ]
    },
    {
     "name": "stdout",
     "output_type": "stream",
     "text": [
      "End Simple crawling\n",
      "Start Simple crawling :  http://domair.interpark.com/api/booking/airJourney.do\n",
      ">> Parameters\n",
      "chd:0 , format:json , inf:0 , depDate:20170817 , arr:CJU , dep:PUS , adt:1 , tripDivi:0 , airlineCode:ZE , \n"
     ]
    },
    {
     "name": "stderr",
     "output_type": "stream",
     "text": [
      "2017-08-09 08:28:14,523 root     DEBUG    Crawling Interpark domastic schedule site\n"
     ]
    },
    {
     "name": "stdout",
     "output_type": "stream",
     "text": [
      "End Simple crawling\n",
      "Start Simple crawling :  http://domair.interpark.com/api/booking/airJourney.do\n",
      ">> Parameters\n",
      "chd:0 , format:json , inf:0 , depDate:20170818 , arr:CJU , dep:PUS , adt:1 , tripDivi:0 , airlineCode:7C , \n"
     ]
    },
    {
     "name": "stderr",
     "output_type": "stream",
     "text": [
      "2017-08-09 08:28:18,649 root     DEBUG    Crawling Interpark domastic schedule site\n",
      "2017-08-09 08:28:18,775 root     DEBUG    Crawling Interpark domastic schedule site\n"
     ]
    },
    {
     "name": "stdout",
     "output_type": "stream",
     "text": [
      "End Simple crawling\n",
      "Start Simple crawling :  http://domair.interpark.com/api/booking/airJourney.do\n",
      ">> Parameters\n",
      "chd:0 , format:json , inf:0 , depDate:20170818 , arr:CJU , dep:PUS , adt:1 , tripDivi:0 , airlineCode:LJ , \n",
      "End Simple crawling\n",
      "Start Simple crawling :  http://domair.interpark.com/api/booking/airJourney.do\n",
      ">> Parameters\n",
      "chd:0 , format:json , inf:0 , depDate:20170818 , arr:CJU , dep:PUS , adt:1 , tripDivi:0 , airlineCode:OZ , \n"
     ]
    },
    {
     "name": "stderr",
     "output_type": "stream",
     "text": [
      "2017-08-09 08:28:19,953 root     DEBUG    Crawling Interpark domastic schedule site\n"
     ]
    },
    {
     "name": "stdout",
     "output_type": "stream",
     "text": [
      "End Simple crawling\n",
      "Start Simple crawling :  http://domair.interpark.com/api/booking/airJourney.do\n",
      ">> Parameters\n",
      "chd:0 , format:json , inf:0 , depDate:20170818 , arr:CJU , dep:PUS , adt:1 , tripDivi:0 , airlineCode:KE , \n"
     ]
    },
    {
     "name": "stderr",
     "output_type": "stream",
     "text": [
      "2017-08-09 08:28:25,288 root     DEBUG    Crawling Interpark domastic schedule site\n"
     ]
    },
    {
     "name": "stdout",
     "output_type": "stream",
     "text": [
      "End Simple crawling\n",
      "Start Simple crawling :  http://domair.interpark.com/api/booking/airJourney.do\n",
      ">> Parameters\n",
      "chd:0 , format:json , inf:0 , depDate:20170818 , arr:CJU , dep:PUS , adt:1 , tripDivi:0 , airlineCode:ZE , \n"
     ]
    },
    {
     "name": "stderr",
     "output_type": "stream",
     "text": [
      "2017-08-09 08:28:26,548 root     DEBUG    Crawling Interpark domastic schedule site\n"
     ]
    },
    {
     "name": "stdout",
     "output_type": "stream",
     "text": [
      "End Simple crawling\n",
      "Start Simple crawling :  http://domair.interpark.com/api/booking/airJourney.do\n",
      ">> Parameters\n",
      "chd:0 , format:json , inf:0 , depDate:20170819 , arr:CJU , dep:PUS , adt:1 , tripDivi:0 , airlineCode:7C , \n"
     ]
    },
    {
     "name": "stderr",
     "output_type": "stream",
     "text": [
      "2017-08-09 08:28:28,180 root     DEBUG    Crawling Interpark domastic schedule site\n"
     ]
    },
    {
     "name": "stdout",
     "output_type": "stream",
     "text": [
      "End Simple crawling\n",
      "Start Simple crawling :  http://domair.interpark.com/api/booking/airJourney.do\n",
      ">> Parameters\n",
      "chd:0 , format:json , inf:0 , depDate:20170819 , arr:CJU , dep:PUS , adt:1 , tripDivi:0 , airlineCode:LJ , \n"
     ]
    },
    {
     "name": "stderr",
     "output_type": "stream",
     "text": [
      "2017-08-09 08:28:28,755 root     DEBUG    Crawling Interpark domastic schedule site\n"
     ]
    },
    {
     "name": "stdout",
     "output_type": "stream",
     "text": [
      "End Simple crawling\n",
      "Start Simple crawling :  http://domair.interpark.com/api/booking/airJourney.do\n",
      ">> Parameters\n",
      "chd:0 , format:json , inf:0 , depDate:20170819 , arr:CJU , dep:PUS , adt:1 , tripDivi:0 , airlineCode:OZ , \n"
     ]
    },
    {
     "name": "stderr",
     "output_type": "stream",
     "text": [
      "2017-08-09 08:28:30,026 root     DEBUG    Crawling Interpark domastic schedule site\n"
     ]
    },
    {
     "name": "stdout",
     "output_type": "stream",
     "text": [
      "End Simple crawling\n",
      "Start Simple crawling :  http://domair.interpark.com/api/booking/airJourney.do\n",
      ">> Parameters\n",
      "chd:0 , format:json , inf:0 , depDate:20170819 , arr:CJU , dep:PUS , adt:1 , tripDivi:0 , airlineCode:KE , \n"
     ]
    },
    {
     "name": "stderr",
     "output_type": "stream",
     "text": [
      "2017-08-09 08:28:35,505 root     DEBUG    Crawling Interpark domastic schedule site\n"
     ]
    },
    {
     "name": "stdout",
     "output_type": "stream",
     "text": [
      "End Simple crawling\n",
      "Start Simple crawling :  http://domair.interpark.com/api/booking/airJourney.do\n",
      ">> Parameters\n",
      "chd:0 , format:json , inf:0 , depDate:20170819 , arr:CJU , dep:PUS , adt:1 , tripDivi:0 , airlineCode:ZE , \n"
     ]
    },
    {
     "name": "stderr",
     "output_type": "stream",
     "text": [
      "2017-08-09 08:28:36,481 root     DEBUG    Crawling Interpark domastic schedule site\n"
     ]
    },
    {
     "name": "stdout",
     "output_type": "stream",
     "text": [
      "End Simple crawling\n",
      "Start Simple crawling :  http://domair.interpark.com/api/booking/airJourney.do\n",
      ">> Parameters\n",
      "chd:0 , format:json , inf:0 , depDate:20170820 , arr:CJU , dep:PUS , adt:1 , tripDivi:0 , airlineCode:7C , \n"
     ]
    },
    {
     "name": "stderr",
     "output_type": "stream",
     "text": [
      "2017-08-09 08:28:38,134 root     DEBUG    Crawling Interpark domastic schedule site\n",
      "2017-08-09 08:28:38,264 root     DEBUG    Crawling Interpark domastic schedule site\n"
     ]
    },
    {
     "name": "stdout",
     "output_type": "stream",
     "text": [
      "End Simple crawling\n",
      "Start Simple crawling :  http://domair.interpark.com/api/booking/airJourney.do\n",
      ">> Parameters\n",
      "chd:0 , format:json , inf:0 , depDate:20170820 , arr:CJU , dep:PUS , adt:1 , tripDivi:0 , airlineCode:LJ , \n",
      "End Simple crawling\n",
      "Start Simple crawling :  http://domair.interpark.com/api/booking/airJourney.do\n",
      ">> Parameters\n",
      "chd:0 , format:json , inf:0 , depDate:20170820 , arr:CJU , dep:PUS , adt:1 , tripDivi:0 , airlineCode:OZ , \n"
     ]
    },
    {
     "name": "stderr",
     "output_type": "stream",
     "text": [
      "2017-08-09 08:28:39,444 root     DEBUG    Crawling Interpark domastic schedule site\n"
     ]
    },
    {
     "name": "stdout",
     "output_type": "stream",
     "text": [
      "End Simple crawling\n",
      "Start Simple crawling :  http://domair.interpark.com/api/booking/airJourney.do\n",
      ">> Parameters\n",
      "chd:0 , format:json , inf:0 , depDate:20170820 , arr:CJU , dep:PUS , adt:1 , tripDivi:0 , airlineCode:KE , \n"
     ]
    },
    {
     "name": "stderr",
     "output_type": "stream",
     "text": [
      "2017-08-09 08:28:44,772 root     DEBUG    Crawling Interpark domastic schedule site\n"
     ]
    },
    {
     "name": "stdout",
     "output_type": "stream",
     "text": [
      "End Simple crawling\n",
      "Start Simple crawling :  http://domair.interpark.com/api/booking/airJourney.do\n",
      ">> Parameters\n",
      "chd:0 , format:json , inf:0 , depDate:20170820 , arr:CJU , dep:PUS , adt:1 , tripDivi:0 , airlineCode:ZE , \n"
     ]
    },
    {
     "name": "stderr",
     "output_type": "stream",
     "text": [
      "2017-08-09 08:28:45,783 root     DEBUG    Crawling Interpark domastic schedule site\n"
     ]
    },
    {
     "name": "stdout",
     "output_type": "stream",
     "text": [
      "End Simple crawling\n",
      "Start Simple crawling :  http://domair.interpark.com/api/booking/airJourney.do\n",
      ">> Parameters\n",
      "chd:0 , format:json , inf:0 , depDate:20170821 , arr:CJU , dep:PUS , adt:1 , tripDivi:0 , airlineCode:7C , \n"
     ]
    },
    {
     "name": "stderr",
     "output_type": "stream",
     "text": [
      "2017-08-09 08:28:54,371 root     DEBUG    Crawling Interpark domastic schedule site\n",
      "2017-08-09 08:28:54,493 root     DEBUG    Crawling Interpark domastic schedule site\n"
     ]
    },
    {
     "name": "stdout",
     "output_type": "stream",
     "text": [
      "End Simple crawling\n",
      "Start Simple crawling :  http://domair.interpark.com/api/booking/airJourney.do\n",
      ">> Parameters\n",
      "chd:0 , format:json , inf:0 , depDate:20170821 , arr:CJU , dep:PUS , adt:1 , tripDivi:0 , airlineCode:LJ , \n",
      "End Simple crawling\n",
      "Start Simple crawling :  http://domair.interpark.com/api/booking/airJourney.do\n",
      ">> Parameters\n",
      "chd:0 , format:json , inf:0 , depDate:20170821 , arr:CJU , dep:PUS , adt:1 , tripDivi:0 , airlineCode:OZ , \n"
     ]
    },
    {
     "name": "stderr",
     "output_type": "stream",
     "text": [
      "2017-08-09 08:28:55,801 root     DEBUG    Crawling Interpark domastic schedule site\n"
     ]
    },
    {
     "name": "stdout",
     "output_type": "stream",
     "text": [
      "End Simple crawling\n",
      "Start Simple crawling :  http://domair.interpark.com/api/booking/airJourney.do\n",
      ">> Parameters\n",
      "chd:0 , format:json , inf:0 , depDate:20170821 , arr:CJU , dep:PUS , adt:1 , tripDivi:0 , airlineCode:KE , \n"
     ]
    },
    {
     "name": "stderr",
     "output_type": "stream",
     "text": [
      "2017-08-09 08:29:01,013 root     DEBUG    Crawling Interpark domastic schedule site\n"
     ]
    },
    {
     "name": "stdout",
     "output_type": "stream",
     "text": [
      "End Simple crawling\n",
      "Start Simple crawling :  http://domair.interpark.com/api/booking/airJourney.do\n",
      ">> Parameters\n",
      "chd:0 , format:json , inf:0 , depDate:20170821 , arr:CJU , dep:PUS , adt:1 , tripDivi:0 , airlineCode:ZE , \n"
     ]
    },
    {
     "name": "stderr",
     "output_type": "stream",
     "text": [
      "2017-08-09 08:29:02,001 root     DEBUG    Crawling Interpark domastic schedule site\n"
     ]
    },
    {
     "name": "stdout",
     "output_type": "stream",
     "text": [
      "End Simple crawling\n",
      "Start Simple crawling :  http://domair.interpark.com/api/booking/airJourney.do\n",
      ">> Parameters\n",
      "chd:0 , format:json , inf:0 , depDate:20170822 , arr:CJU , dep:PUS , adt:1 , tripDivi:0 , airlineCode:7C , \n"
     ]
    },
    {
     "name": "stderr",
     "output_type": "stream",
     "text": [
      "2017-08-09 08:29:05,768 root     DEBUG    Crawling Interpark domastic schedule site\n"
     ]
    },
    {
     "name": "stdout",
     "output_type": "stream",
     "text": [
      "End Simple crawling\n",
      "Start Simple crawling :  http://domair.interpark.com/api/booking/airJourney.do\n",
      ">> Parameters\n",
      "chd:0 , format:json , inf:0 , depDate:20170822 , arr:CJU , dep:PUS , adt:1 , tripDivi:0 , airlineCode:LJ , \n"
     ]
    },
    {
     "name": "stderr",
     "output_type": "stream",
     "text": [
      "2017-08-09 08:29:06,093 root     DEBUG    Crawling Interpark domastic schedule site\n"
     ]
    },
    {
     "name": "stdout",
     "output_type": "stream",
     "text": [
      "End Simple crawling\n",
      "Start Simple crawling :  http://domair.interpark.com/api/booking/airJourney.do\n",
      ">> Parameters\n",
      "chd:0 , format:json , inf:0 , depDate:20170822 , arr:CJU , dep:PUS , adt:1 , tripDivi:0 , airlineCode:OZ , \n"
     ]
    },
    {
     "name": "stderr",
     "output_type": "stream",
     "text": [
      "2017-08-09 08:29:07,029 root     DEBUG    Crawling Interpark domastic schedule site\n"
     ]
    },
    {
     "name": "stdout",
     "output_type": "stream",
     "text": [
      "End Simple crawling\n",
      "Start Simple crawling :  http://domair.interpark.com/api/booking/airJourney.do\n",
      ">> Parameters\n",
      "chd:0 , format:json , inf:0 , depDate:20170822 , arr:CJU , dep:PUS , adt:1 , tripDivi:0 , airlineCode:KE , \n"
     ]
    },
    {
     "name": "stderr",
     "output_type": "stream",
     "text": [
      "2017-08-09 08:29:12,040 root     DEBUG    Crawling Interpark domastic schedule site\n"
     ]
    },
    {
     "name": "stdout",
     "output_type": "stream",
     "text": [
      "End Simple crawling\n",
      "Start Simple crawling :  http://domair.interpark.com/api/booking/airJourney.do\n",
      ">> Parameters\n",
      "chd:0 , format:json , inf:0 , depDate:20170822 , arr:CJU , dep:PUS , adt:1 , tripDivi:0 , airlineCode:ZE , \n"
     ]
    },
    {
     "name": "stderr",
     "output_type": "stream",
     "text": [
      "2017-08-09 08:29:13,014 root     DEBUG    Crawling Interpark domastic schedule site\n"
     ]
    },
    {
     "name": "stdout",
     "output_type": "stream",
     "text": [
      "End Simple crawling\n",
      "Start Simple crawling :  http://domair.interpark.com/api/booking/airJourney.do\n",
      ">> Parameters\n",
      "chd:0 , format:json , inf:0 , depDate:20170823 , arr:CJU , dep:PUS , adt:1 , tripDivi:0 , airlineCode:7C , \n"
     ]
    },
    {
     "name": "stderr",
     "output_type": "stream",
     "text": [
      "2017-08-09 08:29:20,488 root     DEBUG    Crawling Interpark domastic schedule site\n"
     ]
    },
    {
     "name": "stdout",
     "output_type": "stream",
     "text": [
      "End Simple crawling\n",
      "Start Simple crawling :  http://domair.interpark.com/api/booking/airJourney.do\n",
      ">> Parameters\n",
      "chd:0 , format:json , inf:0 , depDate:20170823 , arr:CJU , dep:PUS , adt:1 , tripDivi:0 , airlineCode:LJ , \n"
     ]
    },
    {
     "name": "stderr",
     "output_type": "stream",
     "text": [
      "2017-08-09 08:29:20,824 root     DEBUG    Crawling Interpark domastic schedule site\n"
     ]
    },
    {
     "name": "stdout",
     "output_type": "stream",
     "text": [
      "End Simple crawling\n",
      "Start Simple crawling :  http://domair.interpark.com/api/booking/airJourney.do\n",
      ">> Parameters\n",
      "chd:0 , format:json , inf:0 , depDate:20170823 , arr:CJU , dep:PUS , adt:1 , tripDivi:0 , airlineCode:OZ , \n"
     ]
    },
    {
     "name": "stderr",
     "output_type": "stream",
     "text": [
      "2017-08-09 08:29:22,288 root     DEBUG    Crawling Interpark domastic schedule site\n"
     ]
    },
    {
     "name": "stdout",
     "output_type": "stream",
     "text": [
      "End Simple crawling\n",
      "Start Simple crawling :  http://domair.interpark.com/api/booking/airJourney.do\n",
      ">> Parameters\n",
      "chd:0 , format:json , inf:0 , depDate:20170823 , arr:CJU , dep:PUS , adt:1 , tripDivi:0 , airlineCode:KE , \n"
     ]
    },
    {
     "name": "stderr",
     "output_type": "stream",
     "text": [
      "2017-08-09 08:29:27,462 root     DEBUG    Crawling Interpark domastic schedule site\n"
     ]
    },
    {
     "name": "stdout",
     "output_type": "stream",
     "text": [
      "End Simple crawling\n",
      "Start Simple crawling :  http://domair.interpark.com/api/booking/airJourney.do\n",
      ">> Parameters\n",
      "chd:0 , format:json , inf:0 , depDate:20170823 , arr:CJU , dep:PUS , adt:1 , tripDivi:0 , airlineCode:ZE , \n"
     ]
    },
    {
     "name": "stderr",
     "output_type": "stream",
     "text": [
      "2017-08-09 08:29:28,436 root     DEBUG    Crawling Interpark domastic schedule site\n"
     ]
    },
    {
     "name": "stdout",
     "output_type": "stream",
     "text": [
      "End Simple crawling\n",
      "Start Simple crawling :  http://domair.interpark.com/api/booking/airJourney.do\n",
      ">> Parameters\n",
      "chd:0 , format:json , inf:0 , depDate:20170824 , arr:CJU , dep:PUS , adt:1 , tripDivi:0 , airlineCode:7C , \n"
     ]
    },
    {
     "name": "stderr",
     "output_type": "stream",
     "text": [
      "2017-08-09 08:29:34,876 root     DEBUG    Crawling Interpark domastic schedule site\n"
     ]
    },
    {
     "name": "stdout",
     "output_type": "stream",
     "text": [
      "End Simple crawling\n",
      "Start Simple crawling :  http://domair.interpark.com/api/booking/airJourney.do\n",
      ">> Parameters\n",
      "chd:0 , format:json , inf:0 , depDate:20170824 , arr:CJU , dep:PUS , adt:1 , tripDivi:0 , airlineCode:LJ , \n"
     ]
    },
    {
     "name": "stderr",
     "output_type": "stream",
     "text": [
      "2017-08-09 08:29:35,201 root     DEBUG    Crawling Interpark domastic schedule site\n"
     ]
    },
    {
     "name": "stdout",
     "output_type": "stream",
     "text": [
      "End Simple crawling\n",
      "Start Simple crawling :  http://domair.interpark.com/api/booking/airJourney.do\n",
      ">> Parameters\n",
      "chd:0 , format:json , inf:0 , depDate:20170824 , arr:CJU , dep:PUS , adt:1 , tripDivi:0 , airlineCode:OZ , \n"
     ]
    },
    {
     "name": "stderr",
     "output_type": "stream",
     "text": [
      "2017-08-09 08:29:35,931 root     DEBUG    Crawling Interpark domastic schedule site\n"
     ]
    },
    {
     "name": "stdout",
     "output_type": "stream",
     "text": [
      "End Simple crawling\n",
      "Start Simple crawling :  http://domair.interpark.com/api/booking/airJourney.do\n",
      ">> Parameters\n",
      "chd:0 , format:json , inf:0 , depDate:20170824 , arr:CJU , dep:PUS , adt:1 , tripDivi:0 , airlineCode:KE , \n"
     ]
    },
    {
     "name": "stderr",
     "output_type": "stream",
     "text": [
      "2017-08-09 08:29:41,160 root     DEBUG    Crawling Interpark domastic schedule site\n"
     ]
    },
    {
     "name": "stdout",
     "output_type": "stream",
     "text": [
      "End Simple crawling\n",
      "Start Simple crawling :  http://domair.interpark.com/api/booking/airJourney.do\n",
      ">> Parameters\n",
      "chd:0 , format:json , inf:0 , depDate:20170824 , arr:CJU , dep:PUS , adt:1 , tripDivi:0 , airlineCode:ZE , \n"
     ]
    },
    {
     "name": "stderr",
     "output_type": "stream",
     "text": [
      "2017-08-09 08:29:42,119 root     DEBUG    Crawling Interpark domastic schedule site\n"
     ]
    },
    {
     "name": "stdout",
     "output_type": "stream",
     "text": [
      "End Simple crawling\n",
      "Start Simple crawling :  http://domair.interpark.com/api/booking/airJourney.do\n",
      ">> Parameters\n",
      "chd:0 , format:json , inf:0 , depDate:20170825 , arr:CJU , dep:PUS , adt:1 , tripDivi:0 , airlineCode:7C , \n"
     ]
    },
    {
     "name": "stderr",
     "output_type": "stream",
     "text": [
      "2017-08-09 08:29:44,108 root     DEBUG    Crawling Interpark domastic schedule site\n"
     ]
    },
    {
     "name": "stdout",
     "output_type": "stream",
     "text": [
      "End Simple crawling\n",
      "Start Simple crawling :  http://domair.interpark.com/api/booking/airJourney.do\n",
      ">> Parameters\n",
      "chd:0 , format:json , inf:0 , depDate:20170825 , arr:CJU , dep:PUS , adt:1 , tripDivi:0 , airlineCode:LJ , \n"
     ]
    },
    {
     "name": "stderr",
     "output_type": "stream",
     "text": [
      "2017-08-09 08:29:44,465 root     DEBUG    Crawling Interpark domastic schedule site\n"
     ]
    },
    {
     "name": "stdout",
     "output_type": "stream",
     "text": [
      "End Simple crawling\n",
      "Start Simple crawling :  http://domair.interpark.com/api/booking/airJourney.do\n",
      ">> Parameters\n",
      "chd:0 , format:json , inf:0 , depDate:20170825 , arr:CJU , dep:PUS , adt:1 , tripDivi:0 , airlineCode:OZ , \n"
     ]
    },
    {
     "name": "stderr",
     "output_type": "stream",
     "text": [
      "2017-08-09 08:29:45,865 root     DEBUG    Crawling Interpark domastic schedule site\n"
     ]
    },
    {
     "name": "stdout",
     "output_type": "stream",
     "text": [
      "End Simple crawling\n",
      "Start Simple crawling :  http://domair.interpark.com/api/booking/airJourney.do\n",
      ">> Parameters\n",
      "chd:0 , format:json , inf:0 , depDate:20170825 , arr:CJU , dep:PUS , adt:1 , tripDivi:0 , airlineCode:KE , \n"
     ]
    },
    {
     "name": "stderr",
     "output_type": "stream",
     "text": [
      "2017-08-09 08:29:52,841 root     DEBUG    Crawling Interpark domastic schedule site\n"
     ]
    },
    {
     "name": "stdout",
     "output_type": "stream",
     "text": [
      "End Simple crawling\n",
      "Start Simple crawling :  http://domair.interpark.com/api/booking/airJourney.do\n",
      ">> Parameters\n",
      "chd:0 , format:json , inf:0 , depDate:20170825 , arr:CJU , dep:PUS , adt:1 , tripDivi:0 , airlineCode:ZE , \n"
     ]
    },
    {
     "name": "stderr",
     "output_type": "stream",
     "text": [
      "2017-08-09 08:29:53,820 root     DEBUG    Crawling Interpark domastic schedule site\n"
     ]
    },
    {
     "name": "stdout",
     "output_type": "stream",
     "text": [
      "End Simple crawling\n",
      "Start Simple crawling :  http://domair.interpark.com/api/booking/airJourney.do\n",
      ">> Parameters\n",
      "chd:0 , format:json , inf:0 , depDate:20170826 , arr:CJU , dep:PUS , adt:1 , tripDivi:0 , airlineCode:7C , \n"
     ]
    },
    {
     "name": "stderr",
     "output_type": "stream",
     "text": [
      "2017-08-09 08:29:57,985 root     DEBUG    Crawling Interpark domastic schedule site\n",
      "2017-08-09 08:29:58,130 root     DEBUG    Crawling Interpark domastic schedule site\n"
     ]
    },
    {
     "name": "stdout",
     "output_type": "stream",
     "text": [
      "End Simple crawling\n",
      "Start Simple crawling :  http://domair.interpark.com/api/booking/airJourney.do\n",
      ">> Parameters\n",
      "chd:0 , format:json , inf:0 , depDate:20170826 , arr:CJU , dep:PUS , adt:1 , tripDivi:0 , airlineCode:LJ , \n",
      "End Simple crawling\n",
      "Start Simple crawling :  http://domair.interpark.com/api/booking/airJourney.do\n",
      ">> Parameters\n",
      "chd:0 , format:json , inf:0 , depDate:20170826 , arr:CJU , dep:PUS , adt:1 , tripDivi:0 , airlineCode:OZ , \n"
     ]
    },
    {
     "name": "stderr",
     "output_type": "stream",
     "text": [
      "2017-08-09 08:29:59,654 root     DEBUG    Crawling Interpark domastic schedule site\n"
     ]
    },
    {
     "name": "stdout",
     "output_type": "stream",
     "text": [
      "End Simple crawling\n",
      "Start Simple crawling :  http://domair.interpark.com/api/booking/airJourney.do\n",
      ">> Parameters\n",
      "chd:0 , format:json , inf:0 , depDate:20170826 , arr:CJU , dep:PUS , adt:1 , tripDivi:0 , airlineCode:KE , \n"
     ]
    },
    {
     "name": "stderr",
     "output_type": "stream",
     "text": [
      "2017-08-09 08:30:04,792 root     DEBUG    Crawling Interpark domastic schedule site\n"
     ]
    },
    {
     "name": "stdout",
     "output_type": "stream",
     "text": [
      "End Simple crawling\n",
      "Start Simple crawling :  http://domair.interpark.com/api/booking/airJourney.do\n",
      ">> Parameters\n",
      "chd:0 , format:json , inf:0 , depDate:20170826 , arr:CJU , dep:PUS , adt:1 , tripDivi:0 , airlineCode:ZE , \n"
     ]
    },
    {
     "name": "stderr",
     "output_type": "stream",
     "text": [
      "2017-08-09 08:30:05,729 root     DEBUG    Crawling Interpark domastic schedule site\n"
     ]
    },
    {
     "name": "stdout",
     "output_type": "stream",
     "text": [
      "End Simple crawling\n",
      "Start Simple crawling :  http://domair.interpark.com/api/booking/airJourney.do\n",
      ">> Parameters\n",
      "chd:0 , format:json , inf:0 , depDate:20170827 , arr:CJU , dep:PUS , adt:1 , tripDivi:0 , airlineCode:7C , \n"
     ]
    },
    {
     "name": "stderr",
     "output_type": "stream",
     "text": [
      "2017-08-09 08:30:11,986 root     DEBUG    Crawling Interpark domastic schedule site\n"
     ]
    },
    {
     "name": "stdout",
     "output_type": "stream",
     "text": [
      "End Simple crawling\n",
      "Start Simple crawling :  http://domair.interpark.com/api/booking/airJourney.do\n",
      ">> Parameters\n",
      "chd:0 , format:json , inf:0 , depDate:20170827 , arr:CJU , dep:PUS , adt:1 , tripDivi:0 , airlineCode:LJ , \n"
     ]
    },
    {
     "name": "stderr",
     "output_type": "stream",
     "text": [
      "2017-08-09 08:30:12,447 root     DEBUG    Crawling Interpark domastic schedule site\n"
     ]
    },
    {
     "name": "stdout",
     "output_type": "stream",
     "text": [
      "End Simple crawling\n",
      "Start Simple crawling :  http://domair.interpark.com/api/booking/airJourney.do\n",
      ">> Parameters\n",
      "chd:0 , format:json , inf:0 , depDate:20170827 , arr:CJU , dep:PUS , adt:1 , tripDivi:0 , airlineCode:OZ , \n"
     ]
    },
    {
     "name": "stderr",
     "output_type": "stream",
     "text": [
      "2017-08-09 08:30:13,380 root     DEBUG    Crawling Interpark domastic schedule site\n"
     ]
    },
    {
     "name": "stdout",
     "output_type": "stream",
     "text": [
      "End Simple crawling\n",
      "Start Simple crawling :  http://domair.interpark.com/api/booking/airJourney.do\n",
      ">> Parameters\n",
      "chd:0 , format:json , inf:0 , depDate:20170827 , arr:CJU , dep:PUS , adt:1 , tripDivi:0 , airlineCode:KE , \n"
     ]
    },
    {
     "name": "stderr",
     "output_type": "stream",
     "text": [
      "2017-08-09 08:30:18,738 root     DEBUG    Crawling Interpark domastic schedule site\n"
     ]
    },
    {
     "name": "stdout",
     "output_type": "stream",
     "text": [
      "End Simple crawling\n",
      "Start Simple crawling :  http://domair.interpark.com/api/booking/airJourney.do\n",
      ">> Parameters\n",
      "chd:0 , format:json , inf:0 , depDate:20170827 , arr:CJU , dep:PUS , adt:1 , tripDivi:0 , airlineCode:ZE , \n"
     ]
    },
    {
     "name": "stderr",
     "output_type": "stream",
     "text": [
      "2017-08-09 08:30:19,751 root     DEBUG    Crawling Interpark domastic schedule site\n"
     ]
    },
    {
     "name": "stdout",
     "output_type": "stream",
     "text": [
      "End Simple crawling\n",
      "Start Simple crawling :  http://domair.interpark.com/api/booking/airJourney.do\n",
      ">> Parameters\n",
      "chd:0 , format:json , inf:0 , depDate:20170828 , arr:CJU , dep:PUS , adt:1 , tripDivi:0 , airlineCode:7C , \n"
     ]
    },
    {
     "name": "stderr",
     "output_type": "stream",
     "text": [
      "2017-08-09 08:30:21,339 root     DEBUG    Crawling Interpark domastic schedule site\n",
      "2017-08-09 08:30:21,452 root     DEBUG    Crawling Interpark domastic schedule site\n"
     ]
    },
    {
     "name": "stdout",
     "output_type": "stream",
     "text": [
      "End Simple crawling\n",
      "Start Simple crawling :  http://domair.interpark.com/api/booking/airJourney.do\n",
      ">> Parameters\n",
      "chd:0 , format:json , inf:0 , depDate:20170828 , arr:CJU , dep:PUS , adt:1 , tripDivi:0 , airlineCode:LJ , \n",
      "End Simple crawling\n",
      "Start Simple crawling :  http://domair.interpark.com/api/booking/airJourney.do\n",
      ">> Parameters\n",
      "chd:0 , format:json , inf:0 , depDate:20170828 , arr:CJU , dep:PUS , adt:1 , tripDivi:0 , airlineCode:OZ , \n"
     ]
    },
    {
     "name": "stderr",
     "output_type": "stream",
     "text": [
      "2017-08-09 08:30:22,699 root     DEBUG    Crawling Interpark domastic schedule site\n"
     ]
    },
    {
     "name": "stdout",
     "output_type": "stream",
     "text": [
      "End Simple crawling\n",
      "Start Simple crawling :  http://domair.interpark.com/api/booking/airJourney.do\n",
      ">> Parameters\n",
      "chd:0 , format:json , inf:0 , depDate:20170828 , arr:CJU , dep:PUS , adt:1 , tripDivi:0 , airlineCode:KE , \n"
     ]
    },
    {
     "name": "stderr",
     "output_type": "stream",
     "text": [
      "2017-08-09 08:30:27,816 root     DEBUG    Crawling Interpark domastic schedule site\n"
     ]
    },
    {
     "name": "stdout",
     "output_type": "stream",
     "text": [
      "End Simple crawling\n",
      "Start Simple crawling :  http://domair.interpark.com/api/booking/airJourney.do\n",
      ">> Parameters\n",
      "chd:0 , format:json , inf:0 , depDate:20170828 , arr:CJU , dep:PUS , adt:1 , tripDivi:0 , airlineCode:ZE , \n"
     ]
    },
    {
     "name": "stderr",
     "output_type": "stream",
     "text": [
      "2017-08-09 08:30:28,788 root     DEBUG    Crawling Interpark domastic schedule site\n"
     ]
    },
    {
     "name": "stdout",
     "output_type": "stream",
     "text": [
      "End Simple crawling\n",
      "Start Simple crawling :  http://domair.interpark.com/api/booking/airJourney.do\n",
      ">> Parameters\n",
      "chd:0 , format:json , inf:0 , depDate:20170829 , arr:CJU , dep:PUS , adt:1 , tripDivi:0 , airlineCode:7C , \n"
     ]
    },
    {
     "name": "stderr",
     "output_type": "stream",
     "text": [
      "2017-08-09 08:30:35,640 root     DEBUG    Crawling Interpark domastic schedule site\n"
     ]
    },
    {
     "name": "stdout",
     "output_type": "stream",
     "text": [
      "End Simple crawling\n",
      "Start Simple crawling :  http://domair.interpark.com/api/booking/airJourney.do\n",
      ">> Parameters\n",
      "chd:0 , format:json , inf:0 , depDate:20170829 , arr:CJU , dep:PUS , adt:1 , tripDivi:0 , airlineCode:LJ , \n"
     ]
    },
    {
     "name": "stderr",
     "output_type": "stream",
     "text": [
      "2017-08-09 08:30:35,957 root     DEBUG    Crawling Interpark domastic schedule site\n"
     ]
    },
    {
     "name": "stdout",
     "output_type": "stream",
     "text": [
      "End Simple crawling\n",
      "Start Simple crawling :  http://domair.interpark.com/api/booking/airJourney.do\n",
      ">> Parameters\n",
      "chd:0 , format:json , inf:0 , depDate:20170829 , arr:CJU , dep:PUS , adt:1 , tripDivi:0 , airlineCode:OZ , \n"
     ]
    },
    {
     "name": "stderr",
     "output_type": "stream",
     "text": [
      "2017-08-09 08:30:36,851 root     DEBUG    Crawling Interpark domastic schedule site\n"
     ]
    },
    {
     "name": "stdout",
     "output_type": "stream",
     "text": [
      "End Simple crawling\n",
      "Start Simple crawling :  http://domair.interpark.com/api/booking/airJourney.do\n",
      ">> Parameters\n",
      "chd:0 , format:json , inf:0 , depDate:20170829 , arr:CJU , dep:PUS , adt:1 , tripDivi:0 , airlineCode:KE , \n"
     ]
    },
    {
     "name": "stderr",
     "output_type": "stream",
     "text": [
      "2017-08-09 08:30:42,427 root     DEBUG    Crawling Interpark domastic schedule site\n"
     ]
    },
    {
     "name": "stdout",
     "output_type": "stream",
     "text": [
      "End Simple crawling\n",
      "Start Simple crawling :  http://domair.interpark.com/api/booking/airJourney.do\n",
      ">> Parameters\n",
      "chd:0 , format:json , inf:0 , depDate:20170829 , arr:CJU , dep:PUS , adt:1 , tripDivi:0 , airlineCode:ZE , \n"
     ]
    },
    {
     "name": "stderr",
     "output_type": "stream",
     "text": [
      "2017-08-09 08:30:43,433 root     DEBUG    Crawling Interpark domastic schedule site\n"
     ]
    },
    {
     "name": "stdout",
     "output_type": "stream",
     "text": [
      "End Simple crawling\n",
      "Start Simple crawling :  http://domair.interpark.com/api/booking/airJourney.do\n",
      ">> Parameters\n",
      "chd:0 , format:json , inf:0 , depDate:20170830 , arr:CJU , dep:PUS , adt:1 , tripDivi:0 , airlineCode:7C , \n"
     ]
    },
    {
     "name": "stderr",
     "output_type": "stream",
     "text": [
      "2017-08-09 08:30:48,267 root     DEBUG    Crawling Interpark domastic schedule site\n"
     ]
    },
    {
     "name": "stdout",
     "output_type": "stream",
     "text": [
      "End Simple crawling\n",
      "Start Simple crawling :  http://domair.interpark.com/api/booking/airJourney.do\n",
      ">> Parameters\n",
      "chd:0 , format:json , inf:0 , depDate:20170830 , arr:CJU , dep:PUS , adt:1 , tripDivi:0 , airlineCode:LJ , \n"
     ]
    },
    {
     "name": "stderr",
     "output_type": "stream",
     "text": [
      "2017-08-09 08:30:48,536 root     DEBUG    Crawling Interpark domastic schedule site\n"
     ]
    },
    {
     "name": "stdout",
     "output_type": "stream",
     "text": [
      "End Simple crawling\n",
      "Start Simple crawling :  http://domair.interpark.com/api/booking/airJourney.do\n",
      ">> Parameters\n",
      "chd:0 , format:json , inf:0 , depDate:20170830 , arr:CJU , dep:PUS , adt:1 , tripDivi:0 , airlineCode:OZ , \n"
     ]
    },
    {
     "name": "stderr",
     "output_type": "stream",
     "text": [
      "2017-08-09 08:30:49,846 root     DEBUG    Crawling Interpark domastic schedule site\n"
     ]
    },
    {
     "name": "stdout",
     "output_type": "stream",
     "text": [
      "End Simple crawling\n",
      "Start Simple crawling :  http://domair.interpark.com/api/booking/airJourney.do\n",
      ">> Parameters\n",
      "chd:0 , format:json , inf:0 , depDate:20170830 , arr:CJU , dep:PUS , adt:1 , tripDivi:0 , airlineCode:KE , \n"
     ]
    },
    {
     "name": "stderr",
     "output_type": "stream",
     "text": [
      "2017-08-09 08:30:55,200 root     DEBUG    Crawling Interpark domastic schedule site\n"
     ]
    },
    {
     "name": "stdout",
     "output_type": "stream",
     "text": [
      "End Simple crawling\n",
      "Start Simple crawling :  http://domair.interpark.com/api/booking/airJourney.do\n",
      ">> Parameters\n",
      "chd:0 , format:json , inf:0 , depDate:20170830 , arr:CJU , dep:PUS , adt:1 , tripDivi:0 , airlineCode:ZE , \n"
     ]
    },
    {
     "name": "stderr",
     "output_type": "stream",
     "text": [
      "2017-08-09 08:30:56,158 root     INFO     end batch job :: craw_by_route_site :: elapsed -0:04:06.665108 :: Total crawl:105 files saved.\n",
      "2017-08-09 08:30:56,162 root     INFO     start batch job :: craw_by_route_site[CJJ,CJU,IP,['20170810', '20170811', '20170812', '20170813', '20170814', '20170815', '20170816', '20170817', '20170818', '20170819', '20170820', '20170821', '20170822', '20170823', '20170824', '20170825', '20170826', '20170827', '20170828', '20170829', '20170830'],['7C', 'LJ', 'OZ', 'KE', 'ZE']]\n",
      "2017-08-09 08:30:56,165 root     DEBUG    0 :: IP :: crawling_IP_dom :: False\n",
      "2017-08-09 08:30:56,169 root     INFO     <function crawling_IP_dom at 0x0000000007FA6378> :: False\n",
      "2017-08-09 08:30:56,173 root     DEBUG    Crawling Interpark domastic schedule site\n"
     ]
    },
    {
     "name": "stdout",
     "output_type": "stream",
     "text": [
      "End Simple crawling\n",
      "Start Simple crawling :  http://domair.interpark.com/api/booking/airJourney.do\n",
      ">> Parameters\n",
      "chd:0 , format:json , inf:0 , depDate:20170810 , arr:CJU , dep:CJJ , adt:1 , tripDivi:0 , airlineCode:7C , \n"
     ]
    },
    {
     "name": "stderr",
     "output_type": "stream",
     "text": [
      "2017-08-09 08:30:58,623 root     DEBUG    Crawling Interpark domastic schedule site\n",
      "2017-08-09 08:30:58,759 root     DEBUG    Crawling Interpark domastic schedule site\n"
     ]
    },
    {
     "name": "stdout",
     "output_type": "stream",
     "text": [
      "End Simple crawling\n",
      "Start Simple crawling :  http://domair.interpark.com/api/booking/airJourney.do\n",
      ">> Parameters\n",
      "chd:0 , format:json , inf:0 , depDate:20170810 , arr:CJU , dep:CJJ , adt:1 , tripDivi:0 , airlineCode:LJ , \n",
      "End Simple crawling\n",
      "Start Simple crawling :  http://domair.interpark.com/api/booking/airJourney.do\n",
      ">> Parameters\n",
      "chd:0 , format:json , inf:0 , depDate:20170810 , arr:CJU , dep:CJJ , adt:1 , tripDivi:0 , airlineCode:OZ , \n"
     ]
    },
    {
     "name": "stderr",
     "output_type": "stream",
     "text": [
      "2017-08-09 08:30:59,520 root     DEBUG    Crawling Interpark domastic schedule site\n"
     ]
    },
    {
     "name": "stdout",
     "output_type": "stream",
     "text": [
      "End Simple crawling\n",
      "Start Simple crawling :  http://domair.interpark.com/api/booking/airJourney.do\n",
      ">> Parameters\n",
      "chd:0 , format:json , inf:0 , depDate:20170810 , arr:CJU , dep:CJJ , adt:1 , tripDivi:0 , airlineCode:KE , \n"
     ]
    },
    {
     "name": "stderr",
     "output_type": "stream",
     "text": [
      "2017-08-09 08:31:07,433 root     DEBUG    Crawling Interpark domastic schedule site\n"
     ]
    },
    {
     "name": "stdout",
     "output_type": "stream",
     "text": [
      "End Simple crawling\n",
      "Start Simple crawling :  http://domair.interpark.com/api/booking/airJourney.do\n",
      ">> Parameters\n",
      "chd:0 , format:json , inf:0 , depDate:20170810 , arr:CJU , dep:CJJ , adt:1 , tripDivi:0 , airlineCode:ZE , \n"
     ]
    },
    {
     "name": "stderr",
     "output_type": "stream",
     "text": [
      "2017-08-09 08:31:08,445 root     DEBUG    Crawling Interpark domastic schedule site\n"
     ]
    },
    {
     "name": "stdout",
     "output_type": "stream",
     "text": [
      "End Simple crawling\n",
      "Start Simple crawling :  http://domair.interpark.com/api/booking/airJourney.do\n",
      ">> Parameters\n",
      "chd:0 , format:json , inf:0 , depDate:20170811 , arr:CJU , dep:CJJ , adt:1 , tripDivi:0 , airlineCode:7C , \n"
     ]
    },
    {
     "name": "stderr",
     "output_type": "stream",
     "text": [
      "2017-08-09 08:31:09,384 root     DEBUG    Crawling Interpark domastic schedule site\n",
      "2017-08-09 08:31:09,523 root     DEBUG    Crawling Interpark domastic schedule site\n"
     ]
    },
    {
     "name": "stdout",
     "output_type": "stream",
     "text": [
      "End Simple crawling\n",
      "Start Simple crawling :  http://domair.interpark.com/api/booking/airJourney.do\n",
      ">> Parameters\n",
      "chd:0 , format:json , inf:0 , depDate:20170811 , arr:CJU , dep:CJJ , adt:1 , tripDivi:0 , airlineCode:LJ , \n",
      "End Simple crawling\n",
      "Start Simple crawling :  http://domair.interpark.com/api/booking/airJourney.do\n",
      ">> Parameters\n",
      "chd:0 , format:json , inf:0 , depDate:20170811 , arr:CJU , dep:CJJ , adt:1 , tripDivi:0 , airlineCode:OZ , \n"
     ]
    },
    {
     "name": "stderr",
     "output_type": "stream",
     "text": [
      "2017-08-09 08:31:10,205 root     DEBUG    Crawling Interpark domastic schedule site\n"
     ]
    },
    {
     "name": "stdout",
     "output_type": "stream",
     "text": [
      "End Simple crawling\n",
      "Start Simple crawling :  http://domair.interpark.com/api/booking/airJourney.do\n",
      ">> Parameters\n",
      "chd:0 , format:json , inf:0 , depDate:20170811 , arr:CJU , dep:CJJ , adt:1 , tripDivi:0 , airlineCode:KE , \n"
     ]
    },
    {
     "name": "stderr",
     "output_type": "stream",
     "text": [
      "2017-08-09 08:31:14,777 root     DEBUG    Crawling Interpark domastic schedule site\n"
     ]
    },
    {
     "name": "stdout",
     "output_type": "stream",
     "text": [
      "End Simple crawling\n",
      "Start Simple crawling :  http://domair.interpark.com/api/booking/airJourney.do\n",
      ">> Parameters\n",
      "chd:0 , format:json , inf:0 , depDate:20170811 , arr:CJU , dep:CJJ , adt:1 , tripDivi:0 , airlineCode:ZE , \n"
     ]
    },
    {
     "name": "stderr",
     "output_type": "stream",
     "text": [
      "2017-08-09 08:31:15,771 root     DEBUG    Crawling Interpark domastic schedule site\n"
     ]
    },
    {
     "name": "stdout",
     "output_type": "stream",
     "text": [
      "End Simple crawling\n",
      "Start Simple crawling :  http://domair.interpark.com/api/booking/airJourney.do\n",
      ">> Parameters\n",
      "chd:0 , format:json , inf:0 , depDate:20170812 , arr:CJU , dep:CJJ , adt:1 , tripDivi:0 , airlineCode:7C , \n"
     ]
    },
    {
     "name": "stderr",
     "output_type": "stream",
     "text": [
      "2017-08-09 08:31:16,754 root     DEBUG    Crawling Interpark domastic schedule site\n"
     ]
    },
    {
     "name": "stdout",
     "output_type": "stream",
     "text": [
      "End Simple crawling\n",
      "Start Simple crawling :  http://domair.interpark.com/api/booking/airJourney.do\n",
      ">> Parameters\n",
      "chd:0 , format:json , inf:0 , depDate:20170812 , arr:CJU , dep:CJJ , adt:1 , tripDivi:0 , airlineCode:LJ , \n"
     ]
    },
    {
     "name": "stderr",
     "output_type": "stream",
     "text": [
      "2017-08-09 08:31:17,110 root     DEBUG    Crawling Interpark domastic schedule site\n"
     ]
    },
    {
     "name": "stdout",
     "output_type": "stream",
     "text": [
      "End Simple crawling\n",
      "Start Simple crawling :  http://domair.interpark.com/api/booking/airJourney.do\n",
      ">> Parameters\n",
      "chd:0 , format:json , inf:0 , depDate:20170812 , arr:CJU , dep:CJJ , adt:1 , tripDivi:0 , airlineCode:OZ , \n"
     ]
    },
    {
     "name": "stderr",
     "output_type": "stream",
     "text": [
      "2017-08-09 08:31:17,819 root     DEBUG    Crawling Interpark domastic schedule site\n"
     ]
    },
    {
     "name": "stdout",
     "output_type": "stream",
     "text": [
      "End Simple crawling\n",
      "Start Simple crawling :  http://domair.interpark.com/api/booking/airJourney.do\n",
      ">> Parameters\n",
      "chd:0 , format:json , inf:0 , depDate:20170812 , arr:CJU , dep:CJJ , adt:1 , tripDivi:0 , airlineCode:KE , \n"
     ]
    },
    {
     "name": "stderr",
     "output_type": "stream",
     "text": [
      "2017-08-09 08:31:22,337 root     DEBUG    Crawling Interpark domastic schedule site\n"
     ]
    },
    {
     "name": "stdout",
     "output_type": "stream",
     "text": [
      "End Simple crawling\n",
      "Start Simple crawling :  http://domair.interpark.com/api/booking/airJourney.do\n",
      ">> Parameters\n",
      "chd:0 , format:json , inf:0 , depDate:20170812 , arr:CJU , dep:CJJ , adt:1 , tripDivi:0 , airlineCode:ZE , \n"
     ]
    },
    {
     "name": "stderr",
     "output_type": "stream",
     "text": [
      "2017-08-09 08:31:23,326 root     DEBUG    Crawling Interpark domastic schedule site\n"
     ]
    },
    {
     "name": "stdout",
     "output_type": "stream",
     "text": [
      "End Simple crawling\n",
      "Start Simple crawling :  http://domair.interpark.com/api/booking/airJourney.do\n",
      ">> Parameters\n",
      "chd:0 , format:json , inf:0 , depDate:20170813 , arr:CJU , dep:CJJ , adt:1 , tripDivi:0 , airlineCode:7C , \n"
     ]
    },
    {
     "name": "stderr",
     "output_type": "stream",
     "text": [
      "2017-08-09 08:31:24,838 root     DEBUG    Crawling Interpark domastic schedule site\n"
     ]
    },
    {
     "name": "stdout",
     "output_type": "stream",
     "text": [
      "End Simple crawling\n",
      "Start Simple crawling :  http://domair.interpark.com/api/booking/airJourney.do\n",
      ">> Parameters\n",
      "chd:0 , format:json , inf:0 , depDate:20170813 , arr:CJU , dep:CJJ , adt:1 , tripDivi:0 , airlineCode:LJ , \n"
     ]
    },
    {
     "name": "stderr",
     "output_type": "stream",
     "text": [
      "2017-08-09 08:31:25,274 root     DEBUG    Crawling Interpark domastic schedule site\n"
     ]
    },
    {
     "name": "stdout",
     "output_type": "stream",
     "text": [
      "End Simple crawling\n",
      "Start Simple crawling :  http://domair.interpark.com/api/booking/airJourney.do\n",
      ">> Parameters\n",
      "chd:0 , format:json , inf:0 , depDate:20170813 , arr:CJU , dep:CJJ , adt:1 , tripDivi:0 , airlineCode:OZ , \n"
     ]
    },
    {
     "name": "stderr",
     "output_type": "stream",
     "text": [
      "2017-08-09 08:31:25,970 root     DEBUG    Crawling Interpark domastic schedule site\n"
     ]
    },
    {
     "name": "stdout",
     "output_type": "stream",
     "text": [
      "End Simple crawling\n",
      "Start Simple crawling :  http://domair.interpark.com/api/booking/airJourney.do\n",
      ">> Parameters\n",
      "chd:0 , format:json , inf:0 , depDate:20170813 , arr:CJU , dep:CJJ , adt:1 , tripDivi:0 , airlineCode:KE , \n"
     ]
    },
    {
     "name": "stderr",
     "output_type": "stream",
     "text": [
      "2017-08-09 08:31:30,991 root     DEBUG    Crawling Interpark domastic schedule site\n"
     ]
    },
    {
     "name": "stdout",
     "output_type": "stream",
     "text": [
      "End Simple crawling\n",
      "Start Simple crawling :  http://domair.interpark.com/api/booking/airJourney.do\n",
      ">> Parameters\n",
      "chd:0 , format:json , inf:0 , depDate:20170813 , arr:CJU , dep:CJJ , adt:1 , tripDivi:0 , airlineCode:ZE , \n"
     ]
    },
    {
     "name": "stderr",
     "output_type": "stream",
     "text": [
      "2017-08-09 08:31:32,018 root     DEBUG    Crawling Interpark domastic schedule site\n"
     ]
    },
    {
     "name": "stdout",
     "output_type": "stream",
     "text": [
      "End Simple crawling\n",
      "Start Simple crawling :  http://domair.interpark.com/api/booking/airJourney.do\n",
      ">> Parameters\n",
      "chd:0 , format:json , inf:0 , depDate:20170814 , arr:CJU , dep:CJJ , adt:1 , tripDivi:0 , airlineCode:7C , \n"
     ]
    },
    {
     "name": "stderr",
     "output_type": "stream",
     "text": [
      "2017-08-09 08:31:37,879 root     DEBUG    Crawling Interpark domastic schedule site\n"
     ]
    },
    {
     "name": "stdout",
     "output_type": "stream",
     "text": [
      "End Simple crawling\n",
      "Start Simple crawling :  http://domair.interpark.com/api/booking/airJourney.do\n",
      ">> Parameters\n",
      "chd:0 , format:json , inf:0 , depDate:20170814 , arr:CJU , dep:CJJ , adt:1 , tripDivi:0 , airlineCode:LJ , \n"
     ]
    },
    {
     "name": "stderr",
     "output_type": "stream",
     "text": [
      "2017-08-09 08:31:38,263 root     DEBUG    Crawling Interpark domastic schedule site\n"
     ]
    },
    {
     "name": "stdout",
     "output_type": "stream",
     "text": [
      "End Simple crawling\n",
      "Start Simple crawling :  http://domair.interpark.com/api/booking/airJourney.do\n",
      ">> Parameters\n",
      "chd:0 , format:json , inf:0 , depDate:20170814 , arr:CJU , dep:CJJ , adt:1 , tripDivi:0 , airlineCode:OZ , \n"
     ]
    },
    {
     "name": "stderr",
     "output_type": "stream",
     "text": [
      "2017-08-09 08:31:39,139 root     DEBUG    Crawling Interpark domastic schedule site\n"
     ]
    },
    {
     "name": "stdout",
     "output_type": "stream",
     "text": [
      "End Simple crawling\n",
      "Start Simple crawling :  http://domair.interpark.com/api/booking/airJourney.do\n",
      ">> Parameters\n",
      "chd:0 , format:json , inf:0 , depDate:20170814 , arr:CJU , dep:CJJ , adt:1 , tripDivi:0 , airlineCode:KE , \n"
     ]
    },
    {
     "name": "stderr",
     "output_type": "stream",
     "text": [
      "2017-08-09 08:31:44,142 root     DEBUG    Crawling Interpark domastic schedule site\n"
     ]
    },
    {
     "name": "stdout",
     "output_type": "stream",
     "text": [
      "End Simple crawling\n",
      "Start Simple crawling :  http://domair.interpark.com/api/booking/airJourney.do\n",
      ">> Parameters\n",
      "chd:0 , format:json , inf:0 , depDate:20170814 , arr:CJU , dep:CJJ , adt:1 , tripDivi:0 , airlineCode:ZE , \n"
     ]
    },
    {
     "name": "stderr",
     "output_type": "stream",
     "text": [
      "2017-08-09 08:31:45,213 root     DEBUG    Crawling Interpark domastic schedule site\n"
     ]
    },
    {
     "name": "stdout",
     "output_type": "stream",
     "text": [
      "End Simple crawling\n",
      "Start Simple crawling :  http://domair.interpark.com/api/booking/airJourney.do\n",
      ">> Parameters\n",
      "chd:0 , format:json , inf:0 , depDate:20170815 , arr:CJU , dep:CJJ , adt:1 , tripDivi:0 , airlineCode:7C , \n"
     ]
    },
    {
     "name": "stderr",
     "output_type": "stream",
     "text": [
      "2017-08-09 08:31:46,994 root     DEBUG    Crawling Interpark domastic schedule site\n",
      "2017-08-09 08:31:47,170 root     DEBUG    Crawling Interpark domastic schedule site\n"
     ]
    },
    {
     "name": "stdout",
     "output_type": "stream",
     "text": [
      "End Simple crawling\n",
      "Start Simple crawling :  http://domair.interpark.com/api/booking/airJourney.do\n",
      ">> Parameters\n",
      "chd:0 , format:json , inf:0 , depDate:20170815 , arr:CJU , dep:CJJ , adt:1 , tripDivi:0 , airlineCode:LJ , \n",
      "End Simple crawling\n",
      "Start Simple crawling :  http://domair.interpark.com/api/booking/airJourney.do\n",
      ">> Parameters\n",
      "chd:0 , format:json , inf:0 , depDate:20170815 , arr:CJU , dep:CJJ , adt:1 , tripDivi:0 , airlineCode:OZ , \n"
     ]
    },
    {
     "name": "stderr",
     "output_type": "stream",
     "text": [
      "2017-08-09 08:31:48,058 root     DEBUG    Crawling Interpark domastic schedule site\n"
     ]
    },
    {
     "name": "stdout",
     "output_type": "stream",
     "text": [
      "End Simple crawling\n",
      "Start Simple crawling :  http://domair.interpark.com/api/booking/airJourney.do\n",
      ">> Parameters\n",
      "chd:0 , format:json , inf:0 , depDate:20170815 , arr:CJU , dep:CJJ , adt:1 , tripDivi:0 , airlineCode:KE , \n"
     ]
    },
    {
     "name": "stderr",
     "output_type": "stream",
     "text": [
      "2017-08-09 08:31:53,289 root     DEBUG    Crawling Interpark domastic schedule site\n"
     ]
    },
    {
     "name": "stdout",
     "output_type": "stream",
     "text": [
      "End Simple crawling\n",
      "Start Simple crawling :  http://domair.interpark.com/api/booking/airJourney.do\n",
      ">> Parameters\n",
      "chd:0 , format:json , inf:0 , depDate:20170815 , arr:CJU , dep:CJJ , adt:1 , tripDivi:0 , airlineCode:ZE , \n"
     ]
    },
    {
     "name": "stderr",
     "output_type": "stream",
     "text": [
      "2017-08-09 08:31:54,279 root     DEBUG    Crawling Interpark domastic schedule site\n"
     ]
    },
    {
     "name": "stdout",
     "output_type": "stream",
     "text": [
      "End Simple crawling\n",
      "Start Simple crawling :  http://domair.interpark.com/api/booking/airJourney.do\n",
      ">> Parameters\n",
      "chd:0 , format:json , inf:0 , depDate:20170816 , arr:CJU , dep:CJJ , adt:1 , tripDivi:0 , airlineCode:7C , \n"
     ]
    },
    {
     "name": "stderr",
     "output_type": "stream",
     "text": [
      "2017-08-09 08:31:56,779 root     DEBUG    Crawling Interpark domastic schedule site\n",
      "2017-08-09 08:31:56,920 root     DEBUG    Crawling Interpark domastic schedule site\n"
     ]
    },
    {
     "name": "stdout",
     "output_type": "stream",
     "text": [
      "End Simple crawling\n",
      "Start Simple crawling :  http://domair.interpark.com/api/booking/airJourney.do\n",
      ">> Parameters\n",
      "chd:0 , format:json , inf:0 , depDate:20170816 , arr:CJU , dep:CJJ , adt:1 , tripDivi:0 , airlineCode:LJ , \n",
      "End Simple crawling\n",
      "Start Simple crawling :  http://domair.interpark.com/api/booking/airJourney.do\n",
      ">> Parameters\n",
      "chd:0 , format:json , inf:0 , depDate:20170816 , arr:CJU , dep:CJJ , adt:1 , tripDivi:0 , airlineCode:OZ , \n"
     ]
    },
    {
     "name": "stderr",
     "output_type": "stream",
     "text": [
      "2017-08-09 08:31:57,574 root     DEBUG    Crawling Interpark domastic schedule site\n"
     ]
    },
    {
     "name": "stdout",
     "output_type": "stream",
     "text": [
      "End Simple crawling\n",
      "Start Simple crawling :  http://domair.interpark.com/api/booking/airJourney.do\n",
      ">> Parameters\n",
      "chd:0 , format:json , inf:0 , depDate:20170816 , arr:CJU , dep:CJJ , adt:1 , tripDivi:0 , airlineCode:KE , \n"
     ]
    },
    {
     "name": "stderr",
     "output_type": "stream",
     "text": [
      "2017-08-09 08:32:02,452 root     DEBUG    Crawling Interpark domastic schedule site\n"
     ]
    },
    {
     "name": "stdout",
     "output_type": "stream",
     "text": [
      "End Simple crawling\n",
      "Start Simple crawling :  http://domair.interpark.com/api/booking/airJourney.do\n",
      ">> Parameters\n",
      "chd:0 , format:json , inf:0 , depDate:20170816 , arr:CJU , dep:CJJ , adt:1 , tripDivi:0 , airlineCode:ZE , \n"
     ]
    },
    {
     "name": "stderr",
     "output_type": "stream",
     "text": [
      "2017-08-09 08:32:03,654 root     DEBUG    Crawling Interpark domastic schedule site\n"
     ]
    },
    {
     "name": "stdout",
     "output_type": "stream",
     "text": [
      "End Simple crawling\n",
      "Start Simple crawling :  http://domair.interpark.com/api/booking/airJourney.do\n",
      ">> Parameters\n",
      "chd:0 , format:json , inf:0 , depDate:20170817 , arr:CJU , dep:CJJ , adt:1 , tripDivi:0 , airlineCode:7C , \n"
     ]
    },
    {
     "name": "stderr",
     "output_type": "stream",
     "text": [
      "2017-08-09 08:32:05,132 root     DEBUG    Crawling Interpark domastic schedule site\n",
      "2017-08-09 08:32:05,298 root     DEBUG    Crawling Interpark domastic schedule site\n"
     ]
    },
    {
     "name": "stdout",
     "output_type": "stream",
     "text": [
      "End Simple crawling\n",
      "Start Simple crawling :  http://domair.interpark.com/api/booking/airJourney.do\n",
      ">> Parameters\n",
      "chd:0 , format:json , inf:0 , depDate:20170817 , arr:CJU , dep:CJJ , adt:1 , tripDivi:0 , airlineCode:LJ , \n",
      "End Simple crawling\n",
      "Start Simple crawling :  http://domair.interpark.com/api/booking/airJourney.do\n",
      ">> Parameters\n",
      "chd:0 , format:json , inf:0 , depDate:20170817 , arr:CJU , dep:CJJ , adt:1 , tripDivi:0 , airlineCode:OZ , \n"
     ]
    },
    {
     "name": "stderr",
     "output_type": "stream",
     "text": [
      "2017-08-09 08:32:06,035 root     DEBUG    Crawling Interpark domastic schedule site\n"
     ]
    },
    {
     "name": "stdout",
     "output_type": "stream",
     "text": [
      "End Simple crawling\n",
      "Start Simple crawling :  http://domair.interpark.com/api/booking/airJourney.do\n",
      ">> Parameters\n",
      "chd:0 , format:json , inf:0 , depDate:20170817 , arr:CJU , dep:CJJ , adt:1 , tripDivi:0 , airlineCode:KE , \n"
     ]
    },
    {
     "name": "stderr",
     "output_type": "stream",
     "text": [
      "2017-08-09 08:32:10,968 root     DEBUG    Crawling Interpark domastic schedule site\n"
     ]
    },
    {
     "name": "stdout",
     "output_type": "stream",
     "text": [
      "End Simple crawling\n",
      "Start Simple crawling :  http://domair.interpark.com/api/booking/airJourney.do\n",
      ">> Parameters\n",
      "chd:0 , format:json , inf:0 , depDate:20170817 , arr:CJU , dep:CJJ , adt:1 , tripDivi:0 , airlineCode:ZE , \n"
     ]
    },
    {
     "name": "stderr",
     "output_type": "stream",
     "text": [
      "2017-08-09 08:32:11,976 root     DEBUG    Crawling Interpark domastic schedule site\n"
     ]
    },
    {
     "name": "stdout",
     "output_type": "stream",
     "text": [
      "End Simple crawling\n",
      "Start Simple crawling :  http://domair.interpark.com/api/booking/airJourney.do\n",
      ">> Parameters\n",
      "chd:0 , format:json , inf:0 , depDate:20170818 , arr:CJU , dep:CJJ , adt:1 , tripDivi:0 , airlineCode:7C , \n"
     ]
    },
    {
     "name": "stderr",
     "output_type": "stream",
     "text": [
      "2017-08-09 08:32:14,700 root     DEBUG    Crawling Interpark domastic schedule site\n",
      "2017-08-09 08:32:14,846 root     DEBUG    Crawling Interpark domastic schedule site\n"
     ]
    },
    {
     "name": "stdout",
     "output_type": "stream",
     "text": [
      "End Simple crawling\n",
      "Start Simple crawling :  http://domair.interpark.com/api/booking/airJourney.do\n",
      ">> Parameters\n",
      "chd:0 , format:json , inf:0 , depDate:20170818 , arr:CJU , dep:CJJ , adt:1 , tripDivi:0 , airlineCode:LJ , \n",
      "End Simple crawling\n",
      "Start Simple crawling :  http://domair.interpark.com/api/booking/airJourney.do\n",
      ">> Parameters\n",
      "chd:0 , format:json , inf:0 , depDate:20170818 , arr:CJU , dep:CJJ , adt:1 , tripDivi:0 , airlineCode:OZ , \n"
     ]
    },
    {
     "name": "stderr",
     "output_type": "stream",
     "text": [
      "2017-08-09 08:32:15,571 root     DEBUG    Crawling Interpark domastic schedule site\n"
     ]
    },
    {
     "name": "stdout",
     "output_type": "stream",
     "text": [
      "End Simple crawling\n",
      "Start Simple crawling :  http://domair.interpark.com/api/booking/airJourney.do\n",
      ">> Parameters\n",
      "chd:0 , format:json , inf:0 , depDate:20170818 , arr:CJU , dep:CJJ , adt:1 , tripDivi:0 , airlineCode:KE , \n"
     ]
    },
    {
     "name": "stderr",
     "output_type": "stream",
     "text": [
      "2017-08-09 08:32:20,367 root     DEBUG    Crawling Interpark domastic schedule site\n"
     ]
    },
    {
     "name": "stdout",
     "output_type": "stream",
     "text": [
      "End Simple crawling\n",
      "Start Simple crawling :  http://domair.interpark.com/api/booking/airJourney.do\n",
      ">> Parameters\n",
      "chd:0 , format:json , inf:0 , depDate:20170818 , arr:CJU , dep:CJJ , adt:1 , tripDivi:0 , airlineCode:ZE , \n"
     ]
    },
    {
     "name": "stderr",
     "output_type": "stream",
     "text": [
      "2017-08-09 08:32:21,562 root     DEBUG    Crawling Interpark domastic schedule site\n"
     ]
    },
    {
     "name": "stdout",
     "output_type": "stream",
     "text": [
      "End Simple crawling\n",
      "Start Simple crawling :  http://domair.interpark.com/api/booking/airJourney.do\n",
      ">> Parameters\n",
      "chd:0 , format:json , inf:0 , depDate:20170819 , arr:CJU , dep:CJJ , adt:1 , tripDivi:0 , airlineCode:7C , \n"
     ]
    },
    {
     "name": "stderr",
     "output_type": "stream",
     "text": [
      "2017-08-09 08:32:23,383 root     DEBUG    Crawling Interpark domastic schedule site\n",
      "2017-08-09 08:32:23,526 root     DEBUG    Crawling Interpark domastic schedule site\n"
     ]
    },
    {
     "name": "stdout",
     "output_type": "stream",
     "text": [
      "End Simple crawling\n",
      "Start Simple crawling :  http://domair.interpark.com/api/booking/airJourney.do\n",
      ">> Parameters\n",
      "chd:0 , format:json , inf:0 , depDate:20170819 , arr:CJU , dep:CJJ , adt:1 , tripDivi:0 , airlineCode:LJ , \n",
      "End Simple crawling\n",
      "Start Simple crawling :  http://domair.interpark.com/api/booking/airJourney.do\n",
      ">> Parameters\n",
      "chd:0 , format:json , inf:0 , depDate:20170819 , arr:CJU , dep:CJJ , adt:1 , tripDivi:0 , airlineCode:OZ , \n"
     ]
    },
    {
     "name": "stderr",
     "output_type": "stream",
     "text": [
      "2017-08-09 08:32:24,213 root     DEBUG    Crawling Interpark domastic schedule site\n"
     ]
    },
    {
     "name": "stdout",
     "output_type": "stream",
     "text": [
      "End Simple crawling\n",
      "Start Simple crawling :  http://domair.interpark.com/api/booking/airJourney.do\n",
      ">> Parameters\n",
      "chd:0 , format:json , inf:0 , depDate:20170819 , arr:CJU , dep:CJJ , adt:1 , tripDivi:0 , airlineCode:KE , \n"
     ]
    },
    {
     "name": "stderr",
     "output_type": "stream",
     "text": [
      "2017-08-09 08:32:29,336 root     DEBUG    Crawling Interpark domastic schedule site\n"
     ]
    },
    {
     "name": "stdout",
     "output_type": "stream",
     "text": [
      "End Simple crawling\n",
      "Start Simple crawling :  http://domair.interpark.com/api/booking/airJourney.do\n",
      ">> Parameters\n",
      "chd:0 , format:json , inf:0 , depDate:20170819 , arr:CJU , dep:CJJ , adt:1 , tripDivi:0 , airlineCode:ZE , \n"
     ]
    },
    {
     "name": "stderr",
     "output_type": "stream",
     "text": [
      "2017-08-09 08:32:30,387 root     DEBUG    Crawling Interpark domastic schedule site\n"
     ]
    },
    {
     "name": "stdout",
     "output_type": "stream",
     "text": [
      "End Simple crawling\n",
      "Start Simple crawling :  http://domair.interpark.com/api/booking/airJourney.do\n",
      ">> Parameters\n",
      "chd:0 , format:json , inf:0 , depDate:20170820 , arr:CJU , dep:CJJ , adt:1 , tripDivi:0 , airlineCode:7C , \n"
     ]
    },
    {
     "name": "stderr",
     "output_type": "stream",
     "text": [
      "2017-08-09 08:32:34,334 root     DEBUG    Crawling Interpark domastic schedule site\n",
      "2017-08-09 08:32:34,464 root     DEBUG    Crawling Interpark domastic schedule site\n"
     ]
    },
    {
     "name": "stdout",
     "output_type": "stream",
     "text": [
      "End Simple crawling\n",
      "Start Simple crawling :  http://domair.interpark.com/api/booking/airJourney.do\n",
      ">> Parameters\n",
      "chd:0 , format:json , inf:0 , depDate:20170820 , arr:CJU , dep:CJJ , adt:1 , tripDivi:0 , airlineCode:LJ , \n",
      "End Simple crawling\n",
      "Start Simple crawling :  http://domair.interpark.com/api/booking/airJourney.do\n",
      ">> Parameters\n",
      "chd:0 , format:json , inf:0 , depDate:20170820 , arr:CJU , dep:CJJ , adt:1 , tripDivi:0 , airlineCode:OZ , \n"
     ]
    },
    {
     "name": "stderr",
     "output_type": "stream",
     "text": [
      "2017-08-09 08:32:35,371 root     DEBUG    Crawling Interpark domastic schedule site\n"
     ]
    },
    {
     "name": "stdout",
     "output_type": "stream",
     "text": [
      "End Simple crawling\n",
      "Start Simple crawling :  http://domair.interpark.com/api/booking/airJourney.do\n",
      ">> Parameters\n",
      "chd:0 , format:json , inf:0 , depDate:20170820 , arr:CJU , dep:CJJ , adt:1 , tripDivi:0 , airlineCode:KE , \n"
     ]
    },
    {
     "name": "stderr",
     "output_type": "stream",
     "text": [
      "2017-08-09 08:32:40,844 root     DEBUG    Crawling Interpark domastic schedule site\n"
     ]
    },
    {
     "name": "stdout",
     "output_type": "stream",
     "text": [
      "End Simple crawling\n",
      "Start Simple crawling :  http://domair.interpark.com/api/booking/airJourney.do\n",
      ">> Parameters\n",
      "chd:0 , format:json , inf:0 , depDate:20170820 , arr:CJU , dep:CJJ , adt:1 , tripDivi:0 , airlineCode:ZE , \n"
     ]
    },
    {
     "name": "stderr",
     "output_type": "stream",
     "text": [
      "2017-08-09 08:32:42,034 root     DEBUG    Crawling Interpark domastic schedule site\n"
     ]
    },
    {
     "name": "stdout",
     "output_type": "stream",
     "text": [
      "End Simple crawling\n",
      "Start Simple crawling :  http://domair.interpark.com/api/booking/airJourney.do\n",
      ">> Parameters\n",
      "chd:0 , format:json , inf:0 , depDate:20170821 , arr:CJU , dep:CJJ , adt:1 , tripDivi:0 , airlineCode:7C , \n"
     ]
    },
    {
     "name": "stderr",
     "output_type": "stream",
     "text": [
      "2017-08-09 08:32:43,495 root     DEBUG    Crawling Interpark domastic schedule site\n",
      "2017-08-09 08:32:43,677 root     DEBUG    Crawling Interpark domastic schedule site\n"
     ]
    },
    {
     "name": "stdout",
     "output_type": "stream",
     "text": [
      "End Simple crawling\n",
      "Start Simple crawling :  http://domair.interpark.com/api/booking/airJourney.do\n",
      ">> Parameters\n",
      "chd:0 , format:json , inf:0 , depDate:20170821 , arr:CJU , dep:CJJ , adt:1 , tripDivi:0 , airlineCode:LJ , \n",
      "End Simple crawling\n",
      "Start Simple crawling :  "
     ]
    },
    {
     "name": "stderr",
     "output_type": "stream",
     "text": [
      "2017-08-09 08:32:44,429 root     DEBUG    Crawling Interpark domastic schedule site\n"
     ]
    },
    {
     "name": "stdout",
     "output_type": "stream",
     "text": [
      "http://domair.interpark.com/api/booking/airJourney.do\n",
      ">> Parameters\n",
      "chd:0 , format:json , inf:0 , depDate:20170821 , arr:CJU , dep:CJJ , adt:1 , tripDivi:0 , airlineCode:OZ , \n",
      "End Simple crawling\n",
      "Start Simple crawling :  http://domair.interpark.com/api/booking/airJourney.do\n",
      ">> Parameters\n",
      "chd:0 , format:json , inf:0 , depDate:20170821 , arr:CJU , dep:CJJ , adt:1 , tripDivi:0 , airlineCode:KE , \n"
     ]
    },
    {
     "name": "stderr",
     "output_type": "stream",
     "text": [
      "2017-08-09 08:32:49,210 root     DEBUG    Crawling Interpark domastic schedule site\n"
     ]
    },
    {
     "name": "stdout",
     "output_type": "stream",
     "text": [
      "End Simple crawling\n",
      "Start Simple crawling :  http://domair.interpark.com/api/booking/airJourney.do\n",
      ">> Parameters\n",
      "chd:0 , format:json , inf:0 , depDate:20170821 , arr:CJU , dep:CJJ , adt:1 , tripDivi:0 , airlineCode:ZE , \n"
     ]
    },
    {
     "name": "stderr",
     "output_type": "stream",
     "text": [
      "2017-08-09 08:32:50,178 root     DEBUG    Crawling Interpark domastic schedule site\n"
     ]
    },
    {
     "name": "stdout",
     "output_type": "stream",
     "text": [
      "End Simple crawling\n",
      "Start Simple crawling :  http://domair.interpark.com/api/booking/airJourney.do\n",
      ">> Parameters\n",
      "chd:0 , format:json , inf:0 , depDate:20170822 , arr:CJU , dep:CJJ , adt:1 , tripDivi:0 , airlineCode:7C , \n"
     ]
    },
    {
     "name": "stderr",
     "output_type": "stream",
     "text": [
      "2017-08-09 08:32:57,624 root     DEBUG    Crawling Interpark domastic schedule site\n",
      "2017-08-09 08:32:57,798 root     DEBUG    Crawling Interpark domastic schedule site\n"
     ]
    },
    {
     "name": "stdout",
     "output_type": "stream",
     "text": [
      "End Simple crawling\n",
      "Start Simple crawling :  http://domair.interpark.com/api/booking/airJourney.do\n",
      ">> Parameters\n",
      "chd:0 , format:json , inf:0 , depDate:20170822 , arr:CJU , dep:CJJ , adt:1 , tripDivi:0 , airlineCode:LJ , \n",
      "End Simple crawling\n",
      "Start Simple crawling :  http://domair.interpark.com/api/booking/airJourney.do\n",
      ">> Parameters\n",
      "chd:0 , format:json , inf:0 , depDate:20170822 , arr:CJU , dep:CJJ , adt:1 , tripDivi:0 , airlineCode:OZ , \n"
     ]
    },
    {
     "name": "stderr",
     "output_type": "stream",
     "text": [
      "2017-08-09 08:32:58,745 root     DEBUG    Crawling Interpark domastic schedule site\n"
     ]
    },
    {
     "name": "stdout",
     "output_type": "stream",
     "text": [
      "End Simple crawling\n",
      "Start Simple crawling :  http://domair.interpark.com/api/booking/airJourney.do\n",
      ">> Parameters\n",
      "chd:0 , format:json , inf:0 , depDate:20170822 , arr:CJU , dep:CJJ , adt:1 , tripDivi:0 , airlineCode:KE , \n"
     ]
    },
    {
     "name": "stderr",
     "output_type": "stream",
     "text": [
      "2017-08-09 08:33:04,069 root     DEBUG    Crawling Interpark domastic schedule site\n"
     ]
    },
    {
     "name": "stdout",
     "output_type": "stream",
     "text": [
      "End Simple crawling\n",
      "Start Simple crawling :  http://domair.interpark.com/api/booking/airJourney.do\n",
      ">> Parameters\n",
      "chd:0 , format:json , inf:0 , depDate:20170822 , arr:CJU , dep:CJJ , adt:1 , tripDivi:0 , airlineCode:ZE , \n"
     ]
    },
    {
     "name": "stderr",
     "output_type": "stream",
     "text": [
      "2017-08-09 08:33:05,156 root     DEBUG    Crawling Interpark domastic schedule site\n"
     ]
    },
    {
     "name": "stdout",
     "output_type": "stream",
     "text": [
      "End Simple crawling\n",
      "Start Simple crawling :  http://domair.interpark.com/api/booking/airJourney.do\n",
      ">> Parameters\n",
      "chd:0 , format:json , inf:0 , depDate:20170823 , arr:CJU , dep:CJJ , adt:1 , tripDivi:0 , airlineCode:7C , \n"
     ]
    },
    {
     "name": "stderr",
     "output_type": "stream",
     "text": [
      "2017-08-09 08:33:08,258 root     DEBUG    Crawling Interpark domastic schedule site\n",
      "2017-08-09 08:33:08,421 root     DEBUG    Crawling Interpark domastic schedule site\n"
     ]
    },
    {
     "name": "stdout",
     "output_type": "stream",
     "text": [
      "End Simple crawling\n",
      "Start Simple crawling :  http://domair.interpark.com/api/booking/airJourney.do\n",
      ">> Parameters\n",
      "chd:0 , format:json , inf:0 , depDate:20170823 , arr:CJU , dep:CJJ , adt:1 , tripDivi:0 , airlineCode:LJ , \n",
      "End Simple crawling\n",
      "Start Simple crawling :  http://domair.interpark.com/api/booking/airJourney.do\n",
      ">> Parameters\n",
      "chd:0 , format:json , inf:0 , depDate:20170823 , arr:CJU , dep:CJJ , adt:1 , tripDivi:0 , airlineCode:OZ , \n"
     ]
    },
    {
     "name": "stderr",
     "output_type": "stream",
     "text": [
      "2017-08-09 08:33:09,182 root     DEBUG    Crawling Interpark domastic schedule site\n"
     ]
    },
    {
     "name": "stdout",
     "output_type": "stream",
     "text": [
      "End Simple crawling\n",
      "Start Simple crawling :  http://domair.interpark.com/api/booking/airJourney.do\n",
      ">> Parameters\n",
      "chd:0 , format:json , inf:0 , depDate:20170823 , arr:CJU , dep:CJJ , adt:1 , tripDivi:0 , airlineCode:KE , \n"
     ]
    },
    {
     "name": "stderr",
     "output_type": "stream",
     "text": [
      "2017-08-09 08:33:14,125 root     DEBUG    Crawling Interpark domastic schedule site\n"
     ]
    },
    {
     "name": "stdout",
     "output_type": "stream",
     "text": [
      "End Simple crawling\n",
      "Start Simple crawling :  http://domair.interpark.com/api/booking/airJourney.do\n",
      ">> Parameters\n",
      "chd:0 , format:json , inf:0 , depDate:20170823 , arr:CJU , dep:CJJ , adt:1 , tripDivi:0 , airlineCode:ZE , \n"
     ]
    },
    {
     "name": "stderr",
     "output_type": "stream",
     "text": [
      "2017-08-09 08:33:15,390 root     DEBUG    Crawling Interpark domastic schedule site\n"
     ]
    },
    {
     "name": "stdout",
     "output_type": "stream",
     "text": [
      "End Simple crawling\n",
      "Start Simple crawling :  http://domair.interpark.com/api/booking/airJourney.do\n",
      ">> Parameters\n",
      "chd:0 , format:json , inf:0 , depDate:20170824 , arr:CJU , dep:CJJ , adt:1 , tripDivi:0 , airlineCode:7C , \n"
     ]
    },
    {
     "name": "stderr",
     "output_type": "stream",
     "text": [
      "2017-08-09 08:33:18,775 root     DEBUG    Crawling Interpark domastic schedule site\n",
      "2017-08-09 08:33:18,917 root     DEBUG    Crawling Interpark domastic schedule site\n"
     ]
    },
    {
     "name": "stdout",
     "output_type": "stream",
     "text": [
      "End Simple crawling\n",
      "Start Simple crawling :  http://domair.interpark.com/api/booking/airJourney.do\n",
      ">> Parameters\n",
      "chd:0 , format:json , inf:0 , depDate:20170824 , arr:CJU , dep:CJJ , adt:1 , tripDivi:0 , airlineCode:LJ , \n",
      "End Simple crawling\n",
      "Start Simple crawling :  http://domair.interpark.com/api/booking/airJourney.do\n",
      ">> Parameters\n",
      "chd:0 , format:json , inf:0 , depDate:20170824 , arr:CJU , dep:CJJ , adt:1 , tripDivi:0 , airlineCode:OZ , \n"
     ]
    },
    {
     "name": "stderr",
     "output_type": "stream",
     "text": [
      "2017-08-09 08:33:20,002 root     DEBUG    Crawling Interpark domastic schedule site\n"
     ]
    },
    {
     "name": "stdout",
     "output_type": "stream",
     "text": [
      "End Simple crawling\n",
      "Start Simple crawling :  http://domair.interpark.com/api/booking/airJourney.do\n",
      ">> Parameters\n",
      "chd:0 , format:json , inf:0 , depDate:20170824 , arr:CJU , dep:CJJ , adt:1 , tripDivi:0 , airlineCode:KE , \n"
     ]
    },
    {
     "name": "stderr",
     "output_type": "stream",
     "text": [
      "2017-08-09 08:33:25,225 root     DEBUG    Crawling Interpark domastic schedule site\n"
     ]
    },
    {
     "name": "stdout",
     "output_type": "stream",
     "text": [
      "End Simple crawling\n",
      "Start Simple crawling :  http://domair.interpark.com/api/booking/airJourney.do\n",
      ">> Parameters\n",
      "chd:0 , format:json , inf:0 , depDate:20170824 , arr:CJU , dep:CJJ , adt:1 , tripDivi:0 , airlineCode:ZE , \n"
     ]
    },
    {
     "name": "stderr",
     "output_type": "stream",
     "text": [
      "2017-08-09 08:33:26,251 root     DEBUG    Crawling Interpark domastic schedule site\n"
     ]
    },
    {
     "name": "stdout",
     "output_type": "stream",
     "text": [
      "End Simple crawling\n",
      "Start Simple crawling :  http://domair.interpark.com/api/booking/airJourney.do\n",
      ">> Parameters\n",
      "chd:0 , format:json , inf:0 , depDate:20170825 , arr:CJU , dep:CJJ , adt:1 , tripDivi:0 , airlineCode:7C , \n"
     ]
    },
    {
     "name": "stderr",
     "output_type": "stream",
     "text": [
      "2017-08-09 08:33:27,600 root     DEBUG    Crawling Interpark domastic schedule site\n"
     ]
    },
    {
     "name": "stdout",
     "output_type": "stream",
     "text": [
      "End Simple crawling\n",
      "Start Simple crawling :  http://domair.interpark.com/api/booking/airJourney.do\n",
      ">> Parameters\n",
      "chd:0 , format:json , inf:0 , depDate:20170825 , arr:CJU , dep:CJJ , adt:1 , tripDivi:0 , airlineCode:LJ , \n"
     ]
    },
    {
     "name": "stderr",
     "output_type": "stream",
     "text": [
      "2017-08-09 08:33:27,837 root     DEBUG    Crawling Interpark domastic schedule site\n"
     ]
    },
    {
     "name": "stdout",
     "output_type": "stream",
     "text": [
      "End Simple crawling\n",
      "Start Simple crawling :  http://domair.interpark.com/api/booking/airJourney.do\n",
      ">> Parameters\n",
      "chd:0 , format:json , inf:0 , depDate:20170825 , arr:CJU , dep:CJJ , adt:1 , tripDivi:0 , airlineCode:OZ , \n"
     ]
    },
    {
     "name": "stderr",
     "output_type": "stream",
     "text": [
      "2017-08-09 08:33:28,936 root     DEBUG    Crawling Interpark domastic schedule site\n"
     ]
    },
    {
     "name": "stdout",
     "output_type": "stream",
     "text": [
      "End Simple crawling\n",
      "Start Simple crawling :  http://domair.interpark.com/api/booking/airJourney.do\n",
      ">> Parameters\n",
      "chd:0 , format:json , inf:0 , depDate:20170825 , arr:CJU , dep:CJJ , adt:1 , tripDivi:0 , airlineCode:KE , \n"
     ]
    },
    {
     "name": "stderr",
     "output_type": "stream",
     "text": [
      "2017-08-09 08:33:34,043 root     DEBUG    Crawling Interpark domastic schedule site\n"
     ]
    },
    {
     "name": "stdout",
     "output_type": "stream",
     "text": [
      "End Simple crawling\n",
      "Start Simple crawling :  http://domair.interpark.com/api/booking/airJourney.do\n",
      ">> Parameters\n",
      "chd:0 , format:json , inf:0 , depDate:20170825 , arr:CJU , dep:CJJ , adt:1 , tripDivi:0 , airlineCode:ZE , \n"
     ]
    },
    {
     "name": "stderr",
     "output_type": "stream",
     "text": [
      "2017-08-09 08:33:35,107 root     DEBUG    Crawling Interpark domastic schedule site\n"
     ]
    },
    {
     "name": "stdout",
     "output_type": "stream",
     "text": [
      "End Simple crawling\n",
      "Start Simple crawling :  http://domair.interpark.com/api/booking/airJourney.do\n",
      ">> Parameters\n",
      "chd:0 , format:json , inf:0 , depDate:20170826 , arr:CJU , dep:CJJ , adt:1 , tripDivi:0 , airlineCode:7C , \n"
     ]
    },
    {
     "name": "stderr",
     "output_type": "stream",
     "text": [
      "2017-08-09 08:33:36,508 root     DEBUG    Crawling Interpark domastic schedule site\n",
      "2017-08-09 08:33:36,640 root     DEBUG    Crawling Interpark domastic schedule site\n"
     ]
    },
    {
     "name": "stdout",
     "output_type": "stream",
     "text": [
      "End Simple crawling\n",
      "Start Simple crawling :  http://domair.interpark.com/api/booking/airJourney.do\n",
      ">> Parameters\n",
      "chd:0 , format:json , inf:0 , depDate:20170826 , arr:CJU , dep:CJJ , adt:1 , tripDivi:0 , airlineCode:LJ , \n",
      "End Simple crawling\n",
      "Start Simple crawling :  http://domair.interpark.com/api/booking/airJourney.do\n",
      ">> Parameters\n",
      "chd:0 , format:json , inf:0 , depDate:20170826 , arr:CJU , dep:CJJ , adt:1 , tripDivi:0 , airlineCode:OZ , \n"
     ]
    },
    {
     "name": "stderr",
     "output_type": "stream",
     "text": [
      "2017-08-09 08:33:37,357 root     DEBUG    Crawling Interpark domastic schedule site\n"
     ]
    },
    {
     "name": "stdout",
     "output_type": "stream",
     "text": [
      "End Simple crawling\n",
      "Start Simple crawling :  http://domair.interpark.com/api/booking/airJourney.do\n",
      ">> Parameters\n",
      "chd:0 , format:json , inf:0 , depDate:20170826 , arr:CJU , dep:CJJ , adt:1 , tripDivi:0 , airlineCode:KE , \n"
     ]
    },
    {
     "name": "stderr",
     "output_type": "stream",
     "text": [
      "2017-08-09 08:33:45,479 root     DEBUG    Crawling Interpark domastic schedule site\n"
     ]
    },
    {
     "name": "stdout",
     "output_type": "stream",
     "text": [
      "End Simple crawling\n",
      "Start Simple crawling :  http://domair.interpark.com/api/booking/airJourney.do\n",
      ">> Parameters\n",
      "chd:0 , format:json , inf:0 , depDate:20170826 , arr:CJU , dep:CJJ , adt:1 , tripDivi:0 , airlineCode:ZE , \n"
     ]
    },
    {
     "name": "stderr",
     "output_type": "stream",
     "text": [
      "2017-08-09 08:33:46,500 root     DEBUG    Crawling Interpark domastic schedule site\n"
     ]
    },
    {
     "name": "stdout",
     "output_type": "stream",
     "text": [
      "End Simple crawling\n",
      "Start Simple crawling :  http://domair.interpark.com/api/booking/airJourney.do\n",
      ">> Parameters\n",
      "chd:0 , format:json , inf:0 , depDate:20170827 , arr:CJU , dep:CJJ , adt:1 , tripDivi:0 , airlineCode:7C , \n"
     ]
    },
    {
     "name": "stderr",
     "output_type": "stream",
     "text": [
      "2017-08-09 08:33:51,615 root     DEBUG    Crawling Interpark domastic schedule site\n"
     ]
    },
    {
     "name": "stdout",
     "output_type": "stream",
     "text": [
      "End Simple crawling\n",
      "Start Simple crawling :  http://domair.interpark.com/api/booking/airJourney.do\n",
      ">> Parameters\n",
      "chd:0 , format:json , inf:0 , depDate:20170827 , arr:CJU , dep:CJJ , adt:1 , tripDivi:0 , airlineCode:LJ , \n"
     ]
    },
    {
     "name": "stderr",
     "output_type": "stream",
     "text": [
      "2017-08-09 08:33:52,048 root     DEBUG    Crawling Interpark domastic schedule site\n"
     ]
    },
    {
     "name": "stdout",
     "output_type": "stream",
     "text": [
      "End Simple crawling\n",
      "Start Simple crawling :  http://domair.interpark.com/api/booking/airJourney.do\n",
      ">> Parameters\n",
      "chd:0 , format:json , inf:0 , depDate:20170827 , arr:CJU , dep:CJJ , adt:1 , tripDivi:0 , airlineCode:OZ , \n"
     ]
    },
    {
     "name": "stderr",
     "output_type": "stream",
     "text": [
      "2017-08-09 08:33:52,952 root     DEBUG    Crawling Interpark domastic schedule site\n"
     ]
    },
    {
     "name": "stdout",
     "output_type": "stream",
     "text": [
      "End Simple crawling\n",
      "Start Simple crawling :  http://domair.interpark.com/api/booking/airJourney.do\n",
      ">> Parameters\n",
      "chd:0 , format:json , inf:0 , depDate:20170827 , arr:CJU , dep:CJJ , adt:1 , tripDivi:0 , airlineCode:KE , \n"
     ]
    },
    {
     "name": "stderr",
     "output_type": "stream",
     "text": [
      "2017-08-09 08:33:58,083 root     DEBUG    Crawling Interpark domastic schedule site\n"
     ]
    },
    {
     "name": "stdout",
     "output_type": "stream",
     "text": [
      "End Simple crawling\n",
      "Start Simple crawling :  http://domair.interpark.com/api/booking/airJourney.do\n",
      ">> Parameters\n",
      "chd:0 , format:json , inf:0 , depDate:20170827 , arr:CJU , dep:CJJ , adt:1 , tripDivi:0 , airlineCode:ZE , \n"
     ]
    },
    {
     "name": "stderr",
     "output_type": "stream",
     "text": [
      "2017-08-09 08:33:59,339 root     DEBUG    Crawling Interpark domastic schedule site\n"
     ]
    },
    {
     "name": "stdout",
     "output_type": "stream",
     "text": [
      "End Simple crawling\n",
      "Start Simple crawling :  http://domair.interpark.com/api/booking/airJourney.do\n",
      ">> Parameters\n",
      "chd:0 , format:json , inf:0 , depDate:20170828 , arr:CJU , dep:CJJ , adt:1 , tripDivi:0 , airlineCode:7C , \n"
     ]
    },
    {
     "name": "stderr",
     "output_type": "stream",
     "text": [
      "2017-08-09 08:34:00,776 root     DEBUG    Crawling Interpark domastic schedule site\n",
      "2017-08-09 08:34:00,946 root     DEBUG    Crawling Interpark domastic schedule site\n"
     ]
    },
    {
     "name": "stdout",
     "output_type": "stream",
     "text": [
      "End Simple crawling\n",
      "Start Simple crawling :  http://domair.interpark.com/api/booking/airJourney.do\n",
      ">> Parameters\n",
      "chd:0 , format:json , inf:0 , depDate:20170828 , arr:CJU , dep:CJJ , adt:1 , tripDivi:0 , airlineCode:LJ , \n",
      "End Simple crawling\n",
      "Start Simple crawling :  http://domair.interpark.com/api/booking/airJourney.do\n",
      ">> Parameters\n",
      "chd:0 , format:json , inf:0 , depDate:20170828 , arr:CJU , dep:CJJ , adt:1 , tripDivi:0 , airlineCode:OZ , \n"
     ]
    },
    {
     "name": "stderr",
     "output_type": "stream",
     "text": [
      "2017-08-09 08:34:01,669 root     DEBUG    Crawling Interpark domastic schedule site\n"
     ]
    },
    {
     "name": "stdout",
     "output_type": "stream",
     "text": [
      "End Simple crawling\n",
      "Start Simple crawling :  http://domair.interpark.com/api/booking/airJourney.do\n",
      ">> Parameters\n",
      "chd:0 , format:json , inf:0 , depDate:20170828 , arr:CJU , dep:CJJ , adt:1 , tripDivi:0 , airlineCode:KE , \n"
     ]
    },
    {
     "name": "stderr",
     "output_type": "stream",
     "text": [
      "2017-08-09 08:34:06,864 root     DEBUG    Crawling Interpark domastic schedule site\n"
     ]
    },
    {
     "name": "stdout",
     "output_type": "stream",
     "text": [
      "End Simple crawling\n",
      "Start Simple crawling :  http://domair.interpark.com/api/booking/airJourney.do\n",
      ">> Parameters\n",
      "chd:0 , format:json , inf:0 , depDate:20170828 , arr:CJU , dep:CJJ , adt:1 , tripDivi:0 , airlineCode:ZE , \n"
     ]
    },
    {
     "name": "stderr",
     "output_type": "stream",
     "text": [
      "2017-08-09 08:34:08,083 root     DEBUG    Crawling Interpark domastic schedule site\n"
     ]
    },
    {
     "name": "stdout",
     "output_type": "stream",
     "text": [
      "End Simple crawling\n",
      "Start Simple crawling :  http://domair.interpark.com/api/booking/airJourney.do\n",
      ">> Parameters\n",
      "chd:0 , format:json , inf:0 , depDate:20170829 , arr:CJU , dep:CJJ , adt:1 , tripDivi:0 , airlineCode:7C , \n"
     ]
    },
    {
     "name": "stderr",
     "output_type": "stream",
     "text": [
      "2017-08-09 08:34:09,539 root     DEBUG    Crawling Interpark domastic schedule site\n"
     ]
    },
    {
     "name": "stdout",
     "output_type": "stream",
     "text": [
      "End Simple crawling\n",
      "Start Simple crawling :  http://domair.interpark.com/api/booking/airJourney.do\n",
      ">> Parameters\n",
      "chd:0 , format:json , inf:0 , depDate:20170829 , arr:CJU , dep:CJJ , adt:1 , tripDivi:0 , airlineCode:LJ , \n"
     ]
    },
    {
     "name": "stderr",
     "output_type": "stream",
     "text": [
      "2017-08-09 08:34:09,885 root     DEBUG    Crawling Interpark domastic schedule site\n"
     ]
    },
    {
     "name": "stdout",
     "output_type": "stream",
     "text": [
      "End Simple crawling\n",
      "Start Simple crawling :  http://domair.interpark.com/api/booking/airJourney.do\n",
      ">> Parameters\n",
      "chd:0 , format:json , inf:0 , depDate:20170829 , arr:CJU , dep:CJJ , adt:1 , tripDivi:0 , airlineCode:OZ , \n"
     ]
    },
    {
     "name": "stderr",
     "output_type": "stream",
     "text": [
      "2017-08-09 08:34:10,597 root     DEBUG    Crawling Interpark domastic schedule site\n"
     ]
    },
    {
     "name": "stdout",
     "output_type": "stream",
     "text": [
      "End Simple crawling\n",
      "Start Simple crawling :  http://domair.interpark.com/api/booking/airJourney.do\n",
      ">> Parameters\n",
      "chd:0 , format:json , inf:0 , depDate:20170829 , arr:CJU , dep:CJJ , adt:1 , tripDivi:0 , airlineCode:KE , \n"
     ]
    },
    {
     "name": "stderr",
     "output_type": "stream",
     "text": [
      "2017-08-09 08:34:16,162 root     DEBUG    Crawling Interpark domastic schedule site\n"
     ]
    },
    {
     "name": "stdout",
     "output_type": "stream",
     "text": [
      "End Simple crawling\n",
      "Start Simple crawling :  http://domair.interpark.com/api/booking/airJourney.do\n",
      ">> Parameters\n",
      "chd:0 , format:json , inf:0 , depDate:20170829 , arr:CJU , dep:CJJ , adt:1 , tripDivi:0 , airlineCode:ZE , \n"
     ]
    },
    {
     "name": "stderr",
     "output_type": "stream",
     "text": [
      "2017-08-09 08:34:17,214 root     DEBUG    Crawling Interpark domastic schedule site\n"
     ]
    },
    {
     "name": "stdout",
     "output_type": "stream",
     "text": [
      "End Simple crawling\n",
      "Start Simple crawling :  http://domair.interpark.com/api/booking/airJourney.do\n",
      ">> Parameters\n",
      "chd:0 , format:json , inf:0 , depDate:20170830 , arr:CJU , dep:CJJ , adt:1 , tripDivi:0 , airlineCode:7C , \n"
     ]
    },
    {
     "name": "stderr",
     "output_type": "stream",
     "text": [
      "2017-08-09 08:34:22,763 root     DEBUG    Crawling Interpark domastic schedule site\n",
      "2017-08-09 08:34:22,890 root     DEBUG    Crawling Interpark domastic schedule site\n"
     ]
    },
    {
     "name": "stdout",
     "output_type": "stream",
     "text": [
      "End Simple crawling\n",
      "Start Simple crawling :  http://domair.interpark.com/api/booking/airJourney.do\n",
      ">> Parameters\n",
      "chd:0 , format:json , inf:0 , depDate:20170830 , arr:CJU , dep:CJJ , adt:1 , tripDivi:0 , airlineCode:LJ , \n",
      "End Simple crawling\n",
      "Start Simple crawling :  http://domair.interpark.com/api/booking/airJourney.do\n",
      ">> Parameters\n",
      "chd:0 , format:json , inf:0 , depDate:20170830 , arr:CJU , dep:CJJ , adt:1 , tripDivi:0 , airlineCode:OZ , \n"
     ]
    },
    {
     "name": "stderr",
     "output_type": "stream",
     "text": [
      "2017-08-09 08:34:23,793 root     DEBUG    Crawling Interpark domastic schedule site\n"
     ]
    },
    {
     "name": "stdout",
     "output_type": "stream",
     "text": [
      "End Simple crawling\n",
      "Start Simple crawling :  http://domair.interpark.com/api/booking/airJourney.do\n",
      ">> Parameters\n",
      "chd:0 , format:json , inf:0 , depDate:20170830 , arr:CJU , dep:CJJ , adt:1 , tripDivi:0 , airlineCode:KE , \n"
     ]
    },
    {
     "name": "stderr",
     "output_type": "stream",
     "text": [
      "2017-08-09 08:34:28,832 root     DEBUG    Crawling Interpark domastic schedule site\n"
     ]
    },
    {
     "name": "stdout",
     "output_type": "stream",
     "text": [
      "End Simple crawling\n",
      "Start Simple crawling :  http://domair.interpark.com/api/booking/airJourney.do\n",
      ">> Parameters\n",
      "chd:0 , format:json , inf:0 , depDate:20170830 , arr:CJU , dep:CJJ , adt:1 , tripDivi:0 , airlineCode:ZE , \n"
     ]
    },
    {
     "name": "stderr",
     "output_type": "stream",
     "text": [
      "2017-08-09 08:34:29,859 root     INFO     end batch job :: craw_by_route_site :: elapsed -0:03:33.694223 :: Total crawl:105 files saved.\n",
      "2017-08-09 08:34:29,862 root     INFO     start batch job :: craw_by_route_site[CJU,CJJ,IP,['20170810', '20170811', '20170812', '20170813', '20170814', '20170815', '20170816', '20170817', '20170818', '20170819', '20170820', '20170821', '20170822', '20170823', '20170824', '20170825', '20170826', '20170827', '20170828', '20170829', '20170830'],['7C', 'LJ', 'OZ', 'KE', 'ZE']]\n",
      "2017-08-09 08:34:29,864 root     DEBUG    0 :: IP :: crawling_IP_dom :: False\n",
      "2017-08-09 08:34:29,868 root     INFO     <function crawling_IP_dom at 0x0000000007FA6378> :: False\n",
      "2017-08-09 08:34:29,871 root     DEBUG    Crawling Interpark domastic schedule site\n"
     ]
    },
    {
     "name": "stdout",
     "output_type": "stream",
     "text": [
      "End Simple crawling\n",
      "Start Simple crawling :  http://domair.interpark.com/api/booking/airJourney.do\n",
      ">> Parameters\n",
      "chd:0 , format:json , inf:0 , depDate:20170810 , arr:CJJ , dep:CJU , adt:1 , tripDivi:0 , airlineCode:7C , \n"
     ]
    },
    {
     "name": "stderr",
     "output_type": "stream",
     "text": [
      "2017-08-09 08:34:32,313 root     DEBUG    Crawling Interpark domastic schedule site\n",
      "2017-08-09 08:34:32,451 root     DEBUG    Crawling Interpark domastic schedule site\n"
     ]
    },
    {
     "name": "stdout",
     "output_type": "stream",
     "text": [
      "End Simple crawling\n",
      "Start Simple crawling :  http://domair.interpark.com/api/booking/airJourney.do\n",
      ">> Parameters\n",
      "chd:0 , format:json , inf:0 , depDate:20170810 , arr:CJJ , dep:CJU , adt:1 , tripDivi:0 , airlineCode:LJ , \n",
      "End Simple crawling\n",
      "Start Simple crawling :  http://domair.interpark.com/api/booking/airJourney.do\n",
      ">> Parameters\n",
      "chd:0 , format:json , inf:0 , depDate:20170810 , arr:CJJ , dep:CJU , adt:1 , tripDivi:0 , airlineCode:OZ , \n"
     ]
    },
    {
     "name": "stderr",
     "output_type": "stream",
     "text": [
      "2017-08-09 08:34:33,124 root     DEBUG    Crawling Interpark domastic schedule site\n"
     ]
    },
    {
     "name": "stdout",
     "output_type": "stream",
     "text": [
      "End Simple crawling\n",
      "Start Simple crawling :  http://domair.interpark.com/api/booking/airJourney.do\n",
      ">> Parameters\n",
      "chd:0 , format:json , inf:0 , depDate:20170810 , arr:CJJ , dep:CJU , adt:1 , tripDivi:0 , airlineCode:KE , \n"
     ]
    },
    {
     "name": "stderr",
     "output_type": "stream",
     "text": [
      "2017-08-09 08:34:38,591 root     DEBUG    Crawling Interpark domastic schedule site\n"
     ]
    },
    {
     "name": "stdout",
     "output_type": "stream",
     "text": [
      "End Simple crawling\n",
      "Start Simple crawling :  http://domair.interpark.com/api/booking/airJourney.do\n",
      ">> Parameters\n",
      "chd:0 , format:json , inf:0 , depDate:20170810 , arr:CJJ , dep:CJU , adt:1 , tripDivi:0 , airlineCode:ZE , \n"
     ]
    },
    {
     "name": "stderr",
     "output_type": "stream",
     "text": [
      "2017-08-09 08:34:39,652 root     DEBUG    Crawling Interpark domastic schedule site\n"
     ]
    },
    {
     "name": "stdout",
     "output_type": "stream",
     "text": [
      "End Simple crawling\n",
      "Start Simple crawling :  http://domair.interpark.com/api/booking/airJourney.do\n",
      ">> Parameters\n",
      "chd:0 , format:json , inf:0 , depDate:20170811 , arr:CJJ , dep:CJU , adt:1 , tripDivi:0 , airlineCode:7C , \n"
     ]
    },
    {
     "name": "stderr",
     "output_type": "stream",
     "text": [
      "2017-08-09 08:34:41,190 root     DEBUG    Crawling Interpark domastic schedule site\n",
      "2017-08-09 08:34:41,319 root     DEBUG    Crawling Interpark domastic schedule site\n"
     ]
    },
    {
     "name": "stdout",
     "output_type": "stream",
     "text": [
      "End Simple crawling\n",
      "Start Simple crawling :  http://domair.interpark.com/api/booking/airJourney.do\n",
      ">> Parameters\n",
      "chd:0 , format:json , inf:0 , depDate:20170811 , arr:CJJ , dep:CJU , adt:1 , tripDivi:0 , airlineCode:LJ , \n",
      "End Simple crawling\n",
      "Start Simple crawling :  http://domair.interpark.com/api/booking/airJourney.do\n",
      ">> Parameters\n",
      "chd:0 , format:json , inf:0 , depDate:20170811 , arr:CJJ , dep:CJU , adt:1 , tripDivi:0 , airlineCode:OZ , \n"
     ]
    },
    {
     "name": "stderr",
     "output_type": "stream",
     "text": [
      "2017-08-09 08:34:42,022 root     DEBUG    Crawling Interpark domastic schedule site\n"
     ]
    },
    {
     "name": "stdout",
     "output_type": "stream",
     "text": [
      "End Simple crawling\n",
      "Start Simple crawling :  http://domair.interpark.com/api/booking/airJourney.do\n",
      ">> Parameters\n",
      "chd:0 , format:json , inf:0 , depDate:20170811 , arr:CJJ , dep:CJU , adt:1 , tripDivi:0 , airlineCode:KE , \n"
     ]
    },
    {
     "name": "stderr",
     "output_type": "stream",
     "text": [
      "2017-08-09 08:34:46,995 root     DEBUG    Crawling Interpark domastic schedule site\n"
     ]
    },
    {
     "name": "stdout",
     "output_type": "stream",
     "text": [
      "End Simple crawling\n",
      "Start Simple crawling :  http://domair.interpark.com/api/booking/airJourney.do\n",
      ">> Parameters\n",
      "chd:0 , format:json , inf:0 , depDate:20170811 , arr:CJJ , dep:CJU , adt:1 , tripDivi:0 , airlineCode:ZE , \n"
     ]
    },
    {
     "name": "stderr",
     "output_type": "stream",
     "text": [
      "2017-08-09 08:34:48,041 root     DEBUG    Crawling Interpark domastic schedule site\n"
     ]
    },
    {
     "name": "stdout",
     "output_type": "stream",
     "text": [
      "End Simple crawling\n",
      "Start Simple crawling :  http://domair.interpark.com/api/booking/airJourney.do\n",
      ">> Parameters\n",
      "chd:0 , format:json , inf:0 , depDate:20170812 , arr:CJJ , dep:CJU , adt:1 , tripDivi:0 , airlineCode:7C , \n"
     ]
    },
    {
     "name": "stderr",
     "output_type": "stream",
     "text": [
      "2017-08-09 08:34:51,921 root     DEBUG    Crawling Interpark domastic schedule site\n"
     ]
    },
    {
     "name": "stdout",
     "output_type": "stream",
     "text": [
      "End Simple crawling\n",
      "Start Simple crawling :  http://domair.interpark.com/api/booking/airJourney.do\n",
      ">> Parameters\n",
      "chd:0 , format:json , inf:0 , depDate:20170812 , arr:CJJ , dep:CJU , adt:1 , tripDivi:0 , airlineCode:LJ , \n"
     ]
    },
    {
     "name": "stderr",
     "output_type": "stream",
     "text": [
      "2017-08-09 08:34:52,126 root     DEBUG    Crawling Interpark domastic schedule site\n"
     ]
    },
    {
     "name": "stdout",
     "output_type": "stream",
     "text": [
      "End Simple crawling\n",
      "Start Simple crawling :  http://domair.interpark.com/api/booking/airJourney.do\n",
      ">> Parameters\n",
      "chd:0 , format:json , inf:0 , depDate:20170812 , arr:CJJ , dep:CJU , adt:1 , tripDivi:0 , airlineCode:OZ , \n"
     ]
    },
    {
     "name": "stderr",
     "output_type": "stream",
     "text": [
      "2017-08-09 08:34:52,829 root     DEBUG    Crawling Interpark domastic schedule site\n"
     ]
    },
    {
     "name": "stdout",
     "output_type": "stream",
     "text": [
      "End Simple crawling\n",
      "Start Simple crawling :  http://domair.interpark.com/api/booking/airJourney.do\n",
      ">> Parameters\n",
      "chd:0 , format:json , inf:0 , depDate:20170812 , arr:CJJ , dep:CJU , adt:1 , tripDivi:0 , airlineCode:KE , \n"
     ]
    },
    {
     "name": "stderr",
     "output_type": "stream",
     "text": [
      "2017-08-09 08:34:57,745 root     DEBUG    Crawling Interpark domastic schedule site\n"
     ]
    },
    {
     "name": "stdout",
     "output_type": "stream",
     "text": [
      "End Simple crawling\n",
      "Start Simple crawling :  http://domair.interpark.com/api/booking/airJourney.do\n",
      ">> Parameters\n",
      "chd:0 , format:json , inf:0 , depDate:20170812 , arr:CJJ , dep:CJU , adt:1 , tripDivi:0 , airlineCode:ZE , \n"
     ]
    },
    {
     "name": "stderr",
     "output_type": "stream",
     "text": [
      "2017-08-09 08:34:58,699 root     DEBUG    Crawling Interpark domastic schedule site\n"
     ]
    },
    {
     "name": "stdout",
     "output_type": "stream",
     "text": [
      "End Simple crawling\n",
      "Start Simple crawling :  http://domair.interpark.com/api/booking/airJourney.do\n",
      ">> Parameters\n",
      "chd:0 , format:json , inf:0 , depDate:20170813 , arr:CJJ , dep:CJU , adt:1 , tripDivi:0 , airlineCode:7C , \n"
     ]
    },
    {
     "name": "stderr",
     "output_type": "stream",
     "text": [
      "2017-08-09 08:35:02,491 root     DEBUG    Crawling Interpark domastic schedule site\n"
     ]
    },
    {
     "name": "stdout",
     "output_type": "stream",
     "text": [
      "End Simple crawling\n",
      "Start Simple crawling :  http://domair.interpark.com/api/booking/airJourney.do\n",
      ">> Parameters\n",
      "chd:0 , format:json , inf:0 , depDate:20170813 , arr:CJJ , dep:CJU , adt:1 , tripDivi:0 , airlineCode:LJ , \n"
     ]
    },
    {
     "name": "stderr",
     "output_type": "stream",
     "text": [
      "2017-08-09 08:35:02,812 root     DEBUG    Crawling Interpark domastic schedule site\n"
     ]
    },
    {
     "name": "stdout",
     "output_type": "stream",
     "text": [
      "End Simple crawling\n",
      "Start Simple crawling :  http://domair.interpark.com/api/booking/airJourney.do\n",
      ">> Parameters\n",
      "chd:0 , format:json , inf:0 , depDate:20170813 , arr:CJJ , dep:CJU , adt:1 , tripDivi:0 , airlineCode:OZ , \n"
     ]
    },
    {
     "name": "stderr",
     "output_type": "stream",
     "text": [
      "2017-08-09 08:35:03,670 root     DEBUG    Crawling Interpark domastic schedule site\n"
     ]
    },
    {
     "name": "stdout",
     "output_type": "stream",
     "text": [
      "End Simple crawling\n",
      "Start Simple crawling :  http://domair.interpark.com/api/booking/airJourney.do\n",
      ">> Parameters\n",
      "chd:0 , format:json , inf:0 , depDate:20170813 , arr:CJJ , dep:CJU , adt:1 , tripDivi:0 , airlineCode:KE , \n"
     ]
    },
    {
     "name": "stderr",
     "output_type": "stream",
     "text": [
      "2017-08-09 08:35:09,607 root     DEBUG    Crawling Interpark domastic schedule site\n"
     ]
    },
    {
     "name": "stdout",
     "output_type": "stream",
     "text": [
      "End Simple crawling\n",
      "Start Simple crawling :  http://domair.interpark.com/api/booking/airJourney.do\n",
      ">> Parameters\n",
      "chd:0 , format:json , inf:0 , depDate:20170813 , arr:CJJ , dep:CJU , adt:1 , tripDivi:0 , airlineCode:ZE , \n"
     ]
    },
    {
     "name": "stderr",
     "output_type": "stream",
     "text": [
      "2017-08-09 08:35:10,661 root     DEBUG    Crawling Interpark domastic schedule site\n"
     ]
    },
    {
     "name": "stdout",
     "output_type": "stream",
     "text": [
      "End Simple crawling\n",
      "Start Simple crawling :  http://domair.interpark.com/api/booking/airJourney.do\n",
      ">> Parameters\n",
      "chd:0 , format:json , inf:0 , depDate:20170814 , arr:CJJ , dep:CJU , adt:1 , tripDivi:0 , airlineCode:7C , \n"
     ]
    },
    {
     "name": "stderr",
     "output_type": "stream",
     "text": [
      "2017-08-09 08:35:15,868 root     DEBUG    Crawling Interpark domastic schedule site\n",
      "2017-08-09 08:35:16,023 root     DEBUG    Crawling Interpark domastic schedule site\n"
     ]
    },
    {
     "name": "stdout",
     "output_type": "stream",
     "text": [
      "End Simple crawling\n",
      "Start Simple crawling :  http://domair.interpark.com/api/booking/airJourney.do\n",
      ">> Parameters\n",
      "chd:0 , format:json , inf:0 , depDate:20170814 , arr:CJJ , dep:CJU , adt:1 , tripDivi:0 , airlineCode:LJ , \n",
      "End Simple crawling\n",
      "Start Simple crawling :  http://domair.interpark.com/api/booking/airJourney.do\n",
      ">> Parameters\n",
      "chd:0 , format:json , inf:0 , depDate:20170814 , arr:CJJ , dep:CJU , adt:1 , tripDivi:0 , airlineCode:OZ , \n"
     ]
    },
    {
     "name": "stderr",
     "output_type": "stream",
     "text": [
      "2017-08-09 08:35:16,900 root     DEBUG    Crawling Interpark domastic schedule site\n"
     ]
    },
    {
     "name": "stdout",
     "output_type": "stream",
     "text": [
      "End Simple crawling\n",
      "Start Simple crawling :  http://domair.interpark.com/api/booking/airJourney.do\n",
      ">> Parameters\n",
      "chd:0 , format:json , inf:0 , depDate:20170814 , arr:CJJ , dep:CJU , adt:1 , tripDivi:0 , airlineCode:KE , \n"
     ]
    },
    {
     "name": "stderr",
     "output_type": "stream",
     "text": [
      "2017-08-09 08:35:21,269 root     DEBUG    Crawling Interpark domastic schedule site\n"
     ]
    },
    {
     "name": "stdout",
     "output_type": "stream",
     "text": [
      "End Simple crawling\n",
      "Start Simple crawling :  http://domair.interpark.com/api/booking/airJourney.do\n",
      ">> Parameters\n",
      "chd:0 , format:json , inf:0 , depDate:20170814 , arr:CJJ , dep:CJU , adt:1 , tripDivi:0 , airlineCode:ZE , \n"
     ]
    },
    {
     "name": "stderr",
     "output_type": "stream",
     "text": [
      "2017-08-09 08:35:22,262 root     DEBUG    Crawling Interpark domastic schedule site\n"
     ]
    },
    {
     "name": "stdout",
     "output_type": "stream",
     "text": [
      "End Simple crawling\n",
      "Start Simple crawling :  http://domair.interpark.com/api/booking/airJourney.do\n",
      ">> Parameters\n",
      "chd:0 , format:json , inf:0 , depDate:20170815 , arr:CJJ , dep:CJU , adt:1 , tripDivi:0 , airlineCode:7C , \n"
     ]
    },
    {
     "name": "stderr",
     "output_type": "stream",
     "text": [
      "2017-08-09 08:35:23,227 root     DEBUG    Crawling Interpark domastic schedule site\n",
      "2017-08-09 08:35:23,346 root     DEBUG    Crawling Interpark domastic schedule site\n"
     ]
    },
    {
     "name": "stdout",
     "output_type": "stream",
     "text": [
      "End Simple crawling\n",
      "Start Simple crawling :  http://domair.interpark.com/api/booking/airJourney.do\n",
      ">> Parameters\n",
      "chd:0 , format:json , inf:0 , depDate:20170815 , arr:CJJ , dep:CJU , adt:1 , tripDivi:0 , airlineCode:LJ , \n",
      "End Simple crawling\n",
      "Start Simple crawling :  http://domair.interpark.com/api/booking/airJourney.do\n",
      ">> Parameters\n",
      "chd:0 , format:json , inf:0 , depDate:20170815 , arr:CJJ , dep:CJU , adt:1 , tripDivi:0 , airlineCode:OZ , \n"
     ]
    },
    {
     "name": "stderr",
     "output_type": "stream",
     "text": [
      "2017-08-09 08:35:24,251 root     DEBUG    Crawling Interpark domastic schedule site\n"
     ]
    },
    {
     "name": "stdout",
     "output_type": "stream",
     "text": [
      "End Simple crawling\n",
      "Start Simple crawling :  http://domair.interpark.com/api/booking/airJourney.do\n",
      ">> Parameters\n",
      "chd:0 , format:json , inf:0 , depDate:20170815 , arr:CJJ , dep:CJU , adt:1 , tripDivi:0 , airlineCode:KE , \n"
     ]
    },
    {
     "name": "stderr",
     "output_type": "stream",
     "text": [
      "2017-08-09 08:35:28,617 root     DEBUG    Crawling Interpark domastic schedule site\n"
     ]
    },
    {
     "name": "stdout",
     "output_type": "stream",
     "text": [
      "End Simple crawling\n",
      "Start Simple crawling :  http://domair.interpark.com/api/booking/airJourney.do\n",
      ">> Parameters\n",
      "chd:0 , format:json , inf:0 , depDate:20170815 , arr:CJJ , dep:CJU , adt:1 , tripDivi:0 , airlineCode:ZE , \n"
     ]
    },
    {
     "name": "stderr",
     "output_type": "stream",
     "text": [
      "2017-08-09 08:35:29,615 root     DEBUG    Crawling Interpark domastic schedule site\n"
     ]
    },
    {
     "name": "stdout",
     "output_type": "stream",
     "text": [
      "End Simple crawling\n",
      "Start Simple crawling :  http://domair.interpark.com/api/booking/airJourney.do\n",
      ">> Parameters\n",
      "chd:0 , format:json , inf:0 , depDate:20170816 , arr:CJJ , dep:CJU , adt:1 , tripDivi:0 , airlineCode:7C , \n"
     ]
    },
    {
     "name": "stderr",
     "output_type": "stream",
     "text": [
      "2017-08-09 08:35:36,084 root     DEBUG    Crawling Interpark domastic schedule site\n"
     ]
    },
    {
     "name": "stdout",
     "output_type": "stream",
     "text": [
      "End Simple crawling\n",
      "Start Simple crawling :  http://domair.interpark.com/api/booking/airJourney.do\n",
      ">> Parameters\n",
      "chd:0 , format:json , inf:0 , depDate:20170816 , arr:CJJ , dep:CJU , adt:1 , tripDivi:0 , airlineCode:LJ , \n"
     ]
    },
    {
     "name": "stderr",
     "output_type": "stream",
     "text": [
      "2017-08-09 08:35:36,550 root     DEBUG    Crawling Interpark domastic schedule site\n"
     ]
    },
    {
     "name": "stdout",
     "output_type": "stream",
     "text": [
      "End Simple crawling\n",
      "Start Simple crawling :  http://domair.interpark.com/api/booking/airJourney.do\n",
      ">> Parameters\n",
      "chd:0 , format:json , inf:0 , depDate:20170816 , arr:CJJ , dep:CJU , adt:1 , tripDivi:0 , airlineCode:OZ , \n"
     ]
    },
    {
     "name": "stderr",
     "output_type": "stream",
     "text": [
      "2017-08-09 08:35:37,222 root     DEBUG    Crawling Interpark domastic schedule site\n"
     ]
    },
    {
     "name": "stdout",
     "output_type": "stream",
     "text": [
      "End Simple crawling\n",
      "Start Simple crawling :  http://domair.interpark.com/api/booking/airJourney.do\n",
      ">> Parameters\n",
      "chd:0 , format:json , inf:0 , depDate:20170816 , arr:CJJ , dep:CJU , adt:1 , tripDivi:0 , airlineCode:KE , \n"
     ]
    },
    {
     "name": "stderr",
     "output_type": "stream",
     "text": [
      "2017-08-09 08:35:41,910 root     DEBUG    Crawling Interpark domastic schedule site\n"
     ]
    },
    {
     "name": "stdout",
     "output_type": "stream",
     "text": [
      "End Simple crawling\n",
      "Start Simple crawling :  http://domair.interpark.com/api/booking/airJourney.do\n",
      ">> Parameters\n",
      "chd:0 , format:json , inf:0 , depDate:20170816 , arr:CJJ , dep:CJU , adt:1 , tripDivi:0 , airlineCode:ZE , \n"
     ]
    },
    {
     "name": "stderr",
     "output_type": "stream",
     "text": [
      "2017-08-09 08:35:43,096 root     DEBUG    Crawling Interpark domastic schedule site\n"
     ]
    },
    {
     "name": "stdout",
     "output_type": "stream",
     "text": [
      "End Simple crawling\n",
      "Start Simple crawling :  http://domair.interpark.com/api/booking/airJourney.do\n",
      ">> Parameters\n",
      "chd:0 , format:json , inf:0 , depDate:20170817 , arr:CJJ , dep:CJU , adt:1 , tripDivi:0 , airlineCode:7C , \n"
     ]
    },
    {
     "name": "stderr",
     "output_type": "stream",
     "text": [
      "2017-08-09 08:35:46,155 root     DEBUG    Crawling Interpark domastic schedule site\n",
      "2017-08-09 08:35:46,305 root     DEBUG    Crawling Interpark domastic schedule site\n"
     ]
    },
    {
     "name": "stdout",
     "output_type": "stream",
     "text": [
      "End Simple crawling\n",
      "Start Simple crawling :  http://domair.interpark.com/api/booking/airJourney.do\n",
      ">> Parameters\n",
      "chd:0 , format:json , inf:0 , depDate:20170817 , arr:CJJ , dep:CJU , adt:1 , tripDivi:0 , airlineCode:LJ , \n",
      "End Simple crawling\n",
      "Start Simple crawling :  http://domair.interpark.com/api/booking/airJourney.do\n",
      ">> Parameters\n",
      "chd:0 , format:json , inf:0 , depDate:20170817 , arr:CJJ , dep:CJU , adt:1 , tripDivi:0 , airlineCode:OZ , \n"
     ]
    },
    {
     "name": "stderr",
     "output_type": "stream",
     "text": [
      "2017-08-09 08:36:06,384 root     DEBUG    Crawling Interpark domastic schedule site\n"
     ]
    },
    {
     "name": "stdout",
     "output_type": "stream",
     "text": [
      "End Simple crawling\n",
      "Start Simple crawling :  http://domair.interpark.com/api/booking/airJourney.do\n",
      ">> Parameters\n",
      "chd:0 , format:json , inf:0 , depDate:20170817 , arr:CJJ , dep:CJU , adt:1 , tripDivi:0 , airlineCode:KE , \n"
     ]
    },
    {
     "name": "stderr",
     "output_type": "stream",
     "text": [
      "2017-08-09 08:36:11,563 root     DEBUG    Crawling Interpark domastic schedule site\n"
     ]
    },
    {
     "name": "stdout",
     "output_type": "stream",
     "text": [
      "End Simple crawling\n",
      "Start Simple crawling :  http://domair.interpark.com/api/booking/airJourney.do\n",
      ">> Parameters\n",
      "chd:0 , format:json , inf:0 , depDate:20170817 , arr:CJJ , dep:CJU , adt:1 , tripDivi:0 , airlineCode:ZE , \n"
     ]
    },
    {
     "name": "stderr",
     "output_type": "stream",
     "text": [
      "2017-08-09 08:36:12,628 root     DEBUG    Crawling Interpark domastic schedule site\n"
     ]
    },
    {
     "name": "stdout",
     "output_type": "stream",
     "text": [
      "End Simple crawling\n",
      "Start Simple crawling :  http://domair.interpark.com/api/booking/airJourney.do\n",
      ">> Parameters\n",
      "chd:0 , format:json , inf:0 , depDate:20170818 , arr:CJJ , dep:CJU , adt:1 , tripDivi:0 , airlineCode:7C , \n"
     ]
    },
    {
     "name": "stderr",
     "output_type": "stream",
     "text": [
      "2017-08-09 08:36:18,269 root     DEBUG    Crawling Interpark domastic schedule site\n",
      "2017-08-09 08:36:18,401 root     DEBUG    Crawling Interpark domastic schedule site\n"
     ]
    },
    {
     "name": "stdout",
     "output_type": "stream",
     "text": [
      "End Simple crawling\n",
      "Start Simple crawling :  http://domair.interpark.com/api/booking/airJourney.do\n",
      ">> Parameters\n",
      "chd:0 , format:json , inf:0 , depDate:20170818 , arr:CJJ , dep:CJU , adt:1 , tripDivi:0 , airlineCode:LJ , \n",
      "End Simple crawling\n",
      "Start Simple crawling :  http://domair.interpark.com/api/booking/airJourney.do\n",
      ">> Parameters\n",
      "chd:0 , format:json , inf:0 , depDate:20170818 , arr:CJJ , dep:CJU , adt:1 , tripDivi:0 , airlineCode:OZ , \n"
     ]
    },
    {
     "name": "stderr",
     "output_type": "stream",
     "text": [
      "2017-08-09 08:36:19,075 root     DEBUG    Crawling Interpark domastic schedule site\n"
     ]
    },
    {
     "name": "stdout",
     "output_type": "stream",
     "text": [
      "End Simple crawling\n",
      "Start Simple crawling :  http://domair.interpark.com/api/booking/airJourney.do\n",
      ">> Parameters\n",
      "chd:0 , format:json , inf:0 , depDate:20170818 , arr:CJJ , dep:CJU , adt:1 , tripDivi:0 , airlineCode:KE , \n"
     ]
    },
    {
     "name": "stderr",
     "output_type": "stream",
     "text": [
      "2017-08-09 08:36:24,240 root     DEBUG    Crawling Interpark domastic schedule site\n"
     ]
    },
    {
     "name": "stdout",
     "output_type": "stream",
     "text": [
      "End Simple crawling\n",
      "Start Simple crawling :  http://domair.interpark.com/api/booking/airJourney.do\n",
      ">> Parameters\n",
      "chd:0 , format:json , inf:0 , depDate:20170818 , arr:CJJ , dep:CJU , adt:1 , tripDivi:0 , airlineCode:ZE , \n"
     ]
    },
    {
     "name": "stderr",
     "output_type": "stream",
     "text": [
      "2017-08-09 08:36:25,251 root     DEBUG    Crawling Interpark domastic schedule site\n"
     ]
    },
    {
     "name": "stdout",
     "output_type": "stream",
     "text": [
      "End Simple crawling\n",
      "Start Simple crawling :  http://domair.interpark.com/api/booking/airJourney.do\n",
      ">> Parameters\n",
      "chd:0 , format:json , inf:0 , depDate:20170819 , arr:CJJ , dep:CJU , adt:1 , tripDivi:0 , airlineCode:7C , \n"
     ]
    },
    {
     "name": "stderr",
     "output_type": "stream",
     "text": [
      "2017-08-09 08:36:26,674 root     DEBUG    Crawling Interpark domastic schedule site\n",
      "2017-08-09 08:36:26,812 root     DEBUG    Crawling Interpark domastic schedule site\n"
     ]
    },
    {
     "name": "stdout",
     "output_type": "stream",
     "text": [
      "End Simple crawling\n",
      "Start Simple crawling :  http://domair.interpark.com/api/booking/airJourney.do\n",
      ">> Parameters\n",
      "chd:0 , format:json , inf:0 , depDate:20170819 , arr:CJJ , dep:CJU , adt:1 , tripDivi:0 , airlineCode:LJ , \n",
      "End Simple crawling\n",
      "Start Simple crawling :  http://domair.interpark.com/api/booking/airJourney.do\n",
      ">> Parameters\n",
      "chd:0 , format:json , inf:0 , depDate:20170819 , arr:CJJ , dep:CJU , adt:1 , tripDivi:0 , airlineCode:OZ , \n"
     ]
    },
    {
     "name": "stderr",
     "output_type": "stream",
     "text": [
      "2017-08-09 08:36:27,503 root     DEBUG    Crawling Interpark domastic schedule site\n"
     ]
    },
    {
     "name": "stdout",
     "output_type": "stream",
     "text": [
      "End Simple crawling\n",
      "Start Simple crawling :  http://domair.interpark.com/api/booking/airJourney.do\n",
      ">> Parameters\n",
      "chd:0 , format:json , inf:0 , depDate:20170819 , arr:CJJ , dep:CJU , adt:1 , tripDivi:0 , airlineCode:KE , \n"
     ]
    },
    {
     "name": "stderr",
     "output_type": "stream",
     "text": [
      "2017-08-09 08:36:32,341 root     DEBUG    Crawling Interpark domastic schedule site\n"
     ]
    },
    {
     "name": "stdout",
     "output_type": "stream",
     "text": [
      "End Simple crawling\n",
      "Start Simple crawling :  http://domair.interpark.com/api/booking/airJourney.do\n",
      ">> Parameters\n",
      "chd:0 , format:json , inf:0 , depDate:20170819 , arr:CJJ , dep:CJU , adt:1 , tripDivi:0 , airlineCode:ZE , \n"
     ]
    },
    {
     "name": "stderr",
     "output_type": "stream",
     "text": [
      "2017-08-09 08:36:33,426 root     DEBUG    Crawling Interpark domastic schedule site\n"
     ]
    },
    {
     "name": "stdout",
     "output_type": "stream",
     "text": [
      "End Simple crawling\n",
      "Start Simple crawling :  http://domair.interpark.com/api/booking/airJourney.do\n",
      ">> Parameters\n",
      "chd:0 , format:json , inf:0 , depDate:20170820 , arr:CJJ , dep:CJU , adt:1 , tripDivi:0 , airlineCode:7C , \n"
     ]
    },
    {
     "name": "stderr",
     "output_type": "stream",
     "text": [
      "2017-08-09 08:36:39,312 root     DEBUG    Crawling Interpark domastic schedule site\n",
      "2017-08-09 08:36:39,468 root     DEBUG    Crawling Interpark domastic schedule site\n"
     ]
    },
    {
     "name": "stdout",
     "output_type": "stream",
     "text": [
      "End Simple crawling\n",
      "Start Simple crawling :  http://domair.interpark.com/api/booking/airJourney.do\n",
      ">> Parameters\n",
      "chd:0 , format:json , inf:0 , depDate:20170820 , arr:CJJ , dep:CJU , adt:1 , tripDivi:0 , airlineCode:LJ , \n",
      "End Simple crawling\n",
      "Start Simple crawling :  http://domair.interpark.com/api/booking/airJourney.do\n",
      ">> Parameters\n",
      "chd:0 , format:json , inf:0 , depDate:20170820 , arr:CJJ , dep:CJU , adt:1 , tripDivi:0 , airlineCode:OZ , \n"
     ]
    },
    {
     "name": "stderr",
     "output_type": "stream",
     "text": [
      "2017-08-09 08:36:40,213 root     DEBUG    Crawling Interpark domastic schedule site\n"
     ]
    },
    {
     "name": "stdout",
     "output_type": "stream",
     "text": [
      "End Simple crawling\n",
      "Start Simple crawling :  http://domair.interpark.com/api/booking/airJourney.do\n",
      ">> Parameters\n",
      "chd:0 , format:json , inf:0 , depDate:20170820 , arr:CJJ , dep:CJU , adt:1 , tripDivi:0 , airlineCode:KE , \n"
     ]
    },
    {
     "name": "stderr",
     "output_type": "stream",
     "text": [
      "2017-08-09 08:36:45,022 root     DEBUG    Crawling Interpark domastic schedule site\n"
     ]
    },
    {
     "name": "stdout",
     "output_type": "stream",
     "text": [
      "End Simple crawling\n",
      "Start Simple crawling :  http://domair.interpark.com/api/booking/airJourney.do\n",
      ">> Parameters\n",
      "chd:0 , format:json , inf:0 , depDate:20170820 , arr:CJJ , dep:CJU , adt:1 , tripDivi:0 , airlineCode:ZE , \n"
     ]
    },
    {
     "name": "stderr",
     "output_type": "stream",
     "text": [
      "2017-08-09 08:36:46,086 root     DEBUG    Crawling Interpark domastic schedule site\n"
     ]
    },
    {
     "name": "stdout",
     "output_type": "stream",
     "text": [
      "End Simple crawling\n",
      "Start Simple crawling :  http://domair.interpark.com/api/booking/airJourney.do\n",
      ">> Parameters\n",
      "chd:0 , format:json , inf:0 , depDate:20170821 , arr:CJJ , dep:CJU , adt:1 , tripDivi:0 , airlineCode:7C , \n"
     ]
    },
    {
     "name": "stderr",
     "output_type": "stream",
     "text": [
      "2017-08-09 08:36:49,230 root     DEBUG    Crawling Interpark domastic schedule site\n",
      "2017-08-09 08:36:49,403 root     DEBUG    Crawling Interpark domastic schedule site\n"
     ]
    },
    {
     "name": "stdout",
     "output_type": "stream",
     "text": [
      "End Simple crawling\n",
      "Start Simple crawling :  http://domair.interpark.com/api/booking/airJourney.do\n",
      ">> Parameters\n",
      "chd:0 , format:json , inf:0 , depDate:20170821 , arr:CJJ , dep:CJU , adt:1 , tripDivi:0 , airlineCode:LJ , \n",
      "End Simple crawling\n",
      "Start Simple crawling :  http://domair.interpark.com/api/booking/airJourney.do\n",
      ">> Parameters\n",
      "chd:0 , format:json , inf:0 , depDate:20170821 , arr:CJJ , dep:CJU , adt:1 , tripDivi:0 , airlineCode:OZ , \n"
     ]
    },
    {
     "name": "stderr",
     "output_type": "stream",
     "text": [
      "2017-08-09 08:36:50,289 root     DEBUG    Crawling Interpark domastic schedule site\n"
     ]
    },
    {
     "name": "stdout",
     "output_type": "stream",
     "text": [
      "End Simple crawling\n",
      "Start Simple crawling :  http://domair.interpark.com/api/booking/airJourney.do\n",
      ">> Parameters\n",
      "chd:0 , format:json , inf:0 , depDate:20170821 , arr:CJJ , dep:CJU , adt:1 , tripDivi:0 , airlineCode:KE , \n"
     ]
    },
    {
     "name": "stderr",
     "output_type": "stream",
     "text": [
      "2017-08-09 08:36:55,335 root     DEBUG    Crawling Interpark domastic schedule site\n"
     ]
    },
    {
     "name": "stdout",
     "output_type": "stream",
     "text": [
      "End Simple crawling\n",
      "Start Simple crawling :  http://domair.interpark.com/api/booking/airJourney.do\n",
      ">> Parameters\n",
      "chd:0 , format:json , inf:0 , depDate:20170821 , arr:CJJ , dep:CJU , adt:1 , tripDivi:0 , airlineCode:ZE , \n"
     ]
    },
    {
     "name": "stderr",
     "output_type": "stream",
     "text": [
      "2017-08-09 08:36:56,524 root     DEBUG    Crawling Interpark domastic schedule site\n"
     ]
    },
    {
     "name": "stdout",
     "output_type": "stream",
     "text": [
      "End Simple crawling\n",
      "Start Simple crawling :  http://domair.interpark.com/api/booking/airJourney.do\n",
      ">> Parameters\n",
      "chd:0 , format:json , inf:0 , depDate:20170822 , arr:CJJ , dep:CJU , adt:1 , tripDivi:0 , airlineCode:7C , \n"
     ]
    },
    {
     "name": "stderr",
     "output_type": "stream",
     "text": [
      "2017-08-09 08:37:03,603 root     DEBUG    Crawling Interpark domastic schedule site\n"
     ]
    },
    {
     "name": "stdout",
     "output_type": "stream",
     "text": [
      "End Simple crawling\n",
      "Start Simple crawling :  http://domair.interpark.com/api/booking/airJourney.do\n",
      ">> Parameters\n",
      "chd:0 , format:json , inf:0 , depDate:20170822 , arr:CJJ , dep:CJU , adt:1 , tripDivi:0 , airlineCode:LJ , \n"
     ]
    },
    {
     "name": "stderr",
     "output_type": "stream",
     "text": [
      "2017-08-09 08:37:03,814 root     DEBUG    Crawling Interpark domastic schedule site\n"
     ]
    },
    {
     "name": "stdout",
     "output_type": "stream",
     "text": [
      "End Simple crawling\n",
      "Start Simple crawling :  http://domair.interpark.com/api/booking/airJourney.do\n",
      ">> Parameters\n",
      "chd:0 , format:json , inf:0 , depDate:20170822 , arr:CJJ , dep:CJU , adt:1 , tripDivi:0 , airlineCode:OZ , \n"
     ]
    },
    {
     "name": "stderr",
     "output_type": "stream",
     "text": [
      "2017-08-09 08:37:04,689 root     DEBUG    Crawling Interpark domastic schedule site\n"
     ]
    },
    {
     "name": "stdout",
     "output_type": "stream",
     "text": [
      "End Simple crawling\n",
      "Start Simple crawling :  http://domair.interpark.com/api/booking/airJourney.do\n",
      ">> Parameters\n",
      "chd:0 , format:json , inf:0 , depDate:20170822 , arr:CJJ , dep:CJU , adt:1 , tripDivi:0 , airlineCode:KE , \n"
     ]
    },
    {
     "name": "stderr",
     "output_type": "stream",
     "text": [
      "2017-08-09 08:37:10,923 root     DEBUG    Crawling Interpark domastic schedule site\n"
     ]
    },
    {
     "name": "stdout",
     "output_type": "stream",
     "text": [
      "End Simple crawling\n",
      "Start Simple crawling :  http://domair.interpark.com/api/booking/airJourney.do\n",
      ">> Parameters\n",
      "chd:0 , format:json , inf:0 , depDate:20170822 , arr:CJJ , dep:CJU , adt:1 , tripDivi:0 , airlineCode:ZE , \n"
     ]
    },
    {
     "name": "stderr",
     "output_type": "stream",
     "text": [
      "2017-08-09 08:37:12,011 root     DEBUG    Crawling Interpark domastic schedule site\n"
     ]
    },
    {
     "name": "stdout",
     "output_type": "stream",
     "text": [
      "End Simple crawling\n",
      "Start Simple crawling :  http://domair.interpark.com/api/booking/airJourney.do\n",
      ">> Parameters\n",
      "chd:0 , format:json , inf:0 , depDate:20170823 , arr:CJJ , dep:CJU , adt:1 , tripDivi:0 , airlineCode:7C , \n"
     ]
    },
    {
     "name": "stderr",
     "output_type": "stream",
     "text": [
      "2017-08-09 08:37:14,470 root     DEBUG    Crawling Interpark domastic schedule site\n",
      "2017-08-09 08:37:14,618 root     DEBUG    Crawling Interpark domastic schedule site\n"
     ]
    },
    {
     "name": "stdout",
     "output_type": "stream",
     "text": [
      "End Simple crawling\n",
      "Start Simple crawling :  http://domair.interpark.com/api/booking/airJourney.do\n",
      ">> Parameters\n",
      "chd:0 , format:json , inf:0 , depDate:20170823 , arr:CJJ , dep:CJU , adt:1 , tripDivi:0 , airlineCode:LJ , \n",
      "End Simple crawling\n",
      "Start Simple crawling :  http://domair.interpark.com/api/booking/airJourney.do\n",
      ">> Parameters\n",
      "chd:0 , format:json , inf:0 , depDate:20170823 , arr:CJJ , dep:CJU , adt:1 , tripDivi:0 , airlineCode:OZ , \n"
     ]
    },
    {
     "name": "stderr",
     "output_type": "stream",
     "text": [
      "2017-08-09 08:37:15,526 root     DEBUG    Crawling Interpark domastic schedule site\n"
     ]
    },
    {
     "name": "stdout",
     "output_type": "stream",
     "text": [
      "End Simple crawling\n",
      "Start Simple crawling :  http://domair.interpark.com/api/booking/airJourney.do\n",
      ">> Parameters\n",
      "chd:0 , format:json , inf:0 , depDate:20170823 , arr:CJJ , dep:CJU , adt:1 , tripDivi:0 , airlineCode:KE , \n"
     ]
    },
    {
     "name": "stderr",
     "output_type": "stream",
     "text": [
      "2017-08-09 08:37:20,553 root     DEBUG    Crawling Interpark domastic schedule site\n"
     ]
    },
    {
     "name": "stdout",
     "output_type": "stream",
     "text": [
      "End Simple crawling\n",
      "Start Simple crawling :  http://domair.interpark.com/api/booking/airJourney.do\n",
      ">> Parameters\n",
      "chd:0 , format:json , inf:0 , depDate:20170823 , arr:CJJ , dep:CJU , adt:1 , tripDivi:0 , airlineCode:ZE , \n"
     ]
    },
    {
     "name": "stderr",
     "output_type": "stream",
     "text": [
      "2017-08-09 08:37:21,590 root     DEBUG    Crawling Interpark domastic schedule site\n"
     ]
    },
    {
     "name": "stdout",
     "output_type": "stream",
     "text": [
      "End Simple crawling\n",
      "Start Simple crawling :  http://domair.interpark.com/api/booking/airJourney.do\n",
      ">> Parameters\n",
      "chd:0 , format:json , inf:0 , depDate:20170824 , arr:CJJ , dep:CJU , adt:1 , tripDivi:0 , airlineCode:7C , \n"
     ]
    },
    {
     "name": "stderr",
     "output_type": "stream",
     "text": [
      "2017-08-09 08:37:25,931 root     DEBUG    Crawling Interpark domastic schedule site\n"
     ]
    },
    {
     "name": "stdout",
     "output_type": "stream",
     "text": [
      "End Simple crawling\n",
      "Start Simple crawling :  http://domair.interpark.com/api/booking/airJourney.do\n",
      ">> Parameters\n",
      "chd:0 , format:json , inf:0 , depDate:20170824 , arr:CJJ , dep:CJU , adt:1 , tripDivi:0 , airlineCode:LJ , \n"
     ]
    },
    {
     "name": "stderr",
     "output_type": "stream",
     "text": [
      "2017-08-09 08:37:26,372 root     DEBUG    Crawling Interpark domastic schedule site\n"
     ]
    },
    {
     "name": "stdout",
     "output_type": "stream",
     "text": [
      "End Simple crawling\n",
      "Start Simple crawling :  http://domair.interpark.com/api/booking/airJourney.do\n",
      ">> Parameters\n",
      "chd:0 , format:json , inf:0 , depDate:20170824 , arr:CJJ , dep:CJU , adt:1 , tripDivi:0 , airlineCode:OZ , \n"
     ]
    },
    {
     "name": "stderr",
     "output_type": "stream",
     "text": [
      "2017-08-09 08:37:27,063 root     DEBUG    Crawling Interpark domastic schedule site\n"
     ]
    },
    {
     "name": "stdout",
     "output_type": "stream",
     "text": [
      "End Simple crawling\n",
      "Start Simple crawling :  http://domair.interpark.com/api/booking/airJourney.do\n",
      ">> Parameters\n",
      "chd:0 , format:json , inf:0 , depDate:20170824 , arr:CJJ , dep:CJU , adt:1 , tripDivi:0 , airlineCode:KE , \n"
     ]
    },
    {
     "name": "stderr",
     "output_type": "stream",
     "text": [
      "2017-08-09 08:37:32,528 root     DEBUG    Crawling Interpark domastic schedule site\n"
     ]
    },
    {
     "name": "stdout",
     "output_type": "stream",
     "text": [
      "End Simple crawling\n",
      "Start Simple crawling :  http://domair.interpark.com/api/booking/airJourney.do\n",
      ">> Parameters\n",
      "chd:0 , format:json , inf:0 , depDate:20170824 , arr:CJJ , dep:CJU , adt:1 , tripDivi:0 , airlineCode:ZE , \n"
     ]
    },
    {
     "name": "stderr",
     "output_type": "stream",
     "text": [
      "2017-08-09 08:37:33,518 root     DEBUG    Crawling Interpark domastic schedule site\n"
     ]
    },
    {
     "name": "stdout",
     "output_type": "stream",
     "text": [
      "End Simple crawling\n",
      "Start Simple crawling :  http://domair.interpark.com/api/booking/airJourney.do\n",
      ">> Parameters\n",
      "chd:0 , format:json , inf:0 , depDate:20170825 , arr:CJJ , dep:CJU , adt:1 , tripDivi:0 , airlineCode:7C , \n"
     ]
    },
    {
     "name": "stderr",
     "output_type": "stream",
     "text": [
      "2017-08-09 08:37:34,880 root     DEBUG    Crawling Interpark domastic schedule site\n",
      "2017-08-09 08:37:35,072 root     DEBUG    Crawling Interpark domastic schedule site\n"
     ]
    },
    {
     "name": "stdout",
     "output_type": "stream",
     "text": [
      "End Simple crawling\n",
      "Start Simple crawling :  http://domair.interpark.com/api/booking/airJourney.do\n",
      ">> Parameters\n",
      "chd:0 , format:json , inf:0 , depDate:20170825 , arr:CJJ , dep:CJU , adt:1 , tripDivi:0 , airlineCode:LJ , \n",
      "End Simple crawling\n"
     ]
    },
    {
     "name": "stderr",
     "output_type": "stream",
     "text": [
      "2017-08-09 08:37:35,993 root     DEBUG    Crawling Interpark domastic schedule site\n"
     ]
    },
    {
     "name": "stdout",
     "output_type": "stream",
     "text": [
      "Start Simple crawling :  http://domair.interpark.com/api/booking/airJourney.do\n",
      ">> Parameters\n",
      "chd:0 , format:json , inf:0 , depDate:20170825 , arr:CJJ , dep:CJU , adt:1 , tripDivi:0 , airlineCode:OZ , \n",
      "End Simple crawling\n",
      "Start Simple crawling :  http://domair.interpark.com/api/booking/airJourney.do\n",
      ">> Parameters\n",
      "chd:0 , format:json , inf:0 , depDate:20170825 , arr:CJJ , dep:CJU , adt:1 , tripDivi:0 , airlineCode:KE , \n"
     ]
    },
    {
     "name": "stderr",
     "output_type": "stream",
     "text": [
      "2017-08-09 08:37:41,164 root     DEBUG    Crawling Interpark domastic schedule site\n"
     ]
    },
    {
     "name": "stdout",
     "output_type": "stream",
     "text": [
      "End Simple crawling\n",
      "Start Simple crawling :  http://domair.interpark.com/api/booking/airJourney.do\n",
      ">> Parameters\n",
      "chd:0 , format:json , inf:0 , depDate:20170825 , arr:CJJ , dep:CJU , adt:1 , tripDivi:0 , airlineCode:ZE , \n"
     ]
    },
    {
     "name": "stderr",
     "output_type": "stream",
     "text": [
      "2017-08-09 08:37:42,212 root     DEBUG    Crawling Interpark domastic schedule site\n"
     ]
    },
    {
     "name": "stdout",
     "output_type": "stream",
     "text": [
      "End Simple crawling\n",
      "Start Simple crawling :  http://domair.interpark.com/api/booking/airJourney.do\n",
      ">> Parameters\n",
      "chd:0 , format:json , inf:0 , depDate:20170826 , arr:CJJ , dep:CJU , adt:1 , tripDivi:0 , airlineCode:7C , \n"
     ]
    },
    {
     "name": "stderr",
     "output_type": "stream",
     "text": [
      "2017-08-09 08:37:43,961 root     DEBUG    Crawling Interpark domastic schedule site\n",
      "2017-08-09 08:37:44,113 root     DEBUG    Crawling Interpark domastic schedule site\n"
     ]
    },
    {
     "name": "stdout",
     "output_type": "stream",
     "text": [
      "End Simple crawling\n",
      "Start Simple crawling :  http://domair.interpark.com/api/booking/airJourney.do\n",
      ">> Parameters\n",
      "chd:0 , format:json , inf:0 , depDate:20170826 , arr:CJJ , dep:CJU , adt:1 , tripDivi:0 , airlineCode:LJ , \n",
      "End Simple crawling\n",
      "Start Simple crawling :  http://domair.interpark.com/api/booking/airJourney.do\n",
      ">> Parameters\n",
      "chd:0 , format:json , inf:0 , depDate:20170826 , arr:CJJ , dep:CJU , adt:1 , tripDivi:0 , airlineCode:OZ , \n"
     ]
    },
    {
     "name": "stderr",
     "output_type": "stream",
     "text": [
      "2017-08-09 08:37:44,800 root     DEBUG    Crawling Interpark domastic schedule site\n"
     ]
    },
    {
     "name": "stdout",
     "output_type": "stream",
     "text": [
      "End Simple crawling\n",
      "Start Simple crawling :  http://domair.interpark.com/api/booking/airJourney.do\n",
      ">> Parameters\n",
      "chd:0 , format:json , inf:0 , depDate:20170826 , arr:CJJ , dep:CJU , adt:1 , tripDivi:0 , airlineCode:KE , \n"
     ]
    },
    {
     "name": "stderr",
     "output_type": "stream",
     "text": [
      "2017-08-09 08:37:49,551 root     DEBUG    Crawling Interpark domastic schedule site\n"
     ]
    },
    {
     "name": "stdout",
     "output_type": "stream",
     "text": [
      "End Simple crawling\n",
      "Start Simple crawling :  http://domair.interpark.com/api/booking/airJourney.do\n",
      ">> Parameters\n",
      "chd:0 , format:json , inf:0 , depDate:20170826 , arr:CJJ , dep:CJU , adt:1 , tripDivi:0 , airlineCode:ZE , \n"
     ]
    },
    {
     "name": "stderr",
     "output_type": "stream",
     "text": [
      "2017-08-09 08:37:50,836 root     DEBUG    Crawling Interpark domastic schedule site\n"
     ]
    },
    {
     "name": "stdout",
     "output_type": "stream",
     "text": [
      "End Simple crawling\n",
      "Start Simple crawling :  http://domair.interpark.com/api/booking/airJourney.do\n",
      ">> Parameters\n",
      "chd:0 , format:json , inf:0 , depDate:20170827 , arr:CJJ , dep:CJU , adt:1 , tripDivi:0 , airlineCode:7C , \n"
     ]
    },
    {
     "name": "stderr",
     "output_type": "stream",
     "text": [
      "2017-08-09 08:37:56,468 root     DEBUG    Crawling Interpark domastic schedule site\n",
      "2017-08-09 08:37:56,610 root     DEBUG    Crawling Interpark domastic schedule site\n"
     ]
    },
    {
     "name": "stdout",
     "output_type": "stream",
     "text": [
      "End Simple crawling\n",
      "Start Simple crawling :  http://domair.interpark.com/api/booking/airJourney.do\n",
      ">> Parameters\n",
      "chd:0 , format:json , inf:0 , depDate:20170827 , arr:CJJ , dep:CJU , adt:1 , tripDivi:0 , airlineCode:LJ , \n",
      "End Simple crawling\n",
      "Start Simple crawling :  http://domair.interpark.com/api/booking/airJourney.do\n",
      ">> Parameters\n",
      "chd:0 , format:json , inf:0 , depDate:20170827 , arr:CJJ , dep:CJU , adt:1 , tripDivi:0 , airlineCode:OZ , \n"
     ]
    },
    {
     "name": "stderr",
     "output_type": "stream",
     "text": [
      "2017-08-09 08:37:57,534 root     DEBUG    Crawling Interpark domastic schedule site\n"
     ]
    },
    {
     "name": "stdout",
     "output_type": "stream",
     "text": [
      "End Simple crawling\n",
      "Start Simple crawling :  http://domair.interpark.com/api/booking/airJourney.do\n",
      ">> Parameters\n",
      "chd:0 , format:json , inf:0 , depDate:20170827 , arr:CJJ , dep:CJU , adt:1 , tripDivi:0 , airlineCode:KE , \n"
     ]
    },
    {
     "name": "stderr",
     "output_type": "stream",
     "text": [
      "2017-08-09 08:38:02,499 root     DEBUG    Crawling Interpark domastic schedule site\n"
     ]
    },
    {
     "name": "stdout",
     "output_type": "stream",
     "text": [
      "End Simple crawling\n",
      "Start Simple crawling :  http://domair.interpark.com/api/booking/airJourney.do\n",
      ">> Parameters\n",
      "chd:0 , format:json , inf:0 , depDate:20170827 , arr:CJJ , dep:CJU , adt:1 , tripDivi:0 , airlineCode:ZE , \n"
     ]
    },
    {
     "name": "stderr",
     "output_type": "stream",
     "text": [
      "2017-08-09 08:38:03,501 root     DEBUG    Crawling Interpark domastic schedule site\n"
     ]
    },
    {
     "name": "stdout",
     "output_type": "stream",
     "text": [
      "End Simple crawling\n",
      "Start Simple crawling :  http://domair.interpark.com/api/booking/airJourney.do\n",
      ">> Parameters\n",
      "chd:0 , format:json , inf:0 , depDate:20170828 , arr:CJJ , dep:CJU , adt:1 , tripDivi:0 , airlineCode:7C , \n"
     ]
    },
    {
     "name": "stderr",
     "output_type": "stream",
     "text": [
      "2017-08-09 08:38:05,298 root     DEBUG    Crawling Interpark domastic schedule site\n"
     ]
    },
    {
     "name": "stdout",
     "output_type": "stream",
     "text": [
      "End Simple crawling\n",
      "Start Simple crawling :  http://domair.interpark.com/api/booking/airJourney.do\n",
      ">> Parameters\n",
      "chd:0 , format:json , inf:0 , depDate:20170828 , arr:CJJ , dep:CJU , adt:1 , tripDivi:0 , airlineCode:LJ , \n"
     ]
    },
    {
     "name": "stderr",
     "output_type": "stream",
     "text": [
      "2017-08-09 08:38:05,650 root     DEBUG    Crawling Interpark domastic schedule site\n"
     ]
    },
    {
     "name": "stdout",
     "output_type": "stream",
     "text": [
      "End Simple crawling\n",
      "Start Simple crawling :  http://domair.interpark.com/api/booking/airJourney.do\n",
      ">> Parameters\n",
      "chd:0 , format:json , inf:0 , depDate:20170828 , arr:CJJ , dep:CJU , adt:1 , tripDivi:0 , airlineCode:OZ , \n"
     ]
    },
    {
     "name": "stderr",
     "output_type": "stream",
     "text": [
      "2017-08-09 08:38:06,533 root     DEBUG    Crawling Interpark domastic schedule site\n"
     ]
    },
    {
     "name": "stdout",
     "output_type": "stream",
     "text": [
      "End Simple crawling\n",
      "Start Simple crawling :  http://domair.interpark.com/api/booking/airJourney.do\n",
      ">> Parameters\n",
      "chd:0 , format:json , inf:0 , depDate:20170828 , arr:CJJ , dep:CJU , adt:1 , tripDivi:0 , airlineCode:KE , \n"
     ]
    },
    {
     "name": "stderr",
     "output_type": "stream",
     "text": [
      "2017-08-09 08:38:11,534 root     DEBUG    Crawling Interpark domastic schedule site\n"
     ]
    },
    {
     "name": "stdout",
     "output_type": "stream",
     "text": [
      "End Simple crawling\n",
      "Start Simple crawling :  http://domair.interpark.com/api/booking/airJourney.do\n",
      ">> Parameters\n",
      "chd:0 , format:json , inf:0 , depDate:20170828 , arr:CJJ , dep:CJU , adt:1 , tripDivi:0 , airlineCode:ZE , \n"
     ]
    },
    {
     "name": "stderr",
     "output_type": "stream",
     "text": [
      "2017-08-09 08:38:12,716 root     DEBUG    Crawling Interpark domastic schedule site\n"
     ]
    },
    {
     "name": "stdout",
     "output_type": "stream",
     "text": [
      "End Simple crawling\n",
      "Start Simple crawling :  http://domair.interpark.com/api/booking/airJourney.do\n",
      ">> Parameters\n",
      "chd:0 , format:json , inf:0 , depDate:20170829 , arr:CJJ , dep:CJU , adt:1 , tripDivi:0 , airlineCode:7C , \n"
     ]
    },
    {
     "name": "stderr",
     "output_type": "stream",
     "text": [
      "2017-08-09 08:38:16,704 root     DEBUG    Crawling Interpark domastic schedule site\n",
      "2017-08-09 08:38:16,855 root     DEBUG    Crawling Interpark domastic schedule site\n"
     ]
    },
    {
     "name": "stdout",
     "output_type": "stream",
     "text": [
      "End Simple crawling\n",
      "Start Simple crawling :  http://domair.interpark.com/api/booking/airJourney.do\n",
      ">> Parameters\n",
      "chd:0 , format:json , inf:0 , depDate:20170829 , arr:CJJ , dep:CJU , adt:1 , tripDivi:0 , airlineCode:LJ , \n",
      "End Simple crawling\n",
      "Start Simple crawling :  http://domair.interpark.com/api/booking/airJourney.do\n",
      ">> Parameters\n",
      "chd:0 , format:json , inf:0 , depDate:20170829 , arr:CJJ , dep:CJU , adt:1 , tripDivi:0 , airlineCode:OZ , \n"
     ]
    },
    {
     "name": "stderr",
     "output_type": "stream",
     "text": [
      "2017-08-09 08:38:17,580 root     DEBUG    Crawling Interpark domastic schedule site\n"
     ]
    },
    {
     "name": "stdout",
     "output_type": "stream",
     "text": [
      "End Simple crawling\n",
      "Start Simple crawling :  http://domair.interpark.com/api/booking/airJourney.do\n",
      ">> Parameters\n",
      "chd:0 , format:json , inf:0 , depDate:20170829 , arr:CJJ , dep:CJU , adt:1 , tripDivi:0 , airlineCode:KE , \n"
     ]
    },
    {
     "name": "stderr",
     "output_type": "stream",
     "text": [
      "2017-08-09 08:38:22,264 root     DEBUG    Crawling Interpark domastic schedule site\n"
     ]
    },
    {
     "name": "stdout",
     "output_type": "stream",
     "text": [
      "End Simple crawling\n",
      "Start Simple crawling :  http://domair.interpark.com/api/booking/airJourney.do\n",
      ">> Parameters\n",
      "chd:0 , format:json , inf:0 , depDate:20170829 , arr:CJJ , dep:CJU , adt:1 , tripDivi:0 , airlineCode:ZE , \n"
     ]
    },
    {
     "name": "stderr",
     "output_type": "stream",
     "text": [
      "2017-08-09 08:38:23,573 root     DEBUG    Crawling Interpark domastic schedule site\n"
     ]
    },
    {
     "name": "stdout",
     "output_type": "stream",
     "text": [
      "End Simple crawling\n",
      "Start Simple crawling :  http://domair.interpark.com/api/booking/airJourney.do\n",
      ">> Parameters\n",
      "chd:0 , format:json , inf:0 , depDate:20170830 , arr:CJJ , dep:CJU , adt:1 , tripDivi:0 , airlineCode:7C , \n"
     ]
    },
    {
     "name": "stderr",
     "output_type": "stream",
     "text": [
      "2017-08-09 08:38:25,124 root     DEBUG    Crawling Interpark domastic schedule site\n"
     ]
    },
    {
     "name": "stdout",
     "output_type": "stream",
     "text": [
      "End Simple crawling\n",
      "Start Simple crawling :  http://domair.interpark.com/api/booking/airJourney.do\n",
      ">> Parameters\n",
      "chd:0 , format:json , inf:0 , depDate:20170830 , arr:CJJ , dep:CJU , adt:1 , tripDivi:0 , airlineCode:LJ , \n"
     ]
    },
    {
     "name": "stderr",
     "output_type": "stream",
     "text": [
      "2017-08-09 08:38:25,337 root     DEBUG    Crawling Interpark domastic schedule site\n"
     ]
    },
    {
     "name": "stdout",
     "output_type": "stream",
     "text": [
      "End Simple crawling\n",
      "Start Simple crawling :  http://domair.interpark.com/api/booking/airJourney.do\n",
      ">> Parameters\n",
      "chd:0 , format:json , inf:0 , depDate:20170830 , arr:CJJ , dep:CJU , adt:1 , tripDivi:0 , airlineCode:OZ , \n"
     ]
    },
    {
     "name": "stderr",
     "output_type": "stream",
     "text": [
      "2017-08-09 08:38:26,220 root     DEBUG    Crawling Interpark domastic schedule site\n"
     ]
    },
    {
     "name": "stdout",
     "output_type": "stream",
     "text": [
      "End Simple crawling\n",
      "Start Simple crawling :  http://domair.interpark.com/api/booking/airJourney.do\n",
      ">> Parameters\n",
      "chd:0 , format:json , inf:0 , depDate:20170830 , arr:CJJ , dep:CJU , adt:1 , tripDivi:0 , airlineCode:KE , \n"
     ]
    },
    {
     "name": "stderr",
     "output_type": "stream",
     "text": [
      "2017-08-09 08:38:30,998 root     DEBUG    Crawling Interpark domastic schedule site\n"
     ]
    },
    {
     "name": "stdout",
     "output_type": "stream",
     "text": [
      "End Simple crawling\n",
      "Start Simple crawling :  http://domair.interpark.com/api/booking/airJourney.do\n",
      ">> Parameters\n",
      "chd:0 , format:json , inf:0 , depDate:20170830 , arr:CJJ , dep:CJU , adt:1 , tripDivi:0 , airlineCode:ZE , \n"
     ]
    },
    {
     "name": "stderr",
     "output_type": "stream",
     "text": [
      "2017-08-09 08:38:34,646 root     INFO     end batch job :: craw_by_route_site :: elapsed -0:04:04.782001 :: Total crawl:105 files saved.\n",
      "2017-08-09 08:38:34,649 root     INFO     start batch job :: craw_by_route_site[KUV,CJU,IP,['20170810', '20170811', '20170812', '20170813', '20170814', '20170815', '20170816', '20170817', '20170818', '20170819', '20170820', '20170821', '20170822', '20170823', '20170824', '20170825', '20170826', '20170827', '20170828', '20170829', '20170830'],['KE', 'ZE']]\n",
      "2017-08-09 08:38:34,651 root     DEBUG    0 :: IP :: crawling_IP_dom :: False\n",
      "2017-08-09 08:38:34,653 root     INFO     <function crawling_IP_dom at 0x0000000007FA6378> :: False\n",
      "2017-08-09 08:38:34,656 root     DEBUG    Crawling Interpark domastic schedule site\n"
     ]
    },
    {
     "name": "stdout",
     "output_type": "stream",
     "text": [
      "End Simple crawling\n",
      "Start Simple crawling :  http://domair.interpark.com/api/booking/airJourney.do\n",
      ">> Parameters\n",
      "chd:0 , format:json , inf:0 , depDate:20170810 , arr:CJU , dep:KUV , adt:1 , tripDivi:0 , airlineCode:KE , \n"
     ]
    },
    {
     "name": "stderr",
     "output_type": "stream",
     "text": [
      "2017-08-09 08:38:39,052 root     DEBUG    Crawling Interpark domastic schedule site\n"
     ]
    },
    {
     "name": "stdout",
     "output_type": "stream",
     "text": [
      "End Simple crawling\n",
      "Start Simple crawling :  http://domair.interpark.com/api/booking/airJourney.do\n",
      ">> Parameters\n",
      "chd:0 , format:json , inf:0 , depDate:20170810 , arr:CJU , dep:KUV , adt:1 , tripDivi:0 , airlineCode:ZE , \n"
     ]
    },
    {
     "name": "stderr",
     "output_type": "stream",
     "text": [
      "2017-08-09 08:38:40,110 root     DEBUG    Crawling Interpark domastic schedule site\n"
     ]
    },
    {
     "name": "stdout",
     "output_type": "stream",
     "text": [
      "End Simple crawling\n",
      "Start Simple crawling :  http://domair.interpark.com/api/booking/airJourney.do\n",
      ">> Parameters\n",
      "chd:0 , format:json , inf:0 , depDate:20170811 , arr:CJU , dep:KUV , adt:1 , tripDivi:0 , airlineCode:KE , \n"
     ]
    },
    {
     "name": "stderr",
     "output_type": "stream",
     "text": [
      "2017-08-09 08:38:44,559 root     DEBUG    Crawling Interpark domastic schedule site\n"
     ]
    },
    {
     "name": "stdout",
     "output_type": "stream",
     "text": [
      "End Simple crawling\n",
      "Start Simple crawling :  http://domair.interpark.com/api/booking/airJourney.do\n",
      ">> Parameters\n",
      "chd:0 , format:json , inf:0 , depDate:20170811 , arr:CJU , dep:KUV , adt:1 , tripDivi:0 , airlineCode:ZE , \n"
     ]
    },
    {
     "name": "stderr",
     "output_type": "stream",
     "text": [
      "2017-08-09 08:38:45,524 root     DEBUG    Crawling Interpark domastic schedule site\n"
     ]
    },
    {
     "name": "stdout",
     "output_type": "stream",
     "text": [
      "End Simple crawling\n",
      "Start Simple crawling :  http://domair.interpark.com/api/booking/airJourney.do\n",
      ">> Parameters\n",
      "chd:0 , format:json , inf:0 , depDate:20170812 , arr:CJU , dep:KUV , adt:1 , tripDivi:0 , airlineCode:KE , \n"
     ]
    },
    {
     "name": "stderr",
     "output_type": "stream",
     "text": [
      "2017-08-09 08:38:49,925 root     DEBUG    Crawling Interpark domastic schedule site\n"
     ]
    },
    {
     "name": "stdout",
     "output_type": "stream",
     "text": [
      "End Simple crawling\n",
      "Start Simple crawling :  http://domair.interpark.com/api/booking/airJourney.do\n",
      ">> Parameters\n",
      "chd:0 , format:json , inf:0 , depDate:20170812 , arr:CJU , dep:KUV , adt:1 , tripDivi:0 , airlineCode:ZE , \n"
     ]
    },
    {
     "name": "stderr",
     "output_type": "stream",
     "text": [
      "2017-08-09 08:38:50,864 root     DEBUG    Crawling Interpark domastic schedule site\n"
     ]
    },
    {
     "name": "stdout",
     "output_type": "stream",
     "text": [
      "End Simple crawling\n",
      "Start Simple crawling :  http://domair.interpark.com/api/booking/airJourney.do\n",
      ">> Parameters\n",
      "chd:0 , format:json , inf:0 , depDate:20170813 , arr:CJU , dep:KUV , adt:1 , tripDivi:0 , airlineCode:KE , \n"
     ]
    },
    {
     "name": "stderr",
     "output_type": "stream",
     "text": [
      "2017-08-09 08:38:55,085 root     DEBUG    Crawling Interpark domastic schedule site\n"
     ]
    },
    {
     "name": "stdout",
     "output_type": "stream",
     "text": [
      "End Simple crawling\n",
      "Start Simple crawling :  http://domair.interpark.com/api/booking/airJourney.do\n",
      ">> Parameters\n",
      "chd:0 , format:json , inf:0 , depDate:20170813 , arr:CJU , dep:KUV , adt:1 , tripDivi:0 , airlineCode:ZE , \n"
     ]
    },
    {
     "name": "stderr",
     "output_type": "stream",
     "text": [
      "2017-08-09 08:38:56,066 root     DEBUG    Crawling Interpark domastic schedule site\n"
     ]
    },
    {
     "name": "stdout",
     "output_type": "stream",
     "text": [
      "End Simple crawling\n",
      "Start Simple crawling :  http://domair.interpark.com/api/booking/airJourney.do\n",
      ">> Parameters\n",
      "chd:0 , format:json , inf:0 , depDate:20170814 , arr:CJU , dep:KUV , adt:1 , tripDivi:0 , airlineCode:KE , \n"
     ]
    },
    {
     "name": "stderr",
     "output_type": "stream",
     "text": [
      "2017-08-09 08:39:00,760 root     DEBUG    Crawling Interpark domastic schedule site\n"
     ]
    },
    {
     "name": "stdout",
     "output_type": "stream",
     "text": [
      "End Simple crawling\n",
      "Start Simple crawling :  http://domair.interpark.com/api/booking/airJourney.do\n",
      ">> Parameters\n",
      "chd:0 , format:json , inf:0 , depDate:20170814 , arr:CJU , dep:KUV , adt:1 , tripDivi:0 , airlineCode:ZE , \n"
     ]
    },
    {
     "name": "stderr",
     "output_type": "stream",
     "text": [
      "2017-08-09 08:39:01,721 root     DEBUG    Crawling Interpark domastic schedule site\n"
     ]
    },
    {
     "name": "stdout",
     "output_type": "stream",
     "text": [
      "End Simple crawling\n",
      "Start Simple crawling :  http://domair.interpark.com/api/booking/airJourney.do\n",
      ">> Parameters\n",
      "chd:0 , format:json , inf:0 , depDate:20170815 , arr:CJU , dep:KUV , adt:1 , tripDivi:0 , airlineCode:KE , \n"
     ]
    },
    {
     "name": "stderr",
     "output_type": "stream",
     "text": [
      "2017-08-09 08:39:06,430 root     DEBUG    Crawling Interpark domastic schedule site\n"
     ]
    },
    {
     "name": "stdout",
     "output_type": "stream",
     "text": [
      "End Simple crawling\n",
      "Start Simple crawling :  http://domair.interpark.com/api/booking/airJourney.do\n",
      ">> Parameters\n",
      "chd:0 , format:json , inf:0 , depDate:20170815 , arr:CJU , dep:KUV , adt:1 , tripDivi:0 , airlineCode:ZE , \n"
     ]
    },
    {
     "name": "stderr",
     "output_type": "stream",
     "text": [
      "2017-08-09 08:39:07,391 root     DEBUG    Crawling Interpark domastic schedule site\n"
     ]
    },
    {
     "name": "stdout",
     "output_type": "stream",
     "text": [
      "End Simple crawling\n",
      "Start Simple crawling :  http://domair.interpark.com/api/booking/airJourney.do\n",
      ">> Parameters\n",
      "chd:0 , format:json , inf:0 , depDate:20170816 , arr:CJU , dep:KUV , adt:1 , tripDivi:0 , airlineCode:KE , \n"
     ]
    },
    {
     "name": "stderr",
     "output_type": "stream",
     "text": [
      "2017-08-09 08:39:11,739 root     DEBUG    Crawling Interpark domastic schedule site\n"
     ]
    },
    {
     "name": "stdout",
     "output_type": "stream",
     "text": [
      "End Simple crawling\n",
      "Start Simple crawling :  http://domair.interpark.com/api/booking/airJourney.do\n",
      ">> Parameters\n",
      "chd:0 , format:json , inf:0 , depDate:20170816 , arr:CJU , dep:KUV , adt:1 , tripDivi:0 , airlineCode:ZE , \n"
     ]
    },
    {
     "name": "stderr",
     "output_type": "stream",
     "text": [
      "2017-08-09 08:39:12,713 root     DEBUG    Crawling Interpark domastic schedule site\n"
     ]
    },
    {
     "name": "stdout",
     "output_type": "stream",
     "text": [
      "End Simple crawling\n",
      "Start Simple crawling :  http://domair.interpark.com/api/booking/airJourney.do\n",
      ">> Parameters\n",
      "chd:0 , format:json , inf:0 , depDate:20170817 , arr:CJU , dep:KUV , adt:1 , tripDivi:0 , airlineCode:KE , \n"
     ]
    },
    {
     "name": "stderr",
     "output_type": "stream",
     "text": [
      "2017-08-09 08:39:17,157 root     DEBUG    Crawling Interpark domastic schedule site\n"
     ]
    },
    {
     "name": "stdout",
     "output_type": "stream",
     "text": [
      "End Simple crawling\n",
      "Start Simple crawling :  http://domair.interpark.com/api/booking/airJourney.do\n",
      ">> Parameters\n",
      "chd:0 , format:json , inf:0 , depDate:20170817 , arr:CJU , dep:KUV , adt:1 , tripDivi:0 , airlineCode:ZE , \n"
     ]
    },
    {
     "name": "stderr",
     "output_type": "stream",
     "text": [
      "2017-08-09 08:39:18,165 root     DEBUG    Crawling Interpark domastic schedule site\n"
     ]
    },
    {
     "name": "stdout",
     "output_type": "stream",
     "text": [
      "End Simple crawling\n",
      "Start Simple crawling :  http://domair.interpark.com/api/booking/airJourney.do\n",
      ">> Parameters\n",
      "chd:0 , format:json , inf:0 , depDate:20170818 , arr:CJU , dep:KUV , adt:1 , tripDivi:0 , airlineCode:KE , \n"
     ]
    },
    {
     "name": "stderr",
     "output_type": "stream",
     "text": [
      "2017-08-09 08:39:22,658 root     DEBUG    Crawling Interpark domastic schedule site\n"
     ]
    },
    {
     "name": "stdout",
     "output_type": "stream",
     "text": [
      "End Simple crawling\n",
      "Start Simple crawling :  http://domair.interpark.com/api/booking/airJourney.do\n",
      ">> Parameters\n",
      "chd:0 , format:json , inf:0 , depDate:20170818 , arr:CJU , dep:KUV , adt:1 , tripDivi:0 , airlineCode:ZE , \n"
     ]
    },
    {
     "name": "stderr",
     "output_type": "stream",
     "text": [
      "2017-08-09 08:39:23,651 root     DEBUG    Crawling Interpark domastic schedule site\n"
     ]
    },
    {
     "name": "stdout",
     "output_type": "stream",
     "text": [
      "End Simple crawling\n",
      "Start Simple crawling :  http://domair.interpark.com/api/booking/airJourney.do\n",
      ">> Parameters\n",
      "chd:0 , format:json , inf:0 , depDate:20170819 , arr:CJU , dep:KUV , adt:1 , tripDivi:0 , airlineCode:KE , \n"
     ]
    },
    {
     "name": "stderr",
     "output_type": "stream",
     "text": [
      "2017-08-09 08:39:28,161 root     DEBUG    Crawling Interpark domastic schedule site\n"
     ]
    },
    {
     "name": "stdout",
     "output_type": "stream",
     "text": [
      "End Simple crawling\n",
      "Start Simple crawling :  http://domair.interpark.com/api/booking/airJourney.do\n",
      ">> Parameters\n",
      "chd:0 , format:json , inf:0 , depDate:20170819 , arr:CJU , dep:KUV , adt:1 , tripDivi:0 , airlineCode:ZE , \n"
     ]
    },
    {
     "name": "stderr",
     "output_type": "stream",
     "text": [
      "2017-08-09 08:39:50,181 root     DEBUG    Crawling Interpark domastic schedule site\n"
     ]
    },
    {
     "name": "stdout",
     "output_type": "stream",
     "text": [
      "End Simple crawling\n",
      "Start Simple crawling :  http://domair.interpark.com/api/booking/airJourney.do\n",
      ">> Parameters\n",
      "chd:0 , format:json , inf:0 , depDate:20170820 , arr:CJU , dep:KUV , adt:1 , tripDivi:0 , airlineCode:KE , \n"
     ]
    },
    {
     "name": "stderr",
     "output_type": "stream",
     "text": [
      "2017-08-09 08:39:54,590 root     DEBUG    Crawling Interpark domastic schedule site\n"
     ]
    },
    {
     "name": "stdout",
     "output_type": "stream",
     "text": [
      "End Simple crawling\n",
      "Start Simple crawling :  http://domair.interpark.com/api/booking/airJourney.do\n",
      ">> Parameters\n",
      "chd:0 , format:json , inf:0 , depDate:20170820 , arr:CJU , dep:KUV , adt:1 , tripDivi:0 , airlineCode:ZE , \n"
     ]
    },
    {
     "name": "stderr",
     "output_type": "stream",
     "text": [
      "2017-08-09 08:39:55,582 root     DEBUG    Crawling Interpark domastic schedule site\n"
     ]
    },
    {
     "name": "stdout",
     "output_type": "stream",
     "text": [
      "End Simple crawling\n",
      "Start Simple crawling :  http://domair.interpark.com/api/booking/airJourney.do\n",
      ">> Parameters\n",
      "chd:0 , format:json , inf:0 , depDate:20170821 , arr:CJU , dep:KUV , adt:1 , tripDivi:0 , airlineCode:KE , \n"
     ]
    },
    {
     "name": "stderr",
     "output_type": "stream",
     "text": [
      "2017-08-09 08:40:00,276 root     DEBUG    Crawling Interpark domastic schedule site\n"
     ]
    },
    {
     "name": "stdout",
     "output_type": "stream",
     "text": [
      "End Simple crawling\n",
      "Start Simple crawling :  http://domair.interpark.com/api/booking/airJourney.do\n",
      ">> Parameters\n",
      "chd:0 , format:json , inf:0 , depDate:20170821 , arr:CJU , dep:KUV , adt:1 , tripDivi:0 , airlineCode:ZE , \n"
     ]
    },
    {
     "name": "stderr",
     "output_type": "stream",
     "text": [
      "2017-08-09 08:40:01,232 root     DEBUG    Crawling Interpark domastic schedule site\n"
     ]
    },
    {
     "name": "stdout",
     "output_type": "stream",
     "text": [
      "End Simple crawling\n",
      "Start Simple crawling :  http://domair.interpark.com/api/booking/airJourney.do\n",
      ">> Parameters\n",
      "chd:0 , format:json , inf:0 , depDate:20170822 , arr:CJU , dep:KUV , adt:1 , tripDivi:0 , airlineCode:KE , \n"
     ]
    },
    {
     "name": "stderr",
     "output_type": "stream",
     "text": [
      "2017-08-09 08:40:05,602 root     DEBUG    Crawling Interpark domastic schedule site\n"
     ]
    },
    {
     "name": "stdout",
     "output_type": "stream",
     "text": [
      "End Simple crawling\n",
      "Start Simple crawling :  http://domair.interpark.com/api/booking/airJourney.do\n",
      ">> Parameters\n",
      "chd:0 , format:json , inf:0 , depDate:20170822 , arr:CJU , dep:KUV , adt:1 , tripDivi:0 , airlineCode:ZE , \n"
     ]
    },
    {
     "name": "stderr",
     "output_type": "stream",
     "text": [
      "2017-08-09 08:40:06,587 root     DEBUG    Crawling Interpark domastic schedule site\n"
     ]
    },
    {
     "name": "stdout",
     "output_type": "stream",
     "text": [
      "End Simple crawling\n",
      "Start Simple crawling :  http://domair.interpark.com/api/booking/airJourney.do\n",
      ">> Parameters\n",
      "chd:0 , format:json , inf:0 , depDate:20170823 , arr:CJU , dep:KUV , adt:1 , tripDivi:0 , airlineCode:KE , \n"
     ]
    },
    {
     "name": "stderr",
     "output_type": "stream",
     "text": [
      "2017-08-09 08:40:11,327 root     DEBUG    Crawling Interpark domastic schedule site\n"
     ]
    },
    {
     "name": "stdout",
     "output_type": "stream",
     "text": [
      "End Simple crawling\n",
      "Start Simple crawling :  http://domair.interpark.com/api/booking/airJourney.do\n",
      ">> Parameters\n",
      "chd:0 , format:json , inf:0 , depDate:20170823 , arr:CJU , dep:KUV , adt:1 , tripDivi:0 , airlineCode:ZE , \n"
     ]
    },
    {
     "name": "stderr",
     "output_type": "stream",
     "text": [
      "2017-08-09 08:40:12,875 root     DEBUG    Crawling Interpark domastic schedule site\n"
     ]
    },
    {
     "name": "stdout",
     "output_type": "stream",
     "text": [
      "End Simple crawling\n",
      "Start Simple crawling :  http://domair.interpark.com/api/booking/airJourney.do\n",
      ">> Parameters\n",
      "chd:0 , format:json , inf:0 , depDate:20170824 , arr:CJU , dep:KUV , adt:1 , tripDivi:0 , airlineCode:KE , \n"
     ]
    },
    {
     "name": "stderr",
     "output_type": "stream",
     "text": [
      "2017-08-09 08:40:17,248 root     DEBUG    Crawling Interpark domastic schedule site\n"
     ]
    },
    {
     "name": "stdout",
     "output_type": "stream",
     "text": [
      "End Simple crawling\n",
      "Start Simple crawling :  http://domair.interpark.com/api/booking/airJourney.do\n",
      ">> Parameters\n",
      "chd:0 , format:json , inf:0 , depDate:20170824 , arr:CJU , dep:KUV , adt:1 , tripDivi:0 , airlineCode:ZE , \n"
     ]
    },
    {
     "name": "stderr",
     "output_type": "stream",
     "text": [
      "2017-08-09 08:40:18,238 root     DEBUG    Crawling Interpark domastic schedule site\n"
     ]
    },
    {
     "name": "stdout",
     "output_type": "stream",
     "text": [
      "End Simple crawling\n",
      "Start Simple crawling :  http://domair.interpark.com/api/booking/airJourney.do\n",
      ">> Parameters\n",
      "chd:0 , format:json , inf:0 , depDate:20170825 , arr:CJU , dep:KUV , adt:1 , tripDivi:0 , airlineCode:KE , \n"
     ]
    },
    {
     "name": "stderr",
     "output_type": "stream",
     "text": [
      "2017-08-09 08:40:22,592 root     DEBUG    Crawling Interpark domastic schedule site\n"
     ]
    },
    {
     "name": "stdout",
     "output_type": "stream",
     "text": [
      "End Simple crawling\n",
      "Start Simple crawling :  http://domair.interpark.com/api/booking/airJourney.do\n",
      ">> Parameters\n",
      "chd:0 , format:json , inf:0 , depDate:20170825 , arr:CJU , dep:KUV , adt:1 , tripDivi:0 , airlineCode:ZE , \n"
     ]
    },
    {
     "name": "stderr",
     "output_type": "stream",
     "text": [
      "2017-08-09 08:40:23,576 root     DEBUG    Crawling Interpark domastic schedule site\n"
     ]
    },
    {
     "name": "stdout",
     "output_type": "stream",
     "text": [
      "End Simple crawling\n",
      "Start Simple crawling :  http://domair.interpark.com/api/booking/airJourney.do\n",
      ">> Parameters\n",
      "chd:0 , format:json , inf:0 , depDate:20170826 , arr:CJU , dep:KUV , adt:1 , tripDivi:0 , airlineCode:KE , \n"
     ]
    },
    {
     "name": "stderr",
     "output_type": "stream",
     "text": [
      "2017-08-09 08:40:28,030 root     DEBUG    Crawling Interpark domastic schedule site\n"
     ]
    },
    {
     "name": "stdout",
     "output_type": "stream",
     "text": [
      "End Simple crawling\n",
      "Start Simple crawling :  http://domair.interpark.com/api/booking/airJourney.do\n",
      ">> Parameters\n",
      "chd:0 , format:json , inf:0 , depDate:20170826 , arr:CJU , dep:KUV , adt:1 , tripDivi:0 , airlineCode:ZE , \n"
     ]
    },
    {
     "name": "stderr",
     "output_type": "stream",
     "text": [
      "2017-08-09 08:40:29,055 root     DEBUG    Crawling Interpark domastic schedule site\n"
     ]
    },
    {
     "name": "stdout",
     "output_type": "stream",
     "text": [
      "End Simple crawling\n",
      "Start Simple crawling :  http://domair.interpark.com/api/booking/airJourney.do\n",
      ">> Parameters\n",
      "chd:0 , format:json , inf:0 , depDate:20170827 , arr:CJU , dep:KUV , adt:1 , tripDivi:0 , airlineCode:KE , \n"
     ]
    },
    {
     "name": "stderr",
     "output_type": "stream",
     "text": [
      "2017-08-09 08:40:33,889 root     DEBUG    Crawling Interpark domastic schedule site\n"
     ]
    },
    {
     "name": "stdout",
     "output_type": "stream",
     "text": [
      "End Simple crawling\n",
      "Start Simple crawling :  http://domair.interpark.com/api/booking/airJourney.do\n",
      ">> Parameters\n",
      "chd:0 , format:json , inf:0 , depDate:20170827 , arr:CJU , dep:KUV , adt:1 , tripDivi:0 , airlineCode:ZE , \n"
     ]
    },
    {
     "name": "stderr",
     "output_type": "stream",
     "text": [
      "2017-08-09 08:40:34,934 root     DEBUG    Crawling Interpark domastic schedule site\n"
     ]
    },
    {
     "name": "stdout",
     "output_type": "stream",
     "text": [
      "End Simple crawling\n",
      "Start Simple crawling :  http://domair.interpark.com/api/booking/airJourney.do\n",
      ">> Parameters\n",
      "chd:0 , format:json , inf:0 , depDate:20170828 , arr:CJU , dep:KUV , adt:1 , tripDivi:0 , airlineCode:KE , \n"
     ]
    },
    {
     "name": "stderr",
     "output_type": "stream",
     "text": [
      "2017-08-09 08:40:39,628 root     DEBUG    Crawling Interpark domastic schedule site\n"
     ]
    },
    {
     "name": "stdout",
     "output_type": "stream",
     "text": [
      "End Simple crawling\n",
      "Start Simple crawling :  http://domair.interpark.com/api/booking/airJourney.do\n",
      ">> Parameters\n",
      "chd:0 , format:json , inf:0 , depDate:20170828 , arr:CJU , dep:KUV , adt:1 , tripDivi:0 , airlineCode:ZE , \n"
     ]
    },
    {
     "name": "stderr",
     "output_type": "stream",
     "text": [
      "2017-08-09 08:40:40,697 root     DEBUG    Crawling Interpark domastic schedule site\n"
     ]
    },
    {
     "name": "stdout",
     "output_type": "stream",
     "text": [
      "End Simple crawling\n",
      "Start Simple crawling :  http://domair.interpark.com/api/booking/airJourney.do\n",
      ">> Parameters\n",
      "chd:0 , format:json , inf:0 , depDate:20170829 , arr:CJU , dep:KUV , adt:1 , tripDivi:0 , airlineCode:KE , \n"
     ]
    },
    {
     "name": "stderr",
     "output_type": "stream",
     "text": [
      "2017-08-09 08:40:45,370 root     DEBUG    Crawling Interpark domastic schedule site\n"
     ]
    },
    {
     "name": "stdout",
     "output_type": "stream",
     "text": [
      "End Simple crawling\n",
      "Start Simple crawling :  http://domair.interpark.com/api/booking/airJourney.do\n",
      ">> Parameters\n",
      "chd:0 , format:json , inf:0 , depDate:20170829 , arr:CJU , dep:KUV , adt:1 , tripDivi:0 , airlineCode:ZE , \n"
     ]
    },
    {
     "name": "stderr",
     "output_type": "stream",
     "text": [
      "2017-08-09 08:40:46,368 root     DEBUG    Crawling Interpark domastic schedule site\n"
     ]
    },
    {
     "name": "stdout",
     "output_type": "stream",
     "text": [
      "End Simple crawling\n",
      "Start Simple crawling :  http://domair.interpark.com/api/booking/airJourney.do\n",
      ">> Parameters\n",
      "chd:0 , format:json , inf:0 , depDate:20170830 , arr:CJU , dep:KUV , adt:1 , tripDivi:0 , airlineCode:KE , \n"
     ]
    },
    {
     "name": "stderr",
     "output_type": "stream",
     "text": [
      "2017-08-09 08:40:50,972 root     DEBUG    Crawling Interpark domastic schedule site\n"
     ]
    },
    {
     "name": "stdout",
     "output_type": "stream",
     "text": [
      "End Simple crawling\n",
      "Start Simple crawling :  http://domair.interpark.com/api/booking/airJourney.do\n",
      ">> Parameters\n",
      "chd:0 , format:json , inf:0 , depDate:20170830 , arr:CJU , dep:KUV , adt:1 , tripDivi:0 , airlineCode:ZE , \n"
     ]
    },
    {
     "name": "stderr",
     "output_type": "stream",
     "text": [
      "2017-08-09 08:41:13,029 root     INFO     end batch job :: craw_by_route_site :: elapsed -0:02:38.378059 :: Total crawl:42 files saved.\n",
      "2017-08-09 08:41:13,043 root     INFO     start batch job :: craw_by_route_site[CJU,KUV,IP,['20170810', '20170811', '20170812', '20170813', '20170814', '20170815', '20170816', '20170817', '20170818', '20170819', '20170820', '20170821', '20170822', '20170823', '20170824', '20170825', '20170826', '20170827', '20170828', '20170829', '20170830'],['KE', 'ZE']]\n",
      "2017-08-09 08:41:13,050 root     DEBUG    0 :: IP :: crawling_IP_dom :: False\n",
      "2017-08-09 08:41:13,055 root     INFO     <function crawling_IP_dom at 0x0000000007FA6378> :: False\n",
      "2017-08-09 08:41:13,058 root     DEBUG    Crawling Interpark domastic schedule site\n"
     ]
    },
    {
     "name": "stdout",
     "output_type": "stream",
     "text": [
      "End Simple crawling\n",
      "Start Simple crawling :  http://domair.interpark.com/api/booking/airJourney.do\n",
      ">> Parameters\n",
      "chd:0 , format:json , inf:0 , depDate:20170810 , arr:KUV , dep:CJU , adt:1 , tripDivi:0 , airlineCode:KE , \n"
     ]
    },
    {
     "name": "stderr",
     "output_type": "stream",
     "text": [
      "2017-08-09 08:41:17,670 root     DEBUG    Crawling Interpark domastic schedule site\n"
     ]
    },
    {
     "name": "stdout",
     "output_type": "stream",
     "text": [
      "End Simple crawling\n",
      "Start Simple crawling :  http://domair.interpark.com/api/booking/airJourney.do\n",
      ">> Parameters\n",
      "chd:0 , format:json , inf:0 , depDate:20170810 , arr:KUV , dep:CJU , adt:1 , tripDivi:0 , airlineCode:ZE , \n"
     ]
    },
    {
     "name": "stderr",
     "output_type": "stream",
     "text": [
      "2017-08-09 08:41:18,690 root     DEBUG    Crawling Interpark domastic schedule site\n"
     ]
    },
    {
     "name": "stdout",
     "output_type": "stream",
     "text": [
      "End Simple crawling\n",
      "Start Simple crawling :  http://domair.interpark.com/api/booking/airJourney.do\n",
      ">> Parameters\n",
      "chd:0 , format:json , inf:0 , depDate:20170811 , arr:KUV , dep:CJU , adt:1 , tripDivi:0 , airlineCode:KE , \n"
     ]
    },
    {
     "name": "stderr",
     "output_type": "stream",
     "text": [
      "2017-08-09 08:41:23,215 root     DEBUG    Crawling Interpark domastic schedule site\n"
     ]
    },
    {
     "name": "stdout",
     "output_type": "stream",
     "text": [
      "End Simple crawling\n",
      "Start Simple crawling :  http://domair.interpark.com/api/booking/airJourney.do\n",
      ">> Parameters\n",
      "chd:0 , format:json , inf:0 , depDate:20170811 , arr:KUV , dep:CJU , adt:1 , tripDivi:0 , airlineCode:ZE , \n"
     ]
    },
    {
     "name": "stderr",
     "output_type": "stream",
     "text": [
      "2017-08-09 08:41:24,193 root     DEBUG    Crawling Interpark domastic schedule site\n"
     ]
    },
    {
     "name": "stdout",
     "output_type": "stream",
     "text": [
      "End Simple crawling\n",
      "Start Simple crawling :  http://domair.interpark.com/api/booking/airJourney.do\n",
      ">> Parameters\n",
      "chd:0 , format:json , inf:0 , depDate:20170812 , arr:KUV , dep:CJU , adt:1 , tripDivi:0 , airlineCode:KE , \n"
     ]
    },
    {
     "name": "stderr",
     "output_type": "stream",
     "text": [
      "2017-08-09 08:41:28,609 root     DEBUG    Crawling Interpark domastic schedule site\n"
     ]
    },
    {
     "name": "stdout",
     "output_type": "stream",
     "text": [
      "End Simple crawling\n",
      "Start Simple crawling :  http://domair.interpark.com/api/booking/airJourney.do\n",
      ">> Parameters\n",
      "chd:0 , format:json , inf:0 , depDate:20170812 , arr:KUV , dep:CJU , adt:1 , tripDivi:0 , airlineCode:ZE , \n"
     ]
    },
    {
     "name": "stderr",
     "output_type": "stream",
     "text": [
      "2017-08-09 08:41:29,602 root     DEBUG    Crawling Interpark domastic schedule site\n"
     ]
    },
    {
     "name": "stdout",
     "output_type": "stream",
     "text": [
      "End Simple crawling\n",
      "Start Simple crawling :  http://domair.interpark.com/api/booking/airJourney.do\n",
      ">> Parameters\n",
      "chd:0 , format:json , inf:0 , depDate:20170813 , arr:KUV , dep:CJU , adt:1 , tripDivi:0 , airlineCode:KE , \n"
     ]
    },
    {
     "name": "stderr",
     "output_type": "stream",
     "text": [
      "2017-08-09 08:41:33,854 root     DEBUG    Crawling Interpark domastic schedule site\n"
     ]
    },
    {
     "name": "stdout",
     "output_type": "stream",
     "text": [
      "End Simple crawling\n",
      "Start Simple crawling :  http://domair.interpark.com/api/booking/airJourney.do\n",
      ">> Parameters\n",
      "chd:0 , format:json , inf:0 , depDate:20170813 , arr:KUV , dep:CJU , adt:1 , tripDivi:0 , airlineCode:ZE , \n"
     ]
    },
    {
     "name": "stderr",
     "output_type": "stream",
     "text": [
      "2017-08-09 08:41:34,884 root     DEBUG    Crawling Interpark domastic schedule site\n"
     ]
    },
    {
     "name": "stdout",
     "output_type": "stream",
     "text": [
      "End Simple crawling\n",
      "Start Simple crawling :  http://domair.interpark.com/api/booking/airJourney.do\n",
      ">> Parameters\n",
      "chd:0 , format:json , inf:0 , depDate:20170814 , arr:KUV , dep:CJU , adt:1 , tripDivi:0 , airlineCode:KE , \n"
     ]
    },
    {
     "name": "stderr",
     "output_type": "stream",
     "text": [
      "2017-08-09 08:41:39,631 root     DEBUG    Crawling Interpark domastic schedule site\n"
     ]
    },
    {
     "name": "stdout",
     "output_type": "stream",
     "text": [
      "End Simple crawling\n",
      "Start Simple crawling :  http://domair.interpark.com/api/booking/airJourney.do\n",
      ">> Parameters\n",
      "chd:0 , format:json , inf:0 , depDate:20170814 , arr:KUV , dep:CJU , adt:1 , tripDivi:0 , airlineCode:ZE , \n"
     ]
    },
    {
     "name": "stderr",
     "output_type": "stream",
     "text": [
      "2017-08-09 08:41:40,623 root     DEBUG    Crawling Interpark domastic schedule site\n"
     ]
    },
    {
     "name": "stdout",
     "output_type": "stream",
     "text": [
      "End Simple crawling\n",
      "Start Simple crawling :  http://domair.interpark.com/api/booking/airJourney.do\n",
      ">> Parameters\n",
      "chd:0 , format:json , inf:0 , depDate:20170815 , arr:KUV , dep:CJU , adt:1 , tripDivi:0 , airlineCode:KE , \n"
     ]
    },
    {
     "name": "stderr",
     "output_type": "stream",
     "text": [
      "2017-08-09 08:41:45,017 root     DEBUG    Crawling Interpark domastic schedule site\n"
     ]
    },
    {
     "name": "stdout",
     "output_type": "stream",
     "text": [
      "End Simple crawling\n",
      "Start Simple crawling :  http://domair.interpark.com/api/booking/airJourney.do\n",
      ">> Parameters\n",
      "chd:0 , format:json , inf:0 , depDate:20170815 , arr:KUV , dep:CJU , adt:1 , tripDivi:0 , airlineCode:ZE , \n"
     ]
    },
    {
     "name": "stderr",
     "output_type": "stream",
     "text": [
      "2017-08-09 08:42:07,069 root     DEBUG    Crawling Interpark domastic schedule site\n"
     ]
    },
    {
     "name": "stdout",
     "output_type": "stream",
     "text": [
      "End Simple crawling\n",
      "Start Simple crawling :  http://domair.interpark.com/api/booking/airJourney.do\n",
      ">> Parameters\n",
      "chd:0 , format:json , inf:0 , depDate:20170816 , arr:KUV , dep:CJU , adt:1 , tripDivi:0 , airlineCode:KE , \n"
     ]
    },
    {
     "name": "stderr",
     "output_type": "stream",
     "text": [
      "2017-08-09 08:42:11,800 root     DEBUG    Crawling Interpark domastic schedule site\n"
     ]
    },
    {
     "name": "stdout",
     "output_type": "stream",
     "text": [
      "End Simple crawling\n",
      "Start Simple crawling :  http://domair.interpark.com/api/booking/airJourney.do\n",
      ">> Parameters\n",
      "chd:0 , format:json , inf:0 , depDate:20170816 , arr:KUV , dep:CJU , adt:1 , tripDivi:0 , airlineCode:ZE , \n"
     ]
    },
    {
     "name": "stderr",
     "output_type": "stream",
     "text": [
      "2017-08-09 08:42:12,770 root     DEBUG    Crawling Interpark domastic schedule site\n"
     ]
    },
    {
     "name": "stdout",
     "output_type": "stream",
     "text": [
      "End Simple crawling\n",
      "Start Simple crawling :  http://domair.interpark.com/api/booking/airJourney.do\n",
      ">> Parameters\n",
      "chd:0 , format:json , inf:0 , depDate:20170817 , arr:KUV , dep:CJU , adt:1 , tripDivi:0 , airlineCode:KE , \n"
     ]
    },
    {
     "name": "stderr",
     "output_type": "stream",
     "text": [
      "2017-08-09 08:42:17,256 root     DEBUG    Crawling Interpark domastic schedule site\n"
     ]
    },
    {
     "name": "stdout",
     "output_type": "stream",
     "text": [
      "End Simple crawling\n",
      "Start Simple crawling :  http://domair.interpark.com/api/booking/airJourney.do\n",
      ">> Parameters\n",
      "chd:0 , format:json , inf:0 , depDate:20170817 , arr:KUV , dep:CJU , adt:1 , tripDivi:0 , airlineCode:ZE , \n"
     ]
    },
    {
     "name": "stderr",
     "output_type": "stream",
     "text": [
      "2017-08-09 08:42:18,254 root     DEBUG    Crawling Interpark domastic schedule site\n"
     ]
    },
    {
     "name": "stdout",
     "output_type": "stream",
     "text": [
      "End Simple crawling\n",
      "Start Simple crawling :  http://domair.interpark.com/api/booking/airJourney.do\n",
      ">> Parameters\n",
      "chd:0 , format:json , inf:0 , depDate:20170818 , arr:KUV , dep:CJU , adt:1 , tripDivi:0 , airlineCode:KE , \n"
     ]
    },
    {
     "name": "stderr",
     "output_type": "stream",
     "text": [
      "2017-08-09 08:42:22,786 root     DEBUG    Crawling Interpark domastic schedule site\n"
     ]
    },
    {
     "name": "stdout",
     "output_type": "stream",
     "text": [
      "End Simple crawling\n",
      "Start Simple crawling :  http://domair.interpark.com/api/booking/airJourney.do\n",
      ">> Parameters\n",
      "chd:0 , format:json , inf:0 , depDate:20170818 , arr:KUV , dep:CJU , adt:1 , tripDivi:0 , airlineCode:ZE , \n"
     ]
    },
    {
     "name": "stderr",
     "output_type": "stream",
     "text": [
      "2017-08-09 08:42:23,833 root     DEBUG    Crawling Interpark domastic schedule site\n"
     ]
    },
    {
     "name": "stdout",
     "output_type": "stream",
     "text": [
      "End Simple crawling\n",
      "Start Simple crawling :  http://domair.interpark.com/api/booking/airJourney.do\n",
      ">> Parameters\n",
      "chd:0 , format:json , inf:0 , depDate:20170819 , arr:KUV , dep:CJU , adt:1 , tripDivi:0 , airlineCode:KE , \n"
     ]
    },
    {
     "name": "stderr",
     "output_type": "stream",
     "text": [
      "2017-08-09 08:42:28,249 root     DEBUG    Crawling Interpark domastic schedule site\n"
     ]
    },
    {
     "name": "stdout",
     "output_type": "stream",
     "text": [
      "End Simple crawling\n",
      "Start Simple crawling :  http://domair.interpark.com/api/booking/airJourney.do\n",
      ">> Parameters\n",
      "chd:0 , format:json , inf:0 , depDate:20170819 , arr:KUV , dep:CJU , adt:1 , tripDivi:0 , airlineCode:ZE , \n"
     ]
    },
    {
     "name": "stderr",
     "output_type": "stream",
     "text": [
      "2017-08-09 08:42:29,258 root     DEBUG    Crawling Interpark domastic schedule site\n"
     ]
    },
    {
     "name": "stdout",
     "output_type": "stream",
     "text": [
      "End Simple crawling\n",
      "Start Simple crawling :  http://domair.interpark.com/api/booking/airJourney.do\n",
      ">> Parameters\n",
      "chd:0 , format:json , inf:0 , depDate:20170820 , arr:KUV , dep:CJU , adt:1 , tripDivi:0 , airlineCode:KE , \n"
     ]
    },
    {
     "name": "stderr",
     "output_type": "stream",
     "text": [
      "2017-08-09 08:42:33,665 root     DEBUG    Crawling Interpark domastic schedule site\n"
     ]
    },
    {
     "name": "stdout",
     "output_type": "stream",
     "text": [
      "End Simple crawling\n",
      "Start Simple crawling :  http://domair.interpark.com/api/booking/airJourney.do\n",
      ">> Parameters\n",
      "chd:0 , format:json , inf:0 , depDate:20170820 , arr:KUV , dep:CJU , adt:1 , tripDivi:0 , airlineCode:ZE , \n"
     ]
    },
    {
     "name": "stderr",
     "output_type": "stream",
     "text": [
      "2017-08-09 08:42:34,714 root     DEBUG    Crawling Interpark domastic schedule site\n"
     ]
    },
    {
     "name": "stdout",
     "output_type": "stream",
     "text": [
      "End Simple crawling\n",
      "Start Simple crawling :  http://domair.interpark.com/api/booking/airJourney.do\n",
      ">> Parameters\n",
      "chd:0 , format:json , inf:0 , depDate:20170821 , arr:KUV , dep:CJU , adt:1 , tripDivi:0 , airlineCode:KE , \n"
     ]
    },
    {
     "name": "stderr",
     "output_type": "stream",
     "text": [
      "2017-08-09 08:42:39,417 root     DEBUG    Crawling Interpark domastic schedule site\n"
     ]
    },
    {
     "name": "stdout",
     "output_type": "stream",
     "text": [
      "End Simple crawling\n",
      "Start Simple crawling :  http://domair.interpark.com/api/booking/airJourney.do\n",
      ">> Parameters\n",
      "chd:0 , format:json , inf:0 , depDate:20170821 , arr:KUV , dep:CJU , adt:1 , tripDivi:0 , airlineCode:ZE , \n"
     ]
    },
    {
     "name": "stderr",
     "output_type": "stream",
     "text": [
      "2017-08-09 08:42:40,476 root     DEBUG    Crawling Interpark domastic schedule site\n"
     ]
    },
    {
     "name": "stdout",
     "output_type": "stream",
     "text": [
      "End Simple crawling\n",
      "Start Simple crawling :  http://domair.interpark.com/api/booking/airJourney.do\n",
      ">> Parameters\n",
      "chd:0 , format:json , inf:0 , depDate:20170822 , arr:KUV , dep:CJU , adt:1 , tripDivi:0 , airlineCode:KE , \n"
     ]
    },
    {
     "name": "stderr",
     "output_type": "stream",
     "text": [
      "2017-08-09 08:42:44,724 root     DEBUG    Crawling Interpark domastic schedule site\n"
     ]
    },
    {
     "name": "stdout",
     "output_type": "stream",
     "text": [
      "End Simple crawling\n",
      "Start Simple crawling :  http://domair.interpark.com/api/booking/airJourney.do\n",
      ">> Parameters\n",
      "chd:0 , format:json , inf:0 , depDate:20170822 , arr:KUV , dep:CJU , adt:1 , tripDivi:0 , airlineCode:ZE , \n"
     ]
    },
    {
     "name": "stderr",
     "output_type": "stream",
     "text": [
      "2017-08-09 08:42:45,690 root     DEBUG    Crawling Interpark domastic schedule site\n"
     ]
    },
    {
     "name": "stdout",
     "output_type": "stream",
     "text": [
      "End Simple crawling\n",
      "Start Simple crawling :  http://domair.interpark.com/api/booking/airJourney.do\n",
      ">> Parameters\n",
      "chd:0 , format:json , inf:0 , depDate:20170823 , arr:KUV , dep:CJU , adt:1 , tripDivi:0 , airlineCode:KE , \n"
     ]
    },
    {
     "name": "stderr",
     "output_type": "stream",
     "text": [
      "2017-08-09 08:42:50,141 root     DEBUG    Crawling Interpark domastic schedule site\n"
     ]
    },
    {
     "name": "stdout",
     "output_type": "stream",
     "text": [
      "End Simple crawling\n",
      "Start Simple crawling :  http://domair.interpark.com/api/booking/airJourney.do\n",
      ">> Parameters\n",
      "chd:0 , format:json , inf:0 , depDate:20170823 , arr:KUV , dep:CJU , adt:1 , tripDivi:0 , airlineCode:ZE , \n"
     ]
    },
    {
     "name": "stderr",
     "output_type": "stream",
     "text": [
      "2017-08-09 08:43:12,110 root     DEBUG    Crawling Interpark domastic schedule site\n"
     ]
    },
    {
     "name": "stdout",
     "output_type": "stream",
     "text": [
      "End Simple crawling\n",
      "Start Simple crawling :  http://domair.interpark.com/api/booking/airJourney.do\n",
      ">> Parameters\n",
      "chd:0 , format:json , inf:0 , depDate:20170824 , arr:KUV , dep:CJU , adt:1 , tripDivi:0 , airlineCode:KE , \n"
     ]
    },
    {
     "name": "stderr",
     "output_type": "stream",
     "text": [
      "2017-08-09 08:43:16,755 root     DEBUG    Crawling Interpark domastic schedule site\n"
     ]
    },
    {
     "name": "stdout",
     "output_type": "stream",
     "text": [
      "End Simple crawling\n",
      "Start Simple crawling :  http://domair.interpark.com/api/booking/airJourney.do\n",
      ">> Parameters\n",
      "chd:0 , format:json , inf:0 , depDate:20170824 , arr:KUV , dep:CJU , adt:1 , tripDivi:0 , airlineCode:ZE , \n"
     ]
    },
    {
     "name": "stderr",
     "output_type": "stream",
     "text": [
      "2017-08-09 08:43:17,726 root     DEBUG    Crawling Interpark domastic schedule site\n"
     ]
    },
    {
     "name": "stdout",
     "output_type": "stream",
     "text": [
      "End Simple crawling\n",
      "Start Simple crawling :  http://domair.interpark.com/api/booking/airJourney.do\n",
      ">> Parameters\n",
      "chd:0 , format:json , inf:0 , depDate:20170825 , arr:KUV , dep:CJU , adt:1 , tripDivi:0 , airlineCode:KE , \n"
     ]
    },
    {
     "name": "stderr",
     "output_type": "stream",
     "text": [
      "2017-08-09 08:43:22,134 root     DEBUG    Crawling Interpark domastic schedule site\n"
     ]
    },
    {
     "name": "stdout",
     "output_type": "stream",
     "text": [
      "End Simple crawling\n",
      "Start Simple crawling :  http://domair.interpark.com/api/booking/airJourney.do\n",
      ">> Parameters\n",
      "chd:0 , format:json , inf:0 , depDate:20170825 , arr:KUV , dep:CJU , adt:1 , tripDivi:0 , airlineCode:ZE , \n"
     ]
    },
    {
     "name": "stderr",
     "output_type": "stream",
     "text": [
      "2017-08-09 08:43:23,093 root     DEBUG    Crawling Interpark domastic schedule site\n"
     ]
    },
    {
     "name": "stdout",
     "output_type": "stream",
     "text": [
      "End Simple crawling\n",
      "Start Simple crawling :  http://domair.interpark.com/api/booking/airJourney.do\n",
      ">> Parameters\n",
      "chd:0 , format:json , inf:0 , depDate:20170826 , arr:KUV , dep:CJU , adt:1 , tripDivi:0 , airlineCode:KE , \n"
     ]
    },
    {
     "name": "stderr",
     "output_type": "stream",
     "text": [
      "2017-08-09 08:43:27,622 root     DEBUG    Crawling Interpark domastic schedule site\n"
     ]
    },
    {
     "name": "stdout",
     "output_type": "stream",
     "text": [
      "End Simple crawling\n",
      "Start Simple crawling :  http://domair.interpark.com/api/booking/airJourney.do\n",
      ">> Parameters\n",
      "chd:0 , format:json , inf:0 , depDate:20170826 , arr:KUV , dep:CJU , adt:1 , tripDivi:0 , airlineCode:ZE , \n"
     ]
    },
    {
     "name": "stderr",
     "output_type": "stream",
     "text": [
      "2017-08-09 08:43:28,613 root     DEBUG    Crawling Interpark domastic schedule site\n"
     ]
    },
    {
     "name": "stdout",
     "output_type": "stream",
     "text": [
      "End Simple crawling\n",
      "Start Simple crawling :  http://domair.interpark.com/api/booking/airJourney.do\n",
      ">> Parameters\n",
      "chd:0 , format:json , inf:0 , depDate:20170827 , arr:KUV , dep:CJU , adt:1 , tripDivi:0 , airlineCode:KE , \n"
     ]
    },
    {
     "name": "stderr",
     "output_type": "stream",
     "text": [
      "2017-08-09 08:43:33,155 root     DEBUG    Crawling Interpark domastic schedule site\n"
     ]
    },
    {
     "name": "stdout",
     "output_type": "stream",
     "text": [
      "End Simple crawling\n",
      "Start Simple crawling :  http://domair.interpark.com/api/booking/airJourney.do\n",
      ">> Parameters\n",
      "chd:0 , format:json , inf:0 , depDate:20170827 , arr:KUV , dep:CJU , adt:1 , tripDivi:0 , airlineCode:ZE , \n"
     ]
    },
    {
     "name": "stderr",
     "output_type": "stream",
     "text": [
      "2017-08-09 08:43:34,124 root     DEBUG    Crawling Interpark domastic schedule site\n"
     ]
    },
    {
     "name": "stdout",
     "output_type": "stream",
     "text": [
      "End Simple crawling\n",
      "Start Simple crawling :  http://domair.interpark.com/api/booking/airJourney.do\n",
      ">> Parameters\n",
      "chd:0 , format:json , inf:0 , depDate:20170828 , arr:KUV , dep:CJU , adt:1 , tripDivi:0 , airlineCode:KE , \n"
     ]
    },
    {
     "name": "stderr",
     "output_type": "stream",
     "text": [
      "2017-08-09 08:43:38,624 root     DEBUG    Crawling Interpark domastic schedule site\n"
     ]
    },
    {
     "name": "stdout",
     "output_type": "stream",
     "text": [
      "End Simple crawling\n",
      "Start Simple crawling :  http://domair.interpark.com/api/booking/airJourney.do\n",
      ">> Parameters\n",
      "chd:0 , format:json , inf:0 , depDate:20170828 , arr:KUV , dep:CJU , adt:1 , tripDivi:0 , airlineCode:ZE , \n"
     ]
    },
    {
     "name": "stderr",
     "output_type": "stream",
     "text": [
      "2017-08-09 08:43:39,707 root     DEBUG    Crawling Interpark domastic schedule site\n"
     ]
    },
    {
     "name": "stdout",
     "output_type": "stream",
     "text": [
      "End Simple crawling\n",
      "Start Simple crawling :  http://domair.interpark.com/api/booking/airJourney.do\n",
      ">> Parameters\n",
      "chd:0 , format:json , inf:0 , depDate:20170829 , arr:KUV , dep:CJU , adt:1 , tripDivi:0 , airlineCode:KE , \n"
     ]
    },
    {
     "name": "stderr",
     "output_type": "stream",
     "text": [
      "2017-08-09 08:43:44,188 root     DEBUG    Crawling Interpark domastic schedule site\n"
     ]
    },
    {
     "name": "stdout",
     "output_type": "stream",
     "text": [
      "End Simple crawling\n",
      "Start Simple crawling :  http://domair.interpark.com/api/booking/airJourney.do\n",
      ">> Parameters\n",
      "chd:0 , format:json , inf:0 , depDate:20170829 , arr:KUV , dep:CJU , adt:1 , tripDivi:0 , airlineCode:ZE , \n"
     ]
    },
    {
     "name": "stderr",
     "output_type": "stream",
     "text": [
      "2017-08-09 08:43:45,174 root     DEBUG    Crawling Interpark domastic schedule site\n"
     ]
    },
    {
     "name": "stdout",
     "output_type": "stream",
     "text": [
      "End Simple crawling\n",
      "Start Simple crawling :  http://domair.interpark.com/api/booking/airJourney.do\n",
      ">> Parameters\n",
      "chd:0 , format:json , inf:0 , depDate:20170830 , arr:KUV , dep:CJU , adt:1 , tripDivi:0 , airlineCode:KE , \n"
     ]
    },
    {
     "name": "stderr",
     "output_type": "stream",
     "text": [
      "2017-08-09 08:43:49,853 root     DEBUG    Crawling Interpark domastic schedule site\n"
     ]
    },
    {
     "name": "stdout",
     "output_type": "stream",
     "text": [
      "End Simple crawling\n",
      "Start Simple crawling :  http://domair.interpark.com/api/booking/airJourney.do\n",
      ">> Parameters\n",
      "chd:0 , format:json , inf:0 , depDate:20170830 , arr:KUV , dep:CJU , adt:1 , tripDivi:0 , airlineCode:ZE , \n"
     ]
    },
    {
     "name": "stderr",
     "output_type": "stream",
     "text": [
      "2017-08-09 08:43:50,920 root     INFO     end batch job :: craw_by_route_site :: elapsed -0:02:37.870030 :: Total crawl:42 files saved.\n",
      "2017-08-09 08:43:50,922 root     INFO     start batch job :: craw_by_route_site[NRT,ICN,ZE,['20170810', '20170811', '20170812', '20170813', '20170814', '20170815', '20170816', '20170817', '20170818', '20170819', '20170820', '20170821', '20170822', '20170823', '20170824', '20170825', '20170826', '20170827', '20170828', '20170829', '20170830'],ZE]\n",
      "2017-08-09 08:43:50,983 root     DEBUG    1 :: ZE :: crawling_ZE_dom_int :: True\n",
      "2017-08-09 08:43:51,006 root     INFO     <function crawling_ZE_dom_int at 0x0000000007FA6F28> :: True\n",
      "2017-08-09 08:43:51,010 root     DEBUG    Crawling eastarjet homepage schedule site\n"
     ]
    },
    {
     "name": "stdout",
     "output_type": "stream",
     "text": [
      "End Simple crawling\n",
      "Start Json Payload crawling :  https://www.eastarjet.com/json/dataService\n",
      ">> Parameters\n",
      "id:2 , method:DataService.service , params:[{'functionName': 'DTWBA00022', 'methodType': None, 'requestExecuteType': 'BIZ', 'requestUniqueCode': 'PGWBA00002', 'DBTransaction': False, 'filterParameter': {'javaClass': 'java.util.Map', 'map': {}}, 'panelId': None, 'sourceName': None, 'javaClass': 'com.jein.framework.connectivity.parameter.RequestParameter', 'inParameters': {'list': [{'ioType': 'IN', 'data': {'list': [{'map': {'flightSearch': '{\"viewType\":\"\",\"fly_type\":\"2\",\"person1\":\"1\",\"person2\":\"0\",\"person3\":\"0\",    \"residentCountry\":\"KR\",\"currency\":\"\",\"promotion_cd\":\"\",    \"flySection\":[{\"departure_cd\":\"NRT\",\"arrival_cd\":\"ICN\",\"departure_date_cd\":\"20170810\"}]}'}, 'javaClass': 'java.util.Map'}], 'javaClass': 'java.util.List'}, 'structureType': 'FIELD', 'javaClass': 'com.jein.framework.connectivity.parameter.InParameter', 'paramName': 'flightSearch'}], 'javaClass': 'java.util.List'}, 'sourceExtension': None}] , \n"
     ]
    },
    {
     "name": "stderr",
     "output_type": "stream",
     "text": [
      "2017-08-09 08:43:53,228 root     DEBUG    Crawling eastarjet homepage schedule site\n"
     ]
    },
    {
     "name": "stdout",
     "output_type": "stream",
     "text": [
      "End Json Payload crawling\n",
      "Start Json Payload crawling :  https://www.eastarjet.com/json/dataService\n",
      ">> Parameters\n",
      "id:2 , method:DataService.service , params:[{'functionName': 'DTWBA00022', 'methodType': None, 'requestExecuteType': 'BIZ', 'requestUniqueCode': 'PGWBA00002', 'DBTransaction': False, 'filterParameter': {'javaClass': 'java.util.Map', 'map': {}}, 'panelId': None, 'sourceName': None, 'javaClass': 'com.jein.framework.connectivity.parameter.RequestParameter', 'inParameters': {'list': [{'ioType': 'IN', 'data': {'list': [{'map': {'flightSearch': '{\"viewType\":\"\",\"fly_type\":\"2\",\"person1\":\"1\",\"person2\":\"0\",\"person3\":\"0\",    \"residentCountry\":\"KR\",\"currency\":\"\",\"promotion_cd\":\"\",    \"flySection\":[{\"departure_cd\":\"NRT\",\"arrival_cd\":\"ICN\",\"departure_date_cd\":\"20170811\"}]}'}, 'javaClass': 'java.util.Map'}], 'javaClass': 'java.util.List'}, 'structureType': 'FIELD', 'javaClass': 'com.jein.framework.connectivity.parameter.InParameter', 'paramName': 'flightSearch'}], 'javaClass': 'java.util.List'}, 'sourceExtension': None}] , \n"
     ]
    },
    {
     "name": "stderr",
     "output_type": "stream",
     "text": [
      "2017-08-09 08:43:55,329 root     DEBUG    Crawling eastarjet homepage schedule site\n"
     ]
    },
    {
     "name": "stdout",
     "output_type": "stream",
     "text": [
      "End Json Payload crawling\n",
      "Start Json Payload crawling :  https://www.eastarjet.com/json/dataService\n",
      ">> Parameters\n",
      "id:2 , method:DataService.service , params:[{'functionName': 'DTWBA00022', 'methodType': None, 'requestExecuteType': 'BIZ', 'requestUniqueCode': 'PGWBA00002', 'DBTransaction': False, 'filterParameter': {'javaClass': 'java.util.Map', 'map': {}}, 'panelId': None, 'sourceName': None, 'javaClass': 'com.jein.framework.connectivity.parameter.RequestParameter', 'inParameters': {'list': [{'ioType': 'IN', 'data': {'list': [{'map': {'flightSearch': '{\"viewType\":\"\",\"fly_type\":\"2\",\"person1\":\"1\",\"person2\":\"0\",\"person3\":\"0\",    \"residentCountry\":\"KR\",\"currency\":\"\",\"promotion_cd\":\"\",    \"flySection\":[{\"departure_cd\":\"NRT\",\"arrival_cd\":\"ICN\",\"departure_date_cd\":\"20170812\"}]}'}, 'javaClass': 'java.util.Map'}], 'javaClass': 'java.util.List'}, 'structureType': 'FIELD', 'javaClass': 'com.jein.framework.connectivity.parameter.InParameter', 'paramName': 'flightSearch'}], 'javaClass': 'java.util.List'}, 'sourceExtension': None}] , \n"
     ]
    },
    {
     "name": "stderr",
     "output_type": "stream",
     "text": [
      "2017-08-09 08:43:57,619 root     DEBUG    Crawling eastarjet homepage schedule site\n"
     ]
    },
    {
     "name": "stdout",
     "output_type": "stream",
     "text": [
      "End Json Payload crawling\n",
      "Start Json Payload crawling :  https://www.eastarjet.com/json/dataService\n",
      ">> Parameters\n",
      "id:2 , method:DataService.service , params:[{'functionName': 'DTWBA00022', 'methodType': None, 'requestExecuteType': 'BIZ', 'requestUniqueCode': 'PGWBA00002', 'DBTransaction': False, 'filterParameter': {'javaClass': 'java.util.Map', 'map': {}}, 'panelId': None, 'sourceName': None, 'javaClass': 'com.jein.framework.connectivity.parameter.RequestParameter', 'inParameters': {'list': [{'ioType': 'IN', 'data': {'list': [{'map': {'flightSearch': '{\"viewType\":\"\",\"fly_type\":\"2\",\"person1\":\"1\",\"person2\":\"0\",\"person3\":\"0\",    \"residentCountry\":\"KR\",\"currency\":\"\",\"promotion_cd\":\"\",    \"flySection\":[{\"departure_cd\":\"NRT\",\"arrival_cd\":\"ICN\",\"departure_date_cd\":\"20170813\"}]}'}, 'javaClass': 'java.util.Map'}], 'javaClass': 'java.util.List'}, 'structureType': 'FIELD', 'javaClass': 'com.jein.framework.connectivity.parameter.InParameter', 'paramName': 'flightSearch'}], 'javaClass': 'java.util.List'}, 'sourceExtension': None}] , \n"
     ]
    },
    {
     "name": "stderr",
     "output_type": "stream",
     "text": [
      "2017-08-09 08:43:59,752 root     DEBUG    Crawling eastarjet homepage schedule site\n"
     ]
    },
    {
     "name": "stdout",
     "output_type": "stream",
     "text": [
      "End Json Payload crawling\n",
      "Start Json Payload crawling :  https://www.eastarjet.com/json/dataService\n",
      ">> Parameters\n",
      "id:2 , method:DataService.service , params:[{'functionName': 'DTWBA00022', 'methodType': None, 'requestExecuteType': 'BIZ', 'requestUniqueCode': 'PGWBA00002', 'DBTransaction': False, 'filterParameter': {'javaClass': 'java.util.Map', 'map': {}}, 'panelId': None, 'sourceName': None, 'javaClass': 'com.jein.framework.connectivity.parameter.RequestParameter', 'inParameters': {'list': [{'ioType': 'IN', 'data': {'list': [{'map': {'flightSearch': '{\"viewType\":\"\",\"fly_type\":\"2\",\"person1\":\"1\",\"person2\":\"0\",\"person3\":\"0\",    \"residentCountry\":\"KR\",\"currency\":\"\",\"promotion_cd\":\"\",    \"flySection\":[{\"departure_cd\":\"NRT\",\"arrival_cd\":\"ICN\",\"departure_date_cd\":\"20170814\"}]}'}, 'javaClass': 'java.util.Map'}], 'javaClass': 'java.util.List'}, 'structureType': 'FIELD', 'javaClass': 'com.jein.framework.connectivity.parameter.InParameter', 'paramName': 'flightSearch'}], 'javaClass': 'java.util.List'}, 'sourceExtension': None}] , \n"
     ]
    },
    {
     "name": "stderr",
     "output_type": "stream",
     "text": [
      "2017-08-09 08:44:01,970 root     DEBUG    Crawling eastarjet homepage schedule site\n"
     ]
    },
    {
     "name": "stdout",
     "output_type": "stream",
     "text": [
      "End Json Payload crawling\n",
      "Start Json Payload crawling :  https://www.eastarjet.com/json/dataService\n",
      ">> Parameters\n",
      "id:2 , method:DataService.service , params:[{'functionName': 'DTWBA00022', 'methodType': None, 'requestExecuteType': 'BIZ', 'requestUniqueCode': 'PGWBA00002', 'DBTransaction': False, 'filterParameter': {'javaClass': 'java.util.Map', 'map': {}}, 'panelId': None, 'sourceName': None, 'javaClass': 'com.jein.framework.connectivity.parameter.RequestParameter', 'inParameters': {'list': [{'ioType': 'IN', 'data': {'list': [{'map': {'flightSearch': '{\"viewType\":\"\",\"fly_type\":\"2\",\"person1\":\"1\",\"person2\":\"0\",\"person3\":\"0\",    \"residentCountry\":\"KR\",\"currency\":\"\",\"promotion_cd\":\"\",    \"flySection\":[{\"departure_cd\":\"NRT\",\"arrival_cd\":\"ICN\",\"departure_date_cd\":\"20170815\"}]}'}, 'javaClass': 'java.util.Map'}], 'javaClass': 'java.util.List'}, 'structureType': 'FIELD', 'javaClass': 'com.jein.framework.connectivity.parameter.InParameter', 'paramName': 'flightSearch'}], 'javaClass': 'java.util.List'}, 'sourceExtension': None}] , \n"
     ]
    },
    {
     "name": "stderr",
     "output_type": "stream",
     "text": [
      "2017-08-09 08:44:04,266 root     DEBUG    Crawling eastarjet homepage schedule site\n"
     ]
    },
    {
     "name": "stdout",
     "output_type": "stream",
     "text": [
      "End Json Payload crawling\n",
      "Start Json Payload crawling :  https://www.eastarjet.com/json/dataService\n",
      ">> Parameters\n",
      "id:2 , method:DataService.service , params:[{'functionName': 'DTWBA00022', 'methodType': None, 'requestExecuteType': 'BIZ', 'requestUniqueCode': 'PGWBA00002', 'DBTransaction': False, 'filterParameter': {'javaClass': 'java.util.Map', 'map': {}}, 'panelId': None, 'sourceName': None, 'javaClass': 'com.jein.framework.connectivity.parameter.RequestParameter', 'inParameters': {'list': [{'ioType': 'IN', 'data': {'list': [{'map': {'flightSearch': '{\"viewType\":\"\",\"fly_type\":\"2\",\"person1\":\"1\",\"person2\":\"0\",\"person3\":\"0\",    \"residentCountry\":\"KR\",\"currency\":\"\",\"promotion_cd\":\"\",    \"flySection\":[{\"departure_cd\":\"NRT\",\"arrival_cd\":\"ICN\",\"departure_date_cd\":\"20170816\"}]}'}, 'javaClass': 'java.util.Map'}], 'javaClass': 'java.util.List'}, 'structureType': 'FIELD', 'javaClass': 'com.jein.framework.connectivity.parameter.InParameter', 'paramName': 'flightSearch'}], 'javaClass': 'java.util.List'}, 'sourceExtension': None}] , \n"
     ]
    },
    {
     "name": "stderr",
     "output_type": "stream",
     "text": [
      "2017-08-09 08:44:06,575 root     DEBUG    Crawling eastarjet homepage schedule site\n"
     ]
    },
    {
     "name": "stdout",
     "output_type": "stream",
     "text": [
      "End Json Payload crawling\n",
      "Start Json Payload crawling :  https://www.eastarjet.com/json/dataService\n",
      ">> Parameters\n",
      "id:2 , method:DataService.service , params:[{'functionName': 'DTWBA00022', 'methodType': None, 'requestExecuteType': 'BIZ', 'requestUniqueCode': 'PGWBA00002', 'DBTransaction': False, 'filterParameter': {'javaClass': 'java.util.Map', 'map': {}}, 'panelId': None, 'sourceName': None, 'javaClass': 'com.jein.framework.connectivity.parameter.RequestParameter', 'inParameters': {'list': [{'ioType': 'IN', 'data': {'list': [{'map': {'flightSearch': '{\"viewType\":\"\",\"fly_type\":\"2\",\"person1\":\"1\",\"person2\":\"0\",\"person3\":\"0\",    \"residentCountry\":\"KR\",\"currency\":\"\",\"promotion_cd\":\"\",    \"flySection\":[{\"departure_cd\":\"NRT\",\"arrival_cd\":\"ICN\",\"departure_date_cd\":\"20170817\"}]}'}, 'javaClass': 'java.util.Map'}], 'javaClass': 'java.util.List'}, 'structureType': 'FIELD', 'javaClass': 'com.jein.framework.connectivity.parameter.InParameter', 'paramName': 'flightSearch'}], 'javaClass': 'java.util.List'}, 'sourceExtension': None}] , \n"
     ]
    },
    {
     "name": "stderr",
     "output_type": "stream",
     "text": [
      "2017-08-09 08:44:08,982 root     DEBUG    Crawling eastarjet homepage schedule site\n"
     ]
    },
    {
     "name": "stdout",
     "output_type": "stream",
     "text": [
      "End Json Payload crawling\n",
      "Start Json Payload crawling :  https://www.eastarjet.com/json/dataService\n",
      ">> Parameters\n",
      "id:2 , method:DataService.service , params:[{'functionName': 'DTWBA00022', 'methodType': None, 'requestExecuteType': 'BIZ', 'requestUniqueCode': 'PGWBA00002', 'DBTransaction': False, 'filterParameter': {'javaClass': 'java.util.Map', 'map': {}}, 'panelId': None, 'sourceName': None, 'javaClass': 'com.jein.framework.connectivity.parameter.RequestParameter', 'inParameters': {'list': [{'ioType': 'IN', 'data': {'list': [{'map': {'flightSearch': '{\"viewType\":\"\",\"fly_type\":\"2\",\"person1\":\"1\",\"person2\":\"0\",\"person3\":\"0\",    \"residentCountry\":\"KR\",\"currency\":\"\",\"promotion_cd\":\"\",    \"flySection\":[{\"departure_cd\":\"NRT\",\"arrival_cd\":\"ICN\",\"departure_date_cd\":\"20170818\"}]}'}, 'javaClass': 'java.util.Map'}], 'javaClass': 'java.util.List'}, 'structureType': 'FIELD', 'javaClass': 'com.jein.framework.connectivity.parameter.InParameter', 'paramName': 'flightSearch'}], 'javaClass': 'java.util.List'}, 'sourceExtension': None}] , \n"
     ]
    },
    {
     "name": "stderr",
     "output_type": "stream",
     "text": [
      "2017-08-09 08:44:11,241 root     DEBUG    Crawling eastarjet homepage schedule site\n"
     ]
    },
    {
     "name": "stdout",
     "output_type": "stream",
     "text": [
      "End Json Payload crawling\n",
      "Start Json Payload crawling :  https://www.eastarjet.com/json/dataService\n",
      ">> Parameters\n",
      "id:2 , method:DataService.service , params:[{'functionName': 'DTWBA00022', 'methodType': None, 'requestExecuteType': 'BIZ', 'requestUniqueCode': 'PGWBA00002', 'DBTransaction': False, 'filterParameter': {'javaClass': 'java.util.Map', 'map': {}}, 'panelId': None, 'sourceName': None, 'javaClass': 'com.jein.framework.connectivity.parameter.RequestParameter', 'inParameters': {'list': [{'ioType': 'IN', 'data': {'list': [{'map': {'flightSearch': '{\"viewType\":\"\",\"fly_type\":\"2\",\"person1\":\"1\",\"person2\":\"0\",\"person3\":\"0\",    \"residentCountry\":\"KR\",\"currency\":\"\",\"promotion_cd\":\"\",    \"flySection\":[{\"departure_cd\":\"NRT\",\"arrival_cd\":\"ICN\",\"departure_date_cd\":\"20170819\"}]}'}, 'javaClass': 'java.util.Map'}], 'javaClass': 'java.util.List'}, 'structureType': 'FIELD', 'javaClass': 'com.jein.framework.connectivity.parameter.InParameter', 'paramName': 'flightSearch'}], 'javaClass': 'java.util.List'}, 'sourceExtension': None}] , \n"
     ]
    },
    {
     "name": "stderr",
     "output_type": "stream",
     "text": [
      "2017-08-09 08:44:13,757 root     DEBUG    Crawling eastarjet homepage schedule site\n"
     ]
    },
    {
     "name": "stdout",
     "output_type": "stream",
     "text": [
      "End Json Payload crawling\n",
      "Start Json Payload crawling :  https://www.eastarjet.com/json/dataService\n",
      ">> Parameters\n",
      "id:2 , method:DataService.service , params:[{'functionName': 'DTWBA00022', 'methodType': None, 'requestExecuteType': 'BIZ', 'requestUniqueCode': 'PGWBA00002', 'DBTransaction': False, 'filterParameter': {'javaClass': 'java.util.Map', 'map': {}}, 'panelId': None, 'sourceName': None, 'javaClass': 'com.jein.framework.connectivity.parameter.RequestParameter', 'inParameters': {'list': [{'ioType': 'IN', 'data': {'list': [{'map': {'flightSearch': '{\"viewType\":\"\",\"fly_type\":\"2\",\"person1\":\"1\",\"person2\":\"0\",\"person3\":\"0\",    \"residentCountry\":\"KR\",\"currency\":\"\",\"promotion_cd\":\"\",    \"flySection\":[{\"departure_cd\":\"NRT\",\"arrival_cd\":\"ICN\",\"departure_date_cd\":\"20170820\"}]}'}, 'javaClass': 'java.util.Map'}], 'javaClass': 'java.util.List'}, 'structureType': 'FIELD', 'javaClass': 'com.jein.framework.connectivity.parameter.InParameter', 'paramName': 'flightSearch'}], 'javaClass': 'java.util.List'}, 'sourceExtension': None}] , \n"
     ]
    },
    {
     "name": "stderr",
     "output_type": "stream",
     "text": [
      "2017-08-09 08:44:16,010 root     DEBUG    Crawling eastarjet homepage schedule site\n"
     ]
    },
    {
     "name": "stdout",
     "output_type": "stream",
     "text": [
      "End Json Payload crawling\n",
      "Start Json Payload crawling :  https://www.eastarjet.com/json/dataService\n",
      ">> Parameters\n",
      "id:2 , method:DataService.service , params:[{'functionName': 'DTWBA00022', 'methodType': None, 'requestExecuteType': 'BIZ', 'requestUniqueCode': 'PGWBA00002', 'DBTransaction': False, 'filterParameter': {'javaClass': 'java.util.Map', 'map': {}}, 'panelId': None, 'sourceName': None, 'javaClass': 'com.jein.framework.connectivity.parameter.RequestParameter', 'inParameters': {'list': [{'ioType': 'IN', 'data': {'list': [{'map': {'flightSearch': '{\"viewType\":\"\",\"fly_type\":\"2\",\"person1\":\"1\",\"person2\":\"0\",\"person3\":\"0\",    \"residentCountry\":\"KR\",\"currency\":\"\",\"promotion_cd\":\"\",    \"flySection\":[{\"departure_cd\":\"NRT\",\"arrival_cd\":\"ICN\",\"departure_date_cd\":\"20170821\"}]}'}, 'javaClass': 'java.util.Map'}], 'javaClass': 'java.util.List'}, 'structureType': 'FIELD', 'javaClass': 'com.jein.framework.connectivity.parameter.InParameter', 'paramName': 'flightSearch'}], 'javaClass': 'java.util.List'}, 'sourceExtension': None}] , \n"
     ]
    },
    {
     "name": "stderr",
     "output_type": "stream",
     "text": [
      "2017-08-09 08:44:18,257 root     DEBUG    Crawling eastarjet homepage schedule site\n"
     ]
    },
    {
     "name": "stdout",
     "output_type": "stream",
     "text": [
      "End Json Payload crawling\n",
      "Start Json Payload crawling :  https://www.eastarjet.com/json/dataService\n",
      ">> Parameters\n",
      "id:2 , method:DataService.service , params:[{'functionName': 'DTWBA00022', 'methodType': None, 'requestExecuteType': 'BIZ', 'requestUniqueCode': 'PGWBA00002', 'DBTransaction': False, 'filterParameter': {'javaClass': 'java.util.Map', 'map': {}}, 'panelId': None, 'sourceName': None, 'javaClass': 'com.jein.framework.connectivity.parameter.RequestParameter', 'inParameters': {'list': [{'ioType': 'IN', 'data': {'list': [{'map': {'flightSearch': '{\"viewType\":\"\",\"fly_type\":\"2\",\"person1\":\"1\",\"person2\":\"0\",\"person3\":\"0\",    \"residentCountry\":\"KR\",\"currency\":\"\",\"promotion_cd\":\"\",    \"flySection\":[{\"departure_cd\":\"NRT\",\"arrival_cd\":\"ICN\",\"departure_date_cd\":\"20170822\"}]}'}, 'javaClass': 'java.util.Map'}], 'javaClass': 'java.util.List'}, 'structureType': 'FIELD', 'javaClass': 'com.jein.framework.connectivity.parameter.InParameter', 'paramName': 'flightSearch'}], 'javaClass': 'java.util.List'}, 'sourceExtension': None}] , \n"
     ]
    },
    {
     "name": "stderr",
     "output_type": "stream",
     "text": [
      "2017-08-09 08:44:20,611 root     DEBUG    Crawling eastarjet homepage schedule site\n"
     ]
    },
    {
     "name": "stdout",
     "output_type": "stream",
     "text": [
      "End Json Payload crawling\n",
      "Start Json Payload crawling :  https://www.eastarjet.com/json/dataService\n",
      ">> Parameters\n",
      "id:2 , method:DataService.service , params:[{'functionName': 'DTWBA00022', 'methodType': None, 'requestExecuteType': 'BIZ', 'requestUniqueCode': 'PGWBA00002', 'DBTransaction': False, 'filterParameter': {'javaClass': 'java.util.Map', 'map': {}}, 'panelId': None, 'sourceName': None, 'javaClass': 'com.jein.framework.connectivity.parameter.RequestParameter', 'inParameters': {'list': [{'ioType': 'IN', 'data': {'list': [{'map': {'flightSearch': '{\"viewType\":\"\",\"fly_type\":\"2\",\"person1\":\"1\",\"person2\":\"0\",\"person3\":\"0\",    \"residentCountry\":\"KR\",\"currency\":\"\",\"promotion_cd\":\"\",    \"flySection\":[{\"departure_cd\":\"NRT\",\"arrival_cd\":\"ICN\",\"departure_date_cd\":\"20170823\"}]}'}, 'javaClass': 'java.util.Map'}], 'javaClass': 'java.util.List'}, 'structureType': 'FIELD', 'javaClass': 'com.jein.framework.connectivity.parameter.InParameter', 'paramName': 'flightSearch'}], 'javaClass': 'java.util.List'}, 'sourceExtension': None}] , \n"
     ]
    },
    {
     "name": "stderr",
     "output_type": "stream",
     "text": [
      "2017-08-09 08:44:22,985 root     DEBUG    Crawling eastarjet homepage schedule site\n"
     ]
    },
    {
     "name": "stdout",
     "output_type": "stream",
     "text": [
      "End Json Payload crawling\n",
      "Start Json Payload crawling :  https://www.eastarjet.com/json/dataService\n",
      ">> Parameters\n",
      "id:2 , method:DataService.service , params:[{'functionName': 'DTWBA00022', 'methodType': None, 'requestExecuteType': 'BIZ', 'requestUniqueCode': 'PGWBA00002', 'DBTransaction': False, 'filterParameter': {'javaClass': 'java.util.Map', 'map': {}}, 'panelId': None, 'sourceName': None, 'javaClass': 'com.jein.framework.connectivity.parameter.RequestParameter', 'inParameters': {'list': [{'ioType': 'IN', 'data': {'list': [{'map': {'flightSearch': '{\"viewType\":\"\",\"fly_type\":\"2\",\"person1\":\"1\",\"person2\":\"0\",\"person3\":\"0\",    \"residentCountry\":\"KR\",\"currency\":\"\",\"promotion_cd\":\"\",    \"flySection\":[{\"departure_cd\":\"NRT\",\"arrival_cd\":\"ICN\",\"departure_date_cd\":\"20170824\"}]}'}, 'javaClass': 'java.util.Map'}], 'javaClass': 'java.util.List'}, 'structureType': 'FIELD', 'javaClass': 'com.jein.framework.connectivity.parameter.InParameter', 'paramName': 'flightSearch'}], 'javaClass': 'java.util.List'}, 'sourceExtension': None}] , \n"
     ]
    },
    {
     "name": "stderr",
     "output_type": "stream",
     "text": [
      "2017-08-09 08:44:25,387 root     DEBUG    Crawling eastarjet homepage schedule site\n"
     ]
    },
    {
     "name": "stdout",
     "output_type": "stream",
     "text": [
      "End Json Payload crawling\n",
      "Start Json Payload crawling :  https://www.eastarjet.com/json/dataService\n",
      ">> Parameters\n",
      "id:2 , method:DataService.service , params:[{'functionName': 'DTWBA00022', 'methodType': None, 'requestExecuteType': 'BIZ', 'requestUniqueCode': 'PGWBA00002', 'DBTransaction': False, 'filterParameter': {'javaClass': 'java.util.Map', 'map': {}}, 'panelId': None, 'sourceName': None, 'javaClass': 'com.jein.framework.connectivity.parameter.RequestParameter', 'inParameters': {'list': [{'ioType': 'IN', 'data': {'list': [{'map': {'flightSearch': '{\"viewType\":\"\",\"fly_type\":\"2\",\"person1\":\"1\",\"person2\":\"0\",\"person3\":\"0\",    \"residentCountry\":\"KR\",\"currency\":\"\",\"promotion_cd\":\"\",    \"flySection\":[{\"departure_cd\":\"NRT\",\"arrival_cd\":\"ICN\",\"departure_date_cd\":\"20170825\"}]}'}, 'javaClass': 'java.util.Map'}], 'javaClass': 'java.util.List'}, 'structureType': 'FIELD', 'javaClass': 'com.jein.framework.connectivity.parameter.InParameter', 'paramName': 'flightSearch'}], 'javaClass': 'java.util.List'}, 'sourceExtension': None}] , \n"
     ]
    },
    {
     "name": "stderr",
     "output_type": "stream",
     "text": [
      "2017-08-09 08:44:27,375 root     DEBUG    Crawling eastarjet homepage schedule site\n"
     ]
    },
    {
     "name": "stdout",
     "output_type": "stream",
     "text": [
      "End Json Payload crawling\n",
      "Start Json Payload crawling :  https://www.eastarjet.com/json/dataService\n",
      ">> Parameters\n",
      "id:2 , method:DataService.service , params:[{'functionName': 'DTWBA00022', 'methodType': None, 'requestExecuteType': 'BIZ', 'requestUniqueCode': 'PGWBA00002', 'DBTransaction': False, 'filterParameter': {'javaClass': 'java.util.Map', 'map': {}}, 'panelId': None, 'sourceName': None, 'javaClass': 'com.jein.framework.connectivity.parameter.RequestParameter', 'inParameters': {'list': [{'ioType': 'IN', 'data': {'list': [{'map': {'flightSearch': '{\"viewType\":\"\",\"fly_type\":\"2\",\"person1\":\"1\",\"person2\":\"0\",\"person3\":\"0\",    \"residentCountry\":\"KR\",\"currency\":\"\",\"promotion_cd\":\"\",    \"flySection\":[{\"departure_cd\":\"NRT\",\"arrival_cd\":\"ICN\",\"departure_date_cd\":\"20170826\"}]}'}, 'javaClass': 'java.util.Map'}], 'javaClass': 'java.util.List'}, 'structureType': 'FIELD', 'javaClass': 'com.jein.framework.connectivity.parameter.InParameter', 'paramName': 'flightSearch'}], 'javaClass': 'java.util.List'}, 'sourceExtension': None}] , \n"
     ]
    },
    {
     "name": "stderr",
     "output_type": "stream",
     "text": [
      "2017-08-09 08:44:29,789 root     DEBUG    Crawling eastarjet homepage schedule site\n"
     ]
    },
    {
     "name": "stdout",
     "output_type": "stream",
     "text": [
      "End Json Payload crawling\n",
      "Start Json Payload crawling :  https://www.eastarjet.com/json/dataService\n",
      ">> Parameters\n",
      "id:2 , method:DataService.service , params:[{'functionName': 'DTWBA00022', 'methodType': None, 'requestExecuteType': 'BIZ', 'requestUniqueCode': 'PGWBA00002', 'DBTransaction': False, 'filterParameter': {'javaClass': 'java.util.Map', 'map': {}}, 'panelId': None, 'sourceName': None, 'javaClass': 'com.jein.framework.connectivity.parameter.RequestParameter', 'inParameters': {'list': [{'ioType': 'IN', 'data': {'list': [{'map': {'flightSearch': '{\"viewType\":\"\",\"fly_type\":\"2\",\"person1\":\"1\",\"person2\":\"0\",\"person3\":\"0\",    \"residentCountry\":\"KR\",\"currency\":\"\",\"promotion_cd\":\"\",    \"flySection\":[{\"departure_cd\":\"NRT\",\"arrival_cd\":\"ICN\",\"departure_date_cd\":\"20170827\"}]}'}, 'javaClass': 'java.util.Map'}], 'javaClass': 'java.util.List'}, 'structureType': 'FIELD', 'javaClass': 'com.jein.framework.connectivity.parameter.InParameter', 'paramName': 'flightSearch'}], 'javaClass': 'java.util.List'}, 'sourceExtension': None}] , \n"
     ]
    },
    {
     "name": "stderr",
     "output_type": "stream",
     "text": [
      "2017-08-09 08:44:32,041 root     DEBUG    Crawling eastarjet homepage schedule site\n"
     ]
    },
    {
     "name": "stdout",
     "output_type": "stream",
     "text": [
      "End Json Payload crawling\n",
      "Start Json Payload crawling :  https://www.eastarjet.com/json/dataService\n",
      ">> Parameters\n",
      "id:2 , method:DataService.service , params:[{'functionName': 'DTWBA00022', 'methodType': None, 'requestExecuteType': 'BIZ', 'requestUniqueCode': 'PGWBA00002', 'DBTransaction': False, 'filterParameter': {'javaClass': 'java.util.Map', 'map': {}}, 'panelId': None, 'sourceName': None, 'javaClass': 'com.jein.framework.connectivity.parameter.RequestParameter', 'inParameters': {'list': [{'ioType': 'IN', 'data': {'list': [{'map': {'flightSearch': '{\"viewType\":\"\",\"fly_type\":\"2\",\"person1\":\"1\",\"person2\":\"0\",\"person3\":\"0\",    \"residentCountry\":\"KR\",\"currency\":\"\",\"promotion_cd\":\"\",    \"flySection\":[{\"departure_cd\":\"NRT\",\"arrival_cd\":\"ICN\",\"departure_date_cd\":\"20170828\"}]}'}, 'javaClass': 'java.util.Map'}], 'javaClass': 'java.util.List'}, 'structureType': 'FIELD', 'javaClass': 'com.jein.framework.connectivity.parameter.InParameter', 'paramName': 'flightSearch'}], 'javaClass': 'java.util.List'}, 'sourceExtension': None}] , \n"
     ]
    },
    {
     "name": "stderr",
     "output_type": "stream",
     "text": [
      "2017-08-09 08:44:34,467 root     DEBUG    Crawling eastarjet homepage schedule site\n"
     ]
    },
    {
     "name": "stdout",
     "output_type": "stream",
     "text": [
      "End Json Payload crawling\n",
      "Start Json Payload crawling :  https://www.eastarjet.com/json/dataService\n",
      ">> Parameters\n",
      "id:2 , method:DataService.service , params:[{'functionName': 'DTWBA00022', 'methodType': None, 'requestExecuteType': 'BIZ', 'requestUniqueCode': 'PGWBA00002', 'DBTransaction': False, 'filterParameter': {'javaClass': 'java.util.Map', 'map': {}}, 'panelId': None, 'sourceName': None, 'javaClass': 'com.jein.framework.connectivity.parameter.RequestParameter', 'inParameters': {'list': [{'ioType': 'IN', 'data': {'list': [{'map': {'flightSearch': '{\"viewType\":\"\",\"fly_type\":\"2\",\"person1\":\"1\",\"person2\":\"0\",\"person3\":\"0\",    \"residentCountry\":\"KR\",\"currency\":\"\",\"promotion_cd\":\"\",    \"flySection\":[{\"departure_cd\":\"NRT\",\"arrival_cd\":\"ICN\",\"departure_date_cd\":\"20170829\"}]}'}, 'javaClass': 'java.util.Map'}], 'javaClass': 'java.util.List'}, 'structureType': 'FIELD', 'javaClass': 'com.jein.framework.connectivity.parameter.InParameter', 'paramName': 'flightSearch'}], 'javaClass': 'java.util.List'}, 'sourceExtension': None}] , \n"
     ]
    },
    {
     "name": "stderr",
     "output_type": "stream",
     "text": [
      "2017-08-09 08:44:36,967 root     DEBUG    Crawling eastarjet homepage schedule site\n"
     ]
    },
    {
     "name": "stdout",
     "output_type": "stream",
     "text": [
      "End Json Payload crawling\n",
      "Start Json Payload crawling :  https://www.eastarjet.com/json/dataService\n",
      ">> Parameters\n",
      "id:2 , method:DataService.service , params:[{'functionName': 'DTWBA00022', 'methodType': None, 'requestExecuteType': 'BIZ', 'requestUniqueCode': 'PGWBA00002', 'DBTransaction': False, 'filterParameter': {'javaClass': 'java.util.Map', 'map': {}}, 'panelId': None, 'sourceName': None, 'javaClass': 'com.jein.framework.connectivity.parameter.RequestParameter', 'inParameters': {'list': [{'ioType': 'IN', 'data': {'list': [{'map': {'flightSearch': '{\"viewType\":\"\",\"fly_type\":\"2\",\"person1\":\"1\",\"person2\":\"0\",\"person3\":\"0\",    \"residentCountry\":\"KR\",\"currency\":\"\",\"promotion_cd\":\"\",    \"flySection\":[{\"departure_cd\":\"NRT\",\"arrival_cd\":\"ICN\",\"departure_date_cd\":\"20170830\"}]}'}, 'javaClass': 'java.util.Map'}], 'javaClass': 'java.util.List'}, 'structureType': 'FIELD', 'javaClass': 'com.jein.framework.connectivity.parameter.InParameter', 'paramName': 'flightSearch'}], 'javaClass': 'java.util.List'}, 'sourceExtension': None}] , \n"
     ]
    },
    {
     "name": "stderr",
     "output_type": "stream",
     "text": [
      "2017-08-09 08:44:39,315 root     INFO     end batch job :: craw_by_route_site :: elapsed -0:00:48.331765 :: Total crawl:21 files saved.\n",
      "2017-08-09 08:44:39,322 root     INFO     start batch job :: craw_by_route_site[NRT,ICN,TW,['20170810', '20170811', '20170812', '20170813', '20170814', '20170815', '20170816', '20170817', '20170818', '20170819', '20170820', '20170821', '20170822', '20170823', '20170824', '20170825', '20170826', '20170827', '20170828', '20170829', '20170830'],TW]\n",
      "2017-08-09 08:44:39,332 root     DEBUG    1 :: TW :: crawling_TW_int :: True\n",
      "2017-08-09 08:44:39,337 root     INFO     <function crawling_TW_int at 0x0000000007FA68C8> :: True\n",
      "2017-08-09 08:44:39,342 root     DEBUG    Crawling twayair homepage schedule site\n"
     ]
    },
    {
     "name": "stdout",
     "output_type": "stream",
     "text": [
      "End Json Payload crawling\n",
      "Start Session crawling\n",
      "make session :  https://www.twayair.com/booking/availabilityList.do\n",
      "crawling :  https://www.twayair.com/booking/ajax/searchAvailability.do\n",
      ">> Parameters\n",
      "today:20170809 , destination2:NRT , destination1:ICN , origin1:NRT , searchType:byDate , onwardDateStr:20170810 , domesticYn:N , promotionCode: , returnDateStr:20170810 , arrivCntryCode: , origin:NRT , orderByRT: , destination:ICN , origin2:ICN , paxTypeCountStr:1,0,0 , orderByOW: , travelType:OW , fareBasisCodeRT: , fareBasisCodeOW: , \n"
     ]
    },
    {
     "name": "stderr",
     "output_type": "stream",
     "text": [
      "2017-08-09 08:44:41,819 root     DEBUG    Crawling twayair homepage schedule site\n"
     ]
    },
    {
     "name": "stdout",
     "output_type": "stream",
     "text": [
      "End Session crawling\n",
      "Start Session crawling\n",
      "make session :  https://www.twayair.com/booking/availabilityList.do\n",
      "crawling :  https://www.twayair.com/booking/ajax/searchAvailability.do\n",
      ">> Parameters\n",
      "today:20170809 , destination2:NRT , destination1:ICN , origin1:NRT , searchType:byDate , onwardDateStr:20170811 , domesticYn:N , promotionCode: , returnDateStr:20170811 , arrivCntryCode: , origin:NRT , orderByRT: , destination:ICN , origin2:ICN , paxTypeCountStr:1,0,0 , orderByOW: , travelType:OW , fareBasisCodeRT: , fareBasisCodeOW: , \n"
     ]
    },
    {
     "name": "stderr",
     "output_type": "stream",
     "text": [
      "2017-08-09 08:44:44,223 root     DEBUG    Crawling twayair homepage schedule site\n"
     ]
    },
    {
     "name": "stdout",
     "output_type": "stream",
     "text": [
      "End Session crawling\n",
      "Start Session crawling\n",
      "make session :  https://www.twayair.com/booking/availabilityList.do\n",
      "crawling :  https://www.twayair.com/booking/ajax/searchAvailability.do\n",
      ">> Parameters\n",
      "today:20170809 , destination2:NRT , destination1:ICN , origin1:NRT , searchType:byDate , onwardDateStr:20170812 , domesticYn:N , promotionCode: , returnDateStr:20170812 , arrivCntryCode: , origin:NRT , orderByRT: , destination:ICN , origin2:ICN , paxTypeCountStr:1,0,0 , orderByOW: , travelType:OW , fareBasisCodeRT: , fareBasisCodeOW: , \n"
     ]
    },
    {
     "name": "stderr",
     "output_type": "stream",
     "text": [
      "2017-08-09 08:44:46,856 root     DEBUG    Crawling twayair homepage schedule site\n"
     ]
    },
    {
     "name": "stdout",
     "output_type": "stream",
     "text": [
      "End Session crawling\n",
      "Start Session crawling\n",
      "make session :  https://www.twayair.com/booking/availabilityList.do\n",
      "crawling :  https://www.twayair.com/booking/ajax/searchAvailability.do\n",
      ">> Parameters\n",
      "today:20170809 , destination2:NRT , destination1:ICN , origin1:NRT , searchType:byDate , onwardDateStr:20170813 , domesticYn:N , promotionCode: , returnDateStr:20170813 , arrivCntryCode: , origin:NRT , orderByRT: , destination:ICN , origin2:ICN , paxTypeCountStr:1,0,0 , orderByOW: , travelType:OW , fareBasisCodeRT: , fareBasisCodeOW: , \n"
     ]
    },
    {
     "name": "stderr",
     "output_type": "stream",
     "text": [
      "2017-08-09 08:44:49,580 root     DEBUG    Crawling twayair homepage schedule site\n"
     ]
    },
    {
     "name": "stdout",
     "output_type": "stream",
     "text": [
      "End Session crawling\n",
      "Start Session crawling\n",
      "make session :  https://www.twayair.com/booking/availabilityList.do\n",
      "crawling :  https://www.twayair.com/booking/ajax/searchAvailability.do\n",
      ">> Parameters\n",
      "today:20170809 , destination2:NRT , destination1:ICN , origin1:NRT , searchType:byDate , onwardDateStr:20170814 , domesticYn:N , promotionCode: , returnDateStr:20170814 , arrivCntryCode: , origin:NRT , orderByRT: , destination:ICN , origin2:ICN , paxTypeCountStr:1,0,0 , orderByOW: , travelType:OW , fareBasisCodeRT: , fareBasisCodeOW: , \n"
     ]
    },
    {
     "name": "stderr",
     "output_type": "stream",
     "text": [
      "2017-08-09 08:44:52,336 root     DEBUG    Crawling twayair homepage schedule site\n"
     ]
    },
    {
     "name": "stdout",
     "output_type": "stream",
     "text": [
      "End Session crawling\n",
      "Start Session crawling\n",
      "make session :  https://www.twayair.com/booking/availabilityList.do\n",
      "crawling :  https://www.twayair.com/booking/ajax/searchAvailability.do\n",
      ">> Parameters\n",
      "today:20170809 , destination2:NRT , destination1:ICN , origin1:NRT , searchType:byDate , onwardDateStr:20170815 , domesticYn:N , promotionCode: , returnDateStr:20170815 , arrivCntryCode: , origin:NRT , orderByRT: , destination:ICN , origin2:ICN , paxTypeCountStr:1,0,0 , orderByOW: , travelType:OW , fareBasisCodeRT: , fareBasisCodeOW: , \n"
     ]
    },
    {
     "name": "stderr",
     "output_type": "stream",
     "text": [
      "2017-08-09 08:44:54,909 root     DEBUG    Crawling twayair homepage schedule site\n"
     ]
    },
    {
     "name": "stdout",
     "output_type": "stream",
     "text": [
      "End Session crawling\n",
      "Start Session crawling\n",
      "make session :  https://www.twayair.com/booking/availabilityList.do\n",
      "crawling :  https://www.twayair.com/booking/ajax/searchAvailability.do\n",
      ">> Parameters\n",
      "today:20170809 , destination2:NRT , destination1:ICN , origin1:NRT , searchType:byDate , onwardDateStr:20170816 , domesticYn:N , promotionCode: , returnDateStr:20170816 , arrivCntryCode: , origin:NRT , orderByRT: , destination:ICN , origin2:ICN , paxTypeCountStr:1,0,0 , orderByOW: , travelType:OW , fareBasisCodeRT: , fareBasisCodeOW: , \n"
     ]
    },
    {
     "name": "stderr",
     "output_type": "stream",
     "text": [
      "2017-08-09 08:44:57,440 root     DEBUG    Crawling twayair homepage schedule site\n"
     ]
    },
    {
     "name": "stdout",
     "output_type": "stream",
     "text": [
      "End Session crawling\n",
      "Start Session crawling\n",
      "make session :  https://www.twayair.com/booking/availabilityList.do\n",
      "crawling :  https://www.twayair.com/booking/ajax/searchAvailability.do\n",
      ">> Parameters\n",
      "today:20170809 , destination2:NRT , destination1:ICN , origin1:NRT , searchType:byDate , onwardDateStr:20170817 , domesticYn:N , promotionCode: , returnDateStr:20170817 , arrivCntryCode: , origin:NRT , orderByRT: , destination:ICN , origin2:ICN , paxTypeCountStr:1,0,0 , orderByOW: , travelType:OW , fareBasisCodeRT: , fareBasisCodeOW: , \n"
     ]
    },
    {
     "name": "stderr",
     "output_type": "stream",
     "text": [
      "2017-08-09 08:44:59,898 root     DEBUG    Crawling twayair homepage schedule site\n"
     ]
    },
    {
     "name": "stdout",
     "output_type": "stream",
     "text": [
      "End Session crawling\n",
      "Start Session crawling\n",
      "make session :  https://www.twayair.com/booking/availabilityList.do\n",
      "crawling :  https://www.twayair.com/booking/ajax/searchAvailability.do\n",
      ">> Parameters\n",
      "today:20170809 , destination2:NRT , destination1:ICN , origin1:NRT , searchType:byDate , onwardDateStr:20170818 , domesticYn:N , promotionCode: , returnDateStr:20170818 , arrivCntryCode: , origin:NRT , orderByRT: , destination:ICN , origin2:ICN , paxTypeCountStr:1,0,0 , orderByOW: , travelType:OW , fareBasisCodeRT: , fareBasisCodeOW: , \n"
     ]
    },
    {
     "name": "stderr",
     "output_type": "stream",
     "text": [
      "2017-08-09 08:45:02,452 root     DEBUG    Crawling twayair homepage schedule site\n"
     ]
    },
    {
     "name": "stdout",
     "output_type": "stream",
     "text": [
      "End Session crawling\n",
      "Start Session crawling\n",
      "make session :  https://www.twayair.com/booking/availabilityList.do\n",
      "crawling :  https://www.twayair.com/booking/ajax/searchAvailability.do\n",
      ">> Parameters\n",
      "today:20170809 , destination2:NRT , destination1:ICN , origin1:NRT , searchType:byDate , onwardDateStr:20170819 , domesticYn:N , promotionCode: , returnDateStr:20170819 , arrivCntryCode: , origin:NRT , orderByRT: , destination:ICN , origin2:ICN , paxTypeCountStr:1,0,0 , orderByOW: , travelType:OW , fareBasisCodeRT: , fareBasisCodeOW: , \n"
     ]
    },
    {
     "name": "stderr",
     "output_type": "stream",
     "text": [
      "2017-08-09 08:45:04,842 root     DEBUG    Crawling twayair homepage schedule site\n"
     ]
    },
    {
     "name": "stdout",
     "output_type": "stream",
     "text": [
      "End Session crawling\n",
      "Start Session crawling\n",
      "make session :  https://www.twayair.com/booking/availabilityList.do\n",
      "crawling :  https://www.twayair.com/booking/ajax/searchAvailability.do\n",
      ">> Parameters\n",
      "today:20170809 , destination2:NRT , destination1:ICN , origin1:NRT , searchType:byDate , onwardDateStr:20170820 , domesticYn:N , promotionCode: , returnDateStr:20170820 , arrivCntryCode: , origin:NRT , orderByRT: , destination:ICN , origin2:ICN , paxTypeCountStr:1,0,0 , orderByOW: , travelType:OW , fareBasisCodeRT: , fareBasisCodeOW: , \n"
     ]
    },
    {
     "name": "stderr",
     "output_type": "stream",
     "text": [
      "2017-08-09 08:45:07,296 root     DEBUG    Crawling twayair homepage schedule site\n"
     ]
    },
    {
     "name": "stdout",
     "output_type": "stream",
     "text": [
      "End Session crawling\n",
      "Start Session crawling\n",
      "make session :  https://www.twayair.com/booking/availabilityList.do\n",
      "crawling :  https://www.twayair.com/booking/ajax/searchAvailability.do\n",
      ">> Parameters\n",
      "today:20170809 , destination2:NRT , destination1:ICN , origin1:NRT , searchType:byDate , onwardDateStr:20170821 , domesticYn:N , promotionCode: , returnDateStr:20170821 , arrivCntryCode: , origin:NRT , orderByRT: , destination:ICN , origin2:ICN , paxTypeCountStr:1,0,0 , orderByOW: , travelType:OW , fareBasisCodeRT: , fareBasisCodeOW: , \n"
     ]
    },
    {
     "name": "stderr",
     "output_type": "stream",
     "text": [
      "2017-08-09 08:45:09,941 root     DEBUG    Crawling twayair homepage schedule site\n"
     ]
    },
    {
     "name": "stdout",
     "output_type": "stream",
     "text": [
      "End Session crawling\n",
      "Start Session crawling\n",
      "make session :  https://www.twayair.com/booking/availabilityList.do\n",
      "crawling :  https://www.twayair.com/booking/ajax/searchAvailability.do\n",
      ">> Parameters\n",
      "today:20170809 , destination2:NRT , destination1:ICN , origin1:NRT , searchType:byDate , onwardDateStr:20170822 , domesticYn:N , promotionCode: , returnDateStr:20170822 , arrivCntryCode: , origin:NRT , orderByRT: , destination:ICN , origin2:ICN , paxTypeCountStr:1,0,0 , orderByOW: , travelType:OW , fareBasisCodeRT: , fareBasisCodeOW: , \n"
     ]
    },
    {
     "name": "stderr",
     "output_type": "stream",
     "text": [
      "2017-08-09 08:45:12,610 root     DEBUG    Crawling twayair homepage schedule site\n"
     ]
    },
    {
     "name": "stdout",
     "output_type": "stream",
     "text": [
      "End Session crawling\n",
      "Start Session crawling\n",
      "make session :  https://www.twayair.com/booking/availabilityList.do\n",
      "crawling :  https://www.twayair.com/booking/ajax/searchAvailability.do\n",
      ">> Parameters\n",
      "today:20170809 , destination2:NRT , destination1:ICN , origin1:NRT , searchType:byDate , onwardDateStr:20170823 , domesticYn:N , promotionCode: , returnDateStr:20170823 , arrivCntryCode: , origin:NRT , orderByRT: , destination:ICN , origin2:ICN , paxTypeCountStr:1,0,0 , orderByOW: , travelType:OW , fareBasisCodeRT: , fareBasisCodeOW: , \n"
     ]
    },
    {
     "name": "stderr",
     "output_type": "stream",
     "text": [
      "2017-08-09 08:45:15,294 root     DEBUG    Crawling twayair homepage schedule site\n"
     ]
    },
    {
     "name": "stdout",
     "output_type": "stream",
     "text": [
      "End Session crawling\n",
      "Start Session crawling\n",
      "make session :  https://www.twayair.com/booking/availabilityList.do\n",
      "crawling :  https://www.twayair.com/booking/ajax/searchAvailability.do\n",
      ">> Parameters\n",
      "today:20170809 , destination2:NRT , destination1:ICN , origin1:NRT , searchType:byDate , onwardDateStr:20170824 , domesticYn:N , promotionCode: , returnDateStr:20170824 , arrivCntryCode: , origin:NRT , orderByRT: , destination:ICN , origin2:ICN , paxTypeCountStr:1,0,0 , orderByOW: , travelType:OW , fareBasisCodeRT: , fareBasisCodeOW: , \n"
     ]
    },
    {
     "name": "stderr",
     "output_type": "stream",
     "text": [
      "2017-08-09 08:45:17,797 root     DEBUG    Crawling twayair homepage schedule site\n"
     ]
    },
    {
     "name": "stdout",
     "output_type": "stream",
     "text": [
      "End Session crawling\n",
      "Start Session crawling\n",
      "make session :  https://www.twayair.com/booking/availabilityList.do\n",
      "crawling :  https://www.twayair.com/booking/ajax/searchAvailability.do\n",
      ">> Parameters\n",
      "today:20170809 , destination2:NRT , destination1:ICN , origin1:NRT , searchType:byDate , onwardDateStr:20170825 , domesticYn:N , promotionCode: , returnDateStr:20170825 , arrivCntryCode: , origin:NRT , orderByRT: , destination:ICN , origin2:ICN , paxTypeCountStr:1,0,0 , orderByOW: , travelType:OW , fareBasisCodeRT: , fareBasisCodeOW: , \n"
     ]
    },
    {
     "name": "stderr",
     "output_type": "stream",
     "text": [
      "2017-08-09 08:45:20,431 root     DEBUG    Crawling twayair homepage schedule site\n"
     ]
    },
    {
     "name": "stdout",
     "output_type": "stream",
     "text": [
      "End Session crawling\n",
      "Start Session crawling\n",
      "make session :  https://www.twayair.com/booking/availabilityList.do\n",
      "crawling :  https://www.twayair.com/booking/ajax/searchAvailability.do\n",
      ">> Parameters\n",
      "today:20170809 , destination2:NRT , destination1:ICN , origin1:NRT , searchType:byDate , onwardDateStr:20170826 , domesticYn:N , promotionCode: , returnDateStr:20170826 , arrivCntryCode: , origin:NRT , orderByRT: , destination:ICN , origin2:ICN , paxTypeCountStr:1,0,0 , orderByOW: , travelType:OW , fareBasisCodeRT: , fareBasisCodeOW: , \n"
     ]
    },
    {
     "name": "stderr",
     "output_type": "stream",
     "text": [
      "2017-08-09 08:45:23,074 root     DEBUG    Crawling twayair homepage schedule site\n"
     ]
    },
    {
     "name": "stdout",
     "output_type": "stream",
     "text": [
      "End Session crawling\n",
      "Start Session crawling\n",
      "make session :  https://www.twayair.com/booking/availabilityList.do\n",
      "crawling :  https://www.twayair.com/booking/ajax/searchAvailability.do\n",
      ">> Parameters\n",
      "today:20170809 , destination2:NRT , destination1:ICN , origin1:NRT , searchType:byDate , onwardDateStr:20170827 , domesticYn:N , promotionCode: , returnDateStr:20170827 , arrivCntryCode: , origin:NRT , orderByRT: , destination:ICN , origin2:ICN , paxTypeCountStr:1,0,0 , orderByOW: , travelType:OW , fareBasisCodeRT: , fareBasisCodeOW: , \n"
     ]
    },
    {
     "name": "stderr",
     "output_type": "stream",
     "text": [
      "2017-08-09 08:45:25,570 root     DEBUG    Crawling twayair homepage schedule site\n"
     ]
    },
    {
     "name": "stdout",
     "output_type": "stream",
     "text": [
      "End Session crawling\n",
      "Start Session crawling\n",
      "make session :  https://www.twayair.com/booking/availabilityList.do\n",
      "crawling :  https://www.twayair.com/booking/ajax/searchAvailability.do\n",
      ">> Parameters\n",
      "today:20170809 , destination2:NRT , destination1:ICN , origin1:NRT , searchType:byDate , onwardDateStr:20170828 , domesticYn:N , promotionCode: , returnDateStr:20170828 , arrivCntryCode: , origin:NRT , orderByRT: , destination:ICN , origin2:ICN , paxTypeCountStr:1,0,0 , orderByOW: , travelType:OW , fareBasisCodeRT: , fareBasisCodeOW: , \n"
     ]
    },
    {
     "name": "stderr",
     "output_type": "stream",
     "text": [
      "2017-08-09 08:45:27,899 root     DEBUG    Crawling twayair homepage schedule site\n"
     ]
    },
    {
     "name": "stdout",
     "output_type": "stream",
     "text": [
      "End Session crawling\n",
      "Start Session crawling\n",
      "make session :  https://www.twayair.com/booking/availabilityList.do\n",
      "crawling :  https://www.twayair.com/booking/ajax/searchAvailability.do\n",
      ">> Parameters\n",
      "today:20170809 , destination2:NRT , destination1:ICN , origin1:NRT , searchType:byDate , onwardDateStr:20170829 , domesticYn:N , promotionCode: , returnDateStr:20170829 , arrivCntryCode: , origin:NRT , orderByRT: , destination:ICN , origin2:ICN , paxTypeCountStr:1,0,0 , orderByOW: , travelType:OW , fareBasisCodeRT: , fareBasisCodeOW: , \n"
     ]
    },
    {
     "name": "stderr",
     "output_type": "stream",
     "text": [
      "2017-08-09 08:45:30,483 root     DEBUG    Crawling twayair homepage schedule site\n"
     ]
    },
    {
     "name": "stdout",
     "output_type": "stream",
     "text": [
      "End Session crawling\n",
      "Start Session crawling\n",
      "make session :  https://www.twayair.com/booking/availabilityList.do\n",
      "crawling :  https://www.twayair.com/booking/ajax/searchAvailability.do\n",
      ">> Parameters\n",
      "today:20170809 , destination2:NRT , destination1:ICN , origin1:NRT , searchType:byDate , onwardDateStr:20170830 , domesticYn:N , promotionCode: , returnDateStr:20170830 , arrivCntryCode: , origin:NRT , orderByRT: , destination:ICN , origin2:ICN , paxTypeCountStr:1,0,0 , orderByOW: , travelType:OW , fareBasisCodeRT: , fareBasisCodeOW: , \n"
     ]
    },
    {
     "name": "stderr",
     "output_type": "stream",
     "text": [
      "2017-08-09 08:45:32,966 root     INFO     end batch job :: craw_by_route_site :: elapsed -0:00:53.635068 :: Total crawl:21 files saved.\n",
      "2017-08-09 08:45:32,971 root     INFO     start batch job :: craw_by_route_site[NRT,ICN,7C,['20170810', '20170811', '20170812', '20170813', '20170814', '20170815', '20170816', '20170817', '20170818', '20170819', '20170820', '20170821', '20170822', '20170823', '20170824', '20170825', '20170826', '20170827', '20170828', '20170829', '20170830'],7C]\n",
      "2017-08-09 08:45:32,975 root     DEBUG    1 :: 7C :: crawling_7C_int :: True\n",
      "2017-08-09 08:45:32,983 root     INFO     <function crawling_7C_int at 0x0000000007FA6A60> :: True\n",
      "2017-08-09 08:45:32,988 root     DEBUG    Crawling jejuair homepage schedule site\n"
     ]
    },
    {
     "name": "stdout",
     "output_type": "stream",
     "text": [
      "End Session crawling\n",
      "Start Session crawling\n",
      "make session :  https://www.jejuair.net/jejuair/com/jeju/ibe/availInit.do\n",
      "crawling :  https://www.jejuair.net/jejuair/com/jeju/ibe/searchAvail.do\n",
      ">> Parameters\n",
      "AdultPaxCnt:1 , Language:KR , SystemType:IBE , DepDate:20170810 , ChildPaxCnt:0 , ArrStn:ICN , InfantPaxCnt:0 , SegType:DEP , DepStn:NRT , RouteType:I , TripType:OW , Index:1 , \n"
     ]
    },
    {
     "name": "stderr",
     "output_type": "stream",
     "text": [
      "2017-08-09 08:45:35,450 root     DEBUG    Crawling jejuair homepage schedule site\n"
     ]
    },
    {
     "name": "stdout",
     "output_type": "stream",
     "text": [
      "End Session crawling\n",
      "Start Session crawling\n",
      "make session :  https://www.jejuair.net/jejuair/com/jeju/ibe/availInit.do\n",
      "crawling :  https://www.jejuair.net/jejuair/com/jeju/ibe/searchAvail.do\n",
      ">> Parameters\n",
      "AdultPaxCnt:1 , Language:KR , SystemType:IBE , DepDate:20170811 , ChildPaxCnt:0 , ArrStn:ICN , InfantPaxCnt:0 , SegType:DEP , DepStn:NRT , RouteType:I , TripType:OW , Index:1 , \n"
     ]
    },
    {
     "name": "stderr",
     "output_type": "stream",
     "text": [
      "2017-08-09 08:45:38,044 root     DEBUG    Crawling jejuair homepage schedule site\n"
     ]
    },
    {
     "name": "stdout",
     "output_type": "stream",
     "text": [
      "End Session crawling\n",
      "Start Session crawling\n",
      "make session :  https://www.jejuair.net/jejuair/com/jeju/ibe/availInit.do\n",
      "crawling :  https://www.jejuair.net/jejuair/com/jeju/ibe/searchAvail.do\n",
      ">> Parameters\n",
      "AdultPaxCnt:1 , Language:KR , SystemType:IBE , DepDate:20170812 , ChildPaxCnt:0 , ArrStn:ICN , InfantPaxCnt:0 , SegType:DEP , DepStn:NRT , RouteType:I , TripType:OW , Index:1 , \n"
     ]
    },
    {
     "name": "stderr",
     "output_type": "stream",
     "text": [
      "2017-08-09 08:45:40,590 root     DEBUG    Crawling jejuair homepage schedule site\n"
     ]
    },
    {
     "name": "stdout",
     "output_type": "stream",
     "text": [
      "End Session crawling\n",
      "Start Session crawling\n",
      "make session :  https://www.jejuair.net/jejuair/com/jeju/ibe/availInit.do\n",
      "crawling :  https://www.jejuair.net/jejuair/com/jeju/ibe/searchAvail.do\n",
      ">> Parameters\n",
      "AdultPaxCnt:1 , Language:KR , SystemType:IBE , DepDate:20170813 , ChildPaxCnt:0 , ArrStn:ICN , InfantPaxCnt:0 , SegType:DEP , DepStn:NRT , RouteType:I , TripType:OW , Index:1 , \n"
     ]
    },
    {
     "name": "stderr",
     "output_type": "stream",
     "text": [
      "2017-08-09 08:45:43,321 root     DEBUG    Crawling jejuair homepage schedule site\n"
     ]
    },
    {
     "name": "stdout",
     "output_type": "stream",
     "text": [
      "End Session crawling\n",
      "Start Session crawling\n",
      "make session :  https://www.jejuair.net/jejuair/com/jeju/ibe/availInit.do\n",
      "crawling :  https://www.jejuair.net/jejuair/com/jeju/ibe/searchAvail.do\n",
      ">> Parameters\n",
      "AdultPaxCnt:1 , Language:KR , SystemType:IBE , DepDate:20170814 , ChildPaxCnt:0 , ArrStn:ICN , InfantPaxCnt:0 , SegType:DEP , DepStn:NRT , RouteType:I , TripType:OW , Index:1 , \n"
     ]
    },
    {
     "name": "stderr",
     "output_type": "stream",
     "text": [
      "2017-08-09 08:45:45,890 root     DEBUG    Crawling jejuair homepage schedule site\n"
     ]
    },
    {
     "name": "stdout",
     "output_type": "stream",
     "text": [
      "End Session crawling\n",
      "Start Session crawling\n",
      "make session :  https://www.jejuair.net/jejuair/com/jeju/ibe/availInit.do\n",
      "crawling :  https://www.jejuair.net/jejuair/com/jeju/ibe/searchAvail.do\n",
      ">> Parameters\n",
      "AdultPaxCnt:1 , Language:KR , SystemType:IBE , DepDate:20170815 , ChildPaxCnt:0 , ArrStn:ICN , InfantPaxCnt:0 , SegType:DEP , DepStn:NRT , RouteType:I , TripType:OW , Index:1 , \n"
     ]
    },
    {
     "name": "stderr",
     "output_type": "stream",
     "text": [
      "2017-08-09 08:45:48,216 root     DEBUG    Crawling jejuair homepage schedule site\n"
     ]
    },
    {
     "name": "stdout",
     "output_type": "stream",
     "text": [
      "End Session crawling\n",
      "Start Session crawling\n",
      "make session :  https://www.jejuair.net/jejuair/com/jeju/ibe/availInit.do\n",
      "crawling :  https://www.jejuair.net/jejuair/com/jeju/ibe/searchAvail.do\n",
      ">> Parameters\n",
      "AdultPaxCnt:1 , Language:KR , SystemType:IBE , DepDate:20170816 , ChildPaxCnt:0 , ArrStn:ICN , InfantPaxCnt:0 , SegType:DEP , DepStn:NRT , RouteType:I , TripType:OW , Index:1 , \n"
     ]
    },
    {
     "name": "stderr",
     "output_type": "stream",
     "text": [
      "2017-08-09 08:45:50,878 root     DEBUG    Crawling jejuair homepage schedule site\n"
     ]
    },
    {
     "name": "stdout",
     "output_type": "stream",
     "text": [
      "End Session crawling\n",
      "Start Session crawling\n",
      "make session :  https://www.jejuair.net/jejuair/com/jeju/ibe/availInit.do\n",
      "crawling :  https://www.jejuair.net/jejuair/com/jeju/ibe/searchAvail.do\n",
      ">> Parameters\n",
      "AdultPaxCnt:1 , Language:KR , SystemType:IBE , DepDate:20170817 , ChildPaxCnt:0 , ArrStn:ICN , InfantPaxCnt:0 , SegType:DEP , DepStn:NRT , RouteType:I , TripType:OW , Index:1 , \n"
     ]
    },
    {
     "name": "stderr",
     "output_type": "stream",
     "text": [
      "2017-08-09 08:45:53,572 root     DEBUG    Crawling jejuair homepage schedule site\n"
     ]
    },
    {
     "name": "stdout",
     "output_type": "stream",
     "text": [
      "End Session crawling\n",
      "Start Session crawling\n",
      "make session :  https://www.jejuair.net/jejuair/com/jeju/ibe/availInit.do\n",
      "crawling :  https://www.jejuair.net/jejuair/com/jeju/ibe/searchAvail.do\n",
      ">> Parameters\n",
      "AdultPaxCnt:1 , Language:KR , SystemType:IBE , DepDate:20170818 , ChildPaxCnt:0 , ArrStn:ICN , InfantPaxCnt:0 , SegType:DEP , DepStn:NRT , RouteType:I , TripType:OW , Index:1 , \n"
     ]
    },
    {
     "name": "stderr",
     "output_type": "stream",
     "text": [
      "2017-08-09 08:45:57,384 root     DEBUG    Crawling jejuair homepage schedule site\n"
     ]
    },
    {
     "name": "stdout",
     "output_type": "stream",
     "text": [
      "End Session crawling\n",
      "Start Session crawling\n",
      "make session :  https://www.jejuair.net/jejuair/com/jeju/ibe/availInit.do\n",
      "crawling :  https://www.jejuair.net/jejuair/com/jeju/ibe/searchAvail.do\n",
      ">> Parameters\n",
      "AdultPaxCnt:1 , Language:KR , SystemType:IBE , DepDate:20170819 , ChildPaxCnt:0 , ArrStn:ICN , InfantPaxCnt:0 , SegType:DEP , DepStn:NRT , RouteType:I , TripType:OW , Index:1 , \n"
     ]
    },
    {
     "name": "stderr",
     "output_type": "stream",
     "text": [
      "2017-08-09 08:46:06,805 root     DEBUG    Crawling jejuair homepage schedule site\n"
     ]
    },
    {
     "name": "stdout",
     "output_type": "stream",
     "text": [
      "End Session crawling\n",
      "Start Session crawling\n",
      "make session :  https://www.jejuair.net/jejuair/com/jeju/ibe/availInit.do\n",
      "crawling :  https://www.jejuair.net/jejuair/com/jeju/ibe/searchAvail.do\n",
      ">> Parameters\n",
      "AdultPaxCnt:1 , Language:KR , SystemType:IBE , DepDate:20170820 , ChildPaxCnt:0 , ArrStn:ICN , InfantPaxCnt:0 , SegType:DEP , DepStn:NRT , RouteType:I , TripType:OW , Index:1 , \n"
     ]
    },
    {
     "name": "stderr",
     "output_type": "stream",
     "text": [
      "2017-08-09 08:46:09,568 root     DEBUG    Crawling jejuair homepage schedule site\n"
     ]
    },
    {
     "name": "stdout",
     "output_type": "stream",
     "text": [
      "End Session crawling\n",
      "Start Session crawling\n",
      "make session :  https://www.jejuair.net/jejuair/com/jeju/ibe/availInit.do\n",
      "crawling :  https://www.jejuair.net/jejuair/com/jeju/ibe/searchAvail.do\n",
      ">> Parameters\n",
      "AdultPaxCnt:1 , Language:KR , SystemType:IBE , DepDate:20170821 , ChildPaxCnt:0 , ArrStn:ICN , InfantPaxCnt:0 , SegType:DEP , DepStn:NRT , RouteType:I , TripType:OW , Index:1 , \n"
     ]
    },
    {
     "name": "stderr",
     "output_type": "stream",
     "text": [
      "2017-08-09 08:46:12,375 root     DEBUG    Crawling jejuair homepage schedule site\n"
     ]
    },
    {
     "name": "stdout",
     "output_type": "stream",
     "text": [
      "End Session crawling\n",
      "Start Session crawling\n",
      "make session :  https://www.jejuair.net/jejuair/com/jeju/ibe/availInit.do\n",
      "crawling :  https://www.jejuair.net/jejuair/com/jeju/ibe/searchAvail.do\n",
      ">> Parameters\n",
      "AdultPaxCnt:1 , Language:KR , SystemType:IBE , DepDate:20170822 , ChildPaxCnt:0 , ArrStn:ICN , InfantPaxCnt:0 , SegType:DEP , DepStn:NRT , RouteType:I , TripType:OW , Index:1 , \n"
     ]
    },
    {
     "name": "stderr",
     "output_type": "stream",
     "text": [
      "2017-08-09 08:46:15,033 root     DEBUG    Crawling jejuair homepage schedule site\n"
     ]
    },
    {
     "name": "stdout",
     "output_type": "stream",
     "text": [
      "End Session crawling\n",
      "Start Session crawling\n",
      "make session :  https://www.jejuair.net/jejuair/com/jeju/ibe/availInit.do\n",
      "crawling :  https://www.jejuair.net/jejuair/com/jeju/ibe/searchAvail.do\n",
      ">> Parameters\n",
      "AdultPaxCnt:1 , Language:KR , SystemType:IBE , DepDate:20170823 , ChildPaxCnt:0 , ArrStn:ICN , InfantPaxCnt:0 , SegType:DEP , DepStn:NRT , RouteType:I , TripType:OW , Index:1 , \n"
     ]
    },
    {
     "name": "stderr",
     "output_type": "stream",
     "text": [
      "2017-08-09 08:46:17,632 root     DEBUG    Crawling jejuair homepage schedule site\n"
     ]
    },
    {
     "name": "stdout",
     "output_type": "stream",
     "text": [
      "End Session crawling\n",
      "Start Session crawling\n",
      "make session :  https://www.jejuair.net/jejuair/com/jeju/ibe/availInit.do\n",
      "crawling :  https://www.jejuair.net/jejuair/com/jeju/ibe/searchAvail.do\n",
      ">> Parameters\n",
      "AdultPaxCnt:1 , Language:KR , SystemType:IBE , DepDate:20170824 , ChildPaxCnt:0 , ArrStn:ICN , InfantPaxCnt:0 , SegType:DEP , DepStn:NRT , RouteType:I , TripType:OW , Index:1 , \n"
     ]
    },
    {
     "name": "stderr",
     "output_type": "stream",
     "text": [
      "2017-08-09 08:46:22,475 root     DEBUG    Crawling jejuair homepage schedule site\n"
     ]
    },
    {
     "name": "stdout",
     "output_type": "stream",
     "text": [
      "End Session crawling\n",
      "Start Session crawling\n",
      "make session :  https://www.jejuair.net/jejuair/com/jeju/ibe/availInit.do\n",
      "crawling :  https://www.jejuair.net/jejuair/com/jeju/ibe/searchAvail.do\n",
      ">> Parameters\n",
      "AdultPaxCnt:1 , Language:KR , SystemType:IBE , DepDate:20170825 , ChildPaxCnt:0 , ArrStn:ICN , InfantPaxCnt:0 , SegType:DEP , DepStn:NRT , RouteType:I , TripType:OW , Index:1 , \n"
     ]
    },
    {
     "name": "stderr",
     "output_type": "stream",
     "text": [
      "2017-08-09 08:46:27,611 root     DEBUG    Crawling jejuair homepage schedule site\n"
     ]
    },
    {
     "name": "stdout",
     "output_type": "stream",
     "text": [
      "End Session crawling\n",
      "Start Session crawling\n",
      "make session :  https://www.jejuair.net/jejuair/com/jeju/ibe/availInit.do\n",
      "crawling :  https://www.jejuair.net/jejuair/com/jeju/ibe/searchAvail.do\n",
      ">> Parameters\n",
      "AdultPaxCnt:1 , Language:KR , SystemType:IBE , DepDate:20170826 , ChildPaxCnt:0 , ArrStn:ICN , InfantPaxCnt:0 , SegType:DEP , DepStn:NRT , RouteType:I , TripType:OW , Index:1 , \n"
     ]
    },
    {
     "name": "stderr",
     "output_type": "stream",
     "text": [
      "2017-08-09 08:46:30,308 root     DEBUG    Crawling jejuair homepage schedule site\n"
     ]
    },
    {
     "name": "stdout",
     "output_type": "stream",
     "text": [
      "End Session crawling\n",
      "Start Session crawling\n",
      "make session :  https://www.jejuair.net/jejuair/com/jeju/ibe/availInit.do\n",
      "crawling :  https://www.jejuair.net/jejuair/com/jeju/ibe/searchAvail.do\n",
      ">> Parameters\n",
      "AdultPaxCnt:1 , Language:KR , SystemType:IBE , DepDate:20170827 , ChildPaxCnt:0 , ArrStn:ICN , InfantPaxCnt:0 , SegType:DEP , DepStn:NRT , RouteType:I , TripType:OW , Index:1 , \n"
     ]
    },
    {
     "name": "stderr",
     "output_type": "stream",
     "text": [
      "2017-08-09 08:46:33,045 root     DEBUG    Crawling jejuair homepage schedule site\n"
     ]
    },
    {
     "name": "stdout",
     "output_type": "stream",
     "text": [
      "End Session crawling\n",
      "Start Session crawling\n",
      "make session :  https://www.jejuair.net/jejuair/com/jeju/ibe/availInit.do\n",
      "crawling :  https://www.jejuair.net/jejuair/com/jeju/ibe/searchAvail.do\n",
      ">> Parameters\n",
      "AdultPaxCnt:1 , Language:KR , SystemType:IBE , DepDate:20170828 , ChildPaxCnt:0 , ArrStn:ICN , InfantPaxCnt:0 , SegType:DEP , DepStn:NRT , RouteType:I , TripType:OW , Index:1 , \n"
     ]
    },
    {
     "name": "stderr",
     "output_type": "stream",
     "text": [
      "2017-08-09 08:46:39,338 root     DEBUG    Crawling jejuair homepage schedule site\n"
     ]
    },
    {
     "name": "stdout",
     "output_type": "stream",
     "text": [
      "End Session crawling\n",
      "Start Session crawling\n",
      "make session :  https://www.jejuair.net/jejuair/com/jeju/ibe/availInit.do\n",
      "crawling :  https://www.jejuair.net/jejuair/com/jeju/ibe/searchAvail.do\n",
      ">> Parameters\n",
      "AdultPaxCnt:1 , Language:KR , SystemType:IBE , DepDate:20170829 , ChildPaxCnt:0 , ArrStn:ICN , InfantPaxCnt:0 , SegType:DEP , DepStn:NRT , RouteType:I , TripType:OW , Index:1 , \n"
     ]
    },
    {
     "name": "stderr",
     "output_type": "stream",
     "text": [
      "2017-08-09 08:46:44,319 root     DEBUG    Crawling jejuair homepage schedule site\n"
     ]
    },
    {
     "name": "stdout",
     "output_type": "stream",
     "text": [
      "End Session crawling\n",
      "Start Session crawling\n",
      "make session :  https://www.jejuair.net/jejuair/com/jeju/ibe/availInit.do\n",
      "crawling :  https://www.jejuair.net/jejuair/com/jeju/ibe/searchAvail.do\n",
      ">> Parameters\n",
      "AdultPaxCnt:1 , Language:KR , SystemType:IBE , DepDate:20170830 , ChildPaxCnt:0 , ArrStn:ICN , InfantPaxCnt:0 , SegType:DEP , DepStn:NRT , RouteType:I , TripType:OW , Index:1 , \n"
     ]
    },
    {
     "name": "stderr",
     "output_type": "stream",
     "text": [
      "2017-08-09 08:46:47,331 root     INFO     end batch job :: craw_by_route_site :: elapsed -0:01:14.355253 :: Total crawl:21 files saved.\n",
      "2017-08-09 08:46:47,336 root     INFO     start batch job :: craw_by_route_site[NRT/JPN,ICN/KOR,LJ,['20170810', '20170811', '20170812', '20170813', '20170814', '20170815', '20170816', '20170817', '20170818', '20170819', '20170820', '20170821', '20170822', '20170823', '20170824', '20170825', '20170826', '20170827', '20170828', '20170829', '20170830'],LJ]\n",
      "2017-08-09 08:46:47,340 root     DEBUG    1 :: LJ :: crawling_LJ_int :: True\n",
      "2017-08-09 08:46:47,345 root     INFO     <function crawling_LJ_int at 0x0000000007FA6BF8> :: True\n"
     ]
    },
    {
     "name": "stdout",
     "output_type": "stream",
     "text": [
      "End Session crawling\n",
      "Crawling jinair mobile page schedule site\n",
      "Param :  NRT/JPN ICN/KOR 20170810\n",
      "End crawling\n",
      "Crawling jinair mobile page schedule site\n",
      "Param :  NRT/JPN ICN/KOR 20170811\n",
      "End crawling\n",
      "Crawling jinair mobile page schedule site\n",
      "Param :  NRT/JPN ICN/KOR 20170812\n",
      "End crawling\n",
      "Crawling jinair mobile page schedule site\n",
      "Param :  NRT/JPN ICN/KOR 20170813\n",
      "End crawling\n",
      "Crawling jinair mobile page schedule site\n",
      "Param :  NRT/JPN ICN/KOR 20170814\n",
      "End crawling\n",
      "Crawling jinair mobile page schedule site\n",
      "Param :  NRT/JPN ICN/KOR 20170815\n",
      "End crawling\n",
      "Crawling jinair mobile page schedule site\n",
      "Param :  NRT/JPN ICN/KOR 20170816\n",
      "End crawling\n",
      "Crawling jinair mobile page schedule site\n",
      "Param :  NRT/JPN ICN/KOR 20170817\n",
      "End crawling\n",
      "Crawling jinair mobile page schedule site\n",
      "Param :  NRT/JPN ICN/KOR 20170818\n",
      "End crawling\n",
      "Crawling jinair mobile page schedule site\n",
      "Param :  NRT/JPN ICN/KOR 20170819\n",
      "End crawling\n",
      "Crawling jinair mobile page schedule site\n",
      "Param :  NRT/JPN ICN/KOR 20170820\n",
      "End crawling\n",
      "Crawling jinair mobile page schedule site\n",
      "Param :  NRT/JPN ICN/KOR 20170821\n",
      "End crawling\n",
      "Crawling jinair mobile page schedule site\n",
      "Param :  NRT/JPN ICN/KOR 20170822\n",
      "End crawling\n",
      "Crawling jinair mobile page schedule site\n",
      "Param :  NRT/JPN ICN/KOR 20170823\n",
      "End crawling\n",
      "Crawling jinair mobile page schedule site\n",
      "Param :  NRT/JPN ICN/KOR 20170824\n",
      "End crawling\n",
      "Crawling jinair mobile page schedule site\n",
      "Param :  NRT/JPN ICN/KOR 20170825\n",
      "End crawling\n",
      "Crawling jinair mobile page schedule site\n",
      "Param :  NRT/JPN ICN/KOR 20170826\n",
      "End crawling\n",
      "Crawling jinair mobile page schedule site\n",
      "Param :  NRT/JPN ICN/KOR 20170827\n",
      "End crawling\n",
      "Crawling jinair mobile page schedule site\n",
      "Param :  NRT/JPN ICN/KOR 20170828\n",
      "End crawling\n",
      "Crawling jinair mobile page schedule site\n",
      "Param :  NRT/JPN ICN/KOR 20170829\n",
      "End crawling\n",
      "Crawling jinair mobile page schedule site\n",
      "Param :  NRT/JPN ICN/KOR 20170830\n"
     ]
    },
    {
     "name": "stderr",
     "output_type": "stream",
     "text": [
      "2017-08-09 08:47:33,053 root     INFO     end batch job :: craw_by_route_site :: elapsed -0:00:45.713615 :: Total crawl:21 files saved.\n",
      "2017-08-09 08:47:33,059 root     INFO     start batch job :: craw_by_route_site[BKK,ICN,ZE,['20170810', '20170811', '20170812', '20170813', '20170814', '20170815', '20170816', '20170817', '20170818', '20170819', '20170820', '20170821', '20170822', '20170823', '20170824', '20170825', '20170826', '20170827', '20170828', '20170829', '20170830'],ZE]\n",
      "2017-08-09 08:47:33,065 root     DEBUG    1 :: ZE :: crawling_ZE_dom_int :: True\n",
      "2017-08-09 08:47:33,070 root     INFO     <function crawling_ZE_dom_int at 0x0000000007FA6F28> :: True\n",
      "2017-08-09 08:47:33,078 root     DEBUG    Crawling eastarjet homepage schedule site\n"
     ]
    },
    {
     "name": "stdout",
     "output_type": "stream",
     "text": [
      "End crawling\n",
      "Start Json Payload crawling :  https://www.eastarjet.com/json/dataService\n",
      ">> Parameters\n",
      "id:2 , method:DataService.service , params:[{'functionName': 'DTWBA00022', 'methodType': None, 'requestExecuteType': 'BIZ', 'requestUniqueCode': 'PGWBA00002', 'DBTransaction': False, 'filterParameter': {'javaClass': 'java.util.Map', 'map': {}}, 'panelId': None, 'sourceName': None, 'javaClass': 'com.jein.framework.connectivity.parameter.RequestParameter', 'inParameters': {'list': [{'ioType': 'IN', 'data': {'list': [{'map': {'flightSearch': '{\"viewType\":\"\",\"fly_type\":\"2\",\"person1\":\"1\",\"person2\":\"0\",\"person3\":\"0\",    \"residentCountry\":\"KR\",\"currency\":\"\",\"promotion_cd\":\"\",    \"flySection\":[{\"departure_cd\":\"BKK\",\"arrival_cd\":\"ICN\",\"departure_date_cd\":\"20170810\"}]}'}, 'javaClass': 'java.util.Map'}], 'javaClass': 'java.util.List'}, 'structureType': 'FIELD', 'javaClass': 'com.jein.framework.connectivity.parameter.InParameter', 'paramName': 'flightSearch'}], 'javaClass': 'java.util.List'}, 'sourceExtension': None}] , \n"
     ]
    },
    {
     "name": "stderr",
     "output_type": "stream",
     "text": [
      "2017-08-09 08:47:35,525 root     DEBUG    Crawling eastarjet homepage schedule site\n"
     ]
    },
    {
     "name": "stdout",
     "output_type": "stream",
     "text": [
      "End Json Payload crawling\n",
      "Start Json Payload crawling :  https://www.eastarjet.com/json/dataService\n",
      ">> Parameters\n",
      "id:2 , method:DataService.service , params:[{'functionName': 'DTWBA00022', 'methodType': None, 'requestExecuteType': 'BIZ', 'requestUniqueCode': 'PGWBA00002', 'DBTransaction': False, 'filterParameter': {'javaClass': 'java.util.Map', 'map': {}}, 'panelId': None, 'sourceName': None, 'javaClass': 'com.jein.framework.connectivity.parameter.RequestParameter', 'inParameters': {'list': [{'ioType': 'IN', 'data': {'list': [{'map': {'flightSearch': '{\"viewType\":\"\",\"fly_type\":\"2\",\"person1\":\"1\",\"person2\":\"0\",\"person3\":\"0\",    \"residentCountry\":\"KR\",\"currency\":\"\",\"promotion_cd\":\"\",    \"flySection\":[{\"departure_cd\":\"BKK\",\"arrival_cd\":\"ICN\",\"departure_date_cd\":\"20170811\"}]}'}, 'javaClass': 'java.util.Map'}], 'javaClass': 'java.util.List'}, 'structureType': 'FIELD', 'javaClass': 'com.jein.framework.connectivity.parameter.InParameter', 'paramName': 'flightSearch'}], 'javaClass': 'java.util.List'}, 'sourceExtension': None}] , \n"
     ]
    },
    {
     "name": "stderr",
     "output_type": "stream",
     "text": [
      "2017-08-09 08:47:37,952 root     DEBUG    Crawling eastarjet homepage schedule site\n"
     ]
    },
    {
     "name": "stdout",
     "output_type": "stream",
     "text": [
      "End Json Payload crawling\n",
      "Start Json Payload crawling :  https://www.eastarjet.com/json/dataService\n",
      ">> Parameters\n",
      "id:2 , method:DataService.service , params:[{'functionName': 'DTWBA00022', 'methodType': None, 'requestExecuteType': 'BIZ', 'requestUniqueCode': 'PGWBA00002', 'DBTransaction': False, 'filterParameter': {'javaClass': 'java.util.Map', 'map': {}}, 'panelId': None, 'sourceName': None, 'javaClass': 'com.jein.framework.connectivity.parameter.RequestParameter', 'inParameters': {'list': [{'ioType': 'IN', 'data': {'list': [{'map': {'flightSearch': '{\"viewType\":\"\",\"fly_type\":\"2\",\"person1\":\"1\",\"person2\":\"0\",\"person3\":\"0\",    \"residentCountry\":\"KR\",\"currency\":\"\",\"promotion_cd\":\"\",    \"flySection\":[{\"departure_cd\":\"BKK\",\"arrival_cd\":\"ICN\",\"departure_date_cd\":\"20170812\"}]}'}, 'javaClass': 'java.util.Map'}], 'javaClass': 'java.util.List'}, 'structureType': 'FIELD', 'javaClass': 'com.jein.framework.connectivity.parameter.InParameter', 'paramName': 'flightSearch'}], 'javaClass': 'java.util.List'}, 'sourceExtension': None}] , \n"
     ]
    },
    {
     "name": "stderr",
     "output_type": "stream",
     "text": [
      "2017-08-09 08:47:40,181 root     DEBUG    Crawling eastarjet homepage schedule site\n"
     ]
    },
    {
     "name": "stdout",
     "output_type": "stream",
     "text": [
      "End Json Payload crawling\n",
      "Start Json Payload crawling :  https://www.eastarjet.com/json/dataService\n",
      ">> Parameters\n",
      "id:2 , method:DataService.service , params:[{'functionName': 'DTWBA00022', 'methodType': None, 'requestExecuteType': 'BIZ', 'requestUniqueCode': 'PGWBA00002', 'DBTransaction': False, 'filterParameter': {'javaClass': 'java.util.Map', 'map': {}}, 'panelId': None, 'sourceName': None, 'javaClass': 'com.jein.framework.connectivity.parameter.RequestParameter', 'inParameters': {'list': [{'ioType': 'IN', 'data': {'list': [{'map': {'flightSearch': '{\"viewType\":\"\",\"fly_type\":\"2\",\"person1\":\"1\",\"person2\":\"0\",\"person3\":\"0\",    \"residentCountry\":\"KR\",\"currency\":\"\",\"promotion_cd\":\"\",    \"flySection\":[{\"departure_cd\":\"BKK\",\"arrival_cd\":\"ICN\",\"departure_date_cd\":\"20170813\"}]}'}, 'javaClass': 'java.util.Map'}], 'javaClass': 'java.util.List'}, 'structureType': 'FIELD', 'javaClass': 'com.jein.framework.connectivity.parameter.InParameter', 'paramName': 'flightSearch'}], 'javaClass': 'java.util.List'}, 'sourceExtension': None}] , \n"
     ]
    },
    {
     "name": "stderr",
     "output_type": "stream",
     "text": [
      "2017-08-09 08:47:42,541 root     DEBUG    Crawling eastarjet homepage schedule site\n"
     ]
    },
    {
     "name": "stdout",
     "output_type": "stream",
     "text": [
      "End Json Payload crawling\n",
      "Start Json Payload crawling :  https://www.eastarjet.com/json/dataService\n",
      ">> Parameters\n",
      "id:2 , method:DataService.service , params:[{'functionName': 'DTWBA00022', 'methodType': None, 'requestExecuteType': 'BIZ', 'requestUniqueCode': 'PGWBA00002', 'DBTransaction': False, 'filterParameter': {'javaClass': 'java.util.Map', 'map': {}}, 'panelId': None, 'sourceName': None, 'javaClass': 'com.jein.framework.connectivity.parameter.RequestParameter', 'inParameters': {'list': [{'ioType': 'IN', 'data': {'list': [{'map': {'flightSearch': '{\"viewType\":\"\",\"fly_type\":\"2\",\"person1\":\"1\",\"person2\":\"0\",\"person3\":\"0\",    \"residentCountry\":\"KR\",\"currency\":\"\",\"promotion_cd\":\"\",    \"flySection\":[{\"departure_cd\":\"BKK\",\"arrival_cd\":\"ICN\",\"departure_date_cd\":\"20170814\"}]}'}, 'javaClass': 'java.util.Map'}], 'javaClass': 'java.util.List'}, 'structureType': 'FIELD', 'javaClass': 'com.jein.framework.connectivity.parameter.InParameter', 'paramName': 'flightSearch'}], 'javaClass': 'java.util.List'}, 'sourceExtension': None}] , \n"
     ]
    },
    {
     "name": "stderr",
     "output_type": "stream",
     "text": [
      "2017-08-09 08:47:44,800 root     DEBUG    Crawling eastarjet homepage schedule site\n"
     ]
    },
    {
     "name": "stdout",
     "output_type": "stream",
     "text": [
      "End Json Payload crawling\n",
      "Start Json Payload crawling :  https://www.eastarjet.com/json/dataService\n",
      ">> Parameters\n",
      "id:2 , method:DataService.service , params:[{'functionName': 'DTWBA00022', 'methodType': None, 'requestExecuteType': 'BIZ', 'requestUniqueCode': 'PGWBA00002', 'DBTransaction': False, 'filterParameter': {'javaClass': 'java.util.Map', 'map': {}}, 'panelId': None, 'sourceName': None, 'javaClass': 'com.jein.framework.connectivity.parameter.RequestParameter', 'inParameters': {'list': [{'ioType': 'IN', 'data': {'list': [{'map': {'flightSearch': '{\"viewType\":\"\",\"fly_type\":\"2\",\"person1\":\"1\",\"person2\":\"0\",\"person3\":\"0\",    \"residentCountry\":\"KR\",\"currency\":\"\",\"promotion_cd\":\"\",    \"flySection\":[{\"departure_cd\":\"BKK\",\"arrival_cd\":\"ICN\",\"departure_date_cd\":\"20170815\"}]}'}, 'javaClass': 'java.util.Map'}], 'javaClass': 'java.util.List'}, 'structureType': 'FIELD', 'javaClass': 'com.jein.framework.connectivity.parameter.InParameter', 'paramName': 'flightSearch'}], 'javaClass': 'java.util.List'}, 'sourceExtension': None}] , \n"
     ]
    },
    {
     "name": "stderr",
     "output_type": "stream",
     "text": [
      "2017-08-09 08:47:47,055 root     DEBUG    Crawling eastarjet homepage schedule site\n"
     ]
    },
    {
     "name": "stdout",
     "output_type": "stream",
     "text": [
      "End Json Payload crawling\n",
      "Start Json Payload crawling :  https://www.eastarjet.com/json/dataService\n",
      ">> Parameters\n",
      "id:2 , method:DataService.service , params:[{'functionName': 'DTWBA00022', 'methodType': None, 'requestExecuteType': 'BIZ', 'requestUniqueCode': 'PGWBA00002', 'DBTransaction': False, 'filterParameter': {'javaClass': 'java.util.Map', 'map': {}}, 'panelId': None, 'sourceName': None, 'javaClass': 'com.jein.framework.connectivity.parameter.RequestParameter', 'inParameters': {'list': [{'ioType': 'IN', 'data': {'list': [{'map': {'flightSearch': '{\"viewType\":\"\",\"fly_type\":\"2\",\"person1\":\"1\",\"person2\":\"0\",\"person3\":\"0\",    \"residentCountry\":\"KR\",\"currency\":\"\",\"promotion_cd\":\"\",    \"flySection\":[{\"departure_cd\":\"BKK\",\"arrival_cd\":\"ICN\",\"departure_date_cd\":\"20170816\"}]}'}, 'javaClass': 'java.util.Map'}], 'javaClass': 'java.util.List'}, 'structureType': 'FIELD', 'javaClass': 'com.jein.framework.connectivity.parameter.InParameter', 'paramName': 'flightSearch'}], 'javaClass': 'java.util.List'}, 'sourceExtension': None}] , \n"
     ]
    },
    {
     "name": "stderr",
     "output_type": "stream",
     "text": [
      "2017-08-09 08:47:49,319 root     DEBUG    Crawling eastarjet homepage schedule site\n"
     ]
    },
    {
     "name": "stdout",
     "output_type": "stream",
     "text": [
      "End Json Payload crawling\n",
      "Start Json Payload crawling :  https://www.eastarjet.com/json/dataService\n",
      ">> Parameters\n",
      "id:2 , method:DataService.service , params:[{'functionName': 'DTWBA00022', 'methodType': None, 'requestExecuteType': 'BIZ', 'requestUniqueCode': 'PGWBA00002', 'DBTransaction': False, 'filterParameter': {'javaClass': 'java.util.Map', 'map': {}}, 'panelId': None, 'sourceName': None, 'javaClass': 'com.jein.framework.connectivity.parameter.RequestParameter', 'inParameters': {'list': [{'ioType': 'IN', 'data': {'list': [{'map': {'flightSearch': '{\"viewType\":\"\",\"fly_type\":\"2\",\"person1\":\"1\",\"person2\":\"0\",\"person3\":\"0\",    \"residentCountry\":\"KR\",\"currency\":\"\",\"promotion_cd\":\"\",    \"flySection\":[{\"departure_cd\":\"BKK\",\"arrival_cd\":\"ICN\",\"departure_date_cd\":\"20170817\"}]}'}, 'javaClass': 'java.util.Map'}], 'javaClass': 'java.util.List'}, 'structureType': 'FIELD', 'javaClass': 'com.jein.framework.connectivity.parameter.InParameter', 'paramName': 'flightSearch'}], 'javaClass': 'java.util.List'}, 'sourceExtension': None}] , \n"
     ]
    },
    {
     "name": "stderr",
     "output_type": "stream",
     "text": [
      "2017-08-09 08:47:51,746 root     DEBUG    Crawling eastarjet homepage schedule site\n"
     ]
    },
    {
     "name": "stdout",
     "output_type": "stream",
     "text": [
      "End Json Payload crawling\n",
      "Start Json Payload crawling :  https://www.eastarjet.com/json/dataService\n",
      ">> Parameters\n",
      "id:2 , method:DataService.service , params:[{'functionName': 'DTWBA00022', 'methodType': None, 'requestExecuteType': 'BIZ', 'requestUniqueCode': 'PGWBA00002', 'DBTransaction': False, 'filterParameter': {'javaClass': 'java.util.Map', 'map': {}}, 'panelId': None, 'sourceName': None, 'javaClass': 'com.jein.framework.connectivity.parameter.RequestParameter', 'inParameters': {'list': [{'ioType': 'IN', 'data': {'list': [{'map': {'flightSearch': '{\"viewType\":\"\",\"fly_type\":\"2\",\"person1\":\"1\",\"person2\":\"0\",\"person3\":\"0\",    \"residentCountry\":\"KR\",\"currency\":\"\",\"promotion_cd\":\"\",    \"flySection\":[{\"departure_cd\":\"BKK\",\"arrival_cd\":\"ICN\",\"departure_date_cd\":\"20170818\"}]}'}, 'javaClass': 'java.util.Map'}], 'javaClass': 'java.util.List'}, 'structureType': 'FIELD', 'javaClass': 'com.jein.framework.connectivity.parameter.InParameter', 'paramName': 'flightSearch'}], 'javaClass': 'java.util.List'}, 'sourceExtension': None}] , \n"
     ]
    },
    {
     "name": "stderr",
     "output_type": "stream",
     "text": [
      "2017-08-09 08:47:54,067 root     DEBUG    Crawling eastarjet homepage schedule site\n"
     ]
    },
    {
     "name": "stdout",
     "output_type": "stream",
     "text": [
      "End Json Payload crawling\n",
      "Start Json Payload crawling :  https://www.eastarjet.com/json/dataService\n",
      ">> Parameters\n",
      "id:2 , method:DataService.service , params:[{'functionName': 'DTWBA00022', 'methodType': None, 'requestExecuteType': 'BIZ', 'requestUniqueCode': 'PGWBA00002', 'DBTransaction': False, 'filterParameter': {'javaClass': 'java.util.Map', 'map': {}}, 'panelId': None, 'sourceName': None, 'javaClass': 'com.jein.framework.connectivity.parameter.RequestParameter', 'inParameters': {'list': [{'ioType': 'IN', 'data': {'list': [{'map': {'flightSearch': '{\"viewType\":\"\",\"fly_type\":\"2\",\"person1\":\"1\",\"person2\":\"0\",\"person3\":\"0\",    \"residentCountry\":\"KR\",\"currency\":\"\",\"promotion_cd\":\"\",    \"flySection\":[{\"departure_cd\":\"BKK\",\"arrival_cd\":\"ICN\",\"departure_date_cd\":\"20170819\"}]}'}, 'javaClass': 'java.util.Map'}], 'javaClass': 'java.util.List'}, 'structureType': 'FIELD', 'javaClass': 'com.jein.framework.connectivity.parameter.InParameter', 'paramName': 'flightSearch'}], 'javaClass': 'java.util.List'}, 'sourceExtension': None}] , \n"
     ]
    },
    {
     "name": "stderr",
     "output_type": "stream",
     "text": [
      "2017-08-09 08:47:56,313 root     DEBUG    Crawling eastarjet homepage schedule site\n"
     ]
    },
    {
     "name": "stdout",
     "output_type": "stream",
     "text": [
      "End Json Payload crawling\n",
      "Start Json Payload crawling :  https://www.eastarjet.com/json/dataService\n",
      ">> Parameters\n",
      "id:2 , method:DataService.service , params:[{'functionName': 'DTWBA00022', 'methodType': None, 'requestExecuteType': 'BIZ', 'requestUniqueCode': 'PGWBA00002', 'DBTransaction': False, 'filterParameter': {'javaClass': 'java.util.Map', 'map': {}}, 'panelId': None, 'sourceName': None, 'javaClass': 'com.jein.framework.connectivity.parameter.RequestParameter', 'inParameters': {'list': [{'ioType': 'IN', 'data': {'list': [{'map': {'flightSearch': '{\"viewType\":\"\",\"fly_type\":\"2\",\"person1\":\"1\",\"person2\":\"0\",\"person3\":\"0\",    \"residentCountry\":\"KR\",\"currency\":\"\",\"promotion_cd\":\"\",    \"flySection\":[{\"departure_cd\":\"BKK\",\"arrival_cd\":\"ICN\",\"departure_date_cd\":\"20170820\"}]}'}, 'javaClass': 'java.util.Map'}], 'javaClass': 'java.util.List'}, 'structureType': 'FIELD', 'javaClass': 'com.jein.framework.connectivity.parameter.InParameter', 'paramName': 'flightSearch'}], 'javaClass': 'java.util.List'}, 'sourceExtension': None}] , \n"
     ]
    },
    {
     "name": "stderr",
     "output_type": "stream",
     "text": [
      "2017-08-09 08:47:58,568 root     DEBUG    Crawling eastarjet homepage schedule site\n"
     ]
    },
    {
     "name": "stdout",
     "output_type": "stream",
     "text": [
      "End Json Payload crawling\n",
      "Start Json Payload crawling :  https://www.eastarjet.com/json/dataService\n",
      ">> Parameters\n",
      "id:2 , method:DataService.service , params:[{'functionName': 'DTWBA00022', 'methodType': None, 'requestExecuteType': 'BIZ', 'requestUniqueCode': 'PGWBA00002', 'DBTransaction': False, 'filterParameter': {'javaClass': 'java.util.Map', 'map': {}}, 'panelId': None, 'sourceName': None, 'javaClass': 'com.jein.framework.connectivity.parameter.RequestParameter', 'inParameters': {'list': [{'ioType': 'IN', 'data': {'list': [{'map': {'flightSearch': '{\"viewType\":\"\",\"fly_type\":\"2\",\"person1\":\"1\",\"person2\":\"0\",\"person3\":\"0\",    \"residentCountry\":\"KR\",\"currency\":\"\",\"promotion_cd\":\"\",    \"flySection\":[{\"departure_cd\":\"BKK\",\"arrival_cd\":\"ICN\",\"departure_date_cd\":\"20170821\"}]}'}, 'javaClass': 'java.util.Map'}], 'javaClass': 'java.util.List'}, 'structureType': 'FIELD', 'javaClass': 'com.jein.framework.connectivity.parameter.InParameter', 'paramName': 'flightSearch'}], 'javaClass': 'java.util.List'}, 'sourceExtension': None}] , \n"
     ]
    },
    {
     "name": "stderr",
     "output_type": "stream",
     "text": [
      "2017-08-09 08:48:00,997 root     DEBUG    Crawling eastarjet homepage schedule site\n"
     ]
    },
    {
     "name": "stdout",
     "output_type": "stream",
     "text": [
      "End Json Payload crawling\n",
      "Start Json Payload crawling :  https://www.eastarjet.com/json/dataService\n",
      ">> Parameters\n",
      "id:2 , method:DataService.service , params:[{'functionName': 'DTWBA00022', 'methodType': None, 'requestExecuteType': 'BIZ', 'requestUniqueCode': 'PGWBA00002', 'DBTransaction': False, 'filterParameter': {'javaClass': 'java.util.Map', 'map': {}}, 'panelId': None, 'sourceName': None, 'javaClass': 'com.jein.framework.connectivity.parameter.RequestParameter', 'inParameters': {'list': [{'ioType': 'IN', 'data': {'list': [{'map': {'flightSearch': '{\"viewType\":\"\",\"fly_type\":\"2\",\"person1\":\"1\",\"person2\":\"0\",\"person3\":\"0\",    \"residentCountry\":\"KR\",\"currency\":\"\",\"promotion_cd\":\"\",    \"flySection\":[{\"departure_cd\":\"BKK\",\"arrival_cd\":\"ICN\",\"departure_date_cd\":\"20170822\"}]}'}, 'javaClass': 'java.util.Map'}], 'javaClass': 'java.util.List'}, 'structureType': 'FIELD', 'javaClass': 'com.jein.framework.connectivity.parameter.InParameter', 'paramName': 'flightSearch'}], 'javaClass': 'java.util.List'}, 'sourceExtension': None}] , \n"
     ]
    },
    {
     "name": "stderr",
     "output_type": "stream",
     "text": [
      "2017-08-09 08:48:03,476 root     DEBUG    Crawling eastarjet homepage schedule site\n"
     ]
    },
    {
     "name": "stdout",
     "output_type": "stream",
     "text": [
      "End Json Payload crawling\n",
      "Start Json Payload crawling :  https://www.eastarjet.com/json/dataService\n",
      ">> Parameters\n",
      "id:2 , method:DataService.service , params:[{'functionName': 'DTWBA00022', 'methodType': None, 'requestExecuteType': 'BIZ', 'requestUniqueCode': 'PGWBA00002', 'DBTransaction': False, 'filterParameter': {'javaClass': 'java.util.Map', 'map': {}}, 'panelId': None, 'sourceName': None, 'javaClass': 'com.jein.framework.connectivity.parameter.RequestParameter', 'inParameters': {'list': [{'ioType': 'IN', 'data': {'list': [{'map': {'flightSearch': '{\"viewType\":\"\",\"fly_type\":\"2\",\"person1\":\"1\",\"person2\":\"0\",\"person3\":\"0\",    \"residentCountry\":\"KR\",\"currency\":\"\",\"promotion_cd\":\"\",    \"flySection\":[{\"departure_cd\":\"BKK\",\"arrival_cd\":\"ICN\",\"departure_date_cd\":\"20170823\"}]}'}, 'javaClass': 'java.util.Map'}], 'javaClass': 'java.util.List'}, 'structureType': 'FIELD', 'javaClass': 'com.jein.framework.connectivity.parameter.InParameter', 'paramName': 'flightSearch'}], 'javaClass': 'java.util.List'}, 'sourceExtension': None}] , \n"
     ]
    },
    {
     "name": "stderr",
     "output_type": "stream",
     "text": [
      "2017-08-09 08:48:05,698 root     DEBUG    Crawling eastarjet homepage schedule site\n"
     ]
    },
    {
     "name": "stdout",
     "output_type": "stream",
     "text": [
      "End Json Payload crawling\n",
      "Start Json Payload crawling :  https://www.eastarjet.com/json/dataService\n",
      ">> Parameters\n",
      "id:2 , method:DataService.service , params:[{'functionName': 'DTWBA00022', 'methodType': None, 'requestExecuteType': 'BIZ', 'requestUniqueCode': 'PGWBA00002', 'DBTransaction': False, 'filterParameter': {'javaClass': 'java.util.Map', 'map': {}}, 'panelId': None, 'sourceName': None, 'javaClass': 'com.jein.framework.connectivity.parameter.RequestParameter', 'inParameters': {'list': [{'ioType': 'IN', 'data': {'list': [{'map': {'flightSearch': '{\"viewType\":\"\",\"fly_type\":\"2\",\"person1\":\"1\",\"person2\":\"0\",\"person3\":\"0\",    \"residentCountry\":\"KR\",\"currency\":\"\",\"promotion_cd\":\"\",    \"flySection\":[{\"departure_cd\":\"BKK\",\"arrival_cd\":\"ICN\",\"departure_date_cd\":\"20170824\"}]}'}, 'javaClass': 'java.util.Map'}], 'javaClass': 'java.util.List'}, 'structureType': 'FIELD', 'javaClass': 'com.jein.framework.connectivity.parameter.InParameter', 'paramName': 'flightSearch'}], 'javaClass': 'java.util.List'}, 'sourceExtension': None}] , \n"
     ]
    },
    {
     "name": "stderr",
     "output_type": "stream",
     "text": [
      "2017-08-09 08:48:07,982 root     DEBUG    Crawling eastarjet homepage schedule site\n"
     ]
    },
    {
     "name": "stdout",
     "output_type": "stream",
     "text": [
      "End Json Payload crawling\n",
      "Start Json Payload crawling :  https://www.eastarjet.com/json/dataService\n",
      ">> Parameters\n",
      "id:2 , method:DataService.service , params:[{'functionName': 'DTWBA00022', 'methodType': None, 'requestExecuteType': 'BIZ', 'requestUniqueCode': 'PGWBA00002', 'DBTransaction': False, 'filterParameter': {'javaClass': 'java.util.Map', 'map': {}}, 'panelId': None, 'sourceName': None, 'javaClass': 'com.jein.framework.connectivity.parameter.RequestParameter', 'inParameters': {'list': [{'ioType': 'IN', 'data': {'list': [{'map': {'flightSearch': '{\"viewType\":\"\",\"fly_type\":\"2\",\"person1\":\"1\",\"person2\":\"0\",\"person3\":\"0\",    \"residentCountry\":\"KR\",\"currency\":\"\",\"promotion_cd\":\"\",    \"flySection\":[{\"departure_cd\":\"BKK\",\"arrival_cd\":\"ICN\",\"departure_date_cd\":\"20170825\"}]}'}, 'javaClass': 'java.util.Map'}], 'javaClass': 'java.util.List'}, 'structureType': 'FIELD', 'javaClass': 'com.jein.framework.connectivity.parameter.InParameter', 'paramName': 'flightSearch'}], 'javaClass': 'java.util.List'}, 'sourceExtension': None}] , \n"
     ]
    },
    {
     "name": "stderr",
     "output_type": "stream",
     "text": [
      "2017-08-09 08:48:10,231 root     DEBUG    Crawling eastarjet homepage schedule site\n"
     ]
    },
    {
     "name": "stdout",
     "output_type": "stream",
     "text": [
      "End Json Payload crawling\n",
      "Start Json Payload crawling :  https://www.eastarjet.com/json/dataService\n",
      ">> Parameters\n",
      "id:2 , method:DataService.service , params:[{'functionName': 'DTWBA00022', 'methodType': None, 'requestExecuteType': 'BIZ', 'requestUniqueCode': 'PGWBA00002', 'DBTransaction': False, 'filterParameter': {'javaClass': 'java.util.Map', 'map': {}}, 'panelId': None, 'sourceName': None, 'javaClass': 'com.jein.framework.connectivity.parameter.RequestParameter', 'inParameters': {'list': [{'ioType': 'IN', 'data': {'list': [{'map': {'flightSearch': '{\"viewType\":\"\",\"fly_type\":\"2\",\"person1\":\"1\",\"person2\":\"0\",\"person3\":\"0\",    \"residentCountry\":\"KR\",\"currency\":\"\",\"promotion_cd\":\"\",    \"flySection\":[{\"departure_cd\":\"BKK\",\"arrival_cd\":\"ICN\",\"departure_date_cd\":\"20170826\"}]}'}, 'javaClass': 'java.util.Map'}], 'javaClass': 'java.util.List'}, 'structureType': 'FIELD', 'javaClass': 'com.jein.framework.connectivity.parameter.InParameter', 'paramName': 'flightSearch'}], 'javaClass': 'java.util.List'}, 'sourceExtension': None}] , \n"
     ]
    },
    {
     "name": "stderr",
     "output_type": "stream",
     "text": [
      "2017-08-09 08:48:12,543 root     DEBUG    Crawling eastarjet homepage schedule site\n"
     ]
    },
    {
     "name": "stdout",
     "output_type": "stream",
     "text": [
      "End Json Payload crawling\n",
      "Start Json Payload crawling :  https://www.eastarjet.com/json/dataService\n",
      ">> Parameters\n",
      "id:2 , method:DataService.service , params:[{'functionName': 'DTWBA00022', 'methodType': None, 'requestExecuteType': 'BIZ', 'requestUniqueCode': 'PGWBA00002', 'DBTransaction': False, 'filterParameter': {'javaClass': 'java.util.Map', 'map': {}}, 'panelId': None, 'sourceName': None, 'javaClass': 'com.jein.framework.connectivity.parameter.RequestParameter', 'inParameters': {'list': [{'ioType': 'IN', 'data': {'list': [{'map': {'flightSearch': '{\"viewType\":\"\",\"fly_type\":\"2\",\"person1\":\"1\",\"person2\":\"0\",\"person3\":\"0\",    \"residentCountry\":\"KR\",\"currency\":\"\",\"promotion_cd\":\"\",    \"flySection\":[{\"departure_cd\":\"BKK\",\"arrival_cd\":\"ICN\",\"departure_date_cd\":\"20170827\"}]}'}, 'javaClass': 'java.util.Map'}], 'javaClass': 'java.util.List'}, 'structureType': 'FIELD', 'javaClass': 'com.jein.framework.connectivity.parameter.InParameter', 'paramName': 'flightSearch'}], 'javaClass': 'java.util.List'}, 'sourceExtension': None}] , \n"
     ]
    },
    {
     "name": "stderr",
     "output_type": "stream",
     "text": [
      "2017-08-09 08:48:14,783 root     DEBUG    Crawling eastarjet homepage schedule site\n"
     ]
    },
    {
     "name": "stdout",
     "output_type": "stream",
     "text": [
      "End Json Payload crawling\n",
      "Start Json Payload crawling :  https://www.eastarjet.com/json/dataService\n",
      ">> Parameters\n",
      "id:2 , method:DataService.service , params:[{'functionName': 'DTWBA00022', 'methodType': None, 'requestExecuteType': 'BIZ', 'requestUniqueCode': 'PGWBA00002', 'DBTransaction': False, 'filterParameter': {'javaClass': 'java.util.Map', 'map': {}}, 'panelId': None, 'sourceName': None, 'javaClass': 'com.jein.framework.connectivity.parameter.RequestParameter', 'inParameters': {'list': [{'ioType': 'IN', 'data': {'list': [{'map': {'flightSearch': '{\"viewType\":\"\",\"fly_type\":\"2\",\"person1\":\"1\",\"person2\":\"0\",\"person3\":\"0\",    \"residentCountry\":\"KR\",\"currency\":\"\",\"promotion_cd\":\"\",    \"flySection\":[{\"departure_cd\":\"BKK\",\"arrival_cd\":\"ICN\",\"departure_date_cd\":\"20170828\"}]}'}, 'javaClass': 'java.util.Map'}], 'javaClass': 'java.util.List'}, 'structureType': 'FIELD', 'javaClass': 'com.jein.framework.connectivity.parameter.InParameter', 'paramName': 'flightSearch'}], 'javaClass': 'java.util.List'}, 'sourceExtension': None}] , \n"
     ]
    },
    {
     "name": "stderr",
     "output_type": "stream",
     "text": [
      "2017-08-09 08:48:17,028 root     DEBUG    Crawling eastarjet homepage schedule site\n"
     ]
    },
    {
     "name": "stdout",
     "output_type": "stream",
     "text": [
      "End Json Payload crawling\n",
      "Start Json Payload crawling :  https://www.eastarjet.com/json/dataService\n",
      ">> Parameters\n",
      "id:2 , method:DataService.service , params:[{'functionName': 'DTWBA00022', 'methodType': None, 'requestExecuteType': 'BIZ', 'requestUniqueCode': 'PGWBA00002', 'DBTransaction': False, 'filterParameter': {'javaClass': 'java.util.Map', 'map': {}}, 'panelId': None, 'sourceName': None, 'javaClass': 'com.jein.framework.connectivity.parameter.RequestParameter', 'inParameters': {'list': [{'ioType': 'IN', 'data': {'list': [{'map': {'flightSearch': '{\"viewType\":\"\",\"fly_type\":\"2\",\"person1\":\"1\",\"person2\":\"0\",\"person3\":\"0\",    \"residentCountry\":\"KR\",\"currency\":\"\",\"promotion_cd\":\"\",    \"flySection\":[{\"departure_cd\":\"BKK\",\"arrival_cd\":\"ICN\",\"departure_date_cd\":\"20170829\"}]}'}, 'javaClass': 'java.util.Map'}], 'javaClass': 'java.util.List'}, 'structureType': 'FIELD', 'javaClass': 'com.jein.framework.connectivity.parameter.InParameter', 'paramName': 'flightSearch'}], 'javaClass': 'java.util.List'}, 'sourceExtension': None}] , \n"
     ]
    },
    {
     "name": "stderr",
     "output_type": "stream",
     "text": [
      "2017-08-09 08:48:19,270 root     DEBUG    Crawling eastarjet homepage schedule site\n"
     ]
    },
    {
     "name": "stdout",
     "output_type": "stream",
     "text": [
      "End Json Payload crawling\n",
      "Start Json Payload crawling :  https://www.eastarjet.com/json/dataService\n",
      ">> Parameters\n",
      "id:2 , method:DataService.service , params:[{'functionName': 'DTWBA00022', 'methodType': None, 'requestExecuteType': 'BIZ', 'requestUniqueCode': 'PGWBA00002', 'DBTransaction': False, 'filterParameter': {'javaClass': 'java.util.Map', 'map': {}}, 'panelId': None, 'sourceName': None, 'javaClass': 'com.jein.framework.connectivity.parameter.RequestParameter', 'inParameters': {'list': [{'ioType': 'IN', 'data': {'list': [{'map': {'flightSearch': '{\"viewType\":\"\",\"fly_type\":\"2\",\"person1\":\"1\",\"person2\":\"0\",\"person3\":\"0\",    \"residentCountry\":\"KR\",\"currency\":\"\",\"promotion_cd\":\"\",    \"flySection\":[{\"departure_cd\":\"BKK\",\"arrival_cd\":\"ICN\",\"departure_date_cd\":\"20170830\"}]}'}, 'javaClass': 'java.util.Map'}], 'javaClass': 'java.util.List'}, 'structureType': 'FIELD', 'javaClass': 'com.jein.framework.connectivity.parameter.InParameter', 'paramName': 'flightSearch'}], 'javaClass': 'java.util.List'}, 'sourceExtension': None}] , \n"
     ]
    },
    {
     "name": "stderr",
     "output_type": "stream",
     "text": [
      "2017-08-09 08:48:21,484 root     INFO     end batch job :: craw_by_route_site :: elapsed -0:00:48.418769 :: Total crawl:21 files saved.\n",
      "2017-08-09 08:48:21,490 root     INFO     start batch job :: craw_by_route_site[BKK,ICN,TW,['20170810', '20170811', '20170812', '20170813', '20170814', '20170815', '20170816', '20170817', '20170818', '20170819', '20170820', '20170821', '20170822', '20170823', '20170824', '20170825', '20170826', '20170827', '20170828', '20170829', '20170830'],TW]\n",
      "2017-08-09 08:48:21,496 root     DEBUG    1 :: TW :: crawling_TW_int :: True\n",
      "2017-08-09 08:48:21,501 root     INFO     <function crawling_TW_int at 0x0000000007FA68C8> :: True\n",
      "2017-08-09 08:48:21,507 root     DEBUG    Crawling twayair homepage schedule site\n"
     ]
    },
    {
     "name": "stdout",
     "output_type": "stream",
     "text": [
      "End Json Payload crawling\n",
      "Start Session crawling\n",
      "make session :  https://www.twayair.com/booking/availabilityList.do\n",
      "crawling :  https://www.twayair.com/booking/ajax/searchAvailability.do\n",
      ">> Parameters\n",
      "today:20170809 , destination2:BKK , destination1:ICN , origin1:BKK , searchType:byDate , onwardDateStr:20170810 , domesticYn:N , promotionCode: , returnDateStr:20170810 , arrivCntryCode: , origin:BKK , orderByRT: , destination:ICN , origin2:ICN , paxTypeCountStr:1,0,0 , orderByOW: , travelType:OW , fareBasisCodeRT: , fareBasisCodeOW: , \n"
     ]
    },
    {
     "name": "stderr",
     "output_type": "stream",
     "text": [
      "2017-08-09 08:48:24,181 root     DEBUG    Crawling twayair homepage schedule site\n"
     ]
    },
    {
     "name": "stdout",
     "output_type": "stream",
     "text": [
      "End Session crawling\n",
      "Start Session crawling\n",
      "make session :  https://www.twayair.com/booking/availabilityList.do\n",
      "crawling :  https://www.twayair.com/booking/ajax/searchAvailability.do\n",
      ">> Parameters\n",
      "today:20170809 , destination2:BKK , destination1:ICN , origin1:BKK , searchType:byDate , onwardDateStr:20170811 , domesticYn:N , promotionCode: , returnDateStr:20170811 , arrivCntryCode: , origin:BKK , orderByRT: , destination:ICN , origin2:ICN , paxTypeCountStr:1,0,0 , orderByOW: , travelType:OW , fareBasisCodeRT: , fareBasisCodeOW: , \n"
     ]
    },
    {
     "name": "stderr",
     "output_type": "stream",
     "text": [
      "2017-08-09 08:48:26,697 root     DEBUG    Crawling twayair homepage schedule site\n"
     ]
    },
    {
     "name": "stdout",
     "output_type": "stream",
     "text": [
      "End Session crawling\n",
      "Start Session crawling\n",
      "make session :  https://www.twayair.com/booking/availabilityList.do\n",
      "crawling :  https://www.twayair.com/booking/ajax/searchAvailability.do\n",
      ">> Parameters\n",
      "today:20170809 , destination2:BKK , destination1:ICN , origin1:BKK , searchType:byDate , onwardDateStr:20170812 , domesticYn:N , promotionCode: , returnDateStr:20170812 , arrivCntryCode: , origin:BKK , orderByRT: , destination:ICN , origin2:ICN , paxTypeCountStr:1,0,0 , orderByOW: , travelType:OW , fareBasisCodeRT: , fareBasisCodeOW: , \n"
     ]
    },
    {
     "name": "stderr",
     "output_type": "stream",
     "text": [
      "2017-08-09 08:48:29,518 root     DEBUG    Crawling twayair homepage schedule site\n"
     ]
    },
    {
     "name": "stdout",
     "output_type": "stream",
     "text": [
      "End Session crawling\n",
      "Start Session crawling\n",
      "make session :  https://www.twayair.com/booking/availabilityList.do\n",
      "crawling :  https://www.twayair.com/booking/ajax/searchAvailability.do\n",
      ">> Parameters\n",
      "today:20170809 , destination2:BKK , destination1:ICN , origin1:BKK , searchType:byDate , onwardDateStr:20170813 , domesticYn:N , promotionCode: , returnDateStr:20170813 , arrivCntryCode: , origin:BKK , orderByRT: , destination:ICN , origin2:ICN , paxTypeCountStr:1,0,0 , orderByOW: , travelType:OW , fareBasisCodeRT: , fareBasisCodeOW: , \n"
     ]
    },
    {
     "name": "stderr",
     "output_type": "stream",
     "text": [
      "2017-08-09 08:48:32,027 root     DEBUG    Crawling twayair homepage schedule site\n"
     ]
    },
    {
     "name": "stdout",
     "output_type": "stream",
     "text": [
      "End Session crawling\n",
      "Start Session crawling\n",
      "make session :  https://www.twayair.com/booking/availabilityList.do\n",
      "crawling :  https://www.twayair.com/booking/ajax/searchAvailability.do\n",
      ">> Parameters\n",
      "today:20170809 , destination2:BKK , destination1:ICN , origin1:BKK , searchType:byDate , onwardDateStr:20170814 , domesticYn:N , promotionCode: , returnDateStr:20170814 , arrivCntryCode: , origin:BKK , orderByRT: , destination:ICN , origin2:ICN , paxTypeCountStr:1,0,0 , orderByOW: , travelType:OW , fareBasisCodeRT: , fareBasisCodeOW: , \n"
     ]
    },
    {
     "name": "stderr",
     "output_type": "stream",
     "text": [
      "2017-08-09 08:48:34,366 root     DEBUG    Crawling twayair homepage schedule site\n"
     ]
    },
    {
     "name": "stdout",
     "output_type": "stream",
     "text": [
      "End Session crawling\n",
      "Start Session crawling\n",
      "make session :  https://www.twayair.com/booking/availabilityList.do\n",
      "crawling :  https://www.twayair.com/booking/ajax/searchAvailability.do\n",
      ">> Parameters\n",
      "today:20170809 , destination2:BKK , destination1:ICN , origin1:BKK , searchType:byDate , onwardDateStr:20170815 , domesticYn:N , promotionCode: , returnDateStr:20170815 , arrivCntryCode: , origin:BKK , orderByRT: , destination:ICN , origin2:ICN , paxTypeCountStr:1,0,0 , orderByOW: , travelType:OW , fareBasisCodeRT: , fareBasisCodeOW: , \n"
     ]
    },
    {
     "name": "stderr",
     "output_type": "stream",
     "text": [
      "2017-08-09 08:48:36,952 root     DEBUG    Crawling twayair homepage schedule site\n"
     ]
    },
    {
     "name": "stdout",
     "output_type": "stream",
     "text": [
      "End Session crawling\n",
      "Start Session crawling\n",
      "make session :  https://www.twayair.com/booking/availabilityList.do\n",
      "crawling :  https://www.twayair.com/booking/ajax/searchAvailability.do\n",
      ">> Parameters\n",
      "today:20170809 , destination2:BKK , destination1:ICN , origin1:BKK , searchType:byDate , onwardDateStr:20170816 , domesticYn:N , promotionCode: , returnDateStr:20170816 , arrivCntryCode: , origin:BKK , orderByRT: , destination:ICN , origin2:ICN , paxTypeCountStr:1,0,0 , orderByOW: , travelType:OW , fareBasisCodeRT: , fareBasisCodeOW: , \n"
     ]
    },
    {
     "name": "stderr",
     "output_type": "stream",
     "text": [
      "2017-08-09 08:48:39,572 root     DEBUG    Crawling twayair homepage schedule site\n"
     ]
    },
    {
     "name": "stdout",
     "output_type": "stream",
     "text": [
      "End Session crawling\n",
      "Start Session crawling\n",
      "make session :  https://www.twayair.com/booking/availabilityList.do\n",
      "crawling :  https://www.twayair.com/booking/ajax/searchAvailability.do\n",
      ">> Parameters\n",
      "today:20170809 , destination2:BKK , destination1:ICN , origin1:BKK , searchType:byDate , onwardDateStr:20170817 , domesticYn:N , promotionCode: , returnDateStr:20170817 , arrivCntryCode: , origin:BKK , orderByRT: , destination:ICN , origin2:ICN , paxTypeCountStr:1,0,0 , orderByOW: , travelType:OW , fareBasisCodeRT: , fareBasisCodeOW: , \n"
     ]
    },
    {
     "name": "stderr",
     "output_type": "stream",
     "text": [
      "2017-08-09 08:48:42,428 root     DEBUG    Crawling twayair homepage schedule site\n"
     ]
    },
    {
     "name": "stdout",
     "output_type": "stream",
     "text": [
      "End Session crawling\n",
      "Start Session crawling\n",
      "make session :  https://www.twayair.com/booking/availabilityList.do\n",
      "crawling :  https://www.twayair.com/booking/ajax/searchAvailability.do\n",
      ">> Parameters\n",
      "today:20170809 , destination2:BKK , destination1:ICN , origin1:BKK , searchType:byDate , onwardDateStr:20170818 , domesticYn:N , promotionCode: , returnDateStr:20170818 , arrivCntryCode: , origin:BKK , orderByRT: , destination:ICN , origin2:ICN , paxTypeCountStr:1,0,0 , orderByOW: , travelType:OW , fareBasisCodeRT: , fareBasisCodeOW: , \n"
     ]
    },
    {
     "name": "stderr",
     "output_type": "stream",
     "text": [
      "2017-08-09 08:48:44,997 root     DEBUG    Crawling twayair homepage schedule site\n"
     ]
    },
    {
     "name": "stdout",
     "output_type": "stream",
     "text": [
      "End Session crawling\n",
      "Start Session crawling\n",
      "make session :  https://www.twayair.com/booking/availabilityList.do\n",
      "crawling :  https://www.twayair.com/booking/ajax/searchAvailability.do\n",
      ">> Parameters\n",
      "today:20170809 , destination2:BKK , destination1:ICN , origin1:BKK , searchType:byDate , onwardDateStr:20170819 , domesticYn:N , promotionCode: , returnDateStr:20170819 , arrivCntryCode: , origin:BKK , orderByRT: , destination:ICN , origin2:ICN , paxTypeCountStr:1,0,0 , orderByOW: , travelType:OW , fareBasisCodeRT: , fareBasisCodeOW: , \n"
     ]
    },
    {
     "name": "stderr",
     "output_type": "stream",
     "text": [
      "2017-08-09 08:48:47,398 root     DEBUG    Crawling twayair homepage schedule site\n"
     ]
    },
    {
     "name": "stdout",
     "output_type": "stream",
     "text": [
      "End Session crawling\n",
      "Start Session crawling\n",
      "make session :  https://www.twayair.com/booking/availabilityList.do\n",
      "crawling :  https://www.twayair.com/booking/ajax/searchAvailability.do\n",
      ">> Parameters\n",
      "today:20170809 , destination2:BKK , destination1:ICN , origin1:BKK , searchType:byDate , onwardDateStr:20170820 , domesticYn:N , promotionCode: , returnDateStr:20170820 , arrivCntryCode: , origin:BKK , orderByRT: , destination:ICN , origin2:ICN , paxTypeCountStr:1,0,0 , orderByOW: , travelType:OW , fareBasisCodeRT: , fareBasisCodeOW: , \n"
     ]
    },
    {
     "name": "stderr",
     "output_type": "stream",
     "text": [
      "2017-08-09 08:48:49,853 root     DEBUG    Crawling twayair homepage schedule site\n"
     ]
    },
    {
     "name": "stdout",
     "output_type": "stream",
     "text": [
      "End Session crawling\n",
      "Start Session crawling\n",
      "make session :  https://www.twayair.com/booking/availabilityList.do\n",
      "crawling :  https://www.twayair.com/booking/ajax/searchAvailability.do\n",
      ">> Parameters\n",
      "today:20170809 , destination2:BKK , destination1:ICN , origin1:BKK , searchType:byDate , onwardDateStr:20170821 , domesticYn:N , promotionCode: , returnDateStr:20170821 , arrivCntryCode: , origin:BKK , orderByRT: , destination:ICN , origin2:ICN , paxTypeCountStr:1,0,0 , orderByOW: , travelType:OW , fareBasisCodeRT: , fareBasisCodeOW: , \n"
     ]
    },
    {
     "name": "stderr",
     "output_type": "stream",
     "text": [
      "2017-08-09 08:48:52,314 root     DEBUG    Crawling twayair homepage schedule site\n"
     ]
    },
    {
     "name": "stdout",
     "output_type": "stream",
     "text": [
      "End Session crawling\n",
      "Start Session crawling\n",
      "make session :  https://www.twayair.com/booking/availabilityList.do\n",
      "crawling :  https://www.twayair.com/booking/ajax/searchAvailability.do\n",
      ">> Parameters\n",
      "today:20170809 , destination2:BKK , destination1:ICN , origin1:BKK , searchType:byDate , onwardDateStr:20170822 , domesticYn:N , promotionCode: , returnDateStr:20170822 , arrivCntryCode: , origin:BKK , orderByRT: , destination:ICN , origin2:ICN , paxTypeCountStr:1,0,0 , orderByOW: , travelType:OW , fareBasisCodeRT: , fareBasisCodeOW: , \n"
     ]
    },
    {
     "name": "stderr",
     "output_type": "stream",
     "text": [
      "2017-08-09 08:48:54,786 root     DEBUG    Crawling twayair homepage schedule site\n"
     ]
    },
    {
     "name": "stdout",
     "output_type": "stream",
     "text": [
      "End Session crawling\n",
      "Start Session crawling\n",
      "make session :  https://www.twayair.com/booking/availabilityList.do\n",
      "crawling :  https://www.twayair.com/booking/ajax/searchAvailability.do\n",
      ">> Parameters\n",
      "today:20170809 , destination2:BKK , destination1:ICN , origin1:BKK , searchType:byDate , onwardDateStr:20170823 , domesticYn:N , promotionCode: , returnDateStr:20170823 , arrivCntryCode: , origin:BKK , orderByRT: , destination:ICN , origin2:ICN , paxTypeCountStr:1,0,0 , orderByOW: , travelType:OW , fareBasisCodeRT: , fareBasisCodeOW: , \n"
     ]
    },
    {
     "name": "stderr",
     "output_type": "stream",
     "text": [
      "2017-08-09 08:48:57,409 root     DEBUG    Crawling twayair homepage schedule site\n"
     ]
    },
    {
     "name": "stdout",
     "output_type": "stream",
     "text": [
      "End Session crawling\n",
      "Start Session crawling\n",
      "make session :  https://www.twayair.com/booking/availabilityList.do\n",
      "crawling :  https://www.twayair.com/booking/ajax/searchAvailability.do\n",
      ">> Parameters\n",
      "today:20170809 , destination2:BKK , destination1:ICN , origin1:BKK , searchType:byDate , onwardDateStr:20170824 , domesticYn:N , promotionCode: , returnDateStr:20170824 , arrivCntryCode: , origin:BKK , orderByRT: , destination:ICN , origin2:ICN , paxTypeCountStr:1,0,0 , orderByOW: , travelType:OW , fareBasisCodeRT: , fareBasisCodeOW: , \n"
     ]
    },
    {
     "name": "stderr",
     "output_type": "stream",
     "text": [
      "2017-08-09 08:48:59,818 root     DEBUG    Crawling twayair homepage schedule site\n"
     ]
    },
    {
     "name": "stdout",
     "output_type": "stream",
     "text": [
      "End Session crawling\n",
      "Start Session crawling\n",
      "make session :  https://www.twayair.com/booking/availabilityList.do\n",
      "crawling :  https://www.twayair.com/booking/ajax/searchAvailability.do\n",
      ">> Parameters\n",
      "today:20170809 , destination2:BKK , destination1:ICN , origin1:BKK , searchType:byDate , onwardDateStr:20170825 , domesticYn:N , promotionCode: , returnDateStr:20170825 , arrivCntryCode: , origin:BKK , orderByRT: , destination:ICN , origin2:ICN , paxTypeCountStr:1,0,0 , orderByOW: , travelType:OW , fareBasisCodeRT: , fareBasisCodeOW: , \n"
     ]
    },
    {
     "name": "stderr",
     "output_type": "stream",
     "text": [
      "2017-08-09 08:49:02,390 root     DEBUG    Crawling twayair homepage schedule site\n"
     ]
    },
    {
     "name": "stdout",
     "output_type": "stream",
     "text": [
      "End Session crawling\n",
      "Start Session crawling\n",
      "make session :  https://www.twayair.com/booking/availabilityList.do\n",
      "crawling :  https://www.twayair.com/booking/ajax/searchAvailability.do\n",
      ">> Parameters\n",
      "today:20170809 , destination2:BKK , destination1:ICN , origin1:BKK , searchType:byDate , onwardDateStr:20170826 , domesticYn:N , promotionCode: , returnDateStr:20170826 , arrivCntryCode: , origin:BKK , orderByRT: , destination:ICN , origin2:ICN , paxTypeCountStr:1,0,0 , orderByOW: , travelType:OW , fareBasisCodeRT: , fareBasisCodeOW: , \n"
     ]
    },
    {
     "name": "stderr",
     "output_type": "stream",
     "text": [
      "2017-08-09 08:49:04,809 root     DEBUG    Crawling twayair homepage schedule site\n"
     ]
    },
    {
     "name": "stdout",
     "output_type": "stream",
     "text": [
      "End Session crawling\n",
      "Start Session crawling\n",
      "make session :  https://www.twayair.com/booking/availabilityList.do\n",
      "crawling :  https://www.twayair.com/booking/ajax/searchAvailability.do\n",
      ">> Parameters\n",
      "today:20170809 , destination2:BKK , destination1:ICN , origin1:BKK , searchType:byDate , onwardDateStr:20170827 , domesticYn:N , promotionCode: , returnDateStr:20170827 , arrivCntryCode: , origin:BKK , orderByRT: , destination:ICN , origin2:ICN , paxTypeCountStr:1,0,0 , orderByOW: , travelType:OW , fareBasisCodeRT: , fareBasisCodeOW: , \n"
     ]
    },
    {
     "name": "stderr",
     "output_type": "stream",
     "text": [
      "2017-08-09 08:49:07,468 root     DEBUG    Crawling twayair homepage schedule site\n"
     ]
    },
    {
     "name": "stdout",
     "output_type": "stream",
     "text": [
      "End Session crawling\n",
      "Start Session crawling\n",
      "make session :  https://www.twayair.com/booking/availabilityList.do\n",
      "crawling :  https://www.twayair.com/booking/ajax/searchAvailability.do\n",
      ">> Parameters\n",
      "today:20170809 , destination2:BKK , destination1:ICN , origin1:BKK , searchType:byDate , onwardDateStr:20170828 , domesticYn:N , promotionCode: , returnDateStr:20170828 , arrivCntryCode: , origin:BKK , orderByRT: , destination:ICN , origin2:ICN , paxTypeCountStr:1,0,0 , orderByOW: , travelType:OW , fareBasisCodeRT: , fareBasisCodeOW: , \n"
     ]
    },
    {
     "name": "stderr",
     "output_type": "stream",
     "text": [
      "2017-08-09 08:49:10,224 root     DEBUG    Crawling twayair homepage schedule site\n"
     ]
    },
    {
     "name": "stdout",
     "output_type": "stream",
     "text": [
      "End Session crawling\n",
      "Start Session crawling\n",
      "make session :  https://www.twayair.com/booking/availabilityList.do\n",
      "crawling :  https://www.twayair.com/booking/ajax/searchAvailability.do\n",
      ">> Parameters\n",
      "today:20170809 , destination2:BKK , destination1:ICN , origin1:BKK , searchType:byDate , onwardDateStr:20170829 , domesticYn:N , promotionCode: , returnDateStr:20170829 , arrivCntryCode: , origin:BKK , orderByRT: , destination:ICN , origin2:ICN , paxTypeCountStr:1,0,0 , orderByOW: , travelType:OW , fareBasisCodeRT: , fareBasisCodeOW: , \n"
     ]
    },
    {
     "name": "stderr",
     "output_type": "stream",
     "text": [
      "2017-08-09 08:49:12,853 root     DEBUG    Crawling twayair homepage schedule site\n"
     ]
    },
    {
     "name": "stdout",
     "output_type": "stream",
     "text": [
      "End Session crawling\n",
      "Start Session crawling\n",
      "make session :  https://www.twayair.com/booking/availabilityList.do\n",
      "crawling :  https://www.twayair.com/booking/ajax/searchAvailability.do\n",
      ">> Parameters\n",
      "today:20170809 , destination2:BKK , destination1:ICN , origin1:BKK , searchType:byDate , onwardDateStr:20170830 , domesticYn:N , promotionCode: , returnDateStr:20170830 , arrivCntryCode: , origin:BKK , orderByRT: , destination:ICN , origin2:ICN , paxTypeCountStr:1,0,0 , orderByOW: , travelType:OW , fareBasisCodeRT: , fareBasisCodeOW: , \n"
     ]
    },
    {
     "name": "stderr",
     "output_type": "stream",
     "text": [
      "2017-08-09 08:49:15,483 root     INFO     end batch job :: craw_by_route_site :: elapsed -0:00:53.987088 :: Total crawl:21 files saved.\n",
      "2017-08-09 08:49:15,489 root     INFO     start batch job :: craw_by_route_site[BKK,ICN,7C,['20170810', '20170811', '20170812', '20170813', '20170814', '20170815', '20170816', '20170817', '20170818', '20170819', '20170820', '20170821', '20170822', '20170823', '20170824', '20170825', '20170826', '20170827', '20170828', '20170829', '20170830'],7C]\n",
      "2017-08-09 08:49:15,494 root     DEBUG    1 :: 7C :: crawling_7C_int :: True\n",
      "2017-08-09 08:49:15,500 root     INFO     <function crawling_7C_int at 0x0000000007FA6A60> :: True\n",
      "2017-08-09 08:49:15,509 root     DEBUG    Crawling jejuair homepage schedule site\n"
     ]
    },
    {
     "name": "stdout",
     "output_type": "stream",
     "text": [
      "End Session crawling\n",
      "Start Session crawling\n",
      "make session :  https://www.jejuair.net/jejuair/com/jeju/ibe/availInit.do\n",
      "crawling :  https://www.jejuair.net/jejuair/com/jeju/ibe/searchAvail.do\n",
      ">> Parameters\n",
      "AdultPaxCnt:1 , Language:KR , SystemType:IBE , DepDate:20170810 , ChildPaxCnt:0 , ArrStn:ICN , InfantPaxCnt:0 , SegType:DEP , DepStn:BKK , RouteType:I , TripType:OW , Index:1 , \n"
     ]
    },
    {
     "name": "stderr",
     "output_type": "stream",
     "text": [
      "2017-08-09 08:49:18,495 root     DEBUG    Crawling jejuair homepage schedule site\n"
     ]
    },
    {
     "name": "stdout",
     "output_type": "stream",
     "text": [
      "End Session crawling\n",
      "Start Session crawling\n",
      "make session :  https://www.jejuair.net/jejuair/com/jeju/ibe/availInit.do\n",
      "crawling :  https://www.jejuair.net/jejuair/com/jeju/ibe/searchAvail.do\n",
      ">> Parameters\n",
      "AdultPaxCnt:1 , Language:KR , SystemType:IBE , DepDate:20170811 , ChildPaxCnt:0 , ArrStn:ICN , InfantPaxCnt:0 , SegType:DEP , DepStn:BKK , RouteType:I , TripType:OW , Index:1 , \n"
     ]
    },
    {
     "name": "stderr",
     "output_type": "stream",
     "text": [
      "2017-08-09 08:49:23,782 root     DEBUG    Crawling jejuair homepage schedule site\n"
     ]
    },
    {
     "name": "stdout",
     "output_type": "stream",
     "text": [
      "End Session crawling\n",
      "Start Session crawling\n",
      "make session :  https://www.jejuair.net/jejuair/com/jeju/ibe/availInit.do\n",
      "crawling :  https://www.jejuair.net/jejuair/com/jeju/ibe/searchAvail.do\n",
      ">> Parameters\n",
      "AdultPaxCnt:1 , Language:KR , SystemType:IBE , DepDate:20170812 , ChildPaxCnt:0 , ArrStn:ICN , InfantPaxCnt:0 , SegType:DEP , DepStn:BKK , RouteType:I , TripType:OW , Index:1 , \n"
     ]
    },
    {
     "name": "stderr",
     "output_type": "stream",
     "text": [
      "2017-08-09 08:49:27,438 root     DEBUG    Crawling jejuair homepage schedule site\n"
     ]
    },
    {
     "name": "stdout",
     "output_type": "stream",
     "text": [
      "End Session crawling\n",
      "Start Session crawling\n",
      "make session :  https://www.jejuair.net/jejuair/com/jeju/ibe/availInit.do\n",
      "crawling :  https://www.jejuair.net/jejuair/com/jeju/ibe/searchAvail.do\n",
      ">> Parameters\n",
      "AdultPaxCnt:1 , Language:KR , SystemType:IBE , DepDate:20170813 , ChildPaxCnt:0 , ArrStn:ICN , InfantPaxCnt:0 , SegType:DEP , DepStn:BKK , RouteType:I , TripType:OW , Index:1 , \n"
     ]
    },
    {
     "name": "stderr",
     "output_type": "stream",
     "text": [
      "2017-08-09 08:49:31,387 root     DEBUG    Crawling jejuair homepage schedule site\n"
     ]
    },
    {
     "name": "stdout",
     "output_type": "stream",
     "text": [
      "End Session crawling\n",
      "Start Session crawling\n",
      "make session :  https://www.jejuair.net/jejuair/com/jeju/ibe/availInit.do\n",
      "crawling :  https://www.jejuair.net/jejuair/com/jeju/ibe/searchAvail.do\n",
      ">> Parameters\n",
      "AdultPaxCnt:1 , Language:KR , SystemType:IBE , DepDate:20170814 , ChildPaxCnt:0 , ArrStn:ICN , InfantPaxCnt:0 , SegType:DEP , DepStn:BKK , RouteType:I , TripType:OW , Index:1 , \n"
     ]
    },
    {
     "name": "stderr",
     "output_type": "stream",
     "text": [
      "2017-08-09 08:49:34,120 root     DEBUG    Crawling jejuair homepage schedule site\n"
     ]
    },
    {
     "name": "stdout",
     "output_type": "stream",
     "text": [
      "End Session crawling\n",
      "Start Session crawling\n",
      "make session :  https://www.jejuair.net/jejuair/com/jeju/ibe/availInit.do\n",
      "crawling :  https://www.jejuair.net/jejuair/com/jeju/ibe/searchAvail.do\n",
      ">> Parameters\n",
      "AdultPaxCnt:1 , Language:KR , SystemType:IBE , DepDate:20170815 , ChildPaxCnt:0 , ArrStn:ICN , InfantPaxCnt:0 , SegType:DEP , DepStn:BKK , RouteType:I , TripType:OW , Index:1 , \n"
     ]
    },
    {
     "name": "stderr",
     "output_type": "stream",
     "text": [
      "2017-08-09 08:49:36,917 root     DEBUG    Crawling jejuair homepage schedule site\n"
     ]
    },
    {
     "name": "stdout",
     "output_type": "stream",
     "text": [
      "End Session crawling\n",
      "Start Session crawling\n",
      "make session :  https://www.jejuair.net/jejuair/com/jeju/ibe/availInit.do\n",
      "crawling :  https://www.jejuair.net/jejuair/com/jeju/ibe/searchAvail.do\n",
      ">> Parameters\n",
      "AdultPaxCnt:1 , Language:KR , SystemType:IBE , DepDate:20170816 , ChildPaxCnt:0 , ArrStn:ICN , InfantPaxCnt:0 , SegType:DEP , DepStn:BKK , RouteType:I , TripType:OW , Index:1 , \n"
     ]
    },
    {
     "name": "stderr",
     "output_type": "stream",
     "text": [
      "2017-08-09 08:49:41,368 root     DEBUG    Crawling jejuair homepage schedule site\n"
     ]
    },
    {
     "name": "stdout",
     "output_type": "stream",
     "text": [
      "End Session crawling\n",
      "Start Session crawling\n",
      "make session :  https://www.jejuair.net/jejuair/com/jeju/ibe/availInit.do\n",
      "crawling :  https://www.jejuair.net/jejuair/com/jeju/ibe/searchAvail.do\n",
      ">> Parameters\n",
      "AdultPaxCnt:1 , Language:KR , SystemType:IBE , DepDate:20170817 , ChildPaxCnt:0 , ArrStn:ICN , InfantPaxCnt:0 , SegType:DEP , DepStn:BKK , RouteType:I , TripType:OW , Index:1 , \n"
     ]
    },
    {
     "name": "stderr",
     "output_type": "stream",
     "text": [
      "2017-08-09 08:49:46,628 root     DEBUG    Crawling jejuair homepage schedule site\n"
     ]
    },
    {
     "name": "stdout",
     "output_type": "stream",
     "text": [
      "End Session crawling\n",
      "Start Session crawling\n",
      "make session :  https://www.jejuair.net/jejuair/com/jeju/ibe/availInit.do\n",
      "crawling :  https://www.jejuair.net/jejuair/com/jeju/ibe/searchAvail.do\n",
      ">> Parameters\n",
      "AdultPaxCnt:1 , Language:KR , SystemType:IBE , DepDate:20170818 , ChildPaxCnt:0 , ArrStn:ICN , InfantPaxCnt:0 , SegType:DEP , DepStn:BKK , RouteType:I , TripType:OW , Index:1 , \n"
     ]
    },
    {
     "name": "stderr",
     "output_type": "stream",
     "text": [
      "2017-08-09 08:49:49,767 root     DEBUG    Crawling jejuair homepage schedule site\n"
     ]
    },
    {
     "name": "stdout",
     "output_type": "stream",
     "text": [
      "End Session crawling\n",
      "Start Session crawling\n",
      "make session :  https://www.jejuair.net/jejuair/com/jeju/ibe/availInit.do\n",
      "crawling :  https://www.jejuair.net/jejuair/com/jeju/ibe/searchAvail.do\n",
      ">> Parameters\n",
      "AdultPaxCnt:1 , Language:KR , SystemType:IBE , DepDate:20170819 , ChildPaxCnt:0 , ArrStn:ICN , InfantPaxCnt:0 , SegType:DEP , DepStn:BKK , RouteType:I , TripType:OW , Index:1 , \n"
     ]
    },
    {
     "name": "stderr",
     "output_type": "stream",
     "text": [
      "2017-08-09 08:49:52,509 root     DEBUG    Crawling jejuair homepage schedule site\n"
     ]
    },
    {
     "name": "stdout",
     "output_type": "stream",
     "text": [
      "End Session crawling\n",
      "Start Session crawling\n",
      "make session :  https://www.jejuair.net/jejuair/com/jeju/ibe/availInit.do\n",
      "crawling :  https://www.jejuair.net/jejuair/com/jeju/ibe/searchAvail.do\n",
      ">> Parameters\n",
      "AdultPaxCnt:1 , Language:KR , SystemType:IBE , DepDate:20170820 , ChildPaxCnt:0 , ArrStn:ICN , InfantPaxCnt:0 , SegType:DEP , DepStn:BKK , RouteType:I , TripType:OW , Index:1 , \n"
     ]
    },
    {
     "name": "stderr",
     "output_type": "stream",
     "text": [
      "2017-08-09 08:50:00,011 root     DEBUG    Crawling jejuair homepage schedule site\n"
     ]
    },
    {
     "name": "stdout",
     "output_type": "stream",
     "text": [
      "End Session crawling\n",
      "Start Session crawling\n",
      "make session :  https://www.jejuair.net/jejuair/com/jeju/ibe/availInit.do\n",
      "crawling :  https://www.jejuair.net/jejuair/com/jeju/ibe/searchAvail.do\n",
      ">> Parameters\n",
      "AdultPaxCnt:1 , Language:KR , SystemType:IBE , DepDate:20170821 , ChildPaxCnt:0 , ArrStn:ICN , InfantPaxCnt:0 , SegType:DEP , DepStn:BKK , RouteType:I , TripType:OW , Index:1 , \n"
     ]
    },
    {
     "name": "stderr",
     "output_type": "stream",
     "text": [
      "2017-08-09 08:50:06,046 root     DEBUG    Crawling jejuair homepage schedule site\n"
     ]
    },
    {
     "name": "stdout",
     "output_type": "stream",
     "text": [
      "End Session crawling\n",
      "Start Session crawling\n",
      "make session :  https://www.jejuair.net/jejuair/com/jeju/ibe/availInit.do\n",
      "crawling :  https://www.jejuair.net/jejuair/com/jeju/ibe/searchAvail.do\n",
      ">> Parameters\n",
      "AdultPaxCnt:1 , Language:KR , SystemType:IBE , DepDate:20170822 , ChildPaxCnt:0 , ArrStn:ICN , InfantPaxCnt:0 , SegType:DEP , DepStn:BKK , RouteType:I , TripType:OW , Index:1 , \n"
     ]
    },
    {
     "name": "stderr",
     "output_type": "stream",
     "text": [
      "2017-08-09 08:50:11,329 root     DEBUG    Crawling jejuair homepage schedule site\n"
     ]
    },
    {
     "name": "stdout",
     "output_type": "stream",
     "text": [
      "End Session crawling\n",
      "Start Session crawling\n",
      "make session :  https://www.jejuair.net/jejuair/com/jeju/ibe/availInit.do\n",
      "crawling :  https://www.jejuair.net/jejuair/com/jeju/ibe/searchAvail.do\n",
      ">> Parameters\n",
      "AdultPaxCnt:1 , Language:KR , SystemType:IBE , DepDate:20170823 , ChildPaxCnt:0 , ArrStn:ICN , InfantPaxCnt:0 , SegType:DEP , DepStn:BKK , RouteType:I , TripType:OW , Index:1 , \n"
     ]
    },
    {
     "name": "stderr",
     "output_type": "stream",
     "text": [
      "2017-08-09 08:50:15,332 root     DEBUG    Crawling jejuair homepage schedule site\n"
     ]
    },
    {
     "name": "stdout",
     "output_type": "stream",
     "text": [
      "End Session crawling\n",
      "Start Session crawling\n",
      "make session :  https://www.jejuair.net/jejuair/com/jeju/ibe/availInit.do\n",
      "crawling :  https://www.jejuair.net/jejuair/com/jeju/ibe/searchAvail.do\n",
      ">> Parameters\n",
      "AdultPaxCnt:1 , Language:KR , SystemType:IBE , DepDate:20170824 , ChildPaxCnt:0 , ArrStn:ICN , InfantPaxCnt:0 , SegType:DEP , DepStn:BKK , RouteType:I , TripType:OW , Index:1 , \n"
     ]
    },
    {
     "name": "stderr",
     "output_type": "stream",
     "text": [
      "2017-08-09 08:50:19,990 root     DEBUG    Crawling jejuair homepage schedule site\n"
     ]
    },
    {
     "name": "stdout",
     "output_type": "stream",
     "text": [
      "End Session crawling\n",
      "Start Session crawling\n",
      "make session :  https://www.jejuair.net/jejuair/com/jeju/ibe/availInit.do\n",
      "crawling :  https://www.jejuair.net/jejuair/com/jeju/ibe/searchAvail.do\n",
      ">> Parameters\n",
      "AdultPaxCnt:1 , Language:KR , SystemType:IBE , DepDate:20170825 , ChildPaxCnt:0 , ArrStn:ICN , InfantPaxCnt:0 , SegType:DEP , DepStn:BKK , RouteType:I , TripType:OW , Index:1 , \n"
     ]
    },
    {
     "name": "stderr",
     "output_type": "stream",
     "text": [
      "2017-08-09 08:50:22,859 root     DEBUG    Crawling jejuair homepage schedule site\n"
     ]
    },
    {
     "name": "stdout",
     "output_type": "stream",
     "text": [
      "End Session crawling\n",
      "Start Session crawling\n",
      "make session :  https://www.jejuair.net/jejuair/com/jeju/ibe/availInit.do\n",
      "crawling :  https://www.jejuair.net/jejuair/com/jeju/ibe/searchAvail.do\n",
      ">> Parameters\n",
      "AdultPaxCnt:1 , Language:KR , SystemType:IBE , DepDate:20170826 , ChildPaxCnt:0 , ArrStn:ICN , InfantPaxCnt:0 , SegType:DEP , DepStn:BKK , RouteType:I , TripType:OW , Index:1 , \n"
     ]
    },
    {
     "name": "stderr",
     "output_type": "stream",
     "text": [
      "2017-08-09 08:50:25,804 root     DEBUG    Crawling jejuair homepage schedule site\n"
     ]
    },
    {
     "name": "stdout",
     "output_type": "stream",
     "text": [
      "End Session crawling\n",
      "Start Session crawling\n",
      "make session :  https://www.jejuair.net/jejuair/com/jeju/ibe/availInit.do\n",
      "crawling :  https://www.jejuair.net/jejuair/com/jeju/ibe/searchAvail.do\n",
      ">> Parameters\n",
      "AdultPaxCnt:1 , Language:KR , SystemType:IBE , DepDate:20170827 , ChildPaxCnt:0 , ArrStn:ICN , InfantPaxCnt:0 , SegType:DEP , DepStn:BKK , RouteType:I , TripType:OW , Index:1 , \n"
     ]
    },
    {
     "name": "stderr",
     "output_type": "stream",
     "text": [
      "2017-08-09 08:50:28,656 root     DEBUG    Crawling jejuair homepage schedule site\n"
     ]
    },
    {
     "name": "stdout",
     "output_type": "stream",
     "text": [
      "End Session crawling\n",
      "Start Session crawling\n",
      "make session :  https://www.jejuair.net/jejuair/com/jeju/ibe/availInit.do\n",
      "crawling :  https://www.jejuair.net/jejuair/com/jeju/ibe/searchAvail.do\n",
      ">> Parameters\n",
      "AdultPaxCnt:1 , Language:KR , SystemType:IBE , DepDate:20170828 , ChildPaxCnt:0 , ArrStn:ICN , InfantPaxCnt:0 , SegType:DEP , DepStn:BKK , RouteType:I , TripType:OW , Index:1 , \n"
     ]
    },
    {
     "name": "stderr",
     "output_type": "stream",
     "text": [
      "2017-08-09 08:50:32,974 root     DEBUG    Crawling jejuair homepage schedule site\n"
     ]
    },
    {
     "name": "stdout",
     "output_type": "stream",
     "text": [
      "End Session crawling\n",
      "Start Session crawling\n",
      "make session :  https://www.jejuair.net/jejuair/com/jeju/ibe/availInit.do\n",
      "crawling :  https://www.jejuair.net/jejuair/com/jeju/ibe/searchAvail.do\n",
      ">> Parameters\n",
      "AdultPaxCnt:1 , Language:KR , SystemType:IBE , DepDate:20170829 , ChildPaxCnt:0 , ArrStn:ICN , InfantPaxCnt:0 , SegType:DEP , DepStn:BKK , RouteType:I , TripType:OW , Index:1 , \n"
     ]
    },
    {
     "name": "stderr",
     "output_type": "stream",
     "text": [
      "2017-08-09 08:50:35,823 root     DEBUG    Crawling jejuair homepage schedule site\n"
     ]
    },
    {
     "name": "stdout",
     "output_type": "stream",
     "text": [
      "End Session crawling\n",
      "Start Session crawling\n",
      "make session :  https://www.jejuair.net/jejuair/com/jeju/ibe/availInit.do\n",
      "crawling :  https://www.jejuair.net/jejuair/com/jeju/ibe/searchAvail.do\n",
      ">> Parameters\n",
      "AdultPaxCnt:1 , Language:KR , SystemType:IBE , DepDate:20170830 , ChildPaxCnt:0 , ArrStn:ICN , InfantPaxCnt:0 , SegType:DEP , DepStn:BKK , RouteType:I , TripType:OW , Index:1 , \n"
     ]
    },
    {
     "name": "stderr",
     "output_type": "stream",
     "text": [
      "2017-08-09 08:50:41,066 root     INFO     end batch job :: craw_by_route_site :: elapsed -0:01:25.571895 :: Total crawl:21 files saved.\n",
      "2017-08-09 08:50:41,071 root     INFO     start batch job :: craw_by_route_site[BKK/SEA,ICN/KOR,LJ,['20170810', '20170811', '20170812', '20170813', '20170814', '20170815', '20170816', '20170817', '20170818', '20170819', '20170820', '20170821', '20170822', '20170823', '20170824', '20170825', '20170826', '20170827', '20170828', '20170829', '20170830'],LJ]\n",
      "2017-08-09 08:50:41,076 root     DEBUG    1 :: LJ :: crawling_LJ_int :: True\n",
      "2017-08-09 08:50:41,080 root     INFO     <function crawling_LJ_int at 0x0000000007FA6BF8> :: True\n"
     ]
    },
    {
     "name": "stdout",
     "output_type": "stream",
     "text": [
      "End Session crawling\n",
      "Crawling jinair mobile page schedule site\n",
      "Param :  BKK/SEA ICN/KOR 20170810\n",
      "End crawling\n",
      "Crawling jinair mobile page schedule site\n",
      "Param :  BKK/SEA ICN/KOR 20170811\n",
      "End crawling\n",
      "Crawling jinair mobile page schedule site\n",
      "Param :  BKK/SEA ICN/KOR 20170812\n",
      "End crawling\n",
      "Crawling jinair mobile page schedule site\n",
      "Param :  BKK/SEA ICN/KOR 20170813\n",
      "End crawling\n",
      "Crawling jinair mobile page schedule site\n",
      "Param :  BKK/SEA ICN/KOR 20170814\n",
      "End crawling\n",
      "Crawling jinair mobile page schedule site\n",
      "Param :  BKK/SEA ICN/KOR 20170815\n",
      "End crawling\n",
      "Crawling jinair mobile page schedule site\n",
      "Param :  BKK/SEA ICN/KOR 20170816\n",
      "End crawling\n",
      "Crawling jinair mobile page schedule site\n",
      "Param :  BKK/SEA ICN/KOR 20170817\n",
      "End crawling\n",
      "Crawling jinair mobile page schedule site\n",
      "Param :  BKK/SEA ICN/KOR 20170818\n",
      "End crawling\n",
      "Crawling jinair mobile page schedule site\n",
      "Param :  BKK/SEA ICN/KOR 20170819\n",
      "End crawling\n",
      "Crawling jinair mobile page schedule site\n",
      "Param :  BKK/SEA ICN/KOR 20170820\n",
      "End crawling\n",
      "Crawling jinair mobile page schedule site\n",
      "Param :  BKK/SEA ICN/KOR 20170821\n",
      "End crawling\n",
      "Crawling jinair mobile page schedule site\n",
      "Param :  BKK/SEA ICN/KOR 20170822\n",
      "End crawling\n",
      "Crawling jinair mobile page schedule site\n",
      "Param :  BKK/SEA ICN/KOR 20170823\n",
      "End crawling\n",
      "Crawling jinair mobile page schedule site\n",
      "Param :  BKK/SEA ICN/KOR 20170824\n",
      "End crawling\n",
      "Crawling jinair mobile page schedule site\n",
      "Param :  BKK/SEA ICN/KOR 20170825\n",
      "End crawling\n",
      "Crawling jinair mobile page schedule site\n",
      "Param :  BKK/SEA ICN/KOR 20170826\n",
      "End crawling\n",
      "Crawling jinair mobile page schedule site\n",
      "Param :  BKK/SEA ICN/KOR 20170827\n",
      "End crawling\n",
      "Crawling jinair mobile page schedule site\n",
      "Param :  BKK/SEA ICN/KOR 20170828\n",
      "End crawling\n",
      "Crawling jinair mobile page schedule site\n",
      "Param :  BKK/SEA ICN/KOR 20170829\n",
      "End crawling\n",
      "Crawling jinair mobile page schedule site\n",
      "Param :  BKK/SEA ICN/KOR 20170830\n"
     ]
    },
    {
     "name": "stderr",
     "output_type": "stream",
     "text": [
      "2017-08-09 08:51:25,970 root     INFO     end batch job :: craw_by_route_site :: elapsed -0:00:44.894568 :: Total crawl:21 files saved.\n",
      "2017-08-09 08:51:25,975 root     INFO     start batch job :: craw_by_route_site[FUK,ICN,ZE,['20170810', '20170811', '20170812', '20170813', '20170814', '20170815', '20170816', '20170817', '20170818', '20170819', '20170820', '20170821', '20170822', '20170823', '20170824', '20170825', '20170826', '20170827', '20170828', '20170829', '20170830'],ZE]\n",
      "2017-08-09 08:51:25,978 root     DEBUG    1 :: ZE :: crawling_ZE_dom_int :: True\n",
      "2017-08-09 08:51:25,981 root     INFO     <function crawling_ZE_dom_int at 0x0000000007FA6F28> :: True\n",
      "2017-08-09 08:51:25,986 root     DEBUG    Crawling eastarjet homepage schedule site\n"
     ]
    },
    {
     "name": "stdout",
     "output_type": "stream",
     "text": [
      "End crawling\n",
      "Start Json Payload crawling :  https://www.eastarjet.com/json/dataService\n",
      ">> Parameters\n",
      "id:2 , method:DataService.service , params:[{'functionName': 'DTWBA00022', 'methodType': None, 'requestExecuteType': 'BIZ', 'requestUniqueCode': 'PGWBA00002', 'DBTransaction': False, 'filterParameter': {'javaClass': 'java.util.Map', 'map': {}}, 'panelId': None, 'sourceName': None, 'javaClass': 'com.jein.framework.connectivity.parameter.RequestParameter', 'inParameters': {'list': [{'ioType': 'IN', 'data': {'list': [{'map': {'flightSearch': '{\"viewType\":\"\",\"fly_type\":\"2\",\"person1\":\"1\",\"person2\":\"0\",\"person3\":\"0\",    \"residentCountry\":\"KR\",\"currency\":\"\",\"promotion_cd\":\"\",    \"flySection\":[{\"departure_cd\":\"FUK\",\"arrival_cd\":\"ICN\",\"departure_date_cd\":\"20170810\"}]}'}, 'javaClass': 'java.util.Map'}], 'javaClass': 'java.util.List'}, 'structureType': 'FIELD', 'javaClass': 'com.jein.framework.connectivity.parameter.InParameter', 'paramName': 'flightSearch'}], 'javaClass': 'java.util.List'}, 'sourceExtension': None}] , \n"
     ]
    },
    {
     "name": "stderr",
     "output_type": "stream",
     "text": [
      "2017-08-09 08:51:28,638 root     DEBUG    Crawling eastarjet homepage schedule site\n"
     ]
    },
    {
     "name": "stdout",
     "output_type": "stream",
     "text": [
      "End Json Payload crawling\n",
      "Start Json Payload crawling :  https://www.eastarjet.com/json/dataService\n",
      ">> Parameters\n",
      "id:2 , method:DataService.service , params:[{'functionName': 'DTWBA00022', 'methodType': None, 'requestExecuteType': 'BIZ', 'requestUniqueCode': 'PGWBA00002', 'DBTransaction': False, 'filterParameter': {'javaClass': 'java.util.Map', 'map': {}}, 'panelId': None, 'sourceName': None, 'javaClass': 'com.jein.framework.connectivity.parameter.RequestParameter', 'inParameters': {'list': [{'ioType': 'IN', 'data': {'list': [{'map': {'flightSearch': '{\"viewType\":\"\",\"fly_type\":\"2\",\"person1\":\"1\",\"person2\":\"0\",\"person3\":\"0\",    \"residentCountry\":\"KR\",\"currency\":\"\",\"promotion_cd\":\"\",    \"flySection\":[{\"departure_cd\":\"FUK\",\"arrival_cd\":\"ICN\",\"departure_date_cd\":\"20170811\"}]}'}, 'javaClass': 'java.util.Map'}], 'javaClass': 'java.util.List'}, 'structureType': 'FIELD', 'javaClass': 'com.jein.framework.connectivity.parameter.InParameter', 'paramName': 'flightSearch'}], 'javaClass': 'java.util.List'}, 'sourceExtension': None}] , \n"
     ]
    },
    {
     "name": "stderr",
     "output_type": "stream",
     "text": [
      "2017-08-09 08:51:30,897 root     DEBUG    Crawling eastarjet homepage schedule site\n"
     ]
    },
    {
     "name": "stdout",
     "output_type": "stream",
     "text": [
      "End Json Payload crawling\n",
      "Start Json Payload crawling :  https://www.eastarjet.com/json/dataService\n",
      ">> Parameters\n",
      "id:2 , method:DataService.service , params:[{'functionName': 'DTWBA00022', 'methodType': None, 'requestExecuteType': 'BIZ', 'requestUniqueCode': 'PGWBA00002', 'DBTransaction': False, 'filterParameter': {'javaClass': 'java.util.Map', 'map': {}}, 'panelId': None, 'sourceName': None, 'javaClass': 'com.jein.framework.connectivity.parameter.RequestParameter', 'inParameters': {'list': [{'ioType': 'IN', 'data': {'list': [{'map': {'flightSearch': '{\"viewType\":\"\",\"fly_type\":\"2\",\"person1\":\"1\",\"person2\":\"0\",\"person3\":\"0\",    \"residentCountry\":\"KR\",\"currency\":\"\",\"promotion_cd\":\"\",    \"flySection\":[{\"departure_cd\":\"FUK\",\"arrival_cd\":\"ICN\",\"departure_date_cd\":\"20170812\"}]}'}, 'javaClass': 'java.util.Map'}], 'javaClass': 'java.util.List'}, 'structureType': 'FIELD', 'javaClass': 'com.jein.framework.connectivity.parameter.InParameter', 'paramName': 'flightSearch'}], 'javaClass': 'java.util.List'}, 'sourceExtension': None}] , \n"
     ]
    },
    {
     "name": "stderr",
     "output_type": "stream",
     "text": [
      "2017-08-09 08:51:33,421 root     DEBUG    Crawling eastarjet homepage schedule site\n"
     ]
    },
    {
     "name": "stdout",
     "output_type": "stream",
     "text": [
      "End Json Payload crawling\n",
      "Start Json Payload crawling :  https://www.eastarjet.com/json/dataService\n",
      ">> Parameters\n",
      "id:2 , method:DataService.service , params:[{'functionName': 'DTWBA00022', 'methodType': None, 'requestExecuteType': 'BIZ', 'requestUniqueCode': 'PGWBA00002', 'DBTransaction': False, 'filterParameter': {'javaClass': 'java.util.Map', 'map': {}}, 'panelId': None, 'sourceName': None, 'javaClass': 'com.jein.framework.connectivity.parameter.RequestParameter', 'inParameters': {'list': [{'ioType': 'IN', 'data': {'list': [{'map': {'flightSearch': '{\"viewType\":\"\",\"fly_type\":\"2\",\"person1\":\"1\",\"person2\":\"0\",\"person3\":\"0\",    \"residentCountry\":\"KR\",\"currency\":\"\",\"promotion_cd\":\"\",    \"flySection\":[{\"departure_cd\":\"FUK\",\"arrival_cd\":\"ICN\",\"departure_date_cd\":\"20170813\"}]}'}, 'javaClass': 'java.util.Map'}], 'javaClass': 'java.util.List'}, 'structureType': 'FIELD', 'javaClass': 'com.jein.framework.connectivity.parameter.InParameter', 'paramName': 'flightSearch'}], 'javaClass': 'java.util.List'}, 'sourceExtension': None}] , \n"
     ]
    },
    {
     "name": "stderr",
     "output_type": "stream",
     "text": [
      "2017-08-09 08:51:35,813 root     DEBUG    Crawling eastarjet homepage schedule site\n"
     ]
    },
    {
     "name": "stdout",
     "output_type": "stream",
     "text": [
      "End Json Payload crawling\n",
      "Start Json Payload crawling :  https://www.eastarjet.com/json/dataService\n",
      ">> Parameters\n",
      "id:2 , method:DataService.service , params:[{'functionName': 'DTWBA00022', 'methodType': None, 'requestExecuteType': 'BIZ', 'requestUniqueCode': 'PGWBA00002', 'DBTransaction': False, 'filterParameter': {'javaClass': 'java.util.Map', 'map': {}}, 'panelId': None, 'sourceName': None, 'javaClass': 'com.jein.framework.connectivity.parameter.RequestParameter', 'inParameters': {'list': [{'ioType': 'IN', 'data': {'list': [{'map': {'flightSearch': '{\"viewType\":\"\",\"fly_type\":\"2\",\"person1\":\"1\",\"person2\":\"0\",\"person3\":\"0\",    \"residentCountry\":\"KR\",\"currency\":\"\",\"promotion_cd\":\"\",    \"flySection\":[{\"departure_cd\":\"FUK\",\"arrival_cd\":\"ICN\",\"departure_date_cd\":\"20170814\"}]}'}, 'javaClass': 'java.util.Map'}], 'javaClass': 'java.util.List'}, 'structureType': 'FIELD', 'javaClass': 'com.jein.framework.connectivity.parameter.InParameter', 'paramName': 'flightSearch'}], 'javaClass': 'java.util.List'}, 'sourceExtension': None}] , \n"
     ]
    },
    {
     "name": "stderr",
     "output_type": "stream",
     "text": [
      "2017-08-09 08:51:38,298 root     DEBUG    Crawling eastarjet homepage schedule site\n"
     ]
    },
    {
     "name": "stdout",
     "output_type": "stream",
     "text": [
      "End Json Payload crawling\n",
      "Start Json Payload crawling :  https://www.eastarjet.com/json/dataService\n",
      ">> Parameters\n",
      "id:2 , method:DataService.service , params:[{'functionName': 'DTWBA00022', 'methodType': None, 'requestExecuteType': 'BIZ', 'requestUniqueCode': 'PGWBA00002', 'DBTransaction': False, 'filterParameter': {'javaClass': 'java.util.Map', 'map': {}}, 'panelId': None, 'sourceName': None, 'javaClass': 'com.jein.framework.connectivity.parameter.RequestParameter', 'inParameters': {'list': [{'ioType': 'IN', 'data': {'list': [{'map': {'flightSearch': '{\"viewType\":\"\",\"fly_type\":\"2\",\"person1\":\"1\",\"person2\":\"0\",\"person3\":\"0\",    \"residentCountry\":\"KR\",\"currency\":\"\",\"promotion_cd\":\"\",    \"flySection\":[{\"departure_cd\":\"FUK\",\"arrival_cd\":\"ICN\",\"departure_date_cd\":\"20170815\"}]}'}, 'javaClass': 'java.util.Map'}], 'javaClass': 'java.util.List'}, 'structureType': 'FIELD', 'javaClass': 'com.jein.framework.connectivity.parameter.InParameter', 'paramName': 'flightSearch'}], 'javaClass': 'java.util.List'}, 'sourceExtension': None}] , \n"
     ]
    },
    {
     "name": "stderr",
     "output_type": "stream",
     "text": [
      "2017-08-09 08:51:40,747 root     DEBUG    Crawling eastarjet homepage schedule site\n"
     ]
    },
    {
     "name": "stdout",
     "output_type": "stream",
     "text": [
      "End Json Payload crawling\n",
      "Start Json Payload crawling :  https://www.eastarjet.com/json/dataService\n",
      ">> Parameters\n",
      "id:2 , method:DataService.service , params:[{'functionName': 'DTWBA00022', 'methodType': None, 'requestExecuteType': 'BIZ', 'requestUniqueCode': 'PGWBA00002', 'DBTransaction': False, 'filterParameter': {'javaClass': 'java.util.Map', 'map': {}}, 'panelId': None, 'sourceName': None, 'javaClass': 'com.jein.framework.connectivity.parameter.RequestParameter', 'inParameters': {'list': [{'ioType': 'IN', 'data': {'list': [{'map': {'flightSearch': '{\"viewType\":\"\",\"fly_type\":\"2\",\"person1\":\"1\",\"person2\":\"0\",\"person3\":\"0\",    \"residentCountry\":\"KR\",\"currency\":\"\",\"promotion_cd\":\"\",    \"flySection\":[{\"departure_cd\":\"FUK\",\"arrival_cd\":\"ICN\",\"departure_date_cd\":\"20170816\"}]}'}, 'javaClass': 'java.util.Map'}], 'javaClass': 'java.util.List'}, 'structureType': 'FIELD', 'javaClass': 'com.jein.framework.connectivity.parameter.InParameter', 'paramName': 'flightSearch'}], 'javaClass': 'java.util.List'}, 'sourceExtension': None}] , \n"
     ]
    },
    {
     "name": "stderr",
     "output_type": "stream",
     "text": [
      "2017-08-09 08:51:43,321 root     DEBUG    Crawling eastarjet homepage schedule site\n"
     ]
    },
    {
     "name": "stdout",
     "output_type": "stream",
     "text": [
      "End Json Payload crawling\n",
      "Start Json Payload crawling :  https://www.eastarjet.com/json/dataService\n",
      ">> Parameters\n",
      "id:2 , method:DataService.service , params:[{'functionName': 'DTWBA00022', 'methodType': None, 'requestExecuteType': 'BIZ', 'requestUniqueCode': 'PGWBA00002', 'DBTransaction': False, 'filterParameter': {'javaClass': 'java.util.Map', 'map': {}}, 'panelId': None, 'sourceName': None, 'javaClass': 'com.jein.framework.connectivity.parameter.RequestParameter', 'inParameters': {'list': [{'ioType': 'IN', 'data': {'list': [{'map': {'flightSearch': '{\"viewType\":\"\",\"fly_type\":\"2\",\"person1\":\"1\",\"person2\":\"0\",\"person3\":\"0\",    \"residentCountry\":\"KR\",\"currency\":\"\",\"promotion_cd\":\"\",    \"flySection\":[{\"departure_cd\":\"FUK\",\"arrival_cd\":\"ICN\",\"departure_date_cd\":\"20170817\"}]}'}, 'javaClass': 'java.util.Map'}], 'javaClass': 'java.util.List'}, 'structureType': 'FIELD', 'javaClass': 'com.jein.framework.connectivity.parameter.InParameter', 'paramName': 'flightSearch'}], 'javaClass': 'java.util.List'}, 'sourceExtension': None}] , \n"
     ]
    },
    {
     "name": "stderr",
     "output_type": "stream",
     "text": [
      "2017-08-09 08:51:45,770 root     DEBUG    Crawling eastarjet homepage schedule site\n"
     ]
    },
    {
     "name": "stdout",
     "output_type": "stream",
     "text": [
      "End Json Payload crawling\n",
      "Start Json Payload crawling :  https://www.eastarjet.com/json/dataService\n",
      ">> Parameters\n",
      "id:2 , method:DataService.service , params:[{'functionName': 'DTWBA00022', 'methodType': None, 'requestExecuteType': 'BIZ', 'requestUniqueCode': 'PGWBA00002', 'DBTransaction': False, 'filterParameter': {'javaClass': 'java.util.Map', 'map': {}}, 'panelId': None, 'sourceName': None, 'javaClass': 'com.jein.framework.connectivity.parameter.RequestParameter', 'inParameters': {'list': [{'ioType': 'IN', 'data': {'list': [{'map': {'flightSearch': '{\"viewType\":\"\",\"fly_type\":\"2\",\"person1\":\"1\",\"person2\":\"0\",\"person3\":\"0\",    \"residentCountry\":\"KR\",\"currency\":\"\",\"promotion_cd\":\"\",    \"flySection\":[{\"departure_cd\":\"FUK\",\"arrival_cd\":\"ICN\",\"departure_date_cd\":\"20170818\"}]}'}, 'javaClass': 'java.util.Map'}], 'javaClass': 'java.util.List'}, 'structureType': 'FIELD', 'javaClass': 'com.jein.framework.connectivity.parameter.InParameter', 'paramName': 'flightSearch'}], 'javaClass': 'java.util.List'}, 'sourceExtension': None}] , \n"
     ]
    },
    {
     "name": "stderr",
     "output_type": "stream",
     "text": [
      "2017-08-09 08:51:48,198 root     DEBUG    Crawling eastarjet homepage schedule site\n"
     ]
    },
    {
     "name": "stdout",
     "output_type": "stream",
     "text": [
      "End Json Payload crawling\n",
      "Start Json Payload crawling :  https://www.eastarjet.com/json/dataService\n",
      ">> Parameters\n",
      "id:2 , method:DataService.service , params:[{'functionName': 'DTWBA00022', 'methodType': None, 'requestExecuteType': 'BIZ', 'requestUniqueCode': 'PGWBA00002', 'DBTransaction': False, 'filterParameter': {'javaClass': 'java.util.Map', 'map': {}}, 'panelId': None, 'sourceName': None, 'javaClass': 'com.jein.framework.connectivity.parameter.RequestParameter', 'inParameters': {'list': [{'ioType': 'IN', 'data': {'list': [{'map': {'flightSearch': '{\"viewType\":\"\",\"fly_type\":\"2\",\"person1\":\"1\",\"person2\":\"0\",\"person3\":\"0\",    \"residentCountry\":\"KR\",\"currency\":\"\",\"promotion_cd\":\"\",    \"flySection\":[{\"departure_cd\":\"FUK\",\"arrival_cd\":\"ICN\",\"departure_date_cd\":\"20170819\"}]}'}, 'javaClass': 'java.util.Map'}], 'javaClass': 'java.util.List'}, 'structureType': 'FIELD', 'javaClass': 'com.jein.framework.connectivity.parameter.InParameter', 'paramName': 'flightSearch'}], 'javaClass': 'java.util.List'}, 'sourceExtension': None}] , \n"
     ]
    },
    {
     "name": "stderr",
     "output_type": "stream",
     "text": [
      "2017-08-09 08:51:50,585 root     DEBUG    Crawling eastarjet homepage schedule site\n"
     ]
    },
    {
     "name": "stdout",
     "output_type": "stream",
     "text": [
      "End Json Payload crawling\n",
      "Start Json Payload crawling :  https://www.eastarjet.com/json/dataService\n",
      ">> Parameters\n",
      "id:2 , method:DataService.service , params:[{'functionName': 'DTWBA00022', 'methodType': None, 'requestExecuteType': 'BIZ', 'requestUniqueCode': 'PGWBA00002', 'DBTransaction': False, 'filterParameter': {'javaClass': 'java.util.Map', 'map': {}}, 'panelId': None, 'sourceName': None, 'javaClass': 'com.jein.framework.connectivity.parameter.RequestParameter', 'inParameters': {'list': [{'ioType': 'IN', 'data': {'list': [{'map': {'flightSearch': '{\"viewType\":\"\",\"fly_type\":\"2\",\"person1\":\"1\",\"person2\":\"0\",\"person3\":\"0\",    \"residentCountry\":\"KR\",\"currency\":\"\",\"promotion_cd\":\"\",    \"flySection\":[{\"departure_cd\":\"FUK\",\"arrival_cd\":\"ICN\",\"departure_date_cd\":\"20170820\"}]}'}, 'javaClass': 'java.util.Map'}], 'javaClass': 'java.util.List'}, 'structureType': 'FIELD', 'javaClass': 'com.jein.framework.connectivity.parameter.InParameter', 'paramName': 'flightSearch'}], 'javaClass': 'java.util.List'}, 'sourceExtension': None}] , \n"
     ]
    },
    {
     "name": "stderr",
     "output_type": "stream",
     "text": [
      "2017-08-09 08:51:53,753 root     DEBUG    Crawling eastarjet homepage schedule site\n"
     ]
    },
    {
     "name": "stdout",
     "output_type": "stream",
     "text": [
      "End Json Payload crawling\n",
      "Start Json Payload crawling :  https://www.eastarjet.com/json/dataService\n",
      ">> Parameters\n",
      "id:2 , method:DataService.service , params:[{'functionName': 'DTWBA00022', 'methodType': None, 'requestExecuteType': 'BIZ', 'requestUniqueCode': 'PGWBA00002', 'DBTransaction': False, 'filterParameter': {'javaClass': 'java.util.Map', 'map': {}}, 'panelId': None, 'sourceName': None, 'javaClass': 'com.jein.framework.connectivity.parameter.RequestParameter', 'inParameters': {'list': [{'ioType': 'IN', 'data': {'list': [{'map': {'flightSearch': '{\"viewType\":\"\",\"fly_type\":\"2\",\"person1\":\"1\",\"person2\":\"0\",\"person3\":\"0\",    \"residentCountry\":\"KR\",\"currency\":\"\",\"promotion_cd\":\"\",    \"flySection\":[{\"departure_cd\":\"FUK\",\"arrival_cd\":\"ICN\",\"departure_date_cd\":\"20170821\"}]}'}, 'javaClass': 'java.util.Map'}], 'javaClass': 'java.util.List'}, 'structureType': 'FIELD', 'javaClass': 'com.jein.framework.connectivity.parameter.InParameter', 'paramName': 'flightSearch'}], 'javaClass': 'java.util.List'}, 'sourceExtension': None}] , \n"
     ]
    },
    {
     "name": "stderr",
     "output_type": "stream",
     "text": [
      "2017-08-09 08:51:56,464 root     DEBUG    Crawling eastarjet homepage schedule site\n"
     ]
    },
    {
     "name": "stdout",
     "output_type": "stream",
     "text": [
      "End Json Payload crawling\n",
      "Start Json Payload crawling :  https://www.eastarjet.com/json/dataService\n",
      ">> Parameters\n",
      "id:2 , method:DataService.service , params:[{'functionName': 'DTWBA00022', 'methodType': None, 'requestExecuteType': 'BIZ', 'requestUniqueCode': 'PGWBA00002', 'DBTransaction': False, 'filterParameter': {'javaClass': 'java.util.Map', 'map': {}}, 'panelId': None, 'sourceName': None, 'javaClass': 'com.jein.framework.connectivity.parameter.RequestParameter', 'inParameters': {'list': [{'ioType': 'IN', 'data': {'list': [{'map': {'flightSearch': '{\"viewType\":\"\",\"fly_type\":\"2\",\"person1\":\"1\",\"person2\":\"0\",\"person3\":\"0\",    \"residentCountry\":\"KR\",\"currency\":\"\",\"promotion_cd\":\"\",    \"flySection\":[{\"departure_cd\":\"FUK\",\"arrival_cd\":\"ICN\",\"departure_date_cd\":\"20170822\"}]}'}, 'javaClass': 'java.util.Map'}], 'javaClass': 'java.util.List'}, 'structureType': 'FIELD', 'javaClass': 'com.jein.framework.connectivity.parameter.InParameter', 'paramName': 'flightSearch'}], 'javaClass': 'java.util.List'}, 'sourceExtension': None}] , \n"
     ]
    },
    {
     "name": "stderr",
     "output_type": "stream",
     "text": [
      "2017-08-09 08:51:58,904 root     DEBUG    Crawling eastarjet homepage schedule site\n"
     ]
    },
    {
     "name": "stdout",
     "output_type": "stream",
     "text": [
      "End Json Payload crawling\n",
      "Start Json Payload crawling :  https://www.eastarjet.com/json/dataService\n",
      ">> Parameters\n",
      "id:2 , method:DataService.service , params:[{'functionName': 'DTWBA00022', 'methodType': None, 'requestExecuteType': 'BIZ', 'requestUniqueCode': 'PGWBA00002', 'DBTransaction': False, 'filterParameter': {'javaClass': 'java.util.Map', 'map': {}}, 'panelId': None, 'sourceName': None, 'javaClass': 'com.jein.framework.connectivity.parameter.RequestParameter', 'inParameters': {'list': [{'ioType': 'IN', 'data': {'list': [{'map': {'flightSearch': '{\"viewType\":\"\",\"fly_type\":\"2\",\"person1\":\"1\",\"person2\":\"0\",\"person3\":\"0\",    \"residentCountry\":\"KR\",\"currency\":\"\",\"promotion_cd\":\"\",    \"flySection\":[{\"departure_cd\":\"FUK\",\"arrival_cd\":\"ICN\",\"departure_date_cd\":\"20170823\"}]}'}, 'javaClass': 'java.util.Map'}], 'javaClass': 'java.util.List'}, 'structureType': 'FIELD', 'javaClass': 'com.jein.framework.connectivity.parameter.InParameter', 'paramName': 'flightSearch'}], 'javaClass': 'java.util.List'}, 'sourceExtension': None}] , \n"
     ]
    },
    {
     "name": "stderr",
     "output_type": "stream",
     "text": [
      "2017-08-09 08:52:01,298 root     DEBUG    Crawling eastarjet homepage schedule site\n"
     ]
    },
    {
     "name": "stdout",
     "output_type": "stream",
     "text": [
      "End Json Payload crawling\n",
      "Start Json Payload crawling :  https://www.eastarjet.com/json/dataService\n",
      ">> Parameters\n",
      "id:2 , method:DataService.service , params:[{'functionName': 'DTWBA00022', 'methodType': None, 'requestExecuteType': 'BIZ', 'requestUniqueCode': 'PGWBA00002', 'DBTransaction': False, 'filterParameter': {'javaClass': 'java.util.Map', 'map': {}}, 'panelId': None, 'sourceName': None, 'javaClass': 'com.jein.framework.connectivity.parameter.RequestParameter', 'inParameters': {'list': [{'ioType': 'IN', 'data': {'list': [{'map': {'flightSearch': '{\"viewType\":\"\",\"fly_type\":\"2\",\"person1\":\"1\",\"person2\":\"0\",\"person3\":\"0\",    \"residentCountry\":\"KR\",\"currency\":\"\",\"promotion_cd\":\"\",    \"flySection\":[{\"departure_cd\":\"FUK\",\"arrival_cd\":\"ICN\",\"departure_date_cd\":\"20170824\"}]}'}, 'javaClass': 'java.util.Map'}], 'javaClass': 'java.util.List'}, 'structureType': 'FIELD', 'javaClass': 'com.jein.framework.connectivity.parameter.InParameter', 'paramName': 'flightSearch'}], 'javaClass': 'java.util.List'}, 'sourceExtension': None}] , \n"
     ]
    },
    {
     "name": "stderr",
     "output_type": "stream",
     "text": [
      "2017-08-09 08:52:03,806 root     DEBUG    Crawling eastarjet homepage schedule site\n"
     ]
    },
    {
     "name": "stdout",
     "output_type": "stream",
     "text": [
      "End Json Payload crawling\n",
      "Start Json Payload crawling :  https://www.eastarjet.com/json/dataService\n",
      ">> Parameters\n",
      "id:2 , method:DataService.service , params:[{'functionName': 'DTWBA00022', 'methodType': None, 'requestExecuteType': 'BIZ', 'requestUniqueCode': 'PGWBA00002', 'DBTransaction': False, 'filterParameter': {'javaClass': 'java.util.Map', 'map': {}}, 'panelId': None, 'sourceName': None, 'javaClass': 'com.jein.framework.connectivity.parameter.RequestParameter', 'inParameters': {'list': [{'ioType': 'IN', 'data': {'list': [{'map': {'flightSearch': '{\"viewType\":\"\",\"fly_type\":\"2\",\"person1\":\"1\",\"person2\":\"0\",\"person3\":\"0\",    \"residentCountry\":\"KR\",\"currency\":\"\",\"promotion_cd\":\"\",    \"flySection\":[{\"departure_cd\":\"FUK\",\"arrival_cd\":\"ICN\",\"departure_date_cd\":\"20170825\"}]}'}, 'javaClass': 'java.util.Map'}], 'javaClass': 'java.util.List'}, 'structureType': 'FIELD', 'javaClass': 'com.jein.framework.connectivity.parameter.InParameter', 'paramName': 'flightSearch'}], 'javaClass': 'java.util.List'}, 'sourceExtension': None}] , \n"
     ]
    },
    {
     "name": "stderr",
     "output_type": "stream",
     "text": [
      "2017-08-09 08:52:06,183 root     DEBUG    Crawling eastarjet homepage schedule site\n"
     ]
    },
    {
     "name": "stdout",
     "output_type": "stream",
     "text": [
      "End Json Payload crawling\n",
      "Start Json Payload crawling :  https://www.eastarjet.com/json/dataService\n",
      ">> Parameters\n",
      "id:2 , method:DataService.service , params:[{'functionName': 'DTWBA00022', 'methodType': None, 'requestExecuteType': 'BIZ', 'requestUniqueCode': 'PGWBA00002', 'DBTransaction': False, 'filterParameter': {'javaClass': 'java.util.Map', 'map': {}}, 'panelId': None, 'sourceName': None, 'javaClass': 'com.jein.framework.connectivity.parameter.RequestParameter', 'inParameters': {'list': [{'ioType': 'IN', 'data': {'list': [{'map': {'flightSearch': '{\"viewType\":\"\",\"fly_type\":\"2\",\"person1\":\"1\",\"person2\":\"0\",\"person3\":\"0\",    \"residentCountry\":\"KR\",\"currency\":\"\",\"promotion_cd\":\"\",    \"flySection\":[{\"departure_cd\":\"FUK\",\"arrival_cd\":\"ICN\",\"departure_date_cd\":\"20170826\"}]}'}, 'javaClass': 'java.util.Map'}], 'javaClass': 'java.util.List'}, 'structureType': 'FIELD', 'javaClass': 'com.jein.framework.connectivity.parameter.InParameter', 'paramName': 'flightSearch'}], 'javaClass': 'java.util.List'}, 'sourceExtension': None}] , \n"
     ]
    },
    {
     "name": "stderr",
     "output_type": "stream",
     "text": [
      "2017-08-09 08:52:08,582 root     DEBUG    Crawling eastarjet homepage schedule site\n"
     ]
    },
    {
     "name": "stdout",
     "output_type": "stream",
     "text": [
      "End Json Payload crawling\n",
      "Start Json Payload crawling :  https://www.eastarjet.com/json/dataService\n",
      ">> Parameters\n",
      "id:2 , method:DataService.service , params:[{'functionName': 'DTWBA00022', 'methodType': None, 'requestExecuteType': 'BIZ', 'requestUniqueCode': 'PGWBA00002', 'DBTransaction': False, 'filterParameter': {'javaClass': 'java.util.Map', 'map': {}}, 'panelId': None, 'sourceName': None, 'javaClass': 'com.jein.framework.connectivity.parameter.RequestParameter', 'inParameters': {'list': [{'ioType': 'IN', 'data': {'list': [{'map': {'flightSearch': '{\"viewType\":\"\",\"fly_type\":\"2\",\"person1\":\"1\",\"person2\":\"0\",\"person3\":\"0\",    \"residentCountry\":\"KR\",\"currency\":\"\",\"promotion_cd\":\"\",    \"flySection\":[{\"departure_cd\":\"FUK\",\"arrival_cd\":\"ICN\",\"departure_date_cd\":\"20170827\"}]}'}, 'javaClass': 'java.util.Map'}], 'javaClass': 'java.util.List'}, 'structureType': 'FIELD', 'javaClass': 'com.jein.framework.connectivity.parameter.InParameter', 'paramName': 'flightSearch'}], 'javaClass': 'java.util.List'}, 'sourceExtension': None}] , \n"
     ]
    },
    {
     "name": "stderr",
     "output_type": "stream",
     "text": [
      "2017-08-09 08:52:11,045 root     DEBUG    Crawling eastarjet homepage schedule site\n"
     ]
    },
    {
     "name": "stdout",
     "output_type": "stream",
     "text": [
      "End Json Payload crawling\n",
      "Start Json Payload crawling :  https://www.eastarjet.com/json/dataService\n",
      ">> Parameters\n",
      "id:2 , method:DataService.service , params:[{'functionName': 'DTWBA00022', 'methodType': None, 'requestExecuteType': 'BIZ', 'requestUniqueCode': 'PGWBA00002', 'DBTransaction': False, 'filterParameter': {'javaClass': 'java.util.Map', 'map': {}}, 'panelId': None, 'sourceName': None, 'javaClass': 'com.jein.framework.connectivity.parameter.RequestParameter', 'inParameters': {'list': [{'ioType': 'IN', 'data': {'list': [{'map': {'flightSearch': '{\"viewType\":\"\",\"fly_type\":\"2\",\"person1\":\"1\",\"person2\":\"0\",\"person3\":\"0\",    \"residentCountry\":\"KR\",\"currency\":\"\",\"promotion_cd\":\"\",    \"flySection\":[{\"departure_cd\":\"FUK\",\"arrival_cd\":\"ICN\",\"departure_date_cd\":\"20170828\"}]}'}, 'javaClass': 'java.util.Map'}], 'javaClass': 'java.util.List'}, 'structureType': 'FIELD', 'javaClass': 'com.jein.framework.connectivity.parameter.InParameter', 'paramName': 'flightSearch'}], 'javaClass': 'java.util.List'}, 'sourceExtension': None}] , \n"
     ]
    },
    {
     "name": "stderr",
     "output_type": "stream",
     "text": [
      "2017-08-09 08:52:13,433 root     DEBUG    Crawling eastarjet homepage schedule site\n"
     ]
    },
    {
     "name": "stdout",
     "output_type": "stream",
     "text": [
      "End Json Payload crawling\n",
      "Start Json Payload crawling :  https://www.eastarjet.com/json/dataService\n",
      ">> Parameters\n",
      "id:2 , method:DataService.service , params:[{'functionName': 'DTWBA00022', 'methodType': None, 'requestExecuteType': 'BIZ', 'requestUniqueCode': 'PGWBA00002', 'DBTransaction': False, 'filterParameter': {'javaClass': 'java.util.Map', 'map': {}}, 'panelId': None, 'sourceName': None, 'javaClass': 'com.jein.framework.connectivity.parameter.RequestParameter', 'inParameters': {'list': [{'ioType': 'IN', 'data': {'list': [{'map': {'flightSearch': '{\"viewType\":\"\",\"fly_type\":\"2\",\"person1\":\"1\",\"person2\":\"0\",\"person3\":\"0\",    \"residentCountry\":\"KR\",\"currency\":\"\",\"promotion_cd\":\"\",    \"flySection\":[{\"departure_cd\":\"FUK\",\"arrival_cd\":\"ICN\",\"departure_date_cd\":\"20170829\"}]}'}, 'javaClass': 'java.util.Map'}], 'javaClass': 'java.util.List'}, 'structureType': 'FIELD', 'javaClass': 'com.jein.framework.connectivity.parameter.InParameter', 'paramName': 'flightSearch'}], 'javaClass': 'java.util.List'}, 'sourceExtension': None}] , \n"
     ]
    },
    {
     "name": "stderr",
     "output_type": "stream",
     "text": [
      "2017-08-09 08:52:15,831 root     DEBUG    Crawling eastarjet homepage schedule site\n"
     ]
    },
    {
     "name": "stdout",
     "output_type": "stream",
     "text": [
      "End Json Payload crawling\n",
      "Start Json Payload crawling :  https://www.eastarjet.com/json/dataService\n",
      ">> Parameters\n",
      "id:2 , method:DataService.service , params:[{'functionName': 'DTWBA00022', 'methodType': None, 'requestExecuteType': 'BIZ', 'requestUniqueCode': 'PGWBA00002', 'DBTransaction': False, 'filterParameter': {'javaClass': 'java.util.Map', 'map': {}}, 'panelId': None, 'sourceName': None, 'javaClass': 'com.jein.framework.connectivity.parameter.RequestParameter', 'inParameters': {'list': [{'ioType': 'IN', 'data': {'list': [{'map': {'flightSearch': '{\"viewType\":\"\",\"fly_type\":\"2\",\"person1\":\"1\",\"person2\":\"0\",\"person3\":\"0\",    \"residentCountry\":\"KR\",\"currency\":\"\",\"promotion_cd\":\"\",    \"flySection\":[{\"departure_cd\":\"FUK\",\"arrival_cd\":\"ICN\",\"departure_date_cd\":\"20170830\"}]}'}, 'javaClass': 'java.util.Map'}], 'javaClass': 'java.util.List'}, 'structureType': 'FIELD', 'javaClass': 'com.jein.framework.connectivity.parameter.InParameter', 'paramName': 'flightSearch'}], 'javaClass': 'java.util.List'}, 'sourceExtension': None}] , \n"
     ]
    },
    {
     "name": "stderr",
     "output_type": "stream",
     "text": [
      "2017-08-09 08:52:18,228 root     INFO     end batch job :: craw_by_route_site :: elapsed -0:00:52.248988 :: Total crawl:21 files saved.\n",
      "2017-08-09 08:52:18,235 root     INFO     start batch job :: craw_by_route_site[FUK,ICN,TW,['20170810', '20170811', '20170812', '20170813', '20170814', '20170815', '20170816', '20170817', '20170818', '20170819', '20170820', '20170821', '20170822', '20170823', '20170824', '20170825', '20170826', '20170827', '20170828', '20170829', '20170830'],TW]\n",
      "2017-08-09 08:52:18,240 root     DEBUG    1 :: TW :: crawling_TW_int :: True\n",
      "2017-08-09 08:52:18,247 root     INFO     <function crawling_TW_int at 0x0000000007FA68C8> :: True\n",
      "2017-08-09 08:52:18,254 root     DEBUG    Crawling twayair homepage schedule site\n"
     ]
    },
    {
     "name": "stdout",
     "output_type": "stream",
     "text": [
      "End Json Payload crawling\n",
      "Start Session crawling\n",
      "make session :  https://www.twayair.com/booking/availabilityList.do\n",
      "crawling :  https://www.twayair.com/booking/ajax/searchAvailability.do\n",
      ">> Parameters\n",
      "today:20170809 , destination2:FUK , destination1:ICN , origin1:FUK , searchType:byDate , onwardDateStr:20170810 , domesticYn:N , promotionCode: , returnDateStr:20170810 , arrivCntryCode: , origin:FUK , orderByRT: , destination:ICN , origin2:ICN , paxTypeCountStr:1,0,0 , orderByOW: , travelType:OW , fareBasisCodeRT: , fareBasisCodeOW: , \n"
     ]
    },
    {
     "name": "stderr",
     "output_type": "stream",
     "text": [
      "2017-08-09 08:52:21,494 root     DEBUG    Crawling twayair homepage schedule site\n"
     ]
    },
    {
     "name": "stdout",
     "output_type": "stream",
     "text": [
      "End Session crawling\n",
      "Start Session crawling\n",
      "make session :  https://www.twayair.com/booking/availabilityList.do\n",
      "crawling :  https://www.twayair.com/booking/ajax/searchAvailability.do\n",
      ">> Parameters\n",
      "today:20170809 , destination2:FUK , destination1:ICN , origin1:FUK , searchType:byDate , onwardDateStr:20170811 , domesticYn:N , promotionCode: , returnDateStr:20170811 , arrivCntryCode: , origin:FUK , orderByRT: , destination:ICN , origin2:ICN , paxTypeCountStr:1,0,0 , orderByOW: , travelType:OW , fareBasisCodeRT: , fareBasisCodeOW: , \n"
     ]
    },
    {
     "name": "stderr",
     "output_type": "stream",
     "text": [
      "2017-08-09 08:52:24,087 root     DEBUG    Crawling twayair homepage schedule site\n"
     ]
    },
    {
     "name": "stdout",
     "output_type": "stream",
     "text": [
      "End Session crawling\n",
      "Start Session crawling\n",
      "make session :  https://www.twayair.com/booking/availabilityList.do\n",
      "crawling :  https://www.twayair.com/booking/ajax/searchAvailability.do\n",
      ">> Parameters\n",
      "today:20170809 , destination2:FUK , destination1:ICN , origin1:FUK , searchType:byDate , onwardDateStr:20170812 , domesticYn:N , promotionCode: , returnDateStr:20170812 , arrivCntryCode: , origin:FUK , orderByRT: , destination:ICN , origin2:ICN , paxTypeCountStr:1,0,0 , orderByOW: , travelType:OW , fareBasisCodeRT: , fareBasisCodeOW: , \n"
     ]
    },
    {
     "name": "stderr",
     "output_type": "stream",
     "text": [
      "2017-08-09 08:52:26,713 root     DEBUG    Crawling twayair homepage schedule site\n"
     ]
    },
    {
     "name": "stdout",
     "output_type": "stream",
     "text": [
      "End Session crawling\n",
      "Start Session crawling\n",
      "make session :  https://www.twayair.com/booking/availabilityList.do\n",
      "crawling :  https://www.twayair.com/booking/ajax/searchAvailability.do\n",
      ">> Parameters\n",
      "today:20170809 , destination2:FUK , destination1:ICN , origin1:FUK , searchType:byDate , onwardDateStr:20170813 , domesticYn:N , promotionCode: , returnDateStr:20170813 , arrivCntryCode: , origin:FUK , orderByRT: , destination:ICN , origin2:ICN , paxTypeCountStr:1,0,0 , orderByOW: , travelType:OW , fareBasisCodeRT: , fareBasisCodeOW: , \n"
     ]
    },
    {
     "name": "stderr",
     "output_type": "stream",
     "text": [
      "2017-08-09 08:52:29,294 root     DEBUG    Crawling twayair homepage schedule site\n"
     ]
    },
    {
     "name": "stdout",
     "output_type": "stream",
     "text": [
      "End Session crawling\n",
      "Start Session crawling\n",
      "make session :  https://www.twayair.com/booking/availabilityList.do\n",
      "crawling :  https://www.twayair.com/booking/ajax/searchAvailability.do\n",
      ">> Parameters\n",
      "today:20170809 , destination2:FUK , destination1:ICN , origin1:FUK , searchType:byDate , onwardDateStr:20170814 , domesticYn:N , promotionCode: , returnDateStr:20170814 , arrivCntryCode: , origin:FUK , orderByRT: , destination:ICN , origin2:ICN , paxTypeCountStr:1,0,0 , orderByOW: , travelType:OW , fareBasisCodeRT: , fareBasisCodeOW: , \n"
     ]
    },
    {
     "name": "stderr",
     "output_type": "stream",
     "text": [
      "2017-08-09 08:52:31,916 root     DEBUG    Crawling twayair homepage schedule site\n"
     ]
    },
    {
     "name": "stdout",
     "output_type": "stream",
     "text": [
      "End Session crawling\n",
      "Start Session crawling\n",
      "make session :  https://www.twayair.com/booking/availabilityList.do\n",
      "crawling :  https://www.twayair.com/booking/ajax/searchAvailability.do\n",
      ">> Parameters\n",
      "today:20170809 , destination2:FUK , destination1:ICN , origin1:FUK , searchType:byDate , onwardDateStr:20170815 , domesticYn:N , promotionCode: , returnDateStr:20170815 , arrivCntryCode: , origin:FUK , orderByRT: , destination:ICN , origin2:ICN , paxTypeCountStr:1,0,0 , orderByOW: , travelType:OW , fareBasisCodeRT: , fareBasisCodeOW: , \n"
     ]
    },
    {
     "name": "stderr",
     "output_type": "stream",
     "text": [
      "2017-08-09 08:52:34,406 root     DEBUG    Crawling twayair homepage schedule site\n"
     ]
    },
    {
     "name": "stdout",
     "output_type": "stream",
     "text": [
      "End Session crawling\n",
      "Start Session crawling\n",
      "make session :  https://www.twayair.com/booking/availabilityList.do\n",
      "crawling :  https://www.twayair.com/booking/ajax/searchAvailability.do\n",
      ">> Parameters\n",
      "today:20170809 , destination2:FUK , destination1:ICN , origin1:FUK , searchType:byDate , onwardDateStr:20170816 , domesticYn:N , promotionCode: , returnDateStr:20170816 , arrivCntryCode: , origin:FUK , orderByRT: , destination:ICN , origin2:ICN , paxTypeCountStr:1,0,0 , orderByOW: , travelType:OW , fareBasisCodeRT: , fareBasisCodeOW: , \n"
     ]
    },
    {
     "name": "stderr",
     "output_type": "stream",
     "text": [
      "2017-08-09 08:52:36,915 root     DEBUG    Crawling twayair homepage schedule site\n"
     ]
    },
    {
     "name": "stdout",
     "output_type": "stream",
     "text": [
      "End Session crawling\n",
      "Start Session crawling\n",
      "make session :  https://www.twayair.com/booking/availabilityList.do\n",
      "crawling :  https://www.twayair.com/booking/ajax/searchAvailability.do\n",
      ">> Parameters\n",
      "today:20170809 , destination2:FUK , destination1:ICN , origin1:FUK , searchType:byDate , onwardDateStr:20170817 , domesticYn:N , promotionCode: , returnDateStr:20170817 , arrivCntryCode: , origin:FUK , orderByRT: , destination:ICN , origin2:ICN , paxTypeCountStr:1,0,0 , orderByOW: , travelType:OW , fareBasisCodeRT: , fareBasisCodeOW: , \n"
     ]
    },
    {
     "name": "stderr",
     "output_type": "stream",
     "text": [
      "2017-08-09 08:52:39,494 root     DEBUG    Crawling twayair homepage schedule site\n"
     ]
    },
    {
     "name": "stdout",
     "output_type": "stream",
     "text": [
      "End Session crawling\n",
      "Start Session crawling\n",
      "make session :  https://www.twayair.com/booking/availabilityList.do\n",
      "crawling :  https://www.twayair.com/booking/ajax/searchAvailability.do\n",
      ">> Parameters\n",
      "today:20170809 , destination2:FUK , destination1:ICN , origin1:FUK , searchType:byDate , onwardDateStr:20170818 , domesticYn:N , promotionCode: , returnDateStr:20170818 , arrivCntryCode: , origin:FUK , orderByRT: , destination:ICN , origin2:ICN , paxTypeCountStr:1,0,0 , orderByOW: , travelType:OW , fareBasisCodeRT: , fareBasisCodeOW: , \n"
     ]
    },
    {
     "name": "stderr",
     "output_type": "stream",
     "text": [
      "2017-08-09 08:52:41,957 root     DEBUG    Crawling twayair homepage schedule site\n"
     ]
    },
    {
     "name": "stdout",
     "output_type": "stream",
     "text": [
      "End Session crawling\n",
      "Start Session crawling\n",
      "make session :  https://www.twayair.com/booking/availabilityList.do\n",
      "crawling :  https://www.twayair.com/booking/ajax/searchAvailability.do\n",
      ">> Parameters\n",
      "today:20170809 , destination2:FUK , destination1:ICN , origin1:FUK , searchType:byDate , onwardDateStr:20170819 , domesticYn:N , promotionCode: , returnDateStr:20170819 , arrivCntryCode: , origin:FUK , orderByRT: , destination:ICN , origin2:ICN , paxTypeCountStr:1,0,0 , orderByOW: , travelType:OW , fareBasisCodeRT: , fareBasisCodeOW: , \n"
     ]
    },
    {
     "name": "stderr",
     "output_type": "stream",
     "text": [
      "2017-08-09 08:52:44,270 root     DEBUG    Crawling twayair homepage schedule site\n"
     ]
    },
    {
     "name": "stdout",
     "output_type": "stream",
     "text": [
      "End Session crawling\n",
      "Start Session crawling\n",
      "make session :  https://www.twayair.com/booking/availabilityList.do\n",
      "crawling :  https://www.twayair.com/booking/ajax/searchAvailability.do\n",
      ">> Parameters\n",
      "today:20170809 , destination2:FUK , destination1:ICN , origin1:FUK , searchType:byDate , onwardDateStr:20170820 , domesticYn:N , promotionCode: , returnDateStr:20170820 , arrivCntryCode: , origin:FUK , orderByRT: , destination:ICN , origin2:ICN , paxTypeCountStr:1,0,0 , orderByOW: , travelType:OW , fareBasisCodeRT: , fareBasisCodeOW: , \n"
     ]
    },
    {
     "name": "stderr",
     "output_type": "stream",
     "text": [
      "2017-08-09 08:52:46,742 root     DEBUG    Crawling twayair homepage schedule site\n"
     ]
    },
    {
     "name": "stdout",
     "output_type": "stream",
     "text": [
      "End Session crawling\n",
      "Start Session crawling\n",
      "make session :  https://www.twayair.com/booking/availabilityList.do\n",
      "crawling :  https://www.twayair.com/booking/ajax/searchAvailability.do\n",
      ">> Parameters\n",
      "today:20170809 , destination2:FUK , destination1:ICN , origin1:FUK , searchType:byDate , onwardDateStr:20170821 , domesticYn:N , promotionCode: , returnDateStr:20170821 , arrivCntryCode: , origin:FUK , orderByRT: , destination:ICN , origin2:ICN , paxTypeCountStr:1,0,0 , orderByOW: , travelType:OW , fareBasisCodeRT: , fareBasisCodeOW: , \n"
     ]
    },
    {
     "name": "stderr",
     "output_type": "stream",
     "text": [
      "2017-08-09 08:52:49,231 root     DEBUG    Crawling twayair homepage schedule site\n"
     ]
    },
    {
     "name": "stdout",
     "output_type": "stream",
     "text": [
      "End Session crawling\n",
      "Start Session crawling\n",
      "make session :  https://www.twayair.com/booking/availabilityList.do\n",
      "crawling :  https://www.twayair.com/booking/ajax/searchAvailability.do\n",
      ">> Parameters\n",
      "today:20170809 , destination2:FUK , destination1:ICN , origin1:FUK , searchType:byDate , onwardDateStr:20170822 , domesticYn:N , promotionCode: , returnDateStr:20170822 , arrivCntryCode: , origin:FUK , orderByRT: , destination:ICN , origin2:ICN , paxTypeCountStr:1,0,0 , orderByOW: , travelType:OW , fareBasisCodeRT: , fareBasisCodeOW: , \n"
     ]
    },
    {
     "name": "stderr",
     "output_type": "stream",
     "text": [
      "2017-08-09 08:52:51,759 root     DEBUG    Crawling twayair homepage schedule site\n"
     ]
    },
    {
     "name": "stdout",
     "output_type": "stream",
     "text": [
      "End Session crawling\n",
      "Start Session crawling\n",
      "make session :  https://www.twayair.com/booking/availabilityList.do\n",
      "crawling :  https://www.twayair.com/booking/ajax/searchAvailability.do\n",
      ">> Parameters\n",
      "today:20170809 , destination2:FUK , destination1:ICN , origin1:FUK , searchType:byDate , onwardDateStr:20170823 , domesticYn:N , promotionCode: , returnDateStr:20170823 , arrivCntryCode: , origin:FUK , orderByRT: , destination:ICN , origin2:ICN , paxTypeCountStr:1,0,0 , orderByOW: , travelType:OW , fareBasisCodeRT: , fareBasisCodeOW: , \n"
     ]
    },
    {
     "name": "stderr",
     "output_type": "stream",
     "text": [
      "2017-08-09 08:52:54,050 root     DEBUG    Crawling twayair homepage schedule site\n"
     ]
    },
    {
     "name": "stdout",
     "output_type": "stream",
     "text": [
      "End Session crawling\n",
      "Start Session crawling\n",
      "make session :  https://www.twayair.com/booking/availabilityList.do\n",
      "crawling :  https://www.twayair.com/booking/ajax/searchAvailability.do\n",
      ">> Parameters\n",
      "today:20170809 , destination2:FUK , destination1:ICN , origin1:FUK , searchType:byDate , onwardDateStr:20170824 , domesticYn:N , promotionCode: , returnDateStr:20170824 , arrivCntryCode: , origin:FUK , orderByRT: , destination:ICN , origin2:ICN , paxTypeCountStr:1,0,0 , orderByOW: , travelType:OW , fareBasisCodeRT: , fareBasisCodeOW: , \n"
     ]
    },
    {
     "name": "stderr",
     "output_type": "stream",
     "text": [
      "2017-08-09 08:52:56,501 root     DEBUG    Crawling twayair homepage schedule site\n"
     ]
    },
    {
     "name": "stdout",
     "output_type": "stream",
     "text": [
      "End Session crawling\n",
      "Start Session crawling\n",
      "make session :  https://www.twayair.com/booking/availabilityList.do\n",
      "crawling :  https://www.twayair.com/booking/ajax/searchAvailability.do\n",
      ">> Parameters\n",
      "today:20170809 , destination2:FUK , destination1:ICN , origin1:FUK , searchType:byDate , onwardDateStr:20170825 , domesticYn:N , promotionCode: , returnDateStr:20170825 , arrivCntryCode: , origin:FUK , orderByRT: , destination:ICN , origin2:ICN , paxTypeCountStr:1,0,0 , orderByOW: , travelType:OW , fareBasisCodeRT: , fareBasisCodeOW: , \n"
     ]
    },
    {
     "name": "stderr",
     "output_type": "stream",
     "text": [
      "2017-08-09 08:52:58,969 root     DEBUG    Crawling twayair homepage schedule site\n"
     ]
    },
    {
     "name": "stdout",
     "output_type": "stream",
     "text": [
      "End Session crawling\n",
      "Start Session crawling\n",
      "make session :  https://www.twayair.com/booking/availabilityList.do\n",
      "crawling :  https://www.twayair.com/booking/ajax/searchAvailability.do\n",
      ">> Parameters\n",
      "today:20170809 , destination2:FUK , destination1:ICN , origin1:FUK , searchType:byDate , onwardDateStr:20170826 , domesticYn:N , promotionCode: , returnDateStr:20170826 , arrivCntryCode: , origin:FUK , orderByRT: , destination:ICN , origin2:ICN , paxTypeCountStr:1,0,0 , orderByOW: , travelType:OW , fareBasisCodeRT: , fareBasisCodeOW: , \n"
     ]
    },
    {
     "name": "stderr",
     "output_type": "stream",
     "text": [
      "2017-08-09 08:53:01,719 root     DEBUG    Crawling twayair homepage schedule site\n"
     ]
    },
    {
     "name": "stdout",
     "output_type": "stream",
     "text": [
      "End Session crawling\n",
      "Start Session crawling\n",
      "make session :  https://www.twayair.com/booking/availabilityList.do\n",
      "crawling :  https://www.twayair.com/booking/ajax/searchAvailability.do\n",
      ">> Parameters\n",
      "today:20170809 , destination2:FUK , destination1:ICN , origin1:FUK , searchType:byDate , onwardDateStr:20170827 , domesticYn:N , promotionCode: , returnDateStr:20170827 , arrivCntryCode: , origin:FUK , orderByRT: , destination:ICN , origin2:ICN , paxTypeCountStr:1,0,0 , orderByOW: , travelType:OW , fareBasisCodeRT: , fareBasisCodeOW: , \n"
     ]
    },
    {
     "name": "stderr",
     "output_type": "stream",
     "text": [
      "2017-08-09 08:53:04,260 root     DEBUG    Crawling twayair homepage schedule site\n"
     ]
    },
    {
     "name": "stdout",
     "output_type": "stream",
     "text": [
      "End Session crawling\n",
      "Start Session crawling\n",
      "make session :  https://www.twayair.com/booking/availabilityList.do\n",
      "crawling :  https://www.twayair.com/booking/ajax/searchAvailability.do\n",
      ">> Parameters\n",
      "today:20170809 , destination2:FUK , destination1:ICN , origin1:FUK , searchType:byDate , onwardDateStr:20170828 , domesticYn:N , promotionCode: , returnDateStr:20170828 , arrivCntryCode: , origin:FUK , orderByRT: , destination:ICN , origin2:ICN , paxTypeCountStr:1,0,0 , orderByOW: , travelType:OW , fareBasisCodeRT: , fareBasisCodeOW: , \n"
     ]
    },
    {
     "name": "stderr",
     "output_type": "stream",
     "text": [
      "2017-08-09 08:53:06,690 root     DEBUG    Crawling twayair homepage schedule site\n"
     ]
    },
    {
     "name": "stdout",
     "output_type": "stream",
     "text": [
      "End Session crawling\n",
      "Start Session crawling\n",
      "make session :  https://www.twayair.com/booking/availabilityList.do\n",
      "crawling :  https://www.twayair.com/booking/ajax/searchAvailability.do\n",
      ">> Parameters\n",
      "today:20170809 , destination2:FUK , destination1:ICN , origin1:FUK , searchType:byDate , onwardDateStr:20170829 , domesticYn:N , promotionCode: , returnDateStr:20170829 , arrivCntryCode: , origin:FUK , orderByRT: , destination:ICN , origin2:ICN , paxTypeCountStr:1,0,0 , orderByOW: , travelType:OW , fareBasisCodeRT: , fareBasisCodeOW: , \n"
     ]
    },
    {
     "name": "stderr",
     "output_type": "stream",
     "text": [
      "2017-08-09 08:53:09,206 root     DEBUG    Crawling twayair homepage schedule site\n"
     ]
    },
    {
     "name": "stdout",
     "output_type": "stream",
     "text": [
      "End Session crawling\n",
      "Start Session crawling\n",
      "make session :  https://www.twayair.com/booking/availabilityList.do\n",
      "crawling :  https://www.twayair.com/booking/ajax/searchAvailability.do\n",
      ">> Parameters\n",
      "today:20170809 , destination2:FUK , destination1:ICN , origin1:FUK , searchType:byDate , onwardDateStr:20170830 , domesticYn:N , promotionCode: , returnDateStr:20170830 , arrivCntryCode: , origin:FUK , orderByRT: , destination:ICN , origin2:ICN , paxTypeCountStr:1,0,0 , orderByOW: , travelType:OW , fareBasisCodeRT: , fareBasisCodeOW: , \n"
     ]
    },
    {
     "name": "stderr",
     "output_type": "stream",
     "text": [
      "2017-08-09 08:53:11,616 root     INFO     end batch job :: craw_by_route_site :: elapsed -0:00:53.375053 :: Total crawl:21 files saved.\n",
      "2017-08-09 08:53:11,618 root     INFO     start batch job :: craw_by_route_site[FUK,ICN,7C,['20170810', '20170811', '20170812', '20170813', '20170814', '20170815', '20170816', '20170817', '20170818', '20170819', '20170820', '20170821', '20170822', '20170823', '20170824', '20170825', '20170826', '20170827', '20170828', '20170829', '20170830'],7C]\n",
      "2017-08-09 08:53:11,621 root     DEBUG    1 :: 7C :: crawling_7C_int :: True\n",
      "2017-08-09 08:53:11,624 root     INFO     <function crawling_7C_int at 0x0000000007FA6A60> :: True\n",
      "2017-08-09 08:53:11,627 root     DEBUG    Crawling jejuair homepage schedule site\n"
     ]
    },
    {
     "name": "stdout",
     "output_type": "stream",
     "text": [
      "End Session crawling\n",
      "Start Session crawling\n",
      "make session :  https://www.jejuair.net/jejuair/com/jeju/ibe/availInit.do\n",
      "crawling :  https://www.jejuair.net/jejuair/com/jeju/ibe/searchAvail.do\n",
      ">> Parameters\n",
      "AdultPaxCnt:1 , Language:KR , SystemType:IBE , DepDate:20170810 , ChildPaxCnt:0 , ArrStn:ICN , InfantPaxCnt:0 , SegType:DEP , DepStn:FUK , RouteType:I , TripType:OW , Index:1 , \n"
     ]
    },
    {
     "name": "stderr",
     "output_type": "stream",
     "text": [
      "2017-08-09 08:53:14,874 root     DEBUG    Crawling jejuair homepage schedule site\n"
     ]
    },
    {
     "name": "stdout",
     "output_type": "stream",
     "text": [
      "End Session crawling\n",
      "Start Session crawling\n",
      "make session :  https://www.jejuair.net/jejuair/com/jeju/ibe/availInit.do\n",
      "crawling :  https://www.jejuair.net/jejuair/com/jeju/ibe/searchAvail.do\n",
      ">> Parameters\n",
      "AdultPaxCnt:1 , Language:KR , SystemType:IBE , DepDate:20170811 , ChildPaxCnt:0 , ArrStn:ICN , InfantPaxCnt:0 , SegType:DEP , DepStn:FUK , RouteType:I , TripType:OW , Index:1 , \n"
     ]
    },
    {
     "name": "stderr",
     "output_type": "stream",
     "text": [
      "2017-08-09 08:53:18,184 root     DEBUG    Crawling jejuair homepage schedule site\n"
     ]
    },
    {
     "name": "stdout",
     "output_type": "stream",
     "text": [
      "End Session crawling\n",
      "Start Session crawling\n",
      "make session :  https://www.jejuair.net/jejuair/com/jeju/ibe/availInit.do\n",
      "crawling :  https://www.jejuair.net/jejuair/com/jeju/ibe/searchAvail.do\n",
      ">> Parameters\n",
      "AdultPaxCnt:1 , Language:KR , SystemType:IBE , DepDate:20170812 , ChildPaxCnt:0 , ArrStn:ICN , InfantPaxCnt:0 , SegType:DEP , DepStn:FUK , RouteType:I , TripType:OW , Index:1 , \n"
     ]
    },
    {
     "name": "stderr",
     "output_type": "stream",
     "text": [
      "2017-08-09 08:53:23,669 root     DEBUG    Crawling jejuair homepage schedule site\n"
     ]
    },
    {
     "name": "stdout",
     "output_type": "stream",
     "text": [
      "End Session crawling\n",
      "Start Session crawling\n",
      "make session :  https://www.jejuair.net/jejuair/com/jeju/ibe/availInit.do\n",
      "crawling :  https://www.jejuair.net/jejuair/com/jeju/ibe/searchAvail.do\n",
      ">> Parameters\n",
      "AdultPaxCnt:1 , Language:KR , SystemType:IBE , DepDate:20170813 , ChildPaxCnt:0 , ArrStn:ICN , InfantPaxCnt:0 , SegType:DEP , DepStn:FUK , RouteType:I , TripType:OW , Index:1 , \n"
     ]
    },
    {
     "name": "stderr",
     "output_type": "stream",
     "text": [
      "2017-08-09 08:53:26,800 root     DEBUG    Crawling jejuair homepage schedule site\n"
     ]
    },
    {
     "name": "stdout",
     "output_type": "stream",
     "text": [
      "End Session crawling\n",
      "Start Session crawling\n",
      "make session :  https://www.jejuair.net/jejuair/com/jeju/ibe/availInit.do\n",
      "crawling :  https://www.jejuair.net/jejuair/com/jeju/ibe/searchAvail.do\n",
      ">> Parameters\n",
      "AdultPaxCnt:1 , Language:KR , SystemType:IBE , DepDate:20170814 , ChildPaxCnt:0 , ArrStn:ICN , InfantPaxCnt:0 , SegType:DEP , DepStn:FUK , RouteType:I , TripType:OW , Index:1 , \n"
     ]
    },
    {
     "name": "stderr",
     "output_type": "stream",
     "text": [
      "2017-08-09 08:53:31,341 root     DEBUG    Crawling jejuair homepage schedule site\n"
     ]
    },
    {
     "name": "stdout",
     "output_type": "stream",
     "text": [
      "End Session crawling\n",
      "Start Session crawling\n",
      "make session :  https://www.jejuair.net/jejuair/com/jeju/ibe/availInit.do\n",
      "crawling :  https://www.jejuair.net/jejuair/com/jeju/ibe/searchAvail.do\n",
      ">> Parameters\n",
      "AdultPaxCnt:1 , Language:KR , SystemType:IBE , DepDate:20170815 , ChildPaxCnt:0 , ArrStn:ICN , InfantPaxCnt:0 , SegType:DEP , DepStn:FUK , RouteType:I , TripType:OW , Index:1 , \n"
     ]
    },
    {
     "name": "stderr",
     "output_type": "stream",
     "text": [
      "2017-08-09 08:53:37,761 root     DEBUG    Crawling jejuair homepage schedule site\n"
     ]
    },
    {
     "name": "stdout",
     "output_type": "stream",
     "text": [
      "End Session crawling\n",
      "Start Session crawling\n",
      "make session :  https://www.jejuair.net/jejuair/com/jeju/ibe/availInit.do\n",
      "crawling :  https://www.jejuair.net/jejuair/com/jeju/ibe/searchAvail.do\n",
      ">> Parameters\n",
      "AdultPaxCnt:1 , Language:KR , SystemType:IBE , DepDate:20170816 , ChildPaxCnt:0 , ArrStn:ICN , InfantPaxCnt:0 , SegType:DEP , DepStn:FUK , RouteType:I , TripType:OW , Index:1 , \n"
     ]
    },
    {
     "name": "stderr",
     "output_type": "stream",
     "text": [
      "2017-08-09 08:53:40,657 root     DEBUG    Crawling jejuair homepage schedule site\n"
     ]
    },
    {
     "name": "stdout",
     "output_type": "stream",
     "text": [
      "End Session crawling\n",
      "Start Session crawling\n",
      "make session :  https://www.jejuair.net/jejuair/com/jeju/ibe/availInit.do\n",
      "crawling :  https://www.jejuair.net/jejuair/com/jeju/ibe/searchAvail.do\n",
      ">> Parameters\n",
      "AdultPaxCnt:1 , Language:KR , SystemType:IBE , DepDate:20170817 , ChildPaxCnt:0 , ArrStn:ICN , InfantPaxCnt:0 , SegType:DEP , DepStn:FUK , RouteType:I , TripType:OW , Index:1 , \n"
     ]
    },
    {
     "name": "stderr",
     "output_type": "stream",
     "text": [
      "2017-08-09 08:53:47,422 root     DEBUG    Crawling jejuair homepage schedule site\n"
     ]
    },
    {
     "name": "stdout",
     "output_type": "stream",
     "text": [
      "End Session crawling\n",
      "Start Session crawling\n",
      "make session :  https://www.jejuair.net/jejuair/com/jeju/ibe/availInit.do\n",
      "crawling :  https://www.jejuair.net/jejuair/com/jeju/ibe/searchAvail.do\n",
      ">> Parameters\n",
      "AdultPaxCnt:1 , Language:KR , SystemType:IBE , DepDate:20170818 , ChildPaxCnt:0 , ArrStn:ICN , InfantPaxCnt:0 , SegType:DEP , DepStn:FUK , RouteType:I , TripType:OW , Index:1 , \n"
     ]
    },
    {
     "name": "stderr",
     "output_type": "stream",
     "text": [
      "2017-08-09 08:53:52,612 root     DEBUG    Crawling jejuair homepage schedule site\n"
     ]
    },
    {
     "name": "stdout",
     "output_type": "stream",
     "text": [
      "End Session crawling\n",
      "Start Session crawling\n",
      "make session :  https://www.jejuair.net/jejuair/com/jeju/ibe/availInit.do\n",
      "crawling :  https://www.jejuair.net/jejuair/com/jeju/ibe/searchAvail.do\n",
      ">> Parameters\n",
      "AdultPaxCnt:1 , Language:KR , SystemType:IBE , DepDate:20170819 , ChildPaxCnt:0 , ArrStn:ICN , InfantPaxCnt:0 , SegType:DEP , DepStn:FUK , RouteType:I , TripType:OW , Index:1 , \n"
     ]
    },
    {
     "name": "stderr",
     "output_type": "stream",
     "text": [
      "2017-08-09 08:53:59,853 root     DEBUG    Crawling jejuair homepage schedule site\n"
     ]
    },
    {
     "name": "stdout",
     "output_type": "stream",
     "text": [
      "End Session crawling\n",
      "Start Session crawling\n",
      "make session :  https://www.jejuair.net/jejuair/com/jeju/ibe/availInit.do\n",
      "crawling :  https://www.jejuair.net/jejuair/com/jeju/ibe/searchAvail.do\n",
      ">> Parameters\n",
      "AdultPaxCnt:1 , Language:KR , SystemType:IBE , DepDate:20170820 , ChildPaxCnt:0 , ArrStn:ICN , InfantPaxCnt:0 , SegType:DEP , DepStn:FUK , RouteType:I , TripType:OW , Index:1 , \n"
     ]
    },
    {
     "name": "stderr",
     "output_type": "stream",
     "text": [
      "2017-08-09 08:54:04,375 root     DEBUG    Crawling jejuair homepage schedule site\n"
     ]
    },
    {
     "name": "stdout",
     "output_type": "stream",
     "text": [
      "End Session crawling\n",
      "Start Session crawling\n",
      "make session :  https://www.jejuair.net/jejuair/com/jeju/ibe/availInit.do\n",
      "crawling :  https://www.jejuair.net/jejuair/com/jeju/ibe/searchAvail.do\n",
      ">> Parameters\n",
      "AdultPaxCnt:1 , Language:KR , SystemType:IBE , DepDate:20170821 , ChildPaxCnt:0 , ArrStn:ICN , InfantPaxCnt:0 , SegType:DEP , DepStn:FUK , RouteType:I , TripType:OW , Index:1 , \n"
     ]
    },
    {
     "name": "stderr",
     "output_type": "stream",
     "text": [
      "2017-08-09 08:54:07,077 root     DEBUG    Crawling jejuair homepage schedule site\n"
     ]
    },
    {
     "name": "stdout",
     "output_type": "stream",
     "text": [
      "End Session crawling\n",
      "Start Session crawling\n",
      "make session :  https://www.jejuair.net/jejuair/com/jeju/ibe/availInit.do\n",
      "crawling :  https://www.jejuair.net/jejuair/com/jeju/ibe/searchAvail.do\n",
      ">> Parameters\n",
      "AdultPaxCnt:1 , Language:KR , SystemType:IBE , DepDate:20170822 , ChildPaxCnt:0 , ArrStn:ICN , InfantPaxCnt:0 , SegType:DEP , DepStn:FUK , RouteType:I , TripType:OW , Index:1 , \n"
     ]
    },
    {
     "name": "stderr",
     "output_type": "stream",
     "text": [
      "2017-08-09 08:54:12,598 root     DEBUG    Crawling jejuair homepage schedule site\n"
     ]
    },
    {
     "name": "stdout",
     "output_type": "stream",
     "text": [
      "End Session crawling\n",
      "Start Session crawling\n",
      "make session :  https://www.jejuair.net/jejuair/com/jeju/ibe/availInit.do\n",
      "crawling :  https://www.jejuair.net/jejuair/com/jeju/ibe/searchAvail.do\n",
      ">> Parameters\n",
      "AdultPaxCnt:1 , Language:KR , SystemType:IBE , DepDate:20170823 , ChildPaxCnt:0 , ArrStn:ICN , InfantPaxCnt:0 , SegType:DEP , DepStn:FUK , RouteType:I , TripType:OW , Index:1 , \n"
     ]
    },
    {
     "name": "stderr",
     "output_type": "stream",
     "text": [
      "2017-08-09 08:54:16,859 root     DEBUG    Crawling jejuair homepage schedule site\n"
     ]
    },
    {
     "name": "stdout",
     "output_type": "stream",
     "text": [
      "End Session crawling\n",
      "Start Session crawling\n",
      "make session :  https://www.jejuair.net/jejuair/com/jeju/ibe/availInit.do\n",
      "crawling :  https://www.jejuair.net/jejuair/com/jeju/ibe/searchAvail.do\n",
      ">> Parameters\n",
      "AdultPaxCnt:1 , Language:KR , SystemType:IBE , DepDate:20170824 , ChildPaxCnt:0 , ArrStn:ICN , InfantPaxCnt:0 , SegType:DEP , DepStn:FUK , RouteType:I , TripType:OW , Index:1 , \n"
     ]
    },
    {
     "name": "stderr",
     "output_type": "stream",
     "text": [
      "2017-08-09 08:54:21,515 root     DEBUG    Crawling jejuair homepage schedule site\n"
     ]
    },
    {
     "name": "stdout",
     "output_type": "stream",
     "text": [
      "End Session crawling\n",
      "Start Session crawling\n",
      "make session :  https://www.jejuair.net/jejuair/com/jeju/ibe/availInit.do\n",
      "crawling :  https://www.jejuair.net/jejuair/com/jeju/ibe/searchAvail.do\n",
      ">> Parameters\n",
      "AdultPaxCnt:1 , Language:KR , SystemType:IBE , DepDate:20170825 , ChildPaxCnt:0 , ArrStn:ICN , InfantPaxCnt:0 , SegType:DEP , DepStn:FUK , RouteType:I , TripType:OW , Index:1 , \n"
     ]
    },
    {
     "name": "stderr",
     "output_type": "stream",
     "text": [
      "2017-08-09 08:54:25,744 root     DEBUG    Crawling jejuair homepage schedule site\n"
     ]
    },
    {
     "name": "stdout",
     "output_type": "stream",
     "text": [
      "End Session crawling\n",
      "Start Session crawling\n",
      "make session :  https://www.jejuair.net/jejuair/com/jeju/ibe/availInit.do\n",
      "crawling :  https://www.jejuair.net/jejuair/com/jeju/ibe/searchAvail.do\n",
      ">> Parameters\n",
      "AdultPaxCnt:1 , Language:KR , SystemType:IBE , DepDate:20170826 , ChildPaxCnt:0 , ArrStn:ICN , InfantPaxCnt:0 , SegType:DEP , DepStn:FUK , RouteType:I , TripType:OW , Index:1 , \n"
     ]
    },
    {
     "name": "stderr",
     "output_type": "stream",
     "text": [
      "2017-08-09 08:54:30,369 root     DEBUG    Crawling jejuair homepage schedule site\n"
     ]
    },
    {
     "name": "stdout",
     "output_type": "stream",
     "text": [
      "End Session crawling\n",
      "Start Session crawling\n",
      "make session :  https://www.jejuair.net/jejuair/com/jeju/ibe/availInit.do\n",
      "crawling :  https://www.jejuair.net/jejuair/com/jeju/ibe/searchAvail.do\n",
      ">> Parameters\n",
      "AdultPaxCnt:1 , Language:KR , SystemType:IBE , DepDate:20170827 , ChildPaxCnt:0 , ArrStn:ICN , InfantPaxCnt:0 , SegType:DEP , DepStn:FUK , RouteType:I , TripType:OW , Index:1 , \n"
     ]
    },
    {
     "name": "stderr",
     "output_type": "stream",
     "text": [
      "2017-08-09 08:54:36,882 root     DEBUG    Crawling jejuair homepage schedule site\n"
     ]
    },
    {
     "name": "stdout",
     "output_type": "stream",
     "text": [
      "End Session crawling\n",
      "Start Session crawling\n",
      "make session :  https://www.jejuair.net/jejuair/com/jeju/ibe/availInit.do\n",
      "crawling :  https://www.jejuair.net/jejuair/com/jeju/ibe/searchAvail.do\n",
      ">> Parameters\n",
      "AdultPaxCnt:1 , Language:KR , SystemType:IBE , DepDate:20170828 , ChildPaxCnt:0 , ArrStn:ICN , InfantPaxCnt:0 , SegType:DEP , DepStn:FUK , RouteType:I , TripType:OW , Index:1 , \n"
     ]
    },
    {
     "name": "stderr",
     "output_type": "stream",
     "text": [
      "2017-08-09 08:54:40,979 root     DEBUG    Crawling jejuair homepage schedule site\n"
     ]
    },
    {
     "name": "stdout",
     "output_type": "stream",
     "text": [
      "End Session crawling\n",
      "Start Session crawling\n",
      "make session :  https://www.jejuair.net/jejuair/com/jeju/ibe/availInit.do\n",
      "crawling :  https://www.jejuair.net/jejuair/com/jeju/ibe/searchAvail.do\n",
      ">> Parameters\n",
      "AdultPaxCnt:1 , Language:KR , SystemType:IBE , DepDate:20170829 , ChildPaxCnt:0 , ArrStn:ICN , InfantPaxCnt:0 , SegType:DEP , DepStn:FUK , RouteType:I , TripType:OW , Index:1 , \n"
     ]
    },
    {
     "name": "stderr",
     "output_type": "stream",
     "text": [
      "2017-08-09 08:54:44,079 root     DEBUG    Crawling jejuair homepage schedule site\n"
     ]
    },
    {
     "name": "stdout",
     "output_type": "stream",
     "text": [
      "End Session crawling\n",
      "Start Session crawling\n",
      "make session :  https://www.jejuair.net/jejuair/com/jeju/ibe/availInit.do\n",
      "crawling :  https://www.jejuair.net/jejuair/com/jeju/ibe/searchAvail.do\n",
      ">> Parameters\n",
      "AdultPaxCnt:1 , Language:KR , SystemType:IBE , DepDate:20170830 , ChildPaxCnt:0 , ArrStn:ICN , InfantPaxCnt:0 , SegType:DEP , DepStn:FUK , RouteType:I , TripType:OW , Index:1 , \n"
     ]
    },
    {
     "name": "stderr",
     "output_type": "stream",
     "text": [
      "2017-08-09 08:54:47,686 root     INFO     end batch job :: craw_by_route_site :: elapsed -0:01:36.065495 :: Total crawl:21 files saved.\n",
      "2017-08-09 08:54:47,691 root     INFO     start batch job :: craw_by_route_site[FUK/JPN,ICN/KOR,LJ,['20170810', '20170811', '20170812', '20170813', '20170814', '20170815', '20170816', '20170817', '20170818', '20170819', '20170820', '20170821', '20170822', '20170823', '20170824', '20170825', '20170826', '20170827', '20170828', '20170829', '20170830'],LJ]\n",
      "2017-08-09 08:54:47,698 root     DEBUG    1 :: LJ :: crawling_LJ_int :: True\n",
      "2017-08-09 08:54:47,703 root     INFO     <function crawling_LJ_int at 0x0000000007FA6BF8> :: True\n"
     ]
    },
    {
     "name": "stdout",
     "output_type": "stream",
     "text": [
      "End Session crawling\n",
      "Crawling jinair mobile page schedule site\n",
      "Param :  FUK/JPN ICN/KOR 20170810\n",
      "End crawling\n",
      "Crawling jinair mobile page schedule site\n",
      "Param :  FUK/JPN ICN/KOR 20170811\n",
      "End crawling\n",
      "Crawling jinair mobile page schedule site\n",
      "Param :  FUK/JPN ICN/KOR 20170812\n",
      "End crawling\n",
      "Crawling jinair mobile page schedule site\n",
      "Param :  FUK/JPN ICN/KOR 20170813\n",
      "End crawling\n",
      "Crawling jinair mobile page schedule site\n",
      "Param :  FUK/JPN ICN/KOR 20170814\n",
      "End crawling\n",
      "Crawling jinair mobile page schedule site\n",
      "Param :  FUK/JPN ICN/KOR 20170815\n",
      "End crawling\n",
      "Crawling jinair mobile page schedule site\n",
      "Param :  FUK/JPN ICN/KOR 20170816\n",
      "End crawling\n",
      "Crawling jinair mobile page schedule site\n",
      "Param :  FUK/JPN ICN/KOR 20170817\n",
      "End crawling\n",
      "Crawling jinair mobile page schedule site\n",
      "Param :  FUK/JPN ICN/KOR 20170818\n",
      "End crawling\n",
      "Crawling jinair mobile page schedule site\n",
      "Param :  FUK/JPN ICN/KOR 20170819\n",
      "End crawling\n",
      "Crawling jinair mobile page schedule site\n",
      "Param :  FUK/JPN ICN/KOR 20170820\n",
      "End crawling\n",
      "Crawling jinair mobile page schedule site\n",
      "Param :  FUK/JPN ICN/KOR 20170821\n",
      "End crawling\n",
      "Crawling jinair mobile page schedule site\n",
      "Param :  FUK/JPN ICN/KOR 20170822\n",
      "End crawling\n",
      "Crawling jinair mobile page schedule site\n",
      "Param :  FUK/JPN ICN/KOR 20170823\n",
      "End crawling\n",
      "Crawling jinair mobile page schedule site\n",
      "Param :  FUK/JPN ICN/KOR 20170824\n",
      "End crawling\n",
      "Crawling jinair mobile page schedule site\n",
      "Param :  FUK/JPN ICN/KOR 20170825\n",
      "End crawling\n",
      "Crawling jinair mobile page schedule site\n",
      "Param :  FUK/JPN ICN/KOR 20170826\n",
      "End crawling\n",
      "Crawling jinair mobile page schedule site\n",
      "Param :  FUK/JPN ICN/KOR 20170827\n",
      "End crawling\n",
      "Crawling jinair mobile page schedule site\n",
      "Param :  FUK/JPN ICN/KOR 20170828\n",
      "End crawling\n",
      "Crawling jinair mobile page schedule site\n",
      "Param :  FUK/JPN ICN/KOR 20170829\n",
      "End crawling\n",
      "Crawling jinair mobile page schedule site\n",
      "Param :  FUK/JPN ICN/KOR 20170830\n"
     ]
    },
    {
     "name": "stderr",
     "output_type": "stream",
     "text": [
      "2017-08-09 08:55:35,049 root     INFO     end batch job :: craw_by_route_site :: elapsed -0:00:47.350709 :: Total crawl:21 files saved.\n",
      "2017-08-09 08:55:35,051 root     INFO     end batch job :: craw_by_route_siteinfos :: elapsed -0:54:22.497604 :: Total infos(24)\n",
      "2017-08-09 08:55:35,053 root     INFO     Total 24 site info, 0 error occured\n"
     ]
    },
    {
     "name": "stdout",
     "output_type": "stream",
     "text": [
      "End crawling\n"
     ]
    }
   ],
   "source": [
    "### 매일 1회 실시\n",
    "conds = [\n",
    "    ## 김포제주, 인천나리타 60일 데이터 - 출근후\n",
    "     gmpcju60,icnnrt60,\n",
    "    ## 21일 데이터 - 출근후\n",
    "     cjugmp21,icnbkk21,icnfuk21,\n",
    "    ## 국내선 기타 노선 21일(김포 부산, 부산 제주 - 왕복), 출근후\n",
    "    gmppus21,pusgmp21,puscju21,\n",
    "    #cjupus21,\n",
    "    ## 국내선 기타 노선 21일(청주 제주, 군산 제주 - 왕복), 출근후\n",
    "    cjjcju21,cjucjj21,kuvcju21,cjukuv21,\n",
    "    ### 나리타, 후쿠오카, 방콕 현지 출발 21일 데이터\n",
    "    ze_nrticn21,tw_nrticn21,c7_nrticn21,lj_nrticn21,\n",
    "    ze_bkkicn21,tw_bkkicn21,c7_bkkicn21,lj_bkkicn21,\n",
    "    ze_fukicn21,tw_fukicn21,c7_fukicn21,lj_fukicn21,\n",
    "]\n",
    "crawl_date = datetime.today().strftime('%Y%m%d') + '08'\n",
    "error_infos = crawl_by_route_siteinfos(crawl_date,conds)"
   ]
  },
  {
   "cell_type": "code",
   "execution_count": null,
   "metadata": {
    "collapsed": false,
    "deletable": true,
    "editable": true,
    "scrolled": false
   },
   "outputs": [],
   "source": [
    "### 매일 2회 실시\n",
    "conds = [\n",
    "    ## 21일 데이터 김포 제주 왕복 10시,14시\n",
    "    gmpcju21,cjugmp21,\n",
    "    ## 국내선 기타 노선 21일(김포 부산, 부산 제주 - 왕복), 10시,14시\n",
    "    gmppus21,pusgmp21,puscju21,cjupus21,\n",
    "    ## 국내선 기타 노선 21일(청주 제주, 군산 제주 - 왕복), 10시,14시\n",
    "    cjjcju21,cjucjj21,kuvcju21,cjukuv21,\n",
    "    ## 21일 데이터 국제선 10시,14시\n",
    "    icnnrt21,nrticn21,icnbkk21,bkkicn21\n",
    "    ### 나리타, 후쿠오카, 방콕 현지 출발 21일 데이터\n",
    "    ze_nrticn21,tw_nrticn21,c7_nrticn21,lj_nrticn21,\n",
    "    ze_bkkicn21,tw_bkkicn21,c7_bkkicn21,lj_bkkicn21,\n",
    "    ze_fukicn21,tw_fukicn21,c7_fukicn21,lj_fukicn21,\n",
    "]\n",
    "crawl_date = datetime.today().strftime('%Y%m%d%H')\n",
    "error_infos = crawl_by_route_siteinfos(crawl_date,conds)"
   ]
  },
  {
   "cell_type": "code",
   "execution_count": null,
   "metadata": {
    "collapsed": false,
    "deletable": true,
    "editable": true,
    "scrolled": true
   },
   "outputs": [],
   "source": [
    "### 나리타, 후쿠오카, 방콕 현지 출발 21일 데이터\n",
    "conds = [\n",
    "    ze_nrticn21,tw_nrticn21,c7_nrticn21,lj_nrticn21,\n",
    "    ze_bkkicn21,tw_bkkicn21,c7_bkkicn21,lj_bkkicn21,\n",
    "    ze_fukicn21,tw_fukicn21,c7_fukicn21,lj_fukicn21,\n",
    "]\n",
    "error_infos = craw_by_route_siteinfos(conds)"
   ]
  },
  {
   "cell_type": "code",
   "execution_count": null,
   "metadata": {
    "collapsed": false,
    "deletable": true,
    "editable": true
   },
   "outputs": [],
   "source": [
    "### 후쿠오카 출발 21일 데이터 테스트\n",
    "conds = [\n",
    "    icnfuk21,\n",
    "    ze_fukicn21,tw_fukicn21,c7_fukicn21,lj_fukicn21,\n",
    "]\n",
    "crawl_date = datetime.today().strftime('%Y%m%d%H')\n",
    "error_infos = crawl_by_route_siteinfos(crawl_date,conds)"
   ]
  },
  {
   "cell_type": "code",
   "execution_count": 5,
   "metadata": {
    "collapsed": false,
    "deletable": true,
    "editable": true
   },
   "outputs": [
    {
     "data": {
      "text/plain": [
       "[]"
      ]
     },
     "execution_count": 5,
     "metadata": {},
     "output_type": "execute_result"
    }
   ],
   "source": [
    "error_infos"
   ]
  },
  {
   "cell_type": "code",
   "execution_count": null,
   "metadata": {
    "collapsed": false,
    "deletable": true,
    "editable": true,
    "scrolled": true
   },
   "outputs": [],
   "source": [
    "#crawl_date = crawl_date\n",
    "error_infos=crawl_by_route_siteinfos(crawl_date,error_infos)"
   ]
  },
  {
   "cell_type": "code",
   "execution_count": null,
   "metadata": {
    "collapsed": false,
    "deletable": true,
    "editable": true,
    "scrolled": true
   },
   "outputs": [],
   "source": [
    "## 사이트 상태 점검용\n",
    "previous_crawled_date = get_date() ##오늘, 중도에 오류가 날경우 조정 하여 재실행\n",
    "start = get_date(base_date=previous_crawled_date,after=1) ## 내일 날짜 구하기\n",
    "end = get_date(base_date=previous_crawled_date,after=2)  ## 기간 날짜 구하기\n",
    "dates = list(timeiter(start,end))\n",
    "gmpcjutest = ['0','GMP', 'CJU', 'IP', ['7C','LJ','TW','ZE'],dates]\n",
    "craw_by_route_siteinfos([gmpcjutest])"
   ]
  },
  {
   "cell_type": "code",
   "execution_count": null,
   "metadata": {
    "collapsed": true,
    "deletable": true,
    "editable": true
   },
   "outputs": [],
   "source": []
  }
 ],
 "metadata": {
  "kernelspec": {
   "display_name": "Python 3",
   "language": "python",
   "name": "python3"
  },
  "language_info": {
   "codemirror_mode": {
    "name": "ipython",
    "version": 3
   },
   "file_extension": ".py",
   "mimetype": "text/x-python",
   "name": "python",
   "nbconvert_exporter": "python",
   "pygments_lexer": "ipython3",
   "version": "3.5.3"
  }
 },
 "nbformat": 4,
 "nbformat_minor": 2
}
