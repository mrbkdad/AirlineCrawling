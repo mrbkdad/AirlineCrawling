{
 "cells": [
  {
   "cell_type": "markdown",
   "metadata": {
    "deletable": true,
    "editable": true
   },
   "source": [
    "## 항공가격 배치 크롤링\n",
    "- 크롤링 대상 사이트, 노선, 날짜 리스트 정보를 이용하여 크롤링 배치 처리\n",
    "- 실시간 사이트의 경우 대상 항공사 코드 정보 필요\n",
    "    * 세팅정보 처리 : 크롤링 함수 부분"
   ]
  },
  {
   "cell_type": "code",
   "execution_count": 1,
   "metadata": {
    "collapsed": false,
    "deletable": true,
    "editable": true
   },
   "outputs": [],
   "source": [
    "from collections import namedtuple\n",
    "from datetime import datetime, timedelta\n",
    "import requests\n",
    "import shutil\n",
    "from common.env_variable import *\n",
    "from common.batch_util import *\n",
    "from common.crawl_func import *\n",
    "from common.log_util import *\n",
    "from common.util import save_raw_data\n",
    "## 로그 초기화\n",
    "logger_initialize('crawl_logger_setting.json')\n",
    "init_env_variable('common/env_variable.json')"
   ]
  },
  {
   "cell_type": "code",
   "execution_count": 2,
   "metadata": {
    "collapsed": false,
    "deletable": true,
    "editable": true
   },
   "outputs": [],
   "source": [
    "## 노선과 사이트 정보리스트를 이용하여 크롤링 실행 함수\n",
    "## 크롤링 날짜 지정 YYYYMMDDHH 년월일시간\n",
    "def crawl_by_route_siteinfos(crawl_date, infos):\n",
    "    log_msgs = ['start batch job','craw_by_route_siteinfos : {}-{}'.format(crawl_date,len(infos))]\n",
    "    log(log_msgs,level=logging.INFO)\n",
    "    start_time = datetime.today()\n",
    "    error_infos = []\n",
    "    for info in infos:\n",
    "        dom_int,dpt,arr,site,airlines,dates = info\n",
    "        try:\n",
    "            crawl_by_route_site(crawl_date,dom_int,dpt,arr,site,dates,airlines)\n",
    "        except:\n",
    "            error_infos.append(info)\n",
    "            log_msgs = ['*** Error occured! when crawling condition - {},{},{},{},{},{}'.format(dom_int,dpt,arr,site,airlines,dates)]\n",
    "            log(log_msgs,level=logging.ERROR)\n",
    "    end_time = datetime.today()\n",
    "    log_msgs = ['end batch job','craw_by_route_siteinfos',\n",
    "                'elapsed -{}'.format(end_time-start_time),'Total infos({})'.format(len(infos))]\n",
    "    log(log_msgs,level=logging.INFO)\n",
    "    log_msgs = ['Total {} site info, {} error occured'.format(len(infos),len(error_infos))]\n",
    "    log(log_msgs,level=logging.INFO)\n",
    "    return error_infos\n",
    "\n",
    "## 노선과 사이트 정보를 이용 크롤링 실행 함수\n",
    "def crawl_by_route_site(crawl_date,dom_int,dpt,arr,site,dates,airlines=None):\n",
    "    log_msgs = ['start batch job','craw_by_route_site[{},{},{},{},{}]'.format(dpt,arr,site,dates,airlines)]\n",
    "    log(log_msgs,level=logging.INFO)\n",
    "    start_time = datetime.today()\n",
    "    crawl_cnt = 0\n",
    "    func, isairline = get_crawl_site_func(dom_int,site)\n",
    "    log([func,isairline],level=logging.INFO)\n",
    "    if func is None: ## None 아닌 경우만 진행\n",
    "        log('Crawling Func not found!')\n",
    "        return None\n",
    "    for dpt_date in dates:\n",
    "        if isairline: ## 항공사 사이트\n",
    "            raw_data = crawling_func(func,dpt,arr,dpt_date)\n",
    "            head = set_headinfo(site,dom_int,site,dpt,arr,dpt_date,crawl_date=crawl_date)\n",
    "            file = file_name(site,dpt,arr,dpt_date)\n",
    "            save_raw_data(file,raw_data,head=head)\n",
    "            crawl_cnt += 1\n",
    "        else: ## 실시간 사이트\n",
    "            for airline in airlines:\n",
    "                raw_data = crawling_func(func,airline,dpt,arr,dpt_date)\n",
    "                head = set_headinfo(site,dom_int,airline,dpt,arr,dpt_date,crawl_date=crawl_date)\n",
    "                file = file_name(site,dpt,arr,dpt_date,airline=airline)\n",
    "                save_raw_data(file,raw_data,head=head)\n",
    "                crawl_cnt += 1\n",
    "    end_time = datetime.today()\n",
    "    log_msgs = ['end batch job','craw_by_route_site',\n",
    "                'elapsed -{}'.format(end_time-start_time),'Total crawl:{} files saved.'.format(crawl_cnt)]\n",
    "    log(log_msgs,level=logging.INFO)\n",
    "## YYYYMMDD 형식의 문자열 두개를 인자로 문자형 날짜 Range 생성\n",
    "def timeiter(start,end,fmt='%Y%m%d'):\n",
    "    date1 = datetime.strptime(start,'%Y%m%d')\n",
    "    date2 = datetime.strptime(end,'%Y%m%d')\n",
    "    delta = date2 - date1\n",
    "    return (datetime.strftime(date1+timedelta(days=d),fmt) for d in range(delta.days + 1))\n",
    "## YYYYMMDD 형식의 기준일로 부터 며칠 뒤의 날짜 구하기\n",
    "def get_date(base_date=None,after=0,fmt='%Y%m%d'):\n",
    "    if base_date is None:\n",
    "        return (datetime.today() + timedelta(after)).strftime(fmt)\n",
    "    else:\n",
    "        return (datetime.strptime(base_date,'%Y%m%d') + timedelta(after)).strftime(fmt)"
   ]
  },
  {
   "cell_type": "code",
   "execution_count": 3,
   "metadata": {
    "collapsed": false,
    "deletable": true,
    "editable": true
   },
   "outputs": [],
   "source": [
    "previous_crawled_date = get_date() ##오늘, 중도에 오류가 날경우 조정 하여 재실행\n",
    "start = get_date(base_date=previous_crawled_date,after=1) ## 내일 날짜 구하기\n",
    "end = get_date(base_date=previous_crawled_date,after=60)  ## 기간 날짜 구하기\n",
    "dates = list(timeiter(start,end))\n",
    "## 노선 기간별 변수\n",
    "## 60일 변수\n",
    "gmpcju60 = ['0','GMP', 'CJU', 'IP', ['7C','LJ','TW','ZE'],dates]\n",
    "icnnrt60 = ['1','ICN', 'NRT', 'IP', ['7C','LJ','TW','ZE'],dates]\n",
    "end = get_date(base_date=previous_crawled_date,after=21)  ## 기간 날짜 구하기\n",
    "dates = list(timeiter(start,end))\n",
    "## 국내선 21일 변수\n",
    "gmpcju21 = ['0','GMP', 'CJU', 'IP', ['7C','LJ','TW','ZE'],dates]\n",
    "cjugmp21 = ['0','CJU', 'GMP', 'IP', ['7C','LJ','TW','ZE'],dates]\n",
    "gmppus21 = ['0','GMP', 'PUS', 'IP', ['7C','BX','OZ','ZE'],dates]\n",
    "pusgmp21 = ['0','PUS', 'GMP', 'IP', ['7C','BX','OZ','ZE'],dates]\n",
    "puscju21 = ['0','PUS', 'CJU', 'IP', ['7C','LJ','OZ','KE','ZE'],dates]\n",
    "cjupus21 = ['0','CJU', 'PUS', 'IP', ['7C','LJ','OZ','KE','ZE'],dates]\n",
    "cjjcju21 = ['0','CJJ', 'CJU', 'IP', ['7C','LJ','OZ','KE','ZE'],dates]\n",
    "cjucjj21 = ['0','CJU', 'CJJ', 'IP', ['7C','LJ','OZ','KE','ZE'],dates]\n",
    "kuvcju21 = ['0','KUV', 'CJU', 'IP', ['KE','ZE'],dates]\n",
    "cjukuv21 = ['0','CJU', 'KUV', 'IP', ['KE','ZE'],dates]\n",
    "## 국제선 국내출발 21일 변수, 인터파크\n",
    "icnnrt21 = ['1','ICN', 'NRT', 'IP', ['7C','LJ','TW','ZE'],dates]\n",
    "icnbkk21 = ['1','ICN', 'BKK', 'IP', ['7C','LJ','TW','ZE'],dates]\n",
    "icnfuk21 = ['1','ICN', 'FUK', 'IP', ['7C','LJ','TW','ZE'],dates]\n",
    "## 국제선  현지출발 21일 각 항공사\n",
    "ze_nrticn21 = ['1','NRT', 'ICN', 'ZE', 'ZE',dates]\n",
    "tw_nrticn21 = ['1','NRT', 'ICN', 'TW', 'TW',dates]\n",
    "c7_nrticn21 = ['1','NRT', 'ICN', '7C', '7C',dates]\n",
    "lj_nrticn21 = ['1','NRT/JPN', 'ICN/KOR', 'LJ', 'LJ',dates]\n",
    "ze_bkkicn21 = ['1','BKK', 'ICN', 'ZE', 'ZE',dates]\n",
    "tw_bkkicn21 = ['1','BKK', 'ICN', 'TW', 'TW',dates]\n",
    "c7_bkkicn21 = ['1','BKK', 'ICN', '7C', '7C',dates]\n",
    "lj_bkkicn21 = ['1','BKK/SEA', 'ICN/KOR', 'LJ', 'LJ',dates]\n",
    "ze_fukicn21 = ['1','FUK', 'ICN', 'ZE', 'ZE',dates]\n",
    "tw_fukicn21 = ['1','FUK', 'ICN', 'TW', 'TW',dates]\n",
    "c7_fukicn21 = ['1','FUK', 'ICN', '7C', '7C',dates]\n",
    "lj_fukicn21 = ['1','FUK/JPN', 'ICN/KOR', 'LJ', 'LJ',dates]"
   ]
  },
  {
   "cell_type": "code",
   "execution_count": 4,
   "metadata": {
    "collapsed": false,
    "deletable": true,
    "editable": true,
    "scrolled": true
   },
   "outputs": [
    {
     "name": "stderr",
     "output_type": "stream",
     "text": [
      "2017-08-11 08:03:29,144 root     INFO     start batch job :: craw_by_route_siteinfos : 2017081108-24\n",
      "2017-08-11 08:03:29,175 root     INFO     start batch job :: craw_by_route_site[GMP,CJU,IP,['20170812', '20170813', '20170814', '20170815', '20170816', '20170817', '20170818', '20170819', '20170820', '20170821', '20170822', '20170823', '20170824', '20170825', '20170826', '20170827', '20170828', '20170829', '20170830', '20170831', '20170901', '20170902', '20170903', '20170904', '20170905', '20170906', '20170907', '20170908', '20170909', '20170910', '20170911', '20170912', '20170913', '20170914', '20170915', '20170916', '20170917', '20170918', '20170919', '20170920', '20170921', '20170922', '20170923', '20170924', '20170925', '20170926', '20170927', '20170928', '20170929', '20170930', '20171001', '20171002', '20171003', '20171004', '20171005', '20171006', '20171007', '20171008', '20171009', '20171010'],['7C', 'LJ', 'TW', 'ZE']]\n",
      "2017-08-11 08:03:29,178 root     DEBUG    0 :: IP :: crawling_IP_dom :: False\n",
      "2017-08-11 08:03:29,182 root     INFO     <function crawling_IP_dom at 0x0000000007C78378> :: False\n",
      "2017-08-11 08:03:29,186 root     DEBUG    Crawling Interpark domastic schedule site\n"
     ]
    },
    {
     "name": "stdout",
     "output_type": "stream",
     "text": [
      "Start Simple crawling :  http://domair.interpark.com/api/booking/airJourney.do\n",
      ">> Parameters\n",
      "tripDivi:0 , adt:1 , chd:0 , format:json , arr:CJU , inf:0 , airlineCode:7C , dep:GMP , depDate:20170812 , \n"
     ]
    },
    {
     "name": "stderr",
     "output_type": "stream",
     "text": [
      "2017-08-11 08:03:30,687 root     DEBUG    Crawling Interpark domastic schedule site\n"
     ]
    },
    {
     "name": "stdout",
     "output_type": "stream",
     "text": [
      "End Simple crawling\n",
      "Start Simple crawling :  http://domair.interpark.com/api/booking/airJourney.do\n",
      ">> Parameters\n",
      "tripDivi:0 , adt:1 , chd:0 , format:json , arr:CJU , inf:0 , airlineCode:LJ , dep:GMP , depDate:20170812 , \n"
     ]
    },
    {
     "name": "stderr",
     "output_type": "stream",
     "text": [
      "2017-08-11 08:03:30,890 root     DEBUG    Crawling Interpark domastic schedule site\n"
     ]
    },
    {
     "name": "stdout",
     "output_type": "stream",
     "text": [
      "End Simple crawling\n",
      "Start Simple crawling :  http://domair.interpark.com/api/booking/airJourney.do\n",
      ">> Parameters\n",
      "tripDivi:0 , adt:1 , chd:0 , format:json , arr:CJU , inf:0 , airlineCode:TW , dep:GMP , depDate:20170812 , \n"
     ]
    },
    {
     "name": "stderr",
     "output_type": "stream",
     "text": [
      "2017-08-11 08:03:31,285 root     DEBUG    Crawling Interpark domastic schedule site\n"
     ]
    },
    {
     "name": "stdout",
     "output_type": "stream",
     "text": [
      "End Simple crawling\n",
      "Start Simple crawling :  http://domair.interpark.com/api/booking/airJourney.do\n",
      ">> Parameters\n",
      "tripDivi:0 , adt:1 , chd:0 , format:json , arr:CJU , inf:0 , airlineCode:ZE , dep:GMP , depDate:20170812 , \n"
     ]
    },
    {
     "name": "stderr",
     "output_type": "stream",
     "text": [
      "2017-08-11 08:03:32,728 root     DEBUG    Crawling Interpark domastic schedule site\n"
     ]
    },
    {
     "name": "stdout",
     "output_type": "stream",
     "text": [
      "End Simple crawling\n",
      "Start Simple crawling :  http://domair.interpark.com/api/booking/airJourney.do\n",
      ">> Parameters\n",
      "tripDivi:0 , adt:1 , chd:0 , format:json , arr:CJU , inf:0 , airlineCode:7C , dep:GMP , depDate:20170813 , \n"
     ]
    },
    {
     "name": "stderr",
     "output_type": "stream",
     "text": [
      "2017-08-11 08:03:35,191 root     DEBUG    Crawling Interpark domastic schedule site\n",
      "2017-08-11 08:03:35,356 root     DEBUG    Crawling Interpark domastic schedule site\n"
     ]
    },
    {
     "name": "stdout",
     "output_type": "stream",
     "text": [
      "End Simple crawling\n",
      "Start Simple crawling :  http://domair.interpark.com/api/booking/airJourney.do\n",
      ">> Parameters\n",
      "tripDivi:0 , adt:1 , chd:0 , format:json , arr:CJU , inf:0 , airlineCode:LJ , dep:GMP , depDate:20170813 , \n",
      "End Simple crawling\n",
      "Start Simple crawling :  http://domair.interpark.com/api/booking/airJourney.do\n",
      ">> Parameters\n",
      "tripDivi:0 , adt:1 , chd:0 , format:json , arr:CJU , inf:0 , airlineCode:TW , dep:GMP , depDate:20170813 , \n"
     ]
    },
    {
     "name": "stderr",
     "output_type": "stream",
     "text": [
      "2017-08-11 08:03:35,877 root     DEBUG    Crawling Interpark domastic schedule site\n"
     ]
    },
    {
     "name": "stdout",
     "output_type": "stream",
     "text": [
      "End Simple crawling\n",
      "Start Simple crawling :  http://domair.interpark.com/api/booking/airJourney.do\n",
      ">> Parameters\n",
      "tripDivi:0 , adt:1 , chd:0 , format:json , arr:CJU , inf:0 , airlineCode:ZE , dep:GMP , depDate:20170813 , \n"
     ]
    },
    {
     "name": "stderr",
     "output_type": "stream",
     "text": [
      "2017-08-11 08:03:37,030 root     DEBUG    Crawling Interpark domastic schedule site\n"
     ]
    },
    {
     "name": "stdout",
     "output_type": "stream",
     "text": [
      "End Simple crawling\n",
      "Start Simple crawling :  http://domair.interpark.com/api/booking/airJourney.do\n",
      ">> Parameters\n",
      "tripDivi:0 , adt:1 , chd:0 , format:json , arr:CJU , inf:0 , airlineCode:7C , dep:GMP , depDate:20170814 , \n"
     ]
    },
    {
     "name": "stderr",
     "output_type": "stream",
     "text": [
      "2017-08-11 08:03:39,162 root     DEBUG    Crawling Interpark domastic schedule site\n",
      "2017-08-11 08:03:39,325 root     DEBUG    Crawling Interpark domastic schedule site\n"
     ]
    },
    {
     "name": "stdout",
     "output_type": "stream",
     "text": [
      "End Simple crawling\n",
      "Start Simple crawling :  http://domair.interpark.com/api/booking/airJourney.do\n",
      ">> Parameters\n",
      "tripDivi:0 , adt:1 , chd:0 , format:json , arr:CJU , inf:0 , airlineCode:LJ , dep:GMP , depDate:20170814 , \n",
      "End Simple crawling\n",
      "Start Simple crawling :  http://domair.interpark.com/api/booking/airJourney.do\n",
      ">> Parameters\n",
      "tripDivi:0 , adt:1 , chd:0 , format:json , arr:CJU , inf:0 , airlineCode:TW , dep:GMP , depDate:20170814 , \n"
     ]
    },
    {
     "name": "stderr",
     "output_type": "stream",
     "text": [
      "2017-08-11 08:03:39,751 root     DEBUG    Crawling Interpark domastic schedule site\n"
     ]
    },
    {
     "name": "stdout",
     "output_type": "stream",
     "text": [
      "End Simple crawling\n",
      "Start Simple crawling :  http://domair.interpark.com/api/booking/airJourney.do\n",
      ">> Parameters\n",
      "tripDivi:0 , adt:1 , chd:0 , format:json , arr:CJU , inf:0 , airlineCode:ZE , dep:GMP , depDate:20170814 , \n"
     ]
    },
    {
     "name": "stderr",
     "output_type": "stream",
     "text": [
      "2017-08-11 08:03:41,007 root     DEBUG    Crawling Interpark domastic schedule site\n"
     ]
    },
    {
     "name": "stdout",
     "output_type": "stream",
     "text": [
      "End Simple crawling\n",
      "Start Simple crawling :  http://domair.interpark.com/api/booking/airJourney.do\n",
      ">> Parameters\n",
      "tripDivi:0 , adt:1 , chd:0 , format:json , arr:CJU , inf:0 , airlineCode:7C , dep:GMP , depDate:20170815 , \n"
     ]
    },
    {
     "name": "stderr",
     "output_type": "stream",
     "text": [
      "2017-08-11 08:03:42,974 root     DEBUG    Crawling Interpark domastic schedule site\n",
      "2017-08-11 08:03:43,140 root     DEBUG    Crawling Interpark domastic schedule site\n"
     ]
    },
    {
     "name": "stdout",
     "output_type": "stream",
     "text": [
      "End Simple crawling\n",
      "Start Simple crawling :  http://domair.interpark.com/api/booking/airJourney.do\n",
      ">> Parameters\n",
      "tripDivi:0 , adt:1 , chd:0 , format:json , arr:CJU , inf:0 , airlineCode:LJ , dep:GMP , depDate:20170815 , \n",
      "End Simple crawling\n",
      "Start Simple crawling :  http://domair.interpark.com/api/booking/airJourney.do\n",
      ">> Parameters\n",
      "tripDivi:0 , adt:1 , chd:0 , format:json , arr:CJU , inf:0 , airlineCode:TW , dep:GMP , depDate:20170815 , \n"
     ]
    },
    {
     "name": "stderr",
     "output_type": "stream",
     "text": [
      "2017-08-11 08:03:43,555 root     DEBUG    Crawling Interpark domastic schedule site\n"
     ]
    },
    {
     "name": "stdout",
     "output_type": "stream",
     "text": [
      "End Simple crawling\n",
      "Start Simple crawling :  http://domair.interpark.com/api/booking/airJourney.do\n",
      ">> Parameters\n",
      "tripDivi:0 , adt:1 , chd:0 , format:json , arr:CJU , inf:0 , airlineCode:ZE , dep:GMP , depDate:20170815 , \n"
     ]
    },
    {
     "name": "stderr",
     "output_type": "stream",
     "text": [
      "2017-08-11 08:03:44,805 root     DEBUG    Crawling Interpark domastic schedule site\n"
     ]
    },
    {
     "name": "stdout",
     "output_type": "stream",
     "text": [
      "End Simple crawling\n",
      "Start Simple crawling :  http://domair.interpark.com/api/booking/airJourney.do\n",
      ">> Parameters\n",
      "tripDivi:0 , adt:1 , chd:0 , format:json , arr:CJU , inf:0 , airlineCode:7C , dep:GMP , depDate:20170816 , \n"
     ]
    },
    {
     "name": "stderr",
     "output_type": "stream",
     "text": [
      "2017-08-11 08:03:46,747 root     DEBUG    Crawling Interpark domastic schedule site\n"
     ]
    },
    {
     "name": "stdout",
     "output_type": "stream",
     "text": [
      "End Simple crawling\n",
      "Start Simple crawling :  http://domair.interpark.com/api/booking/airJourney.do\n",
      ">> Parameters\n",
      "tripDivi:0 , adt:1 , chd:0 , format:json , arr:CJU , inf:0 , airlineCode:LJ , dep:GMP , depDate:20170816 , \n",
      "End Simple crawling"
     ]
    },
    {
     "name": "stderr",
     "output_type": "stream",
     "text": [
      "2017-08-11 08:03:46,947 root     DEBUG    Crawling Interpark domastic schedule site\n"
     ]
    },
    {
     "name": "stdout",
     "output_type": "stream",
     "text": [
      "\n",
      "Start Simple crawling :  http://domair.interpark.com/api/booking/airJourney.do\n",
      ">> Parameters\n",
      "tripDivi:0 , adt:1 , chd:0 , format:json , arr:CJU , inf:0 , airlineCode:TW , dep:GMP , depDate:20170816 , \n"
     ]
    },
    {
     "name": "stderr",
     "output_type": "stream",
     "text": [
      "2017-08-11 08:03:47,402 root     DEBUG    Crawling Interpark domastic schedule site\n"
     ]
    },
    {
     "name": "stdout",
     "output_type": "stream",
     "text": [
      "End Simple crawling\n",
      "Start Simple crawling :  http://domair.interpark.com/api/booking/airJourney.do\n",
      ">> Parameters\n",
      "tripDivi:0 , adt:1 , chd:0 , format:json , arr:CJU , inf:0 , airlineCode:ZE , dep:GMP , depDate:20170816 , \n"
     ]
    },
    {
     "name": "stderr",
     "output_type": "stream",
     "text": [
      "2017-08-11 08:03:48,561 root     DEBUG    Crawling Interpark domastic schedule site\n"
     ]
    },
    {
     "name": "stdout",
     "output_type": "stream",
     "text": [
      "End Simple crawling\n",
      "Start Simple crawling :  http://domair.interpark.com/api/booking/airJourney.do\n",
      ">> Parameters\n",
      "tripDivi:0 , adt:1 , chd:0 , format:json , arr:CJU , inf:0 , airlineCode:7C , dep:GMP , depDate:20170817 , \n"
     ]
    },
    {
     "name": "stderr",
     "output_type": "stream",
     "text": [
      "2017-08-11 08:03:50,737 root     DEBUG    Crawling Interpark domastic schedule site\n",
      "2017-08-11 08:03:50,922 root     DEBUG    Crawling Interpark domastic schedule site\n"
     ]
    },
    {
     "name": "stdout",
     "output_type": "stream",
     "text": [
      "End Simple crawling\n",
      "Start Simple crawling :  http://domair.interpark.com/api/booking/airJourney.do\n",
      ">> Parameters\n",
      "tripDivi:0 , adt:1 , chd:0 , format:json , arr:CJU , inf:0 , airlineCode:LJ , dep:GMP , depDate:20170817 , \n",
      "End Simple crawling\n",
      "Start Simple crawling :  http://domair.interpark.com/api/booking/airJourney.do\n",
      ">> Parameters\n",
      "tripDivi:0 , adt:1 , chd:0 , format:json , arr:CJU , inf:0 , airlineCode:TW , dep:GMP , depDate:20170817 , \n"
     ]
    },
    {
     "name": "stderr",
     "output_type": "stream",
     "text": [
      "2017-08-11 08:03:51,357 root     DEBUG    Crawling Interpark domastic schedule site\n"
     ]
    },
    {
     "name": "stdout",
     "output_type": "stream",
     "text": [
      "End Simple crawling\n",
      "Start Simple crawling :  http://domair.interpark.com/api/booking/airJourney.do\n",
      ">> Parameters\n",
      "tripDivi:0 , adt:1 , chd:0 , format:json , arr:CJU , inf:0 , airlineCode:ZE , dep:GMP , depDate:20170817 , \n"
     ]
    },
    {
     "name": "stderr",
     "output_type": "stream",
     "text": [
      "2017-08-11 08:03:52,599 root     DEBUG    Crawling Interpark domastic schedule site\n"
     ]
    },
    {
     "name": "stdout",
     "output_type": "stream",
     "text": [
      "End Simple crawling\n",
      "Start Simple crawling :  http://domair.interpark.com/api/booking/airJourney.do\n",
      ">> Parameters\n",
      "tripDivi:0 , adt:1 , chd:0 , format:json , arr:CJU , inf:0 , airlineCode:7C , dep:GMP , depDate:20170818 , \n"
     ]
    },
    {
     "name": "stderr",
     "output_type": "stream",
     "text": [
      "2017-08-11 08:03:54,735 root     DEBUG    Crawling Interpark domastic schedule site\n"
     ]
    },
    {
     "name": "stdout",
     "output_type": "stream",
     "text": [
      "End Simple crawling\n",
      "Start Simple crawling :  http://domair.interpark.com/api/booking/airJourney.do\n",
      ">> Parameters\n",
      "tripDivi:0 , adt:1 , chd:0 , format:json , arr:CJU , inf:0 , airlineCode:LJ , dep:GMP , depDate:20170818 , \n"
     ]
    },
    {
     "name": "stderr",
     "output_type": "stream",
     "text": [
      "2017-08-11 08:03:54,956 root     DEBUG    Crawling Interpark domastic schedule site\n"
     ]
    },
    {
     "name": "stdout",
     "output_type": "stream",
     "text": [
      "End Simple crawling\n",
      "Start Simple crawling :  http://domair.interpark.com/api/booking/airJourney.do\n",
      ">> Parameters\n",
      "tripDivi:0 , adt:1 , chd:0 , format:json , arr:CJU , inf:0 , airlineCode:TW , dep:GMP , depDate:20170818 , \n"
     ]
    },
    {
     "name": "stderr",
     "output_type": "stream",
     "text": [
      "2017-08-11 08:03:55,351 root     DEBUG    Crawling Interpark domastic schedule site\n"
     ]
    },
    {
     "name": "stdout",
     "output_type": "stream",
     "text": [
      "End Simple crawling\n",
      "Start Simple crawling :  http://domair.interpark.com/api/booking/airJourney.do\n",
      ">> Parameters\n",
      "tripDivi:0 , adt:1 , chd:0 , format:json , arr:CJU , inf:0 , airlineCode:ZE , dep:GMP , depDate:20170818 , \n"
     ]
    },
    {
     "name": "stderr",
     "output_type": "stream",
     "text": [
      "2017-08-11 08:03:56,526 root     DEBUG    Crawling Interpark domastic schedule site\n"
     ]
    },
    {
     "name": "stdout",
     "output_type": "stream",
     "text": [
      "End Simple crawling\n",
      "Start Simple crawling :  http://domair.interpark.com/api/booking/airJourney.do\n",
      ">> Parameters\n",
      "tripDivi:0 , adt:1 , chd:0 , format:json , arr:CJU , inf:0 , airlineCode:7C , dep:GMP , depDate:20170819 , \n"
     ]
    },
    {
     "name": "stderr",
     "output_type": "stream",
     "text": [
      "2017-08-11 08:03:58,868 root     DEBUG    Crawling Interpark domastic schedule site\n",
      "2017-08-11 08:03:59,038 root     DEBUG    Crawling Interpark domastic schedule site\n"
     ]
    },
    {
     "name": "stdout",
     "output_type": "stream",
     "text": [
      "End Simple crawling\n",
      "Start Simple crawling :  http://domair.interpark.com/api/booking/airJourney.do\n",
      ">> Parameters\n",
      "tripDivi:0 , adt:1 , chd:0 , format:json , arr:CJU , inf:0 , airlineCode:LJ , dep:GMP , depDate:20170819 , \n",
      "End Simple crawling\n",
      "Start Simple crawling :  http://domair.interpark.com/api/booking/airJourney.do\n",
      ">> Parameters\n",
      "tripDivi:0 , adt:1 , chd:0 , format:json , arr:CJU , inf:0 , airlineCode:TW , dep:GMP , depDate:20170819 , \n"
     ]
    },
    {
     "name": "stderr",
     "output_type": "stream",
     "text": [
      "2017-08-11 08:03:59,466 root     DEBUG    Crawling Interpark domastic schedule site\n"
     ]
    },
    {
     "name": "stdout",
     "output_type": "stream",
     "text": [
      "End Simple crawling\n",
      "Start Simple crawling :  http://domair.interpark.com/api/booking/airJourney.do\n",
      ">> Parameters\n",
      "tripDivi:0 , adt:1 , chd:0 , format:json , arr:CJU , inf:0 , airlineCode:ZE , dep:GMP , depDate:20170819 , \n"
     ]
    },
    {
     "name": "stderr",
     "output_type": "stream",
     "text": [
      "2017-08-11 08:04:00,711 root     DEBUG    Crawling Interpark domastic schedule site\n"
     ]
    },
    {
     "name": "stdout",
     "output_type": "stream",
     "text": [
      "End Simple crawling\n",
      "Start Simple crawling :  http://domair.interpark.com/api/booking/airJourney.do\n",
      ">> Parameters\n",
      "tripDivi:0 , adt:1 , chd:0 , format:json , arr:CJU , inf:0 , airlineCode:7C , dep:GMP , depDate:20170820 , \n"
     ]
    },
    {
     "name": "stderr",
     "output_type": "stream",
     "text": [
      "2017-08-11 08:04:03,063 root     DEBUG    Crawling Interpark domastic schedule site\n",
      "2017-08-11 08:04:03,226 root     DEBUG    Crawling Interpark domastic schedule site\n"
     ]
    },
    {
     "name": "stdout",
     "output_type": "stream",
     "text": [
      "End Simple crawling\n",
      "Start Simple crawling :  http://domair.interpark.com/api/booking/airJourney.do\n",
      ">> Parameters\n",
      "tripDivi:0 , adt:1 , chd:0 , format:json , arr:CJU , inf:0 , airlineCode:LJ , dep:GMP , depDate:20170820 , \n",
      "End Simple crawling\n",
      "Start Simple crawling :  http://domair.interpark.com/api/booking/airJourney.do\n",
      ">> Parameters\n",
      "tripDivi:0 , adt:1 , chd:0 , format:json , arr:CJU , inf:0 , airlineCode:TW , dep:GMP , depDate:20170820 , \n"
     ]
    },
    {
     "name": "stderr",
     "output_type": "stream",
     "text": [
      "2017-08-11 08:04:03,672 root     DEBUG    Crawling Interpark domastic schedule site\n"
     ]
    },
    {
     "name": "stdout",
     "output_type": "stream",
     "text": [
      "End Simple crawling\n",
      "Start Simple crawling :  http://domair.interpark.com/api/booking/airJourney.do\n",
      ">> Parameters\n",
      "tripDivi:0 , adt:1 , chd:0 , format:json , arr:CJU , inf:0 , airlineCode:ZE , dep:GMP , depDate:20170820 , \n"
     ]
    },
    {
     "name": "stderr",
     "output_type": "stream",
     "text": [
      "2017-08-11 08:04:04,788 root     DEBUG    Crawling Interpark domastic schedule site\n"
     ]
    },
    {
     "name": "stdout",
     "output_type": "stream",
     "text": [
      "End Simple crawling\n",
      "Start Simple crawling :  http://domair.interpark.com/api/booking/airJourney.do\n",
      ">> Parameters\n",
      "tripDivi:0 , adt:1 , chd:0 , format:json , arr:CJU , inf:0 , airlineCode:7C , dep:GMP , depDate:20170821 , \n"
     ]
    },
    {
     "name": "stderr",
     "output_type": "stream",
     "text": [
      "2017-08-11 08:04:06,891 root     DEBUG    Crawling Interpark domastic schedule site\n",
      "2017-08-11 08:04:07,053 root     DEBUG    Crawling Interpark domastic schedule site\n"
     ]
    },
    {
     "name": "stdout",
     "output_type": "stream",
     "text": [
      "End Simple crawling\n",
      "Start Simple crawling :  http://domair.interpark.com/api/booking/airJourney.do\n",
      ">> Parameters\n",
      "tripDivi:0 , adt:1 , chd:0 , format:json , arr:CJU , inf:0 , airlineCode:LJ , dep:GMP , depDate:20170821 , \n",
      "End Simple crawling\n",
      "Start Simple crawling :  http://domair.interpark.com/api/booking/airJourney.do\n",
      ">> Parameters\n",
      "tripDivi:0 , adt:1 , chd:0 , format:json , arr:CJU , inf:0 , airlineCode:TW , dep:GMP , depDate:20170821 , \n"
     ]
    },
    {
     "name": "stderr",
     "output_type": "stream",
     "text": [
      "2017-08-11 08:04:07,450 root     DEBUG    Crawling Interpark domastic schedule site\n"
     ]
    },
    {
     "name": "stdout",
     "output_type": "stream",
     "text": [
      "End Simple crawling\n",
      "Start Simple crawling :  http://domair.interpark.com/api/booking/airJourney.do\n",
      ">> Parameters\n",
      "tripDivi:0 , adt:1 , chd:0 , format:json , arr:CJU , inf:0 , airlineCode:ZE , dep:GMP , depDate:20170821 , \n"
     ]
    },
    {
     "name": "stderr",
     "output_type": "stream",
     "text": [
      "2017-08-11 08:04:08,514 root     DEBUG    Crawling Interpark domastic schedule site\n"
     ]
    },
    {
     "name": "stdout",
     "output_type": "stream",
     "text": [
      "End Simple crawling\n",
      "Start Simple crawling :  http://domair.interpark.com/api/booking/airJourney.do\n",
      ">> Parameters\n",
      "tripDivi:0 , adt:1 , chd:0 , format:json , arr:CJU , inf:0 , airlineCode:7C , dep:GMP , depDate:20170822 , \n"
     ]
    },
    {
     "name": "stderr",
     "output_type": "stream",
     "text": [
      "2017-08-11 08:04:10,289 root     DEBUG    Crawling Interpark domastic schedule site\n",
      "2017-08-11 08:04:10,462 root     DEBUG    Crawling Interpark domastic schedule site\n"
     ]
    },
    {
     "name": "stdout",
     "output_type": "stream",
     "text": [
      "End Simple crawling\n",
      "Start Simple crawling :  http://domair.interpark.com/api/booking/airJourney.do\n",
      ">> Parameters\n",
      "tripDivi:0 , adt:1 , chd:0 , format:json , arr:CJU , inf:0 , airlineCode:LJ , dep:GMP , depDate:20170822 , \n",
      "End Simple crawling\n",
      "Start Simple crawling :  http://domair.interpark.com/api/booking/airJourney.do\n",
      ">> Parameters\n",
      "tripDivi:0 , adt:1 , chd:0 , format:json , arr:CJU , inf:0 , airlineCode:TW , dep:GMP , depDate:20170822 , \n"
     ]
    },
    {
     "name": "stderr",
     "output_type": "stream",
     "text": [
      "2017-08-11 08:04:10,926 root     DEBUG    Crawling Interpark domastic schedule site\n"
     ]
    },
    {
     "name": "stdout",
     "output_type": "stream",
     "text": [
      "End Simple crawling\n",
      "Start Simple crawling :  http://domair.interpark.com/api/booking/airJourney.do\n",
      ">> Parameters\n",
      "tripDivi:0 , adt:1 , chd:0 , format:json , arr:CJU , inf:0 , airlineCode:ZE , dep:GMP , depDate:20170822 , \n"
     ]
    },
    {
     "name": "stderr",
     "output_type": "stream",
     "text": [
      "2017-08-11 08:04:12,161 root     DEBUG    Crawling Interpark domastic schedule site\n"
     ]
    },
    {
     "name": "stdout",
     "output_type": "stream",
     "text": [
      "End Simple crawling\n",
      "Start Simple crawling :  http://domair.interpark.com/api/booking/airJourney.do\n",
      ">> Parameters\n",
      "tripDivi:0 , adt:1 , chd:0 , format:json , arr:CJU , inf:0 , airlineCode:7C , dep:GMP , depDate:20170823 , \n"
     ]
    },
    {
     "name": "stderr",
     "output_type": "stream",
     "text": [
      "2017-08-11 08:04:13,969 root     DEBUG    Crawling Interpark domastic schedule site\n",
      "2017-08-11 08:04:14,166 root     DEBUG    Crawling Interpark domastic schedule site\n"
     ]
    },
    {
     "name": "stdout",
     "output_type": "stream",
     "text": [
      "End Simple crawling\n",
      "Start Simple crawling :  http://domair.interpark.com/api/booking/airJourney.do\n",
      ">> Parameters\n",
      "tripDivi:0 , adt:1 , chd:0 , format:json , arr:CJU , inf:0 , airlineCode:LJ , dep:GMP , depDate:20170823 , \n",
      "End Simple crawling\n",
      "Start Simple crawling :  http://domair.interpark.com/api/booking/airJourney.do\n",
      ">> Parameters\n",
      "tripDivi:0 , adt:1 , chd:0 , format:json , arr:CJU , inf:0 , airlineCode:TW , dep:GMP , depDate:20170823 , \n"
     ]
    },
    {
     "name": "stderr",
     "output_type": "stream",
     "text": [
      "2017-08-11 08:04:14,653 root     DEBUG    Crawling Interpark domastic schedule site\n"
     ]
    },
    {
     "name": "stdout",
     "output_type": "stream",
     "text": [
      "End Simple crawling\n",
      "Start Simple crawling :  http://domair.interpark.com/api/booking/airJourney.do\n",
      ">> Parameters\n",
      "tripDivi:0 , adt:1 , chd:0 , format:json , arr:CJU , inf:0 , airlineCode:ZE , dep:GMP , depDate:20170823 , \n"
     ]
    },
    {
     "name": "stderr",
     "output_type": "stream",
     "text": [
      "2017-08-11 08:04:15,984 root     DEBUG    Crawling Interpark domastic schedule site\n"
     ]
    },
    {
     "name": "stdout",
     "output_type": "stream",
     "text": [
      "End Simple crawling\n",
      "Start Simple crawling :  http://domair.interpark.com/api/booking/airJourney.do\n",
      ">> Parameters\n",
      "tripDivi:0 , adt:1 , chd:0 , format:json , arr:CJU , inf:0 , airlineCode:7C , dep:GMP , depDate:20170824 , \n"
     ]
    },
    {
     "name": "stderr",
     "output_type": "stream",
     "text": [
      "2017-08-11 08:04:21,675 root     DEBUG    Crawling Interpark domastic schedule site\n"
     ]
    },
    {
     "name": "stdout",
     "output_type": "stream",
     "text": [
      "End Simple crawling\n",
      "Start Simple crawling :  http://domair.interpark.com/api/booking/airJourney.do\n",
      ">> Parameters\n",
      "tripDivi:0 , adt:1 , chd:0 , format:json , arr:CJU , inf:0 , airlineCode:LJ , dep:GMP , depDate:20170824 , \n"
     ]
    },
    {
     "name": "stderr",
     "output_type": "stream",
     "text": [
      "2017-08-11 08:04:22,044 root     DEBUG    Crawling Interpark domastic schedule site\n"
     ]
    },
    {
     "name": "stdout",
     "output_type": "stream",
     "text": [
      "End Simple crawling\n",
      "Start Simple crawling :  http://domair.interpark.com/api/booking/airJourney.do\n",
      ">> Parameters\n",
      "tripDivi:0 , adt:1 , chd:0 , format:json , arr:CJU , inf:0 , airlineCode:TW , dep:GMP , depDate:20170824 , \n"
     ]
    },
    {
     "name": "stderr",
     "output_type": "stream",
     "text": [
      "2017-08-11 08:04:22,607 root     DEBUG    Crawling Interpark domastic schedule site\n"
     ]
    },
    {
     "name": "stdout",
     "output_type": "stream",
     "text": [
      "End Simple crawling\n",
      "Start Simple crawling :  http://domair.interpark.com/api/booking/airJourney.do\n",
      ">> Parameters\n",
      "tripDivi:0 , adt:1 , chd:0 , format:json , arr:CJU , inf:0 , airlineCode:ZE , dep:GMP , depDate:20170824 , \n"
     ]
    },
    {
     "name": "stderr",
     "output_type": "stream",
     "text": [
      "2017-08-11 08:04:23,751 root     DEBUG    Crawling Interpark domastic schedule site\n"
     ]
    },
    {
     "name": "stdout",
     "output_type": "stream",
     "text": [
      "End Simple crawling\n",
      "Start Simple crawling :  http://domair.interpark.com/api/booking/airJourney.do\n",
      ">> Parameters\n",
      "tripDivi:0 , adt:1 , chd:0 , format:json , arr:CJU , inf:0 , airlineCode:7C , dep:GMP , depDate:20170825 , \n"
     ]
    },
    {
     "name": "stderr",
     "output_type": "stream",
     "text": [
      "2017-08-11 08:04:27,723 root     DEBUG    Crawling Interpark domastic schedule site\n"
     ]
    },
    {
     "name": "stdout",
     "output_type": "stream",
     "text": [
      "End Simple crawling\n",
      "Start Simple crawling :  http://domair.interpark.com/api/booking/airJourney.do\n",
      ">> Parameters\n",
      "tripDivi:0 , adt:1 , chd:0 , format:json , arr:CJU , inf:0 , airlineCode:LJ , dep:GMP , depDate:20170825 , \n"
     ]
    },
    {
     "name": "stderr",
     "output_type": "stream",
     "text": [
      "2017-08-11 08:04:28,110 root     DEBUG    Crawling Interpark domastic schedule site\n"
     ]
    },
    {
     "name": "stdout",
     "output_type": "stream",
     "text": [
      "End Simple crawling\n",
      "Start Simple crawling :  http://domair.interpark.com/api/booking/airJourney.do\n",
      ">> Parameters\n",
      "tripDivi:0 , adt:1 , chd:0 , format:json , arr:CJU , inf:0 , airlineCode:TW , dep:GMP , depDate:20170825 , \n"
     ]
    },
    {
     "name": "stderr",
     "output_type": "stream",
     "text": [
      "2017-08-11 08:04:28,580 root     DEBUG    Crawling Interpark domastic schedule site\n"
     ]
    },
    {
     "name": "stdout",
     "output_type": "stream",
     "text": [
      "End Simple crawling\n",
      "Start Simple crawling :  http://domair.interpark.com/api/booking/airJourney.do\n",
      ">> Parameters\n",
      "tripDivi:0 , adt:1 , chd:0 , format:json , arr:CJU , inf:0 , airlineCode:ZE , dep:GMP , depDate:20170825 , \n"
     ]
    },
    {
     "name": "stderr",
     "output_type": "stream",
     "text": [
      "2017-08-11 08:04:29,827 root     DEBUG    Crawling Interpark domastic schedule site\n"
     ]
    },
    {
     "name": "stdout",
     "output_type": "stream",
     "text": [
      "End Simple crawling\n",
      "Start Simple crawling :  http://domair.interpark.com/api/booking/airJourney.do\n",
      ">> Parameters\n",
      "tripDivi:0 , adt:1 , chd:0 , format:json , arr:CJU , inf:0 , airlineCode:7C , dep:GMP , depDate:20170826 , \n"
     ]
    },
    {
     "name": "stderr",
     "output_type": "stream",
     "text": [
      "2017-08-11 08:04:31,887 root     DEBUG    Crawling Interpark domastic schedule site\n",
      "2017-08-11 08:04:32,057 root     DEBUG    Crawling Interpark domastic schedule site\n"
     ]
    },
    {
     "name": "stdout",
     "output_type": "stream",
     "text": [
      "End Simple crawling\n",
      "Start Simple crawling :  http://domair.interpark.com/api/booking/airJourney.do\n",
      ">> Parameters\n",
      "tripDivi:0 , adt:1 , chd:0 , format:json , arr:CJU , inf:0 , airlineCode:LJ , dep:GMP , depDate:20170826 , \n",
      "End Simple crawling\n",
      "Start Simple crawling :  http://domair.interpark.com/api/booking/airJourney.do\n",
      ">> Parameters\n",
      "tripDivi:0 , adt:1 , chd:0 , format:json , arr:CJU , inf:0 , airlineCode:TW , dep:GMP , depDate:20170826 , \n"
     ]
    },
    {
     "name": "stderr",
     "output_type": "stream",
     "text": [
      "2017-08-11 08:04:32,601 root     DEBUG    Crawling Interpark domastic schedule site\n"
     ]
    },
    {
     "name": "stdout",
     "output_type": "stream",
     "text": [
      "End Simple crawling\n",
      "Start Simple crawling :  http://domair.interpark.com/api/booking/airJourney.do\n",
      ">> Parameters\n",
      "tripDivi:0 , adt:1 , chd:0 , format:json , arr:CJU , inf:0 , airlineCode:ZE , dep:GMP , depDate:20170826 , \n"
     ]
    },
    {
     "name": "stderr",
     "output_type": "stream",
     "text": [
      "2017-08-11 08:04:33,794 root     DEBUG    Crawling Interpark domastic schedule site\n"
     ]
    },
    {
     "name": "stdout",
     "output_type": "stream",
     "text": [
      "End Simple crawling\n",
      "Start Simple crawling :  http://domair.interpark.com/api/booking/airJourney.do\n",
      ">> Parameters\n",
      "tripDivi:0 , adt:1 , chd:0 , format:json , arr:CJU , inf:0 , airlineCode:7C , dep:GMP , depDate:20170827 , \n"
     ]
    },
    {
     "name": "stderr",
     "output_type": "stream",
     "text": [
      "2017-08-11 08:04:35,690 root     DEBUG    Crawling Interpark domastic schedule site\n"
     ]
    },
    {
     "name": "stdout",
     "output_type": "stream",
     "text": [
      "End Simple crawling\n",
      "Start Simple crawling :  http://domair.interpark.com/api/booking/airJourney.do\n",
      ">> Parameters\n",
      "tripDivi:0 , adt:1 , chd:0 , format:json , arr:CJU , inf:0 , airlineCode:LJ , dep:GMP , depDate:20170827 , \n"
     ]
    },
    {
     "name": "stderr",
     "output_type": "stream",
     "text": [
      "2017-08-11 08:04:36,072 root     DEBUG    Crawling Interpark domastic schedule site\n"
     ]
    },
    {
     "name": "stdout",
     "output_type": "stream",
     "text": [
      "End Simple crawling\n",
      "Start Simple crawling :  http://domair.interpark.com/api/booking/airJourney.do\n",
      ">> Parameters\n",
      "tripDivi:0 , adt:1 , chd:0 , format:json , arr:CJU , inf:0 , airlineCode:TW , dep:GMP , depDate:20170827 , \n"
     ]
    },
    {
     "name": "stderr",
     "output_type": "stream",
     "text": [
      "2017-08-11 08:04:36,558 root     DEBUG    Crawling Interpark domastic schedule site\n"
     ]
    },
    {
     "name": "stdout",
     "output_type": "stream",
     "text": [
      "End Simple crawling\n",
      "Start Simple crawling :  http://domair.interpark.com/api/booking/airJourney.do\n",
      ">> Parameters\n",
      "tripDivi:0 , adt:1 , chd:0 , format:json , arr:CJU , inf:0 , airlineCode:ZE , dep:GMP , depDate:20170827 , \n"
     ]
    },
    {
     "name": "stderr",
     "output_type": "stream",
     "text": [
      "2017-08-11 08:04:37,770 root     DEBUG    Crawling Interpark domastic schedule site\n"
     ]
    },
    {
     "name": "stdout",
     "output_type": "stream",
     "text": [
      "End Simple crawling\n",
      "Start Simple crawling :  http://domair.interpark.com/api/booking/airJourney.do\n",
      ">> Parameters\n",
      "tripDivi:0 , adt:1 , chd:0 , format:json , arr:CJU , inf:0 , airlineCode:7C , dep:GMP , depDate:20170828 , \n"
     ]
    },
    {
     "name": "stderr",
     "output_type": "stream",
     "text": [
      "2017-08-11 08:04:39,641 root     DEBUG    Crawling Interpark domastic schedule site\n",
      "2017-08-11 08:04:39,803 root     DEBUG    Crawling Interpark domastic schedule site\n"
     ]
    },
    {
     "name": "stdout",
     "output_type": "stream",
     "text": [
      "End Simple crawling\n",
      "Start Simple crawling :  http://domair.interpark.com/api/booking/airJourney.do\n",
      ">> Parameters\n",
      "tripDivi:0 , adt:1 , chd:0 , format:json , arr:CJU , inf:0 , airlineCode:LJ , dep:GMP , depDate:20170828 , \n",
      "End Simple crawling\n",
      "Start Simple crawling :  http://domair.interpark.com/api/booking/airJourney.do\n",
      ">> Parameters\n",
      "tripDivi:0 , adt:1 , chd:0 , format:json , arr:CJU , inf:0 , airlineCode:TW , dep:GMP , depDate:20170828 , \n"
     ]
    },
    {
     "name": "stderr",
     "output_type": "stream",
     "text": [
      "2017-08-11 08:04:40,289 root     DEBUG    Crawling Interpark domastic schedule site\n"
     ]
    },
    {
     "name": "stdout",
     "output_type": "stream",
     "text": [
      "End Simple crawling\n",
      "Start Simple crawling :  http://domair.interpark.com/api/booking/airJourney.do\n",
      ">> Parameters\n",
      "tripDivi:0 , adt:1 , chd:0 , format:json , arr:CJU , inf:0 , airlineCode:ZE , dep:GMP , depDate:20170828 , \n"
     ]
    },
    {
     "name": "stderr",
     "output_type": "stream",
     "text": [
      "2017-08-11 08:04:41,469 root     DEBUG    Crawling Interpark domastic schedule site\n"
     ]
    },
    {
     "name": "stdout",
     "output_type": "stream",
     "text": [
      "End Simple crawling\n",
      "Start Simple crawling :  http://domair.interpark.com/api/booking/airJourney.do\n",
      ">> Parameters\n",
      "tripDivi:0 , adt:1 , chd:0 , format:json , arr:CJU , inf:0 , airlineCode:7C , dep:GMP , depDate:20170829 , \n"
     ]
    },
    {
     "name": "stderr",
     "output_type": "stream",
     "text": [
      "2017-08-11 08:04:43,706 root     DEBUG    Crawling Interpark domastic schedule site\n",
      "2017-08-11 08:04:43,895 root     DEBUG    Crawling Interpark domastic schedule site\n"
     ]
    },
    {
     "name": "stdout",
     "output_type": "stream",
     "text": [
      "End Simple crawling\n",
      "Start Simple crawling :  http://domair.interpark.com/api/booking/airJourney.do\n",
      ">> Parameters\n",
      "tripDivi:0 , adt:1 , chd:0 , format:json , arr:CJU , inf:0 , airlineCode:LJ , dep:GMP , depDate:20170829 , \n",
      "End Simple crawling\n",
      "Start Simple crawling :  http://domair.interpark.com/api/booking/airJourney.do\n",
      ">> Parameters\n",
      "tripDivi:0 , adt:1 , chd:0 , format:json , arr:CJU , inf:0 , airlineCode:TW , dep:GMP , depDate:20170829 , \n"
     ]
    },
    {
     "name": "stderr",
     "output_type": "stream",
     "text": [
      "2017-08-11 08:04:44,405 root     DEBUG    Crawling Interpark domastic schedule site\n"
     ]
    },
    {
     "name": "stdout",
     "output_type": "stream",
     "text": [
      "End Simple crawling\n",
      "Start Simple crawling :  http://domair.interpark.com/api/booking/airJourney.do\n",
      ">> Parameters\n",
      "tripDivi:0 , adt:1 , chd:0 , format:json , arr:CJU , inf:0 , airlineCode:ZE , dep:GMP , depDate:20170829 , \n"
     ]
    },
    {
     "name": "stderr",
     "output_type": "stream",
     "text": [
      "2017-08-11 08:04:45,547 root     DEBUG    Crawling Interpark domastic schedule site\n"
     ]
    },
    {
     "name": "stdout",
     "output_type": "stream",
     "text": [
      "End Simple crawling\n",
      "Start Simple crawling :  http://domair.interpark.com/api/booking/airJourney.do\n",
      ">> Parameters\n",
      "tripDivi:0 , adt:1 , chd:0 , format:json , arr:CJU , inf:0 , airlineCode:7C , dep:GMP , depDate:20170830 , \n"
     ]
    },
    {
     "name": "stderr",
     "output_type": "stream",
     "text": [
      "2017-08-11 08:04:49,664 root     DEBUG    Crawling Interpark domastic schedule site\n",
      "2017-08-11 08:04:49,852 root     DEBUG    Crawling Interpark domastic schedule site\n"
     ]
    },
    {
     "name": "stdout",
     "output_type": "stream",
     "text": [
      "End Simple crawling\n",
      "Start Simple crawling :  http://domair.interpark.com/api/booking/airJourney.do\n",
      ">> Parameters\n",
      "tripDivi:0 , adt:1 , chd:0 , format:json , arr:CJU , inf:0 , airlineCode:LJ , dep:GMP , depDate:20170830 , \n",
      "End Simple crawling\n",
      "Start Simple crawling :  http://domair.interpark.com/api/booking/airJourney.do\n",
      ">> Parameters\n",
      "tripDivi:0 , adt:1 , chd:0 , format:json , arr:CJU , inf:0 , airlineCode:TW , dep:GMP , depDate:20170830 , \n"
     ]
    },
    {
     "name": "stderr",
     "output_type": "stream",
     "text": [
      "2017-08-11 08:04:50,274 root     DEBUG    Crawling Interpark domastic schedule site\n"
     ]
    },
    {
     "name": "stdout",
     "output_type": "stream",
     "text": [
      "End Simple crawling\n",
      "Start Simple crawling :  http://domair.interpark.com/api/booking/airJourney.do\n",
      ">> Parameters\n",
      "tripDivi:0 , adt:1 , chd:0 , format:json , arr:CJU , inf:0 , airlineCode:ZE , dep:GMP , depDate:20170830 , \n"
     ]
    },
    {
     "name": "stderr",
     "output_type": "stream",
     "text": [
      "2017-08-11 08:04:51,518 root     DEBUG    Crawling Interpark domastic schedule site\n"
     ]
    },
    {
     "name": "stdout",
     "output_type": "stream",
     "text": [
      "End Simple crawling\n",
      "Start Simple crawling :  http://domair.interpark.com/api/booking/airJourney.do\n",
      ">> Parameters\n",
      "tripDivi:0 , adt:1 , chd:0 , format:json , arr:CJU , inf:0 , airlineCode:7C , dep:GMP , depDate:20170831 , \n"
     ]
    },
    {
     "name": "stderr",
     "output_type": "stream",
     "text": [
      "2017-08-11 08:04:53,556 root     DEBUG    Crawling Interpark domastic schedule site\n",
      "2017-08-11 08:04:53,722 root     DEBUG    Crawling Interpark domastic schedule site\n"
     ]
    },
    {
     "name": "stdout",
     "output_type": "stream",
     "text": [
      "End Simple crawling\n",
      "Start Simple crawling :  http://domair.interpark.com/api/booking/airJourney.do\n",
      ">> Parameters\n",
      "tripDivi:0 , adt:1 , chd:0 , format:json , arr:CJU , inf:0 , airlineCode:LJ , dep:GMP , depDate:20170831 , \n",
      "End Simple crawling\n",
      "Start Simple crawling :  http://domair.interpark.com/api/booking/airJourney.do\n",
      ">> Parameters\n",
      "tripDivi:0 , adt:1 , chd:0 , format:json , arr:CJU , inf:0 , airlineCode:TW , dep:GMP , depDate:20170831 , \n"
     ]
    },
    {
     "name": "stderr",
     "output_type": "stream",
     "text": [
      "2017-08-11 08:04:54,188 root     DEBUG    Crawling Interpark domastic schedule site\n"
     ]
    },
    {
     "name": "stdout",
     "output_type": "stream",
     "text": [
      "End Simple crawling\n",
      "Start Simple crawling :  http://domair.interpark.com/api/booking/airJourney.do\n",
      ">> Parameters\n",
      "tripDivi:0 , adt:1 , chd:0 , format:json , arr:CJU , inf:0 , airlineCode:ZE , dep:GMP , depDate:20170831 , \n"
     ]
    },
    {
     "name": "stderr",
     "output_type": "stream",
     "text": [
      "2017-08-11 08:04:55,435 root     DEBUG    Crawling Interpark domastic schedule site\n"
     ]
    },
    {
     "name": "stdout",
     "output_type": "stream",
     "text": [
      "End Simple crawling\n",
      "Start Simple crawling :  http://domair.interpark.com/api/booking/airJourney.do\n",
      ">> Parameters\n",
      "tripDivi:0 , adt:1 , chd:0 , format:json , arr:CJU , inf:0 , airlineCode:7C , dep:GMP , depDate:20170901 , \n"
     ]
    },
    {
     "name": "stderr",
     "output_type": "stream",
     "text": [
      "2017-08-11 08:04:57,250 root     DEBUG    Crawling Interpark domastic schedule site\n",
      "2017-08-11 08:04:57,429 root     DEBUG    Crawling Interpark domastic schedule site\n"
     ]
    },
    {
     "name": "stdout",
     "output_type": "stream",
     "text": [
      "End Simple crawling\n",
      "Start Simple crawling :  http://domair.interpark.com/api/booking/airJourney.do\n",
      ">> Parameters\n",
      "tripDivi:0 , adt:1 , chd:0 , format:json , arr:CJU , inf:0 , airlineCode:LJ , dep:GMP , depDate:20170901 , \n",
      "End Simple crawling\n",
      "Start Simple crawling :  http://domair.interpark.com/api/booking/airJourney.do\n",
      ">> Parameters\n",
      "tripDivi:0 , adt:1 , chd:0 , format:json , arr:CJU , inf:0 , airlineCode:TW , dep:GMP , depDate:20170901 , \n"
     ]
    },
    {
     "name": "stderr",
     "output_type": "stream",
     "text": [
      "2017-08-11 08:04:57,874 root     DEBUG    Crawling Interpark domastic schedule site\n"
     ]
    },
    {
     "name": "stdout",
     "output_type": "stream",
     "text": [
      "End Simple crawling\n",
      "Start Simple crawling :  http://domair.interpark.com/api/booking/airJourney.do\n",
      ">> Parameters\n",
      "tripDivi:0 , adt:1 , chd:0 , format:json , arr:CJU , inf:0 , airlineCode:ZE , dep:GMP , depDate:20170901 , \n"
     ]
    },
    {
     "name": "stderr",
     "output_type": "stream",
     "text": [
      "2017-08-11 08:04:59,042 root     DEBUG    Crawling Interpark domastic schedule site\n"
     ]
    },
    {
     "name": "stdout",
     "output_type": "stream",
     "text": [
      "End Simple crawling\n",
      "Start Simple crawling :  http://domair.interpark.com/api/booking/airJourney.do\n",
      ">> Parameters\n",
      "tripDivi:0 , adt:1 , chd:0 , format:json , arr:CJU , inf:0 , airlineCode:7C , dep:GMP , depDate:20170902 , \n"
     ]
    },
    {
     "name": "stderr",
     "output_type": "stream",
     "text": [
      "2017-08-11 08:05:00,912 root     DEBUG    Crawling Interpark domastic schedule site\n",
      "2017-08-11 08:05:01,084 root     DEBUG    Crawling Interpark domastic schedule site\n"
     ]
    },
    {
     "name": "stdout",
     "output_type": "stream",
     "text": [
      "End Simple crawling\n",
      "Start Simple crawling :  http://domair.interpark.com/api/booking/airJourney.do\n",
      ">> Parameters\n",
      "tripDivi:0 , adt:1 , chd:0 , format:json , arr:CJU , inf:0 , airlineCode:LJ , dep:GMP , depDate:20170902 , \n",
      "End Simple crawling\n",
      "Start Simple crawling :  http://domair.interpark.com/api/booking/airJourney.do\n",
      ">> Parameters\n",
      "tripDivi:0 , adt:1 , chd:0 , format:json , arr:CJU , inf:0 , airlineCode:TW , dep:GMP , depDate:20170902 , \n"
     ]
    },
    {
     "name": "stderr",
     "output_type": "stream",
     "text": [
      "2017-08-11 08:05:01,580 root     DEBUG    Crawling Interpark domastic schedule site\n"
     ]
    },
    {
     "name": "stdout",
     "output_type": "stream",
     "text": [
      "End Simple crawling\n",
      "Start Simple crawling :  http://domair.interpark.com/api/booking/airJourney.do\n",
      ">> Parameters\n",
      "tripDivi:0 , adt:1 , chd:0 , format:json , arr:CJU , inf:0 , airlineCode:ZE , dep:GMP , depDate:20170902 , \n"
     ]
    },
    {
     "name": "stderr",
     "output_type": "stream",
     "text": [
      "2017-08-11 08:05:02,727 root     DEBUG    Crawling Interpark domastic schedule site\n"
     ]
    },
    {
     "name": "stdout",
     "output_type": "stream",
     "text": [
      "End Simple crawling\n",
      "Start Simple crawling :  http://domair.interpark.com/api/booking/airJourney.do\n",
      ">> Parameters\n",
      "tripDivi:0 , adt:1 , chd:0 , format:json , arr:CJU , inf:0 , airlineCode:7C , dep:GMP , depDate:20170903 , \n"
     ]
    },
    {
     "name": "stderr",
     "output_type": "stream",
     "text": [
      "2017-08-11 08:05:04,813 root     DEBUG    Crawling Interpark domastic schedule site\n",
      "2017-08-11 08:05:04,988 root     DEBUG    Crawling Interpark domastic schedule site\n"
     ]
    },
    {
     "name": "stdout",
     "output_type": "stream",
     "text": [
      "End Simple crawling\n",
      "Start Simple crawling :  http://domair.interpark.com/api/booking/airJourney.do\n",
      ">> Parameters\n",
      "tripDivi:0 , adt:1 , chd:0 , format:json , arr:CJU , inf:0 , airlineCode:LJ , dep:GMP , depDate:20170903 , \n",
      "End Simple crawling\n",
      "Start Simple crawling :  http://domair.interpark.com/api/booking/airJourney.do\n",
      ">> Parameters\n",
      "tripDivi:0 , adt:1 , chd:0 , format:json , arr:CJU , inf:0 , airlineCode:TW , dep:GMP , depDate:20170903 , \n"
     ]
    },
    {
     "name": "stderr",
     "output_type": "stream",
     "text": [
      "2017-08-11 08:05:05,541 root     DEBUG    Crawling Interpark domastic schedule site\n"
     ]
    },
    {
     "name": "stdout",
     "output_type": "stream",
     "text": [
      "End Simple crawling\n",
      "Start Simple crawling :  http://domair.interpark.com/api/booking/airJourney.do\n",
      ">> Parameters\n",
      "tripDivi:0 , adt:1 , chd:0 , format:json , arr:CJU , inf:0 , airlineCode:ZE , dep:GMP , depDate:20170903 , \n"
     ]
    },
    {
     "name": "stderr",
     "output_type": "stream",
     "text": [
      "2017-08-11 08:05:06,833 root     DEBUG    Crawling Interpark domastic schedule site\n"
     ]
    },
    {
     "name": "stdout",
     "output_type": "stream",
     "text": [
      "End Simple crawling\n",
      "Start Simple crawling :  http://domair.interpark.com/api/booking/airJourney.do\n",
      ">> Parameters\n",
      "tripDivi:0 , adt:1 , chd:0 , format:json , arr:CJU , inf:0 , airlineCode:7C , dep:GMP , depDate:20170904 , \n"
     ]
    },
    {
     "name": "stderr",
     "output_type": "stream",
     "text": [
      "2017-08-11 08:05:08,893 root     DEBUG    Crawling Interpark domastic schedule site\n",
      "2017-08-11 08:05:09,066 root     DEBUG    Crawling Interpark domastic schedule site\n"
     ]
    },
    {
     "name": "stdout",
     "output_type": "stream",
     "text": [
      "End Simple crawling\n",
      "Start Simple crawling :  http://domair.interpark.com/api/booking/airJourney.do\n",
      ">> Parameters\n",
      "tripDivi:0 , adt:1 , chd:0 , format:json , arr:CJU , inf:0 , airlineCode:LJ , dep:GMP , depDate:20170904 , \n",
      "End Simple crawling\n",
      "Start Simple crawling :  http://domair.interpark.com/api/booking/airJourney.do\n",
      ">> Parameters\n",
      "tripDivi:0 , adt:1 , chd:0 , format:json , arr:CJU , inf:0 , airlineCode:TW , dep:GMP , depDate:20170904 , \n"
     ]
    },
    {
     "name": "stderr",
     "output_type": "stream",
     "text": [
      "2017-08-11 08:05:09,506 root     DEBUG    Crawling Interpark domastic schedule site\n"
     ]
    },
    {
     "name": "stdout",
     "output_type": "stream",
     "text": [
      "End Simple crawling\n",
      "Start Simple crawling :  http://domair.interpark.com/api/booking/airJourney.do\n",
      ">> Parameters\n",
      "tripDivi:0 , adt:1 , chd:0 , format:json , arr:CJU , inf:0 , airlineCode:ZE , dep:GMP , depDate:20170904 , \n"
     ]
    },
    {
     "name": "stderr",
     "output_type": "stream",
     "text": [
      "2017-08-11 08:05:10,683 root     DEBUG    Crawling Interpark domastic schedule site\n"
     ]
    },
    {
     "name": "stdout",
     "output_type": "stream",
     "text": [
      "End Simple crawling\n",
      "Start Simple crawling :  http://domair.interpark.com/api/booking/airJourney.do\n",
      ">> Parameters\n",
      "tripDivi:0 , adt:1 , chd:0 , format:json , arr:CJU , inf:0 , airlineCode:7C , dep:GMP , depDate:20170905 , \n"
     ]
    },
    {
     "name": "stderr",
     "output_type": "stream",
     "text": [
      "2017-08-11 08:05:12,762 root     DEBUG    Crawling Interpark domastic schedule site\n",
      "2017-08-11 08:05:12,951 root     DEBUG    Crawling Interpark domastic schedule site\n"
     ]
    },
    {
     "name": "stdout",
     "output_type": "stream",
     "text": [
      "End Simple crawling\n",
      "Start Simple crawling :  http://domair.interpark.com/api/booking/airJourney.do\n",
      ">> Parameters\n",
      "tripDivi:0 , adt:1 , chd:0 , format:json , arr:CJU , inf:0 , airlineCode:LJ , dep:GMP , depDate:20170905 , \n",
      "End Simple crawling\n",
      "Start Simple crawling :  http://domair.interpark.com/api/booking/airJourney.do\n",
      ">> Parameters\n",
      "tripDivi:0 , adt:1 , chd:0 , format:json , arr:CJU , inf:0 , airlineCode:TW , dep:GMP , depDate:20170905 , \n"
     ]
    },
    {
     "name": "stderr",
     "output_type": "stream",
     "text": [
      "2017-08-11 08:05:13,401 root     DEBUG    Crawling Interpark domastic schedule site\n"
     ]
    },
    {
     "name": "stdout",
     "output_type": "stream",
     "text": [
      "End Simple crawling\n",
      "Start Simple crawling :  http://domair.interpark.com/api/booking/airJourney.do\n",
      ">> Parameters\n",
      "tripDivi:0 , adt:1 , chd:0 , format:json , arr:CJU , inf:0 , airlineCode:ZE , dep:GMP , depDate:20170905 , \n"
     ]
    },
    {
     "name": "stderr",
     "output_type": "stream",
     "text": [
      "2017-08-11 08:05:14,684 root     DEBUG    Crawling Interpark domastic schedule site\n"
     ]
    },
    {
     "name": "stdout",
     "output_type": "stream",
     "text": [
      "End Simple crawling\n",
      "Start Simple crawling :  http://domair.interpark.com/api/booking/airJourney.do\n",
      ">> Parameters\n",
      "tripDivi:0 , adt:1 , chd:0 , format:json , arr:CJU , inf:0 , airlineCode:7C , dep:GMP , depDate:20170906 , \n"
     ]
    },
    {
     "name": "stderr",
     "output_type": "stream",
     "text": [
      "2017-08-11 08:05:16,852 root     DEBUG    Crawling Interpark domastic schedule site\n",
      "2017-08-11 08:05:17,038 root     DEBUG    Crawling Interpark domastic schedule site\n"
     ]
    },
    {
     "name": "stdout",
     "output_type": "stream",
     "text": [
      "End Simple crawling\n",
      "Start Simple crawling :  http://domair.interpark.com/api/booking/airJourney.do\n",
      ">> Parameters\n",
      "tripDivi:0 , adt:1 , chd:0 , format:json , arr:CJU , inf:0 , airlineCode:LJ , dep:GMP , depDate:20170906 , \n",
      "End Simple crawling\n",
      "Start Simple crawling :  http://domair.interpark.com/api/booking/airJourney.do\n",
      ">> Parameters\n",
      "tripDivi:0 , adt:1 , chd:0 , format:json , arr:CJU , inf:0 , airlineCode:TW , dep:GMP , depDate:20170906 , \n"
     ]
    },
    {
     "name": "stderr",
     "output_type": "stream",
     "text": [
      "2017-08-11 08:05:17,513 root     DEBUG    Crawling Interpark domastic schedule site\n"
     ]
    },
    {
     "name": "stdout",
     "output_type": "stream",
     "text": [
      "End Simple crawling\n",
      "Start Simple crawling :  http://domair.interpark.com/api/booking/airJourney.do\n",
      ">> Parameters\n",
      "tripDivi:0 , adt:1 , chd:0 , format:json , arr:CJU , inf:0 , airlineCode:ZE , dep:GMP , depDate:20170906 , \n"
     ]
    },
    {
     "name": "stderr",
     "output_type": "stream",
     "text": [
      "2017-08-11 08:05:18,771 root     DEBUG    Crawling Interpark domastic schedule site\n"
     ]
    },
    {
     "name": "stdout",
     "output_type": "stream",
     "text": [
      "End Simple crawling\n",
      "Start Simple crawling :  http://domair.interpark.com/api/booking/airJourney.do\n",
      ">> Parameters\n",
      "tripDivi:0 , adt:1 , chd:0 , format:json , arr:CJU , inf:0 , airlineCode:7C , dep:GMP , depDate:20170907 , \n"
     ]
    },
    {
     "name": "stderr",
     "output_type": "stream",
     "text": [
      "2017-08-11 08:05:22,382 root     DEBUG    Crawling Interpark domastic schedule site\n"
     ]
    },
    {
     "name": "stdout",
     "output_type": "stream",
     "text": [
      "End Simple crawling\n",
      "Start Simple crawling :  http://domair.interpark.com/api/booking/airJourney.do\n",
      ">> Parameters\n",
      "tripDivi:0 , adt:1 , chd:0 , format:json , arr:CJU , inf:0 , airlineCode:LJ , dep:GMP , depDate:20170907 , \n"
     ]
    },
    {
     "name": "stderr",
     "output_type": "stream",
     "text": [
      "2017-08-11 08:05:22,602 root     DEBUG    Crawling Interpark domastic schedule site\n"
     ]
    },
    {
     "name": "stdout",
     "output_type": "stream",
     "text": [
      "End Simple crawling\n",
      "Start Simple crawling :  http://domair.interpark.com/api/booking/airJourney.do\n",
      ">> Parameters\n",
      "tripDivi:0 , adt:1 , chd:0 , format:json , arr:CJU , inf:0 , airlineCode:TW , dep:GMP , depDate:20170907 , \n"
     ]
    },
    {
     "name": "stderr",
     "output_type": "stream",
     "text": [
      "2017-08-11 08:05:23,141 root     DEBUG    Crawling Interpark domastic schedule site\n"
     ]
    },
    {
     "name": "stdout",
     "output_type": "stream",
     "text": [
      "End Simple crawling\n",
      "Start Simple crawling :  http://domair.interpark.com/api/booking/airJourney.do\n",
      ">> Parameters\n",
      "tripDivi:0 , adt:1 , chd:0 , format:json , arr:CJU , inf:0 , airlineCode:ZE , dep:GMP , depDate:20170907 , \n"
     ]
    },
    {
     "name": "stderr",
     "output_type": "stream",
     "text": [
      "2017-08-11 08:05:24,299 root     DEBUG    Crawling Interpark domastic schedule site\n"
     ]
    },
    {
     "name": "stdout",
     "output_type": "stream",
     "text": [
      "End Simple crawling\n",
      "Start Simple crawling :  http://domair.interpark.com/api/booking/airJourney.do\n",
      ">> Parameters\n",
      "tripDivi:0 , adt:1 , chd:0 , format:json , arr:CJU , inf:0 , airlineCode:7C , dep:GMP , depDate:20170908 , \n"
     ]
    },
    {
     "name": "stderr",
     "output_type": "stream",
     "text": [
      "2017-08-11 08:05:26,205 root     DEBUG    Crawling Interpark domastic schedule site\n",
      "2017-08-11 08:05:26,378 root     DEBUG    Crawling Interpark domastic schedule site\n"
     ]
    },
    {
     "name": "stdout",
     "output_type": "stream",
     "text": [
      "End Simple crawling\n",
      "Start Simple crawling :  http://domair.interpark.com/api/booking/airJourney.do\n",
      ">> Parameters\n",
      "tripDivi:0 , adt:1 , chd:0 , format:json , arr:CJU , inf:0 , airlineCode:LJ , dep:GMP , depDate:20170908 , \n",
      "End Simple crawling\n",
      "Start Simple crawling :  http://domair.interpark.com/api/booking/airJourney.do\n",
      ">> Parameters\n",
      "tripDivi:0 , adt:1 , chd:0 , format:json , arr:CJU , inf:0 , airlineCode:TW , dep:GMP , depDate:20170908 , \n"
     ]
    },
    {
     "name": "stderr",
     "output_type": "stream",
     "text": [
      "2017-08-11 08:05:26,806 root     DEBUG    Crawling Interpark domastic schedule site\n"
     ]
    },
    {
     "name": "stdout",
     "output_type": "stream",
     "text": [
      "End Simple crawling\n",
      "Start Simple crawling :  http://domair.interpark.com/api/booking/airJourney.do\n",
      ">> Parameters\n",
      "tripDivi:0 , adt:1 , chd:0 , format:json , arr:CJU , inf:0 , airlineCode:ZE , dep:GMP , depDate:20170908 , \n"
     ]
    },
    {
     "name": "stderr",
     "output_type": "stream",
     "text": [
      "2017-08-11 08:05:27,950 root     DEBUG    Crawling Interpark domastic schedule site\n"
     ]
    },
    {
     "name": "stdout",
     "output_type": "stream",
     "text": [
      "End Simple crawling\n",
      "Start Simple crawling :  http://domair.interpark.com/api/booking/airJourney.do\n",
      ">> Parameters\n",
      "tripDivi:0 , adt:1 , chd:0 , format:json , arr:CJU , inf:0 , airlineCode:7C , dep:GMP , depDate:20170909 , \n"
     ]
    },
    {
     "name": "stderr",
     "output_type": "stream",
     "text": [
      "2017-08-11 08:05:29,997 root     DEBUG    Crawling Interpark domastic schedule site\n"
     ]
    },
    {
     "name": "stdout",
     "output_type": "stream",
     "text": [
      "End Simple crawling\n",
      "Start Simple crawling :  http://domair.interpark.com/api/booking/airJourney.do\n",
      ">> Parameters\n",
      "tripDivi:0 , adt:1 , chd:0 , format:json , arr:CJU , inf:0 , airlineCode:LJ , dep:GMP , depDate:20170909 , \n"
     ]
    },
    {
     "name": "stderr",
     "output_type": "stream",
     "text": [
      "2017-08-11 08:05:30,326 root     DEBUG    Crawling Interpark domastic schedule site\n"
     ]
    },
    {
     "name": "stdout",
     "output_type": "stream",
     "text": [
      "End Simple crawling\n",
      "Start Simple crawling :  http://domair.interpark.com/api/booking/airJourney.do\n",
      ">> Parameters\n",
      "tripDivi:0 , adt:1 , chd:0 , format:json , arr:CJU , inf:0 , airlineCode:TW , dep:GMP , depDate:20170909 , \n"
     ]
    },
    {
     "name": "stderr",
     "output_type": "stream",
     "text": [
      "2017-08-11 08:05:30,745 root     DEBUG    Crawling Interpark domastic schedule site\n"
     ]
    },
    {
     "name": "stdout",
     "output_type": "stream",
     "text": [
      "End Simple crawling\n",
      "Start Simple crawling :  http://domair.interpark.com/api/booking/airJourney.do\n",
      ">> Parameters\n",
      "tripDivi:0 , adt:1 , chd:0 , format:json , arr:CJU , inf:0 , airlineCode:ZE , dep:GMP , depDate:20170909 , \n"
     ]
    },
    {
     "name": "stderr",
     "output_type": "stream",
     "text": [
      "2017-08-11 08:05:31,978 root     DEBUG    Crawling Interpark domastic schedule site\n"
     ]
    },
    {
     "name": "stdout",
     "output_type": "stream",
     "text": [
      "End Simple crawling\n",
      "Start Simple crawling :  http://domair.interpark.com/api/booking/airJourney.do\n",
      ">> Parameters\n",
      "tripDivi:0 , adt:1 , chd:0 , format:json , arr:CJU , inf:0 , airlineCode:7C , dep:GMP , depDate:20170910 , \n"
     ]
    },
    {
     "name": "stderr",
     "output_type": "stream",
     "text": [
      "2017-08-11 08:05:34,220 root     DEBUG    Crawling Interpark domastic schedule site\n"
     ]
    },
    {
     "name": "stdout",
     "output_type": "stream",
     "text": [
      "End Simple crawling\n",
      "Start Simple crawling :  http://domair.interpark.com/api/booking/airJourney.do\n",
      ">> Parameters\n",
      "tripDivi:0 , adt:1 , chd:0 , format:json , arr:CJU , inf:0 , airlineCode:LJ , dep:GMP , depDate:20170910 , \n"
     ]
    },
    {
     "name": "stderr",
     "output_type": "stream",
     "text": [
      "2017-08-11 08:05:34,427 root     DEBUG    Crawling Interpark domastic schedule site\n"
     ]
    },
    {
     "name": "stdout",
     "output_type": "stream",
     "text": [
      "End Simple crawling\n",
      "Start Simple crawling :  http://domair.interpark.com/api/booking/airJourney.do\n",
      ">> Parameters\n",
      "tripDivi:0 , adt:1 , chd:0 , format:json , arr:CJU , inf:0 , airlineCode:TW , dep:GMP , depDate:20170910 , \n"
     ]
    },
    {
     "name": "stderr",
     "output_type": "stream",
     "text": [
      "2017-08-11 08:05:35,084 root     DEBUG    Crawling Interpark domastic schedule site\n"
     ]
    },
    {
     "name": "stdout",
     "output_type": "stream",
     "text": [
      "End Simple crawling\n",
      "Start Simple crawling :  http://domair.interpark.com/api/booking/airJourney.do\n",
      ">> Parameters\n",
      "tripDivi:0 , adt:1 , chd:0 , format:json , arr:CJU , inf:0 , airlineCode:ZE , dep:GMP , depDate:20170910 , \n"
     ]
    },
    {
     "name": "stderr",
     "output_type": "stream",
     "text": [
      "2017-08-11 08:05:36,354 root     DEBUG    Crawling Interpark domastic schedule site\n"
     ]
    },
    {
     "name": "stdout",
     "output_type": "stream",
     "text": [
      "End Simple crawling\n",
      "Start Simple crawling :  http://domair.interpark.com/api/booking/airJourney.do\n",
      ">> Parameters\n",
      "tripDivi:0 , adt:1 , chd:0 , format:json , arr:CJU , inf:0 , airlineCode:7C , dep:GMP , depDate:20170911 , \n"
     ]
    },
    {
     "name": "stderr",
     "output_type": "stream",
     "text": [
      "2017-08-11 08:05:38,697 root     DEBUG    Crawling Interpark domastic schedule site\n",
      "2017-08-11 08:05:38,870 root     DEBUG    Crawling Interpark domastic schedule site\n"
     ]
    },
    {
     "name": "stdout",
     "output_type": "stream",
     "text": [
      "End Simple crawling\n",
      "Start Simple crawling :  http://domair.interpark.com/api/booking/airJourney.do\n",
      ">> Parameters\n",
      "tripDivi:0 , adt:1 , chd:0 , format:json , arr:CJU , inf:0 , airlineCode:LJ , dep:GMP , depDate:20170911 , \n",
      "End Simple crawling\n",
      "Start Simple crawling :  http://domair.interpark.com/api/booking/airJourney.do\n",
      ">> Parameters\n",
      "tripDivi:0 , adt:1 , chd:0 , format:json , arr:CJU , inf:0 , airlineCode:TW , dep:GMP , depDate:20170911 , \n"
     ]
    },
    {
     "name": "stderr",
     "output_type": "stream",
     "text": [
      "2017-08-11 08:05:39,304 root     DEBUG    Crawling Interpark domastic schedule site\n"
     ]
    },
    {
     "name": "stdout",
     "output_type": "stream",
     "text": [
      "End Simple crawling\n",
      "Start Simple crawling :  http://domair.interpark.com/api/booking/airJourney.do\n",
      ">> Parameters\n",
      "tripDivi:0 , adt:1 , chd:0 , format:json , arr:CJU , inf:0 , airlineCode:ZE , dep:GMP , depDate:20170911 , \n"
     ]
    },
    {
     "name": "stderr",
     "output_type": "stream",
     "text": [
      "2017-08-11 08:05:40,504 root     DEBUG    Crawling Interpark domastic schedule site\n"
     ]
    },
    {
     "name": "stdout",
     "output_type": "stream",
     "text": [
      "End Simple crawling\n",
      "Start Simple crawling :  http://domair.interpark.com/api/booking/airJourney.do\n",
      ">> Parameters\n",
      "tripDivi:0 , adt:1 , chd:0 , format:json , arr:CJU , inf:0 , airlineCode:7C , dep:GMP , depDate:20170912 , \n"
     ]
    },
    {
     "name": "stderr",
     "output_type": "stream",
     "text": [
      "2017-08-11 08:05:42,470 root     DEBUG    Crawling Interpark domastic schedule site\n",
      "2017-08-11 08:05:42,653 root     DEBUG    Crawling Interpark domastic schedule site\n"
     ]
    },
    {
     "name": "stdout",
     "output_type": "stream",
     "text": [
      "End Simple crawling\n",
      "Start Simple crawling :  http://domair.interpark.com/api/booking/airJourney.do\n",
      ">> Parameters\n",
      "tripDivi:0 , adt:1 , chd:0 , format:json , arr:CJU , inf:0 , airlineCode:LJ , dep:GMP , depDate:20170912 , \n",
      "End Simple crawling\n",
      "Start Simple crawling :  http://domair.interpark.com/api/booking/airJourney.do\n",
      ">> Parameters\n",
      "tripDivi:0 , adt:1 , chd:0 , format:json , arr:CJU , inf:0 , airlineCode:TW , dep:GMP , depDate:20170912 , \n"
     ]
    },
    {
     "name": "stderr",
     "output_type": "stream",
     "text": [
      "2017-08-11 08:05:43,212 root     DEBUG    Crawling Interpark domastic schedule site\n"
     ]
    },
    {
     "name": "stdout",
     "output_type": "stream",
     "text": [
      "End Simple crawling\n",
      "Start Simple crawling :  http://domair.interpark.com/api/booking/airJourney.do\n",
      ">> Parameters\n",
      "tripDivi:0 , adt:1 , chd:0 , format:json , arr:CJU , inf:0 , airlineCode:ZE , dep:GMP , depDate:20170912 , \n"
     ]
    },
    {
     "name": "stderr",
     "output_type": "stream",
     "text": [
      "2017-08-11 08:05:44,558 root     DEBUG    Crawling Interpark domastic schedule site\n"
     ]
    },
    {
     "name": "stdout",
     "output_type": "stream",
     "text": [
      "End Simple crawling\n",
      "Start Simple crawling :  http://domair.interpark.com/api/booking/airJourney.do\n",
      ">> Parameters\n",
      "tripDivi:0 , adt:1 , chd:0 , format:json , arr:CJU , inf:0 , airlineCode:7C , dep:GMP , depDate:20170913 , \n"
     ]
    },
    {
     "name": "stderr",
     "output_type": "stream",
     "text": [
      "2017-08-11 08:05:46,768 root     DEBUG    Crawling Interpark domastic schedule site\n",
      "2017-08-11 08:05:46,943 root     DEBUG    Crawling Interpark domastic schedule site\n"
     ]
    },
    {
     "name": "stdout",
     "output_type": "stream",
     "text": [
      "End Simple crawling\n",
      "Start Simple crawling :  http://domair.interpark.com/api/booking/airJourney.do\n",
      ">> Parameters\n",
      "tripDivi:0 , adt:1 , chd:0 , format:json , arr:CJU , inf:0 , airlineCode:LJ , dep:GMP , depDate:20170913 , \n",
      "End Simple crawling\n",
      "Start Simple crawling :  http://domair.interpark.com/api/booking/airJourney.do\n",
      ">> Parameters\n",
      "tripDivi:0 , adt:1 , chd:0 , format:json , arr:CJU , inf:0 , airlineCode:TW , dep:GMP , depDate:20170913 , \n"
     ]
    },
    {
     "name": "stderr",
     "output_type": "stream",
     "text": [
      "2017-08-11 08:05:47,331 root     DEBUG    Crawling Interpark domastic schedule site\n"
     ]
    },
    {
     "name": "stdout",
     "output_type": "stream",
     "text": [
      "End Simple crawling\n",
      "Start Simple crawling :  http://domair.interpark.com/api/booking/airJourney.do\n",
      ">> Parameters\n",
      "tripDivi:0 , adt:1 , chd:0 , format:json , arr:CJU , inf:0 , airlineCode:ZE , dep:GMP , depDate:20170913 , \n"
     ]
    },
    {
     "name": "stderr",
     "output_type": "stream",
     "text": [
      "2017-08-11 08:05:48,572 root     DEBUG    Crawling Interpark domastic schedule site\n"
     ]
    },
    {
     "name": "stdout",
     "output_type": "stream",
     "text": [
      "End Simple crawling\n",
      "Start Simple crawling :  http://domair.interpark.com/api/booking/airJourney.do\n",
      ">> Parameters\n",
      "tripDivi:0 , adt:1 , chd:0 , format:json , arr:CJU , inf:0 , airlineCode:7C , dep:GMP , depDate:20170914 , \n"
     ]
    },
    {
     "name": "stderr",
     "output_type": "stream",
     "text": [
      "2017-08-11 08:05:51,021 root     DEBUG    Crawling Interpark domastic schedule site\n"
     ]
    },
    {
     "name": "stdout",
     "output_type": "stream",
     "text": [
      "End Simple crawling\n",
      "Start Simple crawling :  http://domair.interpark.com/api/booking/airJourney.do\n",
      ">> Parameters\n",
      "tripDivi:0 , adt:1 , chd:0 , format:json , arr:CJU , inf:0 , airlineCode:LJ , dep:GMP , depDate:20170914 , \n"
     ]
    },
    {
     "name": "stderr",
     "output_type": "stream",
     "text": [
      "2017-08-11 08:05:52,428 root     DEBUG    Crawling Interpark domastic schedule site\n"
     ]
    },
    {
     "name": "stdout",
     "output_type": "stream",
     "text": [
      "End Simple crawling\n",
      "Start Simple crawling :  http://domair.interpark.com/api/booking/airJourney.do\n",
      ">> Parameters\n",
      "tripDivi:0 , adt:1 , chd:0 , format:json , arr:CJU , inf:0 , airlineCode:TW , dep:GMP , depDate:20170914 , \n"
     ]
    },
    {
     "name": "stderr",
     "output_type": "stream",
     "text": [
      "2017-08-11 08:05:52,944 root     DEBUG    Crawling Interpark domastic schedule site\n"
     ]
    },
    {
     "name": "stdout",
     "output_type": "stream",
     "text": [
      "End Simple crawling\n",
      "Start Simple crawling :  http://domair.interpark.com/api/booking/airJourney.do\n",
      ">> Parameters\n",
      "tripDivi:0 , adt:1 , chd:0 , format:json , arr:CJU , inf:0 , airlineCode:ZE , dep:GMP , depDate:20170914 , \n"
     ]
    },
    {
     "name": "stderr",
     "output_type": "stream",
     "text": [
      "2017-08-11 08:05:54,132 root     DEBUG    Crawling Interpark domastic schedule site\n"
     ]
    },
    {
     "name": "stdout",
     "output_type": "stream",
     "text": [
      "End Simple crawling\n",
      "Start Simple crawling :  http://domair.interpark.com/api/booking/airJourney.do\n",
      ">> Parameters\n",
      "tripDivi:0 , adt:1 , chd:0 , format:json , arr:CJU , inf:0 , airlineCode:7C , dep:GMP , depDate:20170915 , \n"
     ]
    },
    {
     "name": "stderr",
     "output_type": "stream",
     "text": [
      "2017-08-11 08:05:56,082 root     DEBUG    Crawling Interpark domastic schedule site\n",
      "2017-08-11 08:05:56,235 root     DEBUG    Crawling Interpark domastic schedule site\n"
     ]
    },
    {
     "name": "stdout",
     "output_type": "stream",
     "text": [
      "End Simple crawling\n",
      "Start Simple crawling :  http://domair.interpark.com/api/booking/airJourney.do\n",
      ">> Parameters\n",
      "tripDivi:0 , adt:1 , chd:0 , format:json , arr:CJU , inf:0 , airlineCode:LJ , dep:GMP , depDate:20170915 , \n",
      "End Simple crawling\n",
      "Start Simple crawling :  http://domair.interpark.com/api/booking/airJourney.do\n",
      ">> Parameters\n",
      "tripDivi:0 , adt:1 , chd:0 , format:json , arr:CJU , inf:0 , airlineCode:TW , dep:GMP , depDate:20170915 , \n"
     ]
    },
    {
     "name": "stderr",
     "output_type": "stream",
     "text": [
      "2017-08-11 08:05:56,855 root     DEBUG    Crawling Interpark domastic schedule site\n"
     ]
    },
    {
     "name": "stdout",
     "output_type": "stream",
     "text": [
      "End Simple crawling\n",
      "Start Simple crawling :  http://domair.interpark.com/api/booking/airJourney.do\n",
      ">> Parameters\n",
      "tripDivi:0 , adt:1 , chd:0 , format:json , arr:CJU , inf:0 , airlineCode:ZE , dep:GMP , depDate:20170915 , \n"
     ]
    },
    {
     "name": "stderr",
     "output_type": "stream",
     "text": [
      "2017-08-11 08:05:57,977 root     DEBUG    Crawling Interpark domastic schedule site\n"
     ]
    },
    {
     "name": "stdout",
     "output_type": "stream",
     "text": [
      "End Simple crawling\n",
      "Start Simple crawling :  http://domair.interpark.com/api/booking/airJourney.do\n",
      ">> Parameters\n",
      "tripDivi:0 , adt:1 , chd:0 , format:json , arr:CJU , inf:0 , airlineCode:7C , dep:GMP , depDate:20170916 , \n"
     ]
    },
    {
     "name": "stderr",
     "output_type": "stream",
     "text": [
      "2017-08-11 08:05:59,741 root     DEBUG    Crawling Interpark domastic schedule site\n",
      "2017-08-11 08:05:59,914 root     DEBUG    Crawling Interpark domastic schedule site\n"
     ]
    },
    {
     "name": "stdout",
     "output_type": "stream",
     "text": [
      "End Simple crawling\n",
      "Start Simple crawling :  http://domair.interpark.com/api/booking/airJourney.do\n",
      ">> Parameters\n",
      "tripDivi:0 , adt:1 , chd:0 , format:json , arr:CJU , inf:0 , airlineCode:LJ , dep:GMP , depDate:20170916 , \n",
      "End Simple crawling\n",
      "Start Simple crawling :  http://domair.interpark.com/api/booking/airJourney.do\n",
      ">> Parameters\n",
      "tripDivi:0 , adt:1 , chd:0 , format:json , arr:CJU , inf:0 , airlineCode:TW , dep:GMP , depDate:20170916 , \n"
     ]
    },
    {
     "name": "stderr",
     "output_type": "stream",
     "text": [
      "2017-08-11 08:06:00,394 root     DEBUG    Crawling Interpark domastic schedule site\n"
     ]
    },
    {
     "name": "stdout",
     "output_type": "stream",
     "text": [
      "End Simple crawling\n",
      "Start Simple crawling :  http://domair.interpark.com/api/booking/airJourney.do\n",
      ">> Parameters\n",
      "tripDivi:0 , adt:1 , chd:0 , format:json , arr:CJU , inf:0 , airlineCode:ZE , dep:GMP , depDate:20170916 , \n"
     ]
    },
    {
     "name": "stderr",
     "output_type": "stream",
     "text": [
      "2017-08-11 08:06:01,626 root     DEBUG    Crawling Interpark domastic schedule site\n"
     ]
    },
    {
     "name": "stdout",
     "output_type": "stream",
     "text": [
      "End Simple crawling\n",
      "Start Simple crawling :  http://domair.interpark.com/api/booking/airJourney.do\n",
      ">> Parameters\n",
      "tripDivi:0 , adt:1 , chd:0 , format:json , arr:CJU , inf:0 , airlineCode:7C , dep:GMP , depDate:20170917 , \n"
     ]
    },
    {
     "name": "stderr",
     "output_type": "stream",
     "text": [
      "2017-08-11 08:06:03,587 root     DEBUG    Crawling Interpark domastic schedule site\n",
      "2017-08-11 08:06:03,739 root     DEBUG    Crawling Interpark domastic schedule site\n"
     ]
    },
    {
     "name": "stdout",
     "output_type": "stream",
     "text": [
      "End Simple crawling\n",
      "Start Simple crawling :  http://domair.interpark.com/api/booking/airJourney.do\n",
      ">> Parameters\n",
      "tripDivi:0 , adt:1 , chd:0 , format:json , arr:CJU , inf:0 , airlineCode:LJ , dep:GMP , depDate:20170917 , \n",
      "End Simple crawling\n",
      "Start Simple crawling :  http://domair.interpark.com/api/booking/airJourney.do\n",
      ">> Parameters\n",
      "tripDivi:0 , adt:1 , chd:0 , format:json , arr:CJU , inf:0 , airlineCode:TW , dep:GMP , depDate:20170917 , \n"
     ]
    },
    {
     "name": "stderr",
     "output_type": "stream",
     "text": [
      "2017-08-11 08:06:04,171 root     DEBUG    Crawling Interpark domastic schedule site\n"
     ]
    },
    {
     "name": "stdout",
     "output_type": "stream",
     "text": [
      "End Simple crawling\n",
      "Start Simple crawling :  http://domair.interpark.com/api/booking/airJourney.do\n",
      ">> Parameters\n",
      "tripDivi:0 , adt:1 , chd:0 , format:json , arr:CJU , inf:0 , airlineCode:ZE , dep:GMP , depDate:20170917 , \n"
     ]
    },
    {
     "name": "stderr",
     "output_type": "stream",
     "text": [
      "2017-08-11 08:06:05,342 root     DEBUG    Crawling Interpark domastic schedule site\n"
     ]
    },
    {
     "name": "stdout",
     "output_type": "stream",
     "text": [
      "End Simple crawling\n",
      "Start Simple crawling :  http://domair.interpark.com/api/booking/airJourney.do\n",
      ">> Parameters\n",
      "tripDivi:0 , adt:1 , chd:0 , format:json , arr:CJU , inf:0 , airlineCode:7C , dep:GMP , depDate:20170918 , \n"
     ]
    },
    {
     "name": "stderr",
     "output_type": "stream",
     "text": [
      "2017-08-11 08:06:07,543 root     DEBUG    Crawling Interpark domastic schedule site\n"
     ]
    },
    {
     "name": "stdout",
     "output_type": "stream",
     "text": [
      "End Simple crawling\n",
      "Start Simple crawling :  http://domair.interpark.com/api/booking/airJourney.do\n",
      ">> Parameters\n",
      "tripDivi:0 , adt:1 , chd:0 , format:json , arr:CJU , inf:0 , airlineCode:LJ , dep:GMP , depDate:20170918 , \n"
     ]
    },
    {
     "name": "stderr",
     "output_type": "stream",
     "text": [
      "2017-08-11 08:06:07,793 root     DEBUG    Crawling Interpark domastic schedule site\n"
     ]
    },
    {
     "name": "stdout",
     "output_type": "stream",
     "text": [
      "End Simple crawling\n",
      "Start Simple crawling :  http://domair.interpark.com/api/booking/airJourney.do\n",
      ">> Parameters\n",
      "tripDivi:0 , adt:1 , chd:0 , format:json , arr:CJU , inf:0 , airlineCode:TW , dep:GMP , depDate:20170918 , \n"
     ]
    },
    {
     "name": "stderr",
     "output_type": "stream",
     "text": [
      "2017-08-11 08:06:08,340 root     DEBUG    Crawling Interpark domastic schedule site\n"
     ]
    },
    {
     "name": "stdout",
     "output_type": "stream",
     "text": [
      "End Simple crawling\n",
      "Start Simple crawling :  http://domair.interpark.com/api/booking/airJourney.do\n",
      ">> Parameters\n",
      "tripDivi:0 , adt:1 , chd:0 , format:json , arr:CJU , inf:0 , airlineCode:ZE , dep:GMP , depDate:20170918 , \n"
     ]
    },
    {
     "name": "stderr",
     "output_type": "stream",
     "text": [
      "2017-08-11 08:06:09,521 root     DEBUG    Crawling Interpark domastic schedule site\n"
     ]
    },
    {
     "name": "stdout",
     "output_type": "stream",
     "text": [
      "End Simple crawling\n",
      "Start Simple crawling :  http://domair.interpark.com/api/booking/airJourney.do\n",
      ">> Parameters\n",
      "tripDivi:0 , adt:1 , chd:0 , format:json , arr:CJU , inf:0 , airlineCode:7C , dep:GMP , depDate:20170919 , \n"
     ]
    },
    {
     "name": "stderr",
     "output_type": "stream",
     "text": [
      "2017-08-11 08:06:11,569 root     DEBUG    Crawling Interpark domastic schedule site\n",
      "2017-08-11 08:06:11,733 root     DEBUG    Crawling Interpark domastic schedule site\n"
     ]
    },
    {
     "name": "stdout",
     "output_type": "stream",
     "text": [
      "End Simple crawling\n",
      "Start Simple crawling :  http://domair.interpark.com/api/booking/airJourney.do\n",
      ">> Parameters\n",
      "tripDivi:0 , adt:1 , chd:0 , format:json , arr:CJU , inf:0 , airlineCode:LJ , dep:GMP , depDate:20170919 , \n",
      "End Simple crawling\n",
      "Start Simple crawling :  http://domair.interpark.com/api/booking/airJourney.do\n",
      ">> Parameters\n",
      "tripDivi:0 , adt:1 , chd:0 , format:json , arr:CJU , inf:0 , airlineCode:TW , dep:GMP , depDate:20170919 , \n"
     ]
    },
    {
     "name": "stderr",
     "output_type": "stream",
     "text": [
      "2017-08-11 08:06:12,187 root     DEBUG    Crawling Interpark domastic schedule site\n"
     ]
    },
    {
     "name": "stdout",
     "output_type": "stream",
     "text": [
      "End Simple crawling\n",
      "Start Simple crawling :  http://domair.interpark.com/api/booking/airJourney.do\n",
      ">> Parameters\n",
      "tripDivi:0 , adt:1 , chd:0 , format:json , arr:CJU , inf:0 , airlineCode:ZE , dep:GMP , depDate:20170919 , \n"
     ]
    },
    {
     "name": "stderr",
     "output_type": "stream",
     "text": [
      "2017-08-11 08:06:13,415 root     DEBUG    Crawling Interpark domastic schedule site\n"
     ]
    },
    {
     "name": "stdout",
     "output_type": "stream",
     "text": [
      "End Simple crawling\n",
      "Start Simple crawling :  http://domair.interpark.com/api/booking/airJourney.do\n",
      ">> Parameters\n",
      "tripDivi:0 , adt:1 , chd:0 , format:json , arr:CJU , inf:0 , airlineCode:7C , dep:GMP , depDate:20170920 , \n"
     ]
    },
    {
     "name": "stderr",
     "output_type": "stream",
     "text": [
      "2017-08-11 08:06:15,548 root     DEBUG    Crawling Interpark domastic schedule site\n"
     ]
    },
    {
     "name": "stdout",
     "output_type": "stream",
     "text": [
      "End Simple crawling\n",
      "Start Simple crawling :  http://domair.interpark.com/api/booking/airJourney.do\n",
      ">> Parameters\n",
      "tripDivi:0 , adt:1 , chd:0 , format:json , arr:CJU , inf:0 , airlineCode:LJ , dep:GMP , depDate:20170920 , \n",
      "End Simple crawling\n"
     ]
    },
    {
     "name": "stderr",
     "output_type": "stream",
     "text": [
      "2017-08-11 08:06:15,745 root     DEBUG    Crawling Interpark domastic schedule site\n"
     ]
    },
    {
     "name": "stdout",
     "output_type": "stream",
     "text": [
      "Start Simple crawling :  http://domair.interpark.com/api/booking/airJourney.do\n",
      ">> Parameters\n",
      "tripDivi:0 , adt:1 , chd:0 , format:json , arr:CJU , inf:0 , airlineCode:TW , dep:GMP , depDate:20170920 , \n"
     ]
    },
    {
     "name": "stderr",
     "output_type": "stream",
     "text": [
      "2017-08-11 08:06:16,231 root     DEBUG    Crawling Interpark domastic schedule site\n"
     ]
    },
    {
     "name": "stdout",
     "output_type": "stream",
     "text": [
      "End Simple crawling\n",
      "Start Simple crawling :  http://domair.interpark.com/api/booking/airJourney.do\n",
      ">> Parameters\n",
      "tripDivi:0 , adt:1 , chd:0 , format:json , arr:CJU , inf:0 , airlineCode:ZE , dep:GMP , depDate:20170920 , \n"
     ]
    },
    {
     "name": "stderr",
     "output_type": "stream",
     "text": [
      "2017-08-11 08:06:17,466 root     DEBUG    Crawling Interpark domastic schedule site\n"
     ]
    },
    {
     "name": "stdout",
     "output_type": "stream",
     "text": [
      "End Simple crawling\n",
      "Start Simple crawling :  http://domair.interpark.com/api/booking/airJourney.do\n",
      ">> Parameters\n",
      "tripDivi:0 , adt:1 , chd:0 , format:json , arr:CJU , inf:0 , airlineCode:7C , dep:GMP , depDate:20170921 , \n"
     ]
    },
    {
     "name": "stderr",
     "output_type": "stream",
     "text": [
      "2017-08-11 08:06:19,747 root     DEBUG    Crawling Interpark domastic schedule site\n",
      "2017-08-11 08:06:19,932 root     DEBUG    Crawling Interpark domastic schedule site\n"
     ]
    },
    {
     "name": "stdout",
     "output_type": "stream",
     "text": [
      "End Simple crawling\n",
      "Start Simple crawling :  http://domair.interpark.com/api/booking/airJourney.do\n",
      ">> Parameters\n",
      "tripDivi:0 , adt:1 , chd:0 , format:json , arr:CJU , inf:0 , airlineCode:LJ , dep:GMP , depDate:20170921 , \n",
      "End Simple crawling\n",
      "Start Simple crawling :  http://domair.interpark.com/api/booking/airJourney.do\n",
      ">> Parameters\n",
      "tripDivi:0 , adt:1 , chd:0 , format:json , arr:CJU , inf:0 , airlineCode:TW , dep:GMP , depDate:20170921 , \n"
     ]
    },
    {
     "name": "stderr",
     "output_type": "stream",
     "text": [
      "2017-08-11 08:06:20,366 root     DEBUG    Crawling Interpark domastic schedule site\n"
     ]
    },
    {
     "name": "stdout",
     "output_type": "stream",
     "text": [
      "End Simple crawling\n",
      "Start Simple crawling :  http://domair.interpark.com/api/booking/airJourney.do\n",
      ">> Parameters\n",
      "tripDivi:0 , adt:1 , chd:0 , format:json , arr:CJU , inf:0 , airlineCode:ZE , dep:GMP , depDate:20170921 , \n"
     ]
    },
    {
     "name": "stderr",
     "output_type": "stream",
     "text": [
      "2017-08-11 08:06:21,622 root     DEBUG    Crawling Interpark domastic schedule site\n"
     ]
    },
    {
     "name": "stdout",
     "output_type": "stream",
     "text": [
      "End Simple crawling\n",
      "Start Simple crawling :  http://domair.interpark.com/api/booking/airJourney.do\n",
      ">> Parameters\n",
      "tripDivi:0 , adt:1 , chd:0 , format:json , arr:CJU , inf:0 , airlineCode:7C , dep:GMP , depDate:20170922 , \n"
     ]
    },
    {
     "name": "stderr",
     "output_type": "stream",
     "text": [
      "2017-08-11 08:06:23,676 root     DEBUG    Crawling Interpark domastic schedule site\n",
      "2017-08-11 08:06:23,842 root     DEBUG    Crawling Interpark domastic schedule site\n"
     ]
    },
    {
     "name": "stdout",
     "output_type": "stream",
     "text": [
      "End Simple crawling\n",
      "Start Simple crawling :  http://domair.interpark.com/api/booking/airJourney.do\n",
      ">> Parameters\n",
      "tripDivi:0 , adt:1 , chd:0 , format:json , arr:CJU , inf:0 , airlineCode:LJ , dep:GMP , depDate:20170922 , \n",
      "End Simple crawling\n",
      "Start Simple crawling :  http://domair.interpark.com/api/booking/airJourney.do\n",
      ">> Parameters\n",
      "tripDivi:0 , adt:1 , chd:0 , format:json , arr:CJU , inf:0 , airlineCode:TW , dep:GMP , depDate:20170922 , \n"
     ]
    },
    {
     "name": "stderr",
     "output_type": "stream",
     "text": [
      "2017-08-11 08:06:24,303 root     DEBUG    Crawling Interpark domastic schedule site\n"
     ]
    },
    {
     "name": "stdout",
     "output_type": "stream",
     "text": [
      "End Simple crawling\n",
      "Start Simple crawling :  http://domair.interpark.com/api/booking/airJourney.do\n",
      ">> Parameters\n",
      "tripDivi:0 , adt:1 , chd:0 , format:json , arr:CJU , inf:0 , airlineCode:ZE , dep:GMP , depDate:20170922 , \n"
     ]
    },
    {
     "name": "stderr",
     "output_type": "stream",
     "text": [
      "2017-08-11 08:06:25,476 root     DEBUG    Crawling Interpark domastic schedule site\n"
     ]
    },
    {
     "name": "stdout",
     "output_type": "stream",
     "text": [
      "End Simple crawling\n",
      "Start Simple crawling :  http://domair.interpark.com/api/booking/airJourney.do\n",
      ">> Parameters\n",
      "tripDivi:0 , adt:1 , chd:0 , format:json , arr:CJU , inf:0 , airlineCode:7C , dep:GMP , depDate:20170923 , \n"
     ]
    },
    {
     "name": "stderr",
     "output_type": "stream",
     "text": [
      "2017-08-11 08:06:27,515 root     DEBUG    Crawling Interpark domastic schedule site\n",
      "2017-08-11 08:06:27,668 root     DEBUG    Crawling Interpark domastic schedule site\n"
     ]
    },
    {
     "name": "stdout",
     "output_type": "stream",
     "text": [
      "End Simple crawling\n",
      "Start Simple crawling :  http://domair.interpark.com/api/booking/airJourney.do\n",
      ">> Parameters\n",
      "tripDivi:0 , adt:1 , chd:0 , format:json , arr:CJU , inf:0 , airlineCode:LJ , dep:GMP , depDate:20170923 , \n",
      "End Simple crawling\n",
      "Start Simple crawling :  http://domair.interpark.com/api/booking/airJourney.do\n",
      ">> Parameters\n",
      "tripDivi:0 , adt:1 , chd:0 , format:json , arr:CJU , inf:0 , airlineCode:TW , dep:GMP , depDate:20170923 , \n"
     ]
    },
    {
     "name": "stderr",
     "output_type": "stream",
     "text": [
      "2017-08-11 08:06:28,180 root     DEBUG    Crawling Interpark domastic schedule site\n"
     ]
    },
    {
     "name": "stdout",
     "output_type": "stream",
     "text": [
      "End Simple crawling\n",
      "Start Simple crawling :  http://domair.interpark.com/api/booking/airJourney.do\n",
      ">> Parameters\n",
      "tripDivi:0 , adt:1 , chd:0 , format:json , arr:CJU , inf:0 , airlineCode:ZE , dep:GMP , depDate:20170923 , \n"
     ]
    },
    {
     "name": "stderr",
     "output_type": "stream",
     "text": [
      "2017-08-11 08:06:29,398 root     DEBUG    Crawling Interpark domastic schedule site\n"
     ]
    },
    {
     "name": "stdout",
     "output_type": "stream",
     "text": [
      "End Simple crawling\n",
      "Start Simple crawling :  http://domair.interpark.com/api/booking/airJourney.do\n",
      ">> Parameters\n",
      "tripDivi:0 , adt:1 , chd:0 , format:json , arr:CJU , inf:0 , airlineCode:7C , dep:GMP , depDate:20170924 , \n"
     ]
    },
    {
     "name": "stderr",
     "output_type": "stream",
     "text": [
      "2017-08-11 08:06:31,562 root     DEBUG    Crawling Interpark domastic schedule site\n",
      "2017-08-11 08:06:31,747 root     DEBUG    Crawling Interpark domastic schedule site\n"
     ]
    },
    {
     "name": "stdout",
     "output_type": "stream",
     "text": [
      "End Simple crawling\n",
      "Start Simple crawling :  http://domair.interpark.com/api/booking/airJourney.do\n",
      ">> Parameters\n",
      "tripDivi:0 , adt:1 , chd:0 , format:json , arr:CJU , inf:0 , airlineCode:LJ , dep:GMP , depDate:20170924 , \n",
      "End Simple crawling\n",
      "Start Simple crawling :  http://domair.interpark.com/api/booking/airJourney.do\n",
      ">> Parameters\n",
      "tripDivi:0 , adt:1 , chd:0 , format:json , arr:CJU , inf:0 , airlineCode:TW , dep:GMP , depDate:20170924 , \n"
     ]
    },
    {
     "name": "stderr",
     "output_type": "stream",
     "text": [
      "2017-08-11 08:06:32,215 root     DEBUG    Crawling Interpark domastic schedule site\n"
     ]
    },
    {
     "name": "stdout",
     "output_type": "stream",
     "text": [
      "End Simple crawling\n",
      "Start Simple crawling :  http://domair.interpark.com/api/booking/airJourney.do\n",
      ">> Parameters\n",
      "tripDivi:0 , adt:1 , chd:0 , format:json , arr:CJU , inf:0 , airlineCode:ZE , dep:GMP , depDate:20170924 , \n"
     ]
    },
    {
     "name": "stderr",
     "output_type": "stream",
     "text": [
      "2017-08-11 08:06:33,486 root     DEBUG    Crawling Interpark domastic schedule site\n"
     ]
    },
    {
     "name": "stdout",
     "output_type": "stream",
     "text": [
      "End Simple crawling\n",
      "Start Simple crawling :  http://domair.interpark.com/api/booking/airJourney.do\n",
      ">> Parameters\n",
      "tripDivi:0 , adt:1 , chd:0 , format:json , arr:CJU , inf:0 , airlineCode:7C , dep:GMP , depDate:20170925 , \n"
     ]
    },
    {
     "name": "stderr",
     "output_type": "stream",
     "text": [
      "2017-08-11 08:06:35,344 root     DEBUG    Crawling Interpark domastic schedule site\n"
     ]
    },
    {
     "name": "stdout",
     "output_type": "stream",
     "text": [
      "End Simple crawling\n",
      "Start Simple crawling :  http://domair.interpark.com/api/booking/airJourney.do\n",
      ">> Parameters\n",
      "tripDivi:0 , adt:1 , chd:0 , format:json , arr:CJU , inf:0 , airlineCode:LJ , dep:GMP , depDate:20170925 , \n",
      "End Simple crawling\n"
     ]
    },
    {
     "name": "stderr",
     "output_type": "stream",
     "text": [
      "2017-08-11 08:06:35,542 root     DEBUG    Crawling Interpark domastic schedule site\n"
     ]
    },
    {
     "name": "stdout",
     "output_type": "stream",
     "text": [
      "Start Simple crawling :  http://domair.interpark.com/api/booking/airJourney.do\n",
      ">> Parameters\n",
      "tripDivi:0 , adt:1 , chd:0 , format:json , arr:CJU , inf:0 , airlineCode:TW , dep:GMP , depDate:20170925 , \n"
     ]
    },
    {
     "name": "stderr",
     "output_type": "stream",
     "text": [
      "2017-08-11 08:06:35,974 root     DEBUG    Crawling Interpark domastic schedule site\n"
     ]
    },
    {
     "name": "stdout",
     "output_type": "stream",
     "text": [
      "End Simple crawling\n",
      "Start Simple crawling :  http://domair.interpark.com/api/booking/airJourney.do\n",
      ">> Parameters\n",
      "tripDivi:0 , adt:1 , chd:0 , format:json , arr:CJU , inf:0 , airlineCode:ZE , dep:GMP , depDate:20170925 , \n"
     ]
    },
    {
     "name": "stderr",
     "output_type": "stream",
     "text": [
      "2017-08-11 08:06:38,453 root     DEBUG    Crawling Interpark domastic schedule site\n"
     ]
    },
    {
     "name": "stdout",
     "output_type": "stream",
     "text": [
      "End Simple crawling\n",
      "Start Simple crawling :  http://domair.interpark.com/api/booking/airJourney.do\n",
      ">> Parameters\n",
      "tripDivi:0 , adt:1 , chd:0 , format:json , arr:CJU , inf:0 , airlineCode:7C , dep:GMP , depDate:20170926 , \n"
     ]
    },
    {
     "name": "stderr",
     "output_type": "stream",
     "text": [
      "2017-08-11 08:06:40,531 root     DEBUG    Crawling Interpark domastic schedule site\n"
     ]
    },
    {
     "name": "stdout",
     "output_type": "stream",
     "text": [
      "End Simple crawling\n",
      "Start Simple crawling :  http://domair.interpark.com/api/booking/airJourney.do\n",
      ">> Parameters\n",
      "tripDivi:0 , adt:1 , chd:0 , format:json , arr:CJU , inf:0 , airlineCode:LJ , dep:GMP , depDate:20170926 , \n"
     ]
    },
    {
     "name": "stderr",
     "output_type": "stream",
     "text": [
      "2017-08-11 08:06:41,002 root     DEBUG    Crawling Interpark domastic schedule site\n"
     ]
    },
    {
     "name": "stdout",
     "output_type": "stream",
     "text": [
      "End Simple crawling\n",
      "Start Simple crawling :  http://domair.interpark.com/api/booking/airJourney.do\n",
      ">> Parameters\n",
      "tripDivi:0 , adt:1 , chd:0 , format:json , arr:CJU , inf:0 , airlineCode:TW , dep:GMP , depDate:20170926 , \n"
     ]
    },
    {
     "name": "stderr",
     "output_type": "stream",
     "text": [
      "2017-08-11 08:06:41,491 root     DEBUG    Crawling Interpark domastic schedule site\n"
     ]
    },
    {
     "name": "stdout",
     "output_type": "stream",
     "text": [
      "End Simple crawling\n",
      "Start Simple crawling :  http://domair.interpark.com/api/booking/airJourney.do\n",
      ">> Parameters\n",
      "tripDivi:0 , adt:1 , chd:0 , format:json , arr:CJU , inf:0 , airlineCode:ZE , dep:GMP , depDate:20170926 , \n"
     ]
    },
    {
     "name": "stderr",
     "output_type": "stream",
     "text": [
      "2017-08-11 08:06:42,731 root     DEBUG    Crawling Interpark domastic schedule site\n"
     ]
    },
    {
     "name": "stdout",
     "output_type": "stream",
     "text": [
      "End Simple crawling\n",
      "Start Simple crawling :  http://domair.interpark.com/api/booking/airJourney.do\n",
      ">> Parameters\n",
      "tripDivi:0 , adt:1 , chd:0 , format:json , arr:CJU , inf:0 , airlineCode:7C , dep:GMP , depDate:20170927 , \n"
     ]
    },
    {
     "name": "stderr",
     "output_type": "stream",
     "text": [
      "2017-08-11 08:06:44,901 root     DEBUG    Crawling Interpark domastic schedule site\n",
      "2017-08-11 08:06:45,064 root     DEBUG    Crawling Interpark domastic schedule site\n"
     ]
    },
    {
     "name": "stdout",
     "output_type": "stream",
     "text": [
      "End Simple crawling\n",
      "Start Simple crawling :  http://domair.interpark.com/api/booking/airJourney.do\n",
      ">> Parameters\n",
      "tripDivi:0 , adt:1 , chd:0 , format:json , arr:CJU , inf:0 , airlineCode:LJ , dep:GMP , depDate:20170927 , \n",
      "End Simple crawling\n",
      "Start Simple crawling :  http://domair.interpark.com/api/booking/airJourney.do\n",
      ">> Parameters\n",
      "tripDivi:0 , adt:1 , chd:0 , format:json , arr:CJU , inf:0 , airlineCode:TW , dep:GMP , depDate:20170927 , \n"
     ]
    },
    {
     "name": "stderr",
     "output_type": "stream",
     "text": [
      "2017-08-11 08:06:45,559 root     DEBUG    Crawling Interpark domastic schedule site\n"
     ]
    },
    {
     "name": "stdout",
     "output_type": "stream",
     "text": [
      "End Simple crawling\n",
      "Start Simple crawling :  http://domair.interpark.com/api/booking/airJourney.do\n",
      ">> Parameters\n",
      "tripDivi:0 , adt:1 , chd:0 , format:json , arr:CJU , inf:0 , airlineCode:ZE , dep:GMP , depDate:20170927 , \n"
     ]
    },
    {
     "name": "stderr",
     "output_type": "stream",
     "text": [
      "2017-08-11 08:06:46,867 root     DEBUG    Crawling Interpark domastic schedule site\n"
     ]
    },
    {
     "name": "stdout",
     "output_type": "stream",
     "text": [
      "End Simple crawling\n",
      "Start Simple crawling :  http://domair.interpark.com/api/booking/airJourney.do\n",
      ">> Parameters\n",
      "tripDivi:0 , adt:1 , chd:0 , format:json , arr:CJU , inf:0 , airlineCode:7C , dep:GMP , depDate:20170928 , \n"
     ]
    },
    {
     "name": "stderr",
     "output_type": "stream",
     "text": [
      "2017-08-11 08:06:49,122 root     DEBUG    Crawling Interpark domastic schedule site\n",
      "2017-08-11 08:06:49,294 root     DEBUG    Crawling Interpark domastic schedule site\n"
     ]
    },
    {
     "name": "stdout",
     "output_type": "stream",
     "text": [
      "End Simple crawling\n",
      "Start Simple crawling :  http://domair.interpark.com/api/booking/airJourney.do\n",
      ">> Parameters\n",
      "tripDivi:0 , adt:1 , chd:0 , format:json , arr:CJU , inf:0 , airlineCode:LJ , dep:GMP , depDate:20170928 , \n",
      "End Simple crawling\n",
      "Start Simple crawling :  http://domair.interpark.com/api/booking/airJourney.do\n",
      ">> Parameters\n",
      "tripDivi:0 , adt:1 , chd:0 , format:json , arr:CJU , inf:0 , airlineCode:TW , dep:GMP , depDate:20170928 , \n"
     ]
    },
    {
     "name": "stderr",
     "output_type": "stream",
     "text": [
      "2017-08-11 08:06:49,786 root     DEBUG    Crawling Interpark domastic schedule site\n"
     ]
    },
    {
     "name": "stdout",
     "output_type": "stream",
     "text": [
      "End Simple crawling\n",
      "Start Simple crawling :  http://domair.interpark.com/api/booking/airJourney.do\n",
      ">> Parameters\n",
      "tripDivi:0 , adt:1 , chd:0 , format:json , arr:CJU , inf:0 , airlineCode:ZE , dep:GMP , depDate:20170928 , \n"
     ]
    },
    {
     "name": "stderr",
     "output_type": "stream",
     "text": [
      "2017-08-11 08:06:50,865 root     DEBUG    Crawling Interpark domastic schedule site\n"
     ]
    },
    {
     "name": "stdout",
     "output_type": "stream",
     "text": [
      "End Simple crawling\n",
      "Start Simple crawling :  http://domair.interpark.com/api/booking/airJourney.do\n",
      ">> Parameters\n",
      "tripDivi:0 , adt:1 , chd:0 , format:json , arr:CJU , inf:0 , airlineCode:7C , dep:GMP , depDate:20170929 , \n"
     ]
    },
    {
     "name": "stderr",
     "output_type": "stream",
     "text": [
      "2017-08-11 08:06:53,015 root     DEBUG    Crawling Interpark domastic schedule site\n",
      "2017-08-11 08:06:53,160 root     DEBUG    Crawling Interpark domastic schedule site\n"
     ]
    },
    {
     "name": "stdout",
     "output_type": "stream",
     "text": [
      "End Simple crawling\n",
      "Start Simple crawling :  http://domair.interpark.com/api/booking/airJourney.do\n",
      ">> Parameters\n",
      "tripDivi:0 , adt:1 , chd:0 , format:json , arr:CJU , inf:0 , airlineCode:LJ , dep:GMP , depDate:20170929 , \n",
      "End Simple crawling\n",
      "Start Simple crawling :  http://domair.interpark.com/api/booking/airJourney.do\n",
      ">> Parameters\n",
      "tripDivi:0 , adt:1 , chd:0 , format:json , arr:CJU , inf:0 , airlineCode:TW , dep:GMP , depDate:20170929 , \n"
     ]
    },
    {
     "name": "stderr",
     "output_type": "stream",
     "text": [
      "2017-08-11 08:06:53,528 root     DEBUG    Crawling Interpark domastic schedule site\n"
     ]
    },
    {
     "name": "stdout",
     "output_type": "stream",
     "text": [
      "End Simple crawling\n",
      "Start Simple crawling :  http://domair.interpark.com/api/booking/airJourney.do\n",
      ">> Parameters\n",
      "tripDivi:0 , adt:1 , chd:0 , format:json , arr:CJU , inf:0 , airlineCode:ZE , dep:GMP , depDate:20170929 , \n"
     ]
    },
    {
     "name": "stderr",
     "output_type": "stream",
     "text": [
      "2017-08-11 08:06:54,677 root     DEBUG    Crawling Interpark domastic schedule site\n"
     ]
    },
    {
     "name": "stdout",
     "output_type": "stream",
     "text": [
      "End Simple crawling\n",
      "Start Simple crawling :  http://domair.interpark.com/api/booking/airJourney.do\n",
      ">> Parameters\n",
      "tripDivi:0 , adt:1 , chd:0 , format:json , arr:CJU , inf:0 , airlineCode:7C , dep:GMP , depDate:20170930 , \n"
     ]
    },
    {
     "name": "stderr",
     "output_type": "stream",
     "text": [
      "2017-08-11 08:06:55,834 root     DEBUG    Crawling Interpark domastic schedule site\n"
     ]
    },
    {
     "name": "stdout",
     "output_type": "stream",
     "text": [
      "End Simple crawling\n",
      "Start Simple crawling :  http://domair.interpark.com/api/booking/airJourney.do\n",
      ">> Parameters\n",
      "tripDivi:0 , adt:1 , chd:0 , format:json , arr:CJU , inf:0 , airlineCode:LJ , dep:GMP , depDate:20170930 , \n"
     ]
    },
    {
     "name": "stderr",
     "output_type": "stream",
     "text": [
      "2017-08-11 08:06:56,150 root     DEBUG    Crawling Interpark domastic schedule site\n"
     ]
    },
    {
     "name": "stdout",
     "output_type": "stream",
     "text": [
      "End Simple crawling\n",
      "Start Simple crawling :  http://domair.interpark.com/api/booking/airJourney.do\n",
      ">> Parameters\n",
      "tripDivi:0 , adt:1 , chd:0 , format:json , arr:CJU , inf:0 , airlineCode:TW , dep:GMP , depDate:20170930 , \n"
     ]
    },
    {
     "name": "stderr",
     "output_type": "stream",
     "text": [
      "2017-08-11 08:06:56,543 root     DEBUG    Crawling Interpark domastic schedule site\n"
     ]
    },
    {
     "name": "stdout",
     "output_type": "stream",
     "text": [
      "End Simple crawling\n",
      "Start Simple crawling :  http://domair.interpark.com/api/booking/airJourney.do\n",
      ">> Parameters\n",
      "tripDivi:0 , adt:1 , chd:0 , format:json , arr:CJU , inf:0 , airlineCode:ZE , dep:GMP , depDate:20170930 , \n"
     ]
    },
    {
     "name": "stderr",
     "output_type": "stream",
     "text": [
      "2017-08-11 08:06:57,579 root     DEBUG    Crawling Interpark domastic schedule site\n"
     ]
    },
    {
     "name": "stdout",
     "output_type": "stream",
     "text": [
      "End Simple crawling\n",
      "Start Simple crawling :  http://domair.interpark.com/api/booking/airJourney.do\n",
      ">> Parameters\n",
      "tripDivi:0 , adt:1 , chd:0 , format:json , arr:CJU , inf:0 , airlineCode:7C , dep:GMP , depDate:20171001 , \n"
     ]
    },
    {
     "name": "stderr",
     "output_type": "stream",
     "text": [
      "2017-08-11 08:06:58,706 root     DEBUG    Crawling Interpark domastic schedule site\n"
     ]
    },
    {
     "name": "stdout",
     "output_type": "stream",
     "text": [
      "End Simple crawling\n",
      "Start Simple crawling :  http://domair.interpark.com/api/booking/airJourney.do\n",
      ">> Parameters\n",
      "tripDivi:0 , adt:1 , chd:0 , format:json , arr:CJU , inf:0 , airlineCode:LJ , dep:GMP , depDate:20171001 , \n"
     ]
    },
    {
     "name": "stderr",
     "output_type": "stream",
     "text": [
      "2017-08-11 08:06:59,037 root     DEBUG    Crawling Interpark domastic schedule site\n"
     ]
    },
    {
     "name": "stdout",
     "output_type": "stream",
     "text": [
      "End Simple crawling\n",
      "Start Simple crawling :  http://domair.interpark.com/api/booking/airJourney.do\n",
      ">> Parameters\n",
      "tripDivi:0 , adt:1 , chd:0 , format:json , arr:CJU , inf:0 , airlineCode:TW , dep:GMP , depDate:20171001 , \n"
     ]
    },
    {
     "name": "stderr",
     "output_type": "stream",
     "text": [
      "2017-08-11 08:06:59,410 root     DEBUG    Crawling Interpark domastic schedule site\n"
     ]
    },
    {
     "name": "stdout",
     "output_type": "stream",
     "text": [
      "End Simple crawling\n",
      "Start Simple crawling :  http://domair.interpark.com/api/booking/airJourney.do\n",
      ">> Parameters\n",
      "tripDivi:0 , adt:1 , chd:0 , format:json , arr:CJU , inf:0 , airlineCode:ZE , dep:GMP , depDate:20171001 , \n"
     ]
    },
    {
     "name": "stderr",
     "output_type": "stream",
     "text": [
      "2017-08-11 08:07:00,519 root     DEBUG    Crawling Interpark domastic schedule site\n"
     ]
    },
    {
     "name": "stdout",
     "output_type": "stream",
     "text": [
      "End Simple crawling\n",
      "Start Simple crawling :  http://domair.interpark.com/api/booking/airJourney.do\n",
      ">> Parameters\n",
      "tripDivi:0 , adt:1 , chd:0 , format:json , arr:CJU , inf:0 , airlineCode:7C , dep:GMP , depDate:20171002 , \n"
     ]
    },
    {
     "name": "stderr",
     "output_type": "stream",
     "text": [
      "2017-08-11 08:07:01,494 root     DEBUG    Crawling Interpark domastic schedule site\n"
     ]
    },
    {
     "name": "stdout",
     "output_type": "stream",
     "text": [
      "End Simple crawling\n",
      "Start Simple crawling :  http://domair.interpark.com/api/booking/airJourney.do\n",
      ">> Parameters\n",
      "tripDivi:0 , adt:1 , chd:0 , format:json , arr:CJU , inf:0 , airlineCode:LJ , dep:GMP , depDate:20171002 , \n"
     ]
    },
    {
     "name": "stderr",
     "output_type": "stream",
     "text": [
      "2017-08-11 08:07:01,829 root     DEBUG    Crawling Interpark domastic schedule site\n"
     ]
    },
    {
     "name": "stdout",
     "output_type": "stream",
     "text": [
      "End Simple crawling\n",
      "Start Simple crawling :  http://domair.interpark.com/api/booking/airJourney.do\n",
      ">> Parameters\n",
      "tripDivi:0 , adt:1 , chd:0 , format:json , arr:CJU , inf:0 , airlineCode:TW , dep:GMP , depDate:20171002 , \n"
     ]
    },
    {
     "name": "stderr",
     "output_type": "stream",
     "text": [
      "2017-08-11 08:07:02,173 root     DEBUG    Crawling Interpark domastic schedule site\n"
     ]
    },
    {
     "name": "stdout",
     "output_type": "stream",
     "text": [
      "End Simple crawling\n",
      "Start Simple crawling :  http://domair.interpark.com/api/booking/airJourney.do\n",
      ">> Parameters\n",
      "tripDivi:0 , adt:1 , chd:0 , format:json , arr:CJU , inf:0 , airlineCode:ZE , dep:GMP , depDate:20171002 , \n"
     ]
    },
    {
     "name": "stderr",
     "output_type": "stream",
     "text": [
      "2017-08-11 08:07:03,275 root     DEBUG    Crawling Interpark domastic schedule site\n"
     ]
    },
    {
     "name": "stdout",
     "output_type": "stream",
     "text": [
      "End Simple crawling\n",
      "Start Simple crawling :  http://domair.interpark.com/api/booking/airJourney.do\n",
      ">> Parameters\n",
      "tripDivi:0 , adt:1 , chd:0 , format:json , arr:CJU , inf:0 , airlineCode:7C , dep:GMP , depDate:20171003 , \n"
     ]
    },
    {
     "name": "stderr",
     "output_type": "stream",
     "text": [
      "2017-08-11 08:07:04,430 root     DEBUG    Crawling Interpark domastic schedule site\n",
      "2017-08-11 08:07:04,566 root     DEBUG    Crawling Interpark domastic schedule site\n"
     ]
    },
    {
     "name": "stdout",
     "output_type": "stream",
     "text": [
      "End Simple crawling\n",
      "Start Simple crawling :  http://domair.interpark.com/api/booking/airJourney.do\n",
      ">> Parameters\n",
      "tripDivi:0 , adt:1 , chd:0 , format:json , arr:CJU , inf:0 , airlineCode:LJ , dep:GMP , depDate:20171003 , \n",
      "End Simple crawling\n",
      "Start Simple crawling :  http://domair.interpark.com/api/booking/airJourney.do\n",
      ">> Parameters\n",
      "tripDivi:0 , adt:1 , chd:0 , format:json , arr:CJU , inf:0 , airlineCode:TW , dep:GMP , depDate:20171003 , \n"
     ]
    },
    {
     "name": "stderr",
     "output_type": "stream",
     "text": [
      "2017-08-11 08:07:04,991 root     DEBUG    Crawling Interpark domastic schedule site\n"
     ]
    },
    {
     "name": "stdout",
     "output_type": "stream",
     "text": [
      "End Simple crawling\n",
      "Start Simple crawling :  http://domair.interpark.com/api/booking/airJourney.do\n",
      ">> Parameters\n",
      "tripDivi:0 , adt:1 , chd:0 , format:json , arr:CJU , inf:0 , airlineCode:ZE , dep:GMP , depDate:20171003 , \n"
     ]
    },
    {
     "name": "stderr",
     "output_type": "stream",
     "text": [
      "2017-08-11 08:07:06,067 root     DEBUG    Crawling Interpark domastic schedule site\n"
     ]
    },
    {
     "name": "stdout",
     "output_type": "stream",
     "text": [
      "End Simple crawling\n",
      "Start Simple crawling :  http://domair.interpark.com/api/booking/airJourney.do\n",
      ">> Parameters\n",
      "tripDivi:0 , adt:1 , chd:0 , format:json , arr:CJU , inf:0 , airlineCode:7C , dep:GMP , depDate:20171004 , \n"
     ]
    },
    {
     "name": "stderr",
     "output_type": "stream",
     "text": [
      "2017-08-11 08:07:07,224 root     DEBUG    Crawling Interpark domastic schedule site\n"
     ]
    },
    {
     "name": "stdout",
     "output_type": "stream",
     "text": [
      "End Simple crawling\n",
      "Start Simple crawling :  http://domair.interpark.com/api/booking/airJourney.do\n",
      ">> Parameters\n",
      "tripDivi:0 , adt:1 , chd:0 , format:json , arr:CJU , inf:0 , airlineCode:LJ , dep:GMP , depDate:20171004 , \n"
     ]
    },
    {
     "name": "stderr",
     "output_type": "stream",
     "text": [
      "2017-08-11 08:07:07,542 root     DEBUG    Crawling Interpark domastic schedule site\n"
     ]
    },
    {
     "name": "stdout",
     "output_type": "stream",
     "text": [
      "End Simple crawling\n",
      "Start Simple crawling :  http://domair.interpark.com/api/booking/airJourney.do\n",
      ">> Parameters\n",
      "tripDivi:0 , adt:1 , chd:0 , format:json , arr:CJU , inf:0 , airlineCode:TW , dep:GMP , depDate:20171004 , \n"
     ]
    },
    {
     "name": "stderr",
     "output_type": "stream",
     "text": [
      "2017-08-11 08:07:07,914 root     DEBUG    Crawling Interpark domastic schedule site\n"
     ]
    },
    {
     "name": "stdout",
     "output_type": "stream",
     "text": [
      "End Simple crawling\n",
      "Start Simple crawling :  http://domair.interpark.com/api/booking/airJourney.do\n",
      ">> Parameters\n",
      "tripDivi:0 , adt:1 , chd:0 , format:json , arr:CJU , inf:0 , airlineCode:ZE , dep:GMP , depDate:20171004 , \n"
     ]
    },
    {
     "name": "stderr",
     "output_type": "stream",
     "text": [
      "2017-08-11 08:07:09,018 root     DEBUG    Crawling Interpark domastic schedule site\n"
     ]
    },
    {
     "name": "stdout",
     "output_type": "stream",
     "text": [
      "End Simple crawling\n",
      "Start Simple crawling :  http://domair.interpark.com/api/booking/airJourney.do\n",
      ">> Parameters\n",
      "tripDivi:0 , adt:1 , chd:0 , format:json , arr:CJU , inf:0 , airlineCode:7C , dep:GMP , depDate:20171005 , \n"
     ]
    },
    {
     "name": "stderr",
     "output_type": "stream",
     "text": [
      "2017-08-11 08:07:10,099 root     DEBUG    Crawling Interpark domastic schedule site\n",
      "2017-08-11 08:07:10,238 root     DEBUG    Crawling Interpark domastic schedule site\n"
     ]
    },
    {
     "name": "stdout",
     "output_type": "stream",
     "text": [
      "End Simple crawling\n",
      "Start Simple crawling :  http://domair.interpark.com/api/booking/airJourney.do\n",
      ">> Parameters\n",
      "tripDivi:0 , adt:1 , chd:0 , format:json , arr:CJU , inf:0 , airlineCode:LJ , dep:GMP , depDate:20171005 , \n",
      "End Simple crawling\n",
      "Start Simple crawling :  http://domair.interpark.com/api/booking/airJourney.do\n",
      ">> Parameters\n",
      "tripDivi:0 , adt:1 , chd:0 , format:json , arr:CJU , inf:0 , airlineCode:TW , dep:GMP , depDate:20171005 , \n"
     ]
    },
    {
     "name": "stderr",
     "output_type": "stream",
     "text": [
      "2017-08-11 08:07:10,657 root     DEBUG    Crawling Interpark domastic schedule site\n"
     ]
    },
    {
     "name": "stdout",
     "output_type": "stream",
     "text": [
      "End Simple crawling\n",
      "Start Simple crawling :  http://domair.interpark.com/api/booking/airJourney.do\n",
      ">> Parameters\n",
      "tripDivi:0 , adt:1 , chd:0 , format:json , arr:CJU , inf:0 , airlineCode:ZE , dep:GMP , depDate:20171005 , \n"
     ]
    },
    {
     "name": "stderr",
     "output_type": "stream",
     "text": [
      "2017-08-11 08:07:11,786 root     DEBUG    Crawling Interpark domastic schedule site\n"
     ]
    },
    {
     "name": "stdout",
     "output_type": "stream",
     "text": [
      "End Simple crawling\n",
      "Start Simple crawling :  http://domair.interpark.com/api/booking/airJourney.do\n",
      ">> Parameters\n",
      "tripDivi:0 , adt:1 , chd:0 , format:json , arr:CJU , inf:0 , airlineCode:7C , dep:GMP , depDate:20171006 , \n"
     ]
    },
    {
     "name": "stderr",
     "output_type": "stream",
     "text": [
      "2017-08-11 08:07:13,174 root     DEBUG    Crawling Interpark domastic schedule site\n",
      "2017-08-11 08:07:13,306 root     DEBUG    Crawling Interpark domastic schedule site\n"
     ]
    },
    {
     "name": "stdout",
     "output_type": "stream",
     "text": [
      "End Simple crawling\n",
      "Start Simple crawling :  http://domair.interpark.com/api/booking/airJourney.do\n",
      ">> Parameters\n",
      "tripDivi:0 , adt:1 , chd:0 , format:json , arr:CJU , inf:0 , airlineCode:LJ , dep:GMP , depDate:20171006 , \n",
      "End Simple crawling\n",
      "Start Simple crawling :  http://domair.interpark.com/api/booking/airJourney.do\n",
      ">> Parameters\n",
      "tripDivi:0 , adt:1 , chd:0 , format:json , arr:CJU , inf:0 , airlineCode:TW , dep:GMP , depDate:20171006 , \n"
     ]
    },
    {
     "name": "stderr",
     "output_type": "stream",
     "text": [
      "2017-08-11 08:07:13,659 root     DEBUG    Crawling Interpark domastic schedule site\n"
     ]
    },
    {
     "name": "stdout",
     "output_type": "stream",
     "text": [
      "End Simple crawling\n",
      "Start Simple crawling :  http://domair.interpark.com/api/booking/airJourney.do\n",
      ">> Parameters\n",
      "tripDivi:0 , adt:1 , chd:0 , format:json , arr:CJU , inf:0 , airlineCode:ZE , dep:GMP , depDate:20171006 , \n"
     ]
    },
    {
     "name": "stderr",
     "output_type": "stream",
     "text": [
      "2017-08-11 08:07:14,771 root     DEBUG    Crawling Interpark domastic schedule site\n"
     ]
    },
    {
     "name": "stdout",
     "output_type": "stream",
     "text": [
      "End Simple crawling\n",
      "Start Simple crawling :  http://domair.interpark.com/api/booking/airJourney.do\n",
      ">> Parameters\n",
      "tripDivi:0 , adt:1 , chd:0 , format:json , arr:CJU , inf:0 , airlineCode:7C , dep:GMP , depDate:20171007 , \n"
     ]
    },
    {
     "name": "stderr",
     "output_type": "stream",
     "text": [
      "2017-08-11 08:07:16,489 root     DEBUG    Crawling Interpark domastic schedule site\n",
      "2017-08-11 08:07:16,621 root     DEBUG    Crawling Interpark domastic schedule site\n"
     ]
    },
    {
     "name": "stdout",
     "output_type": "stream",
     "text": [
      "End Simple crawling\n",
      "Start Simple crawling :  http://domair.interpark.com/api/booking/airJourney.do\n",
      ">> Parameters\n",
      "tripDivi:0 , adt:1 , chd:0 , format:json , arr:CJU , inf:0 , airlineCode:LJ , dep:GMP , depDate:20171007 , \n",
      "End Simple crawling\n",
      "Start Simple crawling :  http://domair.interpark.com/api/booking/airJourney.do\n",
      ">> Parameters\n",
      "tripDivi:0 , adt:1 , chd:0 , format:json , arr:CJU , inf:0 , airlineCode:TW , dep:GMP , depDate:20171007 , \n"
     ]
    },
    {
     "name": "stderr",
     "output_type": "stream",
     "text": [
      "2017-08-11 08:07:17,027 root     DEBUG    Crawling Interpark domastic schedule site\n"
     ]
    },
    {
     "name": "stdout",
     "output_type": "stream",
     "text": [
      "End Simple crawling\n",
      "Start Simple crawling :  http://domair.interpark.com/api/booking/airJourney.do\n",
      ">> Parameters\n",
      "tripDivi:0 , adt:1 , chd:0 , format:json , arr:CJU , inf:0 , airlineCode:ZE , dep:GMP , depDate:20171007 , \n"
     ]
    },
    {
     "name": "stderr",
     "output_type": "stream",
     "text": [
      "2017-08-11 08:07:18,203 root     DEBUG    Crawling Interpark domastic schedule site\n"
     ]
    },
    {
     "name": "stdout",
     "output_type": "stream",
     "text": [
      "End Simple crawling\n",
      "Start Simple crawling :  http://domair.interpark.com/api/booking/airJourney.do\n",
      ">> Parameters\n",
      "tripDivi:0 , adt:1 , chd:0 , format:json , arr:CJU , inf:0 , airlineCode:7C , dep:GMP , depDate:20171008 , \n"
     ]
    },
    {
     "name": "stderr",
     "output_type": "stream",
     "text": [
      "2017-08-11 08:07:20,784 root     DEBUG    Crawling Interpark domastic schedule site\n",
      "2017-08-11 08:07:20,939 root     DEBUG    Crawling Interpark domastic schedule site\n"
     ]
    },
    {
     "name": "stdout",
     "output_type": "stream",
     "text": [
      "End Simple crawling\n",
      "Start Simple crawling :  http://domair.interpark.com/api/booking/airJourney.do\n",
      ">> Parameters\n",
      "tripDivi:0 , adt:1 , chd:0 , format:json , arr:CJU , inf:0 , airlineCode:LJ , dep:GMP , depDate:20171008 , \n",
      "End Simple crawling\n",
      "Start Simple crawling :  http://domair.interpark.com/api/booking/airJourney.do\n",
      ">> Parameters\n",
      "tripDivi:0 , adt:1 , chd:0 , format:json , arr:CJU , inf:0 , airlineCode:TW , dep:GMP , depDate:20171008 , \n"
     ]
    },
    {
     "name": "stderr",
     "output_type": "stream",
     "text": [
      "2017-08-11 08:07:21,341 root     DEBUG    Crawling Interpark domastic schedule site\n"
     ]
    },
    {
     "name": "stdout",
     "output_type": "stream",
     "text": [
      "End Simple crawling\n",
      "Start Simple crawling :  http://domair.interpark.com/api/booking/airJourney.do\n",
      ">> Parameters\n",
      "tripDivi:0 , adt:1 , chd:0 , format:json , arr:CJU , inf:0 , airlineCode:ZE , dep:GMP , depDate:20171008 , \n"
     ]
    },
    {
     "name": "stderr",
     "output_type": "stream",
     "text": [
      "2017-08-11 08:07:22,486 root     DEBUG    Crawling Interpark domastic schedule site\n"
     ]
    },
    {
     "name": "stdout",
     "output_type": "stream",
     "text": [
      "End Simple crawling\n",
      "Start Simple crawling :  http://domair.interpark.com/api/booking/airJourney.do\n",
      ">> Parameters\n",
      "tripDivi:0 , adt:1 , chd:0 , format:json , arr:CJU , inf:0 , airlineCode:7C , dep:GMP , depDate:20171009 , \n"
     ]
    },
    {
     "name": "stderr",
     "output_type": "stream",
     "text": [
      "2017-08-11 08:07:24,163 root     DEBUG    Crawling Interpark domastic schedule site\n",
      "2017-08-11 08:07:24,306 root     DEBUG    Crawling Interpark domastic schedule site\n"
     ]
    },
    {
     "name": "stdout",
     "output_type": "stream",
     "text": [
      "End Simple crawling\n",
      "Start Simple crawling :  http://domair.interpark.com/api/booking/airJourney.do\n",
      ">> Parameters\n",
      "tripDivi:0 , adt:1 , chd:0 , format:json , arr:CJU , inf:0 , airlineCode:LJ , dep:GMP , depDate:20171009 , \n",
      "End Simple crawling\n",
      "Start Simple crawling :  http://domair.interpark.com/api/booking/airJourney.do\n",
      ">> Parameters\n",
      "tripDivi:0 , adt:1 , chd:0 , format:json , arr:CJU , inf:0 , airlineCode:TW , dep:GMP , depDate:20171009 , \n"
     ]
    },
    {
     "name": "stderr",
     "output_type": "stream",
     "text": [
      "2017-08-11 08:07:24,677 root     DEBUG    Crawling Interpark domastic schedule site\n"
     ]
    },
    {
     "name": "stdout",
     "output_type": "stream",
     "text": [
      "End Simple crawling\n",
      "Start Simple crawling :  http://domair.interpark.com/api/booking/airJourney.do\n",
      ">> Parameters\n",
      "tripDivi:0 , adt:1 , chd:0 , format:json , arr:CJU , inf:0 , airlineCode:ZE , dep:GMP , depDate:20171009 , \n"
     ]
    },
    {
     "name": "stderr",
     "output_type": "stream",
     "text": [
      "2017-08-11 08:07:25,953 root     DEBUG    Crawling Interpark domastic schedule site\n"
     ]
    },
    {
     "name": "stdout",
     "output_type": "stream",
     "text": [
      "End Simple crawling\n",
      "Start Simple crawling :  http://domair.interpark.com/api/booking/airJourney.do\n",
      ">> Parameters\n",
      "tripDivi:0 , adt:1 , chd:0 , format:json , arr:CJU , inf:0 , airlineCode:7C , dep:GMP , depDate:20171010 , \n"
     ]
    },
    {
     "name": "stderr",
     "output_type": "stream",
     "text": [
      "2017-08-11 08:07:27,549 root     DEBUG    Crawling Interpark domastic schedule site\n",
      "2017-08-11 08:07:27,704 root     DEBUG    Crawling Interpark domastic schedule site\n"
     ]
    },
    {
     "name": "stdout",
     "output_type": "stream",
     "text": [
      "End Simple crawling\n",
      "Start Simple crawling :  http://domair.interpark.com/api/booking/airJourney.do\n",
      ">> Parameters\n",
      "tripDivi:0 , adt:1 , chd:0 , format:json , arr:CJU , inf:0 , airlineCode:LJ , dep:GMP , depDate:20171010 , \n",
      "End Simple crawling\n",
      "Start Simple crawling :  http://domair.interpark.com/api/booking/airJourney.do\n",
      ">> Parameters\n",
      "tripDivi:0 , adt:1 , chd:0 , format:json , arr:CJU , inf:0 , airlineCode:TW , dep:GMP , depDate:20171010 , \n"
     ]
    },
    {
     "name": "stderr",
     "output_type": "stream",
     "text": [
      "2017-08-11 08:07:28,131 root     DEBUG    Crawling Interpark domastic schedule site\n"
     ]
    },
    {
     "name": "stdout",
     "output_type": "stream",
     "text": [
      "End Simple crawling\n",
      "Start Simple crawling :  http://domair.interpark.com/api/booking/airJourney.do\n",
      ">> Parameters\n",
      "tripDivi:0 , adt:1 , chd:0 , format:json , arr:CJU , inf:0 , airlineCode:ZE , dep:GMP , depDate:20171010 , \n"
     ]
    },
    {
     "name": "stderr",
     "output_type": "stream",
     "text": [
      "2017-08-11 08:07:29,322 root     INFO     end batch job :: craw_by_route_site :: elapsed -0:04:00.143735 :: Total crawl:240 files saved.\n",
      "2017-08-11 08:07:29,324 root     INFO     start batch job :: craw_by_route_site[ICN,NRT,IP,['20170812', '20170813', '20170814', '20170815', '20170816', '20170817', '20170818', '20170819', '20170820', '20170821', '20170822', '20170823', '20170824', '20170825', '20170826', '20170827', '20170828', '20170829', '20170830', '20170831', '20170901', '20170902', '20170903', '20170904', '20170905', '20170906', '20170907', '20170908', '20170909', '20170910', '20170911', '20170912', '20170913', '20170914', '20170915', '20170916', '20170917', '20170918', '20170919', '20170920', '20170921', '20170922', '20170923', '20170924', '20170925', '20170926', '20170927', '20170928', '20170929', '20170930', '20171001', '20171002', '20171003', '20171004', '20171005', '20171006', '20171007', '20171008', '20171009', '20171010'],['7C', 'LJ', 'TW', 'ZE']]\n",
      "2017-08-11 08:07:29,327 root     DEBUG    1 :: IP :: crawling_IP_int :: False\n",
      "2017-08-11 08:07:29,329 root     INFO     <function crawling_IP_int at 0x0000000007C787B8> :: False\n",
      "2017-08-11 08:07:29,332 root     DEBUG    Crawling Interpark domastic schedule site\n"
     ]
    },
    {
     "name": "stdout",
     "output_type": "stream",
     "text": [
      "End Simple crawling\n",
      "Start Simple crawling :  http://smartair.interpark.com/HtmlSearch/GetGoodsSmartList.aspx\n",
      ">> Parameters\n",
      "StayLength: , Soto:N , dep0:ICN , BEST:Y , chd:0 , inf:0 , SeatType:A , SplitNo:100 , arr0:NRT , FLEX:N , ptype:I , enc:u , depdate0:20170812 , adt:1 , trip:OW , JSON:Y , comp:Y , AirLine:7C , Change: , SeatAvail:Y , \n"
     ]
    },
    {
     "name": "stderr",
     "output_type": "stream",
     "text": [
      "2017-08-11 08:07:30,641 root     DEBUG    Crawling Interpark domastic schedule site\n",
      "2017-08-11 08:07:30,751 root     DEBUG    Crawling Interpark domastic schedule site\n",
      "2017-08-11 08:07:30,827 root     DEBUG    Crawling Interpark domastic schedule site\n"
     ]
    },
    {
     "name": "stdout",
     "output_type": "stream",
     "text": [
      "End Simple crawling\n",
      "Start Simple crawling :  http://smartair.interpark.com/HtmlSearch/GetGoodsSmartList.aspx\n",
      ">> Parameters\n",
      "StayLength: , Soto:N , dep0:ICN , BEST:Y , chd:0 , inf:0 , SeatType:A , SplitNo:100 , arr0:NRT , FLEX:N , ptype:I , enc:u , depdate0:20170812 , adt:1 , trip:OW , JSON:Y , comp:Y , AirLine:LJ , Change: , SeatAvail:Y , \n",
      "End Simple crawling\n",
      "Start Simple crawling :  http://smartair.interpark.com/HtmlSearch/GetGoodsSmartList.aspx\n",
      ">> Parameters\n",
      "StayLength: , Soto:N , dep0:ICN , BEST:Y , chd:0 , inf:0 , SeatType:A , SplitNo:100 , arr0:NRT , FLEX:N , ptype:I , enc:u , depdate0:20170812 , adt:1 , trip:OW , JSON:Y , comp:Y , AirLine:TW , Change: , SeatAvail:Y , \n",
      "End Simple crawling\n",
      "Start Simple crawling :  http://smartair.interpark.com/HtmlSearch/GetGoodsSmartList.aspx\n",
      ">> Parameters\n",
      "StayLength: , Soto:N , dep0:ICN , BEST:Y , chd:0 , inf:0 , SeatType:A , SplitNo:100 , "
     ]
    },
    {
     "name": "stderr",
     "output_type": "stream",
     "text": [
      "2017-08-11 08:07:33,107 root     DEBUG    Crawling Interpark domastic schedule site\n"
     ]
    },
    {
     "name": "stdout",
     "output_type": "stream",
     "text": [
      "arr0:NRT , FLEX:N , ptype:I , enc:u , depdate0:20170812 , adt:1 , trip:OW , JSON:Y , comp:Y , AirLine:ZE , Change: , SeatAvail:Y , \n",
      "End Simple crawling\n",
      "Start Simple crawling :  http://smartair.interpark.com/HtmlSearch/GetGoodsSmartList.aspx\n",
      ">> Parameters\n",
      "StayLength: , Soto:N , dep0:ICN , BEST:Y , chd:0 , inf:0 , SeatType:A , SplitNo:100 , arr0:NRT , FLEX:N , ptype:I , enc:u , depdate0:20170813 , adt:1 , trip:OW , JSON:Y , comp:Y , AirLine:7C , Change: , SeatAvail:Y , \n"
     ]
    },
    {
     "name": "stderr",
     "output_type": "stream",
     "text": [
      "2017-08-11 08:07:33,740 root     DEBUG    Crawling Interpark domastic schedule site\n"
     ]
    },
    {
     "name": "stdout",
     "output_type": "stream",
     "text": [
      "End Simple crawling\n",
      "Start Simple crawling :  http://smartair.interpark.com/HtmlSearch/GetGoodsSmartList.aspx\n",
      ">> Parameters\n",
      "StayLength: , Soto:N , dep0:ICN , BEST:Y , chd:0 , inf:0 , SeatType:A , SplitNo:100 , arr0:NRT , FLEX:N , ptype:I , enc:u , depdate0:20170813 , adt:1 , trip:OW , JSON:Y , comp:Y , AirLine:LJ , Change: , SeatAvail:Y , \n"
     ]
    },
    {
     "name": "stderr",
     "output_type": "stream",
     "text": [
      "2017-08-11 08:07:36,163 root     DEBUG    Crawling Interpark domastic schedule site\n",
      "2017-08-11 08:07:36,245 root     DEBUG    Crawling Interpark domastic schedule site\n"
     ]
    },
    {
     "name": "stdout",
     "output_type": "stream",
     "text": [
      "End Simple crawling\n",
      "Start Simple crawling :  http://smartair.interpark.com/HtmlSearch/GetGoodsSmartList.aspx\n",
      ">> Parameters\n",
      "StayLength: , Soto:N , dep0:ICN , BEST:Y , chd:0 , inf:0 , SeatType:A , SplitNo:100 , arr0:NRT , FLEX:N , ptype:I , enc:u , depdate0:20170813 , adt:1 , trip:OW , JSON:Y , comp:Y , AirLine:TW , Change: , SeatAvail:Y , \n",
      "End Simple crawling\n",
      "Start Simple crawling :  http://smartair.interpark.com/HtmlSearch/GetGoodsSmartList.aspx\n",
      ">> Parameters\n",
      "StayLength: , Soto:N , dep0:ICN , BEST:Y , chd:0 , inf:0 , SeatType:A , SplitNo:100 , arr0:NRT , FLEX:N , ptype:I , enc:u , depdate0:20170813 , adt:1 , trip:OW , JSON:Y , comp:Y , AirLine:ZE , Change: , SeatAvail:Y , \n"
     ]
    },
    {
     "name": "stderr",
     "output_type": "stream",
     "text": [
      "2017-08-11 08:07:38,392 root     DEBUG    Crawling Interpark domastic schedule site\n"
     ]
    },
    {
     "name": "stdout",
     "output_type": "stream",
     "text": [
      "End Simple crawling\n",
      "Start Simple crawling :  http://smartair.interpark.com/HtmlSearch/GetGoodsSmartList.aspx\n",
      ">> Parameters\n",
      "StayLength: , Soto:N , dep0:ICN , BEST:Y , chd:0 , inf:0 , SeatType:A , SplitNo:100 , arr0:NRT , FLEX:N , ptype:I , enc:u , depdate0:20170814 , adt:1 , trip:OW , JSON:Y , comp:Y , AirLine:7C , Change: , SeatAvail:Y , \n"
     ]
    },
    {
     "name": "stderr",
     "output_type": "stream",
     "text": [
      "2017-08-11 08:07:39,028 root     DEBUG    Crawling Interpark domastic schedule site\n"
     ]
    },
    {
     "name": "stdout",
     "output_type": "stream",
     "text": [
      "End Simple crawling\n",
      "Start Simple crawling :  http://smartair.interpark.com/HtmlSearch/GetGoodsSmartList.aspx\n",
      ">> Parameters\n",
      "StayLength: , Soto:N , dep0:ICN , BEST:Y , chd:0 , inf:0 , SeatType:A , SplitNo:100 , arr0:NRT , FLEX:N , ptype:I , enc:u , depdate0:20170814 , adt:1 , trip:OW , JSON:Y , comp:Y , AirLine:LJ , Change: , SeatAvail:Y , \n"
     ]
    },
    {
     "name": "stderr",
     "output_type": "stream",
     "text": [
      "2017-08-11 08:07:41,105 root     DEBUG    Crawling Interpark domastic schedule site\n"
     ]
    },
    {
     "name": "stdout",
     "output_type": "stream",
     "text": [
      "End Simple crawling\n",
      "Start Simple crawling :  http://smartair.interpark.com/HtmlSearch/GetGoodsSmartList.aspx\n",
      ">> Parameters\n",
      "StayLength: , Soto:N , dep0:ICN , BEST:Y , chd:0 , inf:0 , SeatType:A , SplitNo:100 , arr0:NRT , FLEX:N , ptype:I , enc:u , depdate0:20170814 , adt:1 , trip:OW , JSON:Y , comp:Y , AirLine:TW , Change: , SeatAvail:Y , \n"
     ]
    },
    {
     "name": "stderr",
     "output_type": "stream",
     "text": [
      "2017-08-11 08:07:43,422 root     DEBUG    Crawling Interpark domastic schedule site\n"
     ]
    },
    {
     "name": "stdout",
     "output_type": "stream",
     "text": [
      "End Simple crawling\n",
      "Start Simple crawling :  http://smartair.interpark.com/HtmlSearch/GetGoodsSmartList.aspx\n",
      ">> Parameters\n",
      "StayLength: , Soto:N , dep0:ICN , BEST:Y , chd:0 , inf:0 , SeatType:A , SplitNo:100 , arr0:NRT , FLEX:N , ptype:I , enc:u , depdate0:20170814 , adt:1 , trip:OW , JSON:Y , comp:Y , AirLine:ZE , Change: , SeatAvail:Y , \n"
     ]
    },
    {
     "name": "stderr",
     "output_type": "stream",
     "text": [
      "2017-08-11 08:07:45,717 root     DEBUG    Crawling Interpark domastic schedule site\n"
     ]
    },
    {
     "name": "stdout",
     "output_type": "stream",
     "text": [
      "End Simple crawling\n",
      "Start Simple crawling :  http://smartair.interpark.com/HtmlSearch/GetGoodsSmartList.aspx\n",
      ">> Parameters\n",
      "StayLength: , Soto:N , dep0:ICN , BEST:Y , chd:0 , inf:0 , SeatType:A , SplitNo:100 , arr0:NRT , FLEX:N , ptype:I , enc:u , depdate0:20170815 , adt:1 , trip:OW , JSON:Y , comp:Y , AirLine:7C , Change: , SeatAvail:Y , \n"
     ]
    },
    {
     "name": "stderr",
     "output_type": "stream",
     "text": [
      "2017-08-11 08:07:46,805 root     DEBUG    Crawling Interpark domastic schedule site\n"
     ]
    },
    {
     "name": "stdout",
     "output_type": "stream",
     "text": [
      "End Simple crawling\n",
      "Start Simple crawling :  http://smartair.interpark.com/HtmlSearch/GetGoodsSmartList.aspx\n",
      ">> Parameters\n",
      "StayLength: , Soto:N , dep0:ICN , BEST:Y , chd:0 , inf:0 , SeatType:A , SplitNo:100 , arr0:NRT , FLEX:N , ptype:I , enc:u , depdate0:20170815 , adt:1 , trip:OW , JSON:Y , comp:Y , AirLine:LJ , Change: , SeatAvail:Y , \n"
     ]
    },
    {
     "name": "stderr",
     "output_type": "stream",
     "text": [
      "2017-08-11 08:07:48,977 root     DEBUG    Crawling Interpark domastic schedule site\n"
     ]
    },
    {
     "name": "stdout",
     "output_type": "stream",
     "text": [
      "End Simple crawling\n",
      "Start Simple crawling :  http://smartair.interpark.com/HtmlSearch/GetGoodsSmartList.aspx\n",
      ">> Parameters\n",
      "StayLength: , Soto:N , dep0:ICN , BEST:Y , chd:0 , inf:0 , SeatType:A , SplitNo:100 , arr0:NRT , FLEX:N , ptype:I , enc:u , depdate0:20170815 , adt:1 , trip:OW , JSON:Y , comp:Y , AirLine:TW , Change: , SeatAvail:Y , \n"
     ]
    },
    {
     "name": "stderr",
     "output_type": "stream",
     "text": [
      "2017-08-11 08:07:51,083 root     DEBUG    Crawling Interpark domastic schedule site\n"
     ]
    },
    {
     "name": "stdout",
     "output_type": "stream",
     "text": [
      "End Simple crawling\n",
      "Start Simple crawling :  http://smartair.interpark.com/HtmlSearch/GetGoodsSmartList.aspx\n",
      ">> Parameters\n",
      "StayLength: , Soto:N , dep0:ICN , BEST:Y , chd:0 , inf:0 , SeatType:A , SplitNo:100 , arr0:NRT , FLEX:N , ptype:I , enc:u , depdate0:20170815 , adt:1 , trip:OW , JSON:Y , comp:Y , AirLine:ZE , Change: , SeatAvail:Y , \n"
     ]
    },
    {
     "name": "stderr",
     "output_type": "stream",
     "text": [
      "2017-08-11 08:07:53,132 root     DEBUG    Crawling Interpark domastic schedule site\n"
     ]
    },
    {
     "name": "stdout",
     "output_type": "stream",
     "text": [
      "End Simple crawling\n",
      "Start Simple crawling :  http://smartair.interpark.com/HtmlSearch/GetGoodsSmartList.aspx\n",
      ">> Parameters\n",
      "StayLength: , Soto:N , dep0:ICN , BEST:Y , chd:0 , inf:0 , SeatType:A , SplitNo:100 , arr0:NRT , FLEX:N , ptype:I , enc:u , depdate0:20170816 , adt:1 , trip:OW , JSON:Y , comp:Y , AirLine:7C , Change: , SeatAvail:Y , \n"
     ]
    },
    {
     "name": "stderr",
     "output_type": "stream",
     "text": [
      "2017-08-11 08:07:53,768 root     DEBUG    Crawling Interpark domastic schedule site\n"
     ]
    },
    {
     "name": "stdout",
     "output_type": "stream",
     "text": [
      "End Simple crawling\n",
      "Start Simple crawling :  http://smartair.interpark.com/HtmlSearch/GetGoodsSmartList.aspx\n",
      ">> Parameters\n",
      "StayLength: , Soto:N , dep0:ICN , BEST:Y , chd:0 , inf:0 , SeatType:A , SplitNo:100 , arr0:NRT , FLEX:N , ptype:I , enc:u , depdate0:20170816 , adt:1 , trip:OW , JSON:Y , comp:Y , AirLine:LJ , Change: , SeatAvail:Y , \n"
     ]
    },
    {
     "name": "stderr",
     "output_type": "stream",
     "text": [
      "2017-08-11 08:07:56,044 root     DEBUG    Crawling Interpark domastic schedule site\n"
     ]
    },
    {
     "name": "stdout",
     "output_type": "stream",
     "text": [
      "End Simple crawling\n",
      "Start Simple crawling :  http://smartair.interpark.com/HtmlSearch/GetGoodsSmartList.aspx\n",
      ">> Parameters\n",
      "StayLength: , Soto:N , dep0:ICN , BEST:Y , chd:0 , inf:0 , SeatType:A , SplitNo:100 , arr0:NRT , FLEX:N , ptype:I , enc:u , depdate0:20170816 , adt:1 , trip:OW , JSON:Y , comp:Y , AirLine:TW , Change: , SeatAvail:Y , \n"
     ]
    },
    {
     "name": "stderr",
     "output_type": "stream",
     "text": [
      "2017-08-11 08:07:58,101 root     DEBUG    Crawling Interpark domastic schedule site\n"
     ]
    },
    {
     "name": "stdout",
     "output_type": "stream",
     "text": [
      "End Simple crawling\n",
      "Start Simple crawling :  http://smartair.interpark.com/HtmlSearch/GetGoodsSmartList.aspx\n",
      ">> Parameters\n",
      "StayLength: , Soto:N , dep0:ICN , BEST:Y , chd:0 , inf:0 , SeatType:A , SplitNo:100 , arr0:NRT , FLEX:N , ptype:I , enc:u , depdate0:20170816 , adt:1 , trip:OW , JSON:Y , comp:Y , AirLine:ZE , Change: , SeatAvail:Y , \n"
     ]
    },
    {
     "name": "stderr",
     "output_type": "stream",
     "text": [
      "2017-08-11 08:08:00,211 root     DEBUG    Crawling Interpark domastic schedule site\n"
     ]
    },
    {
     "name": "stdout",
     "output_type": "stream",
     "text": [
      "End Simple crawling\n",
      "Start Simple crawling :  http://smartair.interpark.com/HtmlSearch/GetGoodsSmartList.aspx\n",
      ">> Parameters\n",
      "StayLength: , Soto:N , dep0:ICN , BEST:Y , chd:0 , inf:0 , SeatType:A , SplitNo:100 , arr0:NRT , FLEX:N , ptype:I , enc:u , depdate0:20170817 , adt:1 , trip:OW , JSON:Y , comp:Y , AirLine:7C , Change: , SeatAvail:Y , \n"
     ]
    },
    {
     "name": "stderr",
     "output_type": "stream",
     "text": [
      "2017-08-11 08:08:00,812 root     DEBUG    Crawling Interpark domastic schedule site\n"
     ]
    },
    {
     "name": "stdout",
     "output_type": "stream",
     "text": [
      "End Simple crawling\n",
      "Start Simple crawling :  http://smartair.interpark.com/HtmlSearch/GetGoodsSmartList.aspx\n",
      ">> Parameters\n",
      "StayLength: , Soto:N , dep0:ICN , BEST:Y , chd:0 , inf:0 , SeatType:A , SplitNo:100 , arr0:NRT , FLEX:N , ptype:I , enc:u , depdate0:20170817 , adt:1 , trip:OW , JSON:Y , comp:Y , AirLine:LJ , Change: , SeatAvail:Y , \n"
     ]
    },
    {
     "name": "stderr",
     "output_type": "stream",
     "text": [
      "2017-08-11 08:08:03,163 root     DEBUG    Crawling Interpark domastic schedule site\n"
     ]
    },
    {
     "name": "stdout",
     "output_type": "stream",
     "text": [
      "End Simple crawling\n",
      "Start Simple crawling :  http://smartair.interpark.com/HtmlSearch/GetGoodsSmartList.aspx\n",
      ">> Parameters\n",
      "StayLength: , Soto:N , dep0:ICN , BEST:Y , chd:0 , inf:0 , SeatType:A , SplitNo:100 , arr0:NRT , FLEX:N , ptype:I , enc:u , depdate0:20170817 , adt:1 , trip:OW , JSON:Y , comp:Y , AirLine:TW , Change: , SeatAvail:Y , \n"
     ]
    },
    {
     "name": "stderr",
     "output_type": "stream",
     "text": [
      "2017-08-11 08:08:05,255 root     DEBUG    Crawling Interpark domastic schedule site\n"
     ]
    },
    {
     "name": "stdout",
     "output_type": "stream",
     "text": [
      "End Simple crawling\n",
      "Start Simple crawling :  http://smartair.interpark.com/HtmlSearch/GetGoodsSmartList.aspx\n",
      ">> Parameters\n",
      "StayLength: , Soto:N , dep0:ICN , BEST:Y , chd:0 , inf:0 , SeatType:A , SplitNo:100 , arr0:NRT , FLEX:N , ptype:I , enc:u , depdate0:20170817 , adt:1 , trip:OW , JSON:Y , comp:Y , AirLine:ZE , Change: , SeatAvail:Y , \n"
     ]
    },
    {
     "name": "stderr",
     "output_type": "stream",
     "text": [
      "2017-08-11 08:08:07,627 root     DEBUG    Crawling Interpark domastic schedule site\n"
     ]
    },
    {
     "name": "stdout",
     "output_type": "stream",
     "text": [
      "End Simple crawling\n",
      "Start Simple crawling :  http://smartair.interpark.com/HtmlSearch/GetGoodsSmartList.aspx\n",
      ">> Parameters\n",
      "StayLength: , Soto:N , dep0:ICN , BEST:Y , chd:0 , inf:0 , SeatType:A , SplitNo:100 , arr0:NRT , FLEX:N , ptype:I , enc:u , depdate0:20170818 , adt:1 , trip:OW , JSON:Y , comp:Y , AirLine:7C , Change: , SeatAvail:Y , \n"
     ]
    },
    {
     "name": "stderr",
     "output_type": "stream",
     "text": [
      "2017-08-11 08:08:08,235 root     DEBUG    Crawling Interpark domastic schedule site\n"
     ]
    },
    {
     "name": "stdout",
     "output_type": "stream",
     "text": [
      "End Simple crawling\n",
      "Start Simple crawling :  http://smartair.interpark.com/HtmlSearch/GetGoodsSmartList.aspx\n",
      ">> Parameters\n",
      "StayLength: , Soto:N , dep0:ICN , BEST:Y , chd:0 , inf:0 , SeatType:A , SplitNo:100 , arr0:NRT , FLEX:N , ptype:I , enc:u , depdate0:20170818 , adt:1 , trip:OW , JSON:Y , comp:Y , AirLine:LJ , Change: , SeatAvail:Y , \n"
     ]
    },
    {
     "name": "stderr",
     "output_type": "stream",
     "text": [
      "2017-08-11 08:08:10,339 root     DEBUG    Crawling Interpark domastic schedule site\n"
     ]
    },
    {
     "name": "stdout",
     "output_type": "stream",
     "text": [
      "End Simple crawling\n",
      "Start Simple crawling :  http://smartair.interpark.com/HtmlSearch/GetGoodsSmartList.aspx\n",
      ">> Parameters\n",
      "StayLength: , Soto:N , dep0:ICN , BEST:Y , chd:0 , inf:0 , SeatType:A , SplitNo:100 , arr0:NRT , FLEX:N , ptype:I , enc:u , depdate0:20170818 , adt:1 , trip:OW , JSON:Y , comp:Y , AirLine:TW , Change: , SeatAvail:Y , \n"
     ]
    },
    {
     "name": "stderr",
     "output_type": "stream",
     "text": [
      "2017-08-11 08:08:12,459 root     DEBUG    Crawling Interpark domastic schedule site\n"
     ]
    },
    {
     "name": "stdout",
     "output_type": "stream",
     "text": [
      "End Simple crawling\n",
      "Start Simple crawling :  http://smartair.interpark.com/HtmlSearch/GetGoodsSmartList.aspx\n",
      ">> Parameters\n",
      "StayLength: , Soto:N , dep0:ICN , BEST:Y , chd:0 , inf:0 , SeatType:A , SplitNo:100 , arr0:NRT , FLEX:N , ptype:I , enc:u , depdate0:20170818 , adt:1 , trip:OW , JSON:Y , comp:Y , AirLine:ZE , Change: , SeatAvail:Y , \n"
     ]
    },
    {
     "name": "stderr",
     "output_type": "stream",
     "text": [
      "2017-08-11 08:08:14,608 root     DEBUG    Crawling Interpark domastic schedule site\n"
     ]
    },
    {
     "name": "stdout",
     "output_type": "stream",
     "text": [
      "End Simple crawling\n",
      "Start Simple crawling :  http://smartair.interpark.com/HtmlSearch/GetGoodsSmartList.aspx\n",
      ">> Parameters\n",
      "StayLength: , Soto:N , dep0:ICN , BEST:Y , chd:0 , inf:0 , SeatType:A , SplitNo:100 , arr0:NRT , FLEX:N , ptype:I , enc:u , depdate0:20170819 , adt:1 , trip:OW , JSON:Y , comp:Y , AirLine:7C , Change: , SeatAvail:Y , \n"
     ]
    },
    {
     "name": "stderr",
     "output_type": "stream",
     "text": [
      "2017-08-11 08:08:15,532 root     DEBUG    Crawling Interpark domastic schedule site\n"
     ]
    },
    {
     "name": "stdout",
     "output_type": "stream",
     "text": [
      "End Simple crawling\n",
      "Start Simple crawling :  http://smartair.interpark.com/HtmlSearch/GetGoodsSmartList.aspx\n",
      ">> Parameters\n",
      "StayLength: , Soto:N , dep0:ICN , BEST:Y , chd:0 , inf:0 , SeatType:A , SplitNo:100 , arr0:NRT , FLEX:N , ptype:I , enc:u , depdate0:20170819 , adt:1 , trip:OW , JSON:Y , comp:Y , AirLine:LJ , Change: , SeatAvail:Y , \n"
     ]
    },
    {
     "name": "stderr",
     "output_type": "stream",
     "text": [
      "2017-08-11 08:08:18,227 root     DEBUG    Crawling Interpark domastic schedule site\n"
     ]
    },
    {
     "name": "stdout",
     "output_type": "stream",
     "text": [
      "End Simple crawling\n",
      "Start Simple crawling :  http://smartair.interpark.com/HtmlSearch/GetGoodsSmartList.aspx\n",
      ">> Parameters\n",
      "StayLength: , Soto:N , dep0:ICN , BEST:Y , chd:0 , inf:0 , SeatType:A , SplitNo:100 , arr0:NRT , FLEX:N , ptype:I , enc:u , depdate0:20170819 , adt:1 , trip:OW , JSON:Y , comp:Y , AirLine:TW , Change: , SeatAvail:Y , \n"
     ]
    },
    {
     "name": "stderr",
     "output_type": "stream",
     "text": [
      "2017-08-11 08:08:20,436 root     DEBUG    Crawling Interpark domastic schedule site\n"
     ]
    },
    {
     "name": "stdout",
     "output_type": "stream",
     "text": [
      "End Simple crawling\n",
      "Start Simple crawling :  http://smartair.interpark.com/HtmlSearch/GetGoodsSmartList.aspx\n",
      ">> Parameters\n",
      "StayLength: , Soto:N , dep0:ICN , BEST:Y , chd:0 , inf:0 , SeatType:A , SplitNo:100 , arr0:NRT , FLEX:N , ptype:I , enc:u , depdate0:20170819 , adt:1 , trip:OW , JSON:Y , comp:Y , AirLine:ZE , Change: , SeatAvail:Y , \n"
     ]
    },
    {
     "name": "stderr",
     "output_type": "stream",
     "text": [
      "2017-08-11 08:08:22,876 root     DEBUG    Crawling Interpark domastic schedule site\n"
     ]
    },
    {
     "name": "stdout",
     "output_type": "stream",
     "text": [
      "End Simple crawling\n",
      "Start Simple crawling :  http://smartair.interpark.com/HtmlSearch/GetGoodsSmartList.aspx\n",
      ">> Parameters\n",
      "StayLength: , Soto:N , dep0:ICN , BEST:Y , chd:0 , inf:0 , SeatType:A , SplitNo:100 , arr0:NRT , FLEX:N , ptype:I , enc:u , depdate0:20170820 , adt:1 , trip:OW , JSON:Y , comp:Y , AirLine:7C , Change: , SeatAvail:Y , \n"
     ]
    },
    {
     "name": "stderr",
     "output_type": "stream",
     "text": [
      "2017-08-11 08:08:23,428 root     DEBUG    Crawling Interpark domastic schedule site\n"
     ]
    },
    {
     "name": "stdout",
     "output_type": "stream",
     "text": [
      "End Simple crawling\n",
      "Start Simple crawling :  http://smartair.interpark.com/HtmlSearch/GetGoodsSmartList.aspx\n",
      ">> Parameters\n",
      "StayLength: , Soto:N , dep0:ICN , BEST:Y , chd:0 , inf:0 , SeatType:A , SplitNo:100 , arr0:NRT , FLEX:N , ptype:I , enc:u , depdate0:20170820 , adt:1 , trip:OW , JSON:Y , comp:Y , AirLine:LJ , Change: , SeatAvail:Y , \n"
     ]
    },
    {
     "name": "stderr",
     "output_type": "stream",
     "text": [
      "2017-08-11 08:08:25,530 root     DEBUG    Crawling Interpark domastic schedule site\n"
     ]
    },
    {
     "name": "stdout",
     "output_type": "stream",
     "text": [
      "End Simple crawling\n",
      "Start Simple crawling :  http://smartair.interpark.com/HtmlSearch/GetGoodsSmartList.aspx\n",
      ">> Parameters\n",
      "StayLength: , Soto:N , dep0:ICN , BEST:Y , chd:0 , inf:0 , SeatType:A , SplitNo:100 , arr0:NRT , FLEX:N , ptype:I , enc:u , depdate0:20170820 , adt:1 , trip:OW , JSON:Y , comp:Y , AirLine:TW , Change: , SeatAvail:Y , \n"
     ]
    },
    {
     "name": "stderr",
     "output_type": "stream",
     "text": [
      "2017-08-11 08:08:27,805 root     DEBUG    Crawling Interpark domastic schedule site\n"
     ]
    },
    {
     "name": "stdout",
     "output_type": "stream",
     "text": [
      "End Simple crawling\n",
      "Start Simple crawling :  http://smartair.interpark.com/HtmlSearch/GetGoodsSmartList.aspx\n",
      ">> Parameters\n",
      "StayLength: , Soto:N , dep0:ICN , BEST:Y , chd:0 , inf:0 , SeatType:A , SplitNo:100 , arr0:NRT , FLEX:N , ptype:I , enc:u , depdate0:20170820 , adt:1 , trip:OW , JSON:Y , comp:Y , AirLine:ZE , Change: , SeatAvail:Y , \n"
     ]
    },
    {
     "name": "stderr",
     "output_type": "stream",
     "text": [
      "2017-08-11 08:08:30,293 root     DEBUG    Crawling Interpark domastic schedule site\n"
     ]
    },
    {
     "name": "stdout",
     "output_type": "stream",
     "text": [
      "End Simple crawling\n",
      "Start Simple crawling :  http://smartair.interpark.com/HtmlSearch/GetGoodsSmartList.aspx\n",
      ">> Parameters\n",
      "StayLength: , Soto:N , dep0:ICN , BEST:Y , chd:0 , inf:0 , SeatType:A , SplitNo:100 , arr0:NRT , FLEX:N , ptype:I , enc:u , depdate0:20170821 , adt:1 , trip:OW , JSON:Y , comp:Y , AirLine:7C , Change: , SeatAvail:Y , \n"
     ]
    },
    {
     "name": "stderr",
     "output_type": "stream",
     "text": [
      "2017-08-11 08:08:30,954 root     DEBUG    Crawling Interpark domastic schedule site\n"
     ]
    },
    {
     "name": "stdout",
     "output_type": "stream",
     "text": [
      "End Simple crawling\n",
      "Start Simple crawling :  http://smartair.interpark.com/HtmlSearch/GetGoodsSmartList.aspx\n",
      ">> Parameters\n",
      "StayLength: , Soto:N , dep0:ICN , BEST:Y , chd:0 , inf:0 , SeatType:A , SplitNo:100 , arr0:NRT , FLEX:N , ptype:I , enc:u , depdate0:20170821 , adt:1 , trip:OW , JSON:Y , comp:Y , AirLine:LJ , Change: , SeatAvail:Y , \n"
     ]
    },
    {
     "name": "stderr",
     "output_type": "stream",
     "text": [
      "2017-08-11 08:08:33,202 root     DEBUG    Crawling Interpark domastic schedule site\n"
     ]
    },
    {
     "name": "stdout",
     "output_type": "stream",
     "text": [
      "End Simple crawling\n",
      "Start Simple crawling :  http://smartair.interpark.com/HtmlSearch/GetGoodsSmartList.aspx\n",
      ">> Parameters\n",
      "StayLength: , Soto:N , dep0:ICN , BEST:Y , chd:0 , inf:0 , SeatType:A , SplitNo:100 , arr0:NRT , FLEX:N , ptype:I , enc:u , depdate0:20170821 , adt:1 , trip:OW , JSON:Y , comp:Y , AirLine:TW , Change: , SeatAvail:Y , \n"
     ]
    },
    {
     "name": "stderr",
     "output_type": "stream",
     "text": [
      "2017-08-11 08:08:35,411 root     DEBUG    Crawling Interpark domastic schedule site\n"
     ]
    },
    {
     "name": "stdout",
     "output_type": "stream",
     "text": [
      "End Simple crawling\n",
      "Start Simple crawling :  http://smartair.interpark.com/HtmlSearch/GetGoodsSmartList.aspx\n",
      ">> Parameters\n",
      "StayLength: , Soto:N , dep0:ICN , BEST:Y , chd:0 , inf:0 , SeatType:A , SplitNo:100 , arr0:NRT , FLEX:N , ptype:I , enc:u , depdate0:20170821 , adt:1 , trip:OW , JSON:Y , comp:Y , AirLine:ZE , Change: , SeatAvail:Y , \n"
     ]
    },
    {
     "name": "stderr",
     "output_type": "stream",
     "text": [
      "2017-08-11 08:08:37,913 root     DEBUG    Crawling Interpark domastic schedule site\n"
     ]
    },
    {
     "name": "stdout",
     "output_type": "stream",
     "text": [
      "End Simple crawling\n",
      "Start Simple crawling :  http://smartair.interpark.com/HtmlSearch/GetGoodsSmartList.aspx\n",
      ">> Parameters\n",
      "StayLength: , Soto:N , dep0:ICN , BEST:Y , chd:0 , inf:0 , SeatType:A , SplitNo:100 , arr0:NRT , FLEX:N , ptype:I , enc:u , depdate0:20170822 , adt:1 , trip:OW , JSON:Y , comp:Y , AirLine:7C , Change: , SeatAvail:Y , \n"
     ]
    },
    {
     "name": "stderr",
     "output_type": "stream",
     "text": [
      "2017-08-11 08:08:40,216 root     DEBUG    Crawling Interpark domastic schedule site\n"
     ]
    },
    {
     "name": "stdout",
     "output_type": "stream",
     "text": [
      "End Simple crawling\n",
      "Start Simple crawling :  http://smartair.interpark.com/HtmlSearch/GetGoodsSmartList.aspx\n",
      ">> Parameters\n",
      "StayLength: , Soto:N , dep0:ICN , BEST:Y , chd:0 , inf:0 , SeatType:A , SplitNo:100 , arr0:NRT , FLEX:N , ptype:I , enc:u , depdate0:20170822 , adt:1 , trip:OW , JSON:Y , comp:Y , AirLine:LJ , Change: , SeatAvail:Y , \n"
     ]
    },
    {
     "name": "stderr",
     "output_type": "stream",
     "text": [
      "2017-08-11 08:08:42,523 root     DEBUG    Crawling Interpark domastic schedule site\n"
     ]
    },
    {
     "name": "stdout",
     "output_type": "stream",
     "text": [
      "End Simple crawling\n",
      "Start Simple crawling :  http://smartair.interpark.com/HtmlSearch/GetGoodsSmartList.aspx\n",
      ">> Parameters\n",
      "StayLength: , Soto:N , dep0:ICN , BEST:Y , chd:0 , inf:0 , SeatType:A , SplitNo:100 , arr0:NRT , FLEX:N , ptype:I , enc:u , depdate0:20170822 , adt:1 , trip:OW , JSON:Y , comp:Y , AirLine:TW , Change: , SeatAvail:Y , \n"
     ]
    },
    {
     "name": "stderr",
     "output_type": "stream",
     "text": [
      "2017-08-11 08:08:45,349 root     DEBUG    Crawling Interpark domastic schedule site\n"
     ]
    },
    {
     "name": "stdout",
     "output_type": "stream",
     "text": [
      "End Simple crawling\n",
      "Start Simple crawling :  http://smartair.interpark.com/HtmlSearch/GetGoodsSmartList.aspx\n",
      ">> Parameters\n",
      "StayLength: , Soto:N , dep0:ICN , BEST:Y , chd:0 , inf:0 , SeatType:A , SplitNo:100 , arr0:NRT , FLEX:N , ptype:I , enc:u , depdate0:20170822 , adt:1 , trip:OW , JSON:Y , comp:Y , AirLine:ZE , Change: , SeatAvail:Y , \n"
     ]
    },
    {
     "name": "stderr",
     "output_type": "stream",
     "text": [
      "2017-08-11 08:08:47,808 root     DEBUG    Crawling Interpark domastic schedule site\n"
     ]
    },
    {
     "name": "stdout",
     "output_type": "stream",
     "text": [
      "End Simple crawling\n",
      "Start Simple crawling :  http://smartair.interpark.com/HtmlSearch/GetGoodsSmartList.aspx\n",
      ">> Parameters\n",
      "StayLength: , Soto:N , dep0:ICN , BEST:Y , chd:0 , inf:0 , SeatType:A , SplitNo:100 , arr0:NRT , FLEX:N , ptype:I , enc:u , depdate0:20170823 , adt:1 , trip:OW , JSON:Y , comp:Y , AirLine:7C , Change: , SeatAvail:Y , \n"
     ]
    },
    {
     "name": "stderr",
     "output_type": "stream",
     "text": [
      "2017-08-11 08:08:48,448 root     DEBUG    Crawling Interpark domastic schedule site\n"
     ]
    },
    {
     "name": "stdout",
     "output_type": "stream",
     "text": [
      "End Simple crawling\n",
      "Start Simple crawling :  http://smartair.interpark.com/HtmlSearch/GetGoodsSmartList.aspx\n",
      ">> Parameters\n",
      "StayLength: , Soto:N , dep0:ICN , BEST:Y , chd:0 , inf:0 , SeatType:A , SplitNo:100 , arr0:NRT , FLEX:N , ptype:I , enc:u , depdate0:20170823 , adt:1 , trip:OW , JSON:Y , comp:Y , AirLine:LJ , Change: , SeatAvail:Y , \n"
     ]
    },
    {
     "name": "stderr",
     "output_type": "stream",
     "text": [
      "2017-08-11 08:08:50,649 root     DEBUG    Crawling Interpark domastic schedule site\n"
     ]
    },
    {
     "name": "stdout",
     "output_type": "stream",
     "text": [
      "End Simple crawling\n",
      "Start Simple crawling :  http://smartair.interpark.com/HtmlSearch/GetGoodsSmartList.aspx\n",
      ">> Parameters\n",
      "StayLength: , Soto:N , dep0:ICN , BEST:Y , chd:0 , inf:0 , SeatType:A , SplitNo:100 , arr0:NRT , FLEX:N , ptype:I , enc:u , depdate0:20170823 , adt:1 , trip:OW , JSON:Y , comp:Y , AirLine:TW , Change: , SeatAvail:Y , \n"
     ]
    },
    {
     "name": "stderr",
     "output_type": "stream",
     "text": [
      "2017-08-11 08:08:53,293 root     DEBUG    Crawling Interpark domastic schedule site\n"
     ]
    },
    {
     "name": "stdout",
     "output_type": "stream",
     "text": [
      "End Simple crawling\n",
      "Start Simple crawling :  http://smartair.interpark.com/HtmlSearch/GetGoodsSmartList.aspx\n",
      ">> Parameters\n",
      "StayLength: , Soto:N , dep0:ICN , BEST:Y , chd:0 , inf:0 , SeatType:A , SplitNo:100 , arr0:NRT , FLEX:N , ptype:I , enc:u , depdate0:20170823 , adt:1 , trip:OW , JSON:Y , comp:Y , AirLine:ZE , Change: , SeatAvail:Y , \n"
     ]
    },
    {
     "name": "stderr",
     "output_type": "stream",
     "text": [
      "2017-08-11 08:08:55,860 root     DEBUG    Crawling Interpark domastic schedule site\n"
     ]
    },
    {
     "name": "stdout",
     "output_type": "stream",
     "text": [
      "End Simple crawling\n",
      "Start Simple crawling :  http://smartair.interpark.com/HtmlSearch/GetGoodsSmartList.aspx\n",
      ">> Parameters\n",
      "StayLength: , Soto:N , dep0:ICN , BEST:Y , chd:0 , inf:0 , SeatType:A , SplitNo:100 , arr0:NRT , FLEX:N , ptype:I , enc:u , depdate0:20170824 , adt:1 , trip:OW , JSON:Y , comp:Y , AirLine:7C , Change: , SeatAvail:Y , \n"
     ]
    },
    {
     "name": "stderr",
     "output_type": "stream",
     "text": [
      "2017-08-11 08:08:58,357 root     DEBUG    Crawling Interpark domastic schedule site\n"
     ]
    },
    {
     "name": "stdout",
     "output_type": "stream",
     "text": [
      "End Simple crawling\n",
      "Start Simple crawling :  http://smartair.interpark.com/HtmlSearch/GetGoodsSmartList.aspx\n",
      ">> Parameters\n",
      "StayLength: , Soto:N , dep0:ICN , BEST:Y , chd:0 , inf:0 , SeatType:A , SplitNo:100 , arr0:NRT , FLEX:N , ptype:I , enc:u , depdate0:20170824 , adt:1 , trip:OW , JSON:Y , comp:Y , AirLine:LJ , Change: , SeatAvail:Y , \n"
     ]
    },
    {
     "name": "stderr",
     "output_type": "stream",
     "text": [
      "2017-08-11 08:09:00,547 root     DEBUG    Crawling Interpark domastic schedule site\n"
     ]
    },
    {
     "name": "stdout",
     "output_type": "stream",
     "text": [
      "End Simple crawling\n",
      "Start Simple crawling :  http://smartair.interpark.com/HtmlSearch/GetGoodsSmartList.aspx\n",
      ">> Parameters\n",
      "StayLength: , Soto:N , dep0:ICN , BEST:Y , chd:0 , inf:0 , SeatType:A , SplitNo:100 , arr0:NRT , FLEX:N , ptype:I , enc:u , depdate0:20170824 , adt:1 , trip:OW , JSON:Y , comp:Y , AirLine:TW , Change: , SeatAvail:Y , \n"
     ]
    },
    {
     "name": "stderr",
     "output_type": "stream",
     "text": [
      "2017-08-11 08:09:02,906 root     DEBUG    Crawling Interpark domastic schedule site\n"
     ]
    },
    {
     "name": "stdout",
     "output_type": "stream",
     "text": [
      "End Simple crawling\n",
      "Start Simple crawling :  http://smartair.interpark.com/HtmlSearch/GetGoodsSmartList.aspx\n",
      ">> Parameters\n",
      "StayLength: , Soto:N , dep0:ICN , BEST:Y , chd:0 , inf:0 , SeatType:A , SplitNo:100 , arr0:NRT , FLEX:N , ptype:I , enc:u , depdate0:20170824 , adt:1 , trip:OW , JSON:Y , comp:Y , AirLine:ZE , Change: , SeatAvail:Y , \n"
     ]
    },
    {
     "name": "stderr",
     "output_type": "stream",
     "text": [
      "2017-08-11 08:09:05,641 root     DEBUG    Crawling Interpark domastic schedule site\n"
     ]
    },
    {
     "name": "stdout",
     "output_type": "stream",
     "text": [
      "End Simple crawling\n",
      "Start Simple crawling :  http://smartair.interpark.com/HtmlSearch/GetGoodsSmartList.aspx\n",
      ">> Parameters\n",
      "StayLength: , Soto:N , dep0:ICN , BEST:Y , chd:0 , inf:0 , SeatType:A , SplitNo:100 , arr0:NRT , FLEX:N , ptype:I , enc:u , depdate0:20170825 , adt:1 , trip:OW , JSON:Y , comp:Y , AirLine:7C , Change: , SeatAvail:Y , \n"
     ]
    },
    {
     "name": "stderr",
     "output_type": "stream",
     "text": [
      "2017-08-11 08:09:06,280 root     DEBUG    Crawling Interpark domastic schedule site\n"
     ]
    },
    {
     "name": "stdout",
     "output_type": "stream",
     "text": [
      "End Simple crawling\n",
      "Start Simple crawling :  http://smartair.interpark.com/HtmlSearch/GetGoodsSmartList.aspx\n",
      ">> Parameters\n",
      "StayLength: , Soto:N , dep0:ICN , BEST:Y , chd:0 , inf:0 , SeatType:A , SplitNo:100 , arr0:NRT , FLEX:N , ptype:I , enc:u , depdate0:20170825 , adt:1 , trip:OW , JSON:Y , comp:Y , AirLine:LJ , Change: , SeatAvail:Y , \n"
     ]
    },
    {
     "name": "stderr",
     "output_type": "stream",
     "text": [
      "2017-08-11 08:09:08,526 root     DEBUG    Crawling Interpark domastic schedule site\n"
     ]
    },
    {
     "name": "stdout",
     "output_type": "stream",
     "text": [
      "End Simple crawling\n",
      "Start Simple crawling :  http://smartair.interpark.com/HtmlSearch/GetGoodsSmartList.aspx\n",
      ">> Parameters\n",
      "StayLength: , Soto:N , dep0:ICN , BEST:Y , chd:0 , inf:0 , SeatType:A , SplitNo:100 , arr0:NRT , FLEX:N , ptype:I , enc:u , depdate0:20170825 , adt:1 , trip:OW , JSON:Y , comp:Y , AirLine:TW , Change: , SeatAvail:Y , \n"
     ]
    },
    {
     "name": "stderr",
     "output_type": "stream",
     "text": [
      "2017-08-11 08:09:10,951 root     DEBUG    Crawling Interpark domastic schedule site\n"
     ]
    },
    {
     "name": "stdout",
     "output_type": "stream",
     "text": [
      "End Simple crawling\n",
      "Start Simple crawling :  http://smartair.interpark.com/HtmlSearch/GetGoodsSmartList.aspx\n",
      ">> Parameters\n",
      "StayLength: , Soto:N , dep0:ICN , BEST:Y , chd:0 , inf:0 , SeatType:A , SplitNo:100 , arr0:NRT , FLEX:N , ptype:I , enc:u , depdate0:20170825 , adt:1 , trip:OW , JSON:Y , comp:Y , AirLine:ZE , Change: , SeatAvail:Y , \n"
     ]
    },
    {
     "name": "stderr",
     "output_type": "stream",
     "text": [
      "2017-08-11 08:09:13,311 root     DEBUG    Crawling Interpark domastic schedule site\n"
     ]
    },
    {
     "name": "stdout",
     "output_type": "stream",
     "text": [
      "End Simple crawling\n",
      "Start Simple crawling :  http://smartair.interpark.com/HtmlSearch/GetGoodsSmartList.aspx\n",
      ">> Parameters\n",
      "StayLength: , Soto:N , dep0:ICN , BEST:Y , chd:0 , inf:0 , SeatType:A , SplitNo:100 , arr0:NRT , FLEX:N , ptype:I , enc:u , depdate0:20170826 , adt:1 , trip:OW , JSON:Y , comp:Y , AirLine:7C , Change: , SeatAvail:Y , \n"
     ]
    },
    {
     "name": "stderr",
     "output_type": "stream",
     "text": [
      "2017-08-11 08:09:14,172 root     DEBUG    Crawling Interpark domastic schedule site\n"
     ]
    },
    {
     "name": "stdout",
     "output_type": "stream",
     "text": [
      "End Simple crawling\n",
      "Start Simple crawling :  http://smartair.interpark.com/HtmlSearch/GetGoodsSmartList.aspx\n",
      ">> Parameters\n",
      "StayLength: , Soto:N , dep0:ICN , BEST:Y , chd:0 , inf:0 , SeatType:A , SplitNo:100 , arr0:NRT , FLEX:N , ptype:I , enc:u , depdate0:20170826 , adt:1 , trip:OW , JSON:Y , comp:Y , AirLine:LJ , Change: , SeatAvail:Y , \n"
     ]
    },
    {
     "name": "stderr",
     "output_type": "stream",
     "text": [
      "2017-08-11 08:09:16,522 root     DEBUG    Crawling Interpark domastic schedule site\n"
     ]
    },
    {
     "name": "stdout",
     "output_type": "stream",
     "text": [
      "End Simple crawling\n",
      "Start Simple crawling :  http://smartair.interpark.com/HtmlSearch/GetGoodsSmartList.aspx\n",
      ">> Parameters\n",
      "StayLength: , Soto:N , dep0:ICN , BEST:Y , chd:0 , inf:0 , SeatType:A , SplitNo:100 , arr0:NRT , FLEX:N , ptype:I , enc:u , depdate0:20170826 , adt:1 , trip:OW , JSON:Y , comp:Y , AirLine:TW , Change: , SeatAvail:Y , \n"
     ]
    },
    {
     "name": "stderr",
     "output_type": "stream",
     "text": [
      "2017-08-11 08:09:18,800 root     DEBUG    Crawling Interpark domastic schedule site\n"
     ]
    },
    {
     "name": "stdout",
     "output_type": "stream",
     "text": [
      "End Simple crawling\n",
      "Start Simple crawling :  http://smartair.interpark.com/HtmlSearch/GetGoodsSmartList.aspx\n",
      ">> Parameters\n",
      "StayLength: , Soto:N , dep0:ICN , BEST:Y , chd:0 , inf:0 , SeatType:A , SplitNo:100 , arr0:NRT , FLEX:N , ptype:I , enc:u , depdate0:20170826 , adt:1 , trip:OW , JSON:Y , comp:Y , AirLine:ZE , Change: , SeatAvail:Y , \n"
     ]
    },
    {
     "name": "stderr",
     "output_type": "stream",
     "text": [
      "2017-08-11 08:09:21,015 root     DEBUG    Crawling Interpark domastic schedule site\n"
     ]
    },
    {
     "name": "stdout",
     "output_type": "stream",
     "text": [
      "End Simple crawling\n",
      "Start Simple crawling :  http://smartair.interpark.com/HtmlSearch/GetGoodsSmartList.aspx\n",
      ">> Parameters\n",
      "StayLength: , Soto:N , dep0:ICN , BEST:Y , chd:0 , inf:0 , SeatType:A , SplitNo:100 , arr0:NRT , FLEX:N , ptype:I , enc:u , depdate0:20170827 , adt:1 , trip:OW , JSON:Y , comp:Y , AirLine:7C , Change: , SeatAvail:Y , \n"
     ]
    },
    {
     "name": "stderr",
     "output_type": "stream",
     "text": [
      "2017-08-11 08:09:22,311 root     DEBUG    Crawling Interpark domastic schedule site\n"
     ]
    },
    {
     "name": "stdout",
     "output_type": "stream",
     "text": [
      "End Simple crawling\n",
      "Start Simple crawling :  http://smartair.interpark.com/HtmlSearch/GetGoodsSmartList.aspx\n",
      ">> Parameters\n",
      "StayLength: , Soto:N , dep0:ICN , BEST:Y , chd:0 , inf:0 , SeatType:A , SplitNo:100 , arr0:NRT , FLEX:N , ptype:I , enc:u , depdate0:20170827 , adt:1 , trip:OW , JSON:Y , comp:Y , AirLine:LJ , Change: , SeatAvail:Y , \n"
     ]
    },
    {
     "name": "stderr",
     "output_type": "stream",
     "text": [
      "2017-08-11 08:09:24,648 root     DEBUG    Crawling Interpark domastic schedule site\n"
     ]
    },
    {
     "name": "stdout",
     "output_type": "stream",
     "text": [
      "End Simple crawling\n",
      "Start Simple crawling :  http://smartair.interpark.com/HtmlSearch/GetGoodsSmartList.aspx\n",
      ">> Parameters\n",
      "StayLength: , Soto:N , dep0:ICN , BEST:Y , chd:0 , inf:0 , SeatType:A , SplitNo:100 , arr0:NRT , FLEX:N , ptype:I , enc:u , depdate0:20170827 , adt:1 , trip:OW , JSON:Y , comp:Y , AirLine:TW , Change: , SeatAvail:Y , \n"
     ]
    },
    {
     "name": "stderr",
     "output_type": "stream",
     "text": [
      "2017-08-11 08:09:26,979 root     DEBUG    Crawling Interpark domastic schedule site\n"
     ]
    },
    {
     "name": "stdout",
     "output_type": "stream",
     "text": [
      "End Simple crawling\n",
      "Start Simple crawling :  http://smartair.interpark.com/HtmlSearch/GetGoodsSmartList.aspx\n",
      ">> Parameters\n",
      "StayLength: , Soto:N , dep0:ICN , BEST:Y , chd:0 , inf:0 , SeatType:A , SplitNo:100 , arr0:NRT , FLEX:N , ptype:I , enc:u , depdate0:20170827 , adt:1 , trip:OW , JSON:Y , comp:Y , AirLine:ZE , Change: , SeatAvail:Y , \n"
     ]
    },
    {
     "name": "stderr",
     "output_type": "stream",
     "text": [
      "2017-08-11 08:09:29,296 root     DEBUG    Crawling Interpark domastic schedule site\n"
     ]
    },
    {
     "name": "stdout",
     "output_type": "stream",
     "text": [
      "End Simple crawling\n",
      "Start Simple crawling :  http://smartair.interpark.com/HtmlSearch/GetGoodsSmartList.aspx\n",
      ">> Parameters\n",
      "StayLength: , Soto:N , dep0:ICN , BEST:Y , chd:0 , inf:0 , SeatType:A , SplitNo:100 , arr0:NRT , FLEX:N , ptype:I , enc:u , depdate0:20170828 , adt:1 , trip:OW , JSON:Y , comp:Y , AirLine:7C , Change: , SeatAvail:Y , \n"
     ]
    },
    {
     "name": "stderr",
     "output_type": "stream",
     "text": [
      "2017-08-11 08:09:29,895 root     DEBUG    Crawling Interpark domastic schedule site\n"
     ]
    },
    {
     "name": "stdout",
     "output_type": "stream",
     "text": [
      "End Simple crawling\n",
      "Start Simple crawling :  http://smartair.interpark.com/HtmlSearch/GetGoodsSmartList.aspx\n",
      ">> Parameters\n",
      "StayLength: , Soto:N , dep0:ICN , BEST:Y , chd:0 , inf:0 , SeatType:A , SplitNo:100 , arr0:NRT , FLEX:N , ptype:I , enc:u , depdate0:20170828 , adt:1 , trip:OW , JSON:Y , comp:Y , AirLine:LJ , Change: , SeatAvail:Y , \n"
     ]
    },
    {
     "name": "stderr",
     "output_type": "stream",
     "text": [
      "2017-08-11 08:09:32,176 root     DEBUG    Crawling Interpark domastic schedule site\n"
     ]
    },
    {
     "name": "stdout",
     "output_type": "stream",
     "text": [
      "End Simple crawling\n",
      "Start Simple crawling :  http://smartair.interpark.com/HtmlSearch/GetGoodsSmartList.aspx\n",
      ">> Parameters\n",
      "StayLength: , Soto:N , dep0:ICN , BEST:Y , chd:0 , inf:0 , SeatType:A , SplitNo:100 , arr0:NRT , FLEX:N , ptype:I , enc:u , depdate0:20170828 , adt:1 , trip:OW , JSON:Y , comp:Y , AirLine:TW , Change: , SeatAvail:Y , \n"
     ]
    },
    {
     "name": "stderr",
     "output_type": "stream",
     "text": [
      "2017-08-11 08:09:34,364 root     DEBUG    Crawling Interpark domastic schedule site\n"
     ]
    },
    {
     "name": "stdout",
     "output_type": "stream",
     "text": [
      "End Simple crawling\n",
      "Start Simple crawling :  http://smartair.interpark.com/HtmlSearch/GetGoodsSmartList.aspx\n",
      ">> Parameters\n",
      "StayLength: , Soto:N , dep0:ICN , BEST:Y , chd:0 , inf:0 , SeatType:A , SplitNo:100 , arr0:NRT , FLEX:N , ptype:I , enc:u , depdate0:20170828 , adt:1 , trip:OW , JSON:Y , comp:Y , AirLine:ZE , Change: , SeatAvail:Y , \n"
     ]
    },
    {
     "name": "stderr",
     "output_type": "stream",
     "text": [
      "2017-08-11 08:09:36,575 root     DEBUG    Crawling Interpark domastic schedule site\n"
     ]
    },
    {
     "name": "stdout",
     "output_type": "stream",
     "text": [
      "End Simple crawling\n",
      "Start Simple crawling :  http://smartair.interpark.com/HtmlSearch/GetGoodsSmartList.aspx\n",
      ">> Parameters\n",
      "StayLength: , Soto:N , dep0:ICN , BEST:Y , chd:0 , inf:0 , SeatType:A , SplitNo:100 , arr0:NRT , FLEX:N , ptype:I , enc:u , depdate0:20170829 , adt:1 , trip:OW , JSON:Y , comp:Y , AirLine:7C , Change: , SeatAvail:Y , \n"
     ]
    },
    {
     "name": "stderr",
     "output_type": "stream",
     "text": [
      "2017-08-11 08:09:37,558 root     DEBUG    Crawling Interpark domastic schedule site\n"
     ]
    },
    {
     "name": "stdout",
     "output_type": "stream",
     "text": [
      "End Simple crawling\n",
      "Start Simple crawling :  http://smartair.interpark.com/HtmlSearch/GetGoodsSmartList.aspx\n",
      ">> Parameters\n",
      "StayLength: , Soto:N , dep0:ICN , BEST:Y , chd:0 , inf:0 , SeatType:A , SplitNo:100 , arr0:NRT , FLEX:N , ptype:I , enc:u , depdate0:20170829 , adt:1 , trip:OW , JSON:Y , comp:Y , AirLine:LJ , Change: , SeatAvail:Y , \n"
     ]
    },
    {
     "name": "stderr",
     "output_type": "stream",
     "text": [
      "2017-08-11 08:09:40,001 root     DEBUG    Crawling Interpark domastic schedule site\n"
     ]
    },
    {
     "name": "stdout",
     "output_type": "stream",
     "text": [
      "End Simple crawling\n",
      "Start Simple crawling :  http://smartair.interpark.com/HtmlSearch/GetGoodsSmartList.aspx\n",
      ">> Parameters\n",
      "StayLength: , Soto:N , dep0:ICN , BEST:Y , chd:0 , inf:0 , SeatType:A , SplitNo:100 , arr0:NRT , FLEX:N , ptype:I , enc:u , depdate0:20170829 , adt:1 , trip:OW , JSON:Y , comp:Y , AirLine:TW , Change: , SeatAvail:Y , \n"
     ]
    },
    {
     "name": "stderr",
     "output_type": "stream",
     "text": [
      "2017-08-11 08:09:42,556 root     DEBUG    Crawling Interpark domastic schedule site\n"
     ]
    },
    {
     "name": "stdout",
     "output_type": "stream",
     "text": [
      "End Simple crawling\n",
      "Start Simple crawling :  http://smartair.interpark.com/HtmlSearch/GetGoodsSmartList.aspx\n",
      ">> Parameters\n",
      "StayLength: , Soto:N , dep0:ICN , BEST:Y , chd:0 , inf:0 , SeatType:A , SplitNo:100 , arr0:NRT , FLEX:N , ptype:I , enc:u , depdate0:20170829 , adt:1 , trip:OW , JSON:Y , comp:Y , AirLine:ZE , Change: , SeatAvail:Y , \n"
     ]
    },
    {
     "name": "stderr",
     "output_type": "stream",
     "text": [
      "2017-08-11 08:09:44,889 root     DEBUG    Crawling Interpark domastic schedule site\n"
     ]
    },
    {
     "name": "stdout",
     "output_type": "stream",
     "text": [
      "End Simple crawling\n",
      "Start Simple crawling :  http://smartair.interpark.com/HtmlSearch/GetGoodsSmartList.aspx\n",
      ">> Parameters\n",
      "StayLength: , Soto:N , dep0:ICN , BEST:Y , chd:0 , inf:0 , SeatType:A , SplitNo:100 , arr0:NRT , FLEX:N , ptype:I , enc:u , depdate0:20170830 , adt:1 , trip:OW , JSON:Y , comp:Y , AirLine:7C , Change: , SeatAvail:Y , \n"
     ]
    },
    {
     "name": "stderr",
     "output_type": "stream",
     "text": [
      "2017-08-11 08:09:45,765 root     DEBUG    Crawling Interpark domastic schedule site\n"
     ]
    },
    {
     "name": "stdout",
     "output_type": "stream",
     "text": [
      "End Simple crawling\n",
      "Start Simple crawling :  http://smartair.interpark.com/HtmlSearch/GetGoodsSmartList.aspx\n",
      ">> Parameters\n",
      "StayLength: , Soto:N , dep0:ICN , BEST:Y , chd:0 , inf:0 , SeatType:A , SplitNo:100 , arr0:NRT , FLEX:N , ptype:I , enc:u , depdate0:20170830 , adt:1 , trip:OW , JSON:Y , comp:Y , AirLine:LJ , Change: , SeatAvail:Y , \n"
     ]
    },
    {
     "name": "stderr",
     "output_type": "stream",
     "text": [
      "2017-08-11 08:09:48,161 root     DEBUG    Crawling Interpark domastic schedule site\n"
     ]
    },
    {
     "name": "stdout",
     "output_type": "stream",
     "text": [
      "End Simple crawling\n",
      "Start Simple crawling :  http://smartair.interpark.com/HtmlSearch/GetGoodsSmartList.aspx\n",
      ">> Parameters\n",
      "StayLength: , Soto:N , dep0:ICN , BEST:Y , chd:0 , inf:0 , SeatType:A , SplitNo:100 , arr0:NRT , FLEX:N , ptype:I , enc:u , depdate0:20170830 , adt:1 , trip:OW , JSON:Y , comp:Y , AirLine:TW , Change: , SeatAvail:Y , \n"
     ]
    },
    {
     "name": "stderr",
     "output_type": "stream",
     "text": [
      "2017-08-11 08:09:50,505 root     DEBUG    Crawling Interpark domastic schedule site\n"
     ]
    },
    {
     "name": "stdout",
     "output_type": "stream",
     "text": [
      "End Simple crawling\n",
      "Start Simple crawling :  http://smartair.interpark.com/HtmlSearch/GetGoodsSmartList.aspx\n",
      ">> Parameters\n",
      "StayLength: , Soto:N , dep0:ICN , BEST:Y , chd:0 , inf:0 , SeatType:A , SplitNo:100 , arr0:NRT , FLEX:N , ptype:I , enc:u , depdate0:20170830 , adt:1 , trip:OW , JSON:Y , comp:Y , AirLine:ZE , Change: , SeatAvail:Y , \n"
     ]
    },
    {
     "name": "stderr",
     "output_type": "stream",
     "text": [
      "2017-08-11 08:09:52,703 root     DEBUG    Crawling Interpark domastic schedule site\n"
     ]
    },
    {
     "name": "stdout",
     "output_type": "stream",
     "text": [
      "End Simple crawling\n",
      "Start Simple crawling :  http://smartair.interpark.com/HtmlSearch/GetGoodsSmartList.aspx\n",
      ">> Parameters\n",
      "StayLength: , Soto:N , dep0:ICN , BEST:Y , chd:0 , inf:0 , SeatType:A , SplitNo:100 , arr0:NRT , FLEX:N , ptype:I , enc:u , depdate0:20170831 , adt:1 , trip:OW , JSON:Y , comp:Y , AirLine:7C , Change: , SeatAvail:Y , \n"
     ]
    },
    {
     "name": "stderr",
     "output_type": "stream",
     "text": [
      "2017-08-11 08:09:53,903 root     DEBUG    Crawling Interpark domastic schedule site\n"
     ]
    },
    {
     "name": "stdout",
     "output_type": "stream",
     "text": [
      "End Simple crawling\n",
      "Start Simple crawling :  http://smartair.interpark.com/HtmlSearch/GetGoodsSmartList.aspx\n",
      ">> Parameters\n",
      "StayLength: , Soto:N , dep0:ICN , BEST:Y , chd:0 , inf:0 , SeatType:A , SplitNo:100 , arr0:NRT , FLEX:N , ptype:I , enc:u , depdate0:20170831 , adt:1 , trip:OW , JSON:Y , comp:Y , AirLine:LJ , Change: , SeatAvail:Y , \n"
     ]
    },
    {
     "name": "stderr",
     "output_type": "stream",
     "text": [
      "2017-08-11 08:09:56,287 root     DEBUG    Crawling Interpark domastic schedule site\n"
     ]
    },
    {
     "name": "stdout",
     "output_type": "stream",
     "text": [
      "End Simple crawling\n",
      "Start Simple crawling :  http://smartair.interpark.com/HtmlSearch/GetGoodsSmartList.aspx\n",
      ">> Parameters\n",
      "StayLength: , Soto:N , dep0:ICN , BEST:Y , chd:0 , inf:0 , SeatType:A , SplitNo:100 , arr0:NRT , FLEX:N , ptype:I , enc:u , depdate0:20170831 , adt:1 , trip:OW , JSON:Y , comp:Y , AirLine:TW , Change: , SeatAvail:Y , \n"
     ]
    },
    {
     "name": "stderr",
     "output_type": "stream",
     "text": [
      "2017-08-11 08:09:58,795 root     DEBUG    Crawling Interpark domastic schedule site\n"
     ]
    },
    {
     "name": "stdout",
     "output_type": "stream",
     "text": [
      "End Simple crawling\n",
      "Start Simple crawling :  http://smartair.interpark.com/HtmlSearch/GetGoodsSmartList.aspx\n",
      ">> Parameters\n",
      "StayLength: , Soto:N , dep0:ICN , BEST:Y , chd:0 , inf:0 , SeatType:A , SplitNo:100 , arr0:NRT , FLEX:N , ptype:I , enc:u , depdate0:20170831 , adt:1 , trip:OW , JSON:Y , comp:Y , AirLine:ZE , Change: , SeatAvail:Y , \n"
     ]
    },
    {
     "name": "stderr",
     "output_type": "stream",
     "text": [
      "2017-08-11 08:10:00,989 root     DEBUG    Crawling Interpark domastic schedule site\n"
     ]
    },
    {
     "name": "stdout",
     "output_type": "stream",
     "text": [
      "End Simple crawling\n",
      "Start Simple crawling :  http://smartair.interpark.com/HtmlSearch/GetGoodsSmartList.aspx\n",
      ">> Parameters\n",
      "StayLength: , Soto:N , dep0:ICN , BEST:Y , chd:0 , inf:0 , SeatType:A , SplitNo:100 , arr0:NRT , FLEX:N , ptype:I , enc:u , depdate0:20170901 , adt:1 , trip:OW , JSON:Y , comp:Y , AirLine:7C , Change: , SeatAvail:Y , \n"
     ]
    },
    {
     "name": "stderr",
     "output_type": "stream",
     "text": [
      "2017-08-11 08:10:01,608 root     DEBUG    Crawling Interpark domastic schedule site\n"
     ]
    },
    {
     "name": "stdout",
     "output_type": "stream",
     "text": [
      "End Simple crawling\n",
      "Start Simple crawling :  http://smartair.interpark.com/HtmlSearch/GetGoodsSmartList.aspx\n",
      ">> Parameters\n",
      "StayLength: , Soto:N , dep0:ICN , BEST:Y , chd:0 , inf:0 , SeatType:A , SplitNo:100 , arr0:NRT , FLEX:N , ptype:I , enc:u , depdate0:20170901 , adt:1 , trip:OW , JSON:Y , comp:Y , AirLine:LJ , Change: , SeatAvail:Y , \n"
     ]
    },
    {
     "name": "stderr",
     "output_type": "stream",
     "text": [
      "2017-08-11 08:10:03,790 root     DEBUG    Crawling Interpark domastic schedule site\n"
     ]
    },
    {
     "name": "stdout",
     "output_type": "stream",
     "text": [
      "End Simple crawling\n",
      "Start Simple crawling :  http://smartair.interpark.com/HtmlSearch/GetGoodsSmartList.aspx\n",
      ">> Parameters\n",
      "StayLength: , Soto:N , dep0:ICN , BEST:Y , chd:0 , inf:0 , SeatType:A , SplitNo:100 , arr0:NRT , FLEX:N , ptype:I , enc:u , depdate0:20170901 , adt:1 , trip:OW , JSON:Y , comp:Y , AirLine:TW , Change: , SeatAvail:Y , \n"
     ]
    },
    {
     "name": "stderr",
     "output_type": "stream",
     "text": [
      "2017-08-11 08:10:06,084 root     DEBUG    Crawling Interpark domastic schedule site\n"
     ]
    },
    {
     "name": "stdout",
     "output_type": "stream",
     "text": [
      "End Simple crawling\n",
      "Start Simple crawling :  http://smartair.interpark.com/HtmlSearch/GetGoodsSmartList.aspx\n",
      ">> Parameters\n",
      "StayLength: , Soto:N , dep0:ICN , BEST:Y , chd:0 , inf:0 , SeatType:A , SplitNo:100 , arr0:NRT , FLEX:N , ptype:I , enc:u , depdate0:20170901 , adt:1 , trip:OW , JSON:Y , comp:Y , AirLine:ZE , Change: , SeatAvail:Y , \n"
     ]
    },
    {
     "name": "stderr",
     "output_type": "stream",
     "text": [
      "2017-08-11 08:10:08,449 root     DEBUG    Crawling Interpark domastic schedule site\n"
     ]
    },
    {
     "name": "stdout",
     "output_type": "stream",
     "text": [
      "End Simple crawling\n",
      "Start Simple crawling :  http://smartair.interpark.com/HtmlSearch/GetGoodsSmartList.aspx\n",
      ">> Parameters\n",
      "StayLength: , Soto:N , dep0:ICN , BEST:Y , chd:0 , inf:0 , SeatType:A , SplitNo:100 , arr0:NRT , FLEX:N , ptype:I , enc:u , depdate0:20170902 , adt:1 , trip:OW , JSON:Y , comp:Y , AirLine:7C , Change: , SeatAvail:Y , \n"
     ]
    },
    {
     "name": "stderr",
     "output_type": "stream",
     "text": [
      "2017-08-11 08:10:30,188 root     DEBUG    Crawling Interpark domastic schedule site\n"
     ]
    },
    {
     "name": "stdout",
     "output_type": "stream",
     "text": [
      "End Simple crawling\n",
      "Start Simple crawling :  http://smartair.interpark.com/HtmlSearch/GetGoodsSmartList.aspx\n",
      ">> Parameters\n",
      "StayLength: , Soto:N , dep0:ICN , BEST:Y , chd:0 , inf:0 , SeatType:A , SplitNo:100 , arr0:NRT , FLEX:N , ptype:I , enc:u , depdate0:20170902 , adt:1 , trip:OW , JSON:Y , comp:Y , AirLine:LJ , Change: , SeatAvail:Y , \n"
     ]
    },
    {
     "name": "stderr",
     "output_type": "stream",
     "text": [
      "2017-08-11 08:10:32,543 root     DEBUG    Crawling Interpark domastic schedule site\n"
     ]
    },
    {
     "name": "stdout",
     "output_type": "stream",
     "text": [
      "End Simple crawling\n",
      "Start Simple crawling :  http://smartair.interpark.com/HtmlSearch/GetGoodsSmartList.aspx\n",
      ">> Parameters\n",
      "StayLength: , Soto:N , dep0:ICN , BEST:Y , chd:0 , inf:0 , SeatType:A , SplitNo:100 , arr0:NRT , FLEX:N , ptype:I , enc:u , depdate0:20170902 , adt:1 , trip:OW , JSON:Y , comp:Y , AirLine:TW , Change: , SeatAvail:Y , \n"
     ]
    },
    {
     "name": "stderr",
     "output_type": "stream",
     "text": [
      "2017-08-11 08:10:34,819 root     DEBUG    Crawling Interpark domastic schedule site\n"
     ]
    },
    {
     "name": "stdout",
     "output_type": "stream",
     "text": [
      "End Simple crawling\n",
      "Start Simple crawling :  http://smartair.interpark.com/HtmlSearch/GetGoodsSmartList.aspx\n",
      ">> Parameters\n",
      "StayLength: , Soto:N , dep0:ICN , BEST:Y , chd:0 , inf:0 , SeatType:A , SplitNo:100 , arr0:NRT , FLEX:N , ptype:I , enc:u , depdate0:20170902 , adt:1 , trip:OW , JSON:Y , comp:Y , AirLine:ZE , Change: , SeatAvail:Y , \n"
     ]
    },
    {
     "name": "stderr",
     "output_type": "stream",
     "text": [
      "2017-08-11 08:10:37,549 root     DEBUG    Crawling Interpark domastic schedule site\n"
     ]
    },
    {
     "name": "stdout",
     "output_type": "stream",
     "text": [
      "End Simple crawling\n",
      "Start Simple crawling :  http://smartair.interpark.com/HtmlSearch/GetGoodsSmartList.aspx\n",
      ">> Parameters\n",
      "StayLength: , Soto:N , dep0:ICN , BEST:Y , chd:0 , inf:0 , SeatType:A , SplitNo:100 , arr0:NRT , FLEX:N , ptype:I , enc:u , depdate0:20170903 , adt:1 , trip:OW , JSON:Y , comp:Y , AirLine:7C , Change: , SeatAvail:Y , \n"
     ]
    },
    {
     "name": "stderr",
     "output_type": "stream",
     "text": [
      "2017-08-11 08:10:38,183 root     DEBUG    Crawling Interpark domastic schedule site\n"
     ]
    },
    {
     "name": "stdout",
     "output_type": "stream",
     "text": [
      "End Simple crawling\n",
      "Start Simple crawling :  http://smartair.interpark.com/HtmlSearch/GetGoodsSmartList.aspx\n",
      ">> Parameters\n",
      "StayLength: , Soto:N , dep0:ICN , BEST:Y , chd:0 , inf:0 , SeatType:A , SplitNo:100 , arr0:NRT , FLEX:N , ptype:I , enc:u , depdate0:20170903 , adt:1 , trip:OW , JSON:Y , comp:Y , AirLine:LJ , Change: , SeatAvail:Y , \n"
     ]
    },
    {
     "name": "stderr",
     "output_type": "stream",
     "text": [
      "2017-08-11 08:10:40,484 root     DEBUG    Crawling Interpark domastic schedule site\n"
     ]
    },
    {
     "name": "stdout",
     "output_type": "stream",
     "text": [
      "End Simple crawling\n",
      "Start Simple crawling :  http://smartair.interpark.com/HtmlSearch/GetGoodsSmartList.aspx\n",
      ">> Parameters\n",
      "StayLength: , Soto:N , dep0:ICN , BEST:Y , chd:0 , inf:0 , SeatType:A , SplitNo:100 , arr0:NRT , FLEX:N , ptype:I , enc:u , depdate0:20170903 , adt:1 , trip:OW , JSON:Y , comp:Y , AirLine:TW , Change: , SeatAvail:Y , \n"
     ]
    },
    {
     "name": "stderr",
     "output_type": "stream",
     "text": [
      "2017-08-11 08:10:42,707 root     DEBUG    Crawling Interpark domastic schedule site\n"
     ]
    },
    {
     "name": "stdout",
     "output_type": "stream",
     "text": [
      "End Simple crawling\n",
      "Start Simple crawling :  http://smartair.interpark.com/HtmlSearch/GetGoodsSmartList.aspx\n",
      ">> Parameters\n",
      "StayLength: , Soto:N , dep0:ICN , BEST:Y , chd:0 , inf:0 , SeatType:A , SplitNo:100 , arr0:NRT , FLEX:N , ptype:I , enc:u , depdate0:20170903 , adt:1 , trip:OW , JSON:Y , comp:Y , AirLine:ZE , Change: , SeatAvail:Y , \n"
     ]
    },
    {
     "name": "stderr",
     "output_type": "stream",
     "text": [
      "2017-08-11 08:10:45,106 root     DEBUG    Crawling Interpark domastic schedule site\n"
     ]
    },
    {
     "name": "stdout",
     "output_type": "stream",
     "text": [
      "End Simple crawling\n",
      "Start Simple crawling :  http://smartair.interpark.com/HtmlSearch/GetGoodsSmartList.aspx\n",
      ">> Parameters\n",
      "StayLength: , Soto:N , dep0:ICN , BEST:Y , chd:0 , inf:0 , SeatType:A , SplitNo:100 , arr0:NRT , FLEX:N , ptype:I , enc:u , depdate0:20170904 , adt:1 , trip:OW , JSON:Y , comp:Y , AirLine:7C , Change: , SeatAvail:Y , \n"
     ]
    },
    {
     "name": "stderr",
     "output_type": "stream",
     "text": [
      "2017-08-11 08:10:45,724 root     DEBUG    Crawling Interpark domastic schedule site\n"
     ]
    },
    {
     "name": "stdout",
     "output_type": "stream",
     "text": [
      "End Simple crawling\n",
      "Start Simple crawling :  http://smartair.interpark.com/HtmlSearch/GetGoodsSmartList.aspx\n",
      ">> Parameters\n",
      "StayLength: , Soto:N , dep0:ICN , BEST:Y , chd:0 , inf:0 , SeatType:A , SplitNo:100 , arr0:NRT , FLEX:N , ptype:I , enc:u , depdate0:20170904 , adt:1 , trip:OW , JSON:Y , comp:Y , AirLine:LJ , Change: , SeatAvail:Y , \n"
     ]
    },
    {
     "name": "stderr",
     "output_type": "stream",
     "text": [
      "2017-08-11 08:10:48,029 root     DEBUG    Crawling Interpark domastic schedule site\n"
     ]
    },
    {
     "name": "stdout",
     "output_type": "stream",
     "text": [
      "End Simple crawling\n",
      "Start Simple crawling :  http://smartair.interpark.com/HtmlSearch/GetGoodsSmartList.aspx\n",
      ">> Parameters\n",
      "StayLength: , Soto:N , dep0:ICN , BEST:Y , chd:0 , inf:0 , SeatType:A , SplitNo:100 , arr0:NRT , FLEX:N , ptype:I , enc:u , depdate0:20170904 , adt:1 , trip:OW , JSON:Y , comp:Y , AirLine:TW , Change: , SeatAvail:Y , \n"
     ]
    },
    {
     "name": "stderr",
     "output_type": "stream",
     "text": [
      "2017-08-11 08:10:50,446 root     DEBUG    Crawling Interpark domastic schedule site\n"
     ]
    },
    {
     "name": "stdout",
     "output_type": "stream",
     "text": [
      "End Simple crawling\n",
      "Start Simple crawling :  http://smartair.interpark.com/HtmlSearch/GetGoodsSmartList.aspx\n",
      ">> Parameters\n",
      "StayLength: , Soto:N , dep0:ICN , BEST:Y , chd:0 , inf:0 , SeatType:A , SplitNo:100 , arr0:NRT , FLEX:N , ptype:I , enc:u , depdate0:20170904 , adt:1 , trip:OW , JSON:Y , comp:Y , AirLine:ZE , Change: , SeatAvail:Y , \n"
     ]
    },
    {
     "name": "stderr",
     "output_type": "stream",
     "text": [
      "2017-08-11 08:10:54,773 root     DEBUG    Crawling Interpark domastic schedule site\n"
     ]
    },
    {
     "name": "stdout",
     "output_type": "stream",
     "text": [
      "End Simple crawling\n",
      "Start Simple crawling :  http://smartair.interpark.com/HtmlSearch/GetGoodsSmartList.aspx\n",
      ">> Parameters\n",
      "StayLength: , Soto:N , dep0:ICN , BEST:Y , chd:0 , inf:0 , SeatType:A , SplitNo:100 , arr0:NRT , FLEX:N , ptype:I , enc:u , depdate0:20170905 , adt:1 , trip:OW , JSON:Y , comp:Y , AirLine:7C , Change: , SeatAvail:Y , \n"
     ]
    },
    {
     "name": "stderr",
     "output_type": "stream",
     "text": [
      "2017-08-11 08:10:55,410 root     DEBUG    Crawling Interpark domastic schedule site\n"
     ]
    },
    {
     "name": "stdout",
     "output_type": "stream",
     "text": [
      "End Simple crawling\n",
      "Start Simple crawling :  http://smartair.interpark.com/HtmlSearch/GetGoodsSmartList.aspx\n",
      ">> Parameters\n",
      "StayLength: , Soto:N , dep0:ICN , BEST:Y , chd:0 , inf:0 , SeatType:A , SplitNo:100 , arr0:NRT , FLEX:N , ptype:I , enc:u , depdate0:20170905 , adt:1 , trip:OW , JSON:Y , comp:Y , AirLine:LJ , Change: , SeatAvail:Y , \n"
     ]
    },
    {
     "name": "stderr",
     "output_type": "stream",
     "text": [
      "2017-08-11 08:10:57,560 root     DEBUG    Crawling Interpark domastic schedule site\n"
     ]
    },
    {
     "name": "stdout",
     "output_type": "stream",
     "text": [
      "End Simple crawling\n",
      "Start Simple crawling :  http://smartair.interpark.com/HtmlSearch/GetGoodsSmartList.aspx\n",
      ">> Parameters\n",
      "StayLength: , Soto:N , dep0:ICN , BEST:Y , chd:0 , inf:0 , SeatType:A , SplitNo:100 , arr0:NRT , FLEX:N , ptype:I , enc:u , depdate0:20170905 , adt:1 , trip:OW , JSON:Y , comp:Y , AirLine:TW , Change: , SeatAvail:Y , \n"
     ]
    },
    {
     "name": "stderr",
     "output_type": "stream",
     "text": [
      "2017-08-11 08:10:59,829 root     DEBUG    Crawling Interpark domastic schedule site\n"
     ]
    },
    {
     "name": "stdout",
     "output_type": "stream",
     "text": [
      "End Simple crawling\n",
      "Start Simple crawling :  http://smartair.interpark.com/HtmlSearch/GetGoodsSmartList.aspx\n",
      ">> Parameters\n",
      "StayLength: , Soto:N , dep0:ICN , BEST:Y , chd:0 , inf:0 , SeatType:A , SplitNo:100 , arr0:NRT , FLEX:N , ptype:I , enc:u , depdate0:20170905 , adt:1 , trip:OW , JSON:Y , comp:Y , AirLine:ZE , Change: , SeatAvail:Y , \n"
     ]
    },
    {
     "name": "stderr",
     "output_type": "stream",
     "text": [
      "2017-08-11 08:11:01,951 root     DEBUG    Crawling Interpark domastic schedule site\n"
     ]
    },
    {
     "name": "stdout",
     "output_type": "stream",
     "text": [
      "End Simple crawling\n",
      "Start Simple crawling :  http://smartair.interpark.com/HtmlSearch/GetGoodsSmartList.aspx\n",
      ">> Parameters\n",
      "StayLength: , Soto:N , dep0:ICN , BEST:Y , chd:0 , inf:0 , SeatType:A , SplitNo:100 , arr0:NRT , FLEX:N , ptype:I , enc:u , depdate0:20170906 , adt:1 , trip:OW , JSON:Y , comp:Y , AirLine:7C , Change: , SeatAvail:Y , \n"
     ]
    },
    {
     "name": "stderr",
     "output_type": "stream",
     "text": [
      "2017-08-11 08:11:02,688 root     DEBUG    Crawling Interpark domastic schedule site\n"
     ]
    },
    {
     "name": "stdout",
     "output_type": "stream",
     "text": [
      "End Simple crawling\n",
      "Start Simple crawling :  http://smartair.interpark.com/HtmlSearch/GetGoodsSmartList.aspx\n",
      ">> Parameters\n",
      "StayLength: , Soto:N , dep0:ICN , BEST:Y , chd:0 , inf:0 , SeatType:A , SplitNo:100 , arr0:NRT , FLEX:N , ptype:I , enc:u , depdate0:20170906 , adt:1 , trip:OW , JSON:Y , comp:Y , AirLine:LJ , Change: , SeatAvail:Y , \n"
     ]
    },
    {
     "name": "stderr",
     "output_type": "stream",
     "text": [
      "2017-08-11 08:11:04,983 root     DEBUG    Crawling Interpark domastic schedule site\n"
     ]
    },
    {
     "name": "stdout",
     "output_type": "stream",
     "text": [
      "End Simple crawling\n",
      "Start Simple crawling :  http://smartair.interpark.com/HtmlSearch/GetGoodsSmartList.aspx\n",
      ">> Parameters\n",
      "StayLength: , Soto:N , dep0:ICN , BEST:Y , chd:0 , inf:0 , SeatType:A , SplitNo:100 , arr0:NRT , FLEX:N , ptype:I , enc:u , depdate0:20170906 , adt:1 , trip:OW , JSON:Y , comp:Y , AirLine:TW , Change: , SeatAvail:Y , \n"
     ]
    },
    {
     "name": "stderr",
     "output_type": "stream",
     "text": [
      "2017-08-11 08:11:07,231 root     DEBUG    Crawling Interpark domastic schedule site\n"
     ]
    },
    {
     "name": "stdout",
     "output_type": "stream",
     "text": [
      "End Simple crawling\n",
      "Start Simple crawling :  http://smartair.interpark.com/HtmlSearch/GetGoodsSmartList.aspx\n",
      ">> Parameters\n",
      "StayLength: , Soto:N , dep0:ICN , BEST:Y , chd:0 , inf:0 , SeatType:A , SplitNo:100 , arr0:NRT , FLEX:N , ptype:I , enc:u , depdate0:20170906 , adt:1 , trip:OW , JSON:Y , comp:Y , AirLine:ZE , Change: , SeatAvail:Y , \n"
     ]
    },
    {
     "name": "stderr",
     "output_type": "stream",
     "text": [
      "2017-08-11 08:11:09,507 root     DEBUG    Crawling Interpark domastic schedule site\n"
     ]
    },
    {
     "name": "stdout",
     "output_type": "stream",
     "text": [
      "End Simple crawling\n",
      "Start Simple crawling :  http://smartair.interpark.com/HtmlSearch/GetGoodsSmartList.aspx\n",
      ">> Parameters\n",
      "StayLength: , Soto:N , dep0:ICN , BEST:Y , chd:0 , inf:0 , SeatType:A , SplitNo:100 , arr0:NRT , FLEX:N , ptype:I , enc:u , depdate0:20170907 , adt:1 , trip:OW , JSON:Y , comp:Y , AirLine:7C , Change: , SeatAvail:Y , \n"
     ]
    },
    {
     "name": "stderr",
     "output_type": "stream",
     "text": [
      "2017-08-11 08:11:10,172 root     DEBUG    Crawling Interpark domastic schedule site\n"
     ]
    },
    {
     "name": "stdout",
     "output_type": "stream",
     "text": [
      "End Simple crawling\n",
      "Start Simple crawling :  http://smartair.interpark.com/HtmlSearch/GetGoodsSmartList.aspx\n",
      ">> Parameters\n",
      "StayLength: , Soto:N , dep0:ICN , BEST:Y , chd:0 , inf:0 , SeatType:A , SplitNo:100 , arr0:NRT , FLEX:N , ptype:I , enc:u , depdate0:20170907 , adt:1 , trip:OW , JSON:Y , comp:Y , AirLine:LJ , Change: , SeatAvail:Y , \n"
     ]
    },
    {
     "name": "stderr",
     "output_type": "stream",
     "text": [
      "2017-08-11 08:11:13,196 root     DEBUG    Crawling Interpark domastic schedule site\n"
     ]
    },
    {
     "name": "stdout",
     "output_type": "stream",
     "text": [
      "End Simple crawling\n",
      "Start Simple crawling :  http://smartair.interpark.com/HtmlSearch/GetGoodsSmartList.aspx\n",
      ">> Parameters\n",
      "StayLength: , Soto:N , dep0:ICN , BEST:Y , chd:0 , inf:0 , SeatType:A , SplitNo:100 , arr0:NRT , FLEX:N , ptype:I , enc:u , depdate0:20170907 , adt:1 , trip:OW , JSON:Y , comp:Y , AirLine:TW , Change: , SeatAvail:Y , \n"
     ]
    },
    {
     "name": "stderr",
     "output_type": "stream",
     "text": [
      "2017-08-11 08:11:15,950 root     DEBUG    Crawling Interpark domastic schedule site\n"
     ]
    },
    {
     "name": "stdout",
     "output_type": "stream",
     "text": [
      "End Simple crawling\n",
      "Start Simple crawling :  http://smartair.interpark.com/HtmlSearch/GetGoodsSmartList.aspx\n",
      ">> Parameters\n",
      "StayLength: , Soto:N , dep0:ICN , BEST:Y , chd:0 , inf:0 , SeatType:A , SplitNo:100 , arr0:NRT , FLEX:N , ptype:I , enc:u , depdate0:20170907 , adt:1 , trip:OW , JSON:Y , comp:Y , AirLine:ZE , Change: , SeatAvail:Y , \n"
     ]
    },
    {
     "name": "stderr",
     "output_type": "stream",
     "text": [
      "2017-08-11 08:11:18,842 root     DEBUG    Crawling Interpark domastic schedule site\n"
     ]
    },
    {
     "name": "stdout",
     "output_type": "stream",
     "text": [
      "End Simple crawling\n",
      "Start Simple crawling :  http://smartair.interpark.com/HtmlSearch/GetGoodsSmartList.aspx\n",
      ">> Parameters\n",
      "StayLength: , Soto:N , dep0:ICN , BEST:Y , chd:0 , inf:0 , SeatType:A , SplitNo:100 , arr0:NRT , FLEX:N , ptype:I , enc:u , depdate0:20170908 , adt:1 , trip:OW , JSON:Y , comp:Y , AirLine:7C , Change: , SeatAvail:Y , \n"
     ]
    },
    {
     "name": "stderr",
     "output_type": "stream",
     "text": [
      "2017-08-11 08:11:19,470 root     DEBUG    Crawling Interpark domastic schedule site\n"
     ]
    },
    {
     "name": "stdout",
     "output_type": "stream",
     "text": [
      "End Simple crawling\n",
      "Start Simple crawling :  http://smartair.interpark.com/HtmlSearch/GetGoodsSmartList.aspx\n",
      ">> Parameters\n",
      "StayLength: , Soto:N , dep0:ICN , BEST:Y , chd:0 , inf:0 , SeatType:A , SplitNo:100 , arr0:NRT , FLEX:N , ptype:I , enc:u , depdate0:20170908 , adt:1 , trip:OW , JSON:Y , comp:Y , AirLine:LJ , Change: , SeatAvail:Y , \n"
     ]
    },
    {
     "name": "stderr",
     "output_type": "stream",
     "text": [
      "2017-08-11 08:11:21,737 root     DEBUG    Crawling Interpark domastic schedule site\n"
     ]
    },
    {
     "name": "stdout",
     "output_type": "stream",
     "text": [
      "End Simple crawling\n",
      "Start Simple crawling :  http://smartair.interpark.com/HtmlSearch/GetGoodsSmartList.aspx\n",
      ">> Parameters\n",
      "StayLength: , Soto:N , dep0:ICN , BEST:Y , chd:0 , inf:0 , SeatType:A , SplitNo:100 , arr0:NRT , FLEX:N , ptype:I , enc:u , depdate0:20170908 , adt:1 , trip:OW , JSON:Y , comp:Y , AirLine:TW , Change: , SeatAvail:Y , \n"
     ]
    },
    {
     "name": "stderr",
     "output_type": "stream",
     "text": [
      "2017-08-11 08:11:24,076 root     DEBUG    Crawling Interpark domastic schedule site\n"
     ]
    },
    {
     "name": "stdout",
     "output_type": "stream",
     "text": [
      "End Simple crawling\n",
      "Start Simple crawling :  http://smartair.interpark.com/HtmlSearch/GetGoodsSmartList.aspx\n",
      ">> Parameters\n",
      "StayLength: , Soto:N , dep0:ICN , BEST:Y , chd:0 , inf:0 , SeatType:A , SplitNo:100 , arr0:NRT , FLEX:N , ptype:I , enc:u , depdate0:20170908 , adt:1 , trip:OW , JSON:Y , comp:Y , AirLine:ZE , Change: , SeatAvail:Y , \n"
     ]
    },
    {
     "name": "stderr",
     "output_type": "stream",
     "text": [
      "2017-08-11 08:11:27,244 root     DEBUG    Crawling Interpark domastic schedule site\n"
     ]
    },
    {
     "name": "stdout",
     "output_type": "stream",
     "text": [
      "End Simple crawling\n",
      "Start Simple crawling :  http://smartair.interpark.com/HtmlSearch/GetGoodsSmartList.aspx\n",
      ">> Parameters\n",
      "StayLength: , Soto:N , dep0:ICN , BEST:Y , chd:0 , inf:0 , SeatType:A , SplitNo:100 , arr0:NRT , FLEX:N , ptype:I , enc:u , depdate0:20170909 , adt:1 , trip:OW , JSON:Y , comp:Y , AirLine:7C , Change: , SeatAvail:Y , \n"
     ]
    },
    {
     "name": "stderr",
     "output_type": "stream",
     "text": [
      "2017-08-11 08:11:27,895 root     DEBUG    Crawling Interpark domastic schedule site\n"
     ]
    },
    {
     "name": "stdout",
     "output_type": "stream",
     "text": [
      "End Simple crawling\n",
      "Start Simple crawling :  http://smartair.interpark.com/HtmlSearch/GetGoodsSmartList.aspx\n",
      ">> Parameters\n",
      "StayLength: , Soto:N , dep0:ICN , BEST:Y , chd:0 , inf:0 , SeatType:A , SplitNo:100 , arr0:NRT , FLEX:N , ptype:I , enc:u , depdate0:20170909 , adt:1 , trip:OW , JSON:Y , comp:Y , AirLine:LJ , Change: , SeatAvail:Y , \n"
     ]
    },
    {
     "name": "stderr",
     "output_type": "stream",
     "text": [
      "2017-08-11 08:11:30,067 root     DEBUG    Crawling Interpark domastic schedule site\n"
     ]
    },
    {
     "name": "stdout",
     "output_type": "stream",
     "text": [
      "End Simple crawling\n",
      "Start Simple crawling :  http://smartair.interpark.com/HtmlSearch/GetGoodsSmartList.aspx\n",
      ">> Parameters\n",
      "StayLength: , Soto:N , dep0:ICN , BEST:Y , chd:0 , inf:0 , SeatType:A , SplitNo:100 , arr0:NRT , FLEX:N , ptype:I , enc:u , depdate0:20170909 , adt:1 , trip:OW , JSON:Y , comp:Y , AirLine:TW , Change: , SeatAvail:Y , \n"
     ]
    },
    {
     "name": "stderr",
     "output_type": "stream",
     "text": [
      "2017-08-11 08:11:32,657 root     DEBUG    Crawling Interpark domastic schedule site\n"
     ]
    },
    {
     "name": "stdout",
     "output_type": "stream",
     "text": [
      "End Simple crawling\n",
      "Start Simple crawling :  http://smartair.interpark.com/HtmlSearch/GetGoodsSmartList.aspx\n",
      ">> Parameters\n",
      "StayLength: , Soto:N , dep0:ICN , BEST:Y , chd:0 , inf:0 , SeatType:A , SplitNo:100 , arr0:NRT , FLEX:N , ptype:I , enc:u , depdate0:20170909 , adt:1 , trip:OW , JSON:Y , comp:Y , AirLine:ZE , Change: , SeatAvail:Y , \n"
     ]
    },
    {
     "name": "stderr",
     "output_type": "stream",
     "text": [
      "2017-08-11 08:11:34,940 root     DEBUG    Crawling Interpark domastic schedule site\n"
     ]
    },
    {
     "name": "stdout",
     "output_type": "stream",
     "text": [
      "End Simple crawling\n",
      "Start Simple crawling :  http://smartair.interpark.com/HtmlSearch/GetGoodsSmartList.aspx\n",
      ">> Parameters\n",
      "StayLength: , Soto:N , dep0:ICN , BEST:Y , chd:0 , inf:0 , SeatType:A , SplitNo:100 , arr0:NRT , FLEX:N , ptype:I , enc:u , depdate0:20170910 , adt:1 , trip:OW , JSON:Y , comp:Y , AirLine:7C , Change: , SeatAvail:Y , \n"
     ]
    },
    {
     "name": "stderr",
     "output_type": "stream",
     "text": [
      "2017-08-11 08:11:35,612 root     DEBUG    Crawling Interpark domastic schedule site\n"
     ]
    },
    {
     "name": "stdout",
     "output_type": "stream",
     "text": [
      "End Simple crawling\n",
      "Start Simple crawling :  http://smartair.interpark.com/HtmlSearch/GetGoodsSmartList.aspx\n",
      ">> Parameters\n",
      "StayLength: , Soto:N , dep0:ICN , BEST:Y , chd:0 , inf:0 , SeatType:A , SplitNo:100 , arr0:NRT , FLEX:N , ptype:I , enc:u , depdate0:20170910 , adt:1 , trip:OW , JSON:Y , comp:Y , AirLine:LJ , Change: , SeatAvail:Y , \n"
     ]
    },
    {
     "name": "stderr",
     "output_type": "stream",
     "text": [
      "2017-08-11 08:11:37,896 root     DEBUG    Crawling Interpark domastic schedule site\n"
     ]
    },
    {
     "name": "stdout",
     "output_type": "stream",
     "text": [
      "End Simple crawling\n",
      "Start Simple crawling :  http://smartair.interpark.com/HtmlSearch/GetGoodsSmartList.aspx\n",
      ">> Parameters\n",
      "StayLength: , Soto:N , dep0:ICN , BEST:Y , chd:0 , inf:0 , SeatType:A , SplitNo:100 , arr0:NRT , FLEX:N , ptype:I , enc:u , depdate0:20170910 , adt:1 , trip:OW , JSON:Y , comp:Y , AirLine:TW , Change: , SeatAvail:Y , \n"
     ]
    },
    {
     "name": "stderr",
     "output_type": "stream",
     "text": [
      "2017-08-11 08:11:40,177 root     DEBUG    Crawling Interpark domastic schedule site\n"
     ]
    },
    {
     "name": "stdout",
     "output_type": "stream",
     "text": [
      "End Simple crawling\n",
      "Start Simple crawling :  http://smartair.interpark.com/HtmlSearch/GetGoodsSmartList.aspx\n",
      ">> Parameters\n",
      "StayLength: , Soto:N , dep0:ICN , BEST:Y , chd:0 , inf:0 , SeatType:A , SplitNo:100 , arr0:NRT , FLEX:N , ptype:I , enc:u , depdate0:20170910 , adt:1 , trip:OW , JSON:Y , comp:Y , AirLine:ZE , Change: , SeatAvail:Y , \n"
     ]
    },
    {
     "name": "stderr",
     "output_type": "stream",
     "text": [
      "2017-08-11 08:11:43,699 root     DEBUG    Crawling Interpark domastic schedule site\n"
     ]
    },
    {
     "name": "stdout",
     "output_type": "stream",
     "text": [
      "End Simple crawling\n",
      "Start Simple crawling :  http://smartair.interpark.com/HtmlSearch/GetGoodsSmartList.aspx\n",
      ">> Parameters\n",
      "StayLength: , Soto:N , dep0:ICN , BEST:Y , chd:0 , inf:0 , SeatType:A , SplitNo:100 , arr0:NRT , FLEX:N , ptype:I , enc:u , depdate0:20170911 , adt:1 , trip:OW , JSON:Y , comp:Y , AirLine:7C , Change: , SeatAvail:Y , \n"
     ]
    },
    {
     "name": "stderr",
     "output_type": "stream",
     "text": [
      "2017-08-11 08:11:44,321 root     DEBUG    Crawling Interpark domastic schedule site\n"
     ]
    },
    {
     "name": "stdout",
     "output_type": "stream",
     "text": [
      "End Simple crawling\n",
      "Start Simple crawling :  http://smartair.interpark.com/HtmlSearch/GetGoodsSmartList.aspx\n",
      ">> Parameters\n",
      "StayLength: , Soto:N , dep0:ICN , BEST:Y , chd:0 , inf:0 , SeatType:A , SplitNo:100 , arr0:NRT , FLEX:N , ptype:I , enc:u , depdate0:20170911 , adt:1 , trip:OW , JSON:Y , comp:Y , AirLine:LJ , Change: , SeatAvail:Y , \n"
     ]
    },
    {
     "name": "stderr",
     "output_type": "stream",
     "text": [
      "2017-08-11 08:11:46,687 root     DEBUG    Crawling Interpark domastic schedule site\n"
     ]
    },
    {
     "name": "stdout",
     "output_type": "stream",
     "text": [
      "End Simple crawling\n",
      "Start Simple crawling :  http://smartair.interpark.com/HtmlSearch/GetGoodsSmartList.aspx\n",
      ">> Parameters\n",
      "StayLength: , Soto:N , dep0:ICN , BEST:Y , chd:0 , inf:0 , SeatType:A , SplitNo:100 , arr0:NRT , FLEX:N , ptype:I , enc:u , depdate0:20170911 , adt:1 , trip:OW , JSON:Y , comp:Y , AirLine:TW , Change: , SeatAvail:Y , \n"
     ]
    },
    {
     "name": "stderr",
     "output_type": "stream",
     "text": [
      "2017-08-11 08:11:49,119 root     DEBUG    Crawling Interpark domastic schedule site\n"
     ]
    },
    {
     "name": "stdout",
     "output_type": "stream",
     "text": [
      "End Simple crawling\n",
      "Start Simple crawling :  http://smartair.interpark.com/HtmlSearch/GetGoodsSmartList.aspx\n",
      ">> Parameters\n",
      "StayLength: , Soto:N , dep0:ICN , BEST:Y , chd:0 , inf:0 , SeatType:A , SplitNo:100 , arr0:NRT , FLEX:N , ptype:I , enc:u , depdate0:20170911 , adt:1 , trip:OW , JSON:Y , comp:Y , AirLine:ZE , Change: , SeatAvail:Y , \n"
     ]
    },
    {
     "name": "stderr",
     "output_type": "stream",
     "text": [
      "2017-08-11 08:11:51,504 root     DEBUG    Crawling Interpark domastic schedule site\n"
     ]
    },
    {
     "name": "stdout",
     "output_type": "stream",
     "text": [
      "End Simple crawling\n",
      "Start Simple crawling :  http://smartair.interpark.com/HtmlSearch/GetGoodsSmartList.aspx\n",
      ">> Parameters\n",
      "StayLength: , Soto:N , dep0:ICN , BEST:Y , chd:0 , inf:0 , SeatType:A , SplitNo:100 , arr0:NRT , FLEX:N , ptype:I , enc:u , depdate0:20170912 , adt:1 , trip:OW , JSON:Y , comp:Y , AirLine:7C , Change: , SeatAvail:Y , \n"
     ]
    },
    {
     "name": "stderr",
     "output_type": "stream",
     "text": [
      "2017-08-11 08:11:52,239 root     DEBUG    Crawling Interpark domastic schedule site\n"
     ]
    },
    {
     "name": "stdout",
     "output_type": "stream",
     "text": [
      "End Simple crawling\n",
      "Start Simple crawling :  http://smartair.interpark.com/HtmlSearch/GetGoodsSmartList.aspx\n",
      ">> Parameters\n",
      "StayLength: , Soto:N , dep0:ICN , BEST:Y , chd:0 , inf:0 , SeatType:A , SplitNo:100 , arr0:NRT , FLEX:N , ptype:I , enc:u , depdate0:20170912 , adt:1 , trip:OW , JSON:Y , comp:Y , AirLine:LJ , Change: , SeatAvail:Y , \n"
     ]
    },
    {
     "name": "stderr",
     "output_type": "stream",
     "text": [
      "2017-08-11 08:11:54,662 root     DEBUG    Crawling Interpark domastic schedule site\n"
     ]
    },
    {
     "name": "stdout",
     "output_type": "stream",
     "text": [
      "End Simple crawling\n",
      "Start Simple crawling :  http://smartair.interpark.com/HtmlSearch/GetGoodsSmartList.aspx\n",
      ">> Parameters\n",
      "StayLength: , Soto:N , dep0:ICN , BEST:Y , chd:0 , inf:0 , SeatType:A , SplitNo:100 , arr0:NRT , FLEX:N , ptype:I , enc:u , depdate0:20170912 , adt:1 , trip:OW , JSON:Y , comp:Y , AirLine:TW , Change: , SeatAvail:Y , \n"
     ]
    },
    {
     "name": "stderr",
     "output_type": "stream",
     "text": [
      "2017-08-11 08:11:56,938 root     DEBUG    Crawling Interpark domastic schedule site\n"
     ]
    },
    {
     "name": "stdout",
     "output_type": "stream",
     "text": [
      "End Simple crawling\n",
      "Start Simple crawling :  http://smartair.interpark.com/HtmlSearch/GetGoodsSmartList.aspx\n",
      ">> Parameters\n",
      "StayLength: , Soto:N , dep0:ICN , BEST:Y , chd:0 , inf:0 , SeatType:A , SplitNo:100 , arr0:NRT , FLEX:N , ptype:I , enc:u , depdate0:20170912 , adt:1 , trip:OW , JSON:Y , comp:Y , AirLine:ZE , Change: , SeatAvail:Y , \n"
     ]
    },
    {
     "name": "stderr",
     "output_type": "stream",
     "text": [
      "2017-08-11 08:11:59,093 root     DEBUG    Crawling Interpark domastic schedule site\n"
     ]
    },
    {
     "name": "stdout",
     "output_type": "stream",
     "text": [
      "End Simple crawling\n",
      "Start Simple crawling :  http://smartair.interpark.com/HtmlSearch/GetGoodsSmartList.aspx\n",
      ">> Parameters\n",
      "StayLength: , Soto:N , dep0:ICN , BEST:Y , chd:0 , inf:0 , SeatType:A , SplitNo:100 , arr0:NRT , FLEX:N , ptype:I , enc:u , depdate0:20170913 , adt:1 , trip:OW , JSON:Y , comp:Y , AirLine:7C , Change: , SeatAvail:Y , \n"
     ]
    },
    {
     "name": "stderr",
     "output_type": "stream",
     "text": [
      "2017-08-11 08:11:59,746 root     DEBUG    Crawling Interpark domastic schedule site\n"
     ]
    },
    {
     "name": "stdout",
     "output_type": "stream",
     "text": [
      "End Simple crawling\n",
      "Start Simple crawling :  http://smartair.interpark.com/HtmlSearch/GetGoodsSmartList.aspx\n",
      ">> Parameters\n",
      "StayLength: , Soto:N , dep0:ICN , BEST:Y , chd:0 , inf:0 , SeatType:A , SplitNo:100 , arr0:NRT , FLEX:N , ptype:I , enc:u , depdate0:20170913 , adt:1 , trip:OW , JSON:Y , comp:Y , AirLine:LJ , Change: , SeatAvail:Y , \n"
     ]
    },
    {
     "name": "stderr",
     "output_type": "stream",
     "text": [
      "2017-08-11 08:12:02,196 root     DEBUG    Crawling Interpark domastic schedule site\n"
     ]
    },
    {
     "name": "stdout",
     "output_type": "stream",
     "text": [
      "End Simple crawling\n",
      "Start Simple crawling :  http://smartair.interpark.com/HtmlSearch/GetGoodsSmartList.aspx\n",
      ">> Parameters\n",
      "StayLength: , Soto:N , dep0:ICN , BEST:Y , chd:0 , inf:0 , SeatType:A , SplitNo:100 , arr0:NRT , FLEX:N , ptype:I , enc:u , depdate0:20170913 , adt:1 , trip:OW , JSON:Y , comp:Y , AirLine:TW , Change: , SeatAvail:Y , \n"
     ]
    },
    {
     "name": "stderr",
     "output_type": "stream",
     "text": [
      "2017-08-11 08:12:04,550 root     DEBUG    Crawling Interpark domastic schedule site\n"
     ]
    },
    {
     "name": "stdout",
     "output_type": "stream",
     "text": [
      "End Simple crawling\n",
      "Start Simple crawling :  http://smartair.interpark.com/HtmlSearch/GetGoodsSmartList.aspx\n",
      ">> Parameters\n",
      "StayLength: , Soto:N , dep0:ICN , BEST:Y , chd:0 , inf:0 , SeatType:A , SplitNo:100 , arr0:NRT , FLEX:N , ptype:I , enc:u , depdate0:20170913 , adt:1 , trip:OW , JSON:Y , comp:Y , AirLine:ZE , Change: , SeatAvail:Y , \n"
     ]
    },
    {
     "name": "stderr",
     "output_type": "stream",
     "text": [
      "2017-08-11 08:12:06,944 root     DEBUG    Crawling Interpark domastic schedule site\n"
     ]
    },
    {
     "name": "stdout",
     "output_type": "stream",
     "text": [
      "End Simple crawling\n",
      "Start Simple crawling :  http://smartair.interpark.com/HtmlSearch/GetGoodsSmartList.aspx\n",
      ">> Parameters\n",
      "StayLength: , Soto:N , dep0:ICN , BEST:Y , chd:0 , inf:0 , SeatType:A , SplitNo:100 , arr0:NRT , FLEX:N , ptype:I , enc:u , depdate0:20170914 , adt:1 , trip:OW , JSON:Y , comp:Y , AirLine:7C , Change: , SeatAvail:Y , \n"
     ]
    },
    {
     "name": "stderr",
     "output_type": "stream",
     "text": [
      "2017-08-11 08:12:07,727 root     DEBUG    Crawling Interpark domastic schedule site\n"
     ]
    },
    {
     "name": "stdout",
     "output_type": "stream",
     "text": [
      "End Simple crawling\n",
      "Start Simple crawling :  http://smartair.interpark.com/HtmlSearch/GetGoodsSmartList.aspx\n",
      ">> Parameters\n",
      "StayLength: , Soto:N , dep0:ICN , BEST:Y , chd:0 , inf:0 , SeatType:A , SplitNo:100 , arr0:NRT , FLEX:N , ptype:I , enc:u , depdate0:20170914 , adt:1 , trip:OW , JSON:Y , comp:Y , AirLine:LJ , Change: , SeatAvail:Y , \n"
     ]
    },
    {
     "name": "stderr",
     "output_type": "stream",
     "text": [
      "2017-08-11 08:12:10,029 root     DEBUG    Crawling Interpark domastic schedule site\n"
     ]
    },
    {
     "name": "stdout",
     "output_type": "stream",
     "text": [
      "End Simple crawling\n",
      "Start Simple crawling :  http://smartair.interpark.com/HtmlSearch/GetGoodsSmartList.aspx\n",
      ">> Parameters\n",
      "StayLength: , Soto:N , dep0:ICN , BEST:Y , chd:0 , inf:0 , SeatType:A , SplitNo:100 , arr0:NRT , FLEX:N , ptype:I , enc:u , depdate0:20170914 , adt:1 , trip:OW , JSON:Y , comp:Y , AirLine:TW , Change: , SeatAvail:Y , \n"
     ]
    },
    {
     "name": "stderr",
     "output_type": "stream",
     "text": [
      "2017-08-11 08:12:12,370 root     DEBUG    Crawling Interpark domastic schedule site\n"
     ]
    },
    {
     "name": "stdout",
     "output_type": "stream",
     "text": [
      "End Simple crawling\n",
      "Start Simple crawling :  http://smartair.interpark.com/HtmlSearch/GetGoodsSmartList.aspx\n",
      ">> Parameters\n",
      "StayLength: , Soto:N , dep0:ICN , BEST:Y , chd:0 , inf:0 , SeatType:A , SplitNo:100 , arr0:NRT , FLEX:N , ptype:I , enc:u , depdate0:20170914 , adt:1 , trip:OW , JSON:Y , comp:Y , AirLine:ZE , Change: , SeatAvail:Y , \n"
     ]
    },
    {
     "name": "stderr",
     "output_type": "stream",
     "text": [
      "2017-08-11 08:12:14,582 root     DEBUG    Crawling Interpark domastic schedule site\n"
     ]
    },
    {
     "name": "stdout",
     "output_type": "stream",
     "text": [
      "End Simple crawling\n",
      "Start Simple crawling :  http://smartair.interpark.com/HtmlSearch/GetGoodsSmartList.aspx\n",
      ">> Parameters\n",
      "StayLength: , Soto:N , dep0:ICN , BEST:Y , chd:0 , inf:0 , SeatType:A , SplitNo:100 , arr0:NRT , FLEX:N , ptype:I , enc:u , depdate0:20170915 , adt:1 , trip:OW , JSON:Y , comp:Y , AirLine:7C , Change: , SeatAvail:Y , \n"
     ]
    },
    {
     "name": "stderr",
     "output_type": "stream",
     "text": [
      "2017-08-11 08:12:15,241 root     DEBUG    Crawling Interpark domastic schedule site\n"
     ]
    },
    {
     "name": "stdout",
     "output_type": "stream",
     "text": [
      "End Simple crawling\n",
      "Start Simple crawling :  http://smartair.interpark.com/HtmlSearch/GetGoodsSmartList.aspx\n",
      ">> Parameters\n",
      "StayLength: , Soto:N , dep0:ICN , BEST:Y , chd:0 , inf:0 , SeatType:A , SplitNo:100 , arr0:NRT , FLEX:N , ptype:I , enc:u , depdate0:20170915 , adt:1 , trip:OW , JSON:Y , comp:Y , AirLine:LJ , Change: , SeatAvail:Y , \n"
     ]
    },
    {
     "name": "stderr",
     "output_type": "stream",
     "text": [
      "2017-08-11 08:12:17,531 root     DEBUG    Crawling Interpark domastic schedule site\n"
     ]
    },
    {
     "name": "stdout",
     "output_type": "stream",
     "text": [
      "End Simple crawling\n",
      "Start Simple crawling :  http://smartair.interpark.com/HtmlSearch/GetGoodsSmartList.aspx\n",
      ">> Parameters\n",
      "StayLength: , Soto:N , dep0:ICN , BEST:Y , chd:0 , inf:0 , SeatType:A , SplitNo:100 , arr0:NRT , FLEX:N , ptype:I , enc:u , depdate0:20170915 , adt:1 , trip:OW , JSON:Y , comp:Y , AirLine:TW , Change: , SeatAvail:Y , \n"
     ]
    },
    {
     "name": "stderr",
     "output_type": "stream",
     "text": [
      "2017-08-11 08:12:20,614 root     DEBUG    Crawling Interpark domastic schedule site\n"
     ]
    },
    {
     "name": "stdout",
     "output_type": "stream",
     "text": [
      "End Simple crawling\n",
      "Start Simple crawling :  http://smartair.interpark.com/HtmlSearch/GetGoodsSmartList.aspx\n",
      ">> Parameters\n",
      "StayLength: , Soto:N , dep0:ICN , BEST:Y , chd:0 , inf:0 , SeatType:A , SplitNo:100 , arr0:NRT , FLEX:N , ptype:I , enc:u , depdate0:20170915 , adt:1 , trip:OW , JSON:Y , comp:Y , AirLine:ZE , Change: , SeatAvail:Y , \n"
     ]
    },
    {
     "name": "stderr",
     "output_type": "stream",
     "text": [
      "2017-08-11 08:12:23,630 root     DEBUG    Crawling Interpark domastic schedule site\n"
     ]
    },
    {
     "name": "stdout",
     "output_type": "stream",
     "text": [
      "End Simple crawling\n",
      "Start Simple crawling :  http://smartair.interpark.com/HtmlSearch/GetGoodsSmartList.aspx\n",
      ">> Parameters\n",
      "StayLength: , Soto:N , dep0:ICN , BEST:Y , chd:0 , inf:0 , SeatType:A , SplitNo:100 , arr0:NRT , FLEX:N , ptype:I , enc:u , depdate0:20170916 , adt:1 , trip:OW , JSON:Y , comp:Y , AirLine:7C , Change: , SeatAvail:Y , \n"
     ]
    },
    {
     "name": "stderr",
     "output_type": "stream",
     "text": [
      "2017-08-11 08:12:24,546 root     DEBUG    Crawling Interpark domastic schedule site\n"
     ]
    },
    {
     "name": "stdout",
     "output_type": "stream",
     "text": [
      "End Simple crawling\n",
      "Start Simple crawling :  http://smartair.interpark.com/HtmlSearch/GetGoodsSmartList.aspx\n",
      ">> Parameters\n",
      "StayLength: , Soto:N , dep0:ICN , BEST:Y , chd:0 , inf:0 , SeatType:A , SplitNo:100 , arr0:NRT , FLEX:N , ptype:I , enc:u , depdate0:20170916 , adt:1 , trip:OW , JSON:Y , comp:Y , AirLine:LJ , Change: , SeatAvail:Y , \n"
     ]
    },
    {
     "name": "stderr",
     "output_type": "stream",
     "text": [
      "2017-08-11 08:12:26,844 root     DEBUG    Crawling Interpark domastic schedule site\n"
     ]
    },
    {
     "name": "stdout",
     "output_type": "stream",
     "text": [
      "End Simple crawling\n",
      "Start Simple crawling :  http://smartair.interpark.com/HtmlSearch/GetGoodsSmartList.aspx\n",
      ">> Parameters\n",
      "StayLength: , Soto:N , dep0:ICN , BEST:Y , chd:0 , inf:0 , SeatType:A , SplitNo:100 , arr0:NRT , FLEX:N , ptype:I , enc:u , depdate0:20170916 , adt:1 , trip:OW , JSON:Y , comp:Y , AirLine:TW , Change: , SeatAvail:Y , \n"
     ]
    },
    {
     "name": "stderr",
     "output_type": "stream",
     "text": [
      "2017-08-11 08:12:29,442 root     DEBUG    Crawling Interpark domastic schedule site\n"
     ]
    },
    {
     "name": "stdout",
     "output_type": "stream",
     "text": [
      "End Simple crawling\n",
      "Start Simple crawling :  http://smartair.interpark.com/HtmlSearch/GetGoodsSmartList.aspx\n",
      ">> Parameters\n",
      "StayLength: , Soto:N , dep0:ICN , BEST:Y , chd:0 , inf:0 , SeatType:A , SplitNo:100 , arr0:NRT , FLEX:N , ptype:I , enc:u , depdate0:20170916 , adt:1 , trip:OW , JSON:Y , comp:Y , AirLine:ZE , Change: , SeatAvail:Y , \n"
     ]
    },
    {
     "name": "stderr",
     "output_type": "stream",
     "text": [
      "2017-08-11 08:12:31,804 root     DEBUG    Crawling Interpark domastic schedule site\n"
     ]
    },
    {
     "name": "stdout",
     "output_type": "stream",
     "text": [
      "End Simple crawling\n",
      "Start Simple crawling :  http://smartair.interpark.com/HtmlSearch/GetGoodsSmartList.aspx\n",
      ">> Parameters\n",
      "StayLength: , Soto:N , dep0:ICN , BEST:Y , chd:0 , inf:0 , SeatType:A , SplitNo:100 , arr0:NRT , FLEX:N , ptype:I , enc:u , depdate0:20170917 , adt:1 , trip:OW , JSON:Y , comp:Y , AirLine:7C , Change: , SeatAvail:Y , \n"
     ]
    },
    {
     "name": "stderr",
     "output_type": "stream",
     "text": [
      "2017-08-11 08:12:32,504 root     DEBUG    Crawling Interpark domastic schedule site\n"
     ]
    },
    {
     "name": "stdout",
     "output_type": "stream",
     "text": [
      "End Simple crawling\n",
      "Start Simple crawling :  http://smartair.interpark.com/HtmlSearch/GetGoodsSmartList.aspx\n",
      ">> Parameters\n",
      "StayLength: , Soto:N , dep0:ICN , BEST:Y , chd:0 , inf:0 , SeatType:A , SplitNo:100 , arr0:NRT , FLEX:N , ptype:I , enc:u , depdate0:20170917 , adt:1 , trip:OW , JSON:Y , comp:Y , AirLine:LJ , Change: , SeatAvail:Y , \n"
     ]
    },
    {
     "name": "stderr",
     "output_type": "stream",
     "text": [
      "2017-08-11 08:12:35,325 root     DEBUG    Crawling Interpark domastic schedule site\n"
     ]
    },
    {
     "name": "stdout",
     "output_type": "stream",
     "text": [
      "End Simple crawling\n",
      "Start Simple crawling :  http://smartair.interpark.com/HtmlSearch/GetGoodsSmartList.aspx\n",
      ">> Parameters\n",
      "StayLength: , Soto:N , dep0:ICN , BEST:Y , chd:0 , inf:0 , SeatType:A , SplitNo:100 , arr0:NRT , FLEX:N , ptype:I , enc:u , depdate0:20170917 , adt:1 , trip:OW , JSON:Y , comp:Y , AirLine:TW , Change: , SeatAvail:Y , \n"
     ]
    },
    {
     "name": "stderr",
     "output_type": "stream",
     "text": [
      "2017-08-11 08:12:37,659 root     DEBUG    Crawling Interpark domastic schedule site\n"
     ]
    },
    {
     "name": "stdout",
     "output_type": "stream",
     "text": [
      "End Simple crawling\n",
      "Start Simple crawling :  http://smartair.interpark.com/HtmlSearch/GetGoodsSmartList.aspx\n",
      ">> Parameters\n",
      "StayLength: , Soto:N , dep0:ICN , BEST:Y , chd:0 , inf:0 , SeatType:A , SplitNo:100 , arr0:NRT , FLEX:N , ptype:I , enc:u , depdate0:20170917 , adt:1 , trip:OW , JSON:Y , comp:Y , AirLine:ZE , Change: , SeatAvail:Y , \n"
     ]
    },
    {
     "name": "stderr",
     "output_type": "stream",
     "text": [
      "2017-08-11 08:12:40,073 root     DEBUG    Crawling Interpark domastic schedule site\n"
     ]
    },
    {
     "name": "stdout",
     "output_type": "stream",
     "text": [
      "End Simple crawling\n",
      "Start Simple crawling :  http://smartair.interpark.com/HtmlSearch/GetGoodsSmartList.aspx\n",
      ">> Parameters\n",
      "StayLength: , Soto:N , dep0:ICN , BEST:Y , chd:0 , inf:0 , SeatType:A , SplitNo:100 , arr0:NRT , FLEX:N , ptype:I , enc:u , depdate0:20170918 , adt:1 , trip:OW , JSON:Y , comp:Y , AirLine:7C , Change: , SeatAvail:Y , \n"
     ]
    },
    {
     "name": "stderr",
     "output_type": "stream",
     "text": [
      "2017-08-11 08:12:40,671 root     DEBUG    Crawling Interpark domastic schedule site\n"
     ]
    },
    {
     "name": "stdout",
     "output_type": "stream",
     "text": [
      "End Simple crawling\n",
      "Start Simple crawling :  http://smartair.interpark.com/HtmlSearch/GetGoodsSmartList.aspx\n",
      ">> Parameters\n",
      "StayLength: , Soto:N , dep0:ICN , BEST:Y , chd:0 , inf:0 , SeatType:A , SplitNo:100 , arr0:NRT , FLEX:N , ptype:I , enc:u , depdate0:20170918 , adt:1 , trip:OW , JSON:Y , comp:Y , AirLine:LJ , Change: , SeatAvail:Y , \n"
     ]
    },
    {
     "name": "stderr",
     "output_type": "stream",
     "text": [
      "2017-08-11 08:12:42,974 root     DEBUG    Crawling Interpark domastic schedule site\n"
     ]
    },
    {
     "name": "stdout",
     "output_type": "stream",
     "text": [
      "End Simple crawling\n",
      "Start Simple crawling :  http://smartair.interpark.com/HtmlSearch/GetGoodsSmartList.aspx\n",
      ">> Parameters\n",
      "StayLength: , Soto:N , dep0:ICN , BEST:Y , chd:0 , inf:0 , SeatType:A , SplitNo:100 , arr0:NRT , FLEX:N , ptype:I , enc:u , depdate0:20170918 , adt:1 , trip:OW , JSON:Y , comp:Y , AirLine:TW , Change: , SeatAvail:Y , \n"
     ]
    },
    {
     "name": "stderr",
     "output_type": "stream",
     "text": [
      "2017-08-11 08:12:45,239 root     DEBUG    Crawling Interpark domastic schedule site\n"
     ]
    },
    {
     "name": "stdout",
     "output_type": "stream",
     "text": [
      "End Simple crawling\n",
      "Start Simple crawling :  http://smartair.interpark.com/HtmlSearch/GetGoodsSmartList.aspx\n",
      ">> Parameters\n",
      "StayLength: , Soto:N , dep0:ICN , BEST:Y , chd:0 , inf:0 , SeatType:A , SplitNo:100 , arr0:NRT , FLEX:N , ptype:I , enc:u , depdate0:20170918 , adt:1 , trip:OW , JSON:Y , comp:Y , AirLine:ZE , Change: , SeatAvail:Y , \n"
     ]
    },
    {
     "name": "stderr",
     "output_type": "stream",
     "text": [
      "2017-08-11 08:12:47,341 root     DEBUG    Crawling Interpark domastic schedule site\n"
     ]
    },
    {
     "name": "stdout",
     "output_type": "stream",
     "text": [
      "End Simple crawling\n",
      "Start Simple crawling :  http://smartair.interpark.com/HtmlSearch/GetGoodsSmartList.aspx\n",
      ">> Parameters\n",
      "StayLength: , Soto:N , dep0:ICN , BEST:Y , chd:0 , inf:0 , SeatType:A , SplitNo:100 , arr0:NRT , FLEX:N , ptype:I , enc:u , depdate0:20170919 , adt:1 , trip:OW , JSON:Y , comp:Y , AirLine:7C , Change: , SeatAvail:Y , \n"
     ]
    },
    {
     "name": "stderr",
     "output_type": "stream",
     "text": [
      "2017-08-11 08:12:47,992 root     DEBUG    Crawling Interpark domastic schedule site\n"
     ]
    },
    {
     "name": "stdout",
     "output_type": "stream",
     "text": [
      "End Simple crawling\n",
      "Start Simple crawling :  http://smartair.interpark.com/HtmlSearch/GetGoodsSmartList.aspx\n",
      ">> Parameters\n",
      "StayLength: , Soto:N , dep0:ICN , BEST:Y , chd:0 , inf:0 , SeatType:A , SplitNo:100 , arr0:NRT , FLEX:N , ptype:I , enc:u , depdate0:20170919 , adt:1 , trip:OW , JSON:Y , comp:Y , AirLine:LJ , Change: , SeatAvail:Y , \n"
     ]
    },
    {
     "name": "stderr",
     "output_type": "stream",
     "text": [
      "2017-08-11 08:12:50,384 root     DEBUG    Crawling Interpark domastic schedule site\n"
     ]
    },
    {
     "name": "stdout",
     "output_type": "stream",
     "text": [
      "End Simple crawling\n",
      "Start Simple crawling :  http://smartair.interpark.com/HtmlSearch/GetGoodsSmartList.aspx\n",
      ">> Parameters\n",
      "StayLength: , Soto:N , dep0:ICN , BEST:Y , chd:0 , inf:0 , SeatType:A , SplitNo:100 , arr0:NRT , FLEX:N , ptype:I , enc:u , depdate0:20170919 , adt:1 , trip:OW , JSON:Y , comp:Y , AirLine:TW , Change: , SeatAvail:Y , \n"
     ]
    },
    {
     "name": "stderr",
     "output_type": "stream",
     "text": [
      "2017-08-11 08:12:52,843 root     DEBUG    Crawling Interpark domastic schedule site\n"
     ]
    },
    {
     "name": "stdout",
     "output_type": "stream",
     "text": [
      "End Simple crawling\n",
      "Start Simple crawling :  http://smartair.interpark.com/HtmlSearch/GetGoodsSmartList.aspx\n",
      ">> Parameters\n",
      "StayLength: , Soto:N , dep0:ICN , BEST:Y , chd:0 , inf:0 , SeatType:A , SplitNo:100 , arr0:NRT , FLEX:N , ptype:I , enc:u , depdate0:20170919 , adt:1 , trip:OW , JSON:Y , comp:Y , AirLine:ZE , Change: , SeatAvail:Y , \n"
     ]
    },
    {
     "name": "stderr",
     "output_type": "stream",
     "text": [
      "2017-08-11 08:12:55,048 root     DEBUG    Crawling Interpark domastic schedule site\n"
     ]
    },
    {
     "name": "stdout",
     "output_type": "stream",
     "text": [
      "End Simple crawling\n",
      "Start Simple crawling :  http://smartair.interpark.com/HtmlSearch/GetGoodsSmartList.aspx\n",
      ">> Parameters\n",
      "StayLength: , Soto:N , dep0:ICN , BEST:Y , chd:0 , inf:0 , SeatType:A , SplitNo:100 , arr0:NRT , FLEX:N , ptype:I , enc:u , depdate0:20170920 , adt:1 , trip:OW , JSON:Y , comp:Y , AirLine:7C , Change: , SeatAvail:Y , \n"
     ]
    },
    {
     "name": "stderr",
     "output_type": "stream",
     "text": [
      "2017-08-11 08:12:55,715 root     DEBUG    Crawling Interpark domastic schedule site\n"
     ]
    },
    {
     "name": "stdout",
     "output_type": "stream",
     "text": [
      "End Simple crawling\n",
      "Start Simple crawling :  http://smartair.interpark.com/HtmlSearch/GetGoodsSmartList.aspx\n",
      ">> Parameters\n",
      "StayLength: , Soto:N , dep0:ICN , BEST:Y , chd:0 , inf:0 , SeatType:A , SplitNo:100 , arr0:NRT , FLEX:N , ptype:I , enc:u , depdate0:20170920 , adt:1 , trip:OW , JSON:Y , comp:Y , AirLine:LJ , Change: , SeatAvail:Y , \n"
     ]
    },
    {
     "name": "stderr",
     "output_type": "stream",
     "text": [
      "2017-08-11 08:12:57,943 root     DEBUG    Crawling Interpark domastic schedule site\n"
     ]
    },
    {
     "name": "stdout",
     "output_type": "stream",
     "text": [
      "End Simple crawling\n",
      "Start Simple crawling :  http://smartair.interpark.com/HtmlSearch/GetGoodsSmartList.aspx\n",
      ">> Parameters\n",
      "StayLength: , Soto:N , dep0:ICN , BEST:Y , chd:0 , inf:0 , SeatType:A , SplitNo:100 , arr0:NRT , FLEX:N , ptype:I , enc:u , depdate0:20170920 , adt:1 , trip:OW , JSON:Y , comp:Y , AirLine:TW , Change: , SeatAvail:Y , \n"
     ]
    },
    {
     "name": "stderr",
     "output_type": "stream",
     "text": [
      "2017-08-11 08:13:00,250 root     DEBUG    Crawling Interpark domastic schedule site\n"
     ]
    },
    {
     "name": "stdout",
     "output_type": "stream",
     "text": [
      "End Simple crawling\n",
      "Start Simple crawling :  http://smartair.interpark.com/HtmlSearch/GetGoodsSmartList.aspx\n",
      ">> Parameters\n",
      "StayLength: , Soto:N , dep0:ICN , BEST:Y , chd:0 , inf:0 , SeatType:A , SplitNo:100 , arr0:NRT , FLEX:N , ptype:I , enc:u , depdate0:20170920 , adt:1 , trip:OW , JSON:Y , comp:Y , AirLine:ZE , Change: , SeatAvail:Y , \n"
     ]
    },
    {
     "name": "stderr",
     "output_type": "stream",
     "text": [
      "2017-08-11 08:13:02,582 root     DEBUG    Crawling Interpark domastic schedule site\n"
     ]
    },
    {
     "name": "stdout",
     "output_type": "stream",
     "text": [
      "End Simple crawling\n",
      "Start Simple crawling :  http://smartair.interpark.com/HtmlSearch/GetGoodsSmartList.aspx\n",
      ">> Parameters\n",
      "StayLength: , Soto:N , dep0:ICN , BEST:Y , chd:0 , inf:0 , SeatType:A , SplitNo:100 , arr0:NRT , FLEX:N , ptype:I , enc:u , depdate0:20170921 , adt:1 , trip:OW , JSON:Y , comp:Y , AirLine:7C , Change: , SeatAvail:Y , \n"
     ]
    },
    {
     "name": "stderr",
     "output_type": "stream",
     "text": [
      "2017-08-11 08:13:03,212 root     DEBUG    Crawling Interpark domastic schedule site\n"
     ]
    },
    {
     "name": "stdout",
     "output_type": "stream",
     "text": [
      "End Simple crawling\n",
      "Start Simple crawling :  http://smartair.interpark.com/HtmlSearch/GetGoodsSmartList.aspx\n",
      ">> Parameters\n",
      "StayLength: , Soto:N , dep0:ICN , BEST:Y , chd:0 , inf:0 , SeatType:A , SplitNo:100 , arr0:NRT , FLEX:N , ptype:I , enc:u , depdate0:20170921 , adt:1 , trip:OW , JSON:Y , comp:Y , AirLine:LJ , Change: , SeatAvail:Y , \n"
     ]
    },
    {
     "name": "stderr",
     "output_type": "stream",
     "text": [
      "2017-08-11 08:13:05,439 root     DEBUG    Crawling Interpark domastic schedule site\n"
     ]
    },
    {
     "name": "stdout",
     "output_type": "stream",
     "text": [
      "End Simple crawling\n",
      "Start Simple crawling :  http://smartair.interpark.com/HtmlSearch/GetGoodsSmartList.aspx\n",
      ">> Parameters\n",
      "StayLength: , Soto:N , dep0:ICN , BEST:Y , chd:0 , inf:0 , SeatType:A , SplitNo:100 , arr0:NRT , FLEX:N , ptype:I , enc:u , depdate0:20170921 , adt:1 , trip:OW , JSON:Y , comp:Y , AirLine:TW , Change: , SeatAvail:Y , \n"
     ]
    },
    {
     "name": "stderr",
     "output_type": "stream",
     "text": [
      "2017-08-11 08:13:07,994 root     DEBUG    Crawling Interpark domastic schedule site\n"
     ]
    },
    {
     "name": "stdout",
     "output_type": "stream",
     "text": [
      "End Simple crawling\n",
      "Start Simple crawling :  http://smartair.interpark.com/HtmlSearch/GetGoodsSmartList.aspx\n",
      ">> Parameters\n",
      "StayLength: , Soto:N , dep0:ICN , BEST:Y , chd:0 , inf:0 , SeatType:A , SplitNo:100 , arr0:NRT , FLEX:N , ptype:I , enc:u , depdate0:20170921 , adt:1 , trip:OW , JSON:Y , comp:Y , AirLine:ZE , Change: , SeatAvail:Y , \n"
     ]
    },
    {
     "name": "stderr",
     "output_type": "stream",
     "text": [
      "2017-08-11 08:13:10,286 root     DEBUG    Crawling Interpark domastic schedule site\n"
     ]
    },
    {
     "name": "stdout",
     "output_type": "stream",
     "text": [
      "End Simple crawling\n",
      "Start Simple crawling :  http://smartair.interpark.com/HtmlSearch/GetGoodsSmartList.aspx\n",
      ">> Parameters\n",
      "StayLength: , Soto:N , dep0:ICN , BEST:Y , chd:0 , inf:0 , SeatType:A , SplitNo:100 , arr0:NRT , FLEX:N , ptype:I , enc:u , depdate0:20170922 , adt:1 , trip:OW , JSON:Y , comp:Y , AirLine:7C , Change: , SeatAvail:Y , \n"
     ]
    },
    {
     "name": "stderr",
     "output_type": "stream",
     "text": [
      "2017-08-11 08:13:10,933 root     DEBUG    Crawling Interpark domastic schedule site\n"
     ]
    },
    {
     "name": "stdout",
     "output_type": "stream",
     "text": [
      "End Simple crawling\n",
      "Start Simple crawling :  http://smartair.interpark.com/HtmlSearch/GetGoodsSmartList.aspx\n",
      ">> Parameters\n",
      "StayLength: , Soto:N , dep0:ICN , BEST:Y , chd:0 , inf:0 , SeatType:A , SplitNo:100 , arr0:NRT , FLEX:N , ptype:I , enc:u , depdate0:20170922 , adt:1 , trip:OW , JSON:Y , comp:Y , AirLine:LJ , Change: , SeatAvail:Y , \n"
     ]
    },
    {
     "name": "stderr",
     "output_type": "stream",
     "text": [
      "2017-08-11 08:13:13,120 root     DEBUG    Crawling Interpark domastic schedule site\n"
     ]
    },
    {
     "name": "stdout",
     "output_type": "stream",
     "text": [
      "End Simple crawling\n",
      "Start Simple crawling :  http://smartair.interpark.com/HtmlSearch/GetGoodsSmartList.aspx\n",
      ">> Parameters\n",
      "StayLength: , Soto:N , dep0:ICN , BEST:Y , chd:0 , inf:0 , SeatType:A , SplitNo:100 , arr0:NRT , FLEX:N , ptype:I , enc:u , depdate0:20170922 , adt:1 , trip:OW , JSON:Y , comp:Y , AirLine:TW , Change: , SeatAvail:Y , \n"
     ]
    },
    {
     "name": "stderr",
     "output_type": "stream",
     "text": [
      "2017-08-11 08:13:15,366 root     DEBUG    Crawling Interpark domastic schedule site\n"
     ]
    },
    {
     "name": "stdout",
     "output_type": "stream",
     "text": [
      "End Simple crawling\n",
      "Start Simple crawling :  http://smartair.interpark.com/HtmlSearch/GetGoodsSmartList.aspx\n",
      ">> Parameters\n",
      "StayLength: , Soto:N , dep0:ICN , BEST:Y , chd:0 , inf:0 , SeatType:A , SplitNo:100 , arr0:NRT , FLEX:N , ptype:I , enc:u , depdate0:20170922 , adt:1 , trip:OW , JSON:Y , comp:Y , AirLine:ZE , Change: , SeatAvail:Y , \n"
     ]
    },
    {
     "name": "stderr",
     "output_type": "stream",
     "text": [
      "2017-08-11 08:13:17,546 root     DEBUG    Crawling Interpark domastic schedule site\n"
     ]
    },
    {
     "name": "stdout",
     "output_type": "stream",
     "text": [
      "End Simple crawling\n",
      "Start Simple crawling :  http://smartair.interpark.com/HtmlSearch/GetGoodsSmartList.aspx\n",
      ">> Parameters\n",
      "StayLength: , Soto:N , dep0:ICN , BEST:Y , chd:0 , inf:0 , SeatType:A , SplitNo:100 , arr0:NRT , FLEX:N , ptype:I , enc:u , depdate0:20170923 , adt:1 , trip:OW , JSON:Y , comp:Y , AirLine:7C , Change: , SeatAvail:Y , \n"
     ]
    },
    {
     "name": "stderr",
     "output_type": "stream",
     "text": [
      "2017-08-11 08:13:18,197 root     DEBUG    Crawling Interpark domastic schedule site\n"
     ]
    },
    {
     "name": "stdout",
     "output_type": "stream",
     "text": [
      "End Simple crawling\n",
      "Start Simple crawling :  http://smartair.interpark.com/HtmlSearch/GetGoodsSmartList.aspx\n",
      ">> Parameters\n",
      "StayLength: , Soto:N , dep0:ICN , BEST:Y , chd:0 , inf:0 , SeatType:A , SplitNo:100 , arr0:NRT , FLEX:N , ptype:I , enc:u , depdate0:20170923 , adt:1 , trip:OW , JSON:Y , comp:Y , AirLine:LJ , Change: , SeatAvail:Y , \n"
     ]
    },
    {
     "name": "stderr",
     "output_type": "stream",
     "text": [
      "2017-08-11 08:13:20,394 root     DEBUG    Crawling Interpark domastic schedule site\n"
     ]
    },
    {
     "name": "stdout",
     "output_type": "stream",
     "text": [
      "End Simple crawling\n",
      "Start Simple crawling :  http://smartair.interpark.com/HtmlSearch/GetGoodsSmartList.aspx\n",
      ">> Parameters\n",
      "StayLength: , Soto:N , dep0:ICN , BEST:Y , chd:0 , inf:0 , SeatType:A , SplitNo:100 , arr0:NRT , FLEX:N , ptype:I , enc:u , depdate0:20170923 , adt:1 , trip:OW , JSON:Y , comp:Y , AirLine:TW , Change: , SeatAvail:Y , \n"
     ]
    },
    {
     "name": "stderr",
     "output_type": "stream",
     "text": [
      "2017-08-11 08:13:22,710 root     DEBUG    Crawling Interpark domastic schedule site\n"
     ]
    },
    {
     "name": "stdout",
     "output_type": "stream",
     "text": [
      "End Simple crawling\n",
      "Start Simple crawling :  http://smartair.interpark.com/HtmlSearch/GetGoodsSmartList.aspx\n",
      ">> Parameters\n",
      "StayLength: , Soto:N , dep0:ICN , BEST:Y , chd:0 , inf:0 , SeatType:A , SplitNo:100 , arr0:NRT , FLEX:N , ptype:I , enc:u , depdate0:20170923 , adt:1 , trip:OW , JSON:Y , comp:Y , AirLine:ZE , Change: , SeatAvail:Y , \n"
     ]
    },
    {
     "name": "stderr",
     "output_type": "stream",
     "text": [
      "2017-08-11 08:13:24,963 root     DEBUG    Crawling Interpark domastic schedule site\n"
     ]
    },
    {
     "name": "stdout",
     "output_type": "stream",
     "text": [
      "End Simple crawling\n",
      "Start Simple crawling :  http://smartair.interpark.com/HtmlSearch/GetGoodsSmartList.aspx\n",
      ">> Parameters\n",
      "StayLength: , Soto:N , dep0:ICN , BEST:Y , chd:0 , inf:0 , SeatType:A , SplitNo:100 , arr0:NRT , FLEX:N , ptype:I , enc:u , depdate0:20170924 , adt:1 , trip:OW , JSON:Y , comp:Y , AirLine:7C , Change: , SeatAvail:Y , \n"
     ]
    },
    {
     "name": "stderr",
     "output_type": "stream",
     "text": [
      "2017-08-11 08:13:25,679 root     DEBUG    Crawling Interpark domastic schedule site\n"
     ]
    },
    {
     "name": "stdout",
     "output_type": "stream",
     "text": [
      "End Simple crawling\n",
      "Start Simple crawling :  http://smartair.interpark.com/HtmlSearch/GetGoodsSmartList.aspx\n",
      ">> Parameters\n",
      "StayLength: , Soto:N , dep0:ICN , BEST:Y , chd:0 , inf:0 , SeatType:A , SplitNo:100 , arr0:NRT , FLEX:N , ptype:I , enc:u , depdate0:20170924 , adt:1 , trip:OW , JSON:Y , comp:Y , AirLine:LJ , Change: , SeatAvail:Y , \n"
     ]
    },
    {
     "name": "stderr",
     "output_type": "stream",
     "text": [
      "2017-08-11 08:13:27,796 root     DEBUG    Crawling Interpark domastic schedule site\n"
     ]
    },
    {
     "name": "stdout",
     "output_type": "stream",
     "text": [
      "End Simple crawling\n",
      "Start Simple crawling :  http://smartair.interpark.com/HtmlSearch/GetGoodsSmartList.aspx\n",
      ">> Parameters\n",
      "StayLength: , Soto:N , dep0:ICN , BEST:Y , chd:0 , inf:0 , SeatType:A , SplitNo:100 , arr0:NRT , FLEX:N , ptype:I , enc:u , depdate0:20170924 , adt:1 , trip:OW , JSON:Y , comp:Y , AirLine:TW , Change: , SeatAvail:Y , \n"
     ]
    },
    {
     "name": "stderr",
     "output_type": "stream",
     "text": [
      "2017-08-11 08:13:29,985 root     DEBUG    Crawling Interpark domastic schedule site\n"
     ]
    },
    {
     "name": "stdout",
     "output_type": "stream",
     "text": [
      "End Simple crawling\n",
      "Start Simple crawling :  http://smartair.interpark.com/HtmlSearch/GetGoodsSmartList.aspx\n",
      ">> Parameters\n",
      "StayLength: , Soto:N , dep0:ICN , BEST:Y , chd:0 , inf:0 , SeatType:A , SplitNo:100 , arr0:NRT , FLEX:N , ptype:I , enc:u , depdate0:20170924 , adt:1 , trip:OW , JSON:Y , comp:Y , AirLine:ZE , Change: , SeatAvail:Y , \n"
     ]
    },
    {
     "name": "stderr",
     "output_type": "stream",
     "text": [
      "2017-08-11 08:13:32,438 root     DEBUG    Crawling Interpark domastic schedule site\n"
     ]
    },
    {
     "name": "stdout",
     "output_type": "stream",
     "text": [
      "End Simple crawling\n",
      "Start Simple crawling :  http://smartair.interpark.com/HtmlSearch/GetGoodsSmartList.aspx\n",
      ">> Parameters\n",
      "StayLength: , Soto:N , dep0:ICN , BEST:Y , chd:0 , inf:0 , SeatType:A , SplitNo:100 , arr0:NRT , FLEX:N , ptype:I , enc:u , depdate0:20170925 , adt:1 , trip:OW , JSON:Y , comp:Y , AirLine:7C , Change: , SeatAvail:Y , \n"
     ]
    },
    {
     "name": "stderr",
     "output_type": "stream",
     "text": [
      "2017-08-11 08:13:33,090 root     DEBUG    Crawling Interpark domastic schedule site\n"
     ]
    },
    {
     "name": "stdout",
     "output_type": "stream",
     "text": [
      "End Simple crawling\n",
      "Start Simple crawling :  http://smartair.interpark.com/HtmlSearch/GetGoodsSmartList.aspx\n",
      ">> Parameters\n",
      "StayLength: , Soto:N , dep0:ICN , BEST:Y , chd:0 , inf:0 , SeatType:A , SplitNo:100 , arr0:NRT , FLEX:N , ptype:I , enc:u , depdate0:20170925 , adt:1 , trip:OW , JSON:Y , comp:Y , AirLine:LJ , Change: , SeatAvail:Y , \n"
     ]
    },
    {
     "name": "stderr",
     "output_type": "stream",
     "text": [
      "2017-08-11 08:13:35,498 root     DEBUG    Crawling Interpark domastic schedule site\n"
     ]
    },
    {
     "name": "stdout",
     "output_type": "stream",
     "text": [
      "End Simple crawling\n",
      "Start Simple crawling :  http://smartair.interpark.com/HtmlSearch/GetGoodsSmartList.aspx\n",
      ">> Parameters\n",
      "StayLength: , Soto:N , dep0:ICN , BEST:Y , chd:0 , inf:0 , SeatType:A , SplitNo:100 , arr0:NRT , FLEX:N , ptype:I , enc:u , depdate0:20170925 , adt:1 , trip:OW , JSON:Y , comp:Y , AirLine:TW , Change: , SeatAvail:Y , \n"
     ]
    },
    {
     "name": "stderr",
     "output_type": "stream",
     "text": [
      "2017-08-11 08:13:37,698 root     DEBUG    Crawling Interpark domastic schedule site\n"
     ]
    },
    {
     "name": "stdout",
     "output_type": "stream",
     "text": [
      "End Simple crawling\n",
      "Start Simple crawling :  http://smartair.interpark.com/HtmlSearch/GetGoodsSmartList.aspx\n",
      ">> Parameters\n",
      "StayLength: , Soto:N , dep0:ICN , BEST:Y , chd:0 , inf:0 , SeatType:A , SplitNo:100 , arr0:NRT , FLEX:N , ptype:I , enc:u , depdate0:20170925 , adt:1 , trip:OW , JSON:Y , comp:Y , AirLine:ZE , Change: , SeatAvail:Y , \n"
     ]
    },
    {
     "name": "stderr",
     "output_type": "stream",
     "text": [
      "2017-08-11 08:13:40,094 root     DEBUG    Crawling Interpark domastic schedule site\n"
     ]
    },
    {
     "name": "stdout",
     "output_type": "stream",
     "text": [
      "End Simple crawling\n",
      "Start Simple crawling :  http://smartair.interpark.com/HtmlSearch/GetGoodsSmartList.aspx\n",
      ">> Parameters\n",
      "StayLength: , Soto:N , dep0:ICN , BEST:Y , chd:0 , inf:0 , SeatType:A , SplitNo:100 , arr0:NRT , FLEX:N , ptype:I , enc:u , depdate0:20170926 , adt:1 , trip:OW , JSON:Y , comp:Y , AirLine:7C , Change: , SeatAvail:Y , \n"
     ]
    },
    {
     "name": "stderr",
     "output_type": "stream",
     "text": [
      "2017-08-11 08:13:40,976 root     DEBUG    Crawling Interpark domastic schedule site\n"
     ]
    },
    {
     "name": "stdout",
     "output_type": "stream",
     "text": [
      "End Simple crawling\n",
      "Start Simple crawling :  http://smartair.interpark.com/HtmlSearch/GetGoodsSmartList.aspx\n",
      ">> Parameters\n",
      "StayLength: , Soto:N , dep0:ICN , BEST:Y , chd:0 , inf:0 , SeatType:A , SplitNo:100 , arr0:NRT , FLEX:N , ptype:I , enc:u , depdate0:20170926 , adt:1 , trip:OW , JSON:Y , comp:Y , AirLine:LJ , Change: , SeatAvail:Y , \n"
     ]
    },
    {
     "name": "stderr",
     "output_type": "stream",
     "text": [
      "2017-08-11 08:13:43,391 root     DEBUG    Crawling Interpark domastic schedule site\n"
     ]
    },
    {
     "name": "stdout",
     "output_type": "stream",
     "text": [
      "End Simple crawling\n",
      "Start Simple crawling :  http://smartair.interpark.com/HtmlSearch/GetGoodsSmartList.aspx\n",
      ">> Parameters\n",
      "StayLength: , Soto:N , dep0:ICN , BEST:Y , chd:0 , inf:0 , SeatType:A , SplitNo:100 , arr0:NRT , FLEX:N , ptype:I , enc:u , depdate0:20170926 , adt:1 , trip:OW , JSON:Y , comp:Y , AirLine:TW , Change: , SeatAvail:Y , \n"
     ]
    },
    {
     "name": "stderr",
     "output_type": "stream",
     "text": [
      "2017-08-11 08:13:45,890 root     DEBUG    Crawling Interpark domastic schedule site\n"
     ]
    },
    {
     "name": "stdout",
     "output_type": "stream",
     "text": [
      "End Simple crawling\n",
      "Start Simple crawling :  http://smartair.interpark.com/HtmlSearch/GetGoodsSmartList.aspx\n",
      ">> Parameters\n",
      "StayLength: , Soto:N , dep0:ICN , BEST:Y , chd:0 , inf:0 , SeatType:A , SplitNo:100 , arr0:NRT , FLEX:N , ptype:I , enc:u , depdate0:20170926 , adt:1 , trip:OW , JSON:Y , comp:Y , AirLine:ZE , Change: , SeatAvail:Y , \n"
     ]
    },
    {
     "name": "stderr",
     "output_type": "stream",
     "text": [
      "2017-08-11 08:13:48,278 root     DEBUG    Crawling Interpark domastic schedule site\n"
     ]
    },
    {
     "name": "stdout",
     "output_type": "stream",
     "text": [
      "End Simple crawling\n",
      "Start Simple crawling :  http://smartair.interpark.com/HtmlSearch/GetGoodsSmartList.aspx\n",
      ">> Parameters\n",
      "StayLength: , Soto:N , dep0:ICN , BEST:Y , chd:0 , inf:0 , SeatType:A , SplitNo:100 , arr0:NRT , FLEX:N , ptype:I , enc:u , depdate0:20170927 , adt:1 , trip:OW , JSON:Y , comp:Y , AirLine:7C , Change: , SeatAvail:Y , \n"
     ]
    },
    {
     "name": "stderr",
     "output_type": "stream",
     "text": [
      "2017-08-11 08:13:49,173 root     DEBUG    Crawling Interpark domastic schedule site\n"
     ]
    },
    {
     "name": "stdout",
     "output_type": "stream",
     "text": [
      "End Simple crawling\n",
      "Start Simple crawling :  http://smartair.interpark.com/HtmlSearch/GetGoodsSmartList.aspx\n",
      ">> Parameters\n",
      "StayLength: , Soto:N , dep0:ICN , BEST:Y , chd:0 , inf:0 , SeatType:A , SplitNo:100 , arr0:NRT , FLEX:N , ptype:I , enc:u , depdate0:20170927 , adt:1 , trip:OW , JSON:Y , comp:Y , AirLine:LJ , Change: , SeatAvail:Y , \n"
     ]
    },
    {
     "name": "stderr",
     "output_type": "stream",
     "text": [
      "2017-08-11 08:13:51,589 root     DEBUG    Crawling Interpark domastic schedule site\n"
     ]
    },
    {
     "name": "stdout",
     "output_type": "stream",
     "text": [
      "End Simple crawling\n",
      "Start Simple crawling :  http://smartair.interpark.com/HtmlSearch/GetGoodsSmartList.aspx\n",
      ">> Parameters\n",
      "StayLength: , Soto:N , dep0:ICN , BEST:Y , chd:0 , inf:0 , SeatType:A , SplitNo:100 , arr0:NRT , FLEX:N , ptype:I , enc:u , depdate0:20170927 , adt:1 , trip:OW , JSON:Y , comp:Y , AirLine:TW , Change: , SeatAvail:Y , \n"
     ]
    },
    {
     "name": "stderr",
     "output_type": "stream",
     "text": [
      "2017-08-11 08:13:54,149 root     DEBUG    Crawling Interpark domastic schedule site\n"
     ]
    },
    {
     "name": "stdout",
     "output_type": "stream",
     "text": [
      "End Simple crawling\n",
      "Start Simple crawling :  http://smartair.interpark.com/HtmlSearch/GetGoodsSmartList.aspx\n",
      ">> Parameters\n",
      "StayLength: , Soto:N , dep0:ICN , BEST:Y , chd:0 , inf:0 , SeatType:A , SplitNo:100 , arr0:NRT , FLEX:N , ptype:I , enc:u , depdate0:20170927 , adt:1 , trip:OW , JSON:Y , comp:Y , AirLine:ZE , Change: , SeatAvail:Y , \n"
     ]
    },
    {
     "name": "stderr",
     "output_type": "stream",
     "text": [
      "2017-08-11 08:13:56,338 root     DEBUG    Crawling Interpark domastic schedule site\n"
     ]
    },
    {
     "name": "stdout",
     "output_type": "stream",
     "text": [
      "End Simple crawling\n",
      "Start Simple crawling :  http://smartair.interpark.com/HtmlSearch/GetGoodsSmartList.aspx\n",
      ">> Parameters\n",
      "StayLength: , Soto:N , dep0:ICN , BEST:Y , chd:0 , inf:0 , SeatType:A , SplitNo:100 , arr0:NRT , FLEX:N , ptype:I , enc:u , depdate0:20170928 , adt:1 , trip:OW , JSON:Y , comp:Y , AirLine:7C , Change: , SeatAvail:Y , \n"
     ]
    },
    {
     "name": "stderr",
     "output_type": "stream",
     "text": [
      "2017-08-11 08:13:56,950 root     DEBUG    Crawling Interpark domastic schedule site\n"
     ]
    },
    {
     "name": "stdout",
     "output_type": "stream",
     "text": [
      "End Simple crawling\n",
      "Start Simple crawling :  http://smartair.interpark.com/HtmlSearch/GetGoodsSmartList.aspx\n",
      ">> Parameters\n",
      "StayLength: , Soto:N , dep0:ICN , BEST:Y , chd:0 , inf:0 , SeatType:A , SplitNo:100 , arr0:NRT , FLEX:N , ptype:I , enc:u , depdate0:20170928 , adt:1 , trip:OW , JSON:Y , comp:Y , AirLine:LJ , Change: , SeatAvail:Y , \n"
     ]
    },
    {
     "name": "stderr",
     "output_type": "stream",
     "text": [
      "2017-08-11 08:13:59,134 root     DEBUG    Crawling Interpark domastic schedule site\n"
     ]
    },
    {
     "name": "stdout",
     "output_type": "stream",
     "text": [
      "End Simple crawling\n",
      "Start Simple crawling :  http://smartair.interpark.com/HtmlSearch/GetGoodsSmartList.aspx\n",
      ">> Parameters\n",
      "StayLength: , Soto:N , dep0:ICN , BEST:Y , chd:0 , inf:0 , SeatType:A , SplitNo:100 , arr0:NRT , FLEX:N , ptype:I , enc:u , depdate0:20170928 , adt:1 , trip:OW , JSON:Y , comp:Y , AirLine:TW , Change: , SeatAvail:Y , \n"
     ]
    },
    {
     "name": "stderr",
     "output_type": "stream",
     "text": [
      "2017-08-11 08:14:01,449 root     DEBUG    Crawling Interpark domastic schedule site\n"
     ]
    },
    {
     "name": "stdout",
     "output_type": "stream",
     "text": [
      "End Simple crawling\n",
      "Start Simple crawling :  http://smartair.interpark.com/HtmlSearch/GetGoodsSmartList.aspx\n",
      ">> Parameters\n",
      "StayLength: , Soto:N , dep0:ICN , BEST:Y , chd:0 , inf:0 , SeatType:A , SplitNo:100 , arr0:NRT , FLEX:N , ptype:I , enc:u , depdate0:20170928 , adt:1 , trip:OW , JSON:Y , comp:Y , AirLine:ZE , Change: , SeatAvail:Y , \n"
     ]
    },
    {
     "name": "stderr",
     "output_type": "stream",
     "text": [
      "2017-08-11 08:14:03,786 root     DEBUG    Crawling Interpark domastic schedule site\n"
     ]
    },
    {
     "name": "stdout",
     "output_type": "stream",
     "text": [
      "End Simple crawling\n",
      "Start Simple crawling :  http://smartair.interpark.com/HtmlSearch/GetGoodsSmartList.aspx\n",
      ">> Parameters\n",
      "StayLength: , Soto:N , dep0:ICN , BEST:Y , chd:0 , inf:0 , SeatType:A , SplitNo:100 , arr0:NRT , FLEX:N , ptype:I , enc:u , depdate0:20170929 , adt:1 , trip:OW , JSON:Y , comp:Y , AirLine:7C , Change: , SeatAvail:Y , \n"
     ]
    },
    {
     "name": "stderr",
     "output_type": "stream",
     "text": [
      "2017-08-11 08:14:04,329 root     DEBUG    Crawling Interpark domastic schedule site\n"
     ]
    },
    {
     "name": "stdout",
     "output_type": "stream",
     "text": [
      "End Simple crawling\n",
      "Start Simple crawling :  http://smartair.interpark.com/HtmlSearch/GetGoodsSmartList.aspx\n",
      ">> Parameters\n",
      "StayLength: , Soto:N , dep0:ICN , BEST:Y , chd:0 , inf:0 , SeatType:A , SplitNo:100 , arr0:NRT , FLEX:N , ptype:I , enc:u , depdate0:20170929 , adt:1 , trip:OW , JSON:Y , comp:Y , AirLine:LJ , Change: , SeatAvail:Y , \n"
     ]
    },
    {
     "name": "stderr",
     "output_type": "stream",
     "text": [
      "2017-08-11 08:14:06,509 root     DEBUG    Crawling Interpark domastic schedule site\n"
     ]
    },
    {
     "name": "stdout",
     "output_type": "stream",
     "text": [
      "End Simple crawling\n",
      "Start Simple crawling :  http://smartair.interpark.com/HtmlSearch/GetGoodsSmartList.aspx\n",
      ">> Parameters\n",
      "StayLength: , Soto:N , dep0:ICN , BEST:Y , chd:0 , inf:0 , SeatType:A , SplitNo:100 , arr0:NRT , FLEX:N , ptype:I , enc:u , depdate0:20170929 , adt:1 , trip:OW , JSON:Y , comp:Y , AirLine:TW , Change: , SeatAvail:Y , \n"
     ]
    },
    {
     "name": "stderr",
     "output_type": "stream",
     "text": [
      "2017-08-11 08:14:08,714 root     DEBUG    Crawling Interpark domastic schedule site\n"
     ]
    },
    {
     "name": "stdout",
     "output_type": "stream",
     "text": [
      "End Simple crawling\n",
      "Start Simple crawling :  http://smartair.interpark.com/HtmlSearch/GetGoodsSmartList.aspx\n",
      ">> Parameters\n",
      "StayLength: , Soto:N , dep0:ICN , BEST:Y , chd:0 , inf:0 , SeatType:A , SplitNo:100 , arr0:NRT , FLEX:N , ptype:I , enc:u , depdate0:20170929 , adt:1 , trip:OW , JSON:Y , comp:Y , AirLine:ZE , Change: , SeatAvail:Y , \n"
     ]
    },
    {
     "name": "stderr",
     "output_type": "stream",
     "text": [
      "2017-08-11 08:14:10,857 root     DEBUG    Crawling Interpark domastic schedule site\n"
     ]
    },
    {
     "name": "stdout",
     "output_type": "stream",
     "text": [
      "End Simple crawling\n",
      "Start Simple crawling :  http://smartair.interpark.com/HtmlSearch/GetGoodsSmartList.aspx\n",
      ">> Parameters\n",
      "StayLength: , Soto:N , dep0:ICN , BEST:Y , chd:0 , inf:0 , SeatType:A , SplitNo:100 , arr0:NRT , FLEX:N , ptype:I , enc:u , depdate0:20170930 , adt:1 , trip:OW , JSON:Y , comp:Y , AirLine:7C , Change: , SeatAvail:Y , \n"
     ]
    },
    {
     "name": "stderr",
     "output_type": "stream",
     "text": [
      "2017-08-11 08:14:11,381 root     DEBUG    Crawling Interpark domastic schedule site\n"
     ]
    },
    {
     "name": "stdout",
     "output_type": "stream",
     "text": [
      "End Simple crawling\n",
      "Start Simple crawling :  http://smartair.interpark.com/HtmlSearch/GetGoodsSmartList.aspx\n",
      ">> Parameters\n",
      "StayLength: , Soto:N , dep0:ICN , BEST:Y , chd:0 , inf:0 , SeatType:A , SplitNo:100 , arr0:NRT , FLEX:N , ptype:I , enc:u , depdate0:20170930 , adt:1 , trip:OW , JSON:Y , comp:Y , AirLine:LJ , Change: , SeatAvail:Y , \n"
     ]
    },
    {
     "name": "stderr",
     "output_type": "stream",
     "text": [
      "2017-08-11 08:14:13,535 root     DEBUG    Crawling Interpark domastic schedule site\n"
     ]
    },
    {
     "name": "stdout",
     "output_type": "stream",
     "text": [
      "End Simple crawling\n",
      "Start Simple crawling :  http://smartair.interpark.com/HtmlSearch/GetGoodsSmartList.aspx\n",
      ">> Parameters\n",
      "StayLength: , Soto:N , dep0:ICN , BEST:Y , chd:0 , inf:0 , SeatType:A , SplitNo:100 , arr0:NRT , FLEX:N , ptype:I , enc:u , depdate0:20170930 , adt:1 , trip:OW , JSON:Y , comp:Y , AirLine:TW , Change: , SeatAvail:Y , \n"
     ]
    },
    {
     "name": "stderr",
     "output_type": "stream",
     "text": [
      "2017-08-11 08:14:15,748 root     DEBUG    Crawling Interpark domastic schedule site\n"
     ]
    },
    {
     "name": "stdout",
     "output_type": "stream",
     "text": [
      "End Simple crawling\n",
      "Start Simple crawling :  http://smartair.interpark.com/HtmlSearch/GetGoodsSmartList.aspx\n",
      ">> Parameters\n",
      "StayLength: , Soto:N , dep0:ICN , BEST:Y , chd:0 , inf:0 , SeatType:A , SplitNo:100 , arr0:NRT , FLEX:N , ptype:I , enc:u , depdate0:20170930 , adt:1 , trip:OW , JSON:Y , comp:Y , AirLine:ZE , Change: , SeatAvail:Y , \n"
     ]
    },
    {
     "name": "stderr",
     "output_type": "stream",
     "text": [
      "2017-08-11 08:14:23,226 root     DEBUG    Crawling Interpark domastic schedule site\n"
     ]
    },
    {
     "name": "stdout",
     "output_type": "stream",
     "text": [
      "End Simple crawling\n",
      "Start Simple crawling :  http://smartair.interpark.com/HtmlSearch/GetGoodsSmartList.aspx\n",
      ">> Parameters\n",
      "StayLength: , Soto:N , dep0:ICN , BEST:Y , chd:0 , inf:0 , SeatType:A , SplitNo:100 , arr0:NRT , FLEX:N , ptype:I , enc:u , depdate0:20171001 , adt:1 , trip:OW , JSON:Y , comp:Y , AirLine:7C , Change: , SeatAvail:Y , \n"
     ]
    },
    {
     "name": "stderr",
     "output_type": "stream",
     "text": [
      "2017-08-11 08:14:23,786 root     DEBUG    Crawling Interpark domastic schedule site\n"
     ]
    },
    {
     "name": "stdout",
     "output_type": "stream",
     "text": [
      "End Simple crawling\n",
      "Start Simple crawling :  http://smartair.interpark.com/HtmlSearch/GetGoodsSmartList.aspx\n",
      ">> Parameters\n",
      "StayLength: , Soto:N , dep0:ICN , BEST:Y , chd:0 , inf:0 , SeatType:A , SplitNo:100 , arr0:NRT , FLEX:N , ptype:I , enc:u , depdate0:20171001 , adt:1 , trip:OW , JSON:Y , comp:Y , AirLine:LJ , Change: , SeatAvail:Y , \n"
     ]
    },
    {
     "name": "stderr",
     "output_type": "stream",
     "text": [
      "2017-08-11 08:14:25,988 root     DEBUG    Crawling Interpark domastic schedule site\n"
     ]
    },
    {
     "name": "stdout",
     "output_type": "stream",
     "text": [
      "End Simple crawling\n",
      "Start Simple crawling :  http://smartair.interpark.com/HtmlSearch/GetGoodsSmartList.aspx\n",
      ">> Parameters\n",
      "StayLength: , Soto:N , dep0:ICN , BEST:Y , chd:0 , inf:0 , SeatType:A , SplitNo:100 , arr0:NRT , FLEX:N , ptype:I , enc:u , depdate0:20171001 , adt:1 , trip:OW , JSON:Y , comp:Y , AirLine:TW , Change: , SeatAvail:Y , \n"
     ]
    },
    {
     "name": "stderr",
     "output_type": "stream",
     "text": [
      "2017-08-11 08:14:28,716 root     DEBUG    Crawling Interpark domastic schedule site\n"
     ]
    },
    {
     "name": "stdout",
     "output_type": "stream",
     "text": [
      "End Simple crawling\n",
      "Start Simple crawling :  http://smartair.interpark.com/HtmlSearch/GetGoodsSmartList.aspx\n",
      ">> Parameters\n",
      "StayLength: , Soto:N , dep0:ICN , BEST:Y , chd:0 , inf:0 , SeatType:A , SplitNo:100 , arr0:NRT , FLEX:N , ptype:I , enc:u , depdate0:20171001 , adt:1 , trip:OW , JSON:Y , comp:Y , AirLine:ZE , Change: , SeatAvail:Y , \n"
     ]
    },
    {
     "name": "stderr",
     "output_type": "stream",
     "text": [
      "2017-08-11 08:14:30,743 root     DEBUG    Crawling Interpark domastic schedule site\n"
     ]
    },
    {
     "name": "stdout",
     "output_type": "stream",
     "text": [
      "End Simple crawling\n",
      "Start Simple crawling :  http://smartair.interpark.com/HtmlSearch/GetGoodsSmartList.aspx\n",
      ">> Parameters\n",
      "StayLength: , Soto:N , dep0:ICN , BEST:Y , chd:0 , inf:0 , SeatType:A , SplitNo:100 , arr0:NRT , FLEX:N , ptype:I , enc:u , depdate0:20171002 , adt:1 , trip:OW , JSON:Y , comp:Y , AirLine:7C , Change: , SeatAvail:Y , \n"
     ]
    },
    {
     "name": "stderr",
     "output_type": "stream",
     "text": [
      "2017-08-11 08:14:31,379 root     DEBUG    Crawling Interpark domastic schedule site\n"
     ]
    },
    {
     "name": "stdout",
     "output_type": "stream",
     "text": [
      "End Simple crawling\n",
      "Start Simple crawling :  http://smartair.interpark.com/HtmlSearch/GetGoodsSmartList.aspx\n",
      ">> Parameters\n",
      "StayLength: , Soto:N , dep0:ICN , BEST:Y , chd:0 , inf:0 , SeatType:A , SplitNo:100 , arr0:NRT , FLEX:N , ptype:I , enc:u , depdate0:20171002 , adt:1 , trip:OW , JSON:Y , comp:Y , AirLine:LJ , Change: , SeatAvail:Y , \n"
     ]
    },
    {
     "name": "stderr",
     "output_type": "stream",
     "text": [
      "2017-08-11 08:14:33,598 root     DEBUG    Crawling Interpark domastic schedule site\n"
     ]
    },
    {
     "name": "stdout",
     "output_type": "stream",
     "text": [
      "End Simple crawling\n",
      "Start Simple crawling :  http://smartair.interpark.com/HtmlSearch/GetGoodsSmartList.aspx\n",
      ">> Parameters\n",
      "StayLength: , Soto:N , dep0:ICN , BEST:Y , chd:0 , inf:0 , SeatType:A , SplitNo:100 , arr0:NRT , FLEX:N , ptype:I , enc:u , depdate0:20171002 , adt:1 , trip:OW , JSON:Y , comp:Y , AirLine:TW , Change: , SeatAvail:Y , \n"
     ]
    },
    {
     "name": "stderr",
     "output_type": "stream",
     "text": [
      "2017-08-11 08:14:35,733 root     DEBUG    Crawling Interpark domastic schedule site\n"
     ]
    },
    {
     "name": "stdout",
     "output_type": "stream",
     "text": [
      "End Simple crawling\n",
      "Start Simple crawling :  http://smartair.interpark.com/HtmlSearch/GetGoodsSmartList.aspx\n",
      ">> Parameters\n",
      "StayLength: , Soto:N , dep0:ICN , BEST:Y , chd:0 , inf:0 , SeatType:A , SplitNo:100 , arr0:NRT , FLEX:N , ptype:I , enc:u , depdate0:20171002 , adt:1 , trip:OW , JSON:Y , comp:Y , AirLine:ZE , Change: , SeatAvail:Y , \n"
     ]
    },
    {
     "name": "stderr",
     "output_type": "stream",
     "text": [
      "2017-08-11 08:14:37,814 root     DEBUG    Crawling Interpark domastic schedule site\n"
     ]
    },
    {
     "name": "stdout",
     "output_type": "stream",
     "text": [
      "End Simple crawling\n",
      "Start Simple crawling :  http://smartair.interpark.com/HtmlSearch/GetGoodsSmartList.aspx\n",
      ">> Parameters\n",
      "StayLength: , Soto:N , dep0:ICN , BEST:Y , chd:0 , inf:0 , SeatType:A , SplitNo:100 , arr0:NRT , FLEX:N , ptype:I , enc:u , depdate0:20171003 , adt:1 , trip:OW , JSON:Y , comp:Y , AirLine:7C , Change: , SeatAvail:Y , \n"
     ]
    },
    {
     "name": "stderr",
     "output_type": "stream",
     "text": [
      "2017-08-11 08:14:38,371 root     DEBUG    Crawling Interpark domastic schedule site\n"
     ]
    },
    {
     "name": "stdout",
     "output_type": "stream",
     "text": [
      "End Simple crawling\n",
      "Start Simple crawling :  http://smartair.interpark.com/HtmlSearch/GetGoodsSmartList.aspx\n",
      ">> Parameters\n",
      "StayLength: , Soto:N , dep0:ICN , BEST:Y , chd:0 , inf:0 , SeatType:A , SplitNo:100 , arr0:NRT , FLEX:N , ptype:I , enc:u , depdate0:20171003 , adt:1 , trip:OW , JSON:Y , comp:Y , AirLine:LJ , Change: , SeatAvail:Y , \n"
     ]
    },
    {
     "name": "stderr",
     "output_type": "stream",
     "text": [
      "2017-08-11 08:14:40,376 root     DEBUG    Crawling Interpark domastic schedule site\n"
     ]
    },
    {
     "name": "stdout",
     "output_type": "stream",
     "text": [
      "End Simple crawling\n",
      "Start Simple crawling :  http://smartair.interpark.com/HtmlSearch/GetGoodsSmartList.aspx\n",
      ">> Parameters\n",
      "StayLength: , Soto:N , dep0:ICN , BEST:Y , chd:0 , inf:0 , SeatType:A , SplitNo:100 , arr0:NRT , FLEX:N , ptype:I , enc:u , depdate0:20171003 , adt:1 , trip:OW , JSON:Y , comp:Y , AirLine:TW , Change: , SeatAvail:Y , \n"
     ]
    },
    {
     "name": "stderr",
     "output_type": "stream",
     "text": [
      "2017-08-11 08:14:42,485 root     DEBUG    Crawling Interpark domastic schedule site\n"
     ]
    },
    {
     "name": "stdout",
     "output_type": "stream",
     "text": [
      "End Simple crawling\n",
      "Start Simple crawling :  http://smartair.interpark.com/HtmlSearch/GetGoodsSmartList.aspx\n",
      ">> Parameters\n",
      "StayLength: , Soto:N , dep0:ICN , BEST:Y , chd:0 , inf:0 , SeatType:A , SplitNo:100 , arr0:NRT , FLEX:N , ptype:I , enc:u , depdate0:20171003 , adt:1 , trip:OW , JSON:Y , comp:Y , AirLine:ZE , Change: , SeatAvail:Y , \n"
     ]
    },
    {
     "name": "stderr",
     "output_type": "stream",
     "text": [
      "2017-08-11 08:14:44,698 root     DEBUG    Crawling Interpark domastic schedule site\n"
     ]
    },
    {
     "name": "stdout",
     "output_type": "stream",
     "text": [
      "End Simple crawling\n",
      "Start Simple crawling :  http://smartair.interpark.com/HtmlSearch/GetGoodsSmartList.aspx\n",
      ">> Parameters\n",
      "StayLength: , Soto:N , dep0:ICN , BEST:Y , chd:0 , inf:0 , SeatType:A , SplitNo:100 , arr0:NRT , FLEX:N , ptype:I , enc:u , depdate0:20171004 , adt:1 , trip:OW , JSON:Y , comp:Y , AirLine:7C , Change: , SeatAvail:Y , \n"
     ]
    },
    {
     "name": "stderr",
     "output_type": "stream",
     "text": [
      "2017-08-11 08:14:45,306 root     DEBUG    Crawling Interpark domastic schedule site\n"
     ]
    },
    {
     "name": "stdout",
     "output_type": "stream",
     "text": [
      "End Simple crawling\n",
      "Start Simple crawling :  http://smartair.interpark.com/HtmlSearch/GetGoodsSmartList.aspx\n",
      ">> Parameters\n",
      "StayLength: , Soto:N , dep0:ICN , BEST:Y , chd:0 , inf:0 , SeatType:A , SplitNo:100 , arr0:NRT , FLEX:N , ptype:I , enc:u , depdate0:20171004 , adt:1 , trip:OW , JSON:Y , comp:Y , AirLine:LJ , Change: , SeatAvail:Y , \n"
     ]
    },
    {
     "name": "stderr",
     "output_type": "stream",
     "text": [
      "2017-08-11 08:14:47,521 root     DEBUG    Crawling Interpark domastic schedule site\n"
     ]
    },
    {
     "name": "stdout",
     "output_type": "stream",
     "text": [
      "End Simple crawling\n",
      "Start Simple crawling :  http://smartair.interpark.com/HtmlSearch/GetGoodsSmartList.aspx\n",
      ">> Parameters\n",
      "StayLength: , Soto:N , dep0:ICN , BEST:Y , chd:0 , inf:0 , SeatType:A , SplitNo:100 , arr0:NRT , FLEX:N , ptype:I , enc:u , depdate0:20171004 , adt:1 , trip:OW , JSON:Y , comp:Y , AirLine:TW , Change: , SeatAvail:Y , \n"
     ]
    },
    {
     "name": "stderr",
     "output_type": "stream",
     "text": [
      "2017-08-11 08:14:49,752 root     DEBUG    Crawling Interpark domastic schedule site\n"
     ]
    },
    {
     "name": "stdout",
     "output_type": "stream",
     "text": [
      "End Simple crawling\n",
      "Start Simple crawling :  http://smartair.interpark.com/HtmlSearch/GetGoodsSmartList.aspx\n",
      ">> Parameters\n",
      "StayLength: , Soto:N , dep0:ICN , BEST:Y , chd:0 , inf:0 , SeatType:A , SplitNo:100 , arr0:NRT , FLEX:N , ptype:I , enc:u , depdate0:20171004 , adt:1 , trip:OW , JSON:Y , comp:Y , AirLine:ZE , Change: , SeatAvail:Y , \n"
     ]
    },
    {
     "name": "stderr",
     "output_type": "stream",
     "text": [
      "2017-08-11 08:14:52,103 root     DEBUG    Crawling Interpark domastic schedule site\n"
     ]
    },
    {
     "name": "stdout",
     "output_type": "stream",
     "text": [
      "End Simple crawling\n",
      "Start Simple crawling :  http://smartair.interpark.com/HtmlSearch/GetGoodsSmartList.aspx\n",
      ">> Parameters\n",
      "StayLength: , Soto:N , dep0:ICN , BEST:Y , chd:0 , inf:0 , SeatType:A , SplitNo:100 , arr0:NRT , FLEX:N , ptype:I , enc:u , depdate0:20171005 , adt:1 , trip:OW , JSON:Y , comp:Y , AirLine:7C , Change: , SeatAvail:Y , \n"
     ]
    },
    {
     "name": "stderr",
     "output_type": "stream",
     "text": [
      "2017-08-11 08:14:52,718 root     DEBUG    Crawling Interpark domastic schedule site\n"
     ]
    },
    {
     "name": "stdout",
     "output_type": "stream",
     "text": [
      "End Simple crawling\n",
      "Start Simple crawling :  http://smartair.interpark.com/HtmlSearch/GetGoodsSmartList.aspx\n",
      ">> Parameters\n",
      "StayLength: , Soto:N , dep0:ICN , BEST:Y , chd:0 , inf:0 , SeatType:A , SplitNo:100 , arr0:NRT , FLEX:N , ptype:I , enc:u , depdate0:20171005 , adt:1 , trip:OW , JSON:Y , comp:Y , AirLine:LJ , Change: , SeatAvail:Y , \n"
     ]
    },
    {
     "name": "stderr",
     "output_type": "stream",
     "text": [
      "2017-08-11 08:14:54,988 root     DEBUG    Crawling Interpark domastic schedule site\n"
     ]
    },
    {
     "name": "stdout",
     "output_type": "stream",
     "text": [
      "End Simple crawling\n",
      "Start Simple crawling :  http://smartair.interpark.com/HtmlSearch/GetGoodsSmartList.aspx\n",
      ">> Parameters\n",
      "StayLength: , Soto:N , dep0:ICN , BEST:Y , chd:0 , inf:0 , SeatType:A , SplitNo:100 , arr0:NRT , FLEX:N , ptype:I , enc:u , depdate0:20171005 , adt:1 , trip:OW , JSON:Y , comp:Y , AirLine:TW , Change: , SeatAvail:Y , \n"
     ]
    },
    {
     "name": "stderr",
     "output_type": "stream",
     "text": [
      "2017-08-11 08:14:57,330 root     DEBUG    Crawling Interpark domastic schedule site\n"
     ]
    },
    {
     "name": "stdout",
     "output_type": "stream",
     "text": [
      "End Simple crawling\n",
      "Start Simple crawling :  http://smartair.interpark.com/HtmlSearch/GetGoodsSmartList.aspx\n",
      ">> Parameters\n",
      "StayLength: , Soto:N , dep0:ICN , BEST:Y , chd:0 , inf:0 , SeatType:A , SplitNo:100 , arr0:NRT , FLEX:N , ptype:I , enc:u , depdate0:20171005 , adt:1 , trip:OW , JSON:Y , comp:Y , AirLine:ZE , Change: , SeatAvail:Y , \n"
     ]
    },
    {
     "name": "stderr",
     "output_type": "stream",
     "text": [
      "2017-08-11 08:14:59,331 root     DEBUG    Crawling Interpark domastic schedule site\n"
     ]
    },
    {
     "name": "stdout",
     "output_type": "stream",
     "text": [
      "End Simple crawling\n",
      "Start Simple crawling :  http://smartair.interpark.com/HtmlSearch/GetGoodsSmartList.aspx\n",
      ">> Parameters\n",
      "StayLength: , Soto:N , dep0:ICN , BEST:Y , chd:0 , inf:0 , SeatType:A , SplitNo:100 , arr0:NRT , FLEX:N , ptype:I , enc:u , depdate0:20171006 , adt:1 , trip:OW , JSON:Y , comp:Y , AirLine:7C , Change: , SeatAvail:Y , \n"
     ]
    },
    {
     "name": "stderr",
     "output_type": "stream",
     "text": [
      "2017-08-11 08:14:59,921 root     DEBUG    Crawling Interpark domastic schedule site\n"
     ]
    },
    {
     "name": "stdout",
     "output_type": "stream",
     "text": [
      "End Simple crawling\n",
      "Start Simple crawling :  http://smartair.interpark.com/HtmlSearch/GetGoodsSmartList.aspx\n",
      ">> Parameters\n",
      "StayLength: , Soto:N , dep0:ICN , BEST:Y , chd:0 , inf:0 , SeatType:A , SplitNo:100 , arr0:NRT , FLEX:N , ptype:I , enc:u , depdate0:20171006 , adt:1 , trip:OW , JSON:Y , comp:Y , AirLine:LJ , Change: , SeatAvail:Y , \n"
     ]
    },
    {
     "name": "stderr",
     "output_type": "stream",
     "text": [
      "2017-08-11 08:15:02,221 root     DEBUG    Crawling Interpark domastic schedule site\n"
     ]
    },
    {
     "name": "stdout",
     "output_type": "stream",
     "text": [
      "End Simple crawling\n",
      "Start Simple crawling :  http://smartair.interpark.com/HtmlSearch/GetGoodsSmartList.aspx\n",
      ">> Parameters\n",
      "StayLength: , Soto:N , dep0:ICN , BEST:Y , chd:0 , inf:0 , SeatType:A , SplitNo:100 , arr0:NRT , FLEX:N , ptype:I , enc:u , depdate0:20171006 , adt:1 , trip:OW , JSON:Y , comp:Y , AirLine:TW , Change: , SeatAvail:Y , \n"
     ]
    },
    {
     "name": "stderr",
     "output_type": "stream",
     "text": [
      "2017-08-11 08:15:04,709 root     DEBUG    Crawling Interpark domastic schedule site\n"
     ]
    },
    {
     "name": "stdout",
     "output_type": "stream",
     "text": [
      "End Simple crawling\n",
      "Start Simple crawling :  http://smartair.interpark.com/HtmlSearch/GetGoodsSmartList.aspx\n",
      ">> Parameters\n",
      "StayLength: , Soto:N , dep0:ICN , BEST:Y , chd:0 , inf:0 , SeatType:A , SplitNo:100 , arr0:NRT , FLEX:N , ptype:I , enc:u , depdate0:20171006 , adt:1 , trip:OW , JSON:Y , comp:Y , AirLine:ZE , Change: , SeatAvail:Y , \n"
     ]
    },
    {
     "name": "stderr",
     "output_type": "stream",
     "text": [
      "2017-08-11 08:15:06,930 root     DEBUG    Crawling Interpark domastic schedule site\n"
     ]
    },
    {
     "name": "stdout",
     "output_type": "stream",
     "text": [
      "End Simple crawling\n",
      "Start Simple crawling :  http://smartair.interpark.com/HtmlSearch/GetGoodsSmartList.aspx\n",
      ">> Parameters\n",
      "StayLength: , Soto:N , dep0:ICN , BEST:Y , chd:0 , inf:0 , SeatType:A , SplitNo:100 , arr0:NRT , FLEX:N , ptype:I , enc:u , depdate0:20171007 , adt:1 , trip:OW , JSON:Y , comp:Y , AirLine:7C , Change: , SeatAvail:Y , \n"
     ]
    },
    {
     "name": "stderr",
     "output_type": "stream",
     "text": [
      "2017-08-11 08:15:08,284 root     DEBUG    Crawling Interpark domastic schedule site\n"
     ]
    },
    {
     "name": "stdout",
     "output_type": "stream",
     "text": [
      "End Simple crawling\n",
      "Start Simple crawling :  http://smartair.interpark.com/HtmlSearch/GetGoodsSmartList.aspx\n",
      ">> Parameters\n",
      "StayLength: , Soto:N , dep0:ICN , BEST:Y , chd:0 , inf:0 , SeatType:A , SplitNo:100 , arr0:NRT , FLEX:N , ptype:I , enc:u , depdate0:20171007 , adt:1 , trip:OW , JSON:Y , comp:Y , AirLine:LJ , Change: , SeatAvail:Y , \n"
     ]
    },
    {
     "name": "stderr",
     "output_type": "stream",
     "text": [
      "2017-08-11 08:15:10,657 root     DEBUG    Crawling Interpark domastic schedule site\n"
     ]
    },
    {
     "name": "stdout",
     "output_type": "stream",
     "text": [
      "End Simple crawling\n",
      "Start Simple crawling :  http://smartair.interpark.com/HtmlSearch/GetGoodsSmartList.aspx\n",
      ">> Parameters\n",
      "StayLength: , Soto:N , dep0:ICN , BEST:Y , chd:0 , inf:0 , SeatType:A , SplitNo:100 , arr0:NRT , FLEX:N , ptype:I , enc:u , depdate0:20171007 , adt:1 , trip:OW , JSON:Y , comp:Y , AirLine:TW , Change: , SeatAvail:Y , \n"
     ]
    },
    {
     "name": "stderr",
     "output_type": "stream",
     "text": [
      "2017-08-11 08:15:12,936 root     DEBUG    Crawling Interpark domastic schedule site\n"
     ]
    },
    {
     "name": "stdout",
     "output_type": "stream",
     "text": [
      "End Simple crawling\n",
      "Start Simple crawling :  http://smartair.interpark.com/HtmlSearch/GetGoodsSmartList.aspx\n",
      ">> Parameters\n",
      "StayLength: , Soto:N , dep0:ICN , BEST:Y , chd:0 , inf:0 , SeatType:A , SplitNo:100 , arr0:NRT , FLEX:N , ptype:I , enc:u , depdate0:20171007 , adt:1 , trip:OW , JSON:Y , comp:Y , AirLine:ZE , Change: , SeatAvail:Y , \n"
     ]
    },
    {
     "name": "stderr",
     "output_type": "stream",
     "text": [
      "2017-08-11 08:15:14,978 root     DEBUG    Crawling Interpark domastic schedule site\n"
     ]
    },
    {
     "name": "stdout",
     "output_type": "stream",
     "text": [
      "End Simple crawling\n",
      "Start Simple crawling :  http://smartair.interpark.com/HtmlSearch/GetGoodsSmartList.aspx\n",
      ">> Parameters\n",
      "StayLength: , Soto:N , dep0:ICN , BEST:Y , chd:0 , inf:0 , SeatType:A , SplitNo:100 , arr0:NRT , FLEX:N , ptype:I , enc:u , depdate0:20171008 , adt:1 , trip:OW , JSON:Y , comp:Y , AirLine:7C , Change: , SeatAvail:Y , \n"
     ]
    },
    {
     "name": "stderr",
     "output_type": "stream",
     "text": [
      "2017-08-11 08:15:15,668 root     DEBUG    Crawling Interpark domastic schedule site\n"
     ]
    },
    {
     "name": "stdout",
     "output_type": "stream",
     "text": [
      "End Simple crawling\n",
      "Start Simple crawling :  http://smartair.interpark.com/HtmlSearch/GetGoodsSmartList.aspx\n",
      ">> Parameters\n",
      "StayLength: , Soto:N , dep0:ICN , BEST:Y , chd:0 , inf:0 , SeatType:A , SplitNo:100 , arr0:NRT , FLEX:N , ptype:I , enc:u , depdate0:20171008 , adt:1 , trip:OW , JSON:Y , comp:Y , AirLine:LJ , Change: , SeatAvail:Y , \n"
     ]
    },
    {
     "name": "stderr",
     "output_type": "stream",
     "text": [
      "2017-08-11 08:15:17,801 root     DEBUG    Crawling Interpark domastic schedule site\n"
     ]
    },
    {
     "name": "stdout",
     "output_type": "stream",
     "text": [
      "End Simple crawling\n",
      "Start Simple crawling :  http://smartair.interpark.com/HtmlSearch/GetGoodsSmartList.aspx\n",
      ">> Parameters\n",
      "StayLength: , Soto:N , dep0:ICN , BEST:Y , chd:0 , inf:0 , SeatType:A , SplitNo:100 , arr0:NRT , FLEX:N , ptype:I , enc:u , depdate0:20171008 , adt:1 , trip:OW , JSON:Y , comp:Y , AirLine:TW , Change: , SeatAvail:Y , \n"
     ]
    },
    {
     "name": "stderr",
     "output_type": "stream",
     "text": [
      "2017-08-11 08:15:20,228 root     DEBUG    Crawling Interpark domastic schedule site\n"
     ]
    },
    {
     "name": "stdout",
     "output_type": "stream",
     "text": [
      "End Simple crawling\n",
      "Start Simple crawling :  http://smartair.interpark.com/HtmlSearch/GetGoodsSmartList.aspx\n",
      ">> Parameters\n",
      "StayLength: , Soto:N , dep0:ICN , BEST:Y , chd:0 , inf:0 , SeatType:A , SplitNo:100 , arr0:NRT , FLEX:N , ptype:I , enc:u , depdate0:20171008 , adt:1 , trip:OW , JSON:Y , comp:Y , AirLine:ZE , Change: , SeatAvail:Y , \n"
     ]
    },
    {
     "name": "stderr",
     "output_type": "stream",
     "text": [
      "2017-08-11 08:15:22,415 root     DEBUG    Crawling Interpark domastic schedule site\n"
     ]
    },
    {
     "name": "stdout",
     "output_type": "stream",
     "text": [
      "End Simple crawling\n",
      "Start Simple crawling :  http://smartair.interpark.com/HtmlSearch/GetGoodsSmartList.aspx\n",
      ">> Parameters\n",
      "StayLength: , Soto:N , dep0:ICN , BEST:Y , chd:0 , inf:0 , SeatType:A , SplitNo:100 , arr0:NRT , FLEX:N , ptype:I , enc:u , depdate0:20171009 , adt:1 , trip:OW , JSON:Y , comp:Y , AirLine:7C , Change: , SeatAvail:Y , \n"
     ]
    },
    {
     "name": "stderr",
     "output_type": "stream",
     "text": [
      "2017-08-11 08:15:23,019 root     DEBUG    Crawling Interpark domastic schedule site\n"
     ]
    },
    {
     "name": "stdout",
     "output_type": "stream",
     "text": [
      "End Simple crawling\n",
      "Start Simple crawling :  http://smartair.interpark.com/HtmlSearch/GetGoodsSmartList.aspx\n",
      ">> Parameters\n",
      "StayLength: , Soto:N , dep0:ICN , BEST:Y , chd:0 , inf:0 , SeatType:A , SplitNo:100 , arr0:NRT , FLEX:N , ptype:I , enc:u , depdate0:20171009 , adt:1 , trip:OW , JSON:Y , comp:Y , AirLine:LJ , Change: , SeatAvail:Y , \n"
     ]
    },
    {
     "name": "stderr",
     "output_type": "stream",
     "text": [
      "2017-08-11 08:15:25,246 root     DEBUG    Crawling Interpark domastic schedule site\n"
     ]
    },
    {
     "name": "stdout",
     "output_type": "stream",
     "text": [
      "End Simple crawling\n",
      "Start Simple crawling :  http://smartair.interpark.com/HtmlSearch/GetGoodsSmartList.aspx\n",
      ">> Parameters\n",
      "StayLength: , Soto:N , dep0:ICN , BEST:Y , chd:0 , inf:0 , SeatType:A , SplitNo:100 , arr0:NRT , FLEX:N , ptype:I , enc:u , depdate0:20171009 , adt:1 , trip:OW , JSON:Y , comp:Y , AirLine:TW , Change: , SeatAvail:Y , \n"
     ]
    },
    {
     "name": "stderr",
     "output_type": "stream",
     "text": [
      "2017-08-11 08:15:27,544 root     DEBUG    Crawling Interpark domastic schedule site\n"
     ]
    },
    {
     "name": "stdout",
     "output_type": "stream",
     "text": [
      "End Simple crawling\n",
      "Start Simple crawling :  http://smartair.interpark.com/HtmlSearch/GetGoodsSmartList.aspx\n",
      ">> Parameters\n",
      "StayLength: , Soto:N , dep0:ICN , BEST:Y , chd:0 , inf:0 , SeatType:A , SplitNo:100 , arr0:NRT , FLEX:N , ptype:I , enc:u , depdate0:20171009 , adt:1 , trip:OW , JSON:Y , comp:Y , AirLine:ZE , Change: , SeatAvail:Y , \n"
     ]
    },
    {
     "name": "stderr",
     "output_type": "stream",
     "text": [
      "2017-08-11 08:15:29,764 root     DEBUG    Crawling Interpark domastic schedule site\n"
     ]
    },
    {
     "name": "stdout",
     "output_type": "stream",
     "text": [
      "End Simple crawling\n",
      "Start Simple crawling :  http://smartair.interpark.com/HtmlSearch/GetGoodsSmartList.aspx\n",
      ">> Parameters\n",
      "StayLength: , Soto:N , dep0:ICN , BEST:Y , chd:0 , inf:0 , SeatType:A , SplitNo:100 , arr0:NRT , FLEX:N , ptype:I , enc:u , depdate0:20171010 , adt:1 , trip:OW , JSON:Y , comp:Y , AirLine:7C , Change: , SeatAvail:Y , \n"
     ]
    },
    {
     "name": "stderr",
     "output_type": "stream",
     "text": [
      "2017-08-11 08:15:30,672 root     DEBUG    Crawling Interpark domastic schedule site\n"
     ]
    },
    {
     "name": "stdout",
     "output_type": "stream",
     "text": [
      "End Simple crawling\n",
      "Start Simple crawling :  http://smartair.interpark.com/HtmlSearch/GetGoodsSmartList.aspx\n",
      ">> Parameters\n",
      "StayLength: , Soto:N , dep0:ICN , BEST:Y , chd:0 , inf:0 , SeatType:A , SplitNo:100 , arr0:NRT , FLEX:N , ptype:I , enc:u , depdate0:20171010 , adt:1 , trip:OW , JSON:Y , comp:Y , AirLine:LJ , Change: , SeatAvail:Y , \n"
     ]
    },
    {
     "name": "stderr",
     "output_type": "stream",
     "text": [
      "2017-08-11 08:15:32,897 root     DEBUG    Crawling Interpark domastic schedule site\n"
     ]
    },
    {
     "name": "stdout",
     "output_type": "stream",
     "text": [
      "End Simple crawling\n",
      "Start Simple crawling :  http://smartair.interpark.com/HtmlSearch/GetGoodsSmartList.aspx\n",
      ">> Parameters\n",
      "StayLength: , Soto:N , dep0:ICN , BEST:Y , chd:0 , inf:0 , SeatType:A , SplitNo:100 , arr0:NRT , FLEX:N , ptype:I , enc:u , depdate0:20171010 , adt:1 , trip:OW , JSON:Y , comp:Y , AirLine:TW , Change: , SeatAvail:Y , \n"
     ]
    },
    {
     "name": "stderr",
     "output_type": "stream",
     "text": [
      "2017-08-11 08:15:35,314 root     DEBUG    Crawling Interpark domastic schedule site\n"
     ]
    },
    {
     "name": "stdout",
     "output_type": "stream",
     "text": [
      "End Simple crawling\n",
      "Start Simple crawling :  http://smartair.interpark.com/HtmlSearch/GetGoodsSmartList.aspx\n",
      ">> Parameters\n",
      "StayLength: , Soto:N , dep0:ICN , BEST:Y , chd:0 , inf:0 , SeatType:A , SplitNo:100 , arr0:NRT , FLEX:N , ptype:I , enc:u , depdate0:20171010 , adt:1 , trip:OW , JSON:Y , comp:Y , AirLine:ZE , Change: , SeatAvail:Y , \n"
     ]
    },
    {
     "name": "stderr",
     "output_type": "stream",
     "text": [
      "2017-08-11 08:15:37,570 root     INFO     end batch job :: craw_by_route_site :: elapsed -0:08:08.242926 :: Total crawl:240 files saved.\n",
      "2017-08-11 08:15:37,572 root     INFO     start batch job :: craw_by_route_site[CJU,GMP,IP,['20170812', '20170813', '20170814', '20170815', '20170816', '20170817', '20170818', '20170819', '20170820', '20170821', '20170822', '20170823', '20170824', '20170825', '20170826', '20170827', '20170828', '20170829', '20170830', '20170831', '20170901'],['7C', 'LJ', 'TW', 'ZE']]\n",
      "2017-08-11 08:15:37,574 root     DEBUG    0 :: IP :: crawling_IP_dom :: False\n",
      "2017-08-11 08:15:37,577 root     INFO     <function crawling_IP_dom at 0x0000000007C78378> :: False\n",
      "2017-08-11 08:15:37,579 root     DEBUG    Crawling Interpark domastic schedule site\n"
     ]
    },
    {
     "name": "stdout",
     "output_type": "stream",
     "text": [
      "End Simple crawling\n",
      "Start Simple crawling :  http://domair.interpark.com/api/booking/airJourney.do\n",
      ">> Parameters\n",
      "tripDivi:0 , adt:1 , chd:0 , format:json , arr:GMP , inf:0 , airlineCode:7C , dep:CJU , depDate:20170812 , \n"
     ]
    },
    {
     "name": "stderr",
     "output_type": "stream",
     "text": [
      "2017-08-11 08:15:39,438 root     DEBUG    Crawling Interpark domastic schedule site\n",
      "2017-08-11 08:15:39,623 root     DEBUG    Crawling Interpark domastic schedule site\n"
     ]
    },
    {
     "name": "stdout",
     "output_type": "stream",
     "text": [
      "End Simple crawling\n",
      "Start Simple crawling :  http://domair.interpark.com/api/booking/airJourney.do\n",
      ">> Parameters\n",
      "tripDivi:0 , adt:1 , chd:0 , format:json , arr:GMP , inf:0 , airlineCode:LJ , dep:CJU , depDate:20170812 , \n",
      "End Simple crawling\n",
      "Start Simple crawling :  http://domair.interpark.com/api/booking/airJourney.do\n",
      ">> Parameters\n",
      "tripDivi:0 , adt:1 , chd:0 , format:json , arr:GMP , inf:0 , airlineCode:TW , dep:CJU , depDate:20170812 , \n"
     ]
    },
    {
     "name": "stderr",
     "output_type": "stream",
     "text": [
      "2017-08-11 08:15:40,063 root     DEBUG    Crawling Interpark domastic schedule site\n"
     ]
    },
    {
     "name": "stdout",
     "output_type": "stream",
     "text": [
      "End Simple crawling\n",
      "Start Simple crawling :  http://domair.interpark.com/api/booking/airJourney.do\n",
      ">> Parameters\n",
      "tripDivi:0 , adt:1 , chd:0 , format:json , arr:GMP , inf:0 , airlineCode:ZE , dep:CJU , depDate:20170812 , \n"
     ]
    },
    {
     "name": "stderr",
     "output_type": "stream",
     "text": [
      "2017-08-11 08:15:41,240 root     DEBUG    Crawling Interpark domastic schedule site\n"
     ]
    },
    {
     "name": "stdout",
     "output_type": "stream",
     "text": [
      "End Simple crawling\n",
      "Start Simple crawling :  http://domair.interpark.com/api/booking/airJourney.do\n",
      ">> Parameters\n",
      "tripDivi:0 , adt:1 , chd:0 , format:json , arr:GMP , inf:0 , airlineCode:7C , dep:CJU , depDate:20170813 , \n"
     ]
    },
    {
     "name": "stderr",
     "output_type": "stream",
     "text": [
      "2017-08-11 08:15:45,084 root     DEBUG    Crawling Interpark domastic schedule site\n"
     ]
    },
    {
     "name": "stdout",
     "output_type": "stream",
     "text": [
      "End Simple crawling\n",
      "Start Simple crawling :  http://domair.interpark.com/api/booking/airJourney.do\n",
      ">> Parameters\n",
      "tripDivi:0 , adt:1 , chd:0 , format:json , arr:GMP , inf:0 , airlineCode:LJ , dep:CJU , depDate:20170813 , \n"
     ]
    },
    {
     "name": "stderr",
     "output_type": "stream",
     "text": [
      "2017-08-11 08:15:45,404 root     DEBUG    Crawling Interpark domastic schedule site\n"
     ]
    },
    {
     "name": "stdout",
     "output_type": "stream",
     "text": [
      "End Simple crawling\n",
      "Start Simple crawling :  http://domair.interpark.com/api/booking/airJourney.do\n",
      ">> Parameters\n",
      "tripDivi:0 , adt:1 , chd:0 , format:json , arr:GMP , inf:0 , airlineCode:TW , dep:CJU , depDate:20170813 , \n"
     ]
    },
    {
     "name": "stderr",
     "output_type": "stream",
     "text": [
      "2017-08-11 08:15:45,828 root     DEBUG    Crawling Interpark domastic schedule site\n"
     ]
    },
    {
     "name": "stdout",
     "output_type": "stream",
     "text": [
      "End Simple crawling\n",
      "Start Simple crawling :  http://domair.interpark.com/api/booking/airJourney.do\n",
      ">> Parameters\n",
      "tripDivi:0 , adt:1 , chd:0 , format:json , arr:GMP , inf:0 , airlineCode:ZE , dep:CJU , depDate:20170813 , \n"
     ]
    },
    {
     "name": "stderr",
     "output_type": "stream",
     "text": [
      "2017-08-11 08:15:47,022 root     DEBUG    Crawling Interpark domastic schedule site\n"
     ]
    },
    {
     "name": "stdout",
     "output_type": "stream",
     "text": [
      "End Simple crawling\n",
      "Start Simple crawling :  http://domair.interpark.com/api/booking/airJourney.do\n",
      ">> Parameters\n",
      "tripDivi:0 , adt:1 , chd:0 , format:json , arr:GMP , inf:0 , airlineCode:7C , dep:CJU , depDate:20170814 , \n"
     ]
    },
    {
     "name": "stderr",
     "output_type": "stream",
     "text": [
      "2017-08-11 08:15:48,883 root     DEBUG    Crawling Interpark domastic schedule site\n"
     ]
    },
    {
     "name": "stdout",
     "output_type": "stream",
     "text": [
      "End Simple crawling\n",
      "Start Simple crawling :  http://domair.interpark.com/api/booking/airJourney.do\n",
      ">> Parameters\n",
      "tripDivi:0 , adt:1 , chd:0 , format:json , arr:GMP , inf:0 , airlineCode:LJ , dep:CJU , depDate:20170814 , \n"
     ]
    },
    {
     "name": "stderr",
     "output_type": "stream",
     "text": [
      "2017-08-11 08:15:49,292 root     DEBUG    Crawling Interpark domastic schedule site\n"
     ]
    },
    {
     "name": "stdout",
     "output_type": "stream",
     "text": [
      "End Simple crawling\n",
      "Start Simple crawling :  http://domair.interpark.com/api/booking/airJourney.do\n",
      ">> Parameters\n",
      "tripDivi:0 , adt:1 , chd:0 , format:json , arr:GMP , inf:0 , airlineCode:TW , dep:CJU , depDate:20170814 , \n"
     ]
    },
    {
     "name": "stderr",
     "output_type": "stream",
     "text": [
      "2017-08-11 08:15:52,730 root     DEBUG    Crawling Interpark domastic schedule site\n"
     ]
    },
    {
     "name": "stdout",
     "output_type": "stream",
     "text": [
      "End Simple crawling\n",
      "Start Simple crawling :  http://domair.interpark.com/api/booking/airJourney.do\n",
      ">> Parameters\n",
      "tripDivi:0 , adt:1 , chd:0 , format:json , arr:GMP , inf:0 , airlineCode:ZE , dep:CJU , depDate:20170814 , \n"
     ]
    },
    {
     "name": "stderr",
     "output_type": "stream",
     "text": [
      "2017-08-11 08:15:53,913 root     DEBUG    Crawling Interpark domastic schedule site\n"
     ]
    },
    {
     "name": "stdout",
     "output_type": "stream",
     "text": [
      "End Simple crawling\n",
      "Start Simple crawling :  http://domair.interpark.com/api/booking/airJourney.do\n",
      ">> Parameters\n",
      "tripDivi:0 , adt:1 , chd:0 , format:json , arr:GMP , inf:0 , airlineCode:7C , dep:CJU , depDate:20170815 , \n"
     ]
    },
    {
     "name": "stderr",
     "output_type": "stream",
     "text": [
      "2017-08-11 08:15:55,468 root     DEBUG    Crawling Interpark domastic schedule site\n",
      "2017-08-11 08:15:55,594 root     DEBUG    Crawling Interpark domastic schedule site\n"
     ]
    },
    {
     "name": "stdout",
     "output_type": "stream",
     "text": [
      "End Simple crawling\n",
      "Start Simple crawling :  http://domair.interpark.com/api/booking/airJourney.do\n",
      ">> Parameters\n",
      "tripDivi:0 , adt:1 , chd:0 , format:json , arr:GMP , inf:0 , airlineCode:LJ , dep:CJU , depDate:20170815 , \n",
      "End Simple crawling\n",
      "Start Simple crawling :  http://domair.interpark.com/api/booking/airJourney.do\n",
      ">> Parameters\n",
      "tripDivi:0 , adt:1 , chd:0 , format:json , arr:GMP , inf:0 , airlineCode:TW , dep:CJU , depDate:20170815 , \n"
     ]
    },
    {
     "name": "stderr",
     "output_type": "stream",
     "text": [
      "2017-08-11 08:15:56,017 root     DEBUG    Crawling Interpark domastic schedule site\n"
     ]
    },
    {
     "name": "stdout",
     "output_type": "stream",
     "text": [
      "End Simple crawling\n",
      "Start Simple crawling :  http://domair.interpark.com/api/booking/airJourney.do\n",
      ">> Parameters\n",
      "tripDivi:0 , adt:1 , chd:0 , format:json , arr:GMP , inf:0 , airlineCode:ZE , dep:CJU , depDate:20170815 , \n"
     ]
    },
    {
     "name": "stderr",
     "output_type": "stream",
     "text": [
      "2017-08-11 08:15:57,210 root     DEBUG    Crawling Interpark domastic schedule site\n"
     ]
    },
    {
     "name": "stdout",
     "output_type": "stream",
     "text": [
      "End Simple crawling\n",
      "Start Simple crawling :  http://domair.interpark.com/api/booking/airJourney.do\n",
      ">> Parameters\n",
      "tripDivi:0 , adt:1 , chd:0 , format:json , arr:GMP , inf:0 , airlineCode:7C , dep:CJU , depDate:20170816 , \n"
     ]
    },
    {
     "name": "stderr",
     "output_type": "stream",
     "text": [
      "2017-08-11 08:15:59,119 root     DEBUG    Crawling Interpark domastic schedule site\n",
      "2017-08-11 08:15:59,292 root     DEBUG    Crawling Interpark domastic schedule site\n"
     ]
    },
    {
     "name": "stdout",
     "output_type": "stream",
     "text": [
      "End Simple crawling\n",
      "Start Simple crawling :  http://domair.interpark.com/api/booking/airJourney.do\n",
      ">> Parameters\n",
      "tripDivi:0 , adt:1 , chd:0 , format:json , arr:GMP , inf:0 , airlineCode:LJ , dep:CJU , depDate:20170816 , \n",
      "End Simple crawling\n",
      "Start Simple crawling :  http://domair.interpark.com/api/booking/airJourney.do\n",
      ">> Parameters\n",
      "tripDivi:0 , adt:1 , chd:0 , format:json , arr:GMP , inf:0 , airlineCode:TW , dep:CJU , depDate:20170816 , \n"
     ]
    },
    {
     "name": "stderr",
     "output_type": "stream",
     "text": [
      "2017-08-11 08:15:59,730 root     DEBUG    Crawling Interpark domastic schedule site\n"
     ]
    },
    {
     "name": "stdout",
     "output_type": "stream",
     "text": [
      "End Simple crawling\n",
      "Start Simple crawling :  http://domair.interpark.com/api/booking/airJourney.do\n",
      ">> Parameters\n",
      "tripDivi:0 , adt:1 , chd:0 , format:json , arr:GMP , inf:0 , airlineCode:ZE , dep:CJU , depDate:20170816 , \n"
     ]
    },
    {
     "name": "stderr",
     "output_type": "stream",
     "text": [
      "2017-08-11 08:16:00,951 root     DEBUG    Crawling Interpark domastic schedule site\n"
     ]
    },
    {
     "name": "stdout",
     "output_type": "stream",
     "text": [
      "End Simple crawling\n",
      "Start Simple crawling :  http://domair.interpark.com/api/booking/airJourney.do\n",
      ">> Parameters\n",
      "tripDivi:0 , adt:1 , chd:0 , format:json , arr:GMP , inf:0 , airlineCode:7C , dep:CJU , depDate:20170817 , \n"
     ]
    },
    {
     "name": "stderr",
     "output_type": "stream",
     "text": [
      "2017-08-11 08:16:02,795 root     DEBUG    Crawling Interpark domastic schedule site\n",
      "2017-08-11 08:16:02,962 root     DEBUG    Crawling Interpark domastic schedule site\n"
     ]
    },
    {
     "name": "stdout",
     "output_type": "stream",
     "text": [
      "End Simple crawling\n",
      "Start Simple crawling :  http://domair.interpark.com/api/booking/airJourney.do\n",
      ">> Parameters\n",
      "tripDivi:0 , adt:1 , chd:0 , format:json , arr:GMP , inf:0 , airlineCode:LJ , dep:CJU , depDate:20170817 , \n",
      "End Simple crawling\n",
      "Start Simple crawling :  http://domair.interpark.com/api/booking/airJourney.do\n",
      ">> Parameters\n",
      "tripDivi:0 , adt:1 , chd:0 , format:json , arr:GMP , inf:0 , airlineCode:TW , dep:CJU , depDate:20170817 , \n"
     ]
    },
    {
     "name": "stderr",
     "output_type": "stream",
     "text": [
      "2017-08-11 08:16:03,457 root     DEBUG    Crawling Interpark domastic schedule site\n"
     ]
    },
    {
     "name": "stdout",
     "output_type": "stream",
     "text": [
      "End Simple crawling\n",
      "Start Simple crawling :  http://domair.interpark.com/api/booking/airJourney.do\n",
      ">> Parameters\n",
      "tripDivi:0 , adt:1 , chd:0 , format:json , arr:GMP , inf:0 , airlineCode:ZE , dep:CJU , depDate:20170817 , \n"
     ]
    },
    {
     "name": "stderr",
     "output_type": "stream",
     "text": [
      "2017-08-11 08:16:04,659 root     DEBUG    Crawling Interpark domastic schedule site\n"
     ]
    },
    {
     "name": "stdout",
     "output_type": "stream",
     "text": [
      "End Simple crawling\n",
      "Start Simple crawling :  http://domair.interpark.com/api/booking/airJourney.do\n",
      ">> Parameters\n",
      "tripDivi:0 , adt:1 , chd:0 , format:json , arr:GMP , inf:0 , airlineCode:7C , dep:CJU , depDate:20170818 , \n"
     ]
    },
    {
     "name": "stderr",
     "output_type": "stream",
     "text": [
      "2017-08-11 08:16:06,695 root     DEBUG    Crawling Interpark domastic schedule site\n",
      "2017-08-11 08:16:06,877 root     DEBUG    Crawling Interpark domastic schedule site\n"
     ]
    },
    {
     "name": "stdout",
     "output_type": "stream",
     "text": [
      "End Simple crawling\n",
      "Start Simple crawling :  http://domair.interpark.com/api/booking/airJourney.do\n",
      ">> Parameters\n",
      "tripDivi:0 , adt:1 , chd:0 , format:json , arr:GMP , inf:0 , airlineCode:LJ , dep:CJU , depDate:20170818 , \n",
      "End Simple crawling\n",
      "Start Simple crawling :  http://domair.interpark.com/api/booking/airJourney.do\n",
      ">> Parameters\n",
      "tripDivi:0 , adt:1 , chd:0 , format:json , arr:GMP , inf:0 , airlineCode:TW , dep:CJU , depDate:20170818 , \n"
     ]
    },
    {
     "name": "stderr",
     "output_type": "stream",
     "text": [
      "2017-08-11 08:16:07,365 root     DEBUG    Crawling Interpark domastic schedule site\n"
     ]
    },
    {
     "name": "stdout",
     "output_type": "stream",
     "text": [
      "End Simple crawling\n",
      "Start Simple crawling :  http://domair.interpark.com/api/booking/airJourney.do\n",
      ">> Parameters\n",
      "tripDivi:0 , adt:1 , chd:0 , format:json , arr:GMP , inf:0 , airlineCode:ZE , dep:CJU , depDate:20170818 , \n"
     ]
    },
    {
     "name": "stderr",
     "output_type": "stream",
     "text": [
      "2017-08-11 08:16:08,530 root     DEBUG    Crawling Interpark domastic schedule site\n"
     ]
    },
    {
     "name": "stdout",
     "output_type": "stream",
     "text": [
      "End Simple crawling\n",
      "Start Simple crawling :  http://domair.interpark.com/api/booking/airJourney.do\n",
      ">> Parameters\n",
      "tripDivi:0 , adt:1 , chd:0 , format:json , arr:GMP , inf:0 , airlineCode:7C , dep:CJU , depDate:20170819 , \n"
     ]
    },
    {
     "name": "stderr",
     "output_type": "stream",
     "text": [
      "2017-08-11 08:16:10,376 root     DEBUG    Crawling Interpark domastic schedule site\n"
     ]
    },
    {
     "name": "stdout",
     "output_type": "stream",
     "text": [
      "End Simple crawling\n",
      "Start Simple crawling :  http://domair.interpark.com/api/booking/airJourney.do\n",
      ">> Parameters\n",
      "tripDivi:0 , adt:1 , chd:0 , format:json , arr:GMP , inf:0 , airlineCode:LJ , dep:CJU , depDate:20170819 , \n",
      "End Simple crawling\n"
     ]
    },
    {
     "name": "stderr",
     "output_type": "stream",
     "text": [
      "2017-08-11 08:16:10,575 root     DEBUG    Crawling Interpark domastic schedule site\n"
     ]
    },
    {
     "name": "stdout",
     "output_type": "stream",
     "text": [
      "Start Simple crawling :  http://domair.interpark.com/api/booking/airJourney.do\n",
      ">> Parameters\n",
      "tripDivi:0 , adt:1 , chd:0 , format:json , arr:GMP , inf:0 , airlineCode:TW , dep:CJU , depDate:20170819 , \n"
     ]
    },
    {
     "name": "stderr",
     "output_type": "stream",
     "text": [
      "2017-08-11 08:16:11,001 root     DEBUG    Crawling Interpark domastic schedule site\n"
     ]
    },
    {
     "name": "stdout",
     "output_type": "stream",
     "text": [
      "End Simple crawling\n",
      "Start Simple crawling :  http://domair.interpark.com/api/booking/airJourney.do\n",
      ">> Parameters\n",
      "tripDivi:0 , adt:1 , chd:0 , format:json , arr:GMP , inf:0 , airlineCode:ZE , dep:CJU , depDate:20170819 , \n"
     ]
    },
    {
     "name": "stderr",
     "output_type": "stream",
     "text": [
      "2017-08-11 08:16:12,112 root     DEBUG    Crawling Interpark domastic schedule site\n"
     ]
    },
    {
     "name": "stdout",
     "output_type": "stream",
     "text": [
      "End Simple crawling\n",
      "Start Simple crawling :  http://domair.interpark.com/api/booking/airJourney.do\n",
      ">> Parameters\n",
      "tripDivi:0 , adt:1 , chd:0 , format:json , arr:GMP , inf:0 , airlineCode:7C , dep:CJU , depDate:20170820 , \n"
     ]
    },
    {
     "name": "stderr",
     "output_type": "stream",
     "text": [
      "2017-08-11 08:16:14,748 root     DEBUG    Crawling Interpark domastic schedule site\n"
     ]
    },
    {
     "name": "stdout",
     "output_type": "stream",
     "text": [
      "End Simple crawling\n",
      "Start Simple crawling :  http://domair.interpark.com/api/booking/airJourney.do\n",
      ">> Parameters\n",
      "tripDivi:0 , adt:1 , chd:0 , format:json , arr:GMP , inf:0 , airlineCode:LJ , dep:CJU , depDate:20170820 , \n",
      "End Simple crawling"
     ]
    },
    {
     "name": "stderr",
     "output_type": "stream",
     "text": [
      "2017-08-11 08:16:14,948 root     DEBUG    Crawling Interpark domastic schedule site\n"
     ]
    },
    {
     "name": "stdout",
     "output_type": "stream",
     "text": [
      "\n",
      "Start Simple crawling :  http://domair.interpark.com/api/booking/airJourney.do\n",
      ">> Parameters\n",
      "tripDivi:0 , adt:1 , chd:0 , format:json , arr:GMP , inf:0 , airlineCode:TW , dep:CJU , depDate:20170820 , \n"
     ]
    },
    {
     "name": "stderr",
     "output_type": "stream",
     "text": [
      "2017-08-11 08:16:15,370 root     DEBUG    Crawling Interpark domastic schedule site\n"
     ]
    },
    {
     "name": "stdout",
     "output_type": "stream",
     "text": [
      "End Simple crawling\n",
      "Start Simple crawling :  http://domair.interpark.com/api/booking/airJourney.do\n",
      ">> Parameters\n",
      "tripDivi:0 , adt:1 , chd:0 , format:json , arr:GMP , inf:0 , airlineCode:ZE , dep:CJU , depDate:20170820 , \n"
     ]
    },
    {
     "name": "stderr",
     "output_type": "stream",
     "text": [
      "2017-08-11 08:16:16,563 root     DEBUG    Crawling Interpark domastic schedule site\n"
     ]
    },
    {
     "name": "stdout",
     "output_type": "stream",
     "text": [
      "End Simple crawling\n",
      "Start Simple crawling :  http://domair.interpark.com/api/booking/airJourney.do\n",
      ">> Parameters\n",
      "tripDivi:0 , adt:1 , chd:0 , format:json , arr:GMP , inf:0 , airlineCode:7C , dep:CJU , depDate:20170821 , \n"
     ]
    },
    {
     "name": "stderr",
     "output_type": "stream",
     "text": [
      "2017-08-11 08:16:19,657 root     DEBUG    Crawling Interpark domastic schedule site\n"
     ]
    },
    {
     "name": "stdout",
     "output_type": "stream",
     "text": [
      "End Simple crawling\n",
      "Start Simple crawling :  http://domair.interpark.com/api/booking/airJourney.do\n",
      ">> Parameters\n",
      "tripDivi:0 , adt:1 , chd:0 , format:json , arr:GMP , inf:0 , airlineCode:LJ , dep:CJU , depDate:20170821 , \n"
     ]
    },
    {
     "name": "stderr",
     "output_type": "stream",
     "text": [
      "2017-08-11 08:16:19,901 root     DEBUG    Crawling Interpark domastic schedule site\n"
     ]
    },
    {
     "name": "stdout",
     "output_type": "stream",
     "text": [
      "End Simple crawling\n",
      "Start Simple crawling :  http://domair.interpark.com/api/booking/airJourney.do\n",
      ">> Parameters\n",
      "tripDivi:0 , adt:1 , chd:0 , format:json , arr:GMP , inf:0 , airlineCode:TW , dep:CJU , depDate:20170821 , \n"
     ]
    },
    {
     "name": "stderr",
     "output_type": "stream",
     "text": [
      "2017-08-11 08:16:20,353 root     DEBUG    Crawling Interpark domastic schedule site\n"
     ]
    },
    {
     "name": "stdout",
     "output_type": "stream",
     "text": [
      "End Simple crawling\n",
      "Start Simple crawling :  http://domair.interpark.com/api/booking/airJourney.do\n",
      ">> Parameters\n",
      "tripDivi:0 , adt:1 , chd:0 , format:json , arr:GMP , inf:0 , airlineCode:ZE , dep:CJU , depDate:20170821 , \n"
     ]
    },
    {
     "name": "stderr",
     "output_type": "stream",
     "text": [
      "2017-08-11 08:16:21,504 root     DEBUG    Crawling Interpark domastic schedule site\n"
     ]
    },
    {
     "name": "stdout",
     "output_type": "stream",
     "text": [
      "End Simple crawling\n",
      "Start Simple crawling :  http://domair.interpark.com/api/booking/airJourney.do\n",
      ">> Parameters\n",
      "tripDivi:0 , adt:1 , chd:0 , format:json , arr:GMP , inf:0 , airlineCode:7C , dep:CJU , depDate:20170822 , \n"
     ]
    },
    {
     "name": "stderr",
     "output_type": "stream",
     "text": [
      "2017-08-11 08:16:23,417 root     DEBUG    Crawling Interpark domastic schedule site\n"
     ]
    },
    {
     "name": "stdout",
     "output_type": "stream",
     "text": [
      "End Simple crawling\n",
      "Start Simple crawling :  http://domair.interpark.com/api/booking/airJourney.do\n",
      ">> Parameters\n",
      "tripDivi:0 , adt:1 , chd:0 , format:json , arr:GMP , inf:0 , airlineCode:LJ , dep:CJU , depDate:20170822 , \n"
     ]
    },
    {
     "name": "stderr",
     "output_type": "stream",
     "text": [
      "2017-08-11 08:16:23,675 root     DEBUG    Crawling Interpark domastic schedule site\n"
     ]
    },
    {
     "name": "stdout",
     "output_type": "stream",
     "text": [
      "End Simple crawling\n",
      "Start Simple crawling :  http://domair.interpark.com/api/booking/airJourney.do\n",
      ">> Parameters\n",
      "tripDivi:0 , adt:1 , chd:0 , format:json , arr:GMP , inf:0 , airlineCode:TW , dep:CJU , depDate:20170822 , \n"
     ]
    },
    {
     "name": "stderr",
     "output_type": "stream",
     "text": [
      "2017-08-11 08:16:24,162 root     DEBUG    Crawling Interpark domastic schedule site\n"
     ]
    },
    {
     "name": "stdout",
     "output_type": "stream",
     "text": [
      "End Simple crawling\n",
      "Start Simple crawling :  http://domair.interpark.com/api/booking/airJourney.do\n",
      ">> Parameters\n",
      "tripDivi:0 , adt:1 , chd:0 , format:json , arr:GMP , inf:0 , airlineCode:ZE , dep:CJU , depDate:20170822 , \n"
     ]
    },
    {
     "name": "stderr",
     "output_type": "stream",
     "text": [
      "2017-08-11 08:16:25,209 root     DEBUG    Crawling Interpark domastic schedule site\n"
     ]
    },
    {
     "name": "stdout",
     "output_type": "stream",
     "text": [
      "End Simple crawling\n",
      "Start Simple crawling :  http://domair.interpark.com/api/booking/airJourney.do\n",
      ">> Parameters\n",
      "tripDivi:0 , adt:1 , chd:0 , format:json , arr:GMP , inf:0 , airlineCode:7C , dep:CJU , depDate:20170823 , \n"
     ]
    },
    {
     "name": "stderr",
     "output_type": "stream",
     "text": [
      "2017-08-11 08:16:27,138 root     DEBUG    Crawling Interpark domastic schedule site\n",
      "2017-08-11 08:16:27,301 root     DEBUG    Crawling Interpark domastic schedule site\n"
     ]
    },
    {
     "name": "stdout",
     "output_type": "stream",
     "text": [
      "End Simple crawling\n",
      "Start Simple crawling :  http://domair.interpark.com/api/booking/airJourney.do\n",
      ">> Parameters\n",
      "tripDivi:0 , adt:1 , chd:0 , format:json , arr:GMP , inf:0 , airlineCode:LJ , dep:CJU , depDate:20170823 , \n",
      "End Simple crawling\n",
      "Start Simple crawling :  http://domair.interpark.com/api/booking/airJourney.do\n",
      ">> Parameters\n",
      "tripDivi:0 , adt:1 , chd:0 , format:json , arr:GMP , inf:0 , airlineCode:TW , dep:CJU , depDate:20170823 , \n"
     ]
    },
    {
     "name": "stderr",
     "output_type": "stream",
     "text": [
      "2017-08-11 08:16:27,786 root     DEBUG    Crawling Interpark domastic schedule site\n"
     ]
    },
    {
     "name": "stdout",
     "output_type": "stream",
     "text": [
      "End Simple crawling\n",
      "Start Simple crawling :  http://domair.interpark.com/api/booking/airJourney.do\n",
      ">> Parameters\n",
      "tripDivi:0 , adt:1 , chd:0 , format:json , arr:GMP , inf:0 , airlineCode:ZE , dep:CJU , depDate:20170823 , \n"
     ]
    },
    {
     "name": "stderr",
     "output_type": "stream",
     "text": [
      "2017-08-11 08:16:28,862 root     DEBUG    Crawling Interpark domastic schedule site\n"
     ]
    },
    {
     "name": "stdout",
     "output_type": "stream",
     "text": [
      "End Simple crawling\n",
      "Start Simple crawling :  http://domair.interpark.com/api/booking/airJourney.do\n",
      ">> Parameters\n",
      "tripDivi:0 , adt:1 , chd:0 , format:json , arr:GMP , inf:0 , airlineCode:7C , dep:CJU , depDate:20170824 , \n"
     ]
    },
    {
     "name": "stderr",
     "output_type": "stream",
     "text": [
      "2017-08-11 08:16:31,593 root     DEBUG    Crawling Interpark domastic schedule site\n"
     ]
    },
    {
     "name": "stdout",
     "output_type": "stream",
     "text": [
      "End Simple crawling\n",
      "Start Simple crawling :  http://domair.interpark.com/api/booking/airJourney.do\n",
      ">> Parameters\n",
      "tripDivi:0 , adt:1 , chd:0 , format:json , arr:GMP , inf:0 , airlineCode:LJ , dep:CJU , depDate:20170824 , \n"
     ]
    },
    {
     "name": "stderr",
     "output_type": "stream",
     "text": [
      "2017-08-11 08:16:31,923 root     DEBUG    Crawling Interpark domastic schedule site\n"
     ]
    },
    {
     "name": "stdout",
     "output_type": "stream",
     "text": [
      "End Simple crawling\n",
      "Start Simple crawling :  http://domair.interpark.com/api/booking/airJourney.do\n",
      ">> Parameters\n",
      "tripDivi:0 , adt:1 , chd:0 , format:json , arr:GMP , inf:0 , airlineCode:TW , dep:CJU , depDate:20170824 , \n"
     ]
    },
    {
     "name": "stderr",
     "output_type": "stream",
     "text": [
      "2017-08-11 08:16:32,377 root     DEBUG    Crawling Interpark domastic schedule site\n"
     ]
    },
    {
     "name": "stdout",
     "output_type": "stream",
     "text": [
      "End Simple crawling\n",
      "Start Simple crawling :  http://domair.interpark.com/api/booking/airJourney.do\n",
      ">> Parameters\n",
      "tripDivi:0 , adt:1 , chd:0 , format:json , arr:GMP , inf:0 , airlineCode:ZE , dep:CJU , depDate:20170824 , \n"
     ]
    },
    {
     "name": "stderr",
     "output_type": "stream",
     "text": [
      "2017-08-11 08:16:33,521 root     DEBUG    Crawling Interpark domastic schedule site\n"
     ]
    },
    {
     "name": "stdout",
     "output_type": "stream",
     "text": [
      "End Simple crawling\n",
      "Start Simple crawling :  http://domair.interpark.com/api/booking/airJourney.do\n",
      ">> Parameters\n",
      "tripDivi:0 , adt:1 , chd:0 , format:json , arr:GMP , inf:0 , airlineCode:7C , dep:CJU , depDate:20170825 , \n"
     ]
    },
    {
     "name": "stderr",
     "output_type": "stream",
     "text": [
      "2017-08-11 08:16:35,369 root     DEBUG    Crawling Interpark domastic schedule site\n",
      "2017-08-11 08:16:35,527 root     DEBUG    Crawling Interpark domastic schedule site\n"
     ]
    },
    {
     "name": "stdout",
     "output_type": "stream",
     "text": [
      "End Simple crawling\n",
      "Start Simple crawling :  http://domair.interpark.com/api/booking/airJourney.do\n",
      ">> Parameters\n",
      "tripDivi:0 , adt:1 , chd:0 , format:json , arr:GMP , inf:0 , airlineCode:LJ , dep:CJU , depDate:20170825 , \n",
      "End Simple crawling\n",
      "Start Simple crawling :  http://domair.interpark.com/api/booking/airJourney.do\n",
      ">> Parameters\n",
      "tripDivi:0 , adt:1 , chd:0 , format:json , arr:GMP , inf:0 , airlineCode:TW , dep:CJU , depDate:20170825 , \n"
     ]
    },
    {
     "name": "stderr",
     "output_type": "stream",
     "text": [
      "2017-08-11 08:16:35,929 root     DEBUG    Crawling Interpark domastic schedule site\n"
     ]
    },
    {
     "name": "stdout",
     "output_type": "stream",
     "text": [
      "End Simple crawling\n",
      "Start Simple crawling :  http://domair.interpark.com/api/booking/airJourney.do\n",
      ">> Parameters\n",
      "tripDivi:0 , adt:1 , chd:0 , format:json , arr:GMP , inf:0 , airlineCode:ZE , dep:CJU , depDate:20170825 , \n"
     ]
    },
    {
     "name": "stderr",
     "output_type": "stream",
     "text": [
      "2017-08-11 08:16:37,001 root     DEBUG    Crawling Interpark domastic schedule site\n"
     ]
    },
    {
     "name": "stdout",
     "output_type": "stream",
     "text": [
      "End Simple crawling\n",
      "Start Simple crawling :  http://domair.interpark.com/api/booking/airJourney.do\n",
      ">> Parameters\n",
      "tripDivi:0 , adt:1 , chd:0 , format:json , arr:GMP , inf:0 , airlineCode:7C , dep:CJU , depDate:20170826 , \n"
     ]
    },
    {
     "name": "stderr",
     "output_type": "stream",
     "text": [
      "2017-08-11 08:16:40,729 root     DEBUG    Crawling Interpark domastic schedule site\n",
      "2017-08-11 08:16:40,924 root     DEBUG    Crawling Interpark domastic schedule site\n"
     ]
    },
    {
     "name": "stdout",
     "output_type": "stream",
     "text": [
      "End Simple crawling\n",
      "Start Simple crawling :  http://domair.interpark.com/api/booking/airJourney.do\n",
      ">> Parameters\n",
      "tripDivi:0 , adt:1 , chd:0 , format:json , arr:GMP , inf:0 , airlineCode:LJ , dep:CJU , depDate:20170826 , \n",
      "End Simple crawling\n"
     ]
    },
    {
     "name": "stderr",
     "output_type": "stream",
     "text": [
      "2017-08-11 08:16:41,332 root     DEBUG    Crawling Interpark domastic schedule site\n"
     ]
    },
    {
     "name": "stdout",
     "output_type": "stream",
     "text": [
      "Start Simple crawling :  http://domair.interpark.com/api/booking/airJourney.do\n",
      ">> Parameters\n",
      "tripDivi:0 , adt:1 , chd:0 , format:json , arr:GMP , inf:0 , airlineCode:TW , dep:CJU , depDate:20170826 , \n",
      "End Simple crawling\n",
      "Start Simple crawling :  http://domair.interpark.com/api/booking/airJourney.do\n",
      ">> Parameters\n",
      "tripDivi:0 , adt:1 , chd:0 , format:json , arr:GMP , inf:0 , airlineCode:ZE , dep:CJU , depDate:20170826 , \n"
     ]
    },
    {
     "name": "stderr",
     "output_type": "stream",
     "text": [
      "2017-08-11 08:16:42,407 root     DEBUG    Crawling Interpark domastic schedule site\n"
     ]
    },
    {
     "name": "stdout",
     "output_type": "stream",
     "text": [
      "End Simple crawling\n",
      "Start Simple crawling :  http://domair.interpark.com/api/booking/airJourney.do\n",
      ">> Parameters\n",
      "tripDivi:0 , adt:1 , chd:0 , format:json , arr:GMP , inf:0 , airlineCode:7C , dep:CJU , depDate:20170827 , \n"
     ]
    },
    {
     "name": "stderr",
     "output_type": "stream",
     "text": [
      "2017-08-11 08:16:44,168 root     DEBUG    Crawling Interpark domastic schedule site\n"
     ]
    },
    {
     "name": "stdout",
     "output_type": "stream",
     "text": [
      "End Simple crawling\n",
      "Start Simple crawling :  http://domair.interpark.com/api/booking/airJourney.do\n",
      ">> Parameters\n",
      "tripDivi:0 , adt:1 , chd:0 , format:json , arr:GMP , inf:0 , airlineCode:LJ , dep:CJU , depDate:20170827 , \n"
     ]
    },
    {
     "name": "stderr",
     "output_type": "stream",
     "text": [
      "2017-08-11 08:16:44,518 root     DEBUG    Crawling Interpark domastic schedule site\n"
     ]
    },
    {
     "name": "stdout",
     "output_type": "stream",
     "text": [
      "End Simple crawling\n",
      "Start Simple crawling :  http://domair.interpark.com/api/booking/airJourney.do\n",
      ">> Parameters\n",
      "tripDivi:0 , adt:1 , chd:0 , format:json , arr:GMP , inf:0 , airlineCode:TW , dep:CJU , depDate:20170827 , \n"
     ]
    },
    {
     "name": "stderr",
     "output_type": "stream",
     "text": [
      "2017-08-11 08:16:45,380 root     DEBUG    Crawling Interpark domastic schedule site\n"
     ]
    },
    {
     "name": "stdout",
     "output_type": "stream",
     "text": [
      "End Simple crawling\n",
      "Start Simple crawling :  http://domair.interpark.com/api/booking/airJourney.do\n",
      ">> Parameters\n",
      "tripDivi:0 , adt:1 , chd:0 , format:json , arr:GMP , inf:0 , airlineCode:ZE , dep:CJU , depDate:20170827 , \n"
     ]
    },
    {
     "name": "stderr",
     "output_type": "stream",
     "text": [
      "2017-08-11 08:16:46,479 root     DEBUG    Crawling Interpark domastic schedule site\n"
     ]
    },
    {
     "name": "stdout",
     "output_type": "stream",
     "text": [
      "End Simple crawling\n",
      "Start Simple crawling :  http://domair.interpark.com/api/booking/airJourney.do\n",
      ">> Parameters\n",
      "tripDivi:0 , adt:1 , chd:0 , format:json , arr:GMP , inf:0 , airlineCode:7C , dep:CJU , depDate:20170828 , \n"
     ]
    },
    {
     "name": "stderr",
     "output_type": "stream",
     "text": [
      "2017-08-11 08:16:48,506 root     DEBUG    Crawling Interpark domastic schedule site\n",
      "2017-08-11 08:16:48,690 root     DEBUG    Crawling Interpark domastic schedule site\n"
     ]
    },
    {
     "name": "stdout",
     "output_type": "stream",
     "text": [
      "End Simple crawling\n",
      "Start Simple crawling :  http://domair.interpark.com/api/booking/airJourney.do\n",
      ">> Parameters\n",
      "tripDivi:0 , adt:1 , chd:0 , format:json , arr:GMP , inf:0 , airlineCode:LJ , dep:CJU , depDate:20170828 , \n",
      "End Simple crawling\n",
      "Start Simple crawling :  http://domair.interpark.com/api/booking/airJourney.do\n",
      ">> Parameters\n",
      "tripDivi:0 , adt:1 , chd:0 , format:json , arr:GMP , inf:0 , airlineCode:TW , dep:CJU , depDate:20170828 , \n"
     ]
    },
    {
     "name": "stderr",
     "output_type": "stream",
     "text": [
      "2017-08-11 08:16:49,141 root     DEBUG    Crawling Interpark domastic schedule site\n"
     ]
    },
    {
     "name": "stdout",
     "output_type": "stream",
     "text": [
      "End Simple crawling\n",
      "Start Simple crawling :  http://domair.interpark.com/api/booking/airJourney.do\n",
      ">> Parameters\n",
      "tripDivi:0 , adt:1 , chd:0 , format:json , arr:GMP , inf:0 , airlineCode:ZE , dep:CJU , depDate:20170828 , \n"
     ]
    },
    {
     "name": "stderr",
     "output_type": "stream",
     "text": [
      "2017-08-11 08:16:50,237 root     DEBUG    Crawling Interpark domastic schedule site\n"
     ]
    },
    {
     "name": "stdout",
     "output_type": "stream",
     "text": [
      "End Simple crawling\n",
      "Start Simple crawling :  http://domair.interpark.com/api/booking/airJourney.do\n",
      ">> Parameters\n",
      "tripDivi:0 , adt:1 , chd:0 , format:json , arr:GMP , inf:0 , airlineCode:7C , dep:CJU , depDate:20170829 , \n"
     ]
    },
    {
     "name": "stderr",
     "output_type": "stream",
     "text": [
      "2017-08-11 08:16:52,822 root     DEBUG    Crawling Interpark domastic schedule site\n"
     ]
    },
    {
     "name": "stdout",
     "output_type": "stream",
     "text": [
      "End Simple crawling\n",
      "Start Simple crawling :  http://domair.interpark.com/api/booking/airJourney.do\n",
      ">> Parameters\n",
      "tripDivi:0 , adt:1 , chd:0 , format:json , arr:GMP , inf:0 , airlineCode:LJ , dep:CJU , depDate:20170829 , \n"
     ]
    },
    {
     "name": "stderr",
     "output_type": "stream",
     "text": [
      "2017-08-11 08:16:53,067 root     DEBUG    Crawling Interpark domastic schedule site\n"
     ]
    },
    {
     "name": "stdout",
     "output_type": "stream",
     "text": [
      "End Simple crawling\n",
      "Start Simple crawling :  http://domair.interpark.com/api/booking/airJourney.do\n",
      ">> Parameters\n",
      "tripDivi:0 , adt:1 , chd:0 , format:json , arr:GMP , inf:0 , airlineCode:TW , dep:CJU , depDate:20170829 , \n"
     ]
    },
    {
     "name": "stderr",
     "output_type": "stream",
     "text": [
      "2017-08-11 08:16:53,539 root     DEBUG    Crawling Interpark domastic schedule site\n"
     ]
    },
    {
     "name": "stdout",
     "output_type": "stream",
     "text": [
      "End Simple crawling\n",
      "Start Simple crawling :  http://domair.interpark.com/api/booking/airJourney.do\n",
      ">> Parameters\n",
      "tripDivi:0 , adt:1 , chd:0 , format:json , arr:GMP , inf:0 , airlineCode:ZE , dep:CJU , depDate:20170829 , \n"
     ]
    },
    {
     "name": "stderr",
     "output_type": "stream",
     "text": [
      "2017-08-11 08:16:54,667 root     DEBUG    Crawling Interpark domastic schedule site\n"
     ]
    },
    {
     "name": "stdout",
     "output_type": "stream",
     "text": [
      "End Simple crawling\n",
      "Start Simple crawling :  http://domair.interpark.com/api/booking/airJourney.do\n",
      ">> Parameters\n",
      "tripDivi:0 , adt:1 , chd:0 , format:json , arr:GMP , inf:0 , airlineCode:7C , dep:CJU , depDate:20170830 , \n"
     ]
    },
    {
     "name": "stderr",
     "output_type": "stream",
     "text": [
      "2017-08-11 08:16:56,521 root     DEBUG    Crawling Interpark domastic schedule site\n",
      "2017-08-11 08:16:56,704 root     DEBUG    Crawling Interpark domastic schedule site\n"
     ]
    },
    {
     "name": "stdout",
     "output_type": "stream",
     "text": [
      "End Simple crawling\n",
      "Start Simple crawling :  http://domair.interpark.com/api/booking/airJourney.do\n",
      ">> Parameters\n",
      "tripDivi:0 , adt:1 , chd:0 , format:json , arr:GMP , inf:0 , airlineCode:LJ , dep:CJU , depDate:20170830 , \n",
      "End Simple crawling\n",
      "Start Simple crawling :  http://domair.interpark.com/api/booking/airJourney.do\n",
      ">> Parameters\n",
      "tripDivi:0 , adt:1 , chd:0 , format:json , arr:GMP , inf:0 , airlineCode:TW , dep:CJU , depDate:20170830 , \n"
     ]
    },
    {
     "name": "stderr",
     "output_type": "stream",
     "text": [
      "2017-08-11 08:16:57,157 root     DEBUG    Crawling Interpark domastic schedule site\n"
     ]
    },
    {
     "name": "stdout",
     "output_type": "stream",
     "text": [
      "End Simple crawling\n",
      "Start Simple crawling :  http://domair.interpark.com/api/booking/airJourney.do\n",
      ">> Parameters\n",
      "tripDivi:0 , adt:1 , chd:0 , format:json , arr:GMP , inf:0 , airlineCode:ZE , dep:CJU , depDate:20170830 , \n"
     ]
    },
    {
     "name": "stderr",
     "output_type": "stream",
     "text": [
      "2017-08-11 08:16:58,279 root     DEBUG    Crawling Interpark domastic schedule site\n"
     ]
    },
    {
     "name": "stdout",
     "output_type": "stream",
     "text": [
      "End Simple crawling\n",
      "Start Simple crawling :  http://domair.interpark.com/api/booking/airJourney.do\n",
      ">> Parameters\n",
      "tripDivi:0 , adt:1 , chd:0 , format:json , arr:GMP , inf:0 , airlineCode:7C , dep:CJU , depDate:20170831 , \n"
     ]
    },
    {
     "name": "stderr",
     "output_type": "stream",
     "text": [
      "2017-08-11 08:17:00,132 root     DEBUG    Crawling Interpark domastic schedule site\n"
     ]
    },
    {
     "name": "stdout",
     "output_type": "stream",
     "text": [
      "End Simple crawling\n",
      "Start Simple crawling :  http://domair.interpark.com/api/booking/airJourney.do\n",
      ">> Parameters\n",
      "tripDivi:0 , adt:1 , chd:0 , format:json , arr:GMP , inf:0 , airlineCode:LJ , dep:CJU , depDate:20170831 , \n"
     ]
    },
    {
     "name": "stderr",
     "output_type": "stream",
     "text": [
      "2017-08-11 08:17:00,534 root     DEBUG    Crawling Interpark domastic schedule site\n"
     ]
    },
    {
     "name": "stdout",
     "output_type": "stream",
     "text": [
      "End Simple crawling\n",
      "Start Simple crawling :  http://domair.interpark.com/api/booking/airJourney.do\n",
      ">> Parameters\n",
      "tripDivi:0 , adt:1 , chd:0 , format:json , arr:GMP , inf:0 , airlineCode:TW , dep:CJU , depDate:20170831 , \n"
     ]
    },
    {
     "name": "stderr",
     "output_type": "stream",
     "text": [
      "2017-08-11 08:17:00,993 root     DEBUG    Crawling Interpark domastic schedule site\n"
     ]
    },
    {
     "name": "stdout",
     "output_type": "stream",
     "text": [
      "End Simple crawling\n",
      "Start Simple crawling :  http://domair.interpark.com/api/booking/airJourney.do\n",
      ">> Parameters\n",
      "tripDivi:0 , adt:1 , chd:0 , format:json , arr:GMP , inf:0 , airlineCode:ZE , dep:CJU , depDate:20170831 , \n"
     ]
    },
    {
     "name": "stderr",
     "output_type": "stream",
     "text": [
      "2017-08-11 08:17:02,080 root     DEBUG    Crawling Interpark domastic schedule site\n"
     ]
    },
    {
     "name": "stdout",
     "output_type": "stream",
     "text": [
      "End Simple crawling\n",
      "Start Simple crawling :  http://domair.interpark.com/api/booking/airJourney.do\n",
      ">> Parameters\n",
      "tripDivi:0 , adt:1 , chd:0 , format:json , arr:GMP , inf:0 , airlineCode:7C , dep:CJU , depDate:20170901 , \n"
     ]
    },
    {
     "name": "stderr",
     "output_type": "stream",
     "text": [
      "2017-08-11 08:17:03,984 root     DEBUG    Crawling Interpark domastic schedule site\n"
     ]
    },
    {
     "name": "stdout",
     "output_type": "stream",
     "text": [
      "End Simple crawling\n",
      "Start Simple crawling :  http://domair.interpark.com/api/booking/airJourney.do\n",
      ">> Parameters\n",
      "tripDivi:0 , adt:1 , chd:0 , format:json , arr:GMP , inf:0 , airlineCode:LJ , dep:CJU , depDate:20170901 , \n"
     ]
    },
    {
     "name": "stderr",
     "output_type": "stream",
     "text": [
      "2017-08-11 08:17:04,349 root     DEBUG    Crawling Interpark domastic schedule site\n"
     ]
    },
    {
     "name": "stdout",
     "output_type": "stream",
     "text": [
      "End Simple crawling\n",
      "Start Simple crawling :  http://domair.interpark.com/api/booking/airJourney.do\n",
      ">> Parameters\n",
      "tripDivi:0 , adt:1 , chd:0 , format:json , arr:GMP , inf:0 , airlineCode:TW , dep:CJU , depDate:20170901 , \n"
     ]
    },
    {
     "name": "stderr",
     "output_type": "stream",
     "text": [
      "2017-08-11 08:17:04,756 root     DEBUG    Crawling Interpark domastic schedule site\n"
     ]
    },
    {
     "name": "stdout",
     "output_type": "stream",
     "text": [
      "End Simple crawling\n",
      "Start Simple crawling :  http://domair.interpark.com/api/booking/airJourney.do\n",
      ">> Parameters\n",
      "tripDivi:0 , adt:1 , chd:0 , format:json , arr:GMP , inf:0 , airlineCode:ZE , dep:CJU , depDate:20170901 , \n"
     ]
    },
    {
     "name": "stderr",
     "output_type": "stream",
     "text": [
      "2017-08-11 08:17:05,982 root     INFO     end batch job :: craw_by_route_site :: elapsed -0:01:28.408057 :: Total crawl:84 files saved.\n",
      "2017-08-11 08:17:05,985 root     INFO     start batch job :: craw_by_route_site[ICN,BKK,IP,['20170812', '20170813', '20170814', '20170815', '20170816', '20170817', '20170818', '20170819', '20170820', '20170821', '20170822', '20170823', '20170824', '20170825', '20170826', '20170827', '20170828', '20170829', '20170830', '20170831', '20170901'],['7C', 'LJ', 'TW', 'ZE']]\n",
      "2017-08-11 08:17:05,987 root     DEBUG    1 :: IP :: crawling_IP_int :: False\n",
      "2017-08-11 08:17:05,990 root     INFO     <function crawling_IP_int at 0x0000000007C787B8> :: False\n",
      "2017-08-11 08:17:05,995 root     DEBUG    Crawling Interpark domastic schedule site\n"
     ]
    },
    {
     "name": "stdout",
     "output_type": "stream",
     "text": [
      "End Simple crawling\n",
      "Start Simple crawling :  http://smartair.interpark.com/HtmlSearch/GetGoodsSmartList.aspx\n",
      ">> Parameters\n",
      "StayLength: , Soto:N , dep0:ICN , BEST:Y , chd:0 , inf:0 , SeatType:A , SplitNo:100 , arr0:BKK , FLEX:N , ptype:I , enc:u , depdate0:20170812 , adt:1 , trip:OW , JSON:Y , comp:Y , AirLine:7C , Change: , SeatAvail:Y , \n"
     ]
    },
    {
     "name": "stderr",
     "output_type": "stream",
     "text": [
      "2017-08-11 08:17:06,625 root     DEBUG    Crawling Interpark domastic schedule site\n"
     ]
    },
    {
     "name": "stdout",
     "output_type": "stream",
     "text": [
      "End Simple crawling\n",
      "Start Simple crawling :  http://smartair.interpark.com/HtmlSearch/GetGoodsSmartList.aspx\n",
      ">> Parameters\n",
      "StayLength: , Soto:N , dep0:ICN , BEST:Y , chd:0 , inf:0 , SeatType:A , SplitNo:100 , arr0:BKK , FLEX:N , ptype:I , enc:u , depdate0:20170812 , adt:1 , trip:OW , JSON:Y , comp:Y , AirLine:LJ , Change: , SeatAvail:Y , \n"
     ]
    },
    {
     "name": "stderr",
     "output_type": "stream",
     "text": [
      "2017-08-11 08:17:08,756 root     DEBUG    Crawling Interpark domastic schedule site\n"
     ]
    },
    {
     "name": "stdout",
     "output_type": "stream",
     "text": [
      "End Simple crawling\n",
      "Start Simple crawling :  http://smartair.interpark.com/HtmlSearch/GetGoodsSmartList.aspx\n",
      ">> Parameters\n",
      "StayLength: , Soto:N , dep0:ICN , BEST:Y , chd:0 , inf:0 , SeatType:A , SplitNo:100 , arr0:BKK , FLEX:N , ptype:I , enc:u , depdate0:20170812 , adt:1 , trip:OW , JSON:Y , comp:Y , AirLine:TW , Change: , SeatAvail:Y , \n"
     ]
    },
    {
     "name": "stderr",
     "output_type": "stream",
     "text": [
      "2017-08-11 08:17:08,970 root     DEBUG    Crawling Interpark domastic schedule site\n"
     ]
    },
    {
     "name": "stdout",
     "output_type": "stream",
     "text": [
      "End Simple crawling\n",
      "Start Simple crawling :  http://smartair.interpark.com/HtmlSearch/GetGoodsSmartList.aspx\n",
      ">> Parameters\n",
      "StayLength: , Soto:N , dep0:ICN , BEST:Y , chd:0 , inf:0 , SeatType:A , SplitNo:100 , arr0:BKK , FLEX:N , ptype:I , enc:u , depdate0:20170812 , adt:1 , trip:OW , JSON:Y , comp:Y , AirLine:ZE , Change: , SeatAvail:Y , \n"
     ]
    },
    {
     "name": "stderr",
     "output_type": "stream",
     "text": [
      "2017-08-11 08:17:11,229 root     DEBUG    Crawling Interpark domastic schedule site\n"
     ]
    },
    {
     "name": "stdout",
     "output_type": "stream",
     "text": [
      "End Simple crawling\n",
      "Start Simple crawling :  http://smartair.interpark.com/HtmlSearch/GetGoodsSmartList.aspx\n",
      ">> Parameters\n",
      "StayLength: , Soto:N , dep0:ICN , BEST:Y , chd:0 , inf:0 , SeatType:A , SplitNo:100 , arr0:BKK , FLEX:N , ptype:I , enc:u , depdate0:20170813 , adt:1 , trip:OW , JSON:Y , comp:Y , AirLine:7C , Change: , SeatAvail:Y , \n"
     ]
    },
    {
     "name": "stderr",
     "output_type": "stream",
     "text": [
      "2017-08-11 08:17:13,701 root     DEBUG    Crawling Interpark domastic schedule site\n"
     ]
    },
    {
     "name": "stdout",
     "output_type": "stream",
     "text": [
      "End Simple crawling\n",
      "Start Simple crawling :  http://smartair.interpark.com/HtmlSearch/GetGoodsSmartList.aspx\n",
      ">> Parameters\n",
      "StayLength: , Soto:N , dep0:ICN , BEST:Y , chd:0 , inf:0 , SeatType:A , SplitNo:100 , arr0:BKK , FLEX:N , ptype:I , enc:u , depdate0:20170813 , adt:1 , trip:OW , JSON:Y , comp:Y , AirLine:LJ , Change: , SeatAvail:Y , \n"
     ]
    },
    {
     "name": "stderr",
     "output_type": "stream",
     "text": [
      "2017-08-11 08:17:15,755 root     DEBUG    Crawling Interpark domastic schedule site\n",
      "2017-08-11 08:17:15,834 root     DEBUG    Crawling Interpark domastic schedule site\n"
     ]
    },
    {
     "name": "stdout",
     "output_type": "stream",
     "text": [
      "End Simple crawling\n",
      "Start Simple crawling :  http://smartair.interpark.com/HtmlSearch/GetGoodsSmartList.aspx\n",
      ">> Parameters\n",
      "StayLength: , Soto:N , dep0:ICN , BEST:Y , chd:0 , inf:0 , SeatType:A , SplitNo:100 , arr0:BKK , FLEX:N , ptype:I , enc:u , depdate0:20170813 , adt:1 , trip:OW , JSON:Y , comp:Y , AirLine:TW , Change: , SeatAvail:Y , \n",
      "End Simple crawling\n",
      "Start Simple crawling :  http://smartair.interpark.com/HtmlSearch/GetGoodsSmartList.aspx\n",
      ">> Parameters\n",
      "StayLength: , Soto:N , dep0:ICN , BEST:Y , chd:0 , inf:0 , SeatType:A , SplitNo:100 , arr0:BKK , FLEX:N , ptype:I , enc:u , depdate0:20170813 , adt:1 , trip:OW , JSON:Y , comp:Y , AirLine:ZE , Change: , SeatAvail:Y , \n"
     ]
    },
    {
     "name": "stderr",
     "output_type": "stream",
     "text": [
      "2017-08-11 08:17:18,456 root     DEBUG    Crawling Interpark domastic schedule site\n"
     ]
    },
    {
     "name": "stdout",
     "output_type": "stream",
     "text": [
      "End Simple crawling\n",
      "Start Simple crawling :  http://smartair.interpark.com/HtmlSearch/GetGoodsSmartList.aspx\n",
      ">> Parameters\n",
      "StayLength: , Soto:N , dep0:ICN , BEST:Y , chd:0 , inf:0 , SeatType:A , SplitNo:100 , arr0:BKK , FLEX:N , ptype:I , enc:u , depdate0:20170814 , adt:1 , trip:OW , JSON:Y , comp:Y , AirLine:7C , Change: , SeatAvail:Y , \n"
     ]
    },
    {
     "name": "stderr",
     "output_type": "stream",
     "text": [
      "2017-08-11 08:17:19,076 root     DEBUG    Crawling Interpark domastic schedule site\n"
     ]
    },
    {
     "name": "stdout",
     "output_type": "stream",
     "text": [
      "End Simple crawling\n",
      "Start Simple crawling :  http://smartair.interpark.com/HtmlSearch/GetGoodsSmartList.aspx\n",
      ">> Parameters\n",
      "StayLength: , Soto:N , dep0:ICN , BEST:Y , chd:0 , inf:0 , SeatType:A , SplitNo:100 , arr0:BKK , FLEX:N , ptype:I , enc:u , depdate0:20170814 , adt:1 , trip:OW , JSON:Y , comp:Y , AirLine:LJ , Change: , SeatAvail:Y , \n"
     ]
    },
    {
     "name": "stderr",
     "output_type": "stream",
     "text": [
      "2017-08-11 08:17:21,434 root     DEBUG    Crawling Interpark domastic schedule site\n",
      "2017-08-11 08:17:21,507 root     DEBUG    Crawling Interpark domastic schedule site\n"
     ]
    },
    {
     "name": "stdout",
     "output_type": "stream",
     "text": [
      "End Simple crawling\n",
      "Start Simple crawling :  http://smartair.interpark.com/HtmlSearch/GetGoodsSmartList.aspx\n",
      ">> Parameters\n",
      "StayLength: , Soto:N , dep0:ICN , BEST:Y , chd:0 , inf:0 , SeatType:A , SplitNo:100 , arr0:BKK , FLEX:N , ptype:I , enc:u , depdate0:20170814 , adt:1 , trip:OW , JSON:Y , comp:Y , AirLine:TW , Change: , SeatAvail:Y , \n",
      "End Simple crawling\n",
      "Start Simple crawling :  http://smartair.interpark.com/HtmlSearch/GetGoodsSmartList.aspx\n",
      ">> Parameters\n",
      "StayLength: , Soto:N , dep0:ICN , BEST:Y , chd:0 , inf:0 , SeatType:A , SplitNo:100 , arr0:BKK , FLEX:N , ptype:I , enc:u , depdate0:20170814 , adt:1 , trip:OW , JSON:Y , comp:Y , AirLine:ZE , Change: , SeatAvail:Y , \n"
     ]
    },
    {
     "name": "stderr",
     "output_type": "stream",
     "text": [
      "2017-08-11 08:17:23,716 root     DEBUG    Crawling Interpark domastic schedule site\n"
     ]
    },
    {
     "name": "stdout",
     "output_type": "stream",
     "text": [
      "End Simple crawling\n",
      "Start Simple crawling :  http://smartair.interpark.com/HtmlSearch/GetGoodsSmartList.aspx\n",
      ">> Parameters\n",
      "StayLength: , Soto:N , dep0:ICN , BEST:Y , chd:0 , inf:0 , SeatType:A , SplitNo:100 , arr0:BKK , FLEX:N , ptype:I , enc:u , depdate0:20170815 , adt:1 , trip:OW , JSON:Y , comp:Y , AirLine:7C , Change: , SeatAvail:Y , \n"
     ]
    },
    {
     "name": "stderr",
     "output_type": "stream",
     "text": [
      "2017-08-11 08:17:24,759 root     DEBUG    Crawling Interpark domastic schedule site\n"
     ]
    },
    {
     "name": "stdout",
     "output_type": "stream",
     "text": [
      "End Simple crawling\n",
      "Start Simple crawling :  http://smartair.interpark.com/HtmlSearch/GetGoodsSmartList.aspx\n",
      ">> Parameters\n",
      "StayLength: , Soto:N , dep0:ICN , BEST:Y , chd:0 , inf:0 , SeatType:A , SplitNo:100 , arr0:BKK , FLEX:N , ptype:I , enc:u , depdate0:20170815 , adt:1 , trip:OW , JSON:Y , comp:Y , AirLine:LJ , Change: , SeatAvail:Y , \n"
     ]
    },
    {
     "name": "stderr",
     "output_type": "stream",
     "text": [
      "2017-08-11 08:17:27,102 root     DEBUG    Crawling Interpark domastic schedule site\n"
     ]
    },
    {
     "name": "stdout",
     "output_type": "stream",
     "text": [
      "End Simple crawling\n",
      "Start Simple crawling :  http://smartair.interpark.com/HtmlSearch/GetGoodsSmartList.aspx\n",
      ">> Parameters\n",
      "StayLength: , Soto:N , dep0:ICN , BEST:Y , chd:0 , inf:0 , SeatType:A , SplitNo:100 , arr0:BKK , FLEX:N , ptype:I , enc:u , depdate0:20170815 , adt:1 , trip:OW , JSON:Y , comp:Y , AirLine:TW , Change: , SeatAvail:Y , \n"
     ]
    },
    {
     "name": "stderr",
     "output_type": "stream",
     "text": [
      "2017-08-11 08:17:29,284 root     DEBUG    Crawling Interpark domastic schedule site\n"
     ]
    },
    {
     "name": "stdout",
     "output_type": "stream",
     "text": [
      "End Simple crawling\n",
      "Start Simple crawling :  http://smartair.interpark.com/HtmlSearch/GetGoodsSmartList.aspx\n",
      ">> Parameters\n",
      "StayLength: , Soto:N , dep0:ICN , BEST:Y , chd:0 , inf:0 , SeatType:A , SplitNo:100 , arr0:BKK , FLEX:N , ptype:I , enc:u , depdate0:20170815 , adt:1 , trip:OW , JSON:Y , comp:Y , AirLine:ZE , Change: , SeatAvail:Y , \n"
     ]
    },
    {
     "name": "stderr",
     "output_type": "stream",
     "text": [
      "2017-08-11 08:17:31,510 root     DEBUG    Crawling Interpark domastic schedule site\n"
     ]
    },
    {
     "name": "stdout",
     "output_type": "stream",
     "text": [
      "End Simple crawling\n",
      "Start Simple crawling :  http://smartair.interpark.com/HtmlSearch/GetGoodsSmartList.aspx\n",
      ">> Parameters\n",
      "StayLength: , Soto:N , dep0:ICN , BEST:Y , chd:0 , inf:0 , SeatType:A , SplitNo:100 , arr0:BKK , FLEX:N , ptype:I , enc:u , depdate0:20170816 , adt:1 , trip:OW , JSON:Y , comp:Y , AirLine:7C , Change: , SeatAvail:Y , \n"
     ]
    },
    {
     "name": "stderr",
     "output_type": "stream",
     "text": [
      "2017-08-11 08:17:32,493 root     DEBUG    Crawling Interpark domastic schedule site\n"
     ]
    },
    {
     "name": "stdout",
     "output_type": "stream",
     "text": [
      "End Simple crawling\n",
      "Start Simple crawling :  http://smartair.interpark.com/HtmlSearch/GetGoodsSmartList.aspx\n",
      ">> Parameters\n",
      "StayLength: , Soto:N , dep0:ICN , BEST:Y , chd:0 , inf:0 , SeatType:A , SplitNo:100 , arr0:BKK , FLEX:N , ptype:I , enc:u , depdate0:20170816 , adt:1 , trip:OW , JSON:Y , comp:Y , AirLine:LJ , Change: , SeatAvail:Y , \n"
     ]
    },
    {
     "name": "stderr",
     "output_type": "stream",
     "text": [
      "2017-08-11 08:17:34,812 root     DEBUG    Crawling Interpark domastic schedule site\n"
     ]
    },
    {
     "name": "stdout",
     "output_type": "stream",
     "text": [
      "End Simple crawling\n",
      "Start Simple crawling :  http://smartair.interpark.com/HtmlSearch/GetGoodsSmartList.aspx\n",
      ">> Parameters\n",
      "StayLength: , Soto:N , dep0:ICN , BEST:Y , chd:0 , inf:0 , SeatType:A , SplitNo:100 , arr0:BKK , FLEX:N , ptype:I , enc:u , depdate0:20170816 , adt:1 , trip:OW , JSON:Y , comp:Y , AirLine:TW , Change: , SeatAvail:Y , \n"
     ]
    },
    {
     "name": "stderr",
     "output_type": "stream",
     "text": [
      "2017-08-11 08:17:36,936 root     DEBUG    Crawling Interpark domastic schedule site\n"
     ]
    },
    {
     "name": "stdout",
     "output_type": "stream",
     "text": [
      "End Simple crawling\n",
      "Start Simple crawling :  http://smartair.interpark.com/HtmlSearch/GetGoodsSmartList.aspx\n",
      ">> Parameters\n",
      "StayLength: , Soto:N , dep0:ICN , BEST:Y , chd:0 , inf:0 , SeatType:A , SplitNo:100 , arr0:BKK , FLEX:N , ptype:I , enc:u , depdate0:20170816 , adt:1 , trip:OW , JSON:Y , comp:Y , AirLine:ZE , Change: , SeatAvail:Y , \n"
     ]
    },
    {
     "name": "stderr",
     "output_type": "stream",
     "text": [
      "2017-08-11 08:17:39,082 root     DEBUG    Crawling Interpark domastic schedule site\n"
     ]
    },
    {
     "name": "stdout",
     "output_type": "stream",
     "text": [
      "End Simple crawling\n",
      "Start Simple crawling :  http://smartair.interpark.com/HtmlSearch/GetGoodsSmartList.aspx\n",
      ">> Parameters\n",
      "StayLength: , Soto:N , dep0:ICN , BEST:Y , chd:0 , inf:0 , SeatType:A , SplitNo:100 , arr0:BKK , FLEX:N , ptype:I , enc:u , depdate0:20170817 , adt:1 , trip:OW , JSON:Y , comp:Y , AirLine:7C , Change: , SeatAvail:Y , \n"
     ]
    },
    {
     "name": "stderr",
     "output_type": "stream",
     "text": [
      "2017-08-11 08:17:39,724 root     DEBUG    Crawling Interpark domastic schedule site\n"
     ]
    },
    {
     "name": "stdout",
     "output_type": "stream",
     "text": [
      "End Simple crawling\n",
      "Start Simple crawling :  http://smartair.interpark.com/HtmlSearch/GetGoodsSmartList.aspx\n",
      ">> Parameters\n",
      "StayLength: , Soto:N , dep0:ICN , BEST:Y , chd:0 , inf:0 , SeatType:A , SplitNo:100 , arr0:BKK , FLEX:N , ptype:I , enc:u , depdate0:20170817 , adt:1 , trip:OW , JSON:Y , comp:Y , AirLine:LJ , Change: , SeatAvail:Y , \n"
     ]
    },
    {
     "name": "stderr",
     "output_type": "stream",
     "text": [
      "2017-08-11 08:17:42,011 root     DEBUG    Crawling Interpark domastic schedule site\n"
     ]
    },
    {
     "name": "stdout",
     "output_type": "stream",
     "text": [
      "End Simple crawling\n",
      "Start Simple crawling :  http://smartair.interpark.com/HtmlSearch/GetGoodsSmartList.aspx\n",
      ">> Parameters\n",
      "StayLength: , Soto:N , dep0:ICN , BEST:Y , chd:0 , inf:0 , SeatType:A , SplitNo:100 , arr0:BKK , FLEX:N , ptype:I , enc:u , depdate0:20170817 , adt:1 , trip:OW , JSON:Y , comp:Y , AirLine:TW , Change: , SeatAvail:Y , \n"
     ]
    },
    {
     "name": "stderr",
     "output_type": "stream",
     "text": [
      "2017-08-11 08:17:44,104 root     DEBUG    Crawling Interpark domastic schedule site\n"
     ]
    },
    {
     "name": "stdout",
     "output_type": "stream",
     "text": [
      "End Simple crawling\n",
      "Start Simple crawling :  http://smartair.interpark.com/HtmlSearch/GetGoodsSmartList.aspx\n",
      ">> Parameters\n",
      "StayLength: , Soto:N , dep0:ICN , BEST:Y , chd:0 , inf:0 , SeatType:A , SplitNo:100 , arr0:BKK , FLEX:N , ptype:I , enc:u , depdate0:20170817 , adt:1 , trip:OW , JSON:Y , comp:Y , AirLine:ZE , Change: , SeatAvail:Y , \n"
     ]
    },
    {
     "name": "stderr",
     "output_type": "stream",
     "text": [
      "2017-08-11 08:17:46,399 root     DEBUG    Crawling Interpark domastic schedule site\n"
     ]
    },
    {
     "name": "stdout",
     "output_type": "stream",
     "text": [
      "End Simple crawling\n",
      "Start Simple crawling :  http://smartair.interpark.com/HtmlSearch/GetGoodsSmartList.aspx\n",
      ">> Parameters\n",
      "StayLength: , Soto:N , dep0:ICN , BEST:Y , chd:0 , inf:0 , SeatType:A , SplitNo:100 , arr0:BKK , FLEX:N , ptype:I , enc:u , depdate0:20170818 , adt:1 , trip:OW , JSON:Y , comp:Y , AirLine:7C , Change: , SeatAvail:Y , \n"
     ]
    },
    {
     "name": "stderr",
     "output_type": "stream",
     "text": [
      "2017-08-11 08:17:47,447 root     DEBUG    Crawling Interpark domastic schedule site\n"
     ]
    },
    {
     "name": "stdout",
     "output_type": "stream",
     "text": [
      "End Simple crawling\n",
      "Start Simple crawling :  http://smartair.interpark.com/HtmlSearch/GetGoodsSmartList.aspx\n",
      ">> Parameters\n",
      "StayLength: , Soto:N , dep0:ICN , BEST:Y , chd:0 , inf:0 , SeatType:A , SplitNo:100 , arr0:BKK , FLEX:N , ptype:I , enc:u , depdate0:20170818 , adt:1 , trip:OW , JSON:Y , comp:Y , AirLine:LJ , Change: , SeatAvail:Y , \n"
     ]
    },
    {
     "name": "stderr",
     "output_type": "stream",
     "text": [
      "2017-08-11 08:17:49,747 root     DEBUG    Crawling Interpark domastic schedule site\n"
     ]
    },
    {
     "name": "stdout",
     "output_type": "stream",
     "text": [
      "End Simple crawling\n",
      "Start Simple crawling :  http://smartair.interpark.com/HtmlSearch/GetGoodsSmartList.aspx\n",
      ">> Parameters\n",
      "StayLength: , Soto:N , dep0:ICN , BEST:Y , chd:0 , inf:0 , SeatType:A , SplitNo:100 , arr0:BKK , FLEX:N , ptype:I , enc:u , depdate0:20170818 , adt:1 , trip:OW , JSON:Y , comp:Y , AirLine:TW , Change: , SeatAvail:Y , \n"
     ]
    },
    {
     "name": "stderr",
     "output_type": "stream",
     "text": [
      "2017-08-11 08:17:51,902 root     DEBUG    Crawling Interpark domastic schedule site\n"
     ]
    },
    {
     "name": "stdout",
     "output_type": "stream",
     "text": [
      "End Simple crawling\n",
      "Start Simple crawling :  http://smartair.interpark.com/HtmlSearch/GetGoodsSmartList.aspx\n",
      ">> Parameters\n",
      "StayLength: , Soto:N , dep0:ICN , BEST:Y , chd:0 , inf:0 , SeatType:A , SplitNo:100 , arr0:BKK , FLEX:N , ptype:I , enc:u , depdate0:20170818 , adt:1 , trip:OW , JSON:Y , comp:Y , AirLine:ZE , Change: , SeatAvail:Y , \n"
     ]
    },
    {
     "name": "stderr",
     "output_type": "stream",
     "text": [
      "2017-08-11 08:17:54,073 root     DEBUG    Crawling Interpark domastic schedule site\n"
     ]
    },
    {
     "name": "stdout",
     "output_type": "stream",
     "text": [
      "End Simple crawling\n",
      "Start Simple crawling :  http://smartair.interpark.com/HtmlSearch/GetGoodsSmartList.aspx\n",
      ">> Parameters\n",
      "StayLength: , Soto:N , dep0:ICN , BEST:Y , chd:0 , inf:0 , SeatType:A , SplitNo:100 , arr0:BKK , FLEX:N , ptype:I , enc:u , depdate0:20170819 , adt:1 , trip:OW , JSON:Y , comp:Y , AirLine:7C , Change: , SeatAvail:Y , \n"
     ]
    },
    {
     "name": "stderr",
     "output_type": "stream",
     "text": [
      "2017-08-11 08:17:55,062 root     DEBUG    Crawling Interpark domastic schedule site\n"
     ]
    },
    {
     "name": "stdout",
     "output_type": "stream",
     "text": [
      "End Simple crawling\n",
      "Start Simple crawling :  http://smartair.interpark.com/HtmlSearch/GetGoodsSmartList.aspx\n",
      ">> Parameters\n",
      "StayLength: , Soto:N , dep0:ICN , BEST:Y , chd:0 , inf:0 , SeatType:A , SplitNo:100 , arr0:BKK , FLEX:N , ptype:I , enc:u , depdate0:20170819 , adt:1 , trip:OW , JSON:Y , comp:Y , AirLine:LJ , Change: , SeatAvail:Y , \n"
     ]
    },
    {
     "name": "stderr",
     "output_type": "stream",
     "text": [
      "2017-08-11 08:17:57,388 root     DEBUG    Crawling Interpark domastic schedule site\n"
     ]
    },
    {
     "name": "stdout",
     "output_type": "stream",
     "text": [
      "End Simple crawling\n",
      "Start Simple crawling :  http://smartair.interpark.com/HtmlSearch/GetGoodsSmartList.aspx\n",
      ">> Parameters\n",
      "StayLength: , Soto:N , dep0:ICN , BEST:Y , chd:0 , inf:0 , SeatType:A , SplitNo:100 , arr0:BKK , FLEX:N , ptype:I , enc:u , depdate0:20170819 , adt:1 , trip:OW , JSON:Y , comp:Y , AirLine:TW , Change: , SeatAvail:Y , \n"
     ]
    },
    {
     "name": "stderr",
     "output_type": "stream",
     "text": [
      "2017-08-11 08:17:59,831 root     DEBUG    Crawling Interpark domastic schedule site\n"
     ]
    },
    {
     "name": "stdout",
     "output_type": "stream",
     "text": [
      "End Simple crawling\n",
      "Start Simple crawling :  http://smartair.interpark.com/HtmlSearch/GetGoodsSmartList.aspx\n",
      ">> Parameters\n",
      "StayLength: , Soto:N , dep0:ICN , BEST:Y , chd:0 , inf:0 , SeatType:A , SplitNo:100 , arr0:BKK , FLEX:N , ptype:I , enc:u , depdate0:20170819 , adt:1 , trip:OW , JSON:Y , comp:Y , AirLine:ZE , Change: , SeatAvail:Y , \n"
     ]
    },
    {
     "name": "stderr",
     "output_type": "stream",
     "text": [
      "2017-08-11 08:18:02,149 root     DEBUG    Crawling Interpark domastic schedule site\n"
     ]
    },
    {
     "name": "stdout",
     "output_type": "stream",
     "text": [
      "End Simple crawling\n",
      "Start Simple crawling :  http://smartair.interpark.com/HtmlSearch/GetGoodsSmartList.aspx\n",
      ">> Parameters\n",
      "StayLength: , Soto:N , dep0:ICN , BEST:Y , chd:0 , inf:0 , SeatType:A , SplitNo:100 , arr0:BKK , FLEX:N , ptype:I , enc:u , depdate0:20170820 , adt:1 , trip:OW , JSON:Y , comp:Y , AirLine:7C , Change: , SeatAvail:Y , \n"
     ]
    },
    {
     "name": "stderr",
     "output_type": "stream",
     "text": [
      "2017-08-11 08:18:03,400 root     DEBUG    Crawling Interpark domastic schedule site\n"
     ]
    },
    {
     "name": "stdout",
     "output_type": "stream",
     "text": [
      "End Simple crawling\n",
      "Start Simple crawling :  http://smartair.interpark.com/HtmlSearch/GetGoodsSmartList.aspx\n",
      ">> Parameters\n",
      "StayLength: , Soto:N , dep0:ICN , BEST:Y , chd:0 , inf:0 , SeatType:A , SplitNo:100 , arr0:BKK , FLEX:N , ptype:I , enc:u , depdate0:20170820 , adt:1 , trip:OW , JSON:Y , comp:Y , AirLine:LJ , Change: , SeatAvail:Y , \n"
     ]
    },
    {
     "name": "stderr",
     "output_type": "stream",
     "text": [
      "2017-08-11 08:18:05,583 root     DEBUG    Crawling Interpark domastic schedule site\n"
     ]
    },
    {
     "name": "stdout",
     "output_type": "stream",
     "text": [
      "End Simple crawling\n",
      "Start Simple crawling :  http://smartair.interpark.com/HtmlSearch/GetGoodsSmartList.aspx\n",
      ">> Parameters\n",
      "StayLength: , Soto:N , dep0:ICN , BEST:Y , chd:0 , inf:0 , SeatType:A , SplitNo:100 , arr0:BKK , FLEX:N , ptype:I , enc:u , depdate0:20170820 , adt:1 , trip:OW , JSON:Y , comp:Y , AirLine:TW , Change: , SeatAvail:Y , \n"
     ]
    },
    {
     "name": "stderr",
     "output_type": "stream",
     "text": [
      "2017-08-11 08:18:07,878 root     DEBUG    Crawling Interpark domastic schedule site\n"
     ]
    },
    {
     "name": "stdout",
     "output_type": "stream",
     "text": [
      "End Simple crawling\n",
      "Start Simple crawling :  http://smartair.interpark.com/HtmlSearch/GetGoodsSmartList.aspx\n",
      ">> Parameters\n",
      "StayLength: , Soto:N , dep0:ICN , BEST:Y , chd:0 , inf:0 , SeatType:A , SplitNo:100 , arr0:BKK , FLEX:N , ptype:I , enc:u , depdate0:20170820 , adt:1 , trip:OW , JSON:Y , comp:Y , AirLine:ZE , Change: , SeatAvail:Y , \n"
     ]
    },
    {
     "name": "stderr",
     "output_type": "stream",
     "text": [
      "2017-08-11 08:18:10,265 root     DEBUG    Crawling Interpark domastic schedule site\n"
     ]
    },
    {
     "name": "stdout",
     "output_type": "stream",
     "text": [
      "End Simple crawling\n",
      "Start Simple crawling :  http://smartair.interpark.com/HtmlSearch/GetGoodsSmartList.aspx\n",
      ">> Parameters\n",
      "StayLength: , Soto:N , dep0:ICN , BEST:Y , chd:0 , inf:0 , SeatType:A , SplitNo:100 , arr0:BKK , FLEX:N , ptype:I , enc:u , depdate0:20170821 , adt:1 , trip:OW , JSON:Y , comp:Y , AirLine:7C , Change: , SeatAvail:Y , \n"
     ]
    },
    {
     "name": "stderr",
     "output_type": "stream",
     "text": [
      "2017-08-11 08:18:11,945 root     DEBUG    Crawling Interpark domastic schedule site\n"
     ]
    },
    {
     "name": "stdout",
     "output_type": "stream",
     "text": [
      "End Simple crawling\n",
      "Start Simple crawling :  http://smartair.interpark.com/HtmlSearch/GetGoodsSmartList.aspx\n",
      ">> Parameters\n",
      "StayLength: , Soto:N , dep0:ICN , BEST:Y , chd:0 , inf:0 , SeatType:A , SplitNo:100 , arr0:BKK , FLEX:N , ptype:I , enc:u , depdate0:20170821 , adt:1 , trip:OW , JSON:Y , comp:Y , AirLine:LJ , Change: , SeatAvail:Y , \n"
     ]
    },
    {
     "name": "stderr",
     "output_type": "stream",
     "text": [
      "2017-08-11 08:18:14,229 root     DEBUG    Crawling Interpark domastic schedule site\n"
     ]
    },
    {
     "name": "stdout",
     "output_type": "stream",
     "text": [
      "End Simple crawling\n",
      "Start Simple crawling :  http://smartair.interpark.com/HtmlSearch/GetGoodsSmartList.aspx\n",
      ">> Parameters\n",
      "StayLength: , Soto:N , dep0:ICN , BEST:Y , chd:0 , inf:0 , SeatType:A , SplitNo:100 , arr0:BKK , FLEX:N , ptype:I , enc:u , depdate0:20170821 , adt:1 , trip:OW , JSON:Y , comp:Y , AirLine:TW , Change: , SeatAvail:Y , \n"
     ]
    },
    {
     "name": "stderr",
     "output_type": "stream",
     "text": [
      "2017-08-11 08:18:16,567 root     DEBUG    Crawling Interpark domastic schedule site\n"
     ]
    },
    {
     "name": "stdout",
     "output_type": "stream",
     "text": [
      "End Simple crawling\n",
      "Start Simple crawling :  http://smartair.interpark.com/HtmlSearch/GetGoodsSmartList.aspx\n",
      ">> Parameters\n",
      "StayLength: , Soto:N , dep0:ICN , BEST:Y , chd:0 , inf:0 , SeatType:A , SplitNo:100 , arr0:BKK , FLEX:N , ptype:I , enc:u , depdate0:20170821 , adt:1 , trip:OW , JSON:Y , comp:Y , AirLine:ZE , Change: , SeatAvail:Y , \n"
     ]
    },
    {
     "name": "stderr",
     "output_type": "stream",
     "text": [
      "2017-08-11 08:18:19,239 root     DEBUG    Crawling Interpark domastic schedule site\n"
     ]
    },
    {
     "name": "stdout",
     "output_type": "stream",
     "text": [
      "End Simple crawling\n",
      "Start Simple crawling :  http://smartair.interpark.com/HtmlSearch/GetGoodsSmartList.aspx\n",
      ">> Parameters\n",
      "StayLength: , Soto:N , dep0:ICN , BEST:Y , chd:0 , inf:0 , SeatType:A , SplitNo:100 , arr0:BKK , FLEX:N , ptype:I , enc:u , depdate0:20170822 , adt:1 , trip:OW , JSON:Y , comp:Y , AirLine:7C , Change: , SeatAvail:Y , \n"
     ]
    },
    {
     "name": "stderr",
     "output_type": "stream",
     "text": [
      "2017-08-11 08:18:19,922 root     DEBUG    Crawling Interpark domastic schedule site\n"
     ]
    },
    {
     "name": "stdout",
     "output_type": "stream",
     "text": [
      "End Simple crawling\n",
      "Start Simple crawling :  http://smartair.interpark.com/HtmlSearch/GetGoodsSmartList.aspx\n",
      ">> Parameters\n",
      "StayLength: , Soto:N , dep0:ICN , BEST:Y , chd:0 , inf:0 , SeatType:A , SplitNo:100 , arr0:BKK , FLEX:N , ptype:I , enc:u , depdate0:20170822 , adt:1 , trip:OW , JSON:Y , comp:Y , AirLine:LJ , Change: , SeatAvail:Y , \n"
     ]
    },
    {
     "name": "stderr",
     "output_type": "stream",
     "text": [
      "2017-08-11 08:18:22,156 root     DEBUG    Crawling Interpark domastic schedule site\n"
     ]
    },
    {
     "name": "stdout",
     "output_type": "stream",
     "text": [
      "End Simple crawling\n",
      "Start Simple crawling :  http://smartair.interpark.com/HtmlSearch/GetGoodsSmartList.aspx\n",
      ">> Parameters\n",
      "StayLength: , Soto:N , dep0:ICN , BEST:Y , chd:0 , inf:0 , SeatType:A , SplitNo:100 , arr0:BKK , FLEX:N , ptype:I , enc:u , depdate0:20170822 , adt:1 , trip:OW , JSON:Y , comp:Y , AirLine:TW , Change: , SeatAvail:Y , \n"
     ]
    },
    {
     "name": "stderr",
     "output_type": "stream",
     "text": [
      "2017-08-11 08:18:24,668 root     DEBUG    Crawling Interpark domastic schedule site\n"
     ]
    },
    {
     "name": "stdout",
     "output_type": "stream",
     "text": [
      "End Simple crawling\n",
      "Start Simple crawling :  http://smartair.interpark.com/HtmlSearch/GetGoodsSmartList.aspx\n",
      ">> Parameters\n",
      "StayLength: , Soto:N , dep0:ICN , BEST:Y , chd:0 , inf:0 , SeatType:A , SplitNo:100 , arr0:BKK , FLEX:N , ptype:I , enc:u , depdate0:20170822 , adt:1 , trip:OW , JSON:Y , comp:Y , AirLine:ZE , Change: , SeatAvail:Y , \n"
     ]
    },
    {
     "name": "stderr",
     "output_type": "stream",
     "text": [
      "2017-08-11 08:18:26,858 root     DEBUG    Crawling Interpark domastic schedule site\n"
     ]
    },
    {
     "name": "stdout",
     "output_type": "stream",
     "text": [
      "End Simple crawling\n",
      "Start Simple crawling :  http://smartair.interpark.com/HtmlSearch/GetGoodsSmartList.aspx\n",
      ">> Parameters\n",
      "StayLength: , Soto:N , dep0:ICN , BEST:Y , chd:0 , inf:0 , SeatType:A , SplitNo:100 , arr0:BKK , FLEX:N , ptype:I , enc:u , depdate0:20170823 , adt:1 , trip:OW , JSON:Y , comp:Y , AirLine:7C , Change: , SeatAvail:Y , \n"
     ]
    },
    {
     "name": "stderr",
     "output_type": "stream",
     "text": [
      "2017-08-11 08:18:27,938 root     DEBUG    Crawling Interpark domastic schedule site\n"
     ]
    },
    {
     "name": "stdout",
     "output_type": "stream",
     "text": [
      "End Simple crawling\n",
      "Start Simple crawling :  http://smartair.interpark.com/HtmlSearch/GetGoodsSmartList.aspx\n",
      ">> Parameters\n",
      "StayLength: , Soto:N , dep0:ICN , BEST:Y , chd:0 , inf:0 , SeatType:A , SplitNo:100 , arr0:BKK , FLEX:N , ptype:I , enc:u , depdate0:20170823 , adt:1 , trip:OW , JSON:Y , comp:Y , AirLine:LJ , Change: , SeatAvail:Y , \n"
     ]
    },
    {
     "name": "stderr",
     "output_type": "stream",
     "text": [
      "2017-08-11 08:18:30,101 root     DEBUG    Crawling Interpark domastic schedule site\n"
     ]
    },
    {
     "name": "stdout",
     "output_type": "stream",
     "text": [
      "End Simple crawling\n",
      "Start Simple crawling :  http://smartair.interpark.com/HtmlSearch/GetGoodsSmartList.aspx\n",
      ">> Parameters\n",
      "StayLength: , Soto:N , dep0:ICN , BEST:Y , chd:0 , inf:0 , SeatType:A , SplitNo:100 , arr0:BKK , FLEX:N , ptype:I , enc:u , depdate0:20170823 , adt:1 , trip:OW , JSON:Y , comp:Y , AirLine:TW , Change: , SeatAvail:Y , \n"
     ]
    },
    {
     "name": "stderr",
     "output_type": "stream",
     "text": [
      "2017-08-11 08:18:32,317 root     DEBUG    Crawling Interpark domastic schedule site\n"
     ]
    },
    {
     "name": "stdout",
     "output_type": "stream",
     "text": [
      "End Simple crawling\n",
      "Start Simple crawling :  http://smartair.interpark.com/HtmlSearch/GetGoodsSmartList.aspx\n",
      ">> Parameters\n",
      "StayLength: , Soto:N , dep0:ICN , BEST:Y , chd:0 , inf:0 , SeatType:A , SplitNo:100 , arr0:BKK , FLEX:N , ptype:I , enc:u , depdate0:20170823 , adt:1 , trip:OW , JSON:Y , comp:Y , AirLine:ZE , Change: , SeatAvail:Y , \n"
     ]
    },
    {
     "name": "stderr",
     "output_type": "stream",
     "text": [
      "2017-08-11 08:18:34,527 root     DEBUG    Crawling Interpark domastic schedule site\n"
     ]
    },
    {
     "name": "stdout",
     "output_type": "stream",
     "text": [
      "End Simple crawling\n",
      "Start Simple crawling :  http://smartair.interpark.com/HtmlSearch/GetGoodsSmartList.aspx\n",
      ">> Parameters\n",
      "StayLength: , Soto:N , dep0:ICN , BEST:Y , chd:0 , inf:0 , SeatType:A , SplitNo:100 , arr0:BKK , FLEX:N , ptype:I , enc:u , depdate0:20170824 , adt:1 , trip:OW , JSON:Y , comp:Y , AirLine:7C , Change: , SeatAvail:Y , \n"
     ]
    },
    {
     "name": "stderr",
     "output_type": "stream",
     "text": [
      "2017-08-11 08:18:35,537 root     DEBUG    Crawling Interpark domastic schedule site\n"
     ]
    },
    {
     "name": "stdout",
     "output_type": "stream",
     "text": [
      "End Simple crawling\n",
      "Start Simple crawling :  http://smartair.interpark.com/HtmlSearch/GetGoodsSmartList.aspx\n",
      ">> Parameters\n",
      "StayLength: , Soto:N , dep0:ICN , BEST:Y , chd:0 , inf:0 , SeatType:A , SplitNo:100 , arr0:BKK , FLEX:N , ptype:I , enc:u , depdate0:20170824 , adt:1 , trip:OW , JSON:Y , comp:Y , AirLine:LJ , Change: , SeatAvail:Y , \n"
     ]
    },
    {
     "name": "stderr",
     "output_type": "stream",
     "text": [
      "2017-08-11 08:18:37,855 root     DEBUG    Crawling Interpark domastic schedule site\n"
     ]
    },
    {
     "name": "stdout",
     "output_type": "stream",
     "text": [
      "End Simple crawling\n",
      "Start Simple crawling :  http://smartair.interpark.com/HtmlSearch/GetGoodsSmartList.aspx\n",
      ">> Parameters\n",
      "StayLength: , Soto:N , dep0:ICN , BEST:Y , chd:0 , inf:0 , SeatType:A , SplitNo:100 , arr0:BKK , FLEX:N , ptype:I , enc:u , depdate0:20170824 , adt:1 , trip:OW , JSON:Y , comp:Y , AirLine:TW , Change: , SeatAvail:Y , \n"
     ]
    },
    {
     "name": "stderr",
     "output_type": "stream",
     "text": [
      "2017-08-11 08:18:41,039 root     DEBUG    Crawling Interpark domastic schedule site\n"
     ]
    },
    {
     "name": "stdout",
     "output_type": "stream",
     "text": [
      "End Simple crawling\n",
      "Start Simple crawling :  http://smartair.interpark.com/HtmlSearch/GetGoodsSmartList.aspx\n",
      ">> Parameters\n",
      "StayLength: , Soto:N , dep0:ICN , BEST:Y , chd:0 , inf:0 , SeatType:A , SplitNo:100 , arr0:BKK , FLEX:N , ptype:I , enc:u , depdate0:20170824 , adt:1 , trip:OW , JSON:Y , comp:Y , AirLine:ZE , Change: , SeatAvail:Y , \n"
     ]
    },
    {
     "name": "stderr",
     "output_type": "stream",
     "text": [
      "2017-08-11 08:18:43,187 root     DEBUG    Crawling Interpark domastic schedule site\n"
     ]
    },
    {
     "name": "stdout",
     "output_type": "stream",
     "text": [
      "End Simple crawling\n",
      "Start Simple crawling :  http://smartair.interpark.com/HtmlSearch/GetGoodsSmartList.aspx\n",
      ">> Parameters\n",
      "StayLength: , Soto:N , dep0:ICN , BEST:Y , chd:0 , inf:0 , SeatType:A , SplitNo:100 , arr0:BKK , FLEX:N , ptype:I , enc:u , depdate0:20170825 , adt:1 , trip:OW , JSON:Y , comp:Y , AirLine:7C , Change: , SeatAvail:Y , \n"
     ]
    },
    {
     "name": "stderr",
     "output_type": "stream",
     "text": [
      "2017-08-11 08:18:44,149 root     DEBUG    Crawling Interpark domastic schedule site\n"
     ]
    },
    {
     "name": "stdout",
     "output_type": "stream",
     "text": [
      "End Simple crawling\n",
      "Start Simple crawling :  http://smartair.interpark.com/HtmlSearch/GetGoodsSmartList.aspx\n",
      ">> Parameters\n",
      "StayLength: , Soto:N , dep0:ICN , BEST:Y , chd:0 , inf:0 , SeatType:A , SplitNo:100 , arr0:BKK , FLEX:N , ptype:I , enc:u , depdate0:20170825 , adt:1 , trip:OW , JSON:Y , comp:Y , AirLine:LJ , Change: , SeatAvail:Y , \n"
     ]
    },
    {
     "name": "stderr",
     "output_type": "stream",
     "text": [
      "2017-08-11 08:18:46,353 root     DEBUG    Crawling Interpark domastic schedule site\n"
     ]
    },
    {
     "name": "stdout",
     "output_type": "stream",
     "text": [
      "End Simple crawling\n",
      "Start Simple crawling :  http://smartair.interpark.com/HtmlSearch/GetGoodsSmartList.aspx\n",
      ">> Parameters\n",
      "StayLength: , Soto:N , dep0:ICN , BEST:Y , chd:0 , inf:0 , SeatType:A , SplitNo:100 , arr0:BKK , FLEX:N , ptype:I , enc:u , depdate0:20170825 , adt:1 , trip:OW , JSON:Y , comp:Y , AirLine:TW , Change: , SeatAvail:Y , \n"
     ]
    },
    {
     "name": "stderr",
     "output_type": "stream",
     "text": [
      "2017-08-11 08:18:48,485 root     DEBUG    Crawling Interpark domastic schedule site\n"
     ]
    },
    {
     "name": "stdout",
     "output_type": "stream",
     "text": [
      "End Simple crawling\n",
      "Start Simple crawling :  http://smartair.interpark.com/HtmlSearch/GetGoodsSmartList.aspx\n",
      ">> Parameters\n",
      "StayLength: , Soto:N , dep0:ICN , BEST:Y , chd:0 , inf:0 , SeatType:A , SplitNo:100 , arr0:BKK , FLEX:N , ptype:I , enc:u , depdate0:20170825 , adt:1 , trip:OW , JSON:Y , comp:Y , AirLine:ZE , Change: , SeatAvail:Y , \n"
     ]
    },
    {
     "name": "stderr",
     "output_type": "stream",
     "text": [
      "2017-08-11 08:18:50,692 root     DEBUG    Crawling Interpark domastic schedule site\n"
     ]
    },
    {
     "name": "stdout",
     "output_type": "stream",
     "text": [
      "End Simple crawling\n",
      "Start Simple crawling :  http://smartair.interpark.com/HtmlSearch/GetGoodsSmartList.aspx\n",
      ">> Parameters\n",
      "StayLength: , Soto:N , dep0:ICN , BEST:Y , chd:0 , inf:0 , SeatType:A , SplitNo:100 , arr0:BKK , FLEX:N , ptype:I , enc:u , depdate0:20170826 , adt:1 , trip:OW , JSON:Y , comp:Y , AirLine:7C , Change: , SeatAvail:Y , \n"
     ]
    },
    {
     "name": "stderr",
     "output_type": "stream",
     "text": [
      "2017-08-11 08:18:51,736 root     DEBUG    Crawling Interpark domastic schedule site\n"
     ]
    },
    {
     "name": "stdout",
     "output_type": "stream",
     "text": [
      "End Simple crawling\n",
      "Start Simple crawling :  http://smartair.interpark.com/HtmlSearch/GetGoodsSmartList.aspx\n",
      ">> Parameters\n",
      "StayLength: , Soto:N , dep0:ICN , BEST:Y , chd:0 , inf:0 , SeatType:A , SplitNo:100 , arr0:BKK , FLEX:N , ptype:I , enc:u , depdate0:20170826 , adt:1 , trip:OW , JSON:Y , comp:Y , AirLine:LJ , Change: , SeatAvail:Y , \n"
     ]
    },
    {
     "name": "stderr",
     "output_type": "stream",
     "text": [
      "2017-08-11 08:18:53,907 root     DEBUG    Crawling Interpark domastic schedule site\n"
     ]
    },
    {
     "name": "stdout",
     "output_type": "stream",
     "text": [
      "End Simple crawling\n",
      "Start Simple crawling :  http://smartair.interpark.com/HtmlSearch/GetGoodsSmartList.aspx\n",
      ">> Parameters\n",
      "StayLength: , Soto:N , dep0:ICN , BEST:Y , chd:0 , inf:0 , SeatType:A , SplitNo:100 , arr0:BKK , FLEX:N , ptype:I , enc:u , depdate0:20170826 , adt:1 , trip:OW , JSON:Y , comp:Y , AirLine:TW , Change: , SeatAvail:Y , \n"
     ]
    },
    {
     "name": "stderr",
     "output_type": "stream",
     "text": [
      "2017-08-11 08:18:56,194 root     DEBUG    Crawling Interpark domastic schedule site\n"
     ]
    },
    {
     "name": "stdout",
     "output_type": "stream",
     "text": [
      "End Simple crawling\n",
      "Start Simple crawling :  http://smartair.interpark.com/HtmlSearch/GetGoodsSmartList.aspx\n",
      ">> Parameters\n",
      "StayLength: , Soto:N , dep0:ICN , BEST:Y , chd:0 , inf:0 , SeatType:A , SplitNo:100 , arr0:BKK , FLEX:N , ptype:I , enc:u , depdate0:20170826 , adt:1 , trip:OW , JSON:Y , comp:Y , AirLine:ZE , Change: , SeatAvail:Y , \n"
     ]
    },
    {
     "name": "stderr",
     "output_type": "stream",
     "text": [
      "2017-08-11 08:18:58,342 root     DEBUG    Crawling Interpark domastic schedule site\n"
     ]
    },
    {
     "name": "stdout",
     "output_type": "stream",
     "text": [
      "End Simple crawling\n",
      "Start Simple crawling :  http://smartair.interpark.com/HtmlSearch/GetGoodsSmartList.aspx\n",
      ">> Parameters\n",
      "StayLength: , Soto:N , dep0:ICN , BEST:Y , chd:0 , inf:0 , SeatType:A , SplitNo:100 , arr0:BKK , FLEX:N , ptype:I , enc:u , depdate0:20170827 , adt:1 , trip:OW , JSON:Y , comp:Y , AirLine:7C , Change: , SeatAvail:Y , \n"
     ]
    },
    {
     "name": "stderr",
     "output_type": "stream",
     "text": [
      "2017-08-11 08:18:59,007 root     DEBUG    Crawling Interpark domastic schedule site\n"
     ]
    },
    {
     "name": "stdout",
     "output_type": "stream",
     "text": [
      "End Simple crawling\n",
      "Start Simple crawling :  http://smartair.interpark.com/HtmlSearch/GetGoodsSmartList.aspx\n",
      ">> Parameters\n",
      "StayLength: , Soto:N , dep0:ICN , BEST:Y , chd:0 , inf:0 , SeatType:A , SplitNo:100 , arr0:BKK , FLEX:N , ptype:I , enc:u , depdate0:20170827 , adt:1 , trip:OW , JSON:Y , comp:Y , AirLine:LJ , Change: , SeatAvail:Y , \n"
     ]
    },
    {
     "name": "stderr",
     "output_type": "stream",
     "text": [
      "2017-08-11 08:19:02,414 root     DEBUG    Crawling Interpark domastic schedule site\n"
     ]
    },
    {
     "name": "stdout",
     "output_type": "stream",
     "text": [
      "End Simple crawling\n",
      "Start Simple crawling :  http://smartair.interpark.com/HtmlSearch/GetGoodsSmartList.aspx\n",
      ">> Parameters\n",
      "StayLength: , Soto:N , dep0:ICN , BEST:Y , chd:0 , inf:0 , SeatType:A , SplitNo:100 , arr0:BKK , FLEX:N , ptype:I , enc:u , depdate0:20170827 , adt:1 , trip:OW , JSON:Y , comp:Y , AirLine:TW , Change: , SeatAvail:Y , \n"
     ]
    },
    {
     "name": "stderr",
     "output_type": "stream",
     "text": [
      "2017-08-11 08:19:04,764 root     DEBUG    Crawling Interpark domastic schedule site\n"
     ]
    },
    {
     "name": "stdout",
     "output_type": "stream",
     "text": [
      "End Simple crawling\n",
      "Start Simple crawling :  http://smartair.interpark.com/HtmlSearch/GetGoodsSmartList.aspx\n",
      ">> Parameters\n",
      "StayLength: , Soto:N , dep0:ICN , BEST:Y , chd:0 , inf:0 , SeatType:A , SplitNo:100 , arr0:BKK , FLEX:N , ptype:I , enc:u , depdate0:20170827 , adt:1 , trip:OW , JSON:Y , comp:Y , AirLine:ZE , Change: , SeatAvail:Y , \n"
     ]
    },
    {
     "name": "stderr",
     "output_type": "stream",
     "text": [
      "2017-08-11 08:19:06,980 root     DEBUG    Crawling Interpark domastic schedule site\n"
     ]
    },
    {
     "name": "stdout",
     "output_type": "stream",
     "text": [
      "End Simple crawling\n",
      "Start Simple crawling :  http://smartair.interpark.com/HtmlSearch/GetGoodsSmartList.aspx\n",
      ">> Parameters\n",
      "StayLength: , Soto:N , dep0:ICN , BEST:Y , chd:0 , inf:0 , SeatType:A , SplitNo:100 , arr0:BKK , FLEX:N , ptype:I , enc:u , depdate0:20170828 , adt:1 , trip:OW , JSON:Y , comp:Y , AirLine:7C , Change: , SeatAvail:Y , \n"
     ]
    },
    {
     "name": "stderr",
     "output_type": "stream",
     "text": [
      "2017-08-11 08:19:07,910 root     DEBUG    Crawling Interpark domastic schedule site\n"
     ]
    },
    {
     "name": "stdout",
     "output_type": "stream",
     "text": [
      "End Simple crawling\n",
      "Start Simple crawling :  http://smartair.interpark.com/HtmlSearch/GetGoodsSmartList.aspx\n",
      ">> Parameters\n",
      "StayLength: , Soto:N , dep0:ICN , BEST:Y , chd:0 , inf:0 , SeatType:A , SplitNo:100 , arr0:BKK , FLEX:N , ptype:I , enc:u , depdate0:20170828 , adt:1 , trip:OW , JSON:Y , comp:Y , AirLine:LJ , Change: , SeatAvail:Y , \n"
     ]
    },
    {
     "name": "stderr",
     "output_type": "stream",
     "text": [
      "2017-08-11 08:19:10,269 root     DEBUG    Crawling Interpark domastic schedule site\n"
     ]
    },
    {
     "name": "stdout",
     "output_type": "stream",
     "text": [
      "End Simple crawling\n",
      "Start Simple crawling :  http://smartair.interpark.com/HtmlSearch/GetGoodsSmartList.aspx\n",
      ">> Parameters\n",
      "StayLength: , Soto:N , dep0:ICN , BEST:Y , chd:0 , inf:0 , SeatType:A , SplitNo:100 , arr0:BKK , FLEX:N , ptype:I , enc:u , depdate0:20170828 , adt:1 , trip:OW , JSON:Y , comp:Y , AirLine:TW , Change: , SeatAvail:Y , \n"
     ]
    },
    {
     "name": "stderr",
     "output_type": "stream",
     "text": [
      "2017-08-11 08:19:12,527 root     DEBUG    Crawling Interpark domastic schedule site\n"
     ]
    },
    {
     "name": "stdout",
     "output_type": "stream",
     "text": [
      "End Simple crawling\n",
      "Start Simple crawling :  http://smartair.interpark.com/HtmlSearch/GetGoodsSmartList.aspx\n",
      ">> Parameters\n",
      "StayLength: , Soto:N , dep0:ICN , BEST:Y , chd:0 , inf:0 , SeatType:A , SplitNo:100 , arr0:BKK , FLEX:N , ptype:I , enc:u , depdate0:20170828 , adt:1 , trip:OW , JSON:Y , comp:Y , AirLine:ZE , Change: , SeatAvail:Y , \n"
     ]
    },
    {
     "name": "stderr",
     "output_type": "stream",
     "text": [
      "2017-08-11 08:19:14,884 root     DEBUG    Crawling Interpark domastic schedule site\n"
     ]
    },
    {
     "name": "stdout",
     "output_type": "stream",
     "text": [
      "End Simple crawling\n",
      "Start Simple crawling :  http://smartair.interpark.com/HtmlSearch/GetGoodsSmartList.aspx\n",
      ">> Parameters\n",
      "StayLength: , Soto:N , dep0:ICN , BEST:Y , chd:0 , inf:0 , SeatType:A , SplitNo:100 , arr0:BKK , FLEX:N , ptype:I , enc:u , depdate0:20170829 , adt:1 , trip:OW , JSON:Y , comp:Y , AirLine:7C , Change: , SeatAvail:Y , \n"
     ]
    },
    {
     "name": "stderr",
     "output_type": "stream",
     "text": [
      "2017-08-11 08:19:16,107 root     DEBUG    Crawling Interpark domastic schedule site\n"
     ]
    },
    {
     "name": "stdout",
     "output_type": "stream",
     "text": [
      "End Simple crawling\n",
      "Start Simple crawling :  http://smartair.interpark.com/HtmlSearch/GetGoodsSmartList.aspx\n",
      ">> Parameters\n",
      "StayLength: , Soto:N , dep0:ICN , BEST:Y , chd:0 , inf:0 , SeatType:A , SplitNo:100 , arr0:BKK , FLEX:N , ptype:I , enc:u , depdate0:20170829 , adt:1 , trip:OW , JSON:Y , comp:Y , AirLine:LJ , Change: , SeatAvail:Y , \n"
     ]
    },
    {
     "name": "stderr",
     "output_type": "stream",
     "text": [
      "2017-08-11 08:19:18,376 root     DEBUG    Crawling Interpark domastic schedule site\n"
     ]
    },
    {
     "name": "stdout",
     "output_type": "stream",
     "text": [
      "End Simple crawling\n",
      "Start Simple crawling :  http://smartair.interpark.com/HtmlSearch/GetGoodsSmartList.aspx\n",
      ">> Parameters\n",
      "StayLength: , Soto:N , dep0:ICN , BEST:Y , chd:0 , inf:0 , SeatType:A , SplitNo:100 , arr0:BKK , FLEX:N , ptype:I , enc:u , depdate0:20170829 , adt:1 , trip:OW , JSON:Y , comp:Y , AirLine:TW , Change: , SeatAvail:Y , \n"
     ]
    },
    {
     "name": "stderr",
     "output_type": "stream",
     "text": [
      "2017-08-11 08:19:20,695 root     DEBUG    Crawling Interpark domastic schedule site\n"
     ]
    },
    {
     "name": "stdout",
     "output_type": "stream",
     "text": [
      "End Simple crawling\n",
      "Start Simple crawling :  http://smartair.interpark.com/HtmlSearch/GetGoodsSmartList.aspx\n",
      ">> Parameters\n",
      "StayLength: , Soto:N , dep0:ICN , BEST:Y , chd:0 , inf:0 , SeatType:A , SplitNo:100 , arr0:BKK , FLEX:N , ptype:I , enc:u , depdate0:20170829 , adt:1 , trip:OW , JSON:Y , comp:Y , AirLine:ZE , Change: , SeatAvail:Y , \n"
     ]
    },
    {
     "name": "stderr",
     "output_type": "stream",
     "text": [
      "2017-08-11 08:19:22,913 root     DEBUG    Crawling Interpark domastic schedule site\n"
     ]
    },
    {
     "name": "stdout",
     "output_type": "stream",
     "text": [
      "End Simple crawling\n",
      "Start Simple crawling :  http://smartair.interpark.com/HtmlSearch/GetGoodsSmartList.aspx\n",
      ">> Parameters\n",
      "StayLength: , Soto:N , dep0:ICN , BEST:Y , chd:0 , inf:0 , SeatType:A , SplitNo:100 , arr0:BKK , FLEX:N , ptype:I , enc:u , depdate0:20170830 , adt:1 , trip:OW , JSON:Y , comp:Y , AirLine:7C , Change: , SeatAvail:Y , \n"
     ]
    },
    {
     "name": "stderr",
     "output_type": "stream",
     "text": [
      "2017-08-11 08:19:24,205 root     DEBUG    Crawling Interpark domastic schedule site\n"
     ]
    },
    {
     "name": "stdout",
     "output_type": "stream",
     "text": [
      "End Simple crawling\n",
      "Start Simple crawling :  http://smartair.interpark.com/HtmlSearch/GetGoodsSmartList.aspx\n",
      ">> Parameters\n",
      "StayLength: , Soto:N , dep0:ICN , BEST:Y , chd:0 , inf:0 , SeatType:A , SplitNo:100 , arr0:BKK , FLEX:N , ptype:I , enc:u , depdate0:20170830 , adt:1 , trip:OW , JSON:Y , comp:Y , AirLine:LJ , Change: , SeatAvail:Y , \n"
     ]
    },
    {
     "name": "stderr",
     "output_type": "stream",
     "text": [
      "2017-08-11 08:19:26,942 root     DEBUG    Crawling Interpark domastic schedule site\n"
     ]
    },
    {
     "name": "stdout",
     "output_type": "stream",
     "text": [
      "End Simple crawling\n",
      "Start Simple crawling :  http://smartair.interpark.com/HtmlSearch/GetGoodsSmartList.aspx\n",
      ">> Parameters\n",
      "StayLength: , Soto:N , dep0:ICN , BEST:Y , chd:0 , inf:0 , SeatType:A , SplitNo:100 , arr0:BKK , FLEX:N , ptype:I , enc:u , depdate0:20170830 , adt:1 , trip:OW , JSON:Y , comp:Y , AirLine:TW , Change: , SeatAvail:Y , \n"
     ]
    },
    {
     "name": "stderr",
     "output_type": "stream",
     "text": [
      "2017-08-11 08:19:29,205 root     DEBUG    Crawling Interpark domastic schedule site\n"
     ]
    },
    {
     "name": "stdout",
     "output_type": "stream",
     "text": [
      "End Simple crawling\n",
      "Start Simple crawling :  http://smartair.interpark.com/HtmlSearch/GetGoodsSmartList.aspx\n",
      ">> Parameters\n",
      "StayLength: , Soto:N , dep0:ICN , BEST:Y , chd:0 , inf:0 , SeatType:A , SplitNo:100 , arr0:BKK , FLEX:N , ptype:I , enc:u , depdate0:20170830 , adt:1 , trip:OW , JSON:Y , comp:Y , AirLine:ZE , Change: , SeatAvail:Y , \n"
     ]
    },
    {
     "name": "stderr",
     "output_type": "stream",
     "text": [
      "2017-08-11 08:19:31,365 root     DEBUG    Crawling Interpark domastic schedule site\n"
     ]
    },
    {
     "name": "stdout",
     "output_type": "stream",
     "text": [
      "End Simple crawling\n",
      "Start Simple crawling :  http://smartair.interpark.com/HtmlSearch/GetGoodsSmartList.aspx\n",
      ">> Parameters\n",
      "StayLength: , Soto:N , dep0:ICN , BEST:Y , chd:0 , inf:0 , SeatType:A , SplitNo:100 , arr0:BKK , FLEX:N , ptype:I , enc:u , depdate0:20170831 , adt:1 , trip:OW , JSON:Y , comp:Y , AirLine:7C , Change: , SeatAvail:Y , \n"
     ]
    },
    {
     "name": "stderr",
     "output_type": "stream",
     "text": [
      "2017-08-11 08:19:32,063 root     DEBUG    Crawling Interpark domastic schedule site\n"
     ]
    },
    {
     "name": "stdout",
     "output_type": "stream",
     "text": [
      "End Simple crawling\n",
      "Start Simple crawling :  http://smartair.interpark.com/HtmlSearch/GetGoodsSmartList.aspx\n",
      ">> Parameters\n",
      "StayLength: , Soto:N , dep0:ICN , BEST:Y , chd:0 , inf:0 , SeatType:A , SplitNo:100 , arr0:BKK , FLEX:N , ptype:I , enc:u , depdate0:20170831 , adt:1 , trip:OW , JSON:Y , comp:Y , AirLine:LJ , Change: , SeatAvail:Y , \n"
     ]
    },
    {
     "name": "stderr",
     "output_type": "stream",
     "text": [
      "2017-08-11 08:19:34,263 root     DEBUG    Crawling Interpark domastic schedule site\n"
     ]
    },
    {
     "name": "stdout",
     "output_type": "stream",
     "text": [
      "End Simple crawling\n",
      "Start Simple crawling :  http://smartair.interpark.com/HtmlSearch/GetGoodsSmartList.aspx\n",
      ">> Parameters\n",
      "StayLength: , Soto:N , dep0:ICN , BEST:Y , chd:0 , inf:0 , SeatType:A , SplitNo:100 , arr0:BKK , FLEX:N , ptype:I , enc:u , depdate0:20170831 , adt:1 , trip:OW , JSON:Y , comp:Y , AirLine:TW , Change: , SeatAvail:Y , \n"
     ]
    },
    {
     "name": "stderr",
     "output_type": "stream",
     "text": [
      "2017-08-11 08:19:36,435 root     DEBUG    Crawling Interpark domastic schedule site\n"
     ]
    },
    {
     "name": "stdout",
     "output_type": "stream",
     "text": [
      "End Simple crawling\n",
      "Start Simple crawling :  http://smartair.interpark.com/HtmlSearch/GetGoodsSmartList.aspx\n",
      ">> Parameters\n",
      "StayLength: , Soto:N , dep0:ICN , BEST:Y , chd:0 , inf:0 , SeatType:A , SplitNo:100 , arr0:BKK , FLEX:N , ptype:I , enc:u , depdate0:20170831 , adt:1 , trip:OW , JSON:Y , comp:Y , AirLine:ZE , Change: , SeatAvail:Y , \n"
     ]
    },
    {
     "name": "stderr",
     "output_type": "stream",
     "text": [
      "2017-08-11 08:19:40,530 root     DEBUG    Crawling Interpark domastic schedule site\n"
     ]
    },
    {
     "name": "stdout",
     "output_type": "stream",
     "text": [
      "End Simple crawling\n",
      "Start Simple crawling :  http://smartair.interpark.com/HtmlSearch/GetGoodsSmartList.aspx\n",
      ">> Parameters\n",
      "StayLength: , Soto:N , dep0:ICN , BEST:Y , chd:0 , inf:0 , SeatType:A , SplitNo:100 , arr0:BKK , FLEX:N , ptype:I , enc:u , depdate0:20170901 , adt:1 , trip:OW , JSON:Y , comp:Y , AirLine:7C , Change: , SeatAvail:Y , \n"
     ]
    },
    {
     "name": "stderr",
     "output_type": "stream",
     "text": [
      "2017-08-11 08:19:41,141 root     DEBUG    Crawling Interpark domastic schedule site\n"
     ]
    },
    {
     "name": "stdout",
     "output_type": "stream",
     "text": [
      "End Simple crawling\n",
      "Start Simple crawling :  http://smartair.interpark.com/HtmlSearch/GetGoodsSmartList.aspx\n",
      ">> Parameters\n",
      "StayLength: , Soto:N , dep0:ICN , BEST:Y , chd:0 , inf:0 , SeatType:A , SplitNo:100 , arr0:BKK , FLEX:N , ptype:I , enc:u , depdate0:20170901 , adt:1 , trip:OW , JSON:Y , comp:Y , AirLine:LJ , Change: , SeatAvail:Y , \n"
     ]
    },
    {
     "name": "stderr",
     "output_type": "stream",
     "text": [
      "2017-08-11 08:19:43,433 root     DEBUG    Crawling Interpark domastic schedule site\n"
     ]
    },
    {
     "name": "stdout",
     "output_type": "stream",
     "text": [
      "End Simple crawling\n",
      "Start Simple crawling :  http://smartair.interpark.com/HtmlSearch/GetGoodsSmartList.aspx\n",
      ">> Parameters\n",
      "StayLength: , Soto:N , dep0:ICN , BEST:Y , chd:0 , inf:0 , SeatType:A , SplitNo:100 , arr0:BKK , FLEX:N , ptype:I , enc:u , depdate0:20170901 , adt:1 , trip:OW , JSON:Y , comp:Y , AirLine:TW , Change: , SeatAvail:Y , \n"
     ]
    },
    {
     "name": "stderr",
     "output_type": "stream",
     "text": [
      "2017-08-11 08:19:45,648 root     DEBUG    Crawling Interpark domastic schedule site\n"
     ]
    },
    {
     "name": "stdout",
     "output_type": "stream",
     "text": [
      "End Simple crawling\n",
      "Start Simple crawling :  http://smartair.interpark.com/HtmlSearch/GetGoodsSmartList.aspx\n",
      ">> Parameters\n",
      "StayLength: , Soto:N , dep0:ICN , BEST:Y , chd:0 , inf:0 , SeatType:A , SplitNo:100 , arr0:BKK , FLEX:N , ptype:I , enc:u , depdate0:20170901 , adt:1 , trip:OW , JSON:Y , comp:Y , AirLine:ZE , Change: , SeatAvail:Y , \n"
     ]
    },
    {
     "name": "stderr",
     "output_type": "stream",
     "text": [
      "2017-08-11 08:19:47,874 root     INFO     end batch job :: craw_by_route_site :: elapsed -0:02:41.887259 :: Total crawl:84 files saved.\n",
      "2017-08-11 08:19:47,877 root     INFO     start batch job :: craw_by_route_site[ICN,FUK,IP,['20170812', '20170813', '20170814', '20170815', '20170816', '20170817', '20170818', '20170819', '20170820', '20170821', '20170822', '20170823', '20170824', '20170825', '20170826', '20170827', '20170828', '20170829', '20170830', '20170831', '20170901'],['7C', 'LJ', 'TW', 'ZE']]\n",
      "2017-08-11 08:19:47,879 root     DEBUG    1 :: IP :: crawling_IP_int :: False\n",
      "2017-08-11 08:19:47,882 root     INFO     <function crawling_IP_int at 0x0000000007C787B8> :: False\n",
      "2017-08-11 08:19:47,884 root     DEBUG    Crawling Interpark domastic schedule site\n"
     ]
    },
    {
     "name": "stdout",
     "output_type": "stream",
     "text": [
      "End Simple crawling\n",
      "Start Simple crawling :  http://smartair.interpark.com/HtmlSearch/GetGoodsSmartList.aspx\n",
      ">> Parameters\n",
      "StayLength: , Soto:N , dep0:ICN , BEST:Y , chd:0 , inf:0 , SeatType:A , SplitNo:100 , arr0:FUK , FLEX:N , ptype:I , enc:u , depdate0:20170812 , adt:1 , trip:OW , JSON:Y , comp:Y , AirLine:7C , Change: , SeatAvail:Y , \n"
     ]
    },
    {
     "name": "stderr",
     "output_type": "stream",
     "text": [
      "2017-08-11 08:19:48,482 root     DEBUG    Crawling Interpark domastic schedule site\n",
      "2017-08-11 08:19:48,547 root     DEBUG    Crawling Interpark domastic schedule site\n",
      "2017-08-11 08:19:48,616 root     DEBUG    Crawling Interpark domastic schedule site\n"
     ]
    },
    {
     "name": "stdout",
     "output_type": "stream",
     "text": [
      "End Simple crawling\n",
      "Start Simple crawling :  http://smartair.interpark.com/HtmlSearch/GetGoodsSmartList.aspx\n",
      ">> Parameters\n",
      "StayLength: , Soto:N , dep0:ICN , BEST:Y , chd:0 , inf:0 , SeatType:A , SplitNo:100 , arr0:FUK , FLEX:N , ptype:I , enc:u , depdate0:20170812 , adt:1 , trip:OW , JSON:Y , comp:Y , AirLine:LJ , Change: , SeatAvail:Y , \n",
      "End Simple crawling\n",
      "Start Simple crawling :  http://smartair.interpark.com/HtmlSearch/GetGoodsSmartList.aspx\n",
      ">> Parameters\n",
      "StayLength: , Soto:N , dep0:ICN , BEST:Y , chd:0 , inf:0 , SeatType:A , SplitNo:100 , arr0:FUK , FLEX:N , ptype:I , enc:u , depdate0:20170812 , adt:1 , trip:OW , JSON:Y , comp:Y , AirLine:TW , Change: , SeatAvail:Y , \n",
      "End Simple crawling\n",
      "Start Simple crawling :  http://smartair.interpark.com/HtmlSearch/GetGoodsSmartList.aspx\n",
      ">> Parameters\n",
      "StayLength: , Soto:N , dep0:ICN , BEST:Y , chd:0 , inf:0 , SeatType:A , SplitNo:100 , arr0:FUK , FLEX:N , ptype:I , enc:u , depdate0:20170812 , adt:1 , trip:OW , JSON:Y , comp:Y , AirLine:ZE , Change: , SeatAvail:Y , \n"
     ]
    },
    {
     "name": "stderr",
     "output_type": "stream",
     "text": [
      "2017-08-11 08:19:50,925 root     DEBUG    Crawling Interpark domastic schedule site\n"
     ]
    },
    {
     "name": "stdout",
     "output_type": "stream",
     "text": [
      "End Simple crawling\n",
      "Start Simple crawling :  http://smartair.interpark.com/HtmlSearch/GetGoodsSmartList.aspx\n",
      ">> Parameters\n",
      "StayLength: , Soto:N , dep0:ICN , BEST:Y , chd:0 , inf:0 , SeatType:A , SplitNo:100 , arr0:FUK , FLEX:N , ptype:I , enc:u , depdate0:20170813 , adt:1 , trip:OW , JSON:Y , comp:Y , AirLine:7C , Change: , SeatAvail:Y , \n"
     ]
    },
    {
     "name": "stderr",
     "output_type": "stream",
     "text": [
      "2017-08-11 08:19:52,472 root     DEBUG    Crawling Interpark domastic schedule site\n"
     ]
    },
    {
     "name": "stdout",
     "output_type": "stream",
     "text": [
      "End Simple crawling\n",
      "Start Simple crawling :  http://smartair.interpark.com/HtmlSearch/GetGoodsSmartList.aspx\n",
      ">> Parameters\n",
      "StayLength: , Soto:N , dep0:ICN , BEST:Y , chd:0 , inf:0 , SeatType:A , SplitNo:100 , arr0:FUK , FLEX:N , ptype:I , enc:u , depdate0:20170813 , adt:1 , trip:OW , JSON:Y , comp:Y , AirLine:LJ , Change: , SeatAvail:Y , \n"
     ]
    },
    {
     "name": "stderr",
     "output_type": "stream",
     "text": [
      "2017-08-11 08:19:54,830 root     DEBUG    Crawling Interpark domastic schedule site\n",
      "2017-08-11 08:19:54,890 root     DEBUG    Crawling Interpark domastic schedule site\n"
     ]
    },
    {
     "name": "stdout",
     "output_type": "stream",
     "text": [
      "End Simple crawling\n",
      "Start Simple crawling :  http://smartair.interpark.com/HtmlSearch/GetGoodsSmartList.aspx\n",
      ">> Parameters\n",
      "StayLength: , Soto:N , dep0:ICN , BEST:Y , chd:0 , inf:0 , SeatType:A , SplitNo:100 , arr0:FUK , FLEX:N , ptype:I , enc:u , depdate0:20170813 , adt:1 , trip:OW , JSON:Y , comp:Y , AirLine:TW , Change: , SeatAvail:Y , \n",
      "End Simple crawling\n",
      "Start Simple crawling :  http://smartair.interpark.com/HtmlSearch/GetGoodsSmartList.aspx\n",
      ">> Parameters\n",
      "StayLength: , Soto:N , dep0:ICN , BEST:Y , chd:0 , inf:0 , SeatType:A , SplitNo:100 , arr0:FUK , FLEX:N , ptype:I , enc:u , depdate0:20170813 , adt:1 , trip:OW , JSON:Y , comp:Y , AirLine:ZE , Change: , SeatAvail:Y , \n"
     ]
    },
    {
     "name": "stderr",
     "output_type": "stream",
     "text": [
      "2017-08-11 08:19:57,416 root     DEBUG    Crawling Interpark domastic schedule site\n"
     ]
    },
    {
     "name": "stdout",
     "output_type": "stream",
     "text": [
      "End Simple crawling\n",
      "Start Simple crawling :  http://smartair.interpark.com/HtmlSearch/GetGoodsSmartList.aspx\n",
      ">> Parameters\n",
      "StayLength: , Soto:N , dep0:ICN , BEST:Y , chd:0 , inf:0 , SeatType:A , SplitNo:100 , arr0:FUK , FLEX:N , ptype:I , enc:u , depdate0:20170814 , adt:1 , trip:OW , JSON:Y , comp:Y , AirLine:7C , Change: , SeatAvail:Y , \n"
     ]
    },
    {
     "name": "stderr",
     "output_type": "stream",
     "text": [
      "2017-08-11 08:19:58,390 root     DEBUG    Crawling Interpark domastic schedule site\n"
     ]
    },
    {
     "name": "stdout",
     "output_type": "stream",
     "text": [
      "End Simple crawling\n",
      "Start Simple crawling :  http://smartair.interpark.com/HtmlSearch/GetGoodsSmartList.aspx\n",
      ">> Parameters\n",
      "StayLength: , Soto:N , dep0:ICN , BEST:Y , chd:0 , inf:0 , SeatType:A , SplitNo:100 , arr0:FUK , FLEX:N , ptype:I , enc:u , depdate0:20170814 , adt:1 , trip:OW , JSON:Y , comp:Y , AirLine:LJ , Change: , SeatAvail:Y , \n"
     ]
    },
    {
     "name": "stderr",
     "output_type": "stream",
     "text": [
      "2017-08-11 08:20:01,119 root     DEBUG    Crawling Interpark domastic schedule site\n"
     ]
    },
    {
     "name": "stdout",
     "output_type": "stream",
     "text": [
      "End Simple crawling\n",
      "Start Simple crawling :  http://smartair.interpark.com/HtmlSearch/GetGoodsSmartList.aspx\n",
      ">> Parameters\n",
      "StayLength: , Soto:N , dep0:ICN , BEST:Y , chd:0 , inf:0 , SeatType:A , SplitNo:100 , arr0:FUK , FLEX:N , ptype:I , enc:u , depdate0:20170814 , adt:1 , trip:OW , JSON:Y , comp:Y , AirLine:TW , Change: , SeatAvail:Y , \n"
     ]
    },
    {
     "name": "stderr",
     "output_type": "stream",
     "text": [
      "2017-08-11 08:20:03,389 root     DEBUG    Crawling Interpark domastic schedule site\n"
     ]
    },
    {
     "name": "stdout",
     "output_type": "stream",
     "text": [
      "End Simple crawling\n",
      "Start Simple crawling :  http://smartair.interpark.com/HtmlSearch/GetGoodsSmartList.aspx\n",
      ">> Parameters\n",
      "StayLength: , Soto:N , dep0:ICN , BEST:Y , chd:0 , inf:0 , SeatType:A , SplitNo:100 , arr0:FUK , FLEX:N , ptype:I , enc:u , depdate0:20170814 , adt:1 , trip:OW , JSON:Y , comp:Y , AirLine:ZE , Change: , SeatAvail:Y , \n"
     ]
    },
    {
     "name": "stderr",
     "output_type": "stream",
     "text": [
      "2017-08-11 08:20:05,890 root     DEBUG    Crawling Interpark domastic schedule site\n"
     ]
    },
    {
     "name": "stdout",
     "output_type": "stream",
     "text": [
      "End Simple crawling\n",
      "Start Simple crawling :  http://smartair.interpark.com/HtmlSearch/GetGoodsSmartList.aspx\n",
      ">> Parameters\n",
      "StayLength: , Soto:N , dep0:ICN , BEST:Y , chd:0 , inf:0 , SeatType:A , SplitNo:100 , arr0:FUK , FLEX:N , ptype:I , enc:u , depdate0:20170815 , adt:1 , trip:OW , JSON:Y , comp:Y , AirLine:7C , Change: , SeatAvail:Y , \n"
     ]
    },
    {
     "name": "stderr",
     "output_type": "stream",
     "text": [
      "2017-08-11 08:20:06,588 root     DEBUG    Crawling Interpark domastic schedule site\n"
     ]
    },
    {
     "name": "stdout",
     "output_type": "stream",
     "text": [
      "End Simple crawling\n",
      "Start Simple crawling :  http://smartair.interpark.com/HtmlSearch/GetGoodsSmartList.aspx\n",
      ">> Parameters\n",
      "StayLength: , Soto:N , dep0:ICN , BEST:Y , chd:0 , inf:0 , SeatType:A , SplitNo:100 , arr0:FUK , FLEX:N , ptype:I , enc:u , depdate0:20170815 , adt:1 , trip:OW , JSON:Y , comp:Y , AirLine:LJ , Change: , SeatAvail:Y , \n"
     ]
    },
    {
     "name": "stderr",
     "output_type": "stream",
     "text": [
      "2017-08-11 08:20:08,786 root     DEBUG    Crawling Interpark domastic schedule site\n"
     ]
    },
    {
     "name": "stdout",
     "output_type": "stream",
     "text": [
      "End Simple crawling\n",
      "Start Simple crawling :  http://smartair.interpark.com/HtmlSearch/GetGoodsSmartList.aspx\n",
      ">> Parameters\n",
      "StayLength: , Soto:N , dep0:ICN , BEST:Y , chd:0 , inf:0 , SeatType:A , SplitNo:100 , arr0:FUK , FLEX:N , ptype:I , enc:u , depdate0:20170815 , adt:1 , trip:OW , JSON:Y , comp:Y , AirLine:TW , Change: , SeatAvail:Y , \n"
     ]
    },
    {
     "name": "stderr",
     "output_type": "stream",
     "text": [
      "2017-08-11 08:20:10,922 root     DEBUG    Crawling Interpark domastic schedule site\n"
     ]
    },
    {
     "name": "stdout",
     "output_type": "stream",
     "text": [
      "End Simple crawling\n",
      "Start Simple crawling :  http://smartair.interpark.com/HtmlSearch/GetGoodsSmartList.aspx\n",
      ">> Parameters\n",
      "StayLength: , Soto:N , dep0:ICN , BEST:Y , chd:0 , inf:0 , SeatType:A , SplitNo:100 , arr0:FUK , FLEX:N , ptype:I , enc:u , depdate0:20170815 , adt:1 , trip:OW , JSON:Y , comp:Y , AirLine:ZE , Change: , SeatAvail:Y , \n"
     ]
    },
    {
     "name": "stderr",
     "output_type": "stream",
     "text": [
      "2017-08-11 08:20:13,312 root     DEBUG    Crawling Interpark domastic schedule site\n"
     ]
    },
    {
     "name": "stdout",
     "output_type": "stream",
     "text": [
      "End Simple crawling\n",
      "Start Simple crawling :  http://smartair.interpark.com/HtmlSearch/GetGoodsSmartList.aspx\n",
      ">> Parameters\n",
      "StayLength: , Soto:N , dep0:ICN , BEST:Y , chd:0 , inf:0 , SeatType:A , SplitNo:100 , arr0:FUK , FLEX:N , ptype:I , enc:u , depdate0:20170816 , adt:1 , trip:OW , JSON:Y , comp:Y , AirLine:7C , Change: , SeatAvail:Y , \n"
     ]
    },
    {
     "name": "stderr",
     "output_type": "stream",
     "text": [
      "2017-08-11 08:20:13,951 root     DEBUG    Crawling Interpark domastic schedule site\n"
     ]
    },
    {
     "name": "stdout",
     "output_type": "stream",
     "text": [
      "End Simple crawling\n",
      "Start Simple crawling :  http://smartair.interpark.com/HtmlSearch/GetGoodsSmartList.aspx\n",
      ">> Parameters\n",
      "StayLength: , Soto:N , dep0:ICN , BEST:Y , chd:0 , inf:0 , SeatType:A , SplitNo:100 , arr0:FUK , FLEX:N , ptype:I , enc:u , depdate0:20170816 , adt:1 , trip:OW , JSON:Y , comp:Y , AirLine:LJ , Change: , SeatAvail:Y , \n"
     ]
    },
    {
     "name": "stderr",
     "output_type": "stream",
     "text": [
      "2017-08-11 08:20:16,184 root     DEBUG    Crawling Interpark domastic schedule site\n"
     ]
    },
    {
     "name": "stdout",
     "output_type": "stream",
     "text": [
      "End Simple crawling\n",
      "Start Simple crawling :  http://smartair.interpark.com/HtmlSearch/GetGoodsSmartList.aspx\n",
      ">> Parameters\n",
      "StayLength: , Soto:N , dep0:ICN , BEST:Y , chd:0 , inf:0 , SeatType:A , SplitNo:100 , arr0:FUK , FLEX:N , ptype:I , enc:u , depdate0:20170816 , adt:1 , trip:OW , JSON:Y , comp:Y , AirLine:TW , Change: , SeatAvail:Y , \n"
     ]
    },
    {
     "name": "stderr",
     "output_type": "stream",
     "text": [
      "2017-08-11 08:20:18,466 root     DEBUG    Crawling Interpark domastic schedule site\n"
     ]
    },
    {
     "name": "stdout",
     "output_type": "stream",
     "text": [
      "End Simple crawling\n",
      "Start Simple crawling :  http://smartair.interpark.com/HtmlSearch/GetGoodsSmartList.aspx\n",
      ">> Parameters\n",
      "StayLength: , Soto:N , dep0:ICN , BEST:Y , chd:0 , inf:0 , SeatType:A , SplitNo:100 , arr0:FUK , FLEX:N , ptype:I , enc:u , depdate0:20170816 , adt:1 , trip:OW , JSON:Y , comp:Y , AirLine:ZE , Change: , SeatAvail:Y , \n"
     ]
    },
    {
     "name": "stderr",
     "output_type": "stream",
     "text": [
      "2017-08-11 08:20:20,777 root     DEBUG    Crawling Interpark domastic schedule site\n"
     ]
    },
    {
     "name": "stdout",
     "output_type": "stream",
     "text": [
      "End Simple crawling\n",
      "Start Simple crawling :  http://smartair.interpark.com/HtmlSearch/GetGoodsSmartList.aspx\n",
      ">> Parameters\n",
      "StayLength: , Soto:N , dep0:ICN , BEST:Y , chd:0 , inf:0 , SeatType:A , SplitNo:100 , arr0:FUK , FLEX:N , ptype:I , enc:u , depdate0:20170817 , adt:1 , trip:OW , JSON:Y , comp:Y , AirLine:7C , Change: , SeatAvail:Y , \n"
     ]
    },
    {
     "name": "stderr",
     "output_type": "stream",
     "text": [
      "2017-08-11 08:20:21,412 root     DEBUG    Crawling Interpark domastic schedule site\n"
     ]
    },
    {
     "name": "stdout",
     "output_type": "stream",
     "text": [
      "End Simple crawling\n",
      "Start Simple crawling :  http://smartair.interpark.com/HtmlSearch/GetGoodsSmartList.aspx\n",
      ">> Parameters\n",
      "StayLength: , Soto:N , dep0:ICN , BEST:Y , chd:0 , inf:0 , SeatType:A , SplitNo:100 , arr0:FUK , FLEX:N , ptype:I , enc:u , depdate0:20170817 , adt:1 , trip:OW , JSON:Y , comp:Y , AirLine:LJ , Change: , SeatAvail:Y , \n"
     ]
    },
    {
     "name": "stderr",
     "output_type": "stream",
     "text": [
      "2017-08-11 08:20:23,729 root     DEBUG    Crawling Interpark domastic schedule site\n"
     ]
    },
    {
     "name": "stdout",
     "output_type": "stream",
     "text": [
      "End Simple crawling\n",
      "Start Simple crawling :  http://smartair.interpark.com/HtmlSearch/GetGoodsSmartList.aspx\n",
      ">> Parameters\n",
      "StayLength: , Soto:N , dep0:ICN , BEST:Y , chd:0 , inf:0 , SeatType:A , SplitNo:100 , arr0:FUK , FLEX:N , ptype:I , enc:u , depdate0:20170817 , adt:1 , trip:OW , JSON:Y , comp:Y , AirLine:TW , Change: , SeatAvail:Y , \n"
     ]
    },
    {
     "name": "stderr",
     "output_type": "stream",
     "text": [
      "2017-08-11 08:20:26,277 root     DEBUG    Crawling Interpark domastic schedule site\n"
     ]
    },
    {
     "name": "stdout",
     "output_type": "stream",
     "text": [
      "End Simple crawling\n",
      "Start Simple crawling :  http://smartair.interpark.com/HtmlSearch/GetGoodsSmartList.aspx\n",
      ">> Parameters\n",
      "StayLength: , Soto:N , dep0:ICN , BEST:Y , chd:0 , inf:0 , SeatType:A , SplitNo:100 , arr0:FUK , FLEX:N , ptype:I , enc:u , depdate0:20170817 , adt:1 , trip:OW , JSON:Y , comp:Y , AirLine:ZE , Change: , SeatAvail:Y , \n"
     ]
    },
    {
     "name": "stderr",
     "output_type": "stream",
     "text": [
      "2017-08-11 08:20:28,621 root     DEBUG    Crawling Interpark domastic schedule site\n"
     ]
    },
    {
     "name": "stdout",
     "output_type": "stream",
     "text": [
      "End Simple crawling\n",
      "Start Simple crawling :  http://smartair.interpark.com/HtmlSearch/GetGoodsSmartList.aspx\n",
      ">> Parameters\n",
      "StayLength: , Soto:N , dep0:ICN , BEST:Y , chd:0 , inf:0 , SeatType:A , SplitNo:100 , arr0:FUK , FLEX:N , ptype:I , enc:u , depdate0:20170818 , adt:1 , trip:OW , JSON:Y , comp:Y , AirLine:7C , Change: , SeatAvail:Y , \n"
     ]
    },
    {
     "name": "stderr",
     "output_type": "stream",
     "text": [
      "2017-08-11 08:20:29,254 root     DEBUG    Crawling Interpark domastic schedule site\n"
     ]
    },
    {
     "name": "stdout",
     "output_type": "stream",
     "text": [
      "End Simple crawling\n",
      "Start Simple crawling :  http://smartair.interpark.com/HtmlSearch/GetGoodsSmartList.aspx\n",
      ">> Parameters\n",
      "StayLength: , Soto:N , dep0:ICN , BEST:Y , chd:0 , inf:0 , SeatType:A , SplitNo:100 , arr0:FUK , FLEX:N , ptype:I , enc:u , depdate0:20170818 , adt:1 , trip:OW , JSON:Y , comp:Y , AirLine:LJ , Change: , SeatAvail:Y , \n"
     ]
    },
    {
     "name": "stderr",
     "output_type": "stream",
     "text": [
      "2017-08-11 08:20:31,487 root     DEBUG    Crawling Interpark domastic schedule site\n"
     ]
    },
    {
     "name": "stdout",
     "output_type": "stream",
     "text": [
      "End Simple crawling\n",
      "Start Simple crawling :  http://smartair.interpark.com/HtmlSearch/GetGoodsSmartList.aspx\n",
      ">> Parameters\n",
      "StayLength: , Soto:N , dep0:ICN , BEST:Y , chd:0 , inf:0 , SeatType:A , SplitNo:100 , arr0:FUK , FLEX:N , ptype:I , enc:u , depdate0:20170818 , adt:1 , trip:OW , JSON:Y , comp:Y , AirLine:TW , Change: , SeatAvail:Y , \n"
     ]
    },
    {
     "name": "stderr",
     "output_type": "stream",
     "text": [
      "2017-08-11 08:20:33,919 root     DEBUG    Crawling Interpark domastic schedule site\n"
     ]
    },
    {
     "name": "stdout",
     "output_type": "stream",
     "text": [
      "End Simple crawling\n",
      "Start Simple crawling :  http://smartair.interpark.com/HtmlSearch/GetGoodsSmartList.aspx\n",
      ">> Parameters\n",
      "StayLength: , Soto:N , dep0:ICN , BEST:Y , chd:0 , inf:0 , SeatType:A , SplitNo:100 , arr0:FUK , FLEX:N , ptype:I , enc:u , depdate0:20170818 , adt:1 , trip:OW , JSON:Y , comp:Y , AirLine:ZE , Change: , SeatAvail:Y , \n"
     ]
    },
    {
     "name": "stderr",
     "output_type": "stream",
     "text": [
      "2017-08-11 08:20:36,193 root     DEBUG    Crawling Interpark domastic schedule site\n"
     ]
    },
    {
     "name": "stdout",
     "output_type": "stream",
     "text": [
      "End Simple crawling\n",
      "Start Simple crawling :  http://smartair.interpark.com/HtmlSearch/GetGoodsSmartList.aspx\n",
      ">> Parameters\n",
      "StayLength: , Soto:N , dep0:ICN , BEST:Y , chd:0 , inf:0 , SeatType:A , SplitNo:100 , arr0:FUK , FLEX:N , ptype:I , enc:u , depdate0:20170819 , adt:1 , trip:OW , JSON:Y , comp:Y , AirLine:7C , Change: , SeatAvail:Y , \n"
     ]
    },
    {
     "name": "stderr",
     "output_type": "stream",
     "text": [
      "2017-08-11 08:20:36,802 root     DEBUG    Crawling Interpark domastic schedule site\n"
     ]
    },
    {
     "name": "stdout",
     "output_type": "stream",
     "text": [
      "End Simple crawling\n",
      "Start Simple crawling :  http://smartair.interpark.com/HtmlSearch/GetGoodsSmartList.aspx\n",
      ">> Parameters\n",
      "StayLength: , Soto:N , dep0:ICN , BEST:Y , chd:0 , inf:0 , SeatType:A , SplitNo:100 , arr0:FUK , FLEX:N , ptype:I , enc:u , depdate0:20170819 , adt:1 , trip:OW , JSON:Y , comp:Y , AirLine:LJ , Change: , SeatAvail:Y , \n"
     ]
    },
    {
     "name": "stderr",
     "output_type": "stream",
     "text": [
      "2017-08-11 08:20:39,357 root     DEBUG    Crawling Interpark domastic schedule site\n"
     ]
    },
    {
     "name": "stdout",
     "output_type": "stream",
     "text": [
      "End Simple crawling\n",
      "Start Simple crawling :  http://smartair.interpark.com/HtmlSearch/GetGoodsSmartList.aspx\n",
      ">> Parameters\n",
      "StayLength: , Soto:N , dep0:ICN , BEST:Y , chd:0 , inf:0 , SeatType:A , SplitNo:100 , arr0:FUK , FLEX:N , ptype:I , enc:u , depdate0:20170819 , adt:1 , trip:OW , JSON:Y , comp:Y , AirLine:TW , Change: , SeatAvail:Y , \n"
     ]
    },
    {
     "name": "stderr",
     "output_type": "stream",
     "text": [
      "2017-08-11 08:20:41,690 root     DEBUG    Crawling Interpark domastic schedule site\n"
     ]
    },
    {
     "name": "stdout",
     "output_type": "stream",
     "text": [
      "End Simple crawling\n",
      "Start Simple crawling :  http://smartair.interpark.com/HtmlSearch/GetGoodsSmartList.aspx\n",
      ">> Parameters\n",
      "StayLength: , Soto:N , dep0:ICN , BEST:Y , chd:0 , inf:0 , SeatType:A , SplitNo:100 , arr0:FUK , FLEX:N , ptype:I , enc:u , depdate0:20170819 , adt:1 , trip:OW , JSON:Y , comp:Y , AirLine:ZE , Change: , SeatAvail:Y , \n"
     ]
    },
    {
     "name": "stderr",
     "output_type": "stream",
     "text": [
      "2017-08-11 08:20:44,346 root     DEBUG    Crawling Interpark domastic schedule site\n"
     ]
    },
    {
     "name": "stdout",
     "output_type": "stream",
     "text": [
      "End Simple crawling\n",
      "Start Simple crawling :  http://smartair.interpark.com/HtmlSearch/GetGoodsSmartList.aspx\n",
      ">> Parameters\n",
      "StayLength: , Soto:N , dep0:ICN , BEST:Y , chd:0 , inf:0 , SeatType:A , SplitNo:100 , arr0:FUK , FLEX:N , ptype:I , enc:u , depdate0:20170820 , adt:1 , trip:OW , JSON:Y , comp:Y , AirLine:7C , Change: , SeatAvail:Y , \n"
     ]
    },
    {
     "name": "stderr",
     "output_type": "stream",
     "text": [
      "2017-08-11 08:20:44,950 root     DEBUG    Crawling Interpark domastic schedule site\n"
     ]
    },
    {
     "name": "stdout",
     "output_type": "stream",
     "text": [
      "End Simple crawling\n",
      "Start Simple crawling :  http://smartair.interpark.com/HtmlSearch/GetGoodsSmartList.aspx\n",
      ">> Parameters\n",
      "StayLength: , Soto:N , dep0:ICN , BEST:Y , chd:0 , inf:0 , SeatType:A , SplitNo:100 , arr0:FUK , FLEX:N , ptype:I , enc:u , depdate0:20170820 , adt:1 , trip:OW , JSON:Y , comp:Y , AirLine:LJ , Change: , SeatAvail:Y , \n"
     ]
    },
    {
     "name": "stderr",
     "output_type": "stream",
     "text": [
      "2017-08-11 08:20:47,748 root     DEBUG    Crawling Interpark domastic schedule site\n"
     ]
    },
    {
     "name": "stdout",
     "output_type": "stream",
     "text": [
      "End Simple crawling\n",
      "Start Simple crawling :  http://smartair.interpark.com/HtmlSearch/GetGoodsSmartList.aspx\n",
      ">> Parameters\n",
      "StayLength: , Soto:N , dep0:ICN , BEST:Y , chd:0 , inf:0 , SeatType:A , SplitNo:100 , arr0:FUK , FLEX:N , ptype:I , enc:u , depdate0:20170820 , adt:1 , trip:OW , JSON:Y , comp:Y , AirLine:TW , Change: , SeatAvail:Y , \n"
     ]
    },
    {
     "name": "stderr",
     "output_type": "stream",
     "text": [
      "2017-08-11 08:20:49,988 root     DEBUG    Crawling Interpark domastic schedule site\n"
     ]
    },
    {
     "name": "stdout",
     "output_type": "stream",
     "text": [
      "End Simple crawling\n",
      "Start Simple crawling :  http://smartair.interpark.com/HtmlSearch/GetGoodsSmartList.aspx\n",
      ">> Parameters\n",
      "StayLength: , Soto:N , dep0:ICN , BEST:Y , chd:0 , inf:0 , SeatType:A , SplitNo:100 , arr0:FUK , FLEX:N , ptype:I , enc:u , depdate0:20170820 , adt:1 , trip:OW , JSON:Y , comp:Y , AirLine:ZE , Change: , SeatAvail:Y , \n"
     ]
    },
    {
     "name": "stderr",
     "output_type": "stream",
     "text": [
      "2017-08-11 08:20:52,680 root     DEBUG    Crawling Interpark domastic schedule site\n"
     ]
    },
    {
     "name": "stdout",
     "output_type": "stream",
     "text": [
      "End Simple crawling\n",
      "Start Simple crawling :  http://smartair.interpark.com/HtmlSearch/GetGoodsSmartList.aspx\n",
      ">> Parameters\n",
      "StayLength: , Soto:N , dep0:ICN , BEST:Y , chd:0 , inf:0 , SeatType:A , SplitNo:100 , arr0:FUK , FLEX:N , ptype:I , enc:u , depdate0:20170821 , adt:1 , trip:OW , JSON:Y , comp:Y , AirLine:7C , Change: , SeatAvail:Y , \n"
     ]
    },
    {
     "name": "stderr",
     "output_type": "stream",
     "text": [
      "2017-08-11 08:20:53,325 root     DEBUG    Crawling Interpark domastic schedule site\n"
     ]
    },
    {
     "name": "stdout",
     "output_type": "stream",
     "text": [
      "End Simple crawling\n",
      "Start Simple crawling :  http://smartair.interpark.com/HtmlSearch/GetGoodsSmartList.aspx\n",
      ">> Parameters\n",
      "StayLength: , Soto:N , dep0:ICN , BEST:Y , chd:0 , inf:0 , SeatType:A , SplitNo:100 , arr0:FUK , FLEX:N , ptype:I , enc:u , depdate0:20170821 , adt:1 , trip:OW , JSON:Y , comp:Y , AirLine:LJ , Change: , SeatAvail:Y , \n"
     ]
    },
    {
     "name": "stderr",
     "output_type": "stream",
     "text": [
      "2017-08-11 08:20:55,465 root     DEBUG    Crawling Interpark domastic schedule site\n"
     ]
    },
    {
     "name": "stdout",
     "output_type": "stream",
     "text": [
      "End Simple crawling\n",
      "Start Simple crawling :  http://smartair.interpark.com/HtmlSearch/GetGoodsSmartList.aspx\n",
      ">> Parameters\n",
      "StayLength: , Soto:N , dep0:ICN , BEST:Y , chd:0 , inf:0 , SeatType:A , SplitNo:100 , arr0:FUK , FLEX:N , ptype:I , enc:u , depdate0:20170821 , adt:1 , trip:OW , JSON:Y , comp:Y , AirLine:TW , Change: , SeatAvail:Y , \n"
     ]
    },
    {
     "name": "stderr",
     "output_type": "stream",
     "text": [
      "2017-08-11 08:20:57,696 root     DEBUG    Crawling Interpark domastic schedule site\n"
     ]
    },
    {
     "name": "stdout",
     "output_type": "stream",
     "text": [
      "End Simple crawling\n",
      "Start Simple crawling :  http://smartair.interpark.com/HtmlSearch/GetGoodsSmartList.aspx\n",
      ">> Parameters\n",
      "StayLength: , Soto:N , dep0:ICN , BEST:Y , chd:0 , inf:0 , SeatType:A , SplitNo:100 , arr0:FUK , FLEX:N , ptype:I , enc:u , depdate0:20170821 , adt:1 , trip:OW , JSON:Y , comp:Y , AirLine:ZE , Change: , SeatAvail:Y , \n"
     ]
    },
    {
     "name": "stderr",
     "output_type": "stream",
     "text": [
      "2017-08-11 08:20:59,942 root     DEBUG    Crawling Interpark domastic schedule site\n"
     ]
    },
    {
     "name": "stdout",
     "output_type": "stream",
     "text": [
      "End Simple crawling\n",
      "Start Simple crawling :  http://smartair.interpark.com/HtmlSearch/GetGoodsSmartList.aspx\n",
      ">> Parameters\n",
      "StayLength: , Soto:N , dep0:ICN , BEST:Y , chd:0 , inf:0 , SeatType:A , SplitNo:100 , arr0:FUK , FLEX:N , ptype:I , enc:u , depdate0:20170822 , adt:1 , trip:OW , JSON:Y , comp:Y , AirLine:7C , Change: , SeatAvail:Y , \n"
     ]
    },
    {
     "name": "stderr",
     "output_type": "stream",
     "text": [
      "2017-08-11 08:21:00,785 root     DEBUG    Crawling Interpark domastic schedule site\n"
     ]
    },
    {
     "name": "stdout",
     "output_type": "stream",
     "text": [
      "End Simple crawling\n",
      "Start Simple crawling :  http://smartair.interpark.com/HtmlSearch/GetGoodsSmartList.aspx\n",
      ">> Parameters\n",
      "StayLength: , Soto:N , dep0:ICN , BEST:Y , chd:0 , inf:0 , SeatType:A , SplitNo:100 , arr0:FUK , FLEX:N , ptype:I , enc:u , depdate0:20170822 , adt:1 , trip:OW , JSON:Y , comp:Y , AirLine:LJ , Change: , SeatAvail:Y , \n"
     ]
    },
    {
     "name": "stderr",
     "output_type": "stream",
     "text": [
      "2017-08-11 08:21:03,467 root     DEBUG    Crawling Interpark domastic schedule site\n"
     ]
    },
    {
     "name": "stdout",
     "output_type": "stream",
     "text": [
      "End Simple crawling\n",
      "Start Simple crawling :  http://smartair.interpark.com/HtmlSearch/GetGoodsSmartList.aspx\n",
      ">> Parameters\n",
      "StayLength: , Soto:N , dep0:ICN , BEST:Y , chd:0 , inf:0 , SeatType:A , SplitNo:100 , arr0:FUK , FLEX:N , ptype:I , enc:u , depdate0:20170822 , adt:1 , trip:OW , JSON:Y , comp:Y , AirLine:TW , Change: , SeatAvail:Y , \n"
     ]
    },
    {
     "name": "stderr",
     "output_type": "stream",
     "text": [
      "2017-08-11 08:21:05,725 root     DEBUG    Crawling Interpark domastic schedule site\n"
     ]
    },
    {
     "name": "stdout",
     "output_type": "stream",
     "text": [
      "End Simple crawling\n",
      "Start Simple crawling :  http://smartair.interpark.com/HtmlSearch/GetGoodsSmartList.aspx\n",
      ">> Parameters\n",
      "StayLength: , Soto:N , dep0:ICN , BEST:Y , chd:0 , inf:0 , SeatType:A , SplitNo:100 , arr0:FUK , FLEX:N , ptype:I , enc:u , depdate0:20170822 , adt:1 , trip:OW , JSON:Y , comp:Y , AirLine:ZE , Change: , SeatAvail:Y , \n"
     ]
    },
    {
     "name": "stderr",
     "output_type": "stream",
     "text": [
      "2017-08-11 08:21:07,951 root     DEBUG    Crawling Interpark domastic schedule site\n"
     ]
    },
    {
     "name": "stdout",
     "output_type": "stream",
     "text": [
      "End Simple crawling\n",
      "Start Simple crawling :  http://smartair.interpark.com/HtmlSearch/GetGoodsSmartList.aspx\n",
      ">> Parameters\n",
      "StayLength: , Soto:N , dep0:ICN , BEST:Y , chd:0 , inf:0 , SeatType:A , SplitNo:100 , arr0:FUK , FLEX:N , ptype:I , enc:u , depdate0:20170823 , adt:1 , trip:OW , JSON:Y , comp:Y , AirLine:7C , Change: , SeatAvail:Y , \n"
     ]
    },
    {
     "name": "stderr",
     "output_type": "stream",
     "text": [
      "2017-08-11 08:21:08,640 root     DEBUG    Crawling Interpark domastic schedule site\n"
     ]
    },
    {
     "name": "stdout",
     "output_type": "stream",
     "text": [
      "End Simple crawling\n",
      "Start Simple crawling :  http://smartair.interpark.com/HtmlSearch/GetGoodsSmartList.aspx\n",
      ">> Parameters\n",
      "StayLength: , Soto:N , dep0:ICN , BEST:Y , chd:0 , inf:0 , SeatType:A , SplitNo:100 , arr0:FUK , FLEX:N , ptype:I , enc:u , depdate0:20170823 , adt:1 , trip:OW , JSON:Y , comp:Y , AirLine:LJ , Change: , SeatAvail:Y , \n"
     ]
    },
    {
     "name": "stderr",
     "output_type": "stream",
     "text": [
      "2017-08-11 08:21:11,319 root     DEBUG    Crawling Interpark domastic schedule site\n"
     ]
    },
    {
     "name": "stdout",
     "output_type": "stream",
     "text": [
      "End Simple crawling\n",
      "Start Simple crawling :  http://smartair.interpark.com/HtmlSearch/GetGoodsSmartList.aspx\n",
      ">> Parameters\n",
      "StayLength: , Soto:N , dep0:ICN , BEST:Y , chd:0 , inf:0 , SeatType:A , SplitNo:100 , arr0:FUK , FLEX:N , ptype:I , enc:u , depdate0:20170823 , adt:1 , trip:OW , JSON:Y , comp:Y , AirLine:TW , Change: , SeatAvail:Y , \n"
     ]
    },
    {
     "name": "stderr",
     "output_type": "stream",
     "text": [
      "2017-08-11 08:21:13,627 root     DEBUG    Crawling Interpark domastic schedule site\n"
     ]
    },
    {
     "name": "stdout",
     "output_type": "stream",
     "text": [
      "End Simple crawling\n",
      "Start Simple crawling :  http://smartair.interpark.com/HtmlSearch/GetGoodsSmartList.aspx\n",
      ">> Parameters\n",
      "StayLength: , Soto:N , dep0:ICN , BEST:Y , chd:0 , inf:0 , SeatType:A , SplitNo:100 , arr0:FUK , FLEX:N , ptype:I , enc:u , depdate0:20170823 , adt:1 , trip:OW , JSON:Y , comp:Y , AirLine:ZE , Change: , SeatAvail:Y , \n"
     ]
    },
    {
     "name": "stderr",
     "output_type": "stream",
     "text": [
      "2017-08-11 08:21:16,203 root     DEBUG    Crawling Interpark domastic schedule site\n"
     ]
    },
    {
     "name": "stdout",
     "output_type": "stream",
     "text": [
      "End Simple crawling\n",
      "Start Simple crawling :  http://smartair.interpark.com/HtmlSearch/GetGoodsSmartList.aspx\n",
      ">> Parameters\n",
      "StayLength: , Soto:N , dep0:ICN , BEST:Y , chd:0 , inf:0 , SeatType:A , SplitNo:100 , arr0:FUK , FLEX:N , ptype:I , enc:u , depdate0:20170824 , adt:1 , trip:OW , JSON:Y , comp:Y , AirLine:7C , Change: , SeatAvail:Y , \n"
     ]
    },
    {
     "name": "stderr",
     "output_type": "stream",
     "text": [
      "2017-08-11 08:21:17,079 root     DEBUG    Crawling Interpark domastic schedule site\n"
     ]
    },
    {
     "name": "stdout",
     "output_type": "stream",
     "text": [
      "End Simple crawling\n",
      "Start Simple crawling :  http://smartair.interpark.com/HtmlSearch/GetGoodsSmartList.aspx\n",
      ">> Parameters\n",
      "StayLength: , Soto:N , dep0:ICN , BEST:Y , chd:0 , inf:0 , SeatType:A , SplitNo:100 , arr0:FUK , FLEX:N , ptype:I , enc:u , depdate0:20170824 , adt:1 , trip:OW , JSON:Y , comp:Y , AirLine:LJ , Change: , SeatAvail:Y , \n"
     ]
    },
    {
     "name": "stderr",
     "output_type": "stream",
     "text": [
      "2017-08-11 08:21:19,704 root     DEBUG    Crawling Interpark domastic schedule site\n"
     ]
    },
    {
     "name": "stdout",
     "output_type": "stream",
     "text": [
      "End Simple crawling\n",
      "Start Simple crawling :  http://smartair.interpark.com/HtmlSearch/GetGoodsSmartList.aspx\n",
      ">> Parameters\n",
      "StayLength: , Soto:N , dep0:ICN , BEST:Y , chd:0 , inf:0 , SeatType:A , SplitNo:100 , arr0:FUK , FLEX:N , ptype:I , enc:u , depdate0:20170824 , adt:1 , trip:OW , JSON:Y , comp:Y , AirLine:TW , Change: , SeatAvail:Y , \n"
     ]
    },
    {
     "name": "stderr",
     "output_type": "stream",
     "text": [
      "2017-08-11 08:21:22,139 root     DEBUG    Crawling Interpark domastic schedule site\n"
     ]
    },
    {
     "name": "stdout",
     "output_type": "stream",
     "text": [
      "End Simple crawling\n",
      "Start Simple crawling :  http://smartair.interpark.com/HtmlSearch/GetGoodsSmartList.aspx\n",
      ">> Parameters\n",
      "StayLength: , Soto:N , dep0:ICN , BEST:Y , chd:0 , inf:0 , SeatType:A , SplitNo:100 , arr0:FUK , FLEX:N , ptype:I , enc:u , depdate0:20170824 , adt:1 , trip:OW , JSON:Y , comp:Y , AirLine:ZE , Change: , SeatAvail:Y , \n"
     ]
    },
    {
     "name": "stderr",
     "output_type": "stream",
     "text": [
      "2017-08-11 08:21:24,570 root     DEBUG    Crawling Interpark domastic schedule site\n"
     ]
    },
    {
     "name": "stdout",
     "output_type": "stream",
     "text": [
      "End Simple crawling\n",
      "Start Simple crawling :  http://smartair.interpark.com/HtmlSearch/GetGoodsSmartList.aspx\n",
      ">> Parameters\n",
      "StayLength: , Soto:N , dep0:ICN , BEST:Y , chd:0 , inf:0 , SeatType:A , SplitNo:100 , arr0:FUK , FLEX:N , ptype:I , enc:u , depdate0:20170825 , adt:1 , trip:OW , JSON:Y , comp:Y , AirLine:7C , Change: , SeatAvail:Y , \n"
     ]
    },
    {
     "name": "stderr",
     "output_type": "stream",
     "text": [
      "2017-08-11 08:21:25,317 root     DEBUG    Crawling Interpark domastic schedule site\n"
     ]
    },
    {
     "name": "stdout",
     "output_type": "stream",
     "text": [
      "End Simple crawling\n",
      "Start Simple crawling :  http://smartair.interpark.com/HtmlSearch/GetGoodsSmartList.aspx\n",
      ">> Parameters\n",
      "StayLength: , Soto:N , dep0:ICN , BEST:Y , chd:0 , inf:0 , SeatType:A , SplitNo:100 , arr0:FUK , FLEX:N , ptype:I , enc:u , depdate0:20170825 , adt:1 , trip:OW , JSON:Y , comp:Y , AirLine:LJ , Change: , SeatAvail:Y , \n"
     ]
    },
    {
     "name": "stderr",
     "output_type": "stream",
     "text": [
      "2017-08-11 08:21:27,929 root     DEBUG    Crawling Interpark domastic schedule site\n"
     ]
    },
    {
     "name": "stdout",
     "output_type": "stream",
     "text": [
      "End Simple crawling\n",
      "Start Simple crawling :  http://smartair.interpark.com/HtmlSearch/GetGoodsSmartList.aspx\n",
      ">> Parameters\n",
      "StayLength: , Soto:N , dep0:ICN , BEST:Y , chd:0 , inf:0 , SeatType:A , SplitNo:100 , arr0:FUK , FLEX:N , ptype:I , enc:u , depdate0:20170825 , adt:1 , trip:OW , JSON:Y , comp:Y , AirLine:TW , Change: , SeatAvail:Y , \n"
     ]
    },
    {
     "name": "stderr",
     "output_type": "stream",
     "text": [
      "2017-08-11 08:21:30,277 root     DEBUG    Crawling Interpark domastic schedule site\n"
     ]
    },
    {
     "name": "stdout",
     "output_type": "stream",
     "text": [
      "End Simple crawling\n",
      "Start Simple crawling :  http://smartair.interpark.com/HtmlSearch/GetGoodsSmartList.aspx\n",
      ">> Parameters\n",
      "StayLength: , Soto:N , dep0:ICN , BEST:Y , chd:0 , inf:0 , SeatType:A , SplitNo:100 , arr0:FUK , FLEX:N , ptype:I , enc:u , depdate0:20170825 , adt:1 , trip:OW , JSON:Y , comp:Y , AirLine:ZE , Change: , SeatAvail:Y , \n"
     ]
    },
    {
     "name": "stderr",
     "output_type": "stream",
     "text": [
      "2017-08-11 08:21:32,721 root     DEBUG    Crawling Interpark domastic schedule site\n"
     ]
    },
    {
     "name": "stdout",
     "output_type": "stream",
     "text": [
      "End Simple crawling\n",
      "Start Simple crawling :  http://smartair.interpark.com/HtmlSearch/GetGoodsSmartList.aspx\n",
      ">> Parameters\n",
      "StayLength: , Soto:N , dep0:ICN , BEST:Y , chd:0 , inf:0 , SeatType:A , SplitNo:100 , arr0:FUK , FLEX:N , ptype:I , enc:u , depdate0:20170826 , adt:1 , trip:OW , JSON:Y , comp:Y , AirLine:7C , Change: , SeatAvail:Y , \n"
     ]
    },
    {
     "name": "stderr",
     "output_type": "stream",
     "text": [
      "2017-08-11 08:21:33,354 root     DEBUG    Crawling Interpark domastic schedule site\n"
     ]
    },
    {
     "name": "stdout",
     "output_type": "stream",
     "text": [
      "End Simple crawling\n",
      "Start Simple crawling :  http://smartair.interpark.com/HtmlSearch/GetGoodsSmartList.aspx\n",
      ">> Parameters\n",
      "StayLength: , Soto:N , dep0:ICN , BEST:Y , chd:0 , inf:0 , SeatType:A , SplitNo:100 , arr0:FUK , FLEX:N , ptype:I , enc:u , depdate0:20170826 , adt:1 , trip:OW , JSON:Y , comp:Y , AirLine:LJ , Change: , SeatAvail:Y , \n"
     ]
    },
    {
     "name": "stderr",
     "output_type": "stream",
     "text": [
      "2017-08-11 08:21:36,025 root     DEBUG    Crawling Interpark domastic schedule site\n"
     ]
    },
    {
     "name": "stdout",
     "output_type": "stream",
     "text": [
      "End Simple crawling\n",
      "Start Simple crawling :  http://smartair.interpark.com/HtmlSearch/GetGoodsSmartList.aspx\n",
      ">> Parameters\n",
      "StayLength: , Soto:N , dep0:ICN , BEST:Y , chd:0 , inf:0 , SeatType:A , SplitNo:100 , arr0:FUK , FLEX:N , ptype:I , enc:u , depdate0:20170826 , adt:1 , trip:OW , JSON:Y , comp:Y , AirLine:TW , Change: , SeatAvail:Y , \n"
     ]
    },
    {
     "name": "stderr",
     "output_type": "stream",
     "text": [
      "2017-08-11 08:21:38,228 root     DEBUG    Crawling Interpark domastic schedule site\n"
     ]
    },
    {
     "name": "stdout",
     "output_type": "stream",
     "text": [
      "End Simple crawling\n",
      "Start Simple crawling :  http://smartair.interpark.com/HtmlSearch/GetGoodsSmartList.aspx\n",
      ">> Parameters\n",
      "StayLength: , Soto:N , dep0:ICN , BEST:Y , chd:0 , inf:0 , SeatType:A , SplitNo:100 , arr0:FUK , FLEX:N , ptype:I , enc:u , depdate0:20170826 , adt:1 , trip:OW , JSON:Y , comp:Y , AirLine:ZE , Change: , SeatAvail:Y , \n"
     ]
    },
    {
     "name": "stderr",
     "output_type": "stream",
     "text": [
      "2017-08-11 08:21:40,761 root     DEBUG    Crawling Interpark domastic schedule site\n"
     ]
    },
    {
     "name": "stdout",
     "output_type": "stream",
     "text": [
      "End Simple crawling\n",
      "Start Simple crawling :  http://smartair.interpark.com/HtmlSearch/GetGoodsSmartList.aspx\n",
      ">> Parameters\n",
      "StayLength: , Soto:N , dep0:ICN , BEST:Y , chd:0 , inf:0 , SeatType:A , SplitNo:100 , arr0:FUK , FLEX:N , ptype:I , enc:u , depdate0:20170827 , adt:1 , trip:OW , JSON:Y , comp:Y , AirLine:7C , Change: , SeatAvail:Y , \n"
     ]
    },
    {
     "name": "stderr",
     "output_type": "stream",
     "text": [
      "2017-08-11 08:22:02,406 root     DEBUG    Crawling Interpark domastic schedule site\n"
     ]
    },
    {
     "name": "stdout",
     "output_type": "stream",
     "text": [
      "End Simple crawling\n",
      "Start Simple crawling :  http://smartair.interpark.com/HtmlSearch/GetGoodsSmartList.aspx\n",
      ">> Parameters\n",
      "StayLength: , Soto:N , dep0:ICN , BEST:Y , chd:0 , inf:0 , SeatType:A , SplitNo:100 , arr0:FUK , FLEX:N , ptype:I , enc:u , depdate0:20170827 , adt:1 , trip:OW , JSON:Y , comp:Y , AirLine:LJ , Change: , SeatAvail:Y , \n"
     ]
    },
    {
     "name": "stderr",
     "output_type": "stream",
     "text": [
      "2017-08-11 08:22:04,652 root     DEBUG    Crawling Interpark domastic schedule site\n"
     ]
    },
    {
     "name": "stdout",
     "output_type": "stream",
     "text": [
      "End Simple crawling\n",
      "Start Simple crawling :  http://smartair.interpark.com/HtmlSearch/GetGoodsSmartList.aspx\n",
      ">> Parameters\n",
      "StayLength: , Soto:N , dep0:ICN , BEST:Y , chd:0 , inf:0 , SeatType:A , SplitNo:100 , arr0:FUK , FLEX:N , ptype:I , enc:u , depdate0:20170827 , adt:1 , trip:OW , JSON:Y , comp:Y , AirLine:TW , Change: , SeatAvail:Y , \n"
     ]
    },
    {
     "name": "stderr",
     "output_type": "stream",
     "text": [
      "2017-08-11 08:22:06,974 root     DEBUG    Crawling Interpark domastic schedule site\n"
     ]
    },
    {
     "name": "stdout",
     "output_type": "stream",
     "text": [
      "End Simple crawling\n",
      "Start Simple crawling :  http://smartair.interpark.com/HtmlSearch/GetGoodsSmartList.aspx\n",
      ">> Parameters\n",
      "StayLength: , Soto:N , dep0:ICN , BEST:Y , chd:0 , inf:0 , SeatType:A , SplitNo:100 , arr0:FUK , FLEX:N , ptype:I , enc:u , depdate0:20170827 , adt:1 , trip:OW , JSON:Y , comp:Y , AirLine:ZE , Change: , SeatAvail:Y , \n"
     ]
    },
    {
     "name": "stderr",
     "output_type": "stream",
     "text": [
      "2017-08-11 08:22:09,414 root     DEBUG    Crawling Interpark domastic schedule site\n"
     ]
    },
    {
     "name": "stdout",
     "output_type": "stream",
     "text": [
      "End Simple crawling\n",
      "Start Simple crawling :  http://smartair.interpark.com/HtmlSearch/GetGoodsSmartList.aspx\n",
      ">> Parameters\n",
      "StayLength: , Soto:N , dep0:ICN , BEST:Y , chd:0 , inf:0 , SeatType:A , SplitNo:100 , arr0:FUK , FLEX:N , ptype:I , enc:u , depdate0:20170828 , adt:1 , trip:OW , JSON:Y , comp:Y , AirLine:7C , Change: , SeatAvail:Y , \n"
     ]
    },
    {
     "name": "stderr",
     "output_type": "stream",
     "text": [
      "2017-08-11 08:22:10,309 root     DEBUG    Crawling Interpark domastic schedule site\n"
     ]
    },
    {
     "name": "stdout",
     "output_type": "stream",
     "text": [
      "End Simple crawling\n",
      "Start Simple crawling :  http://smartair.interpark.com/HtmlSearch/GetGoodsSmartList.aspx\n",
      ">> Parameters\n",
      "StayLength: , Soto:N , dep0:ICN , BEST:Y , chd:0 , inf:0 , SeatType:A , SplitNo:100 , arr0:FUK , FLEX:N , ptype:I , enc:u , depdate0:20170828 , adt:1 , trip:OW , JSON:Y , comp:Y , AirLine:LJ , Change: , SeatAvail:Y , \n"
     ]
    },
    {
     "name": "stderr",
     "output_type": "stream",
     "text": [
      "2017-08-11 08:22:12,678 root     DEBUG    Crawling Interpark domastic schedule site\n"
     ]
    },
    {
     "name": "stdout",
     "output_type": "stream",
     "text": [
      "End Simple crawling\n",
      "Start Simple crawling :  http://smartair.interpark.com/HtmlSearch/GetGoodsSmartList.aspx\n",
      ">> Parameters\n",
      "StayLength: , Soto:N , dep0:ICN , BEST:Y , chd:0 , inf:0 , SeatType:A , SplitNo:100 , arr0:FUK , FLEX:N , ptype:I , enc:u , depdate0:20170828 , adt:1 , trip:OW , JSON:Y , comp:Y , AirLine:TW , Change: , SeatAvail:Y , \n"
     ]
    },
    {
     "name": "stderr",
     "output_type": "stream",
     "text": [
      "2017-08-11 08:22:15,044 root     DEBUG    Crawling Interpark domastic schedule site\n"
     ]
    },
    {
     "name": "stdout",
     "output_type": "stream",
     "text": [
      "End Simple crawling\n",
      "Start Simple crawling :  http://smartair.interpark.com/HtmlSearch/GetGoodsSmartList.aspx\n",
      ">> Parameters\n",
      "StayLength: , Soto:N , dep0:ICN , BEST:Y , chd:0 , inf:0 , SeatType:A , SplitNo:100 , arr0:FUK , FLEX:N , ptype:I , enc:u , depdate0:20170828 , adt:1 , trip:OW , JSON:Y , comp:Y , AirLine:ZE , Change: , SeatAvail:Y , \n"
     ]
    },
    {
     "name": "stderr",
     "output_type": "stream",
     "text": [
      "2017-08-11 08:22:17,422 root     DEBUG    Crawling Interpark domastic schedule site\n"
     ]
    },
    {
     "name": "stdout",
     "output_type": "stream",
     "text": [
      "End Simple crawling\n",
      "Start Simple crawling :  http://smartair.interpark.com/HtmlSearch/GetGoodsSmartList.aspx\n",
      ">> Parameters\n",
      "StayLength: , Soto:N , dep0:ICN , BEST:Y , chd:0 , inf:0 , SeatType:A , SplitNo:100 , arr0:FUK , FLEX:N , ptype:I , enc:u , depdate0:20170829 , adt:1 , trip:OW , JSON:Y , comp:Y , AirLine:7C , Change: , SeatAvail:Y , \n"
     ]
    },
    {
     "name": "stderr",
     "output_type": "stream",
     "text": [
      "2017-08-11 08:22:18,052 root     DEBUG    Crawling Interpark domastic schedule site\n"
     ]
    },
    {
     "name": "stdout",
     "output_type": "stream",
     "text": [
      "End Simple crawling\n",
      "Start Simple crawling :  http://smartair.interpark.com/HtmlSearch/GetGoodsSmartList.aspx\n",
      ">> Parameters\n",
      "StayLength: , Soto:N , dep0:ICN , BEST:Y , chd:0 , inf:0 , SeatType:A , SplitNo:100 , arr0:FUK , FLEX:N , ptype:I , enc:u , depdate0:20170829 , adt:1 , trip:OW , JSON:Y , comp:Y , AirLine:LJ , Change: , SeatAvail:Y , \n"
     ]
    },
    {
     "name": "stderr",
     "output_type": "stream",
     "text": [
      "2017-08-11 08:22:20,583 root     DEBUG    Crawling Interpark domastic schedule site\n"
     ]
    },
    {
     "name": "stdout",
     "output_type": "stream",
     "text": [
      "End Simple crawling\n",
      "Start Simple crawling :  http://smartair.interpark.com/HtmlSearch/GetGoodsSmartList.aspx\n",
      ">> Parameters\n",
      "StayLength: , Soto:N , dep0:ICN , BEST:Y , chd:0 , inf:0 , SeatType:A , SplitNo:100 , arr0:FUK , FLEX:N , ptype:I , enc:u , depdate0:20170829 , adt:1 , trip:OW , JSON:Y , comp:Y , AirLine:TW , Change: , SeatAvail:Y , \n"
     ]
    },
    {
     "name": "stderr",
     "output_type": "stream",
     "text": [
      "2017-08-11 08:22:22,869 root     DEBUG    Crawling Interpark domastic schedule site\n"
     ]
    },
    {
     "name": "stdout",
     "output_type": "stream",
     "text": [
      "End Simple crawling\n",
      "Start Simple crawling :  http://smartair.interpark.com/HtmlSearch/GetGoodsSmartList.aspx\n",
      ">> Parameters\n",
      "StayLength: , Soto:N , dep0:ICN , BEST:Y , chd:0 , inf:0 , SeatType:A , SplitNo:100 , arr0:FUK , FLEX:N , ptype:I , enc:u , depdate0:20170829 , adt:1 , trip:OW , JSON:Y , comp:Y , AirLine:ZE , Change: , SeatAvail:Y , \n"
     ]
    },
    {
     "name": "stderr",
     "output_type": "stream",
     "text": [
      "2017-08-11 08:22:25,267 root     DEBUG    Crawling Interpark domastic schedule site\n"
     ]
    },
    {
     "name": "stdout",
     "output_type": "stream",
     "text": [
      "End Simple crawling\n",
      "Start Simple crawling :  http://smartair.interpark.com/HtmlSearch/GetGoodsSmartList.aspx\n",
      ">> Parameters\n",
      "StayLength: , Soto:N , dep0:ICN , BEST:Y , chd:0 , inf:0 , SeatType:A , SplitNo:100 , arr0:FUK , FLEX:N , ptype:I , enc:u , depdate0:20170830 , adt:1 , trip:OW , JSON:Y , comp:Y , AirLine:7C , Change: , SeatAvail:Y , \n"
     ]
    },
    {
     "name": "stderr",
     "output_type": "stream",
     "text": [
      "2017-08-11 08:22:25,919 root     DEBUG    Crawling Interpark domastic schedule site\n"
     ]
    },
    {
     "name": "stdout",
     "output_type": "stream",
     "text": [
      "End Simple crawling\n",
      "Start Simple crawling :  http://smartair.interpark.com/HtmlSearch/GetGoodsSmartList.aspx\n",
      ">> Parameters\n",
      "StayLength: , Soto:N , dep0:ICN , BEST:Y , chd:0 , inf:0 , SeatType:A , SplitNo:100 , arr0:FUK , FLEX:N , ptype:I , enc:u , depdate0:20170830 , adt:1 , trip:OW , JSON:Y , comp:Y , AirLine:LJ , Change: , SeatAvail:Y , \n"
     ]
    },
    {
     "name": "stderr",
     "output_type": "stream",
     "text": [
      "2017-08-11 08:22:29,866 root     DEBUG    Crawling Interpark domastic schedule site\n"
     ]
    },
    {
     "name": "stdout",
     "output_type": "stream",
     "text": [
      "End Simple crawling\n",
      "Start Simple crawling :  http://smartair.interpark.com/HtmlSearch/GetGoodsSmartList.aspx\n",
      ">> Parameters\n",
      "StayLength: , Soto:N , dep0:ICN , BEST:Y , chd:0 , inf:0 , SeatType:A , SplitNo:100 , arr0:FUK , FLEX:N , ptype:I , enc:u , depdate0:20170830 , adt:1 , trip:OW , JSON:Y , comp:Y , AirLine:TW , Change: , SeatAvail:Y , \n"
     ]
    },
    {
     "name": "stderr",
     "output_type": "stream",
     "text": [
      "2017-08-11 08:22:36,597 root     DEBUG    Crawling Interpark domastic schedule site\n"
     ]
    },
    {
     "name": "stdout",
     "output_type": "stream",
     "text": [
      "End Simple crawling\n",
      "Start Simple crawling :  http://smartair.interpark.com/HtmlSearch/GetGoodsSmartList.aspx\n",
      ">> Parameters\n",
      "StayLength: , Soto:N , dep0:ICN , BEST:Y , chd:0 , inf:0 , SeatType:A , SplitNo:100 , arr0:FUK , FLEX:N , ptype:I , enc:u , depdate0:20170830 , adt:1 , trip:OW , JSON:Y , comp:Y , AirLine:ZE , Change: , SeatAvail:Y , \n"
     ]
    },
    {
     "name": "stderr",
     "output_type": "stream",
     "text": [
      "2017-08-11 08:22:40,255 root     DEBUG    Crawling Interpark domastic schedule site\n"
     ]
    },
    {
     "name": "stdout",
     "output_type": "stream",
     "text": [
      "End Simple crawling\n",
      "Start Simple crawling :  http://smartair.interpark.com/HtmlSearch/GetGoodsSmartList.aspx\n",
      ">> Parameters\n",
      "StayLength: , Soto:N , dep0:ICN , BEST:Y , chd:0 , inf:0 , SeatType:A , SplitNo:100 , arr0:FUK , FLEX:N , ptype:I , enc:u , depdate0:20170831 , adt:1 , trip:OW , JSON:Y , comp:Y , AirLine:7C , Change: , SeatAvail:Y , \n"
     ]
    },
    {
     "name": "stderr",
     "output_type": "stream",
     "text": [
      "2017-08-11 08:22:41,211 root     DEBUG    Crawling Interpark domastic schedule site\n"
     ]
    },
    {
     "name": "stdout",
     "output_type": "stream",
     "text": [
      "End Simple crawling\n",
      "Start Simple crawling :  http://smartair.interpark.com/HtmlSearch/GetGoodsSmartList.aspx\n",
      ">> Parameters\n",
      "StayLength: , Soto:N , dep0:ICN , BEST:Y , chd:0 , inf:0 , SeatType:A , SplitNo:100 , arr0:FUK , FLEX:N , ptype:I , enc:u , depdate0:20170831 , adt:1 , trip:OW , JSON:Y , comp:Y , AirLine:LJ , Change: , SeatAvail:Y , \n"
     ]
    },
    {
     "name": "stderr",
     "output_type": "stream",
     "text": [
      "2017-08-11 08:22:43,439 root     DEBUG    Crawling Interpark domastic schedule site\n"
     ]
    },
    {
     "name": "stdout",
     "output_type": "stream",
     "text": [
      "End Simple crawling\n",
      "Start Simple crawling :  http://smartair.interpark.com/HtmlSearch/GetGoodsSmartList.aspx\n",
      ">> Parameters\n",
      "StayLength: , Soto:N , dep0:ICN , BEST:Y , chd:0 , inf:0 , SeatType:A , SplitNo:100 , arr0:FUK , FLEX:N , ptype:I , enc:u , depdate0:20170831 , adt:1 , trip:OW , JSON:Y , comp:Y , AirLine:TW , Change: , SeatAvail:Y , \n"
     ]
    },
    {
     "name": "stderr",
     "output_type": "stream",
     "text": [
      "2017-08-11 08:22:45,729 root     DEBUG    Crawling Interpark domastic schedule site\n"
     ]
    },
    {
     "name": "stdout",
     "output_type": "stream",
     "text": [
      "End Simple crawling\n",
      "Start Simple crawling :  http://smartair.interpark.com/HtmlSearch/GetGoodsSmartList.aspx\n",
      ">> Parameters\n",
      "StayLength: , Soto:N , dep0:ICN , BEST:Y , chd:0 , inf:0 , SeatType:A , SplitNo:100 , arr0:FUK , FLEX:N , ptype:I , enc:u , depdate0:20170831 , adt:1 , trip:OW , JSON:Y , comp:Y , AirLine:ZE , Change: , SeatAvail:Y , \n"
     ]
    },
    {
     "name": "stderr",
     "output_type": "stream",
     "text": [
      "2017-08-11 08:22:48,668 root     DEBUG    Crawling Interpark domastic schedule site\n"
     ]
    },
    {
     "name": "stdout",
     "output_type": "stream",
     "text": [
      "End Simple crawling\n",
      "Start Simple crawling :  http://smartair.interpark.com/HtmlSearch/GetGoodsSmartList.aspx\n",
      ">> Parameters\n",
      "StayLength: , Soto:N , dep0:ICN , BEST:Y , chd:0 , inf:0 , SeatType:A , SplitNo:100 , arr0:FUK , FLEX:N , ptype:I , enc:u , depdate0:20170901 , adt:1 , trip:OW , JSON:Y , comp:Y , AirLine:7C , Change: , SeatAvail:Y , \n"
     ]
    },
    {
     "name": "stderr",
     "output_type": "stream",
     "text": [
      "2017-08-11 08:22:50,109 root     DEBUG    Crawling Interpark domastic schedule site\n"
     ]
    },
    {
     "name": "stdout",
     "output_type": "stream",
     "text": [
      "End Simple crawling\n",
      "Start Simple crawling :  http://smartair.interpark.com/HtmlSearch/GetGoodsSmartList.aspx\n",
      ">> Parameters\n",
      "StayLength: , Soto:N , dep0:ICN , BEST:Y , chd:0 , inf:0 , SeatType:A , SplitNo:100 , arr0:FUK , FLEX:N , ptype:I , enc:u , depdate0:20170901 , adt:1 , trip:OW , JSON:Y , comp:Y , AirLine:LJ , Change: , SeatAvail:Y , \n"
     ]
    },
    {
     "name": "stderr",
     "output_type": "stream",
     "text": [
      "2017-08-11 08:22:52,578 root     DEBUG    Crawling Interpark domastic schedule site\n"
     ]
    },
    {
     "name": "stdout",
     "output_type": "stream",
     "text": [
      "End Simple crawling\n",
      "Start Simple crawling :  http://smartair.interpark.com/HtmlSearch/GetGoodsSmartList.aspx\n",
      ">> Parameters\n",
      "StayLength: , Soto:N , dep0:ICN , BEST:Y , chd:0 , inf:0 , SeatType:A , SplitNo:100 , arr0:FUK , FLEX:N , ptype:I , enc:u , depdate0:20170901 , adt:1 , trip:OW , JSON:Y , comp:Y , AirLine:TW , Change: , SeatAvail:Y , \n"
     ]
    },
    {
     "name": "stderr",
     "output_type": "stream",
     "text": [
      "2017-08-11 08:22:55,511 root     DEBUG    Crawling Interpark domastic schedule site\n"
     ]
    },
    {
     "name": "stdout",
     "output_type": "stream",
     "text": [
      "End Simple crawling\n",
      "Start Simple crawling :  http://smartair.interpark.com/HtmlSearch/GetGoodsSmartList.aspx\n",
      ">> Parameters\n",
      "StayLength: , Soto:N , dep0:ICN , BEST:Y , chd:0 , inf:0 , SeatType:A , SplitNo:100 , arr0:FUK , FLEX:N , ptype:I , enc:u , depdate0:20170901 , adt:1 , trip:OW , JSON:Y , comp:Y , AirLine:ZE , Change: , SeatAvail:Y , \n"
     ]
    },
    {
     "name": "stderr",
     "output_type": "stream",
     "text": [
      "2017-08-11 08:22:57,924 root     INFO     end batch job :: craw_by_route_site :: elapsed -0:03:10.044869 :: Total crawl:84 files saved.\n",
      "2017-08-11 08:22:57,927 root     INFO     start batch job :: craw_by_route_site[GMP,PUS,IP,['20170812', '20170813', '20170814', '20170815', '20170816', '20170817', '20170818', '20170819', '20170820', '20170821', '20170822', '20170823', '20170824', '20170825', '20170826', '20170827', '20170828', '20170829', '20170830', '20170831', '20170901'],['7C', 'BX', 'OZ', 'ZE']]\n",
      "2017-08-11 08:22:57,929 root     DEBUG    0 :: IP :: crawling_IP_dom :: False\n",
      "2017-08-11 08:22:57,931 root     INFO     <function crawling_IP_dom at 0x0000000007C78378> :: False\n",
      "2017-08-11 08:22:57,934 root     DEBUG    Crawling Interpark domastic schedule site\n"
     ]
    },
    {
     "name": "stdout",
     "output_type": "stream",
     "text": [
      "End Simple crawling\n",
      "Start Simple crawling :  http://domair.interpark.com/api/booking/airJourney.do\n",
      ">> Parameters\n",
      "tripDivi:0 , adt:1 , chd:0 , format:json , arr:PUS , inf:0 , airlineCode:7C , dep:GMP , depDate:20170812 , \n"
     ]
    },
    {
     "name": "stderr",
     "output_type": "stream",
     "text": [
      "2017-08-11 08:22:59,749 root     DEBUG    Crawling Interpark domastic schedule site\n"
     ]
    },
    {
     "name": "stdout",
     "output_type": "stream",
     "text": [
      "End Simple crawling\n",
      "Start Simple crawling :  http://domair.interpark.com/api/booking/airJourney.do\n",
      ">> Parameters\n",
      "tripDivi:0 , adt:1 , chd:0 , format:json , arr:PUS , inf:0 , airlineCode:BX , dep:GMP , depDate:20170812 , \n"
     ]
    },
    {
     "name": "stderr",
     "output_type": "stream",
     "text": [
      "2017-08-11 08:23:01,004 root     DEBUG    Crawling Interpark domastic schedule site\n"
     ]
    },
    {
     "name": "stdout",
     "output_type": "stream",
     "text": [
      "End Simple crawling\n",
      "Start Simple crawling :  http://domair.interpark.com/api/booking/airJourney.do\n",
      ">> Parameters\n",
      "tripDivi:0 , adt:1 , chd:0 , format:json , arr:PUS , inf:0 , airlineCode:OZ , dep:GMP , depDate:20170812 , \n"
     ]
    },
    {
     "name": "stderr",
     "output_type": "stream",
     "text": [
      "2017-08-11 08:23:02,624 root     DEBUG    Crawling Interpark domastic schedule site\n"
     ]
    },
    {
     "name": "stdout",
     "output_type": "stream",
     "text": [
      "End Simple crawling\n",
      "Start Simple crawling :  http://domair.interpark.com/api/booking/airJourney.do\n",
      ">> Parameters\n",
      "tripDivi:0 , adt:1 , chd:0 , format:json , arr:PUS , inf:0 , airlineCode:ZE , dep:GMP , depDate:20170812 , \n"
     ]
    },
    {
     "name": "stderr",
     "output_type": "stream",
     "text": [
      "2017-08-11 08:23:03,688 root     DEBUG    Crawling Interpark domastic schedule site\n"
     ]
    },
    {
     "name": "stdout",
     "output_type": "stream",
     "text": [
      "End Simple crawling\n",
      "Start Simple crawling :  http://domair.interpark.com/api/booking/airJourney.do\n",
      ">> Parameters\n",
      "tripDivi:0 , adt:1 , chd:0 , format:json , arr:PUS , inf:0 , airlineCode:7C , dep:GMP , depDate:20170813 , \n"
     ]
    },
    {
     "name": "stderr",
     "output_type": "stream",
     "text": [
      "2017-08-11 08:23:05,064 root     DEBUG    Crawling Interpark domastic schedule site\n"
     ]
    },
    {
     "name": "stdout",
     "output_type": "stream",
     "text": [
      "End Simple crawling\n",
      "Start Simple crawling :  http://domair.interpark.com/api/booking/airJourney.do\n",
      ">> Parameters\n",
      "tripDivi:0 , adt:1 , chd:0 , format:json , arr:PUS , inf:0 , airlineCode:BX , dep:GMP , depDate:20170813 , \n"
     ]
    },
    {
     "name": "stderr",
     "output_type": "stream",
     "text": [
      "2017-08-11 08:23:06,396 root     DEBUG    Crawling Interpark domastic schedule site\n"
     ]
    },
    {
     "name": "stdout",
     "output_type": "stream",
     "text": [
      "End Simple crawling\n",
      "Start Simple crawling :  http://domair.interpark.com/api/booking/airJourney.do\n",
      ">> Parameters\n",
      "tripDivi:0 , adt:1 , chd:0 , format:json , arr:PUS , inf:0 , airlineCode:OZ , dep:GMP , depDate:20170813 , \n"
     ]
    },
    {
     "name": "stderr",
     "output_type": "stream",
     "text": [
      "2017-08-11 08:23:07,618 root     DEBUG    Crawling Interpark domastic schedule site\n"
     ]
    },
    {
     "name": "stdout",
     "output_type": "stream",
     "text": [
      "End Simple crawling\n",
      "Start Simple crawling :  http://domair.interpark.com/api/booking/airJourney.do\n",
      ">> Parameters\n",
      "tripDivi:0 , adt:1 , chd:0 , format:json , arr:PUS , inf:0 , airlineCode:ZE , dep:GMP , depDate:20170813 , \n"
     ]
    },
    {
     "name": "stderr",
     "output_type": "stream",
     "text": [
      "2017-08-11 08:23:08,616 root     DEBUG    Crawling Interpark domastic schedule site\n"
     ]
    },
    {
     "name": "stdout",
     "output_type": "stream",
     "text": [
      "End Simple crawling\n",
      "Start Simple crawling :  http://domair.interpark.com/api/booking/airJourney.do\n",
      ">> Parameters\n",
      "tripDivi:0 , adt:1 , chd:0 , format:json , arr:PUS , inf:0 , airlineCode:7C , dep:GMP , depDate:20170814 , \n"
     ]
    },
    {
     "name": "stderr",
     "output_type": "stream",
     "text": [
      "2017-08-11 08:23:09,788 root     DEBUG    Crawling Interpark domastic schedule site\n"
     ]
    },
    {
     "name": "stdout",
     "output_type": "stream",
     "text": [
      "End Simple crawling\n",
      "Start Simple crawling :  http://domair.interpark.com/api/booking/airJourney.do\n",
      ">> Parameters\n",
      "tripDivi:0 , adt:1 , chd:0 , format:json , arr:PUS , inf:0 , airlineCode:BX , dep:GMP , depDate:20170814 , \n"
     ]
    },
    {
     "name": "stderr",
     "output_type": "stream",
     "text": [
      "2017-08-11 08:23:11,025 root     DEBUG    Crawling Interpark domastic schedule site\n"
     ]
    },
    {
     "name": "stdout",
     "output_type": "stream",
     "text": [
      "End Simple crawling\n",
      "Start Simple crawling :  http://domair.interpark.com/api/booking/airJourney.do\n",
      ">> Parameters\n",
      "tripDivi:0 , adt:1 , chd:0 , format:json , arr:PUS , inf:0 , airlineCode:OZ , dep:GMP , depDate:20170814 , \n"
     ]
    },
    {
     "name": "stderr",
     "output_type": "stream",
     "text": [
      "2017-08-11 08:23:12,286 root     DEBUG    Crawling Interpark domastic schedule site\n"
     ]
    },
    {
     "name": "stdout",
     "output_type": "stream",
     "text": [
      "End Simple crawling\n",
      "Start Simple crawling :  http://domair.interpark.com/api/booking/airJourney.do\n",
      ">> Parameters\n",
      "tripDivi:0 , adt:1 , chd:0 , format:json , arr:PUS , inf:0 , airlineCode:ZE , dep:GMP , depDate:20170814 , \n"
     ]
    },
    {
     "name": "stderr",
     "output_type": "stream",
     "text": [
      "2017-08-11 08:23:13,217 root     DEBUG    Crawling Interpark domastic schedule site\n"
     ]
    },
    {
     "name": "stdout",
     "output_type": "stream",
     "text": [
      "End Simple crawling\n",
      "Start Simple crawling :  http://domair.interpark.com/api/booking/airJourney.do\n",
      ">> Parameters\n",
      "tripDivi:0 , adt:1 , chd:0 , format:json , arr:PUS , inf:0 , airlineCode:7C , dep:GMP , depDate:20170815 , \n"
     ]
    },
    {
     "name": "stderr",
     "output_type": "stream",
     "text": [
      "2017-08-11 08:23:14,412 root     DEBUG    Crawling Interpark domastic schedule site\n"
     ]
    },
    {
     "name": "stdout",
     "output_type": "stream",
     "text": [
      "End Simple crawling\n",
      "Start Simple crawling :  http://domair.interpark.com/api/booking/airJourney.do\n",
      ">> Parameters\n",
      "tripDivi:0 , adt:1 , chd:0 , format:json , arr:PUS , inf:0 , airlineCode:BX , dep:GMP , depDate:20170815 , \n"
     ]
    },
    {
     "name": "stderr",
     "output_type": "stream",
     "text": [
      "2017-08-11 08:23:15,619 root     DEBUG    Crawling Interpark domastic schedule site\n"
     ]
    },
    {
     "name": "stdout",
     "output_type": "stream",
     "text": [
      "End Simple crawling\n",
      "Start Simple crawling :  http://domair.interpark.com/api/booking/airJourney.do\n",
      ">> Parameters\n",
      "tripDivi:0 , adt:1 , chd:0 , format:json , arr:PUS , inf:0 , airlineCode:OZ , dep:GMP , depDate:20170815 , \n"
     ]
    },
    {
     "name": "stderr",
     "output_type": "stream",
     "text": [
      "2017-08-11 08:23:16,836 root     DEBUG    Crawling Interpark domastic schedule site\n"
     ]
    },
    {
     "name": "stdout",
     "output_type": "stream",
     "text": [
      "End Simple crawling\n",
      "Start Simple crawling :  http://domair.interpark.com/api/booking/airJourney.do\n",
      ">> Parameters\n",
      "tripDivi:0 , adt:1 , chd:0 , format:json , arr:PUS , inf:0 , airlineCode:ZE , dep:GMP , depDate:20170815 , \n"
     ]
    },
    {
     "name": "stderr",
     "output_type": "stream",
     "text": [
      "2017-08-11 08:23:17,830 root     DEBUG    Crawling Interpark domastic schedule site\n"
     ]
    },
    {
     "name": "stdout",
     "output_type": "stream",
     "text": [
      "End Simple crawling\n",
      "Start Simple crawling :  http://domair.interpark.com/api/booking/airJourney.do\n",
      ">> Parameters\n",
      "tripDivi:0 , adt:1 , chd:0 , format:json , arr:PUS , inf:0 , airlineCode:7C , dep:GMP , depDate:20170816 , \n"
     ]
    },
    {
     "name": "stderr",
     "output_type": "stream",
     "text": [
      "2017-08-11 08:23:18,812 root     DEBUG    Crawling Interpark domastic schedule site\n"
     ]
    },
    {
     "name": "stdout",
     "output_type": "stream",
     "text": [
      "End Simple crawling\n",
      "Start Simple crawling :  http://domair.interpark.com/api/booking/airJourney.do\n",
      ">> Parameters\n",
      "tripDivi:0 , adt:1 , chd:0 , format:json , arr:PUS , inf:0 , airlineCode:BX , dep:GMP , depDate:20170816 , \n"
     ]
    },
    {
     "name": "stderr",
     "output_type": "stream",
     "text": [
      "2017-08-11 08:23:20,196 root     DEBUG    Crawling Interpark domastic schedule site\n"
     ]
    },
    {
     "name": "stdout",
     "output_type": "stream",
     "text": [
      "End Simple crawling\n",
      "Start Simple crawling :  http://domair.interpark.com/api/booking/airJourney.do\n",
      ">> Parameters\n",
      "tripDivi:0 , adt:1 , chd:0 , format:json , arr:PUS , inf:0 , airlineCode:OZ , dep:GMP , depDate:20170816 , \n"
     ]
    },
    {
     "name": "stderr",
     "output_type": "stream",
     "text": [
      "2017-08-11 08:23:40,263 root     DEBUG    Crawling Interpark domastic schedule site\n"
     ]
    },
    {
     "name": "stdout",
     "output_type": "stream",
     "text": [
      "End Simple crawling\n",
      "Start Simple crawling :  http://domair.interpark.com/api/booking/airJourney.do\n",
      ">> Parameters\n",
      "tripDivi:0 , adt:1 , chd:0 , format:json , arr:PUS , inf:0 , airlineCode:ZE , dep:GMP , depDate:20170816 , \n"
     ]
    },
    {
     "name": "stderr",
     "output_type": "stream",
     "text": [
      "2017-08-11 08:23:41,212 root     DEBUG    Crawling Interpark domastic schedule site\n"
     ]
    },
    {
     "name": "stdout",
     "output_type": "stream",
     "text": [
      "End Simple crawling\n",
      "Start Simple crawling :  http://domair.interpark.com/api/booking/airJourney.do\n",
      ">> Parameters\n",
      "tripDivi:0 , adt:1 , chd:0 , format:json , arr:PUS , inf:0 , airlineCode:7C , dep:GMP , depDate:20170817 , \n"
     ]
    },
    {
     "name": "stderr",
     "output_type": "stream",
     "text": [
      "2017-08-11 08:23:42,172 root     DEBUG    Crawling Interpark domastic schedule site\n"
     ]
    },
    {
     "name": "stdout",
     "output_type": "stream",
     "text": [
      "End Simple crawling\n",
      "Start Simple crawling :  http://domair.interpark.com/api/booking/airJourney.do\n",
      ">> Parameters\n",
      "tripDivi:0 , adt:1 , chd:0 , format:json , arr:PUS , inf:0 , airlineCode:BX , dep:GMP , depDate:20170817 , \n"
     ]
    },
    {
     "name": "stderr",
     "output_type": "stream",
     "text": [
      "2017-08-11 08:23:42,948 root     DEBUG    Crawling Interpark domastic schedule site\n"
     ]
    },
    {
     "name": "stdout",
     "output_type": "stream",
     "text": [
      "End Simple crawling\n",
      "Start Simple crawling :  http://domair.interpark.com/api/booking/airJourney.do\n",
      ">> Parameters\n",
      "tripDivi:0 , adt:1 , chd:0 , format:json , arr:PUS , inf:0 , airlineCode:OZ , dep:GMP , depDate:20170817 , \n"
     ]
    },
    {
     "name": "stderr",
     "output_type": "stream",
     "text": [
      "2017-08-11 08:23:44,400 root     DEBUG    Crawling Interpark domastic schedule site\n"
     ]
    },
    {
     "name": "stdout",
     "output_type": "stream",
     "text": [
      "End Simple crawling\n",
      "Start Simple crawling :  http://domair.interpark.com/api/booking/airJourney.do\n",
      ">> Parameters\n",
      "tripDivi:0 , adt:1 , chd:0 , format:json , arr:PUS , inf:0 , airlineCode:ZE , dep:GMP , depDate:20170817 , \n"
     ]
    },
    {
     "name": "stderr",
     "output_type": "stream",
     "text": [
      "2017-08-11 08:23:45,411 root     DEBUG    Crawling Interpark domastic schedule site\n"
     ]
    },
    {
     "name": "stdout",
     "output_type": "stream",
     "text": [
      "End Simple crawling\n",
      "Start Simple crawling :  http://domair.interpark.com/api/booking/airJourney.do\n",
      ">> Parameters\n",
      "tripDivi:0 , adt:1 , chd:0 , format:json , arr:PUS , inf:0 , airlineCode:7C , dep:GMP , depDate:20170818 , \n"
     ]
    },
    {
     "name": "stderr",
     "output_type": "stream",
     "text": [
      "2017-08-11 08:23:47,848 root     DEBUG    Crawling Interpark domastic schedule site\n"
     ]
    },
    {
     "name": "stdout",
     "output_type": "stream",
     "text": [
      "End Simple crawling\n",
      "Start Simple crawling :  http://domair.interpark.com/api/booking/airJourney.do\n",
      ">> Parameters\n",
      "tripDivi:0 , adt:1 , chd:0 , format:json , arr:PUS , inf:0 , airlineCode:BX , dep:GMP , depDate:20170818 , \n"
     ]
    },
    {
     "name": "stderr",
     "output_type": "stream",
     "text": [
      "2017-08-11 08:23:49,801 root     DEBUG    Crawling Interpark domastic schedule site\n"
     ]
    },
    {
     "name": "stdout",
     "output_type": "stream",
     "text": [
      "End Simple crawling\n",
      "Start Simple crawling :  http://domair.interpark.com/api/booking/airJourney.do\n",
      ">> Parameters\n",
      "tripDivi:0 , adt:1 , chd:0 , format:json , arr:PUS , inf:0 , airlineCode:OZ , dep:GMP , depDate:20170818 , \n"
     ]
    },
    {
     "name": "stderr",
     "output_type": "stream",
     "text": [
      "2017-08-11 08:23:51,093 root     DEBUG    Crawling Interpark domastic schedule site\n"
     ]
    },
    {
     "name": "stdout",
     "output_type": "stream",
     "text": [
      "End Simple crawling\n",
      "Start Simple crawling :  http://domair.interpark.com/api/booking/airJourney.do\n",
      ">> Parameters\n",
      "tripDivi:0 , adt:1 , chd:0 , format:json , arr:PUS , inf:0 , airlineCode:ZE , dep:GMP , depDate:20170818 , \n"
     ]
    },
    {
     "name": "stderr",
     "output_type": "stream",
     "text": [
      "2017-08-11 08:23:52,105 root     DEBUG    Crawling Interpark domastic schedule site\n"
     ]
    },
    {
     "name": "stdout",
     "output_type": "stream",
     "text": [
      "End Simple crawling\n",
      "Start Simple crawling :  http://domair.interpark.com/api/booking/airJourney.do\n",
      ">> Parameters\n",
      "tripDivi:0 , adt:1 , chd:0 , format:json , arr:PUS , inf:0 , airlineCode:7C , dep:GMP , depDate:20170819 , \n"
     ]
    },
    {
     "name": "stderr",
     "output_type": "stream",
     "text": [
      "2017-08-11 08:23:53,429 root     DEBUG    Crawling Interpark domastic schedule site\n"
     ]
    },
    {
     "name": "stdout",
     "output_type": "stream",
     "text": [
      "End Simple crawling\n",
      "Start Simple crawling :  http://domair.interpark.com/api/booking/airJourney.do\n",
      ">> Parameters\n",
      "tripDivi:0 , adt:1 , chd:0 , format:json , arr:PUS , inf:0 , airlineCode:BX , dep:GMP , depDate:20170819 , \n"
     ]
    },
    {
     "name": "stderr",
     "output_type": "stream",
     "text": [
      "2017-08-11 08:23:54,623 root     DEBUG    Crawling Interpark domastic schedule site\n"
     ]
    },
    {
     "name": "stdout",
     "output_type": "stream",
     "text": [
      "End Simple crawling\n",
      "Start Simple crawling :  http://domair.interpark.com/api/booking/airJourney.do\n",
      ">> Parameters\n",
      "tripDivi:0 , adt:1 , chd:0 , format:json , arr:PUS , inf:0 , airlineCode:OZ , dep:GMP , depDate:20170819 , \n"
     ]
    },
    {
     "name": "stderr",
     "output_type": "stream",
     "text": [
      "2017-08-11 08:23:55,840 root     DEBUG    Crawling Interpark domastic schedule site\n"
     ]
    },
    {
     "name": "stdout",
     "output_type": "stream",
     "text": [
      "End Simple crawling\n",
      "Start Simple crawling :  http://domair.interpark.com/api/booking/airJourney.do\n",
      ">> Parameters\n",
      "tripDivi:0 , adt:1 , chd:0 , format:json , arr:PUS , inf:0 , airlineCode:ZE , dep:GMP , depDate:20170819 , \n"
     ]
    },
    {
     "name": "stderr",
     "output_type": "stream",
     "text": [
      "2017-08-11 08:23:56,798 root     DEBUG    Crawling Interpark domastic schedule site\n"
     ]
    },
    {
     "name": "stdout",
     "output_type": "stream",
     "text": [
      "End Simple crawling\n",
      "Start Simple crawling :  http://domair.interpark.com/api/booking/airJourney.do\n",
      ">> Parameters\n",
      "tripDivi:0 , adt:1 , chd:0 , format:json , arr:PUS , inf:0 , airlineCode:7C , dep:GMP , depDate:20170820 , \n"
     ]
    },
    {
     "name": "stderr",
     "output_type": "stream",
     "text": [
      "2017-08-11 08:23:58,347 root     DEBUG    Crawling Interpark domastic schedule site\n"
     ]
    },
    {
     "name": "stdout",
     "output_type": "stream",
     "text": [
      "End Simple crawling\n",
      "Start Simple crawling :  http://domair.interpark.com/api/booking/airJourney.do\n",
      ">> Parameters\n",
      "tripDivi:0 , adt:1 , chd:0 , format:json , arr:PUS , inf:0 , airlineCode:BX , dep:GMP , depDate:20170820 , \n"
     ]
    },
    {
     "name": "stderr",
     "output_type": "stream",
     "text": [
      "2017-08-11 08:23:59,693 root     DEBUG    Crawling Interpark domastic schedule site\n"
     ]
    },
    {
     "name": "stdout",
     "output_type": "stream",
     "text": [
      "End Simple crawling\n",
      "Start Simple crawling :  http://domair.interpark.com/api/booking/airJourney.do\n",
      ">> Parameters\n",
      "tripDivi:0 , adt:1 , chd:0 , format:json , arr:PUS , inf:0 , airlineCode:OZ , dep:GMP , depDate:20170820 , \n"
     ]
    },
    {
     "name": "stderr",
     "output_type": "stream",
     "text": [
      "2017-08-11 08:24:00,979 root     DEBUG    Crawling Interpark domastic schedule site\n"
     ]
    },
    {
     "name": "stdout",
     "output_type": "stream",
     "text": [
      "End Simple crawling\n",
      "Start Simple crawling :  http://domair.interpark.com/api/booking/airJourney.do\n",
      ">> Parameters\n",
      "tripDivi:0 , adt:1 , chd:0 , format:json , arr:PUS , inf:0 , airlineCode:ZE , dep:GMP , depDate:20170820 , \n"
     ]
    },
    {
     "name": "stderr",
     "output_type": "stream",
     "text": [
      "2017-08-11 08:24:02,021 root     DEBUG    Crawling Interpark domastic schedule site\n"
     ]
    },
    {
     "name": "stdout",
     "output_type": "stream",
     "text": [
      "End Simple crawling\n",
      "Start Simple crawling :  http://domair.interpark.com/api/booking/airJourney.do\n",
      ">> Parameters\n",
      "tripDivi:0 , adt:1 , chd:0 , format:json , arr:PUS , inf:0 , airlineCode:7C , dep:GMP , depDate:20170821 , \n"
     ]
    },
    {
     "name": "stderr",
     "output_type": "stream",
     "text": [
      "2017-08-11 08:24:06,854 root     DEBUG    Crawling Interpark domastic schedule site\n"
     ]
    },
    {
     "name": "stdout",
     "output_type": "stream",
     "text": [
      "End Simple crawling\n",
      "Start Simple crawling :  http://domair.interpark.com/api/booking/airJourney.do\n",
      ">> Parameters\n",
      "tripDivi:0 , adt:1 , chd:0 , format:json , arr:PUS , inf:0 , airlineCode:BX , dep:GMP , depDate:20170821 , \n"
     ]
    },
    {
     "name": "stderr",
     "output_type": "stream",
     "text": [
      "2017-08-11 08:24:08,187 root     DEBUG    Crawling Interpark domastic schedule site\n"
     ]
    },
    {
     "name": "stdout",
     "output_type": "stream",
     "text": [
      "End Simple crawling\n",
      "Start Simple crawling :  http://domair.interpark.com/api/booking/airJourney.do\n",
      ">> Parameters\n",
      "tripDivi:0 , adt:1 , chd:0 , format:json , arr:PUS , inf:0 , airlineCode:OZ , dep:GMP , depDate:20170821 , \n"
     ]
    },
    {
     "name": "stderr",
     "output_type": "stream",
     "text": [
      "2017-08-11 08:24:09,499 root     DEBUG    Crawling Interpark domastic schedule site\n"
     ]
    },
    {
     "name": "stdout",
     "output_type": "stream",
     "text": [
      "End Simple crawling\n",
      "Start Simple crawling :  http://domair.interpark.com/api/booking/airJourney.do\n",
      ">> Parameters\n",
      "tripDivi:0 , adt:1 , chd:0 , format:json , arr:PUS , inf:0 , airlineCode:ZE , dep:GMP , depDate:20170821 , \n"
     ]
    },
    {
     "name": "stderr",
     "output_type": "stream",
     "text": [
      "2017-08-11 08:24:10,500 root     DEBUG    Crawling Interpark domastic schedule site\n"
     ]
    },
    {
     "name": "stdout",
     "output_type": "stream",
     "text": [
      "End Simple crawling\n",
      "Start Simple crawling :  http://domair.interpark.com/api/booking/airJourney.do\n",
      ">> Parameters\n",
      "tripDivi:0 , adt:1 , chd:0 , format:json , arr:PUS , inf:0 , airlineCode:7C , dep:GMP , depDate:20170822 , \n"
     ]
    },
    {
     "name": "stderr",
     "output_type": "stream",
     "text": [
      "2017-08-11 08:24:12,887 root     DEBUG    Crawling Interpark domastic schedule site\n"
     ]
    },
    {
     "name": "stdout",
     "output_type": "stream",
     "text": [
      "End Simple crawling\n",
      "Start Simple crawling :  http://domair.interpark.com/api/booking/airJourney.do\n",
      ">> Parameters\n",
      "tripDivi:0 , adt:1 , chd:0 , format:json , arr:PUS , inf:0 , airlineCode:BX , dep:GMP , depDate:20170822 , \n"
     ]
    },
    {
     "name": "stderr",
     "output_type": "stream",
     "text": [
      "2017-08-11 08:24:14,114 root     DEBUG    Crawling Interpark domastic schedule site\n"
     ]
    },
    {
     "name": "stdout",
     "output_type": "stream",
     "text": [
      "End Simple crawling\n",
      "Start Simple crawling :  http://domair.interpark.com/api/booking/airJourney.do\n",
      ">> Parameters\n",
      "tripDivi:0 , adt:1 , chd:0 , format:json , arr:PUS , inf:0 , airlineCode:OZ , dep:GMP , depDate:20170822 , \n"
     ]
    },
    {
     "name": "stderr",
     "output_type": "stream",
     "text": [
      "2017-08-11 08:24:15,424 root     DEBUG    Crawling Interpark domastic schedule site\n"
     ]
    },
    {
     "name": "stdout",
     "output_type": "stream",
     "text": [
      "End Simple crawling\n",
      "Start Simple crawling :  http://domair.interpark.com/api/booking/airJourney.do\n",
      ">> Parameters\n",
      "tripDivi:0 , adt:1 , chd:0 , format:json , arr:PUS , inf:0 , airlineCode:ZE , dep:GMP , depDate:20170822 , \n"
     ]
    },
    {
     "name": "stderr",
     "output_type": "stream",
     "text": [
      "2017-08-11 08:24:16,376 root     DEBUG    Crawling Interpark domastic schedule site\n"
     ]
    },
    {
     "name": "stdout",
     "output_type": "stream",
     "text": [
      "End Simple crawling\n",
      "Start Simple crawling :  http://domair.interpark.com/api/booking/airJourney.do\n",
      ">> Parameters\n",
      "tripDivi:0 , adt:1 , chd:0 , format:json , arr:PUS , inf:0 , airlineCode:7C , dep:GMP , depDate:20170823 , \n"
     ]
    },
    {
     "name": "stderr",
     "output_type": "stream",
     "text": [
      "2017-08-11 08:24:17,486 root     DEBUG    Crawling Interpark domastic schedule site\n"
     ]
    },
    {
     "name": "stdout",
     "output_type": "stream",
     "text": [
      "End Simple crawling\n",
      "Start Simple crawling :  http://domair.interpark.com/api/booking/airJourney.do\n",
      ">> Parameters\n",
      "tripDivi:0 , adt:1 , chd:0 , format:json , arr:PUS , inf:0 , airlineCode:BX , dep:GMP , depDate:20170823 , \n"
     ]
    },
    {
     "name": "stderr",
     "output_type": "stream",
     "text": [
      "2017-08-11 08:24:18,594 root     DEBUG    Crawling Interpark domastic schedule site\n"
     ]
    },
    {
     "name": "stdout",
     "output_type": "stream",
     "text": [
      "End Simple crawling\n",
      "Start Simple crawling :  http://domair.interpark.com/api/booking/airJourney.do\n",
      ">> Parameters\n",
      "tripDivi:0 , adt:1 , chd:0 , format:json , arr:PUS , inf:0 , airlineCode:OZ , dep:GMP , depDate:20170823 , \n"
     ]
    },
    {
     "name": "stderr",
     "output_type": "stream",
     "text": [
      "2017-08-11 08:24:19,914 root     DEBUG    Crawling Interpark domastic schedule site\n"
     ]
    },
    {
     "name": "stdout",
     "output_type": "stream",
     "text": [
      "End Simple crawling\n",
      "Start Simple crawling :  http://domair.interpark.com/api/booking/airJourney.do\n",
      ">> Parameters\n",
      "tripDivi:0 , adt:1 , chd:0 , format:json , arr:PUS , inf:0 , airlineCode:ZE , dep:GMP , depDate:20170823 , \n"
     ]
    },
    {
     "name": "stderr",
     "output_type": "stream",
     "text": [
      "2017-08-11 08:24:20,876 root     DEBUG    Crawling Interpark domastic schedule site\n"
     ]
    },
    {
     "name": "stdout",
     "output_type": "stream",
     "text": [
      "End Simple crawling\n",
      "Start Simple crawling :  http://domair.interpark.com/api/booking/airJourney.do\n",
      ">> Parameters\n",
      "tripDivi:0 , adt:1 , chd:0 , format:json , arr:PUS , inf:0 , airlineCode:7C , dep:GMP , depDate:20170824 , \n"
     ]
    },
    {
     "name": "stderr",
     "output_type": "stream",
     "text": [
      "2017-08-11 08:24:21,836 root     DEBUG    Crawling Interpark domastic schedule site\n"
     ]
    },
    {
     "name": "stdout",
     "output_type": "stream",
     "text": [
      "End Simple crawling\n",
      "Start Simple crawling :  http://domair.interpark.com/api/booking/airJourney.do\n",
      ">> Parameters\n",
      "tripDivi:0 , adt:1 , chd:0 , format:json , arr:PUS , inf:0 , airlineCode:BX , dep:GMP , depDate:20170824 , \n"
     ]
    },
    {
     "name": "stderr",
     "output_type": "stream",
     "text": [
      "2017-08-11 08:24:23,011 root     DEBUG    Crawling Interpark domastic schedule site\n"
     ]
    },
    {
     "name": "stdout",
     "output_type": "stream",
     "text": [
      "End Simple crawling\n",
      "Start Simple crawling :  http://domair.interpark.com/api/booking/airJourney.do\n",
      ">> Parameters\n",
      "tripDivi:0 , adt:1 , chd:0 , format:json , arr:PUS , inf:0 , airlineCode:OZ , dep:GMP , depDate:20170824 , \n"
     ]
    },
    {
     "name": "stderr",
     "output_type": "stream",
     "text": [
      "2017-08-11 08:24:24,284 root     DEBUG    Crawling Interpark domastic schedule site\n"
     ]
    },
    {
     "name": "stdout",
     "output_type": "stream",
     "text": [
      "End Simple crawling\n",
      "Start Simple crawling :  http://domair.interpark.com/api/booking/airJourney.do\n",
      ">> Parameters\n",
      "tripDivi:0 , adt:1 , chd:0 , format:json , arr:PUS , inf:0 , airlineCode:ZE , dep:GMP , depDate:20170824 , \n"
     ]
    },
    {
     "name": "stderr",
     "output_type": "stream",
     "text": [
      "2017-08-11 08:24:25,252 root     DEBUG    Crawling Interpark domastic schedule site\n"
     ]
    },
    {
     "name": "stdout",
     "output_type": "stream",
     "text": [
      "End Simple crawling\n",
      "Start Simple crawling :  http://domair.interpark.com/api/booking/airJourney.do\n",
      ">> Parameters\n",
      "tripDivi:0 , adt:1 , chd:0 , format:json , arr:PUS , inf:0 , airlineCode:7C , dep:GMP , depDate:20170825 , \n"
     ]
    },
    {
     "name": "stderr",
     "output_type": "stream",
     "text": [
      "2017-08-11 08:24:28,411 root     DEBUG    Crawling Interpark domastic schedule site\n"
     ]
    },
    {
     "name": "stdout",
     "output_type": "stream",
     "text": [
      "End Simple crawling\n",
      "Start Simple crawling :  http://domair.interpark.com/api/booking/airJourney.do\n",
      ">> Parameters\n",
      "tripDivi:0 , adt:1 , chd:0 , format:json , arr:PUS , inf:0 , airlineCode:BX , dep:GMP , depDate:20170825 , \n"
     ]
    },
    {
     "name": "stderr",
     "output_type": "stream",
     "text": [
      "2017-08-11 08:24:29,695 root     DEBUG    Crawling Interpark domastic schedule site\n"
     ]
    },
    {
     "name": "stdout",
     "output_type": "stream",
     "text": [
      "End Simple crawling\n",
      "Start Simple crawling :  http://domair.interpark.com/api/booking/airJourney.do\n",
      ">> Parameters\n",
      "tripDivi:0 , adt:1 , chd:0 , format:json , arr:PUS , inf:0 , airlineCode:OZ , dep:GMP , depDate:20170825 , \n"
     ]
    },
    {
     "name": "stderr",
     "output_type": "stream",
     "text": [
      "2017-08-11 08:24:30,963 root     DEBUG    Crawling Interpark domastic schedule site\n"
     ]
    },
    {
     "name": "stdout",
     "output_type": "stream",
     "text": [
      "End Simple crawling\n",
      "Start Simple crawling :  http://domair.interpark.com/api/booking/airJourney.do\n",
      ">> Parameters\n",
      "tripDivi:0 , adt:1 , chd:0 , format:json , arr:PUS , inf:0 , airlineCode:ZE , dep:GMP , depDate:20170825 , \n"
     ]
    },
    {
     "name": "stderr",
     "output_type": "stream",
     "text": [
      "2017-08-11 08:24:31,969 root     DEBUG    Crawling Interpark domastic schedule site\n"
     ]
    },
    {
     "name": "stdout",
     "output_type": "stream",
     "text": [
      "End Simple crawling\n",
      "Start Simple crawling :  http://domair.interpark.com/api/booking/airJourney.do\n",
      ">> Parameters\n",
      "tripDivi:0 , adt:1 , chd:0 , format:json , arr:PUS , inf:0 , airlineCode:7C , dep:GMP , depDate:20170826 , \n"
     ]
    },
    {
     "name": "stderr",
     "output_type": "stream",
     "text": [
      "2017-08-11 08:24:33,453 root     DEBUG    Crawling Interpark domastic schedule site\n"
     ]
    },
    {
     "name": "stdout",
     "output_type": "stream",
     "text": [
      "End Simple crawling\n",
      "Start Simple crawling :  http://domair.interpark.com/api/booking/airJourney.do\n",
      ">> Parameters\n",
      "tripDivi:0 , adt:1 , chd:0 , format:json , arr:PUS , inf:0 , airlineCode:BX , dep:GMP , depDate:20170826 , \n"
     ]
    },
    {
     "name": "stderr",
     "output_type": "stream",
     "text": [
      "2017-08-11 08:24:34,820 root     DEBUG    Crawling Interpark domastic schedule site\n"
     ]
    },
    {
     "name": "stdout",
     "output_type": "stream",
     "text": [
      "End Simple crawling\n",
      "Start Simple crawling :  http://domair.interpark.com/api/booking/airJourney.do\n",
      ">> Parameters\n",
      "tripDivi:0 , adt:1 , chd:0 , format:json , arr:PUS , inf:0 , airlineCode:OZ , dep:GMP , depDate:20170826 , \n"
     ]
    },
    {
     "name": "stderr",
     "output_type": "stream",
     "text": [
      "2017-08-11 08:24:54,898 root     DEBUG    Crawling Interpark domastic schedule site\n"
     ]
    },
    {
     "name": "stdout",
     "output_type": "stream",
     "text": [
      "End Simple crawling\n",
      "Start Simple crawling :  http://domair.interpark.com/api/booking/airJourney.do\n",
      ">> Parameters\n",
      "tripDivi:0 , adt:1 , chd:0 , format:json , arr:PUS , inf:0 , airlineCode:ZE , dep:GMP , depDate:20170826 , \n"
     ]
    },
    {
     "name": "stderr",
     "output_type": "stream",
     "text": [
      "2017-08-11 08:24:56,106 root     DEBUG    Crawling Interpark domastic schedule site\n"
     ]
    },
    {
     "name": "stdout",
     "output_type": "stream",
     "text": [
      "End Simple crawling\n",
      "Start Simple crawling :  http://domair.interpark.com/api/booking/airJourney.do\n",
      ">> Parameters\n",
      "tripDivi:0 , adt:1 , chd:0 , format:json , arr:PUS , inf:0 , airlineCode:7C , dep:GMP , depDate:20170827 , \n"
     ]
    },
    {
     "name": "stderr",
     "output_type": "stream",
     "text": [
      "2017-08-11 08:24:57,553 root     DEBUG    Crawling Interpark domastic schedule site\n"
     ]
    },
    {
     "name": "stdout",
     "output_type": "stream",
     "text": [
      "End Simple crawling\n",
      "Start Simple crawling :  http://domair.interpark.com/api/booking/airJourney.do\n",
      ">> Parameters\n",
      "tripDivi:0 , adt:1 , chd:0 , format:json , arr:PUS , inf:0 , airlineCode:BX , dep:GMP , depDate:20170827 , \n"
     ]
    },
    {
     "name": "stderr",
     "output_type": "stream",
     "text": [
      "2017-08-11 08:24:58,941 root     DEBUG    Crawling Interpark domastic schedule site\n"
     ]
    },
    {
     "name": "stdout",
     "output_type": "stream",
     "text": [
      "End Simple crawling\n",
      "Start Simple crawling :  http://domair.interpark.com/api/booking/airJourney.do\n",
      ">> Parameters\n",
      "tripDivi:0 , adt:1 , chd:0 , format:json , arr:PUS , inf:0 , airlineCode:OZ , dep:GMP , depDate:20170827 , \n"
     ]
    },
    {
     "name": "stderr",
     "output_type": "stream",
     "text": [
      "2017-08-11 08:25:00,248 root     DEBUG    Crawling Interpark domastic schedule site\n"
     ]
    },
    {
     "name": "stdout",
     "output_type": "stream",
     "text": [
      "End Simple crawling\n",
      "Start Simple crawling :  http://domair.interpark.com/api/booking/airJourney.do\n",
      ">> Parameters\n",
      "tripDivi:0 , adt:1 , chd:0 , format:json , arr:PUS , inf:0 , airlineCode:ZE , dep:GMP , depDate:20170827 , \n"
     ]
    },
    {
     "name": "stderr",
     "output_type": "stream",
     "text": [
      "2017-08-11 08:25:01,451 root     DEBUG    Crawling Interpark domastic schedule site\n"
     ]
    },
    {
     "name": "stdout",
     "output_type": "stream",
     "text": [
      "End Simple crawling\n",
      "Start Simple crawling :  http://domair.interpark.com/api/booking/airJourney.do\n",
      ">> Parameters\n",
      "tripDivi:0 , adt:1 , chd:0 , format:json , arr:PUS , inf:0 , airlineCode:7C , dep:GMP , depDate:20170828 , \n"
     ]
    },
    {
     "name": "stderr",
     "output_type": "stream",
     "text": [
      "2017-08-11 08:25:02,726 root     DEBUG    Crawling Interpark domastic schedule site\n"
     ]
    },
    {
     "name": "stdout",
     "output_type": "stream",
     "text": [
      "End Simple crawling\n",
      "Start Simple crawling :  http://domair.interpark.com/api/booking/airJourney.do\n",
      ">> Parameters\n",
      "tripDivi:0 , adt:1 , chd:0 , format:json , arr:PUS , inf:0 , airlineCode:BX , dep:GMP , depDate:20170828 , \n"
     ]
    },
    {
     "name": "stderr",
     "output_type": "stream",
     "text": [
      "2017-08-11 08:25:03,822 root     DEBUG    Crawling Interpark domastic schedule site\n"
     ]
    },
    {
     "name": "stdout",
     "output_type": "stream",
     "text": [
      "End Simple crawling\n",
      "Start Simple crawling :  http://domair.interpark.com/api/booking/airJourney.do\n",
      ">> Parameters\n",
      "tripDivi:0 , adt:1 , chd:0 , format:json , arr:PUS , inf:0 , airlineCode:OZ , dep:GMP , depDate:20170828 , \n"
     ]
    },
    {
     "name": "stderr",
     "output_type": "stream",
     "text": [
      "2017-08-11 08:25:05,180 root     DEBUG    Crawling Interpark domastic schedule site\n"
     ]
    },
    {
     "name": "stdout",
     "output_type": "stream",
     "text": [
      "End Simple crawling\n",
      "Start Simple crawling :  http://domair.interpark.com/api/booking/airJourney.do\n",
      ">> Parameters\n",
      "tripDivi:0 , adt:1 , chd:0 , format:json , arr:PUS , inf:0 , airlineCode:ZE , dep:GMP , depDate:20170828 , \n"
     ]
    },
    {
     "name": "stderr",
     "output_type": "stream",
     "text": [
      "2017-08-11 08:25:06,149 root     DEBUG    Crawling Interpark domastic schedule site\n"
     ]
    },
    {
     "name": "stdout",
     "output_type": "stream",
     "text": [
      "End Simple crawling\n",
      "Start Simple crawling :  http://domair.interpark.com/api/booking/airJourney.do\n",
      ">> Parameters\n",
      "tripDivi:0 , adt:1 , chd:0 , format:json , arr:PUS , inf:0 , airlineCode:7C , dep:GMP , depDate:20170829 , \n"
     ]
    },
    {
     "name": "stderr",
     "output_type": "stream",
     "text": [
      "2017-08-11 08:25:07,256 root     DEBUG    Crawling Interpark domastic schedule site\n"
     ]
    },
    {
     "name": "stdout",
     "output_type": "stream",
     "text": [
      "End Simple crawling\n",
      "Start Simple crawling :  http://domair.interpark.com/api/booking/airJourney.do\n",
      ">> Parameters\n",
      "tripDivi:0 , adt:1 , chd:0 , format:json , arr:PUS , inf:0 , airlineCode:BX , dep:GMP , depDate:20170829 , \n"
     ]
    },
    {
     "name": "stderr",
     "output_type": "stream",
     "text": [
      "2017-08-11 08:25:08,340 root     DEBUG    Crawling Interpark domastic schedule site\n"
     ]
    },
    {
     "name": "stdout",
     "output_type": "stream",
     "text": [
      "End Simple crawling\n",
      "Start Simple crawling :  http://domair.interpark.com/api/booking/airJourney.do\n",
      ">> Parameters\n",
      "tripDivi:0 , adt:1 , chd:0 , format:json , arr:PUS , inf:0 , airlineCode:OZ , dep:GMP , depDate:20170829 , \n"
     ]
    },
    {
     "name": "stderr",
     "output_type": "stream",
     "text": [
      "2017-08-11 08:25:09,583 root     DEBUG    Crawling Interpark domastic schedule site\n"
     ]
    },
    {
     "name": "stdout",
     "output_type": "stream",
     "text": [
      "End Simple crawling\n",
      "Start Simple crawling :  http://domair.interpark.com/api/booking/airJourney.do\n",
      ">> Parameters\n",
      "tripDivi:0 , adt:1 , chd:0 , format:json , arr:PUS , inf:0 , airlineCode:ZE , dep:GMP , depDate:20170829 , \n"
     ]
    },
    {
     "name": "stderr",
     "output_type": "stream",
     "text": [
      "2017-08-11 08:25:10,540 root     DEBUG    Crawling Interpark domastic schedule site\n"
     ]
    },
    {
     "name": "stdout",
     "output_type": "stream",
     "text": [
      "End Simple crawling\n",
      "Start Simple crawling :  http://domair.interpark.com/api/booking/airJourney.do\n",
      ">> Parameters\n",
      "tripDivi:0 , adt:1 , chd:0 , format:json , arr:PUS , inf:0 , airlineCode:7C , dep:GMP , depDate:20170830 , \n"
     ]
    },
    {
     "name": "stderr",
     "output_type": "stream",
     "text": [
      "2017-08-11 08:25:11,569 root     DEBUG    Crawling Interpark domastic schedule site\n"
     ]
    },
    {
     "name": "stdout",
     "output_type": "stream",
     "text": [
      "End Simple crawling\n",
      "Start Simple crawling :  http://domair.interpark.com/api/booking/airJourney.do\n",
      ">> Parameters\n",
      "tripDivi:0 , adt:1 , chd:0 , format:json , arr:PUS , inf:0 , airlineCode:BX , dep:GMP , depDate:20170830 , \n"
     ]
    },
    {
     "name": "stderr",
     "output_type": "stream",
     "text": [
      "2017-08-11 08:25:12,685 root     DEBUG    Crawling Interpark domastic schedule site\n"
     ]
    },
    {
     "name": "stdout",
     "output_type": "stream",
     "text": [
      "End Simple crawling\n",
      "Start Simple crawling :  http://domair.interpark.com/api/booking/airJourney.do\n",
      ">> Parameters\n",
      "tripDivi:0 , adt:1 , chd:0 , format:json , arr:PUS , inf:0 , airlineCode:OZ , dep:GMP , depDate:20170830 , \n"
     ]
    },
    {
     "name": "stderr",
     "output_type": "stream",
     "text": [
      "2017-08-11 08:25:13,929 root     DEBUG    Crawling Interpark domastic schedule site\n"
     ]
    },
    {
     "name": "stdout",
     "output_type": "stream",
     "text": [
      "End Simple crawling\n",
      "Start Simple crawling :  http://domair.interpark.com/api/booking/airJourney.do\n",
      ">> Parameters\n",
      "tripDivi:0 , adt:1 , chd:0 , format:json , arr:PUS , inf:0 , airlineCode:ZE , dep:GMP , depDate:20170830 , \n"
     ]
    },
    {
     "name": "stderr",
     "output_type": "stream",
     "text": [
      "2017-08-11 08:25:14,984 root     DEBUG    Crawling Interpark domastic schedule site\n"
     ]
    },
    {
     "name": "stdout",
     "output_type": "stream",
     "text": [
      "End Simple crawling\n",
      "Start Simple crawling :  http://domair.interpark.com/api/booking/airJourney.do\n",
      ">> Parameters\n",
      "tripDivi:0 , adt:1 , chd:0 , format:json , arr:PUS , inf:0 , airlineCode:7C , dep:GMP , depDate:20170831 , \n"
     ]
    },
    {
     "name": "stderr",
     "output_type": "stream",
     "text": [
      "2017-08-11 08:25:15,946 root     DEBUG    Crawling Interpark domastic schedule site\n"
     ]
    },
    {
     "name": "stdout",
     "output_type": "stream",
     "text": [
      "End Simple crawling\n",
      "Start Simple crawling :  http://domair.interpark.com/api/booking/airJourney.do\n",
      ">> Parameters\n",
      "tripDivi:0 , adt:1 , chd:0 , format:json , arr:PUS , inf:0 , airlineCode:BX , dep:GMP , depDate:20170831 , \n"
     ]
    },
    {
     "name": "stderr",
     "output_type": "stream",
     "text": [
      "2017-08-11 08:25:17,256 root     DEBUG    Crawling Interpark domastic schedule site\n"
     ]
    },
    {
     "name": "stdout",
     "output_type": "stream",
     "text": [
      "End Simple crawling\n",
      "Start Simple crawling :  http://domair.interpark.com/api/booking/airJourney.do\n",
      ">> Parameters\n",
      "tripDivi:0 , adt:1 , chd:0 , format:json , arr:PUS , inf:0 , airlineCode:OZ , dep:GMP , depDate:20170831 , \n"
     ]
    },
    {
     "name": "stderr",
     "output_type": "stream",
     "text": [
      "2017-08-11 08:25:18,597 root     DEBUG    Crawling Interpark domastic schedule site\n"
     ]
    },
    {
     "name": "stdout",
     "output_type": "stream",
     "text": [
      "End Simple crawling\n",
      "Start Simple crawling :  http://domair.interpark.com/api/booking/airJourney.do\n",
      ">> Parameters\n",
      "tripDivi:0 , adt:1 , chd:0 , format:json , arr:PUS , inf:0 , airlineCode:ZE , dep:GMP , depDate:20170831 , \n"
     ]
    },
    {
     "name": "stderr",
     "output_type": "stream",
     "text": [
      "2017-08-11 08:25:19,531 root     DEBUG    Crawling Interpark domastic schedule site\n"
     ]
    },
    {
     "name": "stdout",
     "output_type": "stream",
     "text": [
      "End Simple crawling\n",
      "Start Simple crawling :  http://domair.interpark.com/api/booking/airJourney.do\n",
      ">> Parameters\n",
      "tripDivi:0 , adt:1 , chd:0 , format:json , arr:PUS , inf:0 , airlineCode:7C , dep:GMP , depDate:20170901 , \n"
     ]
    },
    {
     "name": "stderr",
     "output_type": "stream",
     "text": [
      "2017-08-11 08:25:21,468 root     DEBUG    Crawling Interpark domastic schedule site\n"
     ]
    },
    {
     "name": "stdout",
     "output_type": "stream",
     "text": [
      "End Simple crawling\n",
      "Start Simple crawling :  http://domair.interpark.com/api/booking/airJourney.do\n",
      ">> Parameters\n",
      "tripDivi:0 , adt:1 , chd:0 , format:json , arr:PUS , inf:0 , airlineCode:BX , dep:GMP , depDate:20170901 , \n"
     ]
    },
    {
     "name": "stderr",
     "output_type": "stream",
     "text": [
      "2017-08-11 08:25:22,568 root     DEBUG    Crawling Interpark domastic schedule site\n"
     ]
    },
    {
     "name": "stdout",
     "output_type": "stream",
     "text": [
      "End Simple crawling\n",
      "Start Simple crawling :  http://domair.interpark.com/api/booking/airJourney.do\n",
      ">> Parameters\n",
      "tripDivi:0 , adt:1 , chd:0 , format:json , arr:PUS , inf:0 , airlineCode:OZ , dep:GMP , depDate:20170901 , \n"
     ]
    },
    {
     "name": "stderr",
     "output_type": "stream",
     "text": [
      "2017-08-11 08:25:42,656 root     DEBUG    Crawling Interpark domastic schedule site\n"
     ]
    },
    {
     "name": "stdout",
     "output_type": "stream",
     "text": [
      "End Simple crawling\n",
      "Start Simple crawling :  http://domair.interpark.com/api/booking/airJourney.do\n",
      ">> Parameters\n",
      "tripDivi:0 , adt:1 , chd:0 , format:json , arr:PUS , inf:0 , airlineCode:ZE , dep:GMP , depDate:20170901 , \n"
     ]
    },
    {
     "name": "stderr",
     "output_type": "stream",
     "text": [
      "2017-08-11 08:25:43,607 root     INFO     end batch job :: craw_by_route_site :: elapsed -0:02:45.677476 :: Total crawl:84 files saved.\n",
      "2017-08-11 08:25:43,610 root     INFO     start batch job :: craw_by_route_site[PUS,GMP,IP,['20170812', '20170813', '20170814', '20170815', '20170816', '20170817', '20170818', '20170819', '20170820', '20170821', '20170822', '20170823', '20170824', '20170825', '20170826', '20170827', '20170828', '20170829', '20170830', '20170831', '20170901'],['7C', 'BX', 'OZ', 'ZE']]\n",
      "2017-08-11 08:25:43,612 root     DEBUG    0 :: IP :: crawling_IP_dom :: False\n",
      "2017-08-11 08:25:43,616 root     INFO     <function crawling_IP_dom at 0x0000000007C78378> :: False\n",
      "2017-08-11 08:25:43,619 root     DEBUG    Crawling Interpark domastic schedule site\n"
     ]
    },
    {
     "name": "stdout",
     "output_type": "stream",
     "text": [
      "End Simple crawling\n",
      "Start Simple crawling :  http://domair.interpark.com/api/booking/airJourney.do\n",
      ">> Parameters\n",
      "tripDivi:0 , adt:1 , chd:0 , format:json , arr:GMP , inf:0 , airlineCode:7C , dep:PUS , depDate:20170812 , \n"
     ]
    },
    {
     "name": "stderr",
     "output_type": "stream",
     "text": [
      "2017-08-11 08:25:44,787 root     DEBUG    Crawling Interpark domastic schedule site\n"
     ]
    },
    {
     "name": "stdout",
     "output_type": "stream",
     "text": [
      "End Simple crawling\n",
      "Start Simple crawling :  http://domair.interpark.com/api/booking/airJourney.do\n",
      ">> Parameters\n",
      "tripDivi:0 , adt:1 , chd:0 , format:json , arr:GMP , inf:0 , airlineCode:BX , dep:PUS , depDate:20170812 , \n"
     ]
    },
    {
     "name": "stderr",
     "output_type": "stream",
     "text": [
      "2017-08-11 08:25:46,245 root     DEBUG    Crawling Interpark domastic schedule site\n"
     ]
    },
    {
     "name": "stdout",
     "output_type": "stream",
     "text": [
      "End Simple crawling\n",
      "Start Simple crawling :  http://domair.interpark.com/api/booking/airJourney.do\n",
      ">> Parameters\n",
      "tripDivi:0 , adt:1 , chd:0 , format:json , arr:GMP , inf:0 , airlineCode:OZ , dep:PUS , depDate:20170812 , \n"
     ]
    },
    {
     "name": "stderr",
     "output_type": "stream",
     "text": [
      "2017-08-11 08:25:47,695 root     DEBUG    Crawling Interpark domastic schedule site\n"
     ]
    },
    {
     "name": "stdout",
     "output_type": "stream",
     "text": [
      "End Simple crawling\n",
      "Start Simple crawling :  http://domair.interpark.com/api/booking/airJourney.do\n",
      ">> Parameters\n",
      "tripDivi:0 , adt:1 , chd:0 , format:json , arr:GMP , inf:0 , airlineCode:ZE , dep:PUS , depDate:20170812 , \n"
     ]
    },
    {
     "name": "stderr",
     "output_type": "stream",
     "text": [
      "2017-08-11 08:25:48,743 root     DEBUG    Crawling Interpark domastic schedule site\n"
     ]
    },
    {
     "name": "stdout",
     "output_type": "stream",
     "text": [
      "End Simple crawling\n",
      "Start Simple crawling :  http://domair.interpark.com/api/booking/airJourney.do\n",
      ">> Parameters\n",
      "tripDivi:0 , adt:1 , chd:0 , format:json , arr:GMP , inf:0 , airlineCode:7C , dep:PUS , depDate:20170813 , \n"
     ]
    },
    {
     "name": "stderr",
     "output_type": "stream",
     "text": [
      "2017-08-11 08:25:49,892 root     DEBUG    Crawling Interpark domastic schedule site\n"
     ]
    },
    {
     "name": "stdout",
     "output_type": "stream",
     "text": [
      "End Simple crawling\n",
      "Start Simple crawling :  http://domair.interpark.com/api/booking/airJourney.do\n",
      ">> Parameters\n",
      "tripDivi:0 , adt:1 , chd:0 , format:json , arr:GMP , inf:0 , airlineCode:BX , dep:PUS , depDate:20170813 , \n"
     ]
    },
    {
     "name": "stderr",
     "output_type": "stream",
     "text": [
      "2017-08-11 08:25:51,185 root     DEBUG    Crawling Interpark domastic schedule site\n"
     ]
    },
    {
     "name": "stdout",
     "output_type": "stream",
     "text": [
      "End Simple crawling\n",
      "Start Simple crawling :  http://domair.interpark.com/api/booking/airJourney.do\n",
      ">> Parameters\n",
      "tripDivi:0 , adt:1 , chd:0 , format:json , arr:GMP , inf:0 , airlineCode:OZ , dep:PUS , depDate:20170813 , \n"
     ]
    },
    {
     "name": "stderr",
     "output_type": "stream",
     "text": [
      "2017-08-11 08:25:52,648 root     DEBUG    Crawling Interpark domastic schedule site\n"
     ]
    },
    {
     "name": "stdout",
     "output_type": "stream",
     "text": [
      "End Simple crawling\n",
      "Start Simple crawling :  http://domair.interpark.com/api/booking/airJourney.do\n",
      ">> Parameters\n",
      "tripDivi:0 , adt:1 , chd:0 , format:json , arr:GMP , inf:0 , airlineCode:ZE , dep:PUS , depDate:20170813 , \n"
     ]
    },
    {
     "name": "stderr",
     "output_type": "stream",
     "text": [
      "2017-08-11 08:25:53,836 root     DEBUG    Crawling Interpark domastic schedule site\n"
     ]
    },
    {
     "name": "stdout",
     "output_type": "stream",
     "text": [
      "End Simple crawling\n",
      "Start Simple crawling :  http://domair.interpark.com/api/booking/airJourney.do\n",
      ">> Parameters\n",
      "tripDivi:0 , adt:1 , chd:0 , format:json , arr:GMP , inf:0 , airlineCode:7C , dep:PUS , depDate:20170814 , \n"
     ]
    },
    {
     "name": "stderr",
     "output_type": "stream",
     "text": [
      "2017-08-11 08:25:55,264 root     DEBUG    Crawling Interpark domastic schedule site\n"
     ]
    },
    {
     "name": "stdout",
     "output_type": "stream",
     "text": [
      "End Simple crawling\n",
      "Start Simple crawling :  http://domair.interpark.com/api/booking/airJourney.do\n",
      ">> Parameters\n",
      "tripDivi:0 , adt:1 , chd:0 , format:json , arr:GMP , inf:0 , airlineCode:BX , dep:PUS , depDate:20170814 , \n"
     ]
    },
    {
     "name": "stderr",
     "output_type": "stream",
     "text": [
      "2017-08-11 08:25:56,714 root     DEBUG    Crawling Interpark domastic schedule site\n"
     ]
    },
    {
     "name": "stdout",
     "output_type": "stream",
     "text": [
      "End Simple crawling\n",
      "Start Simple crawling :  http://domair.interpark.com/api/booking/airJourney.do\n",
      ">> Parameters\n",
      "tripDivi:0 , adt:1 , chd:0 , format:json , arr:GMP , inf:0 , airlineCode:OZ , dep:PUS , depDate:20170814 , \n"
     ]
    },
    {
     "name": "stderr",
     "output_type": "stream",
     "text": [
      "2017-08-11 08:25:58,216 root     DEBUG    Crawling Interpark domastic schedule site\n"
     ]
    },
    {
     "name": "stdout",
     "output_type": "stream",
     "text": [
      "End Simple crawling\n",
      "Start Simple crawling :  http://domair.interpark.com/api/booking/airJourney.do\n",
      ">> Parameters\n",
      "tripDivi:0 , adt:1 , chd:0 , format:json , arr:GMP , inf:0 , airlineCode:ZE , dep:PUS , depDate:20170814 , \n"
     ]
    },
    {
     "name": "stderr",
     "output_type": "stream",
     "text": [
      "2017-08-11 08:25:59,163 root     DEBUG    Crawling Interpark domastic schedule site\n"
     ]
    },
    {
     "name": "stdout",
     "output_type": "stream",
     "text": [
      "End Simple crawling\n",
      "Start Simple crawling :  http://domair.interpark.com/api/booking/airJourney.do\n",
      ">> Parameters\n",
      "tripDivi:0 , adt:1 , chd:0 , format:json , arr:GMP , inf:0 , airlineCode:7C , dep:PUS , depDate:20170815 , \n"
     ]
    },
    {
     "name": "stderr",
     "output_type": "stream",
     "text": [
      "2017-08-11 08:26:00,468 root     DEBUG    Crawling Interpark domastic schedule site\n"
     ]
    },
    {
     "name": "stdout",
     "output_type": "stream",
     "text": [
      "End Simple crawling\n",
      "Start Simple crawling :  http://domair.interpark.com/api/booking/airJourney.do\n",
      ">> Parameters\n",
      "tripDivi:0 , adt:1 , chd:0 , format:json , arr:GMP , inf:0 , airlineCode:BX , dep:PUS , depDate:20170815 , \n"
     ]
    },
    {
     "name": "stderr",
     "output_type": "stream",
     "text": [
      "2017-08-11 08:26:01,710 root     DEBUG    Crawling Interpark domastic schedule site\n"
     ]
    },
    {
     "name": "stdout",
     "output_type": "stream",
     "text": [
      "End Simple crawling\n",
      "Start Simple crawling :  http://domair.interpark.com/api/booking/airJourney.do\n",
      ">> Parameters\n",
      "tripDivi:0 , adt:1 , chd:0 , format:json , arr:GMP , inf:0 , airlineCode:OZ , dep:PUS , depDate:20170815 , \n"
     ]
    },
    {
     "name": "stderr",
     "output_type": "stream",
     "text": [
      "2017-08-11 08:26:02,978 root     DEBUG    Crawling Interpark domastic schedule site\n"
     ]
    },
    {
     "name": "stdout",
     "output_type": "stream",
     "text": [
      "End Simple crawling\n",
      "Start Simple crawling :  http://domair.interpark.com/api/booking/airJourney.do\n",
      ">> Parameters\n",
      "tripDivi:0 , adt:1 , chd:0 , format:json , arr:GMP , inf:0 , airlineCode:ZE , dep:PUS , depDate:20170815 , \n"
     ]
    },
    {
     "name": "stderr",
     "output_type": "stream",
     "text": [
      "2017-08-11 08:26:03,982 root     DEBUG    Crawling Interpark domastic schedule site\n"
     ]
    },
    {
     "name": "stdout",
     "output_type": "stream",
     "text": [
      "End Simple crawling\n",
      "Start Simple crawling :  http://domair.interpark.com/api/booking/airJourney.do\n",
      ">> Parameters\n",
      "tripDivi:0 , adt:1 , chd:0 , format:json , arr:GMP , inf:0 , airlineCode:7C , dep:PUS , depDate:20170816 , \n"
     ]
    },
    {
     "name": "stderr",
     "output_type": "stream",
     "text": [
      "2017-08-11 08:26:05,316 root     DEBUG    Crawling Interpark domastic schedule site\n"
     ]
    },
    {
     "name": "stdout",
     "output_type": "stream",
     "text": [
      "End Simple crawling\n",
      "Start Simple crawling :  http://domair.interpark.com/api/booking/airJourney.do\n",
      ">> Parameters\n",
      "tripDivi:0 , adt:1 , chd:0 , format:json , arr:GMP , inf:0 , airlineCode:BX , dep:PUS , depDate:20170816 , \n"
     ]
    },
    {
     "name": "stderr",
     "output_type": "stream",
     "text": [
      "2017-08-11 08:26:06,799 root     DEBUG    Crawling Interpark domastic schedule site\n"
     ]
    },
    {
     "name": "stdout",
     "output_type": "stream",
     "text": [
      "End Simple crawling\n",
      "Start Simple crawling :  http://domair.interpark.com/api/booking/airJourney.do\n",
      ">> Parameters\n",
      "tripDivi:0 , adt:1 , chd:0 , format:json , arr:GMP , inf:0 , airlineCode:OZ , dep:PUS , depDate:20170816 , \n"
     ]
    },
    {
     "name": "stderr",
     "output_type": "stream",
     "text": [
      "2017-08-11 08:26:08,044 root     DEBUG    Crawling Interpark domastic schedule site\n"
     ]
    },
    {
     "name": "stdout",
     "output_type": "stream",
     "text": [
      "End Simple crawling\n",
      "Start Simple crawling :  http://domair.interpark.com/api/booking/airJourney.do\n",
      ">> Parameters\n",
      "tripDivi:0 , adt:1 , chd:0 , format:json , arr:GMP , inf:0 , airlineCode:ZE , dep:PUS , depDate:20170816 , \n"
     ]
    },
    {
     "name": "stderr",
     "output_type": "stream",
     "text": [
      "2017-08-11 08:26:08,981 root     DEBUG    Crawling Interpark domastic schedule site\n"
     ]
    },
    {
     "name": "stdout",
     "output_type": "stream",
     "text": [
      "End Simple crawling\n",
      "Start Simple crawling :  http://domair.interpark.com/api/booking/airJourney.do\n",
      ">> Parameters\n",
      "tripDivi:0 , adt:1 , chd:0 , format:json , arr:GMP , inf:0 , airlineCode:7C , dep:PUS , depDate:20170817 , \n"
     ]
    },
    {
     "name": "stderr",
     "output_type": "stream",
     "text": [
      "2017-08-11 08:26:09,951 root     DEBUG    Crawling Interpark domastic schedule site\n"
     ]
    },
    {
     "name": "stdout",
     "output_type": "stream",
     "text": [
      "End Simple crawling\n",
      "Start Simple crawling :  http://domair.interpark.com/api/booking/airJourney.do\n",
      ">> Parameters\n",
      "tripDivi:0 , adt:1 , chd:0 , format:json , arr:GMP , inf:0 , airlineCode:BX , dep:PUS , depDate:20170817 , \n"
     ]
    },
    {
     "name": "stderr",
     "output_type": "stream",
     "text": [
      "2017-08-11 08:26:10,181 root     DEBUG    Crawling Interpark domastic schedule site\n"
     ]
    },
    {
     "name": "stdout",
     "output_type": "stream",
     "text": [
      "End Simple crawling\n",
      "Start Simple crawling :  http://domair.interpark.com/api/booking/airJourney.do\n",
      ">> Parameters\n",
      "tripDivi:0 , adt:1 , chd:0 , format:json , arr:GMP , inf:0 , airlineCode:OZ , dep:PUS , depDate:20170817 , \n"
     ]
    },
    {
     "name": "stderr",
     "output_type": "stream",
     "text": [
      "2017-08-11 08:26:11,461 root     DEBUG    Crawling Interpark domastic schedule site\n"
     ]
    },
    {
     "name": "stdout",
     "output_type": "stream",
     "text": [
      "End Simple crawling\n",
      "Start Simple crawling :  http://domair.interpark.com/api/booking/airJourney.do\n",
      ">> Parameters\n",
      "tripDivi:0 , adt:1 , chd:0 , format:json , arr:GMP , inf:0 , airlineCode:ZE , dep:PUS , depDate:20170817 , \n"
     ]
    },
    {
     "name": "stderr",
     "output_type": "stream",
     "text": [
      "2017-08-11 08:26:12,410 root     DEBUG    Crawling Interpark domastic schedule site\n"
     ]
    },
    {
     "name": "stdout",
     "output_type": "stream",
     "text": [
      "End Simple crawling\n",
      "Start Simple crawling :  http://domair.interpark.com/api/booking/airJourney.do\n",
      ">> Parameters\n",
      "tripDivi:0 , adt:1 , chd:0 , format:json , arr:GMP , inf:0 , airlineCode:7C , dep:PUS , depDate:20170818 , \n"
     ]
    },
    {
     "name": "stderr",
     "output_type": "stream",
     "text": [
      "2017-08-11 08:26:13,750 root     DEBUG    Crawling Interpark domastic schedule site\n"
     ]
    },
    {
     "name": "stdout",
     "output_type": "stream",
     "text": [
      "End Simple crawling\n",
      "Start Simple crawling :  http://domair.interpark.com/api/booking/airJourney.do\n",
      ">> Parameters\n",
      "tripDivi:0 , adt:1 , chd:0 , format:json , arr:GMP , inf:0 , airlineCode:BX , dep:PUS , depDate:20170818 , \n"
     ]
    },
    {
     "name": "stderr",
     "output_type": "stream",
     "text": [
      "2017-08-11 08:26:15,373 root     DEBUG    Crawling Interpark domastic schedule site\n"
     ]
    },
    {
     "name": "stdout",
     "output_type": "stream",
     "text": [
      "End Simple crawling\n",
      "Start Simple crawling :  http://domair.interpark.com/api/booking/airJourney.do\n",
      ">> Parameters\n",
      "tripDivi:0 , adt:1 , chd:0 , format:json , arr:GMP , inf:0 , airlineCode:OZ , dep:PUS , depDate:20170818 , \n"
     ]
    },
    {
     "name": "stderr",
     "output_type": "stream",
     "text": [
      "2017-08-11 08:26:16,955 root     DEBUG    Crawling Interpark domastic schedule site\n"
     ]
    },
    {
     "name": "stdout",
     "output_type": "stream",
     "text": [
      "End Simple crawling\n",
      "Start Simple crawling :  http://domair.interpark.com/api/booking/airJourney.do\n",
      ">> Parameters\n",
      "tripDivi:0 , adt:1 , chd:0 , format:json , arr:GMP , inf:0 , airlineCode:ZE , dep:PUS , depDate:20170818 , \n"
     ]
    },
    {
     "name": "stderr",
     "output_type": "stream",
     "text": [
      "2017-08-11 08:26:17,880 root     DEBUG    Crawling Interpark domastic schedule site\n"
     ]
    },
    {
     "name": "stdout",
     "output_type": "stream",
     "text": [
      "End Simple crawling\n",
      "Start Simple crawling :  http://domair.interpark.com/api/booking/airJourney.do\n",
      ">> Parameters\n",
      "tripDivi:0 , adt:1 , chd:0 , format:json , arr:GMP , inf:0 , airlineCode:7C , dep:PUS , depDate:20170819 , \n"
     ]
    },
    {
     "name": "stderr",
     "output_type": "stream",
     "text": [
      "2017-08-11 08:26:19,268 root     DEBUG    Crawling Interpark domastic schedule site\n"
     ]
    },
    {
     "name": "stdout",
     "output_type": "stream",
     "text": [
      "End Simple crawling\n",
      "Start Simple crawling :  http://domair.interpark.com/api/booking/airJourney.do\n",
      ">> Parameters\n",
      "tripDivi:0 , adt:1 , chd:0 , format:json , arr:GMP , inf:0 , airlineCode:BX , dep:PUS , depDate:20170819 , \n"
     ]
    },
    {
     "name": "stderr",
     "output_type": "stream",
     "text": [
      "2017-08-11 08:26:20,544 root     DEBUG    Crawling Interpark domastic schedule site\n"
     ]
    },
    {
     "name": "stdout",
     "output_type": "stream",
     "text": [
      "End Simple crawling\n",
      "Start Simple crawling :  http://domair.interpark.com/api/booking/airJourney.do\n",
      ">> Parameters\n",
      "tripDivi:0 , adt:1 , chd:0 , format:json , arr:GMP , inf:0 , airlineCode:OZ , dep:PUS , depDate:20170819 , \n"
     ]
    },
    {
     "name": "stderr",
     "output_type": "stream",
     "text": [
      "2017-08-11 08:26:21,999 root     DEBUG    Crawling Interpark domastic schedule site\n"
     ]
    },
    {
     "name": "stdout",
     "output_type": "stream",
     "text": [
      "End Simple crawling\n",
      "Start Simple crawling :  http://domair.interpark.com/api/booking/airJourney.do\n",
      ">> Parameters\n",
      "tripDivi:0 , adt:1 , chd:0 , format:json , arr:GMP , inf:0 , airlineCode:ZE , dep:PUS , depDate:20170819 , \n"
     ]
    },
    {
     "name": "stderr",
     "output_type": "stream",
     "text": [
      "2017-08-11 08:26:23,156 root     DEBUG    Crawling Interpark domastic schedule site\n"
     ]
    },
    {
     "name": "stdout",
     "output_type": "stream",
     "text": [
      "End Simple crawling\n",
      "Start Simple crawling :  http://domair.interpark.com/api/booking/airJourney.do\n",
      ">> Parameters\n",
      "tripDivi:0 , adt:1 , chd:0 , format:json , arr:GMP , inf:0 , airlineCode:7C , dep:PUS , depDate:20170820 , \n"
     ]
    },
    {
     "name": "stderr",
     "output_type": "stream",
     "text": [
      "2017-08-11 08:26:26,562 root     DEBUG    Crawling Interpark domastic schedule site\n"
     ]
    },
    {
     "name": "stdout",
     "output_type": "stream",
     "text": [
      "End Simple crawling\n",
      "Start Simple crawling :  http://domair.interpark.com/api/booking/airJourney.do\n",
      ">> Parameters\n",
      "tripDivi:0 , adt:1 , chd:0 , format:json , arr:GMP , inf:0 , airlineCode:BX , dep:PUS , depDate:20170820 , \n"
     ]
    },
    {
     "name": "stderr",
     "output_type": "stream",
     "text": [
      "2017-08-11 08:26:27,878 root     DEBUG    Crawling Interpark domastic schedule site\n"
     ]
    },
    {
     "name": "stdout",
     "output_type": "stream",
     "text": [
      "End Simple crawling\n",
      "Start Simple crawling :  http://domair.interpark.com/api/booking/airJourney.do\n",
      ">> Parameters\n",
      "tripDivi:0 , adt:1 , chd:0 , format:json , arr:GMP , inf:0 , airlineCode:OZ , dep:PUS , depDate:20170820 , \n"
     ]
    },
    {
     "name": "stderr",
     "output_type": "stream",
     "text": [
      "2017-08-11 08:26:29,147 root     DEBUG    Crawling Interpark domastic schedule site\n"
     ]
    },
    {
     "name": "stdout",
     "output_type": "stream",
     "text": [
      "End Simple crawling\n",
      "Start Simple crawling :  http://domair.interpark.com/api/booking/airJourney.do\n",
      ">> Parameters\n",
      "tripDivi:0 , adt:1 , chd:0 , format:json , arr:GMP , inf:0 , airlineCode:ZE , dep:PUS , depDate:20170820 , \n"
     ]
    },
    {
     "name": "stderr",
     "output_type": "stream",
     "text": [
      "2017-08-11 08:26:30,328 root     DEBUG    Crawling Interpark domastic schedule site\n"
     ]
    },
    {
     "name": "stdout",
     "output_type": "stream",
     "text": [
      "End Simple crawling\n",
      "Start Simple crawling :  http://domair.interpark.com/api/booking/airJourney.do\n",
      ">> Parameters\n",
      "tripDivi:0 , adt:1 , chd:0 , format:json , arr:GMP , inf:0 , airlineCode:7C , dep:PUS , depDate:20170821 , \n"
     ]
    },
    {
     "name": "stderr",
     "output_type": "stream",
     "text": [
      "2017-08-11 08:26:31,673 root     DEBUG    Crawling Interpark domastic schedule site\n"
     ]
    },
    {
     "name": "stdout",
     "output_type": "stream",
     "text": [
      "End Simple crawling\n",
      "Start Simple crawling :  http://domair.interpark.com/api/booking/airJourney.do\n",
      ">> Parameters\n",
      "tripDivi:0 , adt:1 , chd:0 , format:json , arr:GMP , inf:0 , airlineCode:BX , dep:PUS , depDate:20170821 , \n"
     ]
    },
    {
     "name": "stderr",
     "output_type": "stream",
     "text": [
      "2017-08-11 08:26:33,052 root     DEBUG    Crawling Interpark domastic schedule site\n"
     ]
    },
    {
     "name": "stdout",
     "output_type": "stream",
     "text": [
      "End Simple crawling\n",
      "Start Simple crawling :  http://domair.interpark.com/api/booking/airJourney.do\n",
      ">> Parameters\n",
      "tripDivi:0 , adt:1 , chd:0 , format:json , arr:GMP , inf:0 , airlineCode:OZ , dep:PUS , depDate:20170821 , \n"
     ]
    },
    {
     "name": "stderr",
     "output_type": "stream",
     "text": [
      "2017-08-11 08:26:34,585 root     DEBUG    Crawling Interpark domastic schedule site\n"
     ]
    },
    {
     "name": "stdout",
     "output_type": "stream",
     "text": [
      "End Simple crawling\n",
      "Start Simple crawling :  http://domair.interpark.com/api/booking/airJourney.do\n",
      ">> Parameters\n",
      "tripDivi:0 , adt:1 , chd:0 , format:json , arr:GMP , inf:0 , airlineCode:ZE , dep:PUS , depDate:20170821 , \n"
     ]
    },
    {
     "name": "stderr",
     "output_type": "stream",
     "text": [
      "2017-08-11 08:26:35,509 root     DEBUG    Crawling Interpark domastic schedule site\n"
     ]
    },
    {
     "name": "stdout",
     "output_type": "stream",
     "text": [
      "End Simple crawling\n",
      "Start Simple crawling :  http://domair.interpark.com/api/booking/airJourney.do\n",
      ">> Parameters\n",
      "tripDivi:0 , adt:1 , chd:0 , format:json , arr:GMP , inf:0 , airlineCode:7C , dep:PUS , depDate:20170822 , \n"
     ]
    },
    {
     "name": "stderr",
     "output_type": "stream",
     "text": [
      "2017-08-11 08:26:39,904 root     DEBUG    Crawling Interpark domastic schedule site\n"
     ]
    },
    {
     "name": "stdout",
     "output_type": "stream",
     "text": [
      "End Simple crawling\n",
      "Start Simple crawling :  http://domair.interpark.com/api/booking/airJourney.do\n",
      ">> Parameters\n",
      "tripDivi:0 , adt:1 , chd:0 , format:json , arr:GMP , inf:0 , airlineCode:BX , dep:PUS , depDate:20170822 , \n"
     ]
    },
    {
     "name": "stderr",
     "output_type": "stream",
     "text": [
      "2017-08-11 08:26:41,191 root     DEBUG    Crawling Interpark domastic schedule site\n"
     ]
    },
    {
     "name": "stdout",
     "output_type": "stream",
     "text": [
      "End Simple crawling\n",
      "Start Simple crawling :  http://domair.interpark.com/api/booking/airJourney.do\n",
      ">> Parameters\n",
      "tripDivi:0 , adt:1 , chd:0 , format:json , arr:GMP , inf:0 , airlineCode:OZ , dep:PUS , depDate:20170822 , \n"
     ]
    },
    {
     "name": "stderr",
     "output_type": "stream",
     "text": [
      "2017-08-11 08:26:42,490 root     DEBUG    Crawling Interpark domastic schedule site\n"
     ]
    },
    {
     "name": "stdout",
     "output_type": "stream",
     "text": [
      "End Simple crawling\n",
      "Start Simple crawling :  http://domair.interpark.com/api/booking/airJourney.do\n",
      ">> Parameters\n",
      "tripDivi:0 , adt:1 , chd:0 , format:json , arr:GMP , inf:0 , airlineCode:ZE , dep:PUS , depDate:20170822 , \n"
     ]
    },
    {
     "name": "stderr",
     "output_type": "stream",
     "text": [
      "2017-08-11 08:26:43,420 root     DEBUG    Crawling Interpark domastic schedule site\n"
     ]
    },
    {
     "name": "stdout",
     "output_type": "stream",
     "text": [
      "End Simple crawling\n",
      "Start Simple crawling :  http://domair.interpark.com/api/booking/airJourney.do\n",
      ">> Parameters\n",
      "tripDivi:0 , adt:1 , chd:0 , format:json , arr:GMP , inf:0 , airlineCode:7C , dep:PUS , depDate:20170823 , \n"
     ]
    },
    {
     "name": "stderr",
     "output_type": "stream",
     "text": [
      "2017-08-11 08:26:44,890 root     DEBUG    Crawling Interpark domastic schedule site\n"
     ]
    },
    {
     "name": "stdout",
     "output_type": "stream",
     "text": [
      "End Simple crawling\n",
      "Start Simple crawling :  http://domair.interpark.com/api/booking/airJourney.do\n",
      ">> Parameters\n",
      "tripDivi:0 , adt:1 , chd:0 , format:json , arr:GMP , inf:0 , airlineCode:BX , dep:PUS , depDate:20170823 , \n"
     ]
    },
    {
     "name": "stderr",
     "output_type": "stream",
     "text": [
      "2017-08-11 08:26:46,144 root     DEBUG    Crawling Interpark domastic schedule site\n"
     ]
    },
    {
     "name": "stdout",
     "output_type": "stream",
     "text": [
      "End Simple crawling\n",
      "Start Simple crawling :  http://domair.interpark.com/api/booking/airJourney.do\n",
      ">> Parameters\n",
      "tripDivi:0 , adt:1 , chd:0 , format:json , arr:GMP , inf:0 , airlineCode:OZ , dep:PUS , depDate:20170823 , \n"
     ]
    },
    {
     "name": "stderr",
     "output_type": "stream",
     "text": [
      "2017-08-11 08:26:47,458 root     DEBUG    Crawling Interpark domastic schedule site\n"
     ]
    },
    {
     "name": "stdout",
     "output_type": "stream",
     "text": [
      "End Simple crawling\n",
      "Start Simple crawling :  http://domair.interpark.com/api/booking/airJourney.do\n",
      ">> Parameters\n",
      "tripDivi:0 , adt:1 , chd:0 , format:json , arr:GMP , inf:0 , airlineCode:ZE , dep:PUS , depDate:20170823 , \n"
     ]
    },
    {
     "name": "stderr",
     "output_type": "stream",
     "text": [
      "2017-08-11 08:26:48,410 root     DEBUG    Crawling Interpark domastic schedule site\n"
     ]
    },
    {
     "name": "stdout",
     "output_type": "stream",
     "text": [
      "End Simple crawling\n",
      "Start Simple crawling :  http://domair.interpark.com/api/booking/airJourney.do\n",
      ">> Parameters\n",
      "tripDivi:0 , adt:1 , chd:0 , format:json , arr:GMP , inf:0 , airlineCode:7C , dep:PUS , depDate:20170824 , \n"
     ]
    },
    {
     "name": "stderr",
     "output_type": "stream",
     "text": [
      "2017-08-11 08:26:49,352 root     DEBUG    Crawling Interpark domastic schedule site\n"
     ]
    },
    {
     "name": "stdout",
     "output_type": "stream",
     "text": [
      "End Simple crawling\n",
      "Start Simple crawling :  http://domair.interpark.com/api/booking/airJourney.do\n",
      ">> Parameters\n",
      "tripDivi:0 , adt:1 , chd:0 , format:json , arr:GMP , inf:0 , airlineCode:BX , dep:PUS , depDate:20170824 , \n"
     ]
    },
    {
     "name": "stderr",
     "output_type": "stream",
     "text": [
      "2017-08-11 08:26:50,505 root     DEBUG    Crawling Interpark domastic schedule site\n"
     ]
    },
    {
     "name": "stdout",
     "output_type": "stream",
     "text": [
      "End Simple crawling\n",
      "Start Simple crawling :  http://domair.interpark.com/api/booking/airJourney.do\n",
      ">> Parameters\n",
      "tripDivi:0 , adt:1 , chd:0 , format:json , arr:GMP , inf:0 , airlineCode:OZ , dep:PUS , depDate:20170824 , \n"
     ]
    },
    {
     "name": "stderr",
     "output_type": "stream",
     "text": [
      "2017-08-11 08:26:51,724 root     DEBUG    Crawling Interpark domastic schedule site\n"
     ]
    },
    {
     "name": "stdout",
     "output_type": "stream",
     "text": [
      "End Simple crawling\n",
      "Start Simple crawling :  http://domair.interpark.com/api/booking/airJourney.do\n",
      ">> Parameters\n",
      "tripDivi:0 , adt:1 , chd:0 , format:json , arr:GMP , inf:0 , airlineCode:ZE , dep:PUS , depDate:20170824 , \n"
     ]
    },
    {
     "name": "stderr",
     "output_type": "stream",
     "text": [
      "2017-08-11 08:26:52,665 root     DEBUG    Crawling Interpark domastic schedule site\n"
     ]
    },
    {
     "name": "stdout",
     "output_type": "stream",
     "text": [
      "End Simple crawling\n",
      "Start Simple crawling :  http://domair.interpark.com/api/booking/airJourney.do\n",
      ">> Parameters\n",
      "tripDivi:0 , adt:1 , chd:0 , format:json , arr:GMP , inf:0 , airlineCode:7C , dep:PUS , depDate:20170825 , \n"
     ]
    },
    {
     "name": "stderr",
     "output_type": "stream",
     "text": [
      "2017-08-11 08:26:53,993 root     DEBUG    Crawling Interpark domastic schedule site\n"
     ]
    },
    {
     "name": "stdout",
     "output_type": "stream",
     "text": [
      "End Simple crawling\n",
      "Start Simple crawling :  http://domair.interpark.com/api/booking/airJourney.do\n",
      ">> Parameters\n",
      "tripDivi:0 , adt:1 , chd:0 , format:json , arr:GMP , inf:0 , airlineCode:BX , dep:PUS , depDate:20170825 , \n"
     ]
    },
    {
     "name": "stderr",
     "output_type": "stream",
     "text": [
      "2017-08-11 08:26:55,298 root     DEBUG    Crawling Interpark domastic schedule site\n"
     ]
    },
    {
     "name": "stdout",
     "output_type": "stream",
     "text": [
      "End Simple crawling\n",
      "Start Simple crawling :  http://domair.interpark.com/api/booking/airJourney.do\n",
      ">> Parameters\n",
      "tripDivi:0 , adt:1 , chd:0 , format:json , arr:GMP , inf:0 , airlineCode:OZ , dep:PUS , depDate:20170825 , \n"
     ]
    },
    {
     "name": "stderr",
     "output_type": "stream",
     "text": [
      "2017-08-11 08:26:56,554 root     DEBUG    Crawling Interpark domastic schedule site\n"
     ]
    },
    {
     "name": "stdout",
     "output_type": "stream",
     "text": [
      "End Simple crawling\n",
      "Start Simple crawling :  http://domair.interpark.com/api/booking/airJourney.do\n",
      ">> Parameters\n",
      "tripDivi:0 , adt:1 , chd:0 , format:json , arr:GMP , inf:0 , airlineCode:ZE , dep:PUS , depDate:20170825 , \n"
     ]
    },
    {
     "name": "stderr",
     "output_type": "stream",
     "text": [
      "2017-08-11 08:26:57,497 root     DEBUG    Crawling Interpark domastic schedule site\n"
     ]
    },
    {
     "name": "stdout",
     "output_type": "stream",
     "text": [
      "End Simple crawling\n",
      "Start Simple crawling :  http://domair.interpark.com/api/booking/airJourney.do\n",
      ">> Parameters\n",
      "tripDivi:0 , adt:1 , chd:0 , format:json , arr:GMP , inf:0 , airlineCode:7C , dep:PUS , depDate:20170826 , \n"
     ]
    },
    {
     "name": "stderr",
     "output_type": "stream",
     "text": [
      "2017-08-11 08:26:58,801 root     DEBUG    Crawling Interpark domastic schedule site\n"
     ]
    },
    {
     "name": "stdout",
     "output_type": "stream",
     "text": [
      "End Simple crawling\n",
      "Start Simple crawling :  http://domair.interpark.com/api/booking/airJourney.do\n",
      ">> Parameters\n",
      "tripDivi:0 , adt:1 , chd:0 , format:json , arr:GMP , inf:0 , airlineCode:BX , dep:PUS , depDate:20170826 , \n"
     ]
    },
    {
     "name": "stderr",
     "output_type": "stream",
     "text": [
      "2017-08-11 08:27:00,051 root     DEBUG    Crawling Interpark domastic schedule site\n"
     ]
    },
    {
     "name": "stdout",
     "output_type": "stream",
     "text": [
      "End Simple crawling\n",
      "Start Simple crawling :  http://domair.interpark.com/api/booking/airJourney.do\n",
      ">> Parameters\n",
      "tripDivi:0 , adt:1 , chd:0 , format:json , arr:GMP , inf:0 , airlineCode:OZ , dep:PUS , depDate:20170826 , \n"
     ]
    },
    {
     "name": "stderr",
     "output_type": "stream",
     "text": [
      "2017-08-11 08:27:01,348 root     DEBUG    Crawling Interpark domastic schedule site\n"
     ]
    },
    {
     "name": "stdout",
     "output_type": "stream",
     "text": [
      "End Simple crawling\n",
      "Start Simple crawling :  http://domair.interpark.com/api/booking/airJourney.do\n",
      ">> Parameters\n",
      "tripDivi:0 , adt:1 , chd:0 , format:json , arr:GMP , inf:0 , airlineCode:ZE , dep:PUS , depDate:20170826 , \n"
     ]
    },
    {
     "name": "stderr",
     "output_type": "stream",
     "text": [
      "2017-08-11 08:27:02,336 root     DEBUG    Crawling Interpark domastic schedule site\n"
     ]
    },
    {
     "name": "stdout",
     "output_type": "stream",
     "text": [
      "End Simple crawling\n",
      "Start Simple crawling :  http://domair.interpark.com/api/booking/airJourney.do\n",
      ">> Parameters\n",
      "tripDivi:0 , adt:1 , chd:0 , format:json , arr:GMP , inf:0 , airlineCode:7C , dep:PUS , depDate:20170827 , \n"
     ]
    },
    {
     "name": "stderr",
     "output_type": "stream",
     "text": [
      "2017-08-11 08:27:04,155 root     DEBUG    Crawling Interpark domastic schedule site\n"
     ]
    },
    {
     "name": "stdout",
     "output_type": "stream",
     "text": [
      "End Simple crawling\n",
      "Start Simple crawling :  http://domair.interpark.com/api/booking/airJourney.do\n",
      ">> Parameters\n",
      "tripDivi:0 , adt:1 , chd:0 , format:json , arr:GMP , inf:0 , airlineCode:BX , dep:PUS , depDate:20170827 , \n"
     ]
    },
    {
     "name": "stderr",
     "output_type": "stream",
     "text": [
      "2017-08-11 08:27:05,264 root     DEBUG    Crawling Interpark domastic schedule site\n"
     ]
    },
    {
     "name": "stdout",
     "output_type": "stream",
     "text": [
      "End Simple crawling\n",
      "Start Simple crawling :  http://domair.interpark.com/api/booking/airJourney.do\n",
      ">> Parameters\n",
      "tripDivi:0 , adt:1 , chd:0 , format:json , arr:GMP , inf:0 , airlineCode:OZ , dep:PUS , depDate:20170827 , \n"
     ]
    },
    {
     "name": "stderr",
     "output_type": "stream",
     "text": [
      "2017-08-11 08:27:06,763 root     DEBUG    Crawling Interpark domastic schedule site\n"
     ]
    },
    {
     "name": "stdout",
     "output_type": "stream",
     "text": [
      "End Simple crawling\n",
      "Start Simple crawling :  http://domair.interpark.com/api/booking/airJourney.do\n",
      ">> Parameters\n",
      "tripDivi:0 , adt:1 , chd:0 , format:json , arr:GMP , inf:0 , airlineCode:ZE , dep:PUS , depDate:20170827 , \n"
     ]
    },
    {
     "name": "stderr",
     "output_type": "stream",
     "text": [
      "2017-08-11 08:27:07,738 root     DEBUG    Crawling Interpark domastic schedule site\n"
     ]
    },
    {
     "name": "stdout",
     "output_type": "stream",
     "text": [
      "End Simple crawling\n",
      "Start Simple crawling :  http://domair.interpark.com/api/booking/airJourney.do\n",
      ">> Parameters\n",
      "tripDivi:0 , adt:1 , chd:0 , format:json , arr:GMP , inf:0 , airlineCode:7C , dep:PUS , depDate:20170828 , \n"
     ]
    },
    {
     "name": "stderr",
     "output_type": "stream",
     "text": [
      "2017-08-11 08:27:09,139 root     DEBUG    Crawling Interpark domastic schedule site\n"
     ]
    },
    {
     "name": "stdout",
     "output_type": "stream",
     "text": [
      "End Simple crawling\n",
      "Start Simple crawling :  http://domair.interpark.com/api/booking/airJourney.do\n",
      ">> Parameters\n",
      "tripDivi:0 , adt:1 , chd:0 , format:json , arr:GMP , inf:0 , airlineCode:BX , dep:PUS , depDate:20170828 , \n"
     ]
    },
    {
     "name": "stderr",
     "output_type": "stream",
     "text": [
      "2017-08-11 08:27:10,309 root     DEBUG    Crawling Interpark domastic schedule site\n"
     ]
    },
    {
     "name": "stdout",
     "output_type": "stream",
     "text": [
      "End Simple crawling\n",
      "Start Simple crawling :  http://domair.interpark.com/api/booking/airJourney.do\n",
      ">> Parameters\n",
      "tripDivi:0 , adt:1 , chd:0 , format:json , arr:GMP , inf:0 , airlineCode:OZ , dep:PUS , depDate:20170828 , \n"
     ]
    },
    {
     "name": "stderr",
     "output_type": "stream",
     "text": [
      "2017-08-11 08:27:11,596 root     DEBUG    Crawling Interpark domastic schedule site\n"
     ]
    },
    {
     "name": "stdout",
     "output_type": "stream",
     "text": [
      "End Simple crawling\n",
      "Start Simple crawling :  http://domair.interpark.com/api/booking/airJourney.do\n",
      ">> Parameters\n",
      "tripDivi:0 , adt:1 , chd:0 , format:json , arr:GMP , inf:0 , airlineCode:ZE , dep:PUS , depDate:20170828 , \n"
     ]
    },
    {
     "name": "stderr",
     "output_type": "stream",
     "text": [
      "2017-08-11 08:27:12,535 root     DEBUG    Crawling Interpark domastic schedule site\n"
     ]
    },
    {
     "name": "stdout",
     "output_type": "stream",
     "text": [
      "End Simple crawling\n",
      "Start Simple crawling :  http://domair.interpark.com/api/booking/airJourney.do\n",
      ">> Parameters\n",
      "tripDivi:0 , adt:1 , chd:0 , format:json , arr:GMP , inf:0 , airlineCode:7C , dep:PUS , depDate:20170829 , \n"
     ]
    },
    {
     "name": "stderr",
     "output_type": "stream",
     "text": [
      "2017-08-11 08:27:13,960 root     DEBUG    Crawling Interpark domastic schedule site\n"
     ]
    },
    {
     "name": "stdout",
     "output_type": "stream",
     "text": [
      "End Simple crawling\n",
      "Start Simple crawling :  http://domair.interpark.com/api/booking/airJourney.do\n",
      ">> Parameters\n",
      "tripDivi:0 , adt:1 , chd:0 , format:json , arr:GMP , inf:0 , airlineCode:BX , dep:PUS , depDate:20170829 , \n"
     ]
    },
    {
     "name": "stderr",
     "output_type": "stream",
     "text": [
      "2017-08-11 08:27:14,983 root     DEBUG    Crawling Interpark domastic schedule site\n"
     ]
    },
    {
     "name": "stdout",
     "output_type": "stream",
     "text": [
      "End Simple crawling\n",
      "Start Simple crawling :  http://domair.interpark.com/api/booking/airJourney.do\n",
      ">> Parameters\n",
      "tripDivi:0 , adt:1 , chd:0 , format:json , arr:GMP , inf:0 , airlineCode:OZ , dep:PUS , depDate:20170829 , \n"
     ]
    },
    {
     "name": "stderr",
     "output_type": "stream",
     "text": [
      "2017-08-11 08:27:16,232 root     DEBUG    Crawling Interpark domastic schedule site\n"
     ]
    },
    {
     "name": "stdout",
     "output_type": "stream",
     "text": [
      "End Simple crawling\n",
      "Start Simple crawling :  http://domair.interpark.com/api/booking/airJourney.do\n",
      ">> Parameters\n",
      "tripDivi:0 , adt:1 , chd:0 , format:json , arr:GMP , inf:0 , airlineCode:ZE , dep:PUS , depDate:20170829 , \n"
     ]
    },
    {
     "name": "stderr",
     "output_type": "stream",
     "text": [
      "2017-08-11 08:27:17,181 root     DEBUG    Crawling Interpark domastic schedule site\n"
     ]
    },
    {
     "name": "stdout",
     "output_type": "stream",
     "text": [
      "End Simple crawling\n",
      "Start Simple crawling :  http://domair.interpark.com/api/booking/airJourney.do\n",
      ">> Parameters\n",
      "tripDivi:0 , adt:1 , chd:0 , format:json , arr:GMP , inf:0 , airlineCode:7C , dep:PUS , depDate:20170830 , \n"
     ]
    },
    {
     "name": "stderr",
     "output_type": "stream",
     "text": [
      "2017-08-11 08:27:19,055 root     DEBUG    Crawling Interpark domastic schedule site\n"
     ]
    },
    {
     "name": "stdout",
     "output_type": "stream",
     "text": [
      "End Simple crawling\n",
      "Start Simple crawling :  http://domair.interpark.com/api/booking/airJourney.do\n",
      ">> Parameters\n",
      "tripDivi:0 , adt:1 , chd:0 , format:json , arr:GMP , inf:0 , airlineCode:BX , dep:PUS , depDate:20170830 , \n"
     ]
    },
    {
     "name": "stderr",
     "output_type": "stream",
     "text": [
      "2017-08-11 08:27:20,171 root     DEBUG    Crawling Interpark domastic schedule site\n"
     ]
    },
    {
     "name": "stdout",
     "output_type": "stream",
     "text": [
      "End Simple crawling\n",
      "Start Simple crawling :  http://domair.interpark.com/api/booking/airJourney.do\n",
      ">> Parameters\n",
      "tripDivi:0 , adt:1 , chd:0 , format:json , arr:GMP , inf:0 , airlineCode:OZ , dep:PUS , depDate:20170830 , \n"
     ]
    },
    {
     "name": "stderr",
     "output_type": "stream",
     "text": [
      "2017-08-11 08:27:21,557 root     DEBUG    Crawling Interpark domastic schedule site\n"
     ]
    },
    {
     "name": "stdout",
     "output_type": "stream",
     "text": [
      "End Simple crawling\n",
      "Start Simple crawling :  http://domair.interpark.com/api/booking/airJourney.do\n",
      ">> Parameters\n",
      "tripDivi:0 , adt:1 , chd:0 , format:json , arr:GMP , inf:0 , airlineCode:ZE , dep:PUS , depDate:20170830 , \n"
     ]
    },
    {
     "name": "stderr",
     "output_type": "stream",
     "text": [
      "2017-08-11 08:27:22,517 root     DEBUG    Crawling Interpark domastic schedule site\n"
     ]
    },
    {
     "name": "stdout",
     "output_type": "stream",
     "text": [
      "End Simple crawling\n",
      "Start Simple crawling :  http://domair.interpark.com/api/booking/airJourney.do\n",
      ">> Parameters\n",
      "tripDivi:0 , adt:1 , chd:0 , format:json , arr:GMP , inf:0 , airlineCode:7C , dep:PUS , depDate:20170831 , \n"
     ]
    },
    {
     "name": "stderr",
     "output_type": "stream",
     "text": [
      "2017-08-11 08:27:23,434 root     DEBUG    Crawling Interpark domastic schedule site\n"
     ]
    },
    {
     "name": "stdout",
     "output_type": "stream",
     "text": [
      "End Simple crawling\n",
      "Start Simple crawling :  http://domair.interpark.com/api/booking/airJourney.do\n",
      ">> Parameters\n",
      "tripDivi:0 , adt:1 , chd:0 , format:json , arr:GMP , inf:0 , airlineCode:BX , dep:PUS , depDate:20170831 , \n"
     ]
    },
    {
     "name": "stderr",
     "output_type": "stream",
     "text": [
      "2017-08-11 08:27:24,455 root     DEBUG    Crawling Interpark domastic schedule site\n"
     ]
    },
    {
     "name": "stdout",
     "output_type": "stream",
     "text": [
      "End Simple crawling\n",
      "Start Simple crawling :  http://domair.interpark.com/api/booking/airJourney.do\n",
      ">> Parameters\n",
      "tripDivi:0 , adt:1 , chd:0 , format:json , arr:GMP , inf:0 , airlineCode:OZ , dep:PUS , depDate:20170831 , \n"
     ]
    },
    {
     "name": "stderr",
     "output_type": "stream",
     "text": [
      "2017-08-11 08:27:25,792 root     DEBUG    Crawling Interpark domastic schedule site\n"
     ]
    },
    {
     "name": "stdout",
     "output_type": "stream",
     "text": [
      "End Simple crawling\n",
      "Start Simple crawling :  http://domair.interpark.com/api/booking/airJourney.do\n",
      ">> Parameters\n",
      "tripDivi:0 , adt:1 , chd:0 , format:json , arr:GMP , inf:0 , airlineCode:ZE , dep:PUS , depDate:20170831 , \n"
     ]
    },
    {
     "name": "stderr",
     "output_type": "stream",
     "text": [
      "2017-08-11 08:27:26,729 root     DEBUG    Crawling Interpark domastic schedule site\n"
     ]
    },
    {
     "name": "stdout",
     "output_type": "stream",
     "text": [
      "End Simple crawling\n",
      "Start Simple crawling :  http://domair.interpark.com/api/booking/airJourney.do\n",
      ">> Parameters\n",
      "tripDivi:0 , adt:1 , chd:0 , format:json , arr:GMP , inf:0 , airlineCode:7C , dep:PUS , depDate:20170901 , \n"
     ]
    },
    {
     "name": "stderr",
     "output_type": "stream",
     "text": [
      "2017-08-11 08:27:28,280 root     DEBUG    Crawling Interpark domastic schedule site\n"
     ]
    },
    {
     "name": "stdout",
     "output_type": "stream",
     "text": [
      "End Simple crawling\n",
      "Start Simple crawling :  http://domair.interpark.com/api/booking/airJourney.do\n",
      ">> Parameters\n",
      "tripDivi:0 , adt:1 , chd:0 , format:json , arr:GMP , inf:0 , airlineCode:BX , dep:PUS , depDate:20170901 , \n"
     ]
    },
    {
     "name": "stderr",
     "output_type": "stream",
     "text": [
      "2017-08-11 08:27:29,413 root     DEBUG    Crawling Interpark domastic schedule site\n"
     ]
    },
    {
     "name": "stdout",
     "output_type": "stream",
     "text": [
      "End Simple crawling\n",
      "Start Simple crawling :  http://domair.interpark.com/api/booking/airJourney.do\n",
      ">> Parameters\n",
      "tripDivi:0 , adt:1 , chd:0 , format:json , arr:GMP , inf:0 , airlineCode:OZ , dep:PUS , depDate:20170901 , \n"
     ]
    },
    {
     "name": "stderr",
     "output_type": "stream",
     "text": [
      "2017-08-11 08:27:30,899 root     DEBUG    Crawling Interpark domastic schedule site\n"
     ]
    },
    {
     "name": "stdout",
     "output_type": "stream",
     "text": [
      "End Simple crawling\n",
      "Start Simple crawling :  http://domair.interpark.com/api/booking/airJourney.do\n",
      ">> Parameters\n",
      "tripDivi:0 , adt:1 , chd:0 , format:json , arr:GMP , inf:0 , airlineCode:ZE , dep:PUS , depDate:20170901 , \n"
     ]
    },
    {
     "name": "stderr",
     "output_type": "stream",
     "text": [
      "2017-08-11 08:27:31,812 root     INFO     end batch job :: craw_by_route_site :: elapsed -0:01:48.200189 :: Total crawl:84 files saved.\n",
      "2017-08-11 08:27:31,816 root     INFO     start batch job :: craw_by_route_site[PUS,CJU,IP,['20170812', '20170813', '20170814', '20170815', '20170816', '20170817', '20170818', '20170819', '20170820', '20170821', '20170822', '20170823', '20170824', '20170825', '20170826', '20170827', '20170828', '20170829', '20170830', '20170831', '20170901'],['7C', 'LJ', 'OZ', 'KE', 'ZE']]\n",
      "2017-08-11 08:27:31,818 root     DEBUG    0 :: IP :: crawling_IP_dom :: False\n",
      "2017-08-11 08:27:31,821 root     INFO     <function crawling_IP_dom at 0x0000000007C78378> :: False\n",
      "2017-08-11 08:27:31,825 root     DEBUG    Crawling Interpark domastic schedule site\n"
     ]
    },
    {
     "name": "stdout",
     "output_type": "stream",
     "text": [
      "End Simple crawling\n",
      "Start Simple crawling :  http://domair.interpark.com/api/booking/airJourney.do\n",
      ">> Parameters\n",
      "tripDivi:0 , adt:1 , chd:0 , format:json , arr:CJU , inf:0 , airlineCode:7C , dep:PUS , depDate:20170812 , \n"
     ]
    },
    {
     "name": "stderr",
     "output_type": "stream",
     "text": [
      "2017-08-11 08:27:32,780 root     DEBUG    Crawling Interpark domastic schedule site\n",
      "2017-08-11 08:27:32,884 root     DEBUG    Crawling Interpark domastic schedule site\n"
     ]
    },
    {
     "name": "stdout",
     "output_type": "stream",
     "text": [
      "End Simple crawling\n",
      "Start Simple crawling :  http://domair.interpark.com/api/booking/airJourney.do\n",
      ">> Parameters\n",
      "tripDivi:0 , adt:1 , chd:0 , format:json , arr:CJU , inf:0 , airlineCode:LJ , dep:PUS , depDate:20170812 , \n",
      "End Simple crawling\n",
      "Start Simple crawling :  http://domair.interpark.com/api/booking/airJourney.do\n",
      ">> Parameters\n",
      "tripDivi:0 , adt:1 , chd:0 , format:json , arr:CJU , inf:0 , airlineCode:OZ , dep:PUS , depDate:20170812 , \n"
     ]
    },
    {
     "name": "stderr",
     "output_type": "stream",
     "text": [
      "2017-08-11 08:27:34,089 root     DEBUG    Crawling Interpark domastic schedule site\n"
     ]
    },
    {
     "name": "stdout",
     "output_type": "stream",
     "text": [
      "End Simple crawling\n",
      "Start Simple crawling :  http://domair.interpark.com/api/booking/airJourney.do\n",
      ">> Parameters\n",
      "tripDivi:0 , adt:1 , chd:0 , format:json , arr:CJU , inf:0 , airlineCode:KE , dep:PUS , depDate:20170812 , \n"
     ]
    },
    {
     "name": "stderr",
     "output_type": "stream",
     "text": [
      "2017-08-11 08:27:38,851 root     DEBUG    Crawling Interpark domastic schedule site\n"
     ]
    },
    {
     "name": "stdout",
     "output_type": "stream",
     "text": [
      "End Simple crawling\n",
      "Start Simple crawling :  http://domair.interpark.com/api/booking/airJourney.do\n",
      ">> Parameters\n",
      "tripDivi:0 , adt:1 , chd:0 , format:json , arr:CJU , inf:0 , airlineCode:ZE , dep:PUS , depDate:20170812 , \n"
     ]
    },
    {
     "name": "stderr",
     "output_type": "stream",
     "text": [
      "2017-08-11 08:27:39,806 root     DEBUG    Crawling Interpark domastic schedule site\n"
     ]
    },
    {
     "name": "stdout",
     "output_type": "stream",
     "text": [
      "End Simple crawling\n",
      "Start Simple crawling :  http://domair.interpark.com/api/booking/airJourney.do\n",
      ">> Parameters\n",
      "tripDivi:0 , adt:1 , chd:0 , format:json , arr:CJU , inf:0 , airlineCode:7C , dep:PUS , depDate:20170813 , \n"
     ]
    },
    {
     "name": "stderr",
     "output_type": "stream",
     "text": [
      "2017-08-11 08:27:41,106 root     DEBUG    Crawling Interpark domastic schedule site\n",
      "2017-08-11 08:27:41,274 root     DEBUG    Crawling Interpark domastic schedule site\n"
     ]
    },
    {
     "name": "stdout",
     "output_type": "stream",
     "text": [
      "End Simple crawling\n",
      "Start Simple crawling :  http://domair.interpark.com/api/booking/airJourney.do\n",
      ">> Parameters\n",
      "tripDivi:0 , adt:1 , chd:0 , format:json , arr:CJU , inf:0 , airlineCode:LJ , dep:PUS , depDate:20170813 , \n",
      "End Simple crawling\n",
      "Start Simple crawling :  http://domair.interpark.com/api/booking/airJourney.do\n",
      ">> Parameters\n",
      "tripDivi:0 , adt:1 , chd:0 , format:json , arr:CJU , inf:0 , airlineCode:OZ , dep:PUS , depDate:20170813 , \n"
     ]
    },
    {
     "name": "stderr",
     "output_type": "stream",
     "text": [
      "2017-08-11 08:27:42,229 root     DEBUG    Crawling Interpark domastic schedule site\n"
     ]
    },
    {
     "name": "stdout",
     "output_type": "stream",
     "text": [
      "End Simple crawling\n",
      "Start Simple crawling :  http://domair.interpark.com/api/booking/airJourney.do\n",
      ">> Parameters\n",
      "tripDivi:0 , adt:1 , chd:0 , format:json , arr:CJU , inf:0 , airlineCode:KE , dep:PUS , depDate:20170813 , \n"
     ]
    },
    {
     "name": "stderr",
     "output_type": "stream",
     "text": [
      "2017-08-11 08:27:47,275 root     DEBUG    Crawling Interpark domastic schedule site\n"
     ]
    },
    {
     "name": "stdout",
     "output_type": "stream",
     "text": [
      "End Simple crawling\n",
      "Start Simple crawling :  http://domair.interpark.com/api/booking/airJourney.do\n",
      ">> Parameters\n",
      "tripDivi:0 , adt:1 , chd:0 , format:json , arr:CJU , inf:0 , airlineCode:ZE , dep:PUS , depDate:20170813 , \n"
     ]
    },
    {
     "name": "stderr",
     "output_type": "stream",
     "text": [
      "2017-08-11 08:27:48,272 root     DEBUG    Crawling Interpark domastic schedule site\n"
     ]
    },
    {
     "name": "stdout",
     "output_type": "stream",
     "text": [
      "End Simple crawling\n",
      "Start Simple crawling :  http://domair.interpark.com/api/booking/airJourney.do\n",
      ">> Parameters\n",
      "tripDivi:0 , adt:1 , chd:0 , format:json , arr:CJU , inf:0 , airlineCode:7C , dep:PUS , depDate:20170814 , \n"
     ]
    },
    {
     "name": "stderr",
     "output_type": "stream",
     "text": [
      "2017-08-11 08:27:50,342 root     DEBUG    Crawling Interpark domastic schedule site\n"
     ]
    },
    {
     "name": "stdout",
     "output_type": "stream",
     "text": [
      "End Simple crawling\n",
      "Start Simple crawling :  http://domair.interpark.com/api/booking/airJourney.do\n",
      ">> Parameters\n",
      "tripDivi:0 , adt:1 , chd:0 , format:json , arr:CJU , inf:0 , airlineCode:LJ , dep:PUS , depDate:20170814 , \n"
     ]
    },
    {
     "name": "stderr",
     "output_type": "stream",
     "text": [
      "2017-08-11 08:27:50,650 root     DEBUG    Crawling Interpark domastic schedule site\n"
     ]
    },
    {
     "name": "stdout",
     "output_type": "stream",
     "text": [
      "End Simple crawling\n",
      "Start Simple crawling :  http://domair.interpark.com/api/booking/airJourney.do\n",
      ">> Parameters\n",
      "tripDivi:0 , adt:1 , chd:0 , format:json , arr:CJU , inf:0 , airlineCode:OZ , dep:PUS , depDate:20170814 , \n"
     ]
    },
    {
     "name": "stderr",
     "output_type": "stream",
     "text": [
      "2017-08-11 08:27:51,875 root     DEBUG    Crawling Interpark domastic schedule site\n"
     ]
    },
    {
     "name": "stdout",
     "output_type": "stream",
     "text": [
      "End Simple crawling\n",
      "Start Simple crawling :  http://domair.interpark.com/api/booking/airJourney.do\n",
      ">> Parameters\n",
      "tripDivi:0 , adt:1 , chd:0 , format:json , arr:CJU , inf:0 , airlineCode:KE , dep:PUS , depDate:20170814 , \n"
     ]
    },
    {
     "name": "stderr",
     "output_type": "stream",
     "text": [
      "2017-08-11 08:27:56,948 root     DEBUG    Crawling Interpark domastic schedule site\n"
     ]
    },
    {
     "name": "stdout",
     "output_type": "stream",
     "text": [
      "End Simple crawling\n",
      "Start Simple crawling :  http://domair.interpark.com/api/booking/airJourney.do\n",
      ">> Parameters\n",
      "tripDivi:0 , adt:1 , chd:0 , format:json , arr:CJU , inf:0 , airlineCode:ZE , dep:PUS , depDate:20170814 , \n"
     ]
    },
    {
     "name": "stderr",
     "output_type": "stream",
     "text": [
      "2017-08-11 08:27:57,880 root     DEBUG    Crawling Interpark domastic schedule site\n"
     ]
    },
    {
     "name": "stdout",
     "output_type": "stream",
     "text": [
      "End Simple crawling\n",
      "Start Simple crawling :  http://domair.interpark.com/api/booking/airJourney.do\n",
      ">> Parameters\n",
      "tripDivi:0 , adt:1 , chd:0 , format:json , arr:CJU , inf:0 , airlineCode:7C , dep:PUS , depDate:20170815 , \n"
     ]
    },
    {
     "name": "stderr",
     "output_type": "stream",
     "text": [
      "2017-08-11 08:27:59,740 root     DEBUG    Crawling Interpark domastic schedule site\n"
     ]
    },
    {
     "name": "stdout",
     "output_type": "stream",
     "text": [
      "End Simple crawling\n",
      "Start Simple crawling :  http://domair.interpark.com/api/booking/airJourney.do\n",
      ">> Parameters\n",
      "tripDivi:0 , adt:1 , chd:0 , format:json , arr:CJU , inf:0 , airlineCode:LJ , dep:PUS , depDate:20170815 , \n"
     ]
    },
    {
     "name": "stderr",
     "output_type": "stream",
     "text": [
      "2017-08-11 08:28:00,144 root     DEBUG    Crawling Interpark domastic schedule site\n"
     ]
    },
    {
     "name": "stdout",
     "output_type": "stream",
     "text": [
      "End Simple crawling\n",
      "Start Simple crawling :  http://domair.interpark.com/api/booking/airJourney.do\n",
      ">> Parameters\n",
      "tripDivi:0 , adt:1 , chd:0 , format:json , arr:CJU , inf:0 , airlineCode:OZ , dep:PUS , depDate:20170815 , \n"
     ]
    },
    {
     "name": "stderr",
     "output_type": "stream",
     "text": [
      "2017-08-11 08:28:01,066 root     DEBUG    Crawling Interpark domastic schedule site\n"
     ]
    },
    {
     "name": "stdout",
     "output_type": "stream",
     "text": [
      "End Simple crawling\n",
      "Start Simple crawling :  http://domair.interpark.com/api/booking/airJourney.do\n",
      ">> Parameters\n",
      "tripDivi:0 , adt:1 , chd:0 , format:json , arr:CJU , inf:0 , airlineCode:KE , dep:PUS , depDate:20170815 , \n"
     ]
    },
    {
     "name": "stderr",
     "output_type": "stream",
     "text": [
      "2017-08-11 08:28:06,046 root     DEBUG    Crawling Interpark domastic schedule site\n"
     ]
    },
    {
     "name": "stdout",
     "output_type": "stream",
     "text": [
      "End Simple crawling\n",
      "Start Simple crawling :  http://domair.interpark.com/api/booking/airJourney.do\n",
      ">> Parameters\n",
      "tripDivi:0 , adt:1 , chd:0 , format:json , arr:CJU , inf:0 , airlineCode:ZE , dep:PUS , depDate:20170815 , \n"
     ]
    },
    {
     "name": "stderr",
     "output_type": "stream",
     "text": [
      "2017-08-11 08:28:07,028 root     DEBUG    Crawling Interpark domastic schedule site\n"
     ]
    },
    {
     "name": "stdout",
     "output_type": "stream",
     "text": [
      "End Simple crawling\n",
      "Start Simple crawling :  http://domair.interpark.com/api/booking/airJourney.do\n",
      ">> Parameters\n",
      "tripDivi:0 , adt:1 , chd:0 , format:json , arr:CJU , inf:0 , airlineCode:7C , dep:PUS , depDate:20170816 , \n"
     ]
    },
    {
     "name": "stderr",
     "output_type": "stream",
     "text": [
      "2017-08-11 08:28:08,549 root     DEBUG    Crawling Interpark domastic schedule site\n",
      "2017-08-11 08:28:08,661 root     DEBUG    Crawling Interpark domastic schedule site\n"
     ]
    },
    {
     "name": "stdout",
     "output_type": "stream",
     "text": [
      "End Simple crawling\n",
      "Start Simple crawling :  http://domair.interpark.com/api/booking/airJourney.do\n",
      ">> Parameters\n",
      "tripDivi:0 , adt:1 , chd:0 , format:json , arr:CJU , inf:0 , airlineCode:LJ , dep:PUS , depDate:20170816 , \n",
      "End Simple crawling\n",
      "Start Simple crawling :  http://domair.interpark.com/api/booking/airJourney.do\n",
      ">> Parameters\n",
      "tripDivi:0 , adt:1 , chd:0 , format:json , arr:CJU , inf:0 , airlineCode:OZ , dep:PUS , depDate:20170816 , \n"
     ]
    },
    {
     "name": "stderr",
     "output_type": "stream",
     "text": [
      "2017-08-11 08:28:10,084 root     DEBUG    Crawling Interpark domastic schedule site\n"
     ]
    },
    {
     "name": "stdout",
     "output_type": "stream",
     "text": [
      "End Simple crawling\n",
      "Start Simple crawling :  http://domair.interpark.com/api/booking/airJourney.do\n",
      ">> Parameters\n",
      "tripDivi:0 , adt:1 , chd:0 , format:json , arr:CJU , inf:0 , airlineCode:KE , dep:PUS , depDate:20170816 , \n"
     ]
    },
    {
     "name": "stderr",
     "output_type": "stream",
     "text": [
      "2017-08-11 08:28:15,006 root     DEBUG    Crawling Interpark domastic schedule site\n"
     ]
    },
    {
     "name": "stdout",
     "output_type": "stream",
     "text": [
      "End Simple crawling\n",
      "Start Simple crawling :  http://domair.interpark.com/api/booking/airJourney.do\n",
      ">> Parameters\n",
      "tripDivi:0 , adt:1 , chd:0 , format:json , arr:CJU , inf:0 , airlineCode:ZE , dep:PUS , depDate:20170816 , \n"
     ]
    },
    {
     "name": "stderr",
     "output_type": "stream",
     "text": [
      "2017-08-11 08:28:15,997 root     DEBUG    Crawling Interpark domastic schedule site\n"
     ]
    },
    {
     "name": "stdout",
     "output_type": "stream",
     "text": [
      "End Simple crawling\n",
      "Start Simple crawling :  http://domair.interpark.com/api/booking/airJourney.do\n",
      ">> Parameters\n",
      "tripDivi:0 , adt:1 , chd:0 , format:json , arr:CJU , inf:0 , airlineCode:7C , dep:PUS , depDate:20170817 , \n"
     ]
    },
    {
     "name": "stderr",
     "output_type": "stream",
     "text": [
      "2017-08-11 08:28:18,244 root     DEBUG    Crawling Interpark domastic schedule site\n"
     ]
    },
    {
     "name": "stdout",
     "output_type": "stream",
     "text": [
      "End Simple crawling\n",
      "Start Simple crawling :  http://domair.interpark.com/api/booking/airJourney.do\n",
      ">> Parameters\n",
      "tripDivi:0 , adt:1 , chd:0 , format:json , arr:CJU , inf:0 , airlineCode:LJ , dep:PUS , depDate:20170817 , \n"
     ]
    },
    {
     "name": "stderr",
     "output_type": "stream",
     "text": [
      "2017-08-11 08:28:18,575 root     DEBUG    Crawling Interpark domastic schedule site\n"
     ]
    },
    {
     "name": "stdout",
     "output_type": "stream",
     "text": [
      "End Simple crawling\n",
      "Start Simple crawling :  http://domair.interpark.com/api/booking/airJourney.do\n",
      ">> Parameters\n",
      "tripDivi:0 , adt:1 , chd:0 , format:json , arr:CJU , inf:0 , airlineCode:OZ , dep:PUS , depDate:20170817 , \n"
     ]
    },
    {
     "name": "stderr",
     "output_type": "stream",
     "text": [
      "2017-08-11 08:28:19,538 root     DEBUG    Crawling Interpark domastic schedule site\n"
     ]
    },
    {
     "name": "stdout",
     "output_type": "stream",
     "text": [
      "End Simple crawling\n",
      "Start Simple crawling :  http://domair.interpark.com/api/booking/airJourney.do\n",
      ">> Parameters\n",
      "tripDivi:0 , adt:1 , chd:0 , format:json , arr:CJU , inf:0 , airlineCode:KE , dep:PUS , depDate:20170817 , \n"
     ]
    },
    {
     "name": "stderr",
     "output_type": "stream",
     "text": [
      "2017-08-11 08:28:24,826 root     DEBUG    Crawling Interpark domastic schedule site\n"
     ]
    },
    {
     "name": "stdout",
     "output_type": "stream",
     "text": [
      "End Simple crawling\n",
      "Start Simple crawling :  http://domair.interpark.com/api/booking/airJourney.do\n",
      ">> Parameters\n",
      "tripDivi:0 , adt:1 , chd:0 , format:json , arr:CJU , inf:0 , airlineCode:ZE , dep:PUS , depDate:20170817 , \n"
     ]
    },
    {
     "name": "stderr",
     "output_type": "stream",
     "text": [
      "2017-08-11 08:28:25,779 root     DEBUG    Crawling Interpark domastic schedule site\n"
     ]
    },
    {
     "name": "stdout",
     "output_type": "stream",
     "text": [
      "End Simple crawling\n",
      "Start Simple crawling :  http://domair.interpark.com/api/booking/airJourney.do\n",
      ">> Parameters\n",
      "tripDivi:0 , adt:1 , chd:0 , format:json , arr:CJU , inf:0 , airlineCode:7C , dep:PUS , depDate:20170818 , \n"
     ]
    },
    {
     "name": "stderr",
     "output_type": "stream",
     "text": [
      "2017-08-11 08:28:27,239 root     DEBUG    Crawling Interpark domastic schedule site\n",
      "2017-08-11 08:28:27,375 root     DEBUG    Crawling Interpark domastic schedule site\n"
     ]
    },
    {
     "name": "stdout",
     "output_type": "stream",
     "text": [
      "End Simple crawling\n",
      "Start Simple crawling :  http://domair.interpark.com/api/booking/airJourney.do\n",
      ">> Parameters\n",
      "tripDivi:0 , adt:1 , chd:0 , format:json , arr:CJU , inf:0 , airlineCode:LJ , dep:PUS , depDate:20170818 , \n",
      "End Simple crawling\n",
      "Start Simple crawling :  http://domair.interpark.com/api/booking/airJourney.do\n",
      ">> Parameters\n",
      "tripDivi:0 , adt:1 , chd:0 , format:json , arr:CJU , inf:0 , airlineCode:OZ , dep:PUS , depDate:20170818 , \n"
     ]
    },
    {
     "name": "stderr",
     "output_type": "stream",
     "text": [
      "2017-08-11 08:28:28,325 root     DEBUG    Crawling Interpark domastic schedule site\n"
     ]
    },
    {
     "name": "stdout",
     "output_type": "stream",
     "text": [
      "End Simple crawling\n",
      "Start Simple crawling :  http://domair.interpark.com/api/booking/airJourney.do\n",
      ">> Parameters\n",
      "tripDivi:0 , adt:1 , chd:0 , format:json , arr:CJU , inf:0 , airlineCode:KE , dep:PUS , depDate:20170818 , \n"
     ]
    },
    {
     "name": "stderr",
     "output_type": "stream",
     "text": [
      "2017-08-11 08:28:33,743 root     DEBUG    Crawling Interpark domastic schedule site\n"
     ]
    },
    {
     "name": "stdout",
     "output_type": "stream",
     "text": [
      "End Simple crawling\n",
      "Start Simple crawling :  http://domair.interpark.com/api/booking/airJourney.do\n",
      ">> Parameters\n",
      "tripDivi:0 , adt:1 , chd:0 , format:json , arr:CJU , inf:0 , airlineCode:ZE , dep:PUS , depDate:20170818 , \n"
     ]
    },
    {
     "name": "stderr",
     "output_type": "stream",
     "text": [
      "2017-08-11 08:28:34,680 root     DEBUG    Crawling Interpark domastic schedule site\n"
     ]
    },
    {
     "name": "stdout",
     "output_type": "stream",
     "text": [
      "End Simple crawling\n",
      "Start Simple crawling :  http://domair.interpark.com/api/booking/airJourney.do\n",
      ">> Parameters\n",
      "tripDivi:0 , adt:1 , chd:0 , format:json , arr:CJU , inf:0 , airlineCode:7C , dep:PUS , depDate:20170819 , \n"
     ]
    },
    {
     "name": "stderr",
     "output_type": "stream",
     "text": [
      "2017-08-11 08:28:36,463 root     DEBUG    Crawling Interpark domastic schedule site\n"
     ]
    },
    {
     "name": "stdout",
     "output_type": "stream",
     "text": [
      "End Simple crawling\n",
      "Start Simple crawling :  http://domair.interpark.com/api/booking/airJourney.do\n",
      ">> Parameters\n",
      "tripDivi:0 , adt:1 , chd:0 , format:json , arr:CJU , inf:0 , airlineCode:LJ , dep:PUS , depDate:20170819 , \n"
     ]
    },
    {
     "name": "stderr",
     "output_type": "stream",
     "text": [
      "2017-08-11 08:28:36,770 root     DEBUG    Crawling Interpark domastic schedule site\n"
     ]
    },
    {
     "name": "stdout",
     "output_type": "stream",
     "text": [
      "End Simple crawling\n",
      "Start Simple crawling :  http://domair.interpark.com/api/booking/airJourney.do\n",
      ">> Parameters\n",
      "tripDivi:0 , adt:1 , chd:0 , format:json , arr:CJU , inf:0 , airlineCode:OZ , dep:PUS , depDate:20170819 , \n"
     ]
    },
    {
     "name": "stderr",
     "output_type": "stream",
     "text": [
      "2017-08-11 08:28:37,991 root     DEBUG    Crawling Interpark domastic schedule site\n"
     ]
    },
    {
     "name": "stdout",
     "output_type": "stream",
     "text": [
      "End Simple crawling\n",
      "Start Simple crawling :  http://domair.interpark.com/api/booking/airJourney.do\n",
      ">> Parameters\n",
      "tripDivi:0 , adt:1 , chd:0 , format:json , arr:CJU , inf:0 , airlineCode:KE , dep:PUS , depDate:20170819 , \n"
     ]
    },
    {
     "name": "stderr",
     "output_type": "stream",
     "text": [
      "2017-08-11 08:28:43,445 root     DEBUG    Crawling Interpark domastic schedule site\n"
     ]
    },
    {
     "name": "stdout",
     "output_type": "stream",
     "text": [
      "End Simple crawling\n",
      "Start Simple crawling :  http://domair.interpark.com/api/booking/airJourney.do\n",
      ">> Parameters\n",
      "tripDivi:0 , adt:1 , chd:0 , format:json , arr:CJU , inf:0 , airlineCode:ZE , dep:PUS , depDate:20170819 , \n"
     ]
    },
    {
     "name": "stderr",
     "output_type": "stream",
     "text": [
      "2017-08-11 08:28:44,389 root     DEBUG    Crawling Interpark domastic schedule site\n"
     ]
    },
    {
     "name": "stdout",
     "output_type": "stream",
     "text": [
      "End Simple crawling\n",
      "Start Simple crawling :  http://domair.interpark.com/api/booking/airJourney.do\n",
      ">> Parameters\n",
      "tripDivi:0 , adt:1 , chd:0 , format:json , arr:CJU , inf:0 , airlineCode:7C , dep:PUS , depDate:20170820 , \n"
     ]
    },
    {
     "name": "stderr",
     "output_type": "stream",
     "text": [
      "2017-08-11 08:28:46,037 root     DEBUG    Crawling Interpark domastic schedule site\n",
      "2017-08-11 08:28:46,186 root     DEBUG    Crawling Interpark domastic schedule site\n"
     ]
    },
    {
     "name": "stdout",
     "output_type": "stream",
     "text": [
      "End Simple crawling\n",
      "Start Simple crawling :  http://domair.interpark.com/api/booking/airJourney.do\n",
      ">> Parameters\n",
      "tripDivi:0 , adt:1 , chd:0 , format:json , arr:CJU , inf:0 , airlineCode:LJ , dep:PUS , depDate:20170820 , \n",
      "End Simple crawling\n",
      "Start Simple crawling :  http://domair.interpark.com/api/booking/airJourney.do\n",
      ">> Parameters\n",
      "tripDivi:0 , adt:1 , chd:0 , format:json , arr:CJU , inf:0 , airlineCode:OZ , dep:PUS , depDate:20170820 , \n"
     ]
    },
    {
     "name": "stderr",
     "output_type": "stream",
     "text": [
      "2017-08-11 08:28:47,299 root     DEBUG    Crawling Interpark domastic schedule site\n"
     ]
    },
    {
     "name": "stdout",
     "output_type": "stream",
     "text": [
      "End Simple crawling\n",
      "Start Simple crawling :  http://domair.interpark.com/api/booking/airJourney.do\n",
      ">> Parameters\n",
      "tripDivi:0 , adt:1 , chd:0 , format:json , arr:CJU , inf:0 , airlineCode:KE , dep:PUS , depDate:20170820 , \n"
     ]
    },
    {
     "name": "stderr",
     "output_type": "stream",
     "text": [
      "2017-08-11 08:28:52,785 root     DEBUG    Crawling Interpark domastic schedule site\n"
     ]
    },
    {
     "name": "stdout",
     "output_type": "stream",
     "text": [
      "End Simple crawling\n",
      "Start Simple crawling :  http://domair.interpark.com/api/booking/airJourney.do\n",
      ">> Parameters\n",
      "tripDivi:0 , adt:1 , chd:0 , format:json , arr:CJU , inf:0 , airlineCode:ZE , dep:PUS , depDate:20170820 , \n"
     ]
    },
    {
     "name": "stderr",
     "output_type": "stream",
     "text": [
      "2017-08-11 08:28:53,735 root     DEBUG    Crawling Interpark domastic schedule site\n"
     ]
    },
    {
     "name": "stdout",
     "output_type": "stream",
     "text": [
      "End Simple crawling\n",
      "Start Simple crawling :  http://domair.interpark.com/api/booking/airJourney.do\n",
      ">> Parameters\n",
      "tripDivi:0 , adt:1 , chd:0 , format:json , arr:CJU , inf:0 , airlineCode:7C , dep:PUS , depDate:20170821 , \n"
     ]
    },
    {
     "name": "stderr",
     "output_type": "stream",
     "text": [
      "2017-08-11 08:28:55,058 root     DEBUG    Crawling Interpark domastic schedule site\n",
      "2017-08-11 08:28:55,174 root     DEBUG    Crawling Interpark domastic schedule site\n"
     ]
    },
    {
     "name": "stdout",
     "output_type": "stream",
     "text": [
      "End Simple crawling\n",
      "Start Simple crawling :  http://domair.interpark.com/api/booking/airJourney.do\n",
      ">> Parameters\n",
      "tripDivi:0 , adt:1 , chd:0 , format:json , arr:CJU , inf:0 , airlineCode:LJ , dep:PUS , depDate:20170821 , \n",
      "End Simple crawling\n",
      "Start Simple crawling :  http://domair.interpark.com/api/booking/airJourney.do\n",
      ">> Parameters\n",
      "tripDivi:0 , adt:1 , chd:0 , format:json , arr:CJU , inf:0 , airlineCode:OZ , dep:PUS , depDate:20170821 , \n"
     ]
    },
    {
     "name": "stderr",
     "output_type": "stream",
     "text": [
      "2017-08-11 08:28:56,656 root     DEBUG    Crawling Interpark domastic schedule site\n"
     ]
    },
    {
     "name": "stdout",
     "output_type": "stream",
     "text": [
      "End Simple crawling\n",
      "Start Simple crawling :  http://domair.interpark.com/api/booking/airJourney.do\n",
      ">> Parameters\n",
      "tripDivi:0 , adt:1 , chd:0 , format:json , arr:CJU , inf:0 , airlineCode:KE , dep:PUS , depDate:20170821 , \n"
     ]
    },
    {
     "name": "stderr",
     "output_type": "stream",
     "text": [
      "2017-08-11 08:29:01,846 root     DEBUG    Crawling Interpark domastic schedule site\n"
     ]
    },
    {
     "name": "stdout",
     "output_type": "stream",
     "text": [
      "End Simple crawling\n",
      "Start Simple crawling :  http://domair.interpark.com/api/booking/airJourney.do\n",
      ">> Parameters\n",
      "tripDivi:0 , adt:1 , chd:0 , format:json , arr:CJU , inf:0 , airlineCode:ZE , dep:PUS , depDate:20170821 , \n"
     ]
    },
    {
     "name": "stderr",
     "output_type": "stream",
     "text": [
      "2017-08-11 08:29:02,844 root     DEBUG    Crawling Interpark domastic schedule site\n"
     ]
    },
    {
     "name": "stdout",
     "output_type": "stream",
     "text": [
      "End Simple crawling\n",
      "Start Simple crawling :  http://domair.interpark.com/api/booking/airJourney.do\n",
      ">> Parameters\n",
      "tripDivi:0 , adt:1 , chd:0 , format:json , arr:CJU , inf:0 , airlineCode:7C , dep:PUS , depDate:20170822 , \n"
     ]
    },
    {
     "name": "stderr",
     "output_type": "stream",
     "text": [
      "2017-08-11 08:29:04,450 root     DEBUG    Crawling Interpark domastic schedule site\n",
      "2017-08-11 08:29:04,561 root     DEBUG    Crawling Interpark domastic schedule site\n"
     ]
    },
    {
     "name": "stdout",
     "output_type": "stream",
     "text": [
      "End Simple crawling\n",
      "Start Simple crawling :  http://domair.interpark.com/api/booking/airJourney.do\n",
      ">> Parameters\n",
      "tripDivi:0 , adt:1 , chd:0 , format:json , arr:CJU , inf:0 , airlineCode:LJ , dep:PUS , depDate:20170822 , \n",
      "End Simple crawling\n",
      "Start Simple crawling :  http://domair.interpark.com/api/booking/airJourney.do\n",
      ">> Parameters\n",
      "tripDivi:0 , adt:1 , chd:0 , format:json , arr:CJU , inf:0 , airlineCode:OZ , dep:PUS , depDate:20170822 , \n"
     ]
    },
    {
     "name": "stderr",
     "output_type": "stream",
     "text": [
      "2017-08-11 08:29:05,492 root     DEBUG    Crawling Interpark domastic schedule site\n"
     ]
    },
    {
     "name": "stdout",
     "output_type": "stream",
     "text": [
      "End Simple crawling\n",
      "Start Simple crawling :  http://domair.interpark.com/api/booking/airJourney.do\n",
      ">> Parameters\n",
      "tripDivi:0 , adt:1 , chd:0 , format:json , arr:CJU , inf:0 , airlineCode:KE , dep:PUS , depDate:20170822 , \n"
     ]
    },
    {
     "name": "stderr",
     "output_type": "stream",
     "text": [
      "2017-08-11 08:29:10,712 root     DEBUG    Crawling Interpark domastic schedule site\n"
     ]
    },
    {
     "name": "stdout",
     "output_type": "stream",
     "text": [
      "End Simple crawling\n",
      "Start Simple crawling :  http://domair.interpark.com/api/booking/airJourney.do\n",
      ">> Parameters\n",
      "tripDivi:0 , adt:1 , chd:0 , format:json , arr:CJU , inf:0 , airlineCode:ZE , dep:PUS , depDate:20170822 , \n"
     ]
    },
    {
     "name": "stderr",
     "output_type": "stream",
     "text": [
      "2017-08-11 08:29:11,685 root     DEBUG    Crawling Interpark domastic schedule site\n"
     ]
    },
    {
     "name": "stdout",
     "output_type": "stream",
     "text": [
      "End Simple crawling\n",
      "Start Simple crawling :  http://domair.interpark.com/api/booking/airJourney.do\n",
      ">> Parameters\n",
      "tripDivi:0 , adt:1 , chd:0 , format:json , arr:CJU , inf:0 , airlineCode:7C , dep:PUS , depDate:20170823 , \n"
     ]
    },
    {
     "name": "stderr",
     "output_type": "stream",
     "text": [
      "2017-08-11 08:29:13,173 root     DEBUG    Crawling Interpark domastic schedule site\n",
      "2017-08-11 08:29:13,321 root     DEBUG    Crawling Interpark domastic schedule site\n"
     ]
    },
    {
     "name": "stdout",
     "output_type": "stream",
     "text": [
      "End Simple crawling\n",
      "Start Simple crawling :  http://domair.interpark.com/api/booking/airJourney.do\n",
      ">> Parameters\n",
      "tripDivi:0 , adt:1 , chd:0 , format:json , arr:CJU , inf:0 , airlineCode:LJ , dep:PUS , depDate:20170823 , \n",
      "End Simple crawling\n",
      "Start Simple crawling :  http://domair.interpark.com/api/booking/airJourney.do\n",
      ">> Parameters\n",
      "tripDivi:0 , adt:1 , chd:0 , format:json , arr:CJU , inf:0 , airlineCode:OZ , dep:PUS , depDate:20170823 , \n"
     ]
    },
    {
     "name": "stderr",
     "output_type": "stream",
     "text": [
      "2017-08-11 08:29:14,576 root     DEBUG    Crawling Interpark domastic schedule site\n"
     ]
    },
    {
     "name": "stdout",
     "output_type": "stream",
     "text": [
      "End Simple crawling\n",
      "Start Simple crawling :  http://domair.interpark.com/api/booking/airJourney.do\n",
      ">> Parameters\n",
      "tripDivi:0 , adt:1 , chd:0 , format:json , arr:CJU , inf:0 , airlineCode:KE , dep:PUS , depDate:20170823 , \n"
     ]
    },
    {
     "name": "stderr",
     "output_type": "stream",
     "text": [
      "2017-08-11 08:29:19,528 root     DEBUG    Crawling Interpark domastic schedule site\n"
     ]
    },
    {
     "name": "stdout",
     "output_type": "stream",
     "text": [
      "End Simple crawling\n",
      "Start Simple crawling :  http://domair.interpark.com/api/booking/airJourney.do\n",
      ">> Parameters\n",
      "tripDivi:0 , adt:1 , chd:0 , format:json , arr:CJU , inf:0 , airlineCode:ZE , dep:PUS , depDate:20170823 , \n"
     ]
    },
    {
     "name": "stderr",
     "output_type": "stream",
     "text": [
      "2017-08-11 08:29:20,479 root     DEBUG    Crawling Interpark domastic schedule site\n"
     ]
    },
    {
     "name": "stdout",
     "output_type": "stream",
     "text": [
      "End Simple crawling\n",
      "Start Simple crawling :  http://domair.interpark.com/api/booking/airJourney.do\n",
      ">> Parameters\n",
      "tripDivi:0 , adt:1 , chd:0 , format:json , arr:CJU , inf:0 , airlineCode:7C , dep:PUS , depDate:20170824 , \n"
     ]
    },
    {
     "name": "stderr",
     "output_type": "stream",
     "text": [
      "2017-08-11 08:29:21,909 root     DEBUG    Crawling Interpark domastic schedule site\n",
      "2017-08-11 08:29:22,035 root     DEBUG    Crawling Interpark domastic schedule site\n"
     ]
    },
    {
     "name": "stdout",
     "output_type": "stream",
     "text": [
      "End Simple crawling\n",
      "Start Simple crawling :  http://domair.interpark.com/api/booking/airJourney.do\n",
      ">> Parameters\n",
      "tripDivi:0 , adt:1 , chd:0 , format:json , arr:CJU , inf:0 , airlineCode:LJ , dep:PUS , depDate:20170824 , \n",
      "End Simple crawling\n",
      "Start Simple crawling :  http://domair.interpark.com/api/booking/airJourney.do\n",
      ">> Parameters\n",
      "tripDivi:0 , adt:1 , chd:0 , format:json , arr:CJU , inf:0 , airlineCode:OZ , dep:PUS , depDate:20170824 , \n"
     ]
    },
    {
     "name": "stderr",
     "output_type": "stream",
     "text": [
      "2017-08-11 08:29:22,956 root     DEBUG    Crawling Interpark domastic schedule site\n"
     ]
    },
    {
     "name": "stdout",
     "output_type": "stream",
     "text": [
      "End Simple crawling\n",
      "Start Simple crawling :  http://domair.interpark.com/api/booking/airJourney.do\n",
      ">> Parameters\n",
      "tripDivi:0 , adt:1 , chd:0 , format:json , arr:CJU , inf:0 , airlineCode:KE , dep:PUS , depDate:20170824 , \n"
     ]
    },
    {
     "name": "stderr",
     "output_type": "stream",
     "text": [
      "2017-08-11 08:29:28,392 root     DEBUG    Crawling Interpark domastic schedule site\n"
     ]
    },
    {
     "name": "stdout",
     "output_type": "stream",
     "text": [
      "End Simple crawling\n",
      "Start Simple crawling :  http://domair.interpark.com/api/booking/airJourney.do\n",
      ">> Parameters\n",
      "tripDivi:0 , adt:1 , chd:0 , format:json , arr:CJU , inf:0 , airlineCode:ZE , dep:PUS , depDate:20170824 , \n"
     ]
    },
    {
     "name": "stderr",
     "output_type": "stream",
     "text": [
      "2017-08-11 08:29:29,437 root     DEBUG    Crawling Interpark domastic schedule site\n"
     ]
    },
    {
     "name": "stdout",
     "output_type": "stream",
     "text": [
      "End Simple crawling\n",
      "Start Simple crawling :  http://domair.interpark.com/api/booking/airJourney.do\n",
      ">> Parameters\n",
      "tripDivi:0 , adt:1 , chd:0 , format:json , arr:CJU , inf:0 , airlineCode:7C , dep:PUS , depDate:20170825 , \n"
     ]
    },
    {
     "name": "stderr",
     "output_type": "stream",
     "text": [
      "2017-08-11 08:29:31,086 root     DEBUG    Crawling Interpark domastic schedule site\n",
      "2017-08-11 08:29:31,212 root     DEBUG    Crawling Interpark domastic schedule site\n"
     ]
    },
    {
     "name": "stdout",
     "output_type": "stream",
     "text": [
      "End Simple crawling\n",
      "Start Simple crawling :  http://domair.interpark.com/api/booking/airJourney.do\n",
      ">> Parameters\n",
      "tripDivi:0 , adt:1 , chd:0 , format:json , arr:CJU , inf:0 , airlineCode:LJ , dep:PUS , depDate:20170825 , \n",
      "End Simple crawling\n",
      "Start Simple crawling :  http://domair.interpark.com/api/booking/airJourney.do\n",
      ">> Parameters\n",
      "tripDivi:0 , adt:1 , chd:0 , format:json , arr:CJU , inf:0 , airlineCode:OZ , dep:PUS , depDate:20170825 , \n"
     ]
    },
    {
     "name": "stderr",
     "output_type": "stream",
     "text": [
      "2017-08-11 08:29:32,129 root     DEBUG    Crawling Interpark domastic schedule site\n"
     ]
    },
    {
     "name": "stdout",
     "output_type": "stream",
     "text": [
      "End Simple crawling\n",
      "Start Simple crawling :  http://domair.interpark.com/api/booking/airJourney.do\n",
      ">> Parameters\n",
      "tripDivi:0 , adt:1 , chd:0 , format:json , arr:CJU , inf:0 , airlineCode:KE , dep:PUS , depDate:20170825 , \n"
     ]
    },
    {
     "name": "stderr",
     "output_type": "stream",
     "text": [
      "2017-08-11 08:29:37,041 root     DEBUG    Crawling Interpark domastic schedule site\n"
     ]
    },
    {
     "name": "stdout",
     "output_type": "stream",
     "text": [
      "End Simple crawling\n",
      "Start Simple crawling :  http://domair.interpark.com/api/booking/airJourney.do\n",
      ">> Parameters\n",
      "tripDivi:0 , adt:1 , chd:0 , format:json , arr:CJU , inf:0 , airlineCode:ZE , dep:PUS , depDate:20170825 , \n"
     ]
    },
    {
     "name": "stderr",
     "output_type": "stream",
     "text": [
      "2017-08-11 08:29:37,978 root     DEBUG    Crawling Interpark domastic schedule site\n"
     ]
    },
    {
     "name": "stdout",
     "output_type": "stream",
     "text": [
      "End Simple crawling\n",
      "Start Simple crawling :  http://domair.interpark.com/api/booking/airJourney.do\n",
      ">> Parameters\n",
      "tripDivi:0 , adt:1 , chd:0 , format:json , arr:CJU , inf:0 , airlineCode:7C , dep:PUS , depDate:20170826 , \n"
     ]
    },
    {
     "name": "stderr",
     "output_type": "stream",
     "text": [
      "2017-08-11 08:29:39,595 root     DEBUG    Crawling Interpark domastic schedule site\n",
      "2017-08-11 08:29:39,713 root     DEBUG    Crawling Interpark domastic schedule site\n"
     ]
    },
    {
     "name": "stdout",
     "output_type": "stream",
     "text": [
      "End Simple crawling\n",
      "Start Simple crawling :  http://domair.interpark.com/api/booking/airJourney.do\n",
      ">> Parameters\n",
      "tripDivi:0 , adt:1 , chd:0 , format:json , arr:CJU , inf:0 , airlineCode:LJ , dep:PUS , depDate:20170826 , \n",
      "End Simple crawling\n",
      "Start Simple crawling :  http://domair.interpark.com/api/booking/airJourney.do\n",
      ">> Parameters\n",
      "tripDivi:0 , adt:1 , chd:0 , format:json , arr:CJU , inf:0 , airlineCode:OZ , dep:PUS , depDate:20170826 , \n"
     ]
    },
    {
     "name": "stderr",
     "output_type": "stream",
     "text": [
      "2017-08-11 08:29:40,954 root     DEBUG    Crawling Interpark domastic schedule site\n"
     ]
    },
    {
     "name": "stdout",
     "output_type": "stream",
     "text": [
      "End Simple crawling\n",
      "Start Simple crawling :  http://domair.interpark.com/api/booking/airJourney.do\n",
      ">> Parameters\n",
      "tripDivi:0 , adt:1 , chd:0 , format:json , arr:CJU , inf:0 , airlineCode:KE , dep:PUS , depDate:20170826 , \n"
     ]
    },
    {
     "name": "stderr",
     "output_type": "stream",
     "text": [
      "2017-08-11 08:29:45,974 root     DEBUG    Crawling Interpark domastic schedule site\n"
     ]
    },
    {
     "name": "stdout",
     "output_type": "stream",
     "text": [
      "End Simple crawling\n",
      "Start Simple crawling :  http://domair.interpark.com/api/booking/airJourney.do\n",
      ">> Parameters\n",
      "tripDivi:0 , adt:1 , chd:0 , format:json , arr:CJU , inf:0 , airlineCode:ZE , dep:PUS , depDate:20170826 , \n"
     ]
    },
    {
     "name": "stderr",
     "output_type": "stream",
     "text": [
      "2017-08-11 08:29:46,918 root     DEBUG    Crawling Interpark domastic schedule site\n"
     ]
    },
    {
     "name": "stdout",
     "output_type": "stream",
     "text": [
      "End Simple crawling\n",
      "Start Simple crawling :  http://domair.interpark.com/api/booking/airJourney.do\n",
      ">> Parameters\n",
      "tripDivi:0 , adt:1 , chd:0 , format:json , arr:CJU , inf:0 , airlineCode:7C , dep:PUS , depDate:20170827 , \n"
     ]
    },
    {
     "name": "stderr",
     "output_type": "stream",
     "text": [
      "2017-08-11 08:29:48,788 root     DEBUG    Crawling Interpark domastic schedule site\n"
     ]
    },
    {
     "name": "stdout",
     "output_type": "stream",
     "text": [
      "End Simple crawling\n",
      "Start Simple crawling :  http://domair.interpark.com/api/booking/airJourney.do\n",
      ">> Parameters\n",
      "tripDivi:0 , adt:1 , chd:0 , format:json , arr:CJU , inf:0 , airlineCode:LJ , dep:PUS , depDate:20170827 , \n"
     ]
    },
    {
     "name": "stderr",
     "output_type": "stream",
     "text": [
      "2017-08-11 08:29:49,006 root     DEBUG    Crawling Interpark domastic schedule site\n"
     ]
    },
    {
     "name": "stdout",
     "output_type": "stream",
     "text": [
      "End Simple crawling\n",
      "Start Simple crawling :  http://domair.interpark.com/api/booking/airJourney.do\n",
      ">> Parameters\n",
      "tripDivi:0 , adt:1 , chd:0 , format:json , arr:CJU , inf:0 , airlineCode:OZ , dep:PUS , depDate:20170827 , \n"
     ]
    },
    {
     "name": "stderr",
     "output_type": "stream",
     "text": [
      "2017-08-11 08:29:50,163 root     DEBUG    Crawling Interpark domastic schedule site\n"
     ]
    },
    {
     "name": "stdout",
     "output_type": "stream",
     "text": [
      "End Simple crawling\n",
      "Start Simple crawling :  http://domair.interpark.com/api/booking/airJourney.do\n",
      ">> Parameters\n",
      "tripDivi:0 , adt:1 , chd:0 , format:json , arr:CJU , inf:0 , airlineCode:KE , dep:PUS , depDate:20170827 , \n"
     ]
    },
    {
     "name": "stderr",
     "output_type": "stream",
     "text": [
      "2017-08-11 08:29:57,189 root     DEBUG    Crawling Interpark domastic schedule site\n"
     ]
    },
    {
     "name": "stdout",
     "output_type": "stream",
     "text": [
      "End Simple crawling\n",
      "Start Simple crawling :  http://domair.interpark.com/api/booking/airJourney.do\n",
      ">> Parameters\n",
      "tripDivi:0 , adt:1 , chd:0 , format:json , arr:CJU , inf:0 , airlineCode:ZE , dep:PUS , depDate:20170827 , \n"
     ]
    },
    {
     "name": "stderr",
     "output_type": "stream",
     "text": [
      "2017-08-11 08:29:58,124 root     DEBUG    Crawling Interpark domastic schedule site\n"
     ]
    },
    {
     "name": "stdout",
     "output_type": "stream",
     "text": [
      "End Simple crawling\n",
      "Start Simple crawling :  http://domair.interpark.com/api/booking/airJourney.do\n",
      ">> Parameters\n",
      "tripDivi:0 , adt:1 , chd:0 , format:json , arr:CJU , inf:0 , airlineCode:7C , dep:PUS , depDate:20170828 , \n"
     ]
    },
    {
     "name": "stderr",
     "output_type": "stream",
     "text": [
      "2017-08-11 08:29:59,667 root     DEBUG    Crawling Interpark domastic schedule site\n",
      "2017-08-11 08:29:59,777 root     DEBUG    Crawling Interpark domastic schedule site\n"
     ]
    },
    {
     "name": "stdout",
     "output_type": "stream",
     "text": [
      "End Simple crawling\n",
      "Start Simple crawling :  http://domair.interpark.com/api/booking/airJourney.do\n",
      ">> Parameters\n",
      "tripDivi:0 , adt:1 , chd:0 , format:json , arr:CJU , inf:0 , airlineCode:LJ , dep:PUS , depDate:20170828 , \n",
      "End Simple crawling\n",
      "Start Simple crawling :  http://domair.interpark.com/api/booking/airJourney.do\n",
      ">> Parameters\n",
      "tripDivi:0 , adt:1 , chd:0 , format:json , arr:CJU , inf:0 , airlineCode:OZ , dep:PUS , depDate:20170828 , \n"
     ]
    },
    {
     "name": "stderr",
     "output_type": "stream",
     "text": [
      "2017-08-11 08:30:01,195 root     DEBUG    Crawling Interpark domastic schedule site\n"
     ]
    },
    {
     "name": "stdout",
     "output_type": "stream",
     "text": [
      "End Simple crawling\n",
      "Start Simple crawling :  http://domair.interpark.com/api/booking/airJourney.do\n",
      ">> Parameters\n",
      "tripDivi:0 , adt:1 , chd:0 , format:json , arr:CJU , inf:0 , airlineCode:KE , dep:PUS , depDate:20170828 , \n"
     ]
    },
    {
     "name": "stderr",
     "output_type": "stream",
     "text": [
      "2017-08-11 08:30:06,242 root     DEBUG    Crawling Interpark domastic schedule site\n"
     ]
    },
    {
     "name": "stdout",
     "output_type": "stream",
     "text": [
      "End Simple crawling\n",
      "Start Simple crawling :  http://domair.interpark.com/api/booking/airJourney.do\n",
      ">> Parameters\n",
      "tripDivi:0 , adt:1 , chd:0 , format:json , arr:CJU , inf:0 , airlineCode:ZE , dep:PUS , depDate:20170828 , \n"
     ]
    },
    {
     "name": "stderr",
     "output_type": "stream",
     "text": [
      "2017-08-11 08:30:07,208 root     DEBUG    Crawling Interpark domastic schedule site\n"
     ]
    },
    {
     "name": "stdout",
     "output_type": "stream",
     "text": [
      "End Simple crawling\n",
      "Start Simple crawling :  http://domair.interpark.com/api/booking/airJourney.do\n",
      ">> Parameters\n",
      "tripDivi:0 , adt:1 , chd:0 , format:json , arr:CJU , inf:0 , airlineCode:7C , dep:PUS , depDate:20170829 , \n"
     ]
    },
    {
     "name": "stderr",
     "output_type": "stream",
     "text": [
      "2017-08-11 08:30:09,013 root     DEBUG    Crawling Interpark domastic schedule site\n"
     ]
    },
    {
     "name": "stdout",
     "output_type": "stream",
     "text": [
      "End Simple crawling\n",
      "Start Simple crawling :  http://domair.interpark.com/api/booking/airJourney.do\n",
      ">> Parameters\n",
      "tripDivi:0 , adt:1 , chd:0 , format:json , arr:CJU , inf:0 , airlineCode:LJ , dep:PUS , depDate:20170829 , \n"
     ]
    },
    {
     "name": "stderr",
     "output_type": "stream",
     "text": [
      "2017-08-11 08:30:09,331 root     DEBUG    Crawling Interpark domastic schedule site\n"
     ]
    },
    {
     "name": "stdout",
     "output_type": "stream",
     "text": [
      "End Simple crawling\n",
      "Start Simple crawling :  http://domair.interpark.com/api/booking/airJourney.do\n",
      ">> Parameters\n",
      "tripDivi:0 , adt:1 , chd:0 , format:json , arr:CJU , inf:0 , airlineCode:OZ , dep:PUS , depDate:20170829 , \n"
     ]
    },
    {
     "name": "stderr",
     "output_type": "stream",
     "text": [
      "2017-08-11 08:30:11,550 root     DEBUG    Crawling Interpark domastic schedule site\n"
     ]
    },
    {
     "name": "stdout",
     "output_type": "stream",
     "text": [
      "End Simple crawling\n",
      "Start Simple crawling :  http://domair.interpark.com/api/booking/airJourney.do\n",
      ">> Parameters\n",
      "tripDivi:0 , adt:1 , chd:0 , format:json , arr:CJU , inf:0 , airlineCode:KE , dep:PUS , depDate:20170829 , \n"
     ]
    },
    {
     "name": "stderr",
     "output_type": "stream",
     "text": [
      "2017-08-11 08:30:16,956 root     DEBUG    Crawling Interpark domastic schedule site\n"
     ]
    },
    {
     "name": "stdout",
     "output_type": "stream",
     "text": [
      "End Simple crawling\n",
      "Start Simple crawling :  http://domair.interpark.com/api/booking/airJourney.do\n",
      ">> Parameters\n",
      "tripDivi:0 , adt:1 , chd:0 , format:json , arr:CJU , inf:0 , airlineCode:ZE , dep:PUS , depDate:20170829 , \n"
     ]
    },
    {
     "name": "stderr",
     "output_type": "stream",
     "text": [
      "2017-08-11 08:30:17,909 root     DEBUG    Crawling Interpark domastic schedule site\n"
     ]
    },
    {
     "name": "stdout",
     "output_type": "stream",
     "text": [
      "End Simple crawling\n",
      "Start Simple crawling :  http://domair.interpark.com/api/booking/airJourney.do\n",
      ">> Parameters\n",
      "tripDivi:0 , adt:1 , chd:0 , format:json , arr:CJU , inf:0 , airlineCode:7C , dep:PUS , depDate:20170830 , \n"
     ]
    },
    {
     "name": "stderr",
     "output_type": "stream",
     "text": [
      "2017-08-11 08:30:19,782 root     DEBUG    Crawling Interpark domastic schedule site\n",
      "2017-08-11 08:30:19,899 root     DEBUG    Crawling Interpark domastic schedule site\n"
     ]
    },
    {
     "name": "stdout",
     "output_type": "stream",
     "text": [
      "End Simple crawling\n",
      "Start Simple crawling :  http://domair.interpark.com/api/booking/airJourney.do\n",
      ">> Parameters\n",
      "tripDivi:0 , adt:1 , chd:0 , format:json , arr:CJU , inf:0 , airlineCode:LJ , dep:PUS , depDate:20170830 , \n",
      "End Simple crawling\n",
      "Start Simple crawling :  http://domair.interpark.com/api/booking/airJourney.do\n",
      ">> Parameters\n",
      "tripDivi:0 , adt:1 , chd:0 , format:json , arr:CJU , inf:0 , airlineCode:OZ , dep:PUS , depDate:20170830 , \n"
     ]
    },
    {
     "name": "stderr",
     "output_type": "stream",
     "text": [
      "2017-08-11 08:30:21,218 root     DEBUG    Crawling Interpark domastic schedule site\n"
     ]
    },
    {
     "name": "stdout",
     "output_type": "stream",
     "text": [
      "End Simple crawling\n",
      "Start Simple crawling :  http://domair.interpark.com/api/booking/airJourney.do\n",
      ">> Parameters\n",
      "tripDivi:0 , adt:1 , chd:0 , format:json , arr:CJU , inf:0 , airlineCode:KE , dep:PUS , depDate:20170830 , \n"
     ]
    },
    {
     "name": "stderr",
     "output_type": "stream",
     "text": [
      "2017-08-11 08:30:26,227 root     DEBUG    Crawling Interpark domastic schedule site\n"
     ]
    },
    {
     "name": "stdout",
     "output_type": "stream",
     "text": [
      "End Simple crawling\n",
      "Start Simple crawling :  http://domair.interpark.com/api/booking/airJourney.do\n",
      ">> Parameters\n",
      "tripDivi:0 , adt:1 , chd:0 , format:json , arr:CJU , inf:0 , airlineCode:ZE , dep:PUS , depDate:20170830 , \n"
     ]
    },
    {
     "name": "stderr",
     "output_type": "stream",
     "text": [
      "2017-08-11 08:30:27,317 root     DEBUG    Crawling Interpark domastic schedule site\n"
     ]
    },
    {
     "name": "stdout",
     "output_type": "stream",
     "text": [
      "End Simple crawling\n",
      "Start Simple crawling :  http://domair.interpark.com/api/booking/airJourney.do\n",
      ">> Parameters\n",
      "tripDivi:0 , adt:1 , chd:0 , format:json , arr:CJU , inf:0 , airlineCode:7C , dep:PUS , depDate:20170831 , \n"
     ]
    },
    {
     "name": "stderr",
     "output_type": "stream",
     "text": [
      "2017-08-11 08:30:29,170 root     DEBUG    Crawling Interpark domastic schedule site\n",
      "2017-08-11 08:30:29,293 root     DEBUG    Crawling Interpark domastic schedule site\n"
     ]
    },
    {
     "name": "stdout",
     "output_type": "stream",
     "text": [
      "End Simple crawling\n",
      "Start Simple crawling :  http://domair.interpark.com/api/booking/airJourney.do\n",
      ">> Parameters\n",
      "tripDivi:0 , adt:1 , chd:0 , format:json , arr:CJU , inf:0 , airlineCode:LJ , dep:PUS , depDate:20170831 , \n",
      "End Simple crawling\n",
      "Start Simple crawling :  http://domair.interpark.com/api/booking/airJourney.do\n",
      ">> Parameters\n",
      "tripDivi:0 , adt:1 , chd:0 , format:json , arr:CJU , inf:0 , airlineCode:OZ , dep:PUS , depDate:20170831 , \n"
     ]
    },
    {
     "name": "stderr",
     "output_type": "stream",
     "text": [
      "2017-08-11 08:30:30,219 root     DEBUG    Crawling Interpark domastic schedule site\n"
     ]
    },
    {
     "name": "stdout",
     "output_type": "stream",
     "text": [
      "End Simple crawling\n",
      "Start Simple crawling :  http://domair.interpark.com/api/booking/airJourney.do\n",
      ">> Parameters\n",
      "tripDivi:0 , adt:1 , chd:0 , format:json , arr:CJU , inf:0 , airlineCode:KE , dep:PUS , depDate:20170831 , \n"
     ]
    },
    {
     "name": "stderr",
     "output_type": "stream",
     "text": [
      "2017-08-11 08:30:35,522 root     DEBUG    Crawling Interpark domastic schedule site\n"
     ]
    },
    {
     "name": "stdout",
     "output_type": "stream",
     "text": [
      "End Simple crawling\n",
      "Start Simple crawling :  http://domair.interpark.com/api/booking/airJourney.do\n",
      ">> Parameters\n",
      "tripDivi:0 , adt:1 , chd:0 , format:json , arr:CJU , inf:0 , airlineCode:ZE , dep:PUS , depDate:20170831 , \n"
     ]
    },
    {
     "name": "stderr",
     "output_type": "stream",
     "text": [
      "2017-08-11 08:30:36,496 root     DEBUG    Crawling Interpark domastic schedule site\n"
     ]
    },
    {
     "name": "stdout",
     "output_type": "stream",
     "text": [
      "End Simple crawling\n",
      "Start Simple crawling :  http://domair.interpark.com/api/booking/airJourney.do\n",
      ">> Parameters\n",
      "tripDivi:0 , adt:1 , chd:0 , format:json , arr:CJU , inf:0 , airlineCode:7C , dep:PUS , depDate:20170901 , \n"
     ]
    },
    {
     "name": "stderr",
     "output_type": "stream",
     "text": [
      "2017-08-11 08:30:38,263 root     DEBUG    Crawling Interpark domastic schedule site\n"
     ]
    },
    {
     "name": "stdout",
     "output_type": "stream",
     "text": [
      "End Simple crawling\n",
      "Start Simple crawling :  http://domair.interpark.com/api/booking/airJourney.do\n",
      ">> Parameters\n",
      "tripDivi:0 , adt:1 , chd:0 , format:json , arr:CJU , inf:0 , airlineCode:LJ , dep:PUS , depDate:20170901 , \n"
     ]
    },
    {
     "name": "stderr",
     "output_type": "stream",
     "text": [
      "2017-08-11 08:30:38,485 root     DEBUG    Crawling Interpark domastic schedule site\n"
     ]
    },
    {
     "name": "stdout",
     "output_type": "stream",
     "text": [
      "End Simple crawling\n",
      "Start Simple crawling :  http://domair.interpark.com/api/booking/airJourney.do\n",
      ">> Parameters\n",
      "tripDivi:0 , adt:1 , chd:0 , format:json , arr:CJU , inf:0 , airlineCode:OZ , dep:PUS , depDate:20170901 , \n"
     ]
    },
    {
     "name": "stderr",
     "output_type": "stream",
     "text": [
      "2017-08-11 08:30:39,440 root     DEBUG    Crawling Interpark domastic schedule site\n"
     ]
    },
    {
     "name": "stdout",
     "output_type": "stream",
     "text": [
      "End Simple crawling\n",
      "Start Simple crawling :  http://domair.interpark.com/api/booking/airJourney.do\n",
      ">> Parameters\n",
      "tripDivi:0 , adt:1 , chd:0 , format:json , arr:CJU , inf:0 , airlineCode:KE , dep:PUS , depDate:20170901 , \n"
     ]
    },
    {
     "name": "stderr",
     "output_type": "stream",
     "text": [
      "2017-08-11 08:30:44,729 root     DEBUG    Crawling Interpark domastic schedule site\n"
     ]
    },
    {
     "name": "stdout",
     "output_type": "stream",
     "text": [
      "End Simple crawling\n",
      "Start Simple crawling :  http://domair.interpark.com/api/booking/airJourney.do\n",
      ">> Parameters\n",
      "tripDivi:0 , adt:1 , chd:0 , format:json , arr:CJU , inf:0 , airlineCode:ZE , dep:PUS , depDate:20170901 , \n"
     ]
    },
    {
     "name": "stderr",
     "output_type": "stream",
     "text": [
      "2017-08-11 08:30:45,653 root     INFO     end batch job :: craw_by_route_site :: elapsed -0:03:13.835087 :: Total crawl:105 files saved.\n",
      "2017-08-11 08:30:45,656 root     INFO     start batch job :: craw_by_route_site[CJJ,CJU,IP,['20170812', '20170813', '20170814', '20170815', '20170816', '20170817', '20170818', '20170819', '20170820', '20170821', '20170822', '20170823', '20170824', '20170825', '20170826', '20170827', '20170828', '20170829', '20170830', '20170831', '20170901'],['7C', 'LJ', 'OZ', 'KE', 'ZE']]\n",
      "2017-08-11 08:30:45,658 root     DEBUG    0 :: IP :: crawling_IP_dom :: False\n",
      "2017-08-11 08:30:45,662 root     INFO     <function crawling_IP_dom at 0x0000000007C78378> :: False\n",
      "2017-08-11 08:30:45,665 root     DEBUG    Crawling Interpark domastic schedule site\n"
     ]
    },
    {
     "name": "stdout",
     "output_type": "stream",
     "text": [
      "End Simple crawling\n",
      "Start Simple crawling :  http://domair.interpark.com/api/booking/airJourney.do\n",
      ">> Parameters\n",
      "tripDivi:0 , adt:1 , chd:0 , format:json , arr:CJU , inf:0 , airlineCode:7C , dep:CJJ , depDate:20170812 , \n"
     ]
    },
    {
     "name": "stderr",
     "output_type": "stream",
     "text": [
      "2017-08-11 08:30:46,659 root     DEBUG    Crawling Interpark domastic schedule site\n",
      "2017-08-11 08:30:46,775 root     DEBUG    Crawling Interpark domastic schedule site\n"
     ]
    },
    {
     "name": "stdout",
     "output_type": "stream",
     "text": [
      "End Simple crawling\n",
      "Start Simple crawling :  http://domair.interpark.com/api/booking/airJourney.do\n",
      ">> Parameters\n",
      "tripDivi:0 , adt:1 , chd:0 , format:json , arr:CJU , inf:0 , airlineCode:LJ , dep:CJJ , depDate:20170812 , \n",
      "End Simple crawling\n",
      "Start Simple crawling :  http://domair.interpark.com/api/booking/airJourney.do\n",
      ">> Parameters\n",
      "tripDivi:0 , adt:1 , chd:0 , format:json , arr:CJU , inf:0 , airlineCode:OZ , dep:CJJ , depDate:20170812 , \n"
     ]
    },
    {
     "name": "stderr",
     "output_type": "stream",
     "text": [
      "2017-08-11 08:30:47,667 root     DEBUG    Crawling Interpark domastic schedule site\n"
     ]
    },
    {
     "name": "stdout",
     "output_type": "stream",
     "text": [
      "End Simple crawling\n",
      "Start Simple crawling :  http://domair.interpark.com/api/booking/airJourney.do\n",
      ">> Parameters\n",
      "tripDivi:0 , adt:1 , chd:0 , format:json , arr:CJU , inf:0 , airlineCode:KE , dep:CJJ , depDate:20170812 , \n"
     ]
    },
    {
     "name": "stderr",
     "output_type": "stream",
     "text": [
      "2017-08-11 08:30:52,207 root     DEBUG    Crawling Interpark domastic schedule site\n"
     ]
    },
    {
     "name": "stdout",
     "output_type": "stream",
     "text": [
      "End Simple crawling\n",
      "Start Simple crawling :  http://domair.interpark.com/api/booking/airJourney.do\n",
      ">> Parameters\n",
      "tripDivi:0 , adt:1 , chd:0 , format:json , arr:CJU , inf:0 , airlineCode:ZE , dep:CJJ , depDate:20170812 , \n"
     ]
    },
    {
     "name": "stderr",
     "output_type": "stream",
     "text": [
      "2017-08-11 08:30:53,184 root     DEBUG    Crawling Interpark domastic schedule site\n"
     ]
    },
    {
     "name": "stdout",
     "output_type": "stream",
     "text": [
      "End Simple crawling\n",
      "Start Simple crawling :  http://domair.interpark.com/api/booking/airJourney.do\n",
      ">> Parameters\n",
      "tripDivi:0 , adt:1 , chd:0 , format:json , arr:CJU , inf:0 , airlineCode:7C , dep:CJJ , depDate:20170813 , \n"
     ]
    },
    {
     "name": "stderr",
     "output_type": "stream",
     "text": [
      "2017-08-11 08:30:54,578 root     DEBUG    Crawling Interpark domastic schedule site\n",
      "2017-08-11 08:30:54,700 root     DEBUG    Crawling Interpark domastic schedule site\n"
     ]
    },
    {
     "name": "stdout",
     "output_type": "stream",
     "text": [
      "End Simple crawling\n",
      "Start Simple crawling :  http://domair.interpark.com/api/booking/airJourney.do\n",
      ">> Parameters\n",
      "tripDivi:0 , adt:1 , chd:0 , format:json , arr:CJU , inf:0 , airlineCode:LJ , dep:CJJ , depDate:20170813 , \n",
      "End Simple crawling\n",
      "Start Simple crawling :  http://domair.interpark.com/api/booking/airJourney.do\n",
      ">> Parameters\n",
      "tripDivi:0 , adt:1 , chd:0 , format:json , arr:CJU , inf:0 , airlineCode:OZ , dep:CJJ , depDate:20170813 , \n"
     ]
    },
    {
     "name": "stderr",
     "output_type": "stream",
     "text": [
      "2017-08-11 08:30:55,374 root     DEBUG    Crawling Interpark domastic schedule site\n"
     ]
    },
    {
     "name": "stdout",
     "output_type": "stream",
     "text": [
      "End Simple crawling\n",
      "Start Simple crawling :  http://domair.interpark.com/api/booking/airJourney.do\n",
      ">> Parameters\n",
      "tripDivi:0 , adt:1 , chd:0 , format:json , arr:CJU , inf:0 , airlineCode:KE , dep:CJJ , depDate:20170813 , \n"
     ]
    },
    {
     "name": "stderr",
     "output_type": "stream",
     "text": [
      "2017-08-11 08:31:00,526 root     DEBUG    Crawling Interpark domastic schedule site\n"
     ]
    },
    {
     "name": "stdout",
     "output_type": "stream",
     "text": [
      "End Simple crawling\n",
      "Start Simple crawling :  http://domair.interpark.com/api/booking/airJourney.do\n",
      ">> Parameters\n",
      "tripDivi:0 , adt:1 , chd:0 , format:json , arr:CJU , inf:0 , airlineCode:ZE , dep:CJJ , depDate:20170813 , \n"
     ]
    },
    {
     "name": "stderr",
     "output_type": "stream",
     "text": [
      "2017-08-11 08:31:01,675 root     DEBUG    Crawling Interpark domastic schedule site\n"
     ]
    },
    {
     "name": "stdout",
     "output_type": "stream",
     "text": [
      "End Simple crawling\n",
      "Start Simple crawling :  http://domair.interpark.com/api/booking/airJourney.do\n",
      ">> Parameters\n",
      "tripDivi:0 , adt:1 , chd:0 , format:json , arr:CJU , inf:0 , airlineCode:7C , dep:CJJ , depDate:20170814 , \n"
     ]
    },
    {
     "name": "stderr",
     "output_type": "stream",
     "text": [
      "2017-08-11 08:31:03,063 root     DEBUG    Crawling Interpark domastic schedule site\n",
      "2017-08-11 08:31:03,192 root     DEBUG    Crawling Interpark domastic schedule site\n"
     ]
    },
    {
     "name": "stdout",
     "output_type": "stream",
     "text": [
      "End Simple crawling\n",
      "Start Simple crawling :  http://domair.interpark.com/api/booking/airJourney.do\n",
      ">> Parameters\n",
      "tripDivi:0 , adt:1 , chd:0 , format:json , arr:CJU , inf:0 , airlineCode:LJ , dep:CJJ , depDate:20170814 , \n",
      "End Simple crawling\n",
      "Start Simple crawling :  http://domair.interpark.com/api/booking/airJourney.do\n",
      ">> Parameters\n",
      "tripDivi:0 , adt:1 , chd:0 , format:json , arr:CJU , inf:0 , airlineCode:OZ , dep:CJJ , depDate:20170814 , \n"
     ]
    },
    {
     "name": "stderr",
     "output_type": "stream",
     "text": [
      "2017-08-11 08:31:03,868 root     DEBUG    Crawling Interpark domastic schedule site\n"
     ]
    },
    {
     "name": "stdout",
     "output_type": "stream",
     "text": [
      "End Simple crawling\n",
      "Start Simple crawling :  http://domair.interpark.com/api/booking/airJourney.do\n",
      ">> Parameters\n",
      "tripDivi:0 , adt:1 , chd:0 , format:json , arr:CJU , inf:0 , airlineCode:KE , dep:CJJ , depDate:20170814 , \n"
     ]
    },
    {
     "name": "stderr",
     "output_type": "stream",
     "text": [
      "2017-08-11 08:31:10,350 root     DEBUG    Crawling Interpark domastic schedule site\n"
     ]
    },
    {
     "name": "stdout",
     "output_type": "stream",
     "text": [
      "End Simple crawling\n",
      "Start Simple crawling :  http://domair.interpark.com/api/booking/airJourney.do\n",
      ">> Parameters\n",
      "tripDivi:0 , adt:1 , chd:0 , format:json , arr:CJU , inf:0 , airlineCode:ZE , dep:CJJ , depDate:20170814 , \n"
     ]
    },
    {
     "name": "stderr",
     "output_type": "stream",
     "text": [
      "2017-08-11 08:31:11,314 root     DEBUG    Crawling Interpark domastic schedule site\n"
     ]
    },
    {
     "name": "stdout",
     "output_type": "stream",
     "text": [
      "End Simple crawling\n",
      "Start Simple crawling :  http://domair.interpark.com/api/booking/airJourney.do\n",
      ">> Parameters\n",
      "tripDivi:0 , adt:1 , chd:0 , format:json , arr:CJU , inf:0 , airlineCode:7C , dep:CJJ , depDate:20170815 , \n"
     ]
    },
    {
     "name": "stderr",
     "output_type": "stream",
     "text": [
      "2017-08-11 08:31:12,612 root     DEBUG    Crawling Interpark domastic schedule site\n",
      "2017-08-11 08:31:12,738 root     DEBUG    Crawling Interpark domastic schedule site\n"
     ]
    },
    {
     "name": "stdout",
     "output_type": "stream",
     "text": [
      "End Simple crawling\n",
      "Start Simple crawling :  http://domair.interpark.com/api/booking/airJourney.do\n",
      ">> Parameters\n",
      "tripDivi:0 , adt:1 , chd:0 , format:json , arr:CJU , inf:0 , airlineCode:LJ , dep:CJJ , depDate:20170815 , \n",
      "End Simple crawling\n",
      "Start Simple crawling :  http://domair.interpark.com/api/booking/airJourney.do\n",
      ">> Parameters\n",
      "tripDivi:0 , adt:1 , chd:0 , format:json , arr:CJU , inf:0 , airlineCode:OZ , dep:CJJ , depDate:20170815 , \n"
     ]
    },
    {
     "name": "stderr",
     "output_type": "stream",
     "text": [
      "2017-08-11 08:31:13,422 root     DEBUG    Crawling Interpark domastic schedule site\n"
     ]
    },
    {
     "name": "stdout",
     "output_type": "stream",
     "text": [
      "End Simple crawling\n",
      "Start Simple crawling :  http://domair.interpark.com/api/booking/airJourney.do\n",
      ">> Parameters\n",
      "tripDivi:0 , adt:1 , chd:0 , format:json , arr:CJU , inf:0 , airlineCode:KE , dep:CJJ , depDate:20170815 , \n"
     ]
    },
    {
     "name": "stderr",
     "output_type": "stream",
     "text": [
      "2017-08-11 08:31:18,816 root     DEBUG    Crawling Interpark domastic schedule site\n"
     ]
    },
    {
     "name": "stdout",
     "output_type": "stream",
     "text": [
      "End Simple crawling\n",
      "Start Simple crawling :  http://domair.interpark.com/api/booking/airJourney.do\n",
      ">> Parameters\n",
      "tripDivi:0 , adt:1 , chd:0 , format:json , arr:CJU , inf:0 , airlineCode:ZE , dep:CJJ , depDate:20170815 , \n"
     ]
    },
    {
     "name": "stderr",
     "output_type": "stream",
     "text": [
      "2017-08-11 08:31:19,819 root     DEBUG    Crawling Interpark domastic schedule site\n"
     ]
    },
    {
     "name": "stdout",
     "output_type": "stream",
     "text": [
      "End Simple crawling\n",
      "Start Simple crawling :  http://domair.interpark.com/api/booking/airJourney.do\n",
      ">> Parameters\n",
      "tripDivi:0 , adt:1 , chd:0 , format:json , arr:CJU , inf:0 , airlineCode:7C , dep:CJJ , depDate:20170816 , \n"
     ]
    },
    {
     "name": "stderr",
     "output_type": "stream",
     "text": [
      "2017-08-11 08:31:21,271 root     DEBUG    Crawling Interpark domastic schedule site\n",
      "2017-08-11 08:31:21,391 root     DEBUG    Crawling Interpark domastic schedule site\n"
     ]
    },
    {
     "name": "stdout",
     "output_type": "stream",
     "text": [
      "End Simple crawling\n",
      "Start Simple crawling :  http://domair.interpark.com/api/booking/airJourney.do\n",
      ">> Parameters\n",
      "tripDivi:0 , adt:1 , chd:0 , format:json , arr:CJU , inf:0 , airlineCode:LJ , dep:CJJ , depDate:20170816 , \n",
      "End Simple crawling\n",
      "Start Simple crawling :  http://domair.interpark.com/api/booking/airJourney.do\n",
      ">> Parameters\n",
      "tripDivi:0 , adt:1 , chd:0 , format:json , arr:CJU , inf:0 , airlineCode:OZ , dep:CJJ , depDate:20170816 , \n"
     ]
    },
    {
     "name": "stderr",
     "output_type": "stream",
     "text": [
      "2017-08-11 08:31:22,094 root     DEBUG    Crawling Interpark domastic schedule site\n"
     ]
    },
    {
     "name": "stdout",
     "output_type": "stream",
     "text": [
      "End Simple crawling\n",
      "Start Simple crawling :  http://domair.interpark.com/api/booking/airJourney.do\n",
      ">> Parameters\n",
      "tripDivi:0 , adt:1 , chd:0 , format:json , arr:CJU , inf:0 , airlineCode:KE , dep:CJJ , depDate:20170816 , \n"
     ]
    },
    {
     "name": "stderr",
     "output_type": "stream",
     "text": [
      "2017-08-11 08:31:26,927 root     DEBUG    Crawling Interpark domastic schedule site\n"
     ]
    },
    {
     "name": "stdout",
     "output_type": "stream",
     "text": [
      "End Simple crawling\n",
      "Start Simple crawling :  http://domair.interpark.com/api/booking/airJourney.do\n",
      ">> Parameters\n",
      "tripDivi:0 , adt:1 , chd:0 , format:json , arr:CJU , inf:0 , airlineCode:ZE , dep:CJJ , depDate:20170816 , \n"
     ]
    },
    {
     "name": "stderr",
     "output_type": "stream",
     "text": [
      "2017-08-11 08:31:27,973 root     DEBUG    Crawling Interpark domastic schedule site\n"
     ]
    },
    {
     "name": "stdout",
     "output_type": "stream",
     "text": [
      "End Simple crawling\n",
      "Start Simple crawling :  http://domair.interpark.com/api/booking/airJourney.do\n",
      ">> Parameters\n",
      "tripDivi:0 , adt:1 , chd:0 , format:json , arr:CJU , inf:0 , airlineCode:7C , dep:CJJ , depDate:20170817 , \n"
     ]
    },
    {
     "name": "stderr",
     "output_type": "stream",
     "text": [
      "2017-08-11 08:31:29,584 root     DEBUG    Crawling Interpark domastic schedule site\n",
      "2017-08-11 08:31:29,737 root     DEBUG    Crawling Interpark domastic schedule site\n"
     ]
    },
    {
     "name": "stdout",
     "output_type": "stream",
     "text": [
      "End Simple crawling\n",
      "Start Simple crawling :  http://domair.interpark.com/api/booking/airJourney.do\n",
      ">> Parameters\n",
      "tripDivi:0 , adt:1 , chd:0 , format:json , arr:CJU , inf:0 , airlineCode:LJ , dep:CJJ , depDate:20170817 , \n",
      "End Simple crawling\n",
      "Start Simple crawling :  http://domair.interpark.com/api/booking/airJourney.do\n",
      ">> Parameters\n",
      "tripDivi:0 , adt:1 , chd:0 , format:json , arr:CJU , inf:0 , airlineCode:OZ , dep:CJJ , depDate:20170817 , \n"
     ]
    },
    {
     "name": "stderr",
     "output_type": "stream",
     "text": [
      "2017-08-11 08:31:30,621 root     DEBUG    Crawling Interpark domastic schedule site\n"
     ]
    },
    {
     "name": "stdout",
     "output_type": "stream",
     "text": [
      "End Simple crawling\n",
      "Start Simple crawling :  http://domair.interpark.com/api/booking/airJourney.do\n",
      ">> Parameters\n",
      "tripDivi:0 , adt:1 , chd:0 , format:json , arr:CJU , inf:0 , airlineCode:KE , dep:CJJ , depDate:20170817 , \n"
     ]
    },
    {
     "name": "stderr",
     "output_type": "stream",
     "text": [
      "2017-08-11 08:31:35,572 root     DEBUG    Crawling Interpark domastic schedule site\n"
     ]
    },
    {
     "name": "stdout",
     "output_type": "stream",
     "text": [
      "End Simple crawling\n",
      "Start Simple crawling :  http://domair.interpark.com/api/booking/airJourney.do\n",
      ">> Parameters\n",
      "tripDivi:0 , adt:1 , chd:0 , format:json , arr:CJU , inf:0 , airlineCode:ZE , dep:CJJ , depDate:20170817 , \n"
     ]
    },
    {
     "name": "stderr",
     "output_type": "stream",
     "text": [
      "2017-08-11 08:31:36,671 root     DEBUG    Crawling Interpark domastic schedule site\n"
     ]
    },
    {
     "name": "stdout",
     "output_type": "stream",
     "text": [
      "End Simple crawling\n",
      "Start Simple crawling :  http://domair.interpark.com/api/booking/airJourney.do\n",
      ">> Parameters\n",
      "tripDivi:0 , adt:1 , chd:0 , format:json , arr:CJU , inf:0 , airlineCode:7C , dep:CJJ , depDate:20170818 , \n"
     ]
    },
    {
     "name": "stderr",
     "output_type": "stream",
     "text": [
      "2017-08-11 08:31:38,494 root     DEBUG    Crawling Interpark domastic schedule site\n",
      "2017-08-11 08:31:38,615 root     DEBUG    Crawling Interpark domastic schedule site\n"
     ]
    },
    {
     "name": "stdout",
     "output_type": "stream",
     "text": [
      "End Simple crawling\n",
      "Start Simple crawling :  http://domair.interpark.com/api/booking/airJourney.do\n",
      ">> Parameters\n",
      "tripDivi:0 , adt:1 , chd:0 , format:json , arr:CJU , inf:0 , airlineCode:LJ , dep:CJJ , depDate:20170818 , \n",
      "End Simple crawling\n",
      "Start Simple crawling :  http://domair.interpark.com/api/booking/airJourney.do\n",
      ">> Parameters\n",
      "tripDivi:0 , adt:1 , chd:0 , format:json , arr:CJU , inf:0 , airlineCode:OZ , dep:CJJ , depDate:20170818 , \n"
     ]
    },
    {
     "name": "stderr",
     "output_type": "stream",
     "text": [
      "2017-08-11 08:31:39,695 root     DEBUG    Crawling Interpark domastic schedule site\n"
     ]
    },
    {
     "name": "stdout",
     "output_type": "stream",
     "text": [
      "End Simple crawling\n",
      "Start Simple crawling :  http://domair.interpark.com/api/booking/airJourney.do\n",
      ">> Parameters\n",
      "tripDivi:0 , adt:1 , chd:0 , format:json , arr:CJU , inf:0 , airlineCode:KE , dep:CJJ , depDate:20170818 , \n"
     ]
    },
    {
     "name": "stderr",
     "output_type": "stream",
     "text": [
      "2017-08-11 08:31:44,443 root     DEBUG    Crawling Interpark domastic schedule site\n"
     ]
    },
    {
     "name": "stdout",
     "output_type": "stream",
     "text": [
      "End Simple crawling\n",
      "Start Simple crawling :  http://domair.interpark.com/api/booking/airJourney.do\n",
      ">> Parameters\n",
      "tripDivi:0 , adt:1 , chd:0 , format:json , arr:CJU , inf:0 , airlineCode:ZE , dep:CJJ , depDate:20170818 , \n"
     ]
    },
    {
     "name": "stderr",
     "output_type": "stream",
     "text": [
      "2017-08-11 08:31:45,671 root     DEBUG    Crawling Interpark domastic schedule site\n"
     ]
    },
    {
     "name": "stdout",
     "output_type": "stream",
     "text": [
      "End Simple crawling\n",
      "Start Simple crawling :  http://domair.interpark.com/api/booking/airJourney.do\n",
      ">> Parameters\n",
      "tripDivi:0 , adt:1 , chd:0 , format:json , arr:CJU , inf:0 , airlineCode:7C , dep:CJJ , depDate:20170819 , \n"
     ]
    },
    {
     "name": "stderr",
     "output_type": "stream",
     "text": [
      "2017-08-11 08:31:46,996 root     DEBUG    Crawling Interpark domastic schedule site\n",
      "2017-08-11 08:31:47,134 root     DEBUG    Crawling Interpark domastic schedule site\n"
     ]
    },
    {
     "name": "stdout",
     "output_type": "stream",
     "text": [
      "End Simple crawling\n",
      "Start Simple crawling :  http://domair.interpark.com/api/booking/airJourney.do\n",
      ">> Parameters\n",
      "tripDivi:0 , adt:1 , chd:0 , format:json , arr:CJU , inf:0 , airlineCode:LJ , dep:CJJ , depDate:20170819 , \n",
      "End Simple crawling\n",
      "Start Simple crawling :  http://domair.interpark.com/api/booking/airJourney.do\n",
      ">> Parameters\n",
      "tripDivi:0 , adt:1 , chd:0 , format:json , arr:CJU , inf:0 , airlineCode:OZ , dep:CJJ , depDate:20170819 , \n"
     ]
    },
    {
     "name": "stderr",
     "output_type": "stream",
     "text": [
      "2017-08-11 08:31:48,051 root     DEBUG    Crawling Interpark domastic schedule site\n"
     ]
    },
    {
     "name": "stdout",
     "output_type": "stream",
     "text": [
      "End Simple crawling\n",
      "Start Simple crawling :  http://domair.interpark.com/api/booking/airJourney.do\n",
      ">> Parameters\n",
      "tripDivi:0 , adt:1 , chd:0 , format:json , arr:CJU , inf:0 , airlineCode:KE , dep:CJJ , depDate:20170819 , \n"
     ]
    },
    {
     "name": "stderr",
     "output_type": "stream",
     "text": [
      "2017-08-11 08:31:53,373 root     DEBUG    Crawling Interpark domastic schedule site\n"
     ]
    },
    {
     "name": "stdout",
     "output_type": "stream",
     "text": [
      "End Simple crawling\n",
      "Start Simple crawling :  http://domair.interpark.com/api/booking/airJourney.do\n",
      ">> Parameters\n",
      "tripDivi:0 , adt:1 , chd:0 , format:json , arr:CJU , inf:0 , airlineCode:ZE , dep:CJJ , depDate:20170819 , \n"
     ]
    },
    {
     "name": "stderr",
     "output_type": "stream",
     "text": [
      "2017-08-11 08:31:54,359 root     DEBUG    Crawling Interpark domastic schedule site\n"
     ]
    },
    {
     "name": "stdout",
     "output_type": "stream",
     "text": [
      "End Simple crawling\n",
      "Start Simple crawling :  http://domair.interpark.com/api/booking/airJourney.do\n",
      ">> Parameters\n",
      "tripDivi:0 , adt:1 , chd:0 , format:json , arr:CJU , inf:0 , airlineCode:7C , dep:CJJ , depDate:20170820 , \n"
     ]
    },
    {
     "name": "stderr",
     "output_type": "stream",
     "text": [
      "2017-08-11 08:31:55,724 root     DEBUG    Crawling Interpark domastic schedule site\n",
      "2017-08-11 08:31:55,851 root     DEBUG    Crawling Interpark domastic schedule site\n"
     ]
    },
    {
     "name": "stdout",
     "output_type": "stream",
     "text": [
      "End Simple crawling\n",
      "Start Simple crawling :  http://domair.interpark.com/api/booking/airJourney.do\n",
      ">> Parameters\n",
      "tripDivi:0 , adt:1 , chd:0 , format:json , arr:CJU , inf:0 , airlineCode:LJ , dep:CJJ , depDate:20170820 , \n",
      "End Simple crawling\n",
      "Start Simple crawling :  http://domair.interpark.com/api/booking/airJourney.do\n",
      ">> Parameters\n",
      "tripDivi:0 , adt:1 , chd:0 , format:json , arr:CJU , inf:0 , airlineCode:OZ , dep:CJJ , depDate:20170820 , \n"
     ]
    },
    {
     "name": "stderr",
     "output_type": "stream",
     "text": [
      "2017-08-11 08:31:56,764 root     DEBUG    Crawling Interpark domastic schedule site\n"
     ]
    },
    {
     "name": "stdout",
     "output_type": "stream",
     "text": [
      "End Simple crawling\n",
      "Start Simple crawling :  http://domair.interpark.com/api/booking/airJourney.do\n",
      ">> Parameters\n",
      "tripDivi:0 , adt:1 , chd:0 , format:json , arr:CJU , inf:0 , airlineCode:KE , dep:CJJ , depDate:20170820 , \n"
     ]
    },
    {
     "name": "stderr",
     "output_type": "stream",
     "text": [
      "2017-08-11 08:32:02,008 root     DEBUG    Crawling Interpark domastic schedule site\n"
     ]
    },
    {
     "name": "stdout",
     "output_type": "stream",
     "text": [
      "End Simple crawling\n",
      "Start Simple crawling :  http://domair.interpark.com/api/booking/airJourney.do\n",
      ">> Parameters\n",
      "tripDivi:0 , adt:1 , chd:0 , format:json , arr:CJU , inf:0 , airlineCode:ZE , dep:CJJ , depDate:20170820 , \n"
     ]
    },
    {
     "name": "stderr",
     "output_type": "stream",
     "text": [
      "2017-08-11 08:32:03,087 root     DEBUG    Crawling Interpark domastic schedule site\n"
     ]
    },
    {
     "name": "stdout",
     "output_type": "stream",
     "text": [
      "End Simple crawling\n",
      "Start Simple crawling :  http://domair.interpark.com/api/booking/airJourney.do\n",
      ">> Parameters\n",
      "tripDivi:0 , adt:1 , chd:0 , format:json , arr:CJU , inf:0 , airlineCode:7C , dep:CJJ , depDate:20170821 , \n"
     ]
    },
    {
     "name": "stderr",
     "output_type": "stream",
     "text": [
      "2017-08-11 08:32:04,830 root     DEBUG    Crawling Interpark domastic schedule site\n"
     ]
    },
    {
     "name": "stdout",
     "output_type": "stream",
     "text": [
      "End Simple crawling\n",
      "Start Simple crawling :  http://domair.interpark.com/api/booking/airJourney.do\n",
      ">> Parameters\n",
      "tripDivi:0 , adt:1 , chd:0 , format:json , arr:CJU , inf:0 , airlineCode:LJ , dep:CJJ , depDate:20170821 , \n"
     ]
    },
    {
     "name": "stderr",
     "output_type": "stream",
     "text": [
      "2017-08-11 08:32:05,157 root     DEBUG    Crawling Interpark domastic schedule site\n"
     ]
    },
    {
     "name": "stdout",
     "output_type": "stream",
     "text": [
      "End Simple crawling\n",
      "Start Simple crawling :  http://domair.interpark.com/api/booking/airJourney.do\n",
      ">> Parameters\n",
      "tripDivi:0 , adt:1 , chd:0 , format:json , arr:CJU , inf:0 , airlineCode:OZ , dep:CJJ , depDate:20170821 , \n"
     ]
    },
    {
     "name": "stderr",
     "output_type": "stream",
     "text": [
      "2017-08-11 08:32:05,807 root     DEBUG    Crawling Interpark domastic schedule site\n"
     ]
    },
    {
     "name": "stdout",
     "output_type": "stream",
     "text": [
      "End Simple crawling\n",
      "Start Simple crawling :  http://domair.interpark.com/api/booking/airJourney.do\n",
      ">> Parameters\n",
      "tripDivi:0 , adt:1 , chd:0 , format:json , arr:CJU , inf:0 , airlineCode:KE , dep:CJJ , depDate:20170821 , \n"
     ]
    },
    {
     "name": "stderr",
     "output_type": "stream",
     "text": [
      "2017-08-11 08:32:10,769 root     DEBUG    Crawling Interpark domastic schedule site\n"
     ]
    },
    {
     "name": "stdout",
     "output_type": "stream",
     "text": [
      "End Simple crawling\n",
      "Start Simple crawling :  http://domair.interpark.com/api/booking/airJourney.do\n",
      ">> Parameters\n",
      "tripDivi:0 , adt:1 , chd:0 , format:json , arr:CJU , inf:0 , airlineCode:ZE , dep:CJJ , depDate:20170821 , \n"
     ]
    },
    {
     "name": "stderr",
     "output_type": "stream",
     "text": [
      "2017-08-11 08:32:11,768 root     DEBUG    Crawling Interpark domastic schedule site\n"
     ]
    },
    {
     "name": "stdout",
     "output_type": "stream",
     "text": [
      "End Simple crawling\n",
      "Start Simple crawling :  http://domair.interpark.com/api/booking/airJourney.do\n",
      ">> Parameters\n",
      "tripDivi:0 , adt:1 , chd:0 , format:json , arr:CJU , inf:0 , airlineCode:7C , dep:CJJ , depDate:20170822 , \n"
     ]
    },
    {
     "name": "stderr",
     "output_type": "stream",
     "text": [
      "2017-08-11 08:32:13,148 root     DEBUG    Crawling Interpark domastic schedule site\n",
      "2017-08-11 08:32:13,272 root     DEBUG    Crawling Interpark domastic schedule site\n"
     ]
    },
    {
     "name": "stdout",
     "output_type": "stream",
     "text": [
      "End Simple crawling\n",
      "Start Simple crawling :  http://domair.interpark.com/api/booking/airJourney.do\n",
      ">> Parameters\n",
      "tripDivi:0 , adt:1 , chd:0 , format:json , arr:CJU , inf:0 , airlineCode:LJ , dep:CJJ , depDate:20170822 , \n",
      "End Simple crawling\n",
      "Start Simple crawling :  http://domair.interpark.com/api/booking/airJourney.do\n",
      ">> Parameters\n",
      "tripDivi:0 , adt:1 , chd:0 , format:json , arr:CJU , inf:0 , airlineCode:OZ , dep:CJJ , depDate:20170822 , \n"
     ]
    },
    {
     "name": "stderr",
     "output_type": "stream",
     "text": [
      "2017-08-11 08:32:13,961 root     DEBUG    Crawling Interpark domastic schedule site\n"
     ]
    },
    {
     "name": "stdout",
     "output_type": "stream",
     "text": [
      "End Simple crawling\n",
      "Start Simple crawling :  http://domair.interpark.com/api/booking/airJourney.do\n",
      ">> Parameters\n",
      "tripDivi:0 , adt:1 , chd:0 , format:json , arr:CJU , inf:0 , airlineCode:KE , dep:CJJ , depDate:20170822 , \n"
     ]
    },
    {
     "name": "stderr",
     "output_type": "stream",
     "text": [
      "2017-08-11 08:32:18,832 root     DEBUG    Crawling Interpark domastic schedule site\n"
     ]
    },
    {
     "name": "stdout",
     "output_type": "stream",
     "text": [
      "End Simple crawling\n",
      "Start Simple crawling :  http://domair.interpark.com/api/booking/airJourney.do\n",
      ">> Parameters\n",
      "tripDivi:0 , adt:1 , chd:0 , format:json , arr:CJU , inf:0 , airlineCode:ZE , dep:CJJ , depDate:20170822 , \n"
     ]
    },
    {
     "name": "stderr",
     "output_type": "stream",
     "text": [
      "2017-08-11 08:32:19,913 root     DEBUG    Crawling Interpark domastic schedule site\n"
     ]
    },
    {
     "name": "stdout",
     "output_type": "stream",
     "text": [
      "End Simple crawling\n",
      "Start Simple crawling :  http://domair.interpark.com/api/booking/airJourney.do\n",
      ">> Parameters\n",
      "tripDivi:0 , adt:1 , chd:0 , format:json , arr:CJU , inf:0 , airlineCode:7C , dep:CJJ , depDate:20170823 , \n"
     ]
    },
    {
     "name": "stderr",
     "output_type": "stream",
     "text": [
      "2017-08-11 08:32:22,133 root     DEBUG    Crawling Interpark domastic schedule site\n",
      "2017-08-11 08:32:22,277 root     DEBUG    Crawling Interpark domastic schedule site\n"
     ]
    },
    {
     "name": "stdout",
     "output_type": "stream",
     "text": [
      "End Simple crawling\n",
      "Start Simple crawling :  http://domair.interpark.com/api/booking/airJourney.do\n",
      ">> Parameters\n",
      "tripDivi:0 , adt:1 , chd:0 , format:json , arr:CJU , inf:0 , airlineCode:LJ , dep:CJJ , depDate:20170823 , \n",
      "End Simple crawling\n",
      "Start Simple crawling :  http://domair.interpark.com/api/booking/airJourney.do\n",
      ">> Parameters\n",
      "tripDivi:0 , adt:1 , chd:0 , format:json , arr:CJU , inf:0 , airlineCode:OZ , dep:CJJ , depDate:20170823 , \n"
     ]
    },
    {
     "name": "stderr",
     "output_type": "stream",
     "text": [
      "2017-08-11 08:32:22,990 root     DEBUG    Crawling Interpark domastic schedule site\n"
     ]
    },
    {
     "name": "stdout",
     "output_type": "stream",
     "text": [
      "End Simple crawling\n",
      "Start Simple crawling :  http://domair.interpark.com/api/booking/airJourney.do\n",
      ">> Parameters\n",
      "tripDivi:0 , adt:1 , chd:0 , format:json , arr:CJU , inf:0 , airlineCode:KE , dep:CJJ , depDate:20170823 , \n"
     ]
    },
    {
     "name": "stderr",
     "output_type": "stream",
     "text": [
      "2017-08-11 08:32:27,960 root     DEBUG    Crawling Interpark domastic schedule site\n"
     ]
    },
    {
     "name": "stdout",
     "output_type": "stream",
     "text": [
      "End Simple crawling\n",
      "Start Simple crawling :  http://domair.interpark.com/api/booking/airJourney.do\n",
      ">> Parameters\n",
      "tripDivi:0 , adt:1 , chd:0 , format:json , arr:CJU , inf:0 , airlineCode:ZE , dep:CJJ , depDate:20170823 , \n"
     ]
    },
    {
     "name": "stderr",
     "output_type": "stream",
     "text": [
      "2017-08-11 08:32:29,197 root     DEBUG    Crawling Interpark domastic schedule site\n"
     ]
    },
    {
     "name": "stdout",
     "output_type": "stream",
     "text": [
      "End Simple crawling\n",
      "Start Simple crawling :  http://domair.interpark.com/api/booking/airJourney.do\n",
      ">> Parameters\n",
      "tripDivi:0 , adt:1 , chd:0 , format:json , arr:CJU , inf:0 , airlineCode:7C , dep:CJJ , depDate:20170824 , \n"
     ]
    },
    {
     "name": "stderr",
     "output_type": "stream",
     "text": [
      "2017-08-11 08:32:30,569 root     DEBUG    Crawling Interpark domastic schedule site\n",
      "2017-08-11 08:32:30,724 root     DEBUG    Crawling Interpark domastic schedule site\n"
     ]
    },
    {
     "name": "stdout",
     "output_type": "stream",
     "text": [
      "End Simple crawling\n",
      "Start Simple crawling :  http://domair.interpark.com/api/booking/airJourney.do\n",
      ">> Parameters\n",
      "tripDivi:0 , adt:1 , chd:0 , format:json , arr:CJU , inf:0 , airlineCode:LJ , dep:CJJ , depDate:20170824 , \n",
      "End Simple crawling\n",
      "Start Simple crawling :  http://domair.interpark.com/api/booking/airJourney.do\n",
      ">> Parameters\n",
      "tripDivi:0 , adt:1 , chd:0 , format:json , arr:CJU , inf:0 , airlineCode:OZ , dep:CJJ , depDate:20170824 , \n"
     ]
    },
    {
     "name": "stderr",
     "output_type": "stream",
     "text": [
      "2017-08-11 08:32:31,614 root     DEBUG    Crawling Interpark domastic schedule site\n"
     ]
    },
    {
     "name": "stdout",
     "output_type": "stream",
     "text": [
      "End Simple crawling\n",
      "Start Simple crawling :  http://domair.interpark.com/api/booking/airJourney.do\n",
      ">> Parameters\n",
      "tripDivi:0 , adt:1 , chd:0 , format:json , arr:CJU , inf:0 , airlineCode:KE , dep:CJJ , depDate:20170824 , \n"
     ]
    },
    {
     "name": "stderr",
     "output_type": "stream",
     "text": [
      "2017-08-11 08:32:36,602 root     DEBUG    Crawling Interpark domastic schedule site\n"
     ]
    },
    {
     "name": "stdout",
     "output_type": "stream",
     "text": [
      "End Simple crawling\n",
      "Start Simple crawling :  http://domair.interpark.com/api/booking/airJourney.do\n",
      ">> Parameters\n",
      "tripDivi:0 , adt:1 , chd:0 , format:json , arr:CJU , inf:0 , airlineCode:ZE , dep:CJJ , depDate:20170824 , \n"
     ]
    },
    {
     "name": "stderr",
     "output_type": "stream",
     "text": [
      "2017-08-11 08:32:37,625 root     DEBUG    Crawling Interpark domastic schedule site\n"
     ]
    },
    {
     "name": "stdout",
     "output_type": "stream",
     "text": [
      "End Simple crawling\n",
      "Start Simple crawling :  http://domair.interpark.com/api/booking/airJourney.do\n",
      ">> Parameters\n",
      "tripDivi:0 , adt:1 , chd:0 , format:json , arr:CJU , inf:0 , airlineCode:7C , dep:CJJ , depDate:20170825 , \n"
     ]
    },
    {
     "name": "stderr",
     "output_type": "stream",
     "text": [
      "2017-08-11 08:32:38,987 root     DEBUG    Crawling Interpark domastic schedule site\n"
     ]
    },
    {
     "name": "stdout",
     "output_type": "stream",
     "text": [
      "End Simple crawling\n",
      "Start Simple crawling :  http://domair.interpark.com/api/booking/airJourney.do\n",
      ">> Parameters\n",
      "tripDivi:0 , adt:1 , chd:0 , format:json , arr:CJU , inf:0 , airlineCode:LJ , dep:CJJ , depDate:20170825 , \n"
     ]
    },
    {
     "name": "stderr",
     "output_type": "stream",
     "text": [
      "2017-08-11 08:32:39,272 root     DEBUG    Crawling Interpark domastic schedule site\n"
     ]
    },
    {
     "name": "stdout",
     "output_type": "stream",
     "text": [
      "End Simple crawling\n",
      "Start Simple crawling :  http://domair.interpark.com/api/booking/airJourney.do\n",
      ">> Parameters\n",
      "tripDivi:0 , adt:1 , chd:0 , format:json , arr:CJU , inf:0 , airlineCode:OZ , dep:CJJ , depDate:20170825 , \n"
     ]
    },
    {
     "name": "stderr",
     "output_type": "stream",
     "text": [
      "2017-08-11 08:32:40,014 root     DEBUG    Crawling Interpark domastic schedule site\n"
     ]
    },
    {
     "name": "stdout",
     "output_type": "stream",
     "text": [
      "End Simple crawling\n",
      "Start Simple crawling :  http://domair.interpark.com/api/booking/airJourney.do\n",
      ">> Parameters\n",
      "tripDivi:0 , adt:1 , chd:0 , format:json , arr:CJU , inf:0 , airlineCode:KE , dep:CJJ , depDate:20170825 , \n"
     ]
    },
    {
     "name": "stderr",
     "output_type": "stream",
     "text": [
      "2017-08-11 08:32:45,025 root     DEBUG    Crawling Interpark domastic schedule site\n"
     ]
    },
    {
     "name": "stdout",
     "output_type": "stream",
     "text": [
      "End Simple crawling\n",
      "Start Simple crawling :  http://domair.interpark.com/api/booking/airJourney.do\n",
      ">> Parameters\n",
      "tripDivi:0 , adt:1 , chd:0 , format:json , arr:CJU , inf:0 , airlineCode:ZE , dep:CJJ , depDate:20170825 , \n"
     ]
    },
    {
     "name": "stderr",
     "output_type": "stream",
     "text": [
      "2017-08-11 08:32:46,122 root     DEBUG    Crawling Interpark domastic schedule site\n"
     ]
    },
    {
     "name": "stdout",
     "output_type": "stream",
     "text": [
      "End Simple crawling\n",
      "Start Simple crawling :  http://domair.interpark.com/api/booking/airJourney.do\n",
      ">> Parameters\n",
      "tripDivi:0 , adt:1 , chd:0 , format:json , arr:CJU , inf:0 , airlineCode:7C , dep:CJJ , depDate:20170826 , \n"
     ]
    },
    {
     "name": "stderr",
     "output_type": "stream",
     "text": [
      "2017-08-11 08:32:48,237 root     DEBUG    Crawling Interpark domastic schedule site\n",
      "2017-08-11 08:32:48,369 root     DEBUG    Crawling Interpark domastic schedule site\n"
     ]
    },
    {
     "name": "stdout",
     "output_type": "stream",
     "text": [
      "End Simple crawling\n",
      "Start Simple crawling :  http://domair.interpark.com/api/booking/airJourney.do\n",
      ">> Parameters\n",
      "tripDivi:0 , adt:1 , chd:0 , format:json , arr:CJU , inf:0 , airlineCode:LJ , dep:CJJ , depDate:20170826 , \n",
      "End Simple crawling\n",
      "Start Simple crawling :  http://domair.interpark.com/api/booking/airJourney.do\n",
      ">> Parameters\n",
      "tripDivi:0 , adt:1 , chd:0 , format:json , arr:CJU , inf:0 , airlineCode:OZ , dep:CJJ , depDate:20170826 , \n"
     ]
    },
    {
     "name": "stderr",
     "output_type": "stream",
     "text": [
      "2017-08-11 08:32:50,474 root     DEBUG    Crawling Interpark domastic schedule site\n"
     ]
    },
    {
     "name": "stdout",
     "output_type": "stream",
     "text": [
      "End Simple crawling\n",
      "Start Simple crawling :  http://domair.interpark.com/api/booking/airJourney.do\n",
      ">> Parameters\n",
      "tripDivi:0 , adt:1 , chd:0 , format:json , arr:CJU , inf:0 , airlineCode:KE , dep:CJJ , depDate:20170826 , \n"
     ]
    },
    {
     "name": "stderr",
     "output_type": "stream",
     "text": [
      "2017-08-11 08:32:55,263 root     DEBUG    Crawling Interpark domastic schedule site\n"
     ]
    },
    {
     "name": "stdout",
     "output_type": "stream",
     "text": [
      "End Simple crawling\n",
      "Start Simple crawling :  http://domair.interpark.com/api/booking/airJourney.do\n",
      ">> Parameters\n",
      "tripDivi:0 , adt:1 , chd:0 , format:json , arr:CJU , inf:0 , airlineCode:ZE , dep:CJJ , depDate:20170826 , \n"
     ]
    },
    {
     "name": "stderr",
     "output_type": "stream",
     "text": [
      "2017-08-11 08:32:56,273 root     DEBUG    Crawling Interpark domastic schedule site\n"
     ]
    },
    {
     "name": "stdout",
     "output_type": "stream",
     "text": [
      "End Simple crawling\n",
      "Start Simple crawling :  http://domair.interpark.com/api/booking/airJourney.do\n",
      ">> Parameters\n",
      "tripDivi:0 , adt:1 , chd:0 , format:json , arr:CJU , inf:0 , airlineCode:7C , dep:CJJ , depDate:20170827 , \n"
     ]
    },
    {
     "name": "stderr",
     "output_type": "stream",
     "text": [
      "2017-08-11 08:32:58,957 root     DEBUG    Crawling Interpark domastic schedule site\n"
     ]
    },
    {
     "name": "stdout",
     "output_type": "stream",
     "text": [
      "End Simple crawling\n",
      "Start Simple crawling :  http://domair.interpark.com/api/booking/airJourney.do\n",
      ">> Parameters\n",
      "tripDivi:0 , adt:1 , chd:0 , format:json , arr:CJU , inf:0 , airlineCode:LJ , dep:CJJ , depDate:20170827 , \n"
     ]
    },
    {
     "name": "stderr",
     "output_type": "stream",
     "text": [
      "2017-08-11 08:32:59,197 root     DEBUG    Crawling Interpark domastic schedule site\n"
     ]
    },
    {
     "name": "stdout",
     "output_type": "stream",
     "text": [
      "End Simple crawling\n",
      "Start Simple crawling :  http://domair.interpark.com/api/booking/airJourney.do\n",
      ">> Parameters\n",
      "tripDivi:0 , adt:1 , chd:0 , format:json , arr:CJU , inf:0 , airlineCode:OZ , dep:CJJ , depDate:20170827 , \n"
     ]
    },
    {
     "name": "stderr",
     "output_type": "stream",
     "text": [
      "2017-08-11 08:33:00,084 root     DEBUG    Crawling Interpark domastic schedule site\n"
     ]
    },
    {
     "name": "stdout",
     "output_type": "stream",
     "text": [
      "End Simple crawling\n",
      "Start Simple crawling :  http://domair.interpark.com/api/booking/airJourney.do\n",
      ">> Parameters\n",
      "tripDivi:0 , adt:1 , chd:0 , format:json , arr:CJU , inf:0 , airlineCode:KE , dep:CJJ , depDate:20170827 , \n"
     ]
    },
    {
     "name": "stderr",
     "output_type": "stream",
     "text": [
      "2017-08-11 08:33:05,044 root     DEBUG    Crawling Interpark domastic schedule site\n"
     ]
    },
    {
     "name": "stdout",
     "output_type": "stream",
     "text": [
      "End Simple crawling\n",
      "Start Simple crawling :  http://domair.interpark.com/api/booking/airJourney.do\n",
      ">> Parameters\n",
      "tripDivi:0 , adt:1 , chd:0 , format:json , arr:CJU , inf:0 , airlineCode:ZE , dep:CJJ , depDate:20170827 , \n"
     ]
    },
    {
     "name": "stderr",
     "output_type": "stream",
     "text": [
      "2017-08-11 08:33:06,310 root     DEBUG    Crawling Interpark domastic schedule site\n"
     ]
    },
    {
     "name": "stdout",
     "output_type": "stream",
     "text": [
      "End Simple crawling\n",
      "Start Simple crawling :  http://domair.interpark.com/api/booking/airJourney.do\n",
      ">> Parameters\n",
      "tripDivi:0 , adt:1 , chd:0 , format:json , arr:CJU , inf:0 , airlineCode:7C , dep:CJJ , depDate:20170828 , \n"
     ]
    },
    {
     "name": "stderr",
     "output_type": "stream",
     "text": [
      "2017-08-11 08:33:07,652 root     DEBUG    Crawling Interpark domastic schedule site\n",
      "2017-08-11 08:33:07,787 root     DEBUG    Crawling Interpark domastic schedule site\n"
     ]
    },
    {
     "name": "stdout",
     "output_type": "stream",
     "text": [
      "End Simple crawling\n",
      "Start Simple crawling :  http://domair.interpark.com/api/booking/airJourney.do\n",
      ">> Parameters\n",
      "tripDivi:0 , adt:1 , chd:0 , format:json , arr:CJU , inf:0 , airlineCode:LJ , dep:CJJ , depDate:20170828 , \n",
      "End Simple crawling\n",
      "Start Simple crawling :  http://domair.interpark.com/api/booking/airJourney.do\n",
      ">> Parameters\n",
      "tripDivi:0 , adt:1 , chd:0 , format:json , arr:CJU , inf:0 , airlineCode:OZ , dep:CJJ , depDate:20170828 , \n"
     ]
    },
    {
     "name": "stderr",
     "output_type": "stream",
     "text": [
      "2017-08-11 08:33:08,878 root     DEBUG    Crawling Interpark domastic schedule site\n"
     ]
    },
    {
     "name": "stdout",
     "output_type": "stream",
     "text": [
      "End Simple crawling\n",
      "Start Simple crawling :  http://domair.interpark.com/api/booking/airJourney.do\n",
      ">> Parameters\n",
      "tripDivi:0 , adt:1 , chd:0 , format:json , arr:CJU , inf:0 , airlineCode:KE , dep:CJJ , depDate:20170828 , \n"
     ]
    },
    {
     "name": "stderr",
     "output_type": "stream",
     "text": [
      "2017-08-11 08:33:13,878 root     DEBUG    Crawling Interpark domastic schedule site\n"
     ]
    },
    {
     "name": "stdout",
     "output_type": "stream",
     "text": [
      "End Simple crawling\n",
      "Start Simple crawling :  http://domair.interpark.com/api/booking/airJourney.do\n",
      ">> Parameters\n",
      "tripDivi:0 , adt:1 , chd:0 , format:json , arr:CJU , inf:0 , airlineCode:ZE , dep:CJJ , depDate:20170828 , \n"
     ]
    },
    {
     "name": "stderr",
     "output_type": "stream",
     "text": [
      "2017-08-11 08:33:15,101 root     DEBUG    Crawling Interpark domastic schedule site\n"
     ]
    },
    {
     "name": "stdout",
     "output_type": "stream",
     "text": [
      "End Simple crawling\n",
      "Start Simple crawling :  http://domair.interpark.com/api/booking/airJourney.do\n",
      ">> Parameters\n",
      "tripDivi:0 , adt:1 , chd:0 , format:json , arr:CJU , inf:0 , airlineCode:7C , dep:CJJ , depDate:20170829 , \n"
     ]
    },
    {
     "name": "stderr",
     "output_type": "stream",
     "text": [
      "2017-08-11 08:33:16,525 root     DEBUG    Crawling Interpark domastic schedule site\n",
      "2017-08-11 08:33:16,678 root     DEBUG    Crawling Interpark domastic schedule site\n"
     ]
    },
    {
     "name": "stdout",
     "output_type": "stream",
     "text": [
      "End Simple crawling\n",
      "Start Simple crawling :  http://domair.interpark.com/api/booking/airJourney.do\n",
      ">> Parameters\n",
      "tripDivi:0 , adt:1 , chd:0 , format:json , arr:CJU , inf:0 , airlineCode:LJ , dep:CJJ , depDate:20170829 , \n",
      "End Simple crawling\n",
      "Start Simple crawling :  http://domair.interpark.com/api/booking/airJourney.do\n",
      ">> Parameters\n",
      "tripDivi:0 , adt:1 , chd:0 , format:json , arr:CJU , inf:0 , airlineCode:OZ , dep:CJJ , depDate:20170829 , \n"
     ]
    },
    {
     "name": "stderr",
     "output_type": "stream",
     "text": [
      "2017-08-11 08:33:17,610 root     DEBUG    Crawling Interpark domastic schedule site\n"
     ]
    },
    {
     "name": "stdout",
     "output_type": "stream",
     "text": [
      "End Simple crawling\n",
      "Start Simple crawling :  http://domair.interpark.com/api/booking/airJourney.do\n",
      ">> Parameters\n",
      "tripDivi:0 , adt:1 , chd:0 , format:json , arr:CJU , inf:0 , airlineCode:KE , dep:CJJ , depDate:20170829 , \n"
     ]
    },
    {
     "name": "stderr",
     "output_type": "stream",
     "text": [
      "2017-08-11 08:33:22,728 root     DEBUG    Crawling Interpark domastic schedule site\n"
     ]
    },
    {
     "name": "stdout",
     "output_type": "stream",
     "text": [
      "End Simple crawling\n",
      "Start Simple crawling :  http://domair.interpark.com/api/booking/airJourney.do\n",
      ">> Parameters\n",
      "tripDivi:0 , adt:1 , chd:0 , format:json , arr:CJU , inf:0 , airlineCode:ZE , dep:CJJ , depDate:20170829 , \n"
     ]
    },
    {
     "name": "stderr",
     "output_type": "stream",
     "text": [
      "2017-08-11 08:33:23,982 root     DEBUG    Crawling Interpark domastic schedule site\n"
     ]
    },
    {
     "name": "stdout",
     "output_type": "stream",
     "text": [
      "End Simple crawling\n",
      "Start Simple crawling :  http://domair.interpark.com/api/booking/airJourney.do\n",
      ">> Parameters\n",
      "tripDivi:0 , adt:1 , chd:0 , format:json , arr:CJU , inf:0 , airlineCode:7C , dep:CJJ , depDate:20170830 , \n"
     ]
    },
    {
     "name": "stderr",
     "output_type": "stream",
     "text": [
      "2017-08-11 08:33:25,532 root     DEBUG    Crawling Interpark domastic schedule site\n",
      "2017-08-11 08:33:25,719 root     DEBUG    Crawling Interpark domastic schedule site\n"
     ]
    },
    {
     "name": "stdout",
     "output_type": "stream",
     "text": [
      "End Simple crawling\n",
      "Start Simple crawling :  http://domair.interpark.com/api/booking/airJourney.do\n",
      ">> Parameters\n",
      "tripDivi:0 , adt:1 , chd:0 , format:json , arr:CJU , inf:0 , airlineCode:LJ , dep:CJJ , depDate:20170830 , \n",
      "End Simple crawling\n",
      "Start Simple crawling :  http://domair.interpark.com/api/booking/airJourney.do\n",
      ">> Parameters\n",
      "tripDivi:0 , adt:1 , "
     ]
    },
    {
     "name": "stderr",
     "output_type": "stream",
     "text": [
      "2017-08-11 08:33:26,649 root     DEBUG    Crawling Interpark domastic schedule site\n"
     ]
    },
    {
     "name": "stdout",
     "output_type": "stream",
     "text": [
      "chd:0 , format:json , arr:CJU , inf:0 , airlineCode:OZ , dep:CJJ , depDate:20170830 , \n",
      "End Simple crawling\n",
      "Start Simple crawling :  http://domair.interpark.com/api/booking/airJourney.do\n",
      ">> Parameters\n",
      "tripDivi:0 , adt:1 , chd:0 , format:json , arr:CJU , inf:0 , airlineCode:KE , dep:CJJ , depDate:20170830 , \n"
     ]
    },
    {
     "name": "stderr",
     "output_type": "stream",
     "text": [
      "2017-08-11 08:33:31,468 root     DEBUG    Crawling Interpark domastic schedule site\n"
     ]
    },
    {
     "name": "stdout",
     "output_type": "stream",
     "text": [
      "End Simple crawling\n",
      "Start Simple crawling :  http://domair.interpark.com/api/booking/airJourney.do\n",
      ">> Parameters\n",
      "tripDivi:0 , adt:1 , chd:0 , format:json , arr:CJU , inf:0 , airlineCode:ZE , dep:CJJ , depDate:20170830 , \n"
     ]
    },
    {
     "name": "stderr",
     "output_type": "stream",
     "text": [
      "2017-08-11 08:33:32,711 root     DEBUG    Crawling Interpark domastic schedule site\n"
     ]
    },
    {
     "name": "stdout",
     "output_type": "stream",
     "text": [
      "End Simple crawling\n",
      "Start Simple crawling :  http://domair.interpark.com/api/booking/airJourney.do\n",
      ">> Parameters\n",
      "tripDivi:0 , adt:1 , chd:0 , format:json , arr:CJU , inf:0 , airlineCode:7C , dep:CJJ , depDate:20170831 , \n"
     ]
    },
    {
     "name": "stderr",
     "output_type": "stream",
     "text": [
      "2017-08-11 08:33:34,090 root     DEBUG    Crawling Interpark domastic schedule site\n"
     ]
    },
    {
     "name": "stdout",
     "output_type": "stream",
     "text": [
      "End Simple crawling\n",
      "Start Simple crawling :  http://domair.interpark.com/api/booking/airJourney.do\n",
      ">> Parameters\n",
      "tripDivi:0 , adt:1 , chd:0 , format:json , arr:CJU , inf:0 , airlineCode:LJ , dep:CJJ , depDate:20170831 , \n"
     ]
    },
    {
     "name": "stderr",
     "output_type": "stream",
     "text": [
      "2017-08-11 08:33:34,371 root     DEBUG    Crawling Interpark domastic schedule site\n"
     ]
    },
    {
     "name": "stdout",
     "output_type": "stream",
     "text": [
      "End Simple crawling\n",
      "Start Simple crawling :  http://domair.interpark.com/api/booking/airJourney.do\n",
      ">> Parameters\n",
      "tripDivi:0 , adt:1 , chd:0 , format:json , arr:CJU , inf:0 , airlineCode:OZ , dep:CJJ , depDate:20170831 , \n"
     ]
    },
    {
     "name": "stderr",
     "output_type": "stream",
     "text": [
      "2017-08-11 08:33:35,084 root     DEBUG    Crawling Interpark domastic schedule site\n"
     ]
    },
    {
     "name": "stdout",
     "output_type": "stream",
     "text": [
      "End Simple crawling\n",
      "Start Simple crawling :  http://domair.interpark.com/api/booking/airJourney.do\n",
      ">> Parameters\n",
      "tripDivi:0 , adt:1 , chd:0 , format:json , arr:CJU , inf:0 , airlineCode:KE , dep:CJJ , depDate:20170831 , \n"
     ]
    },
    {
     "name": "stderr",
     "output_type": "stream",
     "text": [
      "2017-08-11 08:33:40,084 root     DEBUG    Crawling Interpark domastic schedule site\n"
     ]
    },
    {
     "name": "stdout",
     "output_type": "stream",
     "text": [
      "End Simple crawling\n",
      "Start Simple crawling :  http://domair.interpark.com/api/booking/airJourney.do\n",
      ">> Parameters\n",
      "tripDivi:0 , adt:1 , chd:0 , format:json , arr:CJU , inf:0 , airlineCode:ZE , dep:CJJ , depDate:20170831 , \n"
     ]
    },
    {
     "name": "stderr",
     "output_type": "stream",
     "text": [
      "2017-08-11 08:33:41,277 root     DEBUG    Crawling Interpark domastic schedule site\n"
     ]
    },
    {
     "name": "stdout",
     "output_type": "stream",
     "text": [
      "End Simple crawling\n",
      "Start Simple crawling :  http://domair.interpark.com/api/booking/airJourney.do\n",
      ">> Parameters\n",
      "tripDivi:0 , adt:1 , chd:0 , format:json , arr:CJU , inf:0 , airlineCode:7C , dep:CJJ , depDate:20170901 , \n"
     ]
    },
    {
     "name": "stderr",
     "output_type": "stream",
     "text": [
      "2017-08-11 08:33:44,733 root     DEBUG    Crawling Interpark domastic schedule site\n",
      "2017-08-11 08:33:44,844 root     DEBUG    Crawling Interpark domastic schedule site\n"
     ]
    },
    {
     "name": "stdout",
     "output_type": "stream",
     "text": [
      "End Simple crawling\n",
      "Start Simple crawling :  http://domair.interpark.com/api/booking/airJourney.do\n",
      ">> Parameters\n",
      "tripDivi:0 , adt:1 , chd:0 , format:json , arr:CJU , inf:0 , airlineCode:LJ , dep:CJJ , depDate:20170901 , \n",
      "End Simple crawling\n",
      "Start Simple crawling :  http://domair.interpark.com/api/booking/airJourney.do\n",
      ">> Parameters\n",
      "tripDivi:0 , adt:1 , chd:0 , format:json , arr:CJU , inf:0 , airlineCode:OZ , dep:CJJ , depDate:20170901 , \n"
     ]
    },
    {
     "name": "stderr",
     "output_type": "stream",
     "text": [
      "2017-08-11 08:33:45,518 root     DEBUG    Crawling Interpark domastic schedule site\n"
     ]
    },
    {
     "name": "stdout",
     "output_type": "stream",
     "text": [
      "End Simple crawling\n",
      "Start Simple crawling :  http://domair.interpark.com/api/booking/airJourney.do\n",
      ">> Parameters\n",
      "tripDivi:0 , adt:1 , chd:0 , format:json , arr:CJU , inf:0 , airlineCode:KE , dep:CJJ , depDate:20170901 , \n"
     ]
    },
    {
     "name": "stderr",
     "output_type": "stream",
     "text": [
      "2017-08-11 08:33:50,697 root     DEBUG    Crawling Interpark domastic schedule site\n"
     ]
    },
    {
     "name": "stdout",
     "output_type": "stream",
     "text": [
      "End Simple crawling\n",
      "Start Simple crawling :  http://domair.interpark.com/api/booking/airJourney.do\n",
      ">> Parameters\n",
      "tripDivi:0 , adt:1 , chd:0 , format:json , arr:CJU , inf:0 , airlineCode:ZE , dep:CJJ , depDate:20170901 , \n"
     ]
    },
    {
     "name": "stderr",
     "output_type": "stream",
     "text": [
      "2017-08-11 08:33:51,695 root     INFO     end batch job :: craw_by_route_site :: elapsed -0:03:06.036641 :: Total crawl:105 files saved.\n",
      "2017-08-11 08:33:51,697 root     INFO     start batch job :: craw_by_route_site[CJU,CJJ,IP,['20170812', '20170813', '20170814', '20170815', '20170816', '20170817', '20170818', '20170819', '20170820', '20170821', '20170822', '20170823', '20170824', '20170825', '20170826', '20170827', '20170828', '20170829', '20170830', '20170831', '20170901'],['7C', 'LJ', 'OZ', 'KE', 'ZE']]\n",
      "2017-08-11 08:33:51,804 root     DEBUG    0 :: IP :: crawling_IP_dom :: False\n",
      "2017-08-11 08:33:51,808 root     INFO     <function crawling_IP_dom at 0x0000000007C78378> :: False\n",
      "2017-08-11 08:33:51,812 root     DEBUG    Crawling Interpark domastic schedule site\n"
     ]
    },
    {
     "name": "stdout",
     "output_type": "stream",
     "text": [
      "End Simple crawling\n",
      "Start Simple crawling :  http://domair.interpark.com/api/booking/airJourney.do\n",
      ">> Parameters\n",
      "tripDivi:0 , adt:1 , chd:0 , format:json , arr:CJJ , inf:0 , airlineCode:7C , dep:CJU , depDate:20170812 , \n"
     ]
    },
    {
     "name": "stderr",
     "output_type": "stream",
     "text": [
      "2017-08-11 08:33:53,158 root     DEBUG    Crawling Interpark domastic schedule site\n"
     ]
    },
    {
     "name": "stdout",
     "output_type": "stream",
     "text": [
      "End Simple crawling\n",
      "Start Simple crawling :  http://domair.interpark.com/api/booking/airJourney.do\n",
      ">> Parameters\n",
      "tripDivi:0 , adt:1 , chd:0 , format:json , arr:CJJ , inf:0 , airlineCode:LJ , dep:CJU , depDate:20170812 , \n"
     ]
    },
    {
     "name": "stderr",
     "output_type": "stream",
     "text": [
      "2017-08-11 08:33:53,651 root     DEBUG    Crawling Interpark domastic schedule site\n"
     ]
    },
    {
     "name": "stdout",
     "output_type": "stream",
     "text": [
      "End Simple crawling\n",
      "Start Simple crawling :  http://domair.interpark.com/api/booking/airJourney.do\n",
      ">> Parameters\n",
      "tripDivi:0 , adt:1 , chd:0 , format:json , arr:CJJ , inf:0 , airlineCode:OZ , dep:CJU , depDate:20170812 , \n"
     ]
    },
    {
     "name": "stderr",
     "output_type": "stream",
     "text": [
      "2017-08-11 08:33:54,592 root     DEBUG    Crawling Interpark domastic schedule site\n"
     ]
    },
    {
     "name": "stdout",
     "output_type": "stream",
     "text": [
      "End Simple crawling\n",
      "Start Simple crawling :  http://domair.interpark.com/api/booking/airJourney.do\n",
      ">> Parameters\n",
      "tripDivi:0 , adt:1 , chd:0 , format:json , arr:CJJ , inf:0 , airlineCode:KE , dep:CJU , depDate:20170812 , \n"
     ]
    },
    {
     "name": "stderr",
     "output_type": "stream",
     "text": [
      "2017-08-11 08:33:59,449 root     DEBUG    Crawling Interpark domastic schedule site\n"
     ]
    },
    {
     "name": "stdout",
     "output_type": "stream",
     "text": [
      "End Simple crawling\n",
      "Start Simple crawling :  http://domair.interpark.com/api/booking/airJourney.do\n",
      ">> Parameters\n",
      "tripDivi:0 , adt:1 , chd:0 , format:json , arr:CJJ , inf:0 , airlineCode:ZE , dep:CJU , depDate:20170812 , \n"
     ]
    },
    {
     "name": "stderr",
     "output_type": "stream",
     "text": [
      "2017-08-11 08:34:00,417 root     DEBUG    Crawling Interpark domastic schedule site\n"
     ]
    },
    {
     "name": "stdout",
     "output_type": "stream",
     "text": [
      "End Simple crawling\n",
      "Start Simple crawling :  http://domair.interpark.com/api/booking/airJourney.do\n",
      ">> Parameters\n",
      "tripDivi:0 , adt:1 , chd:0 , format:json , arr:CJJ , inf:0 , airlineCode:7C , dep:CJU , depDate:20170813 , \n"
     ]
    },
    {
     "name": "stderr",
     "output_type": "stream",
     "text": [
      "2017-08-11 08:34:01,801 root     DEBUG    Crawling Interpark domastic schedule site\n",
      "2017-08-11 08:34:01,912 root     DEBUG    Crawling Interpark domastic schedule site\n"
     ]
    },
    {
     "name": "stdout",
     "output_type": "stream",
     "text": [
      "End Simple crawling\n",
      "Start Simple crawling :  http://domair.interpark.com/api/booking/airJourney.do\n",
      ">> Parameters\n",
      "tripDivi:0 , adt:1 , chd:0 , format:json , arr:CJJ , inf:0 , airlineCode:LJ , dep:CJU , depDate:20170813 , \n",
      "End Simple crawling\n",
      "Start Simple crawling :  http://domair.interpark.com/api/booking/airJourney.do\n",
      ">> Parameters\n",
      "tripDivi:0 , adt:1 , chd:0 , format:json , arr:CJJ , inf:0 , airlineCode:OZ , dep:CJU , depDate:20170813 , \n"
     ]
    },
    {
     "name": "stderr",
     "output_type": "stream",
     "text": [
      "2017-08-11 08:34:03,207 root     DEBUG    Crawling Interpark domastic schedule site\n"
     ]
    },
    {
     "name": "stdout",
     "output_type": "stream",
     "text": [
      "End Simple crawling\n",
      "Start Simple crawling :  http://domair.interpark.com/api/booking/airJourney.do\n",
      ">> Parameters\n",
      "tripDivi:0 , adt:1 , chd:0 , format:json , arr:CJJ , inf:0 , airlineCode:KE , dep:CJU , depDate:20170813 , \n"
     ]
    },
    {
     "name": "stderr",
     "output_type": "stream",
     "text": [
      "2017-08-11 08:34:08,125 root     DEBUG    Crawling Interpark domastic schedule site\n"
     ]
    },
    {
     "name": "stdout",
     "output_type": "stream",
     "text": [
      "End Simple crawling\n",
      "Start Simple crawling :  http://domair.interpark.com/api/booking/airJourney.do\n",
      ">> Parameters\n",
      "tripDivi:0 , adt:1 , chd:0 , format:json , arr:CJJ , inf:0 , airlineCode:ZE , dep:CJU , depDate:20170813 , \n"
     ]
    },
    {
     "name": "stderr",
     "output_type": "stream",
     "text": [
      "2017-08-11 08:34:09,094 root     DEBUG    Crawling Interpark domastic schedule site\n"
     ]
    },
    {
     "name": "stdout",
     "output_type": "stream",
     "text": [
      "End Simple crawling\n",
      "Start Simple crawling :  http://domair.interpark.com/api/booking/airJourney.do\n",
      ">> Parameters\n",
      "tripDivi:0 , adt:1 , chd:0 , format:json , arr:CJJ , inf:0 , airlineCode:7C , dep:CJU , depDate:20170814 , \n"
     ]
    },
    {
     "name": "stderr",
     "output_type": "stream",
     "text": [
      "2017-08-11 08:34:10,405 root     DEBUG    Crawling Interpark domastic schedule site\n",
      "2017-08-11 08:34:10,558 root     DEBUG    Crawling Interpark domastic schedule site\n"
     ]
    },
    {
     "name": "stdout",
     "output_type": "stream",
     "text": [
      "End Simple crawling\n",
      "Start Simple crawling :  http://domair.interpark.com/api/booking/airJourney.do\n",
      ">> Parameters\n",
      "tripDivi:0 , adt:1 , chd:0 , format:json , arr:CJJ , inf:0 , airlineCode:LJ , dep:CJU , depDate:20170814 , \n",
      "End Simple crawling\n",
      "Start Simple crawling :  http://domair.interpark.com/api/booking/airJourney.do\n",
      ">> Parameters\n",
      "tripDivi:0 , adt:1 , chd:0 , format:json , arr:CJJ , inf:0 , airlineCode:OZ , dep:CJU , depDate:20170814 , \n"
     ]
    },
    {
     "name": "stderr",
     "output_type": "stream",
     "text": [
      "2017-08-11 08:34:11,228 root     DEBUG    Crawling Interpark domastic schedule site\n"
     ]
    },
    {
     "name": "stdout",
     "output_type": "stream",
     "text": [
      "End Simple crawling\n",
      "Start Simple crawling :  http://domair.interpark.com/api/booking/airJourney.do\n",
      ">> Parameters\n",
      "tripDivi:0 , adt:1 , chd:0 , format:json , arr:CJJ , inf:0 , airlineCode:KE , dep:CJU , depDate:20170814 , \n"
     ]
    },
    {
     "name": "stderr",
     "output_type": "stream",
     "text": [
      "2017-08-11 08:34:15,782 root     DEBUG    Crawling Interpark domastic schedule site\n"
     ]
    },
    {
     "name": "stdout",
     "output_type": "stream",
     "text": [
      "End Simple crawling\n",
      "Start Simple crawling :  http://domair.interpark.com/api/booking/airJourney.do\n",
      ">> Parameters\n",
      "tripDivi:0 , adt:1 , chd:0 , format:json , arr:CJJ , inf:0 , airlineCode:ZE , dep:CJU , depDate:20170814 , \n"
     ]
    },
    {
     "name": "stderr",
     "output_type": "stream",
     "text": [
      "2017-08-11 08:34:16,759 root     DEBUG    Crawling Interpark domastic schedule site\n"
     ]
    },
    {
     "name": "stdout",
     "output_type": "stream",
     "text": [
      "End Simple crawling\n",
      "Start Simple crawling :  http://domair.interpark.com/api/booking/airJourney.do\n",
      ">> Parameters\n",
      "tripDivi:0 , adt:1 , chd:0 , format:json , arr:CJJ , inf:0 , airlineCode:7C , dep:CJU , depDate:20170815 , \n"
     ]
    },
    {
     "name": "stderr",
     "output_type": "stream",
     "text": [
      "2017-08-11 08:34:17,690 root     DEBUG    Crawling Interpark domastic schedule site\n",
      "2017-08-11 08:34:17,795 root     DEBUG    Crawling Interpark domastic schedule site\n"
     ]
    },
    {
     "name": "stdout",
     "output_type": "stream",
     "text": [
      "End Simple crawling\n",
      "Start Simple crawling :  http://domair.interpark.com/api/booking/airJourney.do\n",
      ">> Parameters\n",
      "tripDivi:0 , adt:1 , chd:0 , format:json , arr:CJJ , inf:0 , airlineCode:LJ , dep:CJU , depDate:20170815 , \n",
      "End Simple crawling\n",
      "Start Simple crawling :  http://domair.interpark.com/api/booking/airJourney.do\n",
      ">> Parameters\n",
      "tripDivi:0 , adt:1 , chd:0 , format:json , arr:CJJ , inf:0 , airlineCode:OZ , dep:CJU , depDate:20170815 , \n"
     ]
    },
    {
     "name": "stderr",
     "output_type": "stream",
     "text": [
      "2017-08-11 08:34:18,465 root     DEBUG    Crawling Interpark domastic schedule site\n"
     ]
    },
    {
     "name": "stdout",
     "output_type": "stream",
     "text": [
      "End Simple crawling\n",
      "Start Simple crawling :  http://domair.interpark.com/api/booking/airJourney.do\n",
      ">> Parameters\n",
      "tripDivi:0 , adt:1 , chd:0 , format:json , arr:CJJ , inf:0 , airlineCode:KE , dep:CJU , depDate:20170815 , \n"
     ]
    },
    {
     "name": "stderr",
     "output_type": "stream",
     "text": [
      "2017-08-11 08:34:22,850 root     DEBUG    Crawling Interpark domastic schedule site\n"
     ]
    },
    {
     "name": "stdout",
     "output_type": "stream",
     "text": [
      "End Simple crawling\n",
      "Start Simple crawling :  http://domair.interpark.com/api/booking/airJourney.do\n",
      ">> Parameters\n",
      "tripDivi:0 , adt:1 , chd:0 , format:json , arr:CJJ , inf:0 , airlineCode:ZE , dep:CJU , depDate:20170815 , \n"
     ]
    },
    {
     "name": "stderr",
     "output_type": "stream",
     "text": [
      "2017-08-11 08:34:23,881 root     DEBUG    Crawling Interpark domastic schedule site\n"
     ]
    },
    {
     "name": "stdout",
     "output_type": "stream",
     "text": [
      "End Simple crawling\n",
      "Start Simple crawling :  http://domair.interpark.com/api/booking/airJourney.do\n",
      ">> Parameters\n",
      "tripDivi:0 , adt:1 , chd:0 , format:json , arr:CJJ , inf:0 , airlineCode:7C , dep:CJU , depDate:20170816 , \n"
     ]
    },
    {
     "name": "stderr",
     "output_type": "stream",
     "text": [
      "2017-08-11 08:34:25,246 root     DEBUG    Crawling Interpark domastic schedule site\n",
      "2017-08-11 08:34:25,421 root     DEBUG    Crawling Interpark domastic schedule site\n"
     ]
    },
    {
     "name": "stdout",
     "output_type": "stream",
     "text": [
      "End Simple crawling\n",
      "Start Simple crawling :  http://domair.interpark.com/api/booking/airJourney.do\n",
      ">> Parameters\n",
      "tripDivi:0 , adt:1 , chd:0 , format:json , arr:CJJ , inf:0 , airlineCode:LJ , dep:CJU , depDate:20170816 , \n",
      "End Simple crawling\n",
      "Start Simple crawling :  http://domair.interpark.com/api/booking/airJourney.do\n",
      ">> Parameters\n",
      "tripDivi:0 , adt:1 , chd:0 , format:json , arr:CJJ , inf:0 , airlineCode:OZ , dep:CJU , depDate:20170816 , \n"
     ]
    },
    {
     "name": "stderr",
     "output_type": "stream",
     "text": [
      "2017-08-11 08:34:26,329 root     DEBUG    Crawling Interpark domastic schedule site\n"
     ]
    },
    {
     "name": "stdout",
     "output_type": "stream",
     "text": [
      "End Simple crawling\n",
      "Start Simple crawling :  http://domair.interpark.com/api/booking/airJourney.do\n",
      ">> Parameters\n",
      "tripDivi:0 , adt:1 , chd:0 , format:json , arr:CJJ , inf:0 , airlineCode:KE , dep:CJU , depDate:20170816 , \n"
     ]
    },
    {
     "name": "stderr",
     "output_type": "stream",
     "text": [
      "2017-08-11 08:34:31,359 root     DEBUG    Crawling Interpark domastic schedule site\n"
     ]
    },
    {
     "name": "stdout",
     "output_type": "stream",
     "text": [
      "End Simple crawling\n",
      "Start Simple crawling :  http://domair.interpark.com/api/booking/airJourney.do\n",
      ">> Parameters\n",
      "tripDivi:0 , adt:1 , chd:0 , format:json , arr:CJJ , inf:0 , airlineCode:ZE , dep:CJU , depDate:20170816 , \n"
     ]
    },
    {
     "name": "stderr",
     "output_type": "stream",
     "text": [
      "2017-08-11 08:34:32,323 root     DEBUG    Crawling Interpark domastic schedule site\n"
     ]
    },
    {
     "name": "stdout",
     "output_type": "stream",
     "text": [
      "End Simple crawling\n",
      "Start Simple crawling :  http://domair.interpark.com/api/booking/airJourney.do\n",
      ">> Parameters\n",
      "tripDivi:0 , adt:1 , chd:0 , format:json , arr:CJJ , inf:0 , airlineCode:7C , dep:CJU , depDate:20170817 , \n"
     ]
    },
    {
     "name": "stderr",
     "output_type": "stream",
     "text": [
      "2017-08-11 08:34:33,723 root     DEBUG    Crawling Interpark domastic schedule site\n",
      "2017-08-11 08:34:33,843 root     DEBUG    Crawling Interpark domastic schedule site\n"
     ]
    },
    {
     "name": "stdout",
     "output_type": "stream",
     "text": [
      "End Simple crawling\n",
      "Start Simple crawling :  http://domair.interpark.com/api/booking/airJourney.do\n",
      ">> Parameters\n",
      "tripDivi:0 , adt:1 , chd:0 , format:json , arr:CJJ , inf:0 , airlineCode:LJ , dep:CJU , depDate:20170817 , \n",
      "End Simple crawling\n",
      "Start Simple crawling :  http://domair.interpark.com/api/booking/airJourney.do\n",
      ">> Parameters\n",
      "tripDivi:0 , adt:1 , chd:0 , format:json , arr:CJJ , inf:0 , airlineCode:OZ , dep:CJU , depDate:20170817 , \n"
     ]
    },
    {
     "name": "stderr",
     "output_type": "stream",
     "text": [
      "2017-08-11 08:34:34,533 root     DEBUG    Crawling Interpark domastic schedule site\n"
     ]
    },
    {
     "name": "stdout",
     "output_type": "stream",
     "text": [
      "End Simple crawling\n",
      "Start Simple crawling :  http://domair.interpark.com/api/booking/airJourney.do\n",
      ">> Parameters\n",
      "tripDivi:0 , adt:1 , chd:0 , format:json , arr:CJJ , inf:0 , airlineCode:KE , dep:CJU , depDate:20170817 , \n"
     ]
    },
    {
     "name": "stderr",
     "output_type": "stream",
     "text": [
      "2017-08-11 08:34:40,116 root     DEBUG    Crawling Interpark domastic schedule site\n"
     ]
    },
    {
     "name": "stdout",
     "output_type": "stream",
     "text": [
      "End Simple crawling\n",
      "Start Simple crawling :  http://domair.interpark.com/api/booking/airJourney.do\n",
      ">> Parameters\n",
      "tripDivi:0 , adt:1 , chd:0 , format:json , arr:CJJ , inf:0 , airlineCode:ZE , dep:CJU , depDate:20170817 , \n"
     ]
    },
    {
     "name": "stderr",
     "output_type": "stream",
     "text": [
      "2017-08-11 08:35:02,115 root     DEBUG    Crawling Interpark domastic schedule site\n"
     ]
    },
    {
     "name": "stdout",
     "output_type": "stream",
     "text": [
      "End Simple crawling\n",
      "Start Simple crawling :  http://domair.interpark.com/api/booking/airJourney.do\n",
      ">> Parameters\n",
      "tripDivi:0 , adt:1 , chd:0 , format:json , arr:CJJ , inf:0 , airlineCode:7C , dep:CJU , depDate:20170818 , \n"
     ]
    },
    {
     "name": "stderr",
     "output_type": "stream",
     "text": [
      "2017-08-11 08:35:03,473 root     DEBUG    Crawling Interpark domastic schedule site\n",
      "2017-08-11 08:35:03,625 root     DEBUG    Crawling Interpark domastic schedule site\n"
     ]
    },
    {
     "name": "stdout",
     "output_type": "stream",
     "text": [
      "End Simple crawling\n",
      "Start Simple crawling :  http://domair.interpark.com/api/booking/airJourney.do\n",
      ">> Parameters\n",
      "tripDivi:0 , adt:1 , chd:0 , format:json , arr:CJJ , inf:0 , airlineCode:LJ , dep:CJU , depDate:20170818 , \n",
      "End Simple crawling\n",
      "Start Simple crawling :  http://domair.interpark.com/api/booking/airJourney.do\n",
      ">> Parameters\n",
      "tripDivi:0 , adt:1 , chd:0 , format:json , arr:CJJ , inf:0 , airlineCode:OZ , dep:CJU , depDate:20170818 , \n"
     ]
    },
    {
     "name": "stderr",
     "output_type": "stream",
     "text": [
      "2017-08-11 08:35:04,517 root     DEBUG    Crawling Interpark domastic schedule site\n"
     ]
    },
    {
     "name": "stdout",
     "output_type": "stream",
     "text": [
      "End Simple crawling\n",
      "Start Simple crawling :  http://domair.interpark.com/api/booking/airJourney.do\n",
      ">> Parameters\n",
      "tripDivi:0 , adt:1 , chd:0 , format:json , arr:CJJ , inf:0 , airlineCode:KE , dep:CJU , depDate:20170818 , \n"
     ]
    },
    {
     "name": "stderr",
     "output_type": "stream",
     "text": [
      "2017-08-11 08:35:09,698 root     DEBUG    Crawling Interpark domastic schedule site\n"
     ]
    },
    {
     "name": "stdout",
     "output_type": "stream",
     "text": [
      "End Simple crawling\n",
      "Start Simple crawling :  http://domair.interpark.com/api/booking/airJourney.do\n",
      ">> Parameters\n",
      "tripDivi:0 , adt:1 , chd:0 , format:json , arr:CJJ , inf:0 , airlineCode:ZE , dep:CJU , depDate:20170818 , \n"
     ]
    },
    {
     "name": "stderr",
     "output_type": "stream",
     "text": [
      "2017-08-11 08:35:10,716 root     DEBUG    Crawling Interpark domastic schedule site\n"
     ]
    },
    {
     "name": "stdout",
     "output_type": "stream",
     "text": [
      "End Simple crawling\n",
      "Start Simple crawling :  http://domair.interpark.com/api/booking/airJourney.do\n",
      ">> Parameters\n",
      "tripDivi:0 , adt:1 , chd:0 , format:json , arr:CJJ , inf:0 , airlineCode:7C , dep:CJU , depDate:20170819 , \n"
     ]
    },
    {
     "name": "stderr",
     "output_type": "stream",
     "text": [
      "2017-08-11 08:35:12,043 root     DEBUG    Crawling Interpark domastic schedule site\n",
      "2017-08-11 08:35:12,215 root     DEBUG    Crawling Interpark domastic schedule site\n"
     ]
    },
    {
     "name": "stdout",
     "output_type": "stream",
     "text": [
      "End Simple crawling\n",
      "Start Simple crawling :  http://domair.interpark.com/api/booking/airJourney.do\n",
      ">> Parameters\n",
      "tripDivi:0 , adt:1 , chd:0 , format:json , arr:CJJ , inf:0 , airlineCode:LJ , dep:CJU , depDate:20170819 , \n",
      "End Simple crawling\n",
      "Start Simple crawling :  http://domair.interpark.com/api/booking/airJourney.do\n",
      ">> Parameters\n",
      "tripDivi:0 , adt:1 , chd:0 , format:json , arr:CJJ , inf:0 , airlineCode:OZ , dep:CJU , depDate:20170819 , \n"
     ]
    },
    {
     "name": "stderr",
     "output_type": "stream",
     "text": [
      "2017-08-11 08:35:12,908 root     DEBUG    Crawling Interpark domastic schedule site\n"
     ]
    },
    {
     "name": "stdout",
     "output_type": "stream",
     "text": [
      "End Simple crawling\n",
      "Start Simple crawling :  http://domair.interpark.com/api/booking/airJourney.do\n",
      ">> Parameters\n",
      "tripDivi:0 , adt:1 , chd:0 , format:json , arr:CJJ , inf:0 , airlineCode:KE , dep:CJU , depDate:20170819 , \n"
     ]
    },
    {
     "name": "stderr",
     "output_type": "stream",
     "text": [
      "2017-08-11 08:35:18,089 root     DEBUG    Crawling Interpark domastic schedule site\n"
     ]
    },
    {
     "name": "stdout",
     "output_type": "stream",
     "text": [
      "End Simple crawling\n",
      "Start Simple crawling :  http://domair.interpark.com/api/booking/airJourney.do\n",
      ">> Parameters\n",
      "tripDivi:0 , adt:1 , chd:0 , format:json , arr:CJJ , inf:0 , airlineCode:ZE , dep:CJU , depDate:20170819 , \n"
     ]
    },
    {
     "name": "stderr",
     "output_type": "stream",
     "text": [
      "2017-08-11 08:35:19,108 root     DEBUG    Crawling Interpark domastic schedule site\n"
     ]
    },
    {
     "name": "stdout",
     "output_type": "stream",
     "text": [
      "End Simple crawling\n",
      "Start Simple crawling :  http://domair.interpark.com/api/booking/airJourney.do\n",
      ">> Parameters\n",
      "tripDivi:0 , adt:1 , chd:0 , format:json , arr:CJJ , inf:0 , airlineCode:7C , dep:CJU , depDate:20170820 , \n"
     ]
    },
    {
     "name": "stderr",
     "output_type": "stream",
     "text": [
      "2017-08-11 08:35:20,491 root     DEBUG    Crawling Interpark domastic schedule site\n"
     ]
    },
    {
     "name": "stdout",
     "output_type": "stream",
     "text": [
      "End Simple crawling\n",
      "Start Simple crawling :  http://domair.interpark.com/api/booking/airJourney.do\n",
      ">> Parameters\n",
      "tripDivi:0 , adt:1 , chd:0 , format:json , arr:CJJ , inf:0 , airlineCode:LJ , dep:CJU , depDate:20170820 , \n"
     ]
    },
    {
     "name": "stderr",
     "output_type": "stream",
     "text": [
      "2017-08-11 08:35:20,973 root     DEBUG    Crawling Interpark domastic schedule site\n"
     ]
    },
    {
     "name": "stdout",
     "output_type": "stream",
     "text": [
      "End Simple crawling\n",
      "Start Simple crawling :  http://domair.interpark.com/api/booking/airJourney.do\n",
      ">> Parameters\n",
      "tripDivi:0 , adt:1 , chd:0 , format:json , arr:CJJ , inf:0 , airlineCode:OZ , dep:CJU , depDate:20170820 , \n"
     ]
    },
    {
     "name": "stderr",
     "output_type": "stream",
     "text": [
      "2017-08-11 08:35:21,862 root     DEBUG    Crawling Interpark domastic schedule site\n"
     ]
    },
    {
     "name": "stdout",
     "output_type": "stream",
     "text": [
      "End Simple crawling\n",
      "Start Simple crawling :  http://domair.interpark.com/api/booking/airJourney.do\n",
      ">> Parameters\n",
      "tripDivi:0 , adt:1 , chd:0 , format:json , arr:CJJ , inf:0 , airlineCode:KE , dep:CJU , depDate:20170820 , \n"
     ]
    },
    {
     "name": "stderr",
     "output_type": "stream",
     "text": [
      "2017-08-11 08:35:26,673 root     DEBUG    Crawling Interpark domastic schedule site\n"
     ]
    },
    {
     "name": "stdout",
     "output_type": "stream",
     "text": [
      "End Simple crawling\n",
      "Start Simple crawling :  http://domair.interpark.com/api/booking/airJourney.do\n",
      ">> Parameters\n",
      "tripDivi:0 , adt:1 , chd:0 , format:json , arr:CJJ , inf:0 , airlineCode:ZE , dep:CJU , depDate:20170820 , \n"
     ]
    },
    {
     "name": "stderr",
     "output_type": "stream",
     "text": [
      "2017-08-11 08:35:27,656 root     DEBUG    Crawling Interpark domastic schedule site\n"
     ]
    },
    {
     "name": "stdout",
     "output_type": "stream",
     "text": [
      "End Simple crawling\n",
      "Start Simple crawling :  http://domair.interpark.com/api/booking/airJourney.do\n",
      ">> Parameters\n",
      "tripDivi:0 , adt:1 , chd:0 , format:json , arr:CJJ , inf:0 , airlineCode:7C , dep:CJU , depDate:20170821 , \n"
     ]
    },
    {
     "name": "stderr",
     "output_type": "stream",
     "text": [
      "2017-08-11 08:35:29,423 root     DEBUG    Crawling Interpark domastic schedule site\n",
      "2017-08-11 08:35:29,542 root     DEBUG    Crawling Interpark domastic schedule site\n"
     ]
    },
    {
     "name": "stdout",
     "output_type": "stream",
     "text": [
      "End Simple crawling\n",
      "Start Simple crawling :  http://domair.interpark.com/api/booking/airJourney.do\n",
      ">> Parameters\n",
      "tripDivi:0 , adt:1 , chd:0 , format:json , arr:CJJ , inf:0 , airlineCode:LJ , dep:CJU , depDate:20170821 , \n",
      "End Simple crawling\n",
      "Start Simple crawling :  http://domair.interpark.com/api/booking/airJourney.do\n",
      ">> Parameters\n",
      "tripDivi:0 , adt:1 , chd:0 , format:json , arr:CJJ , inf:0 , airlineCode:OZ , dep:CJU , depDate:20170821 , \n"
     ]
    },
    {
     "name": "stderr",
     "output_type": "stream",
     "text": [
      "2017-08-11 08:35:30,460 root     DEBUG    Crawling Interpark domastic schedule site\n"
     ]
    },
    {
     "name": "stdout",
     "output_type": "stream",
     "text": [
      "End Simple crawling\n",
      "Start Simple crawling :  http://domair.interpark.com/api/booking/airJourney.do\n",
      ">> Parameters\n",
      "tripDivi:0 , adt:1 , chd:0 , format:json , arr:CJJ , inf:0 , airlineCode:KE , dep:CJU , depDate:20170821 , \n"
     ]
    },
    {
     "name": "stderr",
     "output_type": "stream",
     "text": [
      "2017-08-11 08:35:35,424 root     DEBUG    Crawling Interpark domastic schedule site\n"
     ]
    },
    {
     "name": "stdout",
     "output_type": "stream",
     "text": [
      "End Simple crawling\n",
      "Start Simple crawling :  http://domair.interpark.com/api/booking/airJourney.do\n",
      ">> Parameters\n",
      "tripDivi:0 , adt:1 , chd:0 , format:json , arr:CJJ , inf:0 , airlineCode:ZE , dep:CJU , depDate:20170821 , \n"
     ]
    },
    {
     "name": "stderr",
     "output_type": "stream",
     "text": [
      "2017-08-11 08:35:37,634 root     DEBUG    Crawling Interpark domastic schedule site\n"
     ]
    },
    {
     "name": "stdout",
     "output_type": "stream",
     "text": [
      "End Simple crawling\n",
      "Start Simple crawling :  http://domair.interpark.com/api/booking/airJourney.do\n",
      ">> Parameters\n",
      "tripDivi:0 , adt:1 , chd:0 , format:json , arr:CJJ , inf:0 , airlineCode:7C , dep:CJU , depDate:20170822 , \n"
     ]
    },
    {
     "name": "stderr",
     "output_type": "stream",
     "text": [
      "2017-08-11 08:35:39,042 root     DEBUG    Crawling Interpark domastic schedule site\n",
      "2017-08-11 08:35:39,179 root     DEBUG    Crawling Interpark domastic schedule site\n"
     ]
    },
    {
     "name": "stdout",
     "output_type": "stream",
     "text": [
      "End Simple crawling\n",
      "Start Simple crawling :  http://domair.interpark.com/api/booking/airJourney.do\n",
      ">> Parameters\n",
      "tripDivi:0 , adt:1 , chd:0 , format:json , arr:CJJ , inf:0 , airlineCode:LJ , dep:CJU , depDate:20170822 , \n",
      "End Simple crawling\n",
      "Start Simple crawling :  http://domair.interpark.com/api/booking/airJourney.do\n",
      ">> Parameters\n",
      "tripDivi:0 , adt:1 , chd:0 , format:json , arr:CJJ , inf:0 , airlineCode:OZ , dep:CJU , depDate:20170822 , \n"
     ]
    },
    {
     "name": "stderr",
     "output_type": "stream",
     "text": [
      "2017-08-11 08:35:40,283 root     DEBUG    Crawling Interpark domastic schedule site\n"
     ]
    },
    {
     "name": "stdout",
     "output_type": "stream",
     "text": [
      "End Simple crawling\n",
      "Start Simple crawling :  http://domair.interpark.com/api/booking/airJourney.do\n",
      ">> Parameters\n",
      "tripDivi:0 , adt:1 , chd:0 , format:json , arr:CJJ , inf:0 , airlineCode:KE , dep:CJU , depDate:20170822 , \n"
     ]
    },
    {
     "name": "stderr",
     "output_type": "stream",
     "text": [
      "2017-08-11 08:35:45,160 root     DEBUG    Crawling Interpark domastic schedule site\n"
     ]
    },
    {
     "name": "stdout",
     "output_type": "stream",
     "text": [
      "End Simple crawling\n",
      "Start Simple crawling :  http://domair.interpark.com/api/booking/airJourney.do\n",
      ">> Parameters\n",
      "tripDivi:0 , adt:1 , chd:0 , format:json , arr:CJJ , inf:0 , airlineCode:ZE , dep:CJU , depDate:20170822 , \n"
     ]
    },
    {
     "name": "stderr",
     "output_type": "stream",
     "text": [
      "2017-08-11 08:35:46,536 root     DEBUG    Crawling Interpark domastic schedule site\n"
     ]
    },
    {
     "name": "stdout",
     "output_type": "stream",
     "text": [
      "End Simple crawling\n",
      "Start Simple crawling :  http://domair.interpark.com/api/booking/airJourney.do\n",
      ">> Parameters\n",
      "tripDivi:0 , adt:1 , chd:0 , format:json , arr:CJJ , inf:0 , airlineCode:7C , dep:CJU , depDate:20170823 , \n"
     ]
    },
    {
     "name": "stderr",
     "output_type": "stream",
     "text": [
      "2017-08-11 08:35:48,982 root     DEBUG    Crawling Interpark domastic schedule site\n",
      "2017-08-11 08:35:49,175 root     DEBUG    Crawling Interpark domastic schedule site\n"
     ]
    },
    {
     "name": "stdout",
     "output_type": "stream",
     "text": [
      "End Simple crawling\n",
      "Start Simple crawling :  http://domair.interpark.com/api/booking/airJourney.do\n",
      ">> Parameters\n",
      "tripDivi:0 , adt:1 , chd:0 , format:json , arr:CJJ , inf:0 , airlineCode:LJ , dep:CJU , depDate:20170823 , \n",
      "End Simple crawling\n"
     ]
    },
    {
     "name": "stderr",
     "output_type": "stream",
     "text": [
      "2017-08-11 08:35:50,080 root     DEBUG    Crawling Interpark domastic schedule site\n"
     ]
    },
    {
     "name": "stdout",
     "output_type": "stream",
     "text": [
      "Start Simple crawling :  http://domair.interpark.com/api/booking/airJourney.do\n",
      ">> Parameters\n",
      "tripDivi:0 , adt:1 , chd:0 , format:json , arr:CJJ , inf:0 , airlineCode:OZ , dep:CJU , depDate:20170823 , \n",
      "End Simple crawling\n",
      "Start Simple crawling :  http://domair.interpark.com/api/booking/airJourney.do\n",
      ">> Parameters\n",
      "tripDivi:0 , adt:1 , chd:0 , format:json , arr:CJJ , inf:0 , airlineCode:KE , dep:CJU , depDate:20170823 , \n"
     ]
    },
    {
     "name": "stderr",
     "output_type": "stream",
     "text": [
      "2017-08-11 08:35:54,752 root     DEBUG    Crawling Interpark domastic schedule site\n"
     ]
    },
    {
     "name": "stdout",
     "output_type": "stream",
     "text": [
      "End Simple crawling\n",
      "Start Simple crawling :  http://domair.interpark.com/api/booking/airJourney.do\n",
      ">> Parameters\n",
      "tripDivi:0 , adt:1 , chd:0 , format:json , arr:CJJ , inf:0 , airlineCode:ZE , dep:CJU , depDate:20170823 , \n"
     ]
    },
    {
     "name": "stderr",
     "output_type": "stream",
     "text": [
      "2017-08-11 08:35:55,752 root     DEBUG    Crawling Interpark domastic schedule site\n"
     ]
    },
    {
     "name": "stdout",
     "output_type": "stream",
     "text": [
      "End Simple crawling\n",
      "Start Simple crawling :  http://domair.interpark.com/api/booking/airJourney.do\n",
      ">> Parameters\n",
      "tripDivi:0 , adt:1 , chd:0 , format:json , arr:CJJ , inf:0 , airlineCode:7C , dep:CJU , depDate:20170824 , \n"
     ]
    },
    {
     "name": "stderr",
     "output_type": "stream",
     "text": [
      "2017-08-11 08:35:57,099 root     DEBUG    Crawling Interpark domastic schedule site\n"
     ]
    },
    {
     "name": "stdout",
     "output_type": "stream",
     "text": [
      "End Simple crawling\n",
      "Start Simple crawling :  http://domair.interpark.com/api/booking/airJourney.do\n",
      ">> Parameters\n",
      "tripDivi:0 , adt:1 , chd:0 , format:json , arr:CJJ , inf:0 , airlineCode:LJ , dep:CJU , depDate:20170824 , \n"
     ]
    },
    {
     "name": "stderr",
     "output_type": "stream",
     "text": [
      "2017-08-11 08:35:57,336 root     DEBUG    Crawling Interpark domastic schedule site\n"
     ]
    },
    {
     "name": "stdout",
     "output_type": "stream",
     "text": [
      "End Simple crawling\n",
      "Start Simple crawling :  http://domair.interpark.com/api/booking/airJourney.do\n",
      ">> Parameters\n",
      "tripDivi:0 , adt:1 , chd:0 , format:json , arr:CJJ , inf:0 , airlineCode:OZ , dep:CJU , depDate:20170824 , \n"
     ]
    },
    {
     "name": "stderr",
     "output_type": "stream",
     "text": [
      "2017-08-11 08:35:58,338 root     DEBUG    Crawling Interpark domastic schedule site\n"
     ]
    },
    {
     "name": "stdout",
     "output_type": "stream",
     "text": [
      "End Simple crawling\n",
      "Start Simple crawling :  http://domair.interpark.com/api/booking/airJourney.do\n",
      ">> Parameters\n",
      "tripDivi:0 , adt:1 , chd:0 , format:json , arr:CJJ , inf:0 , airlineCode:KE , dep:CJU , depDate:20170824 , \n"
     ]
    },
    {
     "name": "stderr",
     "output_type": "stream",
     "text": [
      "2017-08-11 08:36:03,452 root     DEBUG    Crawling Interpark domastic schedule site\n"
     ]
    },
    {
     "name": "stdout",
     "output_type": "stream",
     "text": [
      "End Simple crawling\n",
      "Start Simple crawling :  http://domair.interpark.com/api/booking/airJourney.do\n",
      ">> Parameters\n",
      "tripDivi:0 , adt:1 , chd:0 , format:json , arr:CJJ , inf:0 , airlineCode:ZE , dep:CJU , depDate:20170824 , \n"
     ]
    },
    {
     "name": "stderr",
     "output_type": "stream",
     "text": [
      "2017-08-11 08:36:04,531 root     DEBUG    Crawling Interpark domastic schedule site\n"
     ]
    },
    {
     "name": "stdout",
     "output_type": "stream",
     "text": [
      "End Simple crawling\n",
      "Start Simple crawling :  http://domair.interpark.com/api/booking/airJourney.do\n",
      ">> Parameters\n",
      "tripDivi:0 , adt:1 , chd:0 , format:json , arr:CJJ , inf:0 , airlineCode:7C , dep:CJU , depDate:20170825 , \n"
     ]
    },
    {
     "name": "stderr",
     "output_type": "stream",
     "text": [
      "2017-08-11 08:36:05,960 root     DEBUG    Crawling Interpark domastic schedule site\n"
     ]
    },
    {
     "name": "stdout",
     "output_type": "stream",
     "text": [
      "End Simple crawling\n",
      "Start Simple crawling :  http://domair.interpark.com/api/booking/airJourney.do\n",
      ">> Parameters\n",
      "tripDivi:0 , adt:1 , chd:0 , format:json , arr:CJJ , inf:0 , airlineCode:LJ , dep:CJU , depDate:20170825 , \n"
     ]
    },
    {
     "name": "stderr",
     "output_type": "stream",
     "text": [
      "2017-08-11 08:36:06,313 root     DEBUG    Crawling Interpark domastic schedule site\n"
     ]
    },
    {
     "name": "stdout",
     "output_type": "stream",
     "text": [
      "End Simple crawling\n",
      "Start Simple crawling :  http://domair.interpark.com/api/booking/airJourney.do\n",
      ">> Parameters\n",
      "tripDivi:0 , adt:1 , chd:0 , format:json , arr:CJJ , inf:0 , airlineCode:OZ , dep:CJU , depDate:20170825 , \n"
     ]
    },
    {
     "name": "stderr",
     "output_type": "stream",
     "text": [
      "2017-08-11 08:36:07,014 root     DEBUG    Crawling Interpark domastic schedule site\n"
     ]
    },
    {
     "name": "stdout",
     "output_type": "stream",
     "text": [
      "End Simple crawling\n",
      "Start Simple crawling :  http://domair.interpark.com/api/booking/airJourney.do\n",
      ">> Parameters\n",
      "tripDivi:0 , adt:1 , chd:0 , format:json , arr:CJJ , inf:0 , airlineCode:KE , dep:CJU , depDate:20170825 , \n"
     ]
    },
    {
     "name": "stderr",
     "output_type": "stream",
     "text": [
      "2017-08-11 08:36:11,845 root     DEBUG    Crawling Interpark domastic schedule site\n"
     ]
    },
    {
     "name": "stdout",
     "output_type": "stream",
     "text": [
      "End Simple crawling\n",
      "Start Simple crawling :  http://domair.interpark.com/api/booking/airJourney.do\n",
      ">> Parameters\n",
      "tripDivi:0 , adt:1 , chd:0 , format:json , arr:CJJ , inf:0 , airlineCode:ZE , dep:CJU , depDate:20170825 , \n"
     ]
    },
    {
     "name": "stderr",
     "output_type": "stream",
     "text": [
      "2017-08-11 08:36:12,804 root     DEBUG    Crawling Interpark domastic schedule site\n"
     ]
    },
    {
     "name": "stdout",
     "output_type": "stream",
     "text": [
      "End Simple crawling\n",
      "Start Simple crawling :  http://domair.interpark.com/api/booking/airJourney.do\n",
      ">> Parameters\n",
      "tripDivi:0 , adt:1 , chd:0 , format:json , arr:CJJ , inf:0 , airlineCode:7C , dep:CJU , depDate:20170826 , \n"
     ]
    },
    {
     "name": "stderr",
     "output_type": "stream",
     "text": [
      "2017-08-11 08:36:14,194 root     DEBUG    Crawling Interpark domastic schedule site\n",
      "2017-08-11 08:36:14,320 root     DEBUG    Crawling Interpark domastic schedule site\n"
     ]
    },
    {
     "name": "stdout",
     "output_type": "stream",
     "text": [
      "End Simple crawling\n",
      "Start Simple crawling :  http://domair.interpark.com/api/booking/airJourney.do\n",
      ">> Parameters\n",
      "tripDivi:0 , adt:1 , chd:0 , format:json , arr:CJJ , inf:0 , airlineCode:LJ , dep:CJU , depDate:20170826 , \n",
      "End Simple crawling\n",
      "Start Simple crawling :  http://domair.interpark.com/api/booking/airJourney.do\n",
      ">> Parameters\n",
      "tripDivi:0 , adt:1 , chd:0 , format:json , arr:CJJ , inf:0 , airlineCode:OZ , dep:CJU , depDate:20170826 , \n"
     ]
    },
    {
     "name": "stderr",
     "output_type": "stream",
     "text": [
      "2017-08-11 08:36:15,112 root     DEBUG    Crawling Interpark domastic schedule site\n"
     ]
    },
    {
     "name": "stdout",
     "output_type": "stream",
     "text": [
      "End Simple crawling\n",
      "Start Simple crawling :  http://domair.interpark.com/api/booking/airJourney.do\n",
      ">> Parameters\n",
      "tripDivi:0 , adt:1 , chd:0 , format:json , arr:CJJ , inf:0 , airlineCode:KE , dep:CJU , depDate:20170826 , \n"
     ]
    },
    {
     "name": "stderr",
     "output_type": "stream",
     "text": [
      "2017-08-11 08:36:20,487 root     DEBUG    Crawling Interpark domastic schedule site\n"
     ]
    },
    {
     "name": "stdout",
     "output_type": "stream",
     "text": [
      "End Simple crawling\n",
      "Start Simple crawling :  http://domair.interpark.com/api/booking/airJourney.do\n",
      ">> Parameters\n",
      "tripDivi:0 , adt:1 , chd:0 , format:json , arr:CJJ , inf:0 , airlineCode:ZE , dep:CJU , depDate:20170826 , \n"
     ]
    },
    {
     "name": "stderr",
     "output_type": "stream",
     "text": [
      "2017-08-11 08:36:21,576 root     DEBUG    Crawling Interpark domastic schedule site\n"
     ]
    },
    {
     "name": "stdout",
     "output_type": "stream",
     "text": [
      "End Simple crawling\n",
      "Start Simple crawling :  http://domair.interpark.com/api/booking/airJourney.do\n",
      ">> Parameters\n",
      "tripDivi:0 , adt:1 , chd:0 , format:json , arr:CJJ , inf:0 , airlineCode:7C , dep:CJU , depDate:20170827 , \n"
     ]
    },
    {
     "name": "stderr",
     "output_type": "stream",
     "text": [
      "2017-08-11 08:36:24,833 root     DEBUG    Crawling Interpark domastic schedule site\n",
      "2017-08-11 08:36:24,951 root     DEBUG    Crawling Interpark domastic schedule site\n"
     ]
    },
    {
     "name": "stdout",
     "output_type": "stream",
     "text": [
      "End Simple crawling\n",
      "Start Simple crawling :  http://domair.interpark.com/api/booking/airJourney.do\n",
      ">> Parameters\n",
      "tripDivi:0 , adt:1 , chd:0 , format:json , arr:CJJ , inf:0 , airlineCode:LJ , dep:CJU , depDate:20170827 , \n",
      "End Simple crawling\n",
      "Start Simple crawling :  http://domair.interpark.com/api/booking/airJourney.do\n",
      ">> Parameters\n",
      "tripDivi:0 , adt:1 , chd:0 , format:json , arr:CJJ , inf:0 , airlineCode:OZ , dep:CJU , depDate:20170827 , \n"
     ]
    },
    {
     "name": "stderr",
     "output_type": "stream",
     "text": [
      "2017-08-11 08:36:26,044 root     DEBUG    Crawling Interpark domastic schedule site\n"
     ]
    },
    {
     "name": "stdout",
     "output_type": "stream",
     "text": [
      "End Simple crawling\n",
      "Start Simple crawling :  http://domair.interpark.com/api/booking/airJourney.do\n",
      ">> Parameters\n",
      "tripDivi:0 , adt:1 , chd:0 , format:json , arr:CJJ , inf:0 , airlineCode:KE , dep:CJU , depDate:20170827 , \n"
     ]
    },
    {
     "name": "stderr",
     "output_type": "stream",
     "text": [
      "2017-08-11 08:36:31,068 root     DEBUG    Crawling Interpark domastic schedule site\n"
     ]
    },
    {
     "name": "stdout",
     "output_type": "stream",
     "text": [
      "End Simple crawling\n",
      "Start Simple crawling :  http://domair.interpark.com/api/booking/airJourney.do\n",
      ">> Parameters\n",
      "tripDivi:0 , adt:1 , chd:0 , format:json , arr:CJJ , inf:0 , airlineCode:ZE , dep:CJU , depDate:20170827 , \n"
     ]
    },
    {
     "name": "stderr",
     "output_type": "stream",
     "text": [
      "2017-08-11 08:36:32,049 root     DEBUG    Crawling Interpark domastic schedule site\n"
     ]
    },
    {
     "name": "stdout",
     "output_type": "stream",
     "text": [
      "End Simple crawling\n",
      "Start Simple crawling :  http://domair.interpark.com/api/booking/airJourney.do\n",
      ">> Parameters\n",
      "tripDivi:0 , adt:1 , chd:0 , format:json , arr:CJJ , inf:0 , airlineCode:7C , dep:CJU , depDate:20170828 , \n"
     ]
    },
    {
     "name": "stderr",
     "output_type": "stream",
     "text": [
      "2017-08-11 08:36:33,625 root     DEBUG    Crawling Interpark domastic schedule site\n",
      "2017-08-11 08:36:33,766 root     DEBUG    Crawling Interpark domastic schedule site\n"
     ]
    },
    {
     "name": "stdout",
     "output_type": "stream",
     "text": [
      "End Simple crawling\n",
      "Start Simple crawling :  http://domair.interpark.com/api/booking/airJourney.do\n",
      ">> Parameters\n",
      "tripDivi:0 , adt:1 , chd:0 , format:json , arr:CJJ , inf:0 , airlineCode:LJ , dep:CJU , depDate:20170828 , \n",
      "End Simple crawling\n",
      "Start Simple crawling :  http://domair.interpark.com/api/booking/airJourney.do\n",
      ">> Parameters\n",
      "tripDivi:0 , adt:1 , chd:0 , format:json , arr:CJJ , inf:0 , airlineCode:OZ , dep:CJU , depDate:20170828 , \n"
     ]
    },
    {
     "name": "stderr",
     "output_type": "stream",
     "text": [
      "2017-08-11 08:36:34,678 root     DEBUG    Crawling Interpark domastic schedule site\n"
     ]
    },
    {
     "name": "stdout",
     "output_type": "stream",
     "text": [
      "End Simple crawling\n",
      "Start Simple crawling :  http://domair.interpark.com/api/booking/airJourney.do\n",
      ">> Parameters\n",
      "tripDivi:0 , adt:1 , chd:0 , format:json , arr:CJJ , inf:0 , airlineCode:KE , dep:CJU , depDate:20170828 , \n"
     ]
    },
    {
     "name": "stderr",
     "output_type": "stream",
     "text": [
      "2017-08-11 08:36:39,454 root     DEBUG    Crawling Interpark domastic schedule site\n"
     ]
    },
    {
     "name": "stdout",
     "output_type": "stream",
     "text": [
      "End Simple crawling\n",
      "Start Simple crawling :  http://domair.interpark.com/api/booking/airJourney.do\n",
      ">> Parameters\n",
      "tripDivi:0 , adt:1 , chd:0 , format:json , arr:CJJ , inf:0 , airlineCode:ZE , dep:CJU , depDate:20170828 , \n"
     ]
    },
    {
     "name": "stderr",
     "output_type": "stream",
     "text": [
      "2017-08-11 08:36:40,454 root     DEBUG    Crawling Interpark domastic schedule site\n"
     ]
    },
    {
     "name": "stdout",
     "output_type": "stream",
     "text": [
      "End Simple crawling\n",
      "Start Simple crawling :  http://domair.interpark.com/api/booking/airJourney.do\n",
      ">> Parameters\n",
      "tripDivi:0 , adt:1 , chd:0 , format:json , arr:CJJ , inf:0 , airlineCode:7C , dep:CJU , depDate:20170829 , \n"
     ]
    },
    {
     "name": "stderr",
     "output_type": "stream",
     "text": [
      "2017-08-11 08:36:41,819 root     DEBUG    Crawling Interpark domastic schedule site\n"
     ]
    },
    {
     "name": "stdout",
     "output_type": "stream",
     "text": [
      "End Simple crawling\n",
      "Start Simple crawling :  http://domair.interpark.com/api/booking/airJourney.do\n",
      ">> Parameters\n",
      "tripDivi:0 , adt:1 , chd:0 , format:json , arr:CJJ , inf:0 , airlineCode:LJ , dep:CJU , depDate:20170829 , \n"
     ]
    },
    {
     "name": "stderr",
     "output_type": "stream",
     "text": [
      "2017-08-11 08:36:42,265 root     DEBUG    Crawling Interpark domastic schedule site\n"
     ]
    },
    {
     "name": "stdout",
     "output_type": "stream",
     "text": [
      "End Simple crawling\n",
      "Start Simple crawling :  http://domair.interpark.com/api/booking/airJourney.do\n",
      ">> Parameters\n",
      "tripDivi:0 , adt:1 , chd:0 , format:json , arr:CJJ , inf:0 , airlineCode:OZ , dep:CJU , depDate:20170829 , \n"
     ]
    },
    {
     "name": "stderr",
     "output_type": "stream",
     "text": [
      "2017-08-11 08:36:42,977 root     DEBUG    Crawling Interpark domastic schedule site\n"
     ]
    },
    {
     "name": "stdout",
     "output_type": "stream",
     "text": [
      "End Simple crawling\n",
      "Start Simple crawling :  http://domair.interpark.com/api/booking/airJourney.do\n",
      ">> Parameters\n",
      "tripDivi:0 , adt:1 , chd:0 , format:json , arr:CJJ , inf:0 , airlineCode:KE , dep:CJU , depDate:20170829 , \n"
     ]
    },
    {
     "name": "stderr",
     "output_type": "stream",
     "text": [
      "2017-08-11 08:36:49,267 root     DEBUG    Crawling Interpark domastic schedule site\n"
     ]
    },
    {
     "name": "stdout",
     "output_type": "stream",
     "text": [
      "End Simple crawling\n",
      "Start Simple crawling :  http://domair.interpark.com/api/booking/airJourney.do\n",
      ">> Parameters\n",
      "tripDivi:0 , adt:1 , chd:0 , format:json , arr:CJJ , inf:0 , airlineCode:ZE , dep:CJU , depDate:20170829 , \n"
     ]
    },
    {
     "name": "stderr",
     "output_type": "stream",
     "text": [
      "2017-08-11 08:36:50,507 root     DEBUG    Crawling Interpark domastic schedule site\n"
     ]
    },
    {
     "name": "stdout",
     "output_type": "stream",
     "text": [
      "End Simple crawling\n",
      "Start Simple crawling :  http://domair.interpark.com/api/booking/airJourney.do\n",
      ">> Parameters\n",
      "tripDivi:0 , adt:1 , chd:0 , format:json , arr:CJJ , inf:0 , airlineCode:7C , dep:CJU , depDate:20170830 , \n"
     ]
    },
    {
     "name": "stderr",
     "output_type": "stream",
     "text": [
      "2017-08-11 08:36:52,000 root     DEBUG    Crawling Interpark domastic schedule site\n"
     ]
    },
    {
     "name": "stdout",
     "output_type": "stream",
     "text": [
      "End Simple crawling\n",
      "Start Simple crawling :  http://domair.interpark.com/api/booking/airJourney.do\n",
      ">> Parameters\n",
      "tripDivi:0 , adt:1 , chd:0 , format:json , arr:CJJ , inf:0 , airlineCode:LJ , dep:CJU , depDate:20170830 , \n"
     ]
    },
    {
     "name": "stderr",
     "output_type": "stream",
     "text": [
      "2017-08-11 08:36:52,329 root     DEBUG    Crawling Interpark domastic schedule site\n"
     ]
    },
    {
     "name": "stdout",
     "output_type": "stream",
     "text": [
      "End Simple crawling\n",
      "Start Simple crawling :  http://domair.interpark.com/api/booking/airJourney.do\n",
      ">> Parameters\n",
      "tripDivi:0 , adt:1 , chd:0 , format:json , arr:CJJ , inf:0 , airlineCode:OZ , dep:CJU , depDate:20170830 , \n"
     ]
    },
    {
     "name": "stderr",
     "output_type": "stream",
     "text": [
      "2017-08-11 08:36:53,242 root     DEBUG    Crawling Interpark domastic schedule site\n"
     ]
    },
    {
     "name": "stdout",
     "output_type": "stream",
     "text": [
      "End Simple crawling\n",
      "Start Simple crawling :  http://domair.interpark.com/api/booking/airJourney.do\n",
      ">> Parameters\n",
      "tripDivi:0 , adt:1 , chd:0 , format:json , arr:CJJ , inf:0 , airlineCode:KE , dep:CJU , depDate:20170830 , \n"
     ]
    },
    {
     "name": "stderr",
     "output_type": "stream",
     "text": [
      "2017-08-11 08:36:58,225 root     DEBUG    Crawling Interpark domastic schedule site\n"
     ]
    },
    {
     "name": "stdout",
     "output_type": "stream",
     "text": [
      "End Simple crawling\n",
      "Start Simple crawling :  http://domair.interpark.com/api/booking/airJourney.do\n",
      ">> Parameters\n",
      "tripDivi:0 , adt:1 , chd:0 , format:json , arr:CJJ , inf:0 , airlineCode:ZE , dep:CJU , depDate:20170830 , \n"
     ]
    },
    {
     "name": "stderr",
     "output_type": "stream",
     "text": [
      "2017-08-11 08:36:59,208 root     DEBUG    Crawling Interpark domastic schedule site\n"
     ]
    },
    {
     "name": "stdout",
     "output_type": "stream",
     "text": [
      "End Simple crawling\n",
      "Start Simple crawling :  http://domair.interpark.com/api/booking/airJourney.do\n",
      ">> Parameters\n",
      "tripDivi:0 , adt:1 , chd:0 , format:json , arr:CJJ , inf:0 , airlineCode:7C , dep:CJU , depDate:20170831 , \n"
     ]
    },
    {
     "name": "stderr",
     "output_type": "stream",
     "text": [
      "2017-08-11 08:37:00,564 root     DEBUG    Crawling Interpark domastic schedule site\n",
      "2017-08-11 08:37:00,685 root     DEBUG    Crawling Interpark domastic schedule site\n"
     ]
    },
    {
     "name": "stdout",
     "output_type": "stream",
     "text": [
      "End Simple crawling\n",
      "Start Simple crawling :  http://domair.interpark.com/api/booking/airJourney.do\n",
      ">> Parameters\n",
      "tripDivi:0 , adt:1 , chd:0 , format:json , arr:CJJ , inf:0 , airlineCode:LJ , dep:CJU , depDate:20170831 , \n",
      "End Simple crawling\n",
      "Start Simple crawling :  http://domair.interpark.com/api/booking/airJourney.do\n",
      ">> Parameters\n",
      "tripDivi:0 , adt:1 , chd:0 , format:json , arr:CJJ , inf:0 , airlineCode:OZ , dep:CJU , depDate:20170831 , \n"
     ]
    },
    {
     "name": "stderr",
     "output_type": "stream",
     "text": [
      "2017-08-11 08:37:01,749 root     DEBUG    Crawling Interpark domastic schedule site\n"
     ]
    },
    {
     "name": "stdout",
     "output_type": "stream",
     "text": [
      "End Simple crawling\n",
      "Start Simple crawling :  http://domair.interpark.com/api/booking/airJourney.do\n",
      ">> Parameters\n",
      "tripDivi:0 , adt:1 , chd:0 , format:json , arr:CJJ , inf:0 , airlineCode:KE , dep:CJU , depDate:20170831 , \n"
     ]
    },
    {
     "name": "stderr",
     "output_type": "stream",
     "text": [
      "2017-08-11 08:37:06,747 root     DEBUG    Crawling Interpark domastic schedule site\n"
     ]
    },
    {
     "name": "stdout",
     "output_type": "stream",
     "text": [
      "End Simple crawling\n",
      "Start Simple crawling :  http://domair.interpark.com/api/booking/airJourney.do\n",
      ">> Parameters\n",
      "tripDivi:0 , adt:1 , chd:0 , format:json , arr:CJJ , inf:0 , airlineCode:ZE , dep:CJU , depDate:20170831 , \n"
     ]
    },
    {
     "name": "stderr",
     "output_type": "stream",
     "text": [
      "2017-08-11 08:37:07,808 root     DEBUG    Crawling Interpark domastic schedule site\n"
     ]
    },
    {
     "name": "stdout",
     "output_type": "stream",
     "text": [
      "End Simple crawling\n",
      "Start Simple crawling :  http://domair.interpark.com/api/booking/airJourney.do\n",
      ">> Parameters\n",
      "tripDivi:0 , adt:1 , chd:0 , format:json , arr:CJJ , inf:0 , airlineCode:7C , dep:CJU , depDate:20170901 , \n"
     ]
    },
    {
     "name": "stderr",
     "output_type": "stream",
     "text": [
      "2017-08-11 08:37:09,188 root     DEBUG    Crawling Interpark domastic schedule site\n",
      "2017-08-11 08:37:09,317 root     DEBUG    Crawling Interpark domastic schedule site\n"
     ]
    },
    {
     "name": "stdout",
     "output_type": "stream",
     "text": [
      "End Simple crawling\n",
      "Start Simple crawling :  http://domair.interpark.com/api/booking/airJourney.do\n",
      ">> Parameters\n",
      "tripDivi:0 , adt:1 , chd:0 , format:json , arr:CJJ , inf:0 , airlineCode:LJ , dep:CJU , depDate:20170901 , \n",
      "End Simple crawling\n",
      "Start Simple crawling :  http://domair.interpark.com/api/booking/airJourney.do\n",
      ">> Parameters\n",
      "tripDivi:0 , adt:1 , chd:0 , format:json , arr:CJJ , inf:0 , airlineCode:OZ , dep:CJU , depDate:20170901 , \n"
     ]
    },
    {
     "name": "stderr",
     "output_type": "stream",
     "text": [
      "2017-08-11 08:37:10,398 root     DEBUG    Crawling Interpark domastic schedule site\n"
     ]
    },
    {
     "name": "stdout",
     "output_type": "stream",
     "text": [
      "End Simple crawling\n",
      "Start Simple crawling :  http://domair.interpark.com/api/booking/airJourney.do\n",
      ">> Parameters\n",
      "tripDivi:0 , adt:1 , chd:0 , format:json , arr:CJJ , inf:0 , airlineCode:KE , dep:CJU , depDate:20170901 , \n"
     ]
    },
    {
     "name": "stderr",
     "output_type": "stream",
     "text": [
      "2017-08-11 08:37:15,487 root     DEBUG    Crawling Interpark domastic schedule site\n"
     ]
    },
    {
     "name": "stdout",
     "output_type": "stream",
     "text": [
      "End Simple crawling\n",
      "Start Simple crawling :  http://domair.interpark.com/api/booking/airJourney.do\n",
      ">> Parameters\n",
      "tripDivi:0 , adt:1 , chd:0 , format:json , arr:CJJ , inf:0 , airlineCode:ZE , dep:CJU , depDate:20170901 , \n"
     ]
    },
    {
     "name": "stderr",
     "output_type": "stream",
     "text": [
      "2017-08-11 08:37:16,510 root     INFO     end batch job :: craw_by_route_site :: elapsed -0:03:24.706709 :: Total crawl:105 files saved.\n",
      "2017-08-11 08:37:16,512 root     INFO     start batch job :: craw_by_route_site[KUV,CJU,IP,['20170812', '20170813', '20170814', '20170815', '20170816', '20170817', '20170818', '20170819', '20170820', '20170821', '20170822', '20170823', '20170824', '20170825', '20170826', '20170827', '20170828', '20170829', '20170830', '20170831', '20170901'],['KE', 'ZE']]\n",
      "2017-08-11 08:37:16,515 root     DEBUG    0 :: IP :: crawling_IP_dom :: False\n",
      "2017-08-11 08:37:16,519 root     INFO     <function crawling_IP_dom at 0x0000000007C78378> :: False\n",
      "2017-08-11 08:37:16,523 root     DEBUG    Crawling Interpark domastic schedule site\n"
     ]
    },
    {
     "name": "stdout",
     "output_type": "stream",
     "text": [
      "End Simple crawling\n",
      "Start Simple crawling :  http://domair.interpark.com/api/booking/airJourney.do\n",
      ">> Parameters\n",
      "tripDivi:0 , adt:1 , chd:0 , format:json , arr:CJU , inf:0 , airlineCode:KE , dep:KUV , depDate:20170812 , \n"
     ]
    },
    {
     "name": "stderr",
     "output_type": "stream",
     "text": [
      "2017-08-11 08:37:20,756 root     DEBUG    Crawling Interpark domastic schedule site\n"
     ]
    },
    {
     "name": "stdout",
     "output_type": "stream",
     "text": [
      "End Simple crawling\n",
      "Start Simple crawling :  http://domair.interpark.com/api/booking/airJourney.do\n",
      ">> Parameters\n",
      "tripDivi:0 , adt:1 , chd:0 , format:json , arr:CJU , inf:0 , airlineCode:ZE , dep:KUV , depDate:20170812 , \n"
     ]
    },
    {
     "name": "stderr",
     "output_type": "stream",
     "text": [
      "2017-08-11 08:37:21,760 root     DEBUG    Crawling Interpark domastic schedule site\n"
     ]
    },
    {
     "name": "stdout",
     "output_type": "stream",
     "text": [
      "End Simple crawling\n",
      "Start Simple crawling :  http://domair.interpark.com/api/booking/airJourney.do\n",
      ">> Parameters\n",
      "tripDivi:0 , adt:1 , chd:0 , format:json , arr:CJU , inf:0 , airlineCode:KE , dep:KUV , depDate:20170813 , \n"
     ]
    },
    {
     "name": "stderr",
     "output_type": "stream",
     "text": [
      "2017-08-11 08:37:26,278 root     DEBUG    Crawling Interpark domastic schedule site\n"
     ]
    },
    {
     "name": "stdout",
     "output_type": "stream",
     "text": [
      "End Simple crawling\n",
      "Start Simple crawling :  http://domair.interpark.com/api/booking/airJourney.do\n",
      ">> Parameters\n",
      "tripDivi:0 , adt:1 , chd:0 , format:json , arr:CJU , inf:0 , airlineCode:ZE , dep:KUV , depDate:20170813 , \n"
     ]
    },
    {
     "name": "stderr",
     "output_type": "stream",
     "text": [
      "2017-08-11 08:37:27,227 root     DEBUG    Crawling Interpark domastic schedule site\n"
     ]
    },
    {
     "name": "stdout",
     "output_type": "stream",
     "text": [
      "End Simple crawling\n",
      "Start Simple crawling :  http://domair.interpark.com/api/booking/airJourney.do\n",
      ">> Parameters\n",
      "tripDivi:0 , adt:1 , chd:0 , format:json , arr:CJU , inf:0 , airlineCode:KE , dep:KUV , depDate:20170814 , \n"
     ]
    },
    {
     "name": "stderr",
     "output_type": "stream",
     "text": [
      "2017-08-11 08:37:35,063 root     DEBUG    Crawling Interpark domastic schedule site\n"
     ]
    },
    {
     "name": "stdout",
     "output_type": "stream",
     "text": [
      "End Simple crawling\n",
      "Start Simple crawling :  http://domair.interpark.com/api/booking/airJourney.do\n",
      ">> Parameters\n",
      "tripDivi:0 , adt:1 , chd:0 , format:json , arr:CJU , inf:0 , airlineCode:ZE , dep:KUV , depDate:20170814 , \n"
     ]
    },
    {
     "name": "stderr",
     "output_type": "stream",
     "text": [
      "2017-08-11 08:37:36,108 root     DEBUG    Crawling Interpark domastic schedule site\n"
     ]
    },
    {
     "name": "stdout",
     "output_type": "stream",
     "text": [
      "End Simple crawling\n",
      "Start Simple crawling :  http://domair.interpark.com/api/booking/airJourney.do\n",
      ">> Parameters\n",
      "tripDivi:0 , adt:1 , chd:0 , format:json , arr:CJU , inf:0 , airlineCode:KE , dep:KUV , depDate:20170815 , \n"
     ]
    },
    {
     "name": "stderr",
     "output_type": "stream",
     "text": [
      "2017-08-11 08:37:40,645 root     DEBUG    Crawling Interpark domastic schedule site\n"
     ]
    },
    {
     "name": "stdout",
     "output_type": "stream",
     "text": [
      "End Simple crawling\n",
      "Start Simple crawling :  http://domair.interpark.com/api/booking/airJourney.do\n",
      ">> Parameters\n",
      "tripDivi:0 , adt:1 , chd:0 , format:json , arr:CJU , inf:0 , airlineCode:ZE , dep:KUV , depDate:20170815 , \n"
     ]
    },
    {
     "name": "stderr",
     "output_type": "stream",
     "text": [
      "2017-08-11 08:37:41,598 root     DEBUG    Crawling Interpark domastic schedule site\n"
     ]
    },
    {
     "name": "stdout",
     "output_type": "stream",
     "text": [
      "End Simple crawling\n",
      "Start Simple crawling :  http://domair.interpark.com/api/booking/airJourney.do\n",
      ">> Parameters\n",
      "tripDivi:0 , adt:1 , chd:0 , format:json , arr:CJU , inf:0 , airlineCode:KE , dep:KUV , depDate:20170816 , \n"
     ]
    },
    {
     "name": "stderr",
     "output_type": "stream",
     "text": [
      "2017-08-11 08:37:45,977 root     DEBUG    Crawling Interpark domastic schedule site\n"
     ]
    },
    {
     "name": "stdout",
     "output_type": "stream",
     "text": [
      "End Simple crawling\n",
      "Start Simple crawling :  http://domair.interpark.com/api/booking/airJourney.do\n",
      ">> Parameters\n",
      "tripDivi:0 , adt:1 , chd:0 , format:json , arr:CJU , inf:0 , airlineCode:ZE , dep:KUV , depDate:20170816 , \n"
     ]
    },
    {
     "name": "stderr",
     "output_type": "stream",
     "text": [
      "2017-08-11 08:37:46,925 root     DEBUG    Crawling Interpark domastic schedule site\n"
     ]
    },
    {
     "name": "stdout",
     "output_type": "stream",
     "text": [
      "End Simple crawling\n",
      "Start Simple crawling :  http://domair.interpark.com/api/booking/airJourney.do\n",
      ">> Parameters\n",
      "tripDivi:0 , adt:1 , chd:0 , format:json , arr:CJU , inf:0 , airlineCode:KE , dep:KUV , depDate:20170817 , \n"
     ]
    },
    {
     "name": "stderr",
     "output_type": "stream",
     "text": [
      "2017-08-11 08:37:51,446 root     DEBUG    Crawling Interpark domastic schedule site\n"
     ]
    },
    {
     "name": "stdout",
     "output_type": "stream",
     "text": [
      "End Simple crawling\n",
      "Start Simple crawling :  http://domair.interpark.com/api/booking/airJourney.do\n",
      ">> Parameters\n",
      "tripDivi:0 , adt:1 , chd:0 , format:json , arr:CJU , inf:0 , airlineCode:ZE , dep:KUV , depDate:20170817 , \n"
     ]
    },
    {
     "name": "stderr",
     "output_type": "stream",
     "text": [
      "2017-08-11 08:37:52,404 root     DEBUG    Crawling Interpark domastic schedule site\n"
     ]
    },
    {
     "name": "stdout",
     "output_type": "stream",
     "text": [
      "End Simple crawling\n",
      "Start Simple crawling :  http://domair.interpark.com/api/booking/airJourney.do\n",
      ">> Parameters\n",
      "tripDivi:0 , adt:1 , chd:0 , format:json , arr:CJU , inf:0 , airlineCode:KE , dep:KUV , depDate:20170818 , \n"
     ]
    },
    {
     "name": "stderr",
     "output_type": "stream",
     "text": [
      "2017-08-11 08:37:56,781 root     DEBUG    Crawling Interpark domastic schedule site\n"
     ]
    },
    {
     "name": "stdout",
     "output_type": "stream",
     "text": [
      "End Simple crawling\n",
      "Start Simple crawling :  http://domair.interpark.com/api/booking/airJourney.do\n",
      ">> Parameters\n",
      "tripDivi:0 , adt:1 , chd:0 , format:json , arr:CJU , inf:0 , airlineCode:ZE , dep:KUV , depDate:20170818 , \n"
     ]
    },
    {
     "name": "stderr",
     "output_type": "stream",
     "text": [
      "2017-08-11 08:37:57,789 root     DEBUG    Crawling Interpark domastic schedule site\n"
     ]
    },
    {
     "name": "stdout",
     "output_type": "stream",
     "text": [
      "End Simple crawling\n",
      "Start Simple crawling :  http://domair.interpark.com/api/booking/airJourney.do\n",
      ">> Parameters\n",
      "tripDivi:0 , adt:1 , chd:0 , format:json , arr:CJU , inf:0 , airlineCode:KE , dep:KUV , depDate:20170819 , \n"
     ]
    },
    {
     "name": "stderr",
     "output_type": "stream",
     "text": [
      "2017-08-11 08:38:02,284 root     DEBUG    Crawling Interpark domastic schedule site\n"
     ]
    },
    {
     "name": "stdout",
     "output_type": "stream",
     "text": [
      "End Simple crawling\n",
      "Start Simple crawling :  http://domair.interpark.com/api/booking/airJourney.do\n",
      ">> Parameters\n",
      "tripDivi:0 , adt:1 , chd:0 , format:json , arr:CJU , inf:0 , airlineCode:ZE , dep:KUV , depDate:20170819 , \n"
     ]
    },
    {
     "name": "stderr",
     "output_type": "stream",
     "text": [
      "2017-08-11 08:38:03,236 root     DEBUG    Crawling Interpark domastic schedule site\n"
     ]
    },
    {
     "name": "stdout",
     "output_type": "stream",
     "text": [
      "End Simple crawling\n",
      "Start Simple crawling :  http://domair.interpark.com/api/booking/airJourney.do\n",
      ">> Parameters\n",
      "tripDivi:0 , adt:1 , chd:0 , format:json , arr:CJU , inf:0 , airlineCode:KE , dep:KUV , depDate:20170820 , \n"
     ]
    },
    {
     "name": "stderr",
     "output_type": "stream",
     "text": [
      "2017-08-11 08:38:07,774 root     DEBUG    Crawling Interpark domastic schedule site\n"
     ]
    },
    {
     "name": "stdout",
     "output_type": "stream",
     "text": [
      "End Simple crawling\n",
      "Start Simple crawling :  http://domair.interpark.com/api/booking/airJourney.do\n",
      ">> Parameters\n",
      "tripDivi:0 , adt:1 , chd:0 , format:json , arr:CJU , inf:0 , airlineCode:ZE , dep:KUV , depDate:20170820 , \n"
     ]
    },
    {
     "name": "stderr",
     "output_type": "stream",
     "text": [
      "2017-08-11 08:38:08,840 root     DEBUG    Crawling Interpark domastic schedule site\n"
     ]
    },
    {
     "name": "stdout",
     "output_type": "stream",
     "text": [
      "End Simple crawling\n",
      "Start Simple crawling :  http://domair.interpark.com/api/booking/airJourney.do\n",
      ">> Parameters\n",
      "tripDivi:0 , adt:1 , chd:0 , format:json , arr:CJU , inf:0 , airlineCode:KE , dep:KUV , depDate:20170821 , \n"
     ]
    },
    {
     "name": "stderr",
     "output_type": "stream",
     "text": [
      "2017-08-11 08:38:13,268 root     DEBUG    Crawling Interpark domastic schedule site\n"
     ]
    },
    {
     "name": "stdout",
     "output_type": "stream",
     "text": [
      "End Simple crawling\n",
      "Start Simple crawling :  http://domair.interpark.com/api/booking/airJourney.do\n",
      ">> Parameters\n",
      "tripDivi:0 , adt:1 , chd:0 , format:json , arr:CJU , inf:0 , airlineCode:ZE , dep:KUV , depDate:20170821 , \n"
     ]
    },
    {
     "name": "stderr",
     "output_type": "stream",
     "text": [
      "2017-08-11 08:38:14,261 root     DEBUG    Crawling Interpark domastic schedule site\n"
     ]
    },
    {
     "name": "stdout",
     "output_type": "stream",
     "text": [
      "End Simple crawling\n",
      "Start Simple crawling :  http://domair.interpark.com/api/booking/airJourney.do\n",
      ">> Parameters\n",
      "tripDivi:0 , adt:1 , chd:0 , format:json , arr:CJU , inf:0 , airlineCode:KE , dep:KUV , depDate:20170822 , \n"
     ]
    },
    {
     "name": "stderr",
     "output_type": "stream",
     "text": [
      "2017-08-11 08:38:18,756 root     DEBUG    Crawling Interpark domastic schedule site\n"
     ]
    },
    {
     "name": "stdout",
     "output_type": "stream",
     "text": [
      "End Simple crawling\n",
      "Start Simple crawling :  http://domair.interpark.com/api/booking/airJourney.do\n",
      ">> Parameters\n",
      "tripDivi:0 , adt:1 , chd:0 , format:json , arr:CJU , inf:0 , airlineCode:ZE , dep:KUV , depDate:20170822 , \n"
     ]
    },
    {
     "name": "stderr",
     "output_type": "stream",
     "text": [
      "2017-08-11 08:38:19,678 root     DEBUG    Crawling Interpark domastic schedule site\n"
     ]
    },
    {
     "name": "stdout",
     "output_type": "stream",
     "text": [
      "End Simple crawling\n",
      "Start Simple crawling :  http://domair.interpark.com/api/booking/airJourney.do\n",
      ">> Parameters\n",
      "tripDivi:0 , adt:1 , chd:0 , format:json , arr:CJU , inf:0 , airlineCode:KE , dep:KUV , depDate:20170823 , \n"
     ]
    },
    {
     "name": "stderr",
     "output_type": "stream",
     "text": [
      "2017-08-11 08:38:24,045 root     DEBUG    Crawling Interpark domastic schedule site\n"
     ]
    },
    {
     "name": "stdout",
     "output_type": "stream",
     "text": [
      "End Simple crawling\n",
      "Start Simple crawling :  http://domair.interpark.com/api/booking/airJourney.do\n",
      ">> Parameters\n",
      "tripDivi:0 , adt:1 , chd:0 , format:json , arr:CJU , inf:0 , airlineCode:ZE , dep:KUV , depDate:20170823 , \n"
     ]
    },
    {
     "name": "stderr",
     "output_type": "stream",
     "text": [
      "2017-08-11 08:38:25,054 root     DEBUG    Crawling Interpark domastic schedule site\n"
     ]
    },
    {
     "name": "stdout",
     "output_type": "stream",
     "text": [
      "End Simple crawling\n",
      "Start Simple crawling :  http://domair.interpark.com/api/booking/airJourney.do\n",
      ">> Parameters\n",
      "tripDivi:0 , adt:1 , chd:0 , format:json , arr:CJU , inf:0 , airlineCode:KE , dep:KUV , depDate:20170824 , \n"
     ]
    },
    {
     "name": "stderr",
     "output_type": "stream",
     "text": [
      "2017-08-11 08:38:29,664 root     DEBUG    Crawling Interpark domastic schedule site\n"
     ]
    },
    {
     "name": "stdout",
     "output_type": "stream",
     "text": [
      "End Simple crawling\n",
      "Start Simple crawling :  http://domair.interpark.com/api/booking/airJourney.do\n",
      ">> Parameters\n",
      "tripDivi:0 , adt:1 , chd:0 , format:json , arr:CJU , inf:0 , airlineCode:ZE , dep:KUV , depDate:20170824 , \n"
     ]
    },
    {
     "name": "stderr",
     "output_type": "stream",
     "text": [
      "2017-08-11 08:38:30,603 root     DEBUG    Crawling Interpark domastic schedule site\n"
     ]
    },
    {
     "name": "stdout",
     "output_type": "stream",
     "text": [
      "End Simple crawling\n",
      "Start Simple crawling :  http://domair.interpark.com/api/booking/airJourney.do\n",
      ">> Parameters\n",
      "tripDivi:0 , adt:1 , chd:0 , format:json , arr:CJU , inf:0 , airlineCode:KE , dep:KUV , depDate:20170825 , \n"
     ]
    },
    {
     "name": "stderr",
     "output_type": "stream",
     "text": [
      "2017-08-11 08:38:35,513 root     DEBUG    Crawling Interpark domastic schedule site\n"
     ]
    },
    {
     "name": "stdout",
     "output_type": "stream",
     "text": [
      "End Simple crawling\n",
      "Start Simple crawling :  http://domair.interpark.com/api/booking/airJourney.do\n",
      ">> Parameters\n",
      "tripDivi:0 , adt:1 , chd:0 , format:json , arr:CJU , inf:0 , airlineCode:ZE , dep:KUV , depDate:20170825 , \n"
     ]
    },
    {
     "name": "stderr",
     "output_type": "stream",
     "text": [
      "2017-08-11 08:38:36,481 root     DEBUG    Crawling Interpark domastic schedule site\n"
     ]
    },
    {
     "name": "stdout",
     "output_type": "stream",
     "text": [
      "End Simple crawling\n",
      "Start Simple crawling :  http://domair.interpark.com/api/booking/airJourney.do\n",
      ">> Parameters\n",
      "tripDivi:0 , adt:1 , chd:0 , format:json , arr:CJU , inf:0 , airlineCode:KE , dep:KUV , depDate:20170826 , \n"
     ]
    },
    {
     "name": "stderr",
     "output_type": "stream",
     "text": [
      "2017-08-11 08:38:40,883 root     DEBUG    Crawling Interpark domastic schedule site\n"
     ]
    },
    {
     "name": "stdout",
     "output_type": "stream",
     "text": [
      "End Simple crawling\n",
      "Start Simple crawling :  http://domair.interpark.com/api/booking/airJourney.do\n",
      ">> Parameters\n",
      "tripDivi:0 , adt:1 , chd:0 , format:json , arr:CJU , inf:0 , airlineCode:ZE , dep:KUV , depDate:20170826 , \n"
     ]
    },
    {
     "name": "stderr",
     "output_type": "stream",
     "text": [
      "2017-08-11 08:38:41,844 root     DEBUG    Crawling Interpark domastic schedule site\n"
     ]
    },
    {
     "name": "stdout",
     "output_type": "stream",
     "text": [
      "End Simple crawling\n",
      "Start Simple crawling :  http://domair.interpark.com/api/booking/airJourney.do\n",
      ">> Parameters\n",
      "tripDivi:0 , adt:1 , chd:0 , format:json , arr:CJU , inf:0 , airlineCode:KE , dep:KUV , depDate:20170827 , \n"
     ]
    },
    {
     "name": "stderr",
     "output_type": "stream",
     "text": [
      "2017-08-11 08:38:46,346 root     DEBUG    Crawling Interpark domastic schedule site\n"
     ]
    },
    {
     "name": "stdout",
     "output_type": "stream",
     "text": [
      "End Simple crawling\n",
      "Start Simple crawling :  http://domair.interpark.com/api/booking/airJourney.do\n",
      ">> Parameters\n",
      "tripDivi:0 , adt:1 , chd:0 , format:json , arr:CJU , inf:0 , airlineCode:ZE , dep:KUV , depDate:20170827 , \n"
     ]
    },
    {
     "name": "stderr",
     "output_type": "stream",
     "text": [
      "2017-08-11 08:38:47,277 root     DEBUG    Crawling Interpark domastic schedule site\n"
     ]
    },
    {
     "name": "stdout",
     "output_type": "stream",
     "text": [
      "End Simple crawling\n",
      "Start Simple crawling :  http://domair.interpark.com/api/booking/airJourney.do\n",
      ">> Parameters\n",
      "tripDivi:0 , adt:1 , chd:0 , format:json , arr:CJU , inf:0 , airlineCode:KE , dep:KUV , depDate:20170828 , \n"
     ]
    },
    {
     "name": "stderr",
     "output_type": "stream",
     "text": [
      "2017-08-11 08:38:51,796 root     DEBUG    Crawling Interpark domastic schedule site\n"
     ]
    },
    {
     "name": "stdout",
     "output_type": "stream",
     "text": [
      "End Simple crawling\n",
      "Start Simple crawling :  http://domair.interpark.com/api/booking/airJourney.do\n",
      ">> Parameters\n",
      "tripDivi:0 , adt:1 , chd:0 , format:json , arr:CJU , inf:0 , airlineCode:ZE , dep:KUV , depDate:20170828 , \n"
     ]
    },
    {
     "name": "stderr",
     "output_type": "stream",
     "text": [
      "2017-08-11 08:38:52,737 root     DEBUG    Crawling Interpark domastic schedule site\n"
     ]
    },
    {
     "name": "stdout",
     "output_type": "stream",
     "text": [
      "End Simple crawling\n",
      "Start Simple crawling :  http://domair.interpark.com/api/booking/airJourney.do\n",
      ">> Parameters\n",
      "tripDivi:0 , adt:1 , chd:0 , format:json , arr:CJU , inf:0 , airlineCode:KE , dep:KUV , depDate:20170829 , \n"
     ]
    },
    {
     "name": "stderr",
     "output_type": "stream",
     "text": [
      "2017-08-11 08:38:57,326 root     DEBUG    Crawling Interpark domastic schedule site\n"
     ]
    },
    {
     "name": "stdout",
     "output_type": "stream",
     "text": [
      "End Simple crawling\n",
      "Start Simple crawling :  http://domair.interpark.com/api/booking/airJourney.do\n",
      ">> Parameters\n",
      "tripDivi:0 , adt:1 , chd:0 , format:json , arr:CJU , inf:0 , airlineCode:ZE , dep:KUV , depDate:20170829 , \n"
     ]
    },
    {
     "name": "stderr",
     "output_type": "stream",
     "text": [
      "2017-08-11 08:38:58,286 root     DEBUG    Crawling Interpark domastic schedule site\n"
     ]
    },
    {
     "name": "stdout",
     "output_type": "stream",
     "text": [
      "End Simple crawling\n",
      "Start Simple crawling :  http://domair.interpark.com/api/booking/airJourney.do\n",
      ">> Parameters\n",
      "tripDivi:0 , adt:1 , chd:0 , format:json , arr:CJU , inf:0 , airlineCode:KE , dep:KUV , depDate:20170830 , \n"
     ]
    },
    {
     "name": "stderr",
     "output_type": "stream",
     "text": [
      "2017-08-11 08:39:02,721 root     DEBUG    Crawling Interpark domastic schedule site\n"
     ]
    },
    {
     "name": "stdout",
     "output_type": "stream",
     "text": [
      "End Simple crawling\n",
      "Start Simple crawling :  http://domair.interpark.com/api/booking/airJourney.do\n",
      ">> Parameters\n",
      "tripDivi:0 , adt:1 , chd:0 , format:json , arr:CJU , inf:0 , airlineCode:ZE , dep:KUV , depDate:20170830 , \n"
     ]
    },
    {
     "name": "stderr",
     "output_type": "stream",
     "text": [
      "2017-08-11 08:39:03,676 root     DEBUG    Crawling Interpark domastic schedule site\n"
     ]
    },
    {
     "name": "stdout",
     "output_type": "stream",
     "text": [
      "End Simple crawling\n",
      "Start Simple crawling :  http://domair.interpark.com/api/booking/airJourney.do\n",
      ">> Parameters\n",
      "tripDivi:0 , adt:1 , chd:0 , format:json , arr:CJU , inf:0 , airlineCode:KE , dep:KUV , depDate:20170831 , \n"
     ]
    },
    {
     "name": "stderr",
     "output_type": "stream",
     "text": [
      "2017-08-11 08:39:08,297 root     DEBUG    Crawling Interpark domastic schedule site\n"
     ]
    },
    {
     "name": "stdout",
     "output_type": "stream",
     "text": [
      "End Simple crawling\n",
      "Start Simple crawling :  http://domair.interpark.com/api/booking/airJourney.do\n",
      ">> Parameters\n",
      "tripDivi:0 , adt:1 , chd:0 , format:json , arr:CJU , inf:0 , airlineCode:ZE , dep:KUV , depDate:20170831 , \n"
     ]
    },
    {
     "name": "stderr",
     "output_type": "stream",
     "text": [
      "2017-08-11 08:39:09,303 root     DEBUG    Crawling Interpark domastic schedule site\n"
     ]
    },
    {
     "name": "stdout",
     "output_type": "stream",
     "text": [
      "End Simple crawling\n",
      "Start Simple crawling :  http://domair.interpark.com/api/booking/airJourney.do\n",
      ">> Parameters\n",
      "tripDivi:0 , adt:1 , chd:0 , format:json , arr:CJU , inf:0 , airlineCode:KE , dep:KUV , depDate:20170901 , \n"
     ]
    },
    {
     "name": "stderr",
     "output_type": "stream",
     "text": [
      "2017-08-11 08:39:13,688 root     DEBUG    Crawling Interpark domastic schedule site\n"
     ]
    },
    {
     "name": "stdout",
     "output_type": "stream",
     "text": [
      "End Simple crawling\n",
      "Start Simple crawling :  http://domair.interpark.com/api/booking/airJourney.do\n",
      ">> Parameters\n",
      "tripDivi:0 , adt:1 , chd:0 , format:json , arr:CJU , inf:0 , airlineCode:ZE , dep:KUV , depDate:20170901 , \n"
     ]
    },
    {
     "name": "stderr",
     "output_type": "stream",
     "text": [
      "2017-08-11 08:39:14,736 root     INFO     end batch job :: craw_by_route_site :: elapsed -0:01:58.220762 :: Total crawl:42 files saved.\n",
      "2017-08-11 08:39:14,739 root     INFO     start batch job :: craw_by_route_site[CJU,KUV,IP,['20170812', '20170813', '20170814', '20170815', '20170816', '20170817', '20170818', '20170819', '20170820', '20170821', '20170822', '20170823', '20170824', '20170825', '20170826', '20170827', '20170828', '20170829', '20170830', '20170831', '20170901'],['KE', 'ZE']]\n",
      "2017-08-11 08:39:14,741 root     DEBUG    0 :: IP :: crawling_IP_dom :: False\n",
      "2017-08-11 08:39:14,746 root     INFO     <function crawling_IP_dom at 0x0000000007C78378> :: False\n",
      "2017-08-11 08:39:14,749 root     DEBUG    Crawling Interpark domastic schedule site\n"
     ]
    },
    {
     "name": "stdout",
     "output_type": "stream",
     "text": [
      "End Simple crawling\n",
      "Start Simple crawling :  http://domair.interpark.com/api/booking/airJourney.do\n",
      ">> Parameters\n",
      "tripDivi:0 , adt:1 , chd:0 , format:json , arr:KUV , inf:0 , airlineCode:KE , dep:CJU , depDate:20170812 , \n"
     ]
    },
    {
     "name": "stderr",
     "output_type": "stream",
     "text": [
      "2017-08-11 08:39:19,088 root     DEBUG    Crawling Interpark domastic schedule site\n"
     ]
    },
    {
     "name": "stdout",
     "output_type": "stream",
     "text": [
      "End Simple crawling\n",
      "Start Simple crawling :  http://domair.interpark.com/api/booking/airJourney.do\n",
      ">> Parameters\n",
      "tripDivi:0 , adt:1 , chd:0 , format:json , arr:KUV , inf:0 , airlineCode:ZE , dep:CJU , depDate:20170812 , \n"
     ]
    },
    {
     "name": "stderr",
     "output_type": "stream",
     "text": [
      "2017-08-11 08:39:20,038 root     DEBUG    Crawling Interpark domastic schedule site\n"
     ]
    },
    {
     "name": "stdout",
     "output_type": "stream",
     "text": [
      "End Simple crawling\n",
      "Start Simple crawling :  http://domair.interpark.com/api/booking/airJourney.do\n",
      ">> Parameters\n",
      "tripDivi:0 , adt:1 , chd:0 , format:json , arr:KUV , inf:0 , airlineCode:KE , dep:CJU , depDate:20170813 , \n"
     ]
    },
    {
     "name": "stderr",
     "output_type": "stream",
     "text": [
      "2017-08-11 08:39:24,382 root     DEBUG    Crawling Interpark domastic schedule site\n"
     ]
    },
    {
     "name": "stdout",
     "output_type": "stream",
     "text": [
      "End Simple crawling\n",
      "Start Simple crawling :  http://domair.interpark.com/api/booking/airJourney.do\n",
      ">> Parameters\n",
      "tripDivi:0 , adt:1 , chd:0 , format:json , arr:KUV , inf:0 , airlineCode:ZE , dep:CJU , depDate:20170813 , \n"
     ]
    },
    {
     "name": "stderr",
     "output_type": "stream",
     "text": [
      "2017-08-11 08:39:25,322 root     DEBUG    Crawling Interpark domastic schedule site\n"
     ]
    },
    {
     "name": "stdout",
     "output_type": "stream",
     "text": [
      "End Simple crawling\n",
      "Start Simple crawling :  http://domair.interpark.com/api/booking/airJourney.do\n",
      ">> Parameters\n",
      "tripDivi:0 , adt:1 , chd:0 , format:json , arr:KUV , inf:0 , airlineCode:KE , dep:CJU , depDate:20170814 , \n"
     ]
    },
    {
     "name": "stderr",
     "output_type": "stream",
     "text": [
      "2017-08-11 08:39:29,732 root     DEBUG    Crawling Interpark domastic schedule site\n"
     ]
    },
    {
     "name": "stdout",
     "output_type": "stream",
     "text": [
      "End Simple crawling\n",
      "Start Simple crawling :  http://domair.interpark.com/api/booking/airJourney.do\n",
      ">> Parameters\n",
      "tripDivi:0 , adt:1 , chd:0 , format:json , arr:KUV , inf:0 , airlineCode:ZE , dep:CJU , depDate:20170814 , \n"
     ]
    },
    {
     "name": "stderr",
     "output_type": "stream",
     "text": [
      "2017-08-11 08:39:30,729 root     DEBUG    Crawling Interpark domastic schedule site\n"
     ]
    },
    {
     "name": "stdout",
     "output_type": "stream",
     "text": [
      "End Simple crawling\n",
      "Start Simple crawling :  http://domair.interpark.com/api/booking/airJourney.do\n",
      ">> Parameters\n",
      "tripDivi:0 , adt:1 , chd:0 , format:json , arr:KUV , inf:0 , airlineCode:KE , dep:CJU , depDate:20170815 , \n"
     ]
    },
    {
     "name": "stderr",
     "output_type": "stream",
     "text": [
      "2017-08-11 08:39:34,906 root     DEBUG    Crawling Interpark domastic schedule site\n"
     ]
    },
    {
     "name": "stdout",
     "output_type": "stream",
     "text": [
      "End Simple crawling\n",
      "Start Simple crawling :  http://domair.interpark.com/api/booking/airJourney.do\n",
      ">> Parameters\n",
      "tripDivi:0 , adt:1 , chd:0 , format:json , arr:KUV , inf:0 , airlineCode:ZE , dep:CJU , depDate:20170815 , \n"
     ]
    },
    {
     "name": "stderr",
     "output_type": "stream",
     "text": [
      "2017-08-11 08:39:35,847 root     DEBUG    Crawling Interpark domastic schedule site\n"
     ]
    },
    {
     "name": "stdout",
     "output_type": "stream",
     "text": [
      "End Simple crawling\n",
      "Start Simple crawling :  http://domair.interpark.com/api/booking/airJourney.do\n",
      ">> Parameters\n",
      "tripDivi:0 , adt:1 , chd:0 , format:json , arr:KUV , inf:0 , airlineCode:KE , dep:CJU , depDate:20170816 , \n"
     ]
    },
    {
     "name": "stderr",
     "output_type": "stream",
     "text": [
      "2017-08-11 08:39:40,318 root     DEBUG    Crawling Interpark domastic schedule site\n"
     ]
    },
    {
     "name": "stdout",
     "output_type": "stream",
     "text": [
      "End Simple crawling\n",
      "Start Simple crawling :  http://domair.interpark.com/api/booking/airJourney.do\n",
      ">> Parameters\n",
      "tripDivi:0 , adt:1 , chd:0 , format:json , arr:KUV , inf:0 , airlineCode:ZE , dep:CJU , depDate:20170816 , \n"
     ]
    },
    {
     "name": "stderr",
     "output_type": "stream",
     "text": [
      "2017-08-11 08:39:41,323 root     DEBUG    Crawling Interpark domastic schedule site\n"
     ]
    },
    {
     "name": "stdout",
     "output_type": "stream",
     "text": [
      "End Simple crawling\n",
      "Start Simple crawling :  http://domair.interpark.com/api/booking/airJourney.do\n",
      ">> Parameters\n",
      "tripDivi:0 , adt:1 , chd:0 , format:json , arr:KUV , inf:0 , airlineCode:KE , dep:CJU , depDate:20170817 , \n"
     ]
    },
    {
     "name": "stderr",
     "output_type": "stream",
     "text": [
      "2017-08-11 08:39:46,922 root     DEBUG    Crawling Interpark domastic schedule site\n"
     ]
    },
    {
     "name": "stdout",
     "output_type": "stream",
     "text": [
      "End Simple crawling\n",
      "Start Simple crawling :  http://domair.interpark.com/api/booking/airJourney.do\n",
      ">> Parameters\n",
      "tripDivi:0 , adt:1 , chd:0 , format:json , arr:KUV , inf:0 , airlineCode:ZE , dep:CJU , depDate:20170817 , \n"
     ]
    },
    {
     "name": "stderr",
     "output_type": "stream",
     "text": [
      "2017-08-11 08:39:47,856 root     DEBUG    Crawling Interpark domastic schedule site\n"
     ]
    },
    {
     "name": "stdout",
     "output_type": "stream",
     "text": [
      "End Simple crawling\n",
      "Start Simple crawling :  http://domair.interpark.com/api/booking/airJourney.do\n",
      ">> Parameters\n",
      "tripDivi:0 , adt:1 , chd:0 , format:json , arr:KUV , inf:0 , airlineCode:KE , dep:CJU , depDate:20170818 , \n"
     ]
    },
    {
     "name": "stderr",
     "output_type": "stream",
     "text": [
      "2017-08-11 08:39:55,144 root     DEBUG    Crawling Interpark domastic schedule site\n"
     ]
    },
    {
     "name": "stdout",
     "output_type": "stream",
     "text": [
      "End Simple crawling\n",
      "Start Simple crawling :  http://domair.interpark.com/api/booking/airJourney.do\n",
      ">> Parameters\n",
      "tripDivi:0 , adt:1 , chd:0 , format:json , arr:KUV , inf:0 , airlineCode:ZE , dep:CJU , depDate:20170818 , \n"
     ]
    },
    {
     "name": "stderr",
     "output_type": "stream",
     "text": [
      "2017-08-11 08:39:56,110 root     DEBUG    Crawling Interpark domastic schedule site\n"
     ]
    },
    {
     "name": "stdout",
     "output_type": "stream",
     "text": [
      "End Simple crawling\n",
      "Start Simple crawling :  http://domair.interpark.com/api/booking/airJourney.do\n",
      ">> Parameters\n",
      "tripDivi:0 , adt:1 , chd:0 , format:json , arr:KUV , inf:0 , airlineCode:KE , dep:CJU , depDate:20170819 , \n"
     ]
    },
    {
     "name": "stderr",
     "output_type": "stream",
     "text": [
      "2017-08-11 08:40:00,433 root     DEBUG    Crawling Interpark domastic schedule site\n"
     ]
    },
    {
     "name": "stdout",
     "output_type": "stream",
     "text": [
      "End Simple crawling\n",
      "Start Simple crawling :  http://domair.interpark.com/api/booking/airJourney.do\n",
      ">> Parameters\n",
      "tripDivi:0 , adt:1 , chd:0 , format:json , arr:KUV , inf:0 , airlineCode:ZE , dep:CJU , depDate:20170819 , \n"
     ]
    },
    {
     "name": "stderr",
     "output_type": "stream",
     "text": [
      "2017-08-11 08:40:01,390 root     DEBUG    Crawling Interpark domastic schedule site\n"
     ]
    },
    {
     "name": "stdout",
     "output_type": "stream",
     "text": [
      "End Simple crawling\n",
      "Start Simple crawling :  http://domair.interpark.com/api/booking/airJourney.do\n",
      ">> Parameters\n",
      "tripDivi:0 , adt:1 , chd:0 , format:json , arr:KUV , inf:0 , airlineCode:KE , dep:CJU , depDate:20170820 , \n"
     ]
    },
    {
     "name": "stderr",
     "output_type": "stream",
     "text": [
      "2017-08-11 08:40:05,932 root     DEBUG    Crawling Interpark domastic schedule site\n"
     ]
    },
    {
     "name": "stdout",
     "output_type": "stream",
     "text": [
      "End Simple crawling\n",
      "Start Simple crawling :  http://domair.interpark.com/api/booking/airJourney.do\n",
      ">> Parameters\n",
      "tripDivi:0 , adt:1 , chd:0 , format:json , arr:KUV , inf:0 , airlineCode:ZE , dep:CJU , depDate:20170820 , \n"
     ]
    },
    {
     "name": "stderr",
     "output_type": "stream",
     "text": [
      "2017-08-11 08:40:06,933 root     DEBUG    Crawling Interpark domastic schedule site\n"
     ]
    },
    {
     "name": "stdout",
     "output_type": "stream",
     "text": [
      "End Simple crawling\n",
      "Start Simple crawling :  http://domair.interpark.com/api/booking/airJourney.do\n",
      ">> Parameters\n",
      "tripDivi:0 , adt:1 , chd:0 , format:json , arr:KUV , inf:0 , airlineCode:KE , dep:CJU , depDate:20170821 , \n"
     ]
    },
    {
     "name": "stderr",
     "output_type": "stream",
     "text": [
      "2017-08-11 08:40:11,575 root     DEBUG    Crawling Interpark domastic schedule site\n"
     ]
    },
    {
     "name": "stdout",
     "output_type": "stream",
     "text": [
      "End Simple crawling\n",
      "Start Simple crawling :  http://domair.interpark.com/api/booking/airJourney.do\n",
      ">> Parameters\n",
      "tripDivi:0 , adt:1 , chd:0 , format:json , arr:KUV , inf:0 , airlineCode:ZE , dep:CJU , depDate:20170821 , \n"
     ]
    },
    {
     "name": "stderr",
     "output_type": "stream",
     "text": [
      "2017-08-11 08:40:12,571 root     DEBUG    Crawling Interpark domastic schedule site\n"
     ]
    },
    {
     "name": "stdout",
     "output_type": "stream",
     "text": [
      "End Simple crawling\n",
      "Start Simple crawling :  http://domair.interpark.com/api/booking/airJourney.do\n",
      ">> Parameters\n",
      "tripDivi:0 , adt:1 , chd:0 , format:json , arr:KUV , inf:0 , airlineCode:KE , dep:CJU , depDate:20170822 , \n"
     ]
    },
    {
     "name": "stderr",
     "output_type": "stream",
     "text": [
      "2017-08-11 08:40:17,052 root     DEBUG    Crawling Interpark domastic schedule site\n"
     ]
    },
    {
     "name": "stdout",
     "output_type": "stream",
     "text": [
      "End Simple crawling\n",
      "Start Simple crawling :  http://domair.interpark.com/api/booking/airJourney.do\n",
      ">> Parameters\n",
      "tripDivi:0 , adt:1 , chd:0 , format:json , arr:KUV , inf:0 , airlineCode:ZE , dep:CJU , depDate:20170822 , \n"
     ]
    },
    {
     "name": "stderr",
     "output_type": "stream",
     "text": [
      "2017-08-11 08:40:18,014 root     DEBUG    Crawling Interpark domastic schedule site\n"
     ]
    },
    {
     "name": "stdout",
     "output_type": "stream",
     "text": [
      "End Simple crawling\n",
      "Start Simple crawling :  http://domair.interpark.com/api/booking/airJourney.do\n",
      ">> Parameters\n",
      "tripDivi:0 , adt:1 , chd:0 , format:json , arr:KUV , inf:0 , airlineCode:KE , dep:CJU , depDate:20170823 , \n"
     ]
    },
    {
     "name": "stderr",
     "output_type": "stream",
     "text": [
      "2017-08-11 08:40:22,448 root     DEBUG    Crawling Interpark domastic schedule site\n"
     ]
    },
    {
     "name": "stdout",
     "output_type": "stream",
     "text": [
      "End Simple crawling\n",
      "Start Simple crawling :  http://domair.interpark.com/api/booking/airJourney.do\n",
      ">> Parameters\n",
      "tripDivi:0 , adt:1 , chd:0 , format:json , arr:KUV , inf:0 , airlineCode:ZE , dep:CJU , depDate:20170823 , \n"
     ]
    },
    {
     "name": "stderr",
     "output_type": "stream",
     "text": [
      "2017-08-11 08:40:23,382 root     DEBUG    Crawling Interpark domastic schedule site\n"
     ]
    },
    {
     "name": "stdout",
     "output_type": "stream",
     "text": [
      "End Simple crawling\n",
      "Start Simple crawling :  http://domair.interpark.com/api/booking/airJourney.do\n",
      ">> Parameters\n",
      "tripDivi:0 , adt:1 , chd:0 , format:json , arr:KUV , inf:0 , airlineCode:KE , dep:CJU , depDate:20170824 , \n"
     ]
    },
    {
     "name": "stderr",
     "output_type": "stream",
     "text": [
      "2017-08-11 08:40:27,889 root     DEBUG    Crawling Interpark domastic schedule site\n"
     ]
    },
    {
     "name": "stdout",
     "output_type": "stream",
     "text": [
      "End Simple crawling\n",
      "Start Simple crawling :  http://domair.interpark.com/api/booking/airJourney.do\n",
      ">> Parameters\n",
      "tripDivi:0 , adt:1 , chd:0 , format:json , arr:KUV , inf:0 , airlineCode:ZE , dep:CJU , depDate:20170824 , \n"
     ]
    },
    {
     "name": "stderr",
     "output_type": "stream",
     "text": [
      "2017-08-11 08:40:28,990 root     DEBUG    Crawling Interpark domastic schedule site\n"
     ]
    },
    {
     "name": "stdout",
     "output_type": "stream",
     "text": [
      "End Simple crawling\n",
      "Start Simple crawling :  http://domair.interpark.com/api/booking/airJourney.do\n",
      ">> Parameters\n",
      "tripDivi:0 , adt:1 , chd:0 , format:json , arr:KUV , inf:0 , airlineCode:KE , dep:CJU , depDate:20170825 , \n"
     ]
    },
    {
     "name": "stderr",
     "output_type": "stream",
     "text": [
      "2017-08-11 08:40:33,375 root     DEBUG    Crawling Interpark domastic schedule site\n"
     ]
    },
    {
     "name": "stdout",
     "output_type": "stream",
     "text": [
      "End Simple crawling\n",
      "Start Simple crawling :  http://domair.interpark.com/api/booking/airJourney.do\n",
      ">> Parameters\n",
      "tripDivi:0 , adt:1 , chd:0 , format:json , arr:KUV , inf:0 , airlineCode:ZE , dep:CJU , depDate:20170825 , \n"
     ]
    },
    {
     "name": "stderr",
     "output_type": "stream",
     "text": [
      "2017-08-11 08:40:34,627 root     DEBUG    Crawling Interpark domastic schedule site\n"
     ]
    },
    {
     "name": "stdout",
     "output_type": "stream",
     "text": [
      "End Simple crawling\n",
      "Start Simple crawling :  http://domair.interpark.com/api/booking/airJourney.do\n",
      ">> Parameters\n",
      "tripDivi:0 , adt:1 , chd:0 , format:json , arr:KUV , inf:0 , airlineCode:KE , dep:CJU , depDate:20170826 , \n"
     ]
    },
    {
     "name": "stderr",
     "output_type": "stream",
     "text": [
      "2017-08-11 08:40:39,178 root     DEBUG    Crawling Interpark domastic schedule site\n"
     ]
    },
    {
     "name": "stdout",
     "output_type": "stream",
     "text": [
      "End Simple crawling\n",
      "Start Simple crawling :  http://domair.interpark.com/api/booking/airJourney.do\n",
      ">> Parameters\n",
      "tripDivi:0 , adt:1 , chd:0 , format:json , arr:KUV , inf:0 , airlineCode:ZE , dep:CJU , depDate:20170826 , \n"
     ]
    },
    {
     "name": "stderr",
     "output_type": "stream",
     "text": [
      "2017-08-11 08:40:41,455 root     DEBUG    Crawling Interpark domastic schedule site\n"
     ]
    },
    {
     "name": "stdout",
     "output_type": "stream",
     "text": [
      "End Simple crawling\n",
      "Start Simple crawling :  http://domair.interpark.com/api/booking/airJourney.do\n",
      ">> Parameters\n",
      "tripDivi:0 , adt:1 , chd:0 , format:json , arr:KUV , inf:0 , airlineCode:KE , dep:CJU , depDate:20170827 , \n"
     ]
    },
    {
     "name": "stderr",
     "output_type": "stream",
     "text": [
      "2017-08-11 08:40:46,227 root     DEBUG    Crawling Interpark domastic schedule site\n"
     ]
    },
    {
     "name": "stdout",
     "output_type": "stream",
     "text": [
      "End Simple crawling\n",
      "Start Simple crawling :  http://domair.interpark.com/api/booking/airJourney.do\n",
      ">> Parameters\n",
      "tripDivi:0 , adt:1 , chd:0 , format:json , arr:KUV , inf:0 , airlineCode:ZE , dep:CJU , depDate:20170827 , \n"
     ]
    },
    {
     "name": "stderr",
     "output_type": "stream",
     "text": [
      "2017-08-11 08:40:47,327 root     DEBUG    Crawling Interpark domastic schedule site\n"
     ]
    },
    {
     "name": "stdout",
     "output_type": "stream",
     "text": [
      "End Simple crawling\n",
      "Start Simple crawling :  http://domair.interpark.com/api/booking/airJourney.do\n",
      ">> Parameters\n",
      "tripDivi:0 , adt:1 , chd:0 , format:json , arr:KUV , inf:0 , airlineCode:KE , dep:CJU , depDate:20170828 , \n"
     ]
    },
    {
     "name": "stderr",
     "output_type": "stream",
     "text": [
      "2017-08-11 08:40:51,899 root     DEBUG    Crawling Interpark domastic schedule site\n"
     ]
    },
    {
     "name": "stdout",
     "output_type": "stream",
     "text": [
      "End Simple crawling\n",
      "Start Simple crawling :  http://domair.interpark.com/api/booking/airJourney.do\n",
      ">> Parameters\n",
      "tripDivi:0 , adt:1 , chd:0 , format:json , arr:KUV , inf:0 , airlineCode:ZE , dep:CJU , depDate:20170828 , \n"
     ]
    },
    {
     "name": "stderr",
     "output_type": "stream",
     "text": [
      "2017-08-11 08:40:53,085 root     DEBUG    Crawling Interpark domastic schedule site\n"
     ]
    },
    {
     "name": "stdout",
     "output_type": "stream",
     "text": [
      "End Simple crawling\n",
      "Start Simple crawling :  http://domair.interpark.com/api/booking/airJourney.do\n",
      ">> Parameters\n",
      "tripDivi:0 , adt:1 , chd:0 , format:json , arr:KUV , inf:0 , airlineCode:KE , dep:CJU , depDate:20170829 , \n"
     ]
    },
    {
     "name": "stderr",
     "output_type": "stream",
     "text": [
      "2017-08-11 08:40:57,734 root     DEBUG    Crawling Interpark domastic schedule site\n"
     ]
    },
    {
     "name": "stdout",
     "output_type": "stream",
     "text": [
      "End Simple crawling\n",
      "Start Simple crawling :  http://domair.interpark.com/api/booking/airJourney.do\n",
      ">> Parameters\n",
      "tripDivi:0 , adt:1 , chd:0 , format:json , arr:KUV , inf:0 , airlineCode:ZE , dep:CJU , depDate:20170829 , \n"
     ]
    },
    {
     "name": "stderr",
     "output_type": "stream",
     "text": [
      "2017-08-11 08:40:58,863 root     DEBUG    Crawling Interpark domastic schedule site\n"
     ]
    },
    {
     "name": "stdout",
     "output_type": "stream",
     "text": [
      "End Simple crawling\n",
      "Start Simple crawling :  http://domair.interpark.com/api/booking/airJourney.do\n",
      ">> Parameters\n",
      "tripDivi:0 , adt:1 , chd:0 , format:json , arr:KUV , inf:0 , airlineCode:KE , dep:CJU , depDate:20170830 , \n"
     ]
    },
    {
     "name": "stderr",
     "output_type": "stream",
     "text": [
      "2017-08-11 08:41:03,070 root     DEBUG    Crawling Interpark domastic schedule site\n"
     ]
    },
    {
     "name": "stdout",
     "output_type": "stream",
     "text": [
      "End Simple crawling\n",
      "Start Simple crawling :  http://domair.interpark.com/api/booking/airJourney.do\n",
      ">> Parameters\n",
      "tripDivi:0 , adt:1 , chd:0 , format:json , arr:KUV , inf:0 , airlineCode:ZE , dep:CJU , depDate:20170830 , \n"
     ]
    },
    {
     "name": "stderr",
     "output_type": "stream",
     "text": [
      "2017-08-11 08:41:04,145 root     DEBUG    Crawling Interpark domastic schedule site\n"
     ]
    },
    {
     "name": "stdout",
     "output_type": "stream",
     "text": [
      "End Simple crawling\n",
      "Start Simple crawling :  http://domair.interpark.com/api/booking/airJourney.do\n",
      ">> Parameters\n",
      "tripDivi:0 , adt:1 , chd:0 , format:json , arr:KUV , inf:0 , airlineCode:KE , dep:CJU , depDate:20170831 , \n"
     ]
    },
    {
     "name": "stderr",
     "output_type": "stream",
     "text": [
      "2017-08-11 08:41:08,903 root     DEBUG    Crawling Interpark domastic schedule site\n"
     ]
    },
    {
     "name": "stdout",
     "output_type": "stream",
     "text": [
      "End Simple crawling\n",
      "Start Simple crawling :  http://domair.interpark.com/api/booking/airJourney.do\n",
      ">> Parameters\n",
      "tripDivi:0 , adt:1 , chd:0 , format:json , arr:KUV , inf:0 , airlineCode:ZE , dep:CJU , depDate:20170831 , \n"
     ]
    },
    {
     "name": "stderr",
     "output_type": "stream",
     "text": [
      "2017-08-11 08:41:09,895 root     DEBUG    Crawling Interpark domastic schedule site\n"
     ]
    },
    {
     "name": "stdout",
     "output_type": "stream",
     "text": [
      "End Simple crawling\n",
      "Start Simple crawling :  http://domair.interpark.com/api/booking/airJourney.do\n",
      ">> Parameters\n",
      "tripDivi:0 , adt:1 , chd:0 , format:json , arr:KUV , inf:0 , airlineCode:KE , dep:CJU , depDate:20170901 , \n"
     ]
    },
    {
     "name": "stderr",
     "output_type": "stream",
     "text": [
      "2017-08-11 08:41:14,286 root     DEBUG    Crawling Interpark domastic schedule site\n"
     ]
    },
    {
     "name": "stdout",
     "output_type": "stream",
     "text": [
      "End Simple crawling\n",
      "Start Simple crawling :  http://domair.interpark.com/api/booking/airJourney.do\n",
      ">> Parameters\n",
      "tripDivi:0 , adt:1 , chd:0 , format:json , arr:KUV , inf:0 , airlineCode:ZE , dep:CJU , depDate:20170901 , \n"
     ]
    },
    {
     "name": "stderr",
     "output_type": "stream",
     "text": [
      "2017-08-11 08:41:15,266 root     INFO     end batch job :: craw_by_route_site :: elapsed -0:02:00.524894 :: Total crawl:42 files saved.\n",
      "2017-08-11 08:41:15,270 root     INFO     start batch job :: craw_by_route_site[NRT,ICN,ZE,['20170812', '20170813', '20170814', '20170815', '20170816', '20170817', '20170818', '20170819', '20170820', '20170821', '20170822', '20170823', '20170824', '20170825', '20170826', '20170827', '20170828', '20170829', '20170830', '20170831', '20170901'],ZE]\n",
      "2017-08-11 08:41:15,273 root     DEBUG    1 :: ZE :: crawling_ZE_dom_int :: True\n",
      "2017-08-11 08:41:15,275 root     INFO     <function crawling_ZE_dom_int at 0x0000000007C78F28> :: True\n",
      "2017-08-11 08:41:15,278 root     DEBUG    Crawling eastarjet homepage schedule site\n"
     ]
    },
    {
     "name": "stdout",
     "output_type": "stream",
     "text": [
      "End Simple crawling\n",
      "Start Json Payload crawling :  https://www.eastarjet.com/json/dataService\n",
      ">> Parameters\n",
      "params:[{'panelId': None, 'javaClass': 'com.jein.framework.connectivity.parameter.RequestParameter', 'sourceExtension': None, 'inParameters': {'list': [{'data': {'list': [{'javaClass': 'java.util.Map', 'map': {'flightSearch': '{\"viewType\":\"\",\"fly_type\":\"2\",\"person1\":\"1\",\"person2\":\"0\",\"person3\":\"0\",    \"residentCountry\":\"KR\",\"currency\":\"\",\"promotion_cd\":\"\",    \"flySection\":[{\"departure_cd\":\"NRT\",\"arrival_cd\":\"ICN\",\"departure_date_cd\":\"20170812\"}]}'}}], 'javaClass': 'java.util.List'}, 'ioType': 'IN', 'structureType': 'FIELD', 'javaClass': 'com.jein.framework.connectivity.parameter.InParameter', 'paramName': 'flightSearch'}], 'javaClass': 'java.util.List'}, 'DBTransaction': False, 'requestExecuteType': 'BIZ', 'requestUniqueCode': 'PGWBA00002', 'functionName': 'DTWBA00022', 'methodType': None, 'filterParameter': {'javaClass': 'java.util.Map', 'map': {}}, 'sourceName': None}] , method:DataService.service , id:2 , \n"
     ]
    },
    {
     "name": "stderr",
     "output_type": "stream",
     "text": [
      "2017-08-11 08:41:17,435 root     DEBUG    Crawling eastarjet homepage schedule site\n"
     ]
    },
    {
     "name": "stdout",
     "output_type": "stream",
     "text": [
      "End Json Payload crawling\n",
      "Start Json Payload crawling :  https://www.eastarjet.com/json/dataService\n",
      ">> Parameters\n",
      "params:[{'panelId': None, 'javaClass': 'com.jein.framework.connectivity.parameter.RequestParameter', 'sourceExtension': None, 'inParameters': {'list': [{'data': {'list': [{'javaClass': 'java.util.Map', 'map': {'flightSearch': '{\"viewType\":\"\",\"fly_type\":\"2\",\"person1\":\"1\",\"person2\":\"0\",\"person3\":\"0\",    \"residentCountry\":\"KR\",\"currency\":\"\",\"promotion_cd\":\"\",    \"flySection\":[{\"departure_cd\":\"NRT\",\"arrival_cd\":\"ICN\",\"departure_date_cd\":\"20170813\"}]}'}}], 'javaClass': 'java.util.List'}, 'ioType': 'IN', 'structureType': 'FIELD', 'javaClass': 'com.jein.framework.connectivity.parameter.InParameter', 'paramName': 'flightSearch'}], 'javaClass': 'java.util.List'}, 'DBTransaction': False, 'requestExecuteType': 'BIZ', 'requestUniqueCode': 'PGWBA00002', 'functionName': 'DTWBA00022', 'methodType': None, 'filterParameter': {'javaClass': 'java.util.Map', 'map': {}}, 'sourceName': None}] , method:DataService.service , id:2 , \n"
     ]
    },
    {
     "name": "stderr",
     "output_type": "stream",
     "text": [
      "2017-08-11 08:41:19,639 root     DEBUG    Crawling eastarjet homepage schedule site\n"
     ]
    },
    {
     "name": "stdout",
     "output_type": "stream",
     "text": [
      "End Json Payload crawling\n",
      "Start Json Payload crawling :  https://www.eastarjet.com/json/dataService\n",
      ">> Parameters\n",
      "params:[{'panelId': None, 'javaClass': 'com.jein.framework.connectivity.parameter.RequestParameter', 'sourceExtension': None, 'inParameters': {'list': [{'data': {'list': [{'javaClass': 'java.util.Map', 'map': {'flightSearch': '{\"viewType\":\"\",\"fly_type\":\"2\",\"person1\":\"1\",\"person2\":\"0\",\"person3\":\"0\",    \"residentCountry\":\"KR\",\"currency\":\"\",\"promotion_cd\":\"\",    \"flySection\":[{\"departure_cd\":\"NRT\",\"arrival_cd\":\"ICN\",\"departure_date_cd\":\"20170814\"}]}'}}], 'javaClass': 'java.util.List'}, 'ioType': 'IN', 'structureType': 'FIELD', 'javaClass': 'com.jein.framework.connectivity.parameter.InParameter', 'paramName': 'flightSearch'}], 'javaClass': 'java.util.List'}, 'DBTransaction': False, 'requestExecuteType': 'BIZ', 'requestUniqueCode': 'PGWBA00002', 'functionName': 'DTWBA00022', 'methodType': None, 'filterParameter': {'javaClass': 'java.util.Map', 'map': {}}, 'sourceName': None}] , method:DataService.service , id:2 , \n"
     ]
    },
    {
     "name": "stderr",
     "output_type": "stream",
     "text": [
      "2017-08-11 08:41:21,750 root     DEBUG    Crawling eastarjet homepage schedule site\n"
     ]
    },
    {
     "name": "stdout",
     "output_type": "stream",
     "text": [
      "End Json Payload crawling\n",
      "Start Json Payload crawling :  https://www.eastarjet.com/json/dataService\n",
      ">> Parameters\n",
      "params:[{'panelId': None, 'javaClass': 'com.jein.framework.connectivity.parameter.RequestParameter', 'sourceExtension': None, 'inParameters': {'list': [{'data': {'list': [{'javaClass': 'java.util.Map', 'map': {'flightSearch': '{\"viewType\":\"\",\"fly_type\":\"2\",\"person1\":\"1\",\"person2\":\"0\",\"person3\":\"0\",    \"residentCountry\":\"KR\",\"currency\":\"\",\"promotion_cd\":\"\",    \"flySection\":[{\"departure_cd\":\"NRT\",\"arrival_cd\":\"ICN\",\"departure_date_cd\":\"20170815\"}]}'}}], 'javaClass': 'java.util.List'}, 'ioType': 'IN', 'structureType': 'FIELD', 'javaClass': 'com.jein.framework.connectivity.parameter.InParameter', 'paramName': 'flightSearch'}], 'javaClass': 'java.util.List'}, 'DBTransaction': False, 'requestExecuteType': 'BIZ', 'requestUniqueCode': 'PGWBA00002', 'functionName': 'DTWBA00022', 'methodType': None, 'filterParameter': {'javaClass': 'java.util.Map', 'map': {}}, 'sourceName': None}] , method:DataService.service , id:2 , \n"
     ]
    },
    {
     "name": "stderr",
     "output_type": "stream",
     "text": [
      "2017-08-11 08:41:23,933 root     DEBUG    Crawling eastarjet homepage schedule site\n"
     ]
    },
    {
     "name": "stdout",
     "output_type": "stream",
     "text": [
      "End Json Payload crawling\n",
      "Start Json Payload crawling :  https://www.eastarjet.com/json/dataService\n",
      ">> Parameters\n",
      "params:[{'panelId': None, 'javaClass': 'com.jein.framework.connectivity.parameter.RequestParameter', 'sourceExtension': None, 'inParameters': {'list': [{'data': {'list': [{'javaClass': 'java.util.Map', 'map': {'flightSearch': '{\"viewType\":\"\",\"fly_type\":\"2\",\"person1\":\"1\",\"person2\":\"0\",\"person3\":\"0\",    \"residentCountry\":\"KR\",\"currency\":\"\",\"promotion_cd\":\"\",    \"flySection\":[{\"departure_cd\":\"NRT\",\"arrival_cd\":\"ICN\",\"departure_date_cd\":\"20170816\"}]}'}}], 'javaClass': 'java.util.List'}, 'ioType': 'IN', 'structureType': 'FIELD', 'javaClass': 'com.jein.framework.connectivity.parameter.InParameter', 'paramName': 'flightSearch'}], 'javaClass': 'java.util.List'}, 'DBTransaction': False, 'requestExecuteType': 'BIZ', 'requestUniqueCode': 'PGWBA00002', 'functionName': 'DTWBA00022', 'methodType': None, 'filterParameter': {'javaClass': 'java.util.Map', 'map': {}}, 'sourceName': None}] , method:DataService.service , id:2 , \n"
     ]
    },
    {
     "name": "stderr",
     "output_type": "stream",
     "text": [
      "2017-08-11 08:41:26,139 root     DEBUG    Crawling eastarjet homepage schedule site\n"
     ]
    },
    {
     "name": "stdout",
     "output_type": "stream",
     "text": [
      "End Json Payload crawling\n",
      "Start Json Payload crawling :  https://www.eastarjet.com/json/dataService\n",
      ">> Parameters\n",
      "params:[{'panelId': None, 'javaClass': 'com.jein.framework.connectivity.parameter.RequestParameter', 'sourceExtension': None, 'inParameters': {'list': [{'data': {'list': [{'javaClass': 'java.util.Map', 'map': {'flightSearch': '{\"viewType\":\"\",\"fly_type\":\"2\",\"person1\":\"1\",\"person2\":\"0\",\"person3\":\"0\",    \"residentCountry\":\"KR\",\"currency\":\"\",\"promotion_cd\":\"\",    \"flySection\":[{\"departure_cd\":\"NRT\",\"arrival_cd\":\"ICN\",\"departure_date_cd\":\"20170817\"}]}'}}], 'javaClass': 'java.util.List'}, 'ioType': 'IN', 'structureType': 'FIELD', 'javaClass': 'com.jein.framework.connectivity.parameter.InParameter', 'paramName': 'flightSearch'}], 'javaClass': 'java.util.List'}, 'DBTransaction': False, 'requestExecuteType': 'BIZ', 'requestUniqueCode': 'PGWBA00002', 'functionName': 'DTWBA00022', 'methodType': None, 'filterParameter': {'javaClass': 'java.util.Map', 'map': {}}, 'sourceName': None}] , method:DataService.service , id:2 , \n"
     ]
    },
    {
     "name": "stderr",
     "output_type": "stream",
     "text": [
      "2017-08-11 08:41:28,523 root     DEBUG    Crawling eastarjet homepage schedule site\n"
     ]
    },
    {
     "name": "stdout",
     "output_type": "stream",
     "text": [
      "End Json Payload crawling\n",
      "Start Json Payload crawling :  https://www.eastarjet.com/json/dataService\n",
      ">> Parameters\n",
      "params:[{'panelId': None, 'javaClass': 'com.jein.framework.connectivity.parameter.RequestParameter', 'sourceExtension': None, 'inParameters': {'list': [{'data': {'list': [{'javaClass': 'java.util.Map', 'map': {'flightSearch': '{\"viewType\":\"\",\"fly_type\":\"2\",\"person1\":\"1\",\"person2\":\"0\",\"person3\":\"0\",    \"residentCountry\":\"KR\",\"currency\":\"\",\"promotion_cd\":\"\",    \"flySection\":[{\"departure_cd\":\"NRT\",\"arrival_cd\":\"ICN\",\"departure_date_cd\":\"20170818\"}]}'}}], 'javaClass': 'java.util.List'}, 'ioType': 'IN', 'structureType': 'FIELD', 'javaClass': 'com.jein.framework.connectivity.parameter.InParameter', 'paramName': 'flightSearch'}], 'javaClass': 'java.util.List'}, 'DBTransaction': False, 'requestExecuteType': 'BIZ', 'requestUniqueCode': 'PGWBA00002', 'functionName': 'DTWBA00022', 'methodType': None, 'filterParameter': {'javaClass': 'java.util.Map', 'map': {}}, 'sourceName': None}] , method:DataService.service , id:2 , \n"
     ]
    },
    {
     "name": "stderr",
     "output_type": "stream",
     "text": [
      "2017-08-11 08:41:30,871 root     DEBUG    Crawling eastarjet homepage schedule site\n"
     ]
    },
    {
     "name": "stdout",
     "output_type": "stream",
     "text": [
      "End Json Payload crawling\n",
      "Start Json Payload crawling :  https://www.eastarjet.com/json/dataService\n",
      ">> Parameters\n",
      "params:[{'panelId': None, 'javaClass': 'com.jein.framework.connectivity.parameter.RequestParameter', 'sourceExtension': None, 'inParameters': {'list': [{'data': {'list': [{'javaClass': 'java.util.Map', 'map': {'flightSearch': '{\"viewType\":\"\",\"fly_type\":\"2\",\"person1\":\"1\",\"person2\":\"0\",\"person3\":\"0\",    \"residentCountry\":\"KR\",\"currency\":\"\",\"promotion_cd\":\"\",    \"flySection\":[{\"departure_cd\":\"NRT\",\"arrival_cd\":\"ICN\",\"departure_date_cd\":\"20170819\"}]}'}}], 'javaClass': 'java.util.List'}, 'ioType': 'IN', 'structureType': 'FIELD', 'javaClass': 'com.jein.framework.connectivity.parameter.InParameter', 'paramName': 'flightSearch'}], 'javaClass': 'java.util.List'}, 'DBTransaction': False, 'requestExecuteType': 'BIZ', 'requestUniqueCode': 'PGWBA00002', 'functionName': 'DTWBA00022', 'methodType': None, 'filterParameter': {'javaClass': 'java.util.Map', 'map': {}}, 'sourceName': None}] , method:DataService.service , id:2 , \n"
     ]
    },
    {
     "name": "stderr",
     "output_type": "stream",
     "text": [
      "2017-08-11 08:41:33,205 root     DEBUG    Crawling eastarjet homepage schedule site\n"
     ]
    },
    {
     "name": "stdout",
     "output_type": "stream",
     "text": [
      "End Json Payload crawling\n",
      "Start Json Payload crawling :  https://www.eastarjet.com/json/dataService\n",
      ">> Parameters\n",
      "params:[{'panelId': None, 'javaClass': 'com.jein.framework.connectivity.parameter.RequestParameter', 'sourceExtension': None, 'inParameters': {'list': [{'data': {'list': [{'javaClass': 'java.util.Map', 'map': {'flightSearch': '{\"viewType\":\"\",\"fly_type\":\"2\",\"person1\":\"1\",\"person2\":\"0\",\"person3\":\"0\",    \"residentCountry\":\"KR\",\"currency\":\"\",\"promotion_cd\":\"\",    \"flySection\":[{\"departure_cd\":\"NRT\",\"arrival_cd\":\"ICN\",\"departure_date_cd\":\"20170820\"}]}'}}], 'javaClass': 'java.util.List'}, 'ioType': 'IN', 'structureType': 'FIELD', 'javaClass': 'com.jein.framework.connectivity.parameter.InParameter', 'paramName': 'flightSearch'}], 'javaClass': 'java.util.List'}, 'DBTransaction': False, 'requestExecuteType': 'BIZ', 'requestUniqueCode': 'PGWBA00002', 'functionName': 'DTWBA00022', 'methodType': None, 'filterParameter': {'javaClass': 'java.util.Map', 'map': {}}, 'sourceName': None}] , method:DataService.service , id:2 , \n"
     ]
    },
    {
     "name": "stderr",
     "output_type": "stream",
     "text": [
      "2017-08-11 08:41:35,443 root     DEBUG    Crawling eastarjet homepage schedule site\n"
     ]
    },
    {
     "name": "stdout",
     "output_type": "stream",
     "text": [
      "End Json Payload crawling\n",
      "Start Json Payload crawling :  https://www.eastarjet.com/json/dataService\n",
      ">> Parameters\n",
      "params:[{'panelId': None, 'javaClass': 'com.jein.framework.connectivity.parameter.RequestParameter', 'sourceExtension': None, 'inParameters': {'list': [{'data': {'list': [{'javaClass': 'java.util.Map', 'map': {'flightSearch': '{\"viewType\":\"\",\"fly_type\":\"2\",\"person1\":\"1\",\"person2\":\"0\",\"person3\":\"0\",    \"residentCountry\":\"KR\",\"currency\":\"\",\"promotion_cd\":\"\",    \"flySection\":[{\"departure_cd\":\"NRT\",\"arrival_cd\":\"ICN\",\"departure_date_cd\":\"20170821\"}]}'}}], 'javaClass': 'java.util.List'}, 'ioType': 'IN', 'structureType': 'FIELD', 'javaClass': 'com.jein.framework.connectivity.parameter.InParameter', 'paramName': 'flightSearch'}], 'javaClass': 'java.util.List'}, 'DBTransaction': False, 'requestExecuteType': 'BIZ', 'requestUniqueCode': 'PGWBA00002', 'functionName': 'DTWBA00022', 'methodType': None, 'filterParameter': {'javaClass': 'java.util.Map', 'map': {}}, 'sourceName': None}] , method:DataService.service , id:2 , \n"
     ]
    },
    {
     "name": "stderr",
     "output_type": "stream",
     "text": [
      "2017-08-11 08:41:37,782 root     DEBUG    Crawling eastarjet homepage schedule site\n"
     ]
    },
    {
     "name": "stdout",
     "output_type": "stream",
     "text": [
      "End Json Payload crawling\n",
      "Start Json Payload crawling :  https://www.eastarjet.com/json/dataService\n",
      ">> Parameters\n",
      "params:[{'panelId': None, 'javaClass': 'com.jein.framework.connectivity.parameter.RequestParameter', 'sourceExtension': None, 'inParameters': {'list': [{'data': {'list': [{'javaClass': 'java.util.Map', 'map': {'flightSearch': '{\"viewType\":\"\",\"fly_type\":\"2\",\"person1\":\"1\",\"person2\":\"0\",\"person3\":\"0\",    \"residentCountry\":\"KR\",\"currency\":\"\",\"promotion_cd\":\"\",    \"flySection\":[{\"departure_cd\":\"NRT\",\"arrival_cd\":\"ICN\",\"departure_date_cd\":\"20170822\"}]}'}}], 'javaClass': 'java.util.List'}, 'ioType': 'IN', 'structureType': 'FIELD', 'javaClass': 'com.jein.framework.connectivity.parameter.InParameter', 'paramName': 'flightSearch'}], 'javaClass': 'java.util.List'}, 'DBTransaction': False, 'requestExecuteType': 'BIZ', 'requestUniqueCode': 'PGWBA00002', 'functionName': 'DTWBA00022', 'methodType': None, 'filterParameter': {'javaClass': 'java.util.Map', 'map': {}}, 'sourceName': None}] , method:DataService.service , id:2 , \n"
     ]
    },
    {
     "name": "stderr",
     "output_type": "stream",
     "text": [
      "2017-08-11 08:41:40,304 root     DEBUG    Crawling eastarjet homepage schedule site\n"
     ]
    },
    {
     "name": "stdout",
     "output_type": "stream",
     "text": [
      "End Json Payload crawling\n",
      "Start Json Payload crawling :  https://www.eastarjet.com/json/dataService\n",
      ">> Parameters\n",
      "params:[{'panelId': None, 'javaClass': 'com.jein.framework.connectivity.parameter.RequestParameter', 'sourceExtension': None, 'inParameters': {'list': [{'data': {'list': [{'javaClass': 'java.util.Map', 'map': {'flightSearch': '{\"viewType\":\"\",\"fly_type\":\"2\",\"person1\":\"1\",\"person2\":\"0\",\"person3\":\"0\",    \"residentCountry\":\"KR\",\"currency\":\"\",\"promotion_cd\":\"\",    \"flySection\":[{\"departure_cd\":\"NRT\",\"arrival_cd\":\"ICN\",\"departure_date_cd\":\"20170823\"}]}'}}], 'javaClass': 'java.util.List'}, 'ioType': 'IN', 'structureType': 'FIELD', 'javaClass': 'com.jein.framework.connectivity.parameter.InParameter', 'paramName': 'flightSearch'}], 'javaClass': 'java.util.List'}, 'DBTransaction': False, 'requestExecuteType': 'BIZ', 'requestUniqueCode': 'PGWBA00002', 'functionName': 'DTWBA00022', 'methodType': None, 'filterParameter': {'javaClass': 'java.util.Map', 'map': {}}, 'sourceName': None}] , method:DataService.service , id:2 , \n"
     ]
    },
    {
     "name": "stderr",
     "output_type": "stream",
     "text": [
      "2017-08-11 08:41:42,690 root     DEBUG    Crawling eastarjet homepage schedule site\n"
     ]
    },
    {
     "name": "stdout",
     "output_type": "stream",
     "text": [
      "End Json Payload crawling\n",
      "Start Json Payload crawling :  https://www.eastarjet.com/json/dataService\n",
      ">> Parameters\n",
      "params:[{'panelId': None, 'javaClass': 'com.jein.framework.connectivity.parameter.RequestParameter', 'sourceExtension': None, 'inParameters': {'list': [{'data': {'list': [{'javaClass': 'java.util.Map', 'map': {'flightSearch': '{\"viewType\":\"\",\"fly_type\":\"2\",\"person1\":\"1\",\"person2\":\"0\",\"person3\":\"0\",    \"residentCountry\":\"KR\",\"currency\":\"\",\"promotion_cd\":\"\",    \"flySection\":[{\"departure_cd\":\"NRT\",\"arrival_cd\":\"ICN\",\"departure_date_cd\":\"20170824\"}]}'}}], 'javaClass': 'java.util.List'}, 'ioType': 'IN', 'structureType': 'FIELD', 'javaClass': 'com.jein.framework.connectivity.parameter.InParameter', 'paramName': 'flightSearch'}], 'javaClass': 'java.util.List'}, 'DBTransaction': False, 'requestExecuteType': 'BIZ', 'requestUniqueCode': 'PGWBA00002', 'functionName': 'DTWBA00022', 'methodType': None, 'filterParameter': {'javaClass': 'java.util.Map', 'map': {}}, 'sourceName': None}] , method:DataService.service , id:2 , \n"
     ]
    },
    {
     "name": "stderr",
     "output_type": "stream",
     "text": [
      "2017-08-11 08:41:45,173 root     DEBUG    Crawling eastarjet homepage schedule site\n"
     ]
    },
    {
     "name": "stdout",
     "output_type": "stream",
     "text": [
      "End Json Payload crawling\n",
      "Start Json Payload crawling :  https://www.eastarjet.com/json/dataService\n",
      ">> Parameters\n",
      "params:[{'panelId': None, 'javaClass': 'com.jein.framework.connectivity.parameter.RequestParameter', 'sourceExtension': None, 'inParameters': {'list': [{'data': {'list': [{'javaClass': 'java.util.Map', 'map': {'flightSearch': '{\"viewType\":\"\",\"fly_type\":\"2\",\"person1\":\"1\",\"person2\":\"0\",\"person3\":\"0\",    \"residentCountry\":\"KR\",\"currency\":\"\",\"promotion_cd\":\"\",    \"flySection\":[{\"departure_cd\":\"NRT\",\"arrival_cd\":\"ICN\",\"departure_date_cd\":\"20170825\"}]}'}}], 'javaClass': 'java.util.List'}, 'ioType': 'IN', 'structureType': 'FIELD', 'javaClass': 'com.jein.framework.connectivity.parameter.InParameter', 'paramName': 'flightSearch'}], 'javaClass': 'java.util.List'}, 'DBTransaction': False, 'requestExecuteType': 'BIZ', 'requestUniqueCode': 'PGWBA00002', 'functionName': 'DTWBA00022', 'methodType': None, 'filterParameter': {'javaClass': 'java.util.Map', 'map': {}}, 'sourceName': None}] , method:DataService.service , id:2 , \n"
     ]
    },
    {
     "name": "stderr",
     "output_type": "stream",
     "text": [
      "2017-08-11 08:41:47,395 root     DEBUG    Crawling eastarjet homepage schedule site\n"
     ]
    },
    {
     "name": "stdout",
     "output_type": "stream",
     "text": [
      "End Json Payload crawling\n",
      "Start Json Payload crawling :  https://www.eastarjet.com/json/dataService\n",
      ">> Parameters\n",
      "params:[{'panelId': None, 'javaClass': 'com.jein.framework.connectivity.parameter.RequestParameter', 'sourceExtension': None, 'inParameters': {'list': [{'data': {'list': [{'javaClass': 'java.util.Map', 'map': {'flightSearch': '{\"viewType\":\"\",\"fly_type\":\"2\",\"person1\":\"1\",\"person2\":\"0\",\"person3\":\"0\",    \"residentCountry\":\"KR\",\"currency\":\"\",\"promotion_cd\":\"\",    \"flySection\":[{\"departure_cd\":\"NRT\",\"arrival_cd\":\"ICN\",\"departure_date_cd\":\"20170826\"}]}'}}], 'javaClass': 'java.util.List'}, 'ioType': 'IN', 'structureType': 'FIELD', 'javaClass': 'com.jein.framework.connectivity.parameter.InParameter', 'paramName': 'flightSearch'}], 'javaClass': 'java.util.List'}, 'DBTransaction': False, 'requestExecuteType': 'BIZ', 'requestUniqueCode': 'PGWBA00002', 'functionName': 'DTWBA00022', 'methodType': None, 'filterParameter': {'javaClass': 'java.util.Map', 'map': {}}, 'sourceName': None}] , method:DataService.service , id:2 , \n"
     ]
    },
    {
     "name": "stderr",
     "output_type": "stream",
     "text": [
      "2017-08-11 08:41:49,770 root     DEBUG    Crawling eastarjet homepage schedule site\n"
     ]
    },
    {
     "name": "stdout",
     "output_type": "stream",
     "text": [
      "End Json Payload crawling\n",
      "Start Json Payload crawling :  https://www.eastarjet.com/json/dataService\n",
      ">> Parameters\n",
      "params:[{'panelId': None, 'javaClass': 'com.jein.framework.connectivity.parameter.RequestParameter', 'sourceExtension': None, 'inParameters': {'list': [{'data': {'list': [{'javaClass': 'java.util.Map', 'map': {'flightSearch': '{\"viewType\":\"\",\"fly_type\":\"2\",\"person1\":\"1\",\"person2\":\"0\",\"person3\":\"0\",    \"residentCountry\":\"KR\",\"currency\":\"\",\"promotion_cd\":\"\",    \"flySection\":[{\"departure_cd\":\"NRT\",\"arrival_cd\":\"ICN\",\"departure_date_cd\":\"20170827\"}]}'}}], 'javaClass': 'java.util.List'}, 'ioType': 'IN', 'structureType': 'FIELD', 'javaClass': 'com.jein.framework.connectivity.parameter.InParameter', 'paramName': 'flightSearch'}], 'javaClass': 'java.util.List'}, 'DBTransaction': False, 'requestExecuteType': 'BIZ', 'requestUniqueCode': 'PGWBA00002', 'functionName': 'DTWBA00022', 'methodType': None, 'filterParameter': {'javaClass': 'java.util.Map', 'map': {}}, 'sourceName': None}] , method:DataService.service , id:2 , \n"
     ]
    },
    {
     "name": "stderr",
     "output_type": "stream",
     "text": [
      "2017-08-11 08:41:51,982 root     DEBUG    Crawling eastarjet homepage schedule site\n"
     ]
    },
    {
     "name": "stdout",
     "output_type": "stream",
     "text": [
      "End Json Payload crawling\n",
      "Start Json Payload crawling :  https://www.eastarjet.com/json/dataService\n",
      ">> Parameters\n",
      "params:[{'panelId': None, 'javaClass': 'com.jein.framework.connectivity.parameter.RequestParameter', 'sourceExtension': None, 'inParameters': {'list': [{'data': {'list': [{'javaClass': 'java.util.Map', 'map': {'flightSearch': '{\"viewType\":\"\",\"fly_type\":\"2\",\"person1\":\"1\",\"person2\":\"0\",\"person3\":\"0\",    \"residentCountry\":\"KR\",\"currency\":\"\",\"promotion_cd\":\"\",    \"flySection\":[{\"departure_cd\":\"NRT\",\"arrival_cd\":\"ICN\",\"departure_date_cd\":\"20170828\"}]}'}}], 'javaClass': 'java.util.List'}, 'ioType': 'IN', 'structureType': 'FIELD', 'javaClass': 'com.jein.framework.connectivity.parameter.InParameter', 'paramName': 'flightSearch'}], 'javaClass': 'java.util.List'}, 'DBTransaction': False, 'requestExecuteType': 'BIZ', 'requestUniqueCode': 'PGWBA00002', 'functionName': 'DTWBA00022', 'methodType': None, 'filterParameter': {'javaClass': 'java.util.Map', 'map': {}}, 'sourceName': None}] , method:DataService.service , id:2 , \n"
     ]
    },
    {
     "name": "stderr",
     "output_type": "stream",
     "text": [
      "2017-08-11 08:41:54,348 root     DEBUG    Crawling eastarjet homepage schedule site\n"
     ]
    },
    {
     "name": "stdout",
     "output_type": "stream",
     "text": [
      "End Json Payload crawling\n",
      "Start Json Payload crawling :  https://www.eastarjet.com/json/dataService\n",
      ">> Parameters\n",
      "params:[{'panelId': None, 'javaClass': 'com.jein.framework.connectivity.parameter.RequestParameter', 'sourceExtension': None, 'inParameters': {'list': [{'data': {'list': [{'javaClass': 'java.util.Map', 'map': {'flightSearch': '{\"viewType\":\"\",\"fly_type\":\"2\",\"person1\":\"1\",\"person2\":\"0\",\"person3\":\"0\",    \"residentCountry\":\"KR\",\"currency\":\"\",\"promotion_cd\":\"\",    \"flySection\":[{\"departure_cd\":\"NRT\",\"arrival_cd\":\"ICN\",\"departure_date_cd\":\"20170829\"}]}'}}], 'javaClass': 'java.util.List'}, 'ioType': 'IN', 'structureType': 'FIELD', 'javaClass': 'com.jein.framework.connectivity.parameter.InParameter', 'paramName': 'flightSearch'}], 'javaClass': 'java.util.List'}, 'DBTransaction': False, 'requestExecuteType': 'BIZ', 'requestUniqueCode': 'PGWBA00002', 'functionName': 'DTWBA00022', 'methodType': None, 'filterParameter': {'javaClass': 'java.util.Map', 'map': {}}, 'sourceName': None}] , method:DataService.service , id:2 , \n"
     ]
    },
    {
     "name": "stderr",
     "output_type": "stream",
     "text": [
      "2017-08-11 08:41:56,704 root     DEBUG    Crawling eastarjet homepage schedule site\n"
     ]
    },
    {
     "name": "stdout",
     "output_type": "stream",
     "text": [
      "End Json Payload crawling\n",
      "Start Json Payload crawling :  https://www.eastarjet.com/json/dataService\n",
      ">> Parameters\n",
      "params:[{'panelId': None, 'javaClass': 'com.jein.framework.connectivity.parameter.RequestParameter', 'sourceExtension': None, 'inParameters': {'list': [{'data': {'list': [{'javaClass': 'java.util.Map', 'map': {'flightSearch': '{\"viewType\":\"\",\"fly_type\":\"2\",\"person1\":\"1\",\"person2\":\"0\",\"person3\":\"0\",    \"residentCountry\":\"KR\",\"currency\":\"\",\"promotion_cd\":\"\",    \"flySection\":[{\"departure_cd\":\"NRT\",\"arrival_cd\":\"ICN\",\"departure_date_cd\":\"20170830\"}]}'}}], 'javaClass': 'java.util.List'}, 'ioType': 'IN', 'structureType': 'FIELD', 'javaClass': 'com.jein.framework.connectivity.parameter.InParameter', 'paramName': 'flightSearch'}], 'javaClass': 'java.util.List'}, 'DBTransaction': False, 'requestExecuteType': 'BIZ', 'requestUniqueCode': 'PGWBA00002', 'functionName': 'DTWBA00022', 'methodType': None, 'filterParameter': {'javaClass': 'java.util.Map', 'map': {}}, 'sourceName': None}] , method:DataService.service , id:2 , \n"
     ]
    },
    {
     "name": "stderr",
     "output_type": "stream",
     "text": [
      "2017-08-11 08:41:59,045 root     DEBUG    Crawling eastarjet homepage schedule site\n"
     ]
    },
    {
     "name": "stdout",
     "output_type": "stream",
     "text": [
      "End Json Payload crawling\n",
      "Start Json Payload crawling :  https://www.eastarjet.com/json/dataService\n",
      ">> Parameters\n",
      "params:[{'panelId': None, 'javaClass': 'com.jein.framework.connectivity.parameter.RequestParameter', 'sourceExtension': None, 'inParameters': {'list': [{'data': {'list': [{'javaClass': 'java.util.Map', 'map': {'flightSearch': '{\"viewType\":\"\",\"fly_type\":\"2\",\"person1\":\"1\",\"person2\":\"0\",\"person3\":\"0\",    \"residentCountry\":\"KR\",\"currency\":\"\",\"promotion_cd\":\"\",    \"flySection\":[{\"departure_cd\":\"NRT\",\"arrival_cd\":\"ICN\",\"departure_date_cd\":\"20170831\"}]}'}}], 'javaClass': 'java.util.List'}, 'ioType': 'IN', 'structureType': 'FIELD', 'javaClass': 'com.jein.framework.connectivity.parameter.InParameter', 'paramName': 'flightSearch'}], 'javaClass': 'java.util.List'}, 'DBTransaction': False, 'requestExecuteType': 'BIZ', 'requestUniqueCode': 'PGWBA00002', 'functionName': 'DTWBA00022', 'methodType': None, 'filterParameter': {'javaClass': 'java.util.Map', 'map': {}}, 'sourceName': None}] , method:DataService.service , id:2 , \n"
     ]
    },
    {
     "name": "stderr",
     "output_type": "stream",
     "text": [
      "2017-08-11 08:42:01,535 root     DEBUG    Crawling eastarjet homepage schedule site\n"
     ]
    },
    {
     "name": "stdout",
     "output_type": "stream",
     "text": [
      "End Json Payload crawling\n",
      "Start Json Payload crawling :  https://www.eastarjet.com/json/dataService\n",
      ">> Parameters\n",
      "params:[{'panelId': None, 'javaClass': 'com.jein.framework.connectivity.parameter.RequestParameter', 'sourceExtension': None, 'inParameters': {'list': [{'data': {'list': [{'javaClass': 'java.util.Map', 'map': {'flightSearch': '{\"viewType\":\"\",\"fly_type\":\"2\",\"person1\":\"1\",\"person2\":\"0\",\"person3\":\"0\",    \"residentCountry\":\"KR\",\"currency\":\"\",\"promotion_cd\":\"\",    \"flySection\":[{\"departure_cd\":\"NRT\",\"arrival_cd\":\"ICN\",\"departure_date_cd\":\"20170901\"}]}'}}], 'javaClass': 'java.util.List'}, 'ioType': 'IN', 'structureType': 'FIELD', 'javaClass': 'com.jein.framework.connectivity.parameter.InParameter', 'paramName': 'flightSearch'}], 'javaClass': 'java.util.List'}, 'DBTransaction': False, 'requestExecuteType': 'BIZ', 'requestUniqueCode': 'PGWBA00002', 'functionName': 'DTWBA00022', 'methodType': None, 'filterParameter': {'javaClass': 'java.util.Map', 'map': {}}, 'sourceName': None}] , method:DataService.service , id:2 , \n"
     ]
    },
    {
     "name": "stderr",
     "output_type": "stream",
     "text": [
      "2017-08-11 08:42:03,898 root     INFO     end batch job :: craw_by_route_site :: elapsed -0:00:48.624781 :: Total crawl:21 files saved.\n",
      "2017-08-11 08:42:03,900 root     INFO     start batch job :: craw_by_route_site[NRT,ICN,TW,['20170812', '20170813', '20170814', '20170815', '20170816', '20170817', '20170818', '20170819', '20170820', '20170821', '20170822', '20170823', '20170824', '20170825', '20170826', '20170827', '20170828', '20170829', '20170830', '20170831', '20170901'],TW]\n",
      "2017-08-11 08:42:03,903 root     DEBUG    1 :: TW :: crawling_TW_int :: True\n",
      "2017-08-11 08:42:03,905 root     INFO     <function crawling_TW_int at 0x0000000007C788C8> :: True\n",
      "2017-08-11 08:42:03,910 root     DEBUG    Crawling twayair homepage schedule site\n"
     ]
    },
    {
     "name": "stdout",
     "output_type": "stream",
     "text": [
      "End Json Payload crawling\n",
      "Start Session crawling\n",
      "make session :  https://www.twayair.com/booking/availabilityList.do\n",
      "crawling :  https://www.twayair.com/booking/ajax/searchAvailability.do\n",
      ">> Parameters\n",
      "fareBasisCodeOW: , orderByOW: , origin1:NRT , destination:ICN , origin:NRT , destination1:ICN , destination2:NRT , fareBasisCodeRT: , onwardDateStr:20170812 , orderByRT: , today:20170811 , arrivCntryCode: , searchType:byDate , domesticYn:N , paxTypeCountStr:1,0,0 , origin2:ICN , promotionCode: , travelType:OW , returnDateStr:20170812 , \n"
     ]
    },
    {
     "name": "stderr",
     "output_type": "stream",
     "text": [
      "2017-08-11 08:42:06,558 root     DEBUG    Crawling twayair homepage schedule site\n"
     ]
    },
    {
     "name": "stdout",
     "output_type": "stream",
     "text": [
      "End Session crawling\n",
      "Start Session crawling\n",
      "make session :  https://www.twayair.com/booking/availabilityList.do\n",
      "crawling :  https://www.twayair.com/booking/ajax/searchAvailability.do\n",
      ">> Parameters\n",
      "fareBasisCodeOW: , orderByOW: , origin1:NRT , destination:ICN , origin:NRT , destination1:ICN , destination2:NRT , fareBasisCodeRT: , onwardDateStr:20170813 , orderByRT: , today:20170811 , arrivCntryCode: , searchType:byDate , domesticYn:N , paxTypeCountStr:1,0,0 , origin2:ICN , promotionCode: , travelType:OW , returnDateStr:20170813 , \n"
     ]
    },
    {
     "name": "stderr",
     "output_type": "stream",
     "text": [
      "2017-08-11 08:42:09,077 root     DEBUG    Crawling twayair homepage schedule site\n"
     ]
    },
    {
     "name": "stdout",
     "output_type": "stream",
     "text": [
      "End Session crawling\n",
      "Start Session crawling\n",
      "make session :  https://www.twayair.com/booking/availabilityList.do\n",
      "crawling :  https://www.twayair.com/booking/ajax/searchAvailability.do\n",
      ">> Parameters\n",
      "fareBasisCodeOW: , orderByOW: , origin1:NRT , destination:ICN , origin:NRT , destination1:ICN , destination2:NRT , fareBasisCodeRT: , onwardDateStr:20170814 , orderByRT: , today:20170811 , arrivCntryCode: , searchType:byDate , domesticYn:N , paxTypeCountStr:1,0,0 , origin2:ICN , promotionCode: , travelType:OW , returnDateStr:20170814 , \n"
     ]
    },
    {
     "name": "stderr",
     "output_type": "stream",
     "text": [
      "2017-08-11 08:42:11,672 root     DEBUG    Crawling twayair homepage schedule site\n"
     ]
    },
    {
     "name": "stdout",
     "output_type": "stream",
     "text": [
      "End Session crawling\n",
      "Start Session crawling\n",
      "make session :  https://www.twayair.com/booking/availabilityList.do\n",
      "crawling :  https://www.twayair.com/booking/ajax/searchAvailability.do\n",
      ">> Parameters\n",
      "fareBasisCodeOW: , orderByOW: , origin1:NRT , destination:ICN , origin:NRT , destination1:ICN , destination2:NRT , fareBasisCodeRT: , onwardDateStr:20170815 , orderByRT: , today:20170811 , arrivCntryCode: , searchType:byDate , domesticYn:N , paxTypeCountStr:1,0,0 , origin2:ICN , promotionCode: , travelType:OW , returnDateStr:20170815 , \n"
     ]
    },
    {
     "name": "stderr",
     "output_type": "stream",
     "text": [
      "2017-08-11 08:42:14,034 root     DEBUG    Crawling twayair homepage schedule site\n"
     ]
    },
    {
     "name": "stdout",
     "output_type": "stream",
     "text": [
      "End Session crawling\n",
      "Start Session crawling\n",
      "make session :  https://www.twayair.com/booking/availabilityList.do\n",
      "crawling :  https://www.twayair.com/booking/ajax/searchAvailability.do\n",
      ">> Parameters\n",
      "fareBasisCodeOW: , orderByOW: , origin1:NRT , destination:ICN , origin:NRT , destination1:ICN , destination2:NRT , fareBasisCodeRT: , onwardDateStr:20170816 , orderByRT: , today:20170811 , arrivCntryCode: , searchType:byDate , domesticYn:N , paxTypeCountStr:1,0,0 , origin2:ICN , promotionCode: , travelType:OW , returnDateStr:20170816 , \n"
     ]
    },
    {
     "name": "stderr",
     "output_type": "stream",
     "text": [
      "2017-08-11 08:42:16,521 root     DEBUG    Crawling twayair homepage schedule site\n"
     ]
    },
    {
     "name": "stdout",
     "output_type": "stream",
     "text": [
      "End Session crawling\n",
      "Start Session crawling\n",
      "make session :  https://www.twayair.com/booking/availabilityList.do\n",
      "crawling :  https://www.twayair.com/booking/ajax/searchAvailability.do\n",
      ">> Parameters\n",
      "fareBasisCodeOW: , orderByOW: , origin1:NRT , destination:ICN , origin:NRT , destination1:ICN , destination2:NRT , fareBasisCodeRT: , onwardDateStr:20170817 , orderByRT: , today:20170811 , arrivCntryCode: , searchType:byDate , domesticYn:N , paxTypeCountStr:1,0,0 , origin2:ICN , promotionCode: , travelType:OW , returnDateStr:20170817 , \n"
     ]
    },
    {
     "name": "stderr",
     "output_type": "stream",
     "text": [
      "2017-08-11 08:42:18,929 root     DEBUG    Crawling twayair homepage schedule site\n"
     ]
    },
    {
     "name": "stdout",
     "output_type": "stream",
     "text": [
      "End Session crawling\n",
      "Start Session crawling\n",
      "make session :  https://www.twayair.com/booking/availabilityList.do\n",
      "crawling :  https://www.twayair.com/booking/ajax/searchAvailability.do\n",
      ">> Parameters\n",
      "fareBasisCodeOW: , orderByOW: , origin1:NRT , destination:ICN , origin:NRT , destination1:ICN , destination2:NRT , fareBasisCodeRT: , onwardDateStr:20170818 , orderByRT: , today:20170811 , arrivCntryCode: , searchType:byDate , domesticYn:N , paxTypeCountStr:1,0,0 , origin2:ICN , promotionCode: , travelType:OW , returnDateStr:20170818 , \n"
     ]
    },
    {
     "name": "stderr",
     "output_type": "stream",
     "text": [
      "2017-08-11 08:42:21,482 root     DEBUG    Crawling twayair homepage schedule site\n"
     ]
    },
    {
     "name": "stdout",
     "output_type": "stream",
     "text": [
      "End Session crawling\n",
      "Start Session crawling\n",
      "make session :  https://www.twayair.com/booking/availabilityList.do\n",
      "crawling :  https://www.twayair.com/booking/ajax/searchAvailability.do\n",
      ">> Parameters\n",
      "fareBasisCodeOW: , orderByOW: , origin1:NRT , destination:ICN , origin:NRT , destination1:ICN , destination2:NRT , fareBasisCodeRT: , onwardDateStr:20170819 , orderByRT: , today:20170811 , arrivCntryCode: , searchType:byDate , domesticYn:N , paxTypeCountStr:1,0,0 , origin2:ICN , promotionCode: , travelType:OW , returnDateStr:20170819 , \n"
     ]
    },
    {
     "name": "stderr",
     "output_type": "stream",
     "text": [
      "2017-08-11 08:42:23,878 root     DEBUG    Crawling twayair homepage schedule site\n"
     ]
    },
    {
     "name": "stdout",
     "output_type": "stream",
     "text": [
      "End Session crawling\n",
      "Start Session crawling\n",
      "make session :  https://www.twayair.com/booking/availabilityList.do\n",
      "crawling :  https://www.twayair.com/booking/ajax/searchAvailability.do\n",
      ">> Parameters\n",
      "fareBasisCodeOW: , orderByOW: , origin1:NRT , destination:ICN , origin:NRT , destination1:ICN , destination2:NRT , fareBasisCodeRT: , onwardDateStr:20170820 , orderByRT: , today:20170811 , arrivCntryCode: , searchType:byDate , domesticYn:N , paxTypeCountStr:1,0,0 , origin2:ICN , promotionCode: , travelType:OW , returnDateStr:20170820 , \n"
     ]
    },
    {
     "name": "stderr",
     "output_type": "stream",
     "text": [
      "2017-08-11 08:42:26,217 root     DEBUG    Crawling twayair homepage schedule site\n"
     ]
    },
    {
     "name": "stdout",
     "output_type": "stream",
     "text": [
      "End Session crawling\n",
      "Start Session crawling\n",
      "make session :  https://www.twayair.com/booking/availabilityList.do\n",
      "crawling :  https://www.twayair.com/booking/ajax/searchAvailability.do\n",
      ">> Parameters\n",
      "fareBasisCodeOW: , orderByOW: , origin1:NRT , destination:ICN , origin:NRT , destination1:ICN , destination2:NRT , fareBasisCodeRT: , onwardDateStr:20170821 , orderByRT: , today:20170811 , arrivCntryCode: , searchType:byDate , domesticYn:N , paxTypeCountStr:1,0,0 , origin2:ICN , promotionCode: , travelType:OW , returnDateStr:20170821 , \n"
     ]
    },
    {
     "name": "stderr",
     "output_type": "stream",
     "text": [
      "2017-08-11 08:42:28,574 root     DEBUG    Crawling twayair homepage schedule site\n"
     ]
    },
    {
     "name": "stdout",
     "output_type": "stream",
     "text": [
      "End Session crawling\n",
      "Start Session crawling\n",
      "make session :  https://www.twayair.com/booking/availabilityList.do\n",
      "crawling :  https://www.twayair.com/booking/ajax/searchAvailability.do\n",
      ">> Parameters\n",
      "fareBasisCodeOW: , orderByOW: , origin1:NRT , destination:ICN , origin:NRT , destination1:ICN , destination2:NRT , fareBasisCodeRT: , onwardDateStr:20170822 , orderByRT: , today:20170811 , arrivCntryCode: , searchType:byDate , domesticYn:N , paxTypeCountStr:1,0,0 , origin2:ICN , promotionCode: , travelType:OW , returnDateStr:20170822 , \n"
     ]
    },
    {
     "name": "stderr",
     "output_type": "stream",
     "text": [
      "2017-08-11 08:42:31,007 root     DEBUG    Crawling twayair homepage schedule site\n"
     ]
    },
    {
     "name": "stdout",
     "output_type": "stream",
     "text": [
      "End Session crawling\n",
      "Start Session crawling\n",
      "make session :  https://www.twayair.com/booking/availabilityList.do\n",
      "crawling :  https://www.twayair.com/booking/ajax/searchAvailability.do\n",
      ">> Parameters\n",
      "fareBasisCodeOW: , orderByOW: , origin1:NRT , destination:ICN , origin:NRT , destination1:ICN , destination2:NRT , fareBasisCodeRT: , onwardDateStr:20170823 , orderByRT: , today:20170811 , arrivCntryCode: , searchType:byDate , domesticYn:N , paxTypeCountStr:1,0,0 , origin2:ICN , promotionCode: , travelType:OW , returnDateStr:20170823 , \n"
     ]
    },
    {
     "name": "stderr",
     "output_type": "stream",
     "text": [
      "2017-08-11 08:42:33,439 root     DEBUG    Crawling twayair homepage schedule site\n"
     ]
    },
    {
     "name": "stdout",
     "output_type": "stream",
     "text": [
      "End Session crawling\n",
      "Start Session crawling\n",
      "make session :  https://www.twayair.com/booking/availabilityList.do\n",
      "crawling :  https://www.twayair.com/booking/ajax/searchAvailability.do\n",
      ">> Parameters\n",
      "fareBasisCodeOW: , orderByOW: , origin1:NRT , destination:ICN , origin:NRT , destination1:ICN , destination2:NRT , fareBasisCodeRT: , onwardDateStr:20170824 , orderByRT: , today:20170811 , arrivCntryCode: , searchType:byDate , domesticYn:N , paxTypeCountStr:1,0,0 , origin2:ICN , promotionCode: , travelType:OW , returnDateStr:20170824 , \n"
     ]
    },
    {
     "name": "stderr",
     "output_type": "stream",
     "text": [
      "2017-08-11 08:42:36,008 root     DEBUG    Crawling twayair homepage schedule site\n"
     ]
    },
    {
     "name": "stdout",
     "output_type": "stream",
     "text": [
      "End Session crawling\n",
      "Start Session crawling\n",
      "make session :  https://www.twayair.com/booking/availabilityList.do\n",
      "crawling :  https://www.twayair.com/booking/ajax/searchAvailability.do\n",
      ">> Parameters\n",
      "fareBasisCodeOW: , orderByOW: , origin1:NRT , destination:ICN , origin:NRT , destination1:ICN , destination2:NRT , fareBasisCodeRT: , onwardDateStr:20170825 , orderByRT: , today:20170811 , arrivCntryCode: , searchType:byDate , domesticYn:N , paxTypeCountStr:1,0,0 , origin2:ICN , promotionCode: , travelType:OW , returnDateStr:20170825 , \n"
     ]
    },
    {
     "name": "stderr",
     "output_type": "stream",
     "text": [
      "2017-08-11 08:42:38,532 root     DEBUG    Crawling twayair homepage schedule site\n"
     ]
    },
    {
     "name": "stdout",
     "output_type": "stream",
     "text": [
      "End Session crawling\n",
      "Start Session crawling\n",
      "make session :  https://www.twayair.com/booking/availabilityList.do\n",
      "crawling :  https://www.twayair.com/booking/ajax/searchAvailability.do\n",
      ">> Parameters\n",
      "fareBasisCodeOW: , orderByOW: , origin1:NRT , destination:ICN , origin:NRT , destination1:ICN , destination2:NRT , fareBasisCodeRT: , onwardDateStr:20170826 , orderByRT: , today:20170811 , arrivCntryCode: , searchType:byDate , domesticYn:N , paxTypeCountStr:1,0,0 , origin2:ICN , promotionCode: , travelType:OW , returnDateStr:20170826 , \n"
     ]
    },
    {
     "name": "stderr",
     "output_type": "stream",
     "text": [
      "2017-08-11 08:42:40,996 root     DEBUG    Crawling twayair homepage schedule site\n"
     ]
    },
    {
     "name": "stdout",
     "output_type": "stream",
     "text": [
      "End Session crawling\n",
      "Start Session crawling\n",
      "make session :  https://www.twayair.com/booking/availabilityList.do\n",
      "crawling :  https://www.twayair.com/booking/ajax/searchAvailability.do\n",
      ">> Parameters\n",
      "fareBasisCodeOW: , orderByOW: , origin1:NRT , destination:ICN , origin:NRT , destination1:ICN , destination2:NRT , fareBasisCodeRT: , onwardDateStr:20170827 , orderByRT: , today:20170811 , arrivCntryCode: , searchType:byDate , domesticYn:N , paxTypeCountStr:1,0,0 , origin2:ICN , promotionCode: , travelType:OW , returnDateStr:20170827 , \n"
     ]
    },
    {
     "name": "stderr",
     "output_type": "stream",
     "text": [
      "2017-08-11 08:42:44,070 root     DEBUG    Crawling twayair homepage schedule site\n"
     ]
    },
    {
     "name": "stdout",
     "output_type": "stream",
     "text": [
      "End Session crawling\n",
      "Start Session crawling\n",
      "make session :  https://www.twayair.com/booking/availabilityList.do\n",
      "crawling :  https://www.twayair.com/booking/ajax/searchAvailability.do\n",
      ">> Parameters\n",
      "fareBasisCodeOW: , orderByOW: , origin1:NRT , destination:ICN , origin:NRT , destination1:ICN , destination2:NRT , fareBasisCodeRT: , onwardDateStr:20170828 , orderByRT: , today:20170811 , arrivCntryCode: , searchType:byDate , domesticYn:N , paxTypeCountStr:1,0,0 , origin2:ICN , promotionCode: , travelType:OW , returnDateStr:20170828 , \n"
     ]
    },
    {
     "name": "stderr",
     "output_type": "stream",
     "text": [
      "2017-08-11 08:42:46,839 root     DEBUG    Crawling twayair homepage schedule site\n"
     ]
    },
    {
     "name": "stdout",
     "output_type": "stream",
     "text": [
      "End Session crawling\n",
      "Start Session crawling\n",
      "make session :  https://www.twayair.com/booking/availabilityList.do\n",
      "crawling :  https://www.twayair.com/booking/ajax/searchAvailability.do\n",
      ">> Parameters\n",
      "fareBasisCodeOW: , orderByOW: , origin1:NRT , destination:ICN , origin:NRT , destination1:ICN , destination2:NRT , fareBasisCodeRT: , onwardDateStr:20170829 , orderByRT: , today:20170811 , arrivCntryCode: , searchType:byDate , domesticYn:N , paxTypeCountStr:1,0,0 , origin2:ICN , promotionCode: , travelType:OW , returnDateStr:20170829 , \n"
     ]
    },
    {
     "name": "stderr",
     "output_type": "stream",
     "text": [
      "2017-08-11 08:42:49,533 root     DEBUG    Crawling twayair homepage schedule site\n"
     ]
    },
    {
     "name": "stdout",
     "output_type": "stream",
     "text": [
      "End Session crawling\n",
      "Start Session crawling\n",
      "make session :  https://www.twayair.com/booking/availabilityList.do\n",
      "crawling :  https://www.twayair.com/booking/ajax/searchAvailability.do\n",
      ">> Parameters\n",
      "fareBasisCodeOW: , orderByOW: , origin1:NRT , destination:ICN , origin:NRT , destination1:ICN , destination2:NRT , fareBasisCodeRT: , onwardDateStr:20170830 , orderByRT: , today:20170811 , arrivCntryCode: , searchType:byDate , domesticYn:N , paxTypeCountStr:1,0,0 , origin2:ICN , promotionCode: , travelType:OW , returnDateStr:20170830 , \n"
     ]
    },
    {
     "name": "stderr",
     "output_type": "stream",
     "text": [
      "2017-08-11 08:42:52,361 root     DEBUG    Crawling twayair homepage schedule site\n"
     ]
    },
    {
     "name": "stdout",
     "output_type": "stream",
     "text": [
      "End Session crawling\n",
      "Start Session crawling\n",
      "make session :  https://www.twayair.com/booking/availabilityList.do\n",
      "crawling :  https://www.twayair.com/booking/ajax/searchAvailability.do\n",
      ">> Parameters\n",
      "fareBasisCodeOW: , orderByOW: , origin1:NRT , destination:ICN , origin:NRT , destination1:ICN , destination2:NRT , fareBasisCodeRT: , onwardDateStr:20170831 , orderByRT: , today:20170811 , arrivCntryCode: , searchType:byDate , domesticYn:N , paxTypeCountStr:1,0,0 , origin2:ICN , promotionCode: , travelType:OW , returnDateStr:20170831 , \n"
     ]
    },
    {
     "name": "stderr",
     "output_type": "stream",
     "text": [
      "2017-08-11 08:42:55,435 root     DEBUG    Crawling twayair homepage schedule site\n"
     ]
    },
    {
     "name": "stdout",
     "output_type": "stream",
     "text": [
      "End Session crawling\n",
      "Start Session crawling\n",
      "make session :  https://www.twayair.com/booking/availabilityList.do\n",
      "crawling :  https://www.twayair.com/booking/ajax/searchAvailability.do\n",
      ">> Parameters\n",
      "fareBasisCodeOW: , orderByOW: , origin1:NRT , destination:ICN , origin:NRT , destination1:ICN , destination2:NRT , fareBasisCodeRT: , onwardDateStr:20170901 , orderByRT: , today:20170811 , arrivCntryCode: , searchType:byDate , domesticYn:N , paxTypeCountStr:1,0,0 , origin2:ICN , promotionCode: , travelType:OW , returnDateStr:20170901 , \n"
     ]
    },
    {
     "name": "stderr",
     "output_type": "stream",
     "text": [
      "2017-08-11 08:42:58,981 root     INFO     end batch job :: craw_by_route_site :: elapsed -0:00:55.078150 :: Total crawl:21 files saved.\n",
      "2017-08-11 08:42:58,985 root     INFO     start batch job :: craw_by_route_site[NRT,ICN,7C,['20170812', '20170813', '20170814', '20170815', '20170816', '20170817', '20170818', '20170819', '20170820', '20170821', '20170822', '20170823', '20170824', '20170825', '20170826', '20170827', '20170828', '20170829', '20170830', '20170831', '20170901'],7C]\n",
      "2017-08-11 08:42:58,987 root     DEBUG    1 :: 7C :: crawling_7C_int :: True\n",
      "2017-08-11 08:42:58,990 root     INFO     <function crawling_7C_int at 0x0000000007C78A60> :: True\n",
      "2017-08-11 08:42:58,994 root     DEBUG    Crawling jejuair homepage schedule site\n"
     ]
    },
    {
     "name": "stdout",
     "output_type": "stream",
     "text": [
      "End Session crawling\n",
      "Start Session crawling\n",
      "make session :  https://www.jejuair.net/jejuair/com/jeju/ibe/availInit.do\n",
      "crawling :  https://www.jejuair.net/jejuair/com/jeju/ibe/searchAvail.do\n",
      ">> Parameters\n",
      "SegType:DEP , Language:KR , SystemType:IBE , ArrStn:ICN , ChildPaxCnt:0 , InfantPaxCnt:0 , RouteType:I , DepStn:NRT , DepDate:20170812 , Index:1 , AdultPaxCnt:1 , TripType:OW , \n"
     ]
    },
    {
     "name": "stderr",
     "output_type": "stream",
     "text": [
      "2017-08-11 08:43:00,347 root     DEBUG    Crawling jejuair homepage schedule site\n"
     ]
    },
    {
     "name": "stdout",
     "output_type": "stream",
     "text": [
      "End Session crawling\n",
      "Start Session crawling\n",
      "make session :  https://www.jejuair.net/jejuair/com/jeju/ibe/availInit.do\n",
      "crawling :  https://www.jejuair.net/jejuair/com/jeju/ibe/searchAvail.do\n",
      ">> Parameters\n",
      "SegType:DEP , Language:KR , SystemType:IBE , ArrStn:ICN , ChildPaxCnt:0 , InfantPaxCnt:0 , RouteType:I , DepStn:NRT , DepDate:20170813 , Index:1 , AdultPaxCnt:1 , TripType:OW , \n"
     ]
    },
    {
     "name": "stderr",
     "output_type": "stream",
     "text": [
      "2017-08-11 08:43:01,597 root     DEBUG    Crawling jejuair homepage schedule site\n"
     ]
    },
    {
     "name": "stdout",
     "output_type": "stream",
     "text": [
      "End Session crawling\n",
      "Start Session crawling\n",
      "make session :  https://www.jejuair.net/jejuair/com/jeju/ibe/availInit.do\n",
      "crawling :  https://www.jejuair.net/jejuair/com/jeju/ibe/searchAvail.do\n",
      ">> Parameters\n",
      "SegType:DEP , Language:KR , SystemType:IBE , ArrStn:ICN , ChildPaxCnt:0 , InfantPaxCnt:0 , RouteType:I , DepStn:NRT , DepDate:20170814 , Index:1 , AdultPaxCnt:1 , TripType:OW , \n"
     ]
    },
    {
     "name": "stderr",
     "output_type": "stream",
     "text": [
      "2017-08-11 08:43:02,812 root     DEBUG    Crawling jejuair homepage schedule site\n"
     ]
    },
    {
     "name": "stdout",
     "output_type": "stream",
     "text": [
      "End Session crawling\n",
      "Start Session crawling\n",
      "make session :  https://www.jejuair.net/jejuair/com/jeju/ibe/availInit.do\n",
      "crawling :  https://www.jejuair.net/jejuair/com/jeju/ibe/searchAvail.do\n",
      ">> Parameters\n",
      "SegType:DEP , Language:KR , SystemType:IBE , ArrStn:ICN , ChildPaxCnt:0 , InfantPaxCnt:0 , RouteType:I , DepStn:NRT , DepDate:20170815 , Index:1 , AdultPaxCnt:1 , TripType:OW , \n"
     ]
    },
    {
     "name": "stderr",
     "output_type": "stream",
     "text": [
      "2017-08-11 08:43:03,989 root     DEBUG    Crawling jejuair homepage schedule site\n"
     ]
    },
    {
     "name": "stdout",
     "output_type": "stream",
     "text": [
      "End Session crawling\n",
      "Start Session crawling\n",
      "make session :  https://www.jejuair.net/jejuair/com/jeju/ibe/availInit.do\n",
      "crawling :  https://www.jejuair.net/jejuair/com/jeju/ibe/searchAvail.do\n",
      ">> Parameters\n",
      "SegType:DEP , Language:KR , SystemType:IBE , ArrStn:ICN , ChildPaxCnt:0 , InfantPaxCnt:0 , RouteType:I , DepStn:NRT , DepDate:20170816 , Index:1 , AdultPaxCnt:1 , TripType:OW , \n"
     ]
    },
    {
     "name": "stderr",
     "output_type": "stream",
     "text": [
      "2017-08-11 08:43:05,216 root     DEBUG    Crawling jejuair homepage schedule site\n"
     ]
    },
    {
     "name": "stdout",
     "output_type": "stream",
     "text": [
      "End Session crawling\n",
      "Start Session crawling\n",
      "make session :  https://www.jejuair.net/jejuair/com/jeju/ibe/availInit.do\n",
      "crawling :  https://www.jejuair.net/jejuair/com/jeju/ibe/searchAvail.do\n",
      ">> Parameters\n",
      "SegType:DEP , Language:KR , SystemType:IBE , ArrStn:ICN , ChildPaxCnt:0 , InfantPaxCnt:0 , RouteType:I , DepStn:NRT , DepDate:20170817 , Index:1 , AdultPaxCnt:1 , TripType:OW , \n"
     ]
    },
    {
     "name": "stderr",
     "output_type": "stream",
     "text": [
      "2017-08-11 08:43:06,444 root     DEBUG    Crawling jejuair homepage schedule site\n"
     ]
    },
    {
     "name": "stdout",
     "output_type": "stream",
     "text": [
      "End Session crawling\n",
      "Start Session crawling\n",
      "make session :  https://www.jejuair.net/jejuair/com/jeju/ibe/availInit.do\n",
      "crawling :  https://www.jejuair.net/jejuair/com/jeju/ibe/searchAvail.do\n",
      ">> Parameters\n",
      "SegType:DEP , Language:KR , SystemType:IBE , ArrStn:ICN , ChildPaxCnt:0 , InfantPaxCnt:0 , RouteType:I , DepStn:NRT , DepDate:20170818 , Index:1 , AdultPaxCnt:1 , TripType:OW , \n"
     ]
    },
    {
     "name": "stderr",
     "output_type": "stream",
     "text": [
      "2017-08-11 08:43:07,684 root     DEBUG    Crawling jejuair homepage schedule site\n"
     ]
    },
    {
     "name": "stdout",
     "output_type": "stream",
     "text": [
      "End Session crawling\n",
      "Start Session crawling\n",
      "make session :  https://www.jejuair.net/jejuair/com/jeju/ibe/availInit.do\n",
      "crawling :  https://www.jejuair.net/jejuair/com/jeju/ibe/searchAvail.do\n",
      ">> Parameters\n",
      "SegType:DEP , Language:KR , SystemType:IBE , ArrStn:ICN , ChildPaxCnt:0 , InfantPaxCnt:0 , RouteType:I , DepStn:NRT , DepDate:20170819 , Index:1 , AdultPaxCnt:1 , TripType:OW , \n"
     ]
    },
    {
     "name": "stderr",
     "output_type": "stream",
     "text": [
      "2017-08-11 08:43:08,899 root     DEBUG    Crawling jejuair homepage schedule site\n"
     ]
    },
    {
     "name": "stdout",
     "output_type": "stream",
     "text": [
      "End Session crawling\n",
      "Start Session crawling\n",
      "make session :  https://www.jejuair.net/jejuair/com/jeju/ibe/availInit.do\n",
      "crawling :  https://www.jejuair.net/jejuair/com/jeju/ibe/searchAvail.do\n",
      ">> Parameters\n",
      "SegType:DEP , Language:KR , SystemType:IBE , ArrStn:ICN , ChildPaxCnt:0 , InfantPaxCnt:0 , RouteType:I , DepStn:NRT , DepDate:20170820 , Index:1 , AdultPaxCnt:1 , TripType:OW , \n"
     ]
    },
    {
     "name": "stderr",
     "output_type": "stream",
     "text": [
      "2017-08-11 08:43:10,104 root     DEBUG    Crawling jejuair homepage schedule site\n"
     ]
    },
    {
     "name": "stdout",
     "output_type": "stream",
     "text": [
      "End Session crawling\n",
      "Start Session crawling\n",
      "make session :  https://www.jejuair.net/jejuair/com/jeju/ibe/availInit.do\n",
      "crawling :  https://www.jejuair.net/jejuair/com/jeju/ibe/searchAvail.do\n",
      ">> Parameters\n",
      "SegType:DEP , Language:KR , SystemType:IBE , ArrStn:ICN , ChildPaxCnt:0 , InfantPaxCnt:0 , RouteType:I , DepStn:NRT , DepDate:20170821 , Index:1 , AdultPaxCnt:1 , TripType:OW , \n"
     ]
    },
    {
     "name": "stderr",
     "output_type": "stream",
     "text": [
      "2017-08-11 08:43:11,321 root     DEBUG    Crawling jejuair homepage schedule site\n"
     ]
    },
    {
     "name": "stdout",
     "output_type": "stream",
     "text": [
      "End Session crawling\n",
      "Start Session crawling\n",
      "make session :  https://www.jejuair.net/jejuair/com/jeju/ibe/availInit.do\n",
      "crawling :  https://www.jejuair.net/jejuair/com/jeju/ibe/searchAvail.do\n",
      ">> Parameters\n",
      "SegType:DEP , Language:KR , SystemType:IBE , ArrStn:ICN , ChildPaxCnt:0 , InfantPaxCnt:0 , RouteType:I , DepStn:NRT , DepDate:20170822 , Index:1 , AdultPaxCnt:1 , TripType:OW , \n"
     ]
    },
    {
     "name": "stderr",
     "output_type": "stream",
     "text": [
      "2017-08-11 08:43:12,582 root     DEBUG    Crawling jejuair homepage schedule site\n"
     ]
    },
    {
     "name": "stdout",
     "output_type": "stream",
     "text": [
      "End Session crawling\n",
      "Start Session crawling\n",
      "make session :  https://www.jejuair.net/jejuair/com/jeju/ibe/availInit.do\n",
      "crawling :  https://www.jejuair.net/jejuair/com/jeju/ibe/searchAvail.do\n",
      ">> Parameters\n",
      "SegType:DEP , Language:KR , SystemType:IBE , ArrStn:ICN , ChildPaxCnt:0 , InfantPaxCnt:0 , RouteType:I , DepStn:NRT , DepDate:20170823 , Index:1 , AdultPaxCnt:1 , TripType:OW , \n"
     ]
    },
    {
     "name": "stderr",
     "output_type": "stream",
     "text": [
      "2017-08-11 08:43:13,806 root     DEBUG    Crawling jejuair homepage schedule site\n"
     ]
    },
    {
     "name": "stdout",
     "output_type": "stream",
     "text": [
      "End Session crawling\n",
      "Start Session crawling\n",
      "make session :  https://www.jejuair.net/jejuair/com/jeju/ibe/availInit.do\n",
      "crawling :  https://www.jejuair.net/jejuair/com/jeju/ibe/searchAvail.do\n",
      ">> Parameters\n",
      "SegType:DEP , Language:KR , SystemType:IBE , ArrStn:ICN , ChildPaxCnt:0 , InfantPaxCnt:0 , RouteType:I , DepStn:NRT , DepDate:20170824 , Index:1 , AdultPaxCnt:1 , TripType:OW , \n"
     ]
    },
    {
     "name": "stderr",
     "output_type": "stream",
     "text": [
      "2017-08-11 08:43:15,034 root     DEBUG    Crawling jejuair homepage schedule site\n"
     ]
    },
    {
     "name": "stdout",
     "output_type": "stream",
     "text": [
      "End Session crawling\n",
      "Start Session crawling\n",
      "make session :  https://www.jejuair.net/jejuair/com/jeju/ibe/availInit.do\n",
      "crawling :  https://www.jejuair.net/jejuair/com/jeju/ibe/searchAvail.do\n",
      ">> Parameters\n",
      "SegType:DEP , Language:KR , SystemType:IBE , ArrStn:ICN , ChildPaxCnt:0 , InfantPaxCnt:0 , RouteType:I , DepStn:NRT , DepDate:20170825 , Index:1 , AdultPaxCnt:1 , TripType:OW , \n"
     ]
    },
    {
     "name": "stderr",
     "output_type": "stream",
     "text": [
      "2017-08-11 08:43:16,292 root     DEBUG    Crawling jejuair homepage schedule site\n"
     ]
    },
    {
     "name": "stdout",
     "output_type": "stream",
     "text": [
      "End Session crawling\n",
      "Start Session crawling\n",
      "make session :  https://www.jejuair.net/jejuair/com/jeju/ibe/availInit.do\n",
      "crawling :  https://www.jejuair.net/jejuair/com/jeju/ibe/searchAvail.do\n",
      ">> Parameters\n",
      "SegType:DEP , Language:KR , SystemType:IBE , ArrStn:ICN , ChildPaxCnt:0 , InfantPaxCnt:0 , RouteType:I , DepStn:NRT , DepDate:20170826 , Index:1 , AdultPaxCnt:1 , TripType:OW , \n"
     ]
    },
    {
     "name": "stderr",
     "output_type": "stream",
     "text": [
      "2017-08-11 08:43:17,522 root     DEBUG    Crawling jejuair homepage schedule site\n"
     ]
    },
    {
     "name": "stdout",
     "output_type": "stream",
     "text": [
      "End Session crawling\n",
      "Start Session crawling\n",
      "make session :  https://www.jejuair.net/jejuair/com/jeju/ibe/availInit.do\n",
      "crawling :  https://www.jejuair.net/jejuair/com/jeju/ibe/searchAvail.do\n",
      ">> Parameters\n",
      "SegType:DEP , Language:KR , SystemType:IBE , ArrStn:ICN , ChildPaxCnt:0 , InfantPaxCnt:0 , RouteType:I , DepStn:NRT , DepDate:20170827 , Index:1 , AdultPaxCnt:1 , TripType:OW , \n"
     ]
    },
    {
     "name": "stderr",
     "output_type": "stream",
     "text": [
      "2017-08-11 08:43:18,738 root     DEBUG    Crawling jejuair homepage schedule site\n"
     ]
    },
    {
     "name": "stdout",
     "output_type": "stream",
     "text": [
      "End Session crawling\n",
      "Start Session crawling\n",
      "make session :  https://www.jejuair.net/jejuair/com/jeju/ibe/availInit.do\n",
      "crawling :  https://www.jejuair.net/jejuair/com/jeju/ibe/searchAvail.do\n",
      ">> Parameters\n",
      "SegType:DEP , Language:KR , SystemType:IBE , ArrStn:ICN , ChildPaxCnt:0 , InfantPaxCnt:0 , RouteType:I , DepStn:NRT , DepDate:20170828 , Index:1 , AdultPaxCnt:1 , TripType:OW , \n"
     ]
    },
    {
     "name": "stderr",
     "output_type": "stream",
     "text": [
      "2017-08-11 08:43:19,965 root     DEBUG    Crawling jejuair homepage schedule site\n"
     ]
    },
    {
     "name": "stdout",
     "output_type": "stream",
     "text": [
      "End Session crawling\n",
      "Start Session crawling\n",
      "make session :  https://www.jejuair.net/jejuair/com/jeju/ibe/availInit.do\n",
      "crawling :  https://www.jejuair.net/jejuair/com/jeju/ibe/searchAvail.do\n",
      ">> Parameters\n",
      "SegType:DEP , Language:KR , SystemType:IBE , ArrStn:ICN , ChildPaxCnt:0 , InfantPaxCnt:0 , RouteType:I , DepStn:NRT , DepDate:20170829 , Index:1 , AdultPaxCnt:1 , TripType:OW , \n"
     ]
    },
    {
     "name": "stderr",
     "output_type": "stream",
     "text": [
      "2017-08-11 08:43:21,196 root     DEBUG    Crawling jejuair homepage schedule site\n"
     ]
    },
    {
     "name": "stdout",
     "output_type": "stream",
     "text": [
      "End Session crawling\n",
      "Start Session crawling\n",
      "make session :  https://www.jejuair.net/jejuair/com/jeju/ibe/availInit.do\n",
      "crawling :  https://www.jejuair.net/jejuair/com/jeju/ibe/searchAvail.do\n",
      ">> Parameters\n",
      "SegType:DEP , Language:KR , SystemType:IBE , ArrStn:ICN , ChildPaxCnt:0 , InfantPaxCnt:0 , RouteType:I , DepStn:NRT , DepDate:20170830 , Index:1 , AdultPaxCnt:1 , TripType:OW , \n"
     ]
    },
    {
     "name": "stderr",
     "output_type": "stream",
     "text": [
      "2017-08-11 08:43:22,411 root     DEBUG    Crawling jejuair homepage schedule site\n"
     ]
    },
    {
     "name": "stdout",
     "output_type": "stream",
     "text": [
      "End Session crawling\n",
      "Start Session crawling\n",
      "make session :  https://www.jejuair.net/jejuair/com/jeju/ibe/availInit.do\n",
      "crawling :  https://www.jejuair.net/jejuair/com/jeju/ibe/searchAvail.do\n",
      ">> Parameters\n",
      "SegType:DEP , Language:KR , SystemType:IBE , ArrStn:ICN , ChildPaxCnt:0 , InfantPaxCnt:0 , RouteType:I , DepStn:NRT , DepDate:20170831 , Index:1 , AdultPaxCnt:1 , TripType:OW , \n"
     ]
    },
    {
     "name": "stderr",
     "output_type": "stream",
     "text": [
      "2017-08-11 08:43:23,692 root     DEBUG    Crawling jejuair homepage schedule site\n"
     ]
    },
    {
     "name": "stdout",
     "output_type": "stream",
     "text": [
      "End Session crawling\n",
      "Start Session crawling\n",
      "make session :  https://www.jejuair.net/jejuair/com/jeju/ibe/availInit.do\n",
      "crawling :  https://www.jejuair.net/jejuair/com/jeju/ibe/searchAvail.do\n",
      ">> Parameters\n",
      "SegType:DEP , Language:KR , SystemType:IBE , ArrStn:ICN , ChildPaxCnt:0 , InfantPaxCnt:0 , RouteType:I , DepStn:NRT , DepDate:20170901 , Index:1 , AdultPaxCnt:1 , TripType:OW , \n"
     ]
    },
    {
     "name": "stderr",
     "output_type": "stream",
     "text": [
      "2017-08-11 08:43:24,899 root     INFO     end batch job :: craw_by_route_site :: elapsed -0:00:25.911482 :: Total crawl:21 files saved.\n",
      "2017-08-11 08:43:24,901 root     INFO     start batch job :: craw_by_route_site[NRT/JPN,ICN/KOR,LJ,['20170812', '20170813', '20170814', '20170815', '20170816', '20170817', '20170818', '20170819', '20170820', '20170821', '20170822', '20170823', '20170824', '20170825', '20170826', '20170827', '20170828', '20170829', '20170830', '20170831', '20170901'],LJ]\n",
      "2017-08-11 08:43:24,904 root     DEBUG    1 :: LJ :: crawling_LJ_int :: True\n",
      "2017-08-11 08:43:24,909 root     INFO     <function crawling_LJ_int at 0x0000000007C78BF8> :: True\n"
     ]
    },
    {
     "name": "stdout",
     "output_type": "stream",
     "text": [
      "End Session crawling\n",
      "Crawling jinair mobile page schedule site\n",
      "Param :  NRT/JPN ICN/KOR 20170812\n",
      "End crawling\n",
      "Crawling jinair mobile page schedule site\n",
      "Param :  NRT/JPN ICN/KOR 20170813\n",
      "End crawling\n",
      "Crawling jinair mobile page schedule site\n",
      "Param :  NRT/JPN ICN/KOR 20170814\n",
      "End crawling\n",
      "Crawling jinair mobile page schedule site\n",
      "Param :  NRT/JPN ICN/KOR 20170815\n",
      "End crawling\n",
      "Crawling jinair mobile page schedule site\n",
      "Param :  NRT/JPN ICN/KOR 20170816\n",
      "End crawling\n",
      "Crawling jinair mobile page schedule site\n",
      "Param :  NRT/JPN ICN/KOR 20170817\n",
      "End crawling\n",
      "Crawling jinair mobile page schedule site\n",
      "Param :  NRT/JPN ICN/KOR 20170818\n",
      "End crawling\n",
      "Crawling jinair mobile page schedule site\n",
      "Param :  NRT/JPN ICN/KOR 20170819\n",
      "End crawling\n",
      "Crawling jinair mobile page schedule site\n",
      "Param :  NRT/JPN ICN/KOR 20170820\n",
      "End crawling\n",
      "Crawling jinair mobile page schedule site\n",
      "Param :  NRT/JPN ICN/KOR 20170821\n",
      "End crawling\n",
      "Crawling jinair mobile page schedule site\n",
      "Param :  NRT/JPN ICN/KOR 20170822\n",
      "End crawling\n",
      "Crawling jinair mobile page schedule site\n",
      "Param :  NRT/JPN ICN/KOR 20170823\n",
      "End crawling\n",
      "Crawling jinair mobile page schedule site\n",
      "Param :  NRT/JPN ICN/KOR 20170824\n",
      "End crawling\n",
      "Crawling jinair mobile page schedule site\n",
      "Param :  NRT/JPN ICN/KOR 20170825\n",
      "End crawling\n",
      "Crawling jinair mobile page schedule site\n",
      "Param :  NRT/JPN ICN/KOR 20170826\n",
      "End crawling\n",
      "Crawling jinair mobile page schedule site\n",
      "Param :  NRT/JPN ICN/KOR 20170827\n",
      "End crawling\n",
      "Crawling jinair mobile page schedule site\n",
      "Param :  NRT/JPN ICN/KOR 20170828\n",
      "End crawling\n",
      "Crawling jinair mobile page schedule site\n",
      "Param :  NRT/JPN ICN/KOR 20170829\n",
      "End crawling\n",
      "Crawling jinair mobile page schedule site\n",
      "Param :  NRT/JPN ICN/KOR 20170830\n",
      "End crawling\n",
      "Crawling jinair mobile page schedule site\n",
      "Param :  NRT/JPN ICN/KOR 20170831\n",
      "End crawling\n",
      "Crawling jinair mobile page schedule site\n",
      "Param :  NRT/JPN ICN/KOR 20170901\n"
     ]
    },
    {
     "name": "stderr",
     "output_type": "stream",
     "text": [
      "2017-08-11 08:44:24,544 root     INFO     end batch job :: craw_by_route_site :: elapsed -0:00:59.639411 :: Total crawl:21 files saved.\n",
      "2017-08-11 08:44:24,547 root     INFO     start batch job :: craw_by_route_site[BKK,ICN,ZE,['20170812', '20170813', '20170814', '20170815', '20170816', '20170817', '20170818', '20170819', '20170820', '20170821', '20170822', '20170823', '20170824', '20170825', '20170826', '20170827', '20170828', '20170829', '20170830', '20170831', '20170901'],ZE]\n",
      "2017-08-11 08:44:24,550 root     DEBUG    1 :: ZE :: crawling_ZE_dom_int :: True\n",
      "2017-08-11 08:44:24,554 root     INFO     <function crawling_ZE_dom_int at 0x0000000007C78F28> :: True\n",
      "2017-08-11 08:44:24,557 root     DEBUG    Crawling eastarjet homepage schedule site\n"
     ]
    },
    {
     "name": "stdout",
     "output_type": "stream",
     "text": [
      "End crawling\n",
      "Start Json Payload crawling :  https://www.eastarjet.com/json/dataService\n",
      ">> Parameters\n",
      "params:[{'panelId': None, 'javaClass': 'com.jein.framework.connectivity.parameter.RequestParameter', 'sourceExtension': None, 'inParameters': {'list': [{'data': {'list': [{'javaClass': 'java.util.Map', 'map': {'flightSearch': '{\"viewType\":\"\",\"fly_type\":\"2\",\"person1\":\"1\",\"person2\":\"0\",\"person3\":\"0\",    \"residentCountry\":\"KR\",\"currency\":\"\",\"promotion_cd\":\"\",    \"flySection\":[{\"departure_cd\":\"BKK\",\"arrival_cd\":\"ICN\",\"departure_date_cd\":\"20170812\"}]}'}}], 'javaClass': 'java.util.List'}, 'ioType': 'IN', 'structureType': 'FIELD', 'javaClass': 'com.jein.framework.connectivity.parameter.InParameter', 'paramName': 'flightSearch'}], 'javaClass': 'java.util.List'}, 'DBTransaction': False, 'requestExecuteType': 'BIZ', 'requestUniqueCode': 'PGWBA00002', 'functionName': 'DTWBA00022', 'methodType': None, 'filterParameter': {'javaClass': 'java.util.Map', 'map': {}}, 'sourceName': None}] , method:DataService.service , id:2 , \n"
     ]
    },
    {
     "name": "stderr",
     "output_type": "stream",
     "text": [
      "2017-08-11 08:44:26,789 root     DEBUG    Crawling eastarjet homepage schedule site\n"
     ]
    },
    {
     "name": "stdout",
     "output_type": "stream",
     "text": [
      "End Json Payload crawling\n",
      "Start Json Payload crawling :  https://www.eastarjet.com/json/dataService\n",
      ">> Parameters\n",
      "params:[{'panelId': None, 'javaClass': 'com.jein.framework.connectivity.parameter.RequestParameter', 'sourceExtension': None, 'inParameters': {'list': [{'data': {'list': [{'javaClass': 'java.util.Map', 'map': {'flightSearch': '{\"viewType\":\"\",\"fly_type\":\"2\",\"person1\":\"1\",\"person2\":\"0\",\"person3\":\"0\",    \"residentCountry\":\"KR\",\"currency\":\"\",\"promotion_cd\":\"\",    \"flySection\":[{\"departure_cd\":\"BKK\",\"arrival_cd\":\"ICN\",\"departure_date_cd\":\"20170813\"}]}'}}], 'javaClass': 'java.util.List'}, 'ioType': 'IN', 'structureType': 'FIELD', 'javaClass': 'com.jein.framework.connectivity.parameter.InParameter', 'paramName': 'flightSearch'}], 'javaClass': 'java.util.List'}, 'DBTransaction': False, 'requestExecuteType': 'BIZ', 'requestUniqueCode': 'PGWBA00002', 'functionName': 'DTWBA00022', 'methodType': None, 'filterParameter': {'javaClass': 'java.util.Map', 'map': {}}, 'sourceName': None}] , method:DataService.service , id:2 , \n"
     ]
    },
    {
     "name": "stderr",
     "output_type": "stream",
     "text": [
      "2017-08-11 08:44:29,049 root     DEBUG    Crawling eastarjet homepage schedule site\n"
     ]
    },
    {
     "name": "stdout",
     "output_type": "stream",
     "text": [
      "End Json Payload crawling\n",
      "Start Json Payload crawling :  https://www.eastarjet.com/json/dataService\n",
      ">> Parameters\n",
      "params:[{'panelId': None, 'javaClass': 'com.jein.framework.connectivity.parameter.RequestParameter', 'sourceExtension': None, 'inParameters': {'list': [{'data': {'list': [{'javaClass': 'java.util.Map', 'map': {'flightSearch': '{\"viewType\":\"\",\"fly_type\":\"2\",\"person1\":\"1\",\"person2\":\"0\",\"person3\":\"0\",    \"residentCountry\":\"KR\",\"currency\":\"\",\"promotion_cd\":\"\",    \"flySection\":[{\"departure_cd\":\"BKK\",\"arrival_cd\":\"ICN\",\"departure_date_cd\":\"20170814\"}]}'}}], 'javaClass': 'java.util.List'}, 'ioType': 'IN', 'structureType': 'FIELD', 'javaClass': 'com.jein.framework.connectivity.parameter.InParameter', 'paramName': 'flightSearch'}], 'javaClass': 'java.util.List'}, 'DBTransaction': False, 'requestExecuteType': 'BIZ', 'requestUniqueCode': 'PGWBA00002', 'functionName': 'DTWBA00022', 'methodType': None, 'filterParameter': {'javaClass': 'java.util.Map', 'map': {}}, 'sourceName': None}] , method:DataService.service , id:2 , \n"
     ]
    },
    {
     "name": "stderr",
     "output_type": "stream",
     "text": [
      "2017-08-11 08:44:31,249 root     DEBUG    Crawling eastarjet homepage schedule site\n"
     ]
    },
    {
     "name": "stdout",
     "output_type": "stream",
     "text": [
      "End Json Payload crawling\n",
      "Start Json Payload crawling :  https://www.eastarjet.com/json/dataService\n",
      ">> Parameters\n",
      "params:[{'panelId': None, 'javaClass': 'com.jein.framework.connectivity.parameter.RequestParameter', 'sourceExtension': None, 'inParameters': {'list': [{'data': {'list': [{'javaClass': 'java.util.Map', 'map': {'flightSearch': '{\"viewType\":\"\",\"fly_type\":\"2\",\"person1\":\"1\",\"person2\":\"0\",\"person3\":\"0\",    \"residentCountry\":\"KR\",\"currency\":\"\",\"promotion_cd\":\"\",    \"flySection\":[{\"departure_cd\":\"BKK\",\"arrival_cd\":\"ICN\",\"departure_date_cd\":\"20170815\"}]}'}}], 'javaClass': 'java.util.List'}, 'ioType': 'IN', 'structureType': 'FIELD', 'javaClass': 'com.jein.framework.connectivity.parameter.InParameter', 'paramName': 'flightSearch'}], 'javaClass': 'java.util.List'}, 'DBTransaction': False, 'requestExecuteType': 'BIZ', 'requestUniqueCode': 'PGWBA00002', 'functionName': 'DTWBA00022', 'methodType': None, 'filterParameter': {'javaClass': 'java.util.Map', 'map': {}}, 'sourceName': None}] , method:DataService.service , id:2 , \n"
     ]
    },
    {
     "name": "stderr",
     "output_type": "stream",
     "text": [
      "2017-08-11 08:44:33,479 root     DEBUG    Crawling eastarjet homepage schedule site\n"
     ]
    },
    {
     "name": "stdout",
     "output_type": "stream",
     "text": [
      "End Json Payload crawling\n",
      "Start Json Payload crawling :  https://www.eastarjet.com/json/dataService\n",
      ">> Parameters\n",
      "params:[{'panelId': None, 'javaClass': 'com.jein.framework.connectivity.parameter.RequestParameter', 'sourceExtension': None, 'inParameters': {'list': [{'data': {'list': [{'javaClass': 'java.util.Map', 'map': {'flightSearch': '{\"viewType\":\"\",\"fly_type\":\"2\",\"person1\":\"1\",\"person2\":\"0\",\"person3\":\"0\",    \"residentCountry\":\"KR\",\"currency\":\"\",\"promotion_cd\":\"\",    \"flySection\":[{\"departure_cd\":\"BKK\",\"arrival_cd\":\"ICN\",\"departure_date_cd\":\"20170816\"}]}'}}], 'javaClass': 'java.util.List'}, 'ioType': 'IN', 'structureType': 'FIELD', 'javaClass': 'com.jein.framework.connectivity.parameter.InParameter', 'paramName': 'flightSearch'}], 'javaClass': 'java.util.List'}, 'DBTransaction': False, 'requestExecuteType': 'BIZ', 'requestUniqueCode': 'PGWBA00002', 'functionName': 'DTWBA00022', 'methodType': None, 'filterParameter': {'javaClass': 'java.util.Map', 'map': {}}, 'sourceName': None}] , method:DataService.service , id:2 , \n"
     ]
    },
    {
     "name": "stderr",
     "output_type": "stream",
     "text": [
      "2017-08-11 08:44:35,678 root     DEBUG    Crawling eastarjet homepage schedule site\n"
     ]
    },
    {
     "name": "stdout",
     "output_type": "stream",
     "text": [
      "End Json Payload crawling\n",
      "Start Json Payload crawling :  https://www.eastarjet.com/json/dataService\n",
      ">> Parameters\n",
      "params:[{'panelId': None, 'javaClass': 'com.jein.framework.connectivity.parameter.RequestParameter', 'sourceExtension': None, 'inParameters': {'list': [{'data': {'list': [{'javaClass': 'java.util.Map', 'map': {'flightSearch': '{\"viewType\":\"\",\"fly_type\":\"2\",\"person1\":\"1\",\"person2\":\"0\",\"person3\":\"0\",    \"residentCountry\":\"KR\",\"currency\":\"\",\"promotion_cd\":\"\",    \"flySection\":[{\"departure_cd\":\"BKK\",\"arrival_cd\":\"ICN\",\"departure_date_cd\":\"20170817\"}]}'}}], 'javaClass': 'java.util.List'}, 'ioType': 'IN', 'structureType': 'FIELD', 'javaClass': 'com.jein.framework.connectivity.parameter.InParameter', 'paramName': 'flightSearch'}], 'javaClass': 'java.util.List'}, 'DBTransaction': False, 'requestExecuteType': 'BIZ', 'requestUniqueCode': 'PGWBA00002', 'functionName': 'DTWBA00022', 'methodType': None, 'filterParameter': {'javaClass': 'java.util.Map', 'map': {}}, 'sourceName': None}] , method:DataService.service , id:2 , \n"
     ]
    },
    {
     "name": "stderr",
     "output_type": "stream",
     "text": [
      "2017-08-11 08:44:37,953 root     DEBUG    Crawling eastarjet homepage schedule site\n"
     ]
    },
    {
     "name": "stdout",
     "output_type": "stream",
     "text": [
      "End Json Payload crawling\n",
      "Start Json Payload crawling :  https://www.eastarjet.com/json/dataService\n",
      ">> Parameters\n",
      "params:[{'panelId': None, 'javaClass': 'com.jein.framework.connectivity.parameter.RequestParameter', 'sourceExtension': None, 'inParameters': {'list': [{'data': {'list': [{'javaClass': 'java.util.Map', 'map': {'flightSearch': '{\"viewType\":\"\",\"fly_type\":\"2\",\"person1\":\"1\",\"person2\":\"0\",\"person3\":\"0\",    \"residentCountry\":\"KR\",\"currency\":\"\",\"promotion_cd\":\"\",    \"flySection\":[{\"departure_cd\":\"BKK\",\"arrival_cd\":\"ICN\",\"departure_date_cd\":\"20170818\"}]}'}}], 'javaClass': 'java.util.List'}, 'ioType': 'IN', 'structureType': 'FIELD', 'javaClass': 'com.jein.framework.connectivity.parameter.InParameter', 'paramName': 'flightSearch'}], 'javaClass': 'java.util.List'}, 'DBTransaction': False, 'requestExecuteType': 'BIZ', 'requestUniqueCode': 'PGWBA00002', 'functionName': 'DTWBA00022', 'methodType': None, 'filterParameter': {'javaClass': 'java.util.Map', 'map': {}}, 'sourceName': None}] , method:DataService.service , id:2 , \n"
     ]
    },
    {
     "name": "stderr",
     "output_type": "stream",
     "text": [
      "2017-08-11 08:44:40,191 root     DEBUG    Crawling eastarjet homepage schedule site\n"
     ]
    },
    {
     "name": "stdout",
     "output_type": "stream",
     "text": [
      "End Json Payload crawling\n",
      "Start Json Payload crawling :  https://www.eastarjet.com/json/dataService\n",
      ">> Parameters\n",
      "params:[{'panelId': None, 'javaClass': 'com.jein.framework.connectivity.parameter.RequestParameter', 'sourceExtension': None, 'inParameters': {'list': [{'data': {'list': [{'javaClass': 'java.util.Map', 'map': {'flightSearch': '{\"viewType\":\"\",\"fly_type\":\"2\",\"person1\":\"1\",\"person2\":\"0\",\"person3\":\"0\",    \"residentCountry\":\"KR\",\"currency\":\"\",\"promotion_cd\":\"\",    \"flySection\":[{\"departure_cd\":\"BKK\",\"arrival_cd\":\"ICN\",\"departure_date_cd\":\"20170819\"}]}'}}], 'javaClass': 'java.util.List'}, 'ioType': 'IN', 'structureType': 'FIELD', 'javaClass': 'com.jein.framework.connectivity.parameter.InParameter', 'paramName': 'flightSearch'}], 'javaClass': 'java.util.List'}, 'DBTransaction': False, 'requestExecuteType': 'BIZ', 'requestUniqueCode': 'PGWBA00002', 'functionName': 'DTWBA00022', 'methodType': None, 'filterParameter': {'javaClass': 'java.util.Map', 'map': {}}, 'sourceName': None}] , method:DataService.service , id:2 , \n"
     ]
    },
    {
     "name": "stderr",
     "output_type": "stream",
     "text": [
      "2017-08-11 08:44:42,387 root     DEBUG    Crawling eastarjet homepage schedule site\n"
     ]
    },
    {
     "name": "stdout",
     "output_type": "stream",
     "text": [
      "End Json Payload crawling\n",
      "Start Json Payload crawling :  https://www.eastarjet.com/json/dataService\n",
      ">> Parameters\n",
      "params:[{'panelId': None, 'javaClass': 'com.jein.framework.connectivity.parameter.RequestParameter', 'sourceExtension': None, 'inParameters': {'list': [{'data': {'list': [{'javaClass': 'java.util.Map', 'map': {'flightSearch': '{\"viewType\":\"\",\"fly_type\":\"2\",\"person1\":\"1\",\"person2\":\"0\",\"person3\":\"0\",    \"residentCountry\":\"KR\",\"currency\":\"\",\"promotion_cd\":\"\",    \"flySection\":[{\"departure_cd\":\"BKK\",\"arrival_cd\":\"ICN\",\"departure_date_cd\":\"20170820\"}]}'}}], 'javaClass': 'java.util.List'}, 'ioType': 'IN', 'structureType': 'FIELD', 'javaClass': 'com.jein.framework.connectivity.parameter.InParameter', 'paramName': 'flightSearch'}], 'javaClass': 'java.util.List'}, 'DBTransaction': False, 'requestExecuteType': 'BIZ', 'requestUniqueCode': 'PGWBA00002', 'functionName': 'DTWBA00022', 'methodType': None, 'filterParameter': {'javaClass': 'java.util.Map', 'map': {}}, 'sourceName': None}] , method:DataService.service , id:2 , \n"
     ]
    },
    {
     "name": "stderr",
     "output_type": "stream",
     "text": [
      "2017-08-11 08:44:44,598 root     DEBUG    Crawling eastarjet homepage schedule site\n"
     ]
    },
    {
     "name": "stdout",
     "output_type": "stream",
     "text": [
      "End Json Payload crawling\n",
      "Start Json Payload crawling :  https://www.eastarjet.com/json/dataService\n",
      ">> Parameters\n",
      "params:[{'panelId': None, 'javaClass': 'com.jein.framework.connectivity.parameter.RequestParameter', 'sourceExtension': None, 'inParameters': {'list': [{'data': {'list': [{'javaClass': 'java.util.Map', 'map': {'flightSearch': '{\"viewType\":\"\",\"fly_type\":\"2\",\"person1\":\"1\",\"person2\":\"0\",\"person3\":\"0\",    \"residentCountry\":\"KR\",\"currency\":\"\",\"promotion_cd\":\"\",    \"flySection\":[{\"departure_cd\":\"BKK\",\"arrival_cd\":\"ICN\",\"departure_date_cd\":\"20170821\"}]}'}}], 'javaClass': 'java.util.List'}, 'ioType': 'IN', 'structureType': 'FIELD', 'javaClass': 'com.jein.framework.connectivity.parameter.InParameter', 'paramName': 'flightSearch'}], 'javaClass': 'java.util.List'}, 'DBTransaction': False, 'requestExecuteType': 'BIZ', 'requestUniqueCode': 'PGWBA00002', 'functionName': 'DTWBA00022', 'methodType': None, 'filterParameter': {'javaClass': 'java.util.Map', 'map': {}}, 'sourceName': None}] , method:DataService.service , id:2 , \n"
     ]
    },
    {
     "name": "stderr",
     "output_type": "stream",
     "text": [
      "2017-08-11 08:44:46,909 root     DEBUG    Crawling eastarjet homepage schedule site\n"
     ]
    },
    {
     "name": "stdout",
     "output_type": "stream",
     "text": [
      "End Json Payload crawling\n",
      "Start Json Payload crawling :  https://www.eastarjet.com/json/dataService\n",
      ">> Parameters\n",
      "params:[{'panelId': None, 'javaClass': 'com.jein.framework.connectivity.parameter.RequestParameter', 'sourceExtension': None, 'inParameters': {'list': [{'data': {'list': [{'javaClass': 'java.util.Map', 'map': {'flightSearch': '{\"viewType\":\"\",\"fly_type\":\"2\",\"person1\":\"1\",\"person2\":\"0\",\"person3\":\"0\",    \"residentCountry\":\"KR\",\"currency\":\"\",\"promotion_cd\":\"\",    \"flySection\":[{\"departure_cd\":\"BKK\",\"arrival_cd\":\"ICN\",\"departure_date_cd\":\"20170822\"}]}'}}], 'javaClass': 'java.util.List'}, 'ioType': 'IN', 'structureType': 'FIELD', 'javaClass': 'com.jein.framework.connectivity.parameter.InParameter', 'paramName': 'flightSearch'}], 'javaClass': 'java.util.List'}, 'DBTransaction': False, 'requestExecuteType': 'BIZ', 'requestUniqueCode': 'PGWBA00002', 'functionName': 'DTWBA00022', 'methodType': None, 'filterParameter': {'javaClass': 'java.util.Map', 'map': {}}, 'sourceName': None}] , method:DataService.service , id:2 , \n"
     ]
    },
    {
     "name": "stderr",
     "output_type": "stream",
     "text": [
      "2017-08-11 08:44:49,143 root     DEBUG    Crawling eastarjet homepage schedule site\n"
     ]
    },
    {
     "name": "stdout",
     "output_type": "stream",
     "text": [
      "End Json Payload crawling\n",
      "Start Json Payload crawling :  https://www.eastarjet.com/json/dataService\n",
      ">> Parameters\n",
      "params:[{'panelId': None, 'javaClass': 'com.jein.framework.connectivity.parameter.RequestParameter', 'sourceExtension': None, 'inParameters': {'list': [{'data': {'list': [{'javaClass': 'java.util.Map', 'map': {'flightSearch': '{\"viewType\":\"\",\"fly_type\":\"2\",\"person1\":\"1\",\"person2\":\"0\",\"person3\":\"0\",    \"residentCountry\":\"KR\",\"currency\":\"\",\"promotion_cd\":\"\",    \"flySection\":[{\"departure_cd\":\"BKK\",\"arrival_cd\":\"ICN\",\"departure_date_cd\":\"20170823\"}]}'}}], 'javaClass': 'java.util.List'}, 'ioType': 'IN', 'structureType': 'FIELD', 'javaClass': 'com.jein.framework.connectivity.parameter.InParameter', 'paramName': 'flightSearch'}], 'javaClass': 'java.util.List'}, 'DBTransaction': False, 'requestExecuteType': 'BIZ', 'requestUniqueCode': 'PGWBA00002', 'functionName': 'DTWBA00022', 'methodType': None, 'filterParameter': {'javaClass': 'java.util.Map', 'map': {}}, 'sourceName': None}] , method:DataService.service , id:2 , \n"
     ]
    },
    {
     "name": "stderr",
     "output_type": "stream",
     "text": [
      "2017-08-11 08:44:51,334 root     DEBUG    Crawling eastarjet homepage schedule site\n"
     ]
    },
    {
     "name": "stdout",
     "output_type": "stream",
     "text": [
      "End Json Payload crawling\n",
      "Start Json Payload crawling :  https://www.eastarjet.com/json/dataService\n",
      ">> Parameters\n",
      "params:[{'panelId': None, 'javaClass': 'com.jein.framework.connectivity.parameter.RequestParameter', 'sourceExtension': None, 'inParameters': {'list': [{'data': {'list': [{'javaClass': 'java.util.Map', 'map': {'flightSearch': '{\"viewType\":\"\",\"fly_type\":\"2\",\"person1\":\"1\",\"person2\":\"0\",\"person3\":\"0\",    \"residentCountry\":\"KR\",\"currency\":\"\",\"promotion_cd\":\"\",    \"flySection\":[{\"departure_cd\":\"BKK\",\"arrival_cd\":\"ICN\",\"departure_date_cd\":\"20170824\"}]}'}}], 'javaClass': 'java.util.List'}, 'ioType': 'IN', 'structureType': 'FIELD', 'javaClass': 'com.jein.framework.connectivity.parameter.InParameter', 'paramName': 'flightSearch'}], 'javaClass': 'java.util.List'}, 'DBTransaction': False, 'requestExecuteType': 'BIZ', 'requestUniqueCode': 'PGWBA00002', 'functionName': 'DTWBA00022', 'methodType': None, 'filterParameter': {'javaClass': 'java.util.Map', 'map': {}}, 'sourceName': None}] , method:DataService.service , id:2 , \n"
     ]
    },
    {
     "name": "stderr",
     "output_type": "stream",
     "text": [
      "2017-08-11 08:44:53,531 root     DEBUG    Crawling eastarjet homepage schedule site\n"
     ]
    },
    {
     "name": "stdout",
     "output_type": "stream",
     "text": [
      "End Json Payload crawling\n",
      "Start Json Payload crawling :  https://www.eastarjet.com/json/dataService\n",
      ">> Parameters\n",
      "params:[{'panelId': None, 'javaClass': 'com.jein.framework.connectivity.parameter.RequestParameter', 'sourceExtension': None, 'inParameters': {'list': [{'data': {'list': [{'javaClass': 'java.util.Map', 'map': {'flightSearch': '{\"viewType\":\"\",\"fly_type\":\"2\",\"person1\":\"1\",\"person2\":\"0\",\"person3\":\"0\",    \"residentCountry\":\"KR\",\"currency\":\"\",\"promotion_cd\":\"\",    \"flySection\":[{\"departure_cd\":\"BKK\",\"arrival_cd\":\"ICN\",\"departure_date_cd\":\"20170825\"}]}'}}], 'javaClass': 'java.util.List'}, 'ioType': 'IN', 'structureType': 'FIELD', 'javaClass': 'com.jein.framework.connectivity.parameter.InParameter', 'paramName': 'flightSearch'}], 'javaClass': 'java.util.List'}, 'DBTransaction': False, 'requestExecuteType': 'BIZ', 'requestUniqueCode': 'PGWBA00002', 'functionName': 'DTWBA00022', 'methodType': None, 'filterParameter': {'javaClass': 'java.util.Map', 'map': {}}, 'sourceName': None}] , method:DataService.service , id:2 , \n"
     ]
    },
    {
     "name": "stderr",
     "output_type": "stream",
     "text": [
      "2017-08-11 08:44:55,609 root     DEBUG    Crawling eastarjet homepage schedule site\n"
     ]
    },
    {
     "name": "stdout",
     "output_type": "stream",
     "text": [
      "End Json Payload crawling\n",
      "Start Json Payload crawling :  https://www.eastarjet.com/json/dataService\n",
      ">> Parameters\n",
      "params:[{'panelId': None, 'javaClass': 'com.jein.framework.connectivity.parameter.RequestParameter', 'sourceExtension': None, 'inParameters': {'list': [{'data': {'list': [{'javaClass': 'java.util.Map', 'map': {'flightSearch': '{\"viewType\":\"\",\"fly_type\":\"2\",\"person1\":\"1\",\"person2\":\"0\",\"person3\":\"0\",    \"residentCountry\":\"KR\",\"currency\":\"\",\"promotion_cd\":\"\",    \"flySection\":[{\"departure_cd\":\"BKK\",\"arrival_cd\":\"ICN\",\"departure_date_cd\":\"20170826\"}]}'}}], 'javaClass': 'java.util.List'}, 'ioType': 'IN', 'structureType': 'FIELD', 'javaClass': 'com.jein.framework.connectivity.parameter.InParameter', 'paramName': 'flightSearch'}], 'javaClass': 'java.util.List'}, 'DBTransaction': False, 'requestExecuteType': 'BIZ', 'requestUniqueCode': 'PGWBA00002', 'functionName': 'DTWBA00022', 'methodType': None, 'filterParameter': {'javaClass': 'java.util.Map', 'map': {}}, 'sourceName': None}] , method:DataService.service , id:2 , \n"
     ]
    },
    {
     "name": "stderr",
     "output_type": "stream",
     "text": [
      "2017-08-11 08:44:57,779 root     DEBUG    Crawling eastarjet homepage schedule site\n"
     ]
    },
    {
     "name": "stdout",
     "output_type": "stream",
     "text": [
      "End Json Payload crawling\n",
      "Start Json Payload crawling :  https://www.eastarjet.com/json/dataService\n",
      ">> Parameters\n",
      "params:[{'panelId': None, 'javaClass': 'com.jein.framework.connectivity.parameter.RequestParameter', 'sourceExtension': None, 'inParameters': {'list': [{'data': {'list': [{'javaClass': 'java.util.Map', 'map': {'flightSearch': '{\"viewType\":\"\",\"fly_type\":\"2\",\"person1\":\"1\",\"person2\":\"0\",\"person3\":\"0\",    \"residentCountry\":\"KR\",\"currency\":\"\",\"promotion_cd\":\"\",    \"flySection\":[{\"departure_cd\":\"BKK\",\"arrival_cd\":\"ICN\",\"departure_date_cd\":\"20170827\"}]}'}}], 'javaClass': 'java.util.List'}, 'ioType': 'IN', 'structureType': 'FIELD', 'javaClass': 'com.jein.framework.connectivity.parameter.InParameter', 'paramName': 'flightSearch'}], 'javaClass': 'java.util.List'}, 'DBTransaction': False, 'requestExecuteType': 'BIZ', 'requestUniqueCode': 'PGWBA00002', 'functionName': 'DTWBA00022', 'methodType': None, 'filterParameter': {'javaClass': 'java.util.Map', 'map': {}}, 'sourceName': None}] , method:DataService.service , id:2 , \n"
     ]
    },
    {
     "name": "stderr",
     "output_type": "stream",
     "text": [
      "2017-08-11 08:44:59,966 root     DEBUG    Crawling eastarjet homepage schedule site\n"
     ]
    },
    {
     "name": "stdout",
     "output_type": "stream",
     "text": [
      "End Json Payload crawling\n",
      "Start Json Payload crawling :  https://www.eastarjet.com/json/dataService\n",
      ">> Parameters\n",
      "params:[{'panelId': None, 'javaClass': 'com.jein.framework.connectivity.parameter.RequestParameter', 'sourceExtension': None, 'inParameters': {'list': [{'data': {'list': [{'javaClass': 'java.util.Map', 'map': {'flightSearch': '{\"viewType\":\"\",\"fly_type\":\"2\",\"person1\":\"1\",\"person2\":\"0\",\"person3\":\"0\",    \"residentCountry\":\"KR\",\"currency\":\"\",\"promotion_cd\":\"\",    \"flySection\":[{\"departure_cd\":\"BKK\",\"arrival_cd\":\"ICN\",\"departure_date_cd\":\"20170828\"}]}'}}], 'javaClass': 'java.util.List'}, 'ioType': 'IN', 'structureType': 'FIELD', 'javaClass': 'com.jein.framework.connectivity.parameter.InParameter', 'paramName': 'flightSearch'}], 'javaClass': 'java.util.List'}, 'DBTransaction': False, 'requestExecuteType': 'BIZ', 'requestUniqueCode': 'PGWBA00002', 'functionName': 'DTWBA00022', 'methodType': None, 'filterParameter': {'javaClass': 'java.util.Map', 'map': {}}, 'sourceName': None}] , method:DataService.service , id:2 , \n"
     ]
    },
    {
     "name": "stderr",
     "output_type": "stream",
     "text": [
      "2017-08-11 08:45:02,219 root     DEBUG    Crawling eastarjet homepage schedule site\n"
     ]
    },
    {
     "name": "stdout",
     "output_type": "stream",
     "text": [
      "End Json Payload crawling\n",
      "Start Json Payload crawling :  https://www.eastarjet.com/json/dataService\n",
      ">> Parameters\n",
      "params:[{'panelId': None, 'javaClass': 'com.jein.framework.connectivity.parameter.RequestParameter', 'sourceExtension': None, 'inParameters': {'list': [{'data': {'list': [{'javaClass': 'java.util.Map', 'map': {'flightSearch': '{\"viewType\":\"\",\"fly_type\":\"2\",\"person1\":\"1\",\"person2\":\"0\",\"person3\":\"0\",    \"residentCountry\":\"KR\",\"currency\":\"\",\"promotion_cd\":\"\",    \"flySection\":[{\"departure_cd\":\"BKK\",\"arrival_cd\":\"ICN\",\"departure_date_cd\":\"20170829\"}]}'}}], 'javaClass': 'java.util.List'}, 'ioType': 'IN', 'structureType': 'FIELD', 'javaClass': 'com.jein.framework.connectivity.parameter.InParameter', 'paramName': 'flightSearch'}], 'javaClass': 'java.util.List'}, 'DBTransaction': False, 'requestExecuteType': 'BIZ', 'requestUniqueCode': 'PGWBA00002', 'functionName': 'DTWBA00022', 'methodType': None, 'filterParameter': {'javaClass': 'java.util.Map', 'map': {}}, 'sourceName': None}] , method:DataService.service , id:2 , \n"
     ]
    },
    {
     "name": "stderr",
     "output_type": "stream",
     "text": [
      "2017-08-11 08:45:04,414 root     DEBUG    Crawling eastarjet homepage schedule site\n"
     ]
    },
    {
     "name": "stdout",
     "output_type": "stream",
     "text": [
      "End Json Payload crawling\n",
      "Start Json Payload crawling :  https://www.eastarjet.com/json/dataService\n",
      ">> Parameters\n",
      "params:[{'panelId': None, 'javaClass': 'com.jein.framework.connectivity.parameter.RequestParameter', 'sourceExtension': None, 'inParameters': {'list': [{'data': {'list': [{'javaClass': 'java.util.Map', 'map': {'flightSearch': '{\"viewType\":\"\",\"fly_type\":\"2\",\"person1\":\"1\",\"person2\":\"0\",\"person3\":\"0\",    \"residentCountry\":\"KR\",\"currency\":\"\",\"promotion_cd\":\"\",    \"flySection\":[{\"departure_cd\":\"BKK\",\"arrival_cd\":\"ICN\",\"departure_date_cd\":\"20170830\"}]}'}}], 'javaClass': 'java.util.List'}, 'ioType': 'IN', 'structureType': 'FIELD', 'javaClass': 'com.jein.framework.connectivity.parameter.InParameter', 'paramName': 'flightSearch'}], 'javaClass': 'java.util.List'}, 'DBTransaction': False, 'requestExecuteType': 'BIZ', 'requestUniqueCode': 'PGWBA00002', 'functionName': 'DTWBA00022', 'methodType': None, 'filterParameter': {'javaClass': 'java.util.Map', 'map': {}}, 'sourceName': None}] , method:DataService.service , id:2 , \n"
     ]
    },
    {
     "name": "stderr",
     "output_type": "stream",
     "text": [
      "2017-08-11 08:45:06,668 root     DEBUG    Crawling eastarjet homepage schedule site\n"
     ]
    },
    {
     "name": "stdout",
     "output_type": "stream",
     "text": [
      "End Json Payload crawling\n",
      "Start Json Payload crawling :  https://www.eastarjet.com/json/dataService\n",
      ">> Parameters\n",
      "params:[{'panelId': None, 'javaClass': 'com.jein.framework.connectivity.parameter.RequestParameter', 'sourceExtension': None, 'inParameters': {'list': [{'data': {'list': [{'javaClass': 'java.util.Map', 'map': {'flightSearch': '{\"viewType\":\"\",\"fly_type\":\"2\",\"person1\":\"1\",\"person2\":\"0\",\"person3\":\"0\",    \"residentCountry\":\"KR\",\"currency\":\"\",\"promotion_cd\":\"\",    \"flySection\":[{\"departure_cd\":\"BKK\",\"arrival_cd\":\"ICN\",\"departure_date_cd\":\"20170831\"}]}'}}], 'javaClass': 'java.util.List'}, 'ioType': 'IN', 'structureType': 'FIELD', 'javaClass': 'com.jein.framework.connectivity.parameter.InParameter', 'paramName': 'flightSearch'}], 'javaClass': 'java.util.List'}, 'DBTransaction': False, 'requestExecuteType': 'BIZ', 'requestUniqueCode': 'PGWBA00002', 'functionName': 'DTWBA00022', 'methodType': None, 'filterParameter': {'javaClass': 'java.util.Map', 'map': {}}, 'sourceName': None}] , method:DataService.service , id:2 , \n"
     ]
    },
    {
     "name": "stderr",
     "output_type": "stream",
     "text": [
      "2017-08-11 08:45:09,032 root     DEBUG    Crawling eastarjet homepage schedule site\n"
     ]
    },
    {
     "name": "stdout",
     "output_type": "stream",
     "text": [
      "End Json Payload crawling\n",
      "Start Json Payload crawling :  https://www.eastarjet.com/json/dataService\n",
      ">> Parameters\n",
      "params:[{'panelId': None, 'javaClass': 'com.jein.framework.connectivity.parameter.RequestParameter', 'sourceExtension': None, 'inParameters': {'list': [{'data': {'list': [{'javaClass': 'java.util.Map', 'map': {'flightSearch': '{\"viewType\":\"\",\"fly_type\":\"2\",\"person1\":\"1\",\"person2\":\"0\",\"person3\":\"0\",    \"residentCountry\":\"KR\",\"currency\":\"\",\"promotion_cd\":\"\",    \"flySection\":[{\"departure_cd\":\"BKK\",\"arrival_cd\":\"ICN\",\"departure_date_cd\":\"20170901\"}]}'}}], 'javaClass': 'java.util.List'}, 'ioType': 'IN', 'structureType': 'FIELD', 'javaClass': 'com.jein.framework.connectivity.parameter.InParameter', 'paramName': 'flightSearch'}], 'javaClass': 'java.util.List'}, 'DBTransaction': False, 'requestExecuteType': 'BIZ', 'requestUniqueCode': 'PGWBA00002', 'functionName': 'DTWBA00022', 'methodType': None, 'filterParameter': {'javaClass': 'java.util.Map', 'map': {}}, 'sourceName': None}] , method:DataService.service , id:2 , \n"
     ]
    },
    {
     "name": "stderr",
     "output_type": "stream",
     "text": [
      "2017-08-11 08:45:11,290 root     INFO     end batch job :: craw_by_route_site :: elapsed -0:00:46.739674 :: Total crawl:21 files saved.\n",
      "2017-08-11 08:45:11,292 root     INFO     start batch job :: craw_by_route_site[BKK,ICN,TW,['20170812', '20170813', '20170814', '20170815', '20170816', '20170817', '20170818', '20170819', '20170820', '20170821', '20170822', '20170823', '20170824', '20170825', '20170826', '20170827', '20170828', '20170829', '20170830', '20170831', '20170901'],TW]\n",
      "2017-08-11 08:45:11,294 root     DEBUG    1 :: TW :: crawling_TW_int :: True\n",
      "2017-08-11 08:45:11,296 root     INFO     <function crawling_TW_int at 0x0000000007C788C8> :: True\n",
      "2017-08-11 08:45:11,300 root     DEBUG    Crawling twayair homepage schedule site\n"
     ]
    },
    {
     "name": "stdout",
     "output_type": "stream",
     "text": [
      "End Json Payload crawling\n",
      "Start Session crawling\n",
      "make session :  https://www.twayair.com/booking/availabilityList.do\n",
      "crawling :  https://www.twayair.com/booking/ajax/searchAvailability.do\n",
      ">> Parameters\n",
      "fareBasisCodeOW: , orderByOW: , origin1:BKK , destination:ICN , origin:BKK , destination1:ICN , destination2:BKK , fareBasisCodeRT: , onwardDateStr:20170812 , orderByRT: , today:20170811 , arrivCntryCode: , searchType:byDate , domesticYn:N , paxTypeCountStr:1,0,0 , origin2:ICN , promotionCode: , travelType:OW , returnDateStr:20170812 , \n"
     ]
    },
    {
     "name": "stderr",
     "output_type": "stream",
     "text": [
      "2017-08-11 08:45:13,737 root     DEBUG    Crawling twayair homepage schedule site\n"
     ]
    },
    {
     "name": "stdout",
     "output_type": "stream",
     "text": [
      "End Session crawling\n",
      "Start Session crawling\n",
      "make session :  https://www.twayair.com/booking/availabilityList.do\n",
      "crawling :  https://www.twayair.com/booking/ajax/searchAvailability.do\n",
      ">> Parameters\n",
      "fareBasisCodeOW: , orderByOW: , origin1:BKK , destination:ICN , origin:BKK , destination1:ICN , destination2:BKK , fareBasisCodeRT: , onwardDateStr:20170813 , orderByRT: , today:20170811 , arrivCntryCode: , searchType:byDate , domesticYn:N , paxTypeCountStr:1,0,0 , origin2:ICN , promotionCode: , travelType:OW , returnDateStr:20170813 , \n"
     ]
    },
    {
     "name": "stderr",
     "output_type": "stream",
     "text": [
      "2017-08-11 08:45:16,258 root     DEBUG    Crawling twayair homepage schedule site\n"
     ]
    },
    {
     "name": "stdout",
     "output_type": "stream",
     "text": [
      "End Session crawling\n",
      "Start Session crawling\n",
      "make session :  https://www.twayair.com/booking/availabilityList.do\n",
      "crawling :  https://www.twayair.com/booking/ajax/searchAvailability.do\n",
      ">> Parameters\n",
      "fareBasisCodeOW: , orderByOW: , origin1:BKK , destination:ICN , origin:BKK , destination1:ICN , destination2:BKK , fareBasisCodeRT: , onwardDateStr:20170814 , orderByRT: , today:20170811 , arrivCntryCode: , searchType:byDate , domesticYn:N , paxTypeCountStr:1,0,0 , origin2:ICN , promotionCode: , travelType:OW , returnDateStr:20170814 , \n"
     ]
    },
    {
     "name": "stderr",
     "output_type": "stream",
     "text": [
      "2017-08-11 08:45:18,698 root     DEBUG    Crawling twayair homepage schedule site\n"
     ]
    },
    {
     "name": "stdout",
     "output_type": "stream",
     "text": [
      "End Session crawling\n",
      "Start Session crawling\n",
      "make session :  https://www.twayair.com/booking/availabilityList.do\n",
      "crawling :  https://www.twayair.com/booking/ajax/searchAvailability.do\n",
      ">> Parameters\n",
      "fareBasisCodeOW: , orderByOW: , origin1:BKK , destination:ICN , origin:BKK , destination1:ICN , destination2:BKK , fareBasisCodeRT: , onwardDateStr:20170815 , orderByRT: , today:20170811 , arrivCntryCode: , searchType:byDate , domesticYn:N , paxTypeCountStr:1,0,0 , origin2:ICN , promotionCode: , travelType:OW , returnDateStr:20170815 , \n"
     ]
    },
    {
     "name": "stderr",
     "output_type": "stream",
     "text": [
      "2017-08-11 08:45:21,238 root     DEBUG    Crawling twayair homepage schedule site\n"
     ]
    },
    {
     "name": "stdout",
     "output_type": "stream",
     "text": [
      "End Session crawling\n",
      "Start Session crawling\n",
      "make session :  https://www.twayair.com/booking/availabilityList.do\n",
      "crawling :  https://www.twayair.com/booking/ajax/searchAvailability.do\n",
      ">> Parameters\n",
      "fareBasisCodeOW: , orderByOW: , origin1:BKK , destination:ICN , origin:BKK , destination1:ICN , destination2:BKK , fareBasisCodeRT: , onwardDateStr:20170816 , orderByRT: , today:20170811 , arrivCntryCode: , searchType:byDate , domesticYn:N , paxTypeCountStr:1,0,0 , origin2:ICN , promotionCode: , travelType:OW , returnDateStr:20170816 , \n"
     ]
    },
    {
     "name": "stderr",
     "output_type": "stream",
     "text": [
      "2017-08-11 08:45:23,658 root     DEBUG    Crawling twayair homepage schedule site\n"
     ]
    },
    {
     "name": "stdout",
     "output_type": "stream",
     "text": [
      "End Session crawling\n",
      "Start Session crawling\n",
      "make session :  https://www.twayair.com/booking/availabilityList.do\n",
      "crawling :  https://www.twayair.com/booking/ajax/searchAvailability.do\n",
      ">> Parameters\n",
      "fareBasisCodeOW: , orderByOW: , origin1:BKK , destination:ICN , origin:BKK , destination1:ICN , destination2:BKK , fareBasisCodeRT: , onwardDateStr:20170817 , orderByRT: , today:20170811 , arrivCntryCode: , searchType:byDate , domesticYn:N , paxTypeCountStr:1,0,0 , origin2:ICN , promotionCode: , travelType:OW , returnDateStr:20170817 , \n"
     ]
    },
    {
     "name": "stderr",
     "output_type": "stream",
     "text": [
      "2017-08-11 08:45:26,250 root     DEBUG    Crawling twayair homepage schedule site\n"
     ]
    },
    {
     "name": "stdout",
     "output_type": "stream",
     "text": [
      "End Session crawling\n",
      "Start Session crawling\n",
      "make session :  https://www.twayair.com/booking/availabilityList.do\n",
      "crawling :  https://www.twayair.com/booking/ajax/searchAvailability.do\n",
      ">> Parameters\n",
      "fareBasisCodeOW: , orderByOW: , origin1:BKK , destination:ICN , origin:BKK , destination1:ICN , destination2:BKK , fareBasisCodeRT: , onwardDateStr:20170818 , orderByRT: , today:20170811 , arrivCntryCode: , searchType:byDate , domesticYn:N , paxTypeCountStr:1,0,0 , origin2:ICN , promotionCode: , travelType:OW , returnDateStr:20170818 , \n"
     ]
    },
    {
     "name": "stderr",
     "output_type": "stream",
     "text": [
      "2017-08-11 08:45:28,700 root     DEBUG    Crawling twayair homepage schedule site\n"
     ]
    },
    {
     "name": "stdout",
     "output_type": "stream",
     "text": [
      "End Session crawling\n",
      "Start Session crawling\n",
      "make session :  https://www.twayair.com/booking/availabilityList.do\n",
      "crawling :  https://www.twayair.com/booking/ajax/searchAvailability.do\n",
      ">> Parameters\n",
      "fareBasisCodeOW: , orderByOW: , origin1:BKK , destination:ICN , origin:BKK , destination1:ICN , destination2:BKK , fareBasisCodeRT: , onwardDateStr:20170819 , orderByRT: , today:20170811 , arrivCntryCode: , searchType:byDate , domesticYn:N , paxTypeCountStr:1,0,0 , origin2:ICN , promotionCode: , travelType:OW , returnDateStr:20170819 , \n"
     ]
    },
    {
     "name": "stderr",
     "output_type": "stream",
     "text": [
      "2017-08-11 08:45:31,171 root     DEBUG    Crawling twayair homepage schedule site\n"
     ]
    },
    {
     "name": "stdout",
     "output_type": "stream",
     "text": [
      "End Session crawling\n",
      "Start Session crawling\n",
      "make session :  https://www.twayair.com/booking/availabilityList.do\n",
      "crawling :  https://www.twayair.com/booking/ajax/searchAvailability.do\n",
      ">> Parameters\n",
      "fareBasisCodeOW: , orderByOW: , origin1:BKK , destination:ICN , origin:BKK , destination1:ICN , destination2:BKK , fareBasisCodeRT: , onwardDateStr:20170820 , orderByRT: , today:20170811 , arrivCntryCode: , searchType:byDate , domesticYn:N , paxTypeCountStr:1,0,0 , origin2:ICN , promotionCode: , travelType:OW , returnDateStr:20170820 , \n"
     ]
    },
    {
     "name": "stderr",
     "output_type": "stream",
     "text": [
      "2017-08-11 08:45:33,671 root     DEBUG    Crawling twayair homepage schedule site\n"
     ]
    },
    {
     "name": "stdout",
     "output_type": "stream",
     "text": [
      "End Session crawling\n",
      "Start Session crawling\n",
      "make session :  https://www.twayair.com/booking/availabilityList.do\n",
      "crawling :  https://www.twayair.com/booking/ajax/searchAvailability.do\n",
      ">> Parameters\n",
      "fareBasisCodeOW: , orderByOW: , origin1:BKK , destination:ICN , origin:BKK , destination1:ICN , destination2:BKK , fareBasisCodeRT: , onwardDateStr:20170821 , orderByRT: , today:20170811 , arrivCntryCode: , searchType:byDate , domesticYn:N , paxTypeCountStr:1,0,0 , origin2:ICN , promotionCode: , travelType:OW , returnDateStr:20170821 , \n"
     ]
    },
    {
     "name": "stderr",
     "output_type": "stream",
     "text": [
      "2017-08-11 08:45:36,607 root     DEBUG    Crawling twayair homepage schedule site\n"
     ]
    },
    {
     "name": "stdout",
     "output_type": "stream",
     "text": [
      "End Session crawling\n",
      "Start Session crawling\n",
      "make session :  https://www.twayair.com/booking/availabilityList.do\n",
      "crawling :  https://www.twayair.com/booking/ajax/searchAvailability.do\n",
      ">> Parameters\n",
      "fareBasisCodeOW: , orderByOW: , origin1:BKK , destination:ICN , origin:BKK , destination1:ICN , destination2:BKK , fareBasisCodeRT: , onwardDateStr:20170822 , orderByRT: , today:20170811 , arrivCntryCode: , searchType:byDate , domesticYn:N , paxTypeCountStr:1,0,0 , origin2:ICN , promotionCode: , travelType:OW , returnDateStr:20170822 , \n"
     ]
    },
    {
     "name": "stderr",
     "output_type": "stream",
     "text": [
      "2017-08-11 08:45:39,085 root     DEBUG    Crawling twayair homepage schedule site\n"
     ]
    },
    {
     "name": "stdout",
     "output_type": "stream",
     "text": [
      "End Session crawling\n",
      "Start Session crawling\n",
      "make session :  https://www.twayair.com/booking/availabilityList.do\n",
      "crawling :  https://www.twayair.com/booking/ajax/searchAvailability.do\n",
      ">> Parameters\n",
      "fareBasisCodeOW: , orderByOW: , origin1:BKK , destination:ICN , origin:BKK , destination1:ICN , destination2:BKK , fareBasisCodeRT: , onwardDateStr:20170823 , orderByRT: , today:20170811 , arrivCntryCode: , searchType:byDate , domesticYn:N , paxTypeCountStr:1,0,0 , origin2:ICN , promotionCode: , travelType:OW , returnDateStr:20170823 , \n"
     ]
    },
    {
     "name": "stderr",
     "output_type": "stream",
     "text": [
      "2017-08-11 08:45:41,501 root     DEBUG    Crawling twayair homepage schedule site\n"
     ]
    },
    {
     "name": "stdout",
     "output_type": "stream",
     "text": [
      "End Session crawling\n",
      "Start Session crawling\n",
      "make session :  https://www.twayair.com/booking/availabilityList.do\n",
      "crawling :  https://www.twayair.com/booking/ajax/searchAvailability.do\n",
      ">> Parameters\n",
      "fareBasisCodeOW: , orderByOW: , origin1:BKK , destination:ICN , origin:BKK , destination1:ICN , destination2:BKK , fareBasisCodeRT: , onwardDateStr:20170824 , orderByRT: , today:20170811 , arrivCntryCode: , searchType:byDate , domesticYn:N , paxTypeCountStr:1,0,0 , origin2:ICN , promotionCode: , travelType:OW , returnDateStr:20170824 , \n"
     ]
    },
    {
     "name": "stderr",
     "output_type": "stream",
     "text": [
      "2017-08-11 08:45:44,283 root     DEBUG    Crawling twayair homepage schedule site\n"
     ]
    },
    {
     "name": "stdout",
     "output_type": "stream",
     "text": [
      "End Session crawling\n",
      "Start Session crawling\n",
      "make session :  https://www.twayair.com/booking/availabilityList.do\n",
      "crawling :  https://www.twayair.com/booking/ajax/searchAvailability.do\n",
      ">> Parameters\n",
      "fareBasisCodeOW: , orderByOW: , origin1:BKK , destination:ICN , origin:BKK , destination1:ICN , destination2:BKK , fareBasisCodeRT: , onwardDateStr:20170825 , orderByRT: , today:20170811 , arrivCntryCode: , searchType:byDate , domesticYn:N , paxTypeCountStr:1,0,0 , origin2:ICN , promotionCode: , travelType:OW , returnDateStr:20170825 , \n"
     ]
    },
    {
     "name": "stderr",
     "output_type": "stream",
     "text": [
      "2017-08-11 08:45:46,863 root     DEBUG    Crawling twayair homepage schedule site\n"
     ]
    },
    {
     "name": "stdout",
     "output_type": "stream",
     "text": [
      "End Session crawling\n",
      "Start Session crawling\n",
      "make session :  https://www.twayair.com/booking/availabilityList.do\n",
      "crawling :  https://www.twayair.com/booking/ajax/searchAvailability.do\n",
      ">> Parameters\n",
      "fareBasisCodeOW: , orderByOW: , origin1:BKK , destination:ICN , origin:BKK , destination1:ICN , destination2:BKK , fareBasisCodeRT: , onwardDateStr:20170826 , orderByRT: , today:20170811 , arrivCntryCode: , searchType:byDate , domesticYn:N , paxTypeCountStr:1,0,0 , origin2:ICN , promotionCode: , travelType:OW , returnDateStr:20170826 , \n"
     ]
    },
    {
     "name": "stderr",
     "output_type": "stream",
     "text": [
      "2017-08-11 08:45:49,291 root     DEBUG    Crawling twayair homepage schedule site\n"
     ]
    },
    {
     "name": "stdout",
     "output_type": "stream",
     "text": [
      "End Session crawling\n",
      "Start Session crawling\n",
      "make session :  https://www.twayair.com/booking/availabilityList.do\n",
      "crawling :  https://www.twayair.com/booking/ajax/searchAvailability.do\n",
      ">> Parameters\n",
      "fareBasisCodeOW: , orderByOW: , origin1:BKK , destination:ICN , origin:BKK , destination1:ICN , destination2:BKK , fareBasisCodeRT: , onwardDateStr:20170827 , orderByRT: , today:20170811 , arrivCntryCode: , searchType:byDate , domesticYn:N , paxTypeCountStr:1,0,0 , origin2:ICN , promotionCode: , travelType:OW , returnDateStr:20170827 , \n"
     ]
    },
    {
     "name": "stderr",
     "output_type": "stream",
     "text": [
      "2017-08-11 08:45:51,915 root     DEBUG    Crawling twayair homepage schedule site\n"
     ]
    },
    {
     "name": "stdout",
     "output_type": "stream",
     "text": [
      "End Session crawling\n",
      "Start Session crawling\n",
      "make session :  https://www.twayair.com/booking/availabilityList.do\n",
      "crawling :  https://www.twayair.com/booking/ajax/searchAvailability.do\n",
      ">> Parameters\n",
      "fareBasisCodeOW: , orderByOW: , origin1:BKK , destination:ICN , origin:BKK , destination1:ICN , destination2:BKK , fareBasisCodeRT: , onwardDateStr:20170828 , orderByRT: , today:20170811 , arrivCntryCode: , searchType:byDate , domesticYn:N , paxTypeCountStr:1,0,0 , origin2:ICN , promotionCode: , travelType:OW , returnDateStr:20170828 , \n"
     ]
    },
    {
     "name": "stderr",
     "output_type": "stream",
     "text": [
      "2017-08-11 08:45:54,633 root     DEBUG    Crawling twayair homepage schedule site\n"
     ]
    },
    {
     "name": "stdout",
     "output_type": "stream",
     "text": [
      "End Session crawling\n",
      "Start Session crawling\n",
      "make session :  https://www.twayair.com/booking/availabilityList.do\n",
      "crawling :  https://www.twayair.com/booking/ajax/searchAvailability.do\n",
      ">> Parameters\n",
      "fareBasisCodeOW: , orderByOW: , origin1:BKK , destination:ICN , origin:BKK , destination1:ICN , destination2:BKK , fareBasisCodeRT: , onwardDateStr:20170829 , orderByRT: , today:20170811 , arrivCntryCode: , searchType:byDate , domesticYn:N , paxTypeCountStr:1,0,0 , origin2:ICN , promotionCode: , travelType:OW , returnDateStr:20170829 , \n"
     ]
    },
    {
     "name": "stderr",
     "output_type": "stream",
     "text": [
      "2017-08-11 08:45:57,113 root     DEBUG    Crawling twayair homepage schedule site\n"
     ]
    },
    {
     "name": "stdout",
     "output_type": "stream",
     "text": [
      "End Session crawling\n",
      "Start Session crawling\n",
      "make session :  https://www.twayair.com/booking/availabilityList.do\n",
      "crawling :  https://www.twayair.com/booking/ajax/searchAvailability.do\n",
      ">> Parameters\n",
      "fareBasisCodeOW: , orderByOW: , origin1:BKK , destination:ICN , origin:BKK , destination1:ICN , destination2:BKK , fareBasisCodeRT: , onwardDateStr:20170830 , orderByRT: , today:20170811 , arrivCntryCode: , searchType:byDate , domesticYn:N , paxTypeCountStr:1,0,0 , origin2:ICN , promotionCode: , travelType:OW , returnDateStr:20170830 , \n"
     ]
    },
    {
     "name": "stderr",
     "output_type": "stream",
     "text": [
      "2017-08-11 08:46:00,427 root     DEBUG    Crawling twayair homepage schedule site\n"
     ]
    },
    {
     "name": "stdout",
     "output_type": "stream",
     "text": [
      "End Session crawling\n",
      "Start Session crawling\n",
      "make session :  https://www.twayair.com/booking/availabilityList.do\n",
      "crawling :  https://www.twayair.com/booking/ajax/searchAvailability.do\n",
      ">> Parameters\n",
      "fareBasisCodeOW: , orderByOW: , origin1:BKK , destination:ICN , origin:BKK , destination1:ICN , destination2:BKK , fareBasisCodeRT: , onwardDateStr:20170831 , orderByRT: , today:20170811 , arrivCntryCode: , searchType:byDate , domesticYn:N , paxTypeCountStr:1,0,0 , origin2:ICN , promotionCode: , travelType:OW , returnDateStr:20170831 , \n"
     ]
    },
    {
     "name": "stderr",
     "output_type": "stream",
     "text": [
      "2017-08-11 08:46:03,026 root     DEBUG    Crawling twayair homepage schedule site\n"
     ]
    },
    {
     "name": "stdout",
     "output_type": "stream",
     "text": [
      "End Session crawling\n",
      "Start Session crawling\n",
      "make session :  https://www.twayair.com/booking/availabilityList.do\n",
      "crawling :  https://www.twayair.com/booking/ajax/searchAvailability.do\n",
      ">> Parameters\n",
      "fareBasisCodeOW: , orderByOW: , origin1:BKK , destination:ICN , origin:BKK , destination1:ICN , destination2:BKK , fareBasisCodeRT: , onwardDateStr:20170901 , orderByRT: , today:20170811 , arrivCntryCode: , searchType:byDate , domesticYn:N , paxTypeCountStr:1,0,0 , origin2:ICN , promotionCode: , travelType:OW , returnDateStr:20170901 , \n"
     ]
    },
    {
     "name": "stderr",
     "output_type": "stream",
     "text": [
      "2017-08-11 08:46:05,596 root     INFO     end batch job :: craw_by_route_site :: elapsed -0:00:54.302106 :: Total crawl:21 files saved.\n",
      "2017-08-11 08:46:05,599 root     INFO     start batch job :: craw_by_route_site[BKK,ICN,7C,['20170812', '20170813', '20170814', '20170815', '20170816', '20170817', '20170818', '20170819', '20170820', '20170821', '20170822', '20170823', '20170824', '20170825', '20170826', '20170827', '20170828', '20170829', '20170830', '20170831', '20170901'],7C]\n",
      "2017-08-11 08:46:05,601 root     DEBUG    1 :: 7C :: crawling_7C_int :: True\n",
      "2017-08-11 08:46:05,604 root     INFO     <function crawling_7C_int at 0x0000000007C78A60> :: True\n",
      "2017-08-11 08:46:05,609 root     DEBUG    Crawling jejuair homepage schedule site\n"
     ]
    },
    {
     "name": "stdout",
     "output_type": "stream",
     "text": [
      "End Session crawling\n",
      "Start Session crawling\n",
      "make session :  https://www.jejuair.net/jejuair/com/jeju/ibe/availInit.do\n",
      "crawling :  https://www.jejuair.net/jejuair/com/jeju/ibe/searchAvail.do\n",
      ">> Parameters\n",
      "SegType:DEP , Language:KR , SystemType:IBE , ArrStn:ICN , ChildPaxCnt:0 , InfantPaxCnt:0 , RouteType:I , DepStn:BKK , DepDate:20170812 , Index:1 , AdultPaxCnt:1 , TripType:OW , \n"
     ]
    },
    {
     "name": "stderr",
     "output_type": "stream",
     "text": [
      "2017-08-11 08:46:06,812 root     DEBUG    Crawling jejuair homepage schedule site\n"
     ]
    },
    {
     "name": "stdout",
     "output_type": "stream",
     "text": [
      "End Session crawling\n",
      "Start Session crawling\n",
      "make session :  https://www.jejuair.net/jejuair/com/jeju/ibe/availInit.do\n",
      "crawling :  https://www.jejuair.net/jejuair/com/jeju/ibe/searchAvail.do\n",
      ">> Parameters\n",
      "SegType:DEP , Language:KR , SystemType:IBE , ArrStn:ICN , ChildPaxCnt:0 , InfantPaxCnt:0 , RouteType:I , DepStn:BKK , DepDate:20170813 , Index:1 , AdultPaxCnt:1 , TripType:OW , \n"
     ]
    },
    {
     "name": "stderr",
     "output_type": "stream",
     "text": [
      "2017-08-11 08:46:08,051 root     DEBUG    Crawling jejuair homepage schedule site\n"
     ]
    },
    {
     "name": "stdout",
     "output_type": "stream",
     "text": [
      "End Session crawling\n",
      "Start Session crawling\n",
      "make session :  https://www.jejuair.net/jejuair/com/jeju/ibe/availInit.do\n",
      "crawling :  https://www.jejuair.net/jejuair/com/jeju/ibe/searchAvail.do\n",
      ">> Parameters\n",
      "SegType:DEP , Language:KR , SystemType:IBE , ArrStn:ICN , ChildPaxCnt:0 , InfantPaxCnt:0 , RouteType:I , DepStn:BKK , DepDate:20170814 , Index:1 , AdultPaxCnt:1 , TripType:OW , \n"
     ]
    },
    {
     "name": "stderr",
     "output_type": "stream",
     "text": [
      "2017-08-11 08:46:09,275 root     DEBUG    Crawling jejuair homepage schedule site\n"
     ]
    },
    {
     "name": "stdout",
     "output_type": "stream",
     "text": [
      "End Session crawling\n",
      "Start Session crawling\n",
      "make session :  https://www.jejuair.net/jejuair/com/jeju/ibe/availInit.do\n",
      "crawling :  https://www.jejuair.net/jejuair/com/jeju/ibe/searchAvail.do\n",
      ">> Parameters\n",
      "SegType:DEP , Language:KR , SystemType:IBE , ArrStn:ICN , ChildPaxCnt:0 , InfantPaxCnt:0 , RouteType:I , DepStn:BKK , DepDate:20170815 , Index:1 , AdultPaxCnt:1 , TripType:OW , \n"
     ]
    },
    {
     "name": "stderr",
     "output_type": "stream",
     "text": [
      "2017-08-11 08:46:10,496 root     DEBUG    Crawling jejuair homepage schedule site\n"
     ]
    },
    {
     "name": "stdout",
     "output_type": "stream",
     "text": [
      "End Session crawling\n",
      "Start Session crawling\n",
      "make session :  https://www.jejuair.net/jejuair/com/jeju/ibe/availInit.do\n",
      "crawling :  https://www.jejuair.net/jejuair/com/jeju/ibe/searchAvail.do\n",
      ">> Parameters\n",
      "SegType:DEP , Language:KR , SystemType:IBE , ArrStn:ICN , ChildPaxCnt:0 , InfantPaxCnt:0 , RouteType:I , DepStn:BKK , DepDate:20170816 , Index:1 , AdultPaxCnt:1 , TripType:OW , \n"
     ]
    },
    {
     "name": "stderr",
     "output_type": "stream",
     "text": [
      "2017-08-11 08:46:11,717 root     DEBUG    Crawling jejuair homepage schedule site\n"
     ]
    },
    {
     "name": "stdout",
     "output_type": "stream",
     "text": [
      "End Session crawling\n",
      "Start Session crawling\n",
      "make session :  https://www.jejuair.net/jejuair/com/jeju/ibe/availInit.do\n",
      "crawling :  https://www.jejuair.net/jejuair/com/jeju/ibe/searchAvail.do\n",
      ">> Parameters\n",
      "SegType:DEP , Language:KR , SystemType:IBE , ArrStn:ICN , ChildPaxCnt:0 , InfantPaxCnt:0 , RouteType:I , DepStn:BKK , DepDate:20170817 , Index:1 , AdultPaxCnt:1 , TripType:OW , \n"
     ]
    },
    {
     "name": "stderr",
     "output_type": "stream",
     "text": [
      "2017-08-11 08:46:12,936 root     DEBUG    Crawling jejuair homepage schedule site\n"
     ]
    },
    {
     "name": "stdout",
     "output_type": "stream",
     "text": [
      "End Session crawling\n",
      "Start Session crawling\n",
      "make session :  https://www.jejuair.net/jejuair/com/jeju/ibe/availInit.do\n",
      "crawling :  https://www.jejuair.net/jejuair/com/jeju/ibe/searchAvail.do\n",
      ">> Parameters\n",
      "SegType:DEP , Language:KR , SystemType:IBE , ArrStn:ICN , ChildPaxCnt:0 , InfantPaxCnt:0 , RouteType:I , DepStn:BKK , DepDate:20170818 , Index:1 , AdultPaxCnt:1 , TripType:OW , \n"
     ]
    },
    {
     "name": "stderr",
     "output_type": "stream",
     "text": [
      "2017-08-11 08:46:14,169 root     DEBUG    Crawling jejuair homepage schedule site\n"
     ]
    },
    {
     "name": "stdout",
     "output_type": "stream",
     "text": [
      "End Session crawling\n",
      "Start Session crawling\n",
      "make session :  https://www.jejuair.net/jejuair/com/jeju/ibe/availInit.do\n",
      "crawling :  https://www.jejuair.net/jejuair/com/jeju/ibe/searchAvail.do\n",
      ">> Parameters\n",
      "SegType:DEP , Language:KR , SystemType:IBE , ArrStn:ICN , ChildPaxCnt:0 , InfantPaxCnt:0 , RouteType:I , DepStn:BKK , DepDate:20170819 , Index:1 , AdultPaxCnt:1 , TripType:OW , \n"
     ]
    },
    {
     "name": "stderr",
     "output_type": "stream",
     "text": [
      "2017-08-11 08:46:15,403 root     DEBUG    Crawling jejuair homepage schedule site\n"
     ]
    },
    {
     "name": "stdout",
     "output_type": "stream",
     "text": [
      "End Session crawling\n",
      "Start Session crawling\n",
      "make session :  https://www.jejuair.net/jejuair/com/jeju/ibe/availInit.do\n",
      "crawling :  https://www.jejuair.net/jejuair/com/jeju/ibe/searchAvail.do\n",
      ">> Parameters\n",
      "SegType:DEP , Language:KR , SystemType:IBE , ArrStn:ICN , ChildPaxCnt:0 , InfantPaxCnt:0 , RouteType:I , DepStn:BKK , DepDate:20170820 , Index:1 , AdultPaxCnt:1 , TripType:OW , \n"
     ]
    },
    {
     "name": "stderr",
     "output_type": "stream",
     "text": [
      "2017-08-11 08:46:16,621 root     DEBUG    Crawling jejuair homepage schedule site\n"
     ]
    },
    {
     "name": "stdout",
     "output_type": "stream",
     "text": [
      "End Session crawling\n",
      "Start Session crawling\n",
      "make session :  https://www.jejuair.net/jejuair/com/jeju/ibe/availInit.do\n",
      "crawling :  https://www.jejuair.net/jejuair/com/jeju/ibe/searchAvail.do\n",
      ">> Parameters\n",
      "SegType:DEP , Language:KR , SystemType:IBE , ArrStn:ICN , ChildPaxCnt:0 , InfantPaxCnt:0 , RouteType:I , DepStn:BKK , DepDate:20170821 , Index:1 , AdultPaxCnt:1 , TripType:OW , \n"
     ]
    },
    {
     "name": "stderr",
     "output_type": "stream",
     "text": [
      "2017-08-11 08:46:17,859 root     DEBUG    Crawling jejuair homepage schedule site\n"
     ]
    },
    {
     "name": "stdout",
     "output_type": "stream",
     "text": [
      "End Session crawling\n",
      "Start Session crawling\n",
      "make session :  https://www.jejuair.net/jejuair/com/jeju/ibe/availInit.do\n",
      "crawling :  https://www.jejuair.net/jejuair/com/jeju/ibe/searchAvail.do\n",
      ">> Parameters\n",
      "SegType:DEP , Language:KR , SystemType:IBE , ArrStn:ICN , ChildPaxCnt:0 , InfantPaxCnt:0 , RouteType:I , DepStn:BKK , DepDate:20170822 , Index:1 , AdultPaxCnt:1 , TripType:OW , \n"
     ]
    },
    {
     "name": "stderr",
     "output_type": "stream",
     "text": [
      "2017-08-11 08:46:19,084 root     DEBUG    Crawling jejuair homepage schedule site\n"
     ]
    },
    {
     "name": "stdout",
     "output_type": "stream",
     "text": [
      "End Session crawling\n",
      "Start Session crawling\n",
      "make session :  https://www.jejuair.net/jejuair/com/jeju/ibe/availInit.do\n",
      "crawling :  https://www.jejuair.net/jejuair/com/jeju/ibe/searchAvail.do\n",
      ">> Parameters\n",
      "SegType:DEP , Language:KR , SystemType:IBE , ArrStn:ICN , ChildPaxCnt:0 , InfantPaxCnt:0 , RouteType:I , DepStn:BKK , DepDate:20170823 , Index:1 , AdultPaxCnt:1 , TripType:OW , \n"
     ]
    },
    {
     "name": "stderr",
     "output_type": "stream",
     "text": [
      "2017-08-11 08:46:20,311 root     DEBUG    Crawling jejuair homepage schedule site\n"
     ]
    },
    {
     "name": "stdout",
     "output_type": "stream",
     "text": [
      "End Session crawling\n",
      "Start Session crawling\n",
      "make session :  https://www.jejuair.net/jejuair/com/jeju/ibe/availInit.do\n",
      "crawling :  https://www.jejuair.net/jejuair/com/jeju/ibe/searchAvail.do\n",
      ">> Parameters\n",
      "SegType:DEP , Language:KR , SystemType:IBE , ArrStn:ICN , ChildPaxCnt:0 , InfantPaxCnt:0 , RouteType:I , DepStn:BKK , DepDate:20170824 , Index:1 , AdultPaxCnt:1 , TripType:OW , \n"
     ]
    },
    {
     "name": "stderr",
     "output_type": "stream",
     "text": [
      "2017-08-11 08:46:21,538 root     DEBUG    Crawling jejuair homepage schedule site\n"
     ]
    },
    {
     "name": "stdout",
     "output_type": "stream",
     "text": [
      "End Session crawling\n",
      "Start Session crawling\n",
      "make session :  https://www.jejuair.net/jejuair/com/jeju/ibe/availInit.do\n",
      "crawling :  https://www.jejuair.net/jejuair/com/jeju/ibe/searchAvail.do\n",
      ">> Parameters\n",
      "SegType:DEP , Language:KR , SystemType:IBE , ArrStn:ICN , ChildPaxCnt:0 , InfantPaxCnt:0 , RouteType:I , DepStn:BKK , DepDate:20170825 , Index:1 , AdultPaxCnt:1 , TripType:OW , \n"
     ]
    },
    {
     "name": "stderr",
     "output_type": "stream",
     "text": [
      "2017-08-11 08:46:22,790 root     DEBUG    Crawling jejuair homepage schedule site\n"
     ]
    },
    {
     "name": "stdout",
     "output_type": "stream",
     "text": [
      "End Session crawling\n",
      "Start Session crawling\n",
      "make session :  https://www.jejuair.net/jejuair/com/jeju/ibe/availInit.do\n",
      "crawling :  https://www.jejuair.net/jejuair/com/jeju/ibe/searchAvail.do\n",
      ">> Parameters\n",
      "SegType:DEP , Language:KR , SystemType:IBE , ArrStn:ICN , ChildPaxCnt:0 , InfantPaxCnt:0 , RouteType:I , DepStn:BKK , DepDate:20170826 , Index:1 , AdultPaxCnt:1 , TripType:OW , \n"
     ]
    },
    {
     "name": "stderr",
     "output_type": "stream",
     "text": [
      "2017-08-11 08:46:24,003 root     DEBUG    Crawling jejuair homepage schedule site\n"
     ]
    },
    {
     "name": "stdout",
     "output_type": "stream",
     "text": [
      "End Session crawling\n",
      "Start Session crawling\n",
      "make session :  https://www.jejuair.net/jejuair/com/jeju/ibe/availInit.do\n",
      "crawling :  https://www.jejuair.net/jejuair/com/jeju/ibe/searchAvail.do\n",
      ">> Parameters\n",
      "SegType:DEP , Language:KR , SystemType:IBE , ArrStn:ICN , ChildPaxCnt:0 , InfantPaxCnt:0 , RouteType:I , DepStn:BKK , DepDate:20170827 , Index:1 , AdultPaxCnt:1 , TripType:OW , \n"
     ]
    },
    {
     "name": "stderr",
     "output_type": "stream",
     "text": [
      "2017-08-11 08:46:25,234 root     DEBUG    Crawling jejuair homepage schedule site\n"
     ]
    },
    {
     "name": "stdout",
     "output_type": "stream",
     "text": [
      "End Session crawling\n",
      "Start Session crawling\n",
      "make session :  https://www.jejuair.net/jejuair/com/jeju/ibe/availInit.do\n",
      "crawling :  https://www.jejuair.net/jejuair/com/jeju/ibe/searchAvail.do\n",
      ">> Parameters\n",
      "SegType:DEP , Language:KR , SystemType:IBE , ArrStn:ICN , ChildPaxCnt:0 , InfantPaxCnt:0 , RouteType:I , DepStn:BKK , DepDate:20170828 , Index:1 , AdultPaxCnt:1 , TripType:OW , \n"
     ]
    },
    {
     "name": "stderr",
     "output_type": "stream",
     "text": [
      "2017-08-11 08:46:26,455 root     DEBUG    Crawling jejuair homepage schedule site\n"
     ]
    },
    {
     "name": "stdout",
     "output_type": "stream",
     "text": [
      "End Session crawling\n",
      "Start Session crawling\n",
      "make session :  https://www.jejuair.net/jejuair/com/jeju/ibe/availInit.do\n",
      "crawling :  https://www.jejuair.net/jejuair/com/jeju/ibe/searchAvail.do\n",
      ">> Parameters\n",
      "SegType:DEP , Language:KR , SystemType:IBE , ArrStn:ICN , ChildPaxCnt:0 , InfantPaxCnt:0 , RouteType:I , DepStn:BKK , DepDate:20170829 , Index:1 , AdultPaxCnt:1 , TripType:OW , \n"
     ]
    },
    {
     "name": "stderr",
     "output_type": "stream",
     "text": [
      "2017-08-11 08:46:27,671 root     DEBUG    Crawling jejuair homepage schedule site\n"
     ]
    },
    {
     "name": "stdout",
     "output_type": "stream",
     "text": [
      "End Session crawling\n",
      "Start Session crawling\n",
      "make session :  https://www.jejuair.net/jejuair/com/jeju/ibe/availInit.do\n",
      "crawling :  https://www.jejuair.net/jejuair/com/jeju/ibe/searchAvail.do\n",
      ">> Parameters\n",
      "SegType:DEP , Language:KR , SystemType:IBE , ArrStn:ICN , ChildPaxCnt:0 , InfantPaxCnt:0 , RouteType:I , DepStn:BKK , DepDate:20170830 , Index:1 , AdultPaxCnt:1 , TripType:OW , \n"
     ]
    },
    {
     "name": "stderr",
     "output_type": "stream",
     "text": [
      "2017-08-11 08:46:28,935 root     DEBUG    Crawling jejuair homepage schedule site\n"
     ]
    },
    {
     "name": "stdout",
     "output_type": "stream",
     "text": [
      "End Session crawling\n",
      "Start Session crawling\n",
      "make session :  https://www.jejuair.net/jejuair/com/jeju/ibe/availInit.do\n",
      "crawling :  https://www.jejuair.net/jejuair/com/jeju/ibe/searchAvail.do\n",
      ">> Parameters\n",
      "SegType:DEP , Language:KR , SystemType:IBE , ArrStn:ICN , ChildPaxCnt:0 , InfantPaxCnt:0 , RouteType:I , DepStn:BKK , DepDate:20170831 , Index:1 , AdultPaxCnt:1 , TripType:OW , \n"
     ]
    },
    {
     "name": "stderr",
     "output_type": "stream",
     "text": [
      "2017-08-11 08:46:30,138 root     DEBUG    Crawling jejuair homepage schedule site\n"
     ]
    },
    {
     "name": "stdout",
     "output_type": "stream",
     "text": [
      "End Session crawling\n",
      "Start Session crawling\n",
      "make session :  https://www.jejuair.net/jejuair/com/jeju/ibe/availInit.do\n",
      "crawling :  https://www.jejuair.net/jejuair/com/jeju/ibe/searchAvail.do\n",
      ">> Parameters\n",
      "SegType:DEP , Language:KR , SystemType:IBE , ArrStn:ICN , ChildPaxCnt:0 , InfantPaxCnt:0 , RouteType:I , DepStn:BKK , DepDate:20170901 , Index:1 , AdultPaxCnt:1 , TripType:OW , \n"
     ]
    },
    {
     "name": "stderr",
     "output_type": "stream",
     "text": [
      "2017-08-11 08:46:31,335 root     INFO     end batch job :: craw_by_route_site :: elapsed -0:00:25.734472 :: Total crawl:21 files saved.\n",
      "2017-08-11 08:46:31,338 root     INFO     start batch job :: craw_by_route_site[BKK/SEA,ICN/KOR,LJ,['20170812', '20170813', '20170814', '20170815', '20170816', '20170817', '20170818', '20170819', '20170820', '20170821', '20170822', '20170823', '20170824', '20170825', '20170826', '20170827', '20170828', '20170829', '20170830', '20170831', '20170901'],LJ]\n",
      "2017-08-11 08:46:31,341 root     DEBUG    1 :: LJ :: crawling_LJ_int :: True\n",
      "2017-08-11 08:46:31,343 root     INFO     <function crawling_LJ_int at 0x0000000007C78BF8> :: True\n"
     ]
    },
    {
     "name": "stdout",
     "output_type": "stream",
     "text": [
      "End Session crawling\n",
      "Crawling jinair mobile page schedule site\n",
      "Param :  BKK/SEA ICN/KOR 20170812\n",
      "End crawling\n",
      "Crawling jinair mobile page schedule site\n",
      "Param :  BKK/SEA ICN/KOR 20170813\n",
      "End crawling\n",
      "Crawling jinair mobile page schedule site\n",
      "Param :  BKK/SEA ICN/KOR 20170814\n",
      "End crawling\n",
      "Crawling jinair mobile page schedule site\n",
      "Param :  BKK/SEA ICN/KOR 20170815\n",
      "End crawling\n",
      "Crawling jinair mobile page schedule site\n",
      "Param :  BKK/SEA ICN/KOR 20170816\n",
      "End crawling\n",
      "Crawling jinair mobile page schedule site\n",
      "Param :  BKK/SEA ICN/KOR 20170817\n",
      "End crawling\n",
      "Crawling jinair mobile page schedule site\n",
      "Param :  BKK/SEA ICN/KOR 20170818\n",
      "End crawling\n",
      "Crawling jinair mobile page schedule site\n",
      "Param :  BKK/SEA ICN/KOR 20170819\n",
      "End crawling\n",
      "Crawling jinair mobile page schedule site\n",
      "Param :  BKK/SEA ICN/KOR 20170820\n",
      "End crawling\n",
      "Crawling jinair mobile page schedule site\n",
      "Param :  BKK/SEA ICN/KOR 20170821\n",
      "End crawling\n",
      "Crawling jinair mobile page schedule site\n",
      "Param :  BKK/SEA ICN/KOR 20170822\n",
      "End crawling\n",
      "Crawling jinair mobile page schedule site\n",
      "Param :  BKK/SEA ICN/KOR 20170823\n",
      "End crawling\n",
      "Crawling jinair mobile page schedule site\n",
      "Param :  BKK/SEA ICN/KOR 20170824\n",
      "End crawling\n",
      "Crawling jinair mobile page schedule site\n",
      "Param :  BKK/SEA ICN/KOR 20170825\n",
      "End crawling\n",
      "Crawling jinair mobile page schedule site\n",
      "Param :  BKK/SEA ICN/KOR 20170826\n",
      "End crawling\n",
      "Crawling jinair mobile page schedule site\n",
      "Param :  BKK/SEA ICN/KOR 20170827\n",
      "End crawling\n",
      "Crawling jinair mobile page schedule site\n",
      "Param :  BKK/SEA ICN/KOR 20170828\n",
      "End crawling\n",
      "Crawling jinair mobile page schedule site\n",
      "Param :  BKK/SEA ICN/KOR 20170829\n",
      "End crawling\n",
      "Crawling jinair mobile page schedule site\n",
      "Param :  BKK/SEA ICN/KOR 20170830\n",
      "End crawling\n",
      "Crawling jinair mobile page schedule site\n",
      "Param :  BKK/SEA ICN/KOR 20170831\n",
      "End crawling\n",
      "Crawling jinair mobile page schedule site\n",
      "Param :  BKK/SEA ICN/KOR 20170901\n"
     ]
    },
    {
     "name": "stderr",
     "output_type": "stream",
     "text": [
      "2017-08-11 08:47:16,156 root     INFO     end batch job :: craw_by_route_site :: elapsed -0:00:44.815564 :: Total crawl:21 files saved.\n",
      "2017-08-11 08:47:16,161 root     INFO     start batch job :: craw_by_route_site[FUK,ICN,ZE,['20170812', '20170813', '20170814', '20170815', '20170816', '20170817', '20170818', '20170819', '20170820', '20170821', '20170822', '20170823', '20170824', '20170825', '20170826', '20170827', '20170828', '20170829', '20170830', '20170831', '20170901'],ZE]\n",
      "2017-08-11 08:47:16,166 root     DEBUG    1 :: ZE :: crawling_ZE_dom_int :: True\n",
      "2017-08-11 08:47:16,170 root     INFO     <function crawling_ZE_dom_int at 0x0000000007C78F28> :: True\n",
      "2017-08-11 08:47:16,172 root     DEBUG    Crawling eastarjet homepage schedule site\n"
     ]
    },
    {
     "name": "stdout",
     "output_type": "stream",
     "text": [
      "End crawling\n",
      "Start Json Payload crawling :  https://www.eastarjet.com/json/dataService\n",
      ">> Parameters\n",
      "params:[{'panelId': None, 'javaClass': 'com.jein.framework.connectivity.parameter.RequestParameter', 'sourceExtension': None, 'inParameters': {'list': [{'data': {'list': [{'javaClass': 'java.util.Map', 'map': {'flightSearch': '{\"viewType\":\"\",\"fly_type\":\"2\",\"person1\":\"1\",\"person2\":\"0\",\"person3\":\"0\",    \"residentCountry\":\"KR\",\"currency\":\"\",\"promotion_cd\":\"\",    \"flySection\":[{\"departure_cd\":\"FUK\",\"arrival_cd\":\"ICN\",\"departure_date_cd\":\"20170812\"}]}'}}], 'javaClass': 'java.util.List'}, 'ioType': 'IN', 'structureType': 'FIELD', 'javaClass': 'com.jein.framework.connectivity.parameter.InParameter', 'paramName': 'flightSearch'}], 'javaClass': 'java.util.List'}, 'DBTransaction': False, 'requestExecuteType': 'BIZ', 'requestUniqueCode': 'PGWBA00002', 'functionName': 'DTWBA00022', 'methodType': None, 'filterParameter': {'javaClass': 'java.util.Map', 'map': {}}, 'sourceName': None}] , method:DataService.service , id:2 , \n"
     ]
    },
    {
     "name": "stderr",
     "output_type": "stream",
     "text": [
      "2017-08-11 08:47:18,710 root     DEBUG    Crawling eastarjet homepage schedule site\n"
     ]
    },
    {
     "name": "stdout",
     "output_type": "stream",
     "text": [
      "End Json Payload crawling\n",
      "Start Json Payload crawling :  https://www.eastarjet.com/json/dataService\n",
      ">> Parameters\n",
      "params:[{'panelId': None, 'javaClass': 'com.jein.framework.connectivity.parameter.RequestParameter', 'sourceExtension': None, 'inParameters': {'list': [{'data': {'list': [{'javaClass': 'java.util.Map', 'map': {'flightSearch': '{\"viewType\":\"\",\"fly_type\":\"2\",\"person1\":\"1\",\"person2\":\"0\",\"person3\":\"0\",    \"residentCountry\":\"KR\",\"currency\":\"\",\"promotion_cd\":\"\",    \"flySection\":[{\"departure_cd\":\"FUK\",\"arrival_cd\":\"ICN\",\"departure_date_cd\":\"20170813\"}]}'}}], 'javaClass': 'java.util.List'}, 'ioType': 'IN', 'structureType': 'FIELD', 'javaClass': 'com.jein.framework.connectivity.parameter.InParameter', 'paramName': 'flightSearch'}], 'javaClass': 'java.util.List'}, 'DBTransaction': False, 'requestExecuteType': 'BIZ', 'requestUniqueCode': 'PGWBA00002', 'functionName': 'DTWBA00022', 'methodType': None, 'filterParameter': {'javaClass': 'java.util.Map', 'map': {}}, 'sourceName': None}] , method:DataService.service , id:2 , \n"
     ]
    },
    {
     "name": "stderr",
     "output_type": "stream",
     "text": [
      "2017-08-11 08:47:21,188 root     DEBUG    Crawling eastarjet homepage schedule site\n"
     ]
    },
    {
     "name": "stdout",
     "output_type": "stream",
     "text": [
      "End Json Payload crawling\n",
      "Start Json Payload crawling :  https://www.eastarjet.com/json/dataService\n",
      ">> Parameters\n",
      "params:[{'panelId': None, 'javaClass': 'com.jein.framework.connectivity.parameter.RequestParameter', 'sourceExtension': None, 'inParameters': {'list': [{'data': {'list': [{'javaClass': 'java.util.Map', 'map': {'flightSearch': '{\"viewType\":\"\",\"fly_type\":\"2\",\"person1\":\"1\",\"person2\":\"0\",\"person3\":\"0\",    \"residentCountry\":\"KR\",\"currency\":\"\",\"promotion_cd\":\"\",    \"flySection\":[{\"departure_cd\":\"FUK\",\"arrival_cd\":\"ICN\",\"departure_date_cd\":\"20170814\"}]}'}}], 'javaClass': 'java.util.List'}, 'ioType': 'IN', 'structureType': 'FIELD', 'javaClass': 'com.jein.framework.connectivity.parameter.InParameter', 'paramName': 'flightSearch'}], 'javaClass': 'java.util.List'}, 'DBTransaction': False, 'requestExecuteType': 'BIZ', 'requestUniqueCode': 'PGWBA00002', 'functionName': 'DTWBA00022', 'methodType': None, 'filterParameter': {'javaClass': 'java.util.Map', 'map': {}}, 'sourceName': None}] , method:DataService.service , id:2 , \n"
     ]
    },
    {
     "name": "stderr",
     "output_type": "stream",
     "text": [
      "2017-08-11 08:47:23,782 root     DEBUG    Crawling eastarjet homepage schedule site\n"
     ]
    },
    {
     "name": "stdout",
     "output_type": "stream",
     "text": [
      "End Json Payload crawling\n",
      "Start Json Payload crawling :  https://www.eastarjet.com/json/dataService\n",
      ">> Parameters\n",
      "params:[{'panelId': None, 'javaClass': 'com.jein.framework.connectivity.parameter.RequestParameter', 'sourceExtension': None, 'inParameters': {'list': [{'data': {'list': [{'javaClass': 'java.util.Map', 'map': {'flightSearch': '{\"viewType\":\"\",\"fly_type\":\"2\",\"person1\":\"1\",\"person2\":\"0\",\"person3\":\"0\",    \"residentCountry\":\"KR\",\"currency\":\"\",\"promotion_cd\":\"\",    \"flySection\":[{\"departure_cd\":\"FUK\",\"arrival_cd\":\"ICN\",\"departure_date_cd\":\"20170815\"}]}'}}], 'javaClass': 'java.util.List'}, 'ioType': 'IN', 'structureType': 'FIELD', 'javaClass': 'com.jein.framework.connectivity.parameter.InParameter', 'paramName': 'flightSearch'}], 'javaClass': 'java.util.List'}, 'DBTransaction': False, 'requestExecuteType': 'BIZ', 'requestUniqueCode': 'PGWBA00002', 'functionName': 'DTWBA00022', 'methodType': None, 'filterParameter': {'javaClass': 'java.util.Map', 'map': {}}, 'sourceName': None}] , method:DataService.service , id:2 , \n"
     ]
    },
    {
     "name": "stderr",
     "output_type": "stream",
     "text": [
      "2017-08-11 08:47:26,164 root     DEBUG    Crawling eastarjet homepage schedule site\n"
     ]
    },
    {
     "name": "stdout",
     "output_type": "stream",
     "text": [
      "End Json Payload crawling\n",
      "Start Json Payload crawling :  https://www.eastarjet.com/json/dataService\n",
      ">> Parameters\n",
      "params:[{'panelId': None, 'javaClass': 'com.jein.framework.connectivity.parameter.RequestParameter', 'sourceExtension': None, 'inParameters': {'list': [{'data': {'list': [{'javaClass': 'java.util.Map', 'map': {'flightSearch': '{\"viewType\":\"\",\"fly_type\":\"2\",\"person1\":\"1\",\"person2\":\"0\",\"person3\":\"0\",    \"residentCountry\":\"KR\",\"currency\":\"\",\"promotion_cd\":\"\",    \"flySection\":[{\"departure_cd\":\"FUK\",\"arrival_cd\":\"ICN\",\"departure_date_cd\":\"20170816\"}]}'}}], 'javaClass': 'java.util.List'}, 'ioType': 'IN', 'structureType': 'FIELD', 'javaClass': 'com.jein.framework.connectivity.parameter.InParameter', 'paramName': 'flightSearch'}], 'javaClass': 'java.util.List'}, 'DBTransaction': False, 'requestExecuteType': 'BIZ', 'requestUniqueCode': 'PGWBA00002', 'functionName': 'DTWBA00022', 'methodType': None, 'filterParameter': {'javaClass': 'java.util.Map', 'map': {}}, 'sourceName': None}] , method:DataService.service , id:2 , \n"
     ]
    },
    {
     "name": "stderr",
     "output_type": "stream",
     "text": [
      "2017-08-11 08:47:28,578 root     DEBUG    Crawling eastarjet homepage schedule site\n"
     ]
    },
    {
     "name": "stdout",
     "output_type": "stream",
     "text": [
      "End Json Payload crawling\n",
      "Start Json Payload crawling :  https://www.eastarjet.com/json/dataService\n",
      ">> Parameters\n",
      "params:[{'panelId': None, 'javaClass': 'com.jein.framework.connectivity.parameter.RequestParameter', 'sourceExtension': None, 'inParameters': {'list': [{'data': {'list': [{'javaClass': 'java.util.Map', 'map': {'flightSearch': '{\"viewType\":\"\",\"fly_type\":\"2\",\"person1\":\"1\",\"person2\":\"0\",\"person3\":\"0\",    \"residentCountry\":\"KR\",\"currency\":\"\",\"promotion_cd\":\"\",    \"flySection\":[{\"departure_cd\":\"FUK\",\"arrival_cd\":\"ICN\",\"departure_date_cd\":\"20170817\"}]}'}}], 'javaClass': 'java.util.List'}, 'ioType': 'IN', 'structureType': 'FIELD', 'javaClass': 'com.jein.framework.connectivity.parameter.InParameter', 'paramName': 'flightSearch'}], 'javaClass': 'java.util.List'}, 'DBTransaction': False, 'requestExecuteType': 'BIZ', 'requestUniqueCode': 'PGWBA00002', 'functionName': 'DTWBA00022', 'methodType': None, 'filterParameter': {'javaClass': 'java.util.Map', 'map': {}}, 'sourceName': None}] , method:DataService.service , id:2 , \n"
     ]
    },
    {
     "name": "stderr",
     "output_type": "stream",
     "text": [
      "2017-08-11 08:47:30,992 root     DEBUG    Crawling eastarjet homepage schedule site\n"
     ]
    },
    {
     "name": "stdout",
     "output_type": "stream",
     "text": [
      "End Json Payload crawling\n",
      "Start Json Payload crawling :  https://www.eastarjet.com/json/dataService\n",
      ">> Parameters\n",
      "params:[{'panelId': None, 'javaClass': 'com.jein.framework.connectivity.parameter.RequestParameter', 'sourceExtension': None, 'inParameters': {'list': [{'data': {'list': [{'javaClass': 'java.util.Map', 'map': {'flightSearch': '{\"viewType\":\"\",\"fly_type\":\"2\",\"person1\":\"1\",\"person2\":\"0\",\"person3\":\"0\",    \"residentCountry\":\"KR\",\"currency\":\"\",\"promotion_cd\":\"\",    \"flySection\":[{\"departure_cd\":\"FUK\",\"arrival_cd\":\"ICN\",\"departure_date_cd\":\"20170818\"}]}'}}], 'javaClass': 'java.util.List'}, 'ioType': 'IN', 'structureType': 'FIELD', 'javaClass': 'com.jein.framework.connectivity.parameter.InParameter', 'paramName': 'flightSearch'}], 'javaClass': 'java.util.List'}, 'DBTransaction': False, 'requestExecuteType': 'BIZ', 'requestUniqueCode': 'PGWBA00002', 'functionName': 'DTWBA00022', 'methodType': None, 'filterParameter': {'javaClass': 'java.util.Map', 'map': {}}, 'sourceName': None}] , method:DataService.service , id:2 , \n"
     ]
    },
    {
     "name": "stderr",
     "output_type": "stream",
     "text": [
      "2017-08-11 08:47:33,410 root     DEBUG    Crawling eastarjet homepage schedule site\n"
     ]
    },
    {
     "name": "stdout",
     "output_type": "stream",
     "text": [
      "End Json Payload crawling\n",
      "Start Json Payload crawling :  https://www.eastarjet.com/json/dataService\n",
      ">> Parameters\n",
      "params:[{'panelId': None, 'javaClass': 'com.jein.framework.connectivity.parameter.RequestParameter', 'sourceExtension': None, 'inParameters': {'list': [{'data': {'list': [{'javaClass': 'java.util.Map', 'map': {'flightSearch': '{\"viewType\":\"\",\"fly_type\":\"2\",\"person1\":\"1\",\"person2\":\"0\",\"person3\":\"0\",    \"residentCountry\":\"KR\",\"currency\":\"\",\"promotion_cd\":\"\",    \"flySection\":[{\"departure_cd\":\"FUK\",\"arrival_cd\":\"ICN\",\"departure_date_cd\":\"20170819\"}]}'}}], 'javaClass': 'java.util.List'}, 'ioType': 'IN', 'structureType': 'FIELD', 'javaClass': 'com.jein.framework.connectivity.parameter.InParameter', 'paramName': 'flightSearch'}], 'javaClass': 'java.util.List'}, 'DBTransaction': False, 'requestExecuteType': 'BIZ', 'requestUniqueCode': 'PGWBA00002', 'functionName': 'DTWBA00022', 'methodType': None, 'filterParameter': {'javaClass': 'java.util.Map', 'map': {}}, 'sourceName': None}] , method:DataService.service , id:2 , \n"
     ]
    },
    {
     "name": "stderr",
     "output_type": "stream",
     "text": [
      "2017-08-11 08:47:35,798 root     DEBUG    Crawling eastarjet homepage schedule site\n"
     ]
    },
    {
     "name": "stdout",
     "output_type": "stream",
     "text": [
      "End Json Payload crawling\n",
      "Start Json Payload crawling :  https://www.eastarjet.com/json/dataService\n",
      ">> Parameters\n",
      "params:[{'panelId': None, 'javaClass': 'com.jein.framework.connectivity.parameter.RequestParameter', 'sourceExtension': None, 'inParameters': {'list': [{'data': {'list': [{'javaClass': 'java.util.Map', 'map': {'flightSearch': '{\"viewType\":\"\",\"fly_type\":\"2\",\"person1\":\"1\",\"person2\":\"0\",\"person3\":\"0\",    \"residentCountry\":\"KR\",\"currency\":\"\",\"promotion_cd\":\"\",    \"flySection\":[{\"departure_cd\":\"FUK\",\"arrival_cd\":\"ICN\",\"departure_date_cd\":\"20170820\"}]}'}}], 'javaClass': 'java.util.List'}, 'ioType': 'IN', 'structureType': 'FIELD', 'javaClass': 'com.jein.framework.connectivity.parameter.InParameter', 'paramName': 'flightSearch'}], 'javaClass': 'java.util.List'}, 'DBTransaction': False, 'requestExecuteType': 'BIZ', 'requestUniqueCode': 'PGWBA00002', 'functionName': 'DTWBA00022', 'methodType': None, 'filterParameter': {'javaClass': 'java.util.Map', 'map': {}}, 'sourceName': None}] , method:DataService.service , id:2 , \n"
     ]
    },
    {
     "name": "stderr",
     "output_type": "stream",
     "text": [
      "2017-08-11 08:47:38,271 root     DEBUG    Crawling eastarjet homepage schedule site\n"
     ]
    },
    {
     "name": "stdout",
     "output_type": "stream",
     "text": [
      "End Json Payload crawling\n",
      "Start Json Payload crawling :  https://www.eastarjet.com/json/dataService\n",
      ">> Parameters\n",
      "params:[{'panelId': None, 'javaClass': 'com.jein.framework.connectivity.parameter.RequestParameter', 'sourceExtension': None, 'inParameters': {'list': [{'data': {'list': [{'javaClass': 'java.util.Map', 'map': {'flightSearch': '{\"viewType\":\"\",\"fly_type\":\"2\",\"person1\":\"1\",\"person2\":\"0\",\"person3\":\"0\",    \"residentCountry\":\"KR\",\"currency\":\"\",\"promotion_cd\":\"\",    \"flySection\":[{\"departure_cd\":\"FUK\",\"arrival_cd\":\"ICN\",\"departure_date_cd\":\"20170821\"}]}'}}], 'javaClass': 'java.util.List'}, 'ioType': 'IN', 'structureType': 'FIELD', 'javaClass': 'com.jein.framework.connectivity.parameter.InParameter', 'paramName': 'flightSearch'}], 'javaClass': 'java.util.List'}, 'DBTransaction': False, 'requestExecuteType': 'BIZ', 'requestUniqueCode': 'PGWBA00002', 'functionName': 'DTWBA00022', 'methodType': None, 'filterParameter': {'javaClass': 'java.util.Map', 'map': {}}, 'sourceName': None}] , method:DataService.service , id:2 , \n"
     ]
    },
    {
     "name": "stderr",
     "output_type": "stream",
     "text": [
      "2017-08-11 08:47:40,728 root     DEBUG    Crawling eastarjet homepage schedule site\n"
     ]
    },
    {
     "name": "stdout",
     "output_type": "stream",
     "text": [
      "End Json Payload crawling\n",
      "Start Json Payload crawling :  https://www.eastarjet.com/json/dataService\n",
      ">> Parameters\n",
      "params:[{'panelId': None, 'javaClass': 'com.jein.framework.connectivity.parameter.RequestParameter', 'sourceExtension': None, 'inParameters': {'list': [{'data': {'list': [{'javaClass': 'java.util.Map', 'map': {'flightSearch': '{\"viewType\":\"\",\"fly_type\":\"2\",\"person1\":\"1\",\"person2\":\"0\",\"person3\":\"0\",    \"residentCountry\":\"KR\",\"currency\":\"\",\"promotion_cd\":\"\",    \"flySection\":[{\"departure_cd\":\"FUK\",\"arrival_cd\":\"ICN\",\"departure_date_cd\":\"20170822\"}]}'}}], 'javaClass': 'java.util.List'}, 'ioType': 'IN', 'structureType': 'FIELD', 'javaClass': 'com.jein.framework.connectivity.parameter.InParameter', 'paramName': 'flightSearch'}], 'javaClass': 'java.util.List'}, 'DBTransaction': False, 'requestExecuteType': 'BIZ', 'requestUniqueCode': 'PGWBA00002', 'functionName': 'DTWBA00022', 'methodType': None, 'filterParameter': {'javaClass': 'java.util.Map', 'map': {}}, 'sourceName': None}] , method:DataService.service , id:2 , \n"
     ]
    },
    {
     "name": "stderr",
     "output_type": "stream",
     "text": [
      "2017-08-11 08:47:43,101 root     DEBUG    Crawling eastarjet homepage schedule site\n"
     ]
    },
    {
     "name": "stdout",
     "output_type": "stream",
     "text": [
      "End Json Payload crawling\n",
      "Start Json Payload crawling :  https://www.eastarjet.com/json/dataService\n",
      ">> Parameters\n",
      "params:[{'panelId': None, 'javaClass': 'com.jein.framework.connectivity.parameter.RequestParameter', 'sourceExtension': None, 'inParameters': {'list': [{'data': {'list': [{'javaClass': 'java.util.Map', 'map': {'flightSearch': '{\"viewType\":\"\",\"fly_type\":\"2\",\"person1\":\"1\",\"person2\":\"0\",\"person3\":\"0\",    \"residentCountry\":\"KR\",\"currency\":\"\",\"promotion_cd\":\"\",    \"flySection\":[{\"departure_cd\":\"FUK\",\"arrival_cd\":\"ICN\",\"departure_date_cd\":\"20170823\"}]}'}}], 'javaClass': 'java.util.List'}, 'ioType': 'IN', 'structureType': 'FIELD', 'javaClass': 'com.jein.framework.connectivity.parameter.InParameter', 'paramName': 'flightSearch'}], 'javaClass': 'java.util.List'}, 'DBTransaction': False, 'requestExecuteType': 'BIZ', 'requestUniqueCode': 'PGWBA00002', 'functionName': 'DTWBA00022', 'methodType': None, 'filterParameter': {'javaClass': 'java.util.Map', 'map': {}}, 'sourceName': None}] , method:DataService.service , id:2 , \n"
     ]
    },
    {
     "name": "stderr",
     "output_type": "stream",
     "text": [
      "2017-08-11 08:47:45,699 root     DEBUG    Crawling eastarjet homepage schedule site\n"
     ]
    },
    {
     "name": "stdout",
     "output_type": "stream",
     "text": [
      "End Json Payload crawling\n",
      "Start Json Payload crawling :  https://www.eastarjet.com/json/dataService\n",
      ">> Parameters\n",
      "params:[{'panelId': None, 'javaClass': 'com.jein.framework.connectivity.parameter.RequestParameter', 'sourceExtension': None, 'inParameters': {'list': [{'data': {'list': [{'javaClass': 'java.util.Map', 'map': {'flightSearch': '{\"viewType\":\"\",\"fly_type\":\"2\",\"person1\":\"1\",\"person2\":\"0\",\"person3\":\"0\",    \"residentCountry\":\"KR\",\"currency\":\"\",\"promotion_cd\":\"\",    \"flySection\":[{\"departure_cd\":\"FUK\",\"arrival_cd\":\"ICN\",\"departure_date_cd\":\"20170824\"}]}'}}], 'javaClass': 'java.util.List'}, 'ioType': 'IN', 'structureType': 'FIELD', 'javaClass': 'com.jein.framework.connectivity.parameter.InParameter', 'paramName': 'flightSearch'}], 'javaClass': 'java.util.List'}, 'DBTransaction': False, 'requestExecuteType': 'BIZ', 'requestUniqueCode': 'PGWBA00002', 'functionName': 'DTWBA00022', 'methodType': None, 'filterParameter': {'javaClass': 'java.util.Map', 'map': {}}, 'sourceName': None}] , method:DataService.service , id:2 , \n"
     ]
    },
    {
     "name": "stderr",
     "output_type": "stream",
     "text": [
      "2017-08-11 08:47:48,139 root     DEBUG    Crawling eastarjet homepage schedule site\n"
     ]
    },
    {
     "name": "stdout",
     "output_type": "stream",
     "text": [
      "End Json Payload crawling\n",
      "Start Json Payload crawling :  https://www.eastarjet.com/json/dataService\n",
      ">> Parameters\n",
      "params:[{'panelId': None, 'javaClass': 'com.jein.framework.connectivity.parameter.RequestParameter', 'sourceExtension': None, 'inParameters': {'list': [{'data': {'list': [{'javaClass': 'java.util.Map', 'map': {'flightSearch': '{\"viewType\":\"\",\"fly_type\":\"2\",\"person1\":\"1\",\"person2\":\"0\",\"person3\":\"0\",    \"residentCountry\":\"KR\",\"currency\":\"\",\"promotion_cd\":\"\",    \"flySection\":[{\"departure_cd\":\"FUK\",\"arrival_cd\":\"ICN\",\"departure_date_cd\":\"20170825\"}]}'}}], 'javaClass': 'java.util.List'}, 'ioType': 'IN', 'structureType': 'FIELD', 'javaClass': 'com.jein.framework.connectivity.parameter.InParameter', 'paramName': 'flightSearch'}], 'javaClass': 'java.util.List'}, 'DBTransaction': False, 'requestExecuteType': 'BIZ', 'requestUniqueCode': 'PGWBA00002', 'functionName': 'DTWBA00022', 'methodType': None, 'filterParameter': {'javaClass': 'java.util.Map', 'map': {}}, 'sourceName': None}] , method:DataService.service , id:2 , \n"
     ]
    },
    {
     "name": "stderr",
     "output_type": "stream",
     "text": [
      "2017-08-11 08:47:50,814 root     DEBUG    Crawling eastarjet homepage schedule site\n"
     ]
    },
    {
     "name": "stdout",
     "output_type": "stream",
     "text": [
      "End Json Payload crawling\n",
      "Start Json Payload crawling :  https://www.eastarjet.com/json/dataService\n",
      ">> Parameters\n",
      "params:[{'panelId': None, 'javaClass': 'com.jein.framework.connectivity.parameter.RequestParameter', 'sourceExtension': None, 'inParameters': {'list': [{'data': {'list': [{'javaClass': 'java.util.Map', 'map': {'flightSearch': '{\"viewType\":\"\",\"fly_type\":\"2\",\"person1\":\"1\",\"person2\":\"0\",\"person3\":\"0\",    \"residentCountry\":\"KR\",\"currency\":\"\",\"promotion_cd\":\"\",    \"flySection\":[{\"departure_cd\":\"FUK\",\"arrival_cd\":\"ICN\",\"departure_date_cd\":\"20170826\"}]}'}}], 'javaClass': 'java.util.List'}, 'ioType': 'IN', 'structureType': 'FIELD', 'javaClass': 'com.jein.framework.connectivity.parameter.InParameter', 'paramName': 'flightSearch'}], 'javaClass': 'java.util.List'}, 'DBTransaction': False, 'requestExecuteType': 'BIZ', 'requestUniqueCode': 'PGWBA00002', 'functionName': 'DTWBA00022', 'methodType': None, 'filterParameter': {'javaClass': 'java.util.Map', 'map': {}}, 'sourceName': None}] , method:DataService.service , id:2 , \n"
     ]
    },
    {
     "name": "stderr",
     "output_type": "stream",
     "text": [
      "2017-08-11 08:47:53,045 root     DEBUG    Crawling eastarjet homepage schedule site\n"
     ]
    },
    {
     "name": "stdout",
     "output_type": "stream",
     "text": [
      "End Json Payload crawling\n",
      "Start Json Payload crawling :  https://www.eastarjet.com/json/dataService\n",
      ">> Parameters\n",
      "params:[{'panelId': None, 'javaClass': 'com.jein.framework.connectivity.parameter.RequestParameter', 'sourceExtension': None, 'inParameters': {'list': [{'data': {'list': [{'javaClass': 'java.util.Map', 'map': {'flightSearch': '{\"viewType\":\"\",\"fly_type\":\"2\",\"person1\":\"1\",\"person2\":\"0\",\"person3\":\"0\",    \"residentCountry\":\"KR\",\"currency\":\"\",\"promotion_cd\":\"\",    \"flySection\":[{\"departure_cd\":\"FUK\",\"arrival_cd\":\"ICN\",\"departure_date_cd\":\"20170827\"}]}'}}], 'javaClass': 'java.util.List'}, 'ioType': 'IN', 'structureType': 'FIELD', 'javaClass': 'com.jein.framework.connectivity.parameter.InParameter', 'paramName': 'flightSearch'}], 'javaClass': 'java.util.List'}, 'DBTransaction': False, 'requestExecuteType': 'BIZ', 'requestUniqueCode': 'PGWBA00002', 'functionName': 'DTWBA00022', 'methodType': None, 'filterParameter': {'javaClass': 'java.util.Map', 'map': {}}, 'sourceName': None}] , method:DataService.service , id:2 , \n"
     ]
    },
    {
     "name": "stderr",
     "output_type": "stream",
     "text": [
      "2017-08-11 08:47:55,439 root     DEBUG    Crawling eastarjet homepage schedule site\n"
     ]
    },
    {
     "name": "stdout",
     "output_type": "stream",
     "text": [
      "End Json Payload crawling\n",
      "Start Json Payload crawling :  https://www.eastarjet.com/json/dataService\n",
      ">> Parameters\n",
      "params:[{'panelId': None, 'javaClass': 'com.jein.framework.connectivity.parameter.RequestParameter', 'sourceExtension': None, 'inParameters': {'list': [{'data': {'list': [{'javaClass': 'java.util.Map', 'map': {'flightSearch': '{\"viewType\":\"\",\"fly_type\":\"2\",\"person1\":\"1\",\"person2\":\"0\",\"person3\":\"0\",    \"residentCountry\":\"KR\",\"currency\":\"\",\"promotion_cd\":\"\",    \"flySection\":[{\"departure_cd\":\"FUK\",\"arrival_cd\":\"ICN\",\"departure_date_cd\":\"20170828\"}]}'}}], 'javaClass': 'java.util.List'}, 'ioType': 'IN', 'structureType': 'FIELD', 'javaClass': 'com.jein.framework.connectivity.parameter.InParameter', 'paramName': 'flightSearch'}], 'javaClass': 'java.util.List'}, 'DBTransaction': False, 'requestExecuteType': 'BIZ', 'requestUniqueCode': 'PGWBA00002', 'functionName': 'DTWBA00022', 'methodType': None, 'filterParameter': {'javaClass': 'java.util.Map', 'map': {}}, 'sourceName': None}] , method:DataService.service , id:2 , \n"
     ]
    },
    {
     "name": "stderr",
     "output_type": "stream",
     "text": [
      "2017-08-11 08:47:57,899 root     DEBUG    Crawling eastarjet homepage schedule site\n"
     ]
    },
    {
     "name": "stdout",
     "output_type": "stream",
     "text": [
      "End Json Payload crawling\n",
      "Start Json Payload crawling :  https://www.eastarjet.com/json/dataService\n",
      ">> Parameters\n",
      "params:[{'panelId': None, 'javaClass': 'com.jein.framework.connectivity.parameter.RequestParameter', 'sourceExtension': None, 'inParameters': {'list': [{'data': {'list': [{'javaClass': 'java.util.Map', 'map': {'flightSearch': '{\"viewType\":\"\",\"fly_type\":\"2\",\"person1\":\"1\",\"person2\":\"0\",\"person3\":\"0\",    \"residentCountry\":\"KR\",\"currency\":\"\",\"promotion_cd\":\"\",    \"flySection\":[{\"departure_cd\":\"FUK\",\"arrival_cd\":\"ICN\",\"departure_date_cd\":\"20170829\"}]}'}}], 'javaClass': 'java.util.List'}, 'ioType': 'IN', 'structureType': 'FIELD', 'javaClass': 'com.jein.framework.connectivity.parameter.InParameter', 'paramName': 'flightSearch'}], 'javaClass': 'java.util.List'}, 'DBTransaction': False, 'requestExecuteType': 'BIZ', 'requestUniqueCode': 'PGWBA00002', 'functionName': 'DTWBA00022', 'methodType': None, 'filterParameter': {'javaClass': 'java.util.Map', 'map': {}}, 'sourceName': None}] , method:DataService.service , id:2 , \n"
     ]
    },
    {
     "name": "stderr",
     "output_type": "stream",
     "text": [
      "2017-08-11 08:48:00,304 root     DEBUG    Crawling eastarjet homepage schedule site\n"
     ]
    },
    {
     "name": "stdout",
     "output_type": "stream",
     "text": [
      "End Json Payload crawling\n",
      "Start Json Payload crawling :  https://www.eastarjet.com/json/dataService\n",
      ">> Parameters\n",
      "params:[{'panelId': None, 'javaClass': 'com.jein.framework.connectivity.parameter.RequestParameter', 'sourceExtension': None, 'inParameters': {'list': [{'data': {'list': [{'javaClass': 'java.util.Map', 'map': {'flightSearch': '{\"viewType\":\"\",\"fly_type\":\"2\",\"person1\":\"1\",\"person2\":\"0\",\"person3\":\"0\",    \"residentCountry\":\"KR\",\"currency\":\"\",\"promotion_cd\":\"\",    \"flySection\":[{\"departure_cd\":\"FUK\",\"arrival_cd\":\"ICN\",\"departure_date_cd\":\"20170830\"}]}'}}], 'javaClass': 'java.util.List'}, 'ioType': 'IN', 'structureType': 'FIELD', 'javaClass': 'com.jein.framework.connectivity.parameter.InParameter', 'paramName': 'flightSearch'}], 'javaClass': 'java.util.List'}, 'DBTransaction': False, 'requestExecuteType': 'BIZ', 'requestUniqueCode': 'PGWBA00002', 'functionName': 'DTWBA00022', 'methodType': None, 'filterParameter': {'javaClass': 'java.util.Map', 'map': {}}, 'sourceName': None}] , method:DataService.service , id:2 , \n"
     ]
    },
    {
     "name": "stderr",
     "output_type": "stream",
     "text": [
      "2017-08-11 08:48:02,674 root     DEBUG    Crawling eastarjet homepage schedule site\n"
     ]
    },
    {
     "name": "stdout",
     "output_type": "stream",
     "text": [
      "End Json Payload crawling\n",
      "Start Json Payload crawling :  https://www.eastarjet.com/json/dataService\n",
      ">> Parameters\n",
      "params:[{'panelId': None, 'javaClass': 'com.jein.framework.connectivity.parameter.RequestParameter', 'sourceExtension': None, 'inParameters': {'list': [{'data': {'list': [{'javaClass': 'java.util.Map', 'map': {'flightSearch': '{\"viewType\":\"\",\"fly_type\":\"2\",\"person1\":\"1\",\"person2\":\"0\",\"person3\":\"0\",    \"residentCountry\":\"KR\",\"currency\":\"\",\"promotion_cd\":\"\",    \"flySection\":[{\"departure_cd\":\"FUK\",\"arrival_cd\":\"ICN\",\"departure_date_cd\":\"20170831\"}]}'}}], 'javaClass': 'java.util.List'}, 'ioType': 'IN', 'structureType': 'FIELD', 'javaClass': 'com.jein.framework.connectivity.parameter.InParameter', 'paramName': 'flightSearch'}], 'javaClass': 'java.util.List'}, 'DBTransaction': False, 'requestExecuteType': 'BIZ', 'requestUniqueCode': 'PGWBA00002', 'functionName': 'DTWBA00022', 'methodType': None, 'filterParameter': {'javaClass': 'java.util.Map', 'map': {}}, 'sourceName': None}] , method:DataService.service , id:2 , \n"
     ]
    },
    {
     "name": "stderr",
     "output_type": "stream",
     "text": [
      "2017-08-11 08:48:05,017 root     DEBUG    Crawling eastarjet homepage schedule site\n"
     ]
    },
    {
     "name": "stdout",
     "output_type": "stream",
     "text": [
      "End Json Payload crawling\n",
      "Start Json Payload crawling :  https://www.eastarjet.com/json/dataService\n",
      ">> Parameters\n",
      "params:[{'panelId': None, 'javaClass': 'com.jein.framework.connectivity.parameter.RequestParameter', 'sourceExtension': None, 'inParameters': {'list': [{'data': {'list': [{'javaClass': 'java.util.Map', 'map': {'flightSearch': '{\"viewType\":\"\",\"fly_type\":\"2\",\"person1\":\"1\",\"person2\":\"0\",\"person3\":\"0\",    \"residentCountry\":\"KR\",\"currency\":\"\",\"promotion_cd\":\"\",    \"flySection\":[{\"departure_cd\":\"FUK\",\"arrival_cd\":\"ICN\",\"departure_date_cd\":\"20170901\"}]}'}}], 'javaClass': 'java.util.List'}, 'ioType': 'IN', 'structureType': 'FIELD', 'javaClass': 'com.jein.framework.connectivity.parameter.InParameter', 'paramName': 'flightSearch'}], 'javaClass': 'java.util.List'}, 'DBTransaction': False, 'requestExecuteType': 'BIZ', 'requestUniqueCode': 'PGWBA00002', 'functionName': 'DTWBA00022', 'methodType': None, 'filterParameter': {'javaClass': 'java.util.Map', 'map': {}}, 'sourceName': None}] , method:DataService.service , id:2 , \n"
     ]
    },
    {
     "name": "stderr",
     "output_type": "stream",
     "text": [
      "2017-08-11 08:48:07,397 root     INFO     end batch job :: craw_by_route_site :: elapsed -0:00:51.229930 :: Total crawl:21 files saved.\n",
      "2017-08-11 08:48:07,402 root     INFO     start batch job :: craw_by_route_site[FUK,ICN,TW,['20170812', '20170813', '20170814', '20170815', '20170816', '20170817', '20170818', '20170819', '20170820', '20170821', '20170822', '20170823', '20170824', '20170825', '20170826', '20170827', '20170828', '20170829', '20170830', '20170831', '20170901'],TW]\n",
      "2017-08-11 08:48:07,407 root     DEBUG    1 :: TW :: crawling_TW_int :: True\n",
      "2017-08-11 08:48:07,411 root     INFO     <function crawling_TW_int at 0x0000000007C788C8> :: True\n",
      "2017-08-11 08:48:07,417 root     DEBUG    Crawling twayair homepage schedule site\n"
     ]
    },
    {
     "name": "stdout",
     "output_type": "stream",
     "text": [
      "End Json Payload crawling\n",
      "Start Session crawling\n",
      "make session :  https://www.twayair.com/booking/availabilityList.do\n",
      "crawling :  https://www.twayair.com/booking/ajax/searchAvailability.do\n",
      ">> Parameters\n",
      "fareBasisCodeOW: , orderByOW: , origin1:FUK , destination:ICN , origin:FUK , destination1:ICN , destination2:FUK , fareBasisCodeRT: , onwardDateStr:20170812 , orderByRT: , today:20170811 , arrivCntryCode: , searchType:byDate , domesticYn:N , paxTypeCountStr:1,0,0 , origin2:ICN , promotionCode: , travelType:OW , returnDateStr:20170812 , \n"
     ]
    },
    {
     "name": "stderr",
     "output_type": "stream",
     "text": [
      "2017-08-11 08:48:09,787 root     DEBUG    Crawling twayair homepage schedule site\n"
     ]
    },
    {
     "name": "stdout",
     "output_type": "stream",
     "text": [
      "End Session crawling\n",
      "Start Session crawling\n",
      "make session :  https://www.twayair.com/booking/availabilityList.do\n",
      "crawling :  https://www.twayair.com/booking/ajax/searchAvailability.do\n",
      ">> Parameters\n",
      "fareBasisCodeOW: , orderByOW: , origin1:FUK , destination:ICN , origin:FUK , destination1:ICN , destination2:FUK , fareBasisCodeRT: , onwardDateStr:20170813 , orderByRT: , today:20170811 , arrivCntryCode: , searchType:byDate , domesticYn:N , paxTypeCountStr:1,0,0 , origin2:ICN , promotionCode: , travelType:OW , returnDateStr:20170813 , \n"
     ]
    },
    {
     "name": "stderr",
     "output_type": "stream",
     "text": [
      "2017-08-11 08:48:12,416 root     DEBUG    Crawling twayair homepage schedule site\n"
     ]
    },
    {
     "name": "stdout",
     "output_type": "stream",
     "text": [
      "End Session crawling\n",
      "Start Session crawling\n",
      "make session :  https://www.twayair.com/booking/availabilityList.do\n",
      "crawling :  https://www.twayair.com/booking/ajax/searchAvailability.do\n",
      ">> Parameters\n",
      "fareBasisCodeOW: , orderByOW: , origin1:FUK , destination:ICN , origin:FUK , destination1:ICN , destination2:FUK , fareBasisCodeRT: , onwardDateStr:20170814 , orderByRT: , today:20170811 , arrivCntryCode: , searchType:byDate , domesticYn:N , paxTypeCountStr:1,0,0 , origin2:ICN , promotionCode: , travelType:OW , returnDateStr:20170814 , \n"
     ]
    },
    {
     "name": "stderr",
     "output_type": "stream",
     "text": [
      "2017-08-11 08:48:14,798 root     DEBUG    Crawling twayair homepage schedule site\n"
     ]
    },
    {
     "name": "stdout",
     "output_type": "stream",
     "text": [
      "End Session crawling\n",
      "Start Session crawling\n",
      "make session :  https://www.twayair.com/booking/availabilityList.do\n",
      "crawling :  https://www.twayair.com/booking/ajax/searchAvailability.do\n",
      ">> Parameters\n",
      "fareBasisCodeOW: , orderByOW: , origin1:FUK , destination:ICN , origin:FUK , destination1:ICN , destination2:FUK , fareBasisCodeRT: , onwardDateStr:20170815 , orderByRT: , today:20170811 , arrivCntryCode: , searchType:byDate , domesticYn:N , paxTypeCountStr:1,0,0 , origin2:ICN , promotionCode: , travelType:OW , returnDateStr:20170815 , \n"
     ]
    },
    {
     "name": "stderr",
     "output_type": "stream",
     "text": [
      "2017-08-11 08:48:17,031 root     DEBUG    Crawling twayair homepage schedule site\n"
     ]
    },
    {
     "name": "stdout",
     "output_type": "stream",
     "text": [
      "End Session crawling\n",
      "Start Session crawling\n",
      "make session :  https://www.twayair.com/booking/availabilityList.do\n",
      "crawling :  https://www.twayair.com/booking/ajax/searchAvailability.do\n",
      ">> Parameters\n",
      "fareBasisCodeOW: , orderByOW: , origin1:FUK , destination:ICN , origin:FUK , destination1:ICN , destination2:FUK , fareBasisCodeRT: , onwardDateStr:20170816 , orderByRT: , today:20170811 , arrivCntryCode: , searchType:byDate , domesticYn:N , paxTypeCountStr:1,0,0 , origin2:ICN , promotionCode: , travelType:OW , returnDateStr:20170816 , \n"
     ]
    },
    {
     "name": "stderr",
     "output_type": "stream",
     "text": [
      "2017-08-11 08:48:19,614 root     DEBUG    Crawling twayair homepage schedule site\n"
     ]
    },
    {
     "name": "stdout",
     "output_type": "stream",
     "text": [
      "End Session crawling\n",
      "Start Session crawling\n",
      "make session :  https://www.twayair.com/booking/availabilityList.do\n",
      "crawling :  https://www.twayair.com/booking/ajax/searchAvailability.do\n",
      ">> Parameters\n",
      "fareBasisCodeOW: , orderByOW: , origin1:FUK , destination:ICN , origin:FUK , destination1:ICN , destination2:FUK , fareBasisCodeRT: , onwardDateStr:20170817 , orderByRT: , today:20170811 , arrivCntryCode: , searchType:byDate , domesticYn:N , paxTypeCountStr:1,0,0 , origin2:ICN , promotionCode: , travelType:OW , returnDateStr:20170817 , \n"
     ]
    },
    {
     "name": "stderr",
     "output_type": "stream",
     "text": [
      "2017-08-11 08:48:22,115 root     DEBUG    Crawling twayair homepage schedule site\n"
     ]
    },
    {
     "name": "stdout",
     "output_type": "stream",
     "text": [
      "End Session crawling\n",
      "Start Session crawling\n",
      "make session :  https://www.twayair.com/booking/availabilityList.do\n",
      "crawling :  https://www.twayair.com/booking/ajax/searchAvailability.do\n",
      ">> Parameters\n",
      "fareBasisCodeOW: , orderByOW: , origin1:FUK , destination:ICN , origin:FUK , destination1:ICN , destination2:FUK , fareBasisCodeRT: , onwardDateStr:20170818 , orderByRT: , today:20170811 , arrivCntryCode: , searchType:byDate , domesticYn:N , paxTypeCountStr:1,0,0 , origin2:ICN , promotionCode: , travelType:OW , returnDateStr:20170818 , \n"
     ]
    },
    {
     "name": "stderr",
     "output_type": "stream",
     "text": [
      "2017-08-11 08:48:24,597 root     DEBUG    Crawling twayair homepage schedule site\n"
     ]
    },
    {
     "name": "stdout",
     "output_type": "stream",
     "text": [
      "End Session crawling\n",
      "Start Session crawling\n",
      "make session :  https://www.twayair.com/booking/availabilityList.do\n",
      "crawling :  https://www.twayair.com/booking/ajax/searchAvailability.do\n",
      ">> Parameters\n",
      "fareBasisCodeOW: , orderByOW: , origin1:FUK , destination:ICN , origin:FUK , destination1:ICN , destination2:FUK , fareBasisCodeRT: , onwardDateStr:20170819 , orderByRT: , today:20170811 , arrivCntryCode: , searchType:byDate , domesticYn:N , paxTypeCountStr:1,0,0 , origin2:ICN , promotionCode: , travelType:OW , returnDateStr:20170819 , \n"
     ]
    },
    {
     "name": "stderr",
     "output_type": "stream",
     "text": [
      "2017-08-11 08:48:26,948 root     DEBUG    Crawling twayair homepage schedule site\n"
     ]
    },
    {
     "name": "stdout",
     "output_type": "stream",
     "text": [
      "End Session crawling\n",
      "Start Session crawling\n",
      "make session :  https://www.twayair.com/booking/availabilityList.do\n",
      "crawling :  https://www.twayair.com/booking/ajax/searchAvailability.do\n",
      ">> Parameters\n",
      "fareBasisCodeOW: , orderByOW: , origin1:FUK , destination:ICN , origin:FUK , destination1:ICN , destination2:FUK , fareBasisCodeRT: , onwardDateStr:20170820 , orderByRT: , today:20170811 , arrivCntryCode: , searchType:byDate , domesticYn:N , paxTypeCountStr:1,0,0 , origin2:ICN , promotionCode: , travelType:OW , returnDateStr:20170820 , \n"
     ]
    },
    {
     "name": "stderr",
     "output_type": "stream",
     "text": [
      "2017-08-11 08:48:29,409 root     DEBUG    Crawling twayair homepage schedule site\n"
     ]
    },
    {
     "name": "stdout",
     "output_type": "stream",
     "text": [
      "End Session crawling\n",
      "Start Session crawling\n",
      "make session :  https://www.twayair.com/booking/availabilityList.do\n",
      "crawling :  https://www.twayair.com/booking/ajax/searchAvailability.do\n",
      ">> Parameters\n",
      "fareBasisCodeOW: , orderByOW: , origin1:FUK , destination:ICN , origin:FUK , destination1:ICN , destination2:FUK , fareBasisCodeRT: , onwardDateStr:20170821 , orderByRT: , today:20170811 , arrivCntryCode: , searchType:byDate , domesticYn:N , paxTypeCountStr:1,0,0 , origin2:ICN , promotionCode: , travelType:OW , returnDateStr:20170821 , \n"
     ]
    },
    {
     "name": "stderr",
     "output_type": "stream",
     "text": [
      "2017-08-11 08:48:31,919 root     DEBUG    Crawling twayair homepage schedule site\n"
     ]
    },
    {
     "name": "stdout",
     "output_type": "stream",
     "text": [
      "End Session crawling\n",
      "Start Session crawling\n",
      "make session :  https://www.twayair.com/booking/availabilityList.do\n",
      "crawling :  https://www.twayair.com/booking/ajax/searchAvailability.do\n",
      ">> Parameters\n",
      "fareBasisCodeOW: , orderByOW: , origin1:FUK , destination:ICN , origin:FUK , destination1:ICN , destination2:FUK , fareBasisCodeRT: , onwardDateStr:20170822 , orderByRT: , today:20170811 , arrivCntryCode: , searchType:byDate , domesticYn:N , paxTypeCountStr:1,0,0 , origin2:ICN , promotionCode: , travelType:OW , returnDateStr:20170822 , \n"
     ]
    },
    {
     "name": "stderr",
     "output_type": "stream",
     "text": [
      "2017-08-11 08:48:34,449 root     DEBUG    Crawling twayair homepage schedule site\n"
     ]
    },
    {
     "name": "stdout",
     "output_type": "stream",
     "text": [
      "End Session crawling\n",
      "Start Session crawling\n",
      "make session :  https://www.twayair.com/booking/availabilityList.do\n",
      "crawling :  https://www.twayair.com/booking/ajax/searchAvailability.do\n",
      ">> Parameters\n",
      "fareBasisCodeOW: , orderByOW: , origin1:FUK , destination:ICN , origin:FUK , destination1:ICN , destination2:FUK , fareBasisCodeRT: , onwardDateStr:20170823 , orderByRT: , today:20170811 , arrivCntryCode: , searchType:byDate , domesticYn:N , paxTypeCountStr:1,0,0 , origin2:ICN , promotionCode: , travelType:OW , returnDateStr:20170823 , \n"
     ]
    },
    {
     "name": "stderr",
     "output_type": "stream",
     "text": [
      "2017-08-11 08:48:36,904 root     DEBUG    Crawling twayair homepage schedule site\n"
     ]
    },
    {
     "name": "stdout",
     "output_type": "stream",
     "text": [
      "End Session crawling\n",
      "Start Session crawling\n",
      "make session :  https://www.twayair.com/booking/availabilityList.do\n",
      "crawling :  https://www.twayair.com/booking/ajax/searchAvailability.do\n",
      ">> Parameters\n",
      "fareBasisCodeOW: , orderByOW: , origin1:FUK , destination:ICN , origin:FUK , destination1:ICN , destination2:FUK , fareBasisCodeRT: , onwardDateStr:20170824 , orderByRT: , today:20170811 , arrivCntryCode: , searchType:byDate , domesticYn:N , paxTypeCountStr:1,0,0 , origin2:ICN , promotionCode: , travelType:OW , returnDateStr:20170824 , \n"
     ]
    },
    {
     "name": "stderr",
     "output_type": "stream",
     "text": [
      "2017-08-11 08:48:39,486 root     DEBUG    Crawling twayair homepage schedule site\n"
     ]
    },
    {
     "name": "stdout",
     "output_type": "stream",
     "text": [
      "End Session crawling\n",
      "Start Session crawling\n",
      "make session :  https://www.twayair.com/booking/availabilityList.do\n",
      "crawling :  https://www.twayair.com/booking/ajax/searchAvailability.do\n",
      ">> Parameters\n",
      "fareBasisCodeOW: , orderByOW: , origin1:FUK , destination:ICN , origin:FUK , destination1:ICN , destination2:FUK , fareBasisCodeRT: , onwardDateStr:20170825 , orderByRT: , today:20170811 , arrivCntryCode: , searchType:byDate , domesticYn:N , paxTypeCountStr:1,0,0 , origin2:ICN , promotionCode: , travelType:OW , returnDateStr:20170825 , \n"
     ]
    },
    {
     "name": "stderr",
     "output_type": "stream",
     "text": [
      "2017-08-11 08:48:42,116 root     DEBUG    Crawling twayair homepage schedule site\n"
     ]
    },
    {
     "name": "stdout",
     "output_type": "stream",
     "text": [
      "End Session crawling\n",
      "Start Session crawling\n",
      "make session :  https://www.twayair.com/booking/availabilityList.do\n",
      "crawling :  https://www.twayair.com/booking/ajax/searchAvailability.do\n",
      ">> Parameters\n",
      "fareBasisCodeOW: , orderByOW: , origin1:FUK , destination:ICN , origin:FUK , destination1:ICN , destination2:FUK , fareBasisCodeRT: , onwardDateStr:20170826 , orderByRT: , today:20170811 , arrivCntryCode: , searchType:byDate , domesticYn:N , paxTypeCountStr:1,0,0 , origin2:ICN , promotionCode: , travelType:OW , returnDateStr:20170826 , \n"
     ]
    },
    {
     "name": "stderr",
     "output_type": "stream",
     "text": [
      "2017-08-11 08:48:44,573 root     DEBUG    Crawling twayair homepage schedule site\n"
     ]
    },
    {
     "name": "stdout",
     "output_type": "stream",
     "text": [
      "End Session crawling\n",
      "Start Session crawling\n",
      "make session :  https://www.twayair.com/booking/availabilityList.do\n",
      "crawling :  https://www.twayair.com/booking/ajax/searchAvailability.do\n",
      ">> Parameters\n",
      "fareBasisCodeOW: , orderByOW: , origin1:FUK , destination:ICN , origin:FUK , destination1:ICN , destination2:FUK , fareBasisCodeRT: , onwardDateStr:20170827 , orderByRT: , today:20170811 , arrivCntryCode: , searchType:byDate , domesticYn:N , paxTypeCountStr:1,0,0 , origin2:ICN , promotionCode: , travelType:OW , returnDateStr:20170827 , \n"
     ]
    },
    {
     "name": "stderr",
     "output_type": "stream",
     "text": [
      "2017-08-11 08:48:47,076 root     DEBUG    Crawling twayair homepage schedule site\n"
     ]
    },
    {
     "name": "stdout",
     "output_type": "stream",
     "text": [
      "End Session crawling\n",
      "Start Session crawling\n",
      "make session :  https://www.twayair.com/booking/availabilityList.do\n",
      "crawling :  https://www.twayair.com/booking/ajax/searchAvailability.do\n",
      ">> Parameters\n",
      "fareBasisCodeOW: , orderByOW: , origin1:FUK , destination:ICN , origin:FUK , destination1:ICN , destination2:FUK , fareBasisCodeRT: , onwardDateStr:20170828 , orderByRT: , today:20170811 , arrivCntryCode: , searchType:byDate , domesticYn:N , paxTypeCountStr:1,0,0 , origin2:ICN , promotionCode: , travelType:OW , returnDateStr:20170828 , \n"
     ]
    },
    {
     "name": "stderr",
     "output_type": "stream",
     "text": [
      "2017-08-11 08:48:49,471 root     DEBUG    Crawling twayair homepage schedule site\n"
     ]
    },
    {
     "name": "stdout",
     "output_type": "stream",
     "text": [
      "End Session crawling\n",
      "Start Session crawling\n",
      "make session :  https://www.twayair.com/booking/availabilityList.do\n",
      "crawling :  https://www.twayair.com/booking/ajax/searchAvailability.do\n",
      ">> Parameters\n",
      "fareBasisCodeOW: , orderByOW: , origin1:FUK , destination:ICN , origin:FUK , destination1:ICN , destination2:FUK , fareBasisCodeRT: , onwardDateStr:20170829 , orderByRT: , today:20170811 , arrivCntryCode: , searchType:byDate , domesticYn:N , paxTypeCountStr:1,0,0 , origin2:ICN , promotionCode: , travelType:OW , returnDateStr:20170829 , \n"
     ]
    },
    {
     "name": "stderr",
     "output_type": "stream",
     "text": [
      "2017-08-11 08:48:52,027 root     DEBUG    Crawling twayair homepage schedule site\n"
     ]
    },
    {
     "name": "stdout",
     "output_type": "stream",
     "text": [
      "End Session crawling\n",
      "Start Session crawling\n",
      "make session :  https://www.twayair.com/booking/availabilityList.do\n",
      "crawling :  https://www.twayair.com/booking/ajax/searchAvailability.do\n",
      ">> Parameters\n",
      "fareBasisCodeOW: , orderByOW: , origin1:FUK , destination:ICN , origin:FUK , destination1:ICN , destination2:FUK , fareBasisCodeRT: , onwardDateStr:20170830 , orderByRT: , today:20170811 , arrivCntryCode: , searchType:byDate , domesticYn:N , paxTypeCountStr:1,0,0 , origin2:ICN , promotionCode: , travelType:OW , returnDateStr:20170830 , \n"
     ]
    },
    {
     "name": "stderr",
     "output_type": "stream",
     "text": [
      "2017-08-11 08:48:54,527 root     DEBUG    Crawling twayair homepage schedule site\n"
     ]
    },
    {
     "name": "stdout",
     "output_type": "stream",
     "text": [
      "End Session crawling\n",
      "Start Session crawling\n",
      "make session :  https://www.twayair.com/booking/availabilityList.do\n",
      "crawling :  https://www.twayair.com/booking/ajax/searchAvailability.do\n",
      ">> Parameters\n",
      "fareBasisCodeOW: , orderByOW: , origin1:FUK , destination:ICN , origin:FUK , destination1:ICN , destination2:FUK , fareBasisCodeRT: , onwardDateStr:20170831 , orderByRT: , today:20170811 , arrivCntryCode: , searchType:byDate , domesticYn:N , paxTypeCountStr:1,0,0 , origin2:ICN , promotionCode: , travelType:OW , returnDateStr:20170831 , \n"
     ]
    },
    {
     "name": "stderr",
     "output_type": "stream",
     "text": [
      "2017-08-11 08:48:57,166 root     DEBUG    Crawling twayair homepage schedule site\n"
     ]
    },
    {
     "name": "stdout",
     "output_type": "stream",
     "text": [
      "End Session crawling\n",
      "Start Session crawling\n",
      "make session :  https://www.twayair.com/booking/availabilityList.do\n",
      "crawling :  https://www.twayair.com/booking/ajax/searchAvailability.do\n",
      ">> Parameters\n",
      "fareBasisCodeOW: , orderByOW: , origin1:FUK , destination:ICN , origin:FUK , destination1:ICN , destination2:FUK , fareBasisCodeRT: , onwardDateStr:20170901 , orderByRT: , today:20170811 , arrivCntryCode: , searchType:byDate , domesticYn:N , paxTypeCountStr:1,0,0 , origin2:ICN , promotionCode: , travelType:OW , returnDateStr:20170901 , \n"
     ]
    },
    {
     "name": "stderr",
     "output_type": "stream",
     "text": [
      "2017-08-11 08:48:59,586 root     INFO     end batch job :: craw_by_route_site :: elapsed -0:00:52.178984 :: Total crawl:21 files saved.\n",
      "2017-08-11 08:48:59,589 root     INFO     start batch job :: craw_by_route_site[FUK,ICN,7C,['20170812', '20170813', '20170814', '20170815', '20170816', '20170817', '20170818', '20170819', '20170820', '20170821', '20170822', '20170823', '20170824', '20170825', '20170826', '20170827', '20170828', '20170829', '20170830', '20170831', '20170901'],7C]\n",
      "2017-08-11 08:48:59,592 root     DEBUG    1 :: 7C :: crawling_7C_int :: True\n",
      "2017-08-11 08:48:59,595 root     INFO     <function crawling_7C_int at 0x0000000007C78A60> :: True\n",
      "2017-08-11 08:48:59,599 root     DEBUG    Crawling jejuair homepage schedule site\n"
     ]
    },
    {
     "name": "stdout",
     "output_type": "stream",
     "text": [
      "End Session crawling\n",
      "Start Session crawling\n",
      "make session :  https://www.jejuair.net/jejuair/com/jeju/ibe/availInit.do\n",
      "crawling :  https://www.jejuair.net/jejuair/com/jeju/ibe/searchAvail.do\n",
      ">> Parameters\n",
      "SegType:DEP , Language:KR , SystemType:IBE , ArrStn:ICN , ChildPaxCnt:0 , InfantPaxCnt:0 , RouteType:I , DepStn:FUK , DepDate:20170812 , Index:1 , AdultPaxCnt:1 , TripType:OW , \n"
     ]
    },
    {
     "name": "stderr",
     "output_type": "stream",
     "text": [
      "2017-08-11 08:49:00,812 root     DEBUG    Crawling jejuair homepage schedule site\n"
     ]
    },
    {
     "name": "stdout",
     "output_type": "stream",
     "text": [
      "End Session crawling\n",
      "Start Session crawling\n",
      "make session :  https://www.jejuair.net/jejuair/com/jeju/ibe/availInit.do\n",
      "crawling :  https://www.jejuair.net/jejuair/com/jeju/ibe/searchAvail.do\n",
      ">> Parameters\n",
      "SegType:DEP , Language:KR , SystemType:IBE , ArrStn:ICN , ChildPaxCnt:0 , InfantPaxCnt:0 , RouteType:I , DepStn:FUK , DepDate:20170813 , Index:1 , AdultPaxCnt:1 , TripType:OW , \n"
     ]
    },
    {
     "name": "stderr",
     "output_type": "stream",
     "text": [
      "2017-08-11 08:49:02,064 root     DEBUG    Crawling jejuair homepage schedule site\n"
     ]
    },
    {
     "name": "stdout",
     "output_type": "stream",
     "text": [
      "End Session crawling\n",
      "Start Session crawling\n",
      "make session :  https://www.jejuair.net/jejuair/com/jeju/ibe/availInit.do\n",
      "crawling :  https://www.jejuair.net/jejuair/com/jeju/ibe/searchAvail.do\n",
      ">> Parameters\n",
      "SegType:DEP , Language:KR , SystemType:IBE , ArrStn:ICN , ChildPaxCnt:0 , InfantPaxCnt:0 , RouteType:I , DepStn:FUK , DepDate:20170814 , Index:1 , AdultPaxCnt:1 , TripType:OW , \n"
     ]
    },
    {
     "name": "stderr",
     "output_type": "stream",
     "text": [
      "2017-08-11 08:49:04,484 root     DEBUG    Crawling jejuair homepage schedule site\n"
     ]
    },
    {
     "name": "stdout",
     "output_type": "stream",
     "text": [
      "End Session crawling\n",
      "Start Session crawling\n",
      "make session :  https://www.jejuair.net/jejuair/com/jeju/ibe/availInit.do\n",
      "crawling :  https://www.jejuair.net/jejuair/com/jeju/ibe/searchAvail.do\n",
      ">> Parameters\n",
      "SegType:DEP , Language:KR , SystemType:IBE , ArrStn:ICN , ChildPaxCnt:0 , InfantPaxCnt:0 , RouteType:I , DepStn:FUK , DepDate:20170815 , Index:1 , AdultPaxCnt:1 , TripType:OW , \n"
     ]
    },
    {
     "name": "stderr",
     "output_type": "stream",
     "text": [
      "2017-08-11 08:49:05,703 root     DEBUG    Crawling jejuair homepage schedule site\n"
     ]
    },
    {
     "name": "stdout",
     "output_type": "stream",
     "text": [
      "End Session crawling\n",
      "Start Session crawling\n",
      "make session :  https://www.jejuair.net/jejuair/com/jeju/ibe/availInit.do\n",
      "crawling :  https://www.jejuair.net/jejuair/com/jeju/ibe/searchAvail.do\n",
      ">> Parameters\n",
      "SegType:DEP , Language:KR , SystemType:IBE , ArrStn:ICN , ChildPaxCnt:0 , InfantPaxCnt:0 , RouteType:I , DepStn:FUK , DepDate:20170816 , Index:1 , AdultPaxCnt:1 , TripType:OW , \n"
     ]
    },
    {
     "name": "stderr",
     "output_type": "stream",
     "text": [
      "2017-08-11 08:49:06,918 root     DEBUG    Crawling jejuair homepage schedule site\n"
     ]
    },
    {
     "name": "stdout",
     "output_type": "stream",
     "text": [
      "End Session crawling\n",
      "Start Session crawling\n",
      "make session :  https://www.jejuair.net/jejuair/com/jeju/ibe/availInit.do\n",
      "crawling :  https://www.jejuair.net/jejuair/com/jeju/ibe/searchAvail.do\n",
      ">> Parameters\n",
      "SegType:DEP , Language:KR , SystemType:IBE , ArrStn:ICN , ChildPaxCnt:0 , InfantPaxCnt:0 , RouteType:I , DepStn:FUK , DepDate:20170817 , Index:1 , AdultPaxCnt:1 , TripType:OW , \n"
     ]
    },
    {
     "name": "stderr",
     "output_type": "stream",
     "text": [
      "2017-08-11 08:49:08,132 root     DEBUG    Crawling jejuair homepage schedule site\n"
     ]
    },
    {
     "name": "stdout",
     "output_type": "stream",
     "text": [
      "End Session crawling\n",
      "Start Session crawling\n",
      "make session :  https://www.jejuair.net/jejuair/com/jeju/ibe/availInit.do\n",
      "crawling :  https://www.jejuair.net/jejuair/com/jeju/ibe/searchAvail.do\n",
      ">> Parameters\n",
      "SegType:DEP , Language:KR , SystemType:IBE , ArrStn:ICN , ChildPaxCnt:0 , InfantPaxCnt:0 , RouteType:I , DepStn:FUK , DepDate:20170818 , Index:1 , AdultPaxCnt:1 , TripType:OW , \n"
     ]
    },
    {
     "name": "stderr",
     "output_type": "stream",
     "text": [
      "2017-08-11 08:49:09,389 root     DEBUG    Crawling jejuair homepage schedule site\n"
     ]
    },
    {
     "name": "stdout",
     "output_type": "stream",
     "text": [
      "End Session crawling\n",
      "Start Session crawling\n",
      "make session :  https://www.jejuair.net/jejuair/com/jeju/ibe/availInit.do\n",
      "crawling :  https://www.jejuair.net/jejuair/com/jeju/ibe/searchAvail.do\n",
      ">> Parameters\n",
      "SegType:DEP , Language:KR , SystemType:IBE , ArrStn:ICN , ChildPaxCnt:0 , InfantPaxCnt:0 , RouteType:I , DepStn:FUK , DepDate:20170819 , Index:1 , AdultPaxCnt:1 , TripType:OW , \n"
     ]
    },
    {
     "name": "stderr",
     "output_type": "stream",
     "text": [
      "2017-08-11 08:49:10,618 root     DEBUG    Crawling jejuair homepage schedule site\n"
     ]
    },
    {
     "name": "stdout",
     "output_type": "stream",
     "text": [
      "End Session crawling\n",
      "Start Session crawling\n",
      "make session :  https://www.jejuair.net/jejuair/com/jeju/ibe/availInit.do\n",
      "crawling :  https://www.jejuair.net/jejuair/com/jeju/ibe/searchAvail.do\n",
      ">> Parameters\n",
      "SegType:DEP , Language:KR , SystemType:IBE , ArrStn:ICN , ChildPaxCnt:0 , InfantPaxCnt:0 , RouteType:I , DepStn:FUK , DepDate:20170820 , Index:1 , AdultPaxCnt:1 , TripType:OW , \n"
     ]
    },
    {
     "name": "stderr",
     "output_type": "stream",
     "text": [
      "2017-08-11 08:49:11,851 root     DEBUG    Crawling jejuair homepage schedule site\n"
     ]
    },
    {
     "name": "stdout",
     "output_type": "stream",
     "text": [
      "End Session crawling\n",
      "Start Session crawling\n",
      "make session :  https://www.jejuair.net/jejuair/com/jeju/ibe/availInit.do\n",
      "crawling :  https://www.jejuair.net/jejuair/com/jeju/ibe/searchAvail.do\n",
      ">> Parameters\n",
      "SegType:DEP , Language:KR , SystemType:IBE , ArrStn:ICN , ChildPaxCnt:0 , InfantPaxCnt:0 , RouteType:I , DepStn:FUK , DepDate:20170821 , Index:1 , AdultPaxCnt:1 , TripType:OW , \n"
     ]
    },
    {
     "name": "stderr",
     "output_type": "stream",
     "text": [
      "2017-08-11 08:49:13,084 root     DEBUG    Crawling jejuair homepage schedule site\n"
     ]
    },
    {
     "name": "stdout",
     "output_type": "stream",
     "text": [
      "End Session crawling\n",
      "Start Session crawling\n",
      "make session :  https://www.jejuair.net/jejuair/com/jeju/ibe/availInit.do\n",
      "crawling :  https://www.jejuair.net/jejuair/com/jeju/ibe/searchAvail.do\n",
      ">> Parameters\n",
      "SegType:DEP , Language:KR , SystemType:IBE , ArrStn:ICN , ChildPaxCnt:0 , InfantPaxCnt:0 , RouteType:I , DepStn:FUK , DepDate:20170822 , Index:1 , AdultPaxCnt:1 , TripType:OW , \n"
     ]
    },
    {
     "name": "stderr",
     "output_type": "stream",
     "text": [
      "2017-08-11 08:49:14,296 root     DEBUG    Crawling jejuair homepage schedule site\n"
     ]
    },
    {
     "name": "stdout",
     "output_type": "stream",
     "text": [
      "End Session crawling\n",
      "Start Session crawling\n",
      "make session :  https://www.jejuair.net/jejuair/com/jeju/ibe/availInit.do\n",
      "crawling :  https://www.jejuair.net/jejuair/com/jeju/ibe/searchAvail.do\n",
      ">> Parameters\n",
      "SegType:DEP , Language:KR , SystemType:IBE , ArrStn:ICN , ChildPaxCnt:0 , InfantPaxCnt:0 , RouteType:I , DepStn:FUK , DepDate:20170823 , Index:1 , AdultPaxCnt:1 , TripType:OW , \n"
     ]
    },
    {
     "name": "stderr",
     "output_type": "stream",
     "text": [
      "2017-08-11 08:49:15,493 root     DEBUG    Crawling jejuair homepage schedule site\n"
     ]
    },
    {
     "name": "stdout",
     "output_type": "stream",
     "text": [
      "End Session crawling\n",
      "Start Session crawling\n",
      "make session :  https://www.jejuair.net/jejuair/com/jeju/ibe/availInit.do\n",
      "crawling :  https://www.jejuair.net/jejuair/com/jeju/ibe/searchAvail.do\n",
      ">> Parameters\n",
      "SegType:DEP , Language:KR , SystemType:IBE , ArrStn:ICN , ChildPaxCnt:0 , InfantPaxCnt:0 , RouteType:I , DepStn:FUK , DepDate:20170824 , Index:1 , AdultPaxCnt:1 , TripType:OW , \n"
     ]
    },
    {
     "name": "stderr",
     "output_type": "stream",
     "text": [
      "2017-08-11 08:49:16,695 root     DEBUG    Crawling jejuair homepage schedule site\n"
     ]
    },
    {
     "name": "stdout",
     "output_type": "stream",
     "text": [
      "End Session crawling\n",
      "Start Session crawling\n",
      "make session :  https://www.jejuair.net/jejuair/com/jeju/ibe/availInit.do\n",
      "crawling :  https://www.jejuair.net/jejuair/com/jeju/ibe/searchAvail.do\n",
      ">> Parameters\n",
      "SegType:DEP , Language:KR , SystemType:IBE , ArrStn:ICN , ChildPaxCnt:0 , InfantPaxCnt:0 , RouteType:I , DepStn:FUK , DepDate:20170825 , Index:1 , AdultPaxCnt:1 , TripType:OW , \n"
     ]
    },
    {
     "name": "stderr",
     "output_type": "stream",
     "text": [
      "2017-08-11 08:49:17,916 root     DEBUG    Crawling jejuair homepage schedule site\n"
     ]
    },
    {
     "name": "stdout",
     "output_type": "stream",
     "text": [
      "End Session crawling\n",
      "Start Session crawling\n",
      "make session :  https://www.jejuair.net/jejuair/com/jeju/ibe/availInit.do\n",
      "crawling :  https://www.jejuair.net/jejuair/com/jeju/ibe/searchAvail.do\n",
      ">> Parameters\n",
      "SegType:DEP , Language:KR , SystemType:IBE , ArrStn:ICN , ChildPaxCnt:0 , InfantPaxCnt:0 , RouteType:I , DepStn:FUK , DepDate:20170826 , Index:1 , AdultPaxCnt:1 , TripType:OW , \n"
     ]
    },
    {
     "name": "stderr",
     "output_type": "stream",
     "text": [
      "2017-08-11 08:49:19,128 root     DEBUG    Crawling jejuair homepage schedule site\n"
     ]
    },
    {
     "name": "stdout",
     "output_type": "stream",
     "text": [
      "End Session crawling\n",
      "Start Session crawling\n",
      "make session :  https://www.jejuair.net/jejuair/com/jeju/ibe/availInit.do\n",
      "crawling :  https://www.jejuair.net/jejuair/com/jeju/ibe/searchAvail.do\n",
      ">> Parameters\n",
      "SegType:DEP , Language:KR , SystemType:IBE , ArrStn:ICN , ChildPaxCnt:0 , InfantPaxCnt:0 , RouteType:I , DepStn:FUK , DepDate:20170827 , Index:1 , AdultPaxCnt:1 , TripType:OW , \n"
     ]
    },
    {
     "name": "stderr",
     "output_type": "stream",
     "text": [
      "2017-08-11 08:49:20,365 root     DEBUG    Crawling jejuair homepage schedule site\n"
     ]
    },
    {
     "name": "stdout",
     "output_type": "stream",
     "text": [
      "End Session crawling\n",
      "Start Session crawling\n",
      "make session :  https://www.jejuair.net/jejuair/com/jeju/ibe/availInit.do\n",
      "crawling :  https://www.jejuair.net/jejuair/com/jeju/ibe/searchAvail.do\n",
      ">> Parameters\n",
      "SegType:DEP , Language:KR , SystemType:IBE , ArrStn:ICN , ChildPaxCnt:0 , InfantPaxCnt:0 , RouteType:I , DepStn:FUK , DepDate:20170828 , Index:1 , AdultPaxCnt:1 , TripType:OW , \n"
     ]
    },
    {
     "name": "stderr",
     "output_type": "stream",
     "text": [
      "2017-08-11 08:49:21,624 root     DEBUG    Crawling jejuair homepage schedule site\n"
     ]
    },
    {
     "name": "stdout",
     "output_type": "stream",
     "text": [
      "End Session crawling\n",
      "Start Session crawling\n",
      "make session :  https://www.jejuair.net/jejuair/com/jeju/ibe/availInit.do\n",
      "crawling :  https://www.jejuair.net/jejuair/com/jeju/ibe/searchAvail.do\n",
      ">> Parameters\n",
      "SegType:DEP , Language:KR , SystemType:IBE , ArrStn:ICN , ChildPaxCnt:0 , InfantPaxCnt:0 , RouteType:I , DepStn:FUK , DepDate:20170829 , Index:1 , AdultPaxCnt:1 , TripType:OW , \n"
     ]
    },
    {
     "name": "stderr",
     "output_type": "stream",
     "text": [
      "2017-08-11 08:49:22,844 root     DEBUG    Crawling jejuair homepage schedule site\n"
     ]
    },
    {
     "name": "stdout",
     "output_type": "stream",
     "text": [
      "End Session crawling\n",
      "Start Session crawling\n",
      "make session :  https://www.jejuair.net/jejuair/com/jeju/ibe/availInit.do\n",
      "crawling :  https://www.jejuair.net/jejuair/com/jeju/ibe/searchAvail.do\n",
      ">> Parameters\n",
      "SegType:DEP , Language:KR , SystemType:IBE , ArrStn:ICN , ChildPaxCnt:0 , InfantPaxCnt:0 , RouteType:I , DepStn:FUK , DepDate:20170830 , Index:1 , AdultPaxCnt:1 , TripType:OW , \n"
     ]
    },
    {
     "name": "stderr",
     "output_type": "stream",
     "text": [
      "2017-08-11 08:49:24,057 root     DEBUG    Crawling jejuair homepage schedule site\n"
     ]
    },
    {
     "name": "stdout",
     "output_type": "stream",
     "text": [
      "End Session crawling\n",
      "Start Session crawling\n",
      "make session :  https://www.jejuair.net/jejuair/com/jeju/ibe/availInit.do\n",
      "crawling :  https://www.jejuair.net/jejuair/com/jeju/ibe/searchAvail.do\n",
      ">> Parameters\n",
      "SegType:DEP , Language:KR , SystemType:IBE , ArrStn:ICN , ChildPaxCnt:0 , InfantPaxCnt:0 , RouteType:I , DepStn:FUK , DepDate:20170831 , Index:1 , AdultPaxCnt:1 , TripType:OW , \n"
     ]
    },
    {
     "name": "stderr",
     "output_type": "stream",
     "text": [
      "2017-08-11 08:49:25,279 root     DEBUG    Crawling jejuair homepage schedule site\n"
     ]
    },
    {
     "name": "stdout",
     "output_type": "stream",
     "text": [
      "End Session crawling\n",
      "Start Session crawling\n",
      "make session :  https://www.jejuair.net/jejuair/com/jeju/ibe/availInit.do\n",
      "crawling :  https://www.jejuair.net/jejuair/com/jeju/ibe/searchAvail.do\n",
      ">> Parameters\n",
      "SegType:DEP , Language:KR , SystemType:IBE , ArrStn:ICN , ChildPaxCnt:0 , InfantPaxCnt:0 , RouteType:I , DepStn:FUK , DepDate:20170901 , Index:1 , AdultPaxCnt:1 , TripType:OW , \n"
     ]
    },
    {
     "name": "stderr",
     "output_type": "stream",
     "text": [
      "2017-08-11 08:49:26,521 root     INFO     end batch job :: craw_by_route_site :: elapsed -0:00:26.929540 :: Total crawl:21 files saved.\n",
      "2017-08-11 08:49:26,524 root     INFO     start batch job :: craw_by_route_site[FUK/JPN,ICN/KOR,LJ,['20170812', '20170813', '20170814', '20170815', '20170816', '20170817', '20170818', '20170819', '20170820', '20170821', '20170822', '20170823', '20170824', '20170825', '20170826', '20170827', '20170828', '20170829', '20170830', '20170831', '20170901'],LJ]\n",
      "2017-08-11 08:49:26,527 root     DEBUG    1 :: LJ :: crawling_LJ_int :: True\n",
      "2017-08-11 08:49:26,530 root     INFO     <function crawling_LJ_int at 0x0000000007C78BF8> :: True\n"
     ]
    },
    {
     "name": "stdout",
     "output_type": "stream",
     "text": [
      "End Session crawling\n",
      "Crawling jinair mobile page schedule site\n",
      "Param :  FUK/JPN ICN/KOR 20170812\n",
      "End crawling\n",
      "Crawling jinair mobile page schedule site\n",
      "Param :  FUK/JPN ICN/KOR 20170813\n",
      "End crawling\n",
      "Crawling jinair mobile page schedule site\n",
      "Param :  FUK/JPN ICN/KOR 20170814\n",
      "End crawling\n",
      "Crawling jinair mobile page schedule site\n",
      "Param :  FUK/JPN ICN/KOR 20170815\n",
      "End crawling\n",
      "Crawling jinair mobile page schedule site\n",
      "Param :  FUK/JPN ICN/KOR 20170816\n",
      "End crawling\n",
      "Crawling jinair mobile page schedule site\n",
      "Param :  FUK/JPN ICN/KOR 20170817\n",
      "End crawling\n",
      "Crawling jinair mobile page schedule site\n",
      "Param :  FUK/JPN ICN/KOR 20170818\n",
      "End crawling\n",
      "Crawling jinair mobile page schedule site\n",
      "Param :  FUK/JPN ICN/KOR 20170819\n",
      "End crawling\n",
      "Crawling jinair mobile page schedule site\n",
      "Param :  FUK/JPN ICN/KOR 20170820\n",
      "End crawling\n",
      "Crawling jinair mobile page schedule site\n",
      "Param :  FUK/JPN ICN/KOR 20170821\n",
      "End crawling\n",
      "Crawling jinair mobile page schedule site\n",
      "Param :  FUK/JPN ICN/KOR 20170822\n",
      "End crawling\n",
      "Crawling jinair mobile page schedule site\n",
      "Param :  FUK/JPN ICN/KOR 20170823\n",
      "End crawling\n",
      "Crawling jinair mobile page schedule site\n",
      "Param :  FUK/JPN ICN/KOR 20170824\n",
      "End crawling\n",
      "Crawling jinair mobile page schedule site\n",
      "Param :  FUK/JPN ICN/KOR 20170825\n",
      "End crawling\n",
      "Crawling jinair mobile page schedule site\n",
      "Param :  FUK/JPN ICN/KOR 20170826\n",
      "End crawling\n",
      "Crawling jinair mobile page schedule site\n",
      "Param :  FUK/JPN ICN/KOR 20170827\n",
      "End crawling\n",
      "Crawling jinair mobile page schedule site\n",
      "Param :  FUK/JPN ICN/KOR 20170828\n",
      "End crawling\n",
      "Crawling jinair mobile page schedule site\n",
      "Param :  FUK/JPN ICN/KOR 20170829\n",
      "End crawling\n",
      "Crawling jinair mobile page schedule site\n",
      "Param :  FUK/JPN ICN/KOR 20170830\n",
      "End crawling\n",
      "Crawling jinair mobile page schedule site\n",
      "Param :  FUK/JPN ICN/KOR 20170831\n",
      "End crawling\n",
      "Crawling jinair mobile page schedule site\n",
      "Param :  FUK/JPN ICN/KOR 20170901\n"
     ]
    },
    {
     "name": "stderr",
     "output_type": "stream",
     "text": [
      "2017-08-11 08:50:10,808 root     INFO     end batch job :: craw_by_route_site :: elapsed -0:00:44.280532 :: Total crawl:21 files saved.\n",
      "2017-08-11 08:50:10,811 root     INFO     end batch job :: craw_by_route_siteinfos :: elapsed -0:46:41.635244 :: Total infos(24)\n",
      "2017-08-11 08:50:10,815 root     INFO     Total 24 site info, 0 error occured\n"
     ]
    },
    {
     "name": "stdout",
     "output_type": "stream",
     "text": [
      "End crawling\n"
     ]
    }
   ],
   "source": [
    "### 매일 1회 실시\n",
    "conds = [\n",
    "    ## 김포제주, 인천나리타 60일 데이터 - 출근후\n",
    "     gmpcju60,icnnrt60,\n",
    "    ## 21일 데이터 - 출근후\n",
    "     cjugmp21,icnbkk21,icnfuk21,\n",
    "    ## 국내선 기타 노선 21일(김포 부산, 부산 제주 - 왕복), 출근후\n",
    "    gmppus21,pusgmp21,puscju21,\n",
    "    #cjupus21,\n",
    "    ## 국내선 기타 노선 21일(청주 제주, 군산 제주 - 왕복), 출근후\n",
    "    cjjcju21,cjucjj21,kuvcju21,cjukuv21,\n",
    "    ### 나리타, 후쿠오카, 방콕 현지 출발 21일 데이터\n",
    "    ze_nrticn21,tw_nrticn21,c7_nrticn21,lj_nrticn21,\n",
    "    ze_bkkicn21,tw_bkkicn21,c7_bkkicn21,lj_bkkicn21,\n",
    "    ze_fukicn21,tw_fukicn21,c7_fukicn21,lj_fukicn21,\n",
    "]\n",
    "crawl_date = datetime.today().strftime('%Y%m%d') + '08'\n",
    "error_infos = crawl_by_route_siteinfos(crawl_date,conds)"
   ]
  },
  {
   "cell_type": "code",
   "execution_count": null,
   "metadata": {
    "collapsed": false,
    "deletable": true,
    "editable": true,
    "scrolled": false
   },
   "outputs": [],
   "source": [
    "### 매일 2회 실시\n",
    "conds = [\n",
    "    ## 21일 데이터 김포 제주 왕복 10시,14시\n",
    "    gmpcju21,cjugmp21,\n",
    "    ## 국내선 기타 노선 21일(김포 부산, 부산 제주 - 왕복), 10시,14시\n",
    "    gmppus21,pusgmp21,puscju21,cjupus21,\n",
    "    ## 국내선 기타 노선 21일(청주 제주, 군산 제주 - 왕복), 10시,14시\n",
    "    cjjcju21,cjucjj21,kuvcju21,cjukuv21,\n",
    "    ## 21일 데이터 국제선 10시,14시\n",
    "    icnnrt21,nrticn21,icnbkk21,bkkicn21\n",
    "    ### 나리타, 후쿠오카, 방콕 현지 출발 21일 데이터\n",
    "    ze_nrticn21,tw_nrticn21,c7_nrticn21,lj_nrticn21,\n",
    "    ze_bkkicn21,tw_bkkicn21,c7_bkkicn21,lj_bkkicn21,\n",
    "    ze_fukicn21,tw_fukicn21,c7_fukicn21,lj_fukicn21,\n",
    "]\n",
    "crawl_date = datetime.today().strftime('%Y%m%d%H')\n",
    "error_infos = crawl_by_route_siteinfos(crawl_date,conds)"
   ]
  },
  {
   "cell_type": "code",
   "execution_count": null,
   "metadata": {
    "collapsed": false,
    "deletable": true,
    "editable": true,
    "scrolled": true
   },
   "outputs": [],
   "source": [
    "### 나리타, 후쿠오카, 방콕 현지 출발 21일 데이터\n",
    "conds = [\n",
    "    ze_nrticn21,tw_nrticn21,c7_nrticn21,lj_nrticn21,\n",
    "    ze_bkkicn21,tw_bkkicn21,c7_bkkicn21,lj_bkkicn21,\n",
    "    ze_fukicn21,tw_fukicn21,c7_fukicn21,lj_fukicn21,\n",
    "]\n",
    "error_infos = craw_by_route_siteinfos(conds)"
   ]
  },
  {
   "cell_type": "code",
   "execution_count": null,
   "metadata": {
    "collapsed": false,
    "deletable": true,
    "editable": true
   },
   "outputs": [],
   "source": [
    "### 후쿠오카 출발 21일 데이터 테스트\n",
    "conds = [\n",
    "    icnfuk21,\n",
    "    ze_fukicn21,tw_fukicn21,c7_fukicn21,lj_fukicn21,\n",
    "]\n",
    "crawl_date = datetime.today().strftime('%Y%m%d%H')\n",
    "error_infos = crawl_by_route_siteinfos(crawl_date,conds)"
   ]
  },
  {
   "cell_type": "code",
   "execution_count": 5,
   "metadata": {
    "collapsed": false,
    "deletable": true,
    "editable": true
   },
   "outputs": [
    {
     "data": {
      "text/plain": [
       "[]"
      ]
     },
     "execution_count": 5,
     "metadata": {},
     "output_type": "execute_result"
    }
   ],
   "source": [
    "error_infos"
   ]
  },
  {
   "cell_type": "code",
   "execution_count": null,
   "metadata": {
    "collapsed": false,
    "deletable": true,
    "editable": true,
    "scrolled": true
   },
   "outputs": [],
   "source": [
    "#crawl_date = crawl_date\n",
    "error_infos=crawl_by_route_siteinfos(crawl_date,error_infos)"
   ]
  },
  {
   "cell_type": "code",
   "execution_count": null,
   "metadata": {
    "collapsed": false,
    "deletable": true,
    "editable": true,
    "scrolled": true
   },
   "outputs": [],
   "source": [
    "## 사이트 상태 점검용\n",
    "previous_crawled_date = get_date() ##오늘, 중도에 오류가 날경우 조정 하여 재실행\n",
    "start = get_date(base_date=previous_crawled_date,after=1) ## 내일 날짜 구하기\n",
    "end = get_date(base_date=previous_crawled_date,after=2)  ## 기간 날짜 구하기\n",
    "dates = list(timeiter(start,end))\n",
    "gmpcjutest = ['0','GMP', 'CJU', 'IP', ['7C','LJ','TW','ZE'],dates]\n",
    "craw_by_route_siteinfos([gmpcjutest])"
   ]
  },
  {
   "cell_type": "code",
   "execution_count": null,
   "metadata": {
    "collapsed": true,
    "deletable": true,
    "editable": true
   },
   "outputs": [],
   "source": []
  }
 ],
 "metadata": {
  "kernelspec": {
   "display_name": "Python 3",
   "language": "python",
   "name": "python3"
  },
  "language_info": {
   "codemirror_mode": {
    "name": "ipython",
    "version": 3
   },
   "file_extension": ".py",
   "mimetype": "text/x-python",
   "name": "python",
   "nbconvert_exporter": "python",
   "pygments_lexer": "ipython3",
   "version": "3.5.3"
  }
 },
 "nbformat": 4,
 "nbformat_minor": 2
}
