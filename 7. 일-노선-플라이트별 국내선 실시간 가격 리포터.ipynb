{
 "cells": [
  {
   "cell_type": "markdown",
   "metadata": {
    "deletable": true,
    "editable": true
   },
   "source": [
    "## ZE 기준 각 플라이트별 경쟁사의 최저 가격 비교\n",
    "- 기준 사이트 : 인터파크\n",
    "    * 대상 : ZE, 7C, TW, LJ\n",
    "- 기간 : 내일 부터 21일간\n",
    "- 오전 출근 후 생성 및 발송"
   ]
  },
  {
   "cell_type": "code",
   "execution_count": 1,
   "metadata": {
    "collapsed": false,
    "deletable": true,
    "editable": true
   },
   "outputs": [],
   "source": [
    "import json\n",
    "import logging\n",
    "import datetime\n",
    "import pandas as pd\n",
    "from common.batch_util import crawl_period\n",
    "from common.util import num_format, time_format, unique_list, json_loads, list_formatter\n",
    "from common.log_util import log, logger_initialize\n",
    "from common.parsing_util import parsing_json_data_to_dict\n",
    "from common.web_util import make_grid_td, make_grid_th\n",
    "from common.crawl_func import crawling_IP_dom\n",
    "from common.mail_service_util import email_sender,email_multi_sender,make_newletter_html\n",
    "\n",
    "logger_initialize('daily_report_logger_setting.json')"
   ]
  },
  {
   "cell_type": "code",
   "execution_count": 2,
   "metadata": {
    "collapsed": false,
    "deletable": true,
    "editable": true
   },
   "outputs": [],
   "source": [
    "## 인터파크 정보 읽어오기\n",
    "## 포맷 : 항공사,날짜,출발지,도착지,편명,출발시간,판매최저값\n",
    "def scraping_IP_schdedule(raw_data):\n",
    "    log('start scraping Interpark crawled data')\n",
    "    raw_json = json_loads(raw_data)#json.loads(raw_data)\n",
    "    if raw_json is None: ## 파싱 에러\n",
    "        return None\n",
    "    if raw_json['replyHeader']['errorCode'] == '1': ## 에러\n",
    "        log('crawling data not found!',logging.ERROR)\n",
    "        return None\n",
    "    loop_field = \"['replyAvailFare']['availFareSet']\"\n",
    "    parse_info = {\n",
    "        'airline':\"['replyAvailFare']['availFareSet'][{}]['segFare']['carCode']\",#i\n",
    "        'date':\"['replyAvailFare']['availFareSet'][{}]['segFare']['depDate']\",#i\n",
    "        'flt':\"['replyAvailFare']['availFareSet'][{}]['segFare']['mainFlt']\",#i\n",
    "        'dpt':\"['replyAvailFare']['availFareSet'][{}]['segFare']['depCity']\",#i\n",
    "        'dpt_time':\"['replyAvailFare']['availFareSet'][{}]['segFare']['depTime']\",#i\n",
    "        'arr':\"['replyAvailFare']['availFareSet'][{}]['segFare']['arrCity']\",#i\n",
    "        'arr_time':\"['replyAvailFare']['availFareSet'][{}]['segFare']['arrTime']\",#i\n",
    "        'fare1':\"['replyAvailFare']['availFareSet'][{}]['segFare']['classDetail'][0]['fare']\",#i,j\n",
    "        'fare2':\"['replyAvailFare']['availFareSet'][{}]['segFare']['classDetail'][1]['fare']\",#i,j+1\n",
    "        'tax':\"['replyAvailFare']['availFareSet'][{}]['segFare']['airTax']\",#i\n",
    "        'fuel':\"['replyAvailFare']['availFareSet'][{}]['segFare']['fuelChg']\",#i\n",
    "        'seat1':\"['replyAvailFare']['availFareSet'][{}]['segFare']['classDetail'][0]['noOfAvailSeat']\",#i,j\n",
    "        'seat2':\"['replyAvailFare']['availFareSet'][{}]['segFare']['classDetail'][1]['noOfAvailSeat']\",#i,j+1\n",
    "    }\n",
    "\n",
    "    parsed_list = parsing_json_data_to_dict(raw_json,loop_field, parse_info)\n",
    "    if len(parsed_list) == 0:\n",
    "        log('scraping data not found!',logging.WARNING)\n",
    "        return None\n",
    "    \n",
    "    scraped_list = [[d['airline'],d['date'],d['dpt'],d['arr'],d['flt'],d['dpt_time'],d['fare1']] for d in parsed_list ] +\\\n",
    "                    [[d['airline'],d['date'],d['dpt'],d['arr'],d['flt'],d['dpt_time'],d['fare2']] for d in parsed_list ]\n",
    "\n",
    "    ## fare 숫자 변환\n",
    "    for td in scraped_list:\n",
    "        fare = td[-1]\n",
    "        if fare is None or fare.strip() == '':\n",
    "            fare = 0\n",
    "        else:\n",
    "            fare = int(fare.strip())\n",
    "        td[-1] = fare\n",
    "\n",
    "    log('end scraping Interpark crawled data')\n",
    "    return scraped_list\n",
    "\n",
    "## 값이 전부 0 이면 0\n",
    "## 그렇지 않으면 0 이외의 값중 최소값 리턴\n",
    "def get_min_value(f_list):\n",
    "    sorted_list = sorted(f_list)\n",
    "    if sorted_list[-1] <= 0:\n",
    "        return 0\n",
    "    return [v for v in sorted_list if v > 0][0]\n",
    "## 조회해온 리스트에서 같은 편의 정보를 최소가격으로 조정\n",
    "def unique_sch_fare_list(flist):\n",
    "    u_sch_list = unique_list([td[:-1] for td in flist])\n",
    "    fare_dict = {}\n",
    "    for td in flist:\n",
    "        ## flt를 키로 생성\n",
    "        flt = fare_dict.get(td[4])\n",
    "        ## flt에 대한 가격 리스트 처리\n",
    "        if flt is None:\n",
    "            fare_dict[td[4]] = [td[6]]\n",
    "        else:\n",
    "            flt.append(td[6])\n",
    "    for td in u_sch_list:\n",
    "        td.append(get_min_value(fare_dict[td[4]]))\n",
    "    return u_sch_list\n",
    "## 특정 시간에 대한 HHMM(시간분) 구조의 배열에서 시간 간격이 최소인 배열의 인덱스 찾기\n",
    "## 인덱스와 차이값 리턴\n",
    "def select_row_by_minute(hhmm,hhmm_list, reverse=False):\n",
    "    ## 찾을 시간, 시간 배열, 최소/최대 여부 - 기본은 최소\n",
    "    #print(hhmm)\n",
    "    compare_list = []\n",
    "    for i,l in enumerate(hhmm_list):\n",
    "        compare_list.append([cal_minute(hhmm,l),i])\n",
    "    return sorted(compare_list,reverse=reverse)[0][::-1]\n",
    "## 시간 차이 분으로 계산 포맷 HHMM\n",
    "def cal_minute(h1,h2):\n",
    "    return abs((int(h1[:2])-int(h2[:2]))*60+int(h1[2:])-int(h2[2:]))\n",
    "## 일일 리포트 생성\n",
    "def make_dom_fare_daily_list(dpt,arr,dpt_date,airlines):\n",
    "    ## 인터파크 이용 ZE 가격 정보 읽어오기\n",
    "    raw_list = scraping_IP_schdedule(crawling_IP_dom('ZE',dpt,arr,dpt_date))\n",
    "    if raw_list is None:\n",
    "        return None\n",
    "    ze_schedule_list = unique_sch_fare_list(raw_list)\n",
    "    ## 인터파크 이용 각 항공사 가격 정보 리스트 생성\n",
    "    ip_schedule_datas = []\n",
    "    for airline in airlines:\n",
    "        raw_list = scraping_IP_schdedule(crawling_IP_dom(airline,dpt,arr,dpt_date))\n",
    "        ## 해당 항공사에 대한 크롤정보가 없을 경우 처리?\n",
    "        if raw_list is None:\n",
    "            continue;\n",
    "        ip_schedule_datas.append(unique_sch_fare_list(raw_list))\n",
    "    target_list = ze_schedule_list.copy()\n",
    "    target_list = [tl[1:] for tl in target_list]\n",
    "    ## ZE 스케줄을 기준으로 경쟁 항공사의 편, 가격 매칭\n",
    "    for ip_schedule_list in ip_schedule_datas:\n",
    "        for p,sch in enumerate(target_list):\n",
    "            i,g = select_row_by_minute(sch[4],[sch[5] for sch in ip_schedule_list])\n",
    "            target_list[p] = sch + [ip_schedule_list[i][0]+'-'+ip_schedule_list[i][4]+'-'+ip_schedule_list[i][5],ip_schedule_list[i][6]]\n",
    "    return target_list\n",
    "## 템플릿 이용 HTML 파일 작성\n",
    "def make_daily_report_html(column_list,data_list):\n",
    "    ## 검색조건 만들기\n",
    "    title = 'daily report'\n",
    "    column_html = make_grid_th(column_list)\n",
    "    \n",
    "    formats = [[0,lambda d:d[:4]+'-'+d[4:6]+'-'+d[6:]],[4,time_format],[5,num_format]]\n",
    "    ## 경쟁사 리스트에 따른 포맷 처리를 위해 컬럼수를 이용하여 처리, 6번째 인덱스의 컬럼부터가 추가된 부분\n",
    "    formats.extend([[7+2*i,num_format] for i in range(len(column_list[7::2]))])\n",
    "    ## data_list가 column_list 보다 적을 경우 data_list의 사이즈 조정 빈값으로 채우기\n",
    "    data_list = [td+[''for _ in range(len(column_list)-len(td))] for td in data_list]\n",
    "    grid_html = make_grid_td(list_formatter(data_list,formats))\n",
    "    with open('template/daily_fare_report.html',encoding='utf-8') as fp:\n",
    "        template = fp.read()\n",
    "    ## html 생성\n",
    "    html = template.replace('{title}',title).replace('{columns}',column_html).replace('{grid_datas}',grid_html).replace('\\n','')\n",
    "    ## 파일 저장\n",
    "    html_file = 'html/daily_fare_report_{}.html'.format(datetime.datetime.today().strftime('%Y%m%d%H%M%S%f'))\n",
    "    # print(html_file)\n",
    "    with open(html_file,'wt',encoding='utf-8') as fp:\n",
    "        fp.write(html)\n",
    "    return html_file\n",
    "\n",
    "## 발송처리\n",
    "def daily_report_mail_service(receivers,mail_msg,file):\n",
    "    log('start email service')\n",
    "    template = make_newletter_html(mail_msg)\n",
    "    subject = 'rms daily reporting service'\n",
    "    email_multi_sender(receivers,subject,template,attachs=[file])"
   ]
  },
  {
   "cell_type": "code",
   "execution_count": 3,
   "metadata": {
    "collapsed": false,
    "deletable": true,
    "editable": true,
    "scrolled": true
   },
   "outputs": [
    {
     "name": "stderr",
     "output_type": "stream",
     "text": [
      "2017-06-27 10:21:43,365 root     DEBUG    Crawling Interpark domastic schedule site\n"
     ]
    },
    {
     "name": "stdout",
     "output_type": "stream",
     "text": [
      "Start Simple crawling :  http://domair.interpark.com/api/booking/airJourney.do\n",
      ">> Parameters\n",
      "inf:0 , dep:GMP , tripDivi:0 , airlineCode:ZE , chd:0 , adt:1 , arr:CJU , format:json , depDate:20170628 , \n"
     ]
    },
    {
     "name": "stderr",
     "output_type": "stream",
     "text": [
      "2017-06-27 10:21:44,751 root     DEBUG    start scraping Interpark crawled data\n",
      "2017-06-27 10:21:44,778 root     DEBUG    end scraping Interpark crawled data\n",
      "2017-06-27 10:21:44,782 root     DEBUG    Crawling Interpark domastic schedule site\n"
     ]
    },
    {
     "name": "stdout",
     "output_type": "stream",
     "text": [
      "End Simple crawling\n",
      "Start Simple crawling :  http://domair.interpark.com/api/booking/airJourney.do\n",
      ">> Parameters\n",
      "inf:0 , dep:GMP , tripDivi:0 , airlineCode:7C , chd:0 , adt:1 , arr:CJU , format:json , depDate:20170628 , \n"
     ]
    },
    {
     "name": "stderr",
     "output_type": "stream",
     "text": [
      "2017-06-27 10:21:46,508 root     DEBUG    start scraping Interpark crawled data\n",
      "2017-06-27 10:21:46,545 root     DEBUG    end scraping Interpark crawled data\n",
      "2017-06-27 10:21:46,557 root     DEBUG    Crawling Interpark domastic schedule site\n"
     ]
    },
    {
     "name": "stdout",
     "output_type": "stream",
     "text": [
      "End Simple crawling\n",
      "Start Simple crawling :  http://domair.interpark.com/api/booking/airJourney.do\n",
      ">> Parameters\n",
      "inf:0 , dep:GMP , tripDivi:0 , airlineCode:TW , chd:0 , adt:1 , arr:CJU , format:json , depDate:20170628 , \n"
     ]
    },
    {
     "name": "stderr",
     "output_type": "stream",
     "text": [
      "2017-06-27 10:21:47,191 root     DEBUG    start scraping Interpark crawled data\n",
      "2017-06-27 10:21:47,206 root     DEBUG    end scraping Interpark crawled data\n",
      "2017-06-27 10:21:47,209 root     DEBUG    Crawling Interpark domastic schedule site\n"
     ]
    },
    {
     "name": "stdout",
     "output_type": "stream",
     "text": [
      "End Simple crawling\n",
      "Start Simple crawling :  http://domair.interpark.com/api/booking/airJourney.do\n",
      ">> Parameters\n",
      "inf:0 , dep:GMP , tripDivi:0 , airlineCode:LJ , chd:0 , adt:1 , arr:CJU , format:json , depDate:20170628 , \n"
     ]
    },
    {
     "name": "stderr",
     "output_type": "stream",
     "text": [
      "2017-06-27 10:21:47,883 root     DEBUG    start scraping Interpark crawled data\n",
      "2017-06-27 10:21:47,897 root     DEBUG    end scraping Interpark crawled data\n",
      "2017-06-27 10:21:47,910 root     DEBUG    Crawling Interpark domastic schedule site\n"
     ]
    },
    {
     "name": "stdout",
     "output_type": "stream",
     "text": [
      "End Simple crawling\n",
      "Start Simple crawling :  http://domair.interpark.com/api/booking/airJourney.do\n",
      ">> Parameters\n",
      "inf:0 , dep:GMP , tripDivi:0 , airlineCode:ZE , chd:0 , adt:1 , arr:CJU , format:json , depDate:20170629 , \n"
     ]
    },
    {
     "name": "stderr",
     "output_type": "stream",
     "text": [
      "2017-06-27 10:21:49,131 root     DEBUG    start scraping Interpark crawled data\n",
      "2017-06-27 10:21:49,143 root     DEBUG    end scraping Interpark crawled data\n",
      "2017-06-27 10:21:49,146 root     DEBUG    Crawling Interpark domastic schedule site\n"
     ]
    },
    {
     "name": "stdout",
     "output_type": "stream",
     "text": [
      "End Simple crawling\n",
      "Start Simple crawling :  http://domair.interpark.com/api/booking/airJourney.do\n",
      ">> Parameters\n",
      "inf:0 , dep:GMP , tripDivi:0 , airlineCode:7C , chd:0 , adt:1 , arr:CJU , format:json , depDate:20170629 , \n"
     ]
    },
    {
     "name": "stderr",
     "output_type": "stream",
     "text": [
      "2017-06-27 10:21:51,061 root     DEBUG    start scraping Interpark crawled data\n",
      "2017-06-27 10:21:51,073 root     DEBUG    end scraping Interpark crawled data\n",
      "2017-06-27 10:21:51,076 root     DEBUG    Crawling Interpark domastic schedule site\n"
     ]
    },
    {
     "name": "stdout",
     "output_type": "stream",
     "text": [
      "End Simple crawling\n",
      "Start Simple crawling :  http://domair.interpark.com/api/booking/airJourney.do\n",
      ">> Parameters\n",
      "inf:0 , dep:GMP , tripDivi:0 , airlineCode:TW , chd:0 , adt:1 , arr:CJU , format:json , depDate:20170629 , \n"
     ]
    },
    {
     "name": "stderr",
     "output_type": "stream",
     "text": [
      "2017-06-27 10:21:51,626 root     DEBUG    start scraping Interpark crawled data\n",
      "2017-06-27 10:21:51,637 root     DEBUG    end scraping Interpark crawled data\n",
      "2017-06-27 10:21:51,640 root     DEBUG    Crawling Interpark domastic schedule site\n"
     ]
    },
    {
     "name": "stdout",
     "output_type": "stream",
     "text": [
      "End Simple crawling\n",
      "Start Simple crawling :  http://domair.interpark.com/api/booking/airJourney.do\n",
      ">> Parameters\n",
      "inf:0 , dep:GMP , tripDivi:0 , airlineCode:LJ , chd:0 , adt:1 , arr:CJU , format:json , depDate:20170629 , \n",
      "End Simple crawling"
     ]
    },
    {
     "name": "stderr",
     "output_type": "stream",
     "text": [
      "2017-06-27 10:21:51,826 root     DEBUG    start scraping Interpark crawled data\n",
      "2017-06-27 10:21:51,840 root     DEBUG    end scraping Interpark crawled data\n",
      "2017-06-27 10:21:51,848 root     DEBUG    Crawling Interpark domastic schedule site\n"
     ]
    },
    {
     "name": "stdout",
     "output_type": "stream",
     "text": [
      "\n",
      "Start Simple crawling :  http://domair.interpark.com/api/booking/airJourney.do\n",
      ">> Parameters\n",
      "inf:0 , dep:GMP , tripDivi:0 , airlineCode:ZE , chd:0 , adt:1 , arr:CJU , format:json , depDate:20170630 , \n"
     ]
    },
    {
     "name": "stderr",
     "output_type": "stream",
     "text": [
      "2017-06-27 10:21:53,074 root     DEBUG    start scraping Interpark crawled data\n",
      "2017-06-27 10:21:53,083 root     DEBUG    end scraping Interpark crawled data\n",
      "2017-06-27 10:21:53,085 root     DEBUG    Crawling Interpark domastic schedule site\n"
     ]
    },
    {
     "name": "stdout",
     "output_type": "stream",
     "text": [
      "End Simple crawling\n",
      "Start Simple crawling :  http://domair.interpark.com/api/booking/airJourney.do\n",
      ">> Parameters\n",
      "inf:0 , dep:GMP , tripDivi:0 , airlineCode:7C , chd:0 , adt:1 , arr:CJU , format:json , depDate:20170630 , \n"
     ]
    },
    {
     "name": "stderr",
     "output_type": "stream",
     "text": [
      "2017-06-27 10:21:55,471 root     DEBUG    start scraping Interpark crawled data\n",
      "2017-06-27 10:21:55,483 root     DEBUG    end scraping Interpark crawled data\n",
      "2017-06-27 10:21:55,486 root     DEBUG    Crawling Interpark domastic schedule site\n"
     ]
    },
    {
     "name": "stdout",
     "output_type": "stream",
     "text": [
      "End Simple crawling\n",
      "Start Simple crawling :  http://domair.interpark.com/api/booking/airJourney.do\n",
      ">> Parameters\n",
      "inf:0 , dep:GMP , tripDivi:0 , airlineCode:TW , chd:0 , adt:1 , arr:CJU , format:json , depDate:20170630 , \n"
     ]
    },
    {
     "name": "stderr",
     "output_type": "stream",
     "text": [
      "2017-06-27 10:21:56,037 root     DEBUG    start scraping Interpark crawled data\n",
      "2017-06-27 10:21:56,053 root     DEBUG    end scraping Interpark crawled data\n",
      "2017-06-27 10:21:56,055 root     DEBUG    Crawling Interpark domastic schedule site\n"
     ]
    },
    {
     "name": "stdout",
     "output_type": "stream",
     "text": [
      "End Simple crawling\n",
      "Start Simple crawling :  http://domair.interpark.com/api/booking/airJourney.do\n",
      ">> Parameters\n",
      "inf:0 , dep:GMP , tripDivi:0 , airlineCode:LJ , chd:0 , adt:1 , arr:CJU , format:json , depDate:20170630 , \n"
     ]
    },
    {
     "name": "stderr",
     "output_type": "stream",
     "text": [
      "2017-06-27 10:21:56,746 root     DEBUG    start scraping Interpark crawled data\n",
      "2017-06-27 10:21:56,754 root     DEBUG    end scraping Interpark crawled data\n",
      "2017-06-27 10:21:56,759 root     DEBUG    Crawling Interpark domastic schedule site\n"
     ]
    },
    {
     "name": "stdout",
     "output_type": "stream",
     "text": [
      "End Simple crawling\n",
      "Start Simple crawling :  http://domair.interpark.com/api/booking/airJourney.do\n",
      ">> Parameters\n",
      "inf:0 , dep:GMP , tripDivi:0 , airlineCode:ZE , chd:0 , adt:1 , arr:CJU , format:json , depDate:20170701 , \n"
     ]
    },
    {
     "name": "stderr",
     "output_type": "stream",
     "text": [
      "2017-06-27 10:22:43,007 root     DEBUG    start scraping Interpark crawled data\n",
      "2017-06-27 10:22:43,016 root     DEBUG    end scraping Interpark crawled data\n",
      "2017-06-27 10:22:43,019 root     DEBUG    Crawling Interpark domastic schedule site\n"
     ]
    },
    {
     "name": "stdout",
     "output_type": "stream",
     "text": [
      "End Simple crawling\n",
      "Start Simple crawling :  http://domair.interpark.com/api/booking/airJourney.do\n",
      ">> Parameters\n",
      "inf:0 , dep:GMP , tripDivi:0 , airlineCode:7C , chd:0 , adt:1 , arr:CJU , format:json , depDate:20170701 , \n"
     ]
    },
    {
     "name": "stderr",
     "output_type": "stream",
     "text": [
      "2017-06-27 10:22:44,913 root     DEBUG    start scraping Interpark crawled data\n",
      "2017-06-27 10:22:44,924 root     DEBUG    end scraping Interpark crawled data\n",
      "2017-06-27 10:22:44,926 root     DEBUG    Crawling Interpark domastic schedule site\n"
     ]
    },
    {
     "name": "stdout",
     "output_type": "stream",
     "text": [
      "End Simple crawling\n",
      "Start Simple crawling :  http://domair.interpark.com/api/booking/airJourney.do\n",
      ">> Parameters\n",
      "inf:0 , dep:GMP , tripDivi:0 , airlineCode:TW , chd:0 , adt:1 , arr:CJU , format:json , depDate:20170701 , \n"
     ]
    },
    {
     "name": "stderr",
     "output_type": "stream",
     "text": [
      "2017-06-27 10:22:45,495 root     DEBUG    start scraping Interpark crawled data\n",
      "2017-06-27 10:22:45,507 root     DEBUG    end scraping Interpark crawled data\n",
      "2017-06-27 10:22:45,510 root     DEBUG    Crawling Interpark domastic schedule site\n"
     ]
    },
    {
     "name": "stdout",
     "output_type": "stream",
     "text": [
      "End Simple crawling\n",
      "Start Simple crawling :  http://domair.interpark.com/api/booking/airJourney.do\n",
      ">> Parameters\n",
      "inf:0 , dep:GMP , tripDivi:0 , airlineCode:LJ , chd:0 , adt:1 , arr:CJU , format:json , depDate:20170701 , \n"
     ]
    },
    {
     "name": "stderr",
     "output_type": "stream",
     "text": [
      "2017-06-27 10:22:45,871 root     DEBUG    start scraping Interpark crawled data\n",
      "2017-06-27 10:22:45,878 root     DEBUG    end scraping Interpark crawled data\n",
      "2017-06-27 10:22:45,884 root     DEBUG    Crawling Interpark domastic schedule site\n"
     ]
    },
    {
     "name": "stdout",
     "output_type": "stream",
     "text": [
      "End Simple crawling\n",
      "Start Simple crawling :  http://domair.interpark.com/api/booking/airJourney.do\n",
      ">> Parameters\n",
      "inf:0 , dep:GMP , tripDivi:0 , airlineCode:ZE , chd:0 , adt:1 , arr:CJU , format:json , depDate:20170702 , \n"
     ]
    },
    {
     "name": "stderr",
     "output_type": "stream",
     "text": [
      "2017-06-27 10:22:47,137 root     DEBUG    start scraping Interpark crawled data\n",
      "2017-06-27 10:22:47,146 root     DEBUG    end scraping Interpark crawled data\n",
      "2017-06-27 10:22:47,149 root     DEBUG    Crawling Interpark domastic schedule site\n"
     ]
    },
    {
     "name": "stdout",
     "output_type": "stream",
     "text": [
      "End Simple crawling\n",
      "Start Simple crawling :  http://domair.interpark.com/api/booking/airJourney.do\n",
      ">> Parameters\n",
      "inf:0 , dep:GMP , tripDivi:0 , airlineCode:7C , chd:0 , adt:1 , arr:CJU , format:json , depDate:20170702 , \n"
     ]
    },
    {
     "name": "stderr",
     "output_type": "stream",
     "text": [
      "2017-06-27 10:22:48,678 root     DEBUG    start scraping Interpark crawled data\n",
      "2017-06-27 10:22:48,691 root     DEBUG    end scraping Interpark crawled data\n",
      "2017-06-27 10:22:48,694 root     DEBUG    Crawling Interpark domastic schedule site\n"
     ]
    },
    {
     "name": "stdout",
     "output_type": "stream",
     "text": [
      "End Simple crawling\n",
      "Start Simple crawling :  http://domair.interpark.com/api/booking/airJourney.do\n",
      ">> Parameters\n",
      "inf:0 , dep:GMP , tripDivi:0 , airlineCode:TW , chd:0 , adt:1 , arr:CJU , format:json , depDate:20170702 , \n"
     ]
    },
    {
     "name": "stderr",
     "output_type": "stream",
     "text": [
      "2017-06-27 10:22:49,314 root     DEBUG    start scraping Interpark crawled data\n",
      "2017-06-27 10:22:49,326 root     DEBUG    end scraping Interpark crawled data\n",
      "2017-06-27 10:22:49,329 root     DEBUG    Crawling Interpark domastic schedule site\n"
     ]
    },
    {
     "name": "stdout",
     "output_type": "stream",
     "text": [
      "End Simple crawling\n",
      "Start Simple crawling :  http://domair.interpark.com/api/booking/airJourney.do\n",
      ">> Parameters\n",
      "inf:0 , dep:GMP , tripDivi:0 , airlineCode:LJ , chd:0 , adt:1 , arr:CJU , format:json , depDate:20170702 , \n"
     ]
    },
    {
     "name": "stderr",
     "output_type": "stream",
     "text": [
      "2017-06-27 10:22:49,601 root     DEBUG    start scraping Interpark crawled data\n",
      "2017-06-27 10:22:49,614 root     DEBUG    end scraping Interpark crawled data\n",
      "2017-06-27 10:22:49,621 root     DEBUG    Crawling Interpark domastic schedule site\n"
     ]
    },
    {
     "name": "stdout",
     "output_type": "stream",
     "text": [
      "End Simple crawling\n",
      "Start Simple crawling :  http://domair.interpark.com/api/booking/airJourney.do\n",
      ">> Parameters\n",
      "inf:0 , dep:GMP , tripDivi:0 , airlineCode:ZE , chd:0 , adt:1 , arr:CJU , format:json , depDate:20170703 , \n"
     ]
    },
    {
     "name": "stderr",
     "output_type": "stream",
     "text": [
      "2017-06-27 10:22:51,152 root     DEBUG    start scraping Interpark crawled data\n",
      "2017-06-27 10:22:51,163 root     DEBUG    end scraping Interpark crawled data\n",
      "2017-06-27 10:22:51,167 root     DEBUG    Crawling Interpark domastic schedule site\n"
     ]
    },
    {
     "name": "stdout",
     "output_type": "stream",
     "text": [
      "End Simple crawling\n",
      "Start Simple crawling :  http://domair.interpark.com/api/booking/airJourney.do\n",
      ">> Parameters\n",
      "inf:0 , dep:GMP , tripDivi:0 , airlineCode:7C , chd:0 , adt:1 , arr:CJU , format:json , depDate:20170703 , \n"
     ]
    },
    {
     "name": "stderr",
     "output_type": "stream",
     "text": [
      "2017-06-27 10:22:54,367 root     DEBUG    start scraping Interpark crawled data\n",
      "2017-06-27 10:22:54,378 root     DEBUG    end scraping Interpark crawled data\n",
      "2017-06-27 10:22:54,381 root     DEBUG    Crawling Interpark domastic schedule site\n"
     ]
    },
    {
     "name": "stdout",
     "output_type": "stream",
     "text": [
      "End Simple crawling\n",
      "Start Simple crawling :  http://domair.interpark.com/api/booking/airJourney.do\n",
      ">> Parameters\n",
      "inf:0 , dep:GMP , tripDivi:0 , airlineCode:TW , chd:0 , adt:1 , arr:CJU , format:json , depDate:20170703 , \n"
     ]
    },
    {
     "name": "stderr",
     "output_type": "stream",
     "text": [
      "2017-06-27 10:22:54,920 root     DEBUG    start scraping Interpark crawled data\n",
      "2017-06-27 10:22:54,933 root     DEBUG    end scraping Interpark crawled data\n",
      "2017-06-27 10:22:54,936 root     DEBUG    Crawling Interpark domastic schedule site\n"
     ]
    },
    {
     "name": "stdout",
     "output_type": "stream",
     "text": [
      "End Simple crawling\n",
      "Start Simple crawling :  http://domair.interpark.com/api/booking/airJourney.do\n",
      ">> Parameters\n",
      "inf:0 , dep:GMP , tripDivi:0 , airlineCode:LJ , chd:0 , adt:1 , arr:CJU , format:json , depDate:20170703 , \n"
     ]
    },
    {
     "name": "stderr",
     "output_type": "stream",
     "text": [
      "2017-06-27 10:22:55,135 root     DEBUG    start scraping Interpark crawled data\n",
      "2017-06-27 10:22:55,143 root     DEBUG    end scraping Interpark crawled data\n",
      "2017-06-27 10:22:55,150 root     DEBUG    Crawling Interpark domastic schedule site\n"
     ]
    },
    {
     "name": "stdout",
     "output_type": "stream",
     "text": [
      "End Simple crawling\n",
      "Start Simple crawling :  http://domair.interpark.com/api/booking/airJourney.do\n",
      ">> Parameters\n",
      "inf:0 , dep:GMP , tripDivi:0 , airlineCode:ZE , chd:0 , adt:1 , arr:CJU , format:json , depDate:20170704 , \n"
     ]
    },
    {
     "name": "stderr",
     "output_type": "stream",
     "text": [
      "2017-06-27 10:22:56,373 root     DEBUG    start scraping Interpark crawled data\n",
      "2017-06-27 10:22:56,383 root     DEBUG    end scraping Interpark crawled data\n",
      "2017-06-27 10:22:56,385 root     DEBUG    Crawling Interpark domastic schedule site\n"
     ]
    },
    {
     "name": "stdout",
     "output_type": "stream",
     "text": [
      "End Simple crawling\n",
      "Start Simple crawling :  http://domair.interpark.com/api/booking/airJourney.do\n",
      ">> Parameters\n",
      "inf:0 , dep:GMP , tripDivi:0 , airlineCode:7C , chd:0 , adt:1 , arr:CJU , format:json , depDate:20170704 , \n"
     ]
    },
    {
     "name": "stderr",
     "output_type": "stream",
     "text": [
      "2017-06-27 10:23:02,267 root     DEBUG    start scraping Interpark crawled data\n",
      "2017-06-27 10:23:02,283 root     DEBUG    end scraping Interpark crawled data\n",
      "2017-06-27 10:23:02,287 root     DEBUG    Crawling Interpark domastic schedule site\n"
     ]
    },
    {
     "name": "stdout",
     "output_type": "stream",
     "text": [
      "End Simple crawling\n",
      "Start Simple crawling :  http://domair.interpark.com/api/booking/airJourney.do\n",
      ">> Parameters\n",
      "inf:0 , dep:GMP , tripDivi:0 , airlineCode:TW , chd:0 , adt:1 , arr:CJU , format:json , depDate:20170704 , \n"
     ]
    },
    {
     "name": "stderr",
     "output_type": "stream",
     "text": [
      "2017-06-27 10:23:02,830 root     DEBUG    start scraping Interpark crawled data\n",
      "2017-06-27 10:23:02,842 root     DEBUG    end scraping Interpark crawled data\n",
      "2017-06-27 10:23:02,844 root     DEBUG    Crawling Interpark domastic schedule site\n"
     ]
    },
    {
     "name": "stdout",
     "output_type": "stream",
     "text": [
      "End Simple crawling\n",
      "Start Simple crawling :  http://domair.interpark.com/api/booking/airJourney.do\n",
      ">> Parameters\n",
      "inf:0 , dep:GMP , tripDivi:0 , airlineCode:LJ , chd:0 , adt:1 , arr:CJU , format:json , depDate:20170704 , \n"
     ]
    },
    {
     "name": "stderr",
     "output_type": "stream",
     "text": [
      "2017-06-27 10:23:03,345 root     DEBUG    start scraping Interpark crawled data\n",
      "2017-06-27 10:23:03,357 root     DEBUG    end scraping Interpark crawled data\n",
      "2017-06-27 10:23:03,363 root     DEBUG    Crawling Interpark domastic schedule site\n"
     ]
    },
    {
     "name": "stdout",
     "output_type": "stream",
     "text": [
      "End Simple crawling\n",
      "Start Simple crawling :  http://domair.interpark.com/api/booking/airJourney.do\n",
      ">> Parameters\n",
      "inf:0 , dep:GMP , tripDivi:0 , airlineCode:ZE , chd:0 , adt:1 , arr:CJU , format:json , depDate:20170705 , \n"
     ]
    },
    {
     "name": "stderr",
     "output_type": "stream",
     "text": [
      "2017-06-27 10:23:04,638 root     DEBUG    start scraping Interpark crawled data\n",
      "2017-06-27 10:23:04,647 root     DEBUG    end scraping Interpark crawled data\n",
      "2017-06-27 10:23:04,650 root     DEBUG    Crawling Interpark domastic schedule site\n"
     ]
    },
    {
     "name": "stdout",
     "output_type": "stream",
     "text": [
      "End Simple crawling\n",
      "Start Simple crawling :  http://domair.interpark.com/api/booking/airJourney.do\n",
      ">> Parameters\n",
      "inf:0 , dep:GMP , tripDivi:0 , airlineCode:7C , chd:0 , adt:1 , arr:CJU , format:json , depDate:20170705 , \n"
     ]
    },
    {
     "name": "stderr",
     "output_type": "stream",
     "text": [
      "2017-06-27 10:23:07,461 root     DEBUG    start scraping Interpark crawled data\n",
      "2017-06-27 10:23:07,472 root     DEBUG    end scraping Interpark crawled data\n",
      "2017-06-27 10:23:07,477 root     DEBUG    Crawling Interpark domastic schedule site\n"
     ]
    },
    {
     "name": "stdout",
     "output_type": "stream",
     "text": [
      "End Simple crawling\n",
      "Start Simple crawling :  http://domair.interpark.com/api/booking/airJourney.do\n",
      ">> Parameters\n",
      "inf:0 , dep:GMP , tripDivi:0 , airlineCode:TW , chd:0 , adt:1 , arr:CJU , format:json , depDate:20170705 , \n"
     ]
    },
    {
     "name": "stderr",
     "output_type": "stream",
     "text": [
      "2017-06-27 10:23:08,017 root     DEBUG    start scraping Interpark crawled data\n",
      "2017-06-27 10:23:08,038 root     DEBUG    end scraping Interpark crawled data\n",
      "2017-06-27 10:23:08,041 root     DEBUG    Crawling Interpark domastic schedule site\n"
     ]
    },
    {
     "name": "stdout",
     "output_type": "stream",
     "text": [
      "End Simple crawling\n",
      "Start Simple crawling :  http://domair.interpark.com/api/booking/airJourney.do\n",
      ">> Parameters\n",
      "inf:0 , dep:GMP , tripDivi:0 , airlineCode:LJ , chd:0 , adt:1 , arr:CJU , format:json , depDate:20170705 , \n"
     ]
    },
    {
     "name": "stderr",
     "output_type": "stream",
     "text": [
      "2017-06-27 10:23:08,236 root     DEBUG    start scraping Interpark crawled data\n",
      "2017-06-27 10:23:08,245 root     DEBUG    end scraping Interpark crawled data\n",
      "2017-06-27 10:23:08,250 root     DEBUG    Crawling Interpark domastic schedule site\n"
     ]
    },
    {
     "name": "stdout",
     "output_type": "stream",
     "text": [
      "End Simple crawling\n",
      "Start Simple crawling :  http://domair.interpark.com/api/booking/airJourney.do\n",
      ">> Parameters\n",
      "inf:0 , dep:GMP , tripDivi:0 , airlineCode:ZE , chd:0 , adt:1 , arr:CJU , format:json , depDate:20170706 , \n"
     ]
    },
    {
     "name": "stderr",
     "output_type": "stream",
     "text": [
      "2017-06-27 10:23:09,482 root     DEBUG    start scraping Interpark crawled data\n",
      "2017-06-27 10:23:09,492 root     DEBUG    end scraping Interpark crawled data\n",
      "2017-06-27 10:23:09,495 root     DEBUG    Crawling Interpark domastic schedule site\n"
     ]
    },
    {
     "name": "stdout",
     "output_type": "stream",
     "text": [
      "End Simple crawling\n",
      "Start Simple crawling :  http://domair.interpark.com/api/booking/airJourney.do\n",
      ">> Parameters\n",
      "inf:0 , dep:GMP , tripDivi:0 , airlineCode:7C , chd:0 , adt:1 , arr:CJU , format:json , depDate:20170706 , \n"
     ]
    },
    {
     "name": "stderr",
     "output_type": "stream",
     "text": [
      "2017-06-27 10:23:11,078 root     DEBUG    start scraping Interpark crawled data\n",
      "2017-06-27 10:23:11,090 root     DEBUG    end scraping Interpark crawled data\n",
      "2017-06-27 10:23:11,093 root     DEBUG    Crawling Interpark domastic schedule site\n"
     ]
    },
    {
     "name": "stdout",
     "output_type": "stream",
     "text": [
      "End Simple crawling\n",
      "Start Simple crawling :  http://domair.interpark.com/api/booking/airJourney.do\n",
      ">> Parameters\n",
      "inf:0 , dep:GMP , tripDivi:0 , airlineCode:TW , chd:0 , adt:1 , arr:CJU , format:json , depDate:20170706 , \n"
     ]
    },
    {
     "name": "stderr",
     "output_type": "stream",
     "text": [
      "2017-06-27 10:23:11,640 root     DEBUG    start scraping Interpark crawled data\n",
      "2017-06-27 10:23:11,655 root     DEBUG    end scraping Interpark crawled data\n",
      "2017-06-27 10:23:11,658 root     DEBUG    Crawling Interpark domastic schedule site\n"
     ]
    },
    {
     "name": "stdout",
     "output_type": "stream",
     "text": [
      "End Simple crawling\n",
      "Start Simple crawling :  http://domair.interpark.com/api/booking/airJourney.do\n",
      ">> Parameters\n",
      "inf:0 , dep:GMP , tripDivi:0 , airlineCode:LJ , chd:0 , adt:1 , arr:CJU , format:json , depDate:20170706 , \n"
     ]
    },
    {
     "name": "stderr",
     "output_type": "stream",
     "text": [
      "2017-06-27 10:23:12,303 root     DEBUG    start scraping Interpark crawled data\n",
      "2017-06-27 10:23:12,310 root     DEBUG    end scraping Interpark crawled data\n",
      "2017-06-27 10:23:12,315 root     DEBUG    Crawling Interpark domastic schedule site\n"
     ]
    },
    {
     "name": "stdout",
     "output_type": "stream",
     "text": [
      "End Simple crawling\n",
      "Start Simple crawling :  http://domair.interpark.com/api/booking/airJourney.do\n",
      ">> Parameters\n",
      "inf:0 , dep:GMP , tripDivi:0 , airlineCode:ZE , chd:0 , adt:1 , arr:CJU , format:json , depDate:20170707 , \n"
     ]
    },
    {
     "name": "stderr",
     "output_type": "stream",
     "text": [
      "2017-06-27 10:23:13,550 root     DEBUG    start scraping Interpark crawled data\n",
      "2017-06-27 10:23:13,562 root     DEBUG    end scraping Interpark crawled data\n",
      "2017-06-27 10:23:13,564 root     DEBUG    Crawling Interpark domastic schedule site\n"
     ]
    },
    {
     "name": "stdout",
     "output_type": "stream",
     "text": [
      "End Simple crawling\n",
      "Start Simple crawling :  http://domair.interpark.com/api/booking/airJourney.do\n",
      ">> Parameters\n",
      "inf:0 , dep:GMP , tripDivi:0 , airlineCode:7C , chd:0 , adt:1 , arr:CJU , format:json , depDate:20170707 , \n"
     ]
    },
    {
     "name": "stderr",
     "output_type": "stream",
     "text": [
      "2017-06-27 10:23:15,728 root     DEBUG    start scraping Interpark crawled data\n",
      "2017-06-27 10:23:15,739 root     DEBUG    end scraping Interpark crawled data\n",
      "2017-06-27 10:23:15,741 root     DEBUG    Crawling Interpark domastic schedule site\n"
     ]
    },
    {
     "name": "stdout",
     "output_type": "stream",
     "text": [
      "End Simple crawling\n",
      "Start Simple crawling :  http://domair.interpark.com/api/booking/airJourney.do\n",
      ">> Parameters\n",
      "inf:0 , dep:GMP , tripDivi:0 , airlineCode:TW , chd:0 , adt:1 , arr:CJU , format:json , depDate:20170707 , \n"
     ]
    },
    {
     "name": "stderr",
     "output_type": "stream",
     "text": [
      "2017-06-27 10:23:16,375 root     DEBUG    start scraping Interpark crawled data\n",
      "2017-06-27 10:23:16,394 root     DEBUG    end scraping Interpark crawled data\n",
      "2017-06-27 10:23:16,397 root     DEBUG    Crawling Interpark domastic schedule site\n"
     ]
    },
    {
     "name": "stdout",
     "output_type": "stream",
     "text": [
      "End Simple crawling\n",
      "Start Simple crawling :  http://domair.interpark.com/api/booking/airJourney.do\n",
      ">> Parameters\n",
      "inf:0 , dep:GMP , tripDivi:0 , airlineCode:LJ , chd:0 , adt:1 , arr:CJU , format:json , depDate:20170707 , \n"
     ]
    },
    {
     "name": "stderr",
     "output_type": "stream",
     "text": [
      "2017-06-27 10:23:16,608 root     DEBUG    start scraping Interpark crawled data\n",
      "2017-06-27 10:23:16,621 root     DEBUG    end scraping Interpark crawled data\n",
      "2017-06-27 10:23:16,628 root     DEBUG    Crawling Interpark domastic schedule site\n"
     ]
    },
    {
     "name": "stdout",
     "output_type": "stream",
     "text": [
      "End Simple crawling\n",
      "Start Simple crawling :  http://domair.interpark.com/api/booking/airJourney.do\n",
      ">> Parameters\n",
      "inf:0 , dep:GMP , tripDivi:0 , airlineCode:ZE , chd:0 , adt:1 , arr:CJU , format:json , depDate:20170708 , \n"
     ]
    },
    {
     "name": "stderr",
     "output_type": "stream",
     "text": [
      "2017-06-27 10:23:17,832 root     DEBUG    start scraping Interpark crawled data\n",
      "2017-06-27 10:23:17,840 root     DEBUG    end scraping Interpark crawled data\n",
      "2017-06-27 10:23:17,843 root     DEBUG    Crawling Interpark domastic schedule site\n"
     ]
    },
    {
     "name": "stdout",
     "output_type": "stream",
     "text": [
      "End Simple crawling\n",
      "Start Simple crawling :  http://domair.interpark.com/api/booking/airJourney.do\n",
      ">> Parameters\n",
      "inf:0 , dep:GMP , tripDivi:0 , airlineCode:7C , chd:0 , adt:1 , arr:CJU , format:json , depDate:20170708 , \n"
     ]
    },
    {
     "name": "stderr",
     "output_type": "stream",
     "text": [
      "2017-06-27 10:23:19,486 root     DEBUG    start scraping Interpark crawled data\n",
      "2017-06-27 10:23:19,498 root     DEBUG    end scraping Interpark crawled data\n",
      "2017-06-27 10:23:19,504 root     DEBUG    Crawling Interpark domastic schedule site\n"
     ]
    },
    {
     "name": "stdout",
     "output_type": "stream",
     "text": [
      "End Simple crawling\n",
      "Start Simple crawling :  http://domair.interpark.com/api/booking/airJourney.do\n",
      ">> Parameters\n",
      "inf:0 , dep:GMP , tripDivi:0 , airlineCode:TW , chd:0 , adt:1 , arr:CJU , format:json , depDate:20170708 , \n"
     ]
    },
    {
     "name": "stderr",
     "output_type": "stream",
     "text": [
      "2017-06-27 10:23:20,118 root     DEBUG    start scraping Interpark crawled data\n",
      "2017-06-27 10:23:20,135 root     DEBUG    end scraping Interpark crawled data\n",
      "2017-06-27 10:23:20,138 root     DEBUG    Crawling Interpark domastic schedule site\n",
      "2017-06-27 10:23:20,311 root     DEBUG    start scraping Interpark crawled data\n"
     ]
    },
    {
     "name": "stdout",
     "output_type": "stream",
     "text": [
      "End Simple crawling\n",
      "Start Simple crawling :  http://domair.interpark.com/api/booking/airJourney.do\n",
      ">> Parameters\n",
      "inf:0 , dep:GMP , tripDivi:0 , airlineCode:LJ , chd:0 , adt:1 , arr:CJU , format:json , depDate:20170708 , \n",
      "End Simple crawling\n"
     ]
    },
    {
     "name": "stderr",
     "output_type": "stream",
     "text": [
      "2017-06-27 10:23:20,319 root     DEBUG    end scraping Interpark crawled data\n",
      "2017-06-27 10:23:20,327 root     DEBUG    Crawling Interpark domastic schedule site\n"
     ]
    },
    {
     "name": "stdout",
     "output_type": "stream",
     "text": [
      "Start Simple crawling :  http://domair.interpark.com/api/booking/airJourney.do\n",
      ">> Parameters\n",
      "inf:0 , dep:GMP , tripDivi:0 , airlineCode:ZE , chd:0 , adt:1 , arr:CJU , format:json , depDate:20170709 , \n"
     ]
    },
    {
     "name": "stderr",
     "output_type": "stream",
     "text": [
      "2017-06-27 10:23:21,552 root     DEBUG    start scraping Interpark crawled data\n",
      "2017-06-27 10:23:21,565 root     DEBUG    end scraping Interpark crawled data\n",
      "2017-06-27 10:23:21,568 root     DEBUG    Crawling Interpark domastic schedule site\n"
     ]
    },
    {
     "name": "stdout",
     "output_type": "stream",
     "text": [
      "End Simple crawling\n",
      "Start Simple crawling :  http://domair.interpark.com/api/booking/airJourney.do\n",
      ">> Parameters\n",
      "inf:0 , dep:GMP , tripDivi:0 , airlineCode:7C , chd:0 , adt:1 , arr:CJU , format:json , depDate:20170709 , \n"
     ]
    },
    {
     "name": "stderr",
     "output_type": "stream",
     "text": [
      "2017-06-27 10:23:23,123 root     DEBUG    start scraping Interpark crawled data\n",
      "2017-06-27 10:23:23,134 root     DEBUG    end scraping Interpark crawled data\n",
      "2017-06-27 10:23:23,137 root     DEBUG    Crawling Interpark domastic schedule site\n"
     ]
    },
    {
     "name": "stdout",
     "output_type": "stream",
     "text": [
      "End Simple crawling\n",
      "Start Simple crawling :  http://domair.interpark.com/api/booking/airJourney.do\n",
      ">> Parameters\n",
      "inf:0 , dep:GMP , tripDivi:0 , airlineCode:TW , chd:0 , adt:1 , arr:CJU , format:json , depDate:20170709 , \n"
     ]
    },
    {
     "name": "stderr",
     "output_type": "stream",
     "text": [
      "2017-06-27 10:23:23,693 root     DEBUG    start scraping Interpark crawled data\n",
      "2017-06-27 10:23:23,704 root     DEBUG    end scraping Interpark crawled data\n",
      "2017-06-27 10:23:23,706 root     DEBUG    Crawling Interpark domastic schedule site\n",
      "2017-06-27 10:23:23,863 root     DEBUG    start scraping Interpark crawled data\n",
      "2017-06-27 10:23:23,871 root     DEBUG    end scraping Interpark crawled data\n",
      "2017-06-27 10:23:23,879 root     DEBUG    Crawling Interpark domastic schedule site\n"
     ]
    },
    {
     "name": "stdout",
     "output_type": "stream",
     "text": [
      "End Simple crawling\n",
      "Start Simple crawling :  http://domair.interpark.com/api/booking/airJourney.do\n",
      ">> Parameters\n",
      "inf:0 , dep:GMP , tripDivi:0 , airlineCode:LJ , chd:0 , adt:1 , arr:CJU , format:json , depDate:20170709 , \n",
      "End Simple crawling\n",
      "Start Simple crawling :  http://domair.interpark.com/api/booking/airJourney.do\n",
      ">> Parameters\n",
      "inf:0 , dep:GMP , tripDivi:0 , airlineCode:ZE , chd:0 , adt:1 , arr:CJU , format:json , depDate:20170710 , \n"
     ]
    },
    {
     "name": "stderr",
     "output_type": "stream",
     "text": [
      "2017-06-27 10:23:25,123 root     DEBUG    start scraping Interpark crawled data\n",
      "2017-06-27 10:23:25,132 root     DEBUG    end scraping Interpark crawled data\n",
      "2017-06-27 10:23:25,135 root     DEBUG    Crawling Interpark domastic schedule site\n"
     ]
    },
    {
     "name": "stdout",
     "output_type": "stream",
     "text": [
      "End Simple crawling\n",
      "Start Simple crawling :  http://domair.interpark.com/api/booking/airJourney.do\n",
      ">> Parameters\n",
      "inf:0 , dep:GMP , tripDivi:0 , airlineCode:7C , chd:0 , adt:1 , arr:CJU , format:json , depDate:20170710 , \n"
     ]
    },
    {
     "name": "stderr",
     "output_type": "stream",
     "text": [
      "2017-06-27 10:23:27,321 root     DEBUG    start scraping Interpark crawled data\n",
      "2017-06-27 10:23:27,330 root     DEBUG    end scraping Interpark crawled data\n",
      "2017-06-27 10:23:27,332 root     DEBUG    Crawling Interpark domastic schedule site\n"
     ]
    },
    {
     "name": "stdout",
     "output_type": "stream",
     "text": [
      "End Simple crawling\n",
      "Start Simple crawling :  http://domair.interpark.com/api/booking/airJourney.do\n",
      ">> Parameters\n",
      "inf:0 , dep:GMP , tripDivi:0 , airlineCode:TW , chd:0 , adt:1 , arr:CJU , format:json , depDate:20170710 , \n"
     ]
    },
    {
     "name": "stderr",
     "output_type": "stream",
     "text": [
      "2017-06-27 10:23:27,929 root     DEBUG    start scraping Interpark crawled data\n",
      "2017-06-27 10:23:27,948 root     DEBUG    end scraping Interpark crawled data\n",
      "2017-06-27 10:23:27,951 root     DEBUG    Crawling Interpark domastic schedule site\n"
     ]
    },
    {
     "name": "stdout",
     "output_type": "stream",
     "text": [
      "End Simple crawling\n",
      "Start Simple crawling :  http://domair.interpark.com/api/booking/airJourney.do\n",
      ">> Parameters\n",
      "inf:0 , dep:GMP , tripDivi:0 , airlineCode:LJ , chd:0 , adt:1 , arr:CJU , format:json , depDate:20170710 , \n"
     ]
    },
    {
     "name": "stderr",
     "output_type": "stream",
     "text": [
      "2017-06-27 10:23:28,188 root     DEBUG    start scraping Interpark crawled data\n",
      "2017-06-27 10:23:28,197 root     DEBUG    end scraping Interpark crawled data\n",
      "2017-06-27 10:23:28,203 root     DEBUG    Crawling Interpark domastic schedule site\n"
     ]
    },
    {
     "name": "stdout",
     "output_type": "stream",
     "text": [
      "End Simple crawling\n",
      "Start Simple crawling :  http://domair.interpark.com/api/booking/airJourney.do\n",
      ">> Parameters\n",
      "inf:0 , dep:GMP , tripDivi:0 , airlineCode:ZE , chd:0 , adt:1 , arr:CJU , format:json , depDate:20170711 , \n"
     ]
    },
    {
     "name": "stderr",
     "output_type": "stream",
     "text": [
      "2017-06-27 10:23:29,526 root     DEBUG    start scraping Interpark crawled data\n",
      "2017-06-27 10:23:29,535 root     DEBUG    end scraping Interpark crawled data\n",
      "2017-06-27 10:23:29,537 root     DEBUG    Crawling Interpark domastic schedule site\n"
     ]
    },
    {
     "name": "stdout",
     "output_type": "stream",
     "text": [
      "End Simple crawling\n",
      "Start Simple crawling :  http://domair.interpark.com/api/booking/airJourney.do\n",
      ">> Parameters\n",
      "inf:0 , dep:GMP , tripDivi:0 , airlineCode:7C , chd:0 , adt:1 , arr:CJU , format:json , depDate:20170711 , \n"
     ]
    },
    {
     "name": "stderr",
     "output_type": "stream",
     "text": [
      "2017-06-27 10:23:31,056 root     DEBUG    start scraping Interpark crawled data\n",
      "2017-06-27 10:23:31,065 root     DEBUG    end scraping Interpark crawled data\n",
      "2017-06-27 10:23:31,069 root     DEBUG    Crawling Interpark domastic schedule site\n"
     ]
    },
    {
     "name": "stdout",
     "output_type": "stream",
     "text": [
      "End Simple crawling\n",
      "Start Simple crawling :  http://domair.interpark.com/api/booking/airJourney.do\n",
      ">> Parameters\n",
      "inf:0 , dep:GMP , tripDivi:0 , airlineCode:TW , chd:0 , adt:1 , arr:CJU , format:json , depDate:20170711 , \n"
     ]
    },
    {
     "name": "stderr",
     "output_type": "stream",
     "text": [
      "2017-06-27 10:23:31,669 root     DEBUG    start scraping Interpark crawled data\n",
      "2017-06-27 10:23:31,690 root     DEBUG    end scraping Interpark crawled data\n",
      "2017-06-27 10:23:31,698 root     DEBUG    Crawling Interpark domastic schedule site\n"
     ]
    },
    {
     "name": "stdout",
     "output_type": "stream",
     "text": [
      "End Simple crawling\n",
      "Start Simple crawling :  http://domair.interpark.com/api/booking/airJourney.do\n",
      ">> Parameters\n",
      "inf:0 , dep:GMP , tripDivi:0 , airlineCode:LJ , chd:0 , adt:1 , arr:CJU , format:json , depDate:20170711 , \n"
     ]
    },
    {
     "name": "stderr",
     "output_type": "stream",
     "text": [
      "2017-06-27 10:23:32,130 root     DEBUG    start scraping Interpark crawled data\n",
      "2017-06-27 10:23:32,165 root     DEBUG    end scraping Interpark crawled data\n",
      "2017-06-27 10:23:32,173 root     DEBUG    Crawling Interpark domastic schedule site\n"
     ]
    },
    {
     "name": "stdout",
     "output_type": "stream",
     "text": [
      "End Simple crawling\n",
      "Start Simple crawling :  http://domair.interpark.com/api/booking/airJourney.do\n",
      ">> Parameters\n",
      "inf:0 , dep:GMP , tripDivi:0 , airlineCode:ZE , chd:0 , adt:1 , arr:CJU , format:json , depDate:20170712 , \n"
     ]
    },
    {
     "name": "stderr",
     "output_type": "stream",
     "text": [
      "2017-06-27 10:23:33,486 root     DEBUG    start scraping Interpark crawled data\n",
      "2017-06-27 10:23:33,502 root     DEBUG    end scraping Interpark crawled data\n",
      "2017-06-27 10:23:33,507 root     DEBUG    Crawling Interpark domastic schedule site\n"
     ]
    },
    {
     "name": "stdout",
     "output_type": "stream",
     "text": [
      "End Simple crawling\n",
      "Start Simple crawling :  http://domair.interpark.com/api/booking/airJourney.do\n",
      ">> Parameters\n",
      "inf:0 , dep:GMP , tripDivi:0 , airlineCode:7C , chd:0 , adt:1 , arr:CJU , format:json , depDate:20170712 , \n"
     ]
    },
    {
     "name": "stderr",
     "output_type": "stream",
     "text": [
      "2017-06-27 10:23:36,061 root     DEBUG    start scraping Interpark crawled data\n",
      "2017-06-27 10:23:36,072 root     DEBUG    end scraping Interpark crawled data\n",
      "2017-06-27 10:23:36,075 root     DEBUG    Crawling Interpark domastic schedule site\n"
     ]
    },
    {
     "name": "stdout",
     "output_type": "stream",
     "text": [
      "End Simple crawling\n",
      "Start Simple crawling :  http://domair.interpark.com/api/booking/airJourney.do\n",
      ">> Parameters\n",
      "inf:0 , dep:GMP , tripDivi:0 , airlineCode:TW , chd:0 , adt:1 , arr:CJU , format:json , depDate:20170712 , \n"
     ]
    },
    {
     "name": "stderr",
     "output_type": "stream",
     "text": [
      "2017-06-27 10:23:36,749 root     DEBUG    start scraping Interpark crawled data\n",
      "2017-06-27 10:23:36,770 root     DEBUG    end scraping Interpark crawled data\n",
      "2017-06-27 10:23:36,774 root     DEBUG    Crawling Interpark domastic schedule site\n"
     ]
    },
    {
     "name": "stdout",
     "output_type": "stream",
     "text": [
      "End Simple crawling\n",
      "Start Simple crawling :  http://domair.interpark.com/api/booking/airJourney.do\n",
      ">> Parameters\n",
      "inf:0 , dep:GMP , tripDivi:0 , airlineCode:LJ , chd:0 , adt:1 , arr:CJU , format:json , depDate:20170712 , \n"
     ]
    },
    {
     "name": "stderr",
     "output_type": "stream",
     "text": [
      "2017-06-27 10:23:37,538 root     DEBUG    start scraping Interpark crawled data\n",
      "2017-06-27 10:23:37,548 root     DEBUG    end scraping Interpark crawled data\n",
      "2017-06-27 10:23:37,553 root     DEBUG    Crawling Interpark domastic schedule site\n"
     ]
    },
    {
     "name": "stdout",
     "output_type": "stream",
     "text": [
      "End Simple crawling\n",
      "Start Simple crawling :  http://domair.interpark.com/api/booking/airJourney.do\n",
      ">> Parameters\n",
      "inf:0 , dep:GMP , tripDivi:0 , airlineCode:ZE , chd:0 , adt:1 , arr:CJU , format:json , depDate:20170713 , \n"
     ]
    },
    {
     "name": "stderr",
     "output_type": "stream",
     "text": [
      "2017-06-27 10:23:38,825 root     DEBUG    start scraping Interpark crawled data\n",
      "2017-06-27 10:23:38,839 root     DEBUG    end scraping Interpark crawled data\n",
      "2017-06-27 10:23:38,844 root     DEBUG    Crawling Interpark domastic schedule site\n"
     ]
    },
    {
     "name": "stdout",
     "output_type": "stream",
     "text": [
      "End Simple crawling\n",
      "Start Simple crawling :  http://domair.interpark.com/api/booking/airJourney.do\n",
      ">> Parameters\n",
      "inf:0 , dep:GMP , tripDivi:0 , airlineCode:7C , chd:0 , adt:1 , arr:CJU , format:json , depDate:20170713 , \n"
     ]
    },
    {
     "name": "stderr",
     "output_type": "stream",
     "text": [
      "2017-06-27 10:23:40,717 root     DEBUG    start scraping Interpark crawled data\n",
      "2017-06-27 10:23:40,732 root     DEBUG    end scraping Interpark crawled data\n",
      "2017-06-27 10:23:40,735 root     DEBUG    Crawling Interpark domastic schedule site\n"
     ]
    },
    {
     "name": "stdout",
     "output_type": "stream",
     "text": [
      "End Simple crawling\n",
      "Start Simple crawling :  http://domair.interpark.com/api/booking/airJourney.do\n",
      ">> Parameters\n",
      "inf:0 , dep:GMP , tripDivi:0 , airlineCode:TW , chd:0 , adt:1 , arr:CJU , format:json , depDate:20170713 , \n"
     ]
    },
    {
     "name": "stderr",
     "output_type": "stream",
     "text": [
      "2017-06-27 10:23:41,418 root     DEBUG    start scraping Interpark crawled data\n",
      "2017-06-27 10:23:41,438 root     DEBUG    end scraping Interpark crawled data\n",
      "2017-06-27 10:23:41,440 root     DEBUG    Crawling Interpark domastic schedule site\n"
     ]
    },
    {
     "name": "stdout",
     "output_type": "stream",
     "text": [
      "End Simple crawling\n",
      "Start Simple crawling :  http://domair.interpark.com/api/booking/airJourney.do\n",
      ">> Parameters\n",
      "inf:0 , dep:GMP , tripDivi:0 , airlineCode:LJ , chd:0 , adt:1 , arr:CJU , format:json , depDate:20170713 , \n"
     ]
    },
    {
     "name": "stderr",
     "output_type": "stream",
     "text": [
      "2017-06-27 10:23:41,700 root     DEBUG    start scraping Interpark crawled data\n",
      "2017-06-27 10:23:41,715 root     DEBUG    end scraping Interpark crawled data\n",
      "2017-06-27 10:23:41,723 root     DEBUG    Crawling Interpark domastic schedule site\n"
     ]
    },
    {
     "name": "stdout",
     "output_type": "stream",
     "text": [
      "End Simple crawling\n",
      "Start Simple crawling :  http://domair.interpark.com/api/booking/airJourney.do\n",
      ">> Parameters\n",
      "inf:0 , dep:GMP , tripDivi:0 , airlineCode:ZE , chd:0 , adt:1 , arr:CJU , format:json , depDate:20170714 , \n"
     ]
    },
    {
     "name": "stderr",
     "output_type": "stream",
     "text": [
      "2017-06-27 10:23:42,946 root     DEBUG    start scraping Interpark crawled data\n",
      "2017-06-27 10:23:42,961 root     DEBUG    end scraping Interpark crawled data\n",
      "2017-06-27 10:23:42,964 root     DEBUG    Crawling Interpark domastic schedule site\n"
     ]
    },
    {
     "name": "stdout",
     "output_type": "stream",
     "text": [
      "End Simple crawling\n",
      "Start Simple crawling :  http://domair.interpark.com/api/booking/airJourney.do\n",
      ">> Parameters\n",
      "inf:0 , dep:GMP , tripDivi:0 , airlineCode:7C , chd:0 , adt:1 , arr:CJU , format:json , depDate:20170714 , \n"
     ]
    },
    {
     "name": "stderr",
     "output_type": "stream",
     "text": [
      "2017-06-27 10:23:50,865 root     DEBUG    start scraping Interpark crawled data\n",
      "2017-06-27 10:23:50,881 root     DEBUG    end scraping Interpark crawled data\n",
      "2017-06-27 10:23:50,884 root     DEBUG    Crawling Interpark domastic schedule site\n"
     ]
    },
    {
     "name": "stdout",
     "output_type": "stream",
     "text": [
      "End Simple crawling\n",
      "Start Simple crawling :  http://domair.interpark.com/api/booking/airJourney.do\n",
      ">> Parameters\n",
      "inf:0 , dep:GMP , tripDivi:0 , airlineCode:TW , chd:0 , adt:1 , arr:CJU , format:json , depDate:20170714 , \n"
     ]
    },
    {
     "name": "stderr",
     "output_type": "stream",
     "text": [
      "2017-06-27 10:23:51,464 root     DEBUG    start scraping Interpark crawled data\n",
      "2017-06-27 10:23:51,482 root     DEBUG    end scraping Interpark crawled data\n",
      "2017-06-27 10:23:51,486 root     DEBUG    Crawling Interpark domastic schedule site\n"
     ]
    },
    {
     "name": "stdout",
     "output_type": "stream",
     "text": [
      "End Simple crawling\n",
      "Start Simple crawling :  http://domair.interpark.com/api/booking/airJourney.do\n",
      ">> Parameters\n",
      "inf:0 , dep:GMP , tripDivi:0 , airlineCode:LJ , chd:0 , adt:1 , arr:CJU , format:json , depDate:20170714 , \n"
     ]
    },
    {
     "name": "stderr",
     "output_type": "stream",
     "text": [
      "2017-06-27 10:23:51,696 root     DEBUG    start scraping Interpark crawled data\n",
      "2017-06-27 10:23:51,712 root     DEBUG    end scraping Interpark crawled data\n",
      "2017-06-27 10:23:51,720 root     DEBUG    Crawling Interpark domastic schedule site\n"
     ]
    },
    {
     "name": "stdout",
     "output_type": "stream",
     "text": [
      "End Simple crawling\n",
      "Start Simple crawling :  http://domair.interpark.com/api/booking/airJourney.do\n",
      ">> Parameters\n",
      "inf:0 , dep:GMP , tripDivi:0 , airlineCode:ZE , chd:0 , adt:1 , arr:CJU , format:json , depDate:20170715 , \n"
     ]
    },
    {
     "name": "stderr",
     "output_type": "stream",
     "text": [
      "2017-06-27 10:23:52,962 root     DEBUG    start scraping Interpark crawled data\n",
      "2017-06-27 10:23:52,977 root     DEBUG    end scraping Interpark crawled data\n",
      "2017-06-27 10:23:52,979 root     DEBUG    Crawling Interpark domastic schedule site\n"
     ]
    },
    {
     "name": "stdout",
     "output_type": "stream",
     "text": [
      "End Simple crawling\n",
      "Start Simple crawling :  http://domair.interpark.com/api/booking/airJourney.do\n",
      ">> Parameters\n",
      "inf:0 , dep:GMP , tripDivi:0 , airlineCode:7C , chd:0 , adt:1 , arr:CJU , format:json , depDate:20170715 , \n"
     ]
    },
    {
     "name": "stderr",
     "output_type": "stream",
     "text": [
      "2017-06-27 10:23:57,936 root     DEBUG    start scraping Interpark crawled data\n",
      "2017-06-27 10:23:57,950 root     DEBUG    end scraping Interpark crawled data\n",
      "2017-06-27 10:23:57,952 root     DEBUG    Crawling Interpark domastic schedule site\n"
     ]
    },
    {
     "name": "stdout",
     "output_type": "stream",
     "text": [
      "End Simple crawling\n",
      "Start Simple crawling :  http://domair.interpark.com/api/booking/airJourney.do\n",
      ">> Parameters\n",
      "inf:0 , dep:GMP , tripDivi:0 , airlineCode:TW , chd:0 , adt:1 , arr:CJU , format:json , depDate:20170715 , \n"
     ]
    },
    {
     "name": "stderr",
     "output_type": "stream",
     "text": [
      "2017-06-27 10:23:58,563 root     DEBUG    start scraping Interpark crawled data\n",
      "2017-06-27 10:23:58,583 root     DEBUG    end scraping Interpark crawled data\n",
      "2017-06-27 10:23:58,585 root     DEBUG    Crawling Interpark domastic schedule site\n"
     ]
    },
    {
     "name": "stdout",
     "output_type": "stream",
     "text": [
      "End Simple crawling\n",
      "Start Simple crawling :  http://domair.interpark.com/api/booking/airJourney.do\n",
      ">> Parameters\n",
      "inf:0 , dep:GMP , tripDivi:0 , airlineCode:LJ , chd:0 , adt:1 , arr:CJU , format:json , depDate:20170715 , \n"
     ]
    },
    {
     "name": "stderr",
     "output_type": "stream",
     "text": [
      "2017-06-27 10:23:58,834 root     DEBUG    start scraping Interpark crawled data\n",
      "2017-06-27 10:23:58,845 root     DEBUG    end scraping Interpark crawled data\n",
      "2017-06-27 10:23:58,852 root     DEBUG    Crawling Interpark domastic schedule site\n"
     ]
    },
    {
     "name": "stdout",
     "output_type": "stream",
     "text": [
      "End Simple crawling\n",
      "Start Simple crawling :  http://domair.interpark.com/api/booking/airJourney.do\n",
      ">> Parameters\n",
      "inf:0 , dep:GMP , tripDivi:0 , airlineCode:ZE , chd:0 , adt:1 , arr:CJU , format:json , depDate:20170716 , \n"
     ]
    },
    {
     "name": "stderr",
     "output_type": "stream",
     "text": [
      "2017-06-27 10:24:07,417 root     DEBUG    start scraping Interpark crawled data\n",
      "2017-06-27 10:24:07,432 root     DEBUG    end scraping Interpark crawled data\n",
      "2017-06-27 10:24:07,435 root     DEBUG    Crawling Interpark domastic schedule site\n"
     ]
    },
    {
     "name": "stdout",
     "output_type": "stream",
     "text": [
      "End Simple crawling\n",
      "Start Simple crawling :  http://domair.interpark.com/api/booking/airJourney.do\n",
      ">> Parameters\n",
      "inf:0 , dep:GMP , tripDivi:0 , airlineCode:7C , chd:0 , adt:1 , arr:CJU , format:json , depDate:20170716 , \n"
     ]
    },
    {
     "name": "stderr",
     "output_type": "stream",
     "text": [
      "2017-06-27 10:24:09,151 root     DEBUG    start scraping Interpark crawled data\n",
      "2017-06-27 10:24:09,162 root     DEBUG    end scraping Interpark crawled data\n",
      "2017-06-27 10:24:09,164 root     DEBUG    Crawling Interpark domastic schedule site\n"
     ]
    },
    {
     "name": "stdout",
     "output_type": "stream",
     "text": [
      "End Simple crawling\n",
      "Start Simple crawling :  http://domair.interpark.com/api/booking/airJourney.do\n",
      ">> Parameters\n",
      "inf:0 , dep:GMP , tripDivi:0 , airlineCode:TW , chd:0 , adt:1 , arr:CJU , format:json , depDate:20170716 , \n"
     ]
    },
    {
     "name": "stderr",
     "output_type": "stream",
     "text": [
      "2017-06-27 10:24:09,757 root     DEBUG    start scraping Interpark crawled data\n",
      "2017-06-27 10:24:09,777 root     DEBUG    end scraping Interpark crawled data\n",
      "2017-06-27 10:24:09,781 root     DEBUG    Crawling Interpark domastic schedule site\n"
     ]
    },
    {
     "name": "stdout",
     "output_type": "stream",
     "text": [
      "End Simple crawling\n",
      "Start Simple crawling :  http://domair.interpark.com/api/booking/airJourney.do\n",
      ">> Parameters\n",
      "inf:0 , dep:GMP , tripDivi:0 , airlineCode:LJ , chd:0 , adt:1 , arr:CJU , format:json , depDate:20170716 , \n"
     ]
    },
    {
     "name": "stderr",
     "output_type": "stream",
     "text": [
      "2017-06-27 10:24:10,235 root     DEBUG    start scraping Interpark crawled data\n",
      "2017-06-27 10:24:10,246 root     DEBUG    end scraping Interpark crawled data\n",
      "2017-06-27 10:24:10,254 root     DEBUG    Crawling Interpark domastic schedule site\n"
     ]
    },
    {
     "name": "stdout",
     "output_type": "stream",
     "text": [
      "End Simple crawling\n",
      "Start Simple crawling :  http://domair.interpark.com/api/booking/airJourney.do\n",
      ">> Parameters\n",
      "inf:0 , dep:GMP , tripDivi:0 , airlineCode:ZE , chd:0 , adt:1 , arr:CJU , format:json , depDate:20170717 , \n"
     ]
    },
    {
     "name": "stderr",
     "output_type": "stream",
     "text": [
      "2017-06-27 10:24:11,504 root     DEBUG    start scraping Interpark crawled data\n",
      "2017-06-27 10:24:11,519 root     DEBUG    end scraping Interpark crawled data\n",
      "2017-06-27 10:24:11,522 root     DEBUG    Crawling Interpark domastic schedule site\n"
     ]
    },
    {
     "name": "stdout",
     "output_type": "stream",
     "text": [
      "End Simple crawling\n",
      "Start Simple crawling :  http://domair.interpark.com/api/booking/airJourney.do\n",
      ">> Parameters\n",
      "inf:0 , dep:GMP , tripDivi:0 , airlineCode:7C , chd:0 , adt:1 , arr:CJU , format:json , depDate:20170717 , \n"
     ]
    },
    {
     "name": "stderr",
     "output_type": "stream",
     "text": [
      "2017-06-27 10:24:13,076 root     DEBUG    start scraping Interpark crawled data\n",
      "2017-06-27 10:24:13,088 root     DEBUG    end scraping Interpark crawled data\n",
      "2017-06-27 10:24:13,093 root     DEBUG    Crawling Interpark domastic schedule site\n"
     ]
    },
    {
     "name": "stdout",
     "output_type": "stream",
     "text": [
      "End Simple crawling\n",
      "Start Simple crawling :  http://domair.interpark.com/api/booking/airJourney.do\n",
      ">> Parameters\n",
      "inf:0 , dep:GMP , tripDivi:0 , airlineCode:TW , chd:0 , adt:1 , arr:CJU , format:json , depDate:20170717 , \n"
     ]
    },
    {
     "name": "stderr",
     "output_type": "stream",
     "text": [
      "2017-06-27 10:24:13,617 root     DEBUG    start scraping Interpark crawled data\n",
      "2017-06-27 10:24:13,628 root     DEBUG    end scraping Interpark crawled data\n",
      "2017-06-27 10:24:13,630 root     DEBUG    Crawling Interpark domastic schedule site\n"
     ]
    },
    {
     "name": "stdout",
     "output_type": "stream",
     "text": [
      "End Simple crawling\n",
      "Start Simple crawling :  http://domair.interpark.com/api/booking/airJourney.do\n",
      ">> Parameters\n",
      "inf:0 , dep:GMP , tripDivi:0 , airlineCode:LJ , chd:0 , adt:1 , arr:CJU , format:json , depDate:20170717 , \n"
     ]
    },
    {
     "name": "stderr",
     "output_type": "stream",
     "text": [
      "2017-06-27 10:24:13,879 root     DEBUG    start scraping Interpark crawled data\n",
      "2017-06-27 10:24:13,887 root     DEBUG    end scraping Interpark crawled data\n",
      "2017-06-27 10:24:13,895 root     DEBUG    Crawling Interpark domastic schedule site\n"
     ]
    },
    {
     "name": "stdout",
     "output_type": "stream",
     "text": [
      "End Simple crawling\n",
      "Start Simple crawling :  http://domair.interpark.com/api/booking/airJourney.do\n",
      ">> Parameters\n",
      "inf:0 , dep:GMP , tripDivi:0 , airlineCode:ZE , chd:0 , adt:1 , arr:CJU , format:json , depDate:20170718 , \n"
     ]
    },
    {
     "name": "stderr",
     "output_type": "stream",
     "text": [
      "2017-06-27 10:24:15,131 root     DEBUG    start scraping Interpark crawled data\n",
      "2017-06-27 10:24:15,142 root     DEBUG    end scraping Interpark crawled data\n",
      "2017-06-27 10:24:15,146 root     DEBUG    Crawling Interpark domastic schedule site\n"
     ]
    },
    {
     "name": "stdout",
     "output_type": "stream",
     "text": [
      "End Simple crawling\n",
      "Start Simple crawling :  http://domair.interpark.com/api/booking/airJourney.do\n",
      ">> Parameters\n",
      "inf:0 , dep:GMP , tripDivi:0 , airlineCode:7C , chd:0 , adt:1 , arr:CJU , format:json , depDate:20170718 , \n"
     ]
    },
    {
     "name": "stderr",
     "output_type": "stream",
     "text": [
      "2017-06-27 10:24:17,005 root     DEBUG    start scraping Interpark crawled data\n",
      "2017-06-27 10:24:17,019 root     DEBUG    end scraping Interpark crawled data\n",
      "2017-06-27 10:24:17,022 root     DEBUG    Crawling Interpark domastic schedule site\n"
     ]
    },
    {
     "name": "stdout",
     "output_type": "stream",
     "text": [
      "End Simple crawling\n",
      "Start Simple crawling :  http://domair.interpark.com/api/booking/airJourney.do\n",
      ">> Parameters\n",
      "inf:0 , dep:GMP , tripDivi:0 , airlineCode:TW , chd:0 , adt:1 , arr:CJU , format:json , depDate:20170718 , \n"
     ]
    },
    {
     "name": "stderr",
     "output_type": "stream",
     "text": [
      "2017-06-27 10:24:17,567 root     DEBUG    start scraping Interpark crawled data\n",
      "2017-06-27 10:24:17,579 root     DEBUG    end scraping Interpark crawled data\n",
      "2017-06-27 10:24:17,581 root     DEBUG    Crawling Interpark domastic schedule site\n"
     ]
    },
    {
     "name": "stdout",
     "output_type": "stream",
     "text": [
      "End Simple crawling\n",
      "Start Simple crawling :  http://domair.interpark.com/api/booking/airJourney.do\n",
      ">> Parameters\n",
      "inf:0 , dep:GMP , tripDivi:0 , airlineCode:LJ , chd:0 , adt:1 , arr:CJU , format:json , depDate:20170718 , \n"
     ]
    },
    {
     "name": "stderr",
     "output_type": "stream",
     "text": [
      "2017-06-27 10:24:17,836 root     DEBUG    start scraping Interpark crawled data\n",
      "2017-06-27 10:24:17,848 root     DEBUG    end scraping Interpark crawled data\n"
     ]
    },
    {
     "name": "stdout",
     "output_type": "stream",
     "text": [
      "End Simple crawling\n"
     ]
    }
   ],
   "source": [
    "## 가격 비교 파일 생성\n",
    "dpt,arr = 'GMP','CJU'\n",
    "airlines = ['7C','TW','LJ']\n",
    "daily_report_list = []\n",
    "for date in crawl_period(21):\n",
    "    daily_list = make_dom_fare_daily_list(dpt,arr,date,airlines)\n",
    "    if daily_list is None:\n",
    "        continue;\n",
    "    daily_report_list.extend(daily_list)\n",
    "columns = ['date','dpt','arr','flt','dpt_time','fare']\n",
    "for acode in airlines:\n",
    "    columns.append(acode+'_info')\n",
    "    columns.append(acode+'_fare')\n",
    "report_file = make_daily_report_html(columns,daily_report_list)"
   ]
  },
  {
   "cell_type": "code",
   "execution_count": 6,
   "metadata": {
    "collapsed": false,
    "deletable": true,
    "editable": true
   },
   "outputs": [],
   "source": [
    "## 파일 생성 오류시 재실행\n",
    "report_file = make_daily_report_html(columns,daily_report_list)"
   ]
  },
  {
   "cell_type": "code",
   "execution_count": 5,
   "metadata": {
    "collapsed": false,
    "deletable": true,
    "editable": true
   },
   "outputs": [
    {
     "name": "stderr",
     "output_type": "stream",
     "text": [
      "2017-06-27 10:55:53,282 root     DEBUG    start email service\n",
      "2017-06-27 10:55:53,287 root     DEBUG    start multi email sender\n",
      "2017-06-27 10:55:53,290 root     DEBUG    receiver :: 박종욱<park363@eastarjet.com> ::  ## email - :: rms daily reporting service\n",
      "2017-06-27 10:55:54,031 root     DEBUG    receiver :: 우성주<topatsee@eastarjet.com> ::  ## email - :: rms daily reporting service\n",
      "2017-06-27 10:55:54,713 root     DEBUG    receiver :: 조용현<ycho1211@eastarjet.com> ::  ## email - :: rms daily reporting service\n",
      "2017-06-27 10:55:55,482 root     DEBUG    receiver :: 염희석<hsyoum@eastarjet.com> ::  ## email - :: rms daily reporting service\n",
      "2017-06-27 10:55:56,421 root     DEBUG    receiver :: 김희정<amykim@eastarjet.com> ::  ## email - :: rms daily reporting service\n",
      "2017-06-27 10:55:57,041 root     DEBUG    receiver :: 정희진<tokkaipi@eastarjet.com> ::  ## email - :: rms daily reporting service\n",
      "2017-06-27 10:55:57,665 root     DEBUG    receiver :: 안병준<bjahn@eastarjet.com> ::  ## email - :: rms daily reporting service\n",
      "2017-06-27 10:55:58,544 root     DEBUG    receiver :: 장혜란<jhyeran@eastarjet.com> ::  ## email - :: rms daily reporting service\n",
      "2017-06-27 10:55:59,326 root     DEBUG    receiver :: 이동현<ldh1@eastarjet.com> ::  ## email - :: rms daily reporting service\n",
      "2017-06-27 10:56:00,033 root     DEBUG    receiver :: 이재은<leeje@eastarjet.com> ::  ## email - :: rms daily reporting service\n",
      "2017-06-27 10:56:00,684 root     DEBUG    receiver :: 임서윤<lhj01@eastarjet.com> ::  ## email - :: rms daily reporting service\n",
      "2017-06-27 10:56:01,415 root     DEBUG    receiver :: 황혜진<hhj@eastarjet.com> ::  ## email - :: rms daily reporting service\n",
      "2017-06-27 10:56:02,093 root     DEBUG    receiver :: 안경미<km9980@eastarjet.com> ::  ## email - :: rms daily reporting service\n",
      "2017-06-27 10:56:02,798 root     DEBUG    receiver :: 권재혁<jhkwon@eastarjet.com> ::  ## email - :: rms daily reporting service\n",
      "2017-06-27 10:56:03,576 root     DEBUG    end multi email sender\n"
     ]
    }
   ],
   "source": [
    "## 생성된 HTML 파일 메일 발송 처리\n",
    "#report_file = 'html/daily_fare_report_20170621080153395703.html'\n",
    "mail_msg = {\n",
    "    'title1' : 'RMS 뉴스 레터 - 온라인 경쟁사 가격 비교[기능,노선 추가]',\n",
    "    'title2' : 'GMP-CJU(인터파크,항공사 21일 온라인 가격 비교',\n",
    "    'date' : datetime.datetime.today().strftime(\"%Y-%m-%d\"),\n",
    "    'auth' : 'park363@eastarjet.com',\n",
    "    'contents' : '''\n",
    "    <p>온라인 상의 경쟁 항공사 가격 비교 입니다.</p>\n",
    "    <p>작성일을 기준으로 다음날 부터 21일 동안의 가격을 읽어와 ZE 편 기준으로 시간차가</p>\n",
    "    <p>가장 적은 경쟁사의 편에 대한 최저가를 표시 하였습니다.</p>\n",
    "    <p>아침 출근후 받아 볼수 있도록 매일 아침 메일 서비스를 진행 합니다.</p>\n",
    "    <br><br><p style=\"font-weight:bold;\">[기능추가] 차트 기능 추가</p>\n",
    "    <p>플라이트별 가격 비교 차트 기능을 추가하였습니다.</p>\n",
    "    <p>상단부분에서 플라이트 선택후 차트 버튼을 클릭하면 해당 차트를 표출합니다.</p>\n",
    "    <br><br><p style=\"font-weight:bold;\">[노선추가] ICN-NRT 노선 추가중</p>\n",
    "    <p>NRT 노선 추가 개발중에 있습니다.</p>\n",
    "    <p>마무리후 다음주중에 추가하여 발송하도록 하겠습니다.</p>\n",
    "    <br><br><p style=\"font-weight:bold;\">[기타] 요청 사항</p>\n",
    "    <p>노선을 추가하거나 기타 요청 사항이 있을 경우 김희정 과장과 상의 하시기 바랍니다.</p>\n",
    "    <p>요청 사항은 적극 반영 하도록 하겠습니다.</p>\n",
    "    <p>오전에 세미나 참여로 조금 늦었습니다.</p>\n",
    "    '''\n",
    "}\n",
    "target = [\n",
    "    '박종욱<park363@eastarjet.com>','우성주<topatsee@eastarjet.com>','조용현<ycho1211@eastarjet.com>','염희석<hsyoum@eastarjet.com>',\n",
    "    '김희정<amykim@eastarjet.com>','정희진<tokkaipi@eastarjet.com>','안병준<bjahn@eastarjet.com>','장혜란<jhyeran@eastarjet.com>',\n",
    "    '이동현<ldh1@eastarjet.com>','이재은<leeje@eastarjet.com>','임서윤<lhj01@eastarjet.com>','황혜진<hhj@eastarjet.com>',\n",
    "    '안경미<km9980@eastarjet.com>','권재혁<jhkwon@eastarjet.com>'\n",
    "]\n",
    "test = ['박종욱<park363@eastarjet.com>']\n",
    "receivers = target\n",
    "daily_report_mail_service(receivers,mail_msg,report_file)"
   ]
  },
  {
   "cell_type": "code",
   "execution_count": 4,
   "metadata": {
    "collapsed": false,
    "deletable": true,
    "editable": true,
    "scrolled": true
   },
   "outputs": [
    {
     "name": "stderr",
     "output_type": "stream",
     "text": [
      "2017-06-22 10:37:06,129 root     DEBUG    Crawling Interpark domastic schedule site\n"
     ]
    },
    {
     "name": "stdout",
     "output_type": "stream",
     "text": [
      "Start Simple crawling :  http://domair.interpark.com/api/booking/airJourney.do\n",
      ">> Parameters\n",
      "chd:0 , tripDivi:0 , airlineCode:ZE , adt:1 , depDate:20170622 , inf:0 , dep:GMP , format:json , arr:CJU , \n"
     ]
    },
    {
     "name": "stderr",
     "output_type": "stream",
     "text": [
      "2017-06-22 10:37:28,423 root     DEBUG    start scraping Interpark crawled data\n",
      "2017-06-22 10:37:28,435 root     DEBUG    end scraping Interpark crawled data\n",
      "2017-06-22 10:37:28,437 root     DEBUG    Crawling Interpark domastic schedule site\n"
     ]
    },
    {
     "name": "stdout",
     "output_type": "stream",
     "text": [
      "End Simple crawling\n",
      "Start Simple crawling :  http://domair.interpark.com/api/booking/airJourney.do\n",
      ">> Parameters\n",
      "chd:0 , tripDivi:0 , airlineCode:7C , adt:1 , depDate:20170622 , inf:0 , dep:GMP , format:json , arr:CJU , \n"
     ]
    },
    {
     "name": "stderr",
     "output_type": "stream",
     "text": [
      "2017-06-22 10:37:30,194 root     DEBUG    start scraping Interpark crawled data\n",
      "2017-06-22 10:37:30,203 root     DEBUG    end scraping Interpark crawled data\n",
      "2017-06-22 10:37:30,205 root     DEBUG    Crawling Interpark domastic schedule site\n"
     ]
    },
    {
     "name": "stdout",
     "output_type": "stream",
     "text": [
      "End Simple crawling\n",
      "Start Simple crawling :  http://domair.interpark.com/api/booking/airJourney.do\n",
      ">> Parameters\n",
      "chd:0 , tripDivi:0 , airlineCode:TW , adt:1 , depDate:20170622 , inf:0 , dep:GMP , format:json , arr:CJU , \n"
     ]
    },
    {
     "name": "stderr",
     "output_type": "stream",
     "text": [
      "2017-06-22 10:37:30,644 root     DEBUG    start scraping Interpark crawled data\n",
      "2017-06-22 10:37:30,651 root     DEBUG    end scraping Interpark crawled data\n",
      "2017-06-22 10:37:30,653 root     DEBUG    Crawling Interpark domastic schedule site\n",
      "2017-06-22 10:37:30,791 root     DEBUG    start scraping Interpark crawled data\n",
      "2017-06-22 10:37:30,796 root     DEBUG    end scraping Interpark crawled data\n"
     ]
    },
    {
     "name": "stdout",
     "output_type": "stream",
     "text": [
      "End Simple crawling\n",
      "Start Simple crawling :  http://domair.interpark.com/api/booking/airJourney.do\n",
      ">> Parameters\n",
      "chd:0 , tripDivi:0 , airlineCode:LJ , adt:1 , depDate:20170622 , inf:0 , dep:GMP , format:json , arr:CJU , \n",
      "End Simple crawling\n"
     ]
    }
   ],
   "source": [
    "## 일일 데이터 생성\n",
    "dpt,arr,dpt_date = 'GMP','CJU','20170622'\n",
    "airlines = ['7C','TW','LJ']\n",
    "result_list = make_dom_fare_daily_list(dpt,arr,dpt_date,airlines)"
   ]
  },
  {
   "cell_type": "code",
   "execution_count": 20,
   "metadata": {
    "collapsed": false,
    "deletable": true,
    "editable": true
   },
   "outputs": [
    {
     "name": "stderr",
     "output_type": "stream",
     "text": [
      "2017-06-20 10:17:48,395 root     DEBUG    Crawling Interpark domastic schedule site\n"
     ]
    },
    {
     "name": "stdout",
     "output_type": "stream",
     "text": [
      "Start Simple crawling :  http://domair.interpark.com/api/booking/airJourney.do\n",
      ">> Parameters\n",
      "format:json , dep:GMP , tripDivi:0 , depDate:20170622 , adt:1 , inf:0 , arr:CJU , chd:0 , airlineCode:7C , \n",
      "http://domair.interpark.com/api/booking/airJourney.do?format=json&dep=GMP&tripDivi=0&depDate=20170622&adt=1&inf=0&arr=CJU&chd=0&airlineCode=7C\n",
      "End Simple crawling\n"
     ]
    },
    {
     "data": {
      "text/plain": [
       "'{\"replyHeader\":{\"errorCode\":\"0\",\"errorDesc\":\"Successful\",\"agtCode\":\"interpark0\",\"tripType\":\"OW\",\"dep1\":\"GMP\",\"arr1\":\"CJU\",\"depDate1\":\"20170622\",\"adt\":\"1\",\"chd\":\"0\",\"inf\":\"0\",\"tripDivi\":\"0\",\"fareKind\":\"A\"},\"noOfReplyAvaiFare\":\"1\",\"replyAvailFare\":{\"depCity\":\"GMP\",\"depDesc\":\"김포\",\"arrCity\":\"CJU\",\"arrDesc\":\"제주\",\"noOfAvail\":\"20\",\"availFareSet\":[{\"noOfSeg\":\"1\",\"segFare\":{\"carCode\":\"7C\",\"carDesc\":\"제주항공\",\"carEngDesc\":\"Jeju Airline\",\"opCarCode\":\"\",\"opCarDesc\":\"\",\"mainFlt\":\"151\",\"opFlt\":\"\",\"depCity\":\"GMP\",\"depDesc\":\"김포\",\"arrCity\":\"CJU\",\"arrDesc\":\"제주\",\"depDate\":\"20170622\",\"depTime\":\"0625\",\"depDay\":\"THU\",\"arrDate\":\"20170622\",\"arrTime\":\"0730\",\"arrDay\":\"THU\",\"currency\":\"KRW\",\"fareType\":\"\",\"fuelChg\":\"2200\",\"chdFuelChg\":\"2200\",\"airTax\":\"4000\",\"chdAirTax\":\"2000\",\"noOfClass\":\"2\",\"classDetail\":[{\"fareRecKey\":\"adt%3D1%26chd%3D0%26inf%3D0%26DepartureDate0%3D20170622%26ArrivalDate0%3D20170622%26MktCar0%3D7C%26FlightNum0%3D151%26OriginLocation0%3DGMP%26DestinationLocation0%3DCJU%26BookingCls0%3DK%26ArrivalTime0%3D0730%26DepartureTime0%3D0625%26Fare0%3D36900%26Seat0%3D9%26tax0%3D4000%26originalFare0%3D65600%26TwCode0%3D%26fare_basis0%3DYX\",\"classCode\":\"K\",\"classDesc\":\"할인석\",\"classNumber\":\"3\",\"isCodeShare\":\"false\",\"codeShareAirline\":null,\"codeShareAirlineDesc\":null,\"noOfAvailSeat\":\"9\",\"salesInd\":\"Y\",\"fareKind\":\"A\",\"fare\":\"36900\",\"chdFare\":\"36900\",\"fareOrigin\":\"65600\",\"chdFareOrigin\":\"65600\"},{\"fareRecKey\":\"adt%3D1%26chd%3D0%26inf%3D0%26DepartureDate0%3D20170622%26ArrivalDate0%3D20170622%26MktCar0%3D7C%26FlightNum0%3D151%26OriginLocation0%3DGMP%26DestinationLocation0%3DCJU%26BookingCls0%3DY%26ArrivalTime0%3D0730%26DepartureTime0%3D0625%26Fare0%3D65600%26Seat0%3D9%26tax0%3D4000%26originalFare0%3D65600%26TwCode0%3D%26fare_basis0%3DYX\",\"classCode\":\"Y\",\"classDesc\":\"일반석\",\"classNumber\":\"2\",\"isCodeShare\":\"false\",\"codeShareAirline\":null,\"codeShareAirlineDesc\":null,\"noOfAvailSeat\":\"9\",\"salesInd\":\"Y\",\"fareKind\":\"A\",\"fare\":\"65600\",\"chdFare\":\"59040\",\"fareOrigin\":\"65600\",\"chdFareOrigin\":\"65600\"}]}},{\"noOfSeg\":\"1\",\"segFare\":{\"carCode\":\"7C\",\"carDesc\":\"제주항공\",\"carEngDesc\":\"Jeju Airline\",\"opCarCode\":\"\",\"opCarDesc\":\"\",\"mainFlt\":\"101\",\"opFlt\":\"\",\"depCity\":\"GMP\",\"depDesc\":\"김포\",\"arrCity\":\"CJU\",\"arrDesc\":\"제주\",\"depDate\":\"20170622\",\"depTime\":\"0630\",\"depDay\":\"THU\",\"arrDate\":\"20170622\",\"arrTime\":\"0740\",\"arrDay\":\"THU\",\"currency\":\"KRW\",\"fareType\":\"\",\"fuelChg\":\"2200\",\"chdFuelChg\":\"2200\",\"airTax\":\"4000\",\"chdAirTax\":\"2000\",\"noOfClass\":\"2\",\"classDetail\":[{\"fareRecKey\":\"adt%3D1%26chd%3D0%26inf%3D0%26DepartureDate0%3D20170622%26ArrivalDate0%3D20170622%26MktCar0%3D7C%26FlightNum0%3D101%26OriginLocation0%3DGMP%26DestinationLocation0%3DCJU%26BookingCls0%3DL%26ArrivalTime0%3D0740%26DepartureTime0%3D0630%26Fare0%3D41900%26Seat0%3D9%26tax0%3D4000%26originalFare0%3D65600%26TwCode0%3D%26fare_basis0%3DYX\",\"classCode\":\"L\",\"classDesc\":\"할인석\",\"classNumber\":\"3\",\"isCodeShare\":\"false\",\"codeShareAirline\":null,\"codeShareAirlineDesc\":null,\"noOfAvailSeat\":\"9\",\"salesInd\":\"Y\",\"fareKind\":\"A\",\"fare\":\"41900\",\"chdFare\":\"41900\",\"fareOrigin\":\"65600\",\"chdFareOrigin\":\"65600\"},{\"fareRecKey\":\"adt%3D1%26chd%3D0%26inf%3D0%26DepartureDate0%3D20170622%26ArrivalDate0%3D20170622%26MktCar0%3D7C%26FlightNum0%3D101%26OriginLocation0%3DGMP%26DestinationLocation0%3DCJU%26BookingCls0%3DY%26ArrivalTime0%3D0740%26DepartureTime0%3D0630%26Fare0%3D65600%26Seat0%3D9%26tax0%3D4000%26originalFare0%3D65600%26TwCode0%3D%26fare_basis0%3DYX\",\"classCode\":\"Y\",\"classDesc\":\"일반석\",\"classNumber\":\"2\",\"isCodeShare\":\"false\",\"codeShareAirline\":null,\"codeShareAirlineDesc\":null,\"noOfAvailSeat\":\"9\",\"salesInd\":\"Y\",\"fareKind\":\"A\",\"fare\":\"65600\",\"chdFare\":\"59040\",\"fareOrigin\":\"65600\",\"chdFareOrigin\":\"65600\"}]}},{\"noOfSeg\":\"1\",\"segFare\":{\"carCode\":\"7C\",\"carDesc\":\"제주항공\",\"carEngDesc\":\"Jeju Airline\",\"opCarCode\":\"\",\"opCarDesc\":\"\",\"mainFlt\":\"103\",\"opFlt\":\"\",\"depCity\":\"GMP\",\"depDesc\":\"김포\",\"arrCity\":\"CJU\",\"arrDesc\":\"제주\",\"depDate\":\"20170622\",\"depTime\":\"0700\",\"depDay\":\"THU\",\"arrDate\":\"20170622\",\"arrTime\":\"0810\",\"arrDay\":\"THU\",\"currency\":\"KRW\",\"fareType\":\"\",\"fuelChg\":\"2200\",\"chdFuelChg\":\"2200\",\"airTax\":\"4000\",\"chdAirTax\":\"2000\",\"noOfClass\":\"2\",\"classDetail\":[{\"fareRecKey\":\"adt%3D1%26chd%3D0%26inf%3D0%26DepartureDate0%3D20170622%26ArrivalDate0%3D20170622%26MktCar0%3D7C%26FlightNum0%3D103%26OriginLocation0%3DGMP%26DestinationLocation0%3DCJU%26BookingCls0%3DN%26ArrivalTime0%3D0810%26DepartureTime0%3D0700%26Fare0%3D51900%26Seat0%3D9%26tax0%3D4000%26originalFare0%3D65600%26TwCode0%3D%26fare_basis0%3DYX\",\"classCode\":\"N\",\"classDesc\":\"할인석\",\"classNumber\":\"3\",\"isCodeShare\":\"false\",\"codeShareAirline\":null,\"codeShareAirlineDesc\":null,\"noOfAvailSeat\":\"9\",\"salesInd\":\"Y\",\"fareKind\":\"A\",\"fare\":\"51900\",\"chdFare\":\"51900\",\"fareOrigin\":\"65600\",\"chdFareOrigin\":\"65600\"},{\"fareRecKey\":\"adt%3D1%26chd%3D0%26inf%3D0%26DepartureDate0%3D20170622%26ArrivalDate0%3D20170622%26MktCar0%3D7C%26FlightNum0%3D103%26OriginLocation0%3DGMP%26DestinationLocation0%3DCJU%26BookingCls0%3DY%26ArrivalTime0%3D0810%26DepartureTime0%3D0700%26Fare0%3D65600%26Seat0%3D9%26tax0%3D4000%26originalFare0%3D65600%26TwCode0%3D%26fare_basis0%3DYX\",\"classCode\":\"Y\",\"classDesc\":\"일반석\",\"classNumber\":\"2\",\"isCodeShare\":\"false\",\"codeShareAirline\":null,\"codeShareAirlineDesc\":null,\"noOfAvailSeat\":\"9\",\"salesInd\":\"Y\",\"fareKind\":\"A\",\"fare\":\"65600\",\"chdFare\":\"59040\",\"fareOrigin\":\"65600\",\"chdFareOrigin\":\"65600\"}]}},{\"noOfSeg\":\"1\",\"segFare\":{\"carCode\":\"7C\",\"carDesc\":\"제주항공\",\"carEngDesc\":\"Jeju Airline\",\"opCarCode\":\"\",\"opCarDesc\":\"\",\"mainFlt\":\"105\",\"opFlt\":\"\",\"depCity\":\"GMP\",\"depDesc\":\"김포\",\"arrCity\":\"CJU\",\"arrDesc\":\"제주\",\"depDate\":\"20170622\",\"depTime\":\"0750\",\"depDay\":\"THU\",\"arrDate\":\"20170622\",\"arrTime\":\"0900\",\"arrDay\":\"THU\",\"currency\":\"KRW\",\"fareType\":\"\",\"fuelChg\":\"2200\",\"chdFuelChg\":\"2200\",\"airTax\":\"4000\",\"chdAirTax\":\"2000\",\"noOfClass\":\"2\",\"classDetail\":[{\"fareRecKey\":\"adt%3D1%26chd%3D0%26inf%3D0%26DepartureDate0%3D20170622%26ArrivalDate0%3D20170622%26MktCar0%3D7C%26FlightNum0%3D105%26OriginLocation0%3DGMP%26DestinationLocation0%3DCJU%26BookingCls0%3DO%26ArrivalTime0%3D0900%26DepartureTime0%3D0750%26Fare0%3D56900%26Seat0%3D9%26tax0%3D4000%26originalFare0%3D65600%26TwCode0%3D%26fare_basis0%3DYX\",\"classCode\":\"O\",\"classDesc\":\"할인석\",\"classNumber\":\"3\",\"isCodeShare\":\"false\",\"codeShareAirline\":null,\"codeShareAirlineDesc\":null,\"noOfAvailSeat\":\"9\",\"salesInd\":\"Y\",\"fareKind\":\"A\",\"fare\":\"56900\",\"chdFare\":\"56900\",\"fareOrigin\":\"65600\",\"chdFareOrigin\":\"65600\"},{\"fareRecKey\":\"adt%3D1%26chd%3D0%26inf%3D0%26DepartureDate0%3D20170622%26ArrivalDate0%3D20170622%26MktCar0%3D7C%26FlightNum0%3D105%26OriginLocation0%3DGMP%26DestinationLocation0%3DCJU%26BookingCls0%3DY%26ArrivalTime0%3D0900%26DepartureTime0%3D0750%26Fare0%3D65600%26Seat0%3D9%26tax0%3D4000%26originalFare0%3D65600%26TwCode0%3D%26fare_basis0%3DYX\",\"classCode\":\"Y\",\"classDesc\":\"일반석\",\"classNumber\":\"2\",\"isCodeShare\":\"false\",\"codeShareAirline\":null,\"codeShareAirlineDesc\":null,\"noOfAvailSeat\":\"9\",\"salesInd\":\"Y\",\"fareKind\":\"A\",\"fare\":\"65600\",\"chdFare\":\"59040\",\"fareOrigin\":\"65600\",\"chdFareOrigin\":\"65600\"}]}},{\"noOfSeg\":\"1\",\"segFare\":{\"carCode\":\"7C\",\"carDesc\":\"제주항공\",\"carEngDesc\":\"Jeju Airline\",\"opCarCode\":\"\",\"opCarDesc\":\"\",\"mainFlt\":\"107\",\"opFlt\":\"\",\"depCity\":\"GMP\",\"depDesc\":\"김포\",\"arrCity\":\"CJU\",\"arrDesc\":\"제주\",\"depDate\":\"20170622\",\"depTime\":\"0900\",\"depDay\":\"THU\",\"arrDate\":\"20170622\",\"arrTime\":\"1010\",\"arrDay\":\"THU\",\"currency\":\"KRW\",\"fareType\":\"\",\"fuelChg\":\"2200\",\"chdFuelChg\":\"2200\",\"airTax\":\"4000\",\"chdAirTax\":\"2000\",\"noOfClass\":\"1\",\"classDetail\":[{\"fareRecKey\":\"adt%3D1%26chd%3D0%26inf%3D0%26DepartureDate0%3D20170622%26ArrivalDate0%3D20170622%26MktCar0%3D7C%26FlightNum0%3D107%26OriginLocation0%3DGMP%26DestinationLocation0%3DCJU%26BookingCls0%3DY%26ArrivalTime0%3D1010%26DepartureTime0%3D0900%26Fare0%3D65600%26Seat0%3D1%26tax0%3D4000%26originalFare0%3D65600%26TwCode0%3D%26fare_basis0%3DYX\",\"classCode\":\"Y\",\"classDesc\":\"일반석\",\"classNumber\":\"2\",\"isCodeShare\":\"false\",\"codeShareAirline\":null,\"codeShareAirlineDesc\":null,\"noOfAvailSeat\":\"1\",\"salesInd\":\"Y\",\"fareKind\":\"A\",\"fare\":\"65600\",\"chdFare\":\"59040\",\"fareOrigin\":\"65600\",\"chdFareOrigin\":\"65600\"}]}},{\"noOfSeg\":\"1\",\"segFare\":{\"carCode\":\"7C\",\"carDesc\":\"제주항공\",\"carEngDesc\":\"Jeju Airline\",\"opCarCode\":\"\",\"opCarDesc\":\"\",\"mainFlt\":\"141\",\"opFlt\":\"\",\"depCity\":\"GMP\",\"depDesc\":\"김포\",\"arrCity\":\"CJU\",\"arrDesc\":\"제주\",\"depDate\":\"20170622\",\"depTime\":\"0945\",\"depDay\":\"THU\",\"arrDate\":\"20170622\",\"arrTime\":\"1055\",\"arrDay\":\"THU\",\"currency\":\"KRW\",\"fareType\":\"\",\"fuelChg\":\"2200\",\"chdFuelChg\":\"2200\",\"airTax\":\"4000\",\"chdAirTax\":\"2000\",\"noOfClass\":\"1\",\"classDetail\":[{\"fareRecKey\":\"adt%3D1%26chd%3D0%26inf%3D0%26DepartureDate0%3D20170622%26ArrivalDate0%3D20170622%26MktCar0%3D7C%26FlightNum0%3D141%26OriginLocation0%3DGMP%26DestinationLocation0%3DCJU%26BookingCls0%3DY%26ArrivalTime0%3D1055%26DepartureTime0%3D0945%26Fare0%3D65600%26Seat0%3D9%26tax0%3D4000%26originalFare0%3D65600%26TwCode0%3D%26fare_basis0%3DYX\",\"classCode\":\"Y\",\"classDesc\":\"일반석\",\"classNumber\":\"2\",\"isCodeShare\":\"false\",\"codeShareAirline\":null,\"codeShareAirlineDesc\":null,\"noOfAvailSeat\":\"9\",\"salesInd\":\"Y\",\"fareKind\":\"A\",\"fare\":\"65600\",\"chdFare\":\"59040\",\"fareOrigin\":\"65600\",\"chdFareOrigin\":\"65600\"}]}},{\"noOfSeg\":\"1\",\"segFare\":{\"carCode\":\"7C\",\"carDesc\":\"제주항공\",\"carEngDesc\":\"Jeju Airline\",\"opCarCode\":\"\",\"opCarDesc\":\"\",\"mainFlt\":\"113\",\"opFlt\":\"\",\"depCity\":\"GMP\",\"depDesc\":\"김포\",\"arrCity\":\"CJU\",\"arrDesc\":\"제주\",\"depDate\":\"20170622\",\"depTime\":\"1120\",\"depDay\":\"THU\",\"arrDate\":\"20170622\",\"arrTime\":\"1230\",\"arrDay\":\"THU\",\"currency\":\"KRW\",\"fareType\":\"\",\"fuelChg\":\"2200\",\"chdFuelChg\":\"2200\",\"airTax\":\"4000\",\"chdAirTax\":\"2000\",\"noOfClass\":\"2\",\"classDetail\":[{\"fareRecKey\":\"adt%3D1%26chd%3D0%26inf%3D0%26DepartureDate0%3D20170622%26ArrivalDate0%3D20170622%26MktCar0%3D7C%26FlightNum0%3D113%26OriginLocation0%3DGMP%26DestinationLocation0%3DCJU%26BookingCls0%3DO%26ArrivalTime0%3D1230%26DepartureTime0%3D1120%26Fare0%3D56900%26Seat0%3D9%26tax0%3D4000%26originalFare0%3D65600%26TwCode0%3D%26fare_basis0%3DYX\",\"classCode\":\"O\",\"classDesc\":\"할인석\",\"classNumber\":\"3\",\"isCodeShare\":\"false\",\"codeShareAirline\":null,\"codeShareAirlineDesc\":null,\"noOfAvailSeat\":\"9\",\"salesInd\":\"Y\",\"fareKind\":\"A\",\"fare\":\"56900\",\"chdFare\":\"56900\",\"fareOrigin\":\"65600\",\"chdFareOrigin\":\"65600\"},{\"fareRecKey\":\"adt%3D1%26chd%3D0%26inf%3D0%26DepartureDate0%3D20170622%26ArrivalDate0%3D20170622%26MktCar0%3D7C%26FlightNum0%3D113%26OriginLocation0%3DGMP%26DestinationLocation0%3DCJU%26BookingCls0%3DY%26ArrivalTime0%3D1230%26DepartureTime0%3D1120%26Fare0%3D65600%26Seat0%3D9%26tax0%3D4000%26originalFare0%3D65600%26TwCode0%3D%26fare_basis0%3DYX\",\"classCode\":\"Y\",\"classDesc\":\"일반석\",\"classNumber\":\"2\",\"isCodeShare\":\"false\",\"codeShareAirline\":null,\"codeShareAirlineDesc\":null,\"noOfAvailSeat\":\"9\",\"salesInd\":\"Y\",\"fareKind\":\"A\",\"fare\":\"65600\",\"chdFare\":\"59040\",\"fareOrigin\":\"65600\",\"chdFareOrigin\":\"65600\"}]}},{\"noOfSeg\":\"1\",\"segFare\":{\"carCode\":\"7C\",\"carDesc\":\"제주항공\",\"carEngDesc\":\"Jeju Airline\",\"opCarCode\":\"\",\"opCarDesc\":\"\",\"mainFlt\":\"115\",\"opFlt\":\"\",\"depCity\":\"GMP\",\"depDesc\":\"김포\",\"arrCity\":\"CJU\",\"arrDesc\":\"제주\",\"depDate\":\"20170622\",\"depTime\":\"1225\",\"depDay\":\"THU\",\"arrDate\":\"20170622\",\"arrTime\":\"1335\",\"arrDay\":\"THU\",\"currency\":\"KRW\",\"fareType\":\"\",\"fuelChg\":\"2200\",\"chdFuelChg\":\"2200\",\"airTax\":\"4000\",\"chdAirTax\":\"2000\",\"noOfClass\":\"2\",\"classDetail\":[{\"fareRecKey\":\"adt%3D1%26chd%3D0%26inf%3D0%26DepartureDate0%3D20170622%26ArrivalDate0%3D20170622%26MktCar0%3D7C%26FlightNum0%3D115%26OriginLocation0%3DGMP%26DestinationLocation0%3DCJU%26BookingCls0%3DO%26ArrivalTime0%3D1335%26DepartureTime0%3D1225%26Fare0%3D56900%26Seat0%3D9%26tax0%3D4000%26originalFare0%3D65600%26TwCode0%3D%26fare_basis0%3DYX\",\"classCode\":\"O\",\"classDesc\":\"할인석\",\"classNumber\":\"3\",\"isCodeShare\":\"false\",\"codeShareAirline\":null,\"codeShareAirlineDesc\":null,\"noOfAvailSeat\":\"9\",\"salesInd\":\"Y\",\"fareKind\":\"A\",\"fare\":\"56900\",\"chdFare\":\"56900\",\"fareOrigin\":\"65600\",\"chdFareOrigin\":\"65600\"},{\"fareRecKey\":\"adt%3D1%26chd%3D0%26inf%3D0%26DepartureDate0%3D20170622%26ArrivalDate0%3D20170622%26MktCar0%3D7C%26FlightNum0%3D115%26OriginLocation0%3DGMP%26DestinationLocation0%3DCJU%26BookingCls0%3DY%26ArrivalTime0%3D1335%26DepartureTime0%3D1225%26Fare0%3D65600%26Seat0%3D9%26tax0%3D4000%26originalFare0%3D65600%26TwCode0%3D%26fare_basis0%3DYX\",\"classCode\":\"Y\",\"classDesc\":\"일반석\",\"classNumber\":\"2\",\"isCodeShare\":\"false\",\"codeShareAirline\":null,\"codeShareAirlineDesc\":null,\"noOfAvailSeat\":\"9\",\"salesInd\":\"Y\",\"fareKind\":\"A\",\"fare\":\"65600\",\"chdFare\":\"59040\",\"fareOrigin\":\"65600\",\"chdFareOrigin\":\"65600\"}]}},{\"noOfSeg\":\"1\",\"segFare\":{\"carCode\":\"7C\",\"carDesc\":\"제주항공\",\"carEngDesc\":\"Jeju Airline\",\"opCarCode\":\"\",\"opCarDesc\":\"\",\"mainFlt\":\"117\",\"opFlt\":\"\",\"depCity\":\"GMP\",\"depDesc\":\"김포\",\"arrCity\":\"CJU\",\"arrDesc\":\"제주\",\"depDate\":\"20170622\",\"depTime\":\"1240\",\"depDay\":\"THU\",\"arrDate\":\"20170622\",\"arrTime\":\"1350\",\"arrDay\":\"THU\",\"currency\":\"KRW\",\"fareType\":\"\",\"fuelChg\":\"2200\",\"chdFuelChg\":\"2200\",\"airTax\":\"4000\",\"chdAirTax\":\"2000\",\"noOfClass\":\"2\",\"classDetail\":[{\"fareRecKey\":\"adt%3D1%26chd%3D0%26inf%3D0%26DepartureDate0%3D20170622%26ArrivalDate0%3D20170622%26MktCar0%3D7C%26FlightNum0%3D117%26OriginLocation0%3DGMP%26DestinationLocation0%3DCJU%26BookingCls0%3DN%26ArrivalTime0%3D1350%26DepartureTime0%3D1240%26Fare0%3D51900%26Seat0%3D9%26tax0%3D4000%26originalFare0%3D65600%26TwCode0%3D%26fare_basis0%3DYX\",\"classCode\":\"N\",\"classDesc\":\"할인석\",\"classNumber\":\"3\",\"isCodeShare\":\"false\",\"codeShareAirline\":null,\"codeShareAirlineDesc\":null,\"noOfAvailSeat\":\"9\",\"salesInd\":\"Y\",\"fareKind\":\"A\",\"fare\":\"51900\",\"chdFare\":\"51900\",\"fareOrigin\":\"65600\",\"chdFareOrigin\":\"65600\"},{\"fareRecKey\":\"adt%3D1%26chd%3D0%26inf%3D0%26DepartureDate0%3D20170622%26ArrivalDate0%3D20170622%26MktCar0%3D7C%26FlightNum0%3D117%26OriginLocation0%3DGMP%26DestinationLocation0%3DCJU%26BookingCls0%3DY%26ArrivalTime0%3D1350%26DepartureTime0%3D1240%26Fare0%3D65600%26Seat0%3D9%26tax0%3D4000%26originalFare0%3D65600%26TwCode0%3D%26fare_basis0%3DYX\",\"classCode\":\"Y\",\"classDesc\":\"일반석\",\"classNumber\":\"2\",\"isCodeShare\":\"false\",\"codeShareAirline\":null,\"codeShareAirlineDesc\":null,\"noOfAvailSeat\":\"9\",\"salesInd\":\"Y\",\"fareKind\":\"A\",\"fare\":\"65600\",\"chdFare\":\"59040\",\"fareOrigin\":\"65600\",\"chdFareOrigin\":\"65600\"}]}},{\"noOfSeg\":\"1\",\"segFare\":{\"carCode\":\"7C\",\"carDesc\":\"제주항공\",\"carEngDesc\":\"Jeju Airline\",\"opCarCode\":\"\",\"opCarDesc\":\"\",\"mainFlt\":\"143\",\"opFlt\":\"\",\"depCity\":\"GMP\",\"depDesc\":\"김포\",\"arrCity\":\"CJU\",\"arrDesc\":\"제주\",\"depDate\":\"20170622\",\"depTime\":\"1315\",\"depDay\":\"THU\",\"arrDate\":\"20170622\",\"arrTime\":\"1425\",\"arrDay\":\"THU\",\"currency\":\"KRW\",\"fareType\":\"\",\"fuelChg\":\"2200\",\"chdFuelChg\":\"2200\",\"airTax\":\"4000\",\"chdAirTax\":\"2000\",\"noOfClass\":\"2\",\"classDetail\":[{\"fareRecKey\":\"adt%3D1%26chd%3D0%26inf%3D0%26DepartureDate0%3D20170622%26ArrivalDate0%3D20170622%26MktCar0%3D7C%26FlightNum0%3D143%26OriginLocation0%3DGMP%26DestinationLocation0%3DCJU%26BookingCls0%3DN%26ArrivalTime0%3D1425%26DepartureTime0%3D1315%26Fare0%3D51900%26Seat0%3D9%26tax0%3D4000%26originalFare0%3D65600%26TwCode0%3D%26fare_basis0%3DYX\",\"classCode\":\"N\",\"classDesc\":\"할인석\",\"classNumber\":\"3\",\"isCodeShare\":\"false\",\"codeShareAirline\":null,\"codeShareAirlineDesc\":null,\"noOfAvailSeat\":\"9\",\"salesInd\":\"Y\",\"fareKind\":\"A\",\"fare\":\"51900\",\"chdFare\":\"51900\",\"fareOrigin\":\"65600\",\"chdFareOrigin\":\"65600\"},{\"fareRecKey\":\"adt%3D1%26chd%3D0%26inf%3D0%26DepartureDate0%3D20170622%26ArrivalDate0%3D20170622%26MktCar0%3D7C%26FlightNum0%3D143%26OriginLocation0%3DGMP%26DestinationLocation0%3DCJU%26BookingCls0%3DY%26ArrivalTime0%3D1425%26DepartureTime0%3D1315%26Fare0%3D65600%26Seat0%3D9%26tax0%3D4000%26originalFare0%3D65600%26TwCode0%3D%26fare_basis0%3DYX\",\"classCode\":\"Y\",\"classDesc\":\"일반석\",\"classNumber\":\"2\",\"isCodeShare\":\"false\",\"codeShareAirline\":null,\"codeShareAirlineDesc\":null,\"noOfAvailSeat\":\"9\",\"salesInd\":\"Y\",\"fareKind\":\"A\",\"fare\":\"65600\",\"chdFare\":\"59040\",\"fareOrigin\":\"65600\",\"chdFareOrigin\":\"65600\"}]}},{\"noOfSeg\":\"1\",\"segFare\":{\"carCode\":\"7C\",\"carDesc\":\"제주항공\",\"carEngDesc\":\"Jeju Airline\",\"opCarCode\":\"\",\"opCarDesc\":\"\",\"mainFlt\":\"119\",\"opFlt\":\"\",\"depCity\":\"GMP\",\"depDesc\":\"김포\",\"arrCity\":\"CJU\",\"arrDesc\":\"제주\",\"depDate\":\"20170622\",\"depTime\":\"1350\",\"depDay\":\"THU\",\"arrDate\":\"20170622\",\"arrTime\":\"1500\",\"arrDay\":\"THU\",\"currency\":\"KRW\",\"fareType\":\"\",\"fuelChg\":\"2200\",\"chdFuelChg\":\"2200\",\"airTax\":\"4000\",\"chdAirTax\":\"2000\",\"noOfClass\":\"2\",\"classDetail\":[{\"fareRecKey\":\"adt%3D1%26chd%3D0%26inf%3D0%26DepartureDate0%3D20170622%26ArrivalDate0%3D20170622%26MktCar0%3D7C%26FlightNum0%3D119%26OriginLocation0%3DGMP%26DestinationLocation0%3DCJU%26BookingCls0%3DM%26ArrivalTime0%3D1500%26DepartureTime0%3D1350%26Fare0%3D46900%26Seat0%3D9%26tax0%3D4000%26originalFare0%3D65600%26TwCode0%3D%26fare_basis0%3DYX\",\"classCode\":\"M\",\"classDesc\":\"할인석\",\"classNumber\":\"3\",\"isCodeShare\":\"false\",\"codeShareAirline\":null,\"codeShareAirlineDesc\":null,\"noOfAvailSeat\":\"9\",\"salesInd\":\"Y\",\"fareKind\":\"A\",\"fare\":\"46900\",\"chdFare\":\"46900\",\"fareOrigin\":\"65600\",\"chdFareOrigin\":\"65600\"},{\"fareRecKey\":\"adt%3D1%26chd%3D0%26inf%3D0%26DepartureDate0%3D20170622%26ArrivalDate0%3D20170622%26MktCar0%3D7C%26FlightNum0%3D119%26OriginLocation0%3DGMP%26DestinationLocation0%3DCJU%26BookingCls0%3DY%26ArrivalTime0%3D1500%26DepartureTime0%3D1350%26Fare0%3D65600%26Seat0%3D9%26tax0%3D4000%26originalFare0%3D65600%26TwCode0%3D%26fare_basis0%3DYX\",\"classCode\":\"Y\",\"classDesc\":\"일반석\",\"classNumber\":\"2\",\"isCodeShare\":\"false\",\"codeShareAirline\":null,\"codeShareAirlineDesc\":null,\"noOfAvailSeat\":\"9\",\"salesInd\":\"Y\",\"fareKind\":\"A\",\"fare\":\"65600\",\"chdFare\":\"59040\",\"fareOrigin\":\"65600\",\"chdFareOrigin\":\"65600\"}]}},{\"noOfSeg\":\"1\",\"segFare\":{\"carCode\":\"7C\",\"carDesc\":\"제주항공\",\"carEngDesc\":\"Jeju Airline\",\"opCarCode\":\"\",\"opCarDesc\":\"\",\"mainFlt\":\"121\",\"opFlt\":\"\",\"depCity\":\"GMP\",\"depDesc\":\"김포\",\"arrCity\":\"CJU\",\"arrDesc\":\"제주\",\"depDate\":\"20170622\",\"depTime\":\"1440\",\"depDay\":\"THU\",\"arrDate\":\"20170622\",\"arrTime\":\"1550\",\"arrDay\":\"THU\",\"currency\":\"KRW\",\"fareType\":\"\",\"fuelChg\":\"2200\",\"chdFuelChg\":\"2200\",\"airTax\":\"4000\",\"chdAirTax\":\"2000\",\"noOfClass\":\"2\",\"classDetail\":[{\"fareRecKey\":\"adt%3D1%26chd%3D0%26inf%3D0%26DepartureDate0%3D20170622%26ArrivalDate0%3D20170622%26MktCar0%3D7C%26FlightNum0%3D121%26OriginLocation0%3DGMP%26DestinationLocation0%3DCJU%26BookingCls0%3DL%26ArrivalTime0%3D1550%26DepartureTime0%3D1440%26Fare0%3D41900%26Seat0%3D9%26tax0%3D4000%26originalFare0%3D65600%26TwCode0%3D%26fare_basis0%3DYX\",\"classCode\":\"L\",\"classDesc\":\"할인석\",\"classNumber\":\"3\",\"isCodeShare\":\"false\",\"codeShareAirline\":null,\"codeShareAirlineDesc\":null,\"noOfAvailSeat\":\"9\",\"salesInd\":\"Y\",\"fareKind\":\"A\",\"fare\":\"41900\",\"chdFare\":\"41900\",\"fareOrigin\":\"65600\",\"chdFareOrigin\":\"65600\"},{\"fareRecKey\":\"adt%3D1%26chd%3D0%26inf%3D0%26DepartureDate0%3D20170622%26ArrivalDate0%3D20170622%26MktCar0%3D7C%26FlightNum0%3D121%26OriginLocation0%3DGMP%26DestinationLocation0%3DCJU%26BookingCls0%3DY%26ArrivalTime0%3D1550%26DepartureTime0%3D1440%26Fare0%3D65600%26Seat0%3D9%26tax0%3D4000%26originalFare0%3D65600%26TwCode0%3D%26fare_basis0%3DYX\",\"classCode\":\"Y\",\"classDesc\":\"일반석\",\"classNumber\":\"2\",\"isCodeShare\":\"false\",\"codeShareAirline\":null,\"codeShareAirlineDesc\":null,\"noOfAvailSeat\":\"9\",\"salesInd\":\"Y\",\"fareKind\":\"A\",\"fare\":\"65600\",\"chdFare\":\"59040\",\"fareOrigin\":\"65600\",\"chdFareOrigin\":\"65600\"}]}},{\"noOfSeg\":\"1\",\"segFare\":{\"carCode\":\"7C\",\"carDesc\":\"제주항공\",\"carEngDesc\":\"Jeju Airline\",\"opCarCode\":\"\",\"opCarDesc\":\"\",\"mainFlt\":\"155\",\"opFlt\":\"\",\"depCity\":\"GMP\",\"depDesc\":\"김포\",\"arrCity\":\"CJU\",\"arrDesc\":\"제주\",\"depDate\":\"20170622\",\"depTime\":\"1525\",\"depDay\":\"THU\",\"arrDate\":\"20170622\",\"arrTime\":\"1640\",\"arrDay\":\"THU\",\"currency\":\"KRW\",\"fareType\":\"\",\"fuelChg\":\"2200\",\"chdFuelChg\":\"2200\",\"airTax\":\"4000\",\"chdAirTax\":\"2000\",\"noOfClass\":\"2\",\"classDetail\":[{\"fareRecKey\":\"adt%3D1%26chd%3D0%26inf%3D0%26DepartureDate0%3D20170622%26ArrivalDate0%3D20170622%26MktCar0%3D7C%26FlightNum0%3D155%26OriginLocation0%3DGMP%26DestinationLocation0%3DCJU%26BookingCls0%3DM%26ArrivalTime0%3D1640%26DepartureTime0%3D1525%26Fare0%3D46900%26Seat0%3D5%26tax0%3D4000%26originalFare0%3D65600%26TwCode0%3D%26fare_basis0%3DYX\",\"classCode\":\"M\",\"classDesc\":\"할인석\",\"classNumber\":\"3\",\"isCodeShare\":\"false\",\"codeShareAirline\":null,\"codeShareAirlineDesc\":null,\"noOfAvailSeat\":\"5\",\"salesInd\":\"Y\",\"fareKind\":\"A\",\"fare\":\"46900\",\"chdFare\":\"46900\",\"fareOrigin\":\"65600\",\"chdFareOrigin\":\"65600\"},{\"fareRecKey\":\"adt%3D1%26chd%3D0%26inf%3D0%26DepartureDate0%3D20170622%26ArrivalDate0%3D20170622%26MktCar0%3D7C%26FlightNum0%3D155%26OriginLocation0%3DGMP%26DestinationLocation0%3DCJU%26BookingCls0%3DY%26ArrivalTime0%3D1640%26DepartureTime0%3D1525%26Fare0%3D65600%26Seat0%3D9%26tax0%3D4000%26originalFare0%3D65600%26TwCode0%3D%26fare_basis0%3DYX\",\"classCode\":\"Y\",\"classDesc\":\"일반석\",\"classNumber\":\"2\",\"isCodeShare\":\"false\",\"codeShareAirline\":null,\"codeShareAirlineDesc\":null,\"noOfAvailSeat\":\"9\",\"salesInd\":\"Y\",\"fareKind\":\"A\",\"fare\":\"65600\",\"chdFare\":\"59040\",\"fareOrigin\":\"65600\",\"chdFareOrigin\":\"65600\"}]}},{\"noOfSeg\":\"1\",\"segFare\":{\"carCode\":\"7C\",\"carDesc\":\"제주항공\",\"carEngDesc\":\"Jeju Airline\",\"opCarCode\":\"\",\"opCarDesc\":\"\",\"mainFlt\":\"123\",\"opFlt\":\"\",\"depCity\":\"GMP\",\"depDesc\":\"김포\",\"arrCity\":\"CJU\",\"arrDesc\":\"제주\",\"depDate\":\"20170622\",\"depTime\":\"1545\",\"depDay\":\"THU\",\"arrDate\":\"20170622\",\"arrTime\":\"1655\",\"arrDay\":\"THU\",\"currency\":\"KRW\",\"fareType\":\"\",\"fuelChg\":\"2200\",\"chdFuelChg\":\"2200\",\"airTax\":\"4000\",\"chdAirTax\":\"2000\",\"noOfClass\":\"2\",\"classDetail\":[{\"fareRecKey\":\"adt%3D1%26chd%3D0%26inf%3D0%26DepartureDate0%3D20170622%26ArrivalDate0%3D20170622%26MktCar0%3D7C%26FlightNum0%3D123%26OriginLocation0%3DGMP%26DestinationLocation0%3DCJU%26BookingCls0%3DM%26ArrivalTime0%3D1655%26DepartureTime0%3D1545%26Fare0%3D46900%26Seat0%3D7%26tax0%3D4000%26originalFare0%3D65600%26TwCode0%3D%26fare_basis0%3DYX\",\"classCode\":\"M\",\"classDesc\":\"할인석\",\"classNumber\":\"3\",\"isCodeShare\":\"false\",\"codeShareAirline\":null,\"codeShareAirlineDesc\":null,\"noOfAvailSeat\":\"7\",\"salesInd\":\"Y\",\"fareKind\":\"A\",\"fare\":\"46900\",\"chdFare\":\"46900\",\"fareOrigin\":\"65600\",\"chdFareOrigin\":\"65600\"},{\"fareRecKey\":\"adt%3D1%26chd%3D0%26inf%3D0%26DepartureDate0%3D20170622%26ArrivalDate0%3D20170622%26MktCar0%3D7C%26FlightNum0%3D123%26OriginLocation0%3DGMP%26DestinationLocation0%3DCJU%26BookingCls0%3DY%26ArrivalTime0%3D1655%26DepartureTime0%3D1545%26Fare0%3D65600%26Seat0%3D9%26tax0%3D4000%26originalFare0%3D65600%26TwCode0%3D%26fare_basis0%3DYX\",\"classCode\":\"Y\",\"classDesc\":\"일반석\",\"classNumber\":\"2\",\"isCodeShare\":\"false\",\"codeShareAirline\":null,\"codeShareAirlineDesc\":null,\"noOfAvailSeat\":\"9\",\"salesInd\":\"Y\",\"fareKind\":\"A\",\"fare\":\"65600\",\"chdFare\":\"59040\",\"fareOrigin\":\"65600\",\"chdFareOrigin\":\"65600\"}]}},{\"noOfSeg\":\"1\",\"segFare\":{\"carCode\":\"7C\",\"carDesc\":\"제주항공\",\"carEngDesc\":\"Jeju Airline\",\"opCarCode\":\"\",\"opCarDesc\":\"\",\"mainFlt\":\"125\",\"opFlt\":\"\",\"depCity\":\"GMP\",\"depDesc\":\"김포\",\"arrCity\":\"CJU\",\"arrDesc\":\"제주\",\"depDate\":\"20170622\",\"depTime\":\"1605\",\"depDay\":\"THU\",\"arrDate\":\"20170622\",\"arrTime\":\"1715\",\"arrDay\":\"THU\",\"currency\":\"KRW\",\"fareType\":\"\",\"fuelChg\":\"2200\",\"chdFuelChg\":\"2200\",\"airTax\":\"4000\",\"chdAirTax\":\"2000\",\"noOfClass\":\"2\",\"classDetail\":[{\"fareRecKey\":\"adt%3D1%26chd%3D0%26inf%3D0%26DepartureDate0%3D20170622%26ArrivalDate0%3D20170622%26MktCar0%3D7C%26FlightNum0%3D125%26OriginLocation0%3DGMP%26DestinationLocation0%3DCJU%26BookingCls0%3DO%26ArrivalTime0%3D1715%26DepartureTime0%3D1605%26Fare0%3D56900%26Seat0%3D3%26tax0%3D4000%26originalFare0%3D65600%26TwCode0%3D%26fare_basis0%3DYX\",\"classCode\":\"O\",\"classDesc\":\"할인석\",\"classNumber\":\"3\",\"isCodeShare\":\"false\",\"codeShareAirline\":null,\"codeShareAirlineDesc\":null,\"noOfAvailSeat\":\"3\",\"salesInd\":\"Y\",\"fareKind\":\"A\",\"fare\":\"56900\",\"chdFare\":\"56900\",\"fareOrigin\":\"65600\",\"chdFareOrigin\":\"65600\"},{\"fareRecKey\":\"adt%3D1%26chd%3D0%26inf%3D0%26DepartureDate0%3D20170622%26ArrivalDate0%3D20170622%26MktCar0%3D7C%26FlightNum0%3D125%26OriginLocation0%3DGMP%26DestinationLocation0%3DCJU%26BookingCls0%3DY%26ArrivalTime0%3D1715%26DepartureTime0%3D1605%26Fare0%3D65600%26Seat0%3D9%26tax0%3D4000%26originalFare0%3D65600%26TwCode0%3D%26fare_basis0%3DYX\",\"classCode\":\"Y\",\"classDesc\":\"일반석\",\"classNumber\":\"2\",\"isCodeShare\":\"false\",\"codeShareAirline\":null,\"codeShareAirlineDesc\":null,\"noOfAvailSeat\":\"9\",\"salesInd\":\"Y\",\"fareKind\":\"A\",\"fare\":\"65600\",\"chdFare\":\"59040\",\"fareOrigin\":\"65600\",\"chdFareOrigin\":\"65600\"}]}},{\"noOfSeg\":\"1\",\"segFare\":{\"carCode\":\"7C\",\"carDesc\":\"제주항공\",\"carEngDesc\":\"Jeju Airline\",\"opCarCode\":\"\",\"opCarDesc\":\"\",\"mainFlt\":\"145\",\"opFlt\":\"\",\"depCity\":\"GMP\",\"depDesc\":\"김포\",\"arrCity\":\"CJU\",\"arrDesc\":\"제주\",\"depDate\":\"20170622\",\"depTime\":\"1645\",\"depDay\":\"THU\",\"arrDate\":\"20170622\",\"arrTime\":\"1755\",\"arrDay\":\"THU\",\"currency\":\"KRW\",\"fareType\":\"\",\"fuelChg\":\"2200\",\"chdFuelChg\":\"2200\",\"airTax\":\"4000\",\"chdAirTax\":\"2000\",\"noOfClass\":\"2\",\"classDetail\":[{\"fareRecKey\":\"adt%3D1%26chd%3D0%26inf%3D0%26DepartureDate0%3D20170622%26ArrivalDate0%3D20170622%26MktCar0%3D7C%26FlightNum0%3D145%26OriginLocation0%3DGMP%26DestinationLocation0%3DCJU%26BookingCls0%3DM%26ArrivalTime0%3D1755%26DepartureTime0%3D1645%26Fare0%3D46900%26Seat0%3D2%26tax0%3D4000%26originalFare0%3D65600%26TwCode0%3D%26fare_basis0%3DYX\",\"classCode\":\"M\",\"classDesc\":\"할인석\",\"classNumber\":\"3\",\"isCodeShare\":\"false\",\"codeShareAirline\":null,\"codeShareAirlineDesc\":null,\"noOfAvailSeat\":\"2\",\"salesInd\":\"Y\",\"fareKind\":\"A\",\"fare\":\"46900\",\"chdFare\":\"46900\",\"fareOrigin\":\"65600\",\"chdFareOrigin\":\"65600\"},{\"fareRecKey\":\"adt%3D1%26chd%3D0%26inf%3D0%26DepartureDate0%3D20170622%26ArrivalDate0%3D20170622%26MktCar0%3D7C%26FlightNum0%3D145%26OriginLocation0%3DGMP%26DestinationLocation0%3DCJU%26BookingCls0%3DY%26ArrivalTime0%3D1755%26DepartureTime0%3D1645%26Fare0%3D65600%26Seat0%3D9%26tax0%3D4000%26originalFare0%3D65600%26TwCode0%3D%26fare_basis0%3DYX\",\"classCode\":\"Y\",\"classDesc\":\"일반석\",\"classNumber\":\"2\",\"isCodeShare\":\"false\",\"codeShareAirline\":null,\"codeShareAirlineDesc\":null,\"noOfAvailSeat\":\"9\",\"salesInd\":\"Y\",\"fareKind\":\"A\",\"fare\":\"65600\",\"chdFare\":\"59040\",\"fareOrigin\":\"65600\",\"chdFareOrigin\":\"65600\"}]}},{\"noOfSeg\":\"1\",\"segFare\":{\"carCode\":\"7C\",\"carDesc\":\"제주항공\",\"carEngDesc\":\"Jeju Airline\",\"opCarCode\":\"\",\"opCarDesc\":\"\",\"mainFlt\":\"127\",\"opFlt\":\"\",\"depCity\":\"GMP\",\"depDesc\":\"김포\",\"arrCity\":\"CJU\",\"arrDesc\":\"제주\",\"depDate\":\"20170622\",\"depTime\":\"1815\",\"depDay\":\"THU\",\"arrDate\":\"20170622\",\"arrTime\":\"1925\",\"arrDay\":\"THU\",\"currency\":\"KRW\",\"fareType\":\"\",\"fuelChg\":\"2200\",\"chdFuelChg\":\"2200\",\"airTax\":\"4000\",\"chdAirTax\":\"2000\",\"noOfClass\":\"2\",\"classDetail\":[{\"fareRecKey\":\"adt%3D1%26chd%3D0%26inf%3D0%26DepartureDate0%3D20170622%26ArrivalDate0%3D20170622%26MktCar0%3D7C%26FlightNum0%3D127%26OriginLocation0%3DGMP%26DestinationLocation0%3DCJU%26BookingCls0%3DM%26ArrivalTime0%3D1925%26DepartureTime0%3D1815%26Fare0%3D46900%26Seat0%3D9%26tax0%3D4000%26originalFare0%3D65600%26TwCode0%3D%26fare_basis0%3DYX\",\"classCode\":\"M\",\"classDesc\":\"할인석\",\"classNumber\":\"3\",\"isCodeShare\":\"false\",\"codeShareAirline\":null,\"codeShareAirlineDesc\":null,\"noOfAvailSeat\":\"9\",\"salesInd\":\"Y\",\"fareKind\":\"A\",\"fare\":\"46900\",\"chdFare\":\"46900\",\"fareOrigin\":\"65600\",\"chdFareOrigin\":\"65600\"},{\"fareRecKey\":\"adt%3D1%26chd%3D0%26inf%3D0%26DepartureDate0%3D20170622%26ArrivalDate0%3D20170622%26MktCar0%3D7C%26FlightNum0%3D127%26OriginLocation0%3DGMP%26DestinationLocation0%3DCJU%26BookingCls0%3DY%26ArrivalTime0%3D1925%26DepartureTime0%3D1815%26Fare0%3D65600%26Seat0%3D9%26tax0%3D4000%26originalFare0%3D65600%26TwCode0%3D%26fare_basis0%3DYX\",\"classCode\":\"Y\",\"classDesc\":\"일반석\",\"classNumber\":\"2\",\"isCodeShare\":\"false\",\"codeShareAirline\":null,\"codeShareAirlineDesc\":null,\"noOfAvailSeat\":\"9\",\"salesInd\":\"Y\",\"fareKind\":\"A\",\"fare\":\"65600\",\"chdFare\":\"59040\",\"fareOrigin\":\"65600\",\"chdFareOrigin\":\"65600\"}]}},{\"noOfSeg\":\"1\",\"segFare\":{\"carCode\":\"7C\",\"carDesc\":\"제주항공\",\"carEngDesc\":\"Jeju Airline\",\"opCarCode\":\"\",\"opCarDesc\":\"\",\"mainFlt\":\"129\",\"opFlt\":\"\",\"depCity\":\"GMP\",\"depDesc\":\"김포\",\"arrCity\":\"CJU\",\"arrDesc\":\"제주\",\"depDate\":\"20170622\",\"depTime\":\"1905\",\"depDay\":\"THU\",\"arrDate\":\"20170622\",\"arrTime\":\"2015\",\"arrDay\":\"THU\",\"currency\":\"KRW\",\"fareType\":\"\",\"fuelChg\":\"2200\",\"chdFuelChg\":\"2200\",\"airTax\":\"4000\",\"chdAirTax\":\"2000\",\"noOfClass\":\"2\",\"classDetail\":[{\"fareRecKey\":\"adt%3D1%26chd%3D0%26inf%3D0%26DepartureDate0%3D20170622%26ArrivalDate0%3D20170622%26MktCar0%3D7C%26FlightNum0%3D129%26OriginLocation0%3DGMP%26DestinationLocation0%3DCJU%26BookingCls0%3DN%26ArrivalTime0%3D2015%26DepartureTime0%3D1905%26Fare0%3D51900%26Seat0%3D9%26tax0%3D4000%26originalFare0%3D65600%26TwCode0%3D%26fare_basis0%3DYX\",\"classCode\":\"N\",\"classDesc\":\"할인석\",\"classNumber\":\"3\",\"isCodeShare\":\"false\",\"codeShareAirline\":null,\"codeShareAirlineDesc\":null,\"noOfAvailSeat\":\"9\",\"salesInd\":\"Y\",\"fareKind\":\"A\",\"fare\":\"51900\",\"chdFare\":\"51900\",\"fareOrigin\":\"65600\",\"chdFareOrigin\":\"65600\"},{\"fareRecKey\":\"adt%3D1%26chd%3D0%26inf%3D0%26DepartureDate0%3D20170622%26ArrivalDate0%3D20170622%26MktCar0%3D7C%26FlightNum0%3D129%26OriginLocation0%3DGMP%26DestinationLocation0%3DCJU%26BookingCls0%3DY%26ArrivalTime0%3D2015%26DepartureTime0%3D1905%26Fare0%3D65600%26Seat0%3D9%26tax0%3D4000%26originalFare0%3D65600%26TwCode0%3D%26fare_basis0%3DYX\",\"classCode\":\"Y\",\"classDesc\":\"일반석\",\"classNumber\":\"2\",\"isCodeShare\":\"false\",\"codeShareAirline\":null,\"codeShareAirlineDesc\":null,\"noOfAvailSeat\":\"9\",\"salesInd\":\"Y\",\"fareKind\":\"A\",\"fare\":\"65600\",\"chdFare\":\"59040\",\"fareOrigin\":\"65600\",\"chdFareOrigin\":\"65600\"}]}},{\"noOfSeg\":\"1\",\"segFare\":{\"carCode\":\"7C\",\"carDesc\":\"제주항공\",\"carEngDesc\":\"Jeju Airline\",\"opCarCode\":\"\",\"opCarDesc\":\"\",\"mainFlt\":\"133\",\"opFlt\":\"\",\"depCity\":\"GMP\",\"depDesc\":\"김포\",\"arrCity\":\"CJU\",\"arrDesc\":\"제주\",\"depDate\":\"20170622\",\"depTime\":\"1935\",\"depDay\":\"THU\",\"arrDate\":\"20170622\",\"arrTime\":\"2045\",\"arrDay\":\"THU\",\"currency\":\"KRW\",\"fareType\":\"\",\"fuelChg\":\"2200\",\"chdFuelChg\":\"2200\",\"airTax\":\"4000\",\"chdAirTax\":\"2000\",\"noOfClass\":\"2\",\"classDetail\":[{\"fareRecKey\":\"adt%3D1%26chd%3D0%26inf%3D0%26DepartureDate0%3D20170622%26ArrivalDate0%3D20170622%26MktCar0%3D7C%26FlightNum0%3D133%26OriginLocation0%3DGMP%26DestinationLocation0%3DCJU%26BookingCls0%3DO%26ArrivalTime0%3D2045%26DepartureTime0%3D1935%26Fare0%3D56900%26Seat0%3D9%26tax0%3D4000%26originalFare0%3D65600%26TwCode0%3D%26fare_basis0%3DYX\",\"classCode\":\"O\",\"classDesc\":\"할인석\",\"classNumber\":\"3\",\"isCodeShare\":\"false\",\"codeShareAirline\":null,\"codeShareAirlineDesc\":null,\"noOfAvailSeat\":\"9\",\"salesInd\":\"Y\",\"fareKind\":\"A\",\"fare\":\"56900\",\"chdFare\":\"56900\",\"fareOrigin\":\"65600\",\"chdFareOrigin\":\"65600\"},{\"fareRecKey\":\"adt%3D1%26chd%3D0%26inf%3D0%26DepartureDate0%3D20170622%26ArrivalDate0%3D20170622%26MktCar0%3D7C%26FlightNum0%3D133%26OriginLocation0%3DGMP%26DestinationLocation0%3DCJU%26BookingCls0%3DY%26ArrivalTime0%3D2045%26DepartureTime0%3D1935%26Fare0%3D65600%26Seat0%3D9%26tax0%3D4000%26originalFare0%3D65600%26TwCode0%3D%26fare_basis0%3DYX\",\"classCode\":\"Y\",\"classDesc\":\"일반석\",\"classNumber\":\"2\",\"isCodeShare\":\"false\",\"codeShareAirline\":null,\"codeShareAirlineDesc\":null,\"noOfAvailSeat\":\"9\",\"salesInd\":\"Y\",\"fareKind\":\"A\",\"fare\":\"65600\",\"chdFare\":\"59040\",\"fareOrigin\":\"65600\",\"chdFareOrigin\":\"65600\"}]}},{\"noOfSeg\":\"1\",\"segFare\":{\"carCode\":\"7C\",\"carDesc\":\"제주항공\",\"carEngDesc\":\"Jeju Airline\",\"opCarCode\":\"\",\"opCarDesc\":\"\",\"mainFlt\":\"147\",\"opFlt\":\"\",\"depCity\":\"GMP\",\"depDesc\":\"김포\",\"arrCity\":\"CJU\",\"arrDesc\":\"제주\",\"depDate\":\"20170622\",\"depTime\":\"2025\",\"depDay\":\"THU\",\"arrDate\":\"20170622\",\"arrTime\":\"2135\",\"arrDay\":\"THU\",\"currency\":\"KRW\",\"fareType\":\"\",\"fuelChg\":\"2200\",\"chdFuelChg\":\"2200\",\"airTax\":\"4000\",\"chdAirTax\":\"2000\",\"noOfClass\":\"1\",\"classDetail\":[{\"fareRecKey\":\"adt%3D1%26chd%3D0%26inf%3D0%26DepartureDate0%3D20170622%26ArrivalDate0%3D20170622%26MktCar0%3D7C%26FlightNum0%3D147%26OriginLocation0%3DGMP%26DestinationLocation0%3DCJU%26BookingCls0%3DY%26ArrivalTime0%3D2135%26DepartureTime0%3D2025%26Fare0%3D65600%26Seat0%3D9%26tax0%3D4000%26originalFare0%3D65600%26TwCode0%3D%26fare_basis0%3DYX\",\"classCode\":\"Y\",\"classDesc\":\"일반석\",\"classNumber\":\"2\",\"isCodeShare\":\"false\",\"codeShareAirline\":null,\"codeShareAirlineDesc\":null,\"noOfAvailSeat\":\"9\",\"salesInd\":\"Y\",\"fareKind\":\"A\",\"fare\":\"65600\",\"chdFare\":\"59040\",\"fareOrigin\":\"65600\",\"chdFareOrigin\":\"65600\"}]}}]}}'"
      ]
     },
     "execution_count": 20,
     "metadata": {},
     "output_type": "execute_result"
    }
   ],
   "source": [
    "dpt,arr,dpt_date = 'GMP','CJU','20170622'\n",
    "airline = '7C'\n",
    "crawling_IP_dom(airline,dpt,arr,dpt_date)"
   ]
  },
  {
   "cell_type": "code",
   "execution_count": null,
   "metadata": {
    "collapsed": false,
    "deletable": true,
    "editable": true,
    "scrolled": true
   },
   "outputs": [],
   "source": [
    "columns = ['date','dpt','arr','flt','dpt_time','fare']\n",
    "for acode in airlines:\n",
    "    columns.append(acode+'_info')\n",
    "    columns.append(acode+'_fare')\n",
    "pd.DataFrame(result_list,columns=columns)"
   ]
  },
  {
   "cell_type": "code",
   "execution_count": null,
   "metadata": {
    "collapsed": true,
    "deletable": true,
    "editable": true
   },
   "outputs": [],
   "source": []
  }
 ],
 "metadata": {
  "kernelspec": {
   "display_name": "Python 3",
   "language": "python",
   "name": "python3"
  },
  "language_info": {
   "codemirror_mode": {
    "name": "ipython",
    "version": 3
   },
   "file_extension": ".py",
   "mimetype": "text/x-python",
   "name": "python",
   "nbconvert_exporter": "python",
   "pygments_lexer": "ipython3",
   "version": "3.5.3"
  }
 },
 "nbformat": 4,
 "nbformat_minor": 2
}
