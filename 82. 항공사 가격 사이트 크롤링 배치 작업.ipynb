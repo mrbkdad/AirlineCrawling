{
 "cells": [
  {
   "cell_type": "markdown",
   "metadata": {
    "deletable": true,
    "editable": true
   },
   "source": [
    "## 항공가격 크롤링을 위한 1차 크롤링 작업\n",
    "- 대상 사이트\n",
    "    + 실시간 : 인터파크, 웹투어\n",
    "    + 항공사 : 대한항공, 아시아나, 제주항공, 진에어, 에어부산, 티웨이\n",
    "    + 실행 시간 : 매일 아침 출근후 실행\n",
    "    + 실행 노선 : 김포 - 제주 내일부터 60일간, 인천 - 나리타 내일부터 60일간\n",
    "    + 데이터 : 사이트를 스크래핑한 raw text를 텍스트 파일로 저장\n",
    "        * 저장시 헤더 정보 생성 및 저장 : 저장 포맷 [스크래핑 날짜 시간, 사이트, 조회조건]\n",
    "    + 파일 형식\n",
    "        * 실시간 : scrap_YYMMDDHH_대상사이트코드_항공사코드_노선[출발-도착]_출발일.txt\n",
    "            * 예)scrap_2017052415_IP_LJ_GMP_CJU_20170610.txt\n",
    "        * 항공사 : scrap_YYMMDDHH_대상사이트코드_노선[출발-도착]_출발일.txt\n",
    "            * 예)scrap_2017052415_KE_GMP_CJU_20170610.txt\n",
    "        * 사이트 코드\n",
    "            * IP - 인터파크, WP - 웹투어, 각 항공사 2자리 코드(KE,OZ,7C,LJ,BX,TW)\n",
    "    + 로그 처리 형식 - 고민 필요\n",
    "        * 포맷\n",
    "        * 오류 로그 :\n",
    "    + 크롤링 결과물 체크 방식\n",
    "        * 여타 이유로 결과가 없을 경우 처리\n",
    "            - 1차 크롤링 후 분석 시 데이터가 없을 경우 만 취합 하여 추가 크롤링을 진행 할 수 있도록 처리 필요\n",
    "            - 데이터 처리를 위한 폴더 구조\n",
    "                + crawl : 1차 크롤링 raw data 저장 폴더\n",
    "                + parsed_data : 파싱된 형태의 데이터를 저장, csv 형식 파일 형식으로 분석된 데이터 저장\n",
    "                + parsed_ok : 정상적으로 파싱된 raw data 파일 저장\n",
    "                + parsed_error : 문제가 있는 raw data 파일 저장\n",
    "\n",
    "### 기준정보 정의\n",
    "\n",
    "- 사이트 코드 정보, 대상 노선 정보, 노선과 사이트 코드 정보 매핑 테이블\n",
    "- 크롤링 기간 정보\n",
    "- 실시간 여행사 정보 스크래핑시 대상 항공사 코드\n",
    "\n",
    "### 로그 처리\n",
    "- log_util 의 common_logger 이용하여 로그 처리\n",
    "-  log(messages,logger,level)"
   ]
  },
  {
   "cell_type": "code",
   "execution_count": 1,
   "metadata": {
    "collapsed": false,
    "deletable": true,
    "editable": true
   },
   "outputs": [],
   "source": [
    "from collections import namedtuple\n",
    "from datetime import datetime, timedelta\n",
    "import requests\n",
    "from common.env_variable import *\n",
    "from common.batch_util import *\n",
    "from common.crawl_func import *\n",
    "from common.log_util import *\n",
    "from common.util import save_raw_data\n",
    "## 로그 초기화\n",
    "logger_initialize('crawl_logger_setting.json')"
   ]
  },
  {
   "cell_type": "markdown",
   "metadata": {
    "deletable": true,
    "editable": true
   },
   "source": [
    "### 국내선/국제선 크롤링 배치 함수\n",
    "1. 세팅 정보중 국내선 사이트 정보 읽어오기\n",
    "2. 해당 정보를 이용 각 사이트 크롤링 진행\n",
    "    1. 기간 생성\n",
    "    2. 해당 기간 동안 노선 정보 만큼 크롤링 진행\n",
    "        * 진행시 항공사 여부 체크하여 항공사가 아니면 스크래핑 대상 항공사 코드 정보 체크\n",
    "    3. 헤더 생성 후 파일로 저장"
   ]
  },
  {
   "cell_type": "code",
   "execution_count": 2,
   "metadata": {
    "collapsed": false,
    "deletable": true,
    "editable": true,
    "scrolled": true
   },
   "outputs": [],
   "source": [
    "## 세팅 파일을 이용한 크롤링 배치 함수\n",
    "## 국내선/국제선 구분 0-국내선,1-국제선\n",
    "def batch_crawl(dom_int='0',interval=None):\n",
    "    start_time = datetime.today()\n",
    "    log_msgs = ['start batch job','crawling domestic site']\n",
    "    log(log_msgs,level=logging.INFO)\n",
    "    crawl_cnt = 0\n",
    "    for site_code in CRAWL_SITE_CODES:\n",
    "        log(site_code,level=logging.INFO)\n",
    "        if site_code is None: ## None 아닌 경우만 진행\n",
    "            continue\n",
    "        ## 국내선/국제선 체크, None 이면 모두\n",
    "        if dom_int is not None and site_code.dom_int != dom_int:\n",
    "            continue\n",
    "        func = None\n",
    "        try:\n",
    "            func = eval(site_code.func)\n",
    "        except NameError as e:\n",
    "            log(e,level=logging.ERROR)\n",
    "        if func is None: ## 해당 함수가 없을 경우 다음으로\n",
    "            continue\n",
    "        ## 해당 함수 이용 크롤링 진행\n",
    "        if interval is None:\n",
    "            interval = CRAWL_INTERVAL\n",
    "        for dpt_date in crawl_period(interval):\n",
    "            ## 크롤링 노선 만큼 크롤링 진행\n",
    "            for route_code,route_info in CRAWL_ROUTES.items():\n",
    "                log([route_code,ROUTE_SITE_MAP[route_code]],level=logging.DEBUG)\n",
    "                if route_info.dom_int != site_code.dom_int: ## 국내선/국제선 체크\n",
    "                    continue\n",
    "                ## 맵체크 값이 없으면 패스\n",
    "                if site_code.site not in ROUTE_SITE_MAP[route_code]:                   \n",
    "                    continue\n",
    "                if site_code.isairline: ## 항공사 사이트\n",
    "                    raw_data = crawling_func(func,route_info.dpt_3p,route_info.arr_3p,dpt_date)\n",
    "                    head = set_headinfo(site_code.site,site_code.dom_int,site_code.site,route_info.dpt_3p,route_info.arr_3p,dpt_date)\n",
    "                    file = file_name(site_code.site,route_info.dpt_3p,route_info.arr_3p,dpt_date)\n",
    "                    save_raw_data(file,raw_data,head=head)\n",
    "                    crawl_cnt += 1\n",
    "                else: ## 실시간 사이트\n",
    "                    for airline in TARGET_AIRLINES:\n",
    "                        ## 조회대상 항공사가 맵에 포함되지 않을 경우 체크\n",
    "                        if airline not in ROUTE_SITE_MAP[route_code]:\n",
    "                            continue\n",
    "                        raw_data = crawling_func(func,airline,route_info.dpt_3p,route_info.arr_3p,dpt_date)\n",
    "                        head = set_headinfo(site_code.site,site_code.dom_int,airline,route_info.dpt_3p,route_info.arr_3p,dpt_date)\n",
    "                        file = file_name(site_code.site,route_info.dpt_3p,route_info.arr_3p,dpt_date,airline=airline)\n",
    "                        save_raw_data(file,raw_data,head=head)\n",
    "                        crawl_cnt += 1\n",
    "    end_time = datetime.today()\n",
    "    log_msgs = ['end batch job','crawling domestic site',\n",
    "                'elapsed -{}'.format(end_time-start_time),'Total crawl:{} files saved.'.format(crawl_cnt)]\n",
    "    log(log_msgs,level=logging.INFO)"
   ]
  },
  {
   "cell_type": "code",
   "execution_count": 11,
   "metadata": {
    "collapsed": false,
    "deletable": true,
    "editable": true,
    "scrolled": true
   },
   "outputs": [
    {
     "name": "stderr",
     "output_type": "stream",
     "text": [
      "2017-06-29 08:25:28,446 root     INFO     start batch job :: crawling domestic site\n",
      "2017-06-29 08:25:28,449 root     INFO     0 :: IP :: crawling_IP_dom :: False\n",
      "2017-06-29 08:25:28,453 root     DEBUG    ICN-NRT :: ['IP', '7C', 'TW', 'LJ', 'ZE']\n",
      "2017-06-29 08:25:28,458 root     DEBUG    GMP-CJU :: ['IP', '7C', 'TW', 'LJ', 'BX', 'ZE']\n",
      "2017-06-29 08:25:28,462 root     DEBUG    Crawling Interpark domastic schedule site\n",
      "2017-06-29 08:25:28,519 root     DEBUG    Crawling Interpark domastic schedule site\n"
     ]
    },
    {
     "name": "stdout",
     "output_type": "stream",
     "text": [
      "Start Simple crawling :  http://domair.interpark.com/api/booking/airJourney.do\n",
      ">> Parameters\n",
      "chd:0 , dep:GMP , adt:1 , tripDivi:0 , inf:0 , airlineCode:7C , depDate:20170630 , arr:CJU , format:json , \n",
      "End Simple crawling\n",
      "Start Simple crawling :  http://domair.interpark.com/api/booking/airJourney.do\n",
      ">> Parameters\n",
      "chd:0 , dep:GMP , adt:1 , tripDivi:0 , inf:0 , airlineCode:TW , depDate:20170630 , arr:CJU , format:json , \n"
     ]
    },
    {
     "name": "stderr",
     "output_type": "stream",
     "text": [
      "2017-06-29 08:25:29,114 root     DEBUG    Crawling Interpark domastic schedule site\n",
      "2017-06-29 08:25:29,290 root     DEBUG    Crawling Interpark domastic schedule site\n"
     ]
    },
    {
     "name": "stdout",
     "output_type": "stream",
     "text": [
      "End Simple crawling\n",
      "Start Simple crawling :  http://domair.interpark.com/api/booking/airJourney.do\n",
      ">> Parameters\n",
      "chd:0 , dep:GMP , adt:1 , tripDivi:0 , inf:0 , airlineCode:LJ , depDate:20170630 , arr:CJU , format:json , \n",
      "End Simple crawling\n",
      "Start Simple crawling :  http://domair.interpark.com/api/booking/airJourney.do\n",
      ">> Parameters\n",
      "chd:0 , dep:GMP , adt:1 , tripDivi:0 , inf:0 , airlineCode:BX , depDate:20170630 , arr:CJU , format:json , \n"
     ]
    },
    {
     "name": "stderr",
     "output_type": "stream",
     "text": [
      "2017-06-29 08:25:29,922 root     DEBUG    Crawling Interpark domastic schedule site\n"
     ]
    },
    {
     "name": "stdout",
     "output_type": "stream",
     "text": [
      "End Simple crawling\n",
      "Start Simple crawling :  http://domair.interpark.com/api/booking/airJourney.do\n",
      ">> Parameters\n",
      "chd:0 , dep:GMP , adt:1 , tripDivi:0 , inf:0 , airlineCode:ZE , depDate:20170630 , arr:CJU , format:json , \n"
     ]
    },
    {
     "name": "stderr",
     "output_type": "stream",
     "text": [
      "2017-06-29 08:25:31,195 root     DEBUG    ICN-NRT :: ['IP', '7C', 'TW', 'LJ', 'ZE']\n",
      "2017-06-29 08:25:31,197 root     DEBUG    GMP-CJU :: ['IP', '7C', 'TW', 'LJ', 'BX', 'ZE']\n",
      "2017-06-29 08:25:31,199 root     DEBUG    Crawling Interpark domastic schedule site\n",
      "2017-06-29 08:25:31,252 root     DEBUG    Crawling Interpark domastic schedule site\n"
     ]
    },
    {
     "name": "stdout",
     "output_type": "stream",
     "text": [
      "End Simple crawling\n",
      "Start Simple crawling :  http://domair.interpark.com/api/booking/airJourney.do\n",
      ">> Parameters\n",
      "chd:0 , dep:GMP , adt:1 , tripDivi:0 , inf:0 , airlineCode:7C , depDate:20170701 , arr:CJU , format:json , \n",
      "End Simple crawling\n",
      "Start Simple crawling :  http://domair.interpark.com/api/booking/airJourney.do\n",
      ">> Parameters\n",
      "chd:0 , dep:GMP , adt:1 , tripDivi:0 , inf:0 , airlineCode:TW , depDate:20170701 , arr:CJU , format:json , \n"
     ]
    },
    {
     "name": "stderr",
     "output_type": "stream",
     "text": [
      "2017-06-29 08:25:31,881 root     DEBUG    Crawling Interpark domastic schedule site\n"
     ]
    },
    {
     "name": "stdout",
     "output_type": "stream",
     "text": [
      "End Simple crawling\n",
      "Start Simple crawling :  http://domair.interpark.com/api/booking/airJourney.do\n",
      ">> Parameters\n",
      "chd:0 , dep:GMP , adt:1 , tripDivi:0 , inf:0 , airlineCode:LJ , depDate:20170701 , arr:CJU , format:json , \n"
     ]
    },
    {
     "name": "stderr",
     "output_type": "stream",
     "text": [
      "2017-06-29 08:25:32,187 root     DEBUG    Crawling Interpark domastic schedule site\n"
     ]
    },
    {
     "name": "stdout",
     "output_type": "stream",
     "text": [
      "End Simple crawling\n",
      "Start Simple crawling :  http://domair.interpark.com/api/booking/airJourney.do\n",
      ">> Parameters\n",
      "chd:0 , dep:GMP , adt:1 , tripDivi:0 , inf:0 , airlineCode:BX , depDate:20170701 , arr:CJU , format:json , \n"
     ]
    },
    {
     "name": "stderr",
     "output_type": "stream",
     "text": [
      "2017-06-29 08:25:32,839 root     DEBUG    Crawling Interpark domastic schedule site\n"
     ]
    },
    {
     "name": "stdout",
     "output_type": "stream",
     "text": [
      "End Simple crawling\n",
      "Start Simple crawling :  http://domair.interpark.com/api/booking/airJourney.do\n",
      ">> Parameters\n",
      "chd:0 , dep:GMP , adt:1 , tripDivi:0 , inf:0 , airlineCode:ZE , depDate:20170701 , arr:CJU , format:json , \n"
     ]
    },
    {
     "name": "stderr",
     "output_type": "stream",
     "text": [
      "2017-06-29 08:25:34,276 root     DEBUG    ICN-NRT :: ['IP', '7C', 'TW', 'LJ', 'ZE']\n",
      "2017-06-29 08:25:34,278 root     DEBUG    GMP-CJU :: ['IP', '7C', 'TW', 'LJ', 'BX', 'ZE']\n",
      "2017-06-29 08:25:34,281 root     DEBUG    Crawling Interpark domastic schedule site\n",
      "2017-06-29 08:25:34,336 root     DEBUG    Crawling Interpark domastic schedule site\n"
     ]
    },
    {
     "name": "stdout",
     "output_type": "stream",
     "text": [
      "End Simple crawling\n",
      "Start Simple crawling :  http://domair.interpark.com/api/booking/airJourney.do\n",
      ">> Parameters\n",
      "chd:0 , dep:GMP , adt:1 , tripDivi:0 , inf:0 , airlineCode:7C , depDate:20170702 , arr:CJU , format:json , \n",
      "End Simple crawling\n",
      "Start Simple crawling :  http://domair.interpark.com/api/booking/airJourney.do\n",
      ">> Parameters\n",
      "chd:0 , dep:GMP , adt:1 , tripDivi:0 , inf:0 , airlineCode:TW , depDate:20170702 , arr:CJU , format:json , \n"
     ]
    },
    {
     "name": "stderr",
     "output_type": "stream",
     "text": [
      "2017-06-29 08:25:34,820 root     DEBUG    Crawling Interpark domastic schedule site\n",
      "2017-06-29 08:25:34,989 root     DEBUG    Crawling Interpark domastic schedule site\n"
     ]
    },
    {
     "name": "stdout",
     "output_type": "stream",
     "text": [
      "End Simple crawling\n",
      "Start Simple crawling :  http://domair.interpark.com/api/booking/airJourney.do\n",
      ">> Parameters\n",
      "chd:0 , dep:GMP , adt:1 , tripDivi:0 , inf:0 , airlineCode:LJ , depDate:20170702 , arr:CJU , format:json , \n",
      "End Simple crawling\n",
      "Start Simple crawling :  http://domair.interpark.com/api/booking/airJourney.do\n",
      ">> Parameters\n",
      "chd:0 , dep:GMP , adt:1 , tripDivi:0 , inf:0 , airlineCode:BX , depDate:20170702 , arr:CJU , format:json , \n"
     ]
    },
    {
     "name": "stderr",
     "output_type": "stream",
     "text": [
      "2017-06-29 08:25:35,536 root     DEBUG    Crawling Interpark domastic schedule site\n"
     ]
    },
    {
     "name": "stdout",
     "output_type": "stream",
     "text": [
      "End Simple crawling\n",
      "Start Simple crawling :  http://domair.interpark.com/api/booking/airJourney.do\n",
      ">> Parameters\n",
      "chd:0 , dep:GMP , adt:1 , tripDivi:0 , inf:0 , airlineCode:ZE , depDate:20170702 , arr:CJU , format:json , \n"
     ]
    },
    {
     "name": "stderr",
     "output_type": "stream",
     "text": [
      "2017-06-29 08:25:36,986 root     DEBUG    ICN-NRT :: ['IP', '7C', 'TW', 'LJ', 'ZE']\n",
      "2017-06-29 08:25:36,987 root     DEBUG    GMP-CJU :: ['IP', '7C', 'TW', 'LJ', 'BX', 'ZE']\n",
      "2017-06-29 08:25:36,990 root     DEBUG    Crawling Interpark domastic schedule site\n",
      "2017-06-29 08:25:37,073 root     DEBUG    Crawling Interpark domastic schedule site\n"
     ]
    },
    {
     "name": "stdout",
     "output_type": "stream",
     "text": [
      "End Simple crawling\n",
      "Start Simple crawling :  http://domair.interpark.com/api/booking/airJourney.do\n",
      ">> Parameters\n",
      "chd:0 , dep:GMP , adt:1 , tripDivi:0 , inf:0 , airlineCode:7C , depDate:20170703 , arr:CJU , format:json , \n",
      "End Simple crawling\n",
      "Start Simple crawling :  http://domair.interpark.com/api/booking/airJourney.do\n",
      ">> Parameters\n",
      "chd:0 , dep:GMP , adt:1 , tripDivi:0 , inf:0 , airlineCode:TW , depDate:20170703 , arr:CJU , format:json , \n"
     ]
    },
    {
     "name": "stderr",
     "output_type": "stream",
     "text": [
      "2017-06-29 08:25:37,577 root     DEBUG    Crawling Interpark domastic schedule site\n",
      "2017-06-29 08:25:37,758 root     DEBUG    Crawling Interpark domastic schedule site\n"
     ]
    },
    {
     "name": "stdout",
     "output_type": "stream",
     "text": [
      "End Simple crawling\n",
      "Start Simple crawling :  http://domair.interpark.com/api/booking/airJourney.do\n",
      ">> Parameters\n",
      "chd:0 , dep:GMP , adt:1 , tripDivi:0 , inf:0 , airlineCode:LJ , depDate:20170703 , arr:CJU , format:json , \n",
      "End Simple crawling\n",
      "Start Simple crawling :  http://domair.interpark.com/api/booking/airJourney.do\n",
      ">> Parameters\n",
      "chd:0 , dep:GMP , adt:1 , tripDivi:0 , inf:0 , airlineCode:BX , depDate:20170703 , arr:CJU , format:json , \n"
     ]
    },
    {
     "name": "stderr",
     "output_type": "stream",
     "text": [
      "2017-06-29 08:25:38,316 root     DEBUG    Crawling Interpark domastic schedule site\n"
     ]
    },
    {
     "name": "stdout",
     "output_type": "stream",
     "text": [
      "End Simple crawling\n",
      "Start Simple crawling :  http://domair.interpark.com/api/booking/airJourney.do\n",
      ">> Parameters\n",
      "chd:0 , dep:GMP , adt:1 , tripDivi:0 , inf:0 , airlineCode:ZE , depDate:20170703 , arr:CJU , format:json , \n"
     ]
    },
    {
     "name": "stderr",
     "output_type": "stream",
     "text": [
      "2017-06-29 08:25:39,399 root     DEBUG    ICN-NRT :: ['IP', '7C', 'TW', 'LJ', 'ZE']\n",
      "2017-06-29 08:25:39,401 root     DEBUG    GMP-CJU :: ['IP', '7C', 'TW', 'LJ', 'BX', 'ZE']\n",
      "2017-06-29 08:25:39,403 root     DEBUG    Crawling Interpark domastic schedule site\n",
      "2017-06-29 08:25:39,459 root     DEBUG    Crawling Interpark domastic schedule site\n"
     ]
    },
    {
     "name": "stdout",
     "output_type": "stream",
     "text": [
      "End Simple crawling\n",
      "Start Simple crawling :  http://domair.interpark.com/api/booking/airJourney.do\n",
      ">> Parameters\n",
      "chd:0 , dep:GMP , adt:1 , tripDivi:0 , inf:0 , airlineCode:7C , depDate:20170704 , arr:CJU , format:json , \n",
      "End Simple crawling\n",
      "Start Simple crawling :  http://domair.interpark.com/api/booking/airJourney.do\n",
      ">> Parameters\n",
      "chd:0 , dep:GMP , adt:1 , tripDivi:0 , inf:0 , airlineCode:TW , depDate:20170704 , arr:CJU , format:json , \n"
     ]
    },
    {
     "name": "stderr",
     "output_type": "stream",
     "text": [
      "2017-06-29 08:25:40,025 root     DEBUG    Crawling Interpark domastic schedule site\n",
      "2017-06-29 08:25:40,218 root     DEBUG    Crawling Interpark domastic schedule site\n"
     ]
    },
    {
     "name": "stdout",
     "output_type": "stream",
     "text": [
      "End Simple crawling\n",
      "Start Simple crawling :  http://domair.interpark.com/api/booking/airJourney.do\n",
      ">> Parameters\n",
      "chd:0 , dep:GMP , adt:1 , tripDivi:0 , inf:0 , airlineCode:LJ , depDate:20170704 , arr:CJU , format:json , \n",
      "End Simple crawling\n",
      "Start Simple crawling :  http://domair.interpark.com/api/booking/airJourney.do\n",
      ">> Parameters\n",
      "chd:0"
     ]
    },
    {
     "name": "stderr",
     "output_type": "stream",
     "text": [
      "2017-06-29 08:25:41,033 root     DEBUG    Crawling Interpark domastic schedule site\n"
     ]
    },
    {
     "name": "stdout",
     "output_type": "stream",
     "text": [
      " , dep:GMP , adt:1 , tripDivi:0 , inf:0 , airlineCode:BX , depDate:20170704 , arr:CJU , format:json , \n",
      "End Simple crawling\n",
      "Start Simple crawling :  http://domair.interpark.com/api/booking/airJourney.do\n",
      ">> Parameters\n",
      "chd:0 , dep:GMP , adt:1 , tripDivi:0 , inf:0 , airlineCode:ZE , depDate:20170704 , arr:CJU , format:json , \n"
     ]
    },
    {
     "name": "stderr",
     "output_type": "stream",
     "text": [
      "2017-06-29 08:25:42,229 root     DEBUG    ICN-NRT :: ['IP', '7C', 'TW', 'LJ', 'ZE']\n",
      "2017-06-29 08:25:42,230 root     DEBUG    GMP-CJU :: ['IP', '7C', 'TW', 'LJ', 'BX', 'ZE']\n",
      "2017-06-29 08:25:42,233 root     DEBUG    Crawling Interpark domastic schedule site\n",
      "2017-06-29 08:25:42,291 root     DEBUG    Crawling Interpark domastic schedule site\n"
     ]
    },
    {
     "name": "stdout",
     "output_type": "stream",
     "text": [
      "End Simple crawling\n",
      "Start Simple crawling :  http://domair.interpark.com/api/booking/airJourney.do\n",
      ">> Parameters\n",
      "chd:0 , dep:GMP , adt:1 , tripDivi:0 , inf:0 , airlineCode:7C , depDate:20170705 , arr:CJU , format:json , \n",
      "End Simple crawling\n",
      "Start Simple crawling :  http://domair.interpark.com/api/booking/airJourney.do\n",
      ">> Parameters\n",
      "chd:0 , dep:GMP , adt:1 , tripDivi:0 , inf:0 , airlineCode:TW , depDate:20170705 , arr:CJU , format:json , \n"
     ]
    },
    {
     "name": "stderr",
     "output_type": "stream",
     "text": [
      "2017-06-29 08:25:42,864 root     DEBUG    Crawling Interpark domastic schedule site\n"
     ]
    },
    {
     "name": "stdout",
     "output_type": "stream",
     "text": [
      "End Simple crawling\n",
      "Start Simple crawling :  http://domair.interpark.com/api/booking/airJourney.do\n",
      ">> Parameters\n",
      "chd:0 , dep:GMP , adt:1 , tripDivi:0 , inf:0 , airlineCode:LJ , depDate:20170705 , arr:CJU , format:json , \n"
     ]
    },
    {
     "name": "stderr",
     "output_type": "stream",
     "text": [
      "2017-06-29 08:25:43,108 root     DEBUG    Crawling Interpark domastic schedule site\n"
     ]
    },
    {
     "name": "stdout",
     "output_type": "stream",
     "text": [
      "End Simple crawling\n",
      "Start Simple crawling :  http://domair.interpark.com/api/booking/airJourney.do\n",
      ">> Parameters\n",
      "chd:0 , dep:GMP , adt:1 , tripDivi:0 , inf:0 , airlineCode:BX , depDate:20170705 , arr:CJU , format:json , \n"
     ]
    },
    {
     "name": "stderr",
     "output_type": "stream",
     "text": [
      "2017-06-29 08:25:43,882 root     DEBUG    Crawling Interpark domastic schedule site\n"
     ]
    },
    {
     "name": "stdout",
     "output_type": "stream",
     "text": [
      "End Simple crawling\n",
      "Start Simple crawling :  http://domair.interpark.com/api/booking/airJourney.do\n",
      ">> Parameters\n",
      "chd:0 , dep:GMP , adt:1 , tripDivi:0 , inf:0 , airlineCode:ZE , depDate:20170705 , arr:CJU , format:json , \n"
     ]
    },
    {
     "name": "stderr",
     "output_type": "stream",
     "text": [
      "2017-06-29 08:25:45,100 root     DEBUG    ICN-NRT :: ['IP', '7C', 'TW', 'LJ', 'ZE']\n",
      "2017-06-29 08:25:45,102 root     DEBUG    GMP-CJU :: ['IP', '7C', 'TW', 'LJ', 'BX', 'ZE']\n",
      "2017-06-29 08:25:45,104 root     DEBUG    Crawling Interpark domastic schedule site\n",
      "2017-06-29 08:25:45,168 root     DEBUG    Crawling Interpark domastic schedule site\n"
     ]
    },
    {
     "name": "stdout",
     "output_type": "stream",
     "text": [
      "End Simple crawling\n",
      "Start Simple crawling :  http://domair.interpark.com/api/booking/airJourney.do\n",
      ">> Parameters\n",
      "chd:0 , dep:GMP , adt:1 , tripDivi:0 , inf:0 , airlineCode:7C , depDate:20170706 , arr:CJU , format:json , \n",
      "End Simple crawling\n",
      "Start Simple crawling :  http://domair.interpark.com/api/booking/airJourney.do\n",
      ">> Parameters\n",
      "chd:0 , dep:GMP , adt:1 , tripDivi:0 , inf:0 , airlineCode:TW , depDate:20170706 , arr:CJU , format:json , \n"
     ]
    },
    {
     "name": "stderr",
     "output_type": "stream",
     "text": [
      "2017-06-29 08:25:45,710 root     DEBUG    Crawling Interpark domastic schedule site\n",
      "2017-06-29 08:25:45,890 root     DEBUG    Crawling Interpark domastic schedule site\n"
     ]
    },
    {
     "name": "stdout",
     "output_type": "stream",
     "text": [
      "End Simple crawling\n",
      "Start Simple crawling :  http://domair.interpark.com/api/booking/airJourney.do\n",
      ">> Parameters\n",
      "chd:0 , dep:GMP , adt:1 , tripDivi:0 , inf:0 , airlineCode:LJ , depDate:20170706 , arr:CJU , format:json , \n",
      "End Simple crawling\n",
      "Start Simple crawling :  http://domair.interpark.com/api/booking/airJourney.do\n",
      ">> Parameters\n",
      "chd:0 , dep:GMP , adt:1 , tripDivi:0 , inf:0 , airlineCode:BX , depDate:20170706 , arr:CJU , format:json , \n"
     ]
    },
    {
     "name": "stderr",
     "output_type": "stream",
     "text": [
      "2017-06-29 08:25:46,212 root     DEBUG    Crawling Interpark domastic schedule site\n"
     ]
    },
    {
     "name": "stdout",
     "output_type": "stream",
     "text": [
      "End Simple crawling\n",
      "Start Simple crawling :  http://domair.interpark.com/api/booking/airJourney.do\n",
      ">> Parameters\n",
      "chd:0 , dep:GMP , adt:1 , tripDivi:0 , inf:0 , airlineCode:ZE , depDate:20170706 , arr:CJU , format:json , \n"
     ]
    },
    {
     "name": "stderr",
     "output_type": "stream",
     "text": [
      "2017-06-29 08:25:47,777 root     DEBUG    ICN-NRT :: ['IP', '7C', 'TW', 'LJ', 'ZE']\n",
      "2017-06-29 08:25:47,779 root     DEBUG    GMP-CJU :: ['IP', '7C', 'TW', 'LJ', 'BX', 'ZE']\n",
      "2017-06-29 08:25:47,781 root     DEBUG    Crawling Interpark domastic schedule site\n",
      "2017-06-29 08:25:47,836 root     DEBUG    Crawling Interpark domastic schedule site\n"
     ]
    },
    {
     "name": "stdout",
     "output_type": "stream",
     "text": [
      "End Simple crawling\n",
      "Start Simple crawling :  http://domair.interpark.com/api/booking/airJourney.do\n",
      ">> Parameters\n",
      "chd:0 , dep:GMP , adt:1 , tripDivi:0 , inf:0 , airlineCode:7C , depDate:20170707 , arr:CJU , format:json , \n",
      "End Simple crawling\n",
      "Start Simple crawling :  http://domair.interpark.com/api/booking/airJourney.do\n",
      ">> Parameters\n",
      "chd:0 , dep:GMP , adt:1 , tripDivi:0 , inf:0 , airlineCode:TW , depDate:20170707 , arr:CJU , format:json , \n"
     ]
    },
    {
     "name": "stderr",
     "output_type": "stream",
     "text": [
      "2017-06-29 08:25:48,404 root     DEBUG    Crawling Interpark domastic schedule site\n",
      "2017-06-29 08:25:48,598 root     DEBUG    Crawling Interpark domastic schedule site\n"
     ]
    },
    {
     "name": "stdout",
     "output_type": "stream",
     "text": [
      "End Simple crawling\n",
      "Start Simple crawling :  http://domair.interpark.com/api/booking/airJourney.do\n",
      ">> Parameters\n",
      "chd:0 , dep:GMP , adt:1 , tripDivi:0 , inf:0 , airlineCode:LJ , depDate:20170707 , arr:CJU , format:json , \n",
      "End Simple crawling\n",
      "Start Simple crawling :  "
     ]
    },
    {
     "name": "stderr",
     "output_type": "stream",
     "text": [
      "2017-06-29 08:25:49,255 root     DEBUG    Crawling Interpark domastic schedule site\n"
     ]
    },
    {
     "name": "stdout",
     "output_type": "stream",
     "text": [
      "http://domair.interpark.com/api/booking/airJourney.do\n",
      ">> Parameters\n",
      "chd:0 , dep:GMP , adt:1 , tripDivi:0 , inf:0 , airlineCode:BX , depDate:20170707 , arr:CJU , format:json , \n",
      "End Simple crawling\n",
      "Start Simple crawling :  http://domair.interpark.com/api/booking/airJourney.do\n",
      ">> Parameters\n",
      "chd:0 , dep:GMP , adt:1 , tripDivi:0 , inf:0 , airlineCode:ZE , depDate:20170707 , arr:CJU , format:json , \n"
     ]
    },
    {
     "name": "stderr",
     "output_type": "stream",
     "text": [
      "2017-06-29 08:25:50,413 root     DEBUG    ICN-NRT :: ['IP', '7C', 'TW', 'LJ', 'ZE']\n",
      "2017-06-29 08:25:50,415 root     DEBUG    GMP-CJU :: ['IP', '7C', 'TW', 'LJ', 'BX', 'ZE']\n",
      "2017-06-29 08:25:50,416 root     DEBUG    Crawling Interpark domastic schedule site\n",
      "2017-06-29 08:25:50,461 root     DEBUG    Crawling Interpark domastic schedule site\n"
     ]
    },
    {
     "name": "stdout",
     "output_type": "stream",
     "text": [
      "End Simple crawling\n",
      "Start Simple crawling :  http://domair.interpark.com/api/booking/airJourney.do\n",
      ">> Parameters\n",
      "chd:0 , dep:GMP , adt:1 , tripDivi:0 , inf:0 , airlineCode:7C , depDate:20170708 , arr:CJU , format:json , \n",
      "End Simple crawling\n",
      "Start Simple crawling :  http://domair.interpark.com/api/booking/airJourney.do\n",
      ">> Parameters\n",
      "chd:0 , dep:GMP , adt:1 , tripDivi:0 , inf:0 , airlineCode:TW , depDate:20170708 , arr:CJU , format:json , \n"
     ]
    },
    {
     "name": "stderr",
     "output_type": "stream",
     "text": [
      "2017-06-29 08:25:51,105 root     DEBUG    Crawling Interpark domastic schedule site\n"
     ]
    },
    {
     "name": "stdout",
     "output_type": "stream",
     "text": [
      "End Simple crawling\n",
      "Start Simple crawling :  http://domair.interpark.com/api/booking/airJourney.do\n",
      ">> Parameters\n",
      "chd:0 , dep:GMP , adt:1 , tripDivi:0 , inf:0 , airlineCode:LJ , depDate:20170708 , arr:CJU , format:json , \n",
      "End Simple crawling\n"
     ]
    },
    {
     "name": "stderr",
     "output_type": "stream",
     "text": [
      "2017-06-29 08:25:51,304 root     DEBUG    Crawling Interpark domastic schedule site\n"
     ]
    },
    {
     "name": "stdout",
     "output_type": "stream",
     "text": [
      "Start Simple crawling :  http://domair.interpark.com/api/booking/airJourney.do\n",
      ">> Parameters\n",
      "chd:0 , dep:GMP , adt:1 , tripDivi:0 , inf:0 , airlineCode:BX , depDate:20170708 , arr:CJU , format:json , \n"
     ]
    },
    {
     "name": "stderr",
     "output_type": "stream",
     "text": [
      "2017-06-29 08:25:51,900 root     DEBUG    Crawling Interpark domastic schedule site\n"
     ]
    },
    {
     "name": "stdout",
     "output_type": "stream",
     "text": [
      "End Simple crawling\n",
      "Start Simple crawling :  http://domair.interpark.com/api/booking/airJourney.do\n",
      ">> Parameters\n",
      "chd:0 , dep:GMP , adt:1 , tripDivi:0 , inf:0 , airlineCode:ZE , depDate:20170708 , arr:CJU , format:json , \n"
     ]
    },
    {
     "name": "stderr",
     "output_type": "stream",
     "text": [
      "2017-06-29 08:25:53,175 root     DEBUG    ICN-NRT :: ['IP', '7C', 'TW', 'LJ', 'ZE']\n",
      "2017-06-29 08:25:53,176 root     DEBUG    GMP-CJU :: ['IP', '7C', 'TW', 'LJ', 'BX', 'ZE']\n",
      "2017-06-29 08:25:53,178 root     DEBUG    Crawling Interpark domastic schedule site\n",
      "2017-06-29 08:25:53,238 root     DEBUG    Crawling Interpark domastic schedule site\n"
     ]
    },
    {
     "name": "stdout",
     "output_type": "stream",
     "text": [
      "End Simple crawling\n",
      "Start Simple crawling :  http://domair.interpark.com/api/booking/airJourney.do\n",
      ">> Parameters\n",
      "chd:0 , dep:GMP , adt:1 , tripDivi:0 , inf:0 , airlineCode:7C , depDate:20170709 , arr:CJU , format:json , \n",
      "End Simple crawling\n",
      "Start Simple crawling :  http://domair.interpark.com/api/booking/airJourney.do\n",
      ">> Parameters\n",
      "chd:0 , dep:GMP , adt:1 , tripDivi:0 , inf:0 , airlineCode:TW , depDate:20170709 , arr:CJU , format:json , \n"
     ]
    },
    {
     "name": "stderr",
     "output_type": "stream",
     "text": [
      "2017-06-29 08:25:53,784 root     DEBUG    Crawling Interpark domastic schedule site\n"
     ]
    },
    {
     "name": "stdout",
     "output_type": "stream",
     "text": [
      "End Simple crawling\n",
      "Start Simple crawling :  http://domair.interpark.com/api/booking/airJourney.do\n",
      ">> Parameters\n",
      "chd:0 , dep:GMP , adt:1 , tripDivi:0 , inf:0 , airlineCode:LJ , depDate:20170709 , arr:CJU , format:json , \n",
      "End Simple crawling\n"
     ]
    },
    {
     "name": "stderr",
     "output_type": "stream",
     "text": [
      "2017-06-29 08:25:53,983 root     DEBUG    Crawling Interpark domastic schedule site\n"
     ]
    },
    {
     "name": "stdout",
     "output_type": "stream",
     "text": [
      "Start Simple crawling :  http://domair.interpark.com/api/booking/airJourney.do\n",
      ">> Parameters\n",
      "chd:0 , dep:GMP , adt:1 , tripDivi:0 , inf:0 , airlineCode:BX , depDate:20170709 , arr:CJU , format:json , \n"
     ]
    },
    {
     "name": "stderr",
     "output_type": "stream",
     "text": [
      "2017-06-29 08:25:54,497 root     DEBUG    Crawling Interpark domastic schedule site\n"
     ]
    },
    {
     "name": "stdout",
     "output_type": "stream",
     "text": [
      "End Simple crawling\n",
      "Start Simple crawling :  http://domair.interpark.com/api/booking/airJourney.do\n",
      ">> Parameters\n",
      "chd:0 , dep:GMP , adt:1 , tripDivi:0 , inf:0 , airlineCode:ZE , depDate:20170709 , arr:CJU , format:json , \n"
     ]
    },
    {
     "name": "stderr",
     "output_type": "stream",
     "text": [
      "2017-06-29 08:25:55,783 root     DEBUG    ICN-NRT :: ['IP', '7C', 'TW', 'LJ', 'ZE']\n",
      "2017-06-29 08:25:55,785 root     DEBUG    GMP-CJU :: ['IP', '7C', 'TW', 'LJ', 'BX', 'ZE']\n",
      "2017-06-29 08:25:55,787 root     DEBUG    Crawling Interpark domastic schedule site\n",
      "2017-06-29 08:25:55,838 root     DEBUG    Crawling Interpark domastic schedule site\n"
     ]
    },
    {
     "name": "stdout",
     "output_type": "stream",
     "text": [
      "End Simple crawling\n",
      "Start Simple crawling :  http://domair.interpark.com/api/booking/airJourney.do\n",
      ">> Parameters\n",
      "chd:0 , dep:GMP , adt:1 , tripDivi:0 , inf:0 , airlineCode:7C , depDate:20170710 , arr:CJU , format:json , \n",
      "End Simple crawling\n",
      "Start Simple crawling :  http://domair.interpark.com/api/booking/airJourney.do\n",
      ">> Parameters\n",
      "chd:0 , dep:GMP , adt:1 , tripDivi:0 , inf:0 , airlineCode:TW , depDate:20170710 , arr:CJU , format:json , \n"
     ]
    },
    {
     "name": "stderr",
     "output_type": "stream",
     "text": [
      "2017-06-29 08:25:56,362 root     DEBUG    Crawling Interpark domastic schedule site\n",
      "2017-06-29 08:25:56,528 root     DEBUG    Crawling Interpark domastic schedule site\n"
     ]
    },
    {
     "name": "stdout",
     "output_type": "stream",
     "text": [
      "End Simple crawling\n",
      "Start Simple crawling :  http://domair.interpark.com/api/booking/airJourney.do\n",
      ">> Parameters\n",
      "chd:0 , dep:GMP , adt:1 , tripDivi:0 , inf:0 , airlineCode:LJ , depDate:20170710 , arr:CJU , format:json , \n",
      "End Simple crawling\n",
      "Start Simple crawling :  http://domair.interpark.com/api/booking/airJourney.do\n",
      ">> Parameters\n",
      "chd:0 , dep:GMP , adt:1 , tripDivi:0 , inf:0 , airlineCode:BX , depDate:20170710 , arr:CJU , format:json , \n"
     ]
    },
    {
     "name": "stderr",
     "output_type": "stream",
     "text": [
      "2017-06-29 08:25:57,021 root     DEBUG    Crawling Interpark domastic schedule site\n"
     ]
    },
    {
     "name": "stdout",
     "output_type": "stream",
     "text": [
      "End Simple crawling\n",
      "Start Simple crawling :  http://domair.interpark.com/api/booking/airJourney.do\n",
      ">> Parameters\n",
      "chd:0 , dep:GMP , adt:1 , tripDivi:0 , inf:0 , airlineCode:ZE , depDate:20170710 , arr:CJU , format:json , \n"
     ]
    },
    {
     "name": "stderr",
     "output_type": "stream",
     "text": [
      "2017-06-29 08:25:58,218 root     DEBUG    ICN-NRT :: ['IP', '7C', 'TW', 'LJ', 'ZE']\n",
      "2017-06-29 08:25:58,220 root     DEBUG    GMP-CJU :: ['IP', '7C', 'TW', 'LJ', 'BX', 'ZE']\n",
      "2017-06-29 08:25:58,222 root     DEBUG    Crawling Interpark domastic schedule site\n",
      "2017-06-29 08:25:58,272 root     DEBUG    Crawling Interpark domastic schedule site\n"
     ]
    },
    {
     "name": "stdout",
     "output_type": "stream",
     "text": [
      "End Simple crawling\n",
      "Start Simple crawling :  http://domair.interpark.com/api/booking/airJourney.do\n",
      ">> Parameters\n",
      "chd:0 , dep:GMP , adt:1 , tripDivi:0 , inf:0 , airlineCode:7C , depDate:20170711 , arr:CJU , format:json , \n",
      "End Simple crawling\n",
      "Start Simple crawling :  http://domair.interpark.com/api/booking/airJourney.do\n",
      ">> Parameters\n",
      "chd:0 , dep:GMP , adt:1 , tripDivi:0 , inf:0 , airlineCode:TW , depDate:20170711 , arr:CJU , format:json , \n"
     ]
    },
    {
     "name": "stderr",
     "output_type": "stream",
     "text": [
      "2017-06-29 08:25:58,803 root     DEBUG    Crawling Interpark domastic schedule site\n",
      "2017-06-29 08:25:58,992 root     DEBUG    Crawling Interpark domastic schedule site\n"
     ]
    },
    {
     "name": "stdout",
     "output_type": "stream",
     "text": [
      "End Simple crawling\n",
      "Start Simple crawling :  http://domair.interpark.com/api/booking/airJourney.do\n",
      ">> Parameters\n",
      "chd:0 , dep:GMP , adt:1 , tripDivi:0 , inf:0 , airlineCode:LJ , depDate:20170711 , arr:CJU , format:json , \n",
      "End Simple crawling\n",
      "Start Simple crawling :  http://domair.interpark.com/api/booking/airJourney.do\n",
      ">> Parameters\n",
      "chd:0 , dep:GMP , adt:1 , tripDivi:0 , inf:0 , airlineCode:BX , depDate:20170711 , arr:CJU , format:json , \n"
     ]
    },
    {
     "name": "stderr",
     "output_type": "stream",
     "text": [
      "2017-06-29 08:25:59,938 root     DEBUG    Crawling Interpark domastic schedule site\n"
     ]
    },
    {
     "name": "stdout",
     "output_type": "stream",
     "text": [
      "End Simple crawling\n",
      "Start Simple crawling :  http://domair.interpark.com/api/booking/airJourney.do\n",
      ">> Parameters\n",
      "chd:0 , dep:GMP , adt:1 , tripDivi:0 , inf:0 , airlineCode:ZE , depDate:20170711 , arr:CJU , format:json , \n"
     ]
    },
    {
     "name": "stderr",
     "output_type": "stream",
     "text": [
      "2017-06-29 08:26:01,158 root     DEBUG    ICN-NRT :: ['IP', '7C', 'TW', 'LJ', 'ZE']\n",
      "2017-06-29 08:26:01,160 root     DEBUG    GMP-CJU :: ['IP', '7C', 'TW', 'LJ', 'BX', 'ZE']\n",
      "2017-06-29 08:26:01,161 root     DEBUG    Crawling Interpark domastic schedule site\n",
      "2017-06-29 08:26:01,206 root     DEBUG    Crawling Interpark domastic schedule site\n"
     ]
    },
    {
     "name": "stdout",
     "output_type": "stream",
     "text": [
      "End Simple crawling\n",
      "Start Simple crawling :  http://domair.interpark.com/api/booking/airJourney.do\n",
      ">> Parameters\n",
      "chd:0 , dep:GMP , adt:1 , tripDivi:0 , inf:0 , airlineCode:7C , depDate:20170712 , arr:CJU , format:json , \n",
      "End Simple crawling\n",
      "Start Simple crawling :  http://domair.interpark.com/api/booking/airJourney.do\n",
      ">> Parameters\n",
      "chd:0 , dep:GMP , adt:1 , tripDivi:0 , inf:0 , airlineCode:TW , depDate:20170712 , arr:CJU , format:json , \n"
     ]
    },
    {
     "name": "stderr",
     "output_type": "stream",
     "text": [
      "2017-06-29 08:26:01,776 root     DEBUG    Crawling Interpark domastic schedule site\n",
      "2017-06-29 08:26:01,966 root     DEBUG    Crawling Interpark domastic schedule site\n"
     ]
    },
    {
     "name": "stdout",
     "output_type": "stream",
     "text": [
      "End Simple crawling\n",
      "Start Simple crawling :  http://domair.interpark.com/api/booking/airJourney.do\n",
      ">> Parameters\n",
      "chd:0 , dep:GMP , adt:1 , tripDivi:0 , inf:0 , airlineCode:LJ , depDate:20170712 , arr:CJU , format:json , \n",
      "End Simple crawling\n",
      "Start Simple crawling :  http://domair.interpark.com/api/booking/airJourney.do\n",
      ">> Parameters\n",
      "chd:0 , dep:GMP , adt:1 , tripDivi:0 , inf:0 , airlineCode:BX , depDate:20170712 , arr:CJU , format:json , \n"
     ]
    },
    {
     "name": "stderr",
     "output_type": "stream",
     "text": [
      "2017-06-29 08:26:02,745 root     DEBUG    Crawling Interpark domastic schedule site\n"
     ]
    },
    {
     "name": "stdout",
     "output_type": "stream",
     "text": [
      "End Simple crawling\n",
      "Start Simple crawling :  http://domair.interpark.com/api/booking/airJourney.do\n",
      ">> Parameters\n",
      "chd:0 , dep:GMP , adt:1 , tripDivi:0 , inf:0 , airlineCode:ZE , depDate:20170712 , arr:CJU , format:json , \n"
     ]
    },
    {
     "name": "stderr",
     "output_type": "stream",
     "text": [
      "2017-06-29 08:26:03,926 root     DEBUG    ICN-NRT :: ['IP', '7C', 'TW', 'LJ', 'ZE']\n",
      "2017-06-29 08:26:03,927 root     DEBUG    GMP-CJU :: ['IP', '7C', 'TW', 'LJ', 'BX', 'ZE']\n",
      "2017-06-29 08:26:03,930 root     DEBUG    Crawling Interpark domastic schedule site\n",
      "2017-06-29 08:26:03,985 root     DEBUG    Crawling Interpark domastic schedule site\n"
     ]
    },
    {
     "name": "stdout",
     "output_type": "stream",
     "text": [
      "End Simple crawling\n",
      "Start Simple crawling :  http://domair.interpark.com/api/booking/airJourney.do\n",
      ">> Parameters\n",
      "chd:0 , dep:GMP , adt:1 , tripDivi:0 , inf:0 , airlineCode:7C , depDate:20170713 , arr:CJU , format:json , \n",
      "End Simple crawling\n",
      "Start Simple crawling :  http://domair.interpark.com/api/booking/airJourney.do\n",
      ">> Parameters\n",
      "chd:0 , dep:GMP , adt:1 , tripDivi:0 , inf:0 , airlineCode:TW , depDate:20170713 , arr:CJU , format:json , \n"
     ]
    },
    {
     "name": "stderr",
     "output_type": "stream",
     "text": [
      "2017-06-29 08:26:04,535 root     DEBUG    Crawling Interpark domastic schedule site\n",
      "2017-06-29 08:26:04,718 root     DEBUG    Crawling Interpark domastic schedule site\n"
     ]
    },
    {
     "name": "stdout",
     "output_type": "stream",
     "text": [
      "End Simple crawling\n",
      "Start Simple crawling :  http://domair.interpark.com/api/booking/airJourney.do\n",
      ">> Parameters\n",
      "chd:0 , dep:GMP , adt:1 , tripDivi:0 , inf:0 , airlineCode:LJ , depDate:20170713 , arr:CJU , format:json , \n",
      "End Simple crawling\n",
      "Start Simple crawling :  http://domair.interpark.com/api/booking/airJourney.do\n",
      ">> Parameters\n",
      "chd:0 , dep:GMP , adt:1 , tripDivi:0 , inf:0 , airlineCode:BX , depDate:20170713 , arr:CJU , format:json , \n"
     ]
    },
    {
     "name": "stderr",
     "output_type": "stream",
     "text": [
      "2017-06-29 08:26:05,181 root     DEBUG    Crawling Interpark domastic schedule site\n"
     ]
    },
    {
     "name": "stdout",
     "output_type": "stream",
     "text": [
      "End Simple crawling\n",
      "Start Simple crawling :  http://domair.interpark.com/api/booking/airJourney.do\n",
      ">> Parameters\n",
      "chd:0 , dep:GMP , adt:1 , tripDivi:0 , inf:0 , airlineCode:ZE , depDate:20170713 , arr:CJU , format:json , \n"
     ]
    },
    {
     "name": "stderr",
     "output_type": "stream",
     "text": [
      "2017-06-29 08:26:06,392 root     DEBUG    ICN-NRT :: ['IP', '7C', 'TW', 'LJ', 'ZE']\n",
      "2017-06-29 08:26:06,394 root     DEBUG    GMP-CJU :: ['IP', '7C', 'TW', 'LJ', 'BX', 'ZE']\n",
      "2017-06-29 08:26:06,396 root     DEBUG    Crawling Interpark domastic schedule site\n",
      "2017-06-29 08:26:06,454 root     DEBUG    Crawling Interpark domastic schedule site\n"
     ]
    },
    {
     "name": "stdout",
     "output_type": "stream",
     "text": [
      "End Simple crawling\n",
      "Start Simple crawling :  http://domair.interpark.com/api/booking/airJourney.do\n",
      ">> Parameters\n",
      "chd:0 , dep:GMP , adt:1 , tripDivi:0 , inf:0 , airlineCode:7C , depDate:20170714 , arr:CJU , format:json , \n",
      "End Simple crawling\n",
      "Start Simple crawling :  http://domair.interpark.com/api/booking/airJourney.do\n",
      ">> Parameters\n",
      "chd:0 , dep:GMP , adt:1 , tripDivi:0 , inf:0 , airlineCode:TW , depDate:20170714 , arr:CJU , format:json , \n"
     ]
    },
    {
     "name": "stderr",
     "output_type": "stream",
     "text": [
      "2017-06-29 08:26:06,942 root     DEBUG    Crawling Interpark domastic schedule site\n"
     ]
    },
    {
     "name": "stdout",
     "output_type": "stream",
     "text": [
      "End Simple crawling\n",
      "Start Simple crawling :  http://domair.interpark.com/api/booking/airJourney.do\n",
      ">> Parameters\n",
      "chd:0 , dep:GMP , adt:1 , tripDivi:0 , inf:0 , airlineCode:LJ , depDate:20170714 , arr:CJU , format:json , \n"
     ]
    },
    {
     "name": "stderr",
     "output_type": "stream",
     "text": [
      "2017-06-29 08:26:07,176 root     DEBUG    Crawling Interpark domastic schedule site\n"
     ]
    },
    {
     "name": "stdout",
     "output_type": "stream",
     "text": [
      "End Simple crawling\n",
      "Start Simple crawling :  http://domair.interpark.com/api/booking/airJourney.do\n",
      ">> Parameters\n",
      "chd:0 , dep:GMP , adt:1 , tripDivi:0 , inf:0 , airlineCode:BX , depDate:20170714 , arr:CJU , format:json , \n"
     ]
    },
    {
     "name": "stderr",
     "output_type": "stream",
     "text": [
      "2017-06-29 08:26:07,973 root     DEBUG    Crawling Interpark domastic schedule site\n"
     ]
    },
    {
     "name": "stdout",
     "output_type": "stream",
     "text": [
      "End Simple crawling\n",
      "Start Simple crawling :  http://domair.interpark.com/api/booking/airJourney.do\n",
      ">> Parameters\n",
      "chd:0 , dep:GMP , adt:1 , tripDivi:0 , inf:0 , airlineCode:ZE , depDate:20170714 , arr:CJU , format:json , \n"
     ]
    },
    {
     "name": "stderr",
     "output_type": "stream",
     "text": [
      "2017-06-29 08:26:09,137 root     DEBUG    ICN-NRT :: ['IP', '7C', 'TW', 'LJ', 'ZE']\n",
      "2017-06-29 08:26:09,138 root     DEBUG    GMP-CJU :: ['IP', '7C', 'TW', 'LJ', 'BX', 'ZE']\n",
      "2017-06-29 08:26:09,140 root     DEBUG    Crawling Interpark domastic schedule site\n",
      "2017-06-29 08:26:09,187 root     DEBUG    Crawling Interpark domastic schedule site\n"
     ]
    },
    {
     "name": "stdout",
     "output_type": "stream",
     "text": [
      "End Simple crawling\n",
      "Start Simple crawling :  http://domair.interpark.com/api/booking/airJourney.do\n",
      ">> Parameters\n",
      "chd:0 , dep:GMP , adt:1 , tripDivi:0 , inf:0 , airlineCode:7C , depDate:20170715 , arr:CJU , format:json , \n",
      "End Simple crawling\n",
      "Start Simple crawling :  http://domair.interpark.com/api/booking/airJourney.do\n",
      ">> Parameters\n",
      "chd:0 , dep:GMP , adt:1 , tripDivi:0 , inf:0 , airlineCode:TW , depDate:20170715 , arr:CJU , format:json , \n"
     ]
    },
    {
     "name": "stderr",
     "output_type": "stream",
     "text": [
      "2017-06-29 08:26:09,765 root     DEBUG    Crawling Interpark domastic schedule site\n",
      "2017-06-29 08:26:09,957 root     DEBUG    Crawling Interpark domastic schedule site\n"
     ]
    },
    {
     "name": "stdout",
     "output_type": "stream",
     "text": [
      "End Simple crawling\n",
      "Start Simple crawling :  http://domair.interpark.com/api/booking/airJourney.do\n",
      ">> Parameters\n",
      "chd:0 , dep:GMP , adt:1 , tripDivi:0 , inf:0 , airlineCode:LJ , depDate:20170715 , arr:CJU , format:json , \n",
      "End Simple crawling\n",
      "Start Simple crawling :  http://domair.interpark.com/api/booking/airJourney.do\n",
      ">> Parameters\n",
      "chd:0 , dep:GMP , adt:1 , tripDivi:0 , inf:0 , airlineCode:BX , depDate:20170715 , arr:CJU , format:json , "
     ]
    },
    {
     "name": "stderr",
     "output_type": "stream",
     "text": [
      "2017-06-29 08:26:10,578 root     DEBUG    Crawling Interpark domastic schedule site\n"
     ]
    },
    {
     "name": "stdout",
     "output_type": "stream",
     "text": [
      "\n",
      "End Simple crawling\n",
      "Start Simple crawling :  http://domair.interpark.com/api/booking/airJourney.do\n",
      ">> Parameters\n",
      "chd:0 , dep:GMP , adt:1 , tripDivi:0 , inf:0 , airlineCode:ZE , depDate:20170715 , arr:CJU , format:json , \n"
     ]
    },
    {
     "name": "stderr",
     "output_type": "stream",
     "text": [
      "2017-06-29 08:26:11,693 root     DEBUG    ICN-NRT :: ['IP', '7C', 'TW', 'LJ', 'ZE']\n",
      "2017-06-29 08:26:11,695 root     DEBUG    GMP-CJU :: ['IP', '7C', 'TW', 'LJ', 'BX', 'ZE']\n",
      "2017-06-29 08:26:11,697 root     DEBUG    Crawling Interpark domastic schedule site\n",
      "2017-06-29 08:26:11,746 root     DEBUG    Crawling Interpark domastic schedule site\n"
     ]
    },
    {
     "name": "stdout",
     "output_type": "stream",
     "text": [
      "End Simple crawling\n",
      "Start Simple crawling :  http://domair.interpark.com/api/booking/airJourney.do\n",
      ">> Parameters\n",
      "chd:0 , dep:GMP , adt:1 , tripDivi:0 , inf:0 , airlineCode:7C , depDate:20170716 , arr:CJU , format:json , \n",
      "End Simple crawling\n",
      "Start Simple crawling :  http://domair.interpark.com/api/booking/airJourney.do\n",
      ">> Parameters\n",
      "chd:0 , dep:GMP , adt:1 , tripDivi:0 , inf:0 , airlineCode:TW , depDate:20170716 , arr:CJU , format:json , \n"
     ]
    },
    {
     "name": "stderr",
     "output_type": "stream",
     "text": [
      "2017-06-29 08:26:12,318 root     DEBUG    Crawling Interpark domastic schedule site\n",
      "2017-06-29 08:26:12,494 root     DEBUG    Crawling Interpark domastic schedule site\n"
     ]
    },
    {
     "name": "stdout",
     "output_type": "stream",
     "text": [
      "End Simple crawling\n",
      "Start Simple crawling :  http://domair.interpark.com/api/booking/airJourney.do\n",
      ">> Parameters\n",
      "chd:0 , dep:GMP , adt:1 , tripDivi:0 , inf:0 , airlineCode:LJ , depDate:20170716 , arr:CJU , format:json , \n",
      "End Simple crawling\n",
      "Start Simple crawling :  http://domair.interpark.com/api/booking/airJourney.do\n",
      ">> Parameters\n",
      "chd:0 , dep:GMP , adt:1 , tripDivi:0 , inf:0 , airlineCode:BX , depDate:20170716 , arr:CJU , format:json , \n"
     ]
    },
    {
     "name": "stderr",
     "output_type": "stream",
     "text": [
      "2017-06-29 08:26:13,120 root     DEBUG    Crawling Interpark domastic schedule site\n"
     ]
    },
    {
     "name": "stdout",
     "output_type": "stream",
     "text": [
      "End Simple crawling\n",
      "Start Simple crawling :  http://domair.interpark.com/api/booking/airJourney.do\n",
      ">> Parameters\n",
      "chd:0 , dep:GMP , adt:1 , tripDivi:0 , inf:0 , airlineCode:ZE , depDate:20170716 , arr:CJU , format:json , \n"
     ]
    },
    {
     "name": "stderr",
     "output_type": "stream",
     "text": [
      "2017-06-29 08:26:14,276 root     DEBUG    ICN-NRT :: ['IP', '7C', 'TW', 'LJ', 'ZE']\n",
      "2017-06-29 08:26:14,278 root     DEBUG    GMP-CJU :: ['IP', '7C', 'TW', 'LJ', 'BX', 'ZE']\n",
      "2017-06-29 08:26:14,279 root     DEBUG    Crawling Interpark domastic schedule site\n",
      "2017-06-29 08:26:14,327 root     DEBUG    Crawling Interpark domastic schedule site\n"
     ]
    },
    {
     "name": "stdout",
     "output_type": "stream",
     "text": [
      "End Simple crawling\n",
      "Start Simple crawling :  http://domair.interpark.com/api/booking/airJourney.do\n",
      ">> Parameters\n",
      "chd:0 , dep:GMP , adt:1 , tripDivi:0 , inf:0 , airlineCode:7C , depDate:20170717 , arr:CJU , format:json , \n",
      "End Simple crawling\n",
      "Start Simple crawling :  http://domair.interpark.com/api/booking/airJourney.do\n",
      ">> Parameters\n",
      "chd:0 , dep:GMP , adt:1 , tripDivi:0 , inf:0 , airlineCode:TW , depDate:20170717 , arr:CJU , format:json , \n"
     ]
    },
    {
     "name": "stderr",
     "output_type": "stream",
     "text": [
      "2017-06-29 08:26:14,890 root     DEBUG    Crawling Interpark domastic schedule site\n",
      "2017-06-29 08:26:15,062 root     DEBUG    Crawling Interpark domastic schedule site\n"
     ]
    },
    {
     "name": "stdout",
     "output_type": "stream",
     "text": [
      "End Simple crawling\n",
      "Start Simple crawling :  http://domair.interpark.com/api/booking/airJourney.do\n",
      ">> Parameters\n",
      "chd:0 , dep:GMP , adt:1 , tripDivi:0 , inf:0 , airlineCode:LJ , depDate:20170717 , arr:CJU , format:json , \n",
      "End Simple crawling\n",
      "Start Simple crawling :  http://domair.interpark.com/api/booking/airJourney.do\n",
      ">> Parameters\n",
      "chd:0 , dep:GMP , adt:1 , tripDivi:0 , inf:0 , airlineCode:BX , depDate:20170717 , arr:CJU , format:json , \n"
     ]
    },
    {
     "name": "stderr",
     "output_type": "stream",
     "text": [
      "2017-06-29 08:26:15,594 root     DEBUG    Crawling Interpark domastic schedule site\n"
     ]
    },
    {
     "name": "stdout",
     "output_type": "stream",
     "text": [
      "End Simple crawling\n",
      "Start Simple crawling :  http://domair.interpark.com/api/booking/airJourney.do\n",
      ">> Parameters\n",
      "chd:0 , dep:GMP , adt:1 , tripDivi:0 , inf:0 , airlineCode:ZE , depDate:20170717 , arr:CJU , format:json , \n"
     ]
    },
    {
     "name": "stderr",
     "output_type": "stream",
     "text": [
      "2017-06-29 08:26:16,779 root     DEBUG    ICN-NRT :: ['IP', '7C', 'TW', 'LJ', 'ZE']\n",
      "2017-06-29 08:26:16,780 root     DEBUG    GMP-CJU :: ['IP', '7C', 'TW', 'LJ', 'BX', 'ZE']\n",
      "2017-06-29 08:26:16,782 root     DEBUG    Crawling Interpark domastic schedule site\n",
      "2017-06-29 08:26:16,837 root     DEBUG    Crawling Interpark domastic schedule site\n"
     ]
    },
    {
     "name": "stdout",
     "output_type": "stream",
     "text": [
      "End Simple crawling\n",
      "Start Simple crawling :  http://domair.interpark.com/api/booking/airJourney.do\n",
      ">> Parameters\n",
      "chd:0 , dep:GMP , adt:1 , tripDivi:0 , inf:0 , airlineCode:7C , depDate:20170718 , arr:CJU , format:json , \n",
      "End Simple crawling\n",
      "Start Simple crawling :  http://domair.interpark.com/api/booking/airJourney.do\n",
      ">> Parameters\n",
      "chd:0 , dep:GMP , adt:1 , tripDivi:0 , inf:0 , airlineCode:TW , depDate:20170718 , arr:CJU , format:json , \n"
     ]
    },
    {
     "name": "stderr",
     "output_type": "stream",
     "text": [
      "2017-06-29 08:26:17,448 root     DEBUG    Crawling Interpark domastic schedule site\n",
      "2017-06-29 08:26:17,628 root     DEBUG    Crawling Interpark domastic schedule site\n"
     ]
    },
    {
     "name": "stdout",
     "output_type": "stream",
     "text": [
      "End Simple crawling\n",
      "Start Simple crawling :  http://domair.interpark.com/api/booking/airJourney.do\n",
      ">> Parameters\n",
      "chd:0 , dep:GMP , adt:1 , tripDivi:0 , inf:0 , airlineCode:LJ , depDate:20170718 , arr:CJU , format:json , \n",
      "End Simple crawling\n",
      "Start Simple crawling :  http://domair.interpark.com/api/booking/airJourney.do\n",
      ">> Parameters\n",
      "chd:0 , dep:GMP , adt:1 , tripDivi:0 , inf:0 , airlineCode:BX , depDate:20170718 , arr:CJU , format:json , \n"
     ]
    },
    {
     "name": "stderr",
     "output_type": "stream",
     "text": [
      "2017-06-29 08:26:18,325 root     DEBUG    Crawling Interpark domastic schedule site\n"
     ]
    },
    {
     "name": "stdout",
     "output_type": "stream",
     "text": [
      "End Simple crawling\n",
      "Start Simple crawling :  http://domair.interpark.com/api/booking/airJourney.do\n",
      ">> Parameters\n",
      "chd:0 , dep:GMP , adt:1 , tripDivi:0 , inf:0 , airlineCode:ZE , depDate:20170718 , arr:CJU , format:json , \n"
     ]
    },
    {
     "name": "stderr",
     "output_type": "stream",
     "text": [
      "2017-06-29 08:26:19,548 root     DEBUG    ICN-NRT :: ['IP', '7C', 'TW', 'LJ', 'ZE']\n",
      "2017-06-29 08:26:19,550 root     DEBUG    GMP-CJU :: ['IP', '7C', 'TW', 'LJ', 'BX', 'ZE']\n",
      "2017-06-29 08:26:19,552 root     DEBUG    Crawling Interpark domastic schedule site\n",
      "2017-06-29 08:26:19,610 root     DEBUG    Crawling Interpark domastic schedule site\n"
     ]
    },
    {
     "name": "stdout",
     "output_type": "stream",
     "text": [
      "End Simple crawling\n",
      "Start Simple crawling :  http://domair.interpark.com/api/booking/airJourney.do\n",
      ">> Parameters\n",
      "chd:0 , dep:GMP , adt:1 , tripDivi:0 , inf:0 , airlineCode:7C , depDate:20170719 , arr:CJU , format:json , \n",
      "End Simple crawling\n",
      "Start Simple crawling :  http://domair.interpark.com/api/booking/airJourney.do\n",
      ">> Parameters\n",
      "chd:0 , dep:GMP , adt:1 , tripDivi:0 , inf:0 , airlineCode:TW , depDate:20170719 , arr:CJU , format:json , \n"
     ]
    },
    {
     "name": "stderr",
     "output_type": "stream",
     "text": [
      "2017-06-29 08:26:20,134 root     DEBUG    Crawling Interpark domastic schedule site\n"
     ]
    },
    {
     "name": "stdout",
     "output_type": "stream",
     "text": [
      "End Simple crawling\n",
      "Start Simple crawling :  http://domair.interpark.com/api/booking/airJourney.do\n",
      ">> Parameters\n",
      "chd:0 , dep:GMP , adt:1 , tripDivi:0 , inf:0 , airlineCode:LJ , depDate:20170719 , arr:CJU , format:json , \n"
     ]
    },
    {
     "name": "stderr",
     "output_type": "stream",
     "text": [
      "2017-06-29 08:26:23,344 root     DEBUG    Crawling Interpark domastic schedule site\n",
      "2017-06-29 08:26:23,483 root     DEBUG    Crawling Interpark domastic schedule site\n"
     ]
    },
    {
     "name": "stdout",
     "output_type": "stream",
     "text": [
      "End Simple crawling\n",
      "Start Simple crawling :  http://domair.interpark.com/api/booking/airJourney.do\n",
      ">> Parameters\n",
      "chd:0 , dep:GMP , adt:1 , tripDivi:0 , inf:0 , airlineCode:BX , depDate:20170719 , arr:CJU , format:json , \n",
      "End Simple crawling\n",
      "Start Simple crawling :  http://domair.interpark.com/api/booking/airJourney.do\n",
      ">> Parameters\n",
      "chd:0 , dep:GMP , adt:1 , tripDivi:0 , inf:0 , airlineCode:ZE , depDate:20170719 , arr:CJU , format:json , \n"
     ]
    },
    {
     "name": "stderr",
     "output_type": "stream",
     "text": [
      "2017-06-29 08:26:24,808 root     DEBUG    ICN-NRT :: ['IP', '7C', 'TW', 'LJ', 'ZE']\n",
      "2017-06-29 08:26:24,810 root     DEBUG    GMP-CJU :: ['IP', '7C', 'TW', 'LJ', 'BX', 'ZE']\n",
      "2017-06-29 08:26:24,812 root     DEBUG    Crawling Interpark domastic schedule site\n",
      "2017-06-29 08:26:24,864 root     DEBUG    Crawling Interpark domastic schedule site\n"
     ]
    },
    {
     "name": "stdout",
     "output_type": "stream",
     "text": [
      "End Simple crawling\n",
      "Start Simple crawling :  http://domair.interpark.com/api/booking/airJourney.do\n",
      ">> Parameters\n",
      "chd:0 , dep:GMP , adt:1 , tripDivi:0 , inf:0 , airlineCode:7C , depDate:20170720 , arr:CJU , format:json , \n",
      "End Simple crawling\n",
      "Start Simple crawling :  http://domair.interpark.com/api/booking/airJourney.do\n",
      ">> Parameters\n",
      "chd:0 , dep:GMP , adt:1 , tripDivi:0 , inf:0 , airlineCode:TW , depDate:20170720 , arr:CJU , format:json , \n"
     ]
    },
    {
     "name": "stderr",
     "output_type": "stream",
     "text": [
      "2017-06-29 08:26:25,402 root     DEBUG    Crawling Interpark domastic schedule site\n"
     ]
    },
    {
     "name": "stdout",
     "output_type": "stream",
     "text": [
      "End Simple crawling\n",
      "Start Simple crawling :  http://domair.interpark.com/api/booking/airJourney.do\n",
      ">> Parameters\n",
      "chd:0 , dep:GMP , adt:1 , tripDivi:0 , inf:0 , airlineCode:LJ , depDate:20170720 , arr:CJU , format:json , \n",
      "End Simple crawling"
     ]
    },
    {
     "name": "stderr",
     "output_type": "stream",
     "text": [
      "2017-06-29 08:26:25,606 root     DEBUG    Crawling Interpark domastic schedule site\n"
     ]
    },
    {
     "name": "stdout",
     "output_type": "stream",
     "text": [
      "\n",
      "Start Simple crawling :  http://domair.interpark.com/api/booking/airJourney.do\n",
      ">> Parameters\n",
      "chd:0 , dep:GMP , adt:1 , tripDivi:0 , inf:0 , airlineCode:BX , depDate:20170720 , arr:CJU , format:json , \n"
     ]
    },
    {
     "name": "stderr",
     "output_type": "stream",
     "text": [
      "2017-06-29 08:26:26,074 root     DEBUG    Crawling Interpark domastic schedule site\n"
     ]
    },
    {
     "name": "stdout",
     "output_type": "stream",
     "text": [
      "End Simple crawling\n",
      "Start Simple crawling :  http://domair.interpark.com/api/booking/airJourney.do\n",
      ">> Parameters\n",
      "chd:0 , dep:GMP , adt:1 , tripDivi:0 , inf:0 , airlineCode:ZE , depDate:20170720 , arr:CJU , format:json , \n"
     ]
    },
    {
     "name": "stderr",
     "output_type": "stream",
     "text": [
      "2017-06-29 08:26:27,342 root     DEBUG    ICN-NRT :: ['IP', '7C', 'TW', 'LJ', 'ZE']\n",
      "2017-06-29 08:26:27,344 root     DEBUG    GMP-CJU :: ['IP', '7C', 'TW', 'LJ', 'BX', 'ZE']\n",
      "2017-06-29 08:26:27,346 root     DEBUG    Crawling Interpark domastic schedule site\n",
      "2017-06-29 08:26:27,401 root     DEBUG    Crawling Interpark domastic schedule site\n"
     ]
    },
    {
     "name": "stdout",
     "output_type": "stream",
     "text": [
      "End Simple crawling\n",
      "Start Simple crawling :  http://domair.interpark.com/api/booking/airJourney.do\n",
      ">> Parameters\n",
      "chd:0 , dep:GMP , adt:1 , tripDivi:0 , inf:0 , airlineCode:7C , depDate:20170721 , arr:CJU , format:json , \n",
      "End Simple crawling\n",
      "Start Simple crawling :  http://domair.interpark.com/api/booking/airJourney.do\n",
      ">> Parameters\n",
      "chd:0 , dep:GMP , adt:1 , tripDivi:0 , inf:0 , airlineCode:TW , depDate:20170721 , arr:CJU , format:json , \n"
     ]
    },
    {
     "name": "stderr",
     "output_type": "stream",
     "text": [
      "2017-06-29 08:26:27,920 root     DEBUG    Crawling Interpark domastic schedule site\n",
      "2017-06-29 08:26:28,097 root     DEBUG    Crawling Interpark domastic schedule site\n"
     ]
    },
    {
     "name": "stdout",
     "output_type": "stream",
     "text": [
      "End Simple crawling\n",
      "Start Simple crawling :  http://domair.interpark.com/api/booking/airJourney.do\n",
      ">> Parameters\n",
      "chd:0 , dep:GMP , adt:1 , tripDivi:0 , inf:0 , airlineCode:LJ , depDate:20170721 , arr:CJU , format:json , \n",
      "End Simple crawling\n",
      "Start Simple crawling :  http://domair.interpark.com/api/booking/airJourney.do\n",
      ">> Parameters\n",
      "chd:0 , dep:GMP , adt:1 , tripDivi:0 , inf:0 , airlineCode:BX , depDate:20170721 , arr:CJU , format:json , \n"
     ]
    },
    {
     "name": "stderr",
     "output_type": "stream",
     "text": [
      "2017-06-29 08:26:28,387 root     DEBUG    Crawling Interpark domastic schedule site\n"
     ]
    },
    {
     "name": "stdout",
     "output_type": "stream",
     "text": [
      "End Simple crawling\n",
      "Start Simple crawling :  http://domair.interpark.com/api/booking/airJourney.do\n",
      ">> Parameters\n",
      "chd:0 , dep:GMP , adt:1 , tripDivi:0 , inf:0 , airlineCode:ZE , depDate:20170721 , arr:CJU , format:json , \n"
     ]
    },
    {
     "name": "stderr",
     "output_type": "stream",
     "text": [
      "2017-06-29 08:26:29,576 root     DEBUG    ICN-NRT :: ['IP', '7C', 'TW', 'LJ', 'ZE']\n",
      "2017-06-29 08:26:29,577 root     DEBUG    GMP-CJU :: ['IP', '7C', 'TW', 'LJ', 'BX', 'ZE']\n",
      "2017-06-29 08:26:29,580 root     DEBUG    Crawling Interpark domastic schedule site\n",
      "2017-06-29 08:26:29,641 root     DEBUG    Crawling Interpark domastic schedule site\n"
     ]
    },
    {
     "name": "stdout",
     "output_type": "stream",
     "text": [
      "End Simple crawling\n",
      "Start Simple crawling :  http://domair.interpark.com/api/booking/airJourney.do\n",
      ">> Parameters\n",
      "chd:0 , dep:GMP , adt:1 , tripDivi:0 , inf:0 , airlineCode:7C , depDate:20170722 , arr:CJU , format:json , \n",
      "End Simple crawling\n",
      "Start Simple crawling :  http://domair.interpark.com/api/booking/airJourney.do\n",
      ">> Parameters\n",
      "chd:0 , dep:GMP , adt:1 , tripDivi:0 , inf:0 , airlineCode:TW , depDate:20170722 , arr:CJU , format:json , \n"
     ]
    },
    {
     "name": "stderr",
     "output_type": "stream",
     "text": [
      "2017-06-29 08:26:30,266 root     DEBUG    Crawling Interpark domastic schedule site\n"
     ]
    },
    {
     "name": "stdout",
     "output_type": "stream",
     "text": [
      "End Simple crawling\n",
      "Start Simple crawling :  http://domair.interpark.com/api/booking/airJourney.do\n",
      ">> Parameters\n",
      "chd:0 , dep:GMP , adt:1 , tripDivi:0 , inf:0 , airlineCode:LJ , depDate:20170722 , arr:CJU , format:json , \n"
     ]
    },
    {
     "name": "stderr",
     "output_type": "stream",
     "text": [
      "2017-06-29 08:26:30,502 root     DEBUG    Crawling Interpark domastic schedule site\n"
     ]
    },
    {
     "name": "stdout",
     "output_type": "stream",
     "text": [
      "End Simple crawling\n",
      "Start Simple crawling :  http://domair.interpark.com/api/booking/airJourney.do\n",
      ">> Parameters\n",
      "chd:0 , dep:GMP , adt:1 , tripDivi:0 , inf:0 , airlineCode:BX , depDate:20170722 , arr:CJU , format:json , \n"
     ]
    },
    {
     "name": "stderr",
     "output_type": "stream",
     "text": [
      "2017-06-29 08:26:30,979 root     DEBUG    Crawling Interpark domastic schedule site\n"
     ]
    },
    {
     "name": "stdout",
     "output_type": "stream",
     "text": [
      "End Simple crawling\n",
      "Start Simple crawling :  http://domair.interpark.com/api/booking/airJourney.do\n",
      ">> Parameters\n",
      "chd:0 , dep:GMP , adt:1 , tripDivi:0 , inf:0 , airlineCode:ZE , depDate:20170722 , arr:CJU , format:json , \n"
     ]
    },
    {
     "name": "stderr",
     "output_type": "stream",
     "text": [
      "2017-06-29 08:26:32,100 root     DEBUG    ICN-NRT :: ['IP', '7C', 'TW', 'LJ', 'ZE']\n",
      "2017-06-29 08:26:32,102 root     DEBUG    GMP-CJU :: ['IP', '7C', 'TW', 'LJ', 'BX', 'ZE']\n",
      "2017-06-29 08:26:32,105 root     DEBUG    Crawling Interpark domastic schedule site\n",
      "2017-06-29 08:26:32,155 root     DEBUG    Crawling Interpark domastic schedule site\n"
     ]
    },
    {
     "name": "stdout",
     "output_type": "stream",
     "text": [
      "End Simple crawling\n",
      "Start Simple crawling :  http://domair.interpark.com/api/booking/airJourney.do\n",
      ">> Parameters\n",
      "chd:0 , dep:GMP , adt:1 , tripDivi:0 , inf:0 , airlineCode:7C , depDate:20170723 , arr:CJU , format:json , \n",
      "End Simple crawling\n",
      "Start Simple crawling :  http://domair.interpark.com/api/booking/airJourney.do\n",
      ">> Parameters\n",
      "chd:0 , dep:GMP , adt:1 , tripDivi:0 , inf:0 , airlineCode:TW , depDate:20170723 , arr:CJU , format:json , \n"
     ]
    },
    {
     "name": "stderr",
     "output_type": "stream",
     "text": [
      "2017-06-29 08:26:32,665 root     DEBUG    Crawling Interpark domastic schedule site\n",
      "2017-06-29 08:26:32,824 root     DEBUG    Crawling Interpark domastic schedule site\n"
     ]
    },
    {
     "name": "stdout",
     "output_type": "stream",
     "text": [
      "End Simple crawling\n",
      "Start Simple crawling :  http://domair.interpark.com/api/booking/airJourney.do\n",
      ">> Parameters\n",
      "chd:0 , dep:GMP , adt:1 , tripDivi:0 , inf:0 , airlineCode:LJ , depDate:20170723 , arr:CJU , format:json , \n",
      "End Simple crawling\n",
      "Start Simple crawling :  http://domair.interpark.com/api/booking/airJourney.do\n",
      ">> Parameters\n",
      "chd:0 , dep:GMP , adt:1 , tripDivi:0 , inf:0 , airlineCode:BX , depDate:20170723 , arr:CJU , format:json , \n"
     ]
    },
    {
     "name": "stderr",
     "output_type": "stream",
     "text": [
      "2017-06-29 08:26:33,226 root     DEBUG    Crawling Interpark domastic schedule site\n"
     ]
    },
    {
     "name": "stdout",
     "output_type": "stream",
     "text": [
      "End Simple crawling\n",
      "Start Simple crawling :  http://domair.interpark.com/api/booking/airJourney.do\n",
      ">> Parameters\n",
      "chd:0 , dep:GMP , adt:1 , tripDivi:0 , inf:0 , airlineCode:ZE , depDate:20170723 , arr:CJU , format:json , \n"
     ]
    },
    {
     "name": "stderr",
     "output_type": "stream",
     "text": [
      "2017-06-29 08:26:34,374 root     DEBUG    ICN-NRT :: ['IP', '7C', 'TW', 'LJ', 'ZE']\n",
      "2017-06-29 08:26:34,376 root     DEBUG    GMP-CJU :: ['IP', '7C', 'TW', 'LJ', 'BX', 'ZE']\n",
      "2017-06-29 08:26:34,379 root     DEBUG    Crawling Interpark domastic schedule site\n",
      "2017-06-29 08:26:34,435 root     DEBUG    Crawling Interpark domastic schedule site\n"
     ]
    },
    {
     "name": "stdout",
     "output_type": "stream",
     "text": [
      "End Simple crawling\n",
      "Start Simple crawling :  http://domair.interpark.com/api/booking/airJourney.do\n",
      ">> Parameters\n",
      "chd:0 , dep:GMP , adt:1 , tripDivi:0 , inf:0 , airlineCode:7C , depDate:20170724 , arr:CJU , format:json , \n",
      "End Simple crawling\n",
      "Start Simple crawling :  http://domair.interpark.com/api/booking/airJourney.do\n",
      ">> Parameters\n",
      "chd:0 , dep:GMP , adt:1 , tripDivi:0 , inf:0 , airlineCode:TW , depDate:20170724 , arr:CJU , format:json , \n"
     ]
    },
    {
     "name": "stderr",
     "output_type": "stream",
     "text": [
      "2017-06-29 08:26:34,969 root     DEBUG    Crawling Interpark domastic schedule site\n"
     ]
    },
    {
     "name": "stdout",
     "output_type": "stream",
     "text": [
      "End Simple crawling\n",
      "Start Simple crawling :  http://domair.interpark.com/api/booking/airJourney.do\n",
      ">> Parameters\n",
      "chd:0 , dep:GMP , adt:1 , tripDivi:0 , inf:0 , airlineCode:LJ , depDate:20170724 , arr:CJU , format:json , \n"
     ]
    },
    {
     "name": "stderr",
     "output_type": "stream",
     "text": [
      "2017-06-29 08:26:35,448 root     DEBUG    Crawling Interpark domastic schedule site\n"
     ]
    },
    {
     "name": "stdout",
     "output_type": "stream",
     "text": [
      "End Simple crawling\n",
      "Start Simple crawling :  http://domair.interpark.com/api/booking/airJourney.do\n",
      ">> Parameters\n",
      "chd:0 , dep:GMP , adt:1 , tripDivi:0 , inf:0 , airlineCode:BX , depDate:20170724 , arr:CJU , format:json , \n"
     ]
    },
    {
     "name": "stderr",
     "output_type": "stream",
     "text": [
      "2017-06-29 08:26:35,761 root     DEBUG    Crawling Interpark domastic schedule site\n"
     ]
    },
    {
     "name": "stdout",
     "output_type": "stream",
     "text": [
      "End Simple crawling\n",
      "Start Simple crawling :  http://domair.interpark.com/api/booking/airJourney.do\n",
      ">> Parameters\n",
      "chd:0 , dep:GMP , adt:1 , tripDivi:0 , inf:0 , airlineCode:ZE , depDate:20170724 , arr:CJU , format:json , \n"
     ]
    },
    {
     "name": "stderr",
     "output_type": "stream",
     "text": [
      "2017-06-29 08:26:37,001 root     DEBUG    ICN-NRT :: ['IP', '7C', 'TW', 'LJ', 'ZE']\n",
      "2017-06-29 08:26:37,002 root     DEBUG    GMP-CJU :: ['IP', '7C', 'TW', 'LJ', 'BX', 'ZE']\n",
      "2017-06-29 08:26:37,004 root     DEBUG    Crawling Interpark domastic schedule site\n",
      "2017-06-29 08:26:37,056 root     DEBUG    Crawling Interpark domastic schedule site\n"
     ]
    },
    {
     "name": "stdout",
     "output_type": "stream",
     "text": [
      "End Simple crawling\n",
      "Start Simple crawling :  http://domair.interpark.com/api/booking/airJourney.do\n",
      ">> Parameters\n",
      "chd:0 , dep:GMP , adt:1 , tripDivi:0 , inf:0 , airlineCode:7C , depDate:20170725 , arr:CJU , format:json , \n",
      "End Simple crawling\n",
      "Start Simple crawling :  http://domair.interpark.com/api/booking/airJourney.do\n",
      ">> Parameters\n",
      "chd:0 , dep:GMP , adt:1 , tripDivi:0 , inf:0 , airlineCode:TW , depDate:20170725 , arr:CJU , format:json , \n"
     ]
    },
    {
     "name": "stderr",
     "output_type": "stream",
     "text": [
      "2017-06-29 08:26:37,573 root     DEBUG    Crawling Interpark domastic schedule site\n",
      "2017-06-29 08:26:37,758 root     DEBUG    Crawling Interpark domastic schedule site\n"
     ]
    },
    {
     "name": "stdout",
     "output_type": "stream",
     "text": [
      "End Simple crawling\n",
      "Start Simple crawling :  http://domair.interpark.com/api/booking/airJourney.do\n",
      ">> Parameters\n",
      "chd:0 , dep:GMP , adt:1 , tripDivi:0 , inf:0 , airlineCode:LJ , depDate:20170725 , arr:CJU , format:json , \n",
      "End Simple crawling\n",
      "Start Simple crawling :  http://domair.interpark.com/api/booking/airJourney.do\n",
      ">> Parameters\n",
      "chd:0 , dep:GMP , adt:1 , tripDivi:0 , inf:0 , airlineCode:BX , depDate:20170725 , arr:CJU , format:json , \n"
     ]
    },
    {
     "name": "stderr",
     "output_type": "stream",
     "text": [
      "2017-06-29 08:26:38,383 root     DEBUG    Crawling Interpark domastic schedule site\n"
     ]
    },
    {
     "name": "stdout",
     "output_type": "stream",
     "text": [
      "End Simple crawling\n",
      "Start Simple crawling :  http://domair.interpark.com/api/booking/airJourney.do\n",
      ">> Parameters\n",
      "chd:0 , dep:GMP , adt:1 , tripDivi:0 , inf:0 , airlineCode:ZE , depDate:20170725 , arr:CJU , format:json , \n",
      "$$ Check : Unexpected error:\n"
     ]
    },
    {
     "ename": "ConnectionError",
     "evalue": "('Connection aborted.', RemoteDisconnected('Remote end closed connection without response',))",
     "output_type": "error",
     "traceback": [
      "\u001b[1;31m---------------------------------------------------------------------------\u001b[0m",
      "\u001b[1;31mRemoteDisconnected\u001b[0m                        Traceback (most recent call last)",
      "\u001b[1;32md:\\python\\python35\\lib\\site-packages\\requests\\packages\\urllib3\\connectionpool.py\u001b[0m in \u001b[0;36murlopen\u001b[1;34m(self, method, url, body, headers, retries, redirect, assert_same_host, timeout, pool_timeout, release_conn, chunked, body_pos, **response_kw)\u001b[0m\n\u001b[0;32m    599\u001b[0m                                                   \u001b[0mbody\u001b[0m\u001b[1;33m=\u001b[0m\u001b[0mbody\u001b[0m\u001b[1;33m,\u001b[0m \u001b[0mheaders\u001b[0m\u001b[1;33m=\u001b[0m\u001b[0mheaders\u001b[0m\u001b[1;33m,\u001b[0m\u001b[1;33m\u001b[0m\u001b[0m\n\u001b[1;32m--> 600\u001b[1;33m                                                   chunked=chunked)\n\u001b[0m\u001b[0;32m    601\u001b[0m \u001b[1;33m\u001b[0m\u001b[0m\n",
      "\u001b[1;32md:\\python\\python35\\lib\\site-packages\\requests\\packages\\urllib3\\connectionpool.py\u001b[0m in \u001b[0;36m_make_request\u001b[1;34m(self, conn, method, url, timeout, chunked, **httplib_request_kw)\u001b[0m\n\u001b[0;32m    385\u001b[0m                     \u001b[1;31m# otherwise it looks like a programming error was the cause.\u001b[0m\u001b[1;33m\u001b[0m\u001b[1;33m\u001b[0m\u001b[0m\n\u001b[1;32m--> 386\u001b[1;33m                     \u001b[0msix\u001b[0m\u001b[1;33m.\u001b[0m\u001b[0mraise_from\u001b[0m\u001b[1;33m(\u001b[0m\u001b[0me\u001b[0m\u001b[1;33m,\u001b[0m \u001b[1;32mNone\u001b[0m\u001b[1;33m)\u001b[0m\u001b[1;33m\u001b[0m\u001b[0m\n\u001b[0m\u001b[0;32m    387\u001b[0m         \u001b[1;32mexcept\u001b[0m \u001b[1;33m(\u001b[0m\u001b[0mSocketTimeout\u001b[0m\u001b[1;33m,\u001b[0m \u001b[0mBaseSSLError\u001b[0m\u001b[1;33m,\u001b[0m \u001b[0mSocketError\u001b[0m\u001b[1;33m)\u001b[0m \u001b[1;32mas\u001b[0m \u001b[0me\u001b[0m\u001b[1;33m:\u001b[0m\u001b[1;33m\u001b[0m\u001b[0m\n",
      "\u001b[1;32md:\\python\\python35\\lib\\site-packages\\requests\\packages\\urllib3\\packages\\six.py\u001b[0m in \u001b[0;36mraise_from\u001b[1;34m(value, from_value)\u001b[0m\n",
      "\u001b[1;32md:\\python\\python35\\lib\\site-packages\\requests\\packages\\urllib3\\connectionpool.py\u001b[0m in \u001b[0;36m_make_request\u001b[1;34m(self, conn, method, url, timeout, chunked, **httplib_request_kw)\u001b[0m\n\u001b[0;32m    381\u001b[0m                 \u001b[1;32mtry\u001b[0m\u001b[1;33m:\u001b[0m\u001b[1;33m\u001b[0m\u001b[0m\n\u001b[1;32m--> 382\u001b[1;33m                     \u001b[0mhttplib_response\u001b[0m \u001b[1;33m=\u001b[0m \u001b[0mconn\u001b[0m\u001b[1;33m.\u001b[0m\u001b[0mgetresponse\u001b[0m\u001b[1;33m(\u001b[0m\u001b[1;33m)\u001b[0m\u001b[1;33m\u001b[0m\u001b[0m\n\u001b[0m\u001b[0;32m    383\u001b[0m                 \u001b[1;32mexcept\u001b[0m \u001b[0mException\u001b[0m \u001b[1;32mas\u001b[0m \u001b[0me\u001b[0m\u001b[1;33m:\u001b[0m\u001b[1;33m\u001b[0m\u001b[0m\n",
      "\u001b[1;32md:\\python\\python35\\lib\\http\\client.py\u001b[0m in \u001b[0;36mgetresponse\u001b[1;34m(self)\u001b[0m\n\u001b[0;32m   1197\u001b[0m             \u001b[1;32mtry\u001b[0m\u001b[1;33m:\u001b[0m\u001b[1;33m\u001b[0m\u001b[0m\n\u001b[1;32m-> 1198\u001b[1;33m                 \u001b[0mresponse\u001b[0m\u001b[1;33m.\u001b[0m\u001b[0mbegin\u001b[0m\u001b[1;33m(\u001b[0m\u001b[1;33m)\u001b[0m\u001b[1;33m\u001b[0m\u001b[0m\n\u001b[0m\u001b[0;32m   1199\u001b[0m             \u001b[1;32mexcept\u001b[0m \u001b[0mConnectionError\u001b[0m\u001b[1;33m:\u001b[0m\u001b[1;33m\u001b[0m\u001b[0m\n",
      "\u001b[1;32md:\\python\\python35\\lib\\http\\client.py\u001b[0m in \u001b[0;36mbegin\u001b[1;34m(self)\u001b[0m\n\u001b[0;32m    296\u001b[0m         \u001b[1;32mwhile\u001b[0m \u001b[1;32mTrue\u001b[0m\u001b[1;33m:\u001b[0m\u001b[1;33m\u001b[0m\u001b[0m\n\u001b[1;32m--> 297\u001b[1;33m             \u001b[0mversion\u001b[0m\u001b[1;33m,\u001b[0m \u001b[0mstatus\u001b[0m\u001b[1;33m,\u001b[0m \u001b[0mreason\u001b[0m \u001b[1;33m=\u001b[0m \u001b[0mself\u001b[0m\u001b[1;33m.\u001b[0m\u001b[0m_read_status\u001b[0m\u001b[1;33m(\u001b[0m\u001b[1;33m)\u001b[0m\u001b[1;33m\u001b[0m\u001b[0m\n\u001b[0m\u001b[0;32m    298\u001b[0m             \u001b[1;32mif\u001b[0m \u001b[0mstatus\u001b[0m \u001b[1;33m!=\u001b[0m \u001b[0mCONTINUE\u001b[0m\u001b[1;33m:\u001b[0m\u001b[1;33m\u001b[0m\u001b[0m\n",
      "\u001b[1;32md:\\python\\python35\\lib\\http\\client.py\u001b[0m in \u001b[0;36m_read_status\u001b[1;34m(self)\u001b[0m\n\u001b[0;32m    265\u001b[0m             \u001b[1;31m# sending a valid response.\u001b[0m\u001b[1;33m\u001b[0m\u001b[1;33m\u001b[0m\u001b[0m\n\u001b[1;32m--> 266\u001b[1;33m             raise RemoteDisconnected(\"Remote end closed connection without\"\n\u001b[0m\u001b[0;32m    267\u001b[0m                                      \" response\")\n",
      "\u001b[1;31mRemoteDisconnected\u001b[0m: Remote end closed connection without response",
      "\nDuring handling of the above exception, another exception occurred:\n",
      "\u001b[1;31mProtocolError\u001b[0m                             Traceback (most recent call last)",
      "\u001b[1;32md:\\python\\python35\\lib\\site-packages\\requests\\adapters.py\u001b[0m in \u001b[0;36msend\u001b[1;34m(self, request, stream, timeout, verify, cert, proxies)\u001b[0m\n\u001b[0;32m    422\u001b[0m                     \u001b[0mretries\u001b[0m\u001b[1;33m=\u001b[0m\u001b[0mself\u001b[0m\u001b[1;33m.\u001b[0m\u001b[0mmax_retries\u001b[0m\u001b[1;33m,\u001b[0m\u001b[1;33m\u001b[0m\u001b[0m\n\u001b[1;32m--> 423\u001b[1;33m                     \u001b[0mtimeout\u001b[0m\u001b[1;33m=\u001b[0m\u001b[0mtimeout\u001b[0m\u001b[1;33m\u001b[0m\u001b[0m\n\u001b[0m\u001b[0;32m    424\u001b[0m                 )\n",
      "\u001b[1;32md:\\python\\python35\\lib\\site-packages\\requests\\packages\\urllib3\\connectionpool.py\u001b[0m in \u001b[0;36murlopen\u001b[1;34m(self, method, url, body, headers, retries, redirect, assert_same_host, timeout, pool_timeout, release_conn, chunked, body_pos, **response_kw)\u001b[0m\n\u001b[0;32m    648\u001b[0m             retries = retries.increment(method, url, error=e, _pool=self,\n\u001b[1;32m--> 649\u001b[1;33m                                         _stacktrace=sys.exc_info()[2])\n\u001b[0m\u001b[0;32m    650\u001b[0m             \u001b[0mretries\u001b[0m\u001b[1;33m.\u001b[0m\u001b[0msleep\u001b[0m\u001b[1;33m(\u001b[0m\u001b[1;33m)\u001b[0m\u001b[1;33m\u001b[0m\u001b[0m\n",
      "\u001b[1;32md:\\python\\python35\\lib\\site-packages\\requests\\packages\\urllib3\\util\\retry.py\u001b[0m in \u001b[0;36mincrement\u001b[1;34m(self, method, url, response, error, _pool, _stacktrace)\u001b[0m\n\u001b[0;32m    346\u001b[0m             \u001b[1;32mif\u001b[0m \u001b[0mread\u001b[0m \u001b[1;32mis\u001b[0m \u001b[1;32mFalse\u001b[0m \u001b[1;32mor\u001b[0m \u001b[1;32mnot\u001b[0m \u001b[0mself\u001b[0m\u001b[1;33m.\u001b[0m\u001b[0m_is_method_retryable\u001b[0m\u001b[1;33m(\u001b[0m\u001b[0mmethod\u001b[0m\u001b[1;33m)\u001b[0m\u001b[1;33m:\u001b[0m\u001b[1;33m\u001b[0m\u001b[0m\n\u001b[1;32m--> 347\u001b[1;33m                 \u001b[1;32mraise\u001b[0m \u001b[0msix\u001b[0m\u001b[1;33m.\u001b[0m\u001b[0mreraise\u001b[0m\u001b[1;33m(\u001b[0m\u001b[0mtype\u001b[0m\u001b[1;33m(\u001b[0m\u001b[0merror\u001b[0m\u001b[1;33m)\u001b[0m\u001b[1;33m,\u001b[0m \u001b[0merror\u001b[0m\u001b[1;33m,\u001b[0m \u001b[0m_stacktrace\u001b[0m\u001b[1;33m)\u001b[0m\u001b[1;33m\u001b[0m\u001b[0m\n\u001b[0m\u001b[0;32m    348\u001b[0m             \u001b[1;32melif\u001b[0m \u001b[0mread\u001b[0m \u001b[1;32mis\u001b[0m \u001b[1;32mnot\u001b[0m \u001b[1;32mNone\u001b[0m\u001b[1;33m:\u001b[0m\u001b[1;33m\u001b[0m\u001b[0m\n",
      "\u001b[1;32md:\\python\\python35\\lib\\site-packages\\requests\\packages\\urllib3\\packages\\six.py\u001b[0m in \u001b[0;36mreraise\u001b[1;34m(tp, value, tb)\u001b[0m\n\u001b[0;32m    684\u001b[0m         \u001b[1;32mif\u001b[0m \u001b[0mvalue\u001b[0m\u001b[1;33m.\u001b[0m\u001b[0m__traceback__\u001b[0m \u001b[1;32mis\u001b[0m \u001b[1;32mnot\u001b[0m \u001b[0mtb\u001b[0m\u001b[1;33m:\u001b[0m\u001b[1;33m\u001b[0m\u001b[0m\n\u001b[1;32m--> 685\u001b[1;33m             \u001b[1;32mraise\u001b[0m \u001b[0mvalue\u001b[0m\u001b[1;33m.\u001b[0m\u001b[0mwith_traceback\u001b[0m\u001b[1;33m(\u001b[0m\u001b[0mtb\u001b[0m\u001b[1;33m)\u001b[0m\u001b[1;33m\u001b[0m\u001b[0m\n\u001b[0m\u001b[0;32m    686\u001b[0m         \u001b[1;32mraise\u001b[0m \u001b[0mvalue\u001b[0m\u001b[1;33m\u001b[0m\u001b[0m\n",
      "\u001b[1;32md:\\python\\python35\\lib\\site-packages\\requests\\packages\\urllib3\\connectionpool.py\u001b[0m in \u001b[0;36murlopen\u001b[1;34m(self, method, url, body, headers, retries, redirect, assert_same_host, timeout, pool_timeout, release_conn, chunked, body_pos, **response_kw)\u001b[0m\n\u001b[0;32m    599\u001b[0m                                                   \u001b[0mbody\u001b[0m\u001b[1;33m=\u001b[0m\u001b[0mbody\u001b[0m\u001b[1;33m,\u001b[0m \u001b[0mheaders\u001b[0m\u001b[1;33m=\u001b[0m\u001b[0mheaders\u001b[0m\u001b[1;33m,\u001b[0m\u001b[1;33m\u001b[0m\u001b[0m\n\u001b[1;32m--> 600\u001b[1;33m                                                   chunked=chunked)\n\u001b[0m\u001b[0;32m    601\u001b[0m \u001b[1;33m\u001b[0m\u001b[0m\n",
      "\u001b[1;32md:\\python\\python35\\lib\\site-packages\\requests\\packages\\urllib3\\connectionpool.py\u001b[0m in \u001b[0;36m_make_request\u001b[1;34m(self, conn, method, url, timeout, chunked, **httplib_request_kw)\u001b[0m\n\u001b[0;32m    385\u001b[0m                     \u001b[1;31m# otherwise it looks like a programming error was the cause.\u001b[0m\u001b[1;33m\u001b[0m\u001b[1;33m\u001b[0m\u001b[0m\n\u001b[1;32m--> 386\u001b[1;33m                     \u001b[0msix\u001b[0m\u001b[1;33m.\u001b[0m\u001b[0mraise_from\u001b[0m\u001b[1;33m(\u001b[0m\u001b[0me\u001b[0m\u001b[1;33m,\u001b[0m \u001b[1;32mNone\u001b[0m\u001b[1;33m)\u001b[0m\u001b[1;33m\u001b[0m\u001b[0m\n\u001b[0m\u001b[0;32m    387\u001b[0m         \u001b[1;32mexcept\u001b[0m \u001b[1;33m(\u001b[0m\u001b[0mSocketTimeout\u001b[0m\u001b[1;33m,\u001b[0m \u001b[0mBaseSSLError\u001b[0m\u001b[1;33m,\u001b[0m \u001b[0mSocketError\u001b[0m\u001b[1;33m)\u001b[0m \u001b[1;32mas\u001b[0m \u001b[0me\u001b[0m\u001b[1;33m:\u001b[0m\u001b[1;33m\u001b[0m\u001b[0m\n",
      "\u001b[1;32md:\\python\\python35\\lib\\site-packages\\requests\\packages\\urllib3\\packages\\six.py\u001b[0m in \u001b[0;36mraise_from\u001b[1;34m(value, from_value)\u001b[0m\n",
      "\u001b[1;32md:\\python\\python35\\lib\\site-packages\\requests\\packages\\urllib3\\connectionpool.py\u001b[0m in \u001b[0;36m_make_request\u001b[1;34m(self, conn, method, url, timeout, chunked, **httplib_request_kw)\u001b[0m\n\u001b[0;32m    381\u001b[0m                 \u001b[1;32mtry\u001b[0m\u001b[1;33m:\u001b[0m\u001b[1;33m\u001b[0m\u001b[0m\n\u001b[1;32m--> 382\u001b[1;33m                     \u001b[0mhttplib_response\u001b[0m \u001b[1;33m=\u001b[0m \u001b[0mconn\u001b[0m\u001b[1;33m.\u001b[0m\u001b[0mgetresponse\u001b[0m\u001b[1;33m(\u001b[0m\u001b[1;33m)\u001b[0m\u001b[1;33m\u001b[0m\u001b[0m\n\u001b[0m\u001b[0;32m    383\u001b[0m                 \u001b[1;32mexcept\u001b[0m \u001b[0mException\u001b[0m \u001b[1;32mas\u001b[0m \u001b[0me\u001b[0m\u001b[1;33m:\u001b[0m\u001b[1;33m\u001b[0m\u001b[0m\n",
      "\u001b[1;32md:\\python\\python35\\lib\\http\\client.py\u001b[0m in \u001b[0;36mgetresponse\u001b[1;34m(self)\u001b[0m\n\u001b[0;32m   1197\u001b[0m             \u001b[1;32mtry\u001b[0m\u001b[1;33m:\u001b[0m\u001b[1;33m\u001b[0m\u001b[0m\n\u001b[1;32m-> 1198\u001b[1;33m                 \u001b[0mresponse\u001b[0m\u001b[1;33m.\u001b[0m\u001b[0mbegin\u001b[0m\u001b[1;33m(\u001b[0m\u001b[1;33m)\u001b[0m\u001b[1;33m\u001b[0m\u001b[0m\n\u001b[0m\u001b[0;32m   1199\u001b[0m             \u001b[1;32mexcept\u001b[0m \u001b[0mConnectionError\u001b[0m\u001b[1;33m:\u001b[0m\u001b[1;33m\u001b[0m\u001b[0m\n",
      "\u001b[1;32md:\\python\\python35\\lib\\http\\client.py\u001b[0m in \u001b[0;36mbegin\u001b[1;34m(self)\u001b[0m\n\u001b[0;32m    296\u001b[0m         \u001b[1;32mwhile\u001b[0m \u001b[1;32mTrue\u001b[0m\u001b[1;33m:\u001b[0m\u001b[1;33m\u001b[0m\u001b[0m\n\u001b[1;32m--> 297\u001b[1;33m             \u001b[0mversion\u001b[0m\u001b[1;33m,\u001b[0m \u001b[0mstatus\u001b[0m\u001b[1;33m,\u001b[0m \u001b[0mreason\u001b[0m \u001b[1;33m=\u001b[0m \u001b[0mself\u001b[0m\u001b[1;33m.\u001b[0m\u001b[0m_read_status\u001b[0m\u001b[1;33m(\u001b[0m\u001b[1;33m)\u001b[0m\u001b[1;33m\u001b[0m\u001b[0m\n\u001b[0m\u001b[0;32m    298\u001b[0m             \u001b[1;32mif\u001b[0m \u001b[0mstatus\u001b[0m \u001b[1;33m!=\u001b[0m \u001b[0mCONTINUE\u001b[0m\u001b[1;33m:\u001b[0m\u001b[1;33m\u001b[0m\u001b[0m\n",
      "\u001b[1;32md:\\python\\python35\\lib\\http\\client.py\u001b[0m in \u001b[0;36m_read_status\u001b[1;34m(self)\u001b[0m\n\u001b[0;32m    265\u001b[0m             \u001b[1;31m# sending a valid response.\u001b[0m\u001b[1;33m\u001b[0m\u001b[1;33m\u001b[0m\u001b[0m\n\u001b[1;32m--> 266\u001b[1;33m             raise RemoteDisconnected(\"Remote end closed connection without\"\n\u001b[0m\u001b[0;32m    267\u001b[0m                                      \" response\")\n",
      "\u001b[1;31mProtocolError\u001b[0m: ('Connection aborted.', RemoteDisconnected('Remote end closed connection without response',))",
      "\nDuring handling of the above exception, another exception occurred:\n",
      "\u001b[1;31mConnectionError\u001b[0m                           Traceback (most recent call last)",
      "\u001b[1;32m<ipython-input-11-a27c55e36792>\u001b[0m in \u001b[0;36m<module>\u001b[1;34m()\u001b[0m\n\u001b[0;32m      1\u001b[0m \u001b[1;31m## 배치 함수 실행\u001b[0m\u001b[1;33m\u001b[0m\u001b[1;33m\u001b[0m\u001b[0m\n\u001b[0;32m      2\u001b[0m \u001b[1;31m## '0' : 국내선, '1' : 국제선, None : 모두\u001b[0m\u001b[1;33m\u001b[0m\u001b[1;33m\u001b[0m\u001b[0m\n\u001b[1;32m----> 3\u001b[1;33m \u001b[0mbatch_crawl\u001b[0m\u001b[1;33m(\u001b[0m\u001b[0mdom_int\u001b[0m\u001b[1;33m=\u001b[0m\u001b[1;34m'0'\u001b[0m\u001b[1;33m,\u001b[0m\u001b[0minterval\u001b[0m\u001b[1;33m=\u001b[0m\u001b[1;36m60\u001b[0m\u001b[1;33m)\u001b[0m\u001b[1;33m\u001b[0m\u001b[0m\n\u001b[0m",
      "\u001b[1;32m<ipython-input-7-7a91f9eda754>\u001b[0m in \u001b[0;36mbatch_crawl\u001b[1;34m(dom_int, interval)\u001b[0m\n\u001b[0;32m     43\u001b[0m                         \u001b[1;32mif\u001b[0m \u001b[0mairline\u001b[0m \u001b[1;32mnot\u001b[0m \u001b[1;32min\u001b[0m \u001b[0mROUTE_SITE_MAP\u001b[0m\u001b[1;33m[\u001b[0m\u001b[0mroute_code\u001b[0m\u001b[1;33m]\u001b[0m\u001b[1;33m:\u001b[0m\u001b[1;33m\u001b[0m\u001b[0m\n\u001b[0;32m     44\u001b[0m                             \u001b[1;32mcontinue\u001b[0m\u001b[1;33m\u001b[0m\u001b[0m\n\u001b[1;32m---> 45\u001b[1;33m                         \u001b[0mraw_data\u001b[0m \u001b[1;33m=\u001b[0m \u001b[0mcrawling_func\u001b[0m\u001b[1;33m(\u001b[0m\u001b[0mfunc\u001b[0m\u001b[1;33m,\u001b[0m\u001b[0mairline\u001b[0m\u001b[1;33m,\u001b[0m\u001b[0mroute_info\u001b[0m\u001b[1;33m.\u001b[0m\u001b[0mdpt_3p\u001b[0m\u001b[1;33m,\u001b[0m\u001b[0mroute_info\u001b[0m\u001b[1;33m.\u001b[0m\u001b[0marr_3p\u001b[0m\u001b[1;33m,\u001b[0m\u001b[0mdpt_date\u001b[0m\u001b[1;33m)\u001b[0m\u001b[1;33m\u001b[0m\u001b[0m\n\u001b[0m\u001b[0;32m     46\u001b[0m                         \u001b[0mhead\u001b[0m \u001b[1;33m=\u001b[0m \u001b[0mset_headinfo\u001b[0m\u001b[1;33m(\u001b[0m\u001b[0msite_code\u001b[0m\u001b[1;33m.\u001b[0m\u001b[0msite\u001b[0m\u001b[1;33m,\u001b[0m\u001b[0msite_code\u001b[0m\u001b[1;33m.\u001b[0m\u001b[0mdom_int\u001b[0m\u001b[1;33m,\u001b[0m\u001b[0mairline\u001b[0m\u001b[1;33m,\u001b[0m\u001b[0mroute_info\u001b[0m\u001b[1;33m.\u001b[0m\u001b[0mdpt_3p\u001b[0m\u001b[1;33m,\u001b[0m\u001b[0mroute_info\u001b[0m\u001b[1;33m.\u001b[0m\u001b[0marr_3p\u001b[0m\u001b[1;33m,\u001b[0m\u001b[0mdpt_date\u001b[0m\u001b[1;33m)\u001b[0m\u001b[1;33m\u001b[0m\u001b[0m\n\u001b[0;32m     47\u001b[0m                         \u001b[0mfile\u001b[0m \u001b[1;33m=\u001b[0m \u001b[0mfile_name\u001b[0m\u001b[1;33m(\u001b[0m\u001b[0msite_code\u001b[0m\u001b[1;33m.\u001b[0m\u001b[0msite\u001b[0m\u001b[1;33m,\u001b[0m\u001b[0mroute_info\u001b[0m\u001b[1;33m.\u001b[0m\u001b[0mdpt_3p\u001b[0m\u001b[1;33m,\u001b[0m\u001b[0mroute_info\u001b[0m\u001b[1;33m.\u001b[0m\u001b[0marr_3p\u001b[0m\u001b[1;33m,\u001b[0m\u001b[0mdpt_date\u001b[0m\u001b[1;33m,\u001b[0m\u001b[0mairline\u001b[0m\u001b[1;33m=\u001b[0m\u001b[0mairline\u001b[0m\u001b[1;33m)\u001b[0m\u001b[1;33m\u001b[0m\u001b[0m\n",
      "\u001b[1;32mD:\\python\\mynotebook\\AirlineFareCrawlingProject\\common\\batch_util.py\u001b[0m in \u001b[0;36mcrawling_func\u001b[1;34m(func, *argv)\u001b[0m\n\u001b[0;32m     70\u001b[0m \u001b[1;32mdef\u001b[0m \u001b[0mcrawling_func\u001b[0m\u001b[1;33m(\u001b[0m\u001b[0mfunc\u001b[0m\u001b[1;33m,\u001b[0m\u001b[1;33m*\u001b[0m\u001b[0margv\u001b[0m\u001b[1;33m)\u001b[0m\u001b[1;33m:\u001b[0m\u001b[1;33m\u001b[0m\u001b[0m\n\u001b[0;32m     71\u001b[0m     \u001b[1;32mtry\u001b[0m\u001b[1;33m:\u001b[0m\u001b[1;33m\u001b[0m\u001b[0m\n\u001b[1;32m---> 72\u001b[1;33m         \u001b[1;32mreturn\u001b[0m \u001b[0mfunc\u001b[0m\u001b[1;33m(\u001b[0m\u001b[1;33m*\u001b[0m\u001b[0margv\u001b[0m\u001b[1;33m)\u001b[0m\u001b[1;33m\u001b[0m\u001b[0m\n\u001b[0m\u001b[0;32m     73\u001b[0m     \u001b[1;32mexcept\u001b[0m \u001b[0mTypeError\u001b[0m \u001b[1;32mas\u001b[0m \u001b[0mte\u001b[0m\u001b[1;33m:\u001b[0m\u001b[1;33m\u001b[0m\u001b[0m\n\u001b[0;32m     74\u001b[0m         \u001b[1;32mreturn\u001b[0m \u001b[0mstr\u001b[0m\u001b[1;33m(\u001b[0m\u001b[0mte\u001b[0m\u001b[1;33m)\u001b[0m\u001b[1;33m\u001b[0m\u001b[0m\n",
      "\u001b[1;32mD:\\python\\mynotebook\\AirlineFareCrawlingProject\\common\\crawl_func.py\u001b[0m in \u001b[0;36mcrawling_IP_dom\u001b[1;34m(airline, dpt, arr, dpt_date)\u001b[0m\n\u001b[0;32m     25\u001b[0m         \u001b[1;34m'inf'\u001b[0m\u001b[1;33m:\u001b[0m\u001b[1;34m'0'\u001b[0m\u001b[1;33m\u001b[0m\u001b[0m\n\u001b[0;32m     26\u001b[0m     }\n\u001b[1;32m---> 27\u001b[1;33m     \u001b[1;32mreturn\u001b[0m \u001b[0msimple_crawling\u001b[0m\u001b[1;33m(\u001b[0m\u001b[0murl\u001b[0m\u001b[1;33m,\u001b[0m\u001b[0mparam\u001b[0m\u001b[1;33m,\u001b[0m\u001b[0mmethod\u001b[0m\u001b[1;33m=\u001b[0m\u001b[1;34m'get'\u001b[0m\u001b[1;33m,\u001b[0m\u001b[0mjson\u001b[0m\u001b[1;33m=\u001b[0m\u001b[1;32mFalse\u001b[0m\u001b[1;33m)\u001b[0m\u001b[1;33m\u001b[0m\u001b[0m\n\u001b[0m\u001b[0;32m     28\u001b[0m \u001b[1;32mdef\u001b[0m \u001b[0mcrawling_IP_int\u001b[0m\u001b[1;33m(\u001b[0m\u001b[0mairline\u001b[0m\u001b[1;33m,\u001b[0m\u001b[0mdpt\u001b[0m\u001b[1;33m,\u001b[0m\u001b[0marr\u001b[0m\u001b[1;33m,\u001b[0m\u001b[0mdpt_date\u001b[0m\u001b[1;33m)\u001b[0m\u001b[1;33m:\u001b[0m\u001b[1;33m\u001b[0m\u001b[0m\n\u001b[0;32m     29\u001b[0m     \u001b[0mlog\u001b[0m\u001b[1;33m(\u001b[0m\u001b[1;34m'Crawling Interpark domastic schedule site'\u001b[0m\u001b[1;33m)\u001b[0m\u001b[1;33m\u001b[0m\u001b[0m\n",
      "\u001b[1;32mD:\\python\\mynotebook\\AirlineFareCrawlingProject\\common\\crawling_util.py\u001b[0m in \u001b[0;36msimple_crawling\u001b[1;34m(url, param, head, method, json)\u001b[0m\n\u001b[0;32m     20\u001b[0m         }\n\u001b[0;32m     21\u001b[0m     \u001b[1;32mif\u001b[0m \u001b[0mmethod\u001b[0m \u001b[1;33m==\u001b[0m \u001b[1;34m'get'\u001b[0m\u001b[1;33m:\u001b[0m\u001b[1;33m\u001b[0m\u001b[0m\n\u001b[1;32m---> 22\u001b[1;33m         \u001b[0mreq\u001b[0m \u001b[1;33m=\u001b[0m \u001b[0mrequests\u001b[0m\u001b[1;33m.\u001b[0m\u001b[0mget\u001b[0m\u001b[1;33m(\u001b[0m\u001b[0murl\u001b[0m\u001b[1;33m+\u001b[0m\u001b[1;34m'?'\u001b[0m\u001b[1;33m+\u001b[0m\u001b[0murllib\u001b[0m\u001b[1;33m.\u001b[0m\u001b[0mparse\u001b[0m\u001b[1;33m.\u001b[0m\u001b[0murlencode\u001b[0m\u001b[1;33m(\u001b[0m\u001b[0mparam\u001b[0m\u001b[1;33m)\u001b[0m\u001b[1;33m,\u001b[0m\u001b[0mheaders\u001b[0m\u001b[1;33m=\u001b[0m\u001b[0mhead\u001b[0m\u001b[1;33m)\u001b[0m\u001b[1;33m\u001b[0m\u001b[0m\n\u001b[0m\u001b[0;32m     23\u001b[0m         \u001b[1;31m#req = requests.get(url,param,headers=head)\u001b[0m\u001b[1;33m\u001b[0m\u001b[1;33m\u001b[0m\u001b[0m\n\u001b[0;32m     24\u001b[0m     \u001b[1;32melse\u001b[0m\u001b[1;33m:\u001b[0m\u001b[1;33m\u001b[0m\u001b[0m\n",
      "\u001b[1;32md:\\python\\python35\\lib\\site-packages\\requests\\api.py\u001b[0m in \u001b[0;36mget\u001b[1;34m(url, params, **kwargs)\u001b[0m\n\u001b[0;32m     68\u001b[0m \u001b[1;33m\u001b[0m\u001b[0m\n\u001b[0;32m     69\u001b[0m     \u001b[0mkwargs\u001b[0m\u001b[1;33m.\u001b[0m\u001b[0msetdefault\u001b[0m\u001b[1;33m(\u001b[0m\u001b[1;34m'allow_redirects'\u001b[0m\u001b[1;33m,\u001b[0m \u001b[1;32mTrue\u001b[0m\u001b[1;33m)\u001b[0m\u001b[1;33m\u001b[0m\u001b[0m\n\u001b[1;32m---> 70\u001b[1;33m     \u001b[1;32mreturn\u001b[0m \u001b[0mrequest\u001b[0m\u001b[1;33m(\u001b[0m\u001b[1;34m'get'\u001b[0m\u001b[1;33m,\u001b[0m \u001b[0murl\u001b[0m\u001b[1;33m,\u001b[0m \u001b[0mparams\u001b[0m\u001b[1;33m=\u001b[0m\u001b[0mparams\u001b[0m\u001b[1;33m,\u001b[0m \u001b[1;33m**\u001b[0m\u001b[0mkwargs\u001b[0m\u001b[1;33m)\u001b[0m\u001b[1;33m\u001b[0m\u001b[0m\n\u001b[0m\u001b[0;32m     71\u001b[0m \u001b[1;33m\u001b[0m\u001b[0m\n\u001b[0;32m     72\u001b[0m \u001b[1;33m\u001b[0m\u001b[0m\n",
      "\u001b[1;32md:\\python\\python35\\lib\\site-packages\\requests\\api.py\u001b[0m in \u001b[0;36mrequest\u001b[1;34m(method, url, **kwargs)\u001b[0m\n\u001b[0;32m     54\u001b[0m     \u001b[1;31m# cases, and look like a memory leak in others.\u001b[0m\u001b[1;33m\u001b[0m\u001b[1;33m\u001b[0m\u001b[0m\n\u001b[0;32m     55\u001b[0m     \u001b[1;32mwith\u001b[0m \u001b[0msessions\u001b[0m\u001b[1;33m.\u001b[0m\u001b[0mSession\u001b[0m\u001b[1;33m(\u001b[0m\u001b[1;33m)\u001b[0m \u001b[1;32mas\u001b[0m \u001b[0msession\u001b[0m\u001b[1;33m:\u001b[0m\u001b[1;33m\u001b[0m\u001b[0m\n\u001b[1;32m---> 56\u001b[1;33m         \u001b[1;32mreturn\u001b[0m \u001b[0msession\u001b[0m\u001b[1;33m.\u001b[0m\u001b[0mrequest\u001b[0m\u001b[1;33m(\u001b[0m\u001b[0mmethod\u001b[0m\u001b[1;33m=\u001b[0m\u001b[0mmethod\u001b[0m\u001b[1;33m,\u001b[0m \u001b[0murl\u001b[0m\u001b[1;33m=\u001b[0m\u001b[0murl\u001b[0m\u001b[1;33m,\u001b[0m \u001b[1;33m**\u001b[0m\u001b[0mkwargs\u001b[0m\u001b[1;33m)\u001b[0m\u001b[1;33m\u001b[0m\u001b[0m\n\u001b[0m\u001b[0;32m     57\u001b[0m \u001b[1;33m\u001b[0m\u001b[0m\n\u001b[0;32m     58\u001b[0m \u001b[1;33m\u001b[0m\u001b[0m\n",
      "\u001b[1;32md:\\python\\python35\\lib\\site-packages\\requests\\sessions.py\u001b[0m in \u001b[0;36mrequest\u001b[1;34m(self, method, url, params, data, headers, cookies, files, auth, timeout, allow_redirects, proxies, hooks, stream, verify, cert, json)\u001b[0m\n\u001b[0;32m    486\u001b[0m         }\n\u001b[0;32m    487\u001b[0m         \u001b[0msend_kwargs\u001b[0m\u001b[1;33m.\u001b[0m\u001b[0mupdate\u001b[0m\u001b[1;33m(\u001b[0m\u001b[0msettings\u001b[0m\u001b[1;33m)\u001b[0m\u001b[1;33m\u001b[0m\u001b[0m\n\u001b[1;32m--> 488\u001b[1;33m         \u001b[0mresp\u001b[0m \u001b[1;33m=\u001b[0m \u001b[0mself\u001b[0m\u001b[1;33m.\u001b[0m\u001b[0msend\u001b[0m\u001b[1;33m(\u001b[0m\u001b[0mprep\u001b[0m\u001b[1;33m,\u001b[0m \u001b[1;33m**\u001b[0m\u001b[0msend_kwargs\u001b[0m\u001b[1;33m)\u001b[0m\u001b[1;33m\u001b[0m\u001b[0m\n\u001b[0m\u001b[0;32m    489\u001b[0m \u001b[1;33m\u001b[0m\u001b[0m\n\u001b[0;32m    490\u001b[0m         \u001b[1;32mreturn\u001b[0m \u001b[0mresp\u001b[0m\u001b[1;33m\u001b[0m\u001b[0m\n",
      "\u001b[1;32md:\\python\\python35\\lib\\site-packages\\requests\\sessions.py\u001b[0m in \u001b[0;36msend\u001b[1;34m(self, request, **kwargs)\u001b[0m\n\u001b[0;32m    607\u001b[0m \u001b[1;33m\u001b[0m\u001b[0m\n\u001b[0;32m    608\u001b[0m         \u001b[1;31m# Send the request\u001b[0m\u001b[1;33m\u001b[0m\u001b[1;33m\u001b[0m\u001b[0m\n\u001b[1;32m--> 609\u001b[1;33m         \u001b[0mr\u001b[0m \u001b[1;33m=\u001b[0m \u001b[0madapter\u001b[0m\u001b[1;33m.\u001b[0m\u001b[0msend\u001b[0m\u001b[1;33m(\u001b[0m\u001b[0mrequest\u001b[0m\u001b[1;33m,\u001b[0m \u001b[1;33m**\u001b[0m\u001b[0mkwargs\u001b[0m\u001b[1;33m)\u001b[0m\u001b[1;33m\u001b[0m\u001b[0m\n\u001b[0m\u001b[0;32m    610\u001b[0m \u001b[1;33m\u001b[0m\u001b[0m\n\u001b[0;32m    611\u001b[0m         \u001b[1;31m# Total elapsed time of the request (approximately)\u001b[0m\u001b[1;33m\u001b[0m\u001b[1;33m\u001b[0m\u001b[0m\n",
      "\u001b[1;32md:\\python\\python35\\lib\\site-packages\\requests\\adapters.py\u001b[0m in \u001b[0;36msend\u001b[1;34m(self, request, stream, timeout, verify, cert, proxies)\u001b[0m\n\u001b[0;32m    471\u001b[0m \u001b[1;33m\u001b[0m\u001b[0m\n\u001b[0;32m    472\u001b[0m         \u001b[1;32mexcept\u001b[0m \u001b[1;33m(\u001b[0m\u001b[0mProtocolError\u001b[0m\u001b[1;33m,\u001b[0m \u001b[0msocket\u001b[0m\u001b[1;33m.\u001b[0m\u001b[0merror\u001b[0m\u001b[1;33m)\u001b[0m \u001b[1;32mas\u001b[0m \u001b[0merr\u001b[0m\u001b[1;33m:\u001b[0m\u001b[1;33m\u001b[0m\u001b[0m\n\u001b[1;32m--> 473\u001b[1;33m             \u001b[1;32mraise\u001b[0m \u001b[0mConnectionError\u001b[0m\u001b[1;33m(\u001b[0m\u001b[0merr\u001b[0m\u001b[1;33m,\u001b[0m \u001b[0mrequest\u001b[0m\u001b[1;33m=\u001b[0m\u001b[0mrequest\u001b[0m\u001b[1;33m)\u001b[0m\u001b[1;33m\u001b[0m\u001b[0m\n\u001b[0m\u001b[0;32m    474\u001b[0m \u001b[1;33m\u001b[0m\u001b[0m\n\u001b[0;32m    475\u001b[0m         \u001b[1;32mexcept\u001b[0m \u001b[0mMaxRetryError\u001b[0m \u001b[1;32mas\u001b[0m \u001b[0me\u001b[0m\u001b[1;33m:\u001b[0m\u001b[1;33m\u001b[0m\u001b[0m\n",
      "\u001b[1;31mConnectionError\u001b[0m: ('Connection aborted.', RemoteDisconnected('Remote end closed connection without response',))"
     ]
    }
   ],
   "source": [
    "## 배치 함수 실행\n",
    "## '0' : 국내선, '1' : 국제선, None : 모두\n",
    "batch_crawl(dom_int='0',interval=60)"
   ]
  },
  {
   "cell_type": "code",
   "execution_count": 3,
   "metadata": {
    "collapsed": false,
    "deletable": true,
    "editable": true
   },
   "outputs": [],
   "source": [
    "# 특정 사이트 배치 처리 함수\n",
    "def batch_onesite_crawl(site,dom_int='0',interval=None):\n",
    "    if site == None:\n",
    "        return None\n",
    "    start_time = datetime.today()\n",
    "    log_msgs = ['start batch job','crawling domestic site']\n",
    "    log(log_msgs,level=logging.INFO)\n",
    "    crawl_cnt = 0\n",
    "    func, isairline = get_crawl_site_func(dom_int,site)\n",
    "    log([func,isairline],level=logging.INFO)\n",
    "    if func is None: ## None 아닌 경우만 진행\n",
    "        return None\n",
    "    ## 해당 함수 이용 크롤링 진행\n",
    "    if interval is None:\n",
    "        interval = CRAWL_INTERVAL\n",
    "    for dpt_date in crawl_period(interval):\n",
    "        ## 크롤링 노선 만큼 크롤링 진행\n",
    "        for route_code,route_info in CRAWL_ROUTES.items():\n",
    "            log([route_code,ROUTE_SITE_MAP[route_code]],level=logging.DEBUG)\n",
    "            if route_info.dom_int != dom_int: ## 국내선/국제선 체크\n",
    "                continue\n",
    "            ## 맵체크 값이 없으면 패스\n",
    "            if site not in ROUTE_SITE_MAP[route_code]:                   \n",
    "                continue\n",
    "            if isairline: ## 항공사 사이트\n",
    "                raw_data = crawling_func(func,route_info.dpt_3p,route_info.arr_3p,dpt_date)\n",
    "                head = set_headinfo(site,dom_int,site,route_info.dpt_3p,route_info.arr_3p,dpt_date)\n",
    "                file = file_name(site,route_info.dpt_3p,route_info.arr_3p,dpt_date)\n",
    "                save_raw_data(file,raw_data,head=head)\n",
    "                crawl_cnt += 1\n",
    "            else: ## 실시간 사이트\n",
    "                for airline in TARGET_AIRLINES:\n",
    "                    ## 조회대상 항공사가 맵에 포함되지 않을 경우 체크\n",
    "                    if airline not in ROUTE_SITE_MAP[route_code]:\n",
    "                        continue\n",
    "                    raw_data = crawling_func(func,airline,route_info.dpt_3p,route_info.arr_3p,dpt_date)\n",
    "                    head = set_headinfo(site,dom_int,airline,route_info.dpt_3p,route_info.arr_3p,dpt_date)\n",
    "                    file = file_name(site,route_info.dpt_3p,route_info.arr_3p,dpt_date,airline=airline)\n",
    "                    save_raw_data(file,raw_data,head=head)\n",
    "                    crawl_cnt += 1\n",
    "    end_time = datetime.today()\n",
    "    log_msgs = ['end batch job','crawling domestic site',\n",
    "                'elapsed -{}'.format(end_time-start_time),'Total crawl:{} files saved.'.format(crawl_cnt)]\n",
    "    log(log_msgs,level=logging.INFO)"
   ]
  },
  {
   "cell_type": "code",
   "execution_count": 4,
   "metadata": {
    "collapsed": false,
    "deletable": true,
    "editable": true,
    "scrolled": true
   },
   "outputs": [
    {
     "name": "stderr",
     "output_type": "stream",
     "text": [
      "2017-06-29 09:10:44,720 root     INFO     start batch job :: crawling domestic site\n",
      "2017-06-29 09:10:44,740 root     DEBUG    1 :: IP :: crawling_IP_int :: False\n",
      "2017-06-29 09:10:44,742 root     INFO     <function crawling_IP_int at 0x0000000007F6A2F0> :: False\n",
      "2017-06-29 09:10:44,745 root     DEBUG    ICN-NRT :: ['IP', '7C', 'TW', 'LJ', 'ZE']\n",
      "2017-06-29 09:10:44,750 root     DEBUG    Crawling Interpark domastic schedule site\n"
     ]
    },
    {
     "name": "stdout",
     "output_type": "stream",
     "text": [
      "Start Simple crawling :  http://smartair.interpark.com/HtmlSearch/GetGoodsSmartList.aspx\n",
      ">> Parameters\n",
      "adt:1 , comp:Y , Soto:N , Change: , BEST:Y , depdate0:20170630 , chd:0 , FLEX:N , StayLength: , ptype:I , dep0:ICN , SeatAvail:Y , AirLine:7C , JSON:Y , inf:0 , SeatType:A , enc:u , arr0:NRT , SplitNo:100 , trip:OW , \n"
     ]
    },
    {
     "name": "stderr",
     "output_type": "stream",
     "text": [
      "2017-06-29 09:10:45,422 root     DEBUG    Crawling Interpark domastic schedule site\n",
      "2017-06-29 09:10:45,528 root     DEBUG    Crawling Interpark domastic schedule site\n"
     ]
    },
    {
     "name": "stdout",
     "output_type": "stream",
     "text": [
      "End Simple crawling\n",
      "Start Simple crawling :  http://smartair.interpark.com/HtmlSearch/GetGoodsSmartList.aspx\n",
      ">> Parameters\n",
      "adt:1 , comp:Y , Soto:N , Change: , BEST:Y , depdate0:20170630 , chd:0 , FLEX:N , StayLength: , ptype:I , dep0:ICN , SeatAvail:Y , AirLine:TW , JSON:Y , inf:0 , SeatType:A , enc:u , arr0:NRT , SplitNo:100 , trip:OW , \n",
      "End Simple crawling\n",
      "Start Simple crawling :  http://smartair.interpark.com/HtmlSearch/GetGoodsSmartList.aspx\n",
      ">> Parameters\n",
      "adt:1 , comp:Y , Soto:N , Change: , BEST:Y , depdate0:20170630 , chd:0 , FLEX:N , StayLength: , ptype:I , dep0:ICN , SeatAvail:Y , AirLine:LJ , JSON:Y , inf:0 , SeatType:A , enc:u , arr0:NRT , SplitNo:100 , trip:OW , \n"
     ]
    },
    {
     "name": "stderr",
     "output_type": "stream",
     "text": [
      "2017-06-29 09:10:45,676 root     DEBUG    Crawling Interpark domastic schedule site\n"
     ]
    },
    {
     "name": "stdout",
     "output_type": "stream",
     "text": [
      "End Simple crawling\n",
      "Start Simple crawling :  http://smartair.interpark.com/HtmlSearch/GetGoodsSmartList.aspx\n",
      ">> Parameters\n",
      "adt:1 , comp:Y , Soto:N , Change: , BEST:Y , depdate0:20170630 , chd:0 , FLEX:N , StayLength: , ptype:I , dep0:ICN , SeatAvail:Y , AirLine:ZE , JSON:Y , inf:0 , SeatType:A , enc:u , arr0:NRT , SplitNo:100 , trip:OW , \n"
     ]
    },
    {
     "name": "stderr",
     "output_type": "stream",
     "text": [
      "2017-06-29 09:10:48,196 root     DEBUG    GMP-CJU :: ['IP', '7C', 'TW', 'LJ', 'BX', 'ZE']\n",
      "2017-06-29 09:10:48,197 root     DEBUG    ICN-NRT :: ['IP', '7C', 'TW', 'LJ', 'ZE']\n",
      "2017-06-29 09:10:48,200 root     DEBUG    Crawling Interpark domastic schedule site\n"
     ]
    },
    {
     "name": "stdout",
     "output_type": "stream",
     "text": [
      "End Simple crawling\n",
      "Start Simple crawling :  http://smartair.interpark.com/HtmlSearch/GetGoodsSmartList.aspx\n",
      ">> Parameters\n",
      "adt:1 , comp:Y , Soto:N , Change: , BEST:Y , depdate0:20170701 , chd:0 , FLEX:N , StayLength: , ptype:I , dep0:ICN , SeatAvail:Y , AirLine:7C , JSON:Y , inf:0 , SeatType:A , enc:u , arr0:NRT , SplitNo:100 , trip:OW , \n"
     ]
    },
    {
     "name": "stderr",
     "output_type": "stream",
     "text": [
      "2017-06-29 09:10:48,889 root     DEBUG    Crawling Interpark domastic schedule site\n",
      "2017-06-29 09:10:49,070 root     DEBUG    Crawling Interpark domastic schedule site\n"
     ]
    },
    {
     "name": "stdout",
     "output_type": "stream",
     "text": [
      "End Simple crawling\n",
      "Start Simple crawling :  http://smartair.interpark.com/HtmlSearch/GetGoodsSmartList.aspx\n",
      ">> Parameters\n",
      "adt:1 , comp:Y , Soto:N , Change: , BEST:Y , depdate0:20170701 , chd:0 , FLEX:N , StayLength: , ptype:I , dep0:ICN , SeatAvail:Y , AirLine:TW , JSON:Y , inf:0 , SeatType:A , enc:u , arr0:NRT , SplitNo:100 , trip:OW , \n",
      "End Simple crawling\n",
      "Start Simple crawling :  http://smartair.interpark.com/HtmlSearch/GetGoodsSmartList.aspx\n",
      ">> Parameters\n",
      "adt:1 , comp:Y , Soto:N , Change: , BEST:Y , depdate0:20170701 , chd:0 , FLEX:N , StayLength: , ptype:I , dep0:ICN , SeatAvail:Y , AirLine:LJ , JSON:Y , inf:0 , SeatType:A , enc:u , arr0:NRT , SplitNo:100 , trip:OW , \n"
     ]
    },
    {
     "name": "stderr",
     "output_type": "stream",
     "text": [
      "2017-06-29 09:10:51,119 root     DEBUG    Crawling Interpark domastic schedule site\n"
     ]
    },
    {
     "name": "stdout",
     "output_type": "stream",
     "text": [
      "End Simple crawling\n",
      "Start Simple crawling :  http://smartair.interpark.com/HtmlSearch/GetGoodsSmartList.aspx\n",
      ">> Parameters\n",
      "adt:1 , comp:Y , Soto:N , Change: , BEST:Y , depdate0:20170701 , chd:0 , FLEX:N , StayLength: , ptype:I , dep0:ICN , SeatAvail:Y , AirLine:ZE , JSON:Y , inf:0 , SeatType:A , enc:u , arr0:NRT , SplitNo:100 , trip:OW , \n"
     ]
    },
    {
     "name": "stderr",
     "output_type": "stream",
     "text": [
      "2017-06-29 09:10:53,320 root     DEBUG    GMP-CJU :: ['IP', '7C', 'TW', 'LJ', 'BX', 'ZE']\n",
      "2017-06-29 09:10:53,322 root     DEBUG    ICN-NRT :: ['IP', '7C', 'TW', 'LJ', 'ZE']\n",
      "2017-06-29 09:10:53,324 root     DEBUG    Crawling Interpark domastic schedule site\n"
     ]
    },
    {
     "name": "stdout",
     "output_type": "stream",
     "text": [
      "End Simple crawling\n",
      "Start Simple crawling :  http://smartair.interpark.com/HtmlSearch/GetGoodsSmartList.aspx\n",
      ">> Parameters\n",
      "adt:1 , comp:Y , Soto:N , Change: , BEST:Y , depdate0:20170702 , chd:0 , FLEX:N , StayLength: , ptype:I , dep0:ICN , SeatAvail:Y , AirLine:7C , JSON:Y , inf:0 , SeatType:A , enc:u , arr0:NRT , SplitNo:100 , trip:OW , \n"
     ]
    },
    {
     "name": "stderr",
     "output_type": "stream",
     "text": [
      "2017-06-29 09:10:53,995 root     DEBUG    Crawling Interpark domastic schedule site\n"
     ]
    },
    {
     "name": "stdout",
     "output_type": "stream",
     "text": [
      "End Simple crawling\n",
      "Start Simple crawling :  http://smartair.interpark.com/HtmlSearch/GetGoodsSmartList.aspx\n",
      ">> Parameters\n",
      "adt:1 , comp:Y , Soto:N , Change: , BEST:Y , depdate0:20170702 , chd:0 , FLEX:N , StayLength: , ptype:I , dep0:ICN , SeatAvail:Y , AirLine:TW , JSON:Y , inf:0 , SeatType:A , enc:u , arr0:NRT , SplitNo:100 , trip:OW , \n"
     ]
    },
    {
     "name": "stderr",
     "output_type": "stream",
     "text": [
      "2017-06-29 09:10:56,156 root     DEBUG    Crawling Interpark domastic schedule site\n"
     ]
    },
    {
     "name": "stdout",
     "output_type": "stream",
     "text": [
      "End Simple crawling\n",
      "Start Simple crawling :  http://smartair.interpark.com/HtmlSearch/GetGoodsSmartList.aspx\n",
      ">> Parameters\n",
      "adt:1 , comp:Y , Soto:N , Change: , BEST:Y , depdate0:20170702 , chd:0 , FLEX:N , StayLength: , ptype:I , dep0:ICN , SeatAvail:Y , AirLine:LJ , JSON:Y , inf:0 , SeatType:A , enc:u , arr0:NRT , SplitNo:100 , trip:OW , \n"
     ]
    },
    {
     "name": "stderr",
     "output_type": "stream",
     "text": [
      "2017-06-29 09:10:58,176 root     DEBUG    Crawling Interpark domastic schedule site\n"
     ]
    },
    {
     "name": "stdout",
     "output_type": "stream",
     "text": [
      "End Simple crawling\n",
      "Start Simple crawling :  http://smartair.interpark.com/HtmlSearch/GetGoodsSmartList.aspx\n",
      ">> Parameters\n",
      "adt:1 , comp:Y , Soto:N , Change: , BEST:Y , depdate0:20170702 , chd:0 , FLEX:N , StayLength: , ptype:I , dep0:ICN , SeatAvail:Y , AirLine:ZE , JSON:Y , inf:0 , SeatType:A , enc:u , arr0:NRT , SplitNo:100 , trip:OW , \n"
     ]
    },
    {
     "name": "stderr",
     "output_type": "stream",
     "text": [
      "2017-06-29 09:11:00,189 root     DEBUG    GMP-CJU :: ['IP', '7C', 'TW', 'LJ', 'BX', 'ZE']\n",
      "2017-06-29 09:11:00,192 root     DEBUG    ICN-NRT :: ['IP', '7C', 'TW', 'LJ', 'ZE']\n",
      "2017-06-29 09:11:00,194 root     DEBUG    Crawling Interpark domastic schedule site\n"
     ]
    },
    {
     "name": "stdout",
     "output_type": "stream",
     "text": [
      "End Simple crawling\n",
      "Start Simple crawling :  http://smartair.interpark.com/HtmlSearch/GetGoodsSmartList.aspx\n",
      ">> Parameters\n",
      "adt:1 , comp:Y , Soto:N , Change: , BEST:Y , depdate0:20170703 , chd:0 , FLEX:N , StayLength: , ptype:I , dep0:ICN , SeatAvail:Y , AirLine:7C , JSON:Y , inf:0 , SeatType:A , enc:u , arr0:NRT , SplitNo:100 , trip:OW , \n"
     ]
    },
    {
     "name": "stderr",
     "output_type": "stream",
     "text": [
      "2017-06-29 09:11:00,785 root     DEBUG    Crawling Interpark domastic schedule site\n"
     ]
    },
    {
     "name": "stdout",
     "output_type": "stream",
     "text": [
      "End Simple crawling\n",
      "Start Simple crawling :  http://smartair.interpark.com/HtmlSearch/GetGoodsSmartList.aspx\n",
      ">> Parameters\n",
      "adt:1 , comp:Y , Soto:N , Change: , BEST:Y , depdate0:20170703 , chd:0 , FLEX:N , StayLength: , ptype:I , dep0:ICN , SeatAvail:Y , AirLine:TW , JSON:Y , inf:0 , SeatType:A , enc:u , arr0:NRT , SplitNo:100 , trip:OW , \n"
     ]
    },
    {
     "name": "stderr",
     "output_type": "stream",
     "text": [
      "2017-06-29 09:11:02,939 root     DEBUG    Crawling Interpark domastic schedule site\n"
     ]
    },
    {
     "name": "stdout",
     "output_type": "stream",
     "text": [
      "End Simple crawling\n",
      "Start Simple crawling :  http://smartair.interpark.com/HtmlSearch/GetGoodsSmartList.aspx\n",
      ">> Parameters\n",
      "adt:1 , comp:Y , Soto:N , Change: , BEST:Y , depdate0:20170703 , chd:0 , FLEX:N , StayLength: , ptype:I , dep0:ICN , SeatAvail:Y , AirLine:LJ , JSON:Y , inf:0 , SeatType:A , enc:u , arr0:NRT , SplitNo:100 , trip:OW , \n"
     ]
    },
    {
     "name": "stderr",
     "output_type": "stream",
     "text": [
      "2017-06-29 09:11:04,940 root     DEBUG    Crawling Interpark domastic schedule site\n"
     ]
    },
    {
     "name": "stdout",
     "output_type": "stream",
     "text": [
      "End Simple crawling\n",
      "Start Simple crawling :  http://smartair.interpark.com/HtmlSearch/GetGoodsSmartList.aspx\n",
      ">> Parameters\n",
      "adt:1 , comp:Y , Soto:N , Change: , BEST:Y , depdate0:20170703 , chd:0 , FLEX:N , StayLength: , ptype:I , dep0:ICN , SeatAvail:Y , AirLine:ZE , JSON:Y , inf:0 , SeatType:A , enc:u , arr0:NRT , SplitNo:100 , trip:OW , \n"
     ]
    },
    {
     "name": "stderr",
     "output_type": "stream",
     "text": [
      "2017-06-29 09:11:07,014 root     DEBUG    GMP-CJU :: ['IP', '7C', 'TW', 'LJ', 'BX', 'ZE']\n",
      "2017-06-29 09:11:07,015 root     DEBUG    ICN-NRT :: ['IP', '7C', 'TW', 'LJ', 'ZE']\n",
      "2017-06-29 09:11:07,017 root     DEBUG    Crawling Interpark domastic schedule site\n"
     ]
    },
    {
     "name": "stdout",
     "output_type": "stream",
     "text": [
      "End Simple crawling\n",
      "Start Simple crawling :  http://smartair.interpark.com/HtmlSearch/GetGoodsSmartList.aspx\n",
      ">> Parameters\n",
      "adt:1 , comp:Y , Soto:N , Change: , BEST:Y , depdate0:20170704 , chd:0 , FLEX:N , StayLength: , ptype:I , dep0:ICN , SeatAvail:Y , AirLine:7C , JSON:Y , inf:0 , SeatType:A , enc:u , arr0:NRT , SplitNo:100 , trip:OW , \n"
     ]
    },
    {
     "name": "stderr",
     "output_type": "stream",
     "text": [
      "2017-06-29 09:11:08,281 root     DEBUG    Crawling Interpark domastic schedule site\n"
     ]
    },
    {
     "name": "stdout",
     "output_type": "stream",
     "text": [
      "End Simple crawling\n",
      "Start Simple crawling :  http://smartair.interpark.com/HtmlSearch/GetGoodsSmartList.aspx\n",
      ">> Parameters\n",
      "adt:1 , comp:Y , Soto:N , Change: , BEST:Y , depdate0:20170704 , chd:0 , FLEX:N , StayLength: , ptype:I , dep0:ICN , SeatAvail:Y , AirLine:TW , JSON:Y , inf:0 , SeatType:A , enc:u , arr0:NRT , SplitNo:100 , trip:OW , \n"
     ]
    },
    {
     "name": "stderr",
     "output_type": "stream",
     "text": [
      "2017-06-29 09:11:10,496 root     DEBUG    Crawling Interpark domastic schedule site\n"
     ]
    },
    {
     "name": "stdout",
     "output_type": "stream",
     "text": [
      "End Simple crawling\n",
      "Start Simple crawling :  http://smartair.interpark.com/HtmlSearch/GetGoodsSmartList.aspx\n",
      ">> Parameters\n",
      "adt:1 , comp:Y , Soto:N , Change: , BEST:Y , depdate0:20170704 , chd:0 , FLEX:N , StayLength: , ptype:I , dep0:ICN , SeatAvail:Y , AirLine:LJ , JSON:Y , inf:0 , SeatType:A , enc:u , arr0:NRT , SplitNo:100 , trip:OW , \n"
     ]
    },
    {
     "name": "stderr",
     "output_type": "stream",
     "text": [
      "2017-06-29 09:11:12,620 root     DEBUG    Crawling Interpark domastic schedule site\n"
     ]
    },
    {
     "name": "stdout",
     "output_type": "stream",
     "text": [
      "End Simple crawling\n",
      "Start Simple crawling :  http://smartair.interpark.com/HtmlSearch/GetGoodsSmartList.aspx\n",
      ">> Parameters\n",
      "adt:1 , comp:Y , Soto:N , Change: , BEST:Y , depdate0:20170704 , chd:0 , FLEX:N , StayLength: , ptype:I , dep0:ICN , SeatAvail:Y , AirLine:ZE , JSON:Y , inf:0 , SeatType:A , enc:u , arr0:NRT , SplitNo:100 , trip:OW , \n"
     ]
    },
    {
     "name": "stderr",
     "output_type": "stream",
     "text": [
      "2017-06-29 09:11:14,774 root     DEBUG    GMP-CJU :: ['IP', '7C', 'TW', 'LJ', 'BX', 'ZE']\n",
      "2017-06-29 09:11:14,776 root     DEBUG    ICN-NRT :: ['IP', '7C', 'TW', 'LJ', 'ZE']\n",
      "2017-06-29 09:11:14,778 root     DEBUG    Crawling Interpark domastic schedule site\n"
     ]
    },
    {
     "name": "stdout",
     "output_type": "stream",
     "text": [
      "End Simple crawling\n",
      "Start Simple crawling :  http://smartair.interpark.com/HtmlSearch/GetGoodsSmartList.aspx\n",
      ">> Parameters\n",
      "adt:1 , comp:Y , Soto:N , Change: , BEST:Y , depdate0:20170705 , chd:0 , FLEX:N , StayLength: , ptype:I , dep0:ICN , SeatAvail:Y , AirLine:7C , JSON:Y , inf:0 , SeatType:A , enc:u , arr0:NRT , SplitNo:100 , trip:OW , \n"
     ]
    },
    {
     "name": "stderr",
     "output_type": "stream",
     "text": [
      "2017-06-29 09:11:15,522 root     DEBUG    Crawling Interpark domastic schedule site\n"
     ]
    },
    {
     "name": "stdout",
     "output_type": "stream",
     "text": [
      "End Simple crawling\n",
      "Start Simple crawling :  http://smartair.interpark.com/HtmlSearch/GetGoodsSmartList.aspx\n",
      ">> Parameters\n",
      "adt:1 , comp:Y , Soto:N , Change: , BEST:Y , depdate0:20170705 , chd:0 , FLEX:N , StayLength: , ptype:I , dep0:ICN , SeatAvail:Y , AirLine:TW , JSON:Y , inf:0 , SeatType:A , enc:u , arr0:NRT , SplitNo:100 , trip:OW , \n"
     ]
    },
    {
     "name": "stderr",
     "output_type": "stream",
     "text": [
      "2017-06-29 09:11:17,670 root     DEBUG    Crawling Interpark domastic schedule site\n"
     ]
    },
    {
     "name": "stdout",
     "output_type": "stream",
     "text": [
      "End Simple crawling\n",
      "Start Simple crawling :  http://smartair.interpark.com/HtmlSearch/GetGoodsSmartList.aspx\n",
      ">> Parameters\n",
      "adt:1 , comp:Y , Soto:N , Change: , BEST:Y , depdate0:20170705 , chd:0 , FLEX:N , StayLength: , ptype:I , dep0:ICN , SeatAvail:Y , AirLine:LJ , JSON:Y , inf:0 , SeatType:A , enc:u , arr0:NRT , SplitNo:100 , trip:OW , \n"
     ]
    },
    {
     "name": "stderr",
     "output_type": "stream",
     "text": [
      "2017-06-29 09:11:19,714 root     DEBUG    Crawling Interpark domastic schedule site\n"
     ]
    },
    {
     "name": "stdout",
     "output_type": "stream",
     "text": [
      "End Simple crawling\n",
      "Start Simple crawling :  http://smartair.interpark.com/HtmlSearch/GetGoodsSmartList.aspx\n",
      ">> Parameters\n",
      "adt:1 , comp:Y , Soto:N , Change: , BEST:Y , depdate0:20170705 , chd:0 , FLEX:N , StayLength: , ptype:I , dep0:ICN , SeatAvail:Y , AirLine:ZE , JSON:Y , inf:0 , SeatType:A , enc:u , arr0:NRT , SplitNo:100 , trip:OW , \n"
     ]
    },
    {
     "name": "stderr",
     "output_type": "stream",
     "text": [
      "2017-06-29 09:11:21,825 root     DEBUG    GMP-CJU :: ['IP', '7C', 'TW', 'LJ', 'BX', 'ZE']\n",
      "2017-06-29 09:11:21,826 root     DEBUG    ICN-NRT :: ['IP', '7C', 'TW', 'LJ', 'ZE']\n",
      "2017-06-29 09:11:21,829 root     DEBUG    Crawling Interpark domastic schedule site\n"
     ]
    },
    {
     "name": "stdout",
     "output_type": "stream",
     "text": [
      "End Simple crawling\n",
      "Start Simple crawling :  http://smartair.interpark.com/HtmlSearch/GetGoodsSmartList.aspx\n",
      ">> Parameters\n",
      "adt:1 , comp:Y , Soto:N , Change: , BEST:Y , depdate0:20170706 , chd:0 , FLEX:N , StayLength: , ptype:I , dep0:ICN , SeatAvail:Y , AirLine:7C , JSON:Y , inf:0 , SeatType:A , enc:u , arr0:NRT , SplitNo:100 , trip:OW , \n"
     ]
    },
    {
     "name": "stderr",
     "output_type": "stream",
     "text": [
      "2017-06-29 09:11:22,805 root     DEBUG    Crawling Interpark domastic schedule site\n"
     ]
    },
    {
     "name": "stdout",
     "output_type": "stream",
     "text": [
      "End Simple crawling\n",
      "Start Simple crawling :  http://smartair.interpark.com/HtmlSearch/GetGoodsSmartList.aspx\n",
      ">> Parameters\n",
      "adt:1 , comp:Y , Soto:N , Change: , BEST:Y , depdate0:20170706 , chd:0 , FLEX:N , StayLength: , ptype:I , dep0:ICN , SeatAvail:Y , AirLine:TW , JSON:Y , inf:0 , SeatType:A , enc:u , arr0:NRT , SplitNo:100 , trip:OW , \n"
     ]
    },
    {
     "name": "stderr",
     "output_type": "stream",
     "text": [
      "2017-06-29 09:11:25,077 root     DEBUG    Crawling Interpark domastic schedule site\n"
     ]
    },
    {
     "name": "stdout",
     "output_type": "stream",
     "text": [
      "End Simple crawling\n",
      "Start Simple crawling :  http://smartair.interpark.com/HtmlSearch/GetGoodsSmartList.aspx\n",
      ">> Parameters\n",
      "adt:1 , comp:Y , Soto:N , Change: , BEST:Y , depdate0:20170706 , chd:0 , FLEX:N , StayLength: , ptype:I , dep0:ICN , SeatAvail:Y , AirLine:LJ , JSON:Y , inf:0 , SeatType:A , enc:u , arr0:NRT , SplitNo:100 , trip:OW , \n"
     ]
    },
    {
     "name": "stderr",
     "output_type": "stream",
     "text": [
      "2017-06-29 09:11:27,257 root     DEBUG    Crawling Interpark domastic schedule site\n"
     ]
    },
    {
     "name": "stdout",
     "output_type": "stream",
     "text": [
      "End Simple crawling\n",
      "Start Simple crawling :  http://smartair.interpark.com/HtmlSearch/GetGoodsSmartList.aspx\n",
      ">> Parameters\n",
      "adt:1 , comp:Y , Soto:N , Change: , BEST:Y , depdate0:20170706 , chd:0 , FLEX:N , StayLength: , ptype:I , dep0:ICN , SeatAvail:Y , AirLine:ZE , JSON:Y , inf:0 , SeatType:A , enc:u , arr0:NRT , SplitNo:100 , trip:OW , \n"
     ]
    },
    {
     "name": "stderr",
     "output_type": "stream",
     "text": [
      "2017-06-29 09:11:29,480 root     DEBUG    GMP-CJU :: ['IP', '7C', 'TW', 'LJ', 'BX', 'ZE']\n",
      "2017-06-29 09:11:29,482 root     DEBUG    ICN-NRT :: ['IP', '7C', 'TW', 'LJ', 'ZE']\n",
      "2017-06-29 09:11:29,484 root     DEBUG    Crawling Interpark domastic schedule site\n"
     ]
    },
    {
     "name": "stdout",
     "output_type": "stream",
     "text": [
      "End Simple crawling\n",
      "Start Simple crawling :  http://smartair.interpark.com/HtmlSearch/GetGoodsSmartList.aspx\n",
      ">> Parameters\n",
      "adt:1 , comp:Y , Soto:N , Change: , BEST:Y , depdate0:20170707 , chd:0 , FLEX:N , StayLength: , ptype:I , dep0:ICN , SeatAvail:Y , AirLine:7C , JSON:Y , inf:0 , SeatType:A , enc:u , arr0:NRT , SplitNo:100 , trip:OW , \n"
     ]
    },
    {
     "name": "stderr",
     "output_type": "stream",
     "text": [
      "2017-06-29 09:11:30,247 root     DEBUG    Crawling Interpark domastic schedule site\n"
     ]
    },
    {
     "name": "stdout",
     "output_type": "stream",
     "text": [
      "End Simple crawling\n",
      "Start Simple crawling :  http://smartair.interpark.com/HtmlSearch/GetGoodsSmartList.aspx\n",
      ">> Parameters\n",
      "adt:1 , comp:Y , Soto:N , Change: , BEST:Y , depdate0:20170707 , chd:0 , FLEX:N , StayLength: , ptype:I , dep0:ICN , SeatAvail:Y , AirLine:TW , JSON:Y , inf:0 , SeatType:A , enc:u , arr0:NRT , SplitNo:100 , trip:OW , \n"
     ]
    },
    {
     "name": "stderr",
     "output_type": "stream",
     "text": [
      "2017-06-29 09:11:37,569 root     DEBUG    Crawling Interpark domastic schedule site\n"
     ]
    },
    {
     "name": "stdout",
     "output_type": "stream",
     "text": [
      "End Simple crawling\n",
      "Start Simple crawling :  http://smartair.interpark.com/HtmlSearch/GetGoodsSmartList.aspx\n",
      ">> Parameters\n",
      "adt:1 , comp:Y , Soto:N , Change: , BEST:Y , depdate0:20170707 , chd:0 , FLEX:N , StayLength: , ptype:I , dep0:ICN , SeatAvail:Y , AirLine:LJ , JSON:Y , inf:0 , SeatType:A , enc:u , arr0:NRT , SplitNo:100 , trip:OW , \n"
     ]
    },
    {
     "name": "stderr",
     "output_type": "stream",
     "text": [
      "2017-06-29 09:11:39,657 root     DEBUG    Crawling Interpark domastic schedule site\n"
     ]
    },
    {
     "name": "stdout",
     "output_type": "stream",
     "text": [
      "End Simple crawling\n",
      "Start Simple crawling :  http://smartair.interpark.com/HtmlSearch/GetGoodsSmartList.aspx\n",
      ">> Parameters\n",
      "adt:1 , comp:Y , Soto:N , Change: , BEST:Y , depdate0:20170707 , chd:0 , FLEX:N , StayLength: , ptype:I , dep0:ICN , SeatAvail:Y , AirLine:ZE , JSON:Y , inf:0 , SeatType:A , enc:u , arr0:NRT , SplitNo:100 , trip:OW , \n"
     ]
    },
    {
     "name": "stderr",
     "output_type": "stream",
     "text": [
      "2017-06-29 09:11:41,804 root     DEBUG    GMP-CJU :: ['IP', '7C', 'TW', 'LJ', 'BX', 'ZE']\n",
      "2017-06-29 09:11:41,806 root     DEBUG    ICN-NRT :: ['IP', '7C', 'TW', 'LJ', 'ZE']\n",
      "2017-06-29 09:11:41,808 root     DEBUG    Crawling Interpark domastic schedule site\n"
     ]
    },
    {
     "name": "stdout",
     "output_type": "stream",
     "text": [
      "End Simple crawling\n",
      "Start Simple crawling :  http://smartair.interpark.com/HtmlSearch/GetGoodsSmartList.aspx\n",
      ">> Parameters\n",
      "adt:1 , comp:Y , Soto:N , Change: , BEST:Y , depdate0:20170708 , chd:0 , FLEX:N , StayLength: , ptype:I , dep0:ICN , SeatAvail:Y , AirLine:7C , JSON:Y , inf:0 , SeatType:A , enc:u , arr0:NRT , SplitNo:100 , trip:OW , \n"
     ]
    },
    {
     "name": "stderr",
     "output_type": "stream",
     "text": [
      "2017-06-29 09:11:42,723 root     DEBUG    Crawling Interpark domastic schedule site\n"
     ]
    },
    {
     "name": "stdout",
     "output_type": "stream",
     "text": [
      "End Simple crawling\n",
      "Start Simple crawling :  http://smartair.interpark.com/HtmlSearch/GetGoodsSmartList.aspx\n",
      ">> Parameters\n",
      "adt:1 , comp:Y , Soto:N , Change: , BEST:Y , depdate0:20170708 , chd:0 , FLEX:N , StayLength: , ptype:I , dep0:ICN , SeatAvail:Y , AirLine:TW , JSON:Y , inf:0 , SeatType:A , enc:u , arr0:NRT , SplitNo:100 , trip:OW , \n"
     ]
    },
    {
     "name": "stderr",
     "output_type": "stream",
     "text": [
      "2017-06-29 09:11:45,080 root     DEBUG    Crawling Interpark domastic schedule site\n"
     ]
    },
    {
     "name": "stdout",
     "output_type": "stream",
     "text": [
      "End Simple crawling\n",
      "Start Simple crawling :  http://smartair.interpark.com/HtmlSearch/GetGoodsSmartList.aspx\n",
      ">> Parameters\n",
      "adt:1 , comp:Y , Soto:N , Change: , BEST:Y , depdate0:20170708 , chd:0 , FLEX:N , StayLength: , ptype:I , dep0:ICN , SeatAvail:Y , AirLine:LJ , JSON:Y , inf:0 , SeatType:A , enc:u , arr0:NRT , SplitNo:100 , trip:OW , \n"
     ]
    },
    {
     "name": "stderr",
     "output_type": "stream",
     "text": [
      "2017-06-29 09:11:47,176 root     DEBUG    Crawling Interpark domastic schedule site\n"
     ]
    },
    {
     "name": "stdout",
     "output_type": "stream",
     "text": [
      "End Simple crawling\n",
      "Start Simple crawling :  http://smartair.interpark.com/HtmlSearch/GetGoodsSmartList.aspx\n",
      ">> Parameters\n",
      "adt:1 , comp:Y , Soto:N , Change: , BEST:Y , depdate0:20170708 , chd:0 , FLEX:N , StayLength: , ptype:I , dep0:ICN , SeatAvail:Y , AirLine:ZE , JSON:Y , inf:0 , SeatType:A , enc:u , arr0:NRT , SplitNo:100 , trip:OW , \n"
     ]
    },
    {
     "name": "stderr",
     "output_type": "stream",
     "text": [
      "2017-06-29 09:11:49,289 root     DEBUG    GMP-CJU :: ['IP', '7C', 'TW', 'LJ', 'BX', 'ZE']\n",
      "2017-06-29 09:11:49,291 root     DEBUG    ICN-NRT :: ['IP', '7C', 'TW', 'LJ', 'ZE']\n",
      "2017-06-29 09:11:49,294 root     DEBUG    Crawling Interpark domastic schedule site\n"
     ]
    },
    {
     "name": "stdout",
     "output_type": "stream",
     "text": [
      "End Simple crawling\n",
      "Start Simple crawling :  http://smartair.interpark.com/HtmlSearch/GetGoodsSmartList.aspx\n",
      ">> Parameters\n",
      "adt:1 , comp:Y , Soto:N , Change: , BEST:Y , depdate0:20170709 , chd:0 , FLEX:N , StayLength: , ptype:I , dep0:ICN , SeatAvail:Y , AirLine:7C , JSON:Y , inf:0 , SeatType:A , enc:u , arr0:NRT , SplitNo:100 , trip:OW , \n"
     ]
    },
    {
     "name": "stderr",
     "output_type": "stream",
     "text": [
      "2017-06-29 09:11:49,865 root     DEBUG    Crawling Interpark domastic schedule site\n"
     ]
    },
    {
     "name": "stdout",
     "output_type": "stream",
     "text": [
      "End Simple crawling\n",
      "Start Simple crawling :  http://smartair.interpark.com/HtmlSearch/GetGoodsSmartList.aspx\n",
      ">> Parameters\n",
      "adt:1 , comp:Y , Soto:N , Change: , BEST:Y , depdate0:20170709 , chd:0 , FLEX:N , StayLength: , ptype:I , dep0:ICN , SeatAvail:Y , AirLine:TW , JSON:Y , inf:0 , SeatType:A , enc:u , arr0:NRT , SplitNo:100 , trip:OW , \n"
     ]
    },
    {
     "name": "stderr",
     "output_type": "stream",
     "text": [
      "2017-06-29 09:11:52,070 root     DEBUG    Crawling Interpark domastic schedule site\n"
     ]
    },
    {
     "name": "stdout",
     "output_type": "stream",
     "text": [
      "End Simple crawling\n",
      "Start Simple crawling :  http://smartair.interpark.com/HtmlSearch/GetGoodsSmartList.aspx\n",
      ">> Parameters\n",
      "adt:1 , comp:Y , Soto:N , Change: , BEST:Y , depdate0:20170709 , chd:0 , FLEX:N , StayLength: , ptype:I , dep0:ICN , SeatAvail:Y , AirLine:LJ , JSON:Y , inf:0 , SeatType:A , enc:u , arr0:NRT , SplitNo:100 , trip:OW , \n"
     ]
    },
    {
     "name": "stderr",
     "output_type": "stream",
     "text": [
      "2017-06-29 09:11:54,122 root     DEBUG    Crawling Interpark domastic schedule site\n"
     ]
    },
    {
     "name": "stdout",
     "output_type": "stream",
     "text": [
      "End Simple crawling\n",
      "Start Simple crawling :  http://smartair.interpark.com/HtmlSearch/GetGoodsSmartList.aspx\n",
      ">> Parameters\n",
      "adt:1 , comp:Y , Soto:N , Change: , BEST:Y , depdate0:20170709 , chd:0 , FLEX:N , StayLength: , ptype:I , dep0:ICN , SeatAvail:Y , AirLine:ZE , JSON:Y , inf:0 , SeatType:A , enc:u , arr0:NRT , SplitNo:100 , trip:OW , \n"
     ]
    },
    {
     "name": "stderr",
     "output_type": "stream",
     "text": [
      "2017-06-29 09:11:56,162 root     DEBUG    GMP-CJU :: ['IP', '7C', 'TW', 'LJ', 'BX', 'ZE']\n",
      "2017-06-29 09:11:56,165 root     DEBUG    ICN-NRT :: ['IP', '7C', 'TW', 'LJ', 'ZE']\n",
      "2017-06-29 09:11:56,170 root     DEBUG    Crawling Interpark domastic schedule site\n"
     ]
    },
    {
     "name": "stdout",
     "output_type": "stream",
     "text": [
      "End Simple crawling\n",
      "Start Simple crawling :  http://smartair.interpark.com/HtmlSearch/GetGoodsSmartList.aspx\n",
      ">> Parameters\n",
      "adt:1 , comp:Y , Soto:N , Change: , BEST:Y , depdate0:20170710 , chd:0 , FLEX:N , StayLength: , ptype:I , dep0:ICN , SeatAvail:Y , AirLine:7C , JSON:Y , inf:0 , SeatType:A , enc:u , arr0:NRT , SplitNo:100 , trip:OW , \n"
     ]
    },
    {
     "name": "stderr",
     "output_type": "stream",
     "text": [
      "2017-06-29 09:11:56,796 root     DEBUG    Crawling Interpark domastic schedule site\n"
     ]
    },
    {
     "name": "stdout",
     "output_type": "stream",
     "text": [
      "End Simple crawling\n",
      "Start Simple crawling :  http://smartair.interpark.com/HtmlSearch/GetGoodsSmartList.aspx\n",
      ">> Parameters\n",
      "adt:1 , comp:Y , Soto:N , Change: , BEST:Y , depdate0:20170710 , chd:0 , FLEX:N , StayLength: , ptype:I , dep0:ICN , SeatAvail:Y , AirLine:TW , JSON:Y , inf:0 , SeatType:A , enc:u , arr0:NRT , SplitNo:100 , trip:OW , \n"
     ]
    },
    {
     "name": "stderr",
     "output_type": "stream",
     "text": [
      "2017-06-29 09:11:58,943 root     DEBUG    Crawling Interpark domastic schedule site\n"
     ]
    },
    {
     "name": "stdout",
     "output_type": "stream",
     "text": [
      "End Simple crawling\n",
      "Start Simple crawling :  http://smartair.interpark.com/HtmlSearch/GetGoodsSmartList.aspx\n",
      ">> Parameters\n",
      "adt:1 , comp:Y , Soto:N , Change: , BEST:Y , depdate0:20170710 , chd:0 , FLEX:N , StayLength: , ptype:I , dep0:ICN , SeatAvail:Y , AirLine:LJ , JSON:Y , inf:0 , SeatType:A , enc:u , arr0:NRT , SplitNo:100 , trip:OW , \n"
     ]
    },
    {
     "name": "stderr",
     "output_type": "stream",
     "text": [
      "2017-06-29 09:12:01,033 root     DEBUG    Crawling Interpark domastic schedule site\n"
     ]
    },
    {
     "name": "stdout",
     "output_type": "stream",
     "text": [
      "End Simple crawling\n",
      "Start Simple crawling :  http://smartair.interpark.com/HtmlSearch/GetGoodsSmartList.aspx\n",
      ">> Parameters\n",
      "adt:1 , comp:Y , Soto:N , Change: , BEST:Y , depdate0:20170710 , chd:0 , FLEX:N , StayLength: , ptype:I , dep0:ICN , SeatAvail:Y , AirLine:ZE , JSON:Y , inf:0 , SeatType:A , enc:u , arr0:NRT , SplitNo:100 , trip:OW , \n"
     ]
    },
    {
     "name": "stderr",
     "output_type": "stream",
     "text": [
      "2017-06-29 09:12:03,182 root     DEBUG    GMP-CJU :: ['IP', '7C', 'TW', 'LJ', 'BX', 'ZE']\n",
      "2017-06-29 09:12:03,184 root     DEBUG    ICN-NRT :: ['IP', '7C', 'TW', 'LJ', 'ZE']\n",
      "2017-06-29 09:12:03,187 root     DEBUG    Crawling Interpark domastic schedule site\n"
     ]
    },
    {
     "name": "stdout",
     "output_type": "stream",
     "text": [
      "End Simple crawling\n",
      "Start Simple crawling :  http://smartair.interpark.com/HtmlSearch/GetGoodsSmartList.aspx\n",
      ">> Parameters\n",
      "adt:1 , comp:Y , Soto:N , Change: , BEST:Y , depdate0:20170711 , chd:0 , FLEX:N , StayLength: , ptype:I , dep0:ICN , SeatAvail:Y , AirLine:7C , JSON:Y , inf:0 , SeatType:A , enc:u , arr0:NRT , SplitNo:100 , trip:OW , \n"
     ]
    },
    {
     "name": "stderr",
     "output_type": "stream",
     "text": [
      "2017-06-29 09:12:04,435 root     DEBUG    Crawling Interpark domastic schedule site\n"
     ]
    },
    {
     "name": "stdout",
     "output_type": "stream",
     "text": [
      "End Simple crawling\n",
      "Start Simple crawling :  http://smartair.interpark.com/HtmlSearch/GetGoodsSmartList.aspx\n",
      ">> Parameters\n",
      "adt:1 , comp:Y , Soto:N , Change: , BEST:Y , depdate0:20170711 , chd:0 , FLEX:N , StayLength: , ptype:I , dep0:ICN , SeatAvail:Y , AirLine:TW , JSON:Y , inf:0 , SeatType:A , enc:u , arr0:NRT , SplitNo:100 , trip:OW , \n"
     ]
    },
    {
     "name": "stderr",
     "output_type": "stream",
     "text": [
      "2017-06-29 09:12:06,660 root     DEBUG    Crawling Interpark domastic schedule site\n"
     ]
    },
    {
     "name": "stdout",
     "output_type": "stream",
     "text": [
      "End Simple crawling\n",
      "Start Simple crawling :  http://smartair.interpark.com/HtmlSearch/GetGoodsSmartList.aspx\n",
      ">> Parameters\n",
      "adt:1 , comp:Y , Soto:N , Change: , BEST:Y , depdate0:20170711 , chd:0 , FLEX:N , StayLength: , ptype:I , dep0:ICN , SeatAvail:Y , AirLine:LJ , JSON:Y , inf:0 , SeatType:A , enc:u , arr0:NRT , SplitNo:100 , trip:OW , \n"
     ]
    },
    {
     "name": "stderr",
     "output_type": "stream",
     "text": [
      "2017-06-29 09:12:08,812 root     DEBUG    Crawling Interpark domastic schedule site\n"
     ]
    },
    {
     "name": "stdout",
     "output_type": "stream",
     "text": [
      "End Simple crawling\n",
      "Start Simple crawling :  http://smartair.interpark.com/HtmlSearch/GetGoodsSmartList.aspx\n",
      ">> Parameters\n",
      "adt:1 , comp:Y , Soto:N , Change: , BEST:Y , depdate0:20170711 , chd:0 , FLEX:N , StayLength: , ptype:I , dep0:ICN , SeatAvail:Y , AirLine:ZE , JSON:Y , inf:0 , SeatType:A , enc:u , arr0:NRT , SplitNo:100 , trip:OW , \n"
     ]
    },
    {
     "name": "stderr",
     "output_type": "stream",
     "text": [
      "2017-06-29 09:12:10,900 root     DEBUG    GMP-CJU :: ['IP', '7C', 'TW', 'LJ', 'BX', 'ZE']\n",
      "2017-06-29 09:12:10,902 root     DEBUG    ICN-NRT :: ['IP', '7C', 'TW', 'LJ', 'ZE']\n",
      "2017-06-29 09:12:10,905 root     DEBUG    Crawling Interpark domastic schedule site\n"
     ]
    },
    {
     "name": "stdout",
     "output_type": "stream",
     "text": [
      "End Simple crawling\n",
      "Start Simple crawling :  http://smartair.interpark.com/HtmlSearch/GetGoodsSmartList.aspx\n",
      ">> Parameters\n",
      "adt:1 , comp:Y , Soto:N , Change: , BEST:Y , depdate0:20170712 , chd:0 , FLEX:N , StayLength: , ptype:I , dep0:ICN , SeatAvail:Y , AirLine:7C , JSON:Y , inf:0 , SeatType:A , enc:u , arr0:NRT , SplitNo:100 , trip:OW , \n"
     ]
    },
    {
     "name": "stderr",
     "output_type": "stream",
     "text": [
      "2017-06-29 09:12:11,935 root     DEBUG    Crawling Interpark domastic schedule site\n"
     ]
    },
    {
     "name": "stdout",
     "output_type": "stream",
     "text": [
      "End Simple crawling\n",
      "Start Simple crawling :  http://smartair.interpark.com/HtmlSearch/GetGoodsSmartList.aspx\n",
      ">> Parameters\n",
      "adt:1 , comp:Y , Soto:N , Change: , BEST:Y , depdate0:20170712 , chd:0 , FLEX:N , StayLength: , ptype:I , dep0:ICN , SeatAvail:Y , AirLine:TW , JSON:Y , inf:0 , SeatType:A , enc:u , arr0:NRT , SplitNo:100 , trip:OW , \n"
     ]
    },
    {
     "name": "stderr",
     "output_type": "stream",
     "text": [
      "2017-06-29 09:12:14,133 root     DEBUG    Crawling Interpark domastic schedule site\n"
     ]
    },
    {
     "name": "stdout",
     "output_type": "stream",
     "text": [
      "End Simple crawling\n",
      "Start Simple crawling :  http://smartair.interpark.com/HtmlSearch/GetGoodsSmartList.aspx\n",
      ">> Parameters\n",
      "adt:1 , comp:Y , Soto:N , Change: , BEST:Y , depdate0:20170712 , chd:0 , FLEX:N , StayLength: , ptype:I , dep0:ICN , SeatAvail:Y , AirLine:LJ , JSON:Y , inf:0 , SeatType:A , enc:u , arr0:NRT , SplitNo:100 , trip:OW , \n"
     ]
    },
    {
     "name": "stderr",
     "output_type": "stream",
     "text": [
      "2017-06-29 09:12:16,467 root     DEBUG    Crawling Interpark domastic schedule site\n"
     ]
    },
    {
     "name": "stdout",
     "output_type": "stream",
     "text": [
      "End Simple crawling\n",
      "Start Simple crawling :  http://smartair.interpark.com/HtmlSearch/GetGoodsSmartList.aspx\n",
      ">> Parameters\n",
      "adt:1 , comp:Y , Soto:N , Change: , BEST:Y , depdate0:20170712 , chd:0 , FLEX:N , StayLength: , ptype:I , dep0:ICN , SeatAvail:Y , AirLine:ZE , JSON:Y , inf:0 , SeatType:A , enc:u , arr0:NRT , SplitNo:100 , trip:OW , \n"
     ]
    },
    {
     "name": "stderr",
     "output_type": "stream",
     "text": [
      "2017-06-29 09:12:18,628 root     DEBUG    GMP-CJU :: ['IP', '7C', 'TW', 'LJ', 'BX', 'ZE']\n",
      "2017-06-29 09:12:18,630 root     DEBUG    ICN-NRT :: ['IP', '7C', 'TW', 'LJ', 'ZE']\n",
      "2017-06-29 09:12:18,634 root     DEBUG    Crawling Interpark domastic schedule site\n"
     ]
    },
    {
     "name": "stdout",
     "output_type": "stream",
     "text": [
      "End Simple crawling\n",
      "Start Simple crawling :  http://smartair.interpark.com/HtmlSearch/GetGoodsSmartList.aspx\n",
      ">> Parameters\n",
      "adt:1 , comp:Y , Soto:N , Change: , BEST:Y , depdate0:20170713 , chd:0 , FLEX:N , StayLength: , ptype:I , dep0:ICN , SeatAvail:Y , AirLine:7C , JSON:Y , inf:0 , SeatType:A , enc:u , arr0:NRT , SplitNo:100 , trip:OW , \n"
     ]
    },
    {
     "name": "stderr",
     "output_type": "stream",
     "text": [
      "2017-06-29 09:12:19,933 root     DEBUG    Crawling Interpark domastic schedule site\n"
     ]
    },
    {
     "name": "stdout",
     "output_type": "stream",
     "text": [
      "End Simple crawling\n",
      "Start Simple crawling :  http://smartair.interpark.com/HtmlSearch/GetGoodsSmartList.aspx\n",
      ">> Parameters\n",
      "adt:1 , comp:Y , Soto:N , Change: , BEST:Y , depdate0:20170713 , chd:0 , FLEX:N , StayLength: , ptype:I , dep0:ICN , SeatAvail:Y , AirLine:TW , JSON:Y , inf:0 , SeatType:A , enc:u , arr0:NRT , SplitNo:100 , trip:OW , \n"
     ]
    },
    {
     "name": "stderr",
     "output_type": "stream",
     "text": [
      "2017-06-29 09:12:22,211 root     DEBUG    Crawling Interpark domastic schedule site\n"
     ]
    },
    {
     "name": "stdout",
     "output_type": "stream",
     "text": [
      "End Simple crawling\n",
      "Start Simple crawling :  http://smartair.interpark.com/HtmlSearch/GetGoodsSmartList.aspx\n",
      ">> Parameters\n",
      "adt:1 , comp:Y , Soto:N , Change: , BEST:Y , depdate0:20170713 , chd:0 , FLEX:N , StayLength: , ptype:I , dep0:ICN , SeatAvail:Y , AirLine:LJ , JSON:Y , inf:0 , SeatType:A , enc:u , arr0:NRT , SplitNo:100 , trip:OW , \n"
     ]
    },
    {
     "name": "stderr",
     "output_type": "stream",
     "text": [
      "2017-06-29 09:12:24,351 root     DEBUG    Crawling Interpark domastic schedule site\n"
     ]
    },
    {
     "name": "stdout",
     "output_type": "stream",
     "text": [
      "End Simple crawling\n",
      "Start Simple crawling :  http://smartair.interpark.com/HtmlSearch/GetGoodsSmartList.aspx\n",
      ">> Parameters\n",
      "adt:1 , comp:Y , Soto:N , Change: , BEST:Y , depdate0:20170713 , chd:0 , FLEX:N , StayLength: , ptype:I , dep0:ICN , SeatAvail:Y , AirLine:ZE , JSON:Y , inf:0 , SeatType:A , enc:u , arr0:NRT , SplitNo:100 , trip:OW , \n"
     ]
    },
    {
     "name": "stderr",
     "output_type": "stream",
     "text": [
      "2017-06-29 09:12:27,296 root     DEBUG    GMP-CJU :: ['IP', '7C', 'TW', 'LJ', 'BX', 'ZE']\n",
      "2017-06-29 09:12:27,297 root     DEBUG    ICN-NRT :: ['IP', '7C', 'TW', 'LJ', 'ZE']\n",
      "2017-06-29 09:12:27,299 root     DEBUG    Crawling Interpark domastic schedule site\n"
     ]
    },
    {
     "name": "stdout",
     "output_type": "stream",
     "text": [
      "End Simple crawling\n",
      "Start Simple crawling :  http://smartair.interpark.com/HtmlSearch/GetGoodsSmartList.aspx\n",
      ">> Parameters\n",
      "adt:1 , comp:Y , Soto:N , Change: , BEST:Y , depdate0:20170714 , chd:0 , FLEX:N , StayLength: , ptype:I , dep0:ICN , SeatAvail:Y , AirLine:7C , JSON:Y , inf:0 , SeatType:A , enc:u , arr0:NRT , SplitNo:100 , trip:OW , \n"
     ]
    },
    {
     "name": "stderr",
     "output_type": "stream",
     "text": [
      "2017-06-29 09:12:27,975 root     DEBUG    Crawling Interpark domastic schedule site\n"
     ]
    },
    {
     "name": "stdout",
     "output_type": "stream",
     "text": [
      "End Simple crawling\n",
      "Start Simple crawling :  http://smartair.interpark.com/HtmlSearch/GetGoodsSmartList.aspx\n",
      ">> Parameters\n",
      "adt:1 , comp:Y , Soto:N , Change: , BEST:Y , depdate0:20170714 , chd:0 , FLEX:N , StayLength: , ptype:I , dep0:ICN , SeatAvail:Y , AirLine:TW , JSON:Y , inf:0 , SeatType:A , enc:u , arr0:NRT , SplitNo:100 , trip:OW , \n"
     ]
    },
    {
     "name": "stderr",
     "output_type": "stream",
     "text": [
      "2017-06-29 09:12:30,052 root     DEBUG    Crawling Interpark domastic schedule site\n"
     ]
    },
    {
     "name": "stdout",
     "output_type": "stream",
     "text": [
      "End Simple crawling\n",
      "Start Simple crawling :  http://smartair.interpark.com/HtmlSearch/GetGoodsSmartList.aspx\n",
      ">> Parameters\n",
      "adt:1 , comp:Y , Soto:N , Change: , BEST:Y , depdate0:20170714 , chd:0 , FLEX:N , StayLength: , ptype:I , dep0:ICN , SeatAvail:Y , AirLine:LJ , JSON:Y , inf:0 , SeatType:A , enc:u , arr0:NRT , SplitNo:100 , trip:OW , \n"
     ]
    },
    {
     "name": "stderr",
     "output_type": "stream",
     "text": [
      "2017-06-29 09:12:32,075 root     DEBUG    Crawling Interpark domastic schedule site\n"
     ]
    },
    {
     "name": "stdout",
     "output_type": "stream",
     "text": [
      "End Simple crawling\n",
      "Start Simple crawling :  http://smartair.interpark.com/HtmlSearch/GetGoodsSmartList.aspx\n",
      ">> Parameters\n",
      "adt:1 , comp:Y , Soto:N , Change: , BEST:Y , depdate0:20170714 , chd:0 , FLEX:N , StayLength: , ptype:I , dep0:ICN , SeatAvail:Y , AirLine:ZE , JSON:Y , inf:0 , SeatType:A , enc:u , arr0:NRT , SplitNo:100 , trip:OW , \n"
     ]
    },
    {
     "name": "stderr",
     "output_type": "stream",
     "text": [
      "2017-06-29 09:12:34,240 root     DEBUG    GMP-CJU :: ['IP', '7C', 'TW', 'LJ', 'BX', 'ZE']\n",
      "2017-06-29 09:12:34,243 root     DEBUG    ICN-NRT :: ['IP', '7C', 'TW', 'LJ', 'ZE']\n",
      "2017-06-29 09:12:34,245 root     DEBUG    Crawling Interpark domastic schedule site\n"
     ]
    },
    {
     "name": "stdout",
     "output_type": "stream",
     "text": [
      "End Simple crawling\n",
      "Start Simple crawling :  http://smartair.interpark.com/HtmlSearch/GetGoodsSmartList.aspx\n",
      ">> Parameters\n",
      "adt:1 , comp:Y , Soto:N , Change: , BEST:Y , depdate0:20170715 , chd:0 , FLEX:N , StayLength: , ptype:I , dep0:ICN , SeatAvail:Y , AirLine:7C , JSON:Y , inf:0 , SeatType:A , enc:u , arr0:NRT , SplitNo:100 , trip:OW , \n"
     ]
    },
    {
     "name": "stderr",
     "output_type": "stream",
     "text": [
      "2017-06-29 09:12:34,957 root     DEBUG    Crawling Interpark domastic schedule site\n"
     ]
    },
    {
     "name": "stdout",
     "output_type": "stream",
     "text": [
      "End Simple crawling\n",
      "Start Simple crawling :  http://smartair.interpark.com/HtmlSearch/GetGoodsSmartList.aspx\n",
      ">> Parameters\n",
      "adt:1 , comp:Y , Soto:N , Change: , BEST:Y , depdate0:20170715 , chd:0 , FLEX:N , StayLength: , ptype:I , dep0:ICN , SeatAvail:Y , AirLine:TW , JSON:Y , inf:0 , SeatType:A , enc:u , arr0:NRT , SplitNo:100 , trip:OW , \n"
     ]
    },
    {
     "name": "stderr",
     "output_type": "stream",
     "text": [
      "2017-06-29 09:12:37,073 root     DEBUG    Crawling Interpark domastic schedule site\n"
     ]
    },
    {
     "name": "stdout",
     "output_type": "stream",
     "text": [
      "End Simple crawling\n",
      "Start Simple crawling :  http://smartair.interpark.com/HtmlSearch/GetGoodsSmartList.aspx\n",
      ">> Parameters\n",
      "adt:1 , comp:Y , Soto:N , Change: , BEST:Y , depdate0:20170715 , chd:0 , FLEX:N , StayLength: , ptype:I , dep0:ICN , SeatAvail:Y , AirLine:LJ , JSON:Y , inf:0 , SeatType:A , enc:u , arr0:NRT , SplitNo:100 , trip:OW , \n"
     ]
    },
    {
     "name": "stderr",
     "output_type": "stream",
     "text": [
      "2017-06-29 09:12:39,138 root     DEBUG    Crawling Interpark domastic schedule site\n"
     ]
    },
    {
     "name": "stdout",
     "output_type": "stream",
     "text": [
      "End Simple crawling\n",
      "Start Simple crawling :  http://smartair.interpark.com/HtmlSearch/GetGoodsSmartList.aspx\n",
      ">> Parameters\n",
      "adt:1 , comp:Y , Soto:N , Change: , BEST:Y , depdate0:20170715 , chd:0 , FLEX:N , StayLength: , ptype:I , dep0:ICN , SeatAvail:Y , AirLine:ZE , JSON:Y , inf:0 , SeatType:A , enc:u , arr0:NRT , SplitNo:100 , trip:OW , \n"
     ]
    },
    {
     "name": "stderr",
     "output_type": "stream",
     "text": [
      "2017-06-29 09:12:41,270 root     DEBUG    GMP-CJU :: ['IP', '7C', 'TW', 'LJ', 'BX', 'ZE']\n",
      "2017-06-29 09:12:41,272 root     DEBUG    ICN-NRT :: ['IP', '7C', 'TW', 'LJ', 'ZE']\n",
      "2017-06-29 09:12:41,275 root     DEBUG    Crawling Interpark domastic schedule site\n"
     ]
    },
    {
     "name": "stdout",
     "output_type": "stream",
     "text": [
      "End Simple crawling\n",
      "Start Simple crawling :  http://smartair.interpark.com/HtmlSearch/GetGoodsSmartList.aspx\n",
      ">> Parameters\n",
      "adt:1 , comp:Y , Soto:N , Change: , BEST:Y , depdate0:20170716 , chd:0 , FLEX:N , StayLength: , ptype:I , dep0:ICN , SeatAvail:Y , AirLine:7C , JSON:Y , inf:0 , SeatType:A , enc:u , arr0:NRT , SplitNo:100 , trip:OW , \n"
     ]
    },
    {
     "name": "stderr",
     "output_type": "stream",
     "text": [
      "2017-06-29 09:12:41,985 root     DEBUG    Crawling Interpark domastic schedule site\n"
     ]
    },
    {
     "name": "stdout",
     "output_type": "stream",
     "text": [
      "End Simple crawling\n",
      "Start Simple crawling :  http://smartair.interpark.com/HtmlSearch/GetGoodsSmartList.aspx\n",
      ">> Parameters\n",
      "adt:1 , comp:Y , Soto:N , Change: , BEST:Y , depdate0:20170716 , chd:0 , FLEX:N , StayLength: , ptype:I , dep0:ICN , SeatAvail:Y , AirLine:TW , JSON:Y , inf:0 , SeatType:A , enc:u , arr0:NRT , SplitNo:100 , trip:OW , \n"
     ]
    },
    {
     "name": "stderr",
     "output_type": "stream",
     "text": [
      "2017-06-29 09:12:44,124 root     DEBUG    Crawling Interpark domastic schedule site\n"
     ]
    },
    {
     "name": "stdout",
     "output_type": "stream",
     "text": [
      "End Simple crawling\n",
      "Start Simple crawling :  http://smartair.interpark.com/HtmlSearch/GetGoodsSmartList.aspx\n",
      ">> Parameters\n",
      "adt:1 , comp:Y , Soto:N , Change: , BEST:Y , depdate0:20170716 , chd:0 , FLEX:N , StayLength: , ptype:I , dep0:ICN , SeatAvail:Y , AirLine:LJ , JSON:Y , inf:0 , SeatType:A , enc:u , arr0:NRT , SplitNo:100 , trip:OW , \n"
     ]
    },
    {
     "name": "stderr",
     "output_type": "stream",
     "text": [
      "2017-06-29 09:12:46,120 root     DEBUG    Crawling Interpark domastic schedule site\n"
     ]
    },
    {
     "name": "stdout",
     "output_type": "stream",
     "text": [
      "End Simple crawling\n",
      "Start Simple crawling :  http://smartair.interpark.com/HtmlSearch/GetGoodsSmartList.aspx\n",
      ">> Parameters\n",
      "adt:1 , comp:Y , Soto:N , Change: , BEST:Y , depdate0:20170716 , chd:0 , FLEX:N , StayLength: , ptype:I , dep0:ICN , SeatAvail:Y , AirLine:ZE , JSON:Y , inf:0 , SeatType:A , enc:u , arr0:NRT , SplitNo:100 , trip:OW , \n"
     ]
    },
    {
     "name": "stderr",
     "output_type": "stream",
     "text": [
      "2017-06-29 09:12:48,212 root     DEBUG    GMP-CJU :: ['IP', '7C', 'TW', 'LJ', 'BX', 'ZE']\n",
      "2017-06-29 09:12:48,214 root     DEBUG    ICN-NRT :: ['IP', '7C', 'TW', 'LJ', 'ZE']\n",
      "2017-06-29 09:12:48,215 root     DEBUG    Crawling Interpark domastic schedule site\n"
     ]
    },
    {
     "name": "stdout",
     "output_type": "stream",
     "text": [
      "End Simple crawling\n",
      "Start Simple crawling :  http://smartair.interpark.com/HtmlSearch/GetGoodsSmartList.aspx\n",
      ">> Parameters\n",
      "adt:1 , comp:Y , Soto:N , Change: , BEST:Y , depdate0:20170717 , chd:0 , FLEX:N , StayLength: , ptype:I , dep0:ICN , SeatAvail:Y , AirLine:7C , JSON:Y , inf:0 , SeatType:A , enc:u , arr0:NRT , SplitNo:100 , trip:OW , \n"
     ]
    },
    {
     "name": "stderr",
     "output_type": "stream",
     "text": [
      "2017-06-29 09:12:48,800 root     DEBUG    Crawling Interpark domastic schedule site\n"
     ]
    },
    {
     "name": "stdout",
     "output_type": "stream",
     "text": [
      "End Simple crawling\n",
      "Start Simple crawling :  http://smartair.interpark.com/HtmlSearch/GetGoodsSmartList.aspx\n",
      ">> Parameters\n",
      "adt:1 , comp:Y , Soto:N , Change: , BEST:Y , depdate0:20170717 , chd:0 , FLEX:N , StayLength: , ptype:I , dep0:ICN , SeatAvail:Y , AirLine:TW , JSON:Y , inf:0 , SeatType:A , enc:u , arr0:NRT , SplitNo:100 , trip:OW , \n"
     ]
    },
    {
     "name": "stderr",
     "output_type": "stream",
     "text": [
      "2017-06-29 09:12:50,868 root     DEBUG    Crawling Interpark domastic schedule site\n"
     ]
    },
    {
     "name": "stdout",
     "output_type": "stream",
     "text": [
      "End Simple crawling\n",
      "Start Simple crawling :  http://smartair.interpark.com/HtmlSearch/GetGoodsSmartList.aspx\n",
      ">> Parameters\n",
      "adt:1 , comp:Y , Soto:N , Change: , BEST:Y , depdate0:20170717 , chd:0 , FLEX:N , StayLength: , ptype:I , dep0:ICN , SeatAvail:Y , AirLine:LJ , JSON:Y , inf:0 , SeatType:A , enc:u , arr0:NRT , SplitNo:100 , trip:OW , \n"
     ]
    },
    {
     "name": "stderr",
     "output_type": "stream",
     "text": [
      "2017-06-29 09:12:52,945 root     DEBUG    Crawling Interpark domastic schedule site\n"
     ]
    },
    {
     "name": "stdout",
     "output_type": "stream",
     "text": [
      "End Simple crawling\n",
      "Start Simple crawling :  http://smartair.interpark.com/HtmlSearch/GetGoodsSmartList.aspx\n",
      ">> Parameters\n",
      "adt:1 , comp:Y , Soto:N , Change: , BEST:Y , depdate0:20170717 , chd:0 , FLEX:N , StayLength: , ptype:I , dep0:ICN , SeatAvail:Y , AirLine:ZE , JSON:Y , inf:0 , SeatType:A , enc:u , arr0:NRT , SplitNo:100 , trip:OW , \n"
     ]
    },
    {
     "name": "stderr",
     "output_type": "stream",
     "text": [
      "2017-06-29 09:12:55,014 root     DEBUG    GMP-CJU :: ['IP', '7C', 'TW', 'LJ', 'BX', 'ZE']\n",
      "2017-06-29 09:12:55,016 root     DEBUG    ICN-NRT :: ['IP', '7C', 'TW', 'LJ', 'ZE']\n",
      "2017-06-29 09:12:55,018 root     DEBUG    Crawling Interpark domastic schedule site\n"
     ]
    },
    {
     "name": "stdout",
     "output_type": "stream",
     "text": [
      "End Simple crawling\n",
      "Start Simple crawling :  http://smartair.interpark.com/HtmlSearch/GetGoodsSmartList.aspx\n",
      ">> Parameters\n",
      "adt:1 , comp:Y , Soto:N , Change: , BEST:Y , depdate0:20170718 , chd:0 , FLEX:N , StayLength: , ptype:I , dep0:ICN , SeatAvail:Y , AirLine:7C , JSON:Y , inf:0 , SeatType:A , enc:u , arr0:NRT , SplitNo:100 , trip:OW , \n"
     ]
    },
    {
     "name": "stderr",
     "output_type": "stream",
     "text": [
      "2017-06-29 09:12:56,111 root     DEBUG    Crawling Interpark domastic schedule site\n"
     ]
    },
    {
     "name": "stdout",
     "output_type": "stream",
     "text": [
      "End Simple crawling\n",
      "Start Simple crawling :  http://smartair.interpark.com/HtmlSearch/GetGoodsSmartList.aspx\n",
      ">> Parameters\n",
      "adt:1 , comp:Y , Soto:N , Change: , BEST:Y , depdate0:20170718 , chd:0 , FLEX:N , StayLength: , ptype:I , dep0:ICN , SeatAvail:Y , AirLine:TW , JSON:Y , inf:0 , SeatType:A , enc:u , arr0:NRT , SplitNo:100 , trip:OW , \n"
     ]
    },
    {
     "name": "stderr",
     "output_type": "stream",
     "text": [
      "2017-06-29 09:12:58,364 root     DEBUG    Crawling Interpark domastic schedule site\n"
     ]
    },
    {
     "name": "stdout",
     "output_type": "stream",
     "text": [
      "End Simple crawling\n",
      "Start Simple crawling :  http://smartair.interpark.com/HtmlSearch/GetGoodsSmartList.aspx\n",
      ">> Parameters\n",
      "adt:1 , comp:Y , Soto:N , Change: , BEST:Y , depdate0:20170718 , chd:0 , FLEX:N , StayLength: , ptype:I , dep0:ICN , SeatAvail:Y , AirLine:LJ , JSON:Y , inf:0 , SeatType:A , enc:u , arr0:NRT , SplitNo:100 , trip:OW , \n"
     ]
    },
    {
     "name": "stderr",
     "output_type": "stream",
     "text": [
      "2017-06-29 09:13:00,428 root     DEBUG    Crawling Interpark domastic schedule site\n"
     ]
    },
    {
     "name": "stdout",
     "output_type": "stream",
     "text": [
      "End Simple crawling\n",
      "Start Simple crawling :  http://smartair.interpark.com/HtmlSearch/GetGoodsSmartList.aspx\n",
      ">> Parameters\n",
      "adt:1 , comp:Y , Soto:N , Change: , BEST:Y , depdate0:20170718 , chd:0 , FLEX:N , StayLength: , ptype:I , dep0:ICN , SeatAvail:Y , AirLine:ZE , JSON:Y , inf:0 , SeatType:A , enc:u , arr0:NRT , SplitNo:100 , trip:OW , \n"
     ]
    },
    {
     "name": "stderr",
     "output_type": "stream",
     "text": [
      "2017-06-29 09:13:04,114 root     DEBUG    GMP-CJU :: ['IP', '7C', 'TW', 'LJ', 'BX', 'ZE']\n",
      "2017-06-29 09:13:04,116 root     DEBUG    ICN-NRT :: ['IP', '7C', 'TW', 'LJ', 'ZE']\n",
      "2017-06-29 09:13:04,118 root     DEBUG    Crawling Interpark domastic schedule site\n"
     ]
    },
    {
     "name": "stdout",
     "output_type": "stream",
     "text": [
      "End Simple crawling\n",
      "Start Simple crawling :  http://smartair.interpark.com/HtmlSearch/GetGoodsSmartList.aspx\n",
      ">> Parameters\n",
      "adt:1 , comp:Y , Soto:N , Change: , BEST:Y , depdate0:20170719 , chd:0 , FLEX:N , StayLength: , ptype:I , dep0:ICN , SeatAvail:Y , AirLine:7C , JSON:Y , inf:0 , SeatType:A , enc:u , arr0:NRT , SplitNo:100 , trip:OW , \n"
     ]
    },
    {
     "name": "stderr",
     "output_type": "stream",
     "text": [
      "2017-06-29 09:13:04,777 root     DEBUG    Crawling Interpark domastic schedule site\n"
     ]
    },
    {
     "name": "stdout",
     "output_type": "stream",
     "text": [
      "End Simple crawling\n",
      "Start Simple crawling :  http://smartair.interpark.com/HtmlSearch/GetGoodsSmartList.aspx\n",
      ">> Parameters\n",
      "adt:1 , comp:Y , Soto:N , Change: , BEST:Y , depdate0:20170719 , chd:0 , FLEX:N , StayLength: , ptype:I , dep0:ICN , SeatAvail:Y , AirLine:TW , JSON:Y , inf:0 , SeatType:A , enc:u , arr0:NRT , SplitNo:100 , trip:OW , \n"
     ]
    },
    {
     "name": "stderr",
     "output_type": "stream",
     "text": [
      "2017-06-29 09:13:06,935 root     DEBUG    Crawling Interpark domastic schedule site\n"
     ]
    },
    {
     "name": "stdout",
     "output_type": "stream",
     "text": [
      "End Simple crawling\n",
      "Start Simple crawling :  http://smartair.interpark.com/HtmlSearch/GetGoodsSmartList.aspx\n",
      ">> Parameters\n",
      "adt:1 , comp:Y , Soto:N , Change: , BEST:Y , depdate0:20170719 , chd:0 , FLEX:N , StayLength: , ptype:I , dep0:ICN , SeatAvail:Y , AirLine:LJ , JSON:Y , inf:0 , SeatType:A , enc:u , arr0:NRT , SplitNo:100 , trip:OW , \n"
     ]
    },
    {
     "name": "stderr",
     "output_type": "stream",
     "text": [
      "2017-06-29 09:13:09,022 root     DEBUG    Crawling Interpark domastic schedule site\n"
     ]
    },
    {
     "name": "stdout",
     "output_type": "stream",
     "text": [
      "End Simple crawling\n",
      "Start Simple crawling :  http://smartair.interpark.com/HtmlSearch/GetGoodsSmartList.aspx\n",
      ">> Parameters\n",
      "adt:1 , comp:Y , Soto:N , Change: , BEST:Y , depdate0:20170719 , chd:0 , FLEX:N , StayLength: , ptype:I , dep0:ICN , SeatAvail:Y , AirLine:ZE , JSON:Y , inf:0 , SeatType:A , enc:u , arr0:NRT , SplitNo:100 , trip:OW , \n"
     ]
    },
    {
     "name": "stderr",
     "output_type": "stream",
     "text": [
      "2017-06-29 09:13:11,889 root     DEBUG    GMP-CJU :: ['IP', '7C', 'TW', 'LJ', 'BX', 'ZE']\n",
      "2017-06-29 09:13:11,891 root     DEBUG    ICN-NRT :: ['IP', '7C', 'TW', 'LJ', 'ZE']\n",
      "2017-06-29 09:13:11,892 root     DEBUG    Crawling Interpark domastic schedule site\n"
     ]
    },
    {
     "name": "stdout",
     "output_type": "stream",
     "text": [
      "End Simple crawling\n",
      "Start Simple crawling :  http://smartair.interpark.com/HtmlSearch/GetGoodsSmartList.aspx\n",
      ">> Parameters\n",
      "adt:1 , comp:Y , Soto:N , Change: , BEST:Y , depdate0:20170720 , chd:0 , FLEX:N , StayLength: , ptype:I , dep0:ICN , SeatAvail:Y , AirLine:7C , JSON:Y , inf:0 , SeatType:A , enc:u , arr0:NRT , SplitNo:100 , trip:OW , \n"
     ]
    },
    {
     "name": "stderr",
     "output_type": "stream",
     "text": [
      "2017-06-29 09:13:12,832 root     DEBUG    Crawling Interpark domastic schedule site\n"
     ]
    },
    {
     "name": "stdout",
     "output_type": "stream",
     "text": [
      "End Simple crawling\n",
      "Start Simple crawling :  http://smartair.interpark.com/HtmlSearch/GetGoodsSmartList.aspx\n",
      ">> Parameters\n",
      "adt:1 , comp:Y , Soto:N , Change: , BEST:Y , depdate0:20170720 , chd:0 , FLEX:N , StayLength: , ptype:I , dep0:ICN , SeatAvail:Y , AirLine:TW , JSON:Y , inf:0 , SeatType:A , enc:u , arr0:NRT , SplitNo:100 , trip:OW , \n"
     ]
    },
    {
     "name": "stderr",
     "output_type": "stream",
     "text": [
      "2017-06-29 09:13:15,307 root     DEBUG    Crawling Interpark domastic schedule site\n"
     ]
    },
    {
     "name": "stdout",
     "output_type": "stream",
     "text": [
      "End Simple crawling\n",
      "Start Simple crawling :  http://smartair.interpark.com/HtmlSearch/GetGoodsSmartList.aspx\n",
      ">> Parameters\n",
      "adt:1 , comp:Y , Soto:N , Change: , BEST:Y , depdate0:20170720 , chd:0 , FLEX:N , StayLength: , ptype:I , dep0:ICN , SeatAvail:Y , AirLine:LJ , JSON:Y , inf:0 , SeatType:A , enc:u , arr0:NRT , SplitNo:100 , trip:OW , \n"
     ]
    },
    {
     "name": "stderr",
     "output_type": "stream",
     "text": [
      "2017-06-29 09:13:17,456 root     DEBUG    Crawling Interpark domastic schedule site\n"
     ]
    },
    {
     "name": "stdout",
     "output_type": "stream",
     "text": [
      "End Simple crawling\n",
      "Start Simple crawling :  http://smartair.interpark.com/HtmlSearch/GetGoodsSmartList.aspx\n",
      ">> Parameters\n",
      "adt:1 , comp:Y , Soto:N , Change: , BEST:Y , depdate0:20170720 , chd:0 , FLEX:N , StayLength: , ptype:I , dep0:ICN , SeatAvail:Y , AirLine:ZE , JSON:Y , inf:0 , SeatType:A , enc:u , arr0:NRT , SplitNo:100 , trip:OW , \n"
     ]
    },
    {
     "name": "stderr",
     "output_type": "stream",
     "text": [
      "2017-06-29 09:13:19,622 root     DEBUG    GMP-CJU :: ['IP', '7C', 'TW', 'LJ', 'BX', 'ZE']\n",
      "2017-06-29 09:13:19,624 root     DEBUG    ICN-NRT :: ['IP', '7C', 'TW', 'LJ', 'ZE']\n",
      "2017-06-29 09:13:19,626 root     DEBUG    Crawling Interpark domastic schedule site\n"
     ]
    },
    {
     "name": "stdout",
     "output_type": "stream",
     "text": [
      "End Simple crawling\n",
      "Start Simple crawling :  http://smartair.interpark.com/HtmlSearch/GetGoodsSmartList.aspx\n",
      ">> Parameters\n",
      "adt:1 , comp:Y , Soto:N , Change: , BEST:Y , depdate0:20170721 , chd:0 , FLEX:N , StayLength: , ptype:I , dep0:ICN , SeatAvail:Y , AirLine:7C , JSON:Y , inf:0 , SeatType:A , enc:u , arr0:NRT , SplitNo:100 , trip:OW , \n"
     ]
    },
    {
     "name": "stderr",
     "output_type": "stream",
     "text": [
      "2017-06-29 09:13:20,522 root     DEBUG    Crawling Interpark domastic schedule site\n"
     ]
    },
    {
     "name": "stdout",
     "output_type": "stream",
     "text": [
      "End Simple crawling\n",
      "Start Simple crawling :  http://smartair.interpark.com/HtmlSearch/GetGoodsSmartList.aspx\n",
      ">> Parameters\n",
      "adt:1 , comp:Y , Soto:N , Change: , BEST:Y , depdate0:20170721 , chd:0 , FLEX:N , StayLength: , ptype:I , dep0:ICN , SeatAvail:Y , AirLine:TW , JSON:Y , inf:0 , SeatType:A , enc:u , arr0:NRT , SplitNo:100 , trip:OW , \n"
     ]
    },
    {
     "name": "stderr",
     "output_type": "stream",
     "text": [
      "2017-06-29 09:13:22,691 root     DEBUG    Crawling Interpark domastic schedule site\n"
     ]
    },
    {
     "name": "stdout",
     "output_type": "stream",
     "text": [
      "End Simple crawling\n",
      "Start Simple crawling :  http://smartair.interpark.com/HtmlSearch/GetGoodsSmartList.aspx\n",
      ">> Parameters\n",
      "adt:1 , comp:Y , Soto:N , Change: , BEST:Y , depdate0:20170721 , chd:0 , FLEX:N , StayLength: , ptype:I , dep0:ICN , SeatAvail:Y , AirLine:LJ , JSON:Y , inf:0 , SeatType:A , enc:u , arr0:NRT , SplitNo:100 , trip:OW , \n"
     ]
    },
    {
     "name": "stderr",
     "output_type": "stream",
     "text": [
      "2017-06-29 09:13:24,708 root     DEBUG    Crawling Interpark domastic schedule site\n"
     ]
    },
    {
     "name": "stdout",
     "output_type": "stream",
     "text": [
      "End Simple crawling\n",
      "Start Simple crawling :  http://smartair.interpark.com/HtmlSearch/GetGoodsSmartList.aspx\n",
      ">> Parameters\n",
      "adt:1 , comp:Y , Soto:N , Change: , BEST:Y , depdate0:20170721 , chd:0 , FLEX:N , StayLength: , ptype:I , dep0:ICN , SeatAvail:Y , AirLine:ZE , JSON:Y , inf:0 , SeatType:A , enc:u , arr0:NRT , SplitNo:100 , trip:OW , \n"
     ]
    },
    {
     "name": "stderr",
     "output_type": "stream",
     "text": [
      "2017-06-29 09:13:27,723 root     DEBUG    GMP-CJU :: ['IP', '7C', 'TW', 'LJ', 'BX', 'ZE']\n",
      "2017-06-29 09:13:27,724 root     DEBUG    ICN-NRT :: ['IP', '7C', 'TW', 'LJ', 'ZE']\n",
      "2017-06-29 09:13:27,726 root     DEBUG    Crawling Interpark domastic schedule site\n"
     ]
    },
    {
     "name": "stdout",
     "output_type": "stream",
     "text": [
      "End Simple crawling\n",
      "Start Simple crawling :  http://smartair.interpark.com/HtmlSearch/GetGoodsSmartList.aspx\n",
      ">> Parameters\n",
      "adt:1 , comp:Y , Soto:N , Change: , BEST:Y , depdate0:20170722 , chd:0 , FLEX:N , StayLength: , ptype:I , dep0:ICN , SeatAvail:Y , AirLine:7C , JSON:Y , inf:0 , SeatType:A , enc:u , arr0:NRT , SplitNo:100 , trip:OW , \n"
     ]
    },
    {
     "name": "stderr",
     "output_type": "stream",
     "text": [
      "2017-06-29 09:13:28,795 root     DEBUG    Crawling Interpark domastic schedule site\n"
     ]
    },
    {
     "name": "stdout",
     "output_type": "stream",
     "text": [
      "End Simple crawling\n",
      "Start Simple crawling :  http://smartair.interpark.com/HtmlSearch/GetGoodsSmartList.aspx\n",
      ">> Parameters\n",
      "adt:1 , comp:Y , Soto:N , Change: , BEST:Y , depdate0:20170722 , chd:0 , FLEX:N , StayLength: , ptype:I , dep0:ICN , SeatAvail:Y , AirLine:TW , JSON:Y , inf:0 , SeatType:A , enc:u , arr0:NRT , SplitNo:100 , trip:OW , \n"
     ]
    },
    {
     "name": "stderr",
     "output_type": "stream",
     "text": [
      "2017-06-29 09:13:30,919 root     DEBUG    Crawling Interpark domastic schedule site\n"
     ]
    },
    {
     "name": "stdout",
     "output_type": "stream",
     "text": [
      "End Simple crawling\n",
      "Start Simple crawling :  http://smartair.interpark.com/HtmlSearch/GetGoodsSmartList.aspx\n",
      ">> Parameters\n",
      "adt:1 , comp:Y , Soto:N , Change: , BEST:Y , depdate0:20170722 , chd:0 , FLEX:N , StayLength: , ptype:I , dep0:ICN , SeatAvail:Y , AirLine:LJ , JSON:Y , inf:0 , SeatType:A , enc:u , arr0:NRT , SplitNo:100 , trip:OW , \n"
     ]
    },
    {
     "name": "stderr",
     "output_type": "stream",
     "text": [
      "2017-06-29 09:13:33,055 root     DEBUG    Crawling Interpark domastic schedule site\n"
     ]
    },
    {
     "name": "stdout",
     "output_type": "stream",
     "text": [
      "End Simple crawling\n",
      "Start Simple crawling :  http://smartair.interpark.com/HtmlSearch/GetGoodsSmartList.aspx\n",
      ">> Parameters\n",
      "adt:1 , comp:Y , Soto:N , Change: , BEST:Y , depdate0:20170722 , chd:0 , FLEX:N , StayLength: , ptype:I , dep0:ICN , SeatAvail:Y , AirLine:ZE , JSON:Y , inf:0 , SeatType:A , enc:u , arr0:NRT , SplitNo:100 , trip:OW , \n"
     ]
    },
    {
     "name": "stderr",
     "output_type": "stream",
     "text": [
      "2017-06-29 09:13:35,253 root     DEBUG    GMP-CJU :: ['IP', '7C', 'TW', 'LJ', 'BX', 'ZE']\n",
      "2017-06-29 09:13:35,255 root     DEBUG    ICN-NRT :: ['IP', '7C', 'TW', 'LJ', 'ZE']\n",
      "2017-06-29 09:13:35,257 root     DEBUG    Crawling Interpark domastic schedule site\n"
     ]
    },
    {
     "name": "stdout",
     "output_type": "stream",
     "text": [
      "End Simple crawling\n",
      "Start Simple crawling :  http://smartair.interpark.com/HtmlSearch/GetGoodsSmartList.aspx\n",
      ">> Parameters\n",
      "adt:1 , comp:Y , Soto:N , Change: , BEST:Y , depdate0:20170723 , chd:0 , FLEX:N , StayLength: , ptype:I , dep0:ICN , SeatAvail:Y , AirLine:7C , JSON:Y , inf:0 , SeatType:A , enc:u , arr0:NRT , SplitNo:100 , trip:OW , \n"
     ]
    },
    {
     "name": "stderr",
     "output_type": "stream",
     "text": [
      "2017-06-29 09:13:36,150 root     DEBUG    Crawling Interpark domastic schedule site\n"
     ]
    },
    {
     "name": "stdout",
     "output_type": "stream",
     "text": [
      "End Simple crawling\n",
      "Start Simple crawling :  http://smartair.interpark.com/HtmlSearch/GetGoodsSmartList.aspx\n",
      ">> Parameters\n",
      "adt:1 , comp:Y , Soto:N , Change: , BEST:Y , depdate0:20170723 , chd:0 , FLEX:N , StayLength: , ptype:I , dep0:ICN , SeatAvail:Y , AirLine:TW , JSON:Y , inf:0 , SeatType:A , enc:u , arr0:NRT , SplitNo:100 , trip:OW , \n"
     ]
    },
    {
     "name": "stderr",
     "output_type": "stream",
     "text": [
      "2017-06-29 09:13:38,325 root     DEBUG    Crawling Interpark domastic schedule site\n"
     ]
    },
    {
     "name": "stdout",
     "output_type": "stream",
     "text": [
      "End Simple crawling\n",
      "Start Simple crawling :  http://smartair.interpark.com/HtmlSearch/GetGoodsSmartList.aspx\n",
      ">> Parameters\n",
      "adt:1 , comp:Y , Soto:N , Change: , BEST:Y , depdate0:20170723 , chd:0 , FLEX:N , StayLength: , ptype:I , dep0:ICN , SeatAvail:Y , AirLine:LJ , JSON:Y , inf:0 , SeatType:A , enc:u , arr0:NRT , SplitNo:100 , trip:OW , \n"
     ]
    },
    {
     "name": "stderr",
     "output_type": "stream",
     "text": [
      "2017-06-29 09:13:40,342 root     DEBUG    Crawling Interpark domastic schedule site\n"
     ]
    },
    {
     "name": "stdout",
     "output_type": "stream",
     "text": [
      "End Simple crawling\n",
      "Start Simple crawling :  http://smartair.interpark.com/HtmlSearch/GetGoodsSmartList.aspx\n",
      ">> Parameters\n",
      "adt:1 , comp:Y , Soto:N , Change: , BEST:Y , depdate0:20170723 , chd:0 , FLEX:N , StayLength: , ptype:I , dep0:ICN , SeatAvail:Y , AirLine:ZE , JSON:Y , inf:0 , SeatType:A , enc:u , arr0:NRT , SplitNo:100 , trip:OW , \n"
     ]
    },
    {
     "name": "stderr",
     "output_type": "stream",
     "text": [
      "2017-06-29 09:13:43,703 root     DEBUG    GMP-CJU :: ['IP', '7C', 'TW', 'LJ', 'BX', 'ZE']\n",
      "2017-06-29 09:13:43,705 root     DEBUG    ICN-NRT :: ['IP', '7C', 'TW', 'LJ', 'ZE']\n",
      "2017-06-29 09:13:43,707 root     DEBUG    Crawling Interpark domastic schedule site\n"
     ]
    },
    {
     "name": "stdout",
     "output_type": "stream",
     "text": [
      "End Simple crawling\n",
      "Start Simple crawling :  http://smartair.interpark.com/HtmlSearch/GetGoodsSmartList.aspx\n",
      ">> Parameters\n",
      "adt:1 , comp:Y , Soto:N , Change: , BEST:Y , depdate0:20170724 , chd:0 , FLEX:N , StayLength: , ptype:I , dep0:ICN , SeatAvail:Y , AirLine:7C , JSON:Y , inf:0 , SeatType:A , enc:u , arr0:NRT , SplitNo:100 , trip:OW , \n"
     ]
    },
    {
     "name": "stderr",
     "output_type": "stream",
     "text": [
      "2017-06-29 09:13:44,305 root     DEBUG    Crawling Interpark domastic schedule site\n"
     ]
    },
    {
     "name": "stdout",
     "output_type": "stream",
     "text": [
      "End Simple crawling\n",
      "Start Simple crawling :  http://smartair.interpark.com/HtmlSearch/GetGoodsSmartList.aspx\n",
      ">> Parameters\n",
      "adt:1 , comp:Y , Soto:N , Change: , BEST:Y , depdate0:20170724 , chd:0 , FLEX:N , StayLength: , ptype:I , dep0:ICN , SeatAvail:Y , AirLine:TW , JSON:Y , inf:0 , SeatType:A , enc:u , arr0:NRT , SplitNo:100 , trip:OW , \n"
     ]
    },
    {
     "name": "stderr",
     "output_type": "stream",
     "text": [
      "2017-06-29 09:13:46,405 root     DEBUG    Crawling Interpark domastic schedule site\n"
     ]
    },
    {
     "name": "stdout",
     "output_type": "stream",
     "text": [
      "End Simple crawling\n",
      "Start Simple crawling :  http://smartair.interpark.com/HtmlSearch/GetGoodsSmartList.aspx\n",
      ">> Parameters\n",
      "adt:1 , comp:Y , Soto:N , Change: , BEST:Y , depdate0:20170724 , chd:0 , FLEX:N , StayLength: , ptype:I , dep0:ICN , SeatAvail:Y , AirLine:LJ , JSON:Y , inf:0 , SeatType:A , enc:u , arr0:NRT , SplitNo:100 , trip:OW , \n"
     ]
    },
    {
     "name": "stderr",
     "output_type": "stream",
     "text": [
      "2017-06-29 09:13:48,493 root     DEBUG    Crawling Interpark domastic schedule site\n"
     ]
    },
    {
     "name": "stdout",
     "output_type": "stream",
     "text": [
      "End Simple crawling\n",
      "Start Simple crawling :  http://smartair.interpark.com/HtmlSearch/GetGoodsSmartList.aspx\n",
      ">> Parameters\n",
      "adt:1 , comp:Y , Soto:N , Change: , BEST:Y , depdate0:20170724 , chd:0 , FLEX:N , StayLength: , ptype:I , dep0:ICN , SeatAvail:Y , AirLine:ZE , JSON:Y , inf:0 , SeatType:A , enc:u , arr0:NRT , SplitNo:100 , trip:OW , \n"
     ]
    },
    {
     "name": "stderr",
     "output_type": "stream",
     "text": [
      "2017-06-29 09:13:51,027 root     DEBUG    GMP-CJU :: ['IP', '7C', 'TW', 'LJ', 'BX', 'ZE']\n",
      "2017-06-29 09:13:51,029 root     DEBUG    ICN-NRT :: ['IP', '7C', 'TW', 'LJ', 'ZE']\n",
      "2017-06-29 09:13:51,031 root     DEBUG    Crawling Interpark domastic schedule site\n"
     ]
    },
    {
     "name": "stdout",
     "output_type": "stream",
     "text": [
      "End Simple crawling\n",
      "Start Simple crawling :  http://smartair.interpark.com/HtmlSearch/GetGoodsSmartList.aspx\n",
      ">> Parameters\n",
      "adt:1 , comp:Y , Soto:N , Change: , BEST:Y , depdate0:20170725 , chd:0 , FLEX:N , StayLength: , ptype:I , dep0:ICN , SeatAvail:Y , AirLine:7C , JSON:Y , inf:0 , SeatType:A , enc:u , arr0:NRT , SplitNo:100 , trip:OW , \n"
     ]
    },
    {
     "name": "stderr",
     "output_type": "stream",
     "text": [
      "2017-06-29 09:13:51,964 root     DEBUG    Crawling Interpark domastic schedule site\n"
     ]
    },
    {
     "name": "stdout",
     "output_type": "stream",
     "text": [
      "End Simple crawling\n",
      "Start Simple crawling :  http://smartair.interpark.com/HtmlSearch/GetGoodsSmartList.aspx\n",
      ">> Parameters\n",
      "adt:1 , comp:Y , Soto:N , Change: , BEST:Y , depdate0:20170725 , chd:0 , FLEX:N , StayLength: , ptype:I , dep0:ICN , SeatAvail:Y , AirLine:TW , JSON:Y , inf:0 , SeatType:A , enc:u , arr0:NRT , SplitNo:100 , trip:OW , \n"
     ]
    },
    {
     "name": "stderr",
     "output_type": "stream",
     "text": [
      "2017-06-29 09:13:54,126 root     DEBUG    Crawling Interpark domastic schedule site\n"
     ]
    },
    {
     "name": "stdout",
     "output_type": "stream",
     "text": [
      "End Simple crawling\n",
      "Start Simple crawling :  http://smartair.interpark.com/HtmlSearch/GetGoodsSmartList.aspx\n",
      ">> Parameters\n",
      "adt:1 , comp:Y , Soto:N , Change: , BEST:Y , depdate0:20170725 , chd:0 , FLEX:N , StayLength: , ptype:I , dep0:ICN , SeatAvail:Y , AirLine:LJ , JSON:Y , inf:0 , SeatType:A , enc:u , arr0:NRT , SplitNo:100 , trip:OW , \n"
     ]
    },
    {
     "name": "stderr",
     "output_type": "stream",
     "text": [
      "2017-06-29 09:13:56,196 root     DEBUG    Crawling Interpark domastic schedule site\n"
     ]
    },
    {
     "name": "stdout",
     "output_type": "stream",
     "text": [
      "End Simple crawling\n",
      "Start Simple crawling :  http://smartair.interpark.com/HtmlSearch/GetGoodsSmartList.aspx\n",
      ">> Parameters\n",
      "adt:1 , comp:Y , Soto:N , Change: , BEST:Y , depdate0:20170725 , chd:0 , FLEX:N , StayLength: , ptype:I , dep0:ICN , SeatAvail:Y , AirLine:ZE , JSON:Y , inf:0 , SeatType:A , enc:u , arr0:NRT , SplitNo:100 , trip:OW , \n"
     ]
    },
    {
     "name": "stderr",
     "output_type": "stream",
     "text": [
      "2017-06-29 09:13:58,308 root     DEBUG    GMP-CJU :: ['IP', '7C', 'TW', 'LJ', 'BX', 'ZE']\n",
      "2017-06-29 09:13:58,310 root     DEBUG    ICN-NRT :: ['IP', '7C', 'TW', 'LJ', 'ZE']\n",
      "2017-06-29 09:13:58,312 root     DEBUG    Crawling Interpark domastic schedule site\n"
     ]
    },
    {
     "name": "stdout",
     "output_type": "stream",
     "text": [
      "End Simple crawling\n",
      "Start Simple crawling :  http://smartair.interpark.com/HtmlSearch/GetGoodsSmartList.aspx\n",
      ">> Parameters\n",
      "adt:1 , comp:Y , Soto:N , Change: , BEST:Y , depdate0:20170726 , chd:0 , FLEX:N , StayLength: , ptype:I , dep0:ICN , SeatAvail:Y , AirLine:7C , JSON:Y , inf:0 , SeatType:A , enc:u , arr0:NRT , SplitNo:100 , trip:OW , \n"
     ]
    },
    {
     "name": "stderr",
     "output_type": "stream",
     "text": [
      "2017-06-29 09:13:58,999 root     DEBUG    Crawling Interpark domastic schedule site\n"
     ]
    },
    {
     "name": "stdout",
     "output_type": "stream",
     "text": [
      "End Simple crawling\n",
      "Start Simple crawling :  http://smartair.interpark.com/HtmlSearch/GetGoodsSmartList.aspx\n",
      ">> Parameters\n",
      "adt:1 , comp:Y , Soto:N , Change: , BEST:Y , depdate0:20170726 , chd:0 , FLEX:N , StayLength: , ptype:I , dep0:ICN , SeatAvail:Y , AirLine:TW , JSON:Y , inf:0 , SeatType:A , enc:u , arr0:NRT , SplitNo:100 , trip:OW , \n"
     ]
    },
    {
     "name": "stderr",
     "output_type": "stream",
     "text": [
      "2017-06-29 09:14:01,131 root     DEBUG    Crawling Interpark domastic schedule site\n"
     ]
    },
    {
     "name": "stdout",
     "output_type": "stream",
     "text": [
      "End Simple crawling\n",
      "Start Simple crawling :  http://smartair.interpark.com/HtmlSearch/GetGoodsSmartList.aspx\n",
      ">> Parameters\n",
      "adt:1 , comp:Y , Soto:N , Change: , BEST:Y , depdate0:20170726 , chd:0 , FLEX:N , StayLength: , ptype:I , dep0:ICN , SeatAvail:Y , AirLine:LJ , JSON:Y , inf:0 , SeatType:A , enc:u , arr0:NRT , SplitNo:100 , trip:OW , \n"
     ]
    },
    {
     "name": "stderr",
     "output_type": "stream",
     "text": [
      "2017-06-29 09:14:03,211 root     DEBUG    Crawling Interpark domastic schedule site\n"
     ]
    },
    {
     "name": "stdout",
     "output_type": "stream",
     "text": [
      "End Simple crawling\n",
      "Start Simple crawling :  http://smartair.interpark.com/HtmlSearch/GetGoodsSmartList.aspx\n",
      ">> Parameters\n",
      "adt:1 , comp:Y , Soto:N , Change: , BEST:Y , depdate0:20170726 , chd:0 , FLEX:N , StayLength: , ptype:I , dep0:ICN , SeatAvail:Y , AirLine:ZE , JSON:Y , inf:0 , SeatType:A , enc:u , arr0:NRT , SplitNo:100 , trip:OW , \n"
     ]
    },
    {
     "name": "stderr",
     "output_type": "stream",
     "text": [
      "2017-06-29 09:14:05,299 root     DEBUG    GMP-CJU :: ['IP', '7C', 'TW', 'LJ', 'BX', 'ZE']\n",
      "2017-06-29 09:14:05,301 root     DEBUG    ICN-NRT :: ['IP', '7C', 'TW', 'LJ', 'ZE']\n",
      "2017-06-29 09:14:05,305 root     DEBUG    Crawling Interpark domastic schedule site\n"
     ]
    },
    {
     "name": "stdout",
     "output_type": "stream",
     "text": [
      "End Simple crawling\n",
      "Start Simple crawling :  http://smartair.interpark.com/HtmlSearch/GetGoodsSmartList.aspx\n",
      ">> Parameters\n",
      "adt:1 , comp:Y , Soto:N , Change: , BEST:Y , depdate0:20170727 , chd:0 , FLEX:N , StayLength: , ptype:I , dep0:ICN , SeatAvail:Y , AirLine:7C , JSON:Y , inf:0 , SeatType:A , enc:u , arr0:NRT , SplitNo:100 , trip:OW , \n"
     ]
    },
    {
     "name": "stderr",
     "output_type": "stream",
     "text": [
      "2017-06-29 09:14:06,243 root     DEBUG    Crawling Interpark domastic schedule site\n"
     ]
    },
    {
     "name": "stdout",
     "output_type": "stream",
     "text": [
      "End Simple crawling\n",
      "Start Simple crawling :  http://smartair.interpark.com/HtmlSearch/GetGoodsSmartList.aspx\n",
      ">> Parameters\n",
      "adt:1 , comp:Y , Soto:N , Change: , BEST:Y , depdate0:20170727 , chd:0 , FLEX:N , StayLength: , ptype:I , dep0:ICN , SeatAvail:Y , AirLine:TW , JSON:Y , inf:0 , SeatType:A , enc:u , arr0:NRT , SplitNo:100 , trip:OW , \n"
     ]
    },
    {
     "name": "stderr",
     "output_type": "stream",
     "text": [
      "2017-06-29 09:14:08,573 root     DEBUG    Crawling Interpark domastic schedule site\n"
     ]
    },
    {
     "name": "stdout",
     "output_type": "stream",
     "text": [
      "End Simple crawling\n",
      "Start Simple crawling :  http://smartair.interpark.com/HtmlSearch/GetGoodsSmartList.aspx\n",
      ">> Parameters\n",
      "adt:1 , comp:Y , Soto:N , Change: , BEST:Y , depdate0:20170727 , chd:0 , FLEX:N , StayLength: , ptype:I , dep0:ICN , SeatAvail:Y , AirLine:LJ , JSON:Y , inf:0 , SeatType:A , enc:u , arr0:NRT , SplitNo:100 , trip:OW , \n"
     ]
    },
    {
     "name": "stderr",
     "output_type": "stream",
     "text": [
      "2017-06-29 09:14:10,687 root     DEBUG    Crawling Interpark domastic schedule site\n"
     ]
    },
    {
     "name": "stdout",
     "output_type": "stream",
     "text": [
      "End Simple crawling\n",
      "Start Simple crawling :  http://smartair.interpark.com/HtmlSearch/GetGoodsSmartList.aspx\n",
      ">> Parameters\n",
      "adt:1 , comp:Y , Soto:N , Change: , BEST:Y , depdate0:20170727 , chd:0 , FLEX:N , StayLength: , ptype:I , dep0:ICN , SeatAvail:Y , AirLine:ZE , JSON:Y , inf:0 , SeatType:A , enc:u , arr0:NRT , SplitNo:100 , trip:OW , \n"
     ]
    },
    {
     "name": "stderr",
     "output_type": "stream",
     "text": [
      "2017-06-29 09:14:12,779 root     DEBUG    GMP-CJU :: ['IP', '7C', 'TW', 'LJ', 'BX', 'ZE']\n",
      "2017-06-29 09:14:12,782 root     DEBUG    ICN-NRT :: ['IP', '7C', 'TW', 'LJ', 'ZE']\n",
      "2017-06-29 09:14:12,785 root     DEBUG    Crawling Interpark domastic schedule site\n"
     ]
    },
    {
     "name": "stdout",
     "output_type": "stream",
     "text": [
      "End Simple crawling\n",
      "Start Simple crawling :  http://smartair.interpark.com/HtmlSearch/GetGoodsSmartList.aspx\n",
      ">> Parameters\n",
      "adt:1 , comp:Y , Soto:N , Change: , BEST:Y , depdate0:20170728 , chd:0 , FLEX:N , StayLength: , ptype:I , dep0:ICN , SeatAvail:Y , AirLine:7C , JSON:Y , inf:0 , SeatType:A , enc:u , arr0:NRT , SplitNo:100 , trip:OW , \n"
     ]
    },
    {
     "name": "stderr",
     "output_type": "stream",
     "text": [
      "2017-06-29 09:14:13,950 root     DEBUG    Crawling Interpark domastic schedule site\n"
     ]
    },
    {
     "name": "stdout",
     "output_type": "stream",
     "text": [
      "End Simple crawling\n",
      "Start Simple crawling :  http://smartair.interpark.com/HtmlSearch/GetGoodsSmartList.aspx\n",
      ">> Parameters\n",
      "adt:1 , comp:Y , Soto:N , Change: , BEST:Y , depdate0:20170728 , chd:0 , FLEX:N , StayLength: , ptype:I , dep0:ICN , SeatAvail:Y , AirLine:TW , JSON:Y , inf:0 , SeatType:A , enc:u , arr0:NRT , SplitNo:100 , trip:OW , \n"
     ]
    },
    {
     "name": "stderr",
     "output_type": "stream",
     "text": [
      "2017-06-29 09:14:16,363 root     DEBUG    Crawling Interpark domastic schedule site\n"
     ]
    },
    {
     "name": "stdout",
     "output_type": "stream",
     "text": [
      "End Simple crawling\n",
      "Start Simple crawling :  http://smartair.interpark.com/HtmlSearch/GetGoodsSmartList.aspx\n",
      ">> Parameters\n",
      "adt:1 , comp:Y , Soto:N , Change: , BEST:Y , depdate0:20170728 , chd:0 , FLEX:N , StayLength: , ptype:I , dep0:ICN , SeatAvail:Y , AirLine:LJ , JSON:Y , inf:0 , SeatType:A , enc:u , arr0:NRT , SplitNo:100 , trip:OW , \n"
     ]
    },
    {
     "name": "stderr",
     "output_type": "stream",
     "text": [
      "2017-06-29 09:14:18,399 root     DEBUG    Crawling Interpark domastic schedule site\n"
     ]
    },
    {
     "name": "stdout",
     "output_type": "stream",
     "text": [
      "End Simple crawling\n",
      "Start Simple crawling :  http://smartair.interpark.com/HtmlSearch/GetGoodsSmartList.aspx\n",
      ">> Parameters\n",
      "adt:1 , comp:Y , Soto:N , Change: , BEST:Y , depdate0:20170728 , chd:0 , FLEX:N , StayLength: , ptype:I , dep0:ICN , SeatAvail:Y , AirLine:ZE , JSON:Y , inf:0 , SeatType:A , enc:u , arr0:NRT , SplitNo:100 , trip:OW , \n"
     ]
    },
    {
     "name": "stderr",
     "output_type": "stream",
     "text": [
      "2017-06-29 09:14:20,501 root     DEBUG    GMP-CJU :: ['IP', '7C', 'TW', 'LJ', 'BX', 'ZE']\n",
      "2017-06-29 09:14:20,503 root     DEBUG    ICN-NRT :: ['IP', '7C', 'TW', 'LJ', 'ZE']\n",
      "2017-06-29 09:14:20,505 root     DEBUG    Crawling Interpark domastic schedule site\n"
     ]
    },
    {
     "name": "stdout",
     "output_type": "stream",
     "text": [
      "End Simple crawling\n",
      "Start Simple crawling :  http://smartair.interpark.com/HtmlSearch/GetGoodsSmartList.aspx\n",
      ">> Parameters\n",
      "adt:1 , comp:Y , Soto:N , Change: , BEST:Y , depdate0:20170729 , chd:0 , FLEX:N , StayLength: , ptype:I , dep0:ICN , SeatAvail:Y , AirLine:7C , JSON:Y , inf:0 , SeatType:A , enc:u , arr0:NRT , SplitNo:100 , trip:OW , \n"
     ]
    },
    {
     "name": "stderr",
     "output_type": "stream",
     "text": [
      "2017-06-29 09:14:21,441 root     DEBUG    Crawling Interpark domastic schedule site\n"
     ]
    },
    {
     "name": "stdout",
     "output_type": "stream",
     "text": [
      "End Simple crawling\n",
      "Start Simple crawling :  http://smartair.interpark.com/HtmlSearch/GetGoodsSmartList.aspx\n",
      ">> Parameters\n",
      "adt:1 , comp:Y , Soto:N , Change: , BEST:Y , depdate0:20170729 , chd:0 , FLEX:N , StayLength: , ptype:I , dep0:ICN , SeatAvail:Y , AirLine:TW , JSON:Y , inf:0 , SeatType:A , enc:u , arr0:NRT , SplitNo:100 , trip:OW , \n"
     ]
    },
    {
     "name": "stderr",
     "output_type": "stream",
     "text": [
      "2017-06-29 09:14:23,515 root     DEBUG    Crawling Interpark domastic schedule site\n"
     ]
    },
    {
     "name": "stdout",
     "output_type": "stream",
     "text": [
      "End Simple crawling\n",
      "Start Simple crawling :  http://smartair.interpark.com/HtmlSearch/GetGoodsSmartList.aspx\n",
      ">> Parameters\n",
      "adt:1 , comp:Y , Soto:N , Change: , BEST:Y , depdate0:20170729 , chd:0 , FLEX:N , StayLength: , ptype:I , dep0:ICN , SeatAvail:Y , AirLine:LJ , JSON:Y , inf:0 , SeatType:A , enc:u , arr0:NRT , SplitNo:100 , trip:OW , \n"
     ]
    },
    {
     "name": "stderr",
     "output_type": "stream",
     "text": [
      "2017-06-29 09:14:25,537 root     DEBUG    Crawling Interpark domastic schedule site\n"
     ]
    },
    {
     "name": "stdout",
     "output_type": "stream",
     "text": [
      "End Simple crawling\n",
      "Start Simple crawling :  http://smartair.interpark.com/HtmlSearch/GetGoodsSmartList.aspx\n",
      ">> Parameters\n",
      "adt:1 , comp:Y , Soto:N , Change: , BEST:Y , depdate0:20170729 , chd:0 , FLEX:N , StayLength: , ptype:I , dep0:ICN , SeatAvail:Y , AirLine:ZE , JSON:Y , inf:0 , SeatType:A , enc:u , arr0:NRT , SplitNo:100 , trip:OW , \n"
     ]
    },
    {
     "name": "stderr",
     "output_type": "stream",
     "text": [
      "2017-06-29 09:14:27,569 root     DEBUG    GMP-CJU :: ['IP', '7C', 'TW', 'LJ', 'BX', 'ZE']\n",
      "2017-06-29 09:14:27,571 root     DEBUG    ICN-NRT :: ['IP', '7C', 'TW', 'LJ', 'ZE']\n",
      "2017-06-29 09:14:27,573 root     DEBUG    Crawling Interpark domastic schedule site\n"
     ]
    },
    {
     "name": "stdout",
     "output_type": "stream",
     "text": [
      "End Simple crawling\n",
      "Start Simple crawling :  http://smartair.interpark.com/HtmlSearch/GetGoodsSmartList.aspx\n",
      ">> Parameters\n",
      "adt:1 , comp:Y , Soto:N , Change: , BEST:Y , depdate0:20170730 , chd:0 , FLEX:N , StayLength: , ptype:I , dep0:ICN , SeatAvail:Y , AirLine:7C , JSON:Y , inf:0 , SeatType:A , enc:u , arr0:NRT , SplitNo:100 , trip:OW , \n"
     ]
    },
    {
     "name": "stderr",
     "output_type": "stream",
     "text": [
      "2017-06-29 09:14:28,254 root     DEBUG    Crawling Interpark domastic schedule site\n"
     ]
    },
    {
     "name": "stdout",
     "output_type": "stream",
     "text": [
      "End Simple crawling\n",
      "Start Simple crawling :  http://smartair.interpark.com/HtmlSearch/GetGoodsSmartList.aspx\n",
      ">> Parameters\n",
      "adt:1 , comp:Y , Soto:N , Change: , BEST:Y , depdate0:20170730 , chd:0 , FLEX:N , StayLength: , ptype:I , dep0:ICN , SeatAvail:Y , AirLine:TW , JSON:Y , inf:0 , SeatType:A , enc:u , arr0:NRT , SplitNo:100 , trip:OW , \n"
     ]
    },
    {
     "name": "stderr",
     "output_type": "stream",
     "text": [
      "2017-06-29 09:14:30,401 root     DEBUG    Crawling Interpark domastic schedule site\n"
     ]
    },
    {
     "name": "stdout",
     "output_type": "stream",
     "text": [
      "End Simple crawling\n",
      "Start Simple crawling :  http://smartair.interpark.com/HtmlSearch/GetGoodsSmartList.aspx\n",
      ">> Parameters\n",
      "adt:1 , comp:Y , Soto:N , Change: , BEST:Y , depdate0:20170730 , chd:0 , FLEX:N , StayLength: , ptype:I , dep0:ICN , SeatAvail:Y , AirLine:LJ , JSON:Y , inf:0 , SeatType:A , enc:u , arr0:NRT , SplitNo:100 , trip:OW , \n"
     ]
    },
    {
     "name": "stderr",
     "output_type": "stream",
     "text": [
      "2017-06-29 09:14:32,432 root     DEBUG    Crawling Interpark domastic schedule site\n"
     ]
    },
    {
     "name": "stdout",
     "output_type": "stream",
     "text": [
      "End Simple crawling\n",
      "Start Simple crawling :  http://smartair.interpark.com/HtmlSearch/GetGoodsSmartList.aspx\n",
      ">> Parameters\n",
      "adt:1 , comp:Y , Soto:N , Change: , BEST:Y , depdate0:20170730 , chd:0 , FLEX:N , StayLength: , ptype:I , dep0:ICN , SeatAvail:Y , AirLine:ZE , JSON:Y , inf:0 , SeatType:A , enc:u , arr0:NRT , SplitNo:100 , trip:OW , \n"
     ]
    },
    {
     "name": "stderr",
     "output_type": "stream",
     "text": [
      "2017-06-29 09:14:34,523 root     DEBUG    GMP-CJU :: ['IP', '7C', 'TW', 'LJ', 'BX', 'ZE']\n",
      "2017-06-29 09:14:34,525 root     DEBUG    ICN-NRT :: ['IP', '7C', 'TW', 'LJ', 'ZE']\n",
      "2017-06-29 09:14:34,527 root     DEBUG    Crawling Interpark domastic schedule site\n"
     ]
    },
    {
     "name": "stdout",
     "output_type": "stream",
     "text": [
      "End Simple crawling\n",
      "Start Simple crawling :  http://smartair.interpark.com/HtmlSearch/GetGoodsSmartList.aspx\n",
      ">> Parameters\n",
      "adt:1 , comp:Y , Soto:N , Change: , BEST:Y , depdate0:20170731 , chd:0 , FLEX:N , StayLength: , ptype:I , dep0:ICN , SeatAvail:Y , AirLine:7C , JSON:Y , inf:0 , SeatType:A , enc:u , arr0:NRT , SplitNo:100 , trip:OW , \n"
     ]
    },
    {
     "name": "stderr",
     "output_type": "stream",
     "text": [
      "2017-06-29 09:14:35,195 root     DEBUG    Crawling Interpark domastic schedule site\n"
     ]
    },
    {
     "name": "stdout",
     "output_type": "stream",
     "text": [
      "End Simple crawling\n",
      "Start Simple crawling :  http://smartair.interpark.com/HtmlSearch/GetGoodsSmartList.aspx\n",
      ">> Parameters\n",
      "adt:1 , comp:Y , Soto:N , Change: , BEST:Y , depdate0:20170731 , chd:0 , FLEX:N , StayLength: , ptype:I , dep0:ICN , SeatAvail:Y , AirLine:TW , JSON:Y , inf:0 , SeatType:A , enc:u , arr0:NRT , SplitNo:100 , trip:OW , \n"
     ]
    },
    {
     "name": "stderr",
     "output_type": "stream",
     "text": [
      "2017-06-29 09:14:37,368 root     DEBUG    Crawling Interpark domastic schedule site\n"
     ]
    },
    {
     "name": "stdout",
     "output_type": "stream",
     "text": [
      "End Simple crawling\n",
      "Start Simple crawling :  http://smartair.interpark.com/HtmlSearch/GetGoodsSmartList.aspx\n",
      ">> Parameters\n",
      "adt:1 , comp:Y , Soto:N , Change: , BEST:Y , depdate0:20170731 , chd:0 , FLEX:N , StayLength: , ptype:I , dep0:ICN , SeatAvail:Y , AirLine:LJ , JSON:Y , inf:0 , SeatType:A , enc:u , arr0:NRT , SplitNo:100 , trip:OW , \n"
     ]
    },
    {
     "name": "stderr",
     "output_type": "stream",
     "text": [
      "2017-06-29 09:14:39,484 root     DEBUG    Crawling Interpark domastic schedule site\n"
     ]
    },
    {
     "name": "stdout",
     "output_type": "stream",
     "text": [
      "End Simple crawling\n",
      "Start Simple crawling :  http://smartair.interpark.com/HtmlSearch/GetGoodsSmartList.aspx\n",
      ">> Parameters\n",
      "adt:1 , comp:Y , Soto:N , Change: , BEST:Y , depdate0:20170731 , chd:0 , FLEX:N , StayLength: , ptype:I , dep0:ICN , SeatAvail:Y , AirLine:ZE , JSON:Y , inf:0 , SeatType:A , enc:u , arr0:NRT , SplitNo:100 , trip:OW , \n"
     ]
    },
    {
     "name": "stderr",
     "output_type": "stream",
     "text": [
      "2017-06-29 09:14:41,485 root     DEBUG    GMP-CJU :: ['IP', '7C', 'TW', 'LJ', 'BX', 'ZE']\n",
      "2017-06-29 09:14:41,488 root     DEBUG    ICN-NRT :: ['IP', '7C', 'TW', 'LJ', 'ZE']\n",
      "2017-06-29 09:14:41,491 root     DEBUG    Crawling Interpark domastic schedule site\n"
     ]
    },
    {
     "name": "stdout",
     "output_type": "stream",
     "text": [
      "End Simple crawling\n",
      "Start Simple crawling :  http://smartair.interpark.com/HtmlSearch/GetGoodsSmartList.aspx\n",
      ">> Parameters\n",
      "adt:1 , comp:Y , Soto:N , Change: , BEST:Y , depdate0:20170801 , chd:0 , FLEX:N , StayLength: , ptype:I , dep0:ICN , SeatAvail:Y , AirLine:7C , JSON:Y , inf:0 , SeatType:A , enc:u , arr0:NRT , SplitNo:100 , trip:OW , \n"
     ]
    },
    {
     "name": "stderr",
     "output_type": "stream",
     "text": [
      "2017-06-29 09:14:42,113 root     DEBUG    Crawling Interpark domastic schedule site\n"
     ]
    },
    {
     "name": "stdout",
     "output_type": "stream",
     "text": [
      "End Simple crawling\n",
      "Start Simple crawling :  http://smartair.interpark.com/HtmlSearch/GetGoodsSmartList.aspx\n",
      ">> Parameters\n",
      "adt:1 , comp:Y , Soto:N , Change: , BEST:Y , depdate0:20170801 , chd:0 , FLEX:N , StayLength: , ptype:I , dep0:ICN , SeatAvail:Y , AirLine:TW , JSON:Y , inf:0 , SeatType:A , enc:u , arr0:NRT , SplitNo:100 , trip:OW , \n"
     ]
    },
    {
     "name": "stderr",
     "output_type": "stream",
     "text": [
      "2017-06-29 09:14:44,219 root     DEBUG    Crawling Interpark domastic schedule site\n"
     ]
    },
    {
     "name": "stdout",
     "output_type": "stream",
     "text": [
      "End Simple crawling\n",
      "Start Simple crawling :  http://smartair.interpark.com/HtmlSearch/GetGoodsSmartList.aspx\n",
      ">> Parameters\n",
      "adt:1 , comp:Y , Soto:N , Change: , BEST:Y , depdate0:20170801 , chd:0 , FLEX:N , StayLength: , ptype:I , dep0:ICN , SeatAvail:Y , AirLine:LJ , JSON:Y , inf:0 , SeatType:A , enc:u , arr0:NRT , SplitNo:100 , trip:OW , \n"
     ]
    },
    {
     "name": "stderr",
     "output_type": "stream",
     "text": [
      "2017-06-29 09:14:46,485 root     DEBUG    Crawling Interpark domastic schedule site\n"
     ]
    },
    {
     "name": "stdout",
     "output_type": "stream",
     "text": [
      "End Simple crawling\n",
      "Start Simple crawling :  http://smartair.interpark.com/HtmlSearch/GetGoodsSmartList.aspx\n",
      ">> Parameters\n",
      "adt:1 , comp:Y , Soto:N , Change: , BEST:Y , depdate0:20170801 , chd:0 , FLEX:N , StayLength: , ptype:I , dep0:ICN , SeatAvail:Y , AirLine:ZE , JSON:Y , inf:0 , SeatType:A , enc:u , arr0:NRT , SplitNo:100 , trip:OW , \n"
     ]
    },
    {
     "name": "stderr",
     "output_type": "stream",
     "text": [
      "2017-06-29 09:14:48,585 root     DEBUG    GMP-CJU :: ['IP', '7C', 'TW', 'LJ', 'BX', 'ZE']\n",
      "2017-06-29 09:14:48,587 root     DEBUG    ICN-NRT :: ['IP', '7C', 'TW', 'LJ', 'ZE']\n",
      "2017-06-29 09:14:48,589 root     DEBUG    Crawling Interpark domastic schedule site\n"
     ]
    },
    {
     "name": "stdout",
     "output_type": "stream",
     "text": [
      "End Simple crawling\n",
      "Start Simple crawling :  http://smartair.interpark.com/HtmlSearch/GetGoodsSmartList.aspx\n",
      ">> Parameters\n",
      "adt:1 , comp:Y , Soto:N , Change: , BEST:Y , depdate0:20170802 , chd:0 , FLEX:N , StayLength: , ptype:I , dep0:ICN , SeatAvail:Y , AirLine:7C , JSON:Y , inf:0 , SeatType:A , enc:u , arr0:NRT , SplitNo:100 , trip:OW , \n"
     ]
    },
    {
     "name": "stderr",
     "output_type": "stream",
     "text": [
      "2017-06-29 09:14:49,284 root     DEBUG    Crawling Interpark domastic schedule site\n"
     ]
    },
    {
     "name": "stdout",
     "output_type": "stream",
     "text": [
      "End Simple crawling\n",
      "Start Simple crawling :  http://smartair.interpark.com/HtmlSearch/GetGoodsSmartList.aspx\n",
      ">> Parameters\n",
      "adt:1 , comp:Y , Soto:N , Change: , BEST:Y , depdate0:20170802 , chd:0 , FLEX:N , StayLength: , ptype:I , dep0:ICN , SeatAvail:Y , AirLine:TW , JSON:Y , inf:0 , SeatType:A , enc:u , arr0:NRT , SplitNo:100 , trip:OW , \n"
     ]
    },
    {
     "name": "stderr",
     "output_type": "stream",
     "text": [
      "2017-06-29 09:14:51,467 root     DEBUG    Crawling Interpark domastic schedule site\n"
     ]
    },
    {
     "name": "stdout",
     "output_type": "stream",
     "text": [
      "End Simple crawling\n",
      "Start Simple crawling :  http://smartair.interpark.com/HtmlSearch/GetGoodsSmartList.aspx\n",
      ">> Parameters\n",
      "adt:1 , comp:Y , Soto:N , Change: , BEST:Y , depdate0:20170802 , chd:0 , FLEX:N , StayLength: , ptype:I , dep0:ICN , SeatAvail:Y , AirLine:LJ , JSON:Y , inf:0 , SeatType:A , enc:u , arr0:NRT , SplitNo:100 , trip:OW , \n"
     ]
    },
    {
     "name": "stderr",
     "output_type": "stream",
     "text": [
      "2017-06-29 09:14:53,562 root     DEBUG    Crawling Interpark domastic schedule site\n"
     ]
    },
    {
     "name": "stdout",
     "output_type": "stream",
     "text": [
      "End Simple crawling\n",
      "Start Simple crawling :  http://smartair.interpark.com/HtmlSearch/GetGoodsSmartList.aspx\n",
      ">> Parameters\n",
      "adt:1 , comp:Y , Soto:N , Change: , BEST:Y , depdate0:20170802 , chd:0 , FLEX:N , StayLength: , ptype:I , dep0:ICN , SeatAvail:Y , AirLine:ZE , JSON:Y , inf:0 , SeatType:A , enc:u , arr0:NRT , SplitNo:100 , trip:OW , \n"
     ]
    },
    {
     "name": "stderr",
     "output_type": "stream",
     "text": [
      "2017-06-29 09:14:55,561 root     DEBUG    GMP-CJU :: ['IP', '7C', 'TW', 'LJ', 'BX', 'ZE']\n",
      "2017-06-29 09:14:55,563 root     DEBUG    ICN-NRT :: ['IP', '7C', 'TW', 'LJ', 'ZE']\n",
      "2017-06-29 09:14:55,566 root     DEBUG    Crawling Interpark domastic schedule site\n"
     ]
    },
    {
     "name": "stdout",
     "output_type": "stream",
     "text": [
      "End Simple crawling\n",
      "Start Simple crawling :  http://smartair.interpark.com/HtmlSearch/GetGoodsSmartList.aspx\n",
      ">> Parameters\n",
      "adt:1 , comp:Y , Soto:N , Change: , BEST:Y , depdate0:20170803 , chd:0 , FLEX:N , StayLength: , ptype:I , dep0:ICN , SeatAvail:Y , AirLine:7C , JSON:Y , inf:0 , SeatType:A , enc:u , arr0:NRT , SplitNo:100 , trip:OW , \n"
     ]
    },
    {
     "name": "stderr",
     "output_type": "stream",
     "text": [
      "2017-06-29 09:14:56,164 root     DEBUG    Crawling Interpark domastic schedule site\n"
     ]
    },
    {
     "name": "stdout",
     "output_type": "stream",
     "text": [
      "End Simple crawling\n",
      "Start Simple crawling :  http://smartair.interpark.com/HtmlSearch/GetGoodsSmartList.aspx\n",
      ">> Parameters\n",
      "adt:1 , comp:Y , Soto:N , Change: , BEST:Y , depdate0:20170803 , chd:0 , FLEX:N , StayLength: , ptype:I , dep0:ICN , SeatAvail:Y , AirLine:TW , JSON:Y , inf:0 , SeatType:A , enc:u , arr0:NRT , SplitNo:100 , trip:OW , \n"
     ]
    },
    {
     "name": "stderr",
     "output_type": "stream",
     "text": [
      "2017-06-29 09:14:58,420 root     DEBUG    Crawling Interpark domastic schedule site\n"
     ]
    },
    {
     "name": "stdout",
     "output_type": "stream",
     "text": [
      "End Simple crawling\n",
      "Start Simple crawling :  http://smartair.interpark.com/HtmlSearch/GetGoodsSmartList.aspx\n",
      ">> Parameters\n",
      "adt:1 , comp:Y , Soto:N , Change: , BEST:Y , depdate0:20170803 , chd:0 , FLEX:N , StayLength: , ptype:I , dep0:ICN , SeatAvail:Y , AirLine:LJ , JSON:Y , inf:0 , SeatType:A , enc:u , arr0:NRT , SplitNo:100 , trip:OW , \n"
     ]
    },
    {
     "name": "stderr",
     "output_type": "stream",
     "text": [
      "2017-06-29 09:15:00,500 root     DEBUG    Crawling Interpark domastic schedule site\n"
     ]
    },
    {
     "name": "stdout",
     "output_type": "stream",
     "text": [
      "End Simple crawling\n",
      "Start Simple crawling :  http://smartair.interpark.com/HtmlSearch/GetGoodsSmartList.aspx\n",
      ">> Parameters\n",
      "adt:1 , comp:Y , Soto:N , Change: , BEST:Y , depdate0:20170803 , chd:0 , FLEX:N , StayLength: , ptype:I , dep0:ICN , SeatAvail:Y , AirLine:ZE , JSON:Y , inf:0 , SeatType:A , enc:u , arr0:NRT , SplitNo:100 , trip:OW , \n"
     ]
    },
    {
     "name": "stderr",
     "output_type": "stream",
     "text": [
      "2017-06-29 09:15:02,570 root     DEBUG    GMP-CJU :: ['IP', '7C', 'TW', 'LJ', 'BX', 'ZE']\n",
      "2017-06-29 09:15:02,572 root     DEBUG    ICN-NRT :: ['IP', '7C', 'TW', 'LJ', 'ZE']\n",
      "2017-06-29 09:15:02,574 root     DEBUG    Crawling Interpark domastic schedule site\n"
     ]
    },
    {
     "name": "stdout",
     "output_type": "stream",
     "text": [
      "End Simple crawling\n",
      "Start Simple crawling :  http://smartair.interpark.com/HtmlSearch/GetGoodsSmartList.aspx\n",
      ">> Parameters\n",
      "adt:1 , comp:Y , Soto:N , Change: , BEST:Y , depdate0:20170804 , chd:0 , FLEX:N , StayLength: , ptype:I , dep0:ICN , SeatAvail:Y , AirLine:7C , JSON:Y , inf:0 , SeatType:A , enc:u , arr0:NRT , SplitNo:100 , trip:OW , \n"
     ]
    },
    {
     "name": "stderr",
     "output_type": "stream",
     "text": [
      "2017-06-29 09:15:03,181 root     DEBUG    Crawling Interpark domastic schedule site\n"
     ]
    },
    {
     "name": "stdout",
     "output_type": "stream",
     "text": [
      "End Simple crawling\n",
      "Start Simple crawling :  http://smartair.interpark.com/HtmlSearch/GetGoodsSmartList.aspx\n",
      ">> Parameters\n",
      "adt:1 , comp:Y , Soto:N , Change: , BEST:Y , depdate0:20170804 , chd:0 , FLEX:N , StayLength: , ptype:I , dep0:ICN , SeatAvail:Y , AirLine:TW , JSON:Y , inf:0 , SeatType:A , enc:u , arr0:NRT , SplitNo:100 , trip:OW , \n"
     ]
    },
    {
     "name": "stderr",
     "output_type": "stream",
     "text": [
      "2017-06-29 09:15:05,418 root     DEBUG    Crawling Interpark domastic schedule site\n"
     ]
    },
    {
     "name": "stdout",
     "output_type": "stream",
     "text": [
      "End Simple crawling\n",
      "Start Simple crawling :  http://smartair.interpark.com/HtmlSearch/GetGoodsSmartList.aspx\n",
      ">> Parameters\n",
      "adt:1 , comp:Y , Soto:N , Change: , BEST:Y , depdate0:20170804 , chd:0 , FLEX:N , StayLength: , ptype:I , dep0:ICN , SeatAvail:Y , AirLine:LJ , JSON:Y , inf:0 , SeatType:A , enc:u , arr0:NRT , SplitNo:100 , trip:OW , \n"
     ]
    },
    {
     "name": "stderr",
     "output_type": "stream",
     "text": [
      "2017-06-29 09:15:07,522 root     DEBUG    Crawling Interpark domastic schedule site\n"
     ]
    },
    {
     "name": "stdout",
     "output_type": "stream",
     "text": [
      "End Simple crawling\n",
      "Start Simple crawling :  http://smartair.interpark.com/HtmlSearch/GetGoodsSmartList.aspx\n",
      ">> Parameters\n",
      "adt:1 , comp:Y , Soto:N , Change: , BEST:Y , depdate0:20170804 , chd:0 , FLEX:N , StayLength: , ptype:I , dep0:ICN , SeatAvail:Y , AirLine:ZE , JSON:Y , inf:0 , SeatType:A , enc:u , arr0:NRT , SplitNo:100 , trip:OW , \n"
     ]
    },
    {
     "name": "stderr",
     "output_type": "stream",
     "text": [
      "2017-06-29 09:15:09,566 root     DEBUG    GMP-CJU :: ['IP', '7C', 'TW', 'LJ', 'BX', 'ZE']\n",
      "2017-06-29 09:15:09,567 root     DEBUG    ICN-NRT :: ['IP', '7C', 'TW', 'LJ', 'ZE']\n",
      "2017-06-29 09:15:09,570 root     DEBUG    Crawling Interpark domastic schedule site\n"
     ]
    },
    {
     "name": "stdout",
     "output_type": "stream",
     "text": [
      "End Simple crawling\n",
      "Start Simple crawling :  http://smartair.interpark.com/HtmlSearch/GetGoodsSmartList.aspx\n",
      ">> Parameters\n",
      "adt:1 , comp:Y , Soto:N , Change: , BEST:Y , depdate0:20170805 , chd:0 , FLEX:N , StayLength: , ptype:I , dep0:ICN , SeatAvail:Y , AirLine:7C , JSON:Y , inf:0 , SeatType:A , enc:u , arr0:NRT , SplitNo:100 , trip:OW , \n"
     ]
    },
    {
     "name": "stderr",
     "output_type": "stream",
     "text": [
      "2017-06-29 09:15:10,634 root     DEBUG    Crawling Interpark domastic schedule site\n"
     ]
    },
    {
     "name": "stdout",
     "output_type": "stream",
     "text": [
      "End Simple crawling\n",
      "Start Simple crawling :  http://smartair.interpark.com/HtmlSearch/GetGoodsSmartList.aspx\n",
      ">> Parameters\n",
      "adt:1 , comp:Y , Soto:N , Change: , BEST:Y , depdate0:20170805 , chd:0 , FLEX:N , StayLength: , ptype:I , dep0:ICN , SeatAvail:Y , AirLine:TW , JSON:Y , inf:0 , SeatType:A , enc:u , arr0:NRT , SplitNo:100 , trip:OW , \n"
     ]
    },
    {
     "name": "stderr",
     "output_type": "stream",
     "text": [
      "2017-06-29 09:15:13,004 root     DEBUG    Crawling Interpark domastic schedule site\n"
     ]
    },
    {
     "name": "stdout",
     "output_type": "stream",
     "text": [
      "End Simple crawling\n",
      "Start Simple crawling :  http://smartair.interpark.com/HtmlSearch/GetGoodsSmartList.aspx\n",
      ">> Parameters\n",
      "adt:1 , comp:Y , Soto:N , Change: , BEST:Y , depdate0:20170805 , chd:0 , FLEX:N , StayLength: , ptype:I , dep0:ICN , SeatAvail:Y , AirLine:LJ , JSON:Y , inf:0 , SeatType:A , enc:u , arr0:NRT , SplitNo:100 , trip:OW , \n"
     ]
    },
    {
     "name": "stderr",
     "output_type": "stream",
     "text": [
      "2017-06-29 09:15:15,162 root     DEBUG    Crawling Interpark domastic schedule site\n"
     ]
    },
    {
     "name": "stdout",
     "output_type": "stream",
     "text": [
      "End Simple crawling\n",
      "Start Simple crawling :  http://smartair.interpark.com/HtmlSearch/GetGoodsSmartList.aspx\n",
      ">> Parameters\n",
      "adt:1 , comp:Y , Soto:N , Change: , BEST:Y , depdate0:20170805 , chd:0 , FLEX:N , StayLength: , ptype:I , dep0:ICN , SeatAvail:Y , AirLine:ZE , JSON:Y , inf:0 , SeatType:A , enc:u , arr0:NRT , SplitNo:100 , trip:OW , \n"
     ]
    },
    {
     "name": "stderr",
     "output_type": "stream",
     "text": [
      "2017-06-29 09:15:17,232 root     DEBUG    GMP-CJU :: ['IP', '7C', 'TW', 'LJ', 'BX', 'ZE']\n",
      "2017-06-29 09:15:17,234 root     DEBUG    ICN-NRT :: ['IP', '7C', 'TW', 'LJ', 'ZE']\n",
      "2017-06-29 09:15:17,236 root     DEBUG    Crawling Interpark domastic schedule site\n"
     ]
    },
    {
     "name": "stdout",
     "output_type": "stream",
     "text": [
      "End Simple crawling\n",
      "Start Simple crawling :  http://smartair.interpark.com/HtmlSearch/GetGoodsSmartList.aspx\n",
      ">> Parameters\n",
      "adt:1 , comp:Y , Soto:N , Change: , BEST:Y , depdate0:20170806 , chd:0 , FLEX:N , StayLength: , ptype:I , dep0:ICN , SeatAvail:Y , AirLine:7C , JSON:Y , inf:0 , SeatType:A , enc:u , arr0:NRT , SplitNo:100 , trip:OW , \n"
     ]
    },
    {
     "name": "stderr",
     "output_type": "stream",
     "text": [
      "2017-06-29 09:15:17,848 root     DEBUG    Crawling Interpark domastic schedule site\n"
     ]
    },
    {
     "name": "stdout",
     "output_type": "stream",
     "text": [
      "End Simple crawling\n",
      "Start Simple crawling :  http://smartair.interpark.com/HtmlSearch/GetGoodsSmartList.aspx\n",
      ">> Parameters\n",
      "adt:1 , comp:Y , Soto:N , Change: , BEST:Y , depdate0:20170806 , chd:0 , FLEX:N , StayLength: , ptype:I , dep0:ICN , SeatAvail:Y , AirLine:TW , JSON:Y , inf:0 , SeatType:A , enc:u , arr0:NRT , SplitNo:100 , trip:OW , \n"
     ]
    },
    {
     "name": "stderr",
     "output_type": "stream",
     "text": [
      "2017-06-29 09:15:19,984 root     DEBUG    Crawling Interpark domastic schedule site\n"
     ]
    },
    {
     "name": "stdout",
     "output_type": "stream",
     "text": [
      "End Simple crawling\n",
      "Start Simple crawling :  http://smartair.interpark.com/HtmlSearch/GetGoodsSmartList.aspx\n",
      ">> Parameters\n",
      "adt:1 , comp:Y , Soto:N , Change: , BEST:Y , depdate0:20170806 , chd:0 , FLEX:N , StayLength: , ptype:I , dep0:ICN , SeatAvail:Y , AirLine:LJ , JSON:Y , inf:0 , SeatType:A , enc:u , arr0:NRT , SplitNo:100 , trip:OW , \n"
     ]
    },
    {
     "name": "stderr",
     "output_type": "stream",
     "text": [
      "2017-06-29 09:15:22,113 root     DEBUG    Crawling Interpark domastic schedule site\n"
     ]
    },
    {
     "name": "stdout",
     "output_type": "stream",
     "text": [
      "End Simple crawling\n",
      "Start Simple crawling :  http://smartair.interpark.com/HtmlSearch/GetGoodsSmartList.aspx\n",
      ">> Parameters\n",
      "adt:1 , comp:Y , Soto:N , Change: , BEST:Y , depdate0:20170806 , chd:0 , FLEX:N , StayLength: , ptype:I , dep0:ICN , SeatAvail:Y , AirLine:ZE , JSON:Y , inf:0 , SeatType:A , enc:u , arr0:NRT , SplitNo:100 , trip:OW , \n"
     ]
    },
    {
     "name": "stderr",
     "output_type": "stream",
     "text": [
      "2017-06-29 09:15:24,152 root     DEBUG    GMP-CJU :: ['IP', '7C', 'TW', 'LJ', 'BX', 'ZE']\n",
      "2017-06-29 09:15:24,154 root     DEBUG    ICN-NRT :: ['IP', '7C', 'TW', 'LJ', 'ZE']\n",
      "2017-06-29 09:15:24,157 root     DEBUG    Crawling Interpark domastic schedule site\n"
     ]
    },
    {
     "name": "stdout",
     "output_type": "stream",
     "text": [
      "End Simple crawling\n",
      "Start Simple crawling :  http://smartair.interpark.com/HtmlSearch/GetGoodsSmartList.aspx\n",
      ">> Parameters\n",
      "adt:1 , comp:Y , Soto:N , Change: , BEST:Y , depdate0:20170807 , chd:0 , FLEX:N , StayLength: , ptype:I , dep0:ICN , SeatAvail:Y , AirLine:7C , JSON:Y , inf:0 , SeatType:A , enc:u , arr0:NRT , SplitNo:100 , trip:OW , \n"
     ]
    },
    {
     "name": "stderr",
     "output_type": "stream",
     "text": [
      "2017-06-29 09:15:24,748 root     DEBUG    Crawling Interpark domastic schedule site\n"
     ]
    },
    {
     "name": "stdout",
     "output_type": "stream",
     "text": [
      "End Simple crawling\n",
      "Start Simple crawling :  http://smartair.interpark.com/HtmlSearch/GetGoodsSmartList.aspx\n",
      ">> Parameters\n",
      "adt:1 , comp:Y , Soto:N , Change: , BEST:Y , depdate0:20170807 , chd:0 , FLEX:N , StayLength: , ptype:I , dep0:ICN , SeatAvail:Y , AirLine:TW , JSON:Y , inf:0 , SeatType:A , enc:u , arr0:NRT , SplitNo:100 , trip:OW , \n"
     ]
    },
    {
     "name": "stderr",
     "output_type": "stream",
     "text": [
      "2017-06-29 09:15:26,846 root     DEBUG    Crawling Interpark domastic schedule site\n"
     ]
    },
    {
     "name": "stdout",
     "output_type": "stream",
     "text": [
      "End Simple crawling\n",
      "Start Simple crawling :  http://smartair.interpark.com/HtmlSearch/GetGoodsSmartList.aspx\n",
      ">> Parameters\n",
      "adt:1 , comp:Y , Soto:N , Change: , BEST:Y , depdate0:20170807 , chd:0 , FLEX:N , StayLength: , ptype:I , dep0:ICN , SeatAvail:Y , AirLine:LJ , JSON:Y , inf:0 , SeatType:A , enc:u , arr0:NRT , SplitNo:100 , trip:OW , \n"
     ]
    },
    {
     "name": "stderr",
     "output_type": "stream",
     "text": [
      "2017-06-29 09:15:29,013 root     DEBUG    Crawling Interpark domastic schedule site\n"
     ]
    },
    {
     "name": "stdout",
     "output_type": "stream",
     "text": [
      "End Simple crawling\n",
      "Start Simple crawling :  http://smartair.interpark.com/HtmlSearch/GetGoodsSmartList.aspx\n",
      ">> Parameters\n",
      "adt:1 , comp:Y , Soto:N , Change: , BEST:Y , depdate0:20170807 , chd:0 , FLEX:N , StayLength: , ptype:I , dep0:ICN , SeatAvail:Y , AirLine:ZE , JSON:Y , inf:0 , SeatType:A , enc:u , arr0:NRT , SplitNo:100 , trip:OW , \n"
     ]
    },
    {
     "name": "stderr",
     "output_type": "stream",
     "text": [
      "2017-06-29 09:15:31,052 root     DEBUG    GMP-CJU :: ['IP', '7C', 'TW', 'LJ', 'BX', 'ZE']\n",
      "2017-06-29 09:15:31,054 root     DEBUG    ICN-NRT :: ['IP', '7C', 'TW', 'LJ', 'ZE']\n",
      "2017-06-29 09:15:31,058 root     DEBUG    Crawling Interpark domastic schedule site\n"
     ]
    },
    {
     "name": "stdout",
     "output_type": "stream",
     "text": [
      "End Simple crawling\n",
      "Start Simple crawling :  http://smartair.interpark.com/HtmlSearch/GetGoodsSmartList.aspx\n",
      ">> Parameters\n",
      "adt:1 , comp:Y , Soto:N , Change: , BEST:Y , depdate0:20170808 , chd:0 , FLEX:N , StayLength: , ptype:I , dep0:ICN , SeatAvail:Y , AirLine:7C , JSON:Y , inf:0 , SeatType:A , enc:u , arr0:NRT , SplitNo:100 , trip:OW , \n"
     ]
    },
    {
     "name": "stderr",
     "output_type": "stream",
     "text": [
      "2017-06-29 09:15:31,745 root     DEBUG    Crawling Interpark domastic schedule site\n"
     ]
    },
    {
     "name": "stdout",
     "output_type": "stream",
     "text": [
      "End Simple crawling\n",
      "Start Simple crawling :  http://smartair.interpark.com/HtmlSearch/GetGoodsSmartList.aspx\n",
      ">> Parameters\n",
      "adt:1 , comp:Y , Soto:N , Change: , BEST:Y , depdate0:20170808 , chd:0 , FLEX:N , StayLength: , ptype:I , dep0:ICN , SeatAvail:Y , AirLine:TW , JSON:Y , inf:0 , SeatType:A , enc:u , arr0:NRT , SplitNo:100 , trip:OW , \n"
     ]
    },
    {
     "name": "stderr",
     "output_type": "stream",
     "text": [
      "2017-06-29 09:15:33,956 root     DEBUG    Crawling Interpark domastic schedule site\n"
     ]
    },
    {
     "name": "stdout",
     "output_type": "stream",
     "text": [
      "End Simple crawling\n",
      "Start Simple crawling :  http://smartair.interpark.com/HtmlSearch/GetGoodsSmartList.aspx\n",
      ">> Parameters\n",
      "adt:1 , comp:Y , Soto:N , Change: , BEST:Y , depdate0:20170808 , chd:0 , FLEX:N , StayLength: , ptype:I , dep0:ICN , SeatAvail:Y , AirLine:LJ , JSON:Y , inf:0 , SeatType:A , enc:u , arr0:NRT , SplitNo:100 , trip:OW , \n"
     ]
    },
    {
     "name": "stderr",
     "output_type": "stream",
     "text": [
      "2017-06-29 09:15:36,067 root     DEBUG    Crawling Interpark domastic schedule site\n"
     ]
    },
    {
     "name": "stdout",
     "output_type": "stream",
     "text": [
      "End Simple crawling\n",
      "Start Simple crawling :  http://smartair.interpark.com/HtmlSearch/GetGoodsSmartList.aspx\n",
      ">> Parameters\n",
      "adt:1 , comp:Y , Soto:N , Change: , BEST:Y , depdate0:20170808 , chd:0 , FLEX:N , StayLength: , ptype:I , dep0:ICN , SeatAvail:Y , AirLine:ZE , JSON:Y , inf:0 , SeatType:A , enc:u , arr0:NRT , SplitNo:100 , trip:OW , \n"
     ]
    },
    {
     "name": "stderr",
     "output_type": "stream",
     "text": [
      "2017-06-29 09:15:38,126 root     DEBUG    GMP-CJU :: ['IP', '7C', 'TW', 'LJ', 'BX', 'ZE']\n",
      "2017-06-29 09:15:38,128 root     DEBUG    ICN-NRT :: ['IP', '7C', 'TW', 'LJ', 'ZE']\n",
      "2017-06-29 09:15:38,131 root     DEBUG    Crawling Interpark domastic schedule site\n"
     ]
    },
    {
     "name": "stdout",
     "output_type": "stream",
     "text": [
      "End Simple crawling\n",
      "Start Simple crawling :  http://smartair.interpark.com/HtmlSearch/GetGoodsSmartList.aspx\n",
      ">> Parameters\n",
      "adt:1 , comp:Y , Soto:N , Change: , BEST:Y , depdate0:20170809 , chd:0 , FLEX:N , StayLength: , ptype:I , dep0:ICN , SeatAvail:Y , AirLine:7C , JSON:Y , inf:0 , SeatType:A , enc:u , arr0:NRT , SplitNo:100 , trip:OW , \n"
     ]
    },
    {
     "name": "stderr",
     "output_type": "stream",
     "text": [
      "2017-06-29 09:15:38,701 root     DEBUG    Crawling Interpark domastic schedule site\n"
     ]
    },
    {
     "name": "stdout",
     "output_type": "stream",
     "text": [
      "End Simple crawling\n",
      "Start Simple crawling :  http://smartair.interpark.com/HtmlSearch/GetGoodsSmartList.aspx\n",
      ">> Parameters\n",
      "adt:1 , comp:Y , Soto:N , Change: , BEST:Y , depdate0:20170809 , chd:0 , FLEX:N , StayLength: , ptype:I , dep0:ICN , SeatAvail:Y , AirLine:TW , JSON:Y , inf:0 , SeatType:A , enc:u , arr0:NRT , SplitNo:100 , trip:OW , \n"
     ]
    },
    {
     "name": "stderr",
     "output_type": "stream",
     "text": [
      "2017-06-29 09:15:40,941 root     DEBUG    Crawling Interpark domastic schedule site\n"
     ]
    },
    {
     "name": "stdout",
     "output_type": "stream",
     "text": [
      "End Simple crawling\n",
      "Start Simple crawling :  http://smartair.interpark.com/HtmlSearch/GetGoodsSmartList.aspx\n",
      ">> Parameters\n",
      "adt:1 , comp:Y , Soto:N , Change: , BEST:Y , depdate0:20170809 , chd:0 , FLEX:N , StayLength: , ptype:I , dep0:ICN , SeatAvail:Y , AirLine:LJ , JSON:Y , inf:0 , SeatType:A , enc:u , arr0:NRT , SplitNo:100 , trip:OW , \n"
     ]
    },
    {
     "name": "stderr",
     "output_type": "stream",
     "text": [
      "2017-06-29 09:15:43,101 root     DEBUG    Crawling Interpark domastic schedule site\n"
     ]
    },
    {
     "name": "stdout",
     "output_type": "stream",
     "text": [
      "End Simple crawling\n",
      "Start Simple crawling :  http://smartair.interpark.com/HtmlSearch/GetGoodsSmartList.aspx\n",
      ">> Parameters\n",
      "adt:1 , comp:Y , Soto:N , Change: , BEST:Y , depdate0:20170809 , chd:0 , FLEX:N , StayLength: , ptype:I , dep0:ICN , SeatAvail:Y , AirLine:ZE , JSON:Y , inf:0 , SeatType:A , enc:u , arr0:NRT , SplitNo:100 , trip:OW , \n"
     ]
    },
    {
     "name": "stderr",
     "output_type": "stream",
     "text": [
      "2017-06-29 09:15:45,523 root     DEBUG    GMP-CJU :: ['IP', '7C', 'TW', 'LJ', 'BX', 'ZE']\n",
      "2017-06-29 09:15:45,526 root     DEBUG    ICN-NRT :: ['IP', '7C', 'TW', 'LJ', 'ZE']\n",
      "2017-06-29 09:15:45,528 root     DEBUG    Crawling Interpark domastic schedule site\n"
     ]
    },
    {
     "name": "stdout",
     "output_type": "stream",
     "text": [
      "End Simple crawling\n",
      "Start Simple crawling :  http://smartair.interpark.com/HtmlSearch/GetGoodsSmartList.aspx\n",
      ">> Parameters\n",
      "adt:1 , comp:Y , Soto:N , Change: , BEST:Y , depdate0:20170810 , chd:0 , FLEX:N , StayLength: , ptype:I , dep0:ICN , SeatAvail:Y , AirLine:7C , JSON:Y , inf:0 , SeatType:A , enc:u , arr0:NRT , SplitNo:100 , trip:OW , \n"
     ]
    },
    {
     "name": "stderr",
     "output_type": "stream",
     "text": [
      "2017-06-29 09:15:46,961 root     DEBUG    Crawling Interpark domastic schedule site\n"
     ]
    },
    {
     "name": "stdout",
     "output_type": "stream",
     "text": [
      "End Simple crawling\n",
      "Start Simple crawling :  http://smartair.interpark.com/HtmlSearch/GetGoodsSmartList.aspx\n",
      ">> Parameters\n",
      "adt:1 , comp:Y , Soto:N , Change: , BEST:Y , depdate0:20170810 , chd:0 , FLEX:N , StayLength: , ptype:I , dep0:ICN , SeatAvail:Y , AirLine:TW , JSON:Y , inf:0 , SeatType:A , enc:u , arr0:NRT , SplitNo:100 , trip:OW , \n"
     ]
    },
    {
     "name": "stderr",
     "output_type": "stream",
     "text": [
      "2017-06-29 09:15:49,134 root     DEBUG    Crawling Interpark domastic schedule site\n"
     ]
    },
    {
     "name": "stdout",
     "output_type": "stream",
     "text": [
      "End Simple crawling\n",
      "Start Simple crawling :  http://smartair.interpark.com/HtmlSearch/GetGoodsSmartList.aspx\n",
      ">> Parameters\n",
      "adt:1 , comp:Y , Soto:N , Change: , BEST:Y , depdate0:20170810 , chd:0 , FLEX:N , StayLength: , ptype:I , dep0:ICN , SeatAvail:Y , AirLine:LJ , JSON:Y , inf:0 , SeatType:A , enc:u , arr0:NRT , SplitNo:100 , trip:OW , \n"
     ]
    },
    {
     "name": "stderr",
     "output_type": "stream",
     "text": [
      "2017-06-29 09:15:51,220 root     DEBUG    Crawling Interpark domastic schedule site\n"
     ]
    },
    {
     "name": "stdout",
     "output_type": "stream",
     "text": [
      "End Simple crawling\n",
      "Start Simple crawling :  http://smartair.interpark.com/HtmlSearch/GetGoodsSmartList.aspx\n",
      ">> Parameters\n",
      "adt:1 , comp:Y , Soto:N , Change: , BEST:Y , depdate0:20170810 , chd:0 , FLEX:N , StayLength: , ptype:I , dep0:ICN , SeatAvail:Y , AirLine:ZE , JSON:Y , inf:0 , SeatType:A , enc:u , arr0:NRT , SplitNo:100 , trip:OW , \n"
     ]
    },
    {
     "name": "stderr",
     "output_type": "stream",
     "text": [
      "2017-06-29 09:15:53,262 root     DEBUG    GMP-CJU :: ['IP', '7C', 'TW', 'LJ', 'BX', 'ZE']\n",
      "2017-06-29 09:15:53,264 root     DEBUG    ICN-NRT :: ['IP', '7C', 'TW', 'LJ', 'ZE']\n",
      "2017-06-29 09:15:53,266 root     DEBUG    Crawling Interpark domastic schedule site\n"
     ]
    },
    {
     "name": "stdout",
     "output_type": "stream",
     "text": [
      "End Simple crawling\n",
      "Start Simple crawling :  http://smartair.interpark.com/HtmlSearch/GetGoodsSmartList.aspx\n",
      ">> Parameters\n",
      "adt:1 , comp:Y , Soto:N , Change: , BEST:Y , depdate0:20170811 , chd:0 , FLEX:N , StayLength: , ptype:I , dep0:ICN , SeatAvail:Y , AirLine:7C , JSON:Y , inf:0 , SeatType:A , enc:u , arr0:NRT , SplitNo:100 , trip:OW , \n"
     ]
    },
    {
     "name": "stderr",
     "output_type": "stream",
     "text": [
      "2017-06-29 09:15:53,909 root     DEBUG    Crawling Interpark domastic schedule site\n"
     ]
    },
    {
     "name": "stdout",
     "output_type": "stream",
     "text": [
      "End Simple crawling\n",
      "Start Simple crawling :  http://smartair.interpark.com/HtmlSearch/GetGoodsSmartList.aspx\n",
      ">> Parameters\n",
      "adt:1 , comp:Y , Soto:N , Change: , BEST:Y , depdate0:20170811 , chd:0 , FLEX:N , StayLength: , ptype:I , dep0:ICN , SeatAvail:Y , AirLine:TW , JSON:Y , inf:0 , SeatType:A , enc:u , arr0:NRT , SplitNo:100 , trip:OW , \n"
     ]
    },
    {
     "name": "stderr",
     "output_type": "stream",
     "text": [
      "2017-06-29 09:15:56,069 root     DEBUG    Crawling Interpark domastic schedule site\n"
     ]
    },
    {
     "name": "stdout",
     "output_type": "stream",
     "text": [
      "End Simple crawling\n",
      "Start Simple crawling :  http://smartair.interpark.com/HtmlSearch/GetGoodsSmartList.aspx\n",
      ">> Parameters\n",
      "adt:1 , comp:Y , Soto:N , Change: , BEST:Y , depdate0:20170811 , chd:0 , FLEX:N , StayLength: , ptype:I , dep0:ICN , SeatAvail:Y , AirLine:LJ , JSON:Y , inf:0 , SeatType:A , enc:u , arr0:NRT , SplitNo:100 , trip:OW , \n"
     ]
    },
    {
     "name": "stderr",
     "output_type": "stream",
     "text": [
      "2017-06-29 09:15:58,083 root     DEBUG    Crawling Interpark domastic schedule site\n"
     ]
    },
    {
     "name": "stdout",
     "output_type": "stream",
     "text": [
      "End Simple crawling\n",
      "Start Simple crawling :  http://smartair.interpark.com/HtmlSearch/GetGoodsSmartList.aspx\n",
      ">> Parameters\n",
      "adt:1 , comp:Y , Soto:N , Change: , BEST:Y , depdate0:20170811 , chd:0 , FLEX:N , StayLength: , ptype:I , dep0:ICN , SeatAvail:Y , AirLine:ZE , JSON:Y , inf:0 , SeatType:A , enc:u , arr0:NRT , SplitNo:100 , trip:OW , \n"
     ]
    },
    {
     "name": "stderr",
     "output_type": "stream",
     "text": [
      "2017-06-29 09:16:00,144 root     DEBUG    GMP-CJU :: ['IP', '7C', 'TW', 'LJ', 'BX', 'ZE']\n",
      "2017-06-29 09:16:00,146 root     DEBUG    ICN-NRT :: ['IP', '7C', 'TW', 'LJ', 'ZE']\n",
      "2017-06-29 09:16:00,148 root     DEBUG    Crawling Interpark domastic schedule site\n"
     ]
    },
    {
     "name": "stdout",
     "output_type": "stream",
     "text": [
      "End Simple crawling\n",
      "Start Simple crawling :  http://smartair.interpark.com/HtmlSearch/GetGoodsSmartList.aspx\n",
      ">> Parameters\n",
      "adt:1 , comp:Y , Soto:N , Change: , BEST:Y , depdate0:20170812 , chd:0 , FLEX:N , StayLength: , ptype:I , dep0:ICN , SeatAvail:Y , AirLine:7C , JSON:Y , inf:0 , SeatType:A , enc:u , arr0:NRT , SplitNo:100 , trip:OW , \n"
     ]
    },
    {
     "name": "stderr",
     "output_type": "stream",
     "text": [
      "2017-06-29 09:16:00,743 root     DEBUG    Crawling Interpark domastic schedule site\n"
     ]
    },
    {
     "name": "stdout",
     "output_type": "stream",
     "text": [
      "End Simple crawling\n",
      "Start Simple crawling :  http://smartair.interpark.com/HtmlSearch/GetGoodsSmartList.aspx\n",
      ">> Parameters\n",
      "adt:1 , comp:Y , Soto:N , Change: , BEST:Y , depdate0:20170812 , chd:0 , FLEX:N , StayLength: , ptype:I , dep0:ICN , SeatAvail:Y , AirLine:TW , JSON:Y , inf:0 , SeatType:A , enc:u , arr0:NRT , SplitNo:100 , trip:OW , \n"
     ]
    },
    {
     "name": "stderr",
     "output_type": "stream",
     "text": [
      "2017-06-29 09:16:03,126 root     DEBUG    Crawling Interpark domastic schedule site\n"
     ]
    },
    {
     "name": "stdout",
     "output_type": "stream",
     "text": [
      "End Simple crawling\n",
      "Start Simple crawling :  http://smartair.interpark.com/HtmlSearch/GetGoodsSmartList.aspx\n",
      ">> Parameters\n",
      "adt:1 , comp:Y , Soto:N , Change: , BEST:Y , depdate0:20170812 , chd:0 , FLEX:N , StayLength: , ptype:I , dep0:ICN , SeatAvail:Y , AirLine:LJ , JSON:Y , inf:0 , SeatType:A , enc:u , arr0:NRT , SplitNo:100 , trip:OW , \n"
     ]
    },
    {
     "name": "stderr",
     "output_type": "stream",
     "text": [
      "2017-06-29 09:16:05,227 root     DEBUG    Crawling Interpark domastic schedule site\n"
     ]
    },
    {
     "name": "stdout",
     "output_type": "stream",
     "text": [
      "End Simple crawling\n",
      "Start Simple crawling :  http://smartair.interpark.com/HtmlSearch/GetGoodsSmartList.aspx\n",
      ">> Parameters\n",
      "adt:1 , comp:Y , Soto:N , Change: , BEST:Y , depdate0:20170812 , chd:0 , FLEX:N , StayLength: , ptype:I , dep0:ICN , SeatAvail:Y , AirLine:ZE , JSON:Y , inf:0 , SeatType:A , enc:u , arr0:NRT , SplitNo:100 , trip:OW , \n"
     ]
    },
    {
     "name": "stderr",
     "output_type": "stream",
     "text": [
      "2017-06-29 09:16:08,233 root     DEBUG    GMP-CJU :: ['IP', '7C', 'TW', 'LJ', 'BX', 'ZE']\n",
      "2017-06-29 09:16:08,235 root     DEBUG    ICN-NRT :: ['IP', '7C', 'TW', 'LJ', 'ZE']\n",
      "2017-06-29 09:16:08,236 root     DEBUG    Crawling Interpark domastic schedule site\n"
     ]
    },
    {
     "name": "stdout",
     "output_type": "stream",
     "text": [
      "End Simple crawling\n",
      "Start Simple crawling :  http://smartair.interpark.com/HtmlSearch/GetGoodsSmartList.aspx\n",
      ">> Parameters\n",
      "adt:1 , comp:Y , Soto:N , Change: , BEST:Y , depdate0:20170813 , chd:0 , FLEX:N , StayLength: , ptype:I , dep0:ICN , SeatAvail:Y , AirLine:7C , JSON:Y , inf:0 , SeatType:A , enc:u , arr0:NRT , SplitNo:100 , trip:OW , \n"
     ]
    },
    {
     "name": "stderr",
     "output_type": "stream",
     "text": [
      "2017-06-29 09:16:08,816 root     DEBUG    Crawling Interpark domastic schedule site\n"
     ]
    },
    {
     "name": "stdout",
     "output_type": "stream",
     "text": [
      "End Simple crawling\n",
      "Start Simple crawling :  http://smartair.interpark.com/HtmlSearch/GetGoodsSmartList.aspx\n",
      ">> Parameters\n",
      "adt:1 , comp:Y , Soto:N , Change: , BEST:Y , depdate0:20170813 , chd:0 , FLEX:N , StayLength: , ptype:I , dep0:ICN , SeatAvail:Y , AirLine:TW , JSON:Y , inf:0 , SeatType:A , enc:u , arr0:NRT , SplitNo:100 , trip:OW , \n"
     ]
    },
    {
     "name": "stderr",
     "output_type": "stream",
     "text": [
      "2017-06-29 09:16:11,840 root     DEBUG    Crawling Interpark domastic schedule site\n"
     ]
    },
    {
     "name": "stdout",
     "output_type": "stream",
     "text": [
      "End Simple crawling\n",
      "Start Simple crawling :  http://smartair.interpark.com/HtmlSearch/GetGoodsSmartList.aspx\n",
      ">> Parameters\n",
      "adt:1 , comp:Y , Soto:N , Change: , BEST:Y , depdate0:20170813 , chd:0 , FLEX:N , StayLength: , ptype:I , dep0:ICN , SeatAvail:Y , AirLine:LJ , JSON:Y , inf:0 , SeatType:A , enc:u , arr0:NRT , SplitNo:100 , trip:OW , \n"
     ]
    },
    {
     "name": "stderr",
     "output_type": "stream",
     "text": [
      "2017-06-29 09:16:13,981 root     DEBUG    Crawling Interpark domastic schedule site\n"
     ]
    },
    {
     "name": "stdout",
     "output_type": "stream",
     "text": [
      "End Simple crawling\n",
      "Start Simple crawling :  http://smartair.interpark.com/HtmlSearch/GetGoodsSmartList.aspx\n",
      ">> Parameters\n",
      "adt:1 , comp:Y , Soto:N , Change: , BEST:Y , depdate0:20170813 , chd:0 , FLEX:N , StayLength: , ptype:I , dep0:ICN , SeatAvail:Y , AirLine:ZE , JSON:Y , inf:0 , SeatType:A , enc:u , arr0:NRT , SplitNo:100 , trip:OW , \n"
     ]
    },
    {
     "name": "stderr",
     "output_type": "stream",
     "text": [
      "2017-06-29 09:16:16,114 root     DEBUG    GMP-CJU :: ['IP', '7C', 'TW', 'LJ', 'BX', 'ZE']\n",
      "2017-06-29 09:16:16,116 root     DEBUG    ICN-NRT :: ['IP', '7C', 'TW', 'LJ', 'ZE']\n",
      "2017-06-29 09:16:16,117 root     DEBUG    Crawling Interpark domastic schedule site\n"
     ]
    },
    {
     "name": "stdout",
     "output_type": "stream",
     "text": [
      "End Simple crawling\n",
      "Start Simple crawling :  http://smartair.interpark.com/HtmlSearch/GetGoodsSmartList.aspx\n",
      ">> Parameters\n",
      "adt:1 , comp:Y , Soto:N , Change: , BEST:Y , depdate0:20170814 , chd:0 , FLEX:N , StayLength: , ptype:I , dep0:ICN , SeatAvail:Y , AirLine:7C , JSON:Y , inf:0 , SeatType:A , enc:u , arr0:NRT , SplitNo:100 , trip:OW , \n"
     ]
    },
    {
     "name": "stderr",
     "output_type": "stream",
     "text": [
      "2017-06-29 09:16:16,730 root     DEBUG    Crawling Interpark domastic schedule site\n"
     ]
    },
    {
     "name": "stdout",
     "output_type": "stream",
     "text": [
      "End Simple crawling\n",
      "Start Simple crawling :  http://smartair.interpark.com/HtmlSearch/GetGoodsSmartList.aspx\n",
      ">> Parameters\n",
      "adt:1 , comp:Y , Soto:N , Change: , BEST:Y , depdate0:20170814 , chd:0 , FLEX:N , StayLength: , ptype:I , dep0:ICN , SeatAvail:Y , AirLine:TW , JSON:Y , inf:0 , SeatType:A , enc:u , arr0:NRT , SplitNo:100 , trip:OW , \n"
     ]
    },
    {
     "name": "stderr",
     "output_type": "stream",
     "text": [
      "2017-06-29 09:16:18,929 root     DEBUG    Crawling Interpark domastic schedule site\n"
     ]
    },
    {
     "name": "stdout",
     "output_type": "stream",
     "text": [
      "End Simple crawling\n",
      "Start Simple crawling :  http://smartair.interpark.com/HtmlSearch/GetGoodsSmartList.aspx\n",
      ">> Parameters\n",
      "adt:1 , comp:Y , Soto:N , Change: , BEST:Y , depdate0:20170814 , chd:0 , FLEX:N , StayLength: , ptype:I , dep0:ICN , SeatAvail:Y , AirLine:LJ , JSON:Y , inf:0 , SeatType:A , enc:u , arr0:NRT , SplitNo:100 , trip:OW , \n"
     ]
    },
    {
     "name": "stderr",
     "output_type": "stream",
     "text": [
      "2017-06-29 09:16:20,966 root     DEBUG    Crawling Interpark domastic schedule site\n"
     ]
    },
    {
     "name": "stdout",
     "output_type": "stream",
     "text": [
      "End Simple crawling\n",
      "Start Simple crawling :  http://smartair.interpark.com/HtmlSearch/GetGoodsSmartList.aspx\n",
      ">> Parameters\n",
      "adt:1 , comp:Y , Soto:N , Change: , BEST:Y , depdate0:20170814 , chd:0 , FLEX:N , StayLength: , ptype:I , dep0:ICN , SeatAvail:Y , AirLine:ZE , JSON:Y , inf:0 , SeatType:A , enc:u , arr0:NRT , SplitNo:100 , trip:OW , \n"
     ]
    },
    {
     "name": "stderr",
     "output_type": "stream",
     "text": [
      "2017-06-29 09:16:23,200 root     DEBUG    GMP-CJU :: ['IP', '7C', 'TW', 'LJ', 'BX', 'ZE']\n",
      "2017-06-29 09:16:23,201 root     DEBUG    ICN-NRT :: ['IP', '7C', 'TW', 'LJ', 'ZE']\n",
      "2017-06-29 09:16:23,204 root     DEBUG    Crawling Interpark domastic schedule site\n"
     ]
    },
    {
     "name": "stdout",
     "output_type": "stream",
     "text": [
      "End Simple crawling\n",
      "Start Simple crawling :  http://smartair.interpark.com/HtmlSearch/GetGoodsSmartList.aspx\n",
      ">> Parameters\n",
      "adt:1 , comp:Y , Soto:N , Change: , BEST:Y , depdate0:20170815 , chd:0 , FLEX:N , StayLength: , ptype:I , dep0:ICN , SeatAvail:Y , AirLine:7C , JSON:Y , inf:0 , SeatType:A , enc:u , arr0:NRT , SplitNo:100 , trip:OW , \n"
     ]
    },
    {
     "name": "stderr",
     "output_type": "stream",
     "text": [
      "2017-06-29 09:16:24,222 root     DEBUG    Crawling Interpark domastic schedule site\n"
     ]
    },
    {
     "name": "stdout",
     "output_type": "stream",
     "text": [
      "End Simple crawling\n",
      "Start Simple crawling :  http://smartair.interpark.com/HtmlSearch/GetGoodsSmartList.aspx\n",
      ">> Parameters\n",
      "adt:1 , comp:Y , Soto:N , Change: , BEST:Y , depdate0:20170815 , chd:0 , FLEX:N , StayLength: , ptype:I , dep0:ICN , SeatAvail:Y , AirLine:TW , JSON:Y , inf:0 , SeatType:A , enc:u , arr0:NRT , SplitNo:100 , trip:OW , \n"
     ]
    },
    {
     "name": "stderr",
     "output_type": "stream",
     "text": [
      "2017-06-29 09:16:26,259 root     DEBUG    Crawling Interpark domastic schedule site\n"
     ]
    },
    {
     "name": "stdout",
     "output_type": "stream",
     "text": [
      "End Simple crawling\n",
      "Start Simple crawling :  http://smartair.interpark.com/HtmlSearch/GetGoodsSmartList.aspx\n",
      ">> Parameters\n",
      "adt:1 , comp:Y , Soto:N , Change: , BEST:Y , depdate0:20170815 , chd:0 , FLEX:N , StayLength: , ptype:I , dep0:ICN , SeatAvail:Y , AirLine:LJ , JSON:Y , inf:0 , SeatType:A , enc:u , arr0:NRT , SplitNo:100 , trip:OW , \n"
     ]
    },
    {
     "name": "stderr",
     "output_type": "stream",
     "text": [
      "2017-06-29 09:16:28,365 root     DEBUG    Crawling Interpark domastic schedule site\n"
     ]
    },
    {
     "name": "stdout",
     "output_type": "stream",
     "text": [
      "End Simple crawling\n",
      "Start Simple crawling :  http://smartair.interpark.com/HtmlSearch/GetGoodsSmartList.aspx\n",
      ">> Parameters\n",
      "adt:1 , comp:Y , Soto:N , Change: , BEST:Y , depdate0:20170815 , chd:0 , FLEX:N , StayLength: , ptype:I , dep0:ICN , SeatAvail:Y , AirLine:ZE , JSON:Y , inf:0 , SeatType:A , enc:u , arr0:NRT , SplitNo:100 , trip:OW , \n"
     ]
    },
    {
     "name": "stderr",
     "output_type": "stream",
     "text": [
      "2017-06-29 09:16:30,477 root     DEBUG    GMP-CJU :: ['IP', '7C', 'TW', 'LJ', 'BX', 'ZE']\n",
      "2017-06-29 09:16:30,479 root     DEBUG    ICN-NRT :: ['IP', '7C', 'TW', 'LJ', 'ZE']\n",
      "2017-06-29 09:16:30,481 root     DEBUG    Crawling Interpark domastic schedule site\n"
     ]
    },
    {
     "name": "stdout",
     "output_type": "stream",
     "text": [
      "End Simple crawling\n",
      "Start Simple crawling :  http://smartair.interpark.com/HtmlSearch/GetGoodsSmartList.aspx\n",
      ">> Parameters\n",
      "adt:1 , comp:Y , Soto:N , Change: , BEST:Y , depdate0:20170816 , chd:0 , FLEX:N , StayLength: , ptype:I , dep0:ICN , SeatAvail:Y , AirLine:7C , JSON:Y , inf:0 , SeatType:A , enc:u , arr0:NRT , SplitNo:100 , trip:OW , \n"
     ]
    },
    {
     "name": "stderr",
     "output_type": "stream",
     "text": [
      "2017-06-29 09:16:31,065 root     DEBUG    Crawling Interpark domastic schedule site\n"
     ]
    },
    {
     "name": "stdout",
     "output_type": "stream",
     "text": [
      "End Simple crawling\n",
      "Start Simple crawling :  http://smartair.interpark.com/HtmlSearch/GetGoodsSmartList.aspx\n",
      ">> Parameters\n",
      "adt:1 , comp:Y , Soto:N , Change: , BEST:Y , depdate0:20170816 , chd:0 , FLEX:N , StayLength: , ptype:I , dep0:ICN , SeatAvail:Y , AirLine:TW , JSON:Y , inf:0 , SeatType:A , enc:u , arr0:NRT , SplitNo:100 , trip:OW , \n"
     ]
    },
    {
     "name": "stderr",
     "output_type": "stream",
     "text": [
      "2017-06-29 09:16:33,159 root     DEBUG    Crawling Interpark domastic schedule site\n"
     ]
    },
    {
     "name": "stdout",
     "output_type": "stream",
     "text": [
      "End Simple crawling\n",
      "Start Simple crawling :  http://smartair.interpark.com/HtmlSearch/GetGoodsSmartList.aspx\n",
      ">> Parameters\n",
      "adt:1 , comp:Y , Soto:N , Change: , BEST:Y , depdate0:20170816 , chd:0 , FLEX:N , StayLength: , ptype:I , dep0:ICN , SeatAvail:Y , AirLine:LJ , JSON:Y , inf:0 , SeatType:A , enc:u , arr0:NRT , SplitNo:100 , trip:OW , \n"
     ]
    },
    {
     "name": "stderr",
     "output_type": "stream",
     "text": [
      "2017-06-29 09:16:35,206 root     DEBUG    Crawling Interpark domastic schedule site\n"
     ]
    },
    {
     "name": "stdout",
     "output_type": "stream",
     "text": [
      "End Simple crawling\n",
      "Start Simple crawling :  http://smartair.interpark.com/HtmlSearch/GetGoodsSmartList.aspx\n",
      ">> Parameters\n",
      "adt:1 , comp:Y , Soto:N , Change: , BEST:Y , depdate0:20170816 , chd:0 , FLEX:N , StayLength: , ptype:I , dep0:ICN , SeatAvail:Y , AirLine:ZE , JSON:Y , inf:0 , SeatType:A , enc:u , arr0:NRT , SplitNo:100 , trip:OW , \n"
     ]
    },
    {
     "name": "stderr",
     "output_type": "stream",
     "text": [
      "2017-06-29 09:16:37,446 root     DEBUG    GMP-CJU :: ['IP', '7C', 'TW', 'LJ', 'BX', 'ZE']\n",
      "2017-06-29 09:16:37,448 root     DEBUG    ICN-NRT :: ['IP', '7C', 'TW', 'LJ', 'ZE']\n",
      "2017-06-29 09:16:37,450 root     DEBUG    Crawling Interpark domastic schedule site\n"
     ]
    },
    {
     "name": "stdout",
     "output_type": "stream",
     "text": [
      "End Simple crawling\n",
      "Start Simple crawling :  http://smartair.interpark.com/HtmlSearch/GetGoodsSmartList.aspx\n",
      ">> Parameters\n",
      "adt:1 , comp:Y , Soto:N , Change: , BEST:Y , depdate0:20170817 , chd:0 , FLEX:N , StayLength: , ptype:I , dep0:ICN , SeatAvail:Y , AirLine:7C , JSON:Y , inf:0 , SeatType:A , enc:u , arr0:NRT , SplitNo:100 , trip:OW , \n"
     ]
    },
    {
     "name": "stderr",
     "output_type": "stream",
     "text": [
      "2017-06-29 09:16:38,071 root     DEBUG    Crawling Interpark domastic schedule site\n"
     ]
    },
    {
     "name": "stdout",
     "output_type": "stream",
     "text": [
      "End Simple crawling\n",
      "Start Simple crawling :  http://smartair.interpark.com/HtmlSearch/GetGoodsSmartList.aspx\n",
      ">> Parameters\n",
      "adt:1 , comp:Y , Soto:N , Change: , BEST:Y , depdate0:20170817 , chd:0 , FLEX:N , StayLength: , ptype:I , dep0:ICN , SeatAvail:Y , AirLine:TW , JSON:Y , inf:0 , SeatType:A , enc:u , arr0:NRT , SplitNo:100 , trip:OW , \n"
     ]
    },
    {
     "name": "stderr",
     "output_type": "stream",
     "text": [
      "2017-06-29 09:16:40,123 root     DEBUG    Crawling Interpark domastic schedule site\n"
     ]
    },
    {
     "name": "stdout",
     "output_type": "stream",
     "text": [
      "End Simple crawling\n",
      "Start Simple crawling :  http://smartair.interpark.com/HtmlSearch/GetGoodsSmartList.aspx\n",
      ">> Parameters\n",
      "adt:1 , comp:Y , Soto:N , Change: , BEST:Y , depdate0:20170817 , chd:0 , FLEX:N , StayLength: , ptype:I , dep0:ICN , SeatAvail:Y , AirLine:LJ , JSON:Y , inf:0 , SeatType:A , enc:u , arr0:NRT , SplitNo:100 , trip:OW , \n"
     ]
    },
    {
     "name": "stderr",
     "output_type": "stream",
     "text": [
      "2017-06-29 09:16:42,194 root     DEBUG    Crawling Interpark domastic schedule site\n"
     ]
    },
    {
     "name": "stdout",
     "output_type": "stream",
     "text": [
      "End Simple crawling\n",
      "Start Simple crawling :  http://smartair.interpark.com/HtmlSearch/GetGoodsSmartList.aspx\n",
      ">> Parameters\n",
      "adt:1 , comp:Y , Soto:N , Change: , BEST:Y , depdate0:20170817 , chd:0 , FLEX:N , StayLength: , ptype:I , dep0:ICN , SeatAvail:Y , AirLine:ZE , JSON:Y , inf:0 , SeatType:A , enc:u , arr0:NRT , SplitNo:100 , trip:OW , \n"
     ]
    },
    {
     "name": "stderr",
     "output_type": "stream",
     "text": [
      "2017-06-29 09:16:44,254 root     DEBUG    GMP-CJU :: ['IP', '7C', 'TW', 'LJ', 'BX', 'ZE']\n",
      "2017-06-29 09:16:44,256 root     DEBUG    ICN-NRT :: ['IP', '7C', 'TW', 'LJ', 'ZE']\n",
      "2017-06-29 09:16:44,259 root     DEBUG    Crawling Interpark domastic schedule site\n"
     ]
    },
    {
     "name": "stdout",
     "output_type": "stream",
     "text": [
      "End Simple crawling\n",
      "Start Simple crawling :  http://smartair.interpark.com/HtmlSearch/GetGoodsSmartList.aspx\n",
      ">> Parameters\n",
      "adt:1 , comp:Y , Soto:N , Change: , BEST:Y , depdate0:20170818 , chd:0 , FLEX:N , StayLength: , ptype:I , dep0:ICN , SeatAvail:Y , AirLine:7C , JSON:Y , inf:0 , SeatType:A , enc:u , arr0:NRT , SplitNo:100 , trip:OW , \n"
     ]
    },
    {
     "name": "stderr",
     "output_type": "stream",
     "text": [
      "2017-06-29 09:16:44,990 root     DEBUG    Crawling Interpark domastic schedule site\n"
     ]
    },
    {
     "name": "stdout",
     "output_type": "stream",
     "text": [
      "End Simple crawling\n",
      "Start Simple crawling :  http://smartair.interpark.com/HtmlSearch/GetGoodsSmartList.aspx\n",
      ">> Parameters\n",
      "adt:1 , comp:Y , Soto:N , Change: , BEST:Y , depdate0:20170818 , chd:0 , FLEX:N , StayLength: , ptype:I , dep0:ICN , SeatAvail:Y , AirLine:TW , JSON:Y , inf:0 , SeatType:A , enc:u , arr0:NRT , SplitNo:100 , trip:OW , \n"
     ]
    },
    {
     "name": "stderr",
     "output_type": "stream",
     "text": [
      "2017-06-29 09:16:47,191 root     DEBUG    Crawling Interpark domastic schedule site\n"
     ]
    },
    {
     "name": "stdout",
     "output_type": "stream",
     "text": [
      "End Simple crawling\n",
      "Start Simple crawling :  http://smartair.interpark.com/HtmlSearch/GetGoodsSmartList.aspx\n",
      ">> Parameters\n",
      "adt:1 , comp:Y , Soto:N , Change: , BEST:Y , depdate0:20170818 , chd:0 , FLEX:N , StayLength: , ptype:I , dep0:ICN , SeatAvail:Y , AirLine:LJ , JSON:Y , inf:0 , SeatType:A , enc:u , arr0:NRT , SplitNo:100 , trip:OW , \n"
     ]
    },
    {
     "name": "stderr",
     "output_type": "stream",
     "text": [
      "2017-06-29 09:16:49,267 root     DEBUG    Crawling Interpark domastic schedule site\n"
     ]
    },
    {
     "name": "stdout",
     "output_type": "stream",
     "text": [
      "End Simple crawling\n",
      "Start Simple crawling :  http://smartair.interpark.com/HtmlSearch/GetGoodsSmartList.aspx\n",
      ">> Parameters\n",
      "adt:1 , comp:Y , Soto:N , Change: , BEST:Y , depdate0:20170818 , chd:0 , FLEX:N , StayLength: , ptype:I , dep0:ICN , SeatAvail:Y , AirLine:ZE , JSON:Y , inf:0 , SeatType:A , enc:u , arr0:NRT , SplitNo:100 , trip:OW , \n"
     ]
    },
    {
     "name": "stderr",
     "output_type": "stream",
     "text": [
      "2017-06-29 09:16:51,372 root     DEBUG    GMP-CJU :: ['IP', '7C', 'TW', 'LJ', 'BX', 'ZE']\n",
      "2017-06-29 09:16:51,373 root     DEBUG    ICN-NRT :: ['IP', '7C', 'TW', 'LJ', 'ZE']\n",
      "2017-06-29 09:16:51,375 root     DEBUG    Crawling Interpark domastic schedule site\n"
     ]
    },
    {
     "name": "stdout",
     "output_type": "stream",
     "text": [
      "End Simple crawling\n",
      "Start Simple crawling :  http://smartair.interpark.com/HtmlSearch/GetGoodsSmartList.aspx\n",
      ">> Parameters\n",
      "adt:1 , comp:Y , Soto:N , Change: , BEST:Y , depdate0:20170819 , chd:0 , FLEX:N , StayLength: , ptype:I , dep0:ICN , SeatAvail:Y , AirLine:7C , JSON:Y , inf:0 , SeatType:A , enc:u , arr0:NRT , SplitNo:100 , trip:OW , \n"
     ]
    },
    {
     "name": "stderr",
     "output_type": "stream",
     "text": [
      "2017-06-29 09:16:52,054 root     DEBUG    Crawling Interpark domastic schedule site\n"
     ]
    },
    {
     "name": "stdout",
     "output_type": "stream",
     "text": [
      "End Simple crawling\n",
      "Start Simple crawling :  http://smartair.interpark.com/HtmlSearch/GetGoodsSmartList.aspx\n",
      ">> Parameters\n",
      "adt:1 , comp:Y , Soto:N , Change: , BEST:Y , depdate0:20170819 , chd:0 , FLEX:N , StayLength: , ptype:I , dep0:ICN , SeatAvail:Y , AirLine:TW , JSON:Y , inf:0 , SeatType:A , enc:u , arr0:NRT , SplitNo:100 , trip:OW , \n"
     ]
    },
    {
     "name": "stderr",
     "output_type": "stream",
     "text": [
      "2017-06-29 09:16:54,212 root     DEBUG    Crawling Interpark domastic schedule site\n"
     ]
    },
    {
     "name": "stdout",
     "output_type": "stream",
     "text": [
      "End Simple crawling\n",
      "Start Simple crawling :  http://smartair.interpark.com/HtmlSearch/GetGoodsSmartList.aspx\n",
      ">> Parameters\n",
      "adt:1 , comp:Y , Soto:N , Change: , BEST:Y , depdate0:20170819 , chd:0 , FLEX:N , StayLength: , ptype:I , dep0:ICN , SeatAvail:Y , AirLine:LJ , JSON:Y , inf:0 , SeatType:A , enc:u , arr0:NRT , SplitNo:100 , trip:OW , \n"
     ]
    },
    {
     "name": "stderr",
     "output_type": "stream",
     "text": [
      "2017-06-29 09:16:56,342 root     DEBUG    Crawling Interpark domastic schedule site\n"
     ]
    },
    {
     "name": "stdout",
     "output_type": "stream",
     "text": [
      "End Simple crawling\n",
      "Start Simple crawling :  http://smartair.interpark.com/HtmlSearch/GetGoodsSmartList.aspx\n",
      ">> Parameters\n",
      "adt:1 , comp:Y , Soto:N , Change: , BEST:Y , depdate0:20170819 , chd:0 , FLEX:N , StayLength: , ptype:I , dep0:ICN , SeatAvail:Y , AirLine:ZE , JSON:Y , inf:0 , SeatType:A , enc:u , arr0:NRT , SplitNo:100 , trip:OW , \n"
     ]
    },
    {
     "name": "stderr",
     "output_type": "stream",
     "text": [
      "2017-06-29 09:16:58,407 root     DEBUG    GMP-CJU :: ['IP', '7C', 'TW', 'LJ', 'BX', 'ZE']\n",
      "2017-06-29 09:16:58,410 root     DEBUG    ICN-NRT :: ['IP', '7C', 'TW', 'LJ', 'ZE']\n",
      "2017-06-29 09:16:58,412 root     DEBUG    Crawling Interpark domastic schedule site\n"
     ]
    },
    {
     "name": "stdout",
     "output_type": "stream",
     "text": [
      "End Simple crawling\n",
      "Start Simple crawling :  http://smartair.interpark.com/HtmlSearch/GetGoodsSmartList.aspx\n",
      ">> Parameters\n",
      "adt:1 , comp:Y , Soto:N , Change: , BEST:Y , depdate0:20170820 , chd:0 , FLEX:N , StayLength: , ptype:I , dep0:ICN , SeatAvail:Y , AirLine:7C , JSON:Y , inf:0 , SeatType:A , enc:u , arr0:NRT , SplitNo:100 , trip:OW , \n"
     ]
    },
    {
     "name": "stderr",
     "output_type": "stream",
     "text": [
      "2017-06-29 09:16:59,065 root     DEBUG    Crawling Interpark domastic schedule site\n"
     ]
    },
    {
     "name": "stdout",
     "output_type": "stream",
     "text": [
      "End Simple crawling\n",
      "Start Simple crawling :  http://smartair.interpark.com/HtmlSearch/GetGoodsSmartList.aspx\n",
      ">> Parameters\n",
      "adt:1 , comp:Y , Soto:N , Change: , BEST:Y , depdate0:20170820 , chd:0 , FLEX:N , StayLength: , ptype:I , dep0:ICN , SeatAvail:Y , AirLine:TW , JSON:Y , inf:0 , SeatType:A , enc:u , arr0:NRT , SplitNo:100 , trip:OW , \n"
     ]
    },
    {
     "name": "stderr",
     "output_type": "stream",
     "text": [
      "2017-06-29 09:17:01,174 root     DEBUG    Crawling Interpark domastic schedule site\n"
     ]
    },
    {
     "name": "stdout",
     "output_type": "stream",
     "text": [
      "End Simple crawling\n",
      "Start Simple crawling :  http://smartair.interpark.com/HtmlSearch/GetGoodsSmartList.aspx\n",
      ">> Parameters\n",
      "adt:1 , comp:Y , Soto:N , Change: , BEST:Y , depdate0:20170820 , chd:0 , FLEX:N , StayLength: , ptype:I , dep0:ICN , SeatAvail:Y , AirLine:LJ , JSON:Y , inf:0 , SeatType:A , enc:u , arr0:NRT , SplitNo:100 , trip:OW , \n"
     ]
    },
    {
     "name": "stderr",
     "output_type": "stream",
     "text": [
      "2017-06-29 09:17:03,207 root     DEBUG    Crawling Interpark domastic schedule site\n"
     ]
    },
    {
     "name": "stdout",
     "output_type": "stream",
     "text": [
      "End Simple crawling\n",
      "Start Simple crawling :  http://smartair.interpark.com/HtmlSearch/GetGoodsSmartList.aspx\n",
      ">> Parameters\n",
      "adt:1 , comp:Y , Soto:N , Change: , BEST:Y , depdate0:20170820 , chd:0 , FLEX:N , StayLength: , ptype:I , dep0:ICN , SeatAvail:Y , AirLine:ZE , JSON:Y , inf:0 , SeatType:A , enc:u , arr0:NRT , SplitNo:100 , trip:OW , \n"
     ]
    },
    {
     "name": "stderr",
     "output_type": "stream",
     "text": [
      "2017-06-29 09:17:05,249 root     DEBUG    GMP-CJU :: ['IP', '7C', 'TW', 'LJ', 'BX', 'ZE']\n",
      "2017-06-29 09:17:05,251 root     DEBUG    ICN-NRT :: ['IP', '7C', 'TW', 'LJ', 'ZE']\n",
      "2017-06-29 09:17:05,253 root     DEBUG    Crawling Interpark domastic schedule site\n"
     ]
    },
    {
     "name": "stdout",
     "output_type": "stream",
     "text": [
      "End Simple crawling\n",
      "Start Simple crawling :  http://smartair.interpark.com/HtmlSearch/GetGoodsSmartList.aspx\n",
      ">> Parameters\n",
      "adt:1 , comp:Y , Soto:N , Change: , BEST:Y , depdate0:20170821 , chd:0 , FLEX:N , StayLength: , ptype:I , dep0:ICN , SeatAvail:Y , AirLine:7C , JSON:Y , inf:0 , SeatType:A , enc:u , arr0:NRT , SplitNo:100 , trip:OW , \n"
     ]
    },
    {
     "name": "stderr",
     "output_type": "stream",
     "text": [
      "2017-06-29 09:17:05,857 root     DEBUG    Crawling Interpark domastic schedule site\n"
     ]
    },
    {
     "name": "stdout",
     "output_type": "stream",
     "text": [
      "End Simple crawling\n",
      "Start Simple crawling :  http://smartair.interpark.com/HtmlSearch/GetGoodsSmartList.aspx\n",
      ">> Parameters\n",
      "adt:1 , comp:Y , Soto:N , Change: , BEST:Y , depdate0:20170821 , chd:0 , FLEX:N , StayLength: , ptype:I , dep0:ICN , SeatAvail:Y , AirLine:TW , JSON:Y , inf:0 , SeatType:A , enc:u , arr0:NRT , SplitNo:100 , trip:OW , \n"
     ]
    },
    {
     "name": "stderr",
     "output_type": "stream",
     "text": [
      "2017-06-29 09:17:08,018 root     DEBUG    Crawling Interpark domastic schedule site\n"
     ]
    },
    {
     "name": "stdout",
     "output_type": "stream",
     "text": [
      "End Simple crawling\n",
      "Start Simple crawling :  http://smartair.interpark.com/HtmlSearch/GetGoodsSmartList.aspx\n",
      ">> Parameters\n",
      "adt:1 , comp:Y , Soto:N , Change: , BEST:Y , depdate0:20170821 , chd:0 , FLEX:N , StayLength: , ptype:I , dep0:ICN , SeatAvail:Y , AirLine:LJ , JSON:Y , inf:0 , SeatType:A , enc:u , arr0:NRT , SplitNo:100 , trip:OW , \n"
     ]
    },
    {
     "name": "stderr",
     "output_type": "stream",
     "text": [
      "2017-06-29 09:17:10,067 root     DEBUG    Crawling Interpark domastic schedule site\n"
     ]
    },
    {
     "name": "stdout",
     "output_type": "stream",
     "text": [
      "End Simple crawling\n",
      "Start Simple crawling :  http://smartair.interpark.com/HtmlSearch/GetGoodsSmartList.aspx\n",
      ">> Parameters\n",
      "adt:1 , comp:Y , Soto:N , Change: , BEST:Y , depdate0:20170821 , chd:0 , FLEX:N , StayLength: , ptype:I , dep0:ICN , SeatAvail:Y , AirLine:ZE , JSON:Y , inf:0 , SeatType:A , enc:u , arr0:NRT , SplitNo:100 , trip:OW , \n"
     ]
    },
    {
     "name": "stderr",
     "output_type": "stream",
     "text": [
      "2017-06-29 09:17:12,117 root     DEBUG    GMP-CJU :: ['IP', '7C', 'TW', 'LJ', 'BX', 'ZE']\n",
      "2017-06-29 09:17:12,119 root     DEBUG    ICN-NRT :: ['IP', '7C', 'TW', 'LJ', 'ZE']\n",
      "2017-06-29 09:17:12,120 root     DEBUG    Crawling Interpark domastic schedule site\n"
     ]
    },
    {
     "name": "stdout",
     "output_type": "stream",
     "text": [
      "End Simple crawling\n",
      "Start Simple crawling :  http://smartair.interpark.com/HtmlSearch/GetGoodsSmartList.aspx\n",
      ">> Parameters\n",
      "adt:1 , comp:Y , Soto:N , Change: , BEST:Y , depdate0:20170822 , chd:0 , FLEX:N , StayLength: , ptype:I , dep0:ICN , SeatAvail:Y , AirLine:7C , JSON:Y , inf:0 , SeatType:A , enc:u , arr0:NRT , SplitNo:100 , trip:OW , \n"
     ]
    },
    {
     "name": "stderr",
     "output_type": "stream",
     "text": [
      "2017-06-29 09:17:13,188 root     DEBUG    Crawling Interpark domastic schedule site\n"
     ]
    },
    {
     "name": "stdout",
     "output_type": "stream",
     "text": [
      "End Simple crawling\n",
      "Start Simple crawling :  http://smartair.interpark.com/HtmlSearch/GetGoodsSmartList.aspx\n",
      ">> Parameters\n",
      "adt:1 , comp:Y , Soto:N , Change: , BEST:Y , depdate0:20170822 , chd:0 , FLEX:N , StayLength: , ptype:I , dep0:ICN , SeatAvail:Y , AirLine:TW , JSON:Y , inf:0 , SeatType:A , enc:u , arr0:NRT , SplitNo:100 , trip:OW , \n"
     ]
    },
    {
     "name": "stderr",
     "output_type": "stream",
     "text": [
      "2017-06-29 09:17:15,357 root     DEBUG    Crawling Interpark domastic schedule site\n"
     ]
    },
    {
     "name": "stdout",
     "output_type": "stream",
     "text": [
      "End Simple crawling\n",
      "Start Simple crawling :  http://smartair.interpark.com/HtmlSearch/GetGoodsSmartList.aspx\n",
      ">> Parameters\n",
      "adt:1 , comp:Y , Soto:N , Change: , BEST:Y , depdate0:20170822 , chd:0 , FLEX:N , StayLength: , ptype:I , dep0:ICN , SeatAvail:Y , AirLine:LJ , JSON:Y , inf:0 , SeatType:A , enc:u , arr0:NRT , SplitNo:100 , trip:OW , \n"
     ]
    },
    {
     "name": "stderr",
     "output_type": "stream",
     "text": [
      "2017-06-29 09:17:17,439 root     DEBUG    Crawling Interpark domastic schedule site\n"
     ]
    },
    {
     "name": "stdout",
     "output_type": "stream",
     "text": [
      "End Simple crawling\n",
      "Start Simple crawling :  http://smartair.interpark.com/HtmlSearch/GetGoodsSmartList.aspx\n",
      ">> Parameters\n",
      "adt:1 , comp:Y , Soto:N , Change: , BEST:Y , depdate0:20170822 , chd:0 , FLEX:N , StayLength: , ptype:I , dep0:ICN , SeatAvail:Y , AirLine:ZE , JSON:Y , inf:0 , SeatType:A , enc:u , arr0:NRT , SplitNo:100 , trip:OW , \n"
     ]
    },
    {
     "name": "stderr",
     "output_type": "stream",
     "text": [
      "2017-06-29 09:17:19,489 root     DEBUG    GMP-CJU :: ['IP', '7C', 'TW', 'LJ', 'BX', 'ZE']\n",
      "2017-06-29 09:17:19,491 root     DEBUG    ICN-NRT :: ['IP', '7C', 'TW', 'LJ', 'ZE']\n",
      "2017-06-29 09:17:19,493 root     DEBUG    Crawling Interpark domastic schedule site\n"
     ]
    },
    {
     "name": "stdout",
     "output_type": "stream",
     "text": [
      "End Simple crawling\n",
      "Start Simple crawling :  http://smartair.interpark.com/HtmlSearch/GetGoodsSmartList.aspx\n",
      ">> Parameters\n",
      "adt:1 , comp:Y , Soto:N , Change: , BEST:Y , depdate0:20170823 , chd:0 , FLEX:N , StayLength: , ptype:I , dep0:ICN , SeatAvail:Y , AirLine:7C , JSON:Y , inf:0 , SeatType:A , enc:u , arr0:NRT , SplitNo:100 , trip:OW , \n"
     ]
    },
    {
     "name": "stderr",
     "output_type": "stream",
     "text": [
      "2017-06-29 09:17:20,133 root     DEBUG    Crawling Interpark domastic schedule site\n"
     ]
    },
    {
     "name": "stdout",
     "output_type": "stream",
     "text": [
      "End Simple crawling\n",
      "Start Simple crawling :  http://smartair.interpark.com/HtmlSearch/GetGoodsSmartList.aspx\n",
      ">> Parameters\n",
      "adt:1 , comp:Y , Soto:N , Change: , BEST:Y , depdate0:20170823 , chd:0 , FLEX:N , StayLength: , ptype:I , dep0:ICN , SeatAvail:Y , AirLine:TW , JSON:Y , inf:0 , SeatType:A , enc:u , arr0:NRT , SplitNo:100 , trip:OW , \n"
     ]
    },
    {
     "name": "stderr",
     "output_type": "stream",
     "text": [
      "2017-06-29 09:17:22,333 root     DEBUG    Crawling Interpark domastic schedule site\n"
     ]
    },
    {
     "name": "stdout",
     "output_type": "stream",
     "text": [
      "End Simple crawling\n",
      "Start Simple crawling :  http://smartair.interpark.com/HtmlSearch/GetGoodsSmartList.aspx\n",
      ">> Parameters\n",
      "adt:1 , comp:Y , Soto:N , Change: , BEST:Y , depdate0:20170823 , chd:0 , FLEX:N , StayLength: , ptype:I , dep0:ICN , SeatAvail:Y , AirLine:LJ , JSON:Y , inf:0 , SeatType:A , enc:u , arr0:NRT , SplitNo:100 , trip:OW , \n"
     ]
    },
    {
     "name": "stderr",
     "output_type": "stream",
     "text": [
      "2017-06-29 09:17:24,385 root     DEBUG    Crawling Interpark domastic schedule site\n"
     ]
    },
    {
     "name": "stdout",
     "output_type": "stream",
     "text": [
      "End Simple crawling\n",
      "Start Simple crawling :  http://smartair.interpark.com/HtmlSearch/GetGoodsSmartList.aspx\n",
      ">> Parameters\n",
      "adt:1 , comp:Y , Soto:N , Change: , BEST:Y , depdate0:20170823 , chd:0 , FLEX:N , StayLength: , ptype:I , dep0:ICN , SeatAvail:Y , AirLine:ZE , JSON:Y , inf:0 , SeatType:A , enc:u , arr0:NRT , SplitNo:100 , trip:OW , \n"
     ]
    },
    {
     "name": "stderr",
     "output_type": "stream",
     "text": [
      "2017-06-29 09:17:26,356 root     DEBUG    GMP-CJU :: ['IP', '7C', 'TW', 'LJ', 'BX', 'ZE']\n",
      "2017-06-29 09:17:26,359 root     DEBUG    ICN-NRT :: ['IP', '7C', 'TW', 'LJ', 'ZE']\n",
      "2017-06-29 09:17:26,361 root     DEBUG    Crawling Interpark domastic schedule site\n"
     ]
    },
    {
     "name": "stdout",
     "output_type": "stream",
     "text": [
      "End Simple crawling\n",
      "Start Simple crawling :  http://smartair.interpark.com/HtmlSearch/GetGoodsSmartList.aspx\n",
      ">> Parameters\n",
      "adt:1 , comp:Y , Soto:N , Change: , BEST:Y , depdate0:20170824 , chd:0 , FLEX:N , StayLength: , ptype:I , dep0:ICN , SeatAvail:Y , AirLine:7C , JSON:Y , inf:0 , SeatType:A , enc:u , arr0:NRT , SplitNo:100 , trip:OW , \n"
     ]
    },
    {
     "name": "stderr",
     "output_type": "stream",
     "text": [
      "2017-06-29 09:17:27,007 root     DEBUG    Crawling Interpark domastic schedule site\n"
     ]
    },
    {
     "name": "stdout",
     "output_type": "stream",
     "text": [
      "End Simple crawling\n",
      "Start Simple crawling :  http://smartair.interpark.com/HtmlSearch/GetGoodsSmartList.aspx\n",
      ">> Parameters\n",
      "adt:1 , comp:Y , Soto:N , Change: , BEST:Y , depdate0:20170824 , chd:0 , FLEX:N , StayLength: , ptype:I , dep0:ICN , SeatAvail:Y , AirLine:TW , JSON:Y , inf:0 , SeatType:A , enc:u , arr0:NRT , SplitNo:100 , trip:OW , \n"
     ]
    },
    {
     "name": "stderr",
     "output_type": "stream",
     "text": [
      "2017-06-29 09:17:30,062 root     DEBUG    Crawling Interpark domastic schedule site\n"
     ]
    },
    {
     "name": "stdout",
     "output_type": "stream",
     "text": [
      "End Simple crawling\n",
      "Start Simple crawling :  http://smartair.interpark.com/HtmlSearch/GetGoodsSmartList.aspx\n",
      ">> Parameters\n",
      "adt:1 , comp:Y , Soto:N , Change: , BEST:Y , depdate0:20170824 , chd:0 , FLEX:N , StayLength: , ptype:I , dep0:ICN , SeatAvail:Y , AirLine:LJ , JSON:Y , inf:0 , SeatType:A , enc:u , arr0:NRT , SplitNo:100 , trip:OW , \n"
     ]
    },
    {
     "name": "stderr",
     "output_type": "stream",
     "text": [
      "2017-06-29 09:17:32,133 root     DEBUG    Crawling Interpark domastic schedule site\n"
     ]
    },
    {
     "name": "stdout",
     "output_type": "stream",
     "text": [
      "End Simple crawling\n",
      "Start Simple crawling :  http://smartair.interpark.com/HtmlSearch/GetGoodsSmartList.aspx\n",
      ">> Parameters\n",
      "adt:1 , comp:Y , Soto:N , Change: , BEST:Y , depdate0:20170824 , chd:0 , FLEX:N , StayLength: , ptype:I , dep0:ICN , SeatAvail:Y , AirLine:ZE , JSON:Y , inf:0 , SeatType:A , enc:u , arr0:NRT , SplitNo:100 , trip:OW , \n"
     ]
    },
    {
     "name": "stderr",
     "output_type": "stream",
     "text": [
      "2017-06-29 09:17:34,139 root     DEBUG    GMP-CJU :: ['IP', '7C', 'TW', 'LJ', 'BX', 'ZE']\n",
      "2017-06-29 09:17:34,141 root     DEBUG    ICN-NRT :: ['IP', '7C', 'TW', 'LJ', 'ZE']\n",
      "2017-06-29 09:17:34,143 root     DEBUG    Crawling Interpark domastic schedule site\n"
     ]
    },
    {
     "name": "stdout",
     "output_type": "stream",
     "text": [
      "End Simple crawling\n",
      "Start Simple crawling :  http://smartair.interpark.com/HtmlSearch/GetGoodsSmartList.aspx\n",
      ">> Parameters\n",
      "adt:1 , comp:Y , Soto:N , Change: , BEST:Y , depdate0:20170825 , chd:0 , FLEX:N , StayLength: , ptype:I , dep0:ICN , SeatAvail:Y , AirLine:7C , JSON:Y , inf:0 , SeatType:A , enc:u , arr0:NRT , SplitNo:100 , trip:OW , \n"
     ]
    },
    {
     "name": "stderr",
     "output_type": "stream",
     "text": [
      "2017-06-29 09:17:34,788 root     DEBUG    Crawling Interpark domastic schedule site\n"
     ]
    },
    {
     "name": "stdout",
     "output_type": "stream",
     "text": [
      "End Simple crawling\n",
      "Start Simple crawling :  http://smartair.interpark.com/HtmlSearch/GetGoodsSmartList.aspx\n",
      ">> Parameters\n",
      "adt:1 , comp:Y , Soto:N , Change: , BEST:Y , depdate0:20170825 , chd:0 , FLEX:N , StayLength: , ptype:I , dep0:ICN , SeatAvail:Y , AirLine:TW , JSON:Y , inf:0 , SeatType:A , enc:u , arr0:NRT , SplitNo:100 , trip:OW , \n"
     ]
    },
    {
     "name": "stderr",
     "output_type": "stream",
     "text": [
      "2017-06-29 09:17:36,883 root     DEBUG    Crawling Interpark domastic schedule site\n"
     ]
    },
    {
     "name": "stdout",
     "output_type": "stream",
     "text": [
      "End Simple crawling\n",
      "Start Simple crawling :  http://smartair.interpark.com/HtmlSearch/GetGoodsSmartList.aspx\n",
      ">> Parameters\n",
      "adt:1 , comp:Y , Soto:N , Change: , BEST:Y , depdate0:20170825 , chd:0 , FLEX:N , StayLength: , ptype:I , dep0:ICN , SeatAvail:Y , AirLine:LJ , JSON:Y , inf:0 , SeatType:A , enc:u , arr0:NRT , SplitNo:100 , trip:OW , \n"
     ]
    },
    {
     "name": "stderr",
     "output_type": "stream",
     "text": [
      "2017-06-29 09:17:39,022 root     DEBUG    Crawling Interpark domastic schedule site\n"
     ]
    },
    {
     "name": "stdout",
     "output_type": "stream",
     "text": [
      "End Simple crawling\n",
      "Start Simple crawling :  http://smartair.interpark.com/HtmlSearch/GetGoodsSmartList.aspx\n",
      ">> Parameters\n",
      "adt:1 , comp:Y , Soto:N , Change: , BEST:Y , depdate0:20170825 , chd:0 , FLEX:N , StayLength: , ptype:I , dep0:ICN , SeatAvail:Y , AirLine:ZE , JSON:Y , inf:0 , SeatType:A , enc:u , arr0:NRT , SplitNo:100 , trip:OW , \n"
     ]
    },
    {
     "name": "stderr",
     "output_type": "stream",
     "text": [
      "2017-06-29 09:17:41,042 root     DEBUG    GMP-CJU :: ['IP', '7C', 'TW', 'LJ', 'BX', 'ZE']\n",
      "2017-06-29 09:17:41,043 root     DEBUG    ICN-NRT :: ['IP', '7C', 'TW', 'LJ', 'ZE']\n",
      "2017-06-29 09:17:41,045 root     DEBUG    Crawling Interpark domastic schedule site\n"
     ]
    },
    {
     "name": "stdout",
     "output_type": "stream",
     "text": [
      "End Simple crawling\n",
      "Start Simple crawling :  http://smartair.interpark.com/HtmlSearch/GetGoodsSmartList.aspx\n",
      ">> Parameters\n",
      "adt:1 , comp:Y , Soto:N , Change: , BEST:Y , depdate0:20170826 , chd:0 , FLEX:N , StayLength: , ptype:I , dep0:ICN , SeatAvail:Y , AirLine:7C , JSON:Y , inf:0 , SeatType:A , enc:u , arr0:NRT , SplitNo:100 , trip:OW , \n"
     ]
    },
    {
     "name": "stderr",
     "output_type": "stream",
     "text": [
      "2017-06-29 09:17:41,784 root     DEBUG    Crawling Interpark domastic schedule site\n"
     ]
    },
    {
     "name": "stdout",
     "output_type": "stream",
     "text": [
      "End Simple crawling\n",
      "Start Simple crawling :  http://smartair.interpark.com/HtmlSearch/GetGoodsSmartList.aspx\n",
      ">> Parameters\n",
      "adt:1 , comp:Y , Soto:N , Change: , BEST:Y , depdate0:20170826 , chd:0 , FLEX:N , StayLength: , ptype:I , dep0:ICN , SeatAvail:Y , AirLine:TW , JSON:Y , inf:0 , SeatType:A , enc:u , arr0:NRT , SplitNo:100 , trip:OW , \n"
     ]
    },
    {
     "name": "stderr",
     "output_type": "stream",
     "text": [
      "2017-06-29 09:17:43,964 root     DEBUG    Crawling Interpark domastic schedule site\n"
     ]
    },
    {
     "name": "stdout",
     "output_type": "stream",
     "text": [
      "End Simple crawling\n",
      "Start Simple crawling :  http://smartair.interpark.com/HtmlSearch/GetGoodsSmartList.aspx\n",
      ">> Parameters\n",
      "adt:1 , comp:Y , Soto:N , Change: , BEST:Y , depdate0:20170826 , chd:0 , FLEX:N , StayLength: , ptype:I , dep0:ICN , SeatAvail:Y , AirLine:LJ , JSON:Y , inf:0 , SeatType:A , enc:u , arr0:NRT , SplitNo:100 , trip:OW , \n"
     ]
    },
    {
     "name": "stderr",
     "output_type": "stream",
     "text": [
      "2017-06-29 09:17:46,062 root     DEBUG    Crawling Interpark domastic schedule site\n"
     ]
    },
    {
     "name": "stdout",
     "output_type": "stream",
     "text": [
      "End Simple crawling\n",
      "Start Simple crawling :  http://smartair.interpark.com/HtmlSearch/GetGoodsSmartList.aspx\n",
      ">> Parameters\n",
      "adt:1 , comp:Y , Soto:N , Change: , BEST:Y , depdate0:20170826 , chd:0 , FLEX:N , StayLength: , ptype:I , dep0:ICN , SeatAvail:Y , AirLine:ZE , JSON:Y , inf:0 , SeatType:A , enc:u , arr0:NRT , SplitNo:100 , trip:OW , \n"
     ]
    },
    {
     "name": "stderr",
     "output_type": "stream",
     "text": [
      "2017-06-29 09:17:48,142 root     DEBUG    GMP-CJU :: ['IP', '7C', 'TW', 'LJ', 'BX', 'ZE']\n",
      "2017-06-29 09:17:48,144 root     DEBUG    ICN-NRT :: ['IP', '7C', 'TW', 'LJ', 'ZE']\n",
      "2017-06-29 09:17:48,146 root     DEBUG    Crawling Interpark domastic schedule site\n"
     ]
    },
    {
     "name": "stdout",
     "output_type": "stream",
     "text": [
      "End Simple crawling\n",
      "Start Simple crawling :  http://smartair.interpark.com/HtmlSearch/GetGoodsSmartList.aspx\n",
      ">> Parameters\n",
      "adt:1 , comp:Y , Soto:N , Change: , BEST:Y , depdate0:20170827 , chd:0 , FLEX:N , StayLength: , ptype:I , dep0:ICN , SeatAvail:Y , AirLine:7C , JSON:Y , inf:0 , SeatType:A , enc:u , arr0:NRT , SplitNo:100 , trip:OW , \n"
     ]
    },
    {
     "name": "stderr",
     "output_type": "stream",
     "text": [
      "2017-06-29 09:17:49,165 root     DEBUG    Crawling Interpark domastic schedule site\n"
     ]
    },
    {
     "name": "stdout",
     "output_type": "stream",
     "text": [
      "End Simple crawling\n",
      "Start Simple crawling :  http://smartair.interpark.com/HtmlSearch/GetGoodsSmartList.aspx\n",
      ">> Parameters\n",
      "adt:1 , comp:Y , Soto:N , Change: , BEST:Y , depdate0:20170827 , chd:0 , FLEX:N , StayLength: , ptype:I , dep0:ICN , SeatAvail:Y , AirLine:TW , JSON:Y , inf:0 , SeatType:A , enc:u , arr0:NRT , SplitNo:100 , trip:OW , \n"
     ]
    },
    {
     "name": "stderr",
     "output_type": "stream",
     "text": [
      "2017-06-29 09:17:51,355 root     DEBUG    Crawling Interpark domastic schedule site\n"
     ]
    },
    {
     "name": "stdout",
     "output_type": "stream",
     "text": [
      "End Simple crawling\n",
      "Start Simple crawling :  http://smartair.interpark.com/HtmlSearch/GetGoodsSmartList.aspx\n",
      ">> Parameters\n",
      "adt:1 , comp:Y , Soto:N , Change: , BEST:Y , depdate0:20170827 , chd:0 , FLEX:N , StayLength: , ptype:I , dep0:ICN , SeatAvail:Y , AirLine:LJ , JSON:Y , inf:0 , SeatType:A , enc:u , arr0:NRT , SplitNo:100 , trip:OW , \n"
     ]
    },
    {
     "name": "stderr",
     "output_type": "stream",
     "text": [
      "2017-06-29 09:17:53,407 root     DEBUG    Crawling Interpark domastic schedule site\n"
     ]
    },
    {
     "name": "stdout",
     "output_type": "stream",
     "text": [
      "End Simple crawling\n",
      "Start Simple crawling :  http://smartair.interpark.com/HtmlSearch/GetGoodsSmartList.aspx\n",
      ">> Parameters\n",
      "adt:1 , comp:Y , Soto:N , Change: , BEST:Y , depdate0:20170827 , chd:0 , FLEX:N , StayLength: , ptype:I , dep0:ICN , SeatAvail:Y , AirLine:ZE , JSON:Y , inf:0 , SeatType:A , enc:u , arr0:NRT , SplitNo:100 , trip:OW , \n"
     ]
    },
    {
     "name": "stderr",
     "output_type": "stream",
     "text": [
      "2017-06-29 09:17:55,438 root     DEBUG    GMP-CJU :: ['IP', '7C', 'TW', 'LJ', 'BX', 'ZE']\n",
      "2017-06-29 09:17:55,440 root     DEBUG    ICN-NRT :: ['IP', '7C', 'TW', 'LJ', 'ZE']\n",
      "2017-06-29 09:17:55,442 root     DEBUG    Crawling Interpark domastic schedule site\n"
     ]
    },
    {
     "name": "stdout",
     "output_type": "stream",
     "text": [
      "End Simple crawling\n",
      "Start Simple crawling :  http://smartair.interpark.com/HtmlSearch/GetGoodsSmartList.aspx\n",
      ">> Parameters\n",
      "adt:1 , comp:Y , Soto:N , Change: , BEST:Y , depdate0:20170828 , chd:0 , FLEX:N , StayLength: , ptype:I , dep0:ICN , SeatAvail:Y , AirLine:7C , JSON:Y , inf:0 , SeatType:A , enc:u , arr0:NRT , SplitNo:100 , trip:OW , \n"
     ]
    },
    {
     "name": "stderr",
     "output_type": "stream",
     "text": [
      "2017-06-29 09:17:56,022 root     DEBUG    Crawling Interpark domastic schedule site\n"
     ]
    },
    {
     "name": "stdout",
     "output_type": "stream",
     "text": [
      "End Simple crawling\n",
      "Start Simple crawling :  http://smartair.interpark.com/HtmlSearch/GetGoodsSmartList.aspx\n",
      ">> Parameters\n",
      "adt:1 , comp:Y , Soto:N , Change: , BEST:Y , depdate0:20170828 , chd:0 , FLEX:N , StayLength: , ptype:I , dep0:ICN , SeatAvail:Y , AirLine:TW , JSON:Y , inf:0 , SeatType:A , enc:u , arr0:NRT , SplitNo:100 , trip:OW , \n"
     ]
    },
    {
     "name": "stderr",
     "output_type": "stream",
     "text": [
      "2017-06-29 09:17:58,150 root     DEBUG    Crawling Interpark domastic schedule site\n"
     ]
    },
    {
     "name": "stdout",
     "output_type": "stream",
     "text": [
      "End Simple crawling\n",
      "Start Simple crawling :  http://smartair.interpark.com/HtmlSearch/GetGoodsSmartList.aspx\n",
      ">> Parameters\n",
      "adt:1 , comp:Y , Soto:N , Change: , BEST:Y , depdate0:20170828 , chd:0 , FLEX:N , StayLength: , ptype:I , dep0:ICN , SeatAvail:Y , AirLine:LJ , JSON:Y , inf:0 , SeatType:A , enc:u , arr0:NRT , SplitNo:100 , trip:OW , \n"
     ]
    },
    {
     "name": "stderr",
     "output_type": "stream",
     "text": [
      "2017-06-29 09:18:00,214 root     DEBUG    Crawling Interpark domastic schedule site\n"
     ]
    },
    {
     "name": "stdout",
     "output_type": "stream",
     "text": [
      "End Simple crawling\n",
      "Start Simple crawling :  http://smartair.interpark.com/HtmlSearch/GetGoodsSmartList.aspx\n",
      ">> Parameters\n",
      "adt:1 , comp:Y , Soto:N , Change: , BEST:Y , depdate0:20170828 , chd:0 , FLEX:N , StayLength: , ptype:I , dep0:ICN , SeatAvail:Y , AirLine:ZE , JSON:Y , inf:0 , SeatType:A , enc:u , arr0:NRT , SplitNo:100 , trip:OW , \n"
     ]
    },
    {
     "name": "stderr",
     "output_type": "stream",
     "text": [
      "2017-06-29 09:18:02,276 root     DEBUG    GMP-CJU :: ['IP', '7C', 'TW', 'LJ', 'BX', 'ZE']\n",
      "2017-06-29 09:18:02,278 root     INFO     end batch job :: crawling domestic site :: elapsed -0:07:17.558026 :: Total crawl:240 files saved.\n"
     ]
    },
    {
     "name": "stdout",
     "output_type": "stream",
     "text": [
      "End Simple crawling\n"
     ]
    }
   ],
   "source": [
    "## 특정 사이트 배치 함수 실행\n",
    "batch_onesite_crawl(\"IP\",dom_int='1',interval=60)"
   ]
  },
  {
   "cell_type": "code",
   "execution_count": null,
   "metadata": {
    "collapsed": true,
    "deletable": true,
    "editable": true
   },
   "outputs": [],
   "source": []
  }
 ],
 "metadata": {
  "kernelspec": {
   "display_name": "Python 3",
   "language": "python",
   "name": "python3"
  },
  "language_info": {
   "codemirror_mode": {
    "name": "ipython",
    "version": 3
   },
   "file_extension": ".py",
   "mimetype": "text/x-python",
   "name": "python",
   "nbconvert_exporter": "python",
   "pygments_lexer": "ipython3",
   "version": "3.5.3"
  }
 },
 "nbformat": 4,
 "nbformat_minor": 2
}
