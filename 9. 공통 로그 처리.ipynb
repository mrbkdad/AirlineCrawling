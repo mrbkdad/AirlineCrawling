{
 "cells": [
  {
   "cell_type": "markdown",
   "metadata": {
    "deletable": true,
    "editable": true
   },
   "source": [
    "## 공통 로그 관리\n",
    "1. 로그 초기화 : logger_initialize(file)\n",
    "    - 파라미터\n",
    "        * file = 로그 관련 세팅 파일 : logger_setting.json(default)\n",
    "2. 로그 처리 : log(message,level)\n",
    "    - level = 로그 처리 레벨 : logging.DEBUG(default)/INFO/WARNING/ERROR"
   ]
  },
  {
   "cell_type": "code",
   "execution_count": 1,
   "metadata": {
    "collapsed": false,
    "deletable": true,
    "editable": true
   },
   "outputs": [
    {
     "name": "stderr",
     "output_type": "stream",
     "text": [
      "D:\\python\\mynotebook\\AirlineFareCrawlingProject\\common\\log_util.py:11: SyntaxWarning: name 'logger' is assigned to before global declaration\n",
      "  global logger\n"
     ]
    }
   ],
   "source": [
    "from common.log_util import *"
   ]
  },
  {
   "cell_type": "code",
   "execution_count": 2,
   "metadata": {
    "collapsed": true,
    "deletable": true,
    "editable": true
   },
   "outputs": [],
   "source": [
    "logger_initialize()"
   ]
  },
  {
   "cell_type": "code",
   "execution_count": 5,
   "metadata": {
    "collapsed": false,
    "deletable": true,
    "editable": true,
    "scrolled": true
   },
   "outputs": [
    {
     "name": "stderr",
     "output_type": "stream",
     "text": [
      "2017-06-07 09:29:50,541 root     DEBUG    often makes a very good meal of %s :: visiting tourists\n",
      "2017-06-07 09:29:50,545 root     INFO     often makes a very good meal of %s :: visiting tourists\n"
     ]
    }
   ],
   "source": [
    "log(['often makes a very good meal of %s', 'visiting tourists'])\n",
    "level = logging.INFO\n",
    "log(['often makes a very good meal of %s', 'visiting tourists'],level=level)"
   ]
  },
  {
   "cell_type": "code",
   "execution_count": 6,
   "metadata": {
    "collapsed": false,
    "deletable": true,
    "editable": true
   },
   "outputs": [
    {
     "name": "stderr",
     "output_type": "stream",
     "text": [
      "2017-06-07 09:29:58,761 root     ERROR    test\n"
     ]
    }
   ],
   "source": [
    "level = logging.ERROR\n",
    "log('test',level=level)"
   ]
  }
 ],
 "metadata": {
  "kernelspec": {
   "display_name": "Python 3",
   "language": "python",
   "name": "python3"
  },
  "language_info": {
   "codemirror_mode": {
    "name": "ipython",
    "version": 3
   },
   "file_extension": ".py",
   "mimetype": "text/x-python",
   "name": "python",
   "nbconvert_exporter": "python",
   "pygments_lexer": "ipython3",
   "version": "3.5.3"
  }
 },
 "nbformat": 4,
 "nbformat_minor": 2
}
