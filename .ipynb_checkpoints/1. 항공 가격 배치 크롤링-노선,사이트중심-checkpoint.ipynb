{
 "cells": [
  {
   "cell_type": "markdown",
   "metadata": {
    "deletable": true,
    "editable": true
   },
   "source": [
    "## 항공가격 배치 크롤링\n",
    "- 크롤링 대상 사이트, 노선, 날짜 리스트 정보를 이용하여 크롤링 배치 처리\n",
    "- 실시간 사이트의 경우 대상 항공사 코드 정보 필요\n",
    "    * 세팅정보 처리 : 크롤링 함수 부분"
   ]
  },
  {
   "cell_type": "code",
   "execution_count": null,
   "metadata": {
    "collapsed": false,
    "deletable": true,
    "editable": true
   },
   "outputs": [],
   "source": [
    "from collections import namedtuple\n",
    "from datetime import datetime, timedelta\n",
    "import requests\n",
    "import shutil\n",
    "from common.env_variable import *\n",
    "from common.batch_util import *\n",
    "from common.crawl_func import *\n",
    "from common.log_util import *\n",
    "from common.util import save_raw_data\n",
    "## 로그 초기화\n",
    "logger_initialize('crawl_logger_setting.json')\n",
    "init_env_variable('common/env_variable.json')"
   ]
  },
  {
   "cell_type": "code",
   "execution_count": null,
   "metadata": {
    "collapsed": false,
    "deletable": true,
    "editable": true
   },
   "outputs": [],
   "source": [
    "## 노선과 사이트 정보리스트를 이용하여 크롤링 실행 함수\n",
    "## 크롤링 날짜 지정 YYYYMMDDHH 년월일시간\n",
    "def crawl_by_route_siteinfos(crawl_date, infos):\n",
    "    log_msgs = ['start batch job','craw_by_route_siteinfos : {}-{}'.format(crawl_date,len(infos))]\n",
    "    log(log_msgs,level=logging.INFO)\n",
    "    start_time = datetime.today()\n",
    "    error_infos = []\n",
    "    for info in infos:\n",
    "        dom_int,dpt,arr,site,airlines,dates = info\n",
    "        try:\n",
    "            crawl_by_route_site(crawl_date,dom_int,dpt,arr,site,dates,airlines)\n",
    "        except:\n",
    "            error_infos.append(info)\n",
    "            log_msgs = ['*** Error occured! when crawling condition - {},{},{},{},{},{}'.format(dom_int,dpt,arr,site,airlines,dates)]\n",
    "            log(log_msgs,level=logging.ERROR)\n",
    "    end_time = datetime.today()\n",
    "    log_msgs = ['end batch job','craw_by_route_siteinfos',\n",
    "                'elapsed -{}'.format(end_time-start_time),'Total infos({})'.format(len(infos))]\n",
    "    log(log_msgs,level=logging.INFO)\n",
    "    log_msgs = ['Total {} site info, {} error occured'.format(len(infos),len(error_infos))]\n",
    "    log(log_msgs,level=logging.INFO)\n",
    "    return error_infos\n",
    "\n",
    "## 노선과 사이트 정보를 이용 크롤링 실행 함수\n",
    "def crawl_by_route_site(crawl_date,dom_int,dpt,arr,site,dates,airlines=None):\n",
    "    log_msgs = ['start batch job','craw_by_route_site[{},{},{},{},{}]'.format(dpt,arr,site,dates,airlines)]\n",
    "    log(log_msgs,level=logging.INFO)\n",
    "    start_time = datetime.today()\n",
    "    crawl_cnt = 0\n",
    "    func, isairline = get_crawl_site_func(dom_int,site)\n",
    "    log([func,isairline],level=logging.INFO)\n",
    "    if func is None: ## None 아닌 경우만 진행\n",
    "        log('Crawling Func not found!')\n",
    "        return None\n",
    "    for dpt_date in dates:\n",
    "        if isairline: ## 항공사 사이트\n",
    "            raw_data = crawling_func(func,dpt,arr,dpt_date)\n",
    "            head = set_headinfo(site,dom_int,site,dpt,arr,dpt_date,crawl_date=crawl_date)\n",
    "            file = file_name(site,dpt,arr,dpt_date)\n",
    "            save_raw_data(file,raw_data,head=head)\n",
    "            crawl_cnt += 1\n",
    "        else: ## 실시간 사이트\n",
    "            for airline in airlines:\n",
    "                raw_data = crawling_func(func,airline,dpt,arr,dpt_date)\n",
    "                head = set_headinfo(site,dom_int,airline,dpt,arr,dpt_date,crawl_date=crawl_date)\n",
    "                file = file_name(site,dpt,arr,dpt_date,airline=airline)\n",
    "                save_raw_data(file,raw_data,head=head)\n",
    "                crawl_cnt += 1\n",
    "    end_time = datetime.today()\n",
    "    log_msgs = ['end batch job','craw_by_route_site',\n",
    "                'elapsed -{}'.format(end_time-start_time),'Total crawl:{} files saved.'.format(crawl_cnt)]\n",
    "    log(log_msgs,level=logging.INFO)\n",
    "## YYYYMMDD 형식의 문자열 두개를 인자로 문자형 날짜 Range 생성\n",
    "def timeiter(start,end,fmt='%Y%m%d'):\n",
    "    date1 = datetime.strptime(start,'%Y%m%d')\n",
    "    date2 = datetime.strptime(end,'%Y%m%d')\n",
    "    delta = date2 - date1\n",
    "    return (datetime.strftime(date1+timedelta(days=d),fmt) for d in range(delta.days + 1))\n",
    "## YYYYMMDD 형식의 기준일로 부터 며칠 뒤의 날짜 구하기\n",
    "def get_date(base_date=None,after=0,fmt='%Y%m%d'):\n",
    "    if base_date is None:\n",
    "        return (datetime.today() + timedelta(after)).strftime(fmt)\n",
    "    else:\n",
    "        return (datetime.strptime(base_date,'%Y%m%d') + timedelta(after)).strftime(fmt)"
   ]
  },
  {
   "cell_type": "code",
   "execution_count": null,
   "metadata": {
    "collapsed": false,
    "deletable": true,
    "editable": true
   },
   "outputs": [],
   "source": [
    "previous_crawled_date = get_date() ##오늘, 중도에 오류가 날경우 조정 하여 재실행\n",
    "start = get_date(base_date=previous_crawled_date,after=1) ## 내일 날짜 구하기\n",
    "end = get_date(base_date=previous_crawled_date,after=60)  ## 기간 날짜 구하기\n",
    "dates = list(timeiter(start,end))\n",
    "## 노선 기간별 변수\n",
    "## 60일 변수\n",
    "gmpcju60 = ['0','GMP', 'CJU', 'IP', ['7C','LJ','TW','ZE'],dates]\n",
    "icnnrt60 = ['1','ICN', 'NRT', 'IP', ['7C','LJ','TW','ZE'],dates]\n",
    "end = get_date(base_date=previous_crawled_date,after=21)  ## 기간 날짜 구하기\n",
    "dates = list(timeiter(start,end))\n",
    "## 국내선 21일 변수\n",
    "gmpcju21 = ['0','GMP', 'CJU', 'IP', ['7C','LJ','TW','ZE'],dates]\n",
    "cjugmp21 = ['0','CJU', 'GMP', 'IP', ['7C','LJ','TW','ZE'],dates]\n",
    "gmppus21 = ['0','GMP', 'PUS', 'IP', ['7C','BX','OZ','ZE'],dates]\n",
    "pusgmp21 = ['0','PUS', 'GMP', 'IP', ['7C','BX','OZ','ZE'],dates]\n",
    "puscju21 = ['0','PUS', 'CJU', 'IP', ['7C','LJ','OZ','KE','ZE'],dates]\n",
    "cjupus21 = ['0','CJU', 'PUS', 'IP', ['7C','LJ','OZ','KE','ZE'],dates]\n",
    "cjjcju21 = ['0','CJJ', 'CJU', 'IP', ['7C','LJ','OZ','KE','ZE'],dates]\n",
    "cjucjj21 = ['0','CJU', 'CJJ', 'IP', ['7C','LJ','OZ','KE','ZE'],dates]\n",
    "kuvcju21 = ['0','KUV', 'CJU', 'IP', ['KE','ZE'],dates]\n",
    "cjukuv21 = ['0','CJU', 'KUV', 'IP', ['KE','ZE'],dates]\n",
    "## 국제선 국내출발 21일 변수, 인터파크\n",
    "icnnrt21 = ['1','ICN', 'NRT', 'IP', ['7C','LJ','TW','ZE'],dates]\n",
    "icnbkk21 = ['1','ICN', 'BKK', 'IP', ['7C','LJ','TW','ZE'],dates]\n",
    "icnfuk21 = ['1','ICN', 'FUK', 'IP', ['7C','LJ','TW','ZE'],dates]\n",
    "## 국제선  현지출발 21일 각 항공사\n",
    "ze_nrticn21 = ['1','NRT', 'ICN', 'ZE', 'ZE',dates]\n",
    "tw_nrticn21 = ['1','NRT', 'ICN', 'TW', 'TW',dates]\n",
    "c7_nrticn21 = ['1','NRT', 'ICN', '7C', '7C',dates]\n",
    "lj_nrticn21 = ['1','NRT/JPN', 'ICN/KOR', 'LJ', 'LJ',dates]\n",
    "ze_bkkicn21 = ['1','BKK', 'ICN', 'ZE', 'ZE',dates]\n",
    "tw_bkkicn21 = ['1','BKK', 'ICN', 'TW', 'TW',dates]\n",
    "c7_bkkicn21 = ['1','BKK', 'ICN', '7C', '7C',dates]\n",
    "lj_bkkicn21 = ['1','BKK/SEA', 'ICN/KOR', 'LJ', 'LJ',dates]\n",
    "ze_fukicn21 = ['1','FUK', 'ICN', 'ZE', 'ZE',dates]\n",
    "tw_fukicn21 = ['1','FUK', 'ICN', 'TW', 'TW',dates]\n",
    "c7_fukicn21 = ['1','FUK', 'ICN', '7C', '7C',dates]\n",
    "lj_fukicn21 = ['1','FUK/JPN', 'ICN/KOR', 'LJ', 'LJ',dates]\n",
    "## 일본 치토세 노선 21일 왕복 변수\n",
    "ze_icncts21 = ['1', 'ICN', 'CTS', 'ZE', 'ZE',dates]\n",
    "tw_icncts21 = ['1', 'ICN', 'CTS', 'TW', 'TW',dates]\n",
    "c7_icncts21 = ['1', 'ICN', 'CTS', '7C', '7C',dates]\n",
    "lj_icncts21 = ['1','ICN/KOR', 'CTS/JPN', 'LJ', 'LJ',dates]\n",
    "ke_icncts21 = ['1', 'ICN', 'CTS', 'KE', 'KE',dates]\n",
    "ze_ctsicn21 = ['1','CTS', 'ICN', 'ZE', 'ZE',dates]\n",
    "tw_ctsicn21 = ['1','CTS', 'ICN', 'TW', 'TW',dates]\n",
    "c7_ctsicn21 = ['1','CTS', 'ICN', '7C', '7C',dates]\n",
    "lj_ctsicn21 = ['1','CTS/JPN', 'ICN/KOR', 'LJ', 'LJ',dates]\n",
    "ke_ctsicn21 = ['1','CTS', 'ICN', 'KE', 'KE',dates]"
   ]
  },
  {
   "cell_type": "code",
   "execution_count": null,
   "metadata": {
    "collapsed": false,
    "deletable": true,
    "editable": true,
    "scrolled": true
   },
   "outputs": [],
   "source": [
    "### 매일 1회 실시\n",
    "conds = [\n",
    "    ## 김포제주, 인천나리타 60일 데이터 - 출근후\n",
    "     gmpcju60,icnnrt60,\n",
    "    ## 21일 데이터 - 출근후\n",
    "     cjugmp21,icnbkk21,icnfuk21,\n",
    "    ## 국내선 기타 노선 21일(김포 부산, 부산 제주 - 왕복), 출근후\n",
    "    gmppus21,pusgmp21,puscju21,\n",
    "    #cjupus21,\n",
    "    ## 국내선 기타 노선 21일(청주 제주, 군산 제주 - 왕복), 출근후\n",
    "    cjjcju21,cjucjj21,kuvcju21,cjukuv21,\n",
    "    ## 나리타, 후쿠오카, 방콕 현지 출발 21일 데이터\n",
    "    ze_nrticn21,tw_nrticn21,c7_nrticn21,lj_nrticn21,\n",
    "    ze_bkkicn21,tw_bkkicn21,c7_bkkicn21,lj_bkkicn21,\n",
    "    ze_fukicn21,tw_fukicn21,c7_fukicn21,lj_fukicn21,\n",
    "    ## 치토세 왕복 21일 추가\n",
    "    ze_icncts21,tw_icncts21,c7_icncts21,lj_icncts21,ke_icncts21,\n",
    "    ze_ctsicn21,tw_ctsicn21,c7_ctsicn21,lj_ctsicn21,ke_ctsicn21,\n",
    "]\n",
    "crawl_date = datetime.today().strftime('%Y%m%d') + '08'\n",
    "error_infos = crawl_by_route_siteinfos(crawl_date,conds)"
   ]
  },
  {
   "cell_type": "code",
   "execution_count": null,
   "metadata": {
    "collapsed": false,
    "deletable": true,
    "editable": true,
    "scrolled": false
   },
   "outputs": [],
   "source": [
    "### 매일 2회 실시\n",
    "conds = [\n",
    "    ## 21일 데이터 김포 제주 왕복 10시,14시\n",
    "    gmpcju21,cjugmp21,\n",
    "    ## 국내선 기타 노선 21일(김포 부산, 부산 제주 - 왕복), 10시,14시\n",
    "    gmppus21,pusgmp21,puscju21,cjupus21,\n",
    "    ## 국내선 기타 노선 21일(청주 제주, 군산 제주 - 왕복), 10시,14시\n",
    "    cjjcju21,cjucjj21,kuvcju21,cjukuv21,\n",
    "    ## 21일 데이터 국제선 10시,14시\n",
    "    icnnrt21,nrticn21,icnbkk21,bkkicn21\n",
    "    ## 나리타, 후쿠오카, 방콕 현지 출발 21일 데이터\n",
    "    ze_nrticn21,tw_nrticn21,c7_nrticn21,lj_nrticn21,\n",
    "    ze_bkkicn21,tw_bkkicn21,c7_bkkicn21,lj_bkkicn21,\n",
    "    ze_fukicn21,tw_fukicn21,c7_fukicn21,lj_fukicn21,\n",
    "    ## 치토세 왕복 21일\n",
    "    ze_icncts21, tw_icncts21, c7_icncts21, lj_icncts21, ke_icncts21,\n",
    "    ze_ctsicn21, tw_ctsicn21, c7_ctsicn21, lj_ctsicn21, ke_ctsicn21,\n",
    "]\n",
    "crawl_date = datetime.today().strftime('%Y%m%d%H')\n",
    "error_infos = crawl_by_route_siteinfos(crawl_date,conds)"
   ]
  },
  {
   "cell_type": "code",
   "execution_count": null,
   "metadata": {
    "collapsed": false,
    "deletable": true,
    "editable": true,
    "scrolled": true
   },
   "outputs": [],
   "source": [
    "### 나리타, 후쿠오카, 방콕 현지 출발 21일 데이터\n",
    "conds = [\n",
    "    ze_nrticn21,tw_nrticn21,c7_nrticn21,lj_nrticn21,\n",
    "    ze_bkkicn21,tw_bkkicn21,c7_bkkicn21,lj_bkkicn21,\n",
    "    ze_fukicn21,tw_fukicn21,c7_fukicn21,lj_fukicn21,\n",
    "]\n",
    "error_infos = craw_by_route_siteinfos(conds)"
   ]
  },
  {
   "cell_type": "code",
   "execution_count": null,
   "metadata": {
    "collapsed": false,
    "deletable": true,
    "editable": true
   },
   "outputs": [],
   "source": [
    "### 후쿠오카 출발 21일 데이터 테스트\n",
    "conds = [\n",
    "    icnfuk21,\n",
    "    ze_fukicn21,tw_fukicn21,c7_fukicn21,lj_fukicn21,\n",
    "]\n",
    "crawl_date = datetime.today().strftime('%Y%m%d%H')\n",
    "error_infos = crawl_by_route_siteinfos(crawl_date,conds)"
   ]
  },
  {
   "cell_type": "code",
   "execution_count": null,
   "metadata": {
    "collapsed": false,
    "deletable": true,
    "editable": true
   },
   "outputs": [],
   "source": [
    "error_infos"
   ]
  },
  {
   "cell_type": "code",
   "execution_count": null,
   "metadata": {
    "collapsed": false,
    "deletable": true,
    "editable": true,
    "scrolled": true
   },
   "outputs": [],
   "source": [
    "#crawl_date = crawl_date\n",
    "error_infos=crawl_by_route_siteinfos(crawl_date,error_infos)"
   ]
  },
  {
   "cell_type": "code",
   "execution_count": null,
   "metadata": {
    "collapsed": false,
    "deletable": true,
    "editable": true,
    "scrolled": true
   },
   "outputs": [],
   "source": [
    "## 사이트 상태 점검용\n",
    "previous_crawled_date = get_date() ##오늘, 중도에 오류가 날경우 조정 하여 재실행\n",
    "start = get_date(base_date=previous_crawled_date,after=1) ## 내일 날짜 구하기\n",
    "end = get_date(base_date=previous_crawled_date,after=2)  ## 기간 날짜 구하기\n",
    "dates = list(timeiter(start,end))\n",
    "gmpcjutest = ['0','GMP', 'CJU', 'IP', ['7C','LJ','TW','ZE'],dates]\n",
    "craw_by_route_siteinfos([gmpcjutest])"
   ]
  },
  {
   "cell_type": "code",
   "execution_count": null,
   "metadata": {
    "collapsed": true,
    "deletable": true,
    "editable": true
   },
   "outputs": [],
   "source": []
  }
 ],
 "metadata": {
  "kernelspec": {
   "display_name": "Python 3",
   "language": "python",
   "name": "python3"
  },
  "language_info": {
   "codemirror_mode": {
    "name": "ipython",
    "version": 3
   },
   "file_extension": ".py",
   "mimetype": "text/x-python",
   "name": "python",
   "nbconvert_exporter": "python",
   "pygments_lexer": "ipython3",
   "version": "3.5.3"
  }
 },
 "nbformat": 4,
 "nbformat_minor": 2
}
