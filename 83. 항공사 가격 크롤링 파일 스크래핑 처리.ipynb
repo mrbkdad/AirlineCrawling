{
 "cells": [
  {
   "cell_type": "markdown",
   "metadata": {
    "deletable": true,
    "editable": true
   },
   "source": [
    "## 크롤한 파일에 대한 스크래핑 프로세스\n",
    "\n",
    "1. 스크래핑 프로세스\n",
    "    - crawl 파일 폴더 읽기\n",
    "    - 에러 체크\n",
    "        * 에러시 : 에러파일 저장 폴더 이동, 재처리를 위한 체크 로직[처리 방식?]\n",
    "        * 헤더를 읽어 해당 파싱 함수를 이용 하여 파싱 처리후 CSV 파일 저장[보관 기준?]\n",
    "        * 파싱 완료 후 원본 데이터 이동[보관 기준?]\n",
    "2. DB 프로세스\n",
    "    - CSV 파일 폴더 읽기\n",
    "    - 에러 체크\n",
    "        * 에러시 : 에러파일 저장 폴더 이동, 재처리를 위한 체크 로직[처리 방식?]\n",
    "        * csv 파일 읽어 DB 처리[테이블에 데이터 입력]\n",
    "        * 처리 완료 파일 이동[보관 기준?]"
   ]
  },
  {
   "cell_type": "markdown",
   "metadata": {
    "deletable": true,
    "editable": true
   },
   "source": [
    "### 기준 정보\n",
    "- 폴더 정보\n",
    "- 스크래핑 처리 포맷\n",
    "    * 대상항공사코드,플라이트,출발일,출발지,도착지,출발시간,도착시간,가격,유류세,세금,좌석수"
   ]
  },
  {
   "cell_type": "markdown",
   "metadata": {
    "deletable": true,
    "editable": true
   },
   "source": [
    "### 로그 처리\n",
    "- log_util 의 common_logger 이용하여 로그 처리\n",
    "-  log(messages,logger,level)"
   ]
  },
  {
   "cell_type": "code",
   "execution_count": 1,
   "metadata": {
    "collapsed": false,
    "deletable": true,
    "editable": true
   },
   "outputs": [],
   "source": [
    "from collections import namedtuple\n",
    "from datetime import datetime, timedelta\n",
    "import requests\n",
    "from common.env_variable import *\n",
    "from common.batch_util import *\n",
    "from common.scrap_func import *\n",
    "from common.log_util import *\n",
    "## 로그 초기화\n",
    "logger_initialize('scrap_logger_setting.json')\n",
    "init_env_variable('common/env_variable.json')"
   ]
  },
  {
   "cell_type": "markdown",
   "metadata": {
    "deletable": true,
    "editable": true
   },
   "source": [
    "### 스크래핑 배치 파일"
   ]
  },
  {
   "cell_type": "code",
   "execution_count": 2,
   "metadata": {
    "collapsed": false,
    "deletable": true,
    "editable": true,
    "scrolled": true
   },
   "outputs": [],
   "source": [
    "## 국내선 국제선 구분하여 폴더에 있는 파일 scraping 처리\n",
    "## 포맷 : 대상항공사코드,플라이트,출발일,출발지,도착지,출발시간,도착시간,가격,유류세,세금,좌석수\n",
    "## 오류 발생한 파일들은 해당 폴더에 그대로 방치, 주기적으로 체크하여 오래 남아 있는 파일들은 문제있는 파일로 취급 하여 재처리\n",
    "def batch_scrap(crawl_dir,scrap_data_dir,dom_int=None):\n",
    "    start_time = datetime.today()\n",
    "    log_msgs = ['start batch job','scraping crawled file']\n",
    "    log(log_msgs,level=logging.INFO)\n",
    "    scrap_cnt = 0\n",
    "    ## 스크랩 대상 파일(파일명, 내용)\n",
    "    crawl_dir = crawl_dir\n",
    "    files = get_crawled_file_list(crawl_dir)\n",
    "    for file in files:\n",
    "        log(file,level=logging.DEBUG)\n",
    "        scrap_file = crawl_dir+'/'+file\n",
    "        head, raw_data = read_crawled_file(scrap_file)\n",
    "        ## 헤더 정보 읽어오기\n",
    "        #head = get_headinfo(raw_data.splitlines()[0])\n",
    "        log([head['dom_int'],head['site_code']],level=logging.DEBUG)\n",
    "        if dom_int is not None and head['dom_int'] != dom_int: ## 국내선/국제선 체크\n",
    "            continue\n",
    "        site_code = head['site_code']\n",
    "        ## 해당 함수 생성\n",
    "        func = get_scrap_site_func(head['dom_int'],head['site_code'])\n",
    "        log(['check func',func],level=logging.DEBUG)\n",
    "        if func is None: ## 해당 함수가 없을 경우 다음으로\n",
    "            continue\n",
    "        scraped_list = func(head,raw_data)#''.join(raw_data.splitlines()[1:])))\n",
    "        ## 스크래핑 실패시 해당 파일 폴더에 보관, 해당 폴더 모니터링시 장기 미처리 파일 체크하여 처리\n",
    "        if scraped_list is None:\n",
    "            ## 출렬 처리\n",
    "            log('Error occured in {}!'.format(file),level=logging.DEBUG)\n",
    "            continue\n",
    "        ## CSV 처리\n",
    "        scraped_list_to_csv(set_headinfo(**head),scraped_list,scrap_data_dir+\"/\"+file.split(\".\")[0]+\".csv\")\n",
    "        ## 처리 파일 이동 처리\n",
    "        ## 이동 처리시 이미 파일이 존재하는 경우 삭제후 처리\n",
    "        if os.path.exists(os.path.join(SCRAP_OK_DIR,os.path.split(scrap_file)[-1])):\n",
    "            os.remove(os.path.join(SCRAP_OK_DIR,os.path.split(scrap_file)[-1]))\n",
    "        move_scraped_file(scrap_file,SCRAP_OK_DIR)\n",
    "        scrap_cnt += 1\n",
    "\n",
    "    end_time = datetime.today()\n",
    "    log_msgs = ['end batch job','scraping crawled file',\n",
    "                'elapsed -{}'.format(end_time-start_time),'Total crawl:{} files saved.'.format(scrap_cnt)]\n",
    "    log(log_msgs,level=logging.INFO)"
   ]
  },
  {
   "cell_type": "code",
   "execution_count": 5,
   "metadata": {
    "collapsed": false,
    "deletable": true,
    "editable": true,
    "scrolled": true
   },
   "outputs": [
    {
     "name": "stderr",
     "output_type": "stream",
     "text": [
      "2017-07-07 08:50:28,565 root     INFO     start batch job :: scraping crawled file\n",
      "2017-07-07 08:50:28,570 root     DEBUG    scrap_2017070708_IP_7C_GMP_PUS_20170712.txt\n",
      "2017-07-07 08:50:28,577 root     DEBUG    0 :: IP\n",
      "2017-07-07 08:50:28,579 root     DEBUG    0 :: IP :: scraping_IP_dom\n",
      "2017-07-07 08:50:28,583 root     DEBUG    check func :: <function scraping_IP_dom at 0x000000000566F158>\n",
      "2017-07-07 08:50:28,586 root     DEBUG    start scraping Interpark crawled data\n",
      "2017-07-07 08:50:28,592 root     WARNING  scraping data not found!\n",
      "2017-07-07 08:50:28,595 root     DEBUG    Error occured in scrap_2017070708_IP_7C_GMP_PUS_20170712.txt!\n",
      "2017-07-07 08:50:28,597 root     DEBUG    scrap_2017070708_IP_7C_GMP_PUS_20170713.txt\n",
      "2017-07-07 08:50:28,601 root     DEBUG    0 :: IP\n",
      "2017-07-07 08:50:28,604 root     DEBUG    0 :: IP :: scraping_IP_dom\n",
      "2017-07-07 08:50:28,608 root     DEBUG    check func :: <function scraping_IP_dom at 0x000000000566F158>\n",
      "2017-07-07 08:50:28,612 root     DEBUG    start scraping Interpark crawled data\n",
      "2017-07-07 08:50:28,617 root     WARNING  scraping data not found!\n",
      "2017-07-07 08:50:28,626 root     DEBUG    Error occured in scrap_2017070708_IP_7C_GMP_PUS_20170713.txt!\n",
      "2017-07-07 08:50:28,643 root     DEBUG    scrap_2017070708_IP_7C_GMP_PUS_20170719.txt\n",
      "2017-07-07 08:50:28,647 root     DEBUG    0 :: IP\n",
      "2017-07-07 08:50:28,652 root     DEBUG    0 :: IP :: scraping_IP_dom\n",
      "2017-07-07 08:50:28,657 root     DEBUG    check func :: <function scraping_IP_dom at 0x000000000566F158>\n",
      "2017-07-07 08:50:28,660 root     DEBUG    start scraping Interpark crawled data\n",
      "2017-07-07 08:50:28,666 root     WARNING  scraping data not found!\n",
      "2017-07-07 08:50:28,669 root     DEBUG    Error occured in scrap_2017070708_IP_7C_GMP_PUS_20170719.txt!\n",
      "2017-07-07 08:50:28,673 root     DEBUG    scrap_2017070708_IP_7C_GMP_PUS_20170720.txt\n",
      "2017-07-07 08:50:28,677 root     DEBUG    0 :: IP\n",
      "2017-07-07 08:50:28,680 root     DEBUG    0 :: IP :: scraping_IP_dom\n",
      "2017-07-07 08:50:28,686 root     DEBUG    check func :: <function scraping_IP_dom at 0x000000000566F158>\n",
      "2017-07-07 08:50:28,693 root     DEBUG    start scraping Interpark crawled data\n",
      "2017-07-07 08:50:28,696 root     WARNING  scraping data not found!\n",
      "2017-07-07 08:50:28,700 root     DEBUG    Error occured in scrap_2017070708_IP_7C_GMP_PUS_20170720.txt!\n",
      "2017-07-07 08:50:28,706 root     DEBUG    scrap_2017070708_IP_7C_GMP_PUS_20170726.txt\n",
      "2017-07-07 08:50:28,711 root     DEBUG    0 :: IP\n",
      "2017-07-07 08:50:28,719 root     DEBUG    0 :: IP :: scraping_IP_dom\n",
      "2017-07-07 08:50:28,722 root     DEBUG    check func :: <function scraping_IP_dom at 0x000000000566F158>\n",
      "2017-07-07 08:50:28,725 root     DEBUG    start scraping Interpark crawled data\n",
      "2017-07-07 08:50:28,729 root     WARNING  scraping data not found!\n",
      "2017-07-07 08:50:28,738 root     DEBUG    Error occured in scrap_2017070708_IP_7C_GMP_PUS_20170726.txt!\n",
      "2017-07-07 08:50:28,748 root     DEBUG    scrap_2017070708_IP_7C_GMP_PUS_20170727.txt\n",
      "2017-07-07 08:50:28,759 root     DEBUG    0 :: IP\n",
      "2017-07-07 08:50:28,763 root     DEBUG    0 :: IP :: scraping_IP_dom\n",
      "2017-07-07 08:50:28,766 root     DEBUG    check func :: <function scraping_IP_dom at 0x000000000566F158>\n",
      "2017-07-07 08:50:28,770 root     DEBUG    start scraping Interpark crawled data\n",
      "2017-07-07 08:50:28,779 root     WARNING  scraping data not found!\n",
      "2017-07-07 08:50:28,795 root     DEBUG    Error occured in scrap_2017070708_IP_7C_GMP_PUS_20170727.txt!\n",
      "2017-07-07 08:50:28,806 root     DEBUG    scrap_2017070708_IP_7C_PUS_GMP_20170713.txt\n",
      "2017-07-07 08:50:28,828 root     DEBUG    0 :: IP\n",
      "2017-07-07 08:50:28,834 root     DEBUG    0 :: IP :: scraping_IP_dom\n",
      "2017-07-07 08:50:28,838 root     DEBUG    check func :: <function scraping_IP_dom at 0x000000000566F158>\n",
      "2017-07-07 08:50:28,844 root     DEBUG    start scraping Interpark crawled data\n",
      "2017-07-07 08:50:28,848 root     WARNING  scraping data not found!\n",
      "2017-07-07 08:50:28,862 root     DEBUG    Error occured in scrap_2017070708_IP_7C_PUS_GMP_20170713.txt!\n",
      "2017-07-07 08:50:28,866 root     DEBUG    scrap_2017070708_IP_7C_PUS_GMP_20170720.txt\n",
      "2017-07-07 08:50:28,871 root     DEBUG    0 :: IP\n",
      "2017-07-07 08:50:28,875 root     DEBUG    0 :: IP :: scraping_IP_dom\n",
      "2017-07-07 08:50:28,879 root     DEBUG    check func :: <function scraping_IP_dom at 0x000000000566F158>\n",
      "2017-07-07 08:50:28,891 root     DEBUG    start scraping Interpark crawled data\n",
      "2017-07-07 08:50:28,894 root     WARNING  scraping data not found!\n",
      "2017-07-07 08:50:28,897 root     DEBUG    Error occured in scrap_2017070708_IP_7C_PUS_GMP_20170720.txt!\n",
      "2017-07-07 08:50:28,900 root     DEBUG    scrap_2017070708_IP_7C_PUS_GMP_20170727.txt\n",
      "2017-07-07 08:50:28,904 root     DEBUG    0 :: IP\n",
      "2017-07-07 08:50:28,908 root     DEBUG    0 :: IP :: scraping_IP_dom\n",
      "2017-07-07 08:50:28,911 root     DEBUG    check func :: <function scraping_IP_dom at 0x000000000566F158>\n",
      "2017-07-07 08:50:28,914 root     DEBUG    start scraping Interpark crawled data\n",
      "2017-07-07 08:50:28,923 root     WARNING  scraping data not found!\n",
      "2017-07-07 08:50:28,930 root     DEBUG    Error occured in scrap_2017070708_IP_7C_PUS_GMP_20170727.txt!\n",
      "2017-07-07 08:50:28,937 root     DEBUG    scrap_2017070708_IP_KE_CJU_CJJ_20170709.txt\n",
      "2017-07-07 08:50:28,941 root     DEBUG    0 :: IP\n",
      "2017-07-07 08:50:28,945 root     DEBUG    0 :: IP :: scraping_IP_dom\n",
      "2017-07-07 08:50:28,948 root     DEBUG    check func :: <function scraping_IP_dom at 0x000000000566F158>\n",
      "2017-07-07 08:50:28,957 root     DEBUG    start scraping Interpark crawled data\n",
      "2017-07-07 08:50:28,964 root     WARNING  scraping data not found!\n",
      "2017-07-07 08:50:28,972 root     DEBUG    Error occured in scrap_2017070708_IP_KE_CJU_CJJ_20170709.txt!\n",
      "2017-07-07 08:50:28,974 root     DEBUG    scrap_2017070708_IP_LJ_ICN_NRT_20170708.txt\n",
      "2017-07-07 08:50:28,978 root     DEBUG    1 :: IP\n",
      "2017-07-07 08:50:28,989 root     DEBUG    1 :: IP :: scraping_IP_int\n",
      "2017-07-07 08:50:28,993 root     DEBUG    check func :: <function scraping_IP_int at 0x0000000007F70BF8>\n",
      "2017-07-07 08:50:28,996 root     DEBUG    start scraping Interpark crawled data\n",
      "2017-07-07 08:50:28,999 root     DEBUG    Error occured in scrap_2017070708_IP_LJ_ICN_NRT_20170708.txt!\n",
      "2017-07-07 08:50:29,005 root     DEBUG    scrap_2017070708_IP_OZ_CJU_CJJ_20170709.txt\n",
      "2017-07-07 08:50:29,008 root     DEBUG    0 :: IP\n",
      "2017-07-07 08:50:29,013 root     DEBUG    0 :: IP :: scraping_IP_dom\n",
      "2017-07-07 08:50:29,023 root     DEBUG    check func :: <function scraping_IP_dom at 0x000000000566F158>\n",
      "2017-07-07 08:50:29,027 root     DEBUG    start scraping Interpark crawled data\n",
      "2017-07-07 08:50:29,030 root     WARNING  scraping data not found!\n",
      "2017-07-07 08:50:29,033 root     DEBUG    Error occured in scrap_2017070708_IP_OZ_CJU_CJJ_20170709.txt!\n",
      "2017-07-07 08:50:29,038 root     DEBUG    scrap_2017070708_IP_OZ_CJU_CJJ_20170716.txt\n",
      "2017-07-07 08:50:29,044 root     DEBUG    0 :: IP\n",
      "2017-07-07 08:50:29,056 root     DEBUG    0 :: IP :: scraping_IP_dom\n",
      "2017-07-07 08:50:29,060 root     DEBUG    check func :: <function scraping_IP_dom at 0x000000000566F158>\n",
      "2017-07-07 08:50:29,063 root     DEBUG    start scraping Interpark crawled data\n",
      "2017-07-07 08:50:29,070 root     WARNING  scraping data not found!\n",
      "2017-07-07 08:50:29,076 root     DEBUG    Error occured in scrap_2017070708_IP_OZ_CJU_CJJ_20170716.txt!\n",
      "2017-07-07 08:50:29,088 root     DEBUG    scrap_2017070708_IP_OZ_CJU_PUS_20170709.txt\n",
      "2017-07-07 08:50:29,093 root     DEBUG    0 :: IP\n",
      "2017-07-07 08:50:29,095 root     DEBUG    0 :: IP :: scraping_IP_dom\n",
      "2017-07-07 08:50:29,103 root     DEBUG    check func :: <function scraping_IP_dom at 0x000000000566F158>\n",
      "2017-07-07 08:50:29,107 root     DEBUG    start scraping Interpark crawled data\n",
      "2017-07-07 08:50:29,112 root     WARNING  scraping data not found!\n",
      "2017-07-07 08:50:29,124 root     DEBUG    Error occured in scrap_2017070708_IP_OZ_CJU_PUS_20170709.txt!\n",
      "2017-07-07 08:50:29,132 root     DEBUG    scrap_2017070708_IP_TW_ICN_BKK_20170708.txt\n",
      "2017-07-07 08:50:29,140 root     DEBUG    1 :: IP\n",
      "2017-07-07 08:50:29,142 root     DEBUG    1 :: IP :: scraping_IP_int\n",
      "2017-07-07 08:50:29,146 root     DEBUG    check func :: <function scraping_IP_int at 0x0000000007F70BF8>\n",
      "2017-07-07 08:50:29,153 root     DEBUG    start scraping Interpark crawled data\n",
      "2017-07-07 08:50:29,159 root     DEBUG    Error occured in scrap_2017070708_IP_TW_ICN_BKK_20170708.txt!\n",
      "2017-07-07 08:50:29,164 root     DEBUG    scrap_2017070708_IP_TW_ICN_BKK_20170709.txt\n",
      "2017-07-07 08:50:29,171 root     DEBUG    1 :: IP\n",
      "2017-07-07 08:50:29,175 root     DEBUG    1 :: IP :: scraping_IP_int\n",
      "2017-07-07 08:50:29,180 root     DEBUG    check func :: <function scraping_IP_int at 0x0000000007F70BF8>\n",
      "2017-07-07 08:50:29,191 root     DEBUG    start scraping Interpark crawled data\n",
      "2017-07-07 08:50:29,194 root     DEBUG    Error occured in scrap_2017070708_IP_TW_ICN_BKK_20170709.txt!\n",
      "2017-07-07 08:50:29,198 root     DEBUG    scrap_2017070708_IP_TW_ICN_BKK_20170710.txt\n",
      "2017-07-07 08:50:29,205 root     DEBUG    1 :: IP\n",
      "2017-07-07 08:50:29,209 root     DEBUG    1 :: IP :: scraping_IP_int\n",
      "2017-07-07 08:50:29,211 root     DEBUG    check func :: <function scraping_IP_int at 0x0000000007F70BF8>\n",
      "2017-07-07 08:50:29,214 root     DEBUG    start scraping Interpark crawled data\n",
      "2017-07-07 08:50:29,223 root     DEBUG    Error occured in scrap_2017070708_IP_TW_ICN_BKK_20170710.txt!\n",
      "2017-07-07 08:50:29,233 root     DEBUG    scrap_2017070708_IP_TW_ICN_NRT_20170708.txt\n",
      "2017-07-07 08:50:29,243 root     DEBUG    1 :: IP\n",
      "2017-07-07 08:50:29,255 root     DEBUG    1 :: IP :: scraping_IP_int\n",
      "2017-07-07 08:50:29,259 root     DEBUG    check func :: <function scraping_IP_int at 0x0000000007F70BF8>\n",
      "2017-07-07 08:50:29,269 root     DEBUG    start scraping Interpark crawled data\n",
      "2017-07-07 08:50:29,275 root     DEBUG    Error occured in scrap_2017070708_IP_TW_ICN_NRT_20170708.txt!\n",
      "2017-07-07 08:50:29,278 root     DEBUG    scrap_2017070708_IP_TW_ICN_NRT_20170709.txt\n",
      "2017-07-07 08:50:29,282 root     DEBUG    1 :: IP\n",
      "2017-07-07 08:50:29,291 root     DEBUG    1 :: IP :: scraping_IP_int\n",
      "2017-07-07 08:50:29,297 root     DEBUG    check func :: <function scraping_IP_int at 0x0000000007F70BF8>\n",
      "2017-07-07 08:50:29,300 root     DEBUG    start scraping Interpark crawled data\n",
      "2017-07-07 08:50:29,303 root     DEBUG    Error occured in scrap_2017070708_IP_TW_ICN_NRT_20170709.txt!\n",
      "2017-07-07 08:50:29,308 root     DEBUG    scrap_2017070708_IP_ZE_ICN_NRT_20170709.txt\n",
      "2017-07-07 08:50:29,316 root     DEBUG    1 :: IP\n",
      "2017-07-07 08:50:29,325 root     DEBUG    1 :: IP :: scraping_IP_int\n",
      "2017-07-07 08:50:29,328 root     DEBUG    check func :: <function scraping_IP_int at 0x0000000007F70BF8>\n",
      "2017-07-07 08:50:29,335 root     DEBUG    start scraping Interpark crawled data\n",
      "2017-07-07 08:50:29,339 root     DEBUG    Error occured in scrap_2017070708_IP_ZE_ICN_NRT_20170709.txt!\n",
      "2017-07-07 08:50:29,346 root     DEBUG    scrap_2017070708_IP_ZE_ICN_NRT_20170710.txt\n",
      "2017-07-07 08:50:29,352 root     DEBUG    1 :: IP\n",
      "2017-07-07 08:50:29,355 root     DEBUG    1 :: IP :: scraping_IP_int\n",
      "2017-07-07 08:50:29,359 root     DEBUG    check func :: <function scraping_IP_int at 0x0000000007F70BF8>\n",
      "2017-07-07 08:50:29,362 root     DEBUG    start scraping Interpark crawled data\n",
      "2017-07-07 08:50:29,365 root     DEBUG    Error occured in scrap_2017070708_IP_ZE_ICN_NRT_20170710.txt!\n",
      "2017-07-07 08:50:29,376 root     INFO     end batch job :: scraping crawled file :: elapsed -0:00:00.810046 :: Total crawl:0 files saved.\n"
     ]
    }
   ],
   "source": [
    "## 국내선, 국제선 스크래핑 처리\n",
    "crawl_dir = CRAWL_DIR#'scrap_test'\n",
    "scrap_data_dir = SCRAP_DATA_DIR\n",
    "dom_int = None # 0 - 국내선, 1 - 국제선, None - 모두\n",
    "batch_scrap(crawl_dir,scrap_data_dir,dom_int=dom_int)"
   ]
  },
  {
   "cell_type": "code",
   "execution_count": null,
   "metadata": {
    "collapsed": false,
    "deletable": true,
    "editable": true
   },
   "outputs": [],
   "source": [
    "## 크롤 데이터 테스트\n",
    "with open('crawl/test.txt') as fp:\n",
    "    json_data = json.load(fp)"
   ]
  },
  {
   "cell_type": "code",
   "execution_count": null,
   "metadata": {
    "collapsed": false,
    "deletable": true,
    "editable": true
   },
   "outputs": [],
   "source": [
    "json_data['result'][0]['resultData'][0]"
   ]
  },
  {
   "cell_type": "code",
   "execution_count": null,
   "metadata": {
    "collapsed": true,
    "deletable": true,
    "editable": true
   },
   "outputs": [],
   "source": []
  }
 ],
 "metadata": {
  "kernelspec": {
   "display_name": "Python 3",
   "language": "python",
   "name": "python3"
  },
  "language_info": {
   "codemirror_mode": {
    "name": "ipython",
    "version": 3
   },
   "file_extension": ".py",
   "mimetype": "text/x-python",
   "name": "python",
   "nbconvert_exporter": "python",
   "pygments_lexer": "ipython3",
   "version": "3.5.3"
  }
 },
 "nbformat": 4,
 "nbformat_minor": 2
}
